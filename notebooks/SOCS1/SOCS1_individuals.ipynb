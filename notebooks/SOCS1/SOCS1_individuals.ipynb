{
 "cells": [
  {
   "attachments": {},
   "cell_type": "markdown",
   "id": "077b0ca1-ca24-4831-89a8-ba18ac274588",
   "metadata": {},
   "source": [
    "# SOCS1\n",
    "Pathogenic variants in [SOCS1](https://omim.org/entry/603597) cause [Autoinflammatory syndrome, familial, with or without immunodeficiency](https://omim.org/entry/619375). \n",
    "\n",
    "Data summarized from several publications with case reports or small cohorts.\n",
    "Note that we did not include data from [Du Y, et al (2023) In cis \"benign\" SOCS1 variants linked to enhanced interferon signaling and autoimmunity. J Autoimmun](https://pubmed.ncbi.nlm.nih.gov/37797401/)."
   ]
  },
  {
   "cell_type": "code",
   "execution_count": 1,
   "id": "b5557365-b94e-4ba7-9ebe-c69780529209",
   "metadata": {},
   "outputs": [
    {
     "name": "stdout",
     "output_type": "stream",
     "text": [
      "Using pyphetools version 0.9.41\n"
     ]
    }
   ],
   "source": [
    "import pandas as pd\n",
    "from IPython.display import display, HTML\n",
    "pd.set_option('display.max_colwidth', None) # show entire column contents, important!\n",
    "from collections import defaultdict\n",
    "from pyphetools.creation import *\n",
    "from pyphetools.visualization import IndividualTable, QcVisualizer\n",
    "from pyphetools.validation import *\n",
    "import pyphetools\n",
    "print(f\"Using pyphetools version {pyphetools.__version__}\")"
   ]
  },
  {
   "cell_type": "code",
   "execution_count": 2,
   "id": "da582f97-a2d1-4572-b557-bd817bc76b10",
   "metadata": {},
   "outputs": [
    {
     "name": "stdout",
     "output_type": "stream",
     "text": [
      "HPO version 2024-01-16\n"
     ]
    }
   ],
   "source": [
    "parser = HpoParser(hpo_json_file=\"../hp.json\")\n",
    "hpo_cr = parser.get_hpo_concept_recognizer()\n",
    "hpo_version = parser.get_version()\n",
    "hpo_ontology = parser.get_ontology()\n",
    "created_by=\"ORCID:0000-0001-9969-9517\"\n",
    "print(f\"HPO version {hpo_version}\")"
   ]
  },
  {
   "cell_type": "code",
   "execution_count": 3,
   "id": "b461146c-1dc0-403f-b27b-8e05b51820d5",
   "metadata": {},
   "outputs": [
    {
     "data": {
      "text/html": [
       "<div>\n",
       "<style scoped>\n",
       "    .dataframe tbody tr th:only-of-type {\n",
       "        vertical-align: middle;\n",
       "    }\n",
       "\n",
       "    .dataframe tbody tr th {\n",
       "        vertical-align: top;\n",
       "    }\n",
       "\n",
       "    .dataframe thead th {\n",
       "        text-align: right;\n",
       "    }\n",
       "</style>\n",
       "<table border=\"1\" class=\"dataframe\">\n",
       "  <thead>\n",
       "    <tr style=\"text-align: right;\">\n",
       "      <th></th>\n",
       "      <th>PMID</th>\n",
       "      <th>title</th>\n",
       "      <th>individual_id</th>\n",
       "      <th>Comment</th>\n",
       "      <th>disease_id</th>\n",
       "      <th>disease_label</th>\n",
       "      <th>transcript</th>\n",
       "      <th>allele_1</th>\n",
       "      <th>variant.comment</th>\n",
       "      <th>age_of_onset</th>\n",
       "      <th>...</th>\n",
       "      <th>Enthesitis</th>\n",
       "      <th>Folliculitis</th>\n",
       "      <th>Cutaneous abscess</th>\n",
       "      <th>Sinusitis</th>\n",
       "      <th>Pyoderma gangrenosum</th>\n",
       "      <th>Crohn's disease</th>\n",
       "      <th>Aphthous ulcer</th>\n",
       "      <th>Raynaud phenomenon</th>\n",
       "      <th>Sjogren syndrome</th>\n",
       "      <th>Anosmia</th>\n",
       "    </tr>\n",
       "  </thead>\n",
       "  <tbody>\n",
       "    <tr>\n",
       "      <th>0</th>\n",
       "      <td>str</td>\n",
       "      <td>str</td>\n",
       "      <td>str</td>\n",
       "      <td>optional str</td>\n",
       "      <td>str</td>\n",
       "      <td>str</td>\n",
       "      <td>str</td>\n",
       "      <td>HGVS str</td>\n",
       "      <td>optional str</td>\n",
       "      <td>iso8601</td>\n",
       "      <td>...</td>\n",
       "      <td>HP:0100686</td>\n",
       "      <td>HP:0025084</td>\n",
       "      <td>HP:0031292</td>\n",
       "      <td>HP:0000246</td>\n",
       "      <td>HP:0025452</td>\n",
       "      <td>HP:0100280</td>\n",
       "      <td>HP:0032154</td>\n",
       "      <td>HP:0030880</td>\n",
       "      <td>HPO term nonexistent</td>\n",
       "      <td>HP:0000458</td>\n",
       "    </tr>\n",
       "  </tbody>\n",
       "</table>\n",
       "<p>1 rows × 72 columns</p>\n",
       "</div>"
      ],
      "text/plain": [
       "  PMID title individual_id       Comment disease_id disease_label transcript  \\\n",
       "0  str   str           str  optional str        str           str        str   \n",
       "\n",
       "   allele_1 variant.comment age_of_onset  ...  Enthesitis Folliculitis  \\\n",
       "0  HGVS str    optional str      iso8601  ...  HP:0100686   HP:0025084   \n",
       "\n",
       "  Cutaneous abscess   Sinusitis Pyoderma gangrenosum Crohn's disease  \\\n",
       "0        HP:0031292  HP:0000246           HP:0025452      HP:0100280   \n",
       "\n",
       "  Aphthous ulcer Raynaud phenomenon      Sjogren syndrome     Anosmia  \n",
       "0     HP:0032154         HP:0030880  HPO term nonexistent  HP:0000458  \n",
       "\n",
       "[1 rows x 72 columns]"
      ]
     },
     "execution_count": 3,
     "metadata": {},
     "output_type": "execute_result"
    }
   ],
   "source": [
    "df = pd.read_excel(\"input/SOCS1_input.xlsx\")\n",
    "df.head(1)"
   ]
  },
  {
   "cell_type": "code",
   "execution_count": 4,
   "id": "52366eea-448f-41ae-8958-f590dd5367be",
   "metadata": {},
   "outputs": [
    {
     "name": "stdout",
     "output_type": "stream",
     "text": [
      "Created encoders for 72 fields\n"
     ]
    }
   ],
   "source": [
    "from pyphetools.creation import CaseTemplateEncoder\n",
    "encoder = CaseTemplateEncoder(df=df, hpo_cr=hpo_cr, created_by=created_by)"
   ]
  },
  {
   "cell_type": "code",
   "execution_count": 5,
   "id": "a63caefc-3851-47dc-bd34-f6d70ff07dbc",
   "metadata": {},
   "outputs": [],
   "source": [
    "individuals = encoder.get_individuals()"
   ]
  },
  {
   "cell_type": "code",
   "execution_count": 7,
   "id": "5d9d677b-795e-44bc-8973-2c866898d4e9",
   "metadata": {},
   "outputs": [
    {
     "name": "stdout",
     "output_type": "stream",
     "text": [
      "[INFO] encoding variant \"c.476_480dupGCCGC\"\n",
      "https://rest.variantvalidator.org/VariantValidator/variantvalidator/hg38/NM_003745.2%3Ac.476_480dupGCCGC/NM_003745.2?content-type=application%2Fjson\n",
      "[INFO] encoding variant \"c.480_481insGCGGC\"\n",
      "https://rest.variantvalidator.org/VariantValidator/variantvalidator/hg38/NM_003745.2%3Ac.480_481insGCGGC/NM_003745.2?content-type=application%2Fjson\n",
      "[INFO] encoding variant \"c.298_301dup\"\n",
      "https://rest.variantvalidator.org/VariantValidator/variantvalidator/hg38/NM_003745.2%3Ac.298_301dup/NM_003745.2?content-type=application%2Fjson\n",
      "[INFO] encoding variant \"c.64C>T\"\n",
      "https://rest.variantvalidator.org/VariantValidator/variantvalidator/hg38/NM_003745.2%3Ac.64C>T/NM_003745.2?content-type=application%2Fjson\n",
      "[INFO] encoding variant \"c.108del\"\n",
      "https://rest.variantvalidator.org/VariantValidator/variantvalidator/hg38/NM_003745.2%3Ac.108del/NM_003745.2?content-type=application%2Fjson\n",
      "[INFO] encoding variant \"c.24delA\"\n",
      "https://rest.variantvalidator.org/VariantValidator/variantvalidator/hg38/NM_003745.2%3Ac.24delA/NM_003745.2?content-type=application%2Fjson\n",
      "[INFO] encoding variant \"c.192C>G\"\n",
      "https://rest.variantvalidator.org/VariantValidator/variantvalidator/hg38/NM_003745.2%3Ac.192C>G/NM_003745.2?content-type=application%2Fjson\n",
      "[INFO] encoding variant \"c.368C>G\"\n",
      "https://rest.variantvalidator.org/VariantValidator/variantvalidator/hg38/NM_003745.2%3Ac.368C>G/NM_003745.2?content-type=application%2Fjson\n",
      "[INFO] encoding variant \"c.202_203delAC\"\n",
      "https://rest.variantvalidator.org/VariantValidator/variantvalidator/hg38/NM_003745.2%3Ac.202_203delAC/NM_003745.2?content-type=application%2Fjson\n",
      "[INFO] encoding variant \"c.58C>T\"\n",
      "https://rest.variantvalidator.org/VariantValidator/variantvalidator/hg38/NM_003745.2%3Ac.58C>T/NM_003745.2?content-type=application%2Fjson\n",
      "[INFO] encoding variant \"c.460T>C\"\n",
      "https://rest.variantvalidator.org/VariantValidator/variantvalidator/hg38/NM_003745.2%3Ac.460T>C/NM_003745.2?content-type=application%2Fjson\n",
      "[INFO] encoding variant \"c.24del\"\n",
      "https://rest.variantvalidator.org/VariantValidator/variantvalidator/hg38/NM_003745.2%3Ac.24del/NM_003745.2?content-type=application%2Fjson\n"
     ]
    }
   ],
   "source": [
    "vmanager = VariantManager(df=df,\n",
    "                          individual_column_name=\"individual_id\",\n",
    "                          gene_symbol=\"SOCS1\",\n",
    "                          transcript=\"NM_003745.2\",\n",
    "                          allele_1_column_name=\"allele_1\")"
   ]
  },
  {
   "cell_type": "code",
   "execution_count": 8,
   "id": "3e4d349d-fd2c-4eaf-8409-94c816ffcb56",
   "metadata": {},
   "outputs": [
    {
     "data": {
      "text/html": [
       "<div>\n",
       "<style scoped>\n",
       "    .dataframe tbody tr th:only-of-type {\n",
       "        vertical-align: middle;\n",
       "    }\n",
       "\n",
       "    .dataframe tbody tr th {\n",
       "        vertical-align: top;\n",
       "    }\n",
       "\n",
       "    .dataframe thead th {\n",
       "        text-align: right;\n",
       "    }\n",
       "</style>\n",
       "<table border=\"1\" class=\"dataframe\">\n",
       "  <thead>\n",
       "    <tr style=\"text-align: right;\">\n",
       "      <th></th>\n",
       "      <th>status</th>\n",
       "      <th>count</th>\n",
       "      <th>alleles</th>\n",
       "    </tr>\n",
       "  </thead>\n",
       "  <tbody>\n",
       "    <tr>\n",
       "      <th>0</th>\n",
       "      <td>mapped</td>\n",
       "      <td>12</td>\n",
       "      <td>c.476_480dupGCCGC, c.480_481insGCGGC, c.298_301dup, c.64C&gt;T, c.108del, c.24delA, c.192C&gt;G, c.368C&gt;G, c.202_203delAC, c.58C&gt;T, c.460T&gt;C, c.24del</td>\n",
       "    </tr>\n",
       "    <tr>\n",
       "      <th>1</th>\n",
       "      <td>unmapped</td>\n",
       "      <td>0</td>\n",
       "      <td></td>\n",
       "    </tr>\n",
       "  </tbody>\n",
       "</table>\n",
       "</div>"
      ],
      "text/plain": [
       "     status  count  \\\n",
       "0    mapped     12   \n",
       "1  unmapped      0   \n",
       "\n",
       "                                                                                                                                           alleles  \n",
       "0  c.476_480dupGCCGC, c.480_481insGCGGC, c.298_301dup, c.64C>T, c.108del, c.24delA, c.192C>G, c.368C>G, c.202_203delAC, c.58C>T, c.460T>C, c.24del  \n",
       "1                                                                                                                                                   "
      ]
     },
     "execution_count": 8,
     "metadata": {},
     "output_type": "execute_result"
    }
   ],
   "source": [
    "vmanager.to_summary()"
   ]
  },
  {
   "cell_type": "code",
   "execution_count": 9,
   "id": "a80cd45f-9e5a-4d2e-9a65-df8dc0af3507",
   "metadata": {},
   "outputs": [
    {
     "data": {
      "text/html": [
       "<h2>Cohort validation</h2>\n",
       "<p>Errors found with 11 of 20 phenopackets.</p>\n",
       "<table style=\"border: 2px solid black; align: \"left\">\n",
       "<caption>Error counts</caption>\n",
       "<tr><th style=\"text-align: left;font-weight: bold;\">Level</th><th style=\"text-align: left;font-weight: bold;\">Error category</th><th style=\"text-align: left;font-weight: bold;\">Count</th></tr>\n",
       "<tr><td style=\"text-align: left;\">WARNING</td><td style=\"text-align: left;\">REDUNDANT</td><td style=\"text-align: left;\">14</td></tr>\n",
       "</table>\n",
       "<p>A total of 14 issues were fixed and no individual was removed from the cohort.</p>"
      ],
      "text/plain": [
       "<IPython.core.display.HTML object>"
      ]
     },
     "metadata": {},
     "output_type": "display_data"
    }
   ],
   "source": [
    "vmanager.add_variants_to_individuals(individuals)\n",
    "cvalidator = CohortValidator(cohort=individuals, ontology=hpo_ontology, min_hpo=1, allelic_requirement=AllelicRequirement.MONO_ALLELIC)\n",
    "qc = QcVisualizer(cohort_validator=cvalidator)\n",
    "display(HTML(qc.to_summary_html()))"
   ]
  },
  {
   "cell_type": "code",
   "execution_count": 10,
   "id": "3a9c30ab-9fd3-4d0d-ae7a-e655f575e269",
   "metadata": {},
   "outputs": [
    {
     "data": {
      "text/html": [
       "<table style=\"border: 2px solid black; align: \"left\">\n",
       "<caption>20 phenopackets - PMID:33087723 (n=10); PMID:32853638 (n=2); PMID:34421895 (n=3); PMID:36890397 (n=2); PMID:38157076 (n=1); PMID:37156989 (n=2)</caption>\n",
       "<tr><th style=\"text-align: left;font-weight: bold;\">Individual</th><th style=\"text-align: left;font-weight: bold;\">Disease</th><th style=\"text-align: left;font-weight: bold;\">Genotype</th><th style=\"text-align: left;font-weight: bold;\">Phenotypic features</th></tr>\n",
       "<tr><td style=\"text-align: left;\">A1 (FEMALE; P2Y)</td><td style=\"text-align: left;\">Autoinflammatory syndrome, familial, with or without immunodeficiency (OMIM:603597)</td><td style=\"text-align: left;\">NM_003745.2:c.368C>G (heterozygous)</td><td style=\"text-align: left;\">Autoimmune thrombocytopenia (HP:0001973); Thyroiditis (HP:0100646); excluded: Decreased circulating antibody level (HP:0004313)</td></tr>\n",
       "<tr><td style=\"text-align: left;\">A2 (FEMALE; P6Y)</td><td style=\"text-align: left;\">Autoinflammatory syndrome, familial, with or without immunodeficiency (OMIM:603597)</td><td style=\"text-align: left;\">NM_003745.2:c.368C>G (heterozygous)</td><td style=\"text-align: left;\">Autoimmune thrombocytopenia (HP:0001973); excluded: Decreased circulating antibody level (HP:0004313)</td></tr>\n",
       "<tr><td style=\"text-align: left;\">B1 (FEMALE; P5Y)</td><td style=\"text-align: left;\">Autoinflammatory syndrome, familial, with or without immunodeficiency (OMIM:603597)</td><td style=\"text-align: left;\">NM_003745.2:c.24del (heterozygous)</td><td style=\"text-align: left;\">Autoimmunity (HP:0002960); Lymphoproliferative disorder (HP:0005523); Lymphadenopathy (HP:0002716); Splenomegaly (HP:0001744); Recurrent bronchopulmonary infections (HP:0006538); excluded: Decreased circulating antibody level (HP:0004313)</td></tr>\n",
       "<tr><td style=\"text-align: left;\">B2 (MALE; P3Y)</td><td style=\"text-align: left;\">Autoinflammatory syndrome, familial, with or without immunodeficiency (OMIM:603597)</td><td style=\"text-align: left;\">NM_003745.2:c.24del (heterozygous)</td><td style=\"text-align: left;\">Autoimmunity (HP:0002960); Celiac disease (HP:0002608); Psoriasiform dermatitis (HP:0003765); Lymphoproliferative disorder (HP:0005523); Hodgkin lymphoma (HP:0012189); excluded: Decreased circulating antibody level (HP:0004313)</td></tr>\n",
       "<tr><td style=\"text-align: left;\">C1 (FEMALE; P3Y)</td><td style=\"text-align: left;\">Autoinflammatory syndrome, familial, with or without immunodeficiency (OMIM:603597)</td><td style=\"text-align: left;\">NM_003745.2:c.476_480dup (heterozygous)</td><td style=\"text-align: left;\">Autoimmunity (HP:0002960); Lymphoproliferative disorder (HP:0005523); Lymphadenopathy (HP:0002716); Hepatosplenomegaly (HP:0001433); excluded: Decreased circulating antibody level (HP:0004313)</td></tr>\n",
       "<tr><td style=\"text-align: left;\">D1 (MALE; P16Y)</td><td style=\"text-align: left;\">Autoinflammatory syndrome, familial, with or without immunodeficiency (OMIM:603597)</td><td style=\"text-align: left;\">NM_003745.2:c.64C>T (heterozygous)</td><td style=\"text-align: left;\">Systemic lupus erythematosus (HP:0002725); Lupus nephritis (HP:0033726); excluded: Decreased circulating antibody level (HP:0004313)</td></tr>\n",
       "<tr><td style=\"text-align: left;\">E1 (FEMALE; P9Y)</td><td style=\"text-align: left;\">Autoinflammatory syndrome, familial, with or without immunodeficiency (OMIM:603597)</td><td style=\"text-align: left;\">NM_003745.2:c.460T>C (heterozygous)</td><td style=\"text-align: left;\">Systemic lupus erythematosus (HP:0002725); Lupus nephritis (HP:0033726); excluded: Decreased circulating antibody level (HP:0004313)</td></tr>\n",
       "<tr><td style=\"text-align: left;\">E2 (FEMALE; P16Y)</td><td style=\"text-align: left;\">Autoinflammatory syndrome, familial, with or without immunodeficiency (OMIM:603597)</td><td style=\"text-align: left;\">NM_003745.2:c.460T>C (heterozygous)</td><td style=\"text-align: left;\">Autoimmune thrombocytopenia (HP:0001973); excluded: Decreased circulating antibody level (HP:0004313)</td></tr>\n",
       "<tr><td style=\"text-align: left;\">E4 (MALE; P15Y)</td><td style=\"text-align: left;\">Autoinflammatory syndrome, familial, with or without immunodeficiency (OMIM:603597)</td><td style=\"text-align: left;\">NM_003745.2:c.460T>C (heterozygous)</td><td style=\"text-align: left;\">Autoimmunity (HP:0002960); Psoriasiform dermatitis (HP:0003765); excluded: Decreased circulating antibody level (HP:0004313)</td></tr>\n",
       "<tr><td style=\"text-align: left;\">E5 (FEMALE; P44Y)</td><td style=\"text-align: left;\">Autoinflammatory syndrome, familial, with or without immunodeficiency (OMIM:603597)</td><td style=\"text-align: left;\">NM_003745.2:c.460T>C (heterozygous)</td><td style=\"text-align: left;\">Autoimmunity (HP:0002960); Psoriasiform dermatitis (HP:0003765); Hepatitis (HP:0012115); Pancreatitis (HP:0001733); excluded: Decreased circulating antibody level (HP:0004313)</td></tr>\n",
       "<tr><td style=\"text-align: left;\">Patient 1 (MALE; P5M)</td><td style=\"text-align: left;\">Autoinflammatory syndrome, familial, with or without immunodeficiency (OMIM:603597)</td><td style=\"text-align: left;\">NM_003745.2:c.108del (heterozygous)</td><td style=\"text-align: left;\">Autoimmune thrombocytopenia (HP:0001973); Autoimmune hemolytic anemia (HP:0001890); Fever (HP:0001945); Otitis media (HP:0000388); Oral ulcer (HP:0000155); Diarrhea (HP:0002014); Neutropenia in presence of anti-neutropil antibodies (HP:0001904); Decreased circulating antibody level (HP:0004313); excluded: Recurrent bronchopulmonary infections (HP:0006538)</td></tr>\n",
       "<tr><td style=\"text-align: left;\">Patient 2 (MALE; P14Y)</td><td style=\"text-align: left;\">Autoinflammatory syndrome, familial, with or without immunodeficiency (OMIM:603597)</td><td style=\"text-align: left;\">NM_003745.2:c.24del (heterozygous)</td><td style=\"text-align: left;\">Autoimmune thrombocytopenia (HP:0001973); Autoimmune hemolytic anemia (HP:0001890); Fever (HP:0001945); Diarrhea (HP:0002014); Neutropenia in presence of anti-neutropil antibodies (HP:0001904); Lymphopenia (HP:0001888); Decreased circulating antibody level (HP:0004313); excluded: Recurrent bronchopulmonary infections (HP:0006538)</td></tr>\n",
       "<tr><td style=\"text-align: left;\">P1 (FEMALE; P5Y)</td><td style=\"text-align: left;\">Autoinflammatory syndrome, familial, with or without immunodeficiency (OMIM:603597)</td><td style=\"text-align: left;\">NM_003745.2:c.192C>G (heterozygous)</td><td style=\"text-align: left;\">Autoimmune thrombocytopenia (HP:0001973); Hepatosplenomegaly (HP:0001433); Autoimmune hemolytic anemia (HP:0001890); Neutropenia in presence of anti-neutropil antibodies (HP:0001904); Pneumonia (HP:0002090); Tooth abscess (HP:0030757); Recurrent shingles (HP:0032275); Recurrent urinary tract infections (HP:0000010); Alopecia totalis (HP:0007418); Eczema (HP:0000964)</td></tr>\n",
       "<tr><td style=\"text-align: left;\">P2 (MALE; P7Y)</td><td style=\"text-align: left;\">Autoinflammatory syndrome, familial, with or without immunodeficiency (OMIM:603597)</td><td style=\"text-align: left;\">NM_003745.2:c.192C>G (heterozygous)</td><td style=\"text-align: left;\">Autoimmunity (HP:0002960); Thyroiditis (HP:0100646); Splenomegaly (HP:0001744); Recurrent urinary tract infections (HP:0000010)</td></tr>\n",
       "<tr><td style=\"text-align: left;\">P3 (FEMALE; P8Y)</td><td style=\"text-align: left;\">Autoinflammatory syndrome, familial, with or without immunodeficiency (OMIM:603597)</td><td style=\"text-align: left;\">NM_003745.2:c.480_481insGCGGC (heterozygous)</td><td style=\"text-align: left;\">Autoimmune thrombocytopenia (HP:0001973); Hepatitis (HP:0012115); Splenomegaly (HP:0001744); Otitis media (HP:0000388); Pneumonia (HP:0002090); Recurrent urinary tract infections (HP:0000010); Uveitis (HP:0000554)</td></tr>\n",
       "<tr><td style=\"text-align: left;\">P1 (FEMALE; P7Y)</td><td style=\"text-align: left;\">Autoinflammatory syndrome, familial, with or without immunodeficiency (OMIM:603597)</td><td style=\"text-align: left;\">NM_003745.2:c.480_481insGCGGC (heterozygous)</td><td style=\"text-align: left;\">Autoimmune thrombocytopenia (HP:0001973); Lymphadenopathy (HP:0002716); Hepatosplenomegaly (HP:0001433); Neutropenia in presence of anti-neutropil antibodies (HP:0001904); Pneumonia (HP:0002090)</td></tr>\n",
       "<tr><td style=\"text-align: left;\">P2 (MALE; P5M)</td><td style=\"text-align: left;\">Autoinflammatory syndrome, familial, with or without immunodeficiency (OMIM:603597)</td><td style=\"text-align: left;\">NM_003745.2:c.480_481insGCGGC (heterozygous)</td><td style=\"text-align: left;\">Autoimmunity (HP:0002960); Hepatitis (HP:0012115); Lymphadenopathy (HP:0002716); Hepatosplenomegaly (HP:0001433); Fever (HP:0001945); Eczema (HP:0000964)</td></tr>\n",
       "<tr><td style=\"text-align: left;\">patient (MALE; P10Y)</td><td style=\"text-align: left;\">Autoinflammatory syndrome, familial, with or without immunodeficiency (OMIM:603597)</td><td style=\"text-align: left;\">NM_003745.2:c.202_203del (heterozygous)</td><td style=\"text-align: left;\">Autoimmunity (HP:0002960); Psoriasiform dermatitis (HP:0003765); Fever (HP:0001945); Pneumonia (HP:0002090); Eczema (HP:0000964); Enthesitis (HP:0100686); Folliculitis (HP:0025084); Cutaneous abscess (HP:0031292)</td></tr>\n",
       "<tr><td style=\"text-align: left;\">P1 (FEMALE; P18Y)</td><td style=\"text-align: left;\">Autoinflammatory syndrome, familial, with or without immunodeficiency (OMIM:603597)</td><td style=\"text-align: left;\">NM_003745.2:c.58C>T (heterozygous)</td><td style=\"text-align: left;\">Autoimmunity (HP:0002960); Psoriasiform dermatitis (HP:0003765); Otitis media (HP:0000388); Sinusitis (HP:0000246); Pyoderma gangrenosum (HP:0025452); Crohn's disease (HP:0100280)</td></tr>\n",
       "<tr><td style=\"text-align: left;\">P2 (FEMALE; P24Y)</td><td style=\"text-align: left;\">Autoinflammatory syndrome, familial, with or without immunodeficiency (OMIM:603597)</td><td style=\"text-align: left;\">NM_003745.2:c.298_301dup (heterozygous)</td><td style=\"text-align: left;\">Autoimmunity (HP:0002960); Aphthous ulcer (HP:0032154); Raynaud phenomenon (HP:0030880); Anosmia (HP:0000458)</td></tr>\n",
       "</table>"
      ],
      "text/plain": [
       "<IPython.core.display.HTML object>"
      ]
     },
     "metadata": {},
     "output_type": "display_data"
    }
   ],
   "source": [
    "individuals = cvalidator.get_error_free_individual_list()\n",
    "table = IndividualTable(individuals)\n",
    "display(HTML(table.to_html()))"
   ]
  },
  {
   "cell_type": "code",
   "execution_count": null,
   "id": "3374592c-2cd6-4ccd-b594-057174fc5b7e",
   "metadata": {},
   "outputs": [],
   "source": []
  }
 ],
 "metadata": {
  "kernelspec": {
   "display_name": "ps24venv",
   "language": "python",
   "name": "ps24venv"
  },
  "language_info": {
   "codemirror_mode": {
    "name": "ipython",
    "version": 3
   },
   "file_extension": ".py",
   "mimetype": "text/x-python",
   "name": "python",
   "nbconvert_exporter": "python",
   "pygments_lexer": "ipython3",
   "version": "3.8.10"
  }
 },
 "nbformat": 4,
 "nbformat_minor": 5
}
