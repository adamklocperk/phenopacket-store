{
 "cells": [
  {
   "cell_type": "markdown",
   "id": "e230d3c7-7f17-48fc-b09e-e141cdd8b943",
   "metadata": {},
   "source": [
    "# ISCA2\n",
    "\n",
    "Pathogenic variants in ISCA2 cause [Multiple mitochondrial dysfunctions syndrome 4 ](https://omim.org/entry/616370). This notebook contains information from several publications."
   ]
  },
  {
   "cell_type": "code",
   "execution_count": 1,
   "id": "718cb83d-6fe7-4724-a04c-f263a137378e",
   "metadata": {},
   "outputs": [
    {
     "name": "stdout",
     "output_type": "stream",
     "text": [
      "Using pyphetools version 0.9.15\n"
     ]
    }
   ],
   "source": [
    "import pandas as pd\n",
    "pd.set_option('display.max_colwidth', None) # show entire column contents, important!\n",
    "from collections import defaultdict\n",
    "from IPython.display import display, HTML\n",
    "import pyphetools\n",
    "from pyphetools.creation import *\n",
    "from pyphetools.visualization import *\n",
    "from pyphetools.validation import CohortValidator\n",
    "print(f\"Using pyphetools version {pyphetools.__version__}\")"
   ]
  },
  {
   "cell_type": "code",
   "execution_count": 2,
   "id": "f99da07a-1900-4e72-9d7a-d9aacde210f9",
   "metadata": {},
   "outputs": [
    {
     "name": "stdout",
     "output_type": "stream",
     "text": [
      "HPO version 2023-10-09\n"
     ]
    }
   ],
   "source": [
    "import ssl\n",
    "ssl._create_default_https_context = ssl._create_unverified_context\n",
    "parser = HpoParser()\n",
    "hpo_cr = parser.get_hpo_concept_recognizer()\n",
    "hpo_version = parser.get_version()\n",
    "hpo_ontology = parser.get_ontology()\n",
    "metadata = MetaData(created_by=\"ORCID:0000-0002-0736-9199\")\n",
    "metadata.default_versions_with_hpo(version=hpo_version)\n",
    "print(f\"HPO version {hpo_version}\")"
   ]
  },
  {
   "cell_type": "code",
   "execution_count": 3,
   "id": "2324589c-8e83-435c-9763-90a1910534bb",
   "metadata": {},
   "outputs": [],
   "source": [
    "df = pd.read_excel('input/ISCA2_curation.xlsx')\n",
    "#df.head(2)"
   ]
  },
  {
   "cell_type": "code",
   "execution_count": 4,
   "id": "82a64764-da34-411b-b2fc-86dc27a403a6",
   "metadata": {},
   "outputs": [],
   "source": [
    "df['patient_id'] = df['ID']\n",
    "df.set_index('patient_id', inplace=True)"
   ]
  },
  {
   "cell_type": "code",
   "execution_count": 5,
   "id": "ad92b264-2c69-4086-b3dd-db64f8629c23",
   "metadata": {},
   "outputs": [],
   "source": [
    "def extract_cdna(variant):\n",
    "    \"\"\"\n",
    "    split strings like c.772G>T(p.Gly258*) on the open-parenthesis symbol and return the first part\n",
    "    \"\"\"\n",
    "    v = variant.split(\"(\")[0]\n",
    "    v = v.replace(\" \", \"\").replace(\"p.\",\"\")\n",
    "    return v\n",
    "    \n",
    "def extract_variant_1(variants):\n",
    "    \"\"\"\n",
    "    Split on the slash (\"/\") and return the first part (or entire string for homozygous)\n",
    "    \"\"\"\n",
    "    v1 = variants.split(\"/\")[0]\n",
    "    return extract_cdna(v1)\n",
    "\n",
    "def extract_variant_2(variants):\n",
    "    \"\"\"\n",
    "    Split on the slash (\"/\") and return the second part (or entire string for homozygous)\n",
    "    \"\"\"\n",
    "    fields = variants.split(\"/\")\n",
    "    if len(fields) == 2:\n",
    "        return extract_cdna(fields[1])\n",
    "    else:\n",
    "        # there was only one variant\n",
    "        return extract_cdna(variants)"
   ]
  },
  {
   "cell_type": "code",
   "execution_count": 6,
   "id": "b16e288b-ee17-4e12-b152-13191d0d2333",
   "metadata": {},
   "outputs": [],
   "source": [
    "df[\"var1\"] = df['Variant annotation'].apply(lambda x: extract_variant_1(x))\n",
    "df[\"var2\"] = df['Variant annotation'].apply(lambda x: extract_variant_2(x))"
   ]
  },
  {
   "cell_type": "code",
   "execution_count": 7,
   "id": "3cdad651-5642-45d5-a11d-9c59d316f9d9",
   "metadata": {},
   "outputs": [
    {
     "name": "stdout",
     "output_type": "stream",
     "text": [
      "c.355G>A\n",
      "https://rest.variantvalidator.org/VariantValidator/variantvalidator/hg38/NM_194279.3%3Ac.355G>A/NM_194279.3?content-type=application%2Fjson\n",
      "c.229G>A\n",
      "https://rest.variantvalidator.org/VariantValidator/variantvalidator/hg38/NM_194279.3%3Ac.229G>A/NM_194279.3?content-type=application%2Fjson\n",
      "c.413C>G\n",
      "https://rest.variantvalidator.org/VariantValidator/variantvalidator/hg38/NM_194279.3%3Ac.413C>G/NM_194279.3?content-type=application%2Fjson\n",
      "c.295delT\n",
      "https://rest.variantvalidator.org/VariantValidator/variantvalidator/hg38/NM_194279.3%3Ac.295delT/NM_194279.3?content-type=application%2Fjson\n",
      "c.5C>A\n",
      "https://rest.variantvalidator.org/VariantValidator/variantvalidator/hg38/NM_194279.3%3Ac.5C>A/NM_194279.3?content-type=application%2Fjson\n",
      "c.334A>G\n",
      "https://rest.variantvalidator.org/VariantValidator/variantvalidator/hg38/NM_194279.3%3Ac.334A>G/NM_194279.3?content-type=application%2Fjson\n",
      "extracted 6 variants with VariantValidator\n"
     ]
    }
   ],
   "source": [
    "from time import sleep\n",
    "var1_list = df[\"var1\"].unique()\n",
    "var2_list = df[\"var2\"].unique()\n",
    "var_set = set()\n",
    "var_set.update(var1_list)\n",
    "var_set.update(var2_list)\n",
    "variant_d = {}\n",
    "hg38 = \"hg38\"\n",
    "inca2_transcript = \"NM_194279.3\"\n",
    "vvalidator = VariantValidator(genome_build=hg38, transcript=inca2_transcript)\n",
    "for v in var_set:\n",
    "    print(f\"{v}\")\n",
    "    var = vvalidator.encode_hgvs(v)\n",
    "    variant_d[v] = var\n",
    "    sleep(1)\n",
    "print(f\"extracted {len(variant_d)} variants with VariantValidator\")"
   ]
  },
  {
   "cell_type": "code",
   "execution_count": 8,
   "id": "dddc1175-1d9a-4279-a15b-1369bf33bc20",
   "metadata": {},
   "outputs": [],
   "source": [
    "df['age in months']= df['Age of diagnosis'].apply(lambda x: x.split(\" \")[0])\n",
    "ageMapper = AgeColumnMapper.by_month(column_name='age in months')\n",
    "#ageMapper.preview_column(df['age in months'])"
   ]
  },
  {
   "cell_type": "code",
   "execution_count": 9,
   "id": "4004f71c-512f-44f2-97b6-d9bf8e884622",
   "metadata": {},
   "outputs": [],
   "source": [
    "sexMapper = SexColumnMapper(male_symbol=\"M\", female_symbol=\"F\", unknown_symbol=\"nan\", column_name=\"Gender\")\n",
    "#sexMapper.preview_column(df['Gender']).head()"
   ]
  },
  {
   "cell_type": "markdown",
   "id": "e6e91aea-f0f7-42ac-aeff-d9ea2c617505",
   "metadata": {},
   "source": [
    "# Mapping phenotypic features"
   ]
  },
  {
   "cell_type": "code",
   "execution_count": 10,
   "id": "3d122094-b717-43ea-9d2f-da98e1fc286c",
   "metadata": {},
   "outputs": [],
   "source": [
    "mapper_d = {}\n",
    "phenotypeColumnMapper = OptionColumnMapper(concept_recognizer=hpo_cr, option_d={})\n",
    "phenotypeColumnMapper.preview_column(df['Phenotype'])\n",
    "mapper_d['Phenotype'] = phenotypeColumnMapper\n",
    "# phenotypeColumnMapper.preview_column(df['Phenotype'])"
   ]
  },
  {
   "cell_type": "code",
   "execution_count": 11,
   "id": "213cf061-ab8b-4e5c-b578-31fd95ff69ee",
   "metadata": {},
   "outputs": [],
   "source": [
    "# This column conttains no data in the original file\n",
    "prenatalUSmapper =  OptionColumnMapper(concept_recognizer=hpo_cr, option_d={})\n",
    "#prenatalUSmapper.preview_column(df['Prenatal ultrasound phenotype'])\n",
    "#mapper_d['Prenatal ultrasound phenotype'] = prenatalUSmapper"
   ]
  },
  {
   "cell_type": "code",
   "execution_count": 12,
   "id": "f2193d60-7f6d-4743-96e2-bcc78df7e46d",
   "metadata": {},
   "outputs": [],
   "source": [
    "mriMapper = OptionColumnMapper(concept_recognizer=hpo_cr, option_d={})\n",
    "mriMapper.preview_column(df['MRI phenotype'])\n",
    "mapper_d['MRI phenotype'] = mriMapper"
   ]
  },
  {
   "cell_type": "code",
   "execution_count": 13,
   "id": "9671ae99-fffa-4e1a-b360-30ff25376d27",
   "metadata": {},
   "outputs": [],
   "source": [
    "# This column conttains no data in the original file\n",
    "cardiacMapper = OptionColumnMapper(concept_recognizer=hpo_cr, option_d={})\n",
    "#cardiacMapper.preview_column(df['Cardiac phenotype'])\n",
    "#mapper_d['Cardiac phenotype'] = cardiacMapper"
   ]
  },
  {
   "cell_type": "code",
   "execution_count": 14,
   "id": "caa1a579-f063-466a-bb28-76cbe17f54bd",
   "metadata": {},
   "outputs": [],
   "source": [
    "aod_d = {\n",
    "    \"9 months\": \"P9M\",\n",
    "    \"3 months\": \"P3M\",\n",
    "    \"28 months\": \"P2Y4M\",\n",
    "    \"26 months\": \"P2Y2M\",\n",
    "    \"16 months\": \"P1Y4M\",\n",
    "    \"11 months\": \"P11M\",\n",
    "}\n",
    "aodMapper = AgeOfDeathColumnMapper(column_name='Age at death', string_to_iso_d=aod_d)"
   ]
  },
  {
   "cell_type": "code",
   "execution_count": 15,
   "id": "0eab24c3-0336-4475-9a37-63d0a7c3b1bd",
   "metadata": {},
   "outputs": [],
   "source": [
    "mdds4 = Disease(disease_id=\"OMIM:616370\", disease_label=\"Mitochondrial DNA depletion syndrome 4\")\n",
    "disease_d = {\"616370\": mdds4}\n",
    "diseaseMapper = DiseaseIdColumnMapper(column_name=\"omim_id\", disease_id_map=disease_d)"
   ]
  },
  {
   "cell_type": "code",
   "execution_count": 16,
   "id": "2991b248-459a-4e63-b883-7e3d90a74e9d",
   "metadata": {},
   "outputs": [],
   "source": [
    "encoder = MixedCohortEncoder(df=df,\n",
    "                            hpo_cr=hpo_cr,\n",
    "                             column_mapper_d=mapper_d,\n",
    "                             individual_column_name=\"patient_id\",\n",
    "                             disease_id_mapper=diseaseMapper,\n",
    "                             pmid_column=\"PMID\",\n",
    "                             title_column=\"title\",\n",
    "                             sexmapper=sexMapper,\n",
    "                             agemapper=ageMapper,\n",
    "                             age_of_death_mapper=aodMapper,\n",
    "                             metadata=metadata\n",
    "                        )"
   ]
  },
  {
   "cell_type": "code",
   "execution_count": 17,
   "id": "297872d5-3bc5-40ca-92c3-1257bb452ee3",
   "metadata": {},
   "outputs": [],
   "source": [
    "individuals = encoder.get_individuals()\n",
    "# retrieve the variant strings and add Variant objects to each individual\n",
    "# the individual id (i.id) is also the index of the pandas dataframe\n",
    "for i in individuals:\n",
    "    row = df.loc[i.id] \n",
    "    v1 = row['var1']\n",
    "    v2 = row['var2']\n",
    "    #print(f\"{i.id}: v1={v1} and v2={v2}\")\n",
    "    if v1 == v2:\n",
    "        var1 = variant_d.get(v1)\n",
    "        var1.set_homozygous()\n",
    "        i.add_variant(var1)\n",
    "    else:\n",
    "        var1 = variant_d.get(v1)\n",
    "        var2 = variant_d.get(v2)\n",
    "        var1.set_heterozygous()\n",
    "        var2.set_heterozygous()\n",
    "        i.add_variant(var1)\n",
    "        i.add_variant(var2)"
   ]
  },
  {
   "cell_type": "code",
   "execution_count": 18,
   "id": "2e2ace81-4532-400d-a32b-9d468796de72",
   "metadata": {},
   "outputs": [
    {
     "data": {
      "text/html": [
       "<h2>Cohort validation</h2>\n",
       "<p>Errors found with 1 of 16 phenopackets.</p>\n",
       "<table style=\"border: 2px solid black; align: \"left\">\n",
       "<caption>Error counts</caption>\n",
       "<tr><th style=\"text-align: left;font-weight: bold;\">Level</th><th style=\"text-align: left;font-weight: bold;\">Error category</th><th style=\"text-align: left;font-weight: bold;\">Count</th></tr>\n",
       "<tr><td style=\"text-align: left;\">WARNING</td><td style=\"text-align: left;\">REDUNDANT</td><td style=\"text-align: left;\">1</td></tr>\n",
       "</table>\n",
       "<p>A total of 1 issues were fixed and no individual was removed from the cohort.</p>"
      ],
      "text/plain": [
       "<IPython.core.display.HTML object>"
      ]
     },
     "metadata": {},
     "output_type": "display_data"
    }
   ],
   "source": [
    "cvalidator = CohortValidator(cohort=individuals, ontology=hpo_ontology, min_hpo=1, allelic_requirement=AllelicRequirement.BI_ALLELIC)\n",
    "qc = QcVisualizer(cohort_validator=cvalidator)\n",
    "display(HTML(qc.to_summary_html()))"
   ]
  },
  {
   "cell_type": "code",
   "execution_count": 19,
   "id": "2a1e1f5b-085f-43e0-8e3c-9409b819b314",
   "metadata": {},
   "outputs": [
    {
     "data": {
      "text/html": [
       "<table style=\"border: 2px solid black; align: \"left\">\n",
       "<caption>16 phenopackets - PMID:29297947 (n=2); PMID:29359243 (n=1); PMID:31279336 (n=1); PMID:32424628 (n=1); PMID:25539947 (n=1); PMID:29122497 (n=10)</caption>\n",
       "<tr><th style=\"text-align: left;font-weight: bold;\">Individual</th><th style=\"text-align: left;font-weight: bold;\">Disease</th><th style=\"text-align: left;font-weight: bold;\">Genotype</th><th style=\"text-align: left;font-weight: bold;\">Phenotypic features</th></tr>\n",
       "<tr><td style=\"text-align: left;\">29297947_P1 (MALE; P3M)</td><td style=\"text-align: left;\">Mitochondrial DNA depletion syndrome 4 (OMIM:616370)</td><td style=\"text-align: left;\">NM_194279.3:c.229G>A (homozygous)</td><td style=\"text-align: left;\">Postnatal growth retardation (HP:0008897); Failure to thrive (HP:0001508); Diffuse optic disc pallor (HP:0012512); Visual impairment (HP:0000505); Low-set ears (HP:0000369); Wide nasal bridge (HP:0000431); Nasogastric tube feeding (HP:0040288); Global developmental delay (HP:0001263); Developmental regression (HP:0002376); Generalized hypotonia (HP:0001290); Spasticity (HP:0001257); Increased CSF glycine concentration (HP:0500230); Increased CSF glutamate concentration (HP:0500200); Increased CSF lactate (HP:0002490); Hyperglycinuria (HP:0003108); Leukodystrophy (HP:0002415); Hyperintensity of cerebral white matter on MRI (HP:0030890); Hyperintensity of MRI T2 signal of the spinal cord (HP:0040272)</td></tr>\n",
       "<tr><td style=\"text-align: left;\">29297947_P2 (FEMALE; P6M)</td><td style=\"text-align: left;\">Mitochondrial DNA depletion syndrome 4 (OMIM:616370)</td><td style=\"text-align: left;\">NM_194279.3:c.229G>A (homozygous)</td><td style=\"text-align: left;\">Nystagmus (HP:0000639); Leg muscle stiffness (HP:0008969); Motor regression (HP:0033044); Postnatal growth retardation (HP:0008897); Macrocephaly (HP:0000256); Diffuse optic disc pallor (HP:0012512); Visual impairment (HP:0000505); Feeding difficulties in infancy (HP:0008872); Generalized joint laxity (HP:0002761); Short 4th metacarpal (HP:0010044); Cutaneous syndactyly of toes (HP:0010621); Global developmental delay (HP:0001263); Hypotonia (HP:0001252); Spasticity (HP:0001257); Leukodystrophy (HP:0002415); Hyperintensity of cerebral white matter on MRI (HP:0030890)</td></tr>\n",
       "<tr><td style=\"text-align: left;\">29359243_P1 (FEMALE; P2M)</td><td style=\"text-align: left;\">Mitochondrial DNA depletion syndrome 4 (OMIM:616370)</td><td style=\"text-align: left;\"><ul> <li>NM_194279.3:c.297del (heterozygous)</li> <li>NM_194279.3:c.334A>G (heterozygous)</li> </ul></td><td style=\"text-align: left;\">Severe muscular hypotonia (HP:0006829); Nystagmus (HP:0000639); Motor regression (HP:0033044); Feeding difficulties (HP:0011968); Brisk reflexes (HP:0001348); Respiratory failure requiring assisted ventilation (HP:0004887); Increased CSF lactate (HP:0002490); Abnormal cerebral cortex morphology (HP:0002538); Abnormal diffusion weighted cerebral MRI morphology (HP:0032615); Abnormality of the internal capsule (HP:0012502)</td></tr>\n",
       "<tr><td style=\"text-align: left;\">31279336_P1 (MALE; P7M)</td><td style=\"text-align: left;\">Mitochondrial DNA depletion syndrome 4 (OMIM:616370)</td><td style=\"text-align: left;\">NM_194279.3:c.355G>A (homozygous)</td><td style=\"text-align: left;\">Malaise (HP:0033834); Insomnia (HP:0100785); Irritability (HP:0000737); Muscle stiffness (HP:0003552); Hypotonia (HP:0001252); Abnormal periventricular white matter morphology (HP:0002518); Abnormal cerebellum morphology (HP:0001317)</td></tr>\n",
       "<tr><td style=\"text-align: left;\">32424628_P1 (MALE; P11M)</td><td style=\"text-align: left;\">Mitochondrial DNA depletion syndrome 4 (OMIM:616370)</td><td style=\"text-align: left;\"><ul> <li>NM_194279.3:c.5C>A (heterozygous)</li> <li>NM_194279.3:c.413C>G (heterozygous)</li> </ul></td><td style=\"text-align: left;\">Spastic tetraparesis (HP:0001285); Optic atrophy (HP:0000648); Cognitive impairment (HP:0100543); Developmental regression (HP:0002376); Poor appetite (HP:0004396); Vomiting (HP:0002013); Nystagmus (HP:0000639); Encephalopathy (HP:0001298); Arm dystonia (HP:0031960); Abnormal pyramidal sign (HP:0007256); Increased serum lactate (HP:0002151); Increased CSF lactate (HP:0002490); Hyperreflexia (HP:0001347); Periventricular white matter hyperintensities (HP:0030891); Thick corpus callosum (HP:0007074); Central nervous system cyst (HP:0030724)</td></tr>\n",
       "<tr><td style=\"text-align: left;\">25539947_P1 (FEMALE; P7M)</td><td style=\"text-align: left;\">Mitochondrial DNA depletion syndrome 4 (OMIM:616370)</td><td style=\"text-align: left;\">NM_194279.3:c.229G>A (homozygous)</td><td style=\"text-align: left;\">Developmental regression (HP:0002376); Irritability (HP:0000737); Insomnia (HP:0100785); Spasticity (HP:0001257); Optic atrophy (HP:0000648); Hyperreflexia (HP:0001347); Periventricular white matter hyperintensities (HP:0030891); Abnormal corpus callosum morphology (HP:0001273); Abnormal midbrain morphology (HP:0002418)</td></tr>\n",
       "<tr><td style=\"text-align: left;\">29122497_P1 (FEMALE; P6M)</td><td style=\"text-align: left;\">Mitochondrial DNA depletion syndrome 4 (OMIM:616370)</td><td style=\"text-align: left;\">NM_194279.3:c.229G>A (homozygous)</td><td style=\"text-align: left;\">Developmental regression (HP:0002376); Optic atrophy (HP:0000648); Nystagmus (HP:0000639); Axial hypotonia (HP:0008936); Lower limb spasticity (HP:0002061); Upper limb spasticity (HP:0006986); Confluent hyperintensity of cerebral white matter on MRI (HP:0040330)</td></tr>\n",
       "<tr><td style=\"text-align: left;\">29122497_P2 (FEMALE; P7M)</td><td style=\"text-align: left;\">Mitochondrial DNA depletion syndrome 4 (OMIM:616370)</td><td style=\"text-align: left;\">NM_194279.3:c.229G>A (homozygous)</td><td style=\"text-align: left;\">Developmental regression (HP:0002376); Optic atrophy (HP:0000648); Nystagmus (HP:0000639); Axial hypotonia (HP:0008936); Lower limb spasticity (HP:0002061); Upper limb spasticity (HP:0006986); Confluent hyperintensity of cerebral white matter on MRI (HP:0040330); Hyperintensity of MRI T2 signal of the spinal cord (HP:0040272)</td></tr>\n",
       "<tr><td style=\"text-align: left;\">29122497_P3 (FEMALE; P4M)</td><td style=\"text-align: left;\">Mitochondrial DNA depletion syndrome 4 (OMIM:616370)</td><td style=\"text-align: left;\">NM_194279.3:c.229G>A (homozygous)</td><td style=\"text-align: left;\">Developmental regression (HP:0002376); Optic atrophy (HP:0000648); Nystagmus (HP:0000639); Axial hypotonia (HP:0008936); Lower limb spasticity (HP:0002061); Upper limb spasticity (HP:0006986); Confluent hyperintensity of cerebral white matter on MRI (HP:0040330); Hyperintensity of MRI T2 signal of the spinal cord (HP:0040272)</td></tr>\n",
       "<tr><td style=\"text-align: left;\">29122497_P4 (FEMALE; P5M)</td><td style=\"text-align: left;\">Mitochondrial DNA depletion syndrome 4 (OMIM:616370)</td><td style=\"text-align: left;\">NM_194279.3:c.229G>A (homozygous)</td><td style=\"text-align: left;\">Developmental regression (HP:0002376); Optic atrophy (HP:0000648); Nystagmus (HP:0000639); Axial hypotonia (HP:0008936); Lower limb spasticity (HP:0002061); Upper limb spasticity (HP:0006986); Confluent hyperintensity of cerebral white matter on MRI (HP:0040330); Hyperintensity of MRI T2 signal of the spinal cord (HP:0040272)</td></tr>\n",
       "<tr><td style=\"text-align: left;\">29122497_P5 (FEMALE; P6M)</td><td style=\"text-align: left;\">Mitochondrial DNA depletion syndrome 4 (OMIM:616370)</td><td style=\"text-align: left;\">NM_194279.3:c.229G>A (homozygous)</td><td style=\"text-align: left;\">Developmental regression (HP:0002376); Optic atrophy (HP:0000648); Nystagmus (HP:0000639); Axial hypotonia (HP:0008936); Lower limb spasticity (HP:0002061); Upper limb spasticity (HP:0006986); Confluent hyperintensity of cerebral white matter on MRI (HP:0040330); Hyperintensity of MRI T2 signal of the spinal cord (HP:0040272)</td></tr>\n",
       "<tr><td style=\"text-align: left;\">29122497_P6 (FEMALE; P3M)</td><td style=\"text-align: left;\">Mitochondrial DNA depletion syndrome 4 (OMIM:616370)</td><td style=\"text-align: left;\">NM_194279.3:c.229G>A (homozygous)</td><td style=\"text-align: left;\">Developmental regression (HP:0002376); Optic atrophy (HP:0000648); Nystagmus (HP:0000639); Axial hypotonia (HP:0008936); Lower limb spasticity (HP:0002061); Upper limb spasticity (HP:0006986); Confluent hyperintensity of cerebral white matter on MRI (HP:0040330); Hyperintensity of MRI T2 signal of the spinal cord (HP:0040272)</td></tr>\n",
       "<tr><td style=\"text-align: left;\">29122497_P7 (MALE; P5M)</td><td style=\"text-align: left;\">Mitochondrial DNA depletion syndrome 4 (OMIM:616370)</td><td style=\"text-align: left;\">NM_194279.3:c.229G>A (homozygous)</td><td style=\"text-align: left;\">Developmental regression (HP:0002376); Optic atrophy (HP:0000648); Nystagmus (HP:0000639); Axial hypotonia (HP:0008936); Lower limb spasticity (HP:0002061); Upper limb spasticity (HP:0006986); Seizure (HP:0001250); Confluent hyperintensity of cerebral white matter on MRI (HP:0040330); Hyperintensity of MRI T2 signal of the spinal cord (HP:0040272)</td></tr>\n",
       "<tr><td style=\"text-align: left;\">29122497_P8 (MALE; P3M)</td><td style=\"text-align: left;\">Mitochondrial DNA depletion syndrome 4 (OMIM:616370)</td><td style=\"text-align: left;\">NM_194279.3:c.229G>A (homozygous)</td><td style=\"text-align: left;\">Developmental regression (HP:0002376); Optic atrophy (HP:0000648); Nystagmus (HP:0000639); Axial hypotonia (HP:0008936); Lower limb spasticity (HP:0002061); Upper limb spasticity (HP:0006986); Seizure (HP:0001250)</td></tr>\n",
       "<tr><td style=\"text-align: left;\">29122497_P9 (MALE; P6M)</td><td style=\"text-align: left;\">Mitochondrial DNA depletion syndrome 4 (OMIM:616370)</td><td style=\"text-align: left;\">NM_194279.3:c.229G>A (homozygous)</td><td style=\"text-align: left;\">Developmental regression (HP:0002376); Optic atrophy (HP:0000648); Nystagmus (HP:0000639); Axial hypotonia (HP:0008936); Lower limb spasticity (HP:0002061); Upper limb spasticity (HP:0006986); Seizure (HP:0001250); Confluent hyperintensity of cerebral white matter on MRI (HP:0040330); Hyperintensity of MRI T2 signal of the spinal cord (HP:0040272)</td></tr>\n",
       "<tr><td style=\"text-align: left;\">29122497_P10 (MALE; P6M)</td><td style=\"text-align: left;\">Mitochondrial DNA depletion syndrome 4 (OMIM:616370)</td><td style=\"text-align: left;\">NM_194279.3:c.229G>A (homozygous)</td><td style=\"text-align: left;\">Developmental regression (HP:0002376); Optic atrophy (HP:0000648); Nystagmus (HP:0000639); Axial hypotonia (HP:0008936); Lower limb spasticity (HP:0002061); Upper limb spasticity (HP:0006986); Confluent hyperintensity of cerebral white matter on MRI (HP:0040330)</td></tr>\n",
       "</table>"
      ],
      "text/plain": [
       "<IPython.core.display.HTML object>"
      ]
     },
     "metadata": {},
     "output_type": "display_data"
    }
   ],
   "source": [
    "individuals = cvalidator.get_error_free_individual_list()\n",
    "table = PhenopacketTable(individual_list=individuals, metadata=metadata)\n",
    "display(HTML(table.to_html()))"
   ]
  },
  {
   "cell_type": "code",
   "execution_count": 20,
   "id": "9581607e-8913-4ada-b44b-d96306e3361f",
   "metadata": {},
   "outputs": [
    {
     "name": "stdout",
     "output_type": "stream",
     "text": [
      "We output 16 GA4GH phenopackets to the directory phenopackets\n"
     ]
    }
   ],
   "source": [
    "MixedCohortEncoder.output_individuals_as_phenopackets(individual_list=individuals)"
   ]
  },
  {
   "cell_type": "code",
   "execution_count": null,
   "id": "b3ad6d6b-3738-4f37-826b-26342d90596d",
   "metadata": {},
   "outputs": [],
   "source": []
  }
 ],
 "metadata": {
  "kernelspec": {
   "display_name": "ps2venv",
   "language": "python",
   "name": "ps2venv"
  },
  "language_info": {
   "codemirror_mode": {
    "name": "ipython",
    "version": 3
   },
   "file_extension": ".py",
   "mimetype": "text/x-python",
   "name": "python",
   "nbconvert_exporter": "python",
   "pygments_lexer": "ipython3",
   "version": "3.8.10"
  }
 },
 "nbformat": 4,
 "nbformat_minor": 5
}
