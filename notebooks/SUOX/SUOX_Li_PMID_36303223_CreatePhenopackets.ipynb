{
 "cells": [
  {
   "cell_type": "markdown",
   "id": "e3d05ea9-1192-42c3-a418-2e04f969f707",
   "metadata": {},
   "source": [
    "<H1>Sulfite Oxidase Deficiency SUOX</H1>\n",
    "<P>Data from <a href=\"https://pubmed.ncbi.nlm.nih.gov/36303223/\" target=\"__blank\">Li JT, et al. (2022) Mutation analysis of SUOX in isolated sulfite oxidase deficiency with ectopia lentis as the presenting feature: insights into genotype-phenotype correlation. Orphanet J Rare Dis.17(1):392. PMID:36303223</a>.</P>\n",
    "<P>We transferred information from Additional Files 5, 6, and 7 to two Excel files to parse the data.</P>"
   ]
  },
  {
   "cell_type": "code",
   "execution_count": 1,
   "id": "4bb11342-95e1-42e6-82a2-cb91d853461e",
   "metadata": {},
   "outputs": [
    {
     "name": "stdout",
     "output_type": "stream",
     "text": [
      "Using pyphetools version 0.9.8\n"
     ]
    }
   ],
   "source": [
    "import pandas as pd\n",
    "pd.set_option('display.max_colwidth', None) # show entire column contents, important!\n",
    "from IPython.display import display, HTML\n",
    "from pyphetools.creation import *\n",
    "from pyphetools.visualization import *\n",
    "from pyphetools.validation import *\n",
    "import pyphetools\n",
    "print(f\"Using pyphetools version {pyphetools.__version__}\")"
   ]
  },
  {
   "cell_type": "code",
   "execution_count": 2,
   "id": "ac59ce43-c3ba-4b45-a215-2cc651a9b6cf",
   "metadata": {},
   "outputs": [
    {
     "name": "stdout",
     "output_type": "stream",
     "text": [
      "HPO version 2023-10-09\n"
     ]
    }
   ],
   "source": [
    "PMID = \"PMID:36303223\"\n",
    "title = \"Mutation analysis of SUOX in isolated sulfite oxidase deficiency with ectopia lentis as the presenting feature: insights into genotype-phenotype correlation\"\n",
    "cite = Citation(pmid=PMID, title=title)\n",
    "parser = HpoParser()\n",
    "hpo_cr = parser.get_hpo_concept_recognizer()\n",
    "hpo_version = parser.get_version()\n",
    "hpo_ontology = parser.get_ontology()\n",
    "metadata = MetaData(created_by=\"ORCID:0000-0003-2598-6622\", citation=cite)\n",
    "metadata.default_versions_with_hpo(version=hpo_version)\n",
    "print(f\"HPO version {hpo_version}\")"
   ]
  },
  {
   "cell_type": "markdown",
   "id": "96a05018-e6b1-4a64-bd69-dedc2c24b4f0",
   "metadata": {},
   "source": [
    "<H2>SUOX variants</H2>\n",
    "<P>The file Li-SUOX-Variants.xlsx has one variant per line, assigned to the patient ID.</P>\n",
    "<p>Note that one of the reported variants is erroneous according to Variant Validator:</p>\n",
    "<pre>NM_001032386.2:c.1355C>A: Variant reference (C) does not agree with reference sequence (G)</pre>\n",
    "<p>This is how the variant was reported in the original publication. We changed the C to a G and obtain the\n",
    "same amino acid change as reported in the original publication: <tt>NP_001027558.1:p.(G452D)</tt>.</p>"
   ]
  },
  {
   "cell_type": "code",
   "execution_count": 3,
   "id": "f352f20b-09bc-45f9-8cab-ec508059bc7f",
   "metadata": {},
   "outputs": [
    {
     "data": {
      "text/html": [
       "<div>\n",
       "<style scoped>\n",
       "    .dataframe tbody tr th:only-of-type {\n",
       "        vertical-align: middle;\n",
       "    }\n",
       "\n",
       "    .dataframe tbody tr th {\n",
       "        vertical-align: top;\n",
       "    }\n",
       "\n",
       "    .dataframe thead th {\n",
       "        text-align: right;\n",
       "    }\n",
       "</style>\n",
       "<table border=\"1\" class=\"dataframe\">\n",
       "  <thead>\n",
       "    <tr style=\"text-align: right;\">\n",
       "      <th></th>\n",
       "      <th>Proband ID</th>\n",
       "      <th>ID</th>\n",
       "      <th>Nucleotide</th>\n",
       "      <th>Amino acid</th>\n",
       "      <th>Exon</th>\n",
       "      <th>Domain</th>\n",
       "      <th>Status</th>\n",
       "    </tr>\n",
       "  </thead>\n",
       "  <tbody>\n",
       "    <tr>\n",
       "      <th>0</th>\n",
       "      <td>1</td>\n",
       "      <td>M1</td>\n",
       "      <td>c.433delC</td>\n",
       "      <td>p.Q145Sfs*16</td>\n",
       "      <td>EX6</td>\n",
       "      <td>Cyt-b5 domain</td>\n",
       "      <td>Homo</td>\n",
       "    </tr>\n",
       "    <tr>\n",
       "      <th>1</th>\n",
       "      <td>2</td>\n",
       "      <td>M2</td>\n",
       "      <td>c.650G&gt;A</td>\n",
       "      <td>p.R217Q</td>\n",
       "      <td>EX6</td>\n",
       "      <td>Moco domain</td>\n",
       "      <td>Homo</td>\n",
       "    </tr>\n",
       "    <tr>\n",
       "      <th>2</th>\n",
       "      <td>3</td>\n",
       "      <td>M3</td>\n",
       "      <td>c.794C&gt;A</td>\n",
       "      <td>p.A265D</td>\n",
       "      <td>EX6</td>\n",
       "      <td>Moco domain</td>\n",
       "      <td>Com het</td>\n",
       "    </tr>\n",
       "    <tr>\n",
       "      <th>3</th>\n",
       "      <td>3</td>\n",
       "      <td>M4</td>\n",
       "      <td>c.1280C&gt;A</td>\n",
       "      <td>p.S427*</td>\n",
       "      <td>EX6</td>\n",
       "      <td>Homodimerization domain</td>\n",
       "      <td>NaN</td>\n",
       "    </tr>\n",
       "    <tr>\n",
       "      <th>4</th>\n",
       "      <td>4</td>\n",
       "      <td>M5</td>\n",
       "      <td>c.733_736delCTTT</td>\n",
       "      <td>p.L245Pfs*27</td>\n",
       "      <td>EX6</td>\n",
       "      <td>Moco domain</td>\n",
       "      <td>Homo</td>\n",
       "    </tr>\n",
       "  </tbody>\n",
       "</table>\n",
       "</div>"
      ],
      "text/plain": [
       "   Proband ID  ID        Nucleotide    Amino acid Exon  \\\n",
       "0           1  M1         c.433delC  p.Q145Sfs*16  EX6   \n",
       "1           2  M2          c.650G>A       p.R217Q  EX6   \n",
       "2           3  M3          c.794C>A       p.A265D  EX6   \n",
       "3           3  M4         c.1280C>A       p.S427*  EX6   \n",
       "4           4  M5  c.733_736delCTTT  p.L245Pfs*27  EX6   \n",
       "\n",
       "                    Domain   Status  \n",
       "0            Cyt-b5 domain     Homo  \n",
       "1              Moco domain     Homo  \n",
       "2              Moco domain  Com het  \n",
       "3  Homodimerization domain      NaN  \n",
       "4              Moco domain     Homo  "
      ]
     },
     "execution_count": 3,
     "metadata": {},
     "output_type": "execute_result"
    }
   ],
   "source": [
    "variant_df = pd.read_excel('input/Li-SUOX-Variants.xlsx', na_values=['n.a.'])\n",
    "variant_df.head()"
   ]
  },
  {
   "cell_type": "code",
   "execution_count": 4,
   "id": "ef99c452-08b0-46b9-9d96-5a1f932c0f2b",
   "metadata": {},
   "outputs": [
    {
     "name": "stdout",
     "output_type": "stream",
     "text": [
      "https://rest.variantvalidator.org/VariantValidator/variantvalidator/hg38/NM_001032386.2%3Ac.352C>T/NM_001032386.2?content-type=application%2Fjson\n",
      "https://rest.variantvalidator.org/VariantValidator/variantvalidator/hg38/NM_001032386.2%3Ac.803G>A/NM_001032386.2?content-type=application%2Fjson\n",
      "https://rest.variantvalidator.org/VariantValidator/variantvalidator/hg38/NM_001032386.2%3Ac.1348T>C/NM_001032386.2?content-type=application%2Fjson\n",
      "https://rest.variantvalidator.org/VariantValidator/variantvalidator/hg38/NM_001032386.2%3Ac.284_285insC/NM_001032386.2?content-type=application%2Fjson\n",
      "https://rest.variantvalidator.org/VariantValidator/variantvalidator/hg38/NM_001032386.2%3Ac.1521_1524delTTGT/NM_001032386.2?content-type=application%2Fjson\n",
      "https://rest.variantvalidator.org/VariantValidator/variantvalidator/hg38/NM_001032386.2%3Ac.649C>G/NM_001032386.2?content-type=application%2Fjson\n",
      "https://rest.variantvalidator.org/VariantValidator/variantvalidator/hg38/NM_001032386.2%3Ac.400_403delGAGC/NM_001032386.2?content-type=application%2Fjson\n",
      "https://rest.variantvalidator.org/VariantValidator/variantvalidator/hg38/NM_001032386.2%3Ac.1096C>T/NM_001032386.2?content-type=application%2Fjson\n",
      "https://rest.variantvalidator.org/VariantValidator/variantvalidator/hg38/NM_001032386.2%3Ac.433delC/NM_001032386.2?content-type=application%2Fjson\n",
      "https://rest.variantvalidator.org/VariantValidator/variantvalidator/hg38/NM_001032386.2%3Ac.1097G>A/NM_001032386.2?content-type=application%2Fjson\n",
      "https://rest.variantvalidator.org/VariantValidator/variantvalidator/hg38/NM_001032386.2%3Ac.1280C>A/NM_001032386.2?content-type=application%2Fjson\n",
      "https://rest.variantvalidator.org/VariantValidator/variantvalidator/hg38/NM_001032386.2%3Ac.1187A>G/NM_001032386.2?content-type=application%2Fjson\n",
      "https://rest.variantvalidator.org/VariantValidator/variantvalidator/hg38/NM_001032386.2%3Ac.1355G>A/NM_001032386.2?content-type=application%2Fjson\n",
      "https://rest.variantvalidator.org/VariantValidator/variantvalidator/hg38/NM_001032386.2%3Ac.1126C>T/NM_001032386.2?content-type=application%2Fjson\n",
      "https://rest.variantvalidator.org/VariantValidator/variantvalidator/hg38/NM_001032386.2%3Ac.1201A>G/NM_001032386.2?content-type=application%2Fjson\n",
      "https://rest.variantvalidator.org/VariantValidator/variantvalidator/hg38/NM_001032386.2%3Ac.733_736delCTTT/NM_001032386.2?content-type=application%2Fjson\n",
      "https://rest.variantvalidator.org/VariantValidator/variantvalidator/hg38/NM_001032386.2%3Ac.794C>A/NM_001032386.2?content-type=application%2Fjson\n",
      "https://rest.variantvalidator.org/VariantValidator/variantvalidator/hg38/NM_001032386.2%3Ac.1200C>G/NM_001032386.2?content-type=application%2Fjson\n",
      "https://rest.variantvalidator.org/VariantValidator/variantvalidator/hg38/NM_001032386.2%3Ac.427C>A/NM_001032386.2?content-type=application%2Fjson\n",
      "https://rest.variantvalidator.org/VariantValidator/variantvalidator/hg38/NM_001032386.2%3Ac.772A>C/NM_001032386.2?content-type=application%2Fjson\n",
      "https://rest.variantvalidator.org/VariantValidator/variantvalidator/hg38/NM_001032386.2%3Ac.182T>C/NM_001032386.2?content-type=application%2Fjson\n",
      "https://rest.variantvalidator.org/VariantValidator/variantvalidator/hg38/NM_001032386.2%3Ac.205G>C/NM_001032386.2?content-type=application%2Fjson\n",
      "https://rest.variantvalidator.org/VariantValidator/variantvalidator/hg38/NM_001032386.2%3Ac.1382A>T/NM_001032386.2?content-type=application%2Fjson\n",
      "https://rest.variantvalidator.org/VariantValidator/variantvalidator/hg38/NM_001032386.2%3Ac.1261C>T/NM_001032386.2?content-type=application%2Fjson\n",
      "https://rest.variantvalidator.org/VariantValidator/variantvalidator/hg38/NM_001032386.2%3Ac.1549_1574dup/NM_001032386.2?content-type=application%2Fjson\n",
      "https://rest.variantvalidator.org/VariantValidator/variantvalidator/hg38/NM_001032386.2%3Ac.884G>A/NM_001032386.2?content-type=application%2Fjson\n",
      "https://rest.variantvalidator.org/VariantValidator/variantvalidator/hg38/NM_001032386.2%3Ac.650G>A/NM_001032386.2?content-type=application%2Fjson\n",
      "https://rest.variantvalidator.org/VariantValidator/variantvalidator/hg38/NM_001032386.2%3Ac.1136A>G/NM_001032386.2?content-type=application%2Fjson\n",
      "https://rest.variantvalidator.org/VariantValidator/variantvalidator/hg38/NM_001032386.2%3Ac.1084G>A/NM_001032386.2?content-type=application%2Fjson\n",
      "https://rest.variantvalidator.org/VariantValidator/variantvalidator/hg38/NM_001032386.2%3Ac.520delG/NM_001032386.2?content-type=application%2Fjson\n",
      "https://rest.variantvalidator.org/VariantValidator/variantvalidator/hg38/NM_001032386.2%3Ac.1376G>A/NM_001032386.2?content-type=application%2Fjson\n",
      "https://rest.variantvalidator.org/VariantValidator/variantvalidator/hg38/NM_001032386.2%3Ac.475G>T/NM_001032386.2?content-type=application%2Fjson\n",
      "Extracted information for 32 variants with Variant Validator\n"
     ]
    }
   ],
   "source": [
    "from collections import defaultdict\n",
    "hg38 = \"hg38\"\n",
    "SUOX_transcript = 'NM_001032386.2'\n",
    "vvalidator = VariantValidator(genome_build=hg38, transcript=SUOX_transcript)\n",
    "patient_id_to_variant_list_d = defaultdict(list)\n",
    "all_variants = set()\n",
    "for _, row in variant_df.iterrows():\n",
    "    proband = row['Proband ID']\n",
    "    individual_id = f\"individual_{proband}\"\n",
    "    var = row['Nucleotide']\n",
    "    if var == \"c.1355C>A\":\n",
    "        var = \"c.1355G>A\" # repair error (see above)\n",
    "    patient_id_to_variant_list_d[individual_id].append(var)\n",
    "    all_variants.add(var)\n",
    "variant_d = {}\n",
    "for v in all_variants:\n",
    "    var = vvalidator.encode_hgvs(v)\n",
    "    variant_d[v] = var\n",
    "print(f\"Extracted information for {len(variant_d)} variants with Variant Validator\")"
   ]
  },
  {
   "cell_type": "markdown",
   "id": "888490de-8920-43eb-8e9f-10d04d84181a",
   "metadata": {},
   "source": [
    "<H1>Clinical data</H1>"
   ]
  },
  {
   "cell_type": "code",
   "execution_count": 5,
   "id": "339ca23e-ebcb-4dcb-8aee-c44fce6280e6",
   "metadata": {},
   "outputs": [
    {
     "data": {
      "text/html": [
       "<div>\n",
       "<style scoped>\n",
       "    .dataframe tbody tr th:only-of-type {\n",
       "        vertical-align: middle;\n",
       "    }\n",
       "\n",
       "    .dataframe tbody tr th {\n",
       "        vertical-align: top;\n",
       "    }\n",
       "\n",
       "    .dataframe thead th {\n",
       "        text-align: right;\n",
       "    }\n",
       "</style>\n",
       "<table border=\"1\" class=\"dataframe\">\n",
       "  <thead>\n",
       "    <tr style=\"text-align: right;\">\n",
       "      <th></th>\n",
       "      <th>Proband ID</th>\n",
       "      <th>PMID</th>\n",
       "      <th>Ethnicity</th>\n",
       "      <th>Gender</th>\n",
       "      <th>Parental consanguity</th>\n",
       "      <th>Age at onset (months)</th>\n",
       "      <th>Variants</th>\n",
       "      <th>Amino acid</th>\n",
       "      <th>status</th>\n",
       "      <th>Typical type/Mild type</th>\n",
       "      <th>...</th>\n",
       "      <th>Homocys (umol/L) NR: 5-15</th>\n",
       "      <th>Cys (umol/L) NR: 20-70</th>\n",
       "      <th>UA (umol/L) NR: 210-430</th>\n",
       "      <th>Sulfite (mg/L) NR: 0</th>\n",
       "      <th>Thiosulfate NR: 0</th>\n",
       "      <th>Urine SSC (umol/mmolCr) NR: 0.1-10</th>\n",
       "      <th>Urine Taurine (mmol/molCr) NR: 12-150</th>\n",
       "      <th>Urine XA NR: 0-0.46mmol/L or &lt;40umol/mmolCr or &lt;0.29XA/Cr</th>\n",
       "      <th>Urine HypoXA NR: 0-0.18mmol/L or &lt;8umol/mmolCr or &lt;0.5HypoXA/Cr</th>\n",
       "      <th>Urine UA NR: 0.44-4.50mmol/L or 50-980umol/mmolCr</th>\n",
       "    </tr>\n",
       "  </thead>\n",
       "  <tbody>\n",
       "    <tr>\n",
       "      <th>0</th>\n",
       "      <td>1</td>\n",
       "      <td>9050047</td>\n",
       "      <td>EUR</td>\n",
       "      <td>M</td>\n",
       "      <td>No</td>\n",
       "      <td>0</td>\n",
       "      <td>c.(433delC); (433delC)</td>\n",
       "      <td>p.(Q145Sfs*16); (Q145Sfs*16)</td>\n",
       "      <td>Homo</td>\n",
       "      <td>T</td>\n",
       "      <td>...</td>\n",
       "      <td>n.a.</td>\n",
       "      <td>2</td>\n",
       "      <td>n.a.</td>\n",
       "      <td>20-25</td>\n",
       "      <td>n.a.</td>\n",
       "      <td>320umol/L</td>\n",
       "      <td>95</td>\n",
       "      <td>n.a.</td>\n",
       "      <td>n.a.</td>\n",
       "      <td>n.a.</td>\n",
       "    </tr>\n",
       "    <tr>\n",
       "      <th>1</th>\n",
       "      <td>2</td>\n",
       "      <td>9600976</td>\n",
       "      <td>EUR</td>\n",
       "      <td>F</td>\n",
       "      <td>Yes</td>\n",
       "      <td>5</td>\n",
       "      <td>c.(650G&gt;A); (650G&gt;A)</td>\n",
       "      <td>p.(R217Q); (R217Q)</td>\n",
       "      <td>Homo</td>\n",
       "      <td>T</td>\n",
       "      <td>...</td>\n",
       "      <td>n.a.</td>\n",
       "      <td>n.a.</td>\n",
       "      <td>n.a.</td>\n",
       "      <td>0.108-0.211</td>\n",
       "      <td>0.297-1.632mmol/L</td>\n",
       "      <td>240umol/L</td>\n",
       "      <td>n.a.</td>\n",
       "      <td>0.04mmol/L</td>\n",
       "      <td>0.05mmol/L</td>\n",
       "      <td>0.14mmol/L</td>\n",
       "    </tr>\n",
       "    <tr>\n",
       "      <th>2</th>\n",
       "      <td>3</td>\n",
       "      <td>10519592</td>\n",
       "      <td>NAM</td>\n",
       "      <td>M</td>\n",
       "      <td>No</td>\n",
       "      <td>0</td>\n",
       "      <td>c.(794C&gt;A); (1280C&gt;A)</td>\n",
       "      <td>p.(A265D); (S427*)</td>\n",
       "      <td>Com het</td>\n",
       "      <td>T</td>\n",
       "      <td>...</td>\n",
       "      <td>n.a.</td>\n",
       "      <td>n.a.</td>\n",
       "      <td>normal</td>\n",
       "      <td>80-100</td>\n",
       "      <td>n.a.</td>\n",
       "      <td>690umol/L</td>\n",
       "      <td>n.a.</td>\n",
       "      <td>normal</td>\n",
       "      <td>normal</td>\n",
       "      <td>normal</td>\n",
       "    </tr>\n",
       "    <tr>\n",
       "      <th>3</th>\n",
       "      <td>4</td>\n",
       "      <td>12112661</td>\n",
       "      <td>n.a.</td>\n",
       "      <td>n.a.</td>\n",
       "      <td>Yes</td>\n",
       "      <td>n.a.</td>\n",
       "      <td>c.(733_736delCTTT); (733_736delCTTT)</td>\n",
       "      <td>p.(L245Pfs*27); (L245Pfs*27)</td>\n",
       "      <td>Homo</td>\n",
       "      <td>T</td>\n",
       "      <td>...</td>\n",
       "      <td>n.a.</td>\n",
       "      <td>n.a.</td>\n",
       "      <td>n.a.</td>\n",
       "      <td>n.a.</td>\n",
       "      <td>n.a.</td>\n",
       "      <td>n.a.</td>\n",
       "      <td>n.a.</td>\n",
       "      <td>n.a.</td>\n",
       "      <td>n.a.</td>\n",
       "      <td>n.a.</td>\n",
       "    </tr>\n",
       "    <tr>\n",
       "      <th>4</th>\n",
       "      <td>5</td>\n",
       "      <td>12112661</td>\n",
       "      <td>n.a.</td>\n",
       "      <td>n.a.</td>\n",
       "      <td>Yes</td>\n",
       "      <td>n.a.</td>\n",
       "      <td>c.(284_285insC); (1126C&gt;T)</td>\n",
       "      <td>p.(E97*); (R376C)</td>\n",
       "      <td>Com het</td>\n",
       "      <td>T</td>\n",
       "      <td>...</td>\n",
       "      <td>n.a.</td>\n",
       "      <td>n.a.</td>\n",
       "      <td>n.a.</td>\n",
       "      <td>n.a.</td>\n",
       "      <td>n.a.</td>\n",
       "      <td>n.a.</td>\n",
       "      <td>n.a.</td>\n",
       "      <td>n.a.</td>\n",
       "      <td>n.a.</td>\n",
       "      <td>n.a.</td>\n",
       "    </tr>\n",
       "  </tbody>\n",
       "</table>\n",
       "<p>5 rows × 36 columns</p>\n",
       "</div>"
      ],
      "text/plain": [
       "   Proband ID      PMID Ethnicity Gender Parental consanguity  \\\n",
       "0           1   9050047       EUR      M                   No   \n",
       "1           2   9600976       EUR      F                  Yes   \n",
       "2           3  10519592       NAM      M                   No   \n",
       "3           4  12112661      n.a.   n.a.                  Yes   \n",
       "4           5  12112661      n.a.   n.a.                  Yes   \n",
       "\n",
       "  Age at onset (months)                              Variants  \\\n",
       "0                     0                c.(433delC); (433delC)   \n",
       "1                     5                  c.(650G>A); (650G>A)   \n",
       "2                     0                 c.(794C>A); (1280C>A)   \n",
       "3                  n.a.  c.(733_736delCTTT); (733_736delCTTT)   \n",
       "4                  n.a.            c.(284_285insC); (1126C>T)   \n",
       "\n",
       "                     Amino acid   status Typical type/Mild type  ...  \\\n",
       "0  p.(Q145Sfs*16); (Q145Sfs*16)     Homo                      T  ...   \n",
       "1            p.(R217Q); (R217Q)     Homo                      T  ...   \n",
       "2            p.(A265D); (S427*)  Com het                      T  ...   \n",
       "3  p.(L245Pfs*27); (L245Pfs*27)     Homo                      T  ...   \n",
       "4             p.(E97*); (R376C)  Com het                      T  ...   \n",
       "\n",
       "  Homocys (umol/L) NR: 5-15 Cys (umol/L) NR: 20-70 UA (umol/L) NR: 210-430  \\\n",
       "0                      n.a.                      2                    n.a.   \n",
       "1                      n.a.                   n.a.                    n.a.   \n",
       "2                      n.a.                   n.a.                  normal   \n",
       "3                      n.a.                   n.a.                    n.a.   \n",
       "4                      n.a.                   n.a.                    n.a.   \n",
       "\n",
       "  Sulfite (mg/L) NR: 0 Thiosulfate NR: 0  Urine SSC (umol/mmolCr) NR: 0.1-10  \\\n",
       "0                20-25               n.a.                          320umol/L   \n",
       "1          0.108-0.211  0.297-1.632mmol/L                          240umol/L   \n",
       "2               80-100               n.a.                          690umol/L   \n",
       "3                 n.a.               n.a.                               n.a.   \n",
       "4                 n.a.               n.a.                               n.a.   \n",
       "\n",
       "  Urine Taurine (mmol/molCr) NR: 12-150  \\\n",
       "0                                    95   \n",
       "1                                  n.a.   \n",
       "2                                  n.a.   \n",
       "3                                  n.a.   \n",
       "4                                  n.a.   \n",
       "\n",
       "  Urine XA NR: 0-0.46mmol/L or <40umol/mmolCr or <0.29XA/Cr  \\\n",
       "0                                                      n.a.   \n",
       "1                                                0.04mmol/L   \n",
       "2                                                    normal   \n",
       "3                                                      n.a.   \n",
       "4                                                      n.a.   \n",
       "\n",
       "  Urine HypoXA NR: 0-0.18mmol/L or <8umol/mmolCr or <0.5HypoXA/Cr  \\\n",
       "0                                                            n.a.   \n",
       "1                                                      0.05mmol/L   \n",
       "2                                                          normal   \n",
       "3                                                            n.a.   \n",
       "4                                                            n.a.   \n",
       "\n",
       "  Urine UA NR: 0.44-4.50mmol/L or 50-980umol/mmolCr  \n",
       "0                                              n.a.  \n",
       "1                                        0.14mmol/L  \n",
       "2                                            normal  \n",
       "3                                              n.a.  \n",
       "4                                              n.a.  \n",
       "\n",
       "[5 rows x 36 columns]"
      ]
     },
     "execution_count": 5,
     "metadata": {},
     "output_type": "execute_result"
    }
   ],
   "source": [
    "df_clinical = pd.read_excel(\"input/Li-Suox-Clinical.xlsx\")\n",
    "df_clinical.head()"
   ]
  },
  {
   "cell_type": "code",
   "execution_count": 6,
   "id": "03e08fcd-12dc-4edb-9023-0b36642c5ec0",
   "metadata": {},
   "outputs": [
    {
     "data": {
      "text/plain": [
       "Index(['Proband ID', 'PMID', 'Ethnicity', 'Gender', 'Parental consanguity',\n",
       "       'Age at onset (months)', 'Variants', 'Amino acid', 'status',\n",
       "       'Typical type/Mild type', 'Death', 'Age of death (months)',\n",
       "       'Prodromal infection', 'Developmental delay', 'Regression', 'Seizure',\n",
       "       'Extrapyramidal symptoms', 'Hypertonia', 'Hypotonia', 'Microcephaly',\n",
       "       'Ectopia lentis', 'Age of diagnosis of ophthalmic manifestations',\n",
       "       'Proband ID.1', 'Resource (PMID)', 'SSC (umol/L) NR: 0',\n",
       "       'Taurine (umol/L) NR: 15-145', 'Homocys (umol/L) NR: 5-15',\n",
       "       'Cys (umol/L) NR: 20-70', 'UA (umol/L) NR: 210-430',\n",
       "       'Sulfite (mg/L) NR: 0', 'Thiosulfate NR: 0 ',\n",
       "       'Urine SSC (umol/mmolCr) NR: 0.1-10',\n",
       "       'Urine Taurine (mmol/molCr) NR: 12-150',\n",
       "       'Urine XA NR: 0-0.46mmol/L or <40umol/mmolCr or <0.29XA/Cr',\n",
       "       'Urine HypoXA NR: 0-0.18mmol/L or <8umol/mmolCr or <0.5HypoXA/Cr',\n",
       "       'Urine UA NR: 0.44-4.50mmol/L or 50-980umol/mmolCr'],\n",
       "      dtype='object')"
      ]
     },
     "execution_count": 6,
     "metadata": {},
     "output_type": "execute_result"
    }
   ],
   "source": [
    "df_clinical.columns"
   ]
  },
  {
   "cell_type": "code",
   "execution_count": 7,
   "id": "4e2ac2d4-62f9-4671-a29b-12e753bf2286",
   "metadata": {},
   "outputs": [
    {
     "name": "stdout",
     "output_type": "stream",
     "text": [
      "We created 8 simple column mappers\n"
     ]
    }
   ],
   "source": [
    "column_mapper_d = {}\n",
    "\n",
    "items = {\n",
    "    'Developmental delay': ['Neurodevelopmental delay', 'HP:0012758'],\n",
    "    'Regression': ['Cognitive regression', 'HP:0034332'],\n",
    "    'Seizure': ['Seizure', 'HP:0001250'],\n",
    "    'Extrapyramidal symptoms': ['Abnormality of extrapyramidal motor function', 'HP:0002071'],\n",
    "    'Hypertonia':['Hypertonia','HP:0001276'],\n",
    "    'Hypotonia': ['Hypotonia','HP:0001252'],\n",
    "    'Microcephaly':['Microcephaly', 'HP:0000252'],\n",
    "    'Ectopia lentis':['Ectopia lentis', 'HP:0001083'],\n",
    "}\n",
    "\n",
    "item_column_mapper_d = hpo_cr.initialize_simple_column_maps(column_name_to_hpo_label_map=items, \n",
    "                                                            observed='+',\n",
    "                                                            excluded='-')\n",
    "print(f\"We created {len(item_column_mapper_d)} simple column mappers\")\n",
    "# Transfor to column_mapper_d\n",
    "for k, v in item_column_mapper_d.items():\n",
    "    column_mapper_d[k] = v"
   ]
  },
  {
   "cell_type": "markdown",
   "id": "c24292e2-b9e6-4e3e-8014-aed58554bdb2",
   "metadata": {},
   "source": [
    "<H2>Threshold mappers</H2>\n",
    "<p>The data contain information about biochemical abnormalities framed as tests with reference ranges and values. We can capture this using threshold mappers</p>"
   ]
  },
  {
   "cell_type": "markdown",
   "id": "216aaca5-3cb0-495c-ab24-bf0d64980493",
   "metadata": {},
   "source": [
    "<h3>SSC (umol/L) NR: 0</h3>\n",
    "<p>SSC refers to S-sulfocysteine; The normal range is absent (not more than zero). The corresponding\n",
    "HPO term is Elevated circulating S-sulfocysteine concentration HP:0034745.</p>"
   ]
  },
  {
   "cell_type": "code",
   "execution_count": 8,
   "id": "51105641-67bc-4521-b73c-ceadd44e7b56",
   "metadata": {},
   "outputs": [
    {
     "data": {
      "text/plain": [
       "array(['n.a.', 28, 14], dtype=object)"
      ]
     },
     "execution_count": 8,
     "metadata": {},
     "output_type": "execute_result"
    }
   ],
   "source": [
    "df_clinical['SSC (umol/L) NR: 0'].unique()"
   ]
  },
  {
   "cell_type": "code",
   "execution_count": 9,
   "id": "1dd7f30b-0275-431d-be7f-26744a16b2f9",
   "metadata": {},
   "outputs": [],
   "source": [
    "sscMapper = ThresholdedColumnMapper(hpo_id=\"HP:0034745\", \n",
    "                                    hpo_label=\"Elevated circulating S-sulfocysteine concentration\",\n",
    "                                    threshold=0,\n",
    "                                   call_if_above=True)\n",
    "sscMapper.preview_column(df_clinical['SSC (umol/L) NR: 0'])\n",
    "column_mapper_d['SSC (umol/L) NR: 0'] = sscMapper"
   ]
  },
  {
   "cell_type": "code",
   "execution_count": 10,
   "id": "f2a8ef9e-2750-439a-8c8c-de16be4f5d19",
   "metadata": {},
   "outputs": [
    {
     "data": {
      "text/plain": [
       "array([197, 'n.a.', 46], dtype=object)"
      ]
     },
     "execution_count": 10,
     "metadata": {},
     "output_type": "execute_result"
    }
   ],
   "source": [
    "df_clinical['Taurine (umol/L) NR: 15-145'].unique()"
   ]
  },
  {
   "cell_type": "code",
   "execution_count": 11,
   "id": "4c7472bb-4808-47d2-a911-aec7b1e63b17",
   "metadata": {},
   "outputs": [],
   "source": [
    "# Hypertaurinemia HP:0500181\n",
    "taurineMapper = ThresholdedColumnMapper(hpo_id=\"HP:0500181\",\n",
    "                                        hpo_label=\"Hypertaurinemia\",\n",
    "                                        threshold=145,\n",
    "                                        call_if_above=True)\n",
    "taurineMapper.preview_column(df_clinical['Taurine (umol/L) NR: 15-145'])\n",
    "column_mapper_d['Taurine (umol/L) NR: 15-145'] = taurineMapper"
   ]
  },
  {
   "cell_type": "code",
   "execution_count": 12,
   "id": "987feeac-d3d3-4ba3-b5db-046f84b1a629",
   "metadata": {},
   "outputs": [],
   "source": [
    "# 'Homocys (umol/L) NR: 5-15' -- Hyperhomocystinemia HP:0002160\n",
    "homocyteineMapper = ThresholdedColumnMapper(hpo_id=\"HP:0002160\",\n",
    "                                            hpo_label=\"Hyperhomocystinemia\",\n",
    "                                            threshold=15,\n",
    "                                            call_if_above=True)\n",
    "homocyteineMapper.preview_column(df_clinical['Homocys (umol/L) NR: 5-15'])\n",
    "column_mapper_d['Homocys (umol/L) NR: 5-15'] = homocyteineMapper"
   ]
  },
  {
   "cell_type": "code",
   "execution_count": 13,
   "id": "95d8a51e-5f41-4f24-9f08-597f8b7a07be",
   "metadata": {},
   "outputs": [],
   "source": [
    "# 'Cys (umol/L) NR: 20-70' -- \n",
    "# Note this manifests as low circulate Cystine (not Cysteine)\n",
    "# Hypocystinemia HP:0500152\n",
    "\n",
    "cystineMapper = ThresholdedColumnMapper(hpo_id=\"HP:0500152\",\n",
    "                                        hpo_label=\"Hypocystinemia\",\n",
    "                                        threshold=20,\n",
    "                                        call_if_above=False)\n",
    "cystineMapper.preview_column(df_clinical['Cys (umol/L) NR: 20-70'])\n",
    "column_mapper_d['Cys (umol/L) NR: 20-70'] = cystineMapper"
   ]
  },
  {
   "cell_type": "code",
   "execution_count": 14,
   "id": "89268985-bd47-4c46-8e18-f5febfe53b64",
   "metadata": {},
   "outputs": [],
   "source": [
    "# 'UA (umol/L) NR: 210-430'  -- Hypouricemia HP:0003537\n",
    "uricAcidMapper = ThresholdedColumnMapper(hpo_id=\"HP:0003537\",\n",
    "                                         hpo_label=\"Hypouricemia\",\n",
    "                                         threshold=210,\n",
    "                                         call_if_above=False)\n",
    "uricAcidMapper.preview_column(df_clinical['UA (umol/L) NR: 210-430'])\n",
    "column_mapper_d['UA (umol/L) NR: 210-430'] = uricAcidMapper"
   ]
  },
  {
   "cell_type": "code",
   "execution_count": 15,
   "id": "d0871aa9-eb8d-4def-a1aa-f4bc6ceab017",
   "metadata": {},
   "outputs": [],
   "source": [
    "# 'Sulfite (mg/L) NR: 0' \n",
    "# df_clinical['Sulfite (mg/L) NR: 0']\n",
    "# requires new HPO term"
   ]
  },
  {
   "cell_type": "code",
   "execution_count": 16,
   "id": "9fbd8f6a-b715-4d10-8492-a50a5290d11d",
   "metadata": {},
   "outputs": [],
   "source": [
    "# 'Thiosulfate NR: 0 ' -- requires new HPO term"
   ]
  },
  {
   "cell_type": "code",
   "execution_count": 17,
   "id": "7b4f4501-5180-4f97-98c3-2403bd610291",
   "metadata": {},
   "outputs": [],
   "source": [
    "# 'Urine SSC (umol/mmolCr) NR: 0.1-10' -- Sulfocysteinuria HP:0032350\n",
    "urineSscMapper = ThresholdedColumnMapper(hpo_id=\"HP:0032350\",\n",
    "                                         hpo_label=\"Sulfocysteinuria\",\n",
    "                                        threshold=10,\n",
    "                                        call_if_above=True)\n",
    "urineSscMapper.preview_column(df_clinical['Urine SSC (umol/mmolCr) NR: 0.1-10'])\n",
    "column_mapper_d['Urine SSC (umol/mmolCr) NR: 0.1-10'] = urineSscMapper"
   ]
  },
  {
   "cell_type": "code",
   "execution_count": 18,
   "id": "5ce627da-72c2-47f6-9c78-da573d65e030",
   "metadata": {},
   "outputs": [],
   "source": [
    "# 'Urine Taurine (mmol/molCr) NR: 12-150'  -- Increased urinary taurine HP:0003166\n",
    "urineTaurineMapper = ThresholdedColumnMapper(hpo_id=\"HP:0003166\",\n",
    "                                            hpo_label=\"Increased urinary taurine\",\n",
    "                                            threshold=150,\n",
    "                                            call_if_above=True)\n",
    "urineTaurineMapper.preview_column(df_clinical['Urine Taurine (mmol/molCr) NR: 12-150'])\n",
    "column_mapper_d['Urine Taurine (mmol/molCr) NR: 12-150'] = urineTaurineMapper"
   ]
  },
  {
   "cell_type": "code",
   "execution_count": 19,
   "id": "ce135a0e-c1f4-411e-b5eb-85273bfeff24",
   "metadata": {},
   "outputs": [],
   "source": [
    "# 'Urine XA NR: 0-0.46mmol/L or <40umol/mmolCr or <0.29XA/Cr'\n",
    "# Here we need to use an OptionColumnMapper because three different measurement ranges are used\n",
    "df_clinical['Urine XA NR: 0-0.46mmol/L or <40umol/mmolCr or <0.29XA/Cr'].unique()\n",
    "urine_xa_d = { '11.7umol/mmolCr':\"Xanthinuria\",\n",
    "       '1.7umol/mmolCr':\"Xanthinuria\" }\n",
    "urine_not_xa_d = {'0.04mmol/L': \"Xanthinuria\", \n",
    "                  \"1.6umol/mmolCr\": \"Xanthinuria\", \n",
    "                  \"0.0214XA/Cr\": \"Xanthinuria\",\n",
    "                 \"normal\": \"Xanthinuria\"}\n",
    "urineXAmapper = OptionColumnMapper(concept_recognizer=hpo_cr, \n",
    "                                   option_d=urine_xa_d, \n",
    "                                   excluded_d=urine_not_xa_d)\n",
    "urineXAmapper.preview_column(df_clinical['Urine XA NR: 0-0.46mmol/L or <40umol/mmolCr or <0.29XA/Cr'])\n",
    "column_mapper_d['Urine XA NR: 0-0.46mmol/L or <40umol/mmolCr or <0.29XA/Cr'] = urineXAmapper"
   ]
  },
  {
   "cell_type": "code",
   "execution_count": 20,
   "id": "daeec93a-df9d-41be-a64a-d5c7f1509972",
   "metadata": {},
   "outputs": [],
   "source": [
    "# 'Urine HypoXA NR: 0-0.18mmol/L or <8umol/mmolCr or <0.5HypoXA/Cr',\n",
    "# Increased urinary hypoxanthine level HP:0011814\n",
    "urine_hxa_d = {\n",
    "    '8umol/mmolCr': \"Increased urinary hypoxanthine level\",\n",
    "}\n",
    "urine_hxa_excluded_d = {\n",
    "    'normal': \"Increased urinary hypoxanthine level\",\n",
    "    '0.05mmol/L': \"Increased urinary hypoxanthine level\",\n",
    "    '0.0264HypoXA/Cr': \"Increased urinary hypoxanthine level\",\n",
    "}\n",
    "urineHXAmapper = OptionColumnMapper(concept_recognizer=hpo_cr, option_d=urine_hxa_d, excluded_d=urine_hxa_excluded_d)\n",
    "urineHXAmapper.preview_column(df_clinical['Urine HypoXA NR: 0-0.18mmol/L or <8umol/mmolCr or <0.5HypoXA/Cr'])\n",
    "column_mapper_d['Urine HypoXA NR: 0-0.18mmol/L or <8umol/mmolCr or <0.5HypoXA/Cr'] = urineHXAmapper"
   ]
  },
  {
   "cell_type": "code",
   "execution_count": 21,
   "id": "523a023f-cae7-4b04-b9cf-80520af4dc11",
   "metadata": {},
   "outputs": [
    {
     "data": {
      "text/plain": [
       "array(['n.a.', '0.14mmol/L', 'normal', '385umol/mmolCr', '21umol/mmolCr',\n",
       "       '430umol/mmolCr'], dtype=object)"
      ]
     },
     "execution_count": 21,
     "metadata": {},
     "output_type": "execute_result"
    }
   ],
   "source": [
    "# 'Urine UA NR: 0.44-4.50mmol/L or 50-980umol/mmolCr'\n",
    "# Hyperuricosuria HP:0003149\n",
    "# Decreased urinary urate HP:0011935\n",
    "# Abnormality of urinary uric acid level HP:0012610\n",
    "df_clinical['Urine UA NR: 0.44-4.50mmol/L or 50-980umol/mmolCr'].unique()"
   ]
  },
  {
   "cell_type": "code",
   "execution_count": 22,
   "id": "15700414-70dc-4fac-afb0-a1f4ba554866",
   "metadata": {},
   "outputs": [],
   "source": [
    "urine_ua_d = {'0.14mmol/L': \"Decreased urinary urate\",\n",
    "             '21umol/mmolCr': \"Decreased urinary urate\",}\n",
    "urine_ua_excluded_d = {'normal' : \"Abnormality of urinary uric acid level\",\n",
    "                      '385umol/mmolCr': \"Abnormality of urinary uric acid level\",\n",
    "                      '430umol/mmolCr': \"Abnormality of urinary uric acid level\",}\n",
    "urineUaMapper = OptionColumnMapper(concept_recognizer=hpo_cr,\n",
    "                                  option_d=urine_ua_d,\n",
    "                                  excluded_d=urine_ua_excluded_d)\n",
    "urineUaMapper.preview_column(df_clinical['Urine UA NR: 0.44-4.50mmol/L or 50-980umol/mmolCr'])\n",
    "column_mapper_d['Urine UA NR: 0.44-4.50mmol/L or 50-980umol/mmolCr'] = urineUaMapper"
   ]
  },
  {
   "cell_type": "markdown",
   "id": "7d3d623c-3e6f-427d-912a-541ea128435e",
   "metadata": {},
   "source": [
    "<H2>Putting it all together</H2>\n",
    "<p>First, let's create a new individual id column that shows the PMID</p>"
   ]
  },
  {
   "cell_type": "code",
   "execution_count": 23,
   "id": "85819512-1e08-4d6f-a235-2815e92b42de",
   "metadata": {},
   "outputs": [],
   "source": [
    "def get_individual_id(arr):\n",
    "    iid = arr.iloc[0]\n",
    "    pmid = arr.iloc[1]\n",
    "    if pmid == \"our patient\":\n",
    "        return \"individual_35_PMID_36303223\" # from current manuscript\n",
    "    else:\n",
    "        return f\"individual_{iid}_PMID_{pmid}\"\n",
    "df_clinical['individual_id'] = df_clinical[['Proband ID', 'Resource (PMID)']].apply(lambda x: get_individual_id(x), axis=1)"
   ]
  },
  {
   "cell_type": "code",
   "execution_count": 24,
   "id": "e25b9519-f015-4e72-9f06-dda3cff04385",
   "metadata": {},
   "outputs": [
    {
     "data": {
      "text/html": [
       "<div>\n",
       "<style scoped>\n",
       "    .dataframe tbody tr th:only-of-type {\n",
       "        vertical-align: middle;\n",
       "    }\n",
       "\n",
       "    .dataframe tbody tr th {\n",
       "        vertical-align: top;\n",
       "    }\n",
       "\n",
       "    .dataframe thead th {\n",
       "        text-align: right;\n",
       "    }\n",
       "</style>\n",
       "<table border=\"1\" class=\"dataframe\">\n",
       "  <thead>\n",
       "    <tr style=\"text-align: right;\">\n",
       "      <th></th>\n",
       "      <th>original column contents</th>\n",
       "      <th>age</th>\n",
       "    </tr>\n",
       "  </thead>\n",
       "  <tbody>\n",
       "    <tr>\n",
       "      <th>0</th>\n",
       "      <td>0</td>\n",
       "      <td>P0D</td>\n",
       "    </tr>\n",
       "    <tr>\n",
       "      <th>1</th>\n",
       "      <td>5</td>\n",
       "      <td>P5M</td>\n",
       "    </tr>\n",
       "    <tr>\n",
       "      <th>2</th>\n",
       "      <td>n.a.</td>\n",
       "      <td>NOT_PROVIDED</td>\n",
       "    </tr>\n",
       "    <tr>\n",
       "      <th>3</th>\n",
       "      <td>0.8</td>\n",
       "      <td>P24D</td>\n",
       "    </tr>\n",
       "    <tr>\n",
       "      <th>4</th>\n",
       "      <td>0.1</td>\n",
       "      <td>P3D</td>\n",
       "    </tr>\n",
       "    <tr>\n",
       "      <th>5</th>\n",
       "      <td>12</td>\n",
       "      <td>P1Y</td>\n",
       "    </tr>\n",
       "    <tr>\n",
       "      <th>6</th>\n",
       "      <td>0.5</td>\n",
       "      <td>P15D</td>\n",
       "    </tr>\n",
       "    <tr>\n",
       "      <th>7</th>\n",
       "      <td>1.3</td>\n",
       "      <td>P1M9D</td>\n",
       "    </tr>\n",
       "    <tr>\n",
       "      <th>8</th>\n",
       "      <td>0.7</td>\n",
       "      <td>P21D</td>\n",
       "    </tr>\n",
       "    <tr>\n",
       "      <th>9</th>\n",
       "      <td>16</td>\n",
       "      <td>P1Y4M</td>\n",
       "    </tr>\n",
       "    <tr>\n",
       "      <th>10</th>\n",
       "      <td>14</td>\n",
       "      <td>P1Y2M</td>\n",
       "    </tr>\n",
       "    <tr>\n",
       "      <th>11</th>\n",
       "      <td>0.2</td>\n",
       "      <td>P6D</td>\n",
       "    </tr>\n",
       "    <tr>\n",
       "      <th>12</th>\n",
       "      <td>9</td>\n",
       "      <td>P9M</td>\n",
       "    </tr>\n",
       "    <tr>\n",
       "      <th>13</th>\n",
       "      <td>23</td>\n",
       "      <td>P1Y11M</td>\n",
       "    </tr>\n",
       "  </tbody>\n",
       "</table>\n",
       "</div>"
      ],
      "text/plain": [
       "   original column contents           age\n",
       "0                         0           P0D\n",
       "1                         5           P5M\n",
       "2                      n.a.  NOT_PROVIDED\n",
       "3                       0.8          P24D\n",
       "4                       0.1           P3D\n",
       "5                        12           P1Y\n",
       "6                       0.5          P15D\n",
       "7                       1.3         P1M9D\n",
       "8                       0.7          P21D\n",
       "9                        16         P1Y4M\n",
       "10                       14         P1Y2M\n",
       "11                      0.2           P6D\n",
       "12                        9           P9M\n",
       "13                       23        P1Y11M"
      ]
     },
     "execution_count": 24,
     "metadata": {},
     "output_type": "execute_result"
    }
   ],
   "source": [
    "ageMapper = AgeColumnMapper.by_month(column_name=\"Age at onset (months)\")\n",
    "ageMapper.preview_column(df_clinical['Age at onset (months)'])"
   ]
  },
  {
   "cell_type": "code",
   "execution_count": 25,
   "id": "4623316f-eb64-443a-9dfc-6e93e16147ca",
   "metadata": {},
   "outputs": [],
   "source": [
    "sexMapper = SexColumnMapper(male_symbol='M', female_symbol='F', column_name='Gender', unknown_symbol='n.a.')\n",
    "#sexMapper.preview_column(df_clinical['Gender'])"
   ]
  },
  {
   "cell_type": "code",
   "execution_count": 26,
   "id": "49c57455-176b-49cc-8b20-ef5c4d9286c4",
   "metadata": {},
   "outputs": [],
   "source": [
    "individual_column_name = 'individual_id'\n",
    "\n",
    "encoder = CohortEncoder(df=df_clinical, \n",
    "                        hpo_cr=hpo_cr, \n",
    "                        column_mapper_d=column_mapper_d, \n",
    "                        individual_column_name=individual_column_name,\n",
    "                        agemapper=ageMapper, \n",
    "                        sexmapper=sexMapper,\n",
    "                        metadata=metadata)\n",
    "\n",
    "sod = Disease(disease_id='OMIM:272300', disease_label='Sulfite oxidase deficiency')\n",
    "encoder.set_disease(sod)"
   ]
  },
  {
   "cell_type": "code",
   "execution_count": 27,
   "id": "01873645-d89a-4b79-9467-bc9d5129114a",
   "metadata": {},
   "outputs": [],
   "source": [
    "individuals = encoder.get_individuals()"
   ]
  },
  {
   "cell_type": "code",
   "execution_count": 28,
   "id": "ba958cd8-ef94-4164-ab5d-eb0312dadfa2",
   "metadata": {},
   "outputs": [],
   "source": [
    "for indi in individuals:\n",
    "    # indi.id is something like individual_1_PMID_9050047\n",
    "    # however, above we have individual_1\n",
    "    fields = indi.id.split(\"_PMID\")\n",
    "    indi_id = fields[0]\n",
    "    var_list = patient_id_to_variant_list_d.get(indi_id)\n",
    "    if len(var_list) == 1:\n",
    "        homozygous_var = variant_d.get(var_list[0])\n",
    "        homozygous_var.set_homozygous()\n",
    "        indi.add_variant(homozygous_var)\n",
    "    elif len(var_list) == 2:\n",
    "        het_var_1 = variant_d.get(var_list[0])\n",
    "        het_var_2 = variant_d.get(var_list[1])\n",
    "        het_var_1.set_heterozygous()\n",
    "        het_var_2.set_heterozygous()\n",
    "        indi.add_variant(het_var_1)\n",
    "        indi.add_variant(het_var_2)\n",
    "    else:\n",
    "        raise ValueError(f\"Bad number of variants (should never happen)\")"
   ]
  },
  {
   "cell_type": "code",
   "execution_count": 29,
   "id": "a4156e99-31e7-46e0-954f-34d0fd833be8",
   "metadata": {},
   "outputs": [
    {
     "data": {
      "text/html": [
       "<h2>Cohort validation</h2>\n",
       "<p>Errors found with 35 of 35 phenopackets.</p>\n",
       "<table style=\"border: 2px solid black; align: \"left\">\n",
       "<caption>Error counts</caption>\n",
       "<tr><th style=\"text-align: left;font-weight: bold;\">Level</th><th style=\"text-align: left;font-weight: bold;\">Error category</th><th style=\"text-align: left;font-weight: bold;\">Count</th></tr>\n",
       "<tr><td style=\"text-align: left;\">INFORMATION</td><td style=\"text-align: left;\">NOT_MEASURED</td><td style=\"text-align: left;\">275</td></tr>\n",
       "</table>\n",
       "<p>A total of 275 issues were fixed and no individual was removed from the cohort.</p>"
      ],
      "text/plain": [
       "<IPython.core.display.HTML object>"
      ]
     },
     "metadata": {},
     "output_type": "display_data"
    }
   ],
   "source": [
    "cvalidator = CohortValidator(cohort=individuals, ontology=hpo_ontology, min_hpo=1, allelic_requirement=AllelicRequirement.BI_ALLELIC)\n",
    "qc = QcVisualizer(cohort_validator=cvalidator)\n",
    "display(HTML(qc.to_summary_html()))"
   ]
  },
  {
   "cell_type": "markdown",
   "id": "62a878f8-fd1b-4c50-b9b3-030f63e4ebcb",
   "metadata": {},
   "source": [
    "<H2>Visualization</H2>"
   ]
  },
  {
   "cell_type": "code",
   "execution_count": 30,
   "id": "b02274ab-961a-4099-ab52-7af2565dca52",
   "metadata": {},
   "outputs": [
    {
     "data": {
      "text/html": [
       "<table style=\"border: 2px solid black; align: \"left\">\n",
       "<caption>35 phenopackets - PMID:36303223 (n=35)</caption>\n",
       "<tr><th style=\"text-align: left;font-weight: bold;\">Individual</th><th style=\"text-align: left;font-weight: bold;\">Disease</th><th style=\"text-align: left;font-weight: bold;\">Genotype</th><th style=\"text-align: left;font-weight: bold;\">Phenotypic features</th></tr>\n",
       "<tr><td style=\"text-align: left;\">individual_1_PMID_9050047 (MALE; P0D)</td><td style=\"text-align: left;\">Sulfite oxidase deficiency (OMIM:272300)</td><td style=\"text-align: left;\">NM_001032386.2:c.433del (homozygous)</td><td style=\"text-align: left;\">Neurodevelopmental delay (HP:0012758); Seizure (HP:0001250); Abnormality of extrapyramidal motor function (HP:0002071); Hypertonia (HP:0001276); Hypotonia (HP:0001252); Microcephaly (HP:0000252); Ectopia lentis (HP:0001083); Hypertaurinemia (HP:0500181); Hypocystinemia (HP:0500152); excluded: Cognitive regression (HP:0034332); excluded: Increased urinary taurine (HP:0003166)</td></tr>\n",
       "<tr><td style=\"text-align: left;\">individual_2_PMID_9600976 (FEMALE; P5M)</td><td style=\"text-align: left;\">Sulfite oxidase deficiency (OMIM:272300)</td><td style=\"text-align: left;\">NM_001032386.2:c.650G>A (homozygous)</td><td style=\"text-align: left;\">Neurodevelopmental delay (HP:0012758); Seizure (HP:0001250); Abnormality of extrapyramidal motor function (HP:0002071); Hypertonia (HP:0001276); Hypotonia (HP:0001252); Ectopia lentis (HP:0001083); Decreased urinary urate (HP:0011935); excluded: Cognitive regression (HP:0034332); excluded: Xanthinuria (HP:0010934); excluded: Increased urinary hypoxanthine level (HP:0011814)</td></tr>\n",
       "<tr><td style=\"text-align: left;\">individual_3_PMID_10519592 (MALE; P0D)</td><td style=\"text-align: left;\">Sulfite oxidase deficiency (OMIM:272300)</td><td style=\"text-align: left;\"><ul> <li>NM_001032386.2:c.794C>A (heterozygous)</li> <li>NM_001032386.2:c.1280C>A (heterozygous)</li> </ul></td><td style=\"text-align: left;\">Seizure (HP:0001250); Abnormality of extrapyramidal motor function (HP:0002071); Hypertonia (HP:0001276); Ectopia lentis (HP:0001083); excluded: Neurodevelopmental delay (HP:0012758); excluded: Cognitive regression (HP:0034332); excluded: Hypotonia (HP:0001252); excluded: Microcephaly (HP:0000252); excluded: Xanthinuria (HP:0010934); excluded: Increased urinary hypoxanthine level (HP:0011814); excluded: Abnormality of urinary uric acid level (HP:0012610)</td></tr>\n",
       "<tr><td style=\"text-align: left;\">individual_4_PMID_12112661 (UNKNOWN; )</td><td style=\"text-align: left;\">Sulfite oxidase deficiency (OMIM:272300)</td><td style=\"text-align: left;\">NM_001032386.2:c.734_737del (homozygous)</td><td style=\"text-align: left;\">Seizure (HP:0001250)</td></tr>\n",
       "<tr><td style=\"text-align: left;\">individual_5_PMID_12112661 (UNKNOWN; )</td><td style=\"text-align: left;\">Sulfite oxidase deficiency (OMIM:272300)</td><td style=\"text-align: left;\"><ul> <li>NM_001032386.2:c.287dup (heterozygous)</li> <li>NM_001032386.2:c.1126C>T (heterozygous)</li> </ul></td><td style=\"text-align: left;\">Seizure (HP:0001250)</td></tr>\n",
       "<tr><td style=\"text-align: left;\">individual_6_PMID_12112661 (UNKNOWN; )</td><td style=\"text-align: left;\">Sulfite oxidase deficiency (OMIM:272300)</td><td style=\"text-align: left;\">NM_001032386.2:c.772A>C (homozygous)</td><td style=\"text-align: left;\">Seizure (HP:0001250)</td></tr>\n",
       "<tr><td style=\"text-align: left;\">individual_7_PMID_12112661 (UNKNOWN; )</td><td style=\"text-align: left;\">Sulfite oxidase deficiency (OMIM:272300)</td><td style=\"text-align: left;\">NM_001032386.2:c.803G>A (homozygous)</td><td style=\"text-align: left;\">Seizure (HP:0001250)</td></tr>\n",
       "<tr><td style=\"text-align: left;\">individual_8_PMID_12112661 (UNKNOWN; )</td><td style=\"text-align: left;\">Sulfite oxidase deficiency (OMIM:272300)</td><td style=\"text-align: left;\">NM_001032386.2:c.1200C>G (homozygous)</td><td style=\"text-align: left;\">Seizure (HP:0001250)</td></tr>\n",
       "<tr><td style=\"text-align: left;\">individual_9_PMID_12112661 (UNKNOWN; )</td><td style=\"text-align: left;\">Sulfite oxidase deficiency (OMIM:272300)</td><td style=\"text-align: left;\">NM_001032386.2:c.1261C>T (homozygous)</td><td style=\"text-align: left;\">Seizure (HP:0001250)</td></tr>\n",
       "<tr><td style=\"text-align: left;\">individual_10_PMID_12112661 (UNKNOWN; )</td><td style=\"text-align: left;\">Sulfite oxidase deficiency (OMIM:272300)</td><td style=\"text-align: left;\">NM_001032386.2:c.1084G>A (homozygous)</td><td style=\"text-align: left;\">Seizure (HP:0001250)</td></tr>\n",
       "<tr><td style=\"text-align: left;\">individual_11_PMID_12112661 (UNKNOWN; )</td><td style=\"text-align: left;\">Sulfite oxidase deficiency (OMIM:272300)</td><td style=\"text-align: left;\"><ul> <li>NM_001032386.2:c.1097G>A (heterozygous)</li> <li>NM_001032386.2:c.1187A>G (heterozygous)</li> </ul></td><td style=\"text-align: left;\">Seizure (HP:0001250)</td></tr>\n",
       "<tr><td style=\"text-align: left;\">individual_12_PMID_12112661 (UNKNOWN; )</td><td style=\"text-align: left;\">Sulfite oxidase deficiency (OMIM:272300)</td><td style=\"text-align: left;\">NM_001032386.2:c.1136A>G (homozygous)</td><td style=\"text-align: left;\">Seizure (HP:0001250)</td></tr>\n",
       "<tr><td style=\"text-align: left;\">individual_13_PMID_12112661 (UNKNOWN; )</td><td style=\"text-align: left;\">Sulfite oxidase deficiency (OMIM:272300)</td><td style=\"text-align: left;\">NM_001032386.2:c.1348T>C (homozygous)</td><td style=\"text-align: left;\">excluded: Seizure (HP:0001250)</td></tr>\n",
       "<tr><td style=\"text-align: left;\">individual_14_PMID_11825068 (FEMALE; P5M)</td><td style=\"text-align: left;\">Sulfite oxidase deficiency (OMIM:272300)</td><td style=\"text-align: left;\">NM_001032386.2:c.650G>A (homozygous)</td><td style=\"text-align: left;\">Cognitive regression (HP:0034332); Seizure (HP:0001250); Hypertonia (HP:0001276); Microcephaly (HP:0000252); Ectopia lentis (HP:0001083); Sulfocysteinuria (HP:0032350); Xanthinuria (HP:0010934); excluded: Neurodevelopmental delay (HP:0012758); excluded: Abnormality of extrapyramidal motor function (HP:0002071); excluded: Hypotonia (HP:0001252); excluded: Abnormality of urinary uric acid level (HP:0012610)</td></tr>\n",
       "<tr><td style=\"text-align: left;\">individual_15_PMID_12001203 (FEMALE; P0D)</td><td style=\"text-align: left;\">Sulfite oxidase deficiency (OMIM:272300)</td><td style=\"text-align: left;\">NM_001032386.2:c.400_403del (homozygous)</td><td style=\"text-align: left;\">Seizure (HP:0001250); Microcephaly (HP:0000252); excluded: Neurodevelopmental delay (HP:0012758); excluded: Cognitive regression (HP:0034332); excluded: Abnormality of extrapyramidal motor function (HP:0002071); excluded: Hypertonia (HP:0001276); excluded: Hypotonia (HP:0001252)</td></tr>\n",
       "<tr><td style=\"text-align: left;\">individual_16_PMID_12368985 (MALE; P24D)</td><td style=\"text-align: left;\">Sulfite oxidase deficiency (OMIM:272300)</td><td style=\"text-align: left;\"><ul> <li>NM_001032386.2:c.1200C>G (heterozygous)</li> <li>NM_001032386.2:c.650G>A (heterozygous)</li> </ul></td><td style=\"text-align: left;\">Seizure (HP:0001250); Hypertonia (HP:0001276); Hypotonia (HP:0001252); Microcephaly (HP:0000252); Ectopia lentis (HP:0001083); Sulfocysteinuria (HP:0032350); excluded: Neurodevelopmental delay (HP:0012758); excluded: Cognitive regression (HP:0034332); excluded: Abnormality of extrapyramidal motor function (HP:0002071); excluded: Hypouricemia (HP:0003537)</td></tr>\n",
       "<tr><td style=\"text-align: left;\">individual_17_PMID_15952210 (MALE; P3D)</td><td style=\"text-align: left;\">Sulfite oxidase deficiency (OMIM:272300)</td><td style=\"text-align: left;\">NM_001032386.2:c.520del (homozygous)</td><td style=\"text-align: left;\">Neurodevelopmental delay (HP:0012758); Seizure (HP:0001250); Hypertonia (HP:0001276); Hypotonia (HP:0001252); Microcephaly (HP:0000252); Hypouricemia (HP:0003537); Sulfocysteinuria (HP:0032350); Increased urinary hypoxanthine level (HP:0011814); Decreased urinary urate (HP:0011935); excluded: Cognitive regression (HP:0034332); excluded: Abnormality of extrapyramidal motor function (HP:0002071); excluded: Ectopia lentis (HP:0001083)</td></tr>\n",
       "<tr><td style=\"text-align: left;\">individual_18_PMID_23414711 (FEMALE; P1Y)</td><td style=\"text-align: left;\">Sulfite oxidase deficiency (OMIM:272300)</td><td style=\"text-align: left;\">NM_001032386.2:c.427C>A (homozygous)</td><td style=\"text-align: left;\">Neurodevelopmental delay (HP:0012758); Hypotonia (HP:0001252); Elevated circulating S-sulfocysteine concentration (HP:0034745); Hypocystinemia (HP:0500152); Sulfocysteinuria (HP:0032350); Increased urinary taurine (HP:0003166); excluded: Cognitive regression (HP:0034332); excluded: Seizure (HP:0001250); excluded: Abnormality of extrapyramidal motor function (HP:0002071); excluded: Hypertonia (HP:0001276); excluded: Ectopia lentis (HP:0001083); excluded: Hypertaurinemia (HP:0500181); excluded: Hyperhomocystinemia (HP:0002160)</td></tr>\n",
       "<tr><td style=\"text-align: left;\">individual_19_PMID_23452914 (FEMALE; P1Y)</td><td style=\"text-align: left;\">Sulfite oxidase deficiency (OMIM:272300)</td><td style=\"text-align: left;\">NM_001032386.2:c.182T>C (homozygous)</td><td style=\"text-align: left;\">Abnormality of extrapyramidal motor function (HP:0002071); Hypotonia (HP:0001252); Ectopia lentis (HP:0001083); Elevated circulating S-sulfocysteine concentration (HP:0034745); Hypocystinemia (HP:0500152); Sulfocysteinuria (HP:0032350); Increased urinary taurine (HP:0003166); excluded: Neurodevelopmental delay (HP:0012758); excluded: Cognitive regression (HP:0034332); excluded: Seizure (HP:0001250); excluded: Hypertonia (HP:0001276); excluded: Microcephaly (HP:0000252); excluded: Xanthinuria (HP:0010934); excluded: Increased urinary hypoxanthine level (HP:0011814)</td></tr>\n",
       "<tr><td style=\"text-align: left;\">individual_20_PMID_24938149 (FEMALE; P0D)</td><td style=\"text-align: left;\">Sulfite oxidase deficiency (OMIM:272300)</td><td style=\"text-align: left;\"><ul> <li>NM_001032386.2:c.1200C>G (heterozygous)</li> <li>NM_001032386.2:c.1355G>A (heterozygous)</li> </ul></td><td style=\"text-align: left;\">Seizure (HP:0001250); excluded: Neurodevelopmental delay (HP:0012758); excluded: Cognitive regression (HP:0034332); excluded: Abnormality of extrapyramidal motor function (HP:0002071); excluded: Hypertonia (HP:0001276); excluded: Hypotonia (HP:0001252); excluded: Hypouricemia (HP:0003537)</td></tr>\n",
       "<tr><td style=\"text-align: left;\">individual_21_PMID_27289259 (MALE; P15D)</td><td style=\"text-align: left;\">Sulfite oxidase deficiency (OMIM:272300)</td><td style=\"text-align: left;\">NM_001032386.2:c.884G>A (homozygous)</td><td style=\"text-align: left;\">Neurodevelopmental delay (HP:0012758); Seizure (HP:0001250); Abnormality of extrapyramidal motor function (HP:0002071); Hypertonia (HP:0001276); Hypotonia (HP:0001252); Microcephaly (HP:0000252); Hypouricemia (HP:0003537); Sulfocysteinuria (HP:0032350); Xanthinuria (HP:0010934); excluded: Cognitive regression (HP:0034332); excluded: Ectopia lentis (HP:0001083)</td></tr>\n",
       "<tr><td style=\"text-align: left;\">individual_22_PMID_27289259 (FEMALE; P1M9D)</td><td style=\"text-align: left;\">Sulfite oxidase deficiency (OMIM:272300)</td><td style=\"text-align: left;\">NM_001032386.2:c.884G>A (homozygous)</td><td style=\"text-align: left;\">Neurodevelopmental delay (HP:0012758); Seizure (HP:0001250); Abnormality of extrapyramidal motor function (HP:0002071); Hypertonia (HP:0001276); Hypotonia (HP:0001252); Microcephaly (HP:0000252); Hypouricemia (HP:0003537); Sulfocysteinuria (HP:0032350); excluded: Cognitive regression (HP:0034332); excluded: Ectopia lentis (HP:0001083); excluded: Xanthinuria (HP:0010934)</td></tr>\n",
       "<tr><td style=\"text-align: left;\">individual_23_PMID_28725568 (MALE; P21D)</td><td style=\"text-align: left;\">Sulfite oxidase deficiency (OMIM:272300)</td><td style=\"text-align: left;\"><ul> <li>NM_001032386.2:c.352C>T (heterozygous)</li> <li>NM_001032386.2:c.649C>G (heterozygous)</li> </ul></td><td style=\"text-align: left;\">Seizure (HP:0001250); Microcephaly (HP:0000252); Hypocystinemia (HP:0500152); Hypouricemia (HP:0003537); Sulfocysteinuria (HP:0032350); Increased urinary taurine (HP:0003166); excluded: Neurodevelopmental delay (HP:0012758); excluded: Cognitive regression (HP:0034332); excluded: Abnormality of extrapyramidal motor function (HP:0002071); excluded: Hyperhomocystinemia (HP:0002160)</td></tr>\n",
       "<tr><td style=\"text-align: left;\">individual_24_PMID_28629418 (FEMALE; P0D)</td><td style=\"text-align: left;\">Sulfite oxidase deficiency (OMIM:272300)</td><td style=\"text-align: left;\">NM_001032386.2:c.1200C>G (homozygous)</td><td style=\"text-align: left;\">Seizure (HP:0001250); Hypertonia (HP:0001276); Microcephaly (HP:0000252); Hypocystinemia (HP:0500152); excluded: Neurodevelopmental delay (HP:0012758); excluded: Cognitive regression (HP:0034332); excluded: Abnormality of extrapyramidal motor function (HP:0002071); excluded: Hypotonia (HP:0001252); excluded: Ectopia lentis (HP:0001083); excluded: Hypouricemia (HP:0003537)</td></tr>\n",
       "<tr><td style=\"text-align: left;\">individual_25_PMID_31870341 (MALE; P1Y)</td><td style=\"text-align: left;\">Sulfite oxidase deficiency (OMIM:272300)</td><td style=\"text-align: left;\"><ul> <li>NM_001032386.2:c.1096C>T (heterozygous)</li> <li>NM_001032386.2:c.1376G>A (heterozygous)</li> </ul></td><td style=\"text-align: left;\">Cognitive regression (HP:0034332); Abnormality of extrapyramidal motor function (HP:0002071); Hypertonia (HP:0001276); Hypotonia (HP:0001252); excluded: Neurodevelopmental delay (HP:0012758); excluded: Seizure (HP:0001250); excluded: Microcephaly (HP:0000252); excluded: Ectopia lentis (HP:0001083); excluded: Hyperhomocystinemia (HP:0002160); excluded: Hypouricemia (HP:0003537)</td></tr>\n",
       "<tr><td style=\"text-align: left;\">individual_26_PMID_31870341 (MALE; P1Y4M)</td><td style=\"text-align: left;\">Sulfite oxidase deficiency (OMIM:272300)</td><td style=\"text-align: left;\"><ul> <li>NM_001032386.2:c.1096C>T (heterozygous)</li> <li>NM_001032386.2:c.1376G>A (heterozygous)</li> </ul></td><td style=\"text-align: left;\">Cognitive regression (HP:0034332); Abnormality of extrapyramidal motor function (HP:0002071); Hypotonia (HP:0001252); excluded: Neurodevelopmental delay (HP:0012758); excluded: Seizure (HP:0001250); excluded: Hypertonia (HP:0001276); excluded: Microcephaly (HP:0000252); excluded: Ectopia lentis (HP:0001083); excluded: Hyperhomocystinemia (HP:0002160); excluded: Hypouricemia (HP:0003537)</td></tr>\n",
       "<tr><td style=\"text-align: left;\">individual_27_PMID_31870341 (FEMALE; P1Y2M)</td><td style=\"text-align: left;\">Sulfite oxidase deficiency (OMIM:272300)</td><td style=\"text-align: left;\"><ul> <li>NM_001032386.2:c.1096C>T (heterozygous)</li> <li>NM_001032386.2:c.1376G>A (heterozygous)</li> </ul></td><td style=\"text-align: left;\">Cognitive regression (HP:0034332); Seizure (HP:0001250); Abnormality of extrapyramidal motor function (HP:0002071); Hypotonia (HP:0001252); excluded: Neurodevelopmental delay (HP:0012758); excluded: Hypertonia (HP:0001276); excluded: Microcephaly (HP:0000252); excluded: Ectopia lentis (HP:0001083); excluded: Hyperhomocystinemia (HP:0002160); excluded: Hypouricemia (HP:0003537)</td></tr>\n",
       "<tr><td style=\"text-align: left;\">individual_28_PMID_33335014 (FEMALE; P0D)</td><td style=\"text-align: left;\">Sulfite oxidase deficiency (OMIM:272300)</td><td style=\"text-align: left;\">NM_001032386.2:c.1521_1524del (homozygous)</td><td style=\"text-align: left;\">Neurodevelopmental delay (HP:0012758); Seizure (HP:0001250); Hypertonia (HP:0001276); Hypocystinemia (HP:0500152); Hypouricemia (HP:0003537); excluded: Cognitive regression (HP:0034332); excluded: Abnormality of extrapyramidal motor function (HP:0002071); excluded: Hypotonia (HP:0001252); excluded: Microcephaly (HP:0000252); excluded: Xanthinuria (HP:0010934); excluded: Increased urinary hypoxanthine level (HP:0011814)</td></tr>\n",
       "<tr><td style=\"text-align: left;\">individual_29_PMID_33335014 (MALE; P6D)</td><td style=\"text-align: left;\">Sulfite oxidase deficiency (OMIM:272300)</td><td style=\"text-align: left;\">NM_001032386.2:c.1521_1524del (homozygous)</td><td style=\"text-align: left;\">Neurodevelopmental delay (HP:0012758); Seizure (HP:0001250); Hypotonia (HP:0001252); Hypocystinemia (HP:0500152); Hypouricemia (HP:0003537); Sulfocysteinuria (HP:0032350); excluded: Cognitive regression (HP:0034332); excluded: Abnormality of extrapyramidal motor function (HP:0002071); excluded: Hypertonia (HP:0001276); excluded: Microcephaly (HP:0000252); excluded: Xanthinuria (HP:0010934); excluded: Increased urinary hypoxanthine level (HP:0011814)</td></tr>\n",
       "<tr><td style=\"text-align: left;\">individual_30_PMID_31806255 (MALE; P9M)</td><td style=\"text-align: left;\">Sulfite oxidase deficiency (OMIM:272300)</td><td style=\"text-align: left;\">NM_001032386.2:c.1382A>T (homozygous)</td><td style=\"text-align: left;\">Cognitive regression (HP:0034332); Abnormality of extrapyramidal motor function (HP:0002071); Hypotonia (HP:0001252); Sulfocysteinuria (HP:0032350); Increased urinary taurine (HP:0003166); excluded: Neurodevelopmental delay (HP:0012758); excluded: Seizure (HP:0001250); excluded: Hypertonia (HP:0001276); excluded: Microcephaly (HP:0000252); excluded: Ectopia lentis (HP:0001083); excluded: Hyperhomocystinemia (HP:0002160); excluded: Hypouricemia (HP:0003537); excluded: Xanthinuria (HP:0010934); excluded: Increased urinary hypoxanthine level (HP:0011814); excluded: Abnormality of urinary uric acid level (HP:0012610)</td></tr>\n",
       "<tr><td style=\"text-align: left;\">individual_31_PMID_31806255 (MALE; P1Y11M)</td><td style=\"text-align: left;\">Sulfite oxidase deficiency (OMIM:272300)</td><td style=\"text-align: left;\">NM_001032386.2:c.1382A>T (homozygous)</td><td style=\"text-align: left;\">Cognitive regression (HP:0034332); Seizure (HP:0001250); Hypotonia (HP:0001252); Sulfocysteinuria (HP:0032350); Increased urinary taurine (HP:0003166); excluded: Neurodevelopmental delay (HP:0012758); excluded: Abnormality of extrapyramidal motor function (HP:0002071); excluded: Hypertonia (HP:0001276); excluded: Microcephaly (HP:0000252); excluded: Ectopia lentis (HP:0001083); excluded: Hyperhomocystinemia (HP:0002160); excluded: Xanthinuria (HP:0010934); excluded: Increased urinary hypoxanthine level (HP:0011814); excluded: Abnormality of urinary uric acid level (HP:0012610)</td></tr>\n",
       "<tr><td style=\"text-align: left;\">individual_32_PMID_34025712 (MALE; P15D)</td><td style=\"text-align: left;\">Sulfite oxidase deficiency (OMIM:272300)</td><td style=\"text-align: left;\"><ul> <li>NM_001032386.2:c.475G>T (heterozygous)</li> <li>NM_001032386.2:c.1201A>G (heterozygous)</li> </ul></td><td style=\"text-align: left;\">Seizure (HP:0001250); Hypotonia (HP:0001252); Microcephaly (HP:0000252); Sulfocysteinuria (HP:0032350); excluded: Neurodevelopmental delay (HP:0012758); excluded: Cognitive regression (HP:0034332); excluded: Abnormality of extrapyramidal motor function (HP:0002071); excluded: Hypertonia (HP:0001276); excluded: Ectopia lentis (HP:0001083); excluded: Hyperhomocystinemia (HP:0002160); excluded: Hypouricemia (HP:0003537)</td></tr>\n",
       "<tr><td style=\"text-align: left;\">individual_33_PMID_33405344 (FEMALE; P0D)</td><td style=\"text-align: left;\">Sulfite oxidase deficiency (OMIM:272300)</td><td style=\"text-align: left;\"><ul> <li>NM_001032386.2:c.1200C>G (heterozygous)</li> <li>NM_001032386.2:c.1549_1574dup (heterozygous)</li> </ul></td><td style=\"text-align: left;\">Seizure (HP:0001250); Abnormality of extrapyramidal motor function (HP:0002071); Hypouricemia (HP:0003537); excluded: Neurodevelopmental delay (HP:0012758); excluded: Cognitive regression (HP:0034332); excluded: Microcephaly (HP:0000252); excluded: Hyperhomocystinemia (HP:0002160)</td></tr>\n",
       "<tr><td style=\"text-align: left;\">individual_34_PMID_33405344 (MALE; P3D)</td><td style=\"text-align: left;\">Sulfite oxidase deficiency (OMIM:272300)</td><td style=\"text-align: left;\"><ul> <li>NM_001032386.2:c.1200C>G (heterozygous)</li> <li>NM_001032386.2:c.1549_1574dup (heterozygous)</li> </ul></td><td style=\"text-align: left;\">Seizure (HP:0001250); excluded: Neurodevelopmental delay (HP:0012758); excluded: Cognitive regression (HP:0034332); excluded: Abnormality of extrapyramidal motor function (HP:0002071); excluded: Hypertonia (HP:0001276); excluded: Hypotonia (HP:0001252)</td></tr>\n",
       "<tr><td style=\"text-align: left;\">individual_35_PMID_36303223 (MALE; )</td><td style=\"text-align: left;\">Sulfite oxidase deficiency (OMIM:272300)</td><td style=\"text-align: left;\"><ul> <li>NM_001032386.2:c.205G>C (heterozygous)</li> <li>NM_001032386.2:c.1200C>G (heterozygous)</li> </ul></td><td style=\"text-align: left;\">Ectopia lentis (HP:0001083); Sulfocysteinuria (HP:0032350); excluded: Neurodevelopmental delay (HP:0012758); excluded: Cognitive regression (HP:0034332); excluded: Seizure (HP:0001250); excluded: Abnormality of extrapyramidal motor function (HP:0002071); excluded: Hypertonia (HP:0001276); excluded: Hypotonia (HP:0001252); excluded: Microcephaly (HP:0000252); excluded: Hyperhomocystinemia (HP:0002160); excluded: Xanthinuria (HP:0010934); excluded: Increased urinary hypoxanthine level (HP:0011814); excluded: Abnormality of urinary uric acid level (HP:0012610)</td></tr>\n",
       "</table>"
      ],
      "text/plain": [
       "<IPython.core.display.HTML object>"
      ]
     },
     "metadata": {},
     "output_type": "display_data"
    }
   ],
   "source": [
    "table = PhenopacketTable(individual_list=individuals, metadata=metadata)\n",
    "display(HTML(table.to_html()))"
   ]
  },
  {
   "cell_type": "code",
   "execution_count": 31,
   "id": "76bc37f6-cfbb-47bc-835a-194b76173f36",
   "metadata": {},
   "outputs": [
    {
     "name": "stdout",
     "output_type": "stream",
     "text": [
      "We output 35 GA4GH phenopackets to the directory phenopackets\n"
     ]
    }
   ],
   "source": [
    "Individual.output_individuals_as_phenopackets(individual_list=individuals, \n",
    "                                              metadata=metadata)"
   ]
  },
  {
   "cell_type": "markdown",
   "id": "67e8b1cb-2984-4adc-ba71-461bdac6984f",
   "metadata": {},
   "source": [
    "<H2>Validation</H2>"
   ]
  },
  {
   "cell_type": "markdown",
   "id": "81fca3b3-bdee-4b60-a363-2d58634fdafc",
   "metadata": {},
   "source": [
    "<p>Also validated with phenopacket-tools</p>\n",
    "<pre>pxf validate --hpo hp.json *.json</pre>\n",
    "<p>No errors found</p>"
   ]
  },
  {
   "cell_type": "code",
   "execution_count": null,
   "id": "1ff3e9f9-9cec-4760-a078-2d990e17b53c",
   "metadata": {},
   "outputs": [],
   "source": []
  }
 ],
 "metadata": {
  "kernelspec": {
   "display_name": "pstore_env",
   "language": "python",
   "name": "pstore_env"
  },
  "language_info": {
   "codemirror_mode": {
    "name": "ipython",
    "version": 3
   },
   "file_extension": ".py",
   "mimetype": "text/x-python",
   "name": "python",
   "nbconvert_exporter": "python",
   "pygments_lexer": "ipython3",
   "version": "3.11.3"
  }
 },
 "nbformat": 4,
 "nbformat_minor": 5
}
