{
 "cells": [
  {
   "cell_type": "markdown",
   "id": "86f91a2c-88ad-44b9-8c00-919378cce84a",
   "metadata": {},
   "source": [
    "# TBX1 cohort\n",
    "\n",
    "Variants in [TBX1](https://omim.org/entry/602054) are associated with the following diseases\n",
    "\n",
    "- [Conotruncal anomaly face syndrome](https://omim.org/entry/217095)\n",
    "- [DiGeorge syndrome](https://omim.org/entry/188400)\n",
    "- [Tetralogy of Fallot](https://omim.org/entry/187500)\n",
    "- [Velocardiofacial syndrome](https://omim.org/entry/192430)\n",
    "\n",
    "We have assigned the individuals to the diagnosis that best fit the clinical description if the authors did not specifically state the disease diagnosis (for instance, [Ogata et al](https://pubmed.ncbi.nlm.nih.gov/24637876/) described the diagnosis as \"22q11.2 Deletion Syndrome-Like Craniofacial Features and Hypocalcemia\")"
   ]
  },
  {
   "cell_type": "code",
   "execution_count": 1,
   "id": "7c1b5a44",
   "metadata": {},
   "outputs": [
    {
     "name": "stdout",
     "output_type": "stream",
     "text": [
      "Using pyphetools version 0.9.54\n"
     ]
    }
   ],
   "source": [
    "import pyphetools\n",
    "print(f\"Using pyphetools version {pyphetools.__version__}\")"
   ]
  },
  {
   "cell_type": "code",
   "execution_count": 2,
   "id": "9694ec46-07fb-4f68-8a04-d071c7dbd55f",
   "metadata": {},
   "outputs": [],
   "source": [
    "import pandas as pd\n",
    "from IPython.display import display, HTML\n",
    "pd.set_option('display.max_colwidth', None) # show entire column contents, important!\n",
    "from collections import defaultdict\n",
    "from pyphetools.creation import *\n",
    "from pyphetools.visualization import *\n",
    "from pyphetools.validation import *"
   ]
  },
  {
   "cell_type": "code",
   "execution_count": 3,
   "id": "3db3ffa7-45c1-4896-bf12-2f5b157fb413",
   "metadata": {},
   "outputs": [
    {
     "name": "stdout",
     "output_type": "stream",
     "text": [
      "HPO version 2024-02-08\n"
     ]
    }
   ],
   "source": [
    "parser = HpoParser(hpo_json_file=\"../phenopackets/hp.json\")\n",
    "hpo_cr = parser.get_hpo_concept_recognizer()\n",
    "hpo_version = parser.get_version()\n",
    "hpo_ontology = parser.get_ontology()\n",
    "created_by=\"ORCID:0000-0002-1526-4557\"\n",
    "print(f\"HPO version {hpo_version}\")"
   ]
  },
  {
   "cell_type": "code",
   "execution_count": 22,
   "id": "f7ef3292-e14f-4bbc-94e9-3783f00822c0",
   "metadata": {},
   "outputs": [
    {
     "data": {
      "text/html": [
       "<div>\n",
       "<style scoped>\n",
       "    .dataframe tbody tr th:only-of-type {\n",
       "        vertical-align: middle;\n",
       "    }\n",
       "\n",
       "    .dataframe tbody tr th {\n",
       "        vertical-align: top;\n",
       "    }\n",
       "\n",
       "    .dataframe thead th {\n",
       "        text-align: right;\n",
       "    }\n",
       "</style>\n",
       "<table border=\"1\" class=\"dataframe\">\n",
       "  <thead>\n",
       "    <tr style=\"text-align: right;\">\n",
       "      <th></th>\n",
       "      <th>PMID</th>\n",
       "      <th>title</th>\n",
       "      <th>individual_id</th>\n",
       "      <th>comment</th>\n",
       "      <th>disease_id</th>\n",
       "      <th>disease_label</th>\n",
       "      <th>transcript</th>\n",
       "      <th>allele_1</th>\n",
       "      <th>variant.comment</th>\n",
       "      <th>age_of_onset</th>\n",
       "      <th>...</th>\n",
       "      <th>Abnormality of the cardiovascular system</th>\n",
       "      <th>Hypoparathyroidism</th>\n",
       "      <th>Aplasia/Hypoplasia of the thymus</th>\n",
       "      <th>T lymphocytopenia</th>\n",
       "      <th>Global developmental delay</th>\n",
       "      <th>Sensorineural hearing impairment</th>\n",
       "      <th>Polydactyly</th>\n",
       "      <th>Syndactyly</th>\n",
       "      <th>Short stature</th>\n",
       "      <th>Graves disease</th>\n",
       "    </tr>\n",
       "  </thead>\n",
       "  <tbody>\n",
       "    <tr>\n",
       "      <th>0</th>\n",
       "      <td>str</td>\n",
       "      <td>str</td>\n",
       "      <td>str</td>\n",
       "      <td>optional str</td>\n",
       "      <td>str</td>\n",
       "      <td>str</td>\n",
       "      <td>str</td>\n",
       "      <td>str</td>\n",
       "      <td>optional str</td>\n",
       "      <td>ISO8601</td>\n",
       "      <td>...</td>\n",
       "      <td>HP:0001626</td>\n",
       "      <td>HP:0000829</td>\n",
       "      <td>HP:0010515</td>\n",
       "      <td>HP:0005403</td>\n",
       "      <td>HP:0001263</td>\n",
       "      <td>HP:0000407</td>\n",
       "      <td>HP:0010442</td>\n",
       "      <td>HP:0001159</td>\n",
       "      <td>HP:0004322</td>\n",
       "      <td>HP:0100647</td>\n",
       "    </tr>\n",
       "    <tr>\n",
       "      <th>1</th>\n",
       "      <td>PMID:24637876</td>\n",
       "      <td>TBX1 Mutation Identified by Exome Sequencing in a Japanese Family with 22q11.2 Deletion Syndrome-Like Craniofacial Features and Hypocalcemia</td>\n",
       "      <td>II-2</td>\n",
       "      <td>NaN</td>\n",
       "      <td>OMIM:188400</td>\n",
       "      <td>DiGeorge syndrome</td>\n",
       "      <td>NM_001379200.1</td>\n",
       "      <td>c.1280del</td>\n",
       "      <td>p.(Tyr418PhefsTer42)</td>\n",
       "      <td>na</td>\n",
       "      <td>...</td>\n",
       "      <td>excluded</td>\n",
       "      <td>observed</td>\n",
       "      <td>excluded</td>\n",
       "      <td>na</td>\n",
       "      <td>observed</td>\n",
       "      <td>observed</td>\n",
       "      <td>excluded</td>\n",
       "      <td>na</td>\n",
       "      <td>na</td>\n",
       "      <td>excluded</td>\n",
       "    </tr>\n",
       "  </tbody>\n",
       "</table>\n",
       "<p>2 rows × 39 columns</p>\n",
       "</div>"
      ],
      "text/plain": [
       "            PMID  \\\n",
       "0            str   \n",
       "1  PMID:24637876   \n",
       "\n",
       "                                                                                                                                          title  \\\n",
       "0                                                                                                                                           str   \n",
       "1  TBX1 Mutation Identified by Exome Sequencing in a Japanese Family with 22q11.2 Deletion Syndrome-Like Craniofacial Features and Hypocalcemia   \n",
       "\n",
       "  individual_id       comment   disease_id      disease_label      transcript  \\\n",
       "0           str  optional str          str                str             str   \n",
       "1          II-2           NaN  OMIM:188400  DiGeorge syndrome  NM_001379200.1   \n",
       "\n",
       "    allele_1       variant.comment age_of_onset  ...  \\\n",
       "0        str          optional str      ISO8601  ...   \n",
       "1  c.1280del  p.(Tyr418PhefsTer42)           na  ...   \n",
       "\n",
       "  Abnormality of the cardiovascular system Hypoparathyroidism  \\\n",
       "0                               HP:0001626         HP:0000829   \n",
       "1                                 excluded           observed   \n",
       "\n",
       "  Aplasia/Hypoplasia of the thymus T lymphocytopenia  \\\n",
       "0                       HP:0010515        HP:0005403   \n",
       "1                         excluded                na   \n",
       "\n",
       "  Global developmental delay Sensorineural hearing impairment Polydactyly  \\\n",
       "0                 HP:0001263                       HP:0000407  HP:0010442   \n",
       "1                   observed                         observed    excluded   \n",
       "\n",
       "   Syndactyly Short stature Graves disease  \n",
       "0  HP:0001159    HP:0004322     HP:0100647  \n",
       "1          na            na       excluded  \n",
       "\n",
       "[2 rows x 39 columns]"
      ]
     },
     "execution_count": 22,
     "metadata": {},
     "output_type": "execute_result"
    }
   ],
   "source": [
    "df = pd.read_excel(\"../phenopackets/TBX1_individuals.xlsx\")\n",
    "df.head(2)"
   ]
  },
  {
   "cell_type": "code",
   "execution_count": 23,
   "id": "0bd5c6a0-e6f6-45b3-867d-d01bc8e857cc",
   "metadata": {},
   "outputs": [
    {
     "name": "stdout",
     "output_type": "stream",
     "text": [
      "Created encoders for 39 fields\n"
     ]
    }
   ],
   "source": [
    "encoder = CaseTemplateEncoder(df=df, hpo_cr=hpo_cr, created_by=created_by)\n",
    "individuals = encoder.get_individuals()"
   ]
  },
  {
   "cell_type": "code",
   "execution_count": 25,
   "id": "451daa2c-396f-4b95-8bb0-7dbc77d342c7",
   "metadata": {},
   "outputs": [],
   "source": [
    "## TODO UPDATE TO MANE transcript NM_001379200.1\n",
    "\n",
    "TBX1_transcript = \"NM_001379200.1\" \n",
    "vmanager = VariantManager(df=df,\n",
    "                          individual_column_name=\"individual_id\",\n",
    "                          gene_symbol=\"TBX1\",\n",
    "                          transcript=TBX1_transcript,\n",
    "                          allele_1_column_name=\"allele_1\")"
   ]
  },
  {
   "cell_type": "code",
   "execution_count": 26,
   "id": "b1f1c0ba-a168-4882-8088-a9bd73f1e854",
   "metadata": {},
   "outputs": [
    {
     "data": {
      "text/html": [
       "<div>\n",
       "<style scoped>\n",
       "    .dataframe tbody tr th:only-of-type {\n",
       "        vertical-align: middle;\n",
       "    }\n",
       "\n",
       "    .dataframe tbody tr th {\n",
       "        vertical-align: top;\n",
       "    }\n",
       "\n",
       "    .dataframe thead th {\n",
       "        text-align: right;\n",
       "    }\n",
       "</style>\n",
       "<table border=\"1\" class=\"dataframe\">\n",
       "  <thead>\n",
       "    <tr style=\"text-align: right;\">\n",
       "      <th></th>\n",
       "      <th>status</th>\n",
       "      <th>count</th>\n",
       "      <th>alleles</th>\n",
       "    </tr>\n",
       "  </thead>\n",
       "  <tbody>\n",
       "    <tr>\n",
       "      <th>0</th>\n",
       "      <td>mapped</td>\n",
       "      <td>25</td>\n",
       "      <td>c.1299_1321del, c.1253del, c.146_202del, c.1274_1281del, c.582C&gt;G, c.1223del, c.1399_1428dup, c.1009+1G&gt;C, c.928G&gt;A, c.967_977dup, c.1158_1159delinsT, c.1293_1315del, c.443T&gt;A, c.1250del, c.609C&gt;G, c.173_229del, c.1301_1308del, c.1280del, c.470T&gt;A, c.955G&gt;A, c.994_1004dup, c.1426_1455dup, c.1326_1348del, c.1036+1G&gt;C, c.1185_1186delinsT</td>\n",
       "    </tr>\n",
       "    <tr>\n",
       "      <th>1</th>\n",
       "      <td>unmapped</td>\n",
       "      <td>0</td>\n",
       "      <td></td>\n",
       "    </tr>\n",
       "  </tbody>\n",
       "</table>\n",
       "</div>"
      ],
      "text/plain": [
       "     status  count  \\\n",
       "0    mapped     25   \n",
       "1  unmapped      0   \n",
       "\n",
       "                                                                                                                                                                                                                                                                                                                                             alleles  \n",
       "0  c.1299_1321del, c.1253del, c.146_202del, c.1274_1281del, c.582C>G, c.1223del, c.1399_1428dup, c.1009+1G>C, c.928G>A, c.967_977dup, c.1158_1159delinsT, c.1293_1315del, c.443T>A, c.1250del, c.609C>G, c.173_229del, c.1301_1308del, c.1280del, c.470T>A, c.955G>A, c.994_1004dup, c.1426_1455dup, c.1326_1348del, c.1036+1G>C, c.1185_1186delinsT  \n",
       "1                                                                                                                                                                                                                                                                                                                                                     "
      ]
     },
     "execution_count": 26,
     "metadata": {},
     "output_type": "execute_result"
    }
   ],
   "source": [
    "vmanager.to_summary()"
   ]
  },
  {
   "cell_type": "code",
   "execution_count": 27,
   "id": "8d657e39-7eff-4d15-ae77-5c682891632b",
   "metadata": {},
   "outputs": [],
   "source": [
    "vmanager.add_variants_to_individuals(individuals)"
   ]
  },
  {
   "cell_type": "code",
   "execution_count": 28,
   "id": "2c07cea2-ed65-45db-b957-a8d1edf868f8",
   "metadata": {
    "scrolled": true
   },
   "outputs": [
    {
     "data": {
      "text/html": [
       "<h2>Cohort validation</h2>\n",
       "<p>Errors found with 21 of 26 phenopackets.</p>\n",
       "<table style=\"border: 2px solid black; align: \"left\">\n",
       "<caption>Error counts</caption>\n",
       "<tr><th style=\"text-align: left;font-weight: bold;\">Level</th><th style=\"text-align: left;font-weight: bold;\">Error category</th><th style=\"text-align: left;font-weight: bold;\">Count</th></tr>\n",
       "<tr><td style=\"text-align: left;\">WARNING</td><td style=\"text-align: left;\">REDUNDANT</td><td style=\"text-align: left;\">38</td></tr>\n",
       "</table>\n",
       "<p>A total of 38 issues were fixed and no individual was removed from the cohort.</p>"
      ],
      "text/plain": [
       "<IPython.core.display.HTML object>"
      ]
     },
     "metadata": {},
     "output_type": "display_data"
    }
   ],
   "source": [
    "cvalidator = CohortValidator(cohort=individuals, ontology=hpo_ontology, min_hpo=1,\n",
    "                                allelic_requirement=AllelicRequirement.MONO_ALLELIC)\n",
    "qc = QcVisualizer(cohort_validator=cvalidator)\n",
    "display(HTML(qc.to_summary_html()))"
   ]
  },
  {
   "cell_type": "code",
   "execution_count": 29,
   "id": "f370c528-97d5-4848-92fa-3754ff31b3cb",
   "metadata": {},
   "outputs": [
    {
     "data": {
      "text/html": [
       "<table style=\"border: 2px solid black; align: \"left\">\n",
       "<caption>26 phenopackets - PMID:24637876 (n=5); PMID:11748311 (n=1); PMID:16684884 (n=3); PMID:19948535 (n=1); PMID:20937753 (n=1); PMID:14585638 (n=5); PMID:17273972 (n=2); PMID:30083032 (n=1); PMID:32110744 (n=4); PMID:30137364 (n=3)</caption>\n",
       "<tr><th style=\"text-align: left;font-weight: bold;\">Individual</th><th style=\"text-align: left;font-weight: bold;\">Disease</th><th style=\"text-align: left;font-weight: bold;\">Genotype</th><th style=\"text-align: left;font-weight: bold;\">Phenotypic features</th></tr>\n",
       "<tr><td style=\"text-align: left;\">II-2 (FEMALE; P51Y)</td><td style=\"text-align: left;\">DiGeorge syndrome (OMIM:188400)</td><td style=\"text-align: left;\">NM_001379200.1:c.1280del (heterozygous)</td><td style=\"text-align: left;\">Hypertelorism (HP:0000316); Blepharophimosis (HP:0000581); Low-set ears (HP:0000369); Narrow nose (HP:0000460); Micrognathia (HP:0000347); Abnormal facial shape (HP:0001999); Velopharyngeal insufficiency (HP:0000220); Hypoparathyroidism (HP:0000829); Global developmental delay (HP:0001263); Sensorineural hearing impairment (HP:0000407); excluded: Cleft palate (HP:0000175); excluded: Tetralogy of Fallot (HP:0001636); excluded: Pulmonary valve atresia (HP:0010882); excluded: Atrial septal defect (HP:0001631); excluded: Aortopulmonary collateral arteries (HP:0031834); excluded: Interrupted aortic arch type B (HP:0011613); excluded: Right aortic arch (HP:0012020); excluded: Ventricular septal defect (HP:0001629); excluded: Aplasia/Hypoplasia of the thymus (HP:0010515); excluded: Polydactyly (HP:0010442); excluded: Graves disease (HP:0100647)</td></tr>\n",
       "<tr><td style=\"text-align: left;\">III-1 (FEMALE; P26Y)</td><td style=\"text-align: left;\">DiGeorge syndrome (OMIM:188400)</td><td style=\"text-align: left;\">NM_001379200.1:c.1280del (heterozygous)</td><td style=\"text-align: left;\">Hypertelorism (HP:0000316); Blepharophimosis (HP:0000581); Low-set ears (HP:0000369); Narrow nose (HP:0000460); Micrognathia (HP:0000347); Abnormal facial shape (HP:0001999); Velopharyngeal insufficiency (HP:0000220); Global developmental delay (HP:0001263); excluded: Cleft palate (HP:0000175); excluded: Tetralogy of Fallot (HP:0001636); excluded: Pulmonary valve atresia (HP:0010882); excluded: Atrial septal defect (HP:0001631); excluded: Aortopulmonary collateral arteries (HP:0031834); excluded: Interrupted aortic arch type B (HP:0011613); excluded: Right aortic arch (HP:0012020); excluded: Ventricular septal defect (HP:0001629); excluded: Hypoparathyroidism (HP:0000829); excluded: Sensorineural hearing impairment (HP:0000407); excluded: Polydactyly (HP:0010442); excluded: Graves disease (HP:0100647)</td></tr>\n",
       "<tr><td style=\"text-align: left;\">III-5 (MALE; P19Y)</td><td style=\"text-align: left;\">DiGeorge syndrome (OMIM:188400)</td><td style=\"text-align: left;\">NM_001379200.1:c.1280del (heterozygous)</td><td style=\"text-align: left;\">Hypertelorism (HP:0000316); Blepharophimosis (HP:0000581); Low-set ears (HP:0000369); Narrow nose (HP:0000460); Micrognathia (HP:0000347); Abnormal facial shape (HP:0001999); Velopharyngeal insufficiency (HP:0000220); Hypoparathyroidism (HP:0000829); Global developmental delay (HP:0001263); Graves disease (HP:0100647); excluded: Cleft palate (HP:0000175); excluded: Tetralogy of Fallot (HP:0001636); excluded: Pulmonary valve atresia (HP:0010882); excluded: Atrial septal defect (HP:0001631); excluded: Aortopulmonary collateral arteries (HP:0031834); excluded: Interrupted aortic arch type B (HP:0011613); excluded: Right aortic arch (HP:0012020); excluded: Ventricular septal defect (HP:0001629); excluded: Sensorineural hearing impairment (HP:0000407); excluded: Polydactyly (HP:0010442)</td></tr>\n",
       "<tr><td style=\"text-align: left;\">III-6 (FEMALE; P13Y)</td><td style=\"text-align: left;\">DiGeorge syndrome (OMIM:188400)</td><td style=\"text-align: left;\">NM_001379200.1:c.1280del (heterozygous)</td><td style=\"text-align: left;\">Hypertelorism (HP:0000316); Blepharophimosis (HP:0000581); Low-set ears (HP:0000369); Narrow nose (HP:0000460); Micrognathia (HP:0000347); Abnormal facial shape (HP:0001999); Velopharyngeal insufficiency (HP:0000220); Global developmental delay (HP:0001263); excluded: Cleft palate (HP:0000175); excluded: Tetralogy of Fallot (HP:0001636); excluded: Pulmonary valve atresia (HP:0010882); excluded: Atrial septal defect (HP:0001631); excluded: Aortopulmonary collateral arteries (HP:0031834); excluded: Interrupted aortic arch type B (HP:0011613); excluded: Right aortic arch (HP:0012020); excluded: Ventricular septal defect (HP:0001629); excluded: Hypoparathyroidism (HP:0000829); excluded: Sensorineural hearing impairment (HP:0000407); excluded: Polydactyly (HP:0010442); excluded: Graves disease (HP:0100647)</td></tr>\n",
       "<tr><td style=\"text-align: left;\">III-7 (MALE; P10Y)</td><td style=\"text-align: left;\">DiGeorge syndrome (OMIM:188400)</td><td style=\"text-align: left;\">NM_001379200.1:c.1280del (heterozygous)</td><td style=\"text-align: left;\">Hypertelorism (HP:0000316); Blepharophimosis (HP:0000581); Low-set ears (HP:0000369); Narrow nose (HP:0000460); Micrognathia (HP:0000347); Abnormal facial shape (HP:0001999); Velopharyngeal insufficiency (HP:0000220); Hypoparathyroidism (HP:0000829); Global developmental delay (HP:0001263); excluded: Cleft palate (HP:0000175); excluded: Tetralogy of Fallot (HP:0001636); excluded: Pulmonary valve atresia (HP:0010882); excluded: Atrial septal defect (HP:0001631); excluded: Aortopulmonary collateral arteries (HP:0031834); excluded: Interrupted aortic arch type B (HP:0011613); excluded: Right aortic arch (HP:0012020); excluded: Ventricular septal defect (HP:0001629); excluded: Sensorineural hearing impairment (HP:0000407); excluded: Polydactyly (HP:0010442); excluded: Graves disease (HP:0100647)</td></tr>\n",
       "<tr><td style=\"text-align: left;\">p13 (UNKNOWN; )</td><td style=\"text-align: left;\">DiGeorge syndrome (OMIM:188400)</td><td style=\"text-align: left;\">NM_001379200.1:c.1301_1308del (heterozygous)</td><td style=\"text-align: left;\">Abnormal facial shape (HP:0001999); Velopharyngeal insufficiency (HP:0000220); Hypoparathyroidism (HP:0000829); Aplasia/Hypoplasia of the thymus (HP:0010515); T lymphocytopenia (HP:0005403); Global developmental delay (HP:0001263); excluded: Polydactyly (HP:0010442)</td></tr>\n",
       "<tr><td style=\"text-align: left;\">V39/02 (FEMALE; P42Y)</td><td style=\"text-align: left;\">DiGeorge syndrome (OMIM:188400)</td><td style=\"text-align: left;\">NM_001379200.1:c.1326_1348del (heterozygous)</td><td style=\"text-align: left;\">Abnormal facial shape (HP:0001999); Velopharyngeal insufficiency (HP:0000220); excluded: Tetralogy of Fallot (HP:0001636); excluded: Pulmonary valve atresia (HP:0010882); excluded: Atrial septal defect (HP:0001631); excluded: Aortopulmonary collateral arteries (HP:0031834); excluded: Interrupted aortic arch type B (HP:0011613); excluded: Right aortic arch (HP:0012020); excluded: Ventricular septal defect (HP:0001629); excluded: Global developmental delay (HP:0001263); excluded: Polydactyly (HP:0010442)</td></tr>\n",
       "<tr><td style=\"text-align: left;\">V39/04 (MALE; P17Y)</td><td style=\"text-align: left;\">DiGeorge syndrome (OMIM:188400)</td><td style=\"text-align: left;\">NM_001379200.1:c.1326_1348del (heterozygous)</td><td style=\"text-align: left;\">Abnormal facial shape (HP:0001999); Velopharyngeal insufficiency (HP:0000220); Abnormality of the cardiovascular system (HP:0001626); excluded: Global developmental delay (HP:0001263); excluded: Polydactyly (HP:0010442)</td></tr>\n",
       "<tr><td style=\"text-align: left;\">V39/03 (MALE; P13Y)</td><td style=\"text-align: left;\">DiGeorge syndrome (OMIM:188400)</td><td style=\"text-align: left;\">NM_001379200.1:c.1326_1348del (heterozygous)</td><td style=\"text-align: left;\">Abnormal facial shape (HP:0001999); Velopharyngeal insufficiency (HP:0000220); Abnormality of the cardiovascular system (HP:0001626); excluded: Global developmental delay (HP:0001263); excluded: Polydactyly (HP:0010442)</td></tr>\n",
       "<tr><td style=\"text-align: left;\">- (FEMALE; P20Y)</td><td style=\"text-align: left;\">DiGeorge syndrome (OMIM:188400)</td><td style=\"text-align: left;\">NM_001379200.1:c.1426_1455dup (heterozygous)</td><td style=\"text-align: left;\">Abnormality of the cardiovascular system (HP:0001626); Syndactyly (HP:0001159); Short stature (HP:0004322); excluded: Hypertelorism (HP:0000316); excluded: Blepharophimosis (HP:0000581); excluded: Low-set ears (HP:0000369); excluded: Narrow nose (HP:0000460); excluded: Micrognathia (HP:0000347); excluded: Abnormal facial shape (HP:0001999); excluded: Global developmental delay (HP:0001263); excluded: Polydactyly (HP:0010442)</td></tr>\n",
       "<tr><td style=\"text-align: left;\">- (MALE; )</td><td style=\"text-align: left;\">DiGeorge syndrome (OMIM:188400)</td><td style=\"text-align: left;\">NM_001379200.1:c.173_229del (heterozygous)</td><td style=\"text-align: left;\">Abnormality of the cardiovascular system (HP:0001626)</td></tr>\n",
       "<tr><td style=\"text-align: left;\">F1 (FEMALE; P7Y)</td><td style=\"text-align: left;\">DiGeorge syndrome (OMIM:188400)</td><td style=\"text-align: left;\">NM_001379200.1:c.470T>A (heterozygous)</td><td style=\"text-align: left;\">Hypertelorism (HP:0000316); Blepharophimosis (HP:0000581); Low-set ears (HP:0000369); Micrognathia (HP:0000347); Abnormal facial shape (HP:0001999); Velopharyngeal insufficiency (HP:0000220); Tetralogy of Fallot (HP:0001636); Pulmonary valve atresia (HP:0010882); Atrial septal defect (HP:0001631); Aortopulmonary collateral arteries (HP:0031834); excluded: Cleft palate (HP:0000175); excluded: Interrupted aortic arch type B (HP:0011613); excluded: Right aortic arch (HP:0012020); excluded: Ventricular septal defect (HP:0001629); excluded: Hypoparathyroidism (HP:0000829); excluded: Aplasia/Hypoplasia of the thymus (HP:0010515); excluded: Global developmental delay (HP:0001263); excluded: Short stature (HP:0004322)</td></tr>\n",
       "<tr><td style=\"text-align: left;\">F2 (MALE; P13Y)</td><td style=\"text-align: left;\">DiGeorge syndrome (OMIM:188400)</td><td style=\"text-align: left;\">NM_001379200.1:c.955G>A (heterozygous)</td><td style=\"text-align: left;\">Hypertelorism (HP:0000316); Blepharophimosis (HP:0000581); Low-set ears (HP:0000369); Micrognathia (HP:0000347); Abnormal facial shape (HP:0001999); Velopharyngeal insufficiency (HP:0000220); Interrupted aortic arch type B (HP:0011613); Ventricular septal defect (HP:0001629); Hypoparathyroidism (HP:0000829); Aplasia/Hypoplasia of the thymus (HP:0010515); Sensorineural hearing impairment (HP:0000407); excluded: Tetralogy of Fallot (HP:0001636); excluded: Pulmonary valve atresia (HP:0010882); excluded: Atrial septal defect (HP:0001631); excluded: Aortopulmonary collateral arteries (HP:0031834); excluded: Right aortic arch (HP:0012020); excluded: Global developmental delay (HP:0001263); excluded: Polydactyly (HP:0010442); excluded: Short stature (HP:0004322)</td></tr>\n",
       "<tr><td style=\"text-align: left;\">F3-1 (FEMALE; P15Y)</td><td style=\"text-align: left;\">DiGeorge syndrome (OMIM:188400)</td><td style=\"text-align: left;\">NM_001379200.1:c.1250del (heterozygous)</td><td style=\"text-align: left;\">Hypertelorism (HP:0000316); Abnormal facial shape (HP:0001999); Tetralogy of Fallot (HP:0001636); Right aortic arch (HP:0012020); Aplasia/Hypoplasia of the thymus (HP:0010515); excluded: Blepharophimosis (HP:0000581); excluded: Low-set ears (HP:0000369); excluded: Micrognathia (HP:0000347); excluded: Velopharyngeal insufficiency (HP:0000220); excluded: Pulmonary valve atresia (HP:0010882); excluded: Atrial septal defect (HP:0001631); excluded: Aortopulmonary collateral arteries (HP:0031834); excluded: Interrupted aortic arch type B (HP:0011613); excluded: Ventricular septal defect (HP:0001629); excluded: Hypoparathyroidism (HP:0000829); excluded: Global developmental delay (HP:0001263); excluded: Polydactyly (HP:0010442)</td></tr>\n",
       "<tr><td style=\"text-align: left;\">F3-2 (FEMALE; P46Y)</td><td style=\"text-align: left;\">DiGeorge syndrome (OMIM:188400)</td><td style=\"text-align: left;\">NM_001379200.1:c.1250del (heterozygous)</td><td style=\"text-align: left;\">Hypertelorism (HP:0000316); Abnormal facial shape (HP:0001999); Velopharyngeal insufficiency (HP:0000220); excluded: Blepharophimosis (HP:0000581); excluded: Low-set ears (HP:0000369); excluded: Micrognathia (HP:0000347); excluded: Tetralogy of Fallot (HP:0001636); excluded: Pulmonary valve atresia (HP:0010882); excluded: Atrial septal defect (HP:0001631); excluded: Aortopulmonary collateral arteries (HP:0031834); excluded: Interrupted aortic arch type B (HP:0011613); excluded: Right aortic arch (HP:0012020); excluded: Ventricular septal defect (HP:0001629); excluded: Hypoparathyroidism (HP:0000829); excluded: Global developmental delay (HP:0001263); excluded: Polydactyly (HP:0010442)</td></tr>\n",
       "<tr><td style=\"text-align: left;\">F3-3 (MALE; P14Y)</td><td style=\"text-align: left;\">DiGeorge syndrome (OMIM:188400)</td><td style=\"text-align: left;\">NM_001379200.1:c.1250del (heterozygous)</td><td style=\"text-align: left;\">Hypertelorism (HP:0000316); Low-set ears (HP:0000369); Abnormal facial shape (HP:0001999); Velopharyngeal insufficiency (HP:0000220); Hypoparathyroidism (HP:0000829); excluded: Blepharophimosis (HP:0000581); excluded: Micrognathia (HP:0000347); excluded: Tetralogy of Fallot (HP:0001636); excluded: Pulmonary valve atresia (HP:0010882); excluded: Atrial septal defect (HP:0001631); excluded: Aortopulmonary collateral arteries (HP:0031834); excluded: Interrupted aortic arch type B (HP:0011613); excluded: Right aortic arch (HP:0012020); excluded: Ventricular septal defect (HP:0001629); excluded: Aplasia/Hypoplasia of the thymus (HP:0010515); excluded: Global developmental delay (HP:0001263); excluded: Polydactyly (HP:0010442)</td></tr>\n",
       "<tr><td style=\"text-align: left;\">patient (MALE; P4Y)</td><td style=\"text-align: left;\">DiGeorge syndrome (OMIM:188400)</td><td style=\"text-align: left;\">NM_001379200.1:c.609C>G (heterozygous)</td><td style=\"text-align: left;\">Blepharophimosis (HP:0000581); Low-set ears (HP:0000369); Micrognathia (HP:0000347); Abnormal facial shape (HP:0001999); Global developmental delay (HP:0001263); Short stature (HP:0004322); excluded: Cleft palate (HP:0000175); excluded: Velopharyngeal insufficiency (HP:0000220); excluded: Tetralogy of Fallot (HP:0001636); excluded: Pulmonary valve atresia (HP:0010882); excluded: Atrial septal defect (HP:0001631); excluded: Aortopulmonary collateral arteries (HP:0031834); excluded: Interrupted aortic arch type B (HP:0011613); excluded: Right aortic arch (HP:0012020); excluded: Ventricular septal defect (HP:0001629); excluded: Hypoparathyroidism (HP:0000829)</td></tr>\n",
       "<tr><td style=\"text-align: left;\">father (MALE; )</td><td style=\"text-align: left;\">DiGeorge syndrome (OMIM:188400)</td><td style=\"text-align: left;\">NM_001379200.1:c.609C>G (heterozygous)</td><td style=\"text-align: left;\">Blepharophimosis (HP:0000581); Low-set ears (HP:0000369); Micrognathia (HP:0000347); Abnormal facial shape (HP:0001999); Short stature (HP:0004322); excluded: Cleft palate (HP:0000175); excluded: Velopharyngeal insufficiency (HP:0000220); excluded: Tetralogy of Fallot (HP:0001636); excluded: Pulmonary valve atresia (HP:0010882); excluded: Atrial septal defect (HP:0001631); excluded: Aortopulmonary collateral arteries (HP:0031834); excluded: Interrupted aortic arch type B (HP:0011613); excluded: Right aortic arch (HP:0012020); excluded: Ventricular septal defect (HP:0001629); excluded: Hypoparathyroidism (HP:0000829); excluded: Global developmental delay (HP:0001263)</td></tr>\n",
       "<tr><td style=\"text-align: left;\">- (MALE; P9Y)</td><td style=\"text-align: left;\">DiGeorge syndrome (OMIM:188400)</td><td style=\"text-align: left;\">NM_001379200.1:c.994_1004dup (heterozygous)</td><td style=\"text-align: left;\">Hypoparathyroidism (HP:0000829); Aplasia/Hypoplasia of the thymus (HP:0010515); Polydactyly (HP:0010442); excluded: Hypertelorism (HP:0000316); excluded: Blepharophimosis (HP:0000581); excluded: Low-set ears (HP:0000369); excluded: Narrow nose (HP:0000460); excluded: Cleft palate (HP:0000175); excluded: Micrognathia (HP:0000347); excluded: Abnormal facial shape (HP:0001999); excluded: Velopharyngeal insufficiency (HP:0000220); excluded: Tetralogy of Fallot (HP:0001636); excluded: Pulmonary valve atresia (HP:0010882); excluded: Atrial septal defect (HP:0001631); excluded: Aortopulmonary collateral arteries (HP:0031834); excluded: Interrupted aortic arch type B (HP:0011613); excluded: Right aortic arch (HP:0012020); excluded: Ventricular septal defect (HP:0001629); excluded: Global developmental delay (HP:0001263); excluded: Sensorineural hearing impairment (HP:0000407); excluded: Syndactyly (HP:0001159); excluded: Short stature (HP:0004322); excluded: Graves disease (HP:0100647)</td></tr>\n",
       "<tr><td style=\"text-align: left;\">III-C (MALE; P7Y)</td><td style=\"text-align: left;\">DiGeorge syndrome (OMIM:188400)</td><td style=\"text-align: left;\">NM_001379200.1:c.1185_1186delinsT (heterozygous)</td><td style=\"text-align: left;\">Hypertelorism (HP:0000316); Low-set ears (HP:0000369); Micrognathia (HP:0000347); Abnormal facial shape (HP:0001999); Hypoparathyroidism (HP:0000829); Sensorineural hearing impairment (HP:0000407); excluded: Blepharophimosis (HP:0000581); excluded: Narrow nose (HP:0000460); excluded: Cleft palate (HP:0000175); excluded: Velopharyngeal insufficiency (HP:0000220); excluded: Tetralogy of Fallot (HP:0001636); excluded: Pulmonary valve atresia (HP:0010882); excluded: Atrial septal defect (HP:0001631); excluded: Aortopulmonary collateral arteries (HP:0031834); excluded: Interrupted aortic arch type B (HP:0011613); excluded: Right aortic arch (HP:0012020); excluded: Ventricular septal defect (HP:0001629); excluded: T lymphocytopenia (HP:0005403); excluded: Global developmental delay (HP:0001263); excluded: Polydactyly (HP:0010442); excluded: Syndactyly (HP:0001159); excluded: Short stature (HP:0004322); excluded: Graves disease (HP:0100647)</td></tr>\n",
       "<tr><td style=\"text-align: left;\">III-B (MALE; P14Y)</td><td style=\"text-align: left;\">DiGeorge syndrome (OMIM:188400)</td><td style=\"text-align: left;\">NM_001379200.1:c.1185_1186delinsT (heterozygous)</td><td style=\"text-align: left;\">Hypertelorism (HP:0000316); Low-set ears (HP:0000369); Micrognathia (HP:0000347); Abnormal facial shape (HP:0001999); Hypoparathyroidism (HP:0000829); Global developmental delay (HP:0001263); Sensorineural hearing impairment (HP:0000407); excluded: Blepharophimosis (HP:0000581); excluded: Narrow nose (HP:0000460); excluded: Cleft palate (HP:0000175); excluded: Velopharyngeal insufficiency (HP:0000220); excluded: Tetralogy of Fallot (HP:0001636); excluded: Pulmonary valve atresia (HP:0010882); excluded: Atrial septal defect (HP:0001631); excluded: Aortopulmonary collateral arteries (HP:0031834); excluded: Interrupted aortic arch type B (HP:0011613); excluded: Right aortic arch (HP:0012020); excluded: Ventricular septal defect (HP:0001629); excluded: T lymphocytopenia (HP:0005403); excluded: Polydactyly (HP:0010442); excluded: Syndactyly (HP:0001159); excluded: Short stature (HP:0004322); excluded: Graves disease (HP:0100647)</td></tr>\n",
       "<tr><td style=\"text-align: left;\">III-A (FEMALE; P16Y)</td><td style=\"text-align: left;\">DiGeorge syndrome (OMIM:188400)</td><td style=\"text-align: left;\">NM_001379200.1:c.1185_1186delinsT (heterozygous)</td><td style=\"text-align: left;\">Abnormal facial shape (HP:0001999); Hypoparathyroidism (HP:0000829); Sensorineural hearing impairment (HP:0000407); Short stature (HP:0004322); excluded: Hypertelorism (HP:0000316); excluded: Blepharophimosis (HP:0000581); excluded: Low-set ears (HP:0000369); excluded: Narrow nose (HP:0000460); excluded: Cleft palate (HP:0000175); excluded: Micrognathia (HP:0000347); excluded: Velopharyngeal insufficiency (HP:0000220); excluded: Tetralogy of Fallot (HP:0001636); excluded: Pulmonary valve atresia (HP:0010882); excluded: Atrial septal defect (HP:0001631); excluded: Aortopulmonary collateral arteries (HP:0031834); excluded: Interrupted aortic arch type B (HP:0011613); excluded: Right aortic arch (HP:0012020); excluded: Ventricular septal defect (HP:0001629); excluded: Global developmental delay (HP:0001263); excluded: Polydactyly (HP:0010442); excluded: Syndactyly (HP:0001159); excluded: Graves disease (HP:0100647)</td></tr>\n",
       "<tr><td style=\"text-align: left;\">II-C (MALE; P39Y)</td><td style=\"text-align: left;\">DiGeorge syndrome (OMIM:188400)</td><td style=\"text-align: left;\">NM_001379200.1:c.1185_1186delinsT (heterozygous)</td><td style=\"text-align: left;\">Low-set ears (HP:0000369); Abnormal facial shape (HP:0001999); Hypoparathyroidism (HP:0000829); Short stature (HP:0004322); excluded: Blepharophimosis (HP:0000581); excluded: Narrow nose (HP:0000460); excluded: Cleft palate (HP:0000175); excluded: Micrognathia (HP:0000347); excluded: Velopharyngeal insufficiency (HP:0000220); excluded: Tetralogy of Fallot (HP:0001636); excluded: Pulmonary valve atresia (HP:0010882); excluded: Atrial septal defect (HP:0001631); excluded: Aortopulmonary collateral arteries (HP:0031834); excluded: Interrupted aortic arch type B (HP:0011613); excluded: Right aortic arch (HP:0012020); excluded: Ventricular septal defect (HP:0001629); excluded: Global developmental delay (HP:0001263); excluded: Sensorineural hearing impairment (HP:0000407); excluded: Polydactyly (HP:0010442); excluded: Syndactyly (HP:0001159); excluded: Graves disease (HP:0100647)</td></tr>\n",
       "<tr><td style=\"text-align: left;\">A-II-4 (MALE; P69Y)</td><td style=\"text-align: left;\">DiGeorge syndrome (OMIM:188400)</td><td style=\"text-align: left;\">NM_001379200.1:c.1036+1G>C (heterozygous)</td><td style=\"text-align: left;\">Hypoparathyroidism (HP:0000829); excluded: Abnormal facial shape (HP:0001999); excluded: Velopharyngeal insufficiency (HP:0000220); excluded: Abnormality of the cardiovascular system (HP:0001626); excluded: T lymphocytopenia (HP:0005403); excluded: Global developmental delay (HP:0001263); excluded: Sensorineural hearing impairment (HP:0000407)</td></tr>\n",
       "<tr><td style=\"text-align: left;\">B-III-1 (MALE; )</td><td style=\"text-align: left;\">DiGeorge syndrome (OMIM:188400)</td><td style=\"text-align: left;\">NM_001379200.1:c.1036+1G>C (heterozygous)</td><td style=\"text-align: left;\">Hypoparathyroidism (HP:0000829); Aplasia/Hypoplasia of the thymus (HP:0010515); T lymphocytopenia (HP:0005403); excluded: Abnormal facial shape (HP:0001999); excluded: Velopharyngeal insufficiency (HP:0000220); excluded: Global developmental delay (HP:0001263); excluded: Sensorineural hearing impairment (HP:0000407)</td></tr>\n",
       "<tr><td style=\"text-align: left;\">B-II-2 (FEMALE; )</td><td style=\"text-align: left;\">DiGeorge syndrome (OMIM:188400)</td><td style=\"text-align: left;\">NM_001379200.1:c.1036+1G>C (heterozygous)</td><td style=\"text-align: left;\">Hypoparathyroidism (HP:0000829); excluded: Abnormal facial shape (HP:0001999); excluded: Velopharyngeal insufficiency (HP:0000220); excluded: Abnormality of the cardiovascular system (HP:0001626); excluded: T lymphocytopenia (HP:0005403); excluded: Global developmental delay (HP:0001263); excluded: Sensorineural hearing impairment (HP:0000407)</td></tr>\n",
       "</table>"
      ],
      "text/plain": [
       "<IPython.core.display.HTML object>"
      ]
     },
     "metadata": {},
     "output_type": "display_data"
    }
   ],
   "source": [
    "individuals = cvalidator.get_error_free_individual_list()\n",
    "table = IndividualTable(individuals)\n",
    "display(HTML(table.to_html()))"
   ]
  },
  {
   "cell_type": "code",
   "execution_count": 30,
   "id": "fada7041-0663-4f1c-844b-f6f5162da3fb",
   "metadata": {},
   "outputs": [
    {
     "name": "stdout",
     "output_type": "stream",
     "text": [
      "We output 26 GA4GH phenopackets to the directory phenopackets\n"
     ]
    }
   ],
   "source": [
    "# when we are finished, output phenopackets\n",
    "encoder.output_individuals_as_phenopackets(individual_list=individuals)\n",
    "# Also, when we are finished, update HPOA annotations for HPO website (see https://monarch-initiative.github.io/pyphetools/developers/hpoa_editing/)"
   ]
  },
  {
   "cell_type": "code",
   "execution_count": null,
   "id": "3203b713-be96-41c4-8f65-06b22699fa23",
   "metadata": {},
   "outputs": [],
   "source": []
  }
 ],
 "metadata": {
  "kernelspec": {
   "display_name": "Python 3 (ipykernel)",
   "language": "python",
   "name": "python3"
  },
  "language_info": {
   "codemirror_mode": {
    "name": "ipython",
    "version": 3
   },
   "file_extension": ".py",
   "mimetype": "text/x-python",
   "name": "python",
   "nbconvert_exporter": "python",
   "pygments_lexer": "ipython3",
   "version": "3.12.0"
  }
 },
 "nbformat": 4,
 "nbformat_minor": 5
}
