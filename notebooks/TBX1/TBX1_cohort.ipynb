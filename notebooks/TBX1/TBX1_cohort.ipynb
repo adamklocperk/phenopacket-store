{
 "cells": [
  {
   "cell_type": "markdown",
   "id": "86f91a2c-88ad-44b9-8c00-919378cce84a",
   "metadata": {},
   "source": [
    "# TBX1 cohort\n",
    "\n",
    "Variants in [TBX1](https://omim.org/entry/602054) are associated with the following diseases\n",
    "\n",
    "- [Conotruncal anomaly face syndrome](https://omim.org/entry/217095)\n",
    "- [DiGeorge syndrome](https://omim.org/entry/188400)\n",
    "- [Tetralogy of Fallot](https://omim.org/entry/187500)\n",
    "- [Velocardiofacial syndrome](https://omim.org/entry/192430)\n",
    "\n",
    "We have assigned the individuals to the diagnosis that best fit the clinical description if the authors did not specifically state the disease diagnosis (for instance, [Ogata et al](https://pubmed.ncbi.nlm.nih.gov/24637876/) described the diagnosis as \"22q11.2 Deletion Syndrome-Like Craniofacial Features and Hypocalcemia\")"
   ]
  },
  {
   "cell_type": "code",
   "execution_count": 1,
   "id": "9694ec46-07fb-4f68-8a04-d071c7dbd55f",
   "metadata": {},
   "outputs": [
    {
     "name": "stdout",
     "output_type": "stream",
     "text": [
      "Using pyphetools version 0.9.49\n"
     ]
    }
   ],
   "source": [
    "import pandas as pd\n",
    "from IPython.display import display, HTML\n",
    "pd.set_option('display.max_colwidth', None) # show entire column contents, important!\n",
    "from collections import defaultdict\n",
    "from pyphetools.creation import *\n",
    "from pyphetools.visualization import *\n",
    "from pyphetools.validation import *\n",
    "import pyphetools\n",
    "print(f\"Using pyphetools version {pyphetools.__version__}\")"
   ]
  },
  {
   "cell_type": "code",
   "execution_count": 2,
   "id": "3db3ffa7-45c1-4896-bf12-2f5b157fb413",
   "metadata": {},
   "outputs": [
    {
     "name": "stdout",
     "output_type": "stream",
     "text": [
      "HPO version 2024-02-08\n"
     ]
    }
   ],
   "source": [
    "parser = HpoParser(hpo_json_file=\"../phenopackets/hp.json\")\n",
    "hpo_cr = parser.get_hpo_concept_recognizer()\n",
    "hpo_version = parser.get_version()\n",
    "hpo_ontology = parser.get_ontology()\n",
    "created_by=\"ORCID:0000-0002-1526-4557\"\n",
    "print(f\"HPO version {hpo_version}\")"
   ]
  },
  {
   "cell_type": "code",
   "execution_count": 3,
   "id": "f7ef3292-e14f-4bbc-94e9-3783f00822c0",
   "metadata": {},
   "outputs": [
    {
     "data": {
      "text/html": [
       "<div>\n",
       "<style scoped>\n",
       "    .dataframe tbody tr th:only-of-type {\n",
       "        vertical-align: middle;\n",
       "    }\n",
       "\n",
       "    .dataframe tbody tr th {\n",
       "        vertical-align: top;\n",
       "    }\n",
       "\n",
       "    .dataframe thead th {\n",
       "        text-align: right;\n",
       "    }\n",
       "</style>\n",
       "<table border=\"1\" class=\"dataframe\">\n",
       "  <thead>\n",
       "    <tr style=\"text-align: right;\">\n",
       "      <th></th>\n",
       "      <th>PMID</th>\n",
       "      <th>title</th>\n",
       "      <th>individual_id</th>\n",
       "      <th>comment</th>\n",
       "      <th>disease_id</th>\n",
       "      <th>disease_label</th>\n",
       "      <th>transcript</th>\n",
       "      <th>allele_1</th>\n",
       "      <th>variant.comment</th>\n",
       "      <th>age_of_onset</th>\n",
       "      <th>...</th>\n",
       "      <th>Abnormality of the cardiovascular system</th>\n",
       "      <th>Hypoparathyroidism</th>\n",
       "      <th>Aplasia/Hypoplasia of the thymus</th>\n",
       "      <th>T lymphocytopenia</th>\n",
       "      <th>Global developmental delay</th>\n",
       "      <th>Sensorineural hearing impairment</th>\n",
       "      <th>Polydactyly</th>\n",
       "      <th>Syndactyly</th>\n",
       "      <th>Short stature</th>\n",
       "      <th>Graves disease</th>\n",
       "    </tr>\n",
       "  </thead>\n",
       "  <tbody>\n",
       "    <tr>\n",
       "      <th>0</th>\n",
       "      <td>str</td>\n",
       "      <td>str</td>\n",
       "      <td>str</td>\n",
       "      <td>optional str</td>\n",
       "      <td>str</td>\n",
       "      <td>str</td>\n",
       "      <td>str</td>\n",
       "      <td>str</td>\n",
       "      <td>optional str</td>\n",
       "      <td>ISO8601</td>\n",
       "      <td>...</td>\n",
       "      <td>HP:0001626</td>\n",
       "      <td>HP:0000829</td>\n",
       "      <td>HP:0010515</td>\n",
       "      <td>HP:0005403</td>\n",
       "      <td>HP:0001263</td>\n",
       "      <td>HP:0000407</td>\n",
       "      <td>HP:0010442</td>\n",
       "      <td>HP:0001159</td>\n",
       "      <td>HP:0004322</td>\n",
       "      <td>HP:0100647</td>\n",
       "    </tr>\n",
       "    <tr>\n",
       "      <th>1</th>\n",
       "      <td>PMID:24637876</td>\n",
       "      <td>TBX1 Mutation Identified by Exome Sequencing in a Japanese Family with 22q11.2 Deletion Syndrome-Like Craniofacial Features and Hypocalcemia</td>\n",
       "      <td>II-2</td>\n",
       "      <td>NaN</td>\n",
       "      <td>OMIM:188400</td>\n",
       "      <td>DiGeorge syndrome</td>\n",
       "      <td>NM_080647.1</td>\n",
       "      <td>c.1253del</td>\n",
       "      <td>p.(Tyr418PhefsTer42)</td>\n",
       "      <td>na</td>\n",
       "      <td>...</td>\n",
       "      <td>excluded</td>\n",
       "      <td>observed</td>\n",
       "      <td>excluded</td>\n",
       "      <td>na</td>\n",
       "      <td>observed</td>\n",
       "      <td>observed</td>\n",
       "      <td>excluded</td>\n",
       "      <td>na</td>\n",
       "      <td>na</td>\n",
       "      <td>excluded</td>\n",
       "    </tr>\n",
       "  </tbody>\n",
       "</table>\n",
       "<p>2 rows × 39 columns</p>\n",
       "</div>"
      ],
      "text/plain": [
       "            PMID  \\\n",
       "0            str   \n",
       "1  PMID:24637876   \n",
       "\n",
       "                                                                                                                                          title  \\\n",
       "0                                                                                                                                           str   \n",
       "1  TBX1 Mutation Identified by Exome Sequencing in a Japanese Family with 22q11.2 Deletion Syndrome-Like Craniofacial Features and Hypocalcemia   \n",
       "\n",
       "  individual_id       comment   disease_id      disease_label   transcript  \\\n",
       "0           str  optional str          str                str          str   \n",
       "1          II-2           NaN  OMIM:188400  DiGeorge syndrome  NM_080647.1   \n",
       "\n",
       "    allele_1       variant.comment age_of_onset  ...  \\\n",
       "0        str          optional str      ISO8601  ...   \n",
       "1  c.1253del  p.(Tyr418PhefsTer42)           na  ...   \n",
       "\n",
       "  Abnormality of the cardiovascular system Hypoparathyroidism  \\\n",
       "0                               HP:0001626         HP:0000829   \n",
       "1                                 excluded           observed   \n",
       "\n",
       "  Aplasia/Hypoplasia of the thymus T lymphocytopenia  \\\n",
       "0                       HP:0010515        HP:0005403   \n",
       "1                         excluded                na   \n",
       "\n",
       "  Global developmental delay Sensorineural hearing impairment Polydactyly  \\\n",
       "0                 HP:0001263                       HP:0000407  HP:0010442   \n",
       "1                   observed                         observed    excluded   \n",
       "\n",
       "   Syndactyly Short stature Graves disease  \n",
       "0  HP:0001159    HP:0004322     HP:0100647  \n",
       "1          na            na       excluded  \n",
       "\n",
       "[2 rows x 39 columns]"
      ]
     },
     "execution_count": 3,
     "metadata": {},
     "output_type": "execute_result"
    }
   ],
   "source": [
    "df = pd.read_excel(\"../phenopackets/TBX1_individuals.xlsx\")\n",
    "df.head(2)"
   ]
  },
  {
   "cell_type": "code",
   "execution_count": 4,
   "id": "0bd5c6a0-e6f6-45b3-867d-d01bc8e857cc",
   "metadata": {},
   "outputs": [
    {
     "name": "stdout",
     "output_type": "stream",
     "text": [
      "Created encoders for 39 fields\n"
     ]
    }
   ],
   "source": [
    "encoder = CaseTemplateEncoder(df=df, hpo_cr=hpo_cr, created_by=created_by)\n",
    "individuals = encoder.get_individuals()"
   ]
  },
  {
   "cell_type": "code",
   "execution_count": 5,
   "id": "451daa2c-396f-4b95-8bb0-7dbc77d342c7",
   "metadata": {},
   "outputs": [],
   "source": [
    "## TODO UPDATE TO MANE transcript NM_001379200.1\n",
    "\n",
    "TBX1_transcript = \"NM_080647.1\" \n",
    "vmanager = VariantManager(df=df,\n",
    "                          individual_column_name=\"individual_id\",\n",
    "                          gene_symbol=\"TBX1\",\n",
    "                          transcript=TBX1_transcript,\n",
    "                          allele_1_column_name=\"allele_1\")"
   ]
  },
  {
   "cell_type": "code",
   "execution_count": 6,
   "id": "b1f1c0ba-a168-4882-8088-a9bd73f1e854",
   "metadata": {},
   "outputs": [
    {
     "data": {
      "text/html": [
       "<div>\n",
       "<style scoped>\n",
       "    .dataframe tbody tr th:only-of-type {\n",
       "        vertical-align: middle;\n",
       "    }\n",
       "\n",
       "    .dataframe tbody tr th {\n",
       "        vertical-align: top;\n",
       "    }\n",
       "\n",
       "    .dataframe thead th {\n",
       "        text-align: right;\n",
       "    }\n",
       "</style>\n",
       "<table border=\"1\" class=\"dataframe\">\n",
       "  <thead>\n",
       "    <tr style=\"text-align: right;\">\n",
       "      <th></th>\n",
       "      <th>status</th>\n",
       "      <th>count</th>\n",
       "      <th>alleles</th>\n",
       "    </tr>\n",
       "  </thead>\n",
       "  <tbody>\n",
       "    <tr>\n",
       "      <th>0</th>\n",
       "      <td>mapped</td>\n",
       "      <td>13</td>\n",
       "      <td>c.1299_1321del, c.1253del, c.146_202del, c.1274_1281del, c.582C&gt;G, c.1223del, c.1399_1428dup, c.1009+1G&gt;C, c.928G&gt;A, c.967_977dup, c.1158_1159delinsT, c.1293_1315del, c.443T&gt;A</td>\n",
       "    </tr>\n",
       "    <tr>\n",
       "      <th>1</th>\n",
       "      <td>unmapped</td>\n",
       "      <td>0</td>\n",
       "      <td></td>\n",
       "    </tr>\n",
       "  </tbody>\n",
       "</table>\n",
       "</div>"
      ],
      "text/plain": [
       "     status  count  \\\n",
       "0    mapped     13   \n",
       "1  unmapped      0   \n",
       "\n",
       "                                                                                                                                                                           alleles  \n",
       "0  c.1299_1321del, c.1253del, c.146_202del, c.1274_1281del, c.582C>G, c.1223del, c.1399_1428dup, c.1009+1G>C, c.928G>A, c.967_977dup, c.1158_1159delinsT, c.1293_1315del, c.443T>A  \n",
       "1                                                                                                                                                                                   "
      ]
     },
     "execution_count": 6,
     "metadata": {},
     "output_type": "execute_result"
    }
   ],
   "source": [
    "vmanager.to_summary()"
   ]
  },
  {
   "cell_type": "code",
   "execution_count": 7,
   "id": "8d657e39-7eff-4d15-ae77-5c682891632b",
   "metadata": {},
   "outputs": [],
   "source": [
    "vmanager.add_variants_to_individuals(individuals)"
   ]
  },
  {
   "cell_type": "code",
   "execution_count": 8,
   "id": "2c07cea2-ed65-45db-b957-a8d1edf868f8",
   "metadata": {
    "scrolled": false
   },
   "outputs": [
    {
     "data": {
      "text/html": [
       "<h2>Cohort validation</h2>\n",
       "<p>Errors found with 21 of 26 phenopackets.</p>\n",
       "<table style=\"border: 2px solid black; align: \"left\">\n",
       "<caption>Error counts</caption>\n",
       "<tr><th style=\"text-align: left;font-weight: bold;\">Level</th><th style=\"text-align: left;font-weight: bold;\">Error category</th><th style=\"text-align: left;font-weight: bold;\">Count</th></tr>\n",
       "<tr><td style=\"text-align: left;\">ERROR</td><td style=\"text-align: left;\">INCORRECT_ALLELE_COUNT</td><td style=\"text-align: left;\">2</td></tr>\n",
       "<tr><td style=\"text-align: left;\">WARNING</td><td style=\"text-align: left;\">REDUNDANT</td><td style=\"text-align: left;\">38</td></tr>\n",
       "</table>\n",
       "<p>A total of 40 issues were fixed and 2 individuals were removed from the cohort because of irreparable errors. The cohort validator will return 24 individual objects without errors.</p>\n",
       "<p>The following redundant terms were found: <b>Abnormality of the cardiovascular system</b> is redundant because of <b>Tetralogy of Fallot</b>; <b>Abnormality of the cardiovascular system</b> is redundant because of <b>Ventricular septal defect</b>; <b>Abnormality of the cardiovascular system</b> is redundant because of <b>Atrial septal defect</b>; <b>Abnormal pinna morphology</b> is redundant because of <b>Low-set ears</b>; <b>Abnormality of the cardiovascular system</b> is redundant because of <b>Aplasia/Hypoplasia of the thymus</b>. Redundant terms will be removed, keeping only one instance of the most specific term.</p>\n",
       "<h2>Individuals with unfixable errors</h2>\n",
       "<table style=\"border: 2px solid black; align: \"left\">\n",
       "<caption>Error analysis</caption>\n",
       "<tr><th style=\"text-align: left;font-weight: bold;\">ID</th><th style=\"text-align: left;font-weight: bold;\">Level</th><th style=\"text-align: left;font-weight: bold;\">Category</th><th style=\"text-align: left;font-weight: bold;\">Message</th><th style=\"text-align: left;font-weight: bold;\">HPO Term</th></tr>\n",
       "<tr><td style=\"text-align: left;\">PMID_17273972_H194Q</td><td style=\"text-align: left;\">ERROR</td><td style=\"text-align: left;\">INCORRECT_ALLELE_COUNT</td><td style=\"text-align: left;\">Expected one allele for monoallelic but got 2 alleles</td><td style=\"text-align: left;\"></td></tr>\n",
       "<tr><td style=\"text-align: left;\">PMID_17273972_H194Q</td><td style=\"text-align: left;\">ERROR</td><td style=\"text-align: left;\">INCORRECT_ALLELE_COUNT</td><td style=\"text-align: left;\">Expected one allele for monoallelic but got 2 alleles</td><td style=\"text-align: left;\"></td></tr>\n",
       "</table>"
      ],
      "text/plain": [
       "<IPython.core.display.HTML object>"
      ]
     },
     "metadata": {},
     "output_type": "display_data"
    }
   ],
   "source": [
    "cvalidator = CohortValidator(cohort=individuals, ontology=hpo_ontology, min_hpo=1,\n",
    "                                allelic_requirement=AllelicRequirement.MONO_ALLELIC)\n",
    "qc = QcVisualizer(cohort_validator=cvalidator)\n",
    "display(HTML(qc.to_summary_html()))"
   ]
  },
  {
   "cell_type": "code",
   "execution_count": 9,
   "id": "f370c528-97d5-4848-92fa-3754ff31b3cb",
   "metadata": {},
   "outputs": [
    {
     "ename": "AttributeError",
     "evalue": "'str' object has no attribute 'is_valid'",
     "output_type": "error",
     "traceback": [
      "\u001b[1;31m---------------------------------------------------------------------------\u001b[0m",
      "\u001b[1;31mAttributeError\u001b[0m                            Traceback (most recent call last)",
      "Cell \u001b[1;32mIn[9], line 2\u001b[0m\n\u001b[0;32m      1\u001b[0m individuals \u001b[38;5;241m=\u001b[39m cvalidator\u001b[38;5;241m.\u001b[39mget_error_free_individual_list()\n\u001b[1;32m----> 2\u001b[0m table \u001b[38;5;241m=\u001b[39m IndividualTable(individuals)\n\u001b[0;32m      3\u001b[0m display(HTML(table\u001b[38;5;241m.\u001b[39mto_html()))\n",
      "File \u001b[1;32mE:\\Python\\anaconda3\\Lib\\site-packages\\pyphetools\\visualization\\individual_table.py:56\u001b[0m, in \u001b[0;36mIndividualTable.__init__\u001b[1;34m(self, individual_list, metadata)\u001b[0m\n\u001b[0;32m     54\u001b[0m pmid_found \u001b[38;5;241m=\u001b[39m \u001b[38;5;241m0\u001b[39m\n\u001b[0;32m     55\u001b[0m \u001b[38;5;28;01mfor\u001b[39;00m individual \u001b[38;5;129;01min\u001b[39;00m individual_list:\n\u001b[1;32m---> 56\u001b[0m     pp \u001b[38;5;241m=\u001b[39m \u001b[38;5;28mself\u001b[39m\u001b[38;5;241m.\u001b[39m_individual_to_phenopacket(individual, metadata)\n\u001b[0;32m     57\u001b[0m     spat \u001b[38;5;241m=\u001b[39m SimplePatient(ga4gh_phenopacket\u001b[38;5;241m=\u001b[39mpp)\n\u001b[0;32m     58\u001b[0m     \u001b[38;5;28;01mif\u001b[39;00m spat\u001b[38;5;241m.\u001b[39mhas_pmid():\n",
      "File \u001b[1;32mE:\\Python\\anaconda3\\Lib\\site-packages\\pyphetools\\visualization\\individual_table.py:121\u001b[0m, in \u001b[0;36mIndividualTable._individual_to_phenopacket\u001b[1;34m(self, individual, metadata)\u001b[0m\n\u001b[0;32m    119\u001b[0m extref\u001b[38;5;241m.\u001b[39mdescription \u001b[38;5;241m=\u001b[39m citation\u001b[38;5;241m.\u001b[39mtitle\n\u001b[0;32m    120\u001b[0m metadata\u001b[38;5;241m.\u001b[39mexternal_references\u001b[38;5;241m.\u001b[39mappend(extref)\n\u001b[1;32m--> 121\u001b[0m \u001b[38;5;28;01mreturn\u001b[39;00m individual\u001b[38;5;241m.\u001b[39mto_ga4gh_phenopacket(metadata\u001b[38;5;241m=\u001b[39mmetadata)\n",
      "File \u001b[1;32mE:\\Python\\anaconda3\\Lib\\site-packages\\pyphetools\\creation\\individual.py:279\u001b[0m, in \u001b[0;36mIndividual.to_ga4gh_phenopacket\u001b[1;34m(self, metadata, phenopacket_id)\u001b[0m\n\u001b[0;32m    277\u001b[0m php\u001b[38;5;241m.\u001b[39mid \u001b[38;5;241m=\u001b[39m \u001b[38;5;28mself\u001b[39m\u001b[38;5;241m.\u001b[39mget_phenopacket_id(phenopacket_id\u001b[38;5;241m=\u001b[39mphenopacket_id)\n\u001b[0;32m    278\u001b[0m php\u001b[38;5;241m.\u001b[39msubject\u001b[38;5;241m.\u001b[39mid \u001b[38;5;241m=\u001b[39m \u001b[38;5;28mself\u001b[39m\u001b[38;5;241m.\u001b[39m_individual_id\n\u001b[1;32m--> 279\u001b[0m \u001b[38;5;28;01mif\u001b[39;00m \u001b[38;5;28mself\u001b[39m\u001b[38;5;241m.\u001b[39m_age_at_last_encounter \u001b[38;5;129;01mis\u001b[39;00m \u001b[38;5;129;01mnot\u001b[39;00m \u001b[38;5;28;01mNone\u001b[39;00m \u001b[38;5;129;01mand\u001b[39;00m \u001b[38;5;28mself\u001b[39m\u001b[38;5;241m.\u001b[39m_age_at_last_encounter\u001b[38;5;241m.\u001b[39mis_valid():\n\u001b[0;32m    280\u001b[0m     php\u001b[38;5;241m.\u001b[39msubject\u001b[38;5;241m.\u001b[39mtime_at_last_encounter\u001b[38;5;241m.\u001b[39mCopyFrom(\u001b[38;5;28mself\u001b[39m\u001b[38;5;241m.\u001b[39m_age_at_last_encounter\u001b[38;5;241m.\u001b[39mto_ga4gh_time_element())\n\u001b[0;32m    281\u001b[0m \u001b[38;5;28;01mif\u001b[39;00m \u001b[38;5;28mself\u001b[39m\u001b[38;5;241m.\u001b[39m_sex \u001b[38;5;241m==\u001b[39m Constants\u001b[38;5;241m.\u001b[39mMALE_SYMBOL:\n",
      "\u001b[1;31mAttributeError\u001b[0m: 'str' object has no attribute 'is_valid'"
     ]
    }
   ],
   "source": [
    "individuals = cvalidator.get_error_free_individual_list()\n",
    "table = IndividualTable(individuals)\n",
    "display(HTML(table.to_html()))"
   ]
  },
  {
   "cell_type": "code",
   "execution_count": null,
   "id": "fada7041-0663-4f1c-844b-f6f5162da3fb",
   "metadata": {},
   "outputs": [],
   "source": [
    "# when we are finished, output phenopackets\n",
    "# encoder.output_individuals_as_phenopackets(individual_list=individuals)\n",
    "# Also, when we are finished, update HPOA annotations for HPO website (see https://monarch-initiative.github.io/pyphetools/developers/hpoa_editing/)"
   ]
  },
  {
   "cell_type": "code",
   "execution_count": null,
   "id": "3203b713-be96-41c4-8f65-06b22699fa23",
   "metadata": {},
   "outputs": [],
   "source": []
  }
 ],
 "metadata": {
  "kernelspec": {
   "display_name": "Python 3 (ipykernel)",
   "language": "python",
   "name": "python3"
  },
  "language_info": {
   "codemirror_mode": {
    "name": "ipython",
    "version": 3
   },
   "file_extension": ".py",
   "mimetype": "text/x-python",
   "name": "python",
   "nbconvert_exporter": "python",
   "pygments_lexer": "ipython3",
   "version": "3.11.5"
  }
 },
 "nbformat": 4,
 "nbformat_minor": 5
}
