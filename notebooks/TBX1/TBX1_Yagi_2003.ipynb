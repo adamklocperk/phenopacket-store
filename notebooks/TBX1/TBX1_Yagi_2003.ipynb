{
 "cells": [
  {
   "cell_type": "markdown",
   "id": "bb02a031-0198-444e-a6da-839e84e1d6f4",
   "metadata": {},
   "source": [
    "# TBX1\n",
    "Data in this notebook was taken from [Yagi H, et al. (2003) Role of TBX1 in human del22q11.2 syndrome. Lancet. 2003 Oct 25;362(9393):1366-73. PMID:14585638](https://pubmed.ncbi.nlm.nih.gov/14585638/)\n",
    "\n",
    "\n",
    "The authors report:\n",
    "Conotruncal anomaly face is characterised by nine facial features, including ocular hypertelorism, lateral displacement of the inner canthi, short palpebral fissures, swollen eyelids, dysmorphism of the nose, low-set ears and minor ear-lobe anomalies, and is almost always associated with velopharyngeal insufficiency and a nasal voice. On the basis of the phenotypic study, dysmorphism of the nose—a new description of a nose that seems to be divided into two parts (upper part and lower part) at the join of the wing and at the sides—was added. Dysmorphism of the nose was observed consistently in patients with the 22q11.2 deletion.\n",
    "Each positive characteristic feature of the nine facial features of conotruncal anomaly face and velopharyngeal insufficiency was\n",
    "counted as 1 point. An atypical finding was counted as 0·5 point.\n",
    "\n",
    "We mapped the variants to HGNC notation as follows:\n",
    "\n",
    "- Patient F1:443T→A (F148Y):  NM_001379200.1(TBX1):c.470T>A (p.Phe157Tyr) (See ClinVar VCV000007563.3)\n",
    "- Patient F2 had the 928G→A (G310S): NM_001379200.1(TBX1):c.955G>A (p.Gly319Ser) (See ClinVar VCV000007564.14)\n",
    "- Patient F3-1: 1223delC (deletion of cytosine at 1223):NM_001379200.1(TBX1):c.1250del (p.Ser417fs) See ClinVar RCV001815166.9)"
   ]
  },
  {
   "cell_type": "code",
   "execution_count": 1,
   "id": "073db1c1-5a4c-44d1-8793-884c0c8aeffe",
   "metadata": {},
   "outputs": [
    {
     "name": "stdout",
     "output_type": "stream",
     "text": [
      "Using pyphetools version 0.9.39\n"
     ]
    }
   ],
   "source": [
    "import pandas as pd\n",
    "pd.set_option('display.max_colwidth', None) # show entire column contents, important!\n",
    "from IPython.display import display, HTML\n",
    "from pyphetools.creation import *\n",
    "from pyphetools.visualization import *\n",
    "from pyphetools.validation import *\n",
    "import pyphetools\n",
    "print(f\"Using pyphetools version {pyphetools.__version__}\")"
   ]
  },
  {
   "cell_type": "code",
   "execution_count": 2,
   "id": "a0e2c91c-363a-46e7-962c-3a0806fa7206",
   "metadata": {},
   "outputs": [
    {
     "name": "stdout",
     "output_type": "stream",
     "text": [
      "HPO version 2024-01-16\n"
     ]
    }
   ],
   "source": [
    "PMID = \"PMID:14585638\"\n",
    "title = \"Role of TBX1 in human del22q11.2 syndrome\"\n",
    "cite = Citation(pmid=PMID, title=title)\n",
    "parser = HpoParser(\"../hp.json\")\n",
    "hpo_cr = parser.get_hpo_concept_recognizer()\n",
    "hpo_version = parser.get_version()\n",
    "hpo_ontology = parser.get_ontology()\n",
    "metadata = MetaData(created_by=\"ORCID:0000-0002-5648-2155\", citation=cite)\n",
    "metadata.default_versions_with_hpo(version=hpo_version)\n",
    "print(f\"HPO version {hpo_version}\")"
   ]
  },
  {
   "cell_type": "code",
   "execution_count": 3,
   "id": "a04aa5cc-1f47-441b-b28b-09ad6b1e6e8f",
   "metadata": {},
   "outputs": [],
   "source": [
    "df = pd.read_excel(\"input/Yagi_TBX1.xlsx\")"
   ]
  },
  {
   "cell_type": "code",
   "execution_count": 4,
   "id": "134eefc2-e1ba-4808-9bd5-a7a84a569154",
   "metadata": {},
   "outputs": [
    {
     "data": {
      "text/html": [
       "<div>\n",
       "<style scoped>\n",
       "    .dataframe tbody tr th:only-of-type {\n",
       "        vertical-align: middle;\n",
       "    }\n",
       "\n",
       "    .dataframe tbody tr th {\n",
       "        vertical-align: top;\n",
       "    }\n",
       "\n",
       "    .dataframe thead th {\n",
       "        text-align: right;\n",
       "    }\n",
       "</style>\n",
       "<table border=\"1\" class=\"dataframe\">\n",
       "  <thead>\n",
       "    <tr style=\"text-align: right;\">\n",
       "      <th></th>\n",
       "      <th>individual</th>\n",
       "      <th>Dx</th>\n",
       "      <th>Sex</th>\n",
       "      <th>Age</th>\n",
       "      <th>NM_001379200.1</th>\n",
       "      <th>Ocular hypertelorism</th>\n",
       "      <th>Lateral displacement of the inner canthi</th>\n",
       "      <th>Short palpebral fissures</th>\n",
       "      <th>Swollen eyelids</th>\n",
       "      <th>Dysmorphism of the nose</th>\n",
       "      <th>...</th>\n",
       "      <th>Low-set ears</th>\n",
       "      <th>Minor ear anomalies</th>\n",
       "      <th>Velopharyngeal insufficiency</th>\n",
       "      <th>Unnamed: 14</th>\n",
       "      <th>Cardiac defects</th>\n",
       "      <th>Hypoplastic thymus</th>\n",
       "      <th>Parathyroid dysfunction</th>\n",
       "      <th>Deafness</th>\n",
       "      <th>pmid</th>\n",
       "      <th>title</th>\n",
       "    </tr>\n",
       "  </thead>\n",
       "  <tbody>\n",
       "    <tr>\n",
       "      <th>0</th>\n",
       "      <td>F1</td>\n",
       "      <td>CAFS</td>\n",
       "      <td>F</td>\n",
       "      <td>7</td>\n",
       "      <td>c.470T&gt;A</td>\n",
       "      <td>1.0</td>\n",
       "      <td>1</td>\n",
       "      <td>1.0</td>\n",
       "      <td>1.0</td>\n",
       "      <td>1.0</td>\n",
       "      <td>...</td>\n",
       "      <td>1</td>\n",
       "      <td>1</td>\n",
       "      <td>1</td>\n",
       "      <td>NaN</td>\n",
       "      <td>TOF;PA;ASDII;MAPCA</td>\n",
       "      <td>0</td>\n",
       "      <td>0</td>\n",
       "      <td>na</td>\n",
       "      <td>PMID:14585638</td>\n",
       "      <td>Role of TBX1 in human del22q11.2 syndrome</td>\n",
       "    </tr>\n",
       "    <tr>\n",
       "      <th>1</th>\n",
       "      <td>F2</td>\n",
       "      <td>DGS</td>\n",
       "      <td>M</td>\n",
       "      <td>13</td>\n",
       "      <td>c.955G&gt;A</td>\n",
       "      <td>1.0</td>\n",
       "      <td>1</td>\n",
       "      <td>0.5</td>\n",
       "      <td>1.0</td>\n",
       "      <td>1.0</td>\n",
       "      <td>...</td>\n",
       "      <td>1</td>\n",
       "      <td>1</td>\n",
       "      <td>1</td>\n",
       "      <td>NaN</td>\n",
       "      <td>IAA(B);VSD(II);PH</td>\n",
       "      <td>1</td>\n",
       "      <td>1</td>\n",
       "      <td>1</td>\n",
       "      <td>PMID:14585638</td>\n",
       "      <td>Role of TBX1 in human del22q11.2 syndrome</td>\n",
       "    </tr>\n",
       "  </tbody>\n",
       "</table>\n",
       "<p>2 rows × 21 columns</p>\n",
       "</div>"
      ],
      "text/plain": [
       "  individual    Dx Sex  Age NM_001379200.1  Ocular hypertelorism  \\\n",
       "0         F1  CAFS   F    7       c.470T>A                   1.0   \n",
       "1         F2   DGS   M   13       c.955G>A                   1.0   \n",
       "\n",
       "   Lateral displacement of the inner canthi  Short palpebral fissures  \\\n",
       "0                                         1                       1.0   \n",
       "1                                         1                       0.5   \n",
       "\n",
       "   Swollen eyelids  Dysmorphism of the nose  ...  Low-set ears  \\\n",
       "0              1.0                      1.0  ...             1   \n",
       "1              1.0                      1.0  ...             1   \n",
       "\n",
       "   Minor ear anomalies  Velopharyngeal insufficiency  Unnamed: 14  \\\n",
       "0                    1                             1          NaN   \n",
       "1                    1                             1          NaN   \n",
       "\n",
       "      Cardiac defects Hypoplastic thymus Parathyroid dysfunction  Deafness  \\\n",
       "0  TOF;PA;ASDII;MAPCA                  0                       0        na   \n",
       "1   IAA(B);VSD(II);PH                  1                       1         1   \n",
       "\n",
       "            pmid                                      title  \n",
       "0  PMID:14585638  Role of TBX1 in human del22q11.2 syndrome  \n",
       "1  PMID:14585638  Role of TBX1 in human del22q11.2 syndrome  \n",
       "\n",
       "[2 rows x 21 columns]"
      ]
     },
     "execution_count": 4,
     "metadata": {},
     "output_type": "execute_result"
    }
   ],
   "source": [
    "df.head(2)"
   ]
  },
  {
   "cell_type": "code",
   "execution_count": 5,
   "id": "4e442aab-2dbd-4b40-b302-35dc766e902b",
   "metadata": {},
   "outputs": [
    {
     "data": {
      "text/html": [
       "<table style=\"border: 2px solid black;\">\n",
       "\n",
       "<tr>\n",
       "            <th>Result</th>\n",
       "            <th>Columns</th>\n",
       "        </tr>\n",
       "        \n",
       "<tr><td>Mapped</td><td>Ocular hypertelorism; Short palpebral fissures; Small mouth; Low-set ears; Velopharyngeal insufficiency; Parathyroid dysfunction; Deafness</td></tr>\n",
       "<tr><td>Unmapped</td><td><q>individual</q>; <q>Dx</q>; <q>Sex</q>; <q>Age</q>; <q>NM_001379200.1</q>; <q>Lateral displacement of the inner canthi</q>; <q>Swollen eyelids</q>; <q>Dysmorphism of the nose</q>; <q>Minor ear anomalies</q>; <q>Unnamed: 14</q>; <q>Cardiac defects</q>; <q>Hypoplastic thymus</q>; <q>pmid</q>; <q>title</q></td></tr>\n",
       "</table>\n"
      ],
      "text/plain": [
       "<IPython.core.display.HTML object>"
      ]
     },
     "metadata": {},
     "output_type": "display_data"
    }
   ],
   "source": [
    "generator = SimpleColumnMapperGenerator(df=df, hpo_cr=hpo_cr, observed=\"1\", excluded=\"0\")\n",
    "column_mapper_list = generator.try_mapping_columns()\n",
    "display(HTML(generator.to_html()))"
   ]
  },
  {
   "cell_type": "code",
   "execution_count": 6,
   "id": "bcf9144f-d72f-4381-a735-1050b635f59f",
   "metadata": {},
   "outputs": [
    {
     "data": {
      "text/html": [
       "<div>\n",
       "<style scoped>\n",
       "    .dataframe tbody tr th:only-of-type {\n",
       "        vertical-align: middle;\n",
       "    }\n",
       "\n",
       "    .dataframe tbody tr th {\n",
       "        vertical-align: top;\n",
       "    }\n",
       "\n",
       "    .dataframe thead th {\n",
       "        text-align: right;\n",
       "    }\n",
       "</style>\n",
       "<table border=\"1\" class=\"dataframe\">\n",
       "  <thead>\n",
       "    <tr style=\"text-align: right;\">\n",
       "      <th></th>\n",
       "      <th>mapping</th>\n",
       "      <th>count</th>\n",
       "    </tr>\n",
       "  </thead>\n",
       "  <tbody>\n",
       "    <tr>\n",
       "      <th>0</th>\n",
       "      <td>Tetralogy of Fallot (HP:0001636) (observed)</td>\n",
       "      <td>2</td>\n",
       "    </tr>\n",
       "    <tr>\n",
       "      <th>1</th>\n",
       "      <td>Pulmonary artery atresia (HP:0004935) (observed)</td>\n",
       "      <td>1</td>\n",
       "    </tr>\n",
       "    <tr>\n",
       "      <th>2</th>\n",
       "      <td>Secundum atrial septal defect (HP:0001684) (observed)</td>\n",
       "      <td>1</td>\n",
       "    </tr>\n",
       "    <tr>\n",
       "      <th>3</th>\n",
       "      <td>Aortopulmonary collateral arteries (HP:0031834) (observed)</td>\n",
       "      <td>1</td>\n",
       "    </tr>\n",
       "    <tr>\n",
       "      <th>4</th>\n",
       "      <td>Interrupted aortic arch type B (HP:0011613) (observed)</td>\n",
       "      <td>1</td>\n",
       "    </tr>\n",
       "    <tr>\n",
       "      <th>5</th>\n",
       "      <td>Pulmonary arterial hypertension (HP:0002092) (observed)</td>\n",
       "      <td>1</td>\n",
       "    </tr>\n",
       "    <tr>\n",
       "      <th>6</th>\n",
       "      <td>Right aortic arch (HP:0012020) (observed)</td>\n",
       "      <td>1</td>\n",
       "    </tr>\n",
       "  </tbody>\n",
       "</table>\n",
       "</div>"
      ],
      "text/plain": [
       "                                                      mapping count\n",
       "0                 Tetralogy of Fallot (HP:0001636) (observed)     2\n",
       "1            Pulmonary artery atresia (HP:0004935) (observed)     1\n",
       "2       Secundum atrial septal defect (HP:0001684) (observed)     1\n",
       "3  Aortopulmonary collateral arteries (HP:0031834) (observed)     1\n",
       "4      Interrupted aortic arch type B (HP:0011613) (observed)     1\n",
       "5     Pulmonary arterial hypertension (HP:0002092) (observed)     1\n",
       "6                   Right aortic arch (HP:0012020) (observed)     1"
      ]
     },
     "execution_count": 6,
     "metadata": {},
     "output_type": "execute_result"
    }
   ],
   "source": [
    "cardiac_d = {\"TOF\": \"Tetralogy of Fallot\",\n",
    "            \"ASDII\" : \"Secundum atrial septal defect\",\n",
    "            \"PA\": \"Pulmonary artery atresia\",\n",
    "            \"PH\": \"Pulmonary arterial hypertension\",\n",
    "            \"VSD(III)\": \"Perimembranous ventricular septal defect\",\n",
    "            \"MAPCA\": \"Aortopulmonary collateral arteries\",\n",
    "            \"IAA(B)\": \"Interrupted aortic arch type B\",\n",
    "            \"TOF\": \"Tetralogy of Fallot\",\n",
    "            \"RAA\": \"Right aortic arch\"}\n",
    "cardiacMapper = OptionColumnMapper(column_name=\"Cardiac defects\",concept_recognizer=hpo_cr, option_d=cardiac_d)\n",
    "column_mapper_list.append(cardiacMapper)\n",
    "cardiacMapper.preview_column(df)"
   ]
  },
  {
   "cell_type": "code",
   "execution_count": 7,
   "id": "462b46b6-ca5c-46fc-ba01-2d43ac512a07",
   "metadata": {},
   "outputs": [
    {
     "data": {
      "text/html": [
       "<div>\n",
       "<style scoped>\n",
       "    .dataframe tbody tr th:only-of-type {\n",
       "        vertical-align: middle;\n",
       "    }\n",
       "\n",
       "    .dataframe tbody tr th {\n",
       "        vertical-align: top;\n",
       "    }\n",
       "\n",
       "    .dataframe thead th {\n",
       "        text-align: right;\n",
       "    }\n",
       "</style>\n",
       "<table border=\"1\" class=\"dataframe\">\n",
       "  <thead>\n",
       "    <tr style=\"text-align: right;\">\n",
       "      <th></th>\n",
       "      <th>mapping</th>\n",
       "      <th>count</th>\n",
       "    </tr>\n",
       "  </thead>\n",
       "  <tbody>\n",
       "    <tr>\n",
       "      <th>0</th>\n",
       "      <td>original value: \"0\" -&gt; HP: Hypoplasia of the thymus (HP:0000778) (excluded)</td>\n",
       "      <td>2</td>\n",
       "    </tr>\n",
       "    <tr>\n",
       "      <th>1</th>\n",
       "      <td>original value: \"1\" -&gt; HP: Hypoplasia of the thymus (HP:0000778) (observed)</td>\n",
       "      <td>2</td>\n",
       "    </tr>\n",
       "    <tr>\n",
       "      <th>2</th>\n",
       "      <td>original value: \"na\" -&gt; HP: Hypoplasia of the thymus (HP:0000778) (not measured)</td>\n",
       "      <td>1</td>\n",
       "    </tr>\n",
       "  </tbody>\n",
       "</table>\n",
       "</div>"
      ],
      "text/plain": [
       "                                                                            mapping  \\\n",
       "0       original value: \"0\" -> HP: Hypoplasia of the thymus (HP:0000778) (excluded)   \n",
       "1       original value: \"1\" -> HP: Hypoplasia of the thymus (HP:0000778) (observed)   \n",
       "2  original value: \"na\" -> HP: Hypoplasia of the thymus (HP:0000778) (not measured)   \n",
       "\n",
       "  count  \n",
       "0     2  \n",
       "1     2  \n",
       "2     1  "
      ]
     },
     "execution_count": 7,
     "metadata": {},
     "output_type": "execute_result"
    }
   ],
   "source": [
    "# Hypoplasia of the thymus HP:0000778\n",
    "hypoThymusMapper = SimpleColumnMapper(column_name=\"Hypoplastic thymus\",\n",
    "                                      hpo_id=\"HP:0000778\", hpo_label=\"Hypoplasia of the thymus\", observed=\"1\", excluded=\"0\")\n",
    "column_mapper_list.append(hypoThymusMapper)\n",
    "hypoThymusMapper.preview_column(df)"
   ]
  },
  {
   "cell_type": "code",
   "execution_count": 8,
   "id": "bf0d42ea-7c91-4a8c-bdec-54fa245bcb1e",
   "metadata": {},
   "outputs": [
    {
     "data": {
      "text/html": [
       "<div>\n",
       "<style scoped>\n",
       "    .dataframe tbody tr th:only-of-type {\n",
       "        vertical-align: middle;\n",
       "    }\n",
       "\n",
       "    .dataframe tbody tr th {\n",
       "        vertical-align: top;\n",
       "    }\n",
       "\n",
       "    .dataframe thead th {\n",
       "        text-align: right;\n",
       "    }\n",
       "</style>\n",
       "<table border=\"1\" class=\"dataframe\">\n",
       "  <thead>\n",
       "    <tr style=\"text-align: right;\">\n",
       "      <th></th>\n",
       "      <th>mapping</th>\n",
       "      <th>count</th>\n",
       "    </tr>\n",
       "  </thead>\n",
       "  <tbody>\n",
       "    <tr>\n",
       "      <th>0</th>\n",
       "      <td>original value: \"1\" -&gt; HP: Hypertelorism (HP:0000316) (observed)</td>\n",
       "      <td>5</td>\n",
       "    </tr>\n",
       "  </tbody>\n",
       "</table>\n",
       "</div>"
      ],
      "text/plain": [
       "                                                            mapping count\n",
       "0  original value: \"1\" -> HP: Hypertelorism (HP:0000316) (observed)     5"
      ]
     },
     "execution_count": 8,
     "metadata": {},
     "output_type": "execute_result"
    }
   ],
   "source": [
    "# ocular hypertelorism (with increased interpupillary distance due to increased separation of the inner canthi)\n",
    "# \"Lateral displacement of the inner canthi\" -- Code as Hypertelorism HP:0000316\n",
    "hypertelorismMapper = SimpleColumnMapper(column_name=\"Lateral displacement of the inner canthi\",\n",
    "                                         hpo_id=\"HP:0000316\", hpo_label=\"Hypertelorism\", observed=\"1\", excluded=\"0\")\n",
    "column_mapper_list.append(hypertelorismMapper)\n",
    "hypertelorismMapper.preview_column(df)"
   ]
  },
  {
   "cell_type": "code",
   "execution_count": 9,
   "id": "465d81c6-6196-41ab-aae8-36b5435031a9",
   "metadata": {},
   "outputs": [],
   "source": [
    "# Swollen eyelids - not coding, unclear what the eyelid feature is in Figure 1."
   ]
  },
  {
   "cell_type": "code",
   "execution_count": 10,
   "id": "91cd1937-eb63-499b-8c45-c79f50fe967c",
   "metadata": {},
   "outputs": [
    {
     "data": {
      "text/html": [
       "<div>\n",
       "<style scoped>\n",
       "    .dataframe tbody tr th:only-of-type {\n",
       "        vertical-align: middle;\n",
       "    }\n",
       "\n",
       "    .dataframe tbody tr th {\n",
       "        vertical-align: top;\n",
       "    }\n",
       "\n",
       "    .dataframe thead th {\n",
       "        text-align: right;\n",
       "    }\n",
       "</style>\n",
       "<table border=\"1\" class=\"dataframe\">\n",
       "  <thead>\n",
       "    <tr style=\"text-align: right;\">\n",
       "      <th></th>\n",
       "      <th>mapping</th>\n",
       "      <th>count</th>\n",
       "    </tr>\n",
       "  </thead>\n",
       "  <tbody>\n",
       "    <tr>\n",
       "      <th>0</th>\n",
       "      <td>original value: \"1.0\" -&gt; HP: Wide nasal base (HP:0012810) (not measured)</td>\n",
       "      <td>4</td>\n",
       "    </tr>\n",
       "    <tr>\n",
       "      <th>1</th>\n",
       "      <td>original value: \"0.5\" -&gt; HP: Wide nasal base (HP:0012810) (not measured)</td>\n",
       "      <td>1</td>\n",
       "    </tr>\n",
       "  </tbody>\n",
       "</table>\n",
       "</div>"
      ],
      "text/plain": [
       "                                                                    mapping  \\\n",
       "0  original value: \"1.0\" -> HP: Wide nasal base (HP:0012810) (not measured)   \n",
       "1  original value: \"0.5\" -> HP: Wide nasal base (HP:0012810) (not measured)   \n",
       "\n",
       "  count  \n",
       "0     4  \n",
       "1     1  "
      ]
     },
     "execution_count": 10,
     "metadata": {},
     "output_type": "execute_result"
    }
   ],
   "source": [
    "#  Arrowheads show the area of the nose that seems to be divided into\n",
    "# two parts (upper and lower) at the joint of the wing and at the sides.\n",
    "# coding as Wide nasal base HP:0012810\n",
    "nasalDysMapper = SimpleColumnMapper(column_name=\"Dysmorphism of the nose\",\n",
    "                                    hpo_id=\"HP:0012810\", hpo_label=\"Wide nasal base\", observed=\"1\", excluded=\"0\")\n",
    "column_mapper_list.append(nasalDysMapper)\n",
    "nasalDysMapper.preview_column(df)"
   ]
  },
  {
   "cell_type": "code",
   "execution_count": 11,
   "id": "dace5163-e895-4ffc-9928-835db2a09518",
   "metadata": {},
   "outputs": [
    {
     "name": "stdout",
     "output_type": "stream",
     "text": [
      "https://rest.variantvalidator.org/VariantValidator/variantvalidator/hg38/NM_001379200.1%3Ac.470T>A/NM_001379200.1?content-type=application%2Fjson\n",
      "https://rest.variantvalidator.org/VariantValidator/variantvalidator/hg38/NM_001379200.1%3Ac.955G>A/NM_001379200.1?content-type=application%2Fjson\n",
      "https://rest.variantvalidator.org/VariantValidator/variantvalidator/hg38/NM_001379200.1%3Ac.1250del/NM_001379200.1?content-type=application%2Fjson\n",
      "Extracted 3 variants with Variant Validator\n"
     ]
    }
   ],
   "source": [
    "var_d = {}\n",
    "tbx1_transcript = \"NM_001379200.1\"\n",
    "varValidator = VariantValidator(genome_build=\"hg38\", transcript=tbx1_transcript)\n",
    "for v in df[\"NM_001379200.1\"].unique():\n",
    "    var = varValidator.encode_hgvs(v)\n",
    "    var_d [v] = var\n",
    "print(f\"Extracted {len(var_d)} variants with Variant Validator\")"
   ]
  },
  {
   "cell_type": "code",
   "execution_count": 12,
   "id": "59433e9f-5f31-4db6-aae9-37d6279418cd",
   "metadata": {},
   "outputs": [],
   "source": [
    "varMapper = VariantColumnMapper(variant_d=var_d,\n",
    "                               variant_column_name=\"NM_001379200.1\",\n",
    "                               default_genotype=\"heterozygous\")"
   ]
  },
  {
   "cell_type": "code",
   "execution_count": 13,
   "id": "74d4f4f8-37af-47c9-b4f4-f1e142398c2b",
   "metadata": {},
   "outputs": [],
   "source": [
    "ageMapper = AgeColumnMapper.by_year(column_name=\"Age\")\n",
    "#ageMapper.preview_column(df)\n",
    "sexMapper = SexColumnMapper(male_symbol=\"M\", female_symbol=\"F\", column_name=\"Sex\")\n",
    "#sexMapper.preview_column(df)"
   ]
  },
  {
   "cell_type": "code",
   "execution_count": 14,
   "id": "5f8df933-5243-4638-93e8-b9a3bef645e7",
   "metadata": {},
   "outputs": [],
   "source": [
    "dgs = Disease(disease_id=\"OMIM:188400\", disease_label=\"DiGeorge syndrome\")\n",
    "cafs = Disease(disease_id=\"OMIM:217095\", disease_label=\"Conotruncal anomaly face syndrome\")\n",
    "disease_d = {  \"DGS\": dgs, \"CAFS\": cafs }\n",
    "diseaseMapper = DiseaseIdColumnMapper(column_name=\"Dx\", disease_id_map=disease_d)"
   ]
  },
  {
   "cell_type": "code",
   "execution_count": 15,
   "id": "5fe6ee75-affc-4b5e-bdc3-bc5439372669",
   "metadata": {},
   "outputs": [],
   "source": [
    "encoder = MixedCohortEncoder(df=df,\n",
    "                             individual_column_name=\"individual\",\n",
    "                             hpo_cr=hpo_cr,\n",
    "                             column_mapper_list=column_mapper_list,\n",
    "                             disease_id_mapper=diseaseMapper,\n",
    "                             metadata=metadata,\n",
    "                             pmid_column=\"pmid\",\n",
    "                             title_column=\"title\",\n",
    "                             variant_mapper=varMapper,\n",
    "                             agemapper=ageMapper,\n",
    "                             sexmapper=sexMapper\n",
    "                            )"
   ]
  },
  {
   "cell_type": "code",
   "execution_count": 16,
   "id": "11cfd2cf-18a8-4956-aa10-41402f19f69a",
   "metadata": {},
   "outputs": [],
   "source": [
    "individuals = encoder.get_individuals()"
   ]
  },
  {
   "cell_type": "code",
   "execution_count": 17,
   "id": "52c97a33-7169-4091-9fc3-5e9a08e4ece8",
   "metadata": {},
   "outputs": [
    {
     "data": {
      "text/html": [
       "<h2>Cohort validation</h2>\n",
       "<p>Errors found with 5 of 5 phenopackets.</p>\n",
       "<table style=\"border: 2px solid black; align: \"left\">\n",
       "<caption>Error counts</caption>\n",
       "<tr><th style=\"text-align: left;font-weight: bold;\">Level</th><th style=\"text-align: left;font-weight: bold;\">Error category</th><th style=\"text-align: left;font-weight: bold;\">Count</th></tr>\n",
       "<tr><td style=\"text-align: left;\">INFORMATION</td><td style=\"text-align: left;\">NOT_MEASURED</td><td style=\"text-align: left;\">25</td></tr>\n",
       "</table>\n",
       "<p>A total of 25 issues were fixed and no individual was removed from the cohort.</p>"
      ],
      "text/plain": [
       "<IPython.core.display.HTML object>"
      ]
     },
     "metadata": {},
     "output_type": "display_data"
    }
   ],
   "source": [
    "cvalidator = CohortValidator(cohort=individuals, ontology=hpo_ontology, min_hpo=1, allelic_requirement=AllelicRequirement.MONO_ALLELIC)\n",
    "qc = QcVisualizer(cohort_validator=cvalidator)\n",
    "display(HTML(qc.to_summary_html()))"
   ]
  },
  {
   "cell_type": "code",
   "execution_count": 18,
   "id": "5504f92e-9eb3-4c37-a1cf-c2bc00de1d87",
   "metadata": {},
   "outputs": [
    {
     "data": {
      "text/html": [
       "<table style=\"border: 2px solid black; align: \"left\">\n",
       "<caption>5 phenopackets - PMID:14585638 (n=5)</caption>\n",
       "<tr><th style=\"text-align: left;font-weight: bold;\">Individual</th><th style=\"text-align: left;font-weight: bold;\">Disease</th><th style=\"text-align: left;font-weight: bold;\">Genotype</th><th style=\"text-align: left;font-weight: bold;\">Phenotypic features</th></tr>\n",
       "<tr><td style=\"text-align: left;\">F1 (FEMALE; P7Y)</td><td style=\"text-align: left;\">Conotruncal anomaly face syndrome (OMIM:217095)</td><td style=\"text-align: left;\">NM_001379200.1:c.470T>A (heterozygous)</td><td style=\"text-align: left;\">Low-set ears (HP:0000369); Velopharyngeal insufficiency (HP:0000220); Tetralogy of Fallot (HP:0001636); Pulmonary artery atresia (HP:0004935); Secundum atrial septal defect (HP:0001684); Aortopulmonary collateral arteries (HP:0031834); Hypertelorism (HP:0000316); excluded: Abnormality of the parathyroid physiology (HP:0011767); excluded: Hypoplasia of the thymus (HP:0000778)</td></tr>\n",
       "<tr><td style=\"text-align: left;\">F2 (MALE; P13Y)</td><td style=\"text-align: left;\">DiGeorge syndrome (OMIM:188400)</td><td style=\"text-align: left;\">NM_001379200.1:c.955G>A (heterozygous)</td><td style=\"text-align: left;\">Low-set ears (HP:0000369); Velopharyngeal insufficiency (HP:0000220); Abnormality of the parathyroid physiology (HP:0011767); Hearing impairment (HP:0000365); Interrupted aortic arch type B (HP:0011613); Pulmonary arterial hypertension (HP:0002092); Hypoplasia of the thymus (HP:0000778); Hypertelorism (HP:0000316)</td></tr>\n",
       "<tr><td style=\"text-align: left;\">F3-1 (FEMALE; P15Y)</td><td style=\"text-align: left;\">Conotruncal anomaly face syndrome (OMIM:217095)</td><td style=\"text-align: left;\">NM_001379200.1:c.1250del (heterozygous)</td><td style=\"text-align: left;\">Tetralogy of Fallot (HP:0001636); Right aortic arch (HP:0012020); Hypoplasia of the thymus (HP:0000778); Hypertelorism (HP:0000316); excluded: Low-set ears (HP:0000369); excluded: Velopharyngeal insufficiency (HP:0000220); excluded: Abnormality of the parathyroid physiology (HP:0011767)</td></tr>\n",
       "<tr><td style=\"text-align: left;\">F3-2 (FEMALE; P46Y)</td><td style=\"text-align: left;\">Conotruncal anomaly face syndrome (OMIM:217095)</td><td style=\"text-align: left;\">NM_001379200.1:c.1250del (heterozygous)</td><td style=\"text-align: left;\">Velopharyngeal insufficiency (HP:0000220); Hypertelorism (HP:0000316); excluded: Low-set ears (HP:0000369); excluded: Abnormality of the parathyroid physiology (HP:0011767)</td></tr>\n",
       "<tr><td style=\"text-align: left;\">F3-3 (MALE; P14Y)</td><td style=\"text-align: left;\">Conotruncal anomaly face syndrome (OMIM:217095)</td><td style=\"text-align: left;\">NM_001379200.1:c.1250del (heterozygous)</td><td style=\"text-align: left;\">Low-set ears (HP:0000369); Velopharyngeal insufficiency (HP:0000220); Abnormality of the parathyroid physiology (HP:0011767); Hypertelorism (HP:0000316); excluded: Hypoplasia of the thymus (HP:0000778)</td></tr>\n",
       "</table>"
      ],
      "text/plain": [
       "<IPython.core.display.HTML object>"
      ]
     },
     "metadata": {},
     "output_type": "display_data"
    }
   ],
   "source": [
    "cohort = cvalidator.get_error_free_individual_list()\n",
    "table = PhenopacketTable(individual_list=individuals, metadata=metadata)\n",
    "display(HTML(table.to_html()))"
   ]
  },
  {
   "cell_type": "code",
   "execution_count": 19,
   "id": "c2237233-fa84-40c6-a7f3-5f451ae58fd9",
   "metadata": {},
   "outputs": [
    {
     "name": "stdout",
     "output_type": "stream",
     "text": [
      "We output 5 GA4GH phenopackets to the directory phenopackets\n"
     ]
    }
   ],
   "source": [
    "Individual.output_individuals_as_phenopackets(individual_list=individuals, metadata=metadata)"
   ]
  },
  {
   "cell_type": "code",
   "execution_count": null,
   "id": "aefd5c6e-628b-41f8-8aa5-2a2dc2e59bfb",
   "metadata": {},
   "outputs": [],
   "source": []
  }
 ],
 "metadata": {
  "kernelspec": {
   "display_name": "ps24venv",
   "language": "python",
   "name": "ps24venv"
  },
  "language_info": {
   "codemirror_mode": {
    "name": "ipython",
    "version": 3
   },
   "file_extension": ".py",
   "mimetype": "text/x-python",
   "name": "python",
   "nbconvert_exporter": "python",
   "pygments_lexer": "ipython3",
   "version": "3.8.10"
  }
 },
 "nbformat": 4,
 "nbformat_minor": 5
}
