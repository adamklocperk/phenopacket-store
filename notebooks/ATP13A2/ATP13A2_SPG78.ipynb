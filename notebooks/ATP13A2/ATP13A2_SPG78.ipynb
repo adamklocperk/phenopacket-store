{
 "cells": [
  {
   "cell_type": "markdown",
   "id": "a7522459-1476-4119-982e-e80603fb8618",
   "metadata": {},
   "source": [
    "# ATP13A2 SPG78\n",
    "Variants in the gene for ATPase 13A2 (ATP13A2) are associated with\n",
    "- [Kufor-Rakeb syndrome](https://omim.org/entry/606693) \t\n",
    "- [Spastic paraplegia 78, autosomal recessive](https://omim.org/entry/617225)"
   ]
  },
  {
   "cell_type": "code",
   "execution_count": 3,
   "id": "17a3e4f9-d191-406c-a997-d08e662246e5",
   "metadata": {},
   "outputs": [
    {
     "name": "stdout",
     "output_type": "stream",
     "text": [
      "Using pyphetools version 0.9.44\n"
     ]
    }
   ],
   "source": [
    "import pandas as pd\n",
    "from IPython.display import display, HTML\n",
    "pd.set_option('display.max_colwidth', None) # show entire column contents, important!\n",
    "from collections import defaultdict\n",
    "from pyphetools.creation import *\n",
    "from pyphetools.visualization import IndividualTable, QcVisualizer\n",
    "from pyphetools.validation import *\n",
    "import pyphetools\n",
    "print(f\"Using pyphetools version {pyphetools.__version__}\")"
   ]
  },
  {
   "cell_type": "code",
   "execution_count": 4,
   "id": "a4bb4694-b406-4e08-96dc-bc7c84a0d88d",
   "metadata": {},
   "outputs": [
    {
     "name": "stdout",
     "output_type": "stream",
     "text": [
      "HPO version 2024-02-08\n"
     ]
    }
   ],
   "source": [
    "parser = HpoParser(hpo_json_file=\"../hp.json\")\n",
    "hpo_cr = parser.get_hpo_concept_recognizer()\n",
    "hpo_version = parser.get_version()\n",
    "hpo_ontology = parser.get_ontology()\n",
    "created_by=\"ORCID:0000-0002-0736-9199\"\n",
    "print(f\"HPO version {hpo_version}\")"
   ]
  },
  {
   "cell_type": "code",
   "execution_count": 5,
   "id": "d93a7b5c-11b9-4f47-bd8e-8a74cc20b3f0",
   "metadata": {},
   "outputs": [
    {
     "data": {
      "text/html": [
       "<div>\n",
       "<style scoped>\n",
       "    .dataframe tbody tr th:only-of-type {\n",
       "        vertical-align: middle;\n",
       "    }\n",
       "\n",
       "    .dataframe tbody tr th {\n",
       "        vertical-align: top;\n",
       "    }\n",
       "\n",
       "    .dataframe thead th {\n",
       "        text-align: right;\n",
       "    }\n",
       "</style>\n",
       "<table border=\"1\" class=\"dataframe\">\n",
       "  <thead>\n",
       "    <tr style=\"text-align: right;\">\n",
       "      <th></th>\n",
       "      <th>PMID</th>\n",
       "      <th>title</th>\n",
       "      <th>individual_id</th>\n",
       "      <th>Comment</th>\n",
       "      <th>disease_id</th>\n",
       "      <th>disease_label</th>\n",
       "      <th>transcript</th>\n",
       "      <th>allele_1</th>\n",
       "      <th>allele_2</th>\n",
       "      <th>variant.comment</th>\n",
       "      <th>...</th>\n",
       "      <th>Dystonia</th>\n",
       "      <th>Tremor</th>\n",
       "      <th>Slow saccadic eye movements</th>\n",
       "      <th>Supranuclear gaze palsy</th>\n",
       "      <th>Cerebellar atrophy</th>\n",
       "      <th>Cerebral cortical atrophy</th>\n",
       "      <th>Spastic paraplegia</th>\n",
       "      <th>Neurogenic bladder</th>\n",
       "      <th>Dementia</th>\n",
       "      <th>Aggressive behavior</th>\n",
       "    </tr>\n",
       "  </thead>\n",
       "  <tbody>\n",
       "    <tr>\n",
       "      <th>0</th>\n",
       "      <td>str</td>\n",
       "      <td>str</td>\n",
       "      <td>str</td>\n",
       "      <td>optional str</td>\n",
       "      <td>str</td>\n",
       "      <td>str</td>\n",
       "      <td>str</td>\n",
       "      <td>HGVS str</td>\n",
       "      <td>HGVS str</td>\n",
       "      <td>optional str</td>\n",
       "      <td>...</td>\n",
       "      <td>HP:0001332</td>\n",
       "      <td>HP:0001337</td>\n",
       "      <td>HP:0000514</td>\n",
       "      <td>HP:0000605</td>\n",
       "      <td>HP:0001272</td>\n",
       "      <td>HP:0002120</td>\n",
       "      <td>HP:0001258</td>\n",
       "      <td>HP:0000011</td>\n",
       "      <td>HP:0000726</td>\n",
       "      <td>HP:0000718</td>\n",
       "    </tr>\n",
       "    <tr>\n",
       "      <th>1</th>\n",
       "      <td>PMID:28137957</td>\n",
       "      <td>Loss-of-function mutations in the ATP13A2/PARK9 gene cause complicated hereditary spastic paraplegia (SPG78)</td>\n",
       "      <td>HSP84.II.1</td>\n",
       "      <td>NaN</td>\n",
       "      <td>OMIM:617225</td>\n",
       "      <td>Spastic paraplegia 78, autosomal recessive</td>\n",
       "      <td>NM_022089.4</td>\n",
       "      <td>c.1550C&gt;T</td>\n",
       "      <td>c.1550C&gt;T</td>\n",
       "      <td>p.Thr517Ile</td>\n",
       "      <td>...</td>\n",
       "      <td>excluded</td>\n",
       "      <td>excluded</td>\n",
       "      <td>excluded</td>\n",
       "      <td>excluded</td>\n",
       "      <td>observed</td>\n",
       "      <td>observed</td>\n",
       "      <td>excluded</td>\n",
       "      <td>excluded</td>\n",
       "      <td>excluded</td>\n",
       "      <td>excluded</td>\n",
       "    </tr>\n",
       "  </tbody>\n",
       "</table>\n",
       "<p>2 rows × 33 columns</p>\n",
       "</div>"
      ],
      "text/plain": [
       "            PMID  \\\n",
       "0            str   \n",
       "1  PMID:28137957   \n",
       "\n",
       "                                                                                                          title  \\\n",
       "0                                                                                                           str   \n",
       "1  Loss-of-function mutations in the ATP13A2/PARK9 gene cause complicated hereditary spastic paraplegia (SPG78)   \n",
       "\n",
       "  individual_id       Comment   disease_id  \\\n",
       "0           str  optional str          str   \n",
       "1    HSP84.II.1           NaN  OMIM:617225   \n",
       "\n",
       "                                disease_label   transcript   allele_1  \\\n",
       "0                                         str          str   HGVS str   \n",
       "1  Spastic paraplegia 78, autosomal recessive  NM_022089.4  c.1550C>T   \n",
       "\n",
       "    allele_2 variant.comment  ...    Dystonia      Tremor  \\\n",
       "0   HGVS str    optional str  ...  HP:0001332  HP:0001337   \n",
       "1  c.1550C>T     p.Thr517Ile  ...    excluded    excluded   \n",
       "\n",
       "  Slow saccadic eye movements Supranuclear gaze palsy Cerebellar atrophy  \\\n",
       "0                  HP:0000514              HP:0000605         HP:0001272   \n",
       "1                    excluded                excluded           observed   \n",
       "\n",
       "  Cerebral cortical atrophy Spastic paraplegia Neurogenic bladder    Dementia  \\\n",
       "0                HP:0002120         HP:0001258         HP:0000011  HP:0000726   \n",
       "1                  observed           excluded           excluded    excluded   \n",
       "\n",
       "  Aggressive behavior  \n",
       "0          HP:0000718  \n",
       "1            excluded  \n",
       "\n",
       "[2 rows x 33 columns]"
      ]
     },
     "execution_count": 5,
     "metadata": {},
     "output_type": "execute_result"
    }
   ],
   "source": [
    "df = pd.read_excel(\"input/ATP13A2_SPG78_individuals.xlsx\")\n",
    "df.head(2)"
   ]
  },
  {
   "cell_type": "code",
   "execution_count": 6,
   "id": "1cff95b2-1a96-45e7-b944-d57e39e6511b",
   "metadata": {},
   "outputs": [
    {
     "name": "stdout",
     "output_type": "stream",
     "text": [
      "Created encoders for 33 fields\n"
     ]
    }
   ],
   "source": [
    "encoder = CaseTemplateEncoder(df=df, hpo_cr=hpo_cr, created_by=created_by)\n",
    "individuals = encoder.get_individuals()"
   ]
  },
  {
   "cell_type": "code",
   "execution_count": 7,
   "id": "0b99b9ea-cc2f-4db8-943b-a1caedf7d8af",
   "metadata": {},
   "outputs": [
    {
     "name": "stdout",
     "output_type": "stream",
     "text": [
      "[INFO] encoding variant \"c.1550C>T\"\n",
      "https://rest.variantvalidator.org/VariantValidator/variantvalidator/hg38/NM_022089.4%3Ac.1550C>T/NM_022089.4?content-type=application%2Fjson\n",
      "[INFO] encoding variant \"c.3418C>T\"\n",
      "https://rest.variantvalidator.org/VariantValidator/variantvalidator/hg38/NM_022089.4%3Ac.3418C>T/NM_022089.4?content-type=application%2Fjson\n",
      "[INFO] encoding variant \"c.364C>T\"\n",
      "https://rest.variantvalidator.org/VariantValidator/variantvalidator/hg38/NM_022089.4%3Ac.364C>T/NM_022089.4?content-type=application%2Fjson\n",
      "[INFO] encoding variant \"c.1345C>T\"\n",
      "https://rest.variantvalidator.org/VariantValidator/variantvalidator/hg38/NM_022089.4%3Ac.1345C>T/NM_022089.4?content-type=application%2Fjson\n"
     ]
    }
   ],
   "source": [
    "vmanager = VariantManager(df=df,\n",
    "                          individual_column_name=\"individual_id\",\n",
    "                          gene_symbol=\"ATP13A2\",\n",
    "                          transcript=\"NM_022089.4\",\n",
    "                          allele_1_column_name=\"allele_1\",\n",
    "                          allele_2_column_name=\"allele_2\")"
   ]
  },
  {
   "cell_type": "code",
   "execution_count": 8,
   "id": "e4dc1d3f-9ab3-4848-b098-2c5d9d9643f0",
   "metadata": {},
   "outputs": [
    {
     "data": {
      "text/html": [
       "<div>\n",
       "<style scoped>\n",
       "    .dataframe tbody tr th:only-of-type {\n",
       "        vertical-align: middle;\n",
       "    }\n",
       "\n",
       "    .dataframe tbody tr th {\n",
       "        vertical-align: top;\n",
       "    }\n",
       "\n",
       "    .dataframe thead th {\n",
       "        text-align: right;\n",
       "    }\n",
       "</style>\n",
       "<table border=\"1\" class=\"dataframe\">\n",
       "  <thead>\n",
       "    <tr style=\"text-align: right;\">\n",
       "      <th></th>\n",
       "      <th>status</th>\n",
       "      <th>count</th>\n",
       "      <th>alleles</th>\n",
       "    </tr>\n",
       "  </thead>\n",
       "  <tbody>\n",
       "    <tr>\n",
       "      <th>0</th>\n",
       "      <td>mapped</td>\n",
       "      <td>20</td>\n",
       "      <td>c.2657T&gt;C, c.2608C&gt;T, c.3253del, c.3176T&gt;G, c.1459C&gt;T, c.1101_1102dup, c.2455C&gt;T, c.3057del, c.2629G&gt;A, c.1321A&gt;T, c.2572C&gt;T, c.3205G&gt;A, c.2552_2553del, c.2822del, c.2561T&gt;G, c.2473delinsAA, c.1550C&gt;T, c.3418C&gt;T, c.364C&gt;T, c.1345C&gt;T</td>\n",
       "    </tr>\n",
       "    <tr>\n",
       "      <th>1</th>\n",
       "      <td>unmapped</td>\n",
       "      <td>0</td>\n",
       "      <td></td>\n",
       "    </tr>\n",
       "  </tbody>\n",
       "</table>\n",
       "</div>"
      ],
      "text/plain": [
       "     status  count  \\\n",
       "0    mapped     20   \n",
       "1  unmapped      0   \n",
       "\n",
       "                                                                                                                                                                                                                                    alleles  \n",
       "0  c.2657T>C, c.2608C>T, c.3253del, c.3176T>G, c.1459C>T, c.1101_1102dup, c.2455C>T, c.3057del, c.2629G>A, c.1321A>T, c.2572C>T, c.3205G>A, c.2552_2553del, c.2822del, c.2561T>G, c.2473delinsAA, c.1550C>T, c.3418C>T, c.364C>T, c.1345C>T  \n",
       "1                                                                                                                                                                                                                                            "
      ]
     },
     "execution_count": 8,
     "metadata": {},
     "output_type": "execute_result"
    }
   ],
   "source": [
    "vmanager.to_summary()"
   ]
  },
  {
   "cell_type": "code",
   "execution_count": 9,
   "id": "985bef89-8311-45bc-837d-71a2847df402",
   "metadata": {},
   "outputs": [],
   "source": [
    "vmanager.add_variants_to_individuals(individuals)"
   ]
  },
  {
   "cell_type": "code",
   "execution_count": 10,
   "id": "c0a8858c-2136-413d-92fd-3a4a7999750a",
   "metadata": {},
   "outputs": [
    {
     "data": {
      "text/html": [
       "<h2>Cohort validation</h2>\n",
       "<p>No errors found for the cohort with 5 individuals</p>"
      ],
      "text/plain": [
       "<IPython.core.display.HTML object>"
      ]
     },
     "metadata": {},
     "output_type": "display_data"
    }
   ],
   "source": [
    "cvalidator = CohortValidator(cohort=individuals, ontology=hpo_ontology, min_hpo=1, allelic_requirement=AllelicRequirement.BI_ALLELIC)\n",
    "qc = QcVisualizer(cohort_validator=cvalidator)\n",
    "display(HTML(qc.to_summary_html()))"
   ]
  },
  {
   "cell_type": "code",
   "execution_count": 11,
   "id": "920ddba0-7841-4caf-943f-bb4f8c2b7824",
   "metadata": {},
   "outputs": [
    {
     "data": {
      "text/html": [
       "<table style=\"border: 2px solid black; align: \"left\">\n",
       "<caption>5 phenopackets - PMID:28137957 (n=5)</caption>\n",
       "<tr><th style=\"text-align: left;font-weight: bold;\">Individual</th><th style=\"text-align: left;font-weight: bold;\">Disease</th><th style=\"text-align: left;font-weight: bold;\">Genotype</th><th style=\"text-align: left;font-weight: bold;\">Phenotypic features</th></tr>\n",
       "<tr><td style=\"text-align: left;\">HSP84.II.1 (MALE; P30Y)</td><td style=\"text-align: left;\">Spastic paraplegia 78, autosomal recessive (OMIM:617225)</td><td style=\"text-align: left;\">NM_022089.4:c.1550C>T (homozygous)</td><td style=\"text-align: left;\">Ataxia (HP:0001251); Motor axonal neuropathy (HP:0007002); Sensory axonal neuropathy (HP:0003390); Dysarthria (HP:0001260); Memory impairment (HP:0002354); Babinski sign (HP:0003487); Cerebellar atrophy (HP:0001272); Cerebral cortical atrophy (HP:0002120); excluded: Parkinsonism (HP:0001300); excluded: Skeletal muscle atrophy (HP:0003202); excluded: Bradykinesia (HP:0002067); excluded: Dystonia (HP:0001332); excluded: Tremor (HP:0001337); excluded: Slow saccadic eye movements (HP:0000514); excluded: Supranuclear gaze palsy (HP:0000605); excluded: Spastic paraplegia (HP:0001258); excluded: Neurogenic bladder (HP:0000011); excluded: Dementia (HP:0000726); excluded: Aggressive behavior (HP:0000718)</td></tr>\n",
       "<tr><td style=\"text-align: left;\">HSP84.II.3 (MALE; P33Y)</td><td style=\"text-align: left;\">Spastic paraplegia 78, autosomal recessive (OMIM:617225)</td><td style=\"text-align: left;\">NM_022089.4:c.1550C>T (homozygous)</td><td style=\"text-align: left;\">Ataxia (HP:0001251); Motor axonal neuropathy (HP:0007002); Sensory axonal neuropathy (HP:0003390); Dysarthria (HP:0001260); Babinski sign (HP:0003487); Cerebral cortical atrophy (HP:0002120); excluded: Parkinsonism (HP:0001300); excluded: Memory impairment (HP:0002354); excluded: Skeletal muscle atrophy (HP:0003202); excluded: Bradykinesia (HP:0002067); excluded: Dystonia (HP:0001332); excluded: Tremor (HP:0001337); excluded: Slow saccadic eye movements (HP:0000514); excluded: Supranuclear gaze palsy (HP:0000605); excluded: Cerebellar atrophy (HP:0001272); excluded: Spastic paraplegia (HP:0001258); excluded: Neurogenic bladder (HP:0000011); excluded: Dementia (HP:0000726); excluded: Aggressive behavior (HP:0000718)</td></tr>\n",
       "<tr><td style=\"text-align: left;\">HSP84.II.4 (MALE; P30Y)</td><td style=\"text-align: left;\">Spastic paraplegia 78, autosomal recessive (OMIM:617225)</td><td style=\"text-align: left;\">NM_022089.4:c.1550C>T (homozygous)</td><td style=\"text-align: left;\">Ataxia (HP:0001251); Motor axonal neuropathy (HP:0007002); Sensory axonal neuropathy (HP:0003390); Dysarthria (HP:0001260); Memory impairment (HP:0002354); Babinski sign (HP:0003487); Cerebellar atrophy (HP:0001272); Cerebral cortical atrophy (HP:0002120); excluded: Parkinsonism (HP:0001300); excluded: Skeletal muscle atrophy (HP:0003202); excluded: Bradykinesia (HP:0002067); excluded: Dystonia (HP:0001332); excluded: Tremor (HP:0001337); excluded: Slow saccadic eye movements (HP:0000514); excluded: Supranuclear gaze palsy (HP:0000605); excluded: Spastic paraplegia (HP:0001258); excluded: Neurogenic bladder (HP:0000011); excluded: Dementia (HP:0000726); excluded: Aggressive behavior (HP:0000718)</td></tr>\n",
       "<tr><td style=\"text-align: left;\">HIH21480.II.3 (FEMALE; P36Y)</td><td style=\"text-align: left;\">Spastic paraplegia 78, autosomal recessive (OMIM:617225)</td><td style=\"text-align: left;\">NM_022089.4:c.364C>T (homozygous)</td><td style=\"text-align: left;\">Ataxia (HP:0001251); Motor axonal neuropathy (HP:0007002); Dysarthria (HP:0001260); Supranuclear gaze palsy (HP:0000605); Cerebellar atrophy (HP:0001272); Cerebral cortical atrophy (HP:0002120); Spastic paraplegia (HP:0001258); Neurogenic bladder (HP:0000011); Dementia (HP:0000726); excluded: Parkinsonism (HP:0001300); excluded: Sensory axonal neuropathy (HP:0003390); excluded: Babinski sign (HP:0003487); excluded: Skeletal muscle atrophy (HP:0003202); excluded: Bradykinesia (HP:0002067); excluded: Dystonia (HP:0001332); excluded: Tremor (HP:0001337); excluded: Slow saccadic eye movements (HP:0000514); excluded: Aggressive behavior (HP:0000718)</td></tr>\n",
       "<tr><td style=\"text-align: left;\">HIH22132.II.1 (FEMALE; P32Y)</td><td style=\"text-align: left;\">Spastic paraplegia 78, autosomal recessive (OMIM:617225)</td><td style=\"text-align: left;\"><ul> <li>NM_022089.4:c.1345C>T (heterozygous)</li> <li>NM_022089.4:c.3418C>T (heterozygous)</li> </ul></td><td style=\"text-align: left;\">Ataxia (HP:0001251); Sensory axonal neuropathy (HP:0003390); Dysarthria (HP:0001260); Babinski sign (HP:0003487); Bradykinesia (HP:0002067); Dystonia (HP:0001332); Tremor (HP:0001337); Supranuclear gaze palsy (HP:0000605); Cerebellar atrophy (HP:0001272); Cerebral cortical atrophy (HP:0002120); Dementia (HP:0000726); Aggressive behavior (HP:0000718); excluded: Parkinsonism (HP:0001300); excluded: Motor axonal neuropathy (HP:0007002); excluded: Skeletal muscle atrophy (HP:0003202); excluded: Slow saccadic eye movements (HP:0000514)</td></tr>\n",
       "</table>"
      ],
      "text/plain": [
       "<IPython.core.display.HTML object>"
      ]
     },
     "metadata": {},
     "output_type": "display_data"
    }
   ],
   "source": [
    "individuals = cvalidator.get_error_free_individual_list()\n",
    "table = IndividualTable(individuals)\n",
    "display(HTML(table.to_html()))"
   ]
  },
  {
   "cell_type": "code",
   "execution_count": null,
   "id": "525c1259-537c-4d7c-b593-11a71dfef4d9",
   "metadata": {},
   "outputs": [],
   "source": []
  }
 ],
 "metadata": {
  "kernelspec": {
   "display_name": "Python 3 (ipykernel)",
   "language": "python",
   "name": "python3"
  },
  "language_info": {
   "codemirror_mode": {
    "name": "ipython",
    "version": 3
   },
   "file_extension": ".py",
   "mimetype": "text/x-python",
   "name": "python",
   "nbconvert_exporter": "python",
   "pygments_lexer": "ipython3",
   "version": "3.8.10"
  }
 },
 "nbformat": 4,
 "nbformat_minor": 5
}
