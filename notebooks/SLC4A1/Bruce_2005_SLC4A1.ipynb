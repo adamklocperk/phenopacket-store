{
 "cells": [
  {
   "cell_type": "markdown",
   "id": "d68ac397-78c1-4c71-a81e-4e5ea504dac1",
   "metadata": {},
   "source": [
    "# SLC4A1\n",
    "\n",
    "Data derived from [Bruce LJ, et al. (2005) Monovalent cation leaks in human red cells caused by single amino-acid substitutions in the transport domain of the band 3 chloride-bicarbonate exchanger, AE1. Nat Genet. ;37(11):1258-63. PMID:16227998.](https://pubmed.ncbi.nlm.nih.gov/16227998/)\n",
    "\n",
    "The authors identified 11 human pedigrees with dominantly inherited hemolytic anemias in both the hereditary stomatocytosis and spherocytosis classes. Affected individuals in these families had an increase in membrane permeability to Na and K that is particularly marked at 0 °C.  They identified 11 pedigrees with three different abnormal phenotypes, two stomatocytic and one spherocytic, with large cation leak fluxes at 0 °C (Table 1 and Supplementary Fig. 1 online)\n"
   ]
  },
  {
   "cell_type": "code",
   "execution_count": null,
   "id": "d0009171-a6b1-4a7f-b2f9-ba87ae489e42",
   "metadata": {},
   "outputs": [],
   "source": []
  }
 ],
 "metadata": {
  "kernelspec": {
   "display_name": "ps24venv",
   "language": "python",
   "name": "ps24venv"
  },
  "language_info": {
   "codemirror_mode": {
    "name": "ipython",
    "version": 3
   },
   "file_extension": ".py",
   "mimetype": "text/x-python",
   "name": "python",
   "nbconvert_exporter": "python",
   "pygments_lexer": "ipython3",
   "version": "3.8.10"
  }
 },
 "nbformat": 4,
 "nbformat_minor": 5
}
