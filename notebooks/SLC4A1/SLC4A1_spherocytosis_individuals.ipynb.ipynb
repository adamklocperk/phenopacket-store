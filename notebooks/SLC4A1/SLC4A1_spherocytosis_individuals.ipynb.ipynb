{
 "cells": [
  {
   "cell_type": "markdown",
   "id": "c8f6a3fe-7102-41ec-963d-9906f654bfce",
   "metadata": {},
   "source": [
    "# SLC4A1 Spherocytosis, type 4 \tIndividuals\n",
    "See [OMIM:612653](https://omim.org/entry/612653)."
   ]
  },
  {
   "cell_type": "code",
   "execution_count": 1,
   "id": "af44cf4c-ac57-41b0-bb7a-95dbd4a9c40f",
   "metadata": {},
   "outputs": [
    {
     "name": "stdout",
     "output_type": "stream",
     "text": [
      "Using pyphetools version 0.9.34\n"
     ]
    }
   ],
   "source": [
    "import pandas as pd\n",
    "from IPython.display import display, HTML\n",
    "pd.set_option('display.max_colwidth', None) # show entire column contents, important!\n",
    "from collections import defaultdict\n",
    "from pyphetools.creation import *\n",
    "from pyphetools.visualization import IndividualTable, QcVisualizer\n",
    "from pyphetools.validation import *\n",
    "import pyphetools\n",
    "print(f\"Using pyphetools version {pyphetools.__version__}\")"
   ]
  },
  {
   "cell_type": "code",
   "execution_count": 2,
   "id": "d811c896-7dea-4508-b12e-1932567a42dd",
   "metadata": {},
   "outputs": [
    {
     "name": "stdout",
     "output_type": "stream",
     "text": [
      "HPO version 2024-01-16\n"
     ]
    }
   ],
   "source": [
    "parser = HpoParser(hpo_json_file=\"../hp.json\")\n",
    "hpo_cr = parser.get_hpo_concept_recognizer()\n",
    "hpo_version = parser.get_version()\n",
    "hpo_ontology = parser.get_ontology()\n",
    "created_by=\"ORCID:0000-0002-0736-9199\"\n",
    "print(f\"HPO version {hpo_version}\")"
   ]
  },
  {
   "cell_type": "code",
   "execution_count": 3,
   "id": "092e78be-2847-4c86-8b57-ddde9d5e997e",
   "metadata": {},
   "outputs": [
    {
     "data": {
      "text/html": [
       "<div>\n",
       "<style scoped>\n",
       "    .dataframe tbody tr th:only-of-type {\n",
       "        vertical-align: middle;\n",
       "    }\n",
       "\n",
       "    .dataframe tbody tr th {\n",
       "        vertical-align: top;\n",
       "    }\n",
       "\n",
       "    .dataframe thead th {\n",
       "        text-align: right;\n",
       "    }\n",
       "</style>\n",
       "<table border=\"1\" class=\"dataframe\">\n",
       "  <thead>\n",
       "    <tr style=\"text-align: right;\">\n",
       "      <th></th>\n",
       "      <th>PMID</th>\n",
       "      <th>title</th>\n",
       "      <th>individual_id</th>\n",
       "      <th>Comment</th>\n",
       "      <th>disease_id</th>\n",
       "      <th>disease_label</th>\n",
       "      <th>transcript</th>\n",
       "      <th>allele_1</th>\n",
       "      <th>allele_2</th>\n",
       "      <th>variant.comment</th>\n",
       "      <th>...</th>\n",
       "      <th>Hyperbilirubinemia</th>\n",
       "      <th>Reduced haptoglobin level</th>\n",
       "      <th>Reticulocytosis</th>\n",
       "      <th>Asthenia</th>\n",
       "      <th>Increased red cell osmotic fragility</th>\n",
       "      <th>Cholelithiasis</th>\n",
       "      <th>Coombs-positive hemolytic anemia</th>\n",
       "      <th>Increased total bilirubin</th>\n",
       "      <th>Unconjugated hyperbilirubinemia</th>\n",
       "      <th>Jaundice</th>\n",
       "    </tr>\n",
       "  </thead>\n",
       "  <tbody>\n",
       "    <tr>\n",
       "      <th>0</th>\n",
       "      <td>str</td>\n",
       "      <td>str</td>\n",
       "      <td>str</td>\n",
       "      <td>optional str</td>\n",
       "      <td>str</td>\n",
       "      <td>str</td>\n",
       "      <td>str</td>\n",
       "      <td>HGVS str</td>\n",
       "      <td>HGVS str</td>\n",
       "      <td>optional str</td>\n",
       "      <td>...</td>\n",
       "      <td>HP:0002904</td>\n",
       "      <td>HP:0020181</td>\n",
       "      <td>HP:0001923</td>\n",
       "      <td>HP:0025406</td>\n",
       "      <td>HP:0005502</td>\n",
       "      <td>HP:0001081</td>\n",
       "      <td>HP:0004844</td>\n",
       "      <td>HP:0003573</td>\n",
       "      <td>HP:0008282</td>\n",
       "      <td>HP:0000952</td>\n",
       "    </tr>\n",
       "    <tr>\n",
       "      <th>1</th>\n",
       "      <td>PMID:8704215</td>\n",
       "      <td>Hereditary spherocytosis with band 3 deficiency. Association with a nonsense mutation of the band 3 gene (allele Lyon), and aggravation by a low-expression allele occurring in trans (allele Genas)</td>\n",
       "      <td>proband_18y</td>\n",
       "      <td>NaN</td>\n",
       "      <td>OMIM:612653</td>\n",
       "      <td>Spherocytosis, type 4</td>\n",
       "      <td>NM_000342.4</td>\n",
       "      <td>c.448C&gt;T</td>\n",
       "      <td>na</td>\n",
       "      <td>NM_000342.3(SLC4A1):c.448C&gt;T (p.Arg150Ter)</td>\n",
       "      <td>...</td>\n",
       "      <td>observed</td>\n",
       "      <td>observed</td>\n",
       "      <td>observed</td>\n",
       "      <td>observed</td>\n",
       "      <td>observed</td>\n",
       "      <td>observed</td>\n",
       "      <td>NaN</td>\n",
       "      <td>NaN</td>\n",
       "      <td>NaN</td>\n",
       "      <td>NaN</td>\n",
       "    </tr>\n",
       "    <tr>\n",
       "      <th>2</th>\n",
       "      <td>PMID:36463227</td>\n",
       "      <td>A novel variant of SLC4A1 for hereditary spherocytosis in a Chinese family: a case report and systematic review</td>\n",
       "      <td>case</td>\n",
       "      <td>NaN</td>\n",
       "      <td>OMIM:612653</td>\n",
       "      <td>Spherocytosis, type 4</td>\n",
       "      <td>NM_000342.4</td>\n",
       "      <td>c.1985G&gt;A</td>\n",
       "      <td>na</td>\n",
       "      <td>c.G1985A: p.W662X</td>\n",
       "      <td>...</td>\n",
       "      <td>NaN</td>\n",
       "      <td>NaN</td>\n",
       "      <td>observed</td>\n",
       "      <td>NaN</td>\n",
       "      <td>observed</td>\n",
       "      <td>observed</td>\n",
       "      <td>excluded</td>\n",
       "      <td>observed</td>\n",
       "      <td>observed</td>\n",
       "      <td>observed</td>\n",
       "    </tr>\n",
       "  </tbody>\n",
       "</table>\n",
       "<p>3 rows × 30 columns</p>\n",
       "</div>"
      ],
      "text/plain": [
       "            PMID  \\\n",
       "0            str   \n",
       "1   PMID:8704215   \n",
       "2  PMID:36463227   \n",
       "\n",
       "                                                                                                                                                                                                  title  \\\n",
       "0                                                                                                                                                                                                   str   \n",
       "1  Hereditary spherocytosis with band 3 deficiency. Association with a nonsense mutation of the band 3 gene (allele Lyon), and aggravation by a low-expression allele occurring in trans (allele Genas)   \n",
       "2                                                                                       A novel variant of SLC4A1 for hereditary spherocytosis in a Chinese family: a case report and systematic review   \n",
       "\n",
       "  individual_id       Comment   disease_id          disease_label  \\\n",
       "0           str  optional str          str                    str   \n",
       "1   proband_18y           NaN  OMIM:612653  Spherocytosis, type 4   \n",
       "2          case           NaN  OMIM:612653  Spherocytosis, type 4   \n",
       "\n",
       "    transcript   allele_1  allele_2  \\\n",
       "0          str   HGVS str  HGVS str   \n",
       "1  NM_000342.4   c.448C>T        na   \n",
       "2  NM_000342.4  c.1985G>A        na   \n",
       "\n",
       "                               variant.comment  ... Hyperbilirubinemia  \\\n",
       "0                                 optional str  ...         HP:0002904   \n",
       "1  NM_000342.3(SLC4A1):c.448C>T (p.Arg150Ter)   ...           observed   \n",
       "2                            c.G1985A: p.W662X  ...                NaN   \n",
       "\n",
       "  Reduced haptoglobin level Reticulocytosis    Asthenia  \\\n",
       "0                HP:0020181      HP:0001923  HP:0025406   \n",
       "1                  observed        observed    observed   \n",
       "2                       NaN        observed         NaN   \n",
       "\n",
       "  Increased red cell osmotic fragility Cholelithiasis  \\\n",
       "0                           HP:0005502     HP:0001081   \n",
       "1                             observed       observed   \n",
       "2                             observed       observed   \n",
       "\n",
       "  Coombs-positive hemolytic anemia Increased total bilirubin  \\\n",
       "0                       HP:0004844                HP:0003573   \n",
       "1                              NaN                       NaN   \n",
       "2                         excluded                  observed   \n",
       "\n",
       "  Unconjugated hyperbilirubinemia    Jaundice  \n",
       "0                      HP:0008282  HP:0000952  \n",
       "1                             NaN         NaN  \n",
       "2                        observed    observed  \n",
       "\n",
       "[3 rows x 30 columns]"
      ]
     },
     "execution_count": 3,
     "metadata": {},
     "output_type": "execute_result"
    }
   ],
   "source": [
    "df = pd.read_excel(\"input/slc4a1_SPH4_individuals.xlsx\")\n",
    "df.head()"
   ]
  },
  {
   "cell_type": "code",
   "execution_count": 4,
   "id": "6f8f7ec7-a8e2-47a2-8a58-73b9d8f25a31",
   "metadata": {},
   "outputs": [
    {
     "name": "stdout",
     "output_type": "stream",
     "text": [
      "Created encoders for 30 fields\n"
     ]
    }
   ],
   "source": [
    "from pyphetools.creation import CaseTemplateEncoder\n",
    "encoder = CaseTemplateEncoder(df=df, hpo_cr=hpo_cr, created_by=created_by)"
   ]
  },
  {
   "cell_type": "code",
   "execution_count": 5,
   "id": "f8833912-f349-4e2e-9703-90962bb76ba9",
   "metadata": {},
   "outputs": [],
   "source": [
    "individuals = encoder.get_individuals()"
   ]
  },
  {
   "cell_type": "code",
   "execution_count": 6,
   "id": "a3779085-a4d4-4227-913d-5c338bb5e549",
   "metadata": {},
   "outputs": [],
   "source": [
    "vmanager = VariantManager(df=df,\n",
    "                          individual_column_name=\"individual_id\",\n",
    "                          cohort_name=\"SLC4A1\",\n",
    "                          transcript=\"NM_000342.4\",\n",
    "                          allele_1_column_name=\"allele_1\")"
   ]
  },
  {
   "cell_type": "code",
   "execution_count": 7,
   "id": "ca0621a6-8ca7-4569-9931-02daf0fd2368",
   "metadata": {},
   "outputs": [
    {
     "data": {
      "text/html": [
       "<div>\n",
       "<style scoped>\n",
       "    .dataframe tbody tr th:only-of-type {\n",
       "        vertical-align: middle;\n",
       "    }\n",
       "\n",
       "    .dataframe tbody tr th {\n",
       "        vertical-align: top;\n",
       "    }\n",
       "\n",
       "    .dataframe thead th {\n",
       "        text-align: right;\n",
       "    }\n",
       "</style>\n",
       "<table border=\"1\" class=\"dataframe\">\n",
       "  <thead>\n",
       "    <tr style=\"text-align: right;\">\n",
       "      <th></th>\n",
       "      <th>status</th>\n",
       "      <th>count</th>\n",
       "      <th>alleles</th>\n",
       "    </tr>\n",
       "  </thead>\n",
       "  <tbody>\n",
       "    <tr>\n",
       "      <th>0</th>\n",
       "      <td>mapped</td>\n",
       "      <td>6</td>\n",
       "      <td>c.1462G&gt;A, c.2573C&gt;A, c.2102G&gt;A, c.1199_1225del, c.448C&gt;T, c.1985G&gt;A</td>\n",
       "    </tr>\n",
       "    <tr>\n",
       "      <th>1</th>\n",
       "      <td>unmapped</td>\n",
       "      <td>0</td>\n",
       "      <td></td>\n",
       "    </tr>\n",
       "  </tbody>\n",
       "</table>\n",
       "</div>"
      ],
      "text/plain": [
       "     status  count  \\\n",
       "0    mapped      6   \n",
       "1  unmapped      0   \n",
       "\n",
       "                                                                alleles  \n",
       "0  c.1462G>A, c.2573C>A, c.2102G>A, c.1199_1225del, c.448C>T, c.1985G>A  \n",
       "1                                                                        "
      ]
     },
     "execution_count": 7,
     "metadata": {},
     "output_type": "execute_result"
    }
   ],
   "source": [
    "vmanager.to_summary()"
   ]
  },
  {
   "cell_type": "code",
   "execution_count": 8,
   "id": "953495c7-da35-4080-a654-c7554546cc14",
   "metadata": {},
   "outputs": [],
   "source": [
    "vmanager.add_variants_to_individuals(individuals)"
   ]
  },
  {
   "cell_type": "code",
   "execution_count": 9,
   "id": "37aa0698-2b42-4104-aa72-ebc98d67c04e",
   "metadata": {},
   "outputs": [
    {
     "data": {
      "text/html": [
       "<h2>Cohort validation</h2>\n",
       "<p>No errors found for the cohort with 2 individuals</p>"
      ],
      "text/plain": [
       "<IPython.core.display.HTML object>"
      ]
     },
     "metadata": {},
     "output_type": "display_data"
    }
   ],
   "source": [
    "cvalidator = CohortValidator(cohort=individuals, ontology=hpo_ontology, min_hpo=1, allelic_requirement=AllelicRequirement.MONO_ALLELIC)\n",
    "qc = QcVisualizer(cohort_validator=cvalidator)\n",
    "display(HTML(qc.to_summary_html()))"
   ]
  },
  {
   "cell_type": "code",
   "execution_count": 10,
   "id": "c8d11c9b-5daa-4edf-a7c7-caaa24b77cc8",
   "metadata": {},
   "outputs": [
    {
     "data": {
      "text/html": [
       "<table style=\"border: 2px solid black; align: \"left\">\n",
       "<caption>2 phenopackets - PMID:8704215 (n=1); PMID:36463227 (n=1)</caption>\n",
       "<tr><th style=\"text-align: left;font-weight: bold;\">Individual</th><th style=\"text-align: left;font-weight: bold;\">Disease</th><th style=\"text-align: left;font-weight: bold;\">Genotype</th><th style=\"text-align: left;font-weight: bold;\">Phenotypic features</th></tr>\n",
       "<tr><td style=\"text-align: left;\">proband_18y (MALE; )</td><td style=\"text-align: left;\">Spherocytosis, type 4 (OMIM:612653)</td><td style=\"text-align: left;\">NM_000342.4:c.448C>T (heterozygous)</td><td style=\"text-align: left;\">Anemia (HP:0001903); Anemic pallor (HP:0001017); Conjunctival icterus (HP:0032106); Splenomegaly (HP:0001744); Anisocytosis (HP:0011273); Microspherocytosis (HP:0004835); Hyperbilirubinemia (HP:0002904); Reduced haptoglobin level (HP:0020181); Reticulocytosis (HP:0001923); Asthenia (HP:0025406); Increased red cell osmotic fragility (HP:0005502); Cholelithiasis (HP:0001081); excluded: Hepatomegaly (HP:0002240)</td></tr>\n",
       "<tr><td style=\"text-align: left;\">case (MALE; )</td><td style=\"text-align: left;\">Spherocytosis, type 4 (OMIM:612653)</td><td style=\"text-align: left;\">NM_000342.4:c.1985G>A (heterozygous)</td><td style=\"text-align: left;\">Anemia (HP:0001903); Splenomegaly (HP:0001744); Reticulocytosis (HP:0001923); Increased red cell osmotic fragility (HP:0005502); Cholelithiasis (HP:0001081); Increased total bilirubin (HP:0003573); Unconjugated hyperbilirubinemia (HP:0008282); Jaundice (HP:0000952); excluded: Coombs-positive hemolytic anemia (HP:0004844)</td></tr>\n",
       "</table>"
      ],
      "text/plain": [
       "<IPython.core.display.HTML object>"
      ]
     },
     "metadata": {},
     "output_type": "display_data"
    }
   ],
   "source": [
    "individuals = cvalidator.get_error_free_individual_list()\n",
    "table = IndividualTable(individuals)\n",
    "display(HTML(table.to_html()))"
   ]
  },
  {
   "cell_type": "code",
   "execution_count": 11,
   "id": "3428fa6a-6e43-4098-b72e-afb624f186ce",
   "metadata": {},
   "outputs": [
    {
     "name": "stdout",
     "output_type": "stream",
     "text": [
      "We output 2 GA4GH phenopackets to the directory phenopackets\n"
     ]
    }
   ],
   "source": [
    "encoder.output_individuals_as_phenopackets(individual_list=individuals)"
   ]
  },
  {
   "cell_type": "code",
   "execution_count": null,
   "id": "c1ac5ce5-b61c-4b62-8954-7adcb890559a",
   "metadata": {},
   "outputs": [],
   "source": []
  }
 ],
 "metadata": {
  "kernelspec": {
   "display_name": "ps24venv",
   "language": "python",
   "name": "ps24venv"
  },
  "language_info": {
   "codemirror_mode": {
    "name": "ipython",
    "version": 3
   },
   "file_extension": ".py",
   "mimetype": "text/x-python",
   "name": "python",
   "nbconvert_exporter": "python",
   "pygments_lexer": "ipython3",
   "version": "3.8.10"
  }
 },
 "nbformat": 4,
 "nbformat_minor": 5
}
