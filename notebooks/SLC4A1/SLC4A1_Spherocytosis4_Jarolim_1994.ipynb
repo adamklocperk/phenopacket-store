{
 "cells": [
  {
   "cell_type": "markdown",
   "id": "e7f04ce3-5955-4a02-b138-c8fa00ebdba5",
   "metadata": {},
   "source": [
    "# SLC4A1: Spherocytosis, type 4  Jarolim, 1999\n",
    "\n",
    "Data in this notebook derived from [Jarolim P, et al (1994) Duplication of 10 nucleotides in the erythroid band 3 (AE1) gene in a kindred with hereditary spherocytosis and band 3 protein deficiency (band 3PRAGUE). J Clin Invest. 1994 Jan;93(1):121-30. PMID:8282779](https://pubmed.ncbi.nlm.nih.gov/8282779/).\n",
    "\n",
    "The variant is NM_000342.3(SLC4A1):c.2464_2465insCACCCAGATG (p.Val822Alafs) (ClinVar accession VCV000017758.3)\n",
    "VariantValidator corrects to: NM_000342.3:c.2455_2464dupCACCCAGATG"
   ]
  },
  {
   "cell_type": "code",
   "execution_count": 1,
   "id": "1d02f08d-af7b-4fc3-bf21-3751483e64df",
   "metadata": {},
   "outputs": [
    {
     "name": "stdout",
     "output_type": "stream",
     "text": [
      "Using pyphetools version 0.9.34\n"
     ]
    }
   ],
   "source": [
    "import pandas as pd\n",
    "from IPython.display import display, HTML\n",
    "pd.set_option('display.max_colwidth', None) # show entire column contents, important!\n",
    "from collections import defaultdict\n",
    "from pyphetools.creation import *\n",
    "from pyphetools.visualization import PhenopacketTable, QcVisualizer\n",
    "from pyphetools.validation import *\n",
    "import pyphetools\n",
    "print(f\"Using pyphetools version {pyphetools.__version__}\")"
   ]
  },
  {
   "cell_type": "code",
   "execution_count": 2,
   "id": "79813f94-933a-4116-9225-f16188492b03",
   "metadata": {},
   "outputs": [
    {
     "name": "stdout",
     "output_type": "stream",
     "text": [
      "HPO version 2024-01-16\n"
     ]
    }
   ],
   "source": [
    "PMID=\"PMID:8282779\"\n",
    "title = \"Duplication of 10 nucleotides in the erythroid band 3 (AE1) gene in a kindred with hereditary spherocytosis and band 3 protein deficiency (band 3PRAGUE)\"\n",
    "cite = Citation(pmid=PMID, title=title)\n",
    "parser = HpoParser(hpo_json_file=\"../hp.json\")\n",
    "hpo_cr = parser.get_hpo_concept_recognizer()\n",
    "hpo_version = parser.get_version()\n",
    "hpo_ontology = parser.get_ontology()\n",
    "metadata = MetaData(created_by=\"ORCID:0000-0002-0736-9199\", citation=cite)\n",
    "metadata.default_versions_with_hpo(version=hpo_version)\n",
    "print(f\"HPO version {hpo_version}\")"
   ]
  },
  {
   "cell_type": "markdown",
   "id": "62fec877-3f29-45f4-bb62-cd0f40f5ee9b",
   "metadata": {},
   "source": [
    "## Clinical description\n",
    "\n",
    "Table I shows hematological parameters in the affected family members. Before splenectomy, the affected subjects had a compensated hemolytic disease with reticulocytosis, hyperbilirubinemia, and increased osmotic fragility."
   ]
  },
  {
   "cell_type": "code",
   "execution_count": 3,
   "id": "9f165855-3a39-4f49-9ee0-7f912825cd98",
   "metadata": {},
   "outputs": [
    {
     "data": {
      "text/html": [
       "<div>\n",
       "<style scoped>\n",
       "    .dataframe tbody tr th:only-of-type {\n",
       "        vertical-align: middle;\n",
       "    }\n",
       "\n",
       "    .dataframe tbody tr th {\n",
       "        vertical-align: top;\n",
       "    }\n",
       "\n",
       "    .dataframe thead th {\n",
       "        text-align: right;\n",
       "    }\n",
       "</style>\n",
       "<table border=\"1\" class=\"dataframe\">\n",
       "  <thead>\n",
       "    <tr style=\"text-align: right;\">\n",
       "      <th></th>\n",
       "      <th>Patient</th>\n",
       "      <th>dob</th>\n",
       "      <th>Sex</th>\n",
       "      <th>Splenectomy</th>\n",
       "      <th>Hemoglobin</th>\n",
       "      <th>Hemoglobin after splenectomy</th>\n",
       "      <th>Hematocrit</th>\n",
       "      <th>Hematocrit after splenectomy</th>\n",
       "      <th>MCV</th>\n",
       "      <th>reticulocytes</th>\n",
       "      <th>reticulocytes after splenectomy</th>\n",
       "      <th>Bilirubin (total)</th>\n",
       "      <th>Bilirubin (total) after splenectomy</th>\n",
       "      <th>Osmotic fragility</th>\n",
       "      <th>NM_000342.3</th>\n",
       "    </tr>\n",
       "  </thead>\n",
       "  <tbody>\n",
       "    <tr>\n",
       "      <th>0</th>\n",
       "      <td>I/1</td>\n",
       "      <td>1934</td>\n",
       "      <td>FEMALE</td>\n",
       "      <td>1975</td>\n",
       "      <td>NaN</td>\n",
       "      <td>16.3</td>\n",
       "      <td>NaN</td>\n",
       "      <td>46.1</td>\n",
       "      <td>84</td>\n",
       "      <td>NaN</td>\n",
       "      <td>2.7</td>\n",
       "      <td>NaN</td>\n",
       "      <td>12.1</td>\n",
       "      <td>0.58-0.34</td>\n",
       "      <td>c.2464_2465insCACCCAGATG</td>\n",
       "    </tr>\n",
       "    <tr>\n",
       "      <th>1</th>\n",
       "      <td>II/1</td>\n",
       "      <td>1959</td>\n",
       "      <td>FEMALE</td>\n",
       "      <td>1986</td>\n",
       "      <td>NaN</td>\n",
       "      <td>15.5</td>\n",
       "      <td>NaN</td>\n",
       "      <td>42.9</td>\n",
       "      <td>86</td>\n",
       "      <td>NaN</td>\n",
       "      <td>1.4</td>\n",
       "      <td>23.0</td>\n",
       "      <td>16.0</td>\n",
       "      <td>0.56-0.47</td>\n",
       "      <td>c.2464_2465insCACCCAGATG</td>\n",
       "    </tr>\n",
       "    <tr>\n",
       "      <th>2</th>\n",
       "      <td>II/2</td>\n",
       "      <td>1961</td>\n",
       "      <td>FEMALE</td>\n",
       "      <td>1989</td>\n",
       "      <td>15.1</td>\n",
       "      <td>16.0</td>\n",
       "      <td>43.0</td>\n",
       "      <td>43.7</td>\n",
       "      <td>74</td>\n",
       "      <td>9.1</td>\n",
       "      <td>1.3</td>\n",
       "      <td>23.2</td>\n",
       "      <td>5.9</td>\n",
       "      <td>0.62-0.32</td>\n",
       "      <td>c.2464_2465insCACCCAGATG</td>\n",
       "    </tr>\n",
       "    <tr>\n",
       "      <th>3</th>\n",
       "      <td>III/I</td>\n",
       "      <td>1983</td>\n",
       "      <td>FEMALE</td>\n",
       "      <td>-</td>\n",
       "      <td>15.6</td>\n",
       "      <td>NaN</td>\n",
       "      <td>40.0</td>\n",
       "      <td>NaN</td>\n",
       "      <td>71</td>\n",
       "      <td>7.6</td>\n",
       "      <td>NaN</td>\n",
       "      <td>18.8</td>\n",
       "      <td>NaN</td>\n",
       "      <td>0.58-0.38</td>\n",
       "      <td>c.2464_2465insCACCCAGATG</td>\n",
       "    </tr>\n",
       "    <tr>\n",
       "      <th>4</th>\n",
       "      <td>III/2</td>\n",
       "      <td>1985</td>\n",
       "      <td>MALE</td>\n",
       "      <td>-</td>\n",
       "      <td>12.9</td>\n",
       "      <td>NaN</td>\n",
       "      <td>33.3</td>\n",
       "      <td>NaN</td>\n",
       "      <td>77</td>\n",
       "      <td>5.9</td>\n",
       "      <td>NaN</td>\n",
       "      <td>31.7</td>\n",
       "      <td>NaN</td>\n",
       "      <td>0.52-0.40</td>\n",
       "      <td>c.2464_2465insCACCCAGATG</td>\n",
       "    </tr>\n",
       "  </tbody>\n",
       "</table>\n",
       "</div>"
      ],
      "text/plain": [
       "  Patient   dob     Sex Splenectomy  Hemoglobin  Hemoglobin after splenectomy  \\\n",
       "0     I/1  1934  FEMALE        1975         NaN                          16.3   \n",
       "1    II/1  1959  FEMALE        1986         NaN                          15.5   \n",
       "2    II/2  1961  FEMALE        1989        15.1                          16.0   \n",
       "3   III/I  1983  FEMALE           -        15.6                           NaN   \n",
       "4   III/2  1985    MALE           -        12.9                           NaN   \n",
       "\n",
       "   Hematocrit  Hematocrit after splenectomy  MCV  reticulocytes  \\\n",
       "0         NaN                          46.1   84            NaN   \n",
       "1         NaN                          42.9   86            NaN   \n",
       "2        43.0                          43.7   74            9.1   \n",
       "3        40.0                           NaN   71            7.6   \n",
       "4        33.3                           NaN   77            5.9   \n",
       "\n",
       "   reticulocytes after splenectomy  Bilirubin (total)  \\\n",
       "0                              2.7                NaN   \n",
       "1                              1.4               23.0   \n",
       "2                              1.3               23.2   \n",
       "3                              NaN               18.8   \n",
       "4                              NaN               31.7   \n",
       "\n",
       "   Bilirubin (total) after splenectomy Osmotic fragility  \\\n",
       "0                                 12.1         0.58-0.34   \n",
       "1                                 16.0         0.56-0.47   \n",
       "2                                  5.9         0.62-0.32   \n",
       "3                                  NaN         0.58-0.38   \n",
       "4                                  NaN         0.52-0.40   \n",
       "\n",
       "                NM_000342.3  \n",
       "0  c.2464_2465insCACCCAGATG  \n",
       "1  c.2464_2465insCACCCAGATG  \n",
       "2  c.2464_2465insCACCCAGATG  \n",
       "3  c.2464_2465insCACCCAGATG  \n",
       "4  c.2464_2465insCACCCAGATG  "
      ]
     },
     "execution_count": 3,
     "metadata": {},
     "output_type": "execute_result"
    }
   ],
   "source": [
    "df = pd.read_excel(\"input/jarolim1994.xlsx\")\n",
    "df.head()"
   ]
  },
  {
   "cell_type": "code",
   "execution_count": 4,
   "id": "812b96f5-0a80-4b6c-837a-83534499c13d",
   "metadata": {},
   "outputs": [],
   "source": [
    "def create_individual(individual_id, age, sex, mcv, splenectomy=False):\n",
    "    pfeatures = []\n",
    "    pfeatures.append(HpTerm(hpo_id=\"HP:0001923\", label=\"Reticulocytosis\", observed=\"True\"))\n",
    "    pfeatures.append(HpTerm(hpo_id=\"HP:0003573\", label=\"Increased total bilirubin\", observed=\"True\"))\n",
    "    pfeatures.append(HpTerm(hpo_id=\"HP:0005502\", label=\"Increased red cell osmotic fragility\", observed=\"True\"))\n",
    "    pfeatures.append(HpTerm(hpo_id=\"HP:0004444\", label=\"Spherocytosis\", observed=\"True\"))\n",
    "    pfeatures.append(HpTerm(hpo_id=\"HP:0001878\", label=\"Hemolytic anemia\", observed=\"True\"))\n",
    "    if splenectomy:\n",
    "        pfeatures.append(HpTerm(hpo_id=\"HP:0001744\", label=\"Splenomegaly\", observed=\"True\"))\n",
    "    if mcv < 80:\n",
    "        #A normal MCV range is roughly 80–100 fl .\n",
    "        pfeatures.append(HpTerm(hpo_id=\"HP:0025066\", label=\"Decreased mean corpuscular volume\", observed=\"True\")) \n",
    "    disease = Disease(disease_id=\"OMIM:612653\", disease_label=\"Spherocytosis, type 4\")\n",
    "    i = Individual(individual_id=individual_id, age=age, sex=sex, hpo_terms=pfeatures)\n",
    "    i.set_disease(disease)\n",
    "    return i"
   ]
  },
  {
   "cell_type": "code",
   "execution_count": 5,
   "id": "f3eb4290-35c3-44f5-a8ee-01fff0208e01",
   "metadata": {},
   "outputs": [
    {
     "name": "stdout",
     "output_type": "stream",
     "text": [
      "https://rest.variantvalidator.org/VariantValidator/variantvalidator/hg38/NM_000342.3%3Ac.2455_2464dupCACCCAGATG/NM_000342.3?content-type=application%2Fjson\n"
     ]
    }
   ],
   "source": [
    "SLC4A1_transcript = \"NM_000342.3\"\n",
    "vvalidator = VariantValidator(genome_build=\"hg38\", transcript=SLC4A1_transcript)\n",
    "var = vvalidator.encode_hgvs(\"c.2455_2464dupCACCCAGATG\")\n",
    "var.set_heterozygous()"
   ]
  },
  {
   "cell_type": "code",
   "execution_count": 6,
   "id": "fc9c9258-64f1-479f-a75b-429356287301",
   "metadata": {},
   "outputs": [],
   "source": [
    "individuals = []\n",
    "for i, row in df.iterrows():\n",
    "    #print(row)\n",
    "    individual_id = row[\"Patient\"]\n",
    "    years = 1999 - int(row[\"dob\"])\n",
    "    age = f\"P{years}Y\"\n",
    "    if row[\"Splenectomy\"] != \"-\":\n",
    "        splenectomy = True\n",
    "    else:\n",
    "        splenectomy = False\n",
    "    mcv = float(row[\"MCV\"])\n",
    "    sex = row[\"Sex\"]\n",
    "    indi = create_individual(individual_id, age, sex, mcv, splenectomy)\n",
    "    indi.add_variant(var)\n",
    "    individuals.append(indi)"
   ]
  },
  {
   "cell_type": "code",
   "execution_count": 7,
   "id": "4ed019ba-0599-4d32-929d-fdc6c0babc6e",
   "metadata": {},
   "outputs": [
    {
     "data": {
      "text/html": [
       "<h2>Cohort validation</h2>\n",
       "<p>No errors found for the cohort with 5 individuals</p>"
      ],
      "text/plain": [
       "<IPython.core.display.HTML object>"
      ]
     },
     "metadata": {},
     "output_type": "display_data"
    }
   ],
   "source": [
    "cvalidator = CohortValidator(cohort=individuals, ontology=hpo_ontology, min_hpo=1, allelic_requirement=AllelicRequirement.MONO_ALLELIC)\n",
    "qc = QcVisualizer(cohort_validator=cvalidator)\n",
    "display(HTML(qc.to_html()))"
   ]
  },
  {
   "cell_type": "code",
   "execution_count": 8,
   "id": "66e1ea3f-c3b8-4807-b21f-40378a343042",
   "metadata": {},
   "outputs": [
    {
     "data": {
      "text/html": [
       "<table style=\"border: 2px solid black; align: \"left\">\n",
       "<caption>5 phenopackets - PMID:8282779 (n=5)</caption>\n",
       "<tr><th style=\"text-align: left;font-weight: bold;\">Individual</th><th style=\"text-align: left;font-weight: bold;\">Disease</th><th style=\"text-align: left;font-weight: bold;\">Genotype</th><th style=\"text-align: left;font-weight: bold;\">Phenotypic features</th></tr>\n",
       "<tr><td style=\"text-align: left;\">I/1 (FEMALE; P65Y)</td><td style=\"text-align: left;\">Spherocytosis, type 4 (OMIM:612653)</td><td style=\"text-align: left;\">NM_000342.3:c.2455_2464dup (heterozygous)</td><td style=\"text-align: left;\">Reticulocytosis (HP:0001923); Increased total bilirubin (HP:0003573); Increased red cell osmotic fragility (HP:0005502); Spherocytosis (HP:0004444); Hemolytic anemia (HP:0001878); Splenomegaly (HP:0001744)</td></tr>\n",
       "<tr><td style=\"text-align: left;\">II/1 (FEMALE; P40Y)</td><td style=\"text-align: left;\">Spherocytosis, type 4 (OMIM:612653)</td><td style=\"text-align: left;\">NM_000342.3:c.2455_2464dup (heterozygous)</td><td style=\"text-align: left;\">Reticulocytosis (HP:0001923); Increased total bilirubin (HP:0003573); Increased red cell osmotic fragility (HP:0005502); Spherocytosis (HP:0004444); Hemolytic anemia (HP:0001878); Splenomegaly (HP:0001744)</td></tr>\n",
       "<tr><td style=\"text-align: left;\">II/2 (FEMALE; P38Y)</td><td style=\"text-align: left;\">Spherocytosis, type 4 (OMIM:612653)</td><td style=\"text-align: left;\">NM_000342.3:c.2455_2464dup (heterozygous)</td><td style=\"text-align: left;\">Reticulocytosis (HP:0001923); Increased total bilirubin (HP:0003573); Increased red cell osmotic fragility (HP:0005502); Spherocytosis (HP:0004444); Hemolytic anemia (HP:0001878); Splenomegaly (HP:0001744); Decreased mean corpuscular volume (HP:0025066)</td></tr>\n",
       "<tr><td style=\"text-align: left;\">III/I (FEMALE; P16Y)</td><td style=\"text-align: left;\">Spherocytosis, type 4 (OMIM:612653)</td><td style=\"text-align: left;\">NM_000342.3:c.2455_2464dup (heterozygous)</td><td style=\"text-align: left;\">Reticulocytosis (HP:0001923); Increased total bilirubin (HP:0003573); Increased red cell osmotic fragility (HP:0005502); Spherocytosis (HP:0004444); Hemolytic anemia (HP:0001878); Decreased mean corpuscular volume (HP:0025066)</td></tr>\n",
       "<tr><td style=\"text-align: left;\">III/2 (MALE; P14Y)</td><td style=\"text-align: left;\">Spherocytosis, type 4 (OMIM:612653)</td><td style=\"text-align: left;\">NM_000342.3:c.2455_2464dup (heterozygous)</td><td style=\"text-align: left;\">Reticulocytosis (HP:0001923); Increased total bilirubin (HP:0003573); Increased red cell osmotic fragility (HP:0005502); Spherocytosis (HP:0004444); Hemolytic anemia (HP:0001878); Decreased mean corpuscular volume (HP:0025066)</td></tr>\n",
       "</table>"
      ],
      "text/plain": [
       "<IPython.core.display.HTML object>"
      ]
     },
     "metadata": {},
     "output_type": "display_data"
    }
   ],
   "source": [
    "table = PhenopacketTable(individual_list=individuals, metadata=metadata)\n",
    "display(HTML(table.to_html()))"
   ]
  },
  {
   "cell_type": "code",
   "execution_count": 9,
   "id": "502ba368-5673-4a42-afeb-15ef0f6beaf7",
   "metadata": {},
   "outputs": [
    {
     "name": "stdout",
     "output_type": "stream",
     "text": [
      "We output 5 GA4GH phenopackets to the directory phenopackets\n"
     ]
    }
   ],
   "source": [
    "Individual.output_individuals_as_phenopackets(individual_list=individuals, metadata=metadata)"
   ]
  },
  {
   "cell_type": "code",
   "execution_count": null,
   "id": "eb74fd3d-f070-4db0-875f-9a630197d440",
   "metadata": {},
   "outputs": [],
   "source": []
  }
 ],
 "metadata": {
  "kernelspec": {
   "display_name": "ps24venv",
   "language": "python",
   "name": "ps24venv"
  },
  "language_info": {
   "codemirror_mode": {
    "name": "ipython",
    "version": 3
   },
   "file_extension": ".py",
   "mimetype": "text/x-python",
   "name": "python",
   "nbconvert_exporter": "python",
   "pygments_lexer": "ipython3",
   "version": "3.8.10"
  }
 },
 "nbformat": 4,
 "nbformat_minor": 5
}
