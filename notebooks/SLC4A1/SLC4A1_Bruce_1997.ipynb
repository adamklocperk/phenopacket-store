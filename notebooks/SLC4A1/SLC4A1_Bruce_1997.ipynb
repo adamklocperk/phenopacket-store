{
 "cells": [
  {
   "cell_type": "markdown",
   "id": "ecbc4171-bb59-40cd-aec2-a66df216ddd4",
   "metadata": {},
   "source": [
    "# SLC4A1 Bruce et al., 1997. Distal renal tubular acidosis 1 \t179800 \n",
    "\n",
    "Data derived from [Bruce LJ (1997) Familial distal renal tubular acidosis is associated with mutations in the red cell anion exchanger (Band 3, AE1) gene. J Clin Invest 100:1693-707. PMID: 9312167](https://pubmed.ncbi.nlm.nih.gov/9312167/)\n",
    "\n",
    "Variants were encoded as follows\n",
    "\n",
    "-  family A: G->A mutation at 1766 (R589H) - NM_000342.4(SLC4A1):c.1766G>A (p.Arg589His)\n",
    "-  family B: G->A mutation at 1766 (R589H) - NM_000342.4(SLC4A1):c.1766G>A (p.Arg589His)\n",
    "-  family C: C->T mutation at 1765 (R589C) - NM_000342.4(SLC4A1):c.1765C>T (p.Arg589Cys)\n",
    "-  family D: C->T mutation at 1838 (S613F) - NM_000342.4(SLC4A1):c.1838C>T (p.Ser613Phe) "
   ]
  },
  {
   "cell_type": "code",
   "execution_count": 1,
   "id": "376949fd-aa8c-4fca-9916-c58703d7b1db",
   "metadata": {},
   "outputs": [
    {
     "name": "stdout",
     "output_type": "stream",
     "text": [
      "Using pyphetools version 0.9.15\n"
     ]
    }
   ],
   "source": [
    "import pandas as pd\n",
    "from IPython.display import display, HTML\n",
    "pd.set_option('display.max_colwidth', None) # show entire column contents, important!\n",
    "from collections import defaultdict\n",
    "from pyphetools.creation import *\n",
    "from pyphetools.visualization import PhenopacketTable, QcVisualizer\n",
    "from pyphetools.validation import *\n",
    "import pyphetools\n",
    "print(f\"Using pyphetools version {pyphetools.__version__}\")"
   ]
  },
  {
   "cell_type": "code",
   "execution_count": 2,
   "id": "c20678c6-82e6-48d7-8ad2-1cd4ebef886d",
   "metadata": {},
   "outputs": [
    {
     "name": "stdout",
     "output_type": "stream",
     "text": [
      "HPO version 2023-10-09\n"
     ]
    }
   ],
   "source": [
    "PMID=\"PMID:9312167\"\n",
    "title = \"Familial distal renal tubular acidosis is associated with mutations in the red cell anion exchanger (Band 3, AE1) gene\"\n",
    "cite = Citation(pmid=PMID, title=title)\n",
    "parser = HpoParser(hpo_json_file=\"../hp.json\")\n",
    "hpo_cr = parser.get_hpo_concept_recognizer()\n",
    "hpo_version = parser.get_version()\n",
    "hpo_ontology = parser.get_ontology()\n",
    "metadata = MetaData(created_by=\"ORCID:0000-0002-0736-9199\", citation=cite)\n",
    "metadata.default_versions_with_hpo(version=hpo_version)\n",
    "print(f\"HPO version {hpo_version}\")"
   ]
  },
  {
   "cell_type": "code",
   "execution_count": 3,
   "id": "607003c6-507e-4fe9-801b-c1040e87592f",
   "metadata": {},
   "outputs": [],
   "source": [
    "df = pd.read_csv(\"input/bruce_SLC4A1.tsv\", sep='\\t')"
   ]
  },
  {
   "cell_type": "code",
   "execution_count": 4,
   "id": "4f01e7ee-cf2b-4b15-9ef5-ada33ac1e061",
   "metadata": {},
   "outputs": [
    {
     "data": {
      "text/html": [
       "<div>\n",
       "<style scoped>\n",
       "    .dataframe tbody tr th:only-of-type {\n",
       "        vertical-align: middle;\n",
       "    }\n",
       "\n",
       "    .dataframe tbody tr th {\n",
       "        vertical-align: top;\n",
       "    }\n",
       "\n",
       "    .dataframe thead th {\n",
       "        text-align: right;\n",
       "    }\n",
       "</style>\n",
       "<table border=\"1\" class=\"dataframe\">\n",
       "  <thead>\n",
       "    <tr style=\"text-align: right;\">\n",
       "      <th></th>\n",
       "      <th>individual</th>\n",
       "      <th>Sex/Age</th>\n",
       "      <th>Creatinine(plasma)</th>\n",
       "      <th>HCO3(plasma)</th>\n",
       "      <th>K(Plasma)</th>\n",
       "      <th>min_pH(urine)</th>\n",
       "      <th>maximumOsm(urine)</th>\n",
       "      <th>Age</th>\n",
       "      <th>nephrocalcinosis</th>\n",
       "      <th>kidney stones</th>\n",
       "      <th>dRTA</th>\n",
       "      <th>raised hemoglobin</th>\n",
       "      <th>raised hematocrti</th>\n",
       "      <th>NM_000342.4</th>\n",
       "    </tr>\n",
       "  </thead>\n",
       "  <tbody>\n",
       "    <tr>\n",
       "      <th>0</th>\n",
       "      <td>A:I:1</td>\n",
       "      <td>F/60</td>\n",
       "      <td>74</td>\n",
       "      <td>24</td>\n",
       "      <td>4.1</td>\n",
       "      <td>6.26</td>\n",
       "      <td>635</td>\n",
       "      <td>74</td>\n",
       "      <td>No</td>\n",
       "      <td>Yes</td>\n",
       "      <td>Yes</td>\n",
       "      <td>No</td>\n",
       "      <td>No</td>\n",
       "      <td>c.1766G&gt;A</td>\n",
       "    </tr>\n",
       "    <tr>\n",
       "      <th>1</th>\n",
       "      <td>A:I:2</td>\n",
       "      <td>F/40</td>\n",
       "      <td>86</td>\n",
       "      <td>18</td>\n",
       "      <td>3.4</td>\n",
       "      <td>6.35</td>\n",
       "      <td>572</td>\n",
       "      <td>71</td>\n",
       "      <td>Yes</td>\n",
       "      <td>Yes</td>\n",
       "      <td>No</td>\n",
       "      <td>No</td>\n",
       "      <td>No</td>\n",
       "      <td>c.1766G&gt;A</td>\n",
       "    </tr>\n",
       "    <tr>\n",
       "      <th>2</th>\n",
       "      <td>A:I:3</td>\n",
       "      <td>F/44</td>\n",
       "      <td>177</td>\n",
       "      <td>14</td>\n",
       "      <td>4.0</td>\n",
       "      <td>6.6</td>\n",
       "      <td>n.t.</td>\n",
       "      <td>died 60</td>\n",
       "      <td>Yes</td>\n",
       "      <td>No</td>\n",
       "      <td>Yes</td>\n",
       "      <td>No</td>\n",
       "      <td>No</td>\n",
       "      <td>c.1766G&gt;A</td>\n",
       "    </tr>\n",
       "    <tr>\n",
       "      <th>3</th>\n",
       "      <td>A:II:3</td>\n",
       "      <td>M/27</td>\n",
       "      <td>115</td>\n",
       "      <td>23</td>\n",
       "      <td>3.1</td>\n",
       "      <td>6.45</td>\n",
       "      <td>525</td>\n",
       "      <td>47</td>\n",
       "      <td>Yes</td>\n",
       "      <td>Yes</td>\n",
       "      <td>Yes</td>\n",
       "      <td>No</td>\n",
       "      <td>No</td>\n",
       "      <td>c.1766G&gt;A</td>\n",
       "    </tr>\n",
       "    <tr>\n",
       "      <th>4</th>\n",
       "      <td>A:II:5</td>\n",
       "      <td>F/35</td>\n",
       "      <td>88</td>\n",
       "      <td>25</td>\n",
       "      <td>3.7</td>\n",
       "      <td>6.09</td>\n",
       "      <td>855</td>\n",
       "      <td>35</td>\n",
       "      <td>No</td>\n",
       "      <td>No</td>\n",
       "      <td>Yes</td>\n",
       "      <td>No</td>\n",
       "      <td>No</td>\n",
       "      <td>c.1766G&gt;A</td>\n",
       "    </tr>\n",
       "  </tbody>\n",
       "</table>\n",
       "</div>"
      ],
      "text/plain": [
       "  individual Sex/Age  Creatinine(plasma)  HCO3(plasma)  K(Plasma)  \\\n",
       "0      A:I:1    F/60                  74            24        4.1   \n",
       "1      A:I:2    F/40                  86            18        3.4   \n",
       "2      A:I:3    F/44                 177            14        4.0   \n",
       "3     A:II:3    M/27                 115            23        3.1   \n",
       "4     A:II:5    F/35                  88            25        3.7   \n",
       "\n",
       "  min_pH(urine) maximumOsm(urine)      Age nephrocalcinosis kidney stones  \\\n",
       "0          6.26               635       74               No           Yes   \n",
       "1          6.35               572       71              Yes           Yes   \n",
       "2           6.6              n.t.  died 60              Yes            No   \n",
       "3          6.45               525       47              Yes           Yes   \n",
       "4          6.09               855       35               No            No   \n",
       "\n",
       "  dRTA raised hemoglobin raised hematocrti NM_000342.4  \n",
       "0  Yes                No                No   c.1766G>A  \n",
       "1   No                No                No   c.1766G>A  \n",
       "2  Yes                No                No   c.1766G>A  \n",
       "3  Yes                No                No   c.1766G>A  \n",
       "4  Yes                No                No   c.1766G>A  "
      ]
     },
     "execution_count": 4,
     "metadata": {},
     "output_type": "execute_result"
    }
   ],
   "source": [
    "df.head()"
   ]
  },
  {
   "cell_type": "code",
   "execution_count": 5,
   "id": "ec1244f3-b54e-46ea-abff-fceb52764fd5",
   "metadata": {},
   "outputs": [
    {
     "data": {
      "text/html": [
       "<table style=\"border: 2px solid black;\">\n",
       "\n",
       "<tr>\n",
       "            <th>Result</th>\n",
       "            <th>Columns</th>\n",
       "        </tr>\n",
       "      \n",
       "<tr><td>Mapped</td><td>nephrocalcinosis; kidney stones</td></tr>\n",
       "<tr><td>Unmapped</td><td><q>individual</q>; <q>Sex/Age</q>; <q>Creatinine(plasma)</q>; <q>HCO3(plasma)</q>; <q>K(Plasma)</q>; <q>min_pH(urine)</q>; <q>maximumOsm(urine)</q>; <q>Age</q>; <q>dRTA</q>; <q>raised hemoglobin</q>; <q>raised hematocrti</q>; <q>NM_000342.4</q></td></tr>\n",
       "</table>\n"
      ],
      "text/plain": [
       "<IPython.core.display.HTML object>"
      ]
     },
     "metadata": {},
     "output_type": "display_data"
    }
   ],
   "source": [
    "generator = SimpleColumnMapperGenerator(df=df, hpo_cr=hpo_cr, observed=\"Yes\", excluded=\"No\")\n",
    "column_mapper_d = generator.try_mapping_columns()\n",
    "display(HTML(generator.to_html()))"
   ]
  },
  {
   "cell_type": "code",
   "execution_count": 6,
   "id": "880049bb-3ce9-4f21-bb77-01d8ee9eddc4",
   "metadata": {},
   "outputs": [],
   "source": [
    "# Creatinine(plasma). Normal 50–125\n",
    "# Elevated circulating creatinine concentration HP:0003259\n",
    "\n",
    "creaTM = ThresholdedColumnMapper(hpo_id=\"HP:0003259\", \n",
    "                                 hpo_label=\"Elevated circulating creatinine concentration\",\n",
    "                                threshold=125,\n",
    "                                call_if_above=True)\n",
    "#creaTM.preview_column(df[\"Creatinine(plasma)\"])\n",
    "column_mapper_d[\"Creatinine(plasma)\"] = creaTM"
   ]
  },
  {
   "cell_type": "code",
   "execution_count": 7,
   "id": "caf52335-112c-4358-9188-f71f94b5318a",
   "metadata": {},
   "outputs": [],
   "source": [
    "# HCO3(plasma) 22–31 \n",
    "# Decreased serum bicarbonate concentration HP:0032066\n",
    "bicarbTM = ThresholdedColumnMapper(hpo_id=\"HP:0032066\", \n",
    "                                 hpo_label=\"Decreased serum bicarbonate concentration\",\n",
    "                                threshold=22,\n",
    "                                call_if_above=False)\n",
    "bicarbTM.preview_column(df[\"HCO3(plasma)\"])\n",
    "column_mapper_d[\"HCO3(plasma)\"] = bicarbTM"
   ]
  },
  {
   "cell_type": "code",
   "execution_count": 8,
   "id": "6c89859e-cb18-4532-aa9d-c2654dce58b3",
   "metadata": {},
   "outputs": [],
   "source": [
    "# K (plasma): 3.4–4.8 \n",
    "# Hypokalemia HP:0002900\n",
    "kTM = ThresholdedColumnMapper(hpo_id=\"HP:0002900\", \n",
    "                                 hpo_label=\"Hypokalemia\",\n",
    "                                threshold=3.4,\n",
    "                                call_if_above=False)\n",
    "kTM.preview_column(df[\"K(Plasma)\"])\n",
    "column_mapper_d[\"K(Plasma)\"] = kTM"
   ]
  },
  {
   "cell_type": "code",
   "execution_count": 9,
   "id": "374c62b3-7392-4243-aca6-da093393bc35",
   "metadata": {},
   "outputs": [],
   "source": [
    "# min_pH(urine) < 5.30\n",
    "# \"HP:0032944\", \"Alkaline urine\",\n",
    "alkU_TM = ThresholdedColumnMapper(hpo_id=\"HP:0032944\", \n",
    "                                 hpo_label=\"Alkaline urine\",\n",
    "                                threshold=5.3,\n",
    "                                call_if_above=True)\n",
    "alkU_TM.preview_column(df[\"min_pH(urine)\"])\n",
    "column_mapper_d[\"min_pH(urine)\"] = alkU_TM"
   ]
  },
  {
   "cell_type": "code",
   "execution_count": 10,
   "id": "027ed770-fb0b-46c2-9261-d94046ecfaf0",
   "metadata": {},
   "outputs": [],
   "source": [
    "# maximumOsm(urine) >  940\n",
    "# Impaired renal concentrating ability HP:0004727\n",
    "concTM = ThresholdedColumnMapper(hpo_id=\"HP:0004727\", \n",
    "                                 hpo_label=\"Impaired renal concentrating ability\",\n",
    "                                threshold=940,\n",
    "                                call_if_above=False)\n",
    "concTM.preview_column(df[\"maximumOsm(urine)\"])\n",
    "column_mapper_d[\"maximumOsm(urine)\"] = concTM"
   ]
  },
  {
   "cell_type": "code",
   "execution_count": 11,
   "id": "2d56e8c1-a248-402a-a56a-10cd446cd476",
   "metadata": {},
   "outputs": [],
   "source": [
    "# dRTA\n",
    "#  HP:0008341 Distal renal tubular acidosis\n",
    "dRTA = SimpleColumnMapper(hpo_id=\"HP:0008341\", hpo_label=\"Distal renal tubular acidosis\", observed=\"Yes\", excluded=\"No\")\n",
    "#dRTA.preview_column(df[\"dRTA\"])\n",
    "column_mapper_d[\"dRTA\"] = dRTA"
   ]
  },
  {
   "cell_type": "code",
   "execution_count": 12,
   "id": "aea1933f-348e-4904-bb13-96b8145a9dc6",
   "metadata": {},
   "outputs": [],
   "source": [
    "df[\"Sex\"] =  df[\"Sex/Age\"].apply(lambda x: x.split(\"/\")[0])\n",
    "df[\"Age\"] =  df[\"Sex/Age\"].apply(lambda x: x.split(\"/\")[1])\n",
    "ageMapper = AgeColumnMapper.by_year(column_name=\"Age\")\n",
    "sexMapper = SexColumnMapper(male_symbol=\"M\", female_symbol=\"F\", column_name=\"Sex\")"
   ]
  },
  {
   "cell_type": "code",
   "execution_count": 13,
   "id": "72a73199-8e6f-48e4-b68b-df57c04966e2",
   "metadata": {},
   "outputs": [
    {
     "name": "stdout",
     "output_type": "stream",
     "text": [
      "https://rest.variantvalidator.org/VariantValidator/variantvalidator/hg38/NM_000342.4%3Ac.1766G>A/NM_000342.4?content-type=application%2Fjson\n",
      "https://rest.variantvalidator.org/VariantValidator/variantvalidator/hg38/NM_000342.4%3Ac.1765C>T/NM_000342.4?content-type=application%2Fjson\n",
      "https://rest.variantvalidator.org/VariantValidator/variantvalidator/hg38/NM_000342.4%3Ac.1838C>T/NM_000342.4?content-type=application%2Fjson\n"
     ]
    }
   ],
   "source": [
    "SLC4A1_transcript = \"NM_000342.4\"\n",
    "vvalidator = VariantValidator(genome_build=\"hg38\", transcript=SLC4A1_transcript)\n",
    "var_d = {}\n",
    "for v in df[\"NM_000342.4\"].unique():\n",
    "    var = vvalidator.encode_hgvs(v)\n",
    "    var_d[v] = var\n",
    "varMapper = VariantColumnMapper(variant_column_name=\"NM_000342.4\", variant_d=var_d, default_genotype=\"heterozygous\")"
   ]
  },
  {
   "cell_type": "code",
   "execution_count": 14,
   "id": "b8b81d12-1f08-4af9-b7ed-a1516b9e21ba",
   "metadata": {},
   "outputs": [],
   "source": [
    "encoder = CohortEncoder(df=df, \n",
    "                        hpo_cr=hpo_cr, \n",
    "                        column_mapper_d=column_mapper_d, \n",
    "                        individual_column_name=\"individual\", \n",
    "                        agemapper=ageMapper, \n",
    "                        sexmapper=sexMapper,\n",
    "                        variant_mapper=varMapper,\n",
    "                        metadata=metadata)\n",
    " \t \n",
    "rta1 = Disease(disease_id='OMIM:179800', disease_label='Distal renal tubular acidosis 1')\n",
    "encoder.set_disease(rta1)"
   ]
  },
  {
   "cell_type": "code",
   "execution_count": 15,
   "id": "98d3cccc-39c1-4703-ba2e-8493dc4d3d22",
   "metadata": {},
   "outputs": [],
   "source": [
    "individuals = encoder.get_individuals()"
   ]
  },
  {
   "cell_type": "code",
   "execution_count": 17,
   "id": "97bb72c9-824a-4597-9848-845edbbfb5e9",
   "metadata": {},
   "outputs": [
    {
     "data": {
      "text/html": [
       "<h2>Cohort validation</h2>\n",
       "<p>No errors found for the cohort with 18 individuals</p>"
      ],
      "text/plain": [
       "<IPython.core.display.HTML object>"
      ]
     },
     "metadata": {},
     "output_type": "display_data"
    }
   ],
   "source": [
    "cvalidator = CohortValidator(cohort=individuals, ontology=hpo_ontology, min_hpo=1, allelic_requirement=AllelicRequirement.MONO_ALLELIC)\n",
    "qc = QcVisualizer(cohort_validator=cvalidator)\n",
    "display(HTML(qc.to_html()))"
   ]
  },
  {
   "cell_type": "code",
   "execution_count": 18,
   "id": "3c9c435e-3186-4b3f-8e8d-cc5c00f455e3",
   "metadata": {},
   "outputs": [
    {
     "data": {
      "text/html": [
       "<table style=\"border: 2px solid black; align: \"left\">\n",
       "<caption>18 phenopackets - PMID:9312167 (n=18)</caption>\n",
       "<tr><th style=\"text-align: left;font-weight: bold;\">Individual</th><th style=\"text-align: left;font-weight: bold;\">Disease</th><th style=\"text-align: left;font-weight: bold;\">Genotype</th><th style=\"text-align: left;font-weight: bold;\">Phenotypic features</th></tr>\n",
       "<tr><td style=\"text-align: left;\">A:I:1 (FEMALE; P60Y)</td><td style=\"text-align: left;\">Distal renal tubular acidosis 1 (OMIM:179800)</td><td style=\"text-align: left;\">NM_000342.4:c.1766G>A (heterozygous)</td><td style=\"text-align: left;\">Nephrolithiasis (HP:0000787); Alkaline urine (HP:0032944); Impaired renal concentrating ability (HP:0004727); Distal renal tubular acidosis (HP:0008341); excluded: Nephrocalcinosis (HP:0000121); excluded: Elevated circulating creatinine concentration (HP:0003259); excluded: Decreased serum bicarbonate concentration (HP:0032066); excluded: Hypokalemia (HP:0002900)</td></tr>\n",
       "<tr><td style=\"text-align: left;\">A:I:2 (FEMALE; P40Y)</td><td style=\"text-align: left;\">Distal renal tubular acidosis 1 (OMIM:179800)</td><td style=\"text-align: left;\">NM_000342.4:c.1766G>A (heterozygous)</td><td style=\"text-align: left;\">Nephrocalcinosis (HP:0000121); Nephrolithiasis (HP:0000787); Decreased serum bicarbonate concentration (HP:0032066); Hypokalemia (HP:0002900); Alkaline urine (HP:0032944); Impaired renal concentrating ability (HP:0004727); excluded: Elevated circulating creatinine concentration (HP:0003259); excluded: Distal renal tubular acidosis (HP:0008341)</td></tr>\n",
       "<tr><td style=\"text-align: left;\">A:I:3 (FEMALE; P44Y)</td><td style=\"text-align: left;\">Distal renal tubular acidosis 1 (OMIM:179800)</td><td style=\"text-align: left;\">NM_000342.4:c.1766G>A (heterozygous)</td><td style=\"text-align: left;\">Nephrocalcinosis (HP:0000121); Elevated circulating creatinine concentration (HP:0003259); Decreased serum bicarbonate concentration (HP:0032066); Alkaline urine (HP:0032944); Distal renal tubular acidosis (HP:0008341); excluded: Nephrolithiasis (HP:0000787); excluded: Hypokalemia (HP:0002900)</td></tr>\n",
       "<tr><td style=\"text-align: left;\">A:II:3 (MALE; P27Y)</td><td style=\"text-align: left;\">Distal renal tubular acidosis 1 (OMIM:179800)</td><td style=\"text-align: left;\">NM_000342.4:c.1766G>A (heterozygous)</td><td style=\"text-align: left;\">Nephrocalcinosis (HP:0000121); Nephrolithiasis (HP:0000787); Hypokalemia (HP:0002900); Alkaline urine (HP:0032944); Impaired renal concentrating ability (HP:0004727); Distal renal tubular acidosis (HP:0008341); excluded: Elevated circulating creatinine concentration (HP:0003259); excluded: Decreased serum bicarbonate concentration (HP:0032066)</td></tr>\n",
       "<tr><td style=\"text-align: left;\">A:II:5 (FEMALE; P35Y)</td><td style=\"text-align: left;\">Distal renal tubular acidosis 1 (OMIM:179800)</td><td style=\"text-align: left;\">NM_000342.4:c.1766G>A (heterozygous)</td><td style=\"text-align: left;\">Alkaline urine (HP:0032944); Impaired renal concentrating ability (HP:0004727); Distal renal tubular acidosis (HP:0008341); excluded: Nephrocalcinosis (HP:0000121); excluded: Nephrolithiasis (HP:0000787); excluded: Elevated circulating creatinine concentration (HP:0003259); excluded: Decreased serum bicarbonate concentration (HP:0032066); excluded: Hypokalemia (HP:0002900)</td></tr>\n",
       "<tr><td style=\"text-align: left;\">A:II:6 (MALE; P36Y)</td><td style=\"text-align: left;\">Distal renal tubular acidosis 1 (OMIM:179800)</td><td style=\"text-align: left;\">NM_000342.4:c.1766G>A (heterozygous)</td><td style=\"text-align: left;\">Nephrocalcinosis (HP:0000121); Decreased serum bicarbonate concentration (HP:0032066); Hypokalemia (HP:0002900); Alkaline urine (HP:0032944); Impaired renal concentrating ability (HP:0004727); Distal renal tubular acidosis (HP:0008341); excluded: Nephrolithiasis (HP:0000787); excluded: Elevated circulating creatinine concentration (HP:0003259)</td></tr>\n",
       "<tr><td style=\"text-align: left;\">A:II:8 (MALE; P34Y)</td><td style=\"text-align: left;\">Distal renal tubular acidosis 1 (OMIM:179800)</td><td style=\"text-align: left;\">NM_000342.4:c.1766G>A (heterozygous)</td><td style=\"text-align: left;\">Nephrocalcinosis (HP:0000121); Nephrolithiasis (HP:0000787); Elevated circulating creatinine concentration (HP:0003259); Alkaline urine (HP:0032944); Impaired renal concentrating ability (HP:0004727); Distal renal tubular acidosis (HP:0008341); excluded: Decreased serum bicarbonate concentration (HP:0032066); excluded: Hypokalemia (HP:0002900)</td></tr>\n",
       "<tr><td style=\"text-align: left;\">A:II:9 (MALE; P31Y)</td><td style=\"text-align: left;\">Distal renal tubular acidosis 1 (OMIM:179800)</td><td style=\"text-align: left;\">NM_000342.4:c.1766G>A (heterozygous)</td><td style=\"text-align: left;\">Nephrolithiasis (HP:0000787); Alkaline urine (HP:0032944); Impaired renal concentrating ability (HP:0004727); Distal renal tubular acidosis (HP:0008341); excluded: Nephrocalcinosis (HP:0000121); excluded: Elevated circulating creatinine concentration (HP:0003259); excluded: Decreased serum bicarbonate concentration (HP:0032066); excluded: Hypokalemia (HP:0002900)</td></tr>\n",
       "<tr><td style=\"text-align: left;\">A:III:1 (MALE; P9Y)</td><td style=\"text-align: left;\">Distal renal tubular acidosis 1 (OMIM:179800)</td><td style=\"text-align: left;\">NM_000342.4:c.1766G>A (heterozygous)</td><td style=\"text-align: left;\">Decreased serum bicarbonate concentration (HP:0032066); Alkaline urine (HP:0032944); Distal renal tubular acidosis (HP:0008341); excluded: Nephrocalcinosis (HP:0000121); excluded: Nephrolithiasis (HP:0000787); excluded: Elevated circulating creatinine concentration (HP:0003259); excluded: Hypokalemia (HP:0002900); excluded: Impaired renal concentrating ability (HP:0004727)</td></tr>\n",
       "<tr><td style=\"text-align: left;\">A:III:2 (FEMALE; P6Y)</td><td style=\"text-align: left;\">Distal renal tubular acidosis 1 (OMIM:179800)</td><td style=\"text-align: left;\">NM_000342.4:c.1766G>A (heterozygous)</td><td style=\"text-align: left;\">Decreased serum bicarbonate concentration (HP:0032066); Alkaline urine (HP:0032944); Distal renal tubular acidosis (HP:0008341); excluded: Nephrocalcinosis (HP:0000121); excluded: Nephrolithiasis (HP:0000787); excluded: Elevated circulating creatinine concentration (HP:0003259); excluded: Hypokalemia (HP:0002900); excluded: Impaired renal concentrating ability (HP:0004727)</td></tr>\n",
       "<tr><td style=\"text-align: left;\">B:I:4 (FEMALE; P10Y)</td><td style=\"text-align: left;\">Distal renal tubular acidosis 1 (OMIM:179800)</td><td style=\"text-align: left;\">NM_000342.4:c.1766G>A (heterozygous)</td><td style=\"text-align: left;\">Nephrocalcinosis (HP:0000121); Nephrolithiasis (HP:0000787); Decreased serum bicarbonate concentration (HP:0032066); Hypokalemia (HP:0002900); Alkaline urine (HP:0032944); Impaired renal concentrating ability (HP:0004727); Distal renal tubular acidosis (HP:0008341); excluded: Elevated circulating creatinine concentration (HP:0003259)</td></tr>\n",
       "<tr><td style=\"text-align: left;\">B:II:2 (FEMALE; P11Y)</td><td style=\"text-align: left;\">Distal renal tubular acidosis 1 (OMIM:179800)</td><td style=\"text-align: left;\">NM_000342.4:c.1766G>A (heterozygous)</td><td style=\"text-align: left;\">Nephrocalcinosis (HP:0000121); Nephrolithiasis (HP:0000787); Decreased serum bicarbonate concentration (HP:0032066); Alkaline urine (HP:0032944); Impaired renal concentrating ability (HP:0004727); Distal renal tubular acidosis (HP:0008341); excluded: Elevated circulating creatinine concentration (HP:0003259); excluded: Hypokalemia (HP:0002900)</td></tr>\n",
       "<tr><td style=\"text-align: left;\">B:II:3 (FEMALE; P8Y)</td><td style=\"text-align: left;\">Distal renal tubular acidosis 1 (OMIM:179800)</td><td style=\"text-align: left;\">NM_000342.4:c.1766G>A (heterozygous)</td><td style=\"text-align: left;\">Nephrocalcinosis (HP:0000121); Nephrolithiasis (HP:0000787); Decreased serum bicarbonate concentration (HP:0032066); Alkaline urine (HP:0032944); Impaired renal concentrating ability (HP:0004727); Distal renal tubular acidosis (HP:0008341); excluded: Elevated circulating creatinine concentration (HP:0003259); excluded: Hypokalemia (HP:0002900)</td></tr>\n",
       "<tr><td style=\"text-align: left;\">B:II:4 (MALE; P6Y)</td><td style=\"text-align: left;\">Distal renal tubular acidosis 1 (OMIM:179800)</td><td style=\"text-align: left;\">NM_000342.4:c.1766G>A (heterozygous)</td><td style=\"text-align: left;\">Nephrocalcinosis (HP:0000121); Nephrolithiasis (HP:0000787); Decreased serum bicarbonate concentration (HP:0032066); Alkaline urine (HP:0032944); Impaired renal concentrating ability (HP:0004727); Distal renal tubular acidosis (HP:0008341); excluded: Elevated circulating creatinine concentration (HP:0003259); excluded: Hypokalemia (HP:0002900)</td></tr>\n",
       "<tr><td style=\"text-align: left;\">C:I:1 (MALE; P22Y)</td><td style=\"text-align: left;\">Distal renal tubular acidosis 1 (OMIM:179800)</td><td style=\"text-align: left;\">NM_000342.4:c.1765C>T (heterozygous)</td><td style=\"text-align: left;\">Nephrocalcinosis (HP:0000121); Nephrolithiasis (HP:0000787); Decreased serum bicarbonate concentration (HP:0032066); Hypokalemia (HP:0002900); Alkaline urine (HP:0032944); Impaired renal concentrating ability (HP:0004727); Distal renal tubular acidosis (HP:0008341); excluded: Elevated circulating creatinine concentration (HP:0003259)</td></tr>\n",
       "<tr><td style=\"text-align: left;\">C:II:2 (MALE; P2Y)</td><td style=\"text-align: left;\">Distal renal tubular acidosis 1 (OMIM:179800)</td><td style=\"text-align: left;\">NM_000342.4:c.1765C>T (heterozygous)</td><td style=\"text-align: left;\">Nephrocalcinosis (HP:0000121); Decreased serum bicarbonate concentration (HP:0032066); Hypokalemia (HP:0002900); Distal renal tubular acidosis (HP:0008341); excluded: Nephrolithiasis (HP:0000787); excluded: Elevated circulating creatinine concentration (HP:0003259)</td></tr>\n",
       "<tr><td style=\"text-align: left;\">D:I:1 (MALE; P27Y)</td><td style=\"text-align: left;\">Distal renal tubular acidosis 1 (OMIM:179800)</td><td style=\"text-align: left;\">NM_000342.4:c.1838C>T (heterozygous)</td><td style=\"text-align: left;\">Nephrocalcinosis (HP:0000121); Decreased serum bicarbonate concentration (HP:0032066); Alkaline urine (HP:0032944); Distal renal tubular acidosis (HP:0008341); excluded: Nephrolithiasis (HP:0000787); excluded: Elevated circulating creatinine concentration (HP:0003259); excluded: Hypokalemia (HP:0002900)</td></tr>\n",
       "<tr><td style=\"text-align: left;\">D:II:2 (FEMALE; P19Y)</td><td style=\"text-align: left;\">Distal renal tubular acidosis 1 (OMIM:179800)</td><td style=\"text-align: left;\">NM_000342.4:c.1838C>T (heterozygous)</td><td style=\"text-align: left;\">Nephrocalcinosis (HP:0000121); Alkaline urine (HP:0032944); Impaired renal concentrating ability (HP:0004727); Distal renal tubular acidosis (HP:0008341); excluded: Nephrolithiasis (HP:0000787); excluded: Elevated circulating creatinine concentration (HP:0003259); excluded: Decreased serum bicarbonate concentration (HP:0032066); excluded: Hypokalemia (HP:0002900)</td></tr>\n",
       "</table>"
      ],
      "text/plain": [
       "<IPython.core.display.HTML object>"
      ]
     },
     "metadata": {},
     "output_type": "display_data"
    }
   ],
   "source": [
    "table = PhenopacketTable(individual_list=individuals, metadata=metadata)\n",
    "display(HTML(table.to_html()))"
   ]
  },
  {
   "cell_type": "code",
   "execution_count": null,
   "id": "0651211f-8173-47ce-9fae-7472f36382e4",
   "metadata": {},
   "outputs": [],
   "source": []
  }
 ],
 "metadata": {
  "kernelspec": {
   "display_name": "ps24venv",
   "language": "python",
   "name": "ps24venv"
  },
  "language_info": {
   "codemirror_mode": {
    "name": "ipython",
    "version": 3
   },
   "file_extension": ".py",
   "mimetype": "text/x-python",
   "name": "python",
   "nbconvert_exporter": "python",
   "pygments_lexer": "ipython3",
   "version": "3.8.10"
  }
 },
 "nbformat": 4,
 "nbformat_minor": 5
}
