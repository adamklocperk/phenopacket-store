{
 "cells": [
  {
   "cell_type": "markdown",
   "id": "359c51da-aaaa-4bbb-ac44-cf4d40383adf",
   "metadata": {},
   "source": [
    "# SLC4A1 Cryohydrocytosis \tIndividuals\n",
    "See [OMIM:185020](https://omim.org/entry/185020)."
   ]
  },
  {
   "cell_type": "code",
   "execution_count": 1,
   "id": "494e0bb0-ee64-413f-ae7c-398b859a057e",
   "metadata": {},
   "outputs": [
    {
     "name": "stdout",
     "output_type": "stream",
     "text": [
      "Using pyphetools version 0.9.34\n"
     ]
    }
   ],
   "source": [
    "import pandas as pd\n",
    "from IPython.display import display, HTML\n",
    "pd.set_option('display.max_colwidth', None) # show entire column contents, important!\n",
    "from collections import defaultdict\n",
    "from pyphetools.creation import *\n",
    "from pyphetools.visualization import IndividualTable, QcVisualizer\n",
    "from pyphetools.validation import *\n",
    "import pyphetools\n",
    "print(f\"Using pyphetools version {pyphetools.__version__}\")"
   ]
  },
  {
   "cell_type": "code",
   "execution_count": 2,
   "id": "389e1126-c77a-4624-a70c-fbdebee3a40e",
   "metadata": {},
   "outputs": [
    {
     "name": "stdout",
     "output_type": "stream",
     "text": [
      "HPO version 2024-01-16\n"
     ]
    }
   ],
   "source": [
    "parser = HpoParser(hpo_json_file=\"../hp.json\")\n",
    "hpo_cr = parser.get_hpo_concept_recognizer()\n",
    "hpo_version = parser.get_version()\n",
    "hpo_ontology = parser.get_ontology()\n",
    "created_by=\"ORCID:0000-0002-0736-9199\"\n",
    "print(f\"HPO version {hpo_version}\")"
   ]
  },
  {
   "cell_type": "code",
   "execution_count": 3,
   "id": "55a15cc4-3970-41d5-abd5-729c4a9db2a7",
   "metadata": {},
   "outputs": [
    {
     "data": {
      "text/html": [
       "<div>\n",
       "<style scoped>\n",
       "    .dataframe tbody tr th:only-of-type {\n",
       "        vertical-align: middle;\n",
       "    }\n",
       "\n",
       "    .dataframe tbody tr th {\n",
       "        vertical-align: top;\n",
       "    }\n",
       "\n",
       "    .dataframe thead th {\n",
       "        text-align: right;\n",
       "    }\n",
       "</style>\n",
       "<table border=\"1\" class=\"dataframe\">\n",
       "  <thead>\n",
       "    <tr style=\"text-align: right;\">\n",
       "      <th></th>\n",
       "      <th>PMID</th>\n",
       "      <th>title</th>\n",
       "      <th>individual_id</th>\n",
       "      <th>Comment</th>\n",
       "      <th>disease_id</th>\n",
       "      <th>disease_label</th>\n",
       "      <th>transcript</th>\n",
       "      <th>allele_1</th>\n",
       "      <th>allele_2</th>\n",
       "      <th>variant.comment</th>\n",
       "      <th>...</th>\n",
       "      <th>Stomatocytosis</th>\n",
       "      <th>Anisocytosis</th>\n",
       "      <th>Microcytic anemia</th>\n",
       "      <th>Increased red cell osmotic fragility</th>\n",
       "      <th>Reticulocytosis</th>\n",
       "      <th>Hypersplenism</th>\n",
       "      <th>Paroxysmal vertigo</th>\n",
       "      <th>Chronic fatigue</th>\n",
       "      <th>Pseudohyperkalemia</th>\n",
       "      <th>Increased mean corpuscular hemoglobin concentration</th>\n",
       "    </tr>\n",
       "  </thead>\n",
       "  <tbody>\n",
       "    <tr>\n",
       "      <th>0</th>\n",
       "      <td>str</td>\n",
       "      <td>str</td>\n",
       "      <td>str</td>\n",
       "      <td>optional str</td>\n",
       "      <td>str</td>\n",
       "      <td>str</td>\n",
       "      <td>str</td>\n",
       "      <td>HGVS str</td>\n",
       "      <td>HGVS str</td>\n",
       "      <td>optional str</td>\n",
       "      <td>...</td>\n",
       "      <td>HP:0004446</td>\n",
       "      <td>HP:0011273</td>\n",
       "      <td>HP:0001935</td>\n",
       "      <td>HP:0005502</td>\n",
       "      <td>HP:0001923</td>\n",
       "      <td>HP:0001971</td>\n",
       "      <td>HP:0010532</td>\n",
       "      <td>HP:0012432</td>\n",
       "      <td>HP:4000194</td>\n",
       "      <td>HP:0025548</td>\n",
       "    </tr>\n",
       "    <tr>\n",
       "      <th>1</th>\n",
       "      <td>PMID:20015879</td>\n",
       "      <td>Cryohydrocytosis: increased activity of cation carriers in red cells from a patient with a band 3 mutation</td>\n",
       "      <td>Patient</td>\n",
       "      <td>NaN</td>\n",
       "      <td>OMIM:185020</td>\n",
       "      <td>Cryohydrocytosis</td>\n",
       "      <td>NM_000342.4</td>\n",
       "      <td>c.2201A&gt;G</td>\n",
       "      <td>na</td>\n",
       "      <td>mutation H734R</td>\n",
       "      <td>...</td>\n",
       "      <td>observed</td>\n",
       "      <td>observed</td>\n",
       "      <td>observed</td>\n",
       "      <td>observed</td>\n",
       "      <td>observed</td>\n",
       "      <td>observed</td>\n",
       "      <td>observed</td>\n",
       "      <td>observed</td>\n",
       "      <td>NaN</td>\n",
       "      <td>NaN</td>\n",
       "    </tr>\n",
       "  </tbody>\n",
       "</table>\n",
       "<p>2 rows × 25 columns</p>\n",
       "</div>"
      ],
      "text/plain": [
       "            PMID  \\\n",
       "0            str   \n",
       "1  PMID:20015879   \n",
       "\n",
       "                                                                                                        title  \\\n",
       "0                                                                                                         str   \n",
       "1  Cryohydrocytosis: increased activity of cation carriers in red cells from a patient with a band 3 mutation   \n",
       "\n",
       "  individual_id       Comment   disease_id     disease_label   transcript  \\\n",
       "0           str  optional str          str               str          str   \n",
       "1       Patient           NaN  OMIM:185020  Cryohydrocytosis  NM_000342.4   \n",
       "\n",
       "    allele_1  allele_2 variant.comment  ... Stomatocytosis Anisocytosis  \\\n",
       "0   HGVS str  HGVS str    optional str  ...     HP:0004446   HP:0011273   \n",
       "1  c.2201A>G        na  mutation H734R  ...       observed     observed   \n",
       "\n",
       "  Microcytic anemia Increased red cell osmotic fragility Reticulocytosis  \\\n",
       "0        HP:0001935                           HP:0005502      HP:0001923   \n",
       "1          observed                             observed        observed   \n",
       "\n",
       "  Hypersplenism Paroxysmal vertigo Chronic fatigue Pseudohyperkalemia  \\\n",
       "0    HP:0001971         HP:0010532      HP:0012432         HP:4000194   \n",
       "1      observed           observed        observed                NaN   \n",
       "\n",
       "  Increased mean corpuscular hemoglobin concentration  \n",
       "0                                          HP:0025548  \n",
       "1                                                 NaN  \n",
       "\n",
       "[2 rows x 25 columns]"
      ]
     },
     "execution_count": 3,
     "metadata": {},
     "output_type": "execute_result"
    }
   ],
   "source": [
    "df = pd.read_excel(\"input/slc4a1_cryohydrosis_individuals.xlsx\")\n",
    "df.head()"
   ]
  },
  {
   "cell_type": "code",
   "execution_count": 4,
   "id": "6b3e68ec-9705-486b-89bf-541053394e55",
   "metadata": {},
   "outputs": [
    {
     "name": "stdout",
     "output_type": "stream",
     "text": [
      "Created encoders for 25 fields\n"
     ]
    }
   ],
   "source": [
    "from pyphetools.creation import CaseTemplateEncoder\n",
    "encoder = CaseTemplateEncoder(df=df, hpo_cr=hpo_cr, created_by=created_by)"
   ]
  },
  {
   "cell_type": "code",
   "execution_count": 5,
   "id": "9f7556ed-8233-4d5d-ad9d-826316096985",
   "metadata": {},
   "outputs": [],
   "source": [
    "individuals = encoder.get_individuals()"
   ]
  },
  {
   "cell_type": "code",
   "execution_count": 6,
   "id": "e19d014f-68d2-45ba-8871-fd2f8f6d5fa5",
   "metadata": {},
   "outputs": [
    {
     "name": "stdout",
     "output_type": "stream",
     "text": [
      "[INFO] encoding variant \"c.2201A>G\"\n",
      "https://rest.variantvalidator.org/VariantValidator/variantvalidator/hg38/NM_000342.4%3Ac.2201A>G/NM_000342.4?content-type=application%2Fjson\n"
     ]
    }
   ],
   "source": [
    "vmanager = VariantManager(df=df,\n",
    "                          individual_column_name=\"individual_id\",\n",
    "                          cohort_name=\"SLC4A1\",\n",
    "                          transcript=\"NM_000342.4\",\n",
    "                          allele_1_column_name=\"allele_1\")"
   ]
  },
  {
   "cell_type": "code",
   "execution_count": 7,
   "id": "78ed66d1-1eb3-4367-8dee-15191105b7b4",
   "metadata": {},
   "outputs": [],
   "source": [
    "vmanager.add_variants_to_individuals(individuals)"
   ]
  },
  {
   "cell_type": "code",
   "execution_count": 8,
   "id": "e0fb8724-c491-4249-b6b1-b33ec65c920a",
   "metadata": {},
   "outputs": [
    {
     "data": {
      "text/html": [
       "<h2>Cohort validation</h2>\n",
       "<p>No errors found for the cohort with 1 individuals</p>"
      ],
      "text/plain": [
       "<IPython.core.display.HTML object>"
      ]
     },
     "metadata": {},
     "output_type": "display_data"
    }
   ],
   "source": [
    "cvalidator = CohortValidator(cohort=individuals, ontology=hpo_ontology, min_hpo=1, allelic_requirement=AllelicRequirement.MONO_ALLELIC)\n",
    "qc = QcVisualizer(cohort_validator=cvalidator)\n",
    "display(HTML(qc.to_summary_html()))"
   ]
  },
  {
   "cell_type": "code",
   "execution_count": 9,
   "id": "cbcd13ad-d587-40a4-a1e7-1d4a329185ed",
   "metadata": {},
   "outputs": [
    {
     "data": {
      "text/html": [
       "<table style=\"border: 2px solid black; align: \"left\">\n",
       "<caption>1 phenopacket - PMID:20015879 (n=1)</caption>\n",
       "<tr><th style=\"text-align: left;font-weight: bold;\">Individual</th><th style=\"text-align: left;font-weight: bold;\">Disease</th><th style=\"text-align: left;font-weight: bold;\">Genotype</th><th style=\"text-align: left;font-weight: bold;\">Phenotypic features</th></tr>\n",
       "<tr><td style=\"text-align: left;\">Patient (MALE; )</td><td style=\"text-align: left;\">Cryohydrocytosis (OMIM:185020)</td><td style=\"text-align: left;\">NM_000342.4:c.2201A>G (heterozygous)</td><td style=\"text-align: left;\">Hemolytic anemia (HP:0001878); Stomatocytosis (HP:0004446); Anisocytosis (HP:0011273); Microcytic anemia (HP:0001935); Increased red cell osmotic fragility (HP:0005502); Reticulocytosis (HP:0001923); Hypersplenism (HP:0001971); Paroxysmal vertigo (HP:0010532); Chronic fatigue (HP:0012432); excluded: Coombs-positive hemolytic anemia (HP:0004844)</td></tr>\n",
       "</table>"
      ],
      "text/plain": [
       "<IPython.core.display.HTML object>"
      ]
     },
     "metadata": {},
     "output_type": "display_data"
    }
   ],
   "source": [
    "individuals = cvalidator.get_error_free_individual_list()\n",
    "table = IndividualTable(individuals)\n",
    "display(HTML(table.to_html()))"
   ]
  },
  {
   "cell_type": "code",
   "execution_count": 10,
   "id": "1e5c7dc7-a92a-47f6-8113-b14963e70520",
   "metadata": {},
   "outputs": [
    {
     "name": "stdout",
     "output_type": "stream",
     "text": [
      "We output 1 GA4GH phenopackets to the directory phenopackets\n"
     ]
    }
   ],
   "source": [
    "encoder.output_individuals_as_phenopackets(individual_list=individuals)"
   ]
  },
  {
   "cell_type": "code",
   "execution_count": null,
   "id": "a96566cf-336c-402a-b559-14364a147710",
   "metadata": {},
   "outputs": [],
   "source": []
  }
 ],
 "metadata": {
  "kernelspec": {
   "display_name": "ps24venv",
   "language": "python",
   "name": "ps24venv"
  },
  "language_info": {
   "codemirror_mode": {
    "name": "ipython",
    "version": 3
   },
   "file_extension": ".py",
   "mimetype": "text/x-python",
   "name": "python",
   "nbconvert_exporter": "python",
   "pygments_lexer": "ipython3",
   "version": "3.8.10"
  }
 },
 "nbformat": 4,
 "nbformat_minor": 5
}
