{
 "cells": [
  {
   "cell_type": "markdown",
   "id": "014db937-ffb9-49ea-8276-0ec3004b8ad6",
   "metadata": {},
   "source": [
    "# MPV17\n",
    "\n",
    "Pathogenic variants in ISCA2 cause [Mitochondrial DNA depletion syndrome 6 (hepatocerebral type)](https://omim.org/entry/256810). This notebook contains information from several publications.\t\n",
    "\n",
    "Note we infer that IVS3+1 G>T in PMID:22824774 is actually NM_002437.5(MPV17):c.279+1G>T (Allele ID 679728)"
   ]
  },
  {
   "cell_type": "code",
   "execution_count": 1,
   "id": "097b80aa-ebfb-46ba-90bf-d7b855e9f122",
   "metadata": {},
   "outputs": [
    {
     "name": "stdout",
     "output_type": "stream",
     "text": [
      "Using pyphetools version 0.9.15\n"
     ]
    }
   ],
   "source": [
    "import pandas as pd\n",
    "pd.set_option('display.max_colwidth', None) # show entire column contents, important!\n",
    "from collections import defaultdict\n",
    "from IPython.display import display, HTML\n",
    "import pyphetools\n",
    "from pyphetools.creation import *\n",
    "from pyphetools.visualization import *\n",
    "from pyphetools.validation import CohortValidator\n",
    "print(f\"Using pyphetools version {pyphetools.__version__}\")"
   ]
  },
  {
   "cell_type": "code",
   "execution_count": 2,
   "id": "13cdf31f-64e6-4598-9137-c168a008abe9",
   "metadata": {},
   "outputs": [
    {
     "name": "stdout",
     "output_type": "stream",
     "text": [
      "HPO version 2023-10-09\n"
     ]
    }
   ],
   "source": [
    "import ssl\n",
    "ssl._create_default_https_context = ssl._create_unverified_context\n",
    "parser = HpoParser()\n",
    "hpo_cr = parser.get_hpo_concept_recognizer()\n",
    "hpo_version = parser.get_version()\n",
    "hpo_ontology = parser.get_ontology()\n",
    "metadata = MetaData(created_by=\"ORCID:0000-0002-0736-9199\")\n",
    "metadata.default_versions_with_hpo(version=hpo_version)\n",
    "print(f\"HPO version {hpo_version}\")"
   ]
  },
  {
   "cell_type": "code",
   "execution_count": 3,
   "id": "5ea66431-f93c-41ba-9eee-b33e339c7fbe",
   "metadata": {},
   "outputs": [],
   "source": [
    "df = pd.read_excel('input/MPV17_curation.xlsx')\n",
    "#df.head(2)"
   ]
  },
  {
   "cell_type": "code",
   "execution_count": 4,
   "id": "d29c0b60-b2b8-45d8-8d5d-ace275c1f749",
   "metadata": {},
   "outputs": [],
   "source": [
    "df['patient_id'] = df['ID']\n",
    "df.set_index('patient_id', inplace=True)"
   ]
  },
  {
   "cell_type": "code",
   "execution_count": 5,
   "id": "c5c54da7-a008-4e80-bb19-66572353df50",
   "metadata": {},
   "outputs": [],
   "source": [
    "def extract_cdna(variant):\n",
    "    \"\"\"\n",
    "    split strings like c.772G>T(p.Gly258*) on the open-parenthesis symbol and return the first part\n",
    "    \"\"\"\n",
    "    v = variant.split(\"(\")[0]\n",
    "    v = v.replace(\" \", \"\").replace(\"p.\",\"\")\n",
    "    return v\n",
    "    \n",
    "def extract_variant_1(variants):\n",
    "    \"\"\"\n",
    "    Split on the slash (\"/\") and return the first part (or entire string for homozygous)\n",
    "    \"\"\"\n",
    "    v1 = variants.split(\"/\")[0]\n",
    "    return extract_cdna(v1)\n",
    "\n",
    "def extract_variant_2(variants):\n",
    "    \"\"\"\n",
    "    Split on the slash (\"/\") and return the second part (or entire string for homozygous)\n",
    "    \"\"\"\n",
    "    fields = variants.split(\"/\")\n",
    "    if len(fields) == 2:\n",
    "        return extract_cdna(fields[1])\n",
    "    else:\n",
    "        # there was only one variant\n",
    "        return extract_cdna(variants)\n",
    "        \n",
    "df[\"var1\"] = df['Variant annotation'].apply(lambda x: extract_variant_1(x))\n",
    "df[\"var2\"] = df['Variant annotation'].apply(lambda x: extract_variant_2(x))"
   ]
  },
  {
   "cell_type": "code",
   "execution_count": 6,
   "id": "86ca1dea-c010-42f8-ba3b-df3bac81c2a5",
   "metadata": {},
   "outputs": [
    {
     "name": "stdout",
     "output_type": "stream",
     "text": [
      "c.451dupC\n",
      "https://rest.variantvalidator.org/VariantValidator/variantvalidator/hg38/NM_002437.5%3Ac.451dupC/NM_002437.5?content-type=application%2Fjson\n",
      "c.279+1G>T\n",
      "https://rest.variantvalidator.org/VariantValidator/variantvalidator/hg38/NM_002437.5%3Ac.279+1G>T/NM_002437.5?content-type=application%2Fjson\n",
      "c.191C>G\n",
      "https://rest.variantvalidator.org/VariantValidator/variantvalidator/hg38/NM_002437.5%3Ac.191C>G/NM_002437.5?content-type=application%2Fjson\n",
      "c.186+2T>C\n",
      "https://rest.variantvalidator.org/VariantValidator/variantvalidator/hg38/NM_002437.5%3Ac.186+2T>C/NM_002437.5?content-type=application%2Fjson\n",
      "c.106C>T\n",
      "https://rest.variantvalidator.org/VariantValidator/variantvalidator/hg38/NM_002437.5%3Ac.106C>T/NM_002437.5?content-type=application%2Fjson\n",
      "c.408T>G\n",
      "https://rest.variantvalidator.org/VariantValidator/variantvalidator/hg38/NM_002437.5%3Ac.408T>G/NM_002437.5?content-type=application%2Fjson\n",
      "c.135delA\n",
      "https://rest.variantvalidator.org/VariantValidator/variantvalidator/hg38/NM_002437.5%3Ac.135delA/NM_002437.5?content-type=application%2Fjson\n",
      "c.130C>T\n",
      "https://rest.variantvalidator.org/VariantValidator/variantvalidator/hg38/NM_002437.5%3Ac.130C>T/NM_002437.5?content-type=application%2Fjson\n",
      "c.263_265del3\n",
      "https://rest.variantvalidator.org/VariantValidator/variantvalidator/hg38/NM_002437.5%3Ac.263_265del3/NM_002437.5?content-type=application%2Fjson\n",
      "c.265A>T\n",
      "https://rest.variantvalidator.org/VariantValidator/variantvalidator/hg38/NM_002437.5%3Ac.265A>T/NM_002437.5?content-type=application%2Fjson\n",
      "c.359G>A\n",
      "https://rest.variantvalidator.org/VariantValidator/variantvalidator/hg38/NM_002437.5%3Ac.359G>A/NM_002437.5?content-type=application%2Fjson\n",
      "c.67G>C\n",
      "https://rest.variantvalidator.org/VariantValidator/variantvalidator/hg38/NM_002437.5%3Ac.67G>C/NM_002437.5?content-type=application%2Fjson\n",
      "c.62T>G\n",
      "https://rest.variantvalidator.org/VariantValidator/variantvalidator/hg38/NM_002437.5%3Ac.62T>G/NM_002437.5?content-type=application%2Fjson\n",
      "c.149G>A\n",
      "https://rest.variantvalidator.org/VariantValidator/variantvalidator/hg38/NM_002437.5%3Ac.149G>A/NM_002437.5?content-type=application%2Fjson\n",
      "c.277C>T\n",
      "https://rest.variantvalidator.org/VariantValidator/variantvalidator/hg38/NM_002437.5%3Ac.277C>T/NM_002437.5?content-type=application%2Fjson\n",
      "c.122G>A\n",
      "https://rest.variantvalidator.org/VariantValidator/variantvalidator/hg38/NM_002437.5%3Ac.122G>A/NM_002437.5?content-type=application%2Fjson\n",
      "c.271_273del3\n",
      "https://rest.variantvalidator.org/VariantValidator/variantvalidator/hg38/NM_002437.5%3Ac.271_273del3/NM_002437.5?content-type=application%2Fjson\n",
      "c.70G>T\n",
      "https://rest.variantvalidator.org/VariantValidator/variantvalidator/hg38/NM_002437.5%3Ac.70G>T/NM_002437.5?content-type=application%2Fjson\n",
      "c.280G>C\n",
      "https://rest.variantvalidator.org/VariantValidator/variantvalidator/hg38/NM_002437.5%3Ac.280G>C/NM_002437.5?content-type=application%2Fjson\n",
      "c.107A>C\n",
      "https://rest.variantvalidator.org/VariantValidator/variantvalidator/hg38/NM_002437.5%3Ac.107A>C/NM_002437.5?content-type=application%2Fjson\n",
      "c.197T>A\n",
      "https://rest.variantvalidator.org/VariantValidator/variantvalidator/hg38/NM_002437.5%3Ac.197T>A/NM_002437.5?content-type=application%2Fjson\n",
      "c.262A>G\n",
      "https://rest.variantvalidator.org/VariantValidator/variantvalidator/hg38/NM_002437.5%3Ac.262A>G/NM_002437.5?content-type=application%2Fjson\n",
      "c.263A>T\n",
      "https://rest.variantvalidator.org/VariantValidator/variantvalidator/hg38/NM_002437.5%3Ac.263A>T/NM_002437.5?content-type=application%2Fjson\n",
      "c.278A>C\n",
      "https://rest.variantvalidator.org/VariantValidator/variantvalidator/hg38/NM_002437.5%3Ac.278A>C/NM_002437.5?content-type=application%2Fjson\n",
      "c.121C>T\n",
      "https://rest.variantvalidator.org/VariantValidator/variantvalidator/hg38/NM_002437.5%3Ac.121C>T/NM_002437.5?content-type=application%2Fjson\n",
      "c.293C>T\n",
      "https://rest.variantvalidator.org/VariantValidator/variantvalidator/hg38/NM_002437.5%3Ac.293C>T/NM_002437.5?content-type=application%2Fjson\n",
      "c.70+5G>A\n",
      "https://rest.variantvalidator.org/VariantValidator/variantvalidator/hg38/NM_002437.5%3Ac.70+5G>A/NM_002437.5?content-type=application%2Fjson\n",
      "c.461+1G>C\n",
      "https://rest.variantvalidator.org/VariantValidator/variantvalidator/hg38/NM_002437.5%3Ac.461+1G>C/NM_002437.5?content-type=application%2Fjson\n",
      "1.5-kbdeletionthatspannedfromintron7wellintoexon8\n",
      "https://rest.variantvalidator.org/VariantValidator/variantvalidator/hg38/NM_002437.5%3A1.5-kbdeletionthatspannedfromintron7wellintoexon8/NM_002437.5?content-type=application%2Fjson\n",
      "Expecting to get a gene_variant from Variant Validator but got warning\n",
      "c.485C>A\n",
      "https://rest.variantvalidator.org/VariantValidator/variantvalidator/hg38/NM_002437.5%3Ac.485C>A/NM_002437.5?content-type=application%2Fjson\n",
      "c.22_23insC\n",
      "https://rest.variantvalidator.org/VariantValidator/variantvalidator/hg38/NM_002437.5%3Ac.22_23insC/NM_002437.5?content-type=application%2Fjson\n",
      "extracted 30 variants with VariantValidator\n"
     ]
    }
   ],
   "source": [
    "from time import sleep\n",
    "var1_list = df[\"var1\"].unique()\n",
    "var2_list = df[\"var2\"].unique()\n",
    "var_set = set()\n",
    "var_set.update(var1_list)\n",
    "var_set.update(var2_list)\n",
    "variant_d = {}\n",
    "hg38 = \"hg38\"\n",
    "mpv17_transcript = \"NM_002437.5\"\n",
    "vvalidator = VariantValidator(genome_build=hg38, transcript=mpv17_transcript)\n",
    "for v in var_set:\n",
    "    print(f\"{v}\")\n",
    "    try:\n",
    "        if v == \"1.5-kb deletion that spanned from intron 7 well into exon 8\":\n",
    "            var = StructuralVariant.chromosomal_deletion(cell_contents=\"1.5-kb deletion that spanned from intron 7 well into exon 8\",\n",
    "                                                        gene_id=\"HGNC:26827\", gene_symbol=\"MPV17L\")\n",
    "        else:\n",
    "            var = vvalidator.encode_hgvs(v)\n",
    "        variant_d[v] = var\n",
    "    except Exception as excpt:\n",
    "        print(str(excpt))\n",
    "print(f\"extracted {len(variant_d)} variants with VariantValidator\")"
   ]
  },
  {
   "cell_type": "code",
   "execution_count": 20,
   "id": "f2ab27ec-f2db-490e-875b-642f7f91dcec",
   "metadata": {},
   "outputs": [],
   "source": [
    "variant_d[\"1.5-kbdeletionthatspannedfromintron7wellintoexon8\"] = StructuralVariant.chromosomal_deletion(cell_contents=\"1.5-kb deletion that spanned from intron 7 well into exon 8\",\n",
    "                                                        gene_id=\"HGNC:26827\", gene_symbol=\"MPV17L\")"
   ]
  },
  {
   "cell_type": "code",
   "execution_count": 7,
   "id": "eb0cb0fa-a899-412a-9908-da4f88714138",
   "metadata": {},
   "outputs": [],
   "source": [
    "import math\n",
    "def decode_age_of_dx(dx_age):\n",
    "    if dx_age == \"newborn\":\n",
    "        return \"P1D\"\n",
    "    fields = dx_age.split()\n",
    "    if len(fields) != 2:\n",
    "        raise ValueError(f\"Bad formed{dx_age}\")\n",
    "    time_elem = fields[1]\n",
    "    num = fields[0]\n",
    "    if time_elem == \"months\" or time_elem == \"monhts\" or time_elem == \"montns\": \n",
    "        if \".\" in num:\n",
    "            numbers = num.split('.')\n",
    "            if numbers[1] == '5':\n",
    "                return f\"P{numbers[0]}M2W\"\n",
    "            else:\n",
    "               ValueError(f\"could not find parse months \\\"{num}\\\"\") \n",
    "        else:\n",
    "            m = int(num)\n",
    "            if m > 11:\n",
    "                y = math.floor(m/12)\n",
    "                m = m-12*y\n",
    "                return f\"P{y}Y{m}M\"\n",
    "            else:\n",
    "                return f\"P{num}M\"\n",
    "    elif time_elem == \"years\":\n",
    "        return f\"P{num}Y\"\n",
    "    elif time_elem == \"weeks\" or time_elem == \"week\":\n",
    "        if num == \"7\":\n",
    "            return \"P1M3W\"\n",
    "        else:\n",
    "            return f\"P{num}W\"\n",
    "    elif time_elem == \"days\" or time_elem == \"day\":\n",
    "        return f\"P{num}D\"\n",
    "    else:\n",
    "        raise ValueError(f\"could not find formed{dx_age}\")\n",
    "\n",
    "df[\"age\"] = df['Age of diagnosis'].transform(lambda x: decode_age_of_dx(x)) "
   ]
  },
  {
   "cell_type": "code",
   "execution_count": 8,
   "id": "e14b80b7-4f2d-4fe3-bb3c-e73c627e1018",
   "metadata": {},
   "outputs": [],
   "source": [
    "ageEncoder = AgeColumnMapper.iso8601(column_name=\"age\")\n",
    "#ageEncoder.preview_column(df[\"age\"])"
   ]
  },
  {
   "cell_type": "code",
   "execution_count": 9,
   "id": "add2113b-e1b7-4bcf-87a6-d8ef08cd11fa",
   "metadata": {},
   "outputs": [],
   "source": [
    "sexMapper = SexColumnMapper(male_symbol=\"M\", female_symbol=\"F\", unknown_symbol=\"nan\", column_name=\"Gender\")\n",
    "#sexMapper.preview_column(df['Gender']).head()"
   ]
  },
  {
   "cell_type": "code",
   "execution_count": 10,
   "id": "6125cae2-892d-47a0-9b44-ea93ff2b1506",
   "metadata": {},
   "outputs": [],
   "source": [
    "mapper_d = {}\n",
    "phenotypeColumnMapper = OptionColumnMapper(concept_recognizer=hpo_cr, option_d={})\n",
    "phenotypeColumnMapper.preview_column(df['Phenotype'])\n",
    "mapper_d['Phenotype'] = phenotypeColumnMapper\n",
    "#phenotypeColumnMapper.preview_column(df['Phenotype'])"
   ]
  },
  {
   "cell_type": "code",
   "execution_count": 11,
   "id": "d57086bc-3bd3-4386-a0d6-a0536cd8c5d2",
   "metadata": {},
   "outputs": [],
   "source": [
    "prenatalUSmapper =  OptionColumnMapper(concept_recognizer=hpo_cr, option_d={})\n",
    "prenatalUSmapper.preview_column(df['Prenatal ultrasound phenotype'])\n",
    "mapper_d['Prenatal ultrasound phenotype'] = prenatalUSmapper"
   ]
  },
  {
   "cell_type": "code",
   "execution_count": 12,
   "id": "7cf4fbfe-8cb9-4ca8-a0f7-4127c32f083b",
   "metadata": {},
   "outputs": [],
   "source": [
    "mriMapper = OptionColumnMapper(concept_recognizer=hpo_cr, option_d={})\n",
    "mriMapper.preview_column(df['MRI phenotype'])\n",
    "mapper_d['MRI phenotype'] = mriMapper"
   ]
  },
  {
   "cell_type": "code",
   "execution_count": 13,
   "id": "c8cbb365-dd5e-465d-8d9b-63ae9fe5d0a4",
   "metadata": {},
   "outputs": [],
   "source": [
    "# No data for cardiac\n",
    "#cardiacMapper = OptionColumnMapper(concept_recognizer=hpo_cr, option_d={})\n",
    "#cardiacMapper.preview_column(df['Cardiac phenotype'])\n",
    "#mapper_d['Cardiac phenotype'] = cardiacMapper"
   ]
  },
  {
   "cell_type": "code",
   "execution_count": 14,
   "id": "b3f11ef6-c43b-4b2c-b414-f49e63447edd",
   "metadata": {},
   "outputs": [],
   "source": [
    "aod_d = {\n",
    "    \"6 years\": \"P6Y\",\n",
    "    \"5 years\": \"P5Y\",\n",
    "     \"4 years\": \"P4Y\",\n",
    "      \"3 years\": \"P3Y\",\n",
    "    \"4 months\": \"P4M\",\n",
    "    \"1 month\": \"P1M\",\n",
    "    \"14 months\": \"P1Y2M\",\n",
    "    \"15 months\": \"P1Y3M\",\n",
    "    \"6 monhts\": \"P6M\",\n",
    "    \"6 months\": \"P6M\",\n",
    "    \"8 months\": \"P8M\",\n",
    "    \"6.5 months\": \"P6M2W\",\n",
    "     \"4.5 months\": \"P4M2W\",\n",
    "       \"7.5 months\": \"P7M2W\",\n",
    "    \"9 months\": \"P9M\",\n",
    "    \"12 months\": \"P1Y\",\n",
    "    \"5 months\": \"P5M\",\n",
    "    \"11 months\": \"P11M\",\n",
    "    \"15 months\": \"P1Y3M\",\n",
    "     \"16 months\": \"P1Y4M\",\n",
    "    \"22 months\": \"P1Y10M\",\n",
    "    \"30 months\": \"P2Y6M\",\n",
    "     \"28 months\": \"P2Y4M\",\n",
    "}\n",
    "aodMapper = AgeOfDeathColumnMapper(column_name='Age at death', string_to_iso_d=aod_d)"
   ]
  },
  {
   "cell_type": "code",
   "execution_count": 15,
   "id": "cf7d8340-45fa-4fc3-af0f-d0086d7afa4c",
   "metadata": {},
   "outputs": [],
   "source": [
    "mdds6 = Disease(disease_id=\"OMIM:256810\", disease_label=\"Mitochondrial DNA depletion syndrome 6 (hepatocerebral type)\")\n",
    "disease_d = {\"256810\": mdds6}\n",
    "diseaseMapper = DiseaseIdColumnMapper(column_name=\"omim_id\", disease_id_map=disease_d)"
   ]
  },
  {
   "cell_type": "code",
   "execution_count": 16,
   "id": "63b6695b-7e50-4213-add3-37f9555dd79e",
   "metadata": {},
   "outputs": [],
   "source": [
    "encoder = MixedCohortEncoder(df=df,\n",
    "                            hpo_cr=hpo_cr,\n",
    "                             column_mapper_d=mapper_d,\n",
    "                             individual_column_name=\"patient_id\",\n",
    "                             disease_id_mapper=diseaseMapper,\n",
    "                             pmid_column=\"PMID\",\n",
    "                             title_column=\"title\",\n",
    "                             sexmapper=sexMapper,\n",
    "                             agemapper=ageEncoder,\n",
    "                             age_of_death_mapper=aodMapper,\n",
    "                             metadata=metadata\n",
    "                        )"
   ]
  },
  {
   "cell_type": "code",
   "execution_count": 21,
   "id": "79aefe1c-e951-46eb-9007-396f75d16236",
   "metadata": {},
   "outputs": [],
   "source": [
    "individuals = encoder.get_individuals()"
   ]
  },
  {
   "cell_type": "code",
   "execution_count": 22,
   "id": "cce769e2-73ec-4a5f-b852-4f3d81392da2",
   "metadata": {},
   "outputs": [],
   "source": [
    "# retrieve the variant strings and add Variant objects to each individual\n",
    "# the individual id (i.id) is also the index of the pandas dataframe\n",
    "for i in individuals:\n",
    "    row = df.loc[i.id] \n",
    "    v1 = row['var1']\n",
    "    v2 = row['var2']\n",
    "    \n",
    "    #print(f\"{i.id}: v1={v1} and v2={v2}\")\n",
    "    if v1 == v2:\n",
    "        var1 = variant_d.get(v1)\n",
    "        var1.set_homozygous()\n",
    "        i.add_variant(var1)\n",
    "    else:\n",
    "        var1 = variant_d.get(v1)\n",
    "        var2 = variant_d.get(v2)\n",
    "        var1.set_heterozygous()\n",
    "        var2.set_heterozygous()\n",
    "        i.add_variant(var1)\n",
    "        i.add_variant(var2)\n"
   ]
  },
  {
   "cell_type": "code",
   "execution_count": 23,
   "id": "53701dac-f0df-4c29-bf6d-5fafb9294db7",
   "metadata": {},
   "outputs": [
    {
     "data": {
      "text/html": [
       "<h2>Cohort validation</h2>\n",
       "<p>Errors found with 6 of 50 phenopackets.</p>\n",
       "<table style=\"border: 2px solid black; align: \"left\">\n",
       "<caption>Error counts</caption>\n",
       "<tr><th style=\"text-align: left;font-weight: bold;\">Level</th><th style=\"text-align: left;font-weight: bold;\">Error category</th><th style=\"text-align: left;font-weight: bold;\">Count</th></tr>\n",
       "<tr><td style=\"text-align: left;\">WARNING</td><td style=\"text-align: left;\">REDUNDANT</td><td style=\"text-align: left;\">6</td></tr>\n",
       "</table>\n",
       "<p>A total of 7 issues were fixed and no individual was removed from the cohort.</p>"
      ],
      "text/plain": [
       "<IPython.core.display.HTML object>"
      ]
     },
     "metadata": {},
     "output_type": "display_data"
    }
   ],
   "source": [
    "cvalidator = CohortValidator(cohort=individuals, ontology=hpo_ontology, min_hpo=1, allelic_requirement=AllelicRequirement.BI_ALLELIC)\n",
    "qc = QcVisualizer(cohort_validator=cvalidator)\n",
    "display(HTML(qc.to_summary_html()))"
   ]
  },
  {
   "cell_type": "code",
   "execution_count": 24,
   "id": "3efb1ced-6b20-47c1-82e6-dd5d7757a639",
   "metadata": {},
   "outputs": [
    {
     "data": {
      "text/html": [
       "<table style=\"border: 2px solid black; align: \"left\">\n",
       "<caption>50 phenopackets - PMID:34979697 (n=1); PMID:34035203 (n=1); PMID:34023347 (n=1); PMID:33486010 (n=1); PMID:31664948 (n=2); PMID:29318572 (n=2); PMID:28673863 (n=1); PMID:28209105 (n=1); PMID:27536553 (n=4); PMID:18695062 (n=3); PMID:18329934 (n=1); PMID:20074988  (n=7); PMID:22508010 (n=1); PMID:22824774 (n=1); PMID:22964873 (n=1); PMID:23714749 (n=13); PMID:23829229 (n=4); PMID:24190800 (n=1); PMID:24894789 (n=1); PMID:25129007 (n=1); PMID:26437932 (n=2)</caption>\n",
       "<tr><th style=\"text-align: left;font-weight: bold;\">Individual</th><th style=\"text-align: left;font-weight: bold;\">Disease</th><th style=\"text-align: left;font-weight: bold;\">Genotype</th><th style=\"text-align: left;font-weight: bold;\">Phenotypic features</th></tr>\n",
       "<tr><td style=\"text-align: left;\">34979697_P1 (FEMALE; P1Y6M)</td><td style=\"text-align: left;\">Mitochondrial DNA depletion syndrome 6 (hepatocerebral type) (OMIM:256810)</td><td style=\"text-align: left;\">NM_002437.5:c.293C>T (homozygous)</td><td style=\"text-align: left;\">Distal lower limb muscle weakness (HP:0009053); Motor regression (HP:0033044); Mental deterioration (HP:0001268); Positive Romberg sign (HP:0002403); Impaired distal tactile sensation (HP:0006937); Foot dorsiflexor weakness (HP:0009027); Lower limb hyperreflexia (HP:0002395); Increased serum lactate (HP:0002151); Hyperammonemia (HP:0001987); Increased CSF protein concentration (HP:0002922); Abnormal cerebral white matter morphology (HP:0002500)</td></tr>\n",
       "<tr><td style=\"text-align: left;\">34035203_P1 (FEMALE; P1Y5M)</td><td style=\"text-align: left;\">Mitochondrial DNA depletion syndrome 6 (hepatocerebral type) (OMIM:256810)</td><td style=\"text-align: left;\"><ul> <li>NM_002437.5:c.451dup (heterozygous)</li> <li>NM_002437.5:c.293C>T (heterozygous)</li> </ul></td><td style=\"text-align: left;\">Small for gestational age (HP:0001518); Microcephaly (HP:0000252); Delayed gross motor development (HP:0002194); Increased serum lactate (HP:0002151); Elevated hepatic transaminase (HP:0002910); Increased total bilirubin (HP:0003573); Abnormality of the coagulation cascade (HP:0003256); Increased hepatic echogenicity (HP:0031141); Hyperintensity of cerebral white matter on MRI (HP:0030890)</td></tr>\n",
       "<tr><td style=\"text-align: left;\">34023347_P1 (MALE; P1Y6M)</td><td style=\"text-align: left;\">Mitochondrial DNA depletion syndrome 6 (hepatocerebral type) (OMIM:256810)</td><td style=\"text-align: left;\">NM_002437.5:c.293C>T (homozygous)</td><td style=\"text-align: left;\">Acute hepatic failure (HP:0006554); Intellectual disability (HP:0001249)</td></tr>\n",
       "<tr><td style=\"text-align: left;\">33486010_P1 (MALE; P6M)</td><td style=\"text-align: left;\">Mitochondrial DNA depletion syndrome 6 (hepatocerebral type) (OMIM:256810)</td><td style=\"text-align: left;\">NM_002437.5:c.121C>T (homozygous)</td><td style=\"text-align: left;\">Global developmental delay (HP:0001263); Peripheral neuropathy (HP:0009830); Scoliosis (HP:0002650); Cholestasis (HP:0001396); Hepatomegaly (HP:0002240); Hypoglycemia (HP:0001943); Cirrhosis (HP:0001394)</td></tr>\n",
       "<tr><td style=\"text-align: left;\">31664948_P1 (FEMALE; P4M)</td><td style=\"text-align: left;\">Mitochondrial DNA depletion syndrome 6 (hepatocerebral type) (OMIM:256810)</td><td style=\"text-align: left;\">NM_002437.5:c.461+1G>C (homozygous)</td><td style=\"text-align: left;\">Poor suck (HP:0002033); Seizure (HP:0001250); Weak cry (HP:0001612); Failure to thrive (HP:0001508); Muscle weakness (HP:0001324); Jaundice (HP:0000952); Hypertyrosinemia (HP:0003231); Cirrhosis (HP:0001394); Elevated hepatic transaminase (HP:0002910); Neurodevelopmental delay (HP:0012758)</td></tr>\n",
       "<tr><td style=\"text-align: left;\">31664948_P2 (MALE; P5M)</td><td style=\"text-align: left;\">Mitochondrial DNA depletion syndrome 6 (hepatocerebral type) (OMIM:256810)</td><td style=\"text-align: left;\">NM_002437.5:c.277C>T (homozygous)</td><td style=\"text-align: left;\">Malaise (HP:0033834); Prolonged neonatal jaundice (HP:0006579); Dark urine (HP:0040319); Poor suck (HP:0002033); Neurodevelopmental delay (HP:0012758); Elevated hepatic transaminase (HP:0002910); Hyperbilirubinemia (HP:0002904); Hypertyrosinemia (HP:0003231); Hyperphenylalaninemia (HP:0004923)</td></tr>\n",
       "<tr><td style=\"text-align: left;\">29318572_P1 (FEMALE; P4M)</td><td style=\"text-align: left;\">Mitochondrial DNA depletion syndrome 6 (hepatocerebral type) (OMIM:256810)</td><td style=\"text-align: left;\">NM_002437.5:c.106C>T (homozygous)</td><td style=\"text-align: left;\">Failure to thrive (HP:0001508); Jaundice (HP:0000952); Hypoglycemia (HP:0001943); Infantile axial hypotonia (HP:0009062); Muscle weakness (HP:0001324); Hepatomegaly (HP:0002240); Elevated hepatic transaminase (HP:0002910); Hepatic steatosis (HP:0001397); Conjugated hyperbilirubinemia (HP:0002908); Increased serum lactate (HP:0002151); Hypoalbuminemia (HP:0003073); Abnormality of the coagulation cascade (HP:0003256); Intrahepatic cholestasis (HP:0001406); Periportal fibrosis (HP:0001405)</td></tr>\n",
       "<tr><td style=\"text-align: left;\">29318572_P2 (FEMALE; P6M2W)</td><td style=\"text-align: left;\">Mitochondrial DNA depletion syndrome 6 (hepatocerebral type) (OMIM:256810)</td><td style=\"text-align: left;\">NM_002437.5:c.106C>T (homozygous)</td><td style=\"text-align: left;\">Severe failure to thrive (HP:0001525); Jaundice (HP:0000952); Hypoglycemia (HP:0001943); Hepatosplenomegaly (HP:0001433); Hypotonia (HP:0001252); Hyporeflexia (HP:0001265); Elevated hepatic transaminase (HP:0002910); Conjugated hyperbilirubinemia (HP:0002908); Increased serum lactate (HP:0002151); Abnormality of the coagulation cascade (HP:0003256)</td></tr>\n",
       "<tr><td style=\"text-align: left;\">28673863_P1 (FEMALE; P11Y)</td><td style=\"text-align: left;\">Mitochondrial DNA depletion syndrome 6 (hepatocerebral type) (OMIM:256810)</td><td style=\"text-align: left;\">NM_002437.5:c.121C>T (homozygous)</td><td style=\"text-align: left;\">Myalgia (HP:0003326); Lower limb muscle weakness (HP:0007340); Postural instability (HP:0002172); Vomiting (HP:0002013); Abdominal distention (HP:0003270); Muscle spasm (HP:0003394); Failure to thrive (HP:0001508); Cholelithiasis (HP:0001081); Lower limb asymmetry (HP:0100559); Upper limb asymmetry (HP:0100560); Hepatomegaly (HP:0002240); Cognitive impairment (HP:0100543); Decreased Achilles reflex (HP:0009072); Impaired vibratory sensation (HP:0002495); Positive Romberg sign (HP:0002403); Incoordination (HP:0002311); Elevated circulating aspartate aminotransferase concentration (HP:0031956); Increased serum lactate (HP:0002151); Increased serum pyruvate (HP:0003542); EMG: myopathic abnormalities (HP:0003458); Hyperintensity of cerebral white matter on MRI (HP:0030890)</td></tr>\n",
       "<tr><td style=\"text-align: left;\">28209105_P1 (MALE; P2Y)</td><td style=\"text-align: left;\">Mitochondrial DNA depletion syndrome 6 (hepatocerebral type) (OMIM:256810)</td><td style=\"text-align: left;\">NM_002437.5:c.149G>A (homozygous)</td><td style=\"text-align: left;\">Failure to thrive (HP:0001508); Elevated circulating alkaline phosphatase concentration (HP:0003155); Elevated circulating aspartate aminotransferase concentration (HP:0031956); Hypoalbuminemia (HP:0003073); Hypoglycemia (HP:0001943); Hypofibrinogenemia (HP:0011900); Abdominal distention (HP:0003270); Abnormal stool composition (HP:0031685); Cirrhosis (HP:0001394); Respiratory insufficiency due to muscle weakness (HP:0002747)</td></tr>\n",
       "<tr><td style=\"text-align: left;\">27536553_P1 (MALE; P4M)</td><td style=\"text-align: left;\">Mitochondrial DNA depletion syndrome 6 (hepatocerebral type) (OMIM:256810)</td><td style=\"text-align: left;\"><ul> <li>NM_002437.5:c.197T>A (heterozygous)</li> <li>NM_002437.5:c.293C>T (heterozygous)</li> </ul></td><td style=\"text-align: left;\">Cholestasis (HP:0001396); Hepatic steatosis (HP:0001397); Hepatic failure (HP:0001399); Global developmental delay (HP:0001263); Hypotonia (HP:0001252); Motor polyneuropathy (HP:0007178); Hypoglycemia (HP:0001943); Increased serum lactate (HP:0002151); Episodic vomiting (HP:0002572); Nephrocalcinosis (HP:0000121)</td></tr>\n",
       "<tr><td style=\"text-align: left;\">27536553_P2 (MALE; P2M)</td><td style=\"text-align: left;\">Mitochondrial DNA depletion syndrome 6 (hepatocerebral type) (OMIM:256810)</td><td style=\"text-align: left;\">NM_002437.5:c.451dup (homozygous)</td><td style=\"text-align: left;\">Cholestasis (HP:0001396); Hepatomegaly (HP:0002240); Hepatic steatosis (HP:0001397); Hepatic failure (HP:0001399); Global developmental delay (HP:0001263); Hypotonia (HP:0001252); Horizontal nystagmus (HP:0000666); Hypoglycemia (HP:0001943); Increased serum lactate (HP:0002151); Episodic vomiting (HP:0002572); Retinal dystrophy (HP:0000556)</td></tr>\n",
       "<tr><td style=\"text-align: left;\">27536553_P3 (MALE; P2M)</td><td style=\"text-align: left;\">Mitochondrial DNA depletion syndrome 6 (hepatocerebral type) (OMIM:256810)</td><td style=\"text-align: left;\">NM_002437.5:c.451dup (homozygous)</td><td style=\"text-align: left;\">Cholestasis (HP:0001396); Hepatomegaly (HP:0002240); Hepatic steatosis (HP:0001397); Hepatic failure (HP:0001399); Global developmental delay (HP:0001263); Hypotonia (HP:0001252); Hypoglycemia (HP:0001943); Episodic vomiting (HP:0002572); Increased serum lactate (HP:0002151)</td></tr>\n",
       "<tr><td style=\"text-align: left;\">27536553_P4 (FEMALE; P1Y0M)</td><td style=\"text-align: left;\">Mitochondrial DNA depletion syndrome 6 (hepatocerebral type) (OMIM:256810)</td><td style=\"text-align: left;\"><ul> <li>NM_002437.5:c.280G>C (heterozygous)</li> <li>NM_002437.5:c.293C>T (heterozygous)</li> </ul></td><td style=\"text-align: left;\">Cholestasis (HP:0001396); Hepatomegaly (HP:0002240); Hepatic steatosis (HP:0001397); Hepatic failure (HP:0001399); Global developmental delay (HP:0001263); Hypotonia (HP:0001252); Hypoglycemia (HP:0001943); Episodic vomiting (HP:0002572)</td></tr>\n",
       "<tr><td style=\"text-align: left;\">18695062_P1 (FEMALE; P2M)</td><td style=\"text-align: left;\">Mitochondrial DNA depletion syndrome 6 (hepatocerebral type) (OMIM:256810)</td><td style=\"text-align: left;\">NM_002437.5:c.359G>A (homozygous)</td><td style=\"text-align: left;\">Dehydration (HP:0001944); Diarrhea (HP:0002014); Jaundice (HP:0000952); Hepatomegaly (HP:0002240); Decreased body weight (HP:0004325); Microcephaly (HP:0000252); Wide nasal bridge (HP:0000431); Abnormality of the coagulation cascade (HP:0003256); Hyperbilirubinemia (HP:0002904); Elevated circulating aspartate aminotransferase concentration (HP:0031956); Elevated circulating alanine aminotransferase concentration (HP:0031964); Hyperammonemia (HP:0001987); Lactic acidosis (HP:0003128); Nephrolithiasis (HP:0000787); Dystonia (HP:0001332)</td></tr>\n",
       "<tr><td style=\"text-align: left;\">18695062_P2 (FEMALE; P1M3W)</td><td style=\"text-align: left;\">Mitochondrial DNA depletion syndrome 6 (hepatocerebral type) (OMIM:256810)</td><td style=\"text-align: left;\">NM_002437.5:c.359G>A (homozygous)</td><td style=\"text-align: left;\">Severe failure to thrive (HP:0001525); Muscular dystrophy (HP:0003560); Hepatomegaly (HP:0002240); Hypotonia (HP:0001252); Severe lactic acidosis (HP:0004900); Cholestasis (HP:0001396); Hepatic failure (HP:0001399)</td></tr>\n",
       "<tr><td style=\"text-align: left;\">18695062_P3 (FEMALE; P1W)</td><td style=\"text-align: left;\">Mitochondrial DNA depletion syndrome 6 (hepatocerebral type) (OMIM:256810)</td><td style=\"text-align: left;\"><ul> <li>NM_002437.5:c.70G>T (heterozygous)</li> <li>1.5-kb deletion that spanned from intron 7 well into exon 8: chromosomal_deletion (SO:1000029)</li> </ul></td><td style=\"text-align: left;\">Feeding difficulties (HP:0011968); Limb tremor (HP:0200085); Lethargy (HP:0001254); Hypoglycemia (HP:0001943); Hypertyrosinemia (HP:0003231); Increased serum lactate (HP:0002151); Hepatic failure (HP:0001399); Abnormality of the coagulation cascade (HP:0003256); Hypotonia (HP:0001252); Nystagmus (HP:0000639); Hepatomegaly (HP:0002240); Decreased body weight (HP:0004325); Subdural hemorrhage (HP:0100309); Periventricular leukomalacia (HP:0006970)</td></tr>\n",
       "<tr><td style=\"text-align: left;\">18329934_P1 (MALE; P2M)</td><td style=\"text-align: left;\">Mitochondrial DNA depletion syndrome 6 (hepatocerebral type) (OMIM:256810)</td><td style=\"text-align: left;\">NM_002437.5:c.70+5G>A (homozygous)</td><td style=\"text-align: left;\">Vomiting (HP:0002013); Jaundice (HP:0000952); Elevated hepatic transaminase (HP:0002910); Failure to thrive (HP:0001508); Hypoglycemia (HP:0001943); Hepatic failure (HP:0001399); Hypotonia (HP:0001252); Areflexia (HP:0001284); Polyneuropathy (HP:0001271); Cirrhosis (HP:0001394); Developmental regression (HP:0002376); Global proximal tubulopathy (HP:0012573); Gastrointestinal dysmotility (HP:0002579); Hypoparathyroidism (HP:0000829); Pigmentary retinopathy (HP:0000580); Sudden episodic apnea (HP:0002882)</td></tr>\n",
       "<tr><td style=\"text-align: left;\">20074988_P1 (MALE; P1W)</td><td style=\"text-align: left;\">Mitochondrial DNA depletion syndrome 6 (hepatocerebral type) (OMIM:256810)</td><td style=\"text-align: left;\">NM_002437.5:c.262A>G (homozygous)</td><td style=\"text-align: left;\">Hepatic failure (HP:0001399); Cholestasis (HP:0001396); Global developmental delay (HP:0001263); Muscle weakness (HP:0001324); Failure to thrive (HP:0001508); Lactic acidosis (HP:0003128); Abnormal cerebral white matter morphology (HP:0002500)</td></tr>\n",
       "<tr><td style=\"text-align: left;\">20074988_P2 (FEMALE; P6M)</td><td style=\"text-align: left;\">Mitochondrial DNA depletion syndrome 6 (hepatocerebral type) (OMIM:256810)</td><td style=\"text-align: left;\"><ul> <li>NM_002437.5:c.280G>C (heterozygous)</li> <li>NM_002437.5:c.293C>T (heterozygous)</li> </ul></td><td style=\"text-align: left;\">Hypotonia (HP:0001252); Lactic acidosis (HP:0003128); Failure to thrive (HP:0001508); Hepatic failure (HP:0001399); Cholestasis (HP:0001396); Global developmental delay (HP:0001263); Muscle weakness (HP:0001324)</td></tr>\n",
       "<tr><td style=\"text-align: left;\">20074988_P3 (MALE; P4M)</td><td style=\"text-align: left;\">Mitochondrial DNA depletion syndrome 6 (hepatocerebral type) (OMIM:256810)</td><td style=\"text-align: left;\">NM_002437.5:c.263_265del (homozygous)</td><td style=\"text-align: left;\">Hepatomegaly (HP:0002240); Peripheral neuropathy (HP:0009830); Hepatic failure (HP:0001399); Hypotonia (HP:0001252); Failure to thrive (HP:0001508)</td></tr>\n",
       "<tr><td style=\"text-align: left;\">20074988_P4 (MALE; P6M)</td><td style=\"text-align: left;\">Mitochondrial DNA depletion syndrome 6 (hepatocerebral type) (OMIM:256810)</td><td style=\"text-align: left;\"><ul> <li>NM_002437.5:c.485C>A (heterozygous)</li> <li>NM_002437.5:c.271_273del (heterozygous)</li> </ul></td><td style=\"text-align: left;\">Hypotonia (HP:0001252); Lactic acidosis (HP:0003128); Hepatic failure (HP:0001399); Failure to thrive (HP:0001508)</td></tr>\n",
       "<tr><td style=\"text-align: left;\">20074988_P5 (MALE; P5M)</td><td style=\"text-align: left;\">Mitochondrial DNA depletion syndrome 6 (hepatocerebral type) (OMIM:256810)</td><td style=\"text-align: left;\">NM_002437.5:c.271_273del (homozygous)</td><td style=\"text-align: left;\">Leukodystrophy (HP:0002415); Encephalopathy (HP:0001298); Hepatic failure (HP:0001399); Hypoglycemia (HP:0001943); Hypotonia (HP:0001252); Failure to thrive (HP:0001508); Global developmental delay (HP:0001263); Muscle weakness (HP:0001324); Lactic acidosis (HP:0003128); Hepatomegaly (HP:0002240)</td></tr>\n",
       "<tr><td style=\"text-align: left;\">20074988_P6 (MALE; P2M)</td><td style=\"text-align: left;\">Mitochondrial DNA depletion syndrome 6 (hepatocerebral type) (OMIM:256810)</td><td style=\"text-align: left;\"><ul> <li>NM_002437.5:c.186+2T>C (heterozygous)</li> <li>NM_002437.5:c.271_273del (heterozygous)</li> </ul></td><td style=\"text-align: left;\">Hepatic failure (HP:0001399); Hypotonia (HP:0001252); Microcephaly (HP:0000252); Lactic acidosis (HP:0003128); Failure to thrive (HP:0001508); Global developmental delay (HP:0001263); Hypoglycemia (HP:0001943)</td></tr>\n",
       "<tr><td style=\"text-align: left;\">20074988_P7 (MALE; P6M)</td><td style=\"text-align: left;\">Mitochondrial DNA depletion syndrome 6 (hepatocerebral type) (OMIM:256810)</td><td style=\"text-align: left;\">NM_002437.5:c.22dup (homozygous)</td><td style=\"text-align: left;\">Hepatocellular carcinoma (HP:0001402); Hepatic failure (HP:0001399); Cirrhosis (HP:0001394); Hypotonia (HP:0001252); Failure to thrive (HP:0001508)</td></tr>\n",
       "<tr><td style=\"text-align: left;\">22508010_P1 (MALE; P21Y)</td><td style=\"text-align: left;\">Mitochondrial DNA depletion syndrome 6 (hepatocerebral type) (OMIM:256810)</td><td style=\"text-align: left;\">NM_002437.5:c.293C>T (homozygous)</td><td style=\"text-align: left;\">Viral hepatitis (HP:0006562); Foot dorsiflexor weakness (HP:0009027); Difficulty walking (HP:0002355); Hypoesthesia (HP:0033748); Distal lower limb amyotrophy (HP:0008944); Unsteady gait (HP:0002317); Hepatomegaly (HP:0002240); Hepatic steatosis (HP:0001397); Increased CSF protein concentration (HP:0002922); Progressive peripheral neuropathy (HP:0007133); Hyperintensity of cerebral white matter on MRI (HP:0030890)</td></tr>\n",
       "<tr><td style=\"text-align: left;\">22824774_P1 (MALE; P2D)</td><td style=\"text-align: left;\">Mitochondrial DNA depletion syndrome 6 (hepatocerebral type) (OMIM:256810)</td><td style=\"text-align: left;\">NM_002437.5:c.279+1G>T (homozygous)</td><td style=\"text-align: left;\">Episodic vomiting (HP:0002572); Hypoglycemia (HP:0001943); Failure to thrive (HP:0001508); Dehydration (HP:0001944); Motor delay (HP:0001270); Skeletal muscle atrophy (HP:0003202); Hypotonia (HP:0001252); Hepatomegaly (HP:0002240); Sparse hair (HP:0008070); Brittle hair (HP:0002299); Scaling skin (HP:0040189); Pruritus (HP:0000989); Reticular hyperpigmentation (HP:0007588); Elevated hepatic transaminase (HP:0002910); Hypoalbuminemia (HP:0003073); Abnormality of the coagulation cascade (HP:0003256); Nephrolithiasis (HP:0000787); Hydronephrosis (HP:0000126); Gastrostomy tube feeding in infancy (HP:0011471); Leukodystrophy (HP:0002415)</td></tr>\n",
       "<tr><td style=\"text-align: left;\">22964873_P1 (MALE; P65Y)</td><td style=\"text-align: left;\">Mitochondrial DNA depletion syndrome 6 (hepatocerebral type) (OMIM:256810)</td><td style=\"text-align: left;\"><ul> <li>NM_002437.5:c.263A>T (heterozygous)</li> <li>NM_002437.5:c.265A>T (heterozygous)</li> </ul></td><td style=\"text-align: left;\">Distal muscle weakness (HP:0002460); Peripheral neuropathy (HP:0009830); Progressive proximal muscle weakness (HP:0009073); Exercise intolerance (HP:0003546); Diabetes mellitus (HP:0000819); Ptosis (HP:0000508); Ophthalmoparesis (HP:0000597); Hearing impairment (HP:0000365); Constipation (HP:0002019); Gastrointestinal dysmotility (HP:0002579); Depression (HP:0000716); Hepatic steatosis (HP:0001397); Parkinsonism (HP:0001300); Bradykinesia (HP:0002067); Hand tremor (HP:0002378); Rigidity (HP:0002063)</td></tr>\n",
       "<tr><td style=\"text-align: left;\">23714749_P1 (FEMALE; P4M2W)</td><td style=\"text-align: left;\">Mitochondrial DNA depletion syndrome 6 (hepatocerebral type) (OMIM:256810)</td><td style=\"text-align: left;\">NM_002437.5:c.62T>G (homozygous)</td><td style=\"text-align: left;\">Hypotonia (HP:0001252); Hepatic failure (HP:0001399); Abnormality of the coagulation cascade (HP:0003256); Hypoglycemia (HP:0001943); Neurodevelopmental delay (HP:0012758); Increased serum lactate (HP:0002151)</td></tr>\n",
       "<tr><td style=\"text-align: left;\">23714749_P2 (FEMALE; P1D)</td><td style=\"text-align: left;\">Mitochondrial DNA depletion syndrome 6 (hepatocerebral type) (OMIM:256810)</td><td style=\"text-align: left;\"><ul> <li>NM_002437.5:c.67G>C (heterozygous)</li> <li>NM_002437.5:c.135del (heterozygous)</li> </ul></td><td style=\"text-align: left;\">Feeding difficulties (HP:0011968); Failure to thrive (HP:0001508); Hepatic failure (HP:0001399); Hypoglycemia (HP:0001943); Increased serum lactate (HP:0002151); Global developmental delay (HP:0001263); Vomiting (HP:0002013)</td></tr>\n",
       "<tr><td style=\"text-align: left;\">23714749_P3 (FEMALE; P1D)</td><td style=\"text-align: left;\">Mitochondrial DNA depletion syndrome 6 (hepatocerebral type) (OMIM:256810)</td><td style=\"text-align: left;\">NM_002437.5:c.107A>C (homozygous)</td><td style=\"text-align: left;\">Feeding difficulties (HP:0011968); Hypoglycemia (HP:0001943); Hypertyrosinemia (HP:0003231); Increased serum lactate (HP:0002151); Failure to thrive (HP:0001508); Generalized hypotonia (HP:0001290); Hepatic failure (HP:0001399); Encephalopathy (HP:0001298); Intrauterine growth retardation (HP:0001511)</td></tr>\n",
       "<tr><td style=\"text-align: left;\">23714749_P4 (FEMALE; P5Y)</td><td style=\"text-align: left;\">Mitochondrial DNA depletion syndrome 6 (hepatocerebral type) (OMIM:256810)</td><td style=\"text-align: left;\">NM_002437.5:c.121C>T (homozygous)</td><td style=\"text-align: left;\">Progressive peripheral neuropathy (HP:0007133); Hepatic failure (HP:0001399)</td></tr>\n",
       "<tr><td style=\"text-align: left;\">23714749_P5 (FEMALE; P9M)</td><td style=\"text-align: left;\">Mitochondrial DNA depletion syndrome 6 (hepatocerebral type) (OMIM:256810)</td><td style=\"text-align: left;\">NM_002437.5:c.121C>T (homozygous)</td><td style=\"text-align: left;\">Hepatic failure (HP:0001399); Failure to thrive (HP:0001508); Corneal scarring (HP:0000559); Progressive peripheral neuropathy (HP:0007133)</td></tr>\n",
       "<tr><td style=\"text-align: left;\">23714749_P6 (MALE; P3M2W)</td><td style=\"text-align: left;\">Mitochondrial DNA depletion syndrome 6 (hepatocerebral type) (OMIM:256810)</td><td style=\"text-align: left;\">NM_002437.5:c.130C>T (homozygous)</td><td style=\"text-align: left;\">Feeding difficulties (HP:0011968); Hypoglycemia (HP:0001943); Failure to thrive (HP:0001508); Increased serum lactate (HP:0002151); Encephalopathy (HP:0001298); Hepatic failure (HP:0001399)</td></tr>\n",
       "<tr><td style=\"text-align: left;\">23714749_P7 (FEMALE; P1D)</td><td style=\"text-align: left;\">Mitochondrial DNA depletion syndrome 6 (hepatocerebral type) (OMIM:256810)</td><td style=\"text-align: left;\">NM_002437.5:c.130C>T (homozygous)</td><td style=\"text-align: left;\">Tachypnea (HP:0002789); Hypoglycemia (HP:0001943); Increased serum lactate (HP:0002151); Failure to thrive (HP:0001508); Hepatic failure (HP:0001399)</td></tr>\n",
       "<tr><td style=\"text-align: left;\">23714749_P8 (MALE; P5M)</td><td style=\"text-align: left;\">Mitochondrial DNA depletion syndrome 6 (hepatocerebral type) (OMIM:256810)</td><td style=\"text-align: left;\"><ul> <li>NM_002437.5:c.191C>G (heterozygous)</li> <li>NM_002437.5:c.293C>T (heterozygous)</li> </ul></td><td style=\"text-align: left;\">Failure to thrive (HP:0001508); Hepatic failure (HP:0001399); Progressive peripheral neuropathy (HP:0007133); Hypoparathyroidism (HP:0000829); Decreased response to growth hormone stimulation test (HP:0000824); Gastrostomy tube feeding in infancy (HP:0011471)</td></tr>\n",
       "<tr><td style=\"text-align: left;\">23714749_P9 (MALE; P2M)</td><td style=\"text-align: left;\">Mitochondrial DNA depletion syndrome 6 (hepatocerebral type) (OMIM:256810)</td><td style=\"text-align: left;\">NM_002437.5:c.278A>C (homozygous)</td><td style=\"text-align: left;\">Prolonged neonatal jaundice (HP:0006579); Failure to thrive (HP:0001508); Hypotonia (HP:0001252); Microcephaly (HP:0000252); Hepatic failure (HP:0001399); Increased serum lactate (HP:0002151); Pigmentary retinopathy (HP:0000580)</td></tr>\n",
       "<tr><td style=\"text-align: left;\">23714749_P10 (FEMALE; P2M)</td><td style=\"text-align: left;\">Mitochondrial DNA depletion syndrome 6 (hepatocerebral type) (OMIM:256810)</td><td style=\"text-align: left;\">NM_002437.5:c.278A>C (homozygous)</td><td style=\"text-align: left;\">Feeding difficulties (HP:0011968); Hypotonia (HP:0001252); Jaundice (HP:0000952); Hepatic failure (HP:0001399); Abnormality of the coagulation cascade (HP:0003256); Increased serum lactate (HP:0002151)</td></tr>\n",
       "<tr><td style=\"text-align: left;\">23714749_P11 (FEMALE; P2M)</td><td style=\"text-align: left;\">Mitochondrial DNA depletion syndrome 6 (hepatocerebral type) (OMIM:256810)</td><td style=\"text-align: left;\">NM_002437.5:c.278A>C (homozygous)</td><td style=\"text-align: left;\">Feeding difficulties (HP:0011968); Failure to thrive (HP:0001508); Hypotonia (HP:0001252); Abnormal facial shape (HP:0001999); Hypoglycemia (HP:0001943); Jaundice (HP:0000952); Decreased circulating cortisol level (HP:0008163); Hepatic failure (HP:0001399)</td></tr>\n",
       "<tr><td style=\"text-align: left;\">23714749_P12 (MALE; P4M)</td><td style=\"text-align: left;\">Mitochondrial DNA depletion syndrome 6 (hepatocerebral type) (OMIM:256810)</td><td style=\"text-align: left;\">NM_002437.5:c.279+1G>T (homozygous)</td><td style=\"text-align: left;\">Failure to thrive (HP:0001508); Global developmental delay (HP:0001263); Hypotonia (HP:0001252); Myopathy (HP:0003198); Hepatic failure (HP:0001399); Cholestasis (HP:0001396); Increased serum lactate (HP:0002151)</td></tr>\n",
       "<tr><td style=\"text-align: left;\">23714749_P13 (FEMALE; P2M2W)</td><td style=\"text-align: left;\">Mitochondrial DNA depletion syndrome 6 (hepatocerebral type) (OMIM:256810)</td><td style=\"text-align: left;\">NM_002437.5:c.461+1G>C (homozygous)</td><td style=\"text-align: left;\">Jaundice (HP:0000952); Hypothyroidism (HP:0000821); Hypotonia (HP:0001252); Failure to thrive (HP:0001508); Global developmental delay (HP:0001263); Abnormal facial shape (HP:0001999)</td></tr>\n",
       "<tr><td style=\"text-align: left;\">23829229_P1 (MALE; P9M)</td><td style=\"text-align: left;\">Mitochondrial DNA depletion syndrome 6 (hepatocerebral type) (OMIM:256810)</td><td style=\"text-align: left;\">NM_002437.5:c.191C>G (homozygous)</td><td style=\"text-align: left;\">Fulminant hepatic failure (HP:0004448); Respiratory tract infection (HP:0011947); Metabolic acidosis (HP:0001942); Hypoglycemia (HP:0001943); Feeding difficulties (HP:0011968)</td></tr>\n",
       "<tr><td style=\"text-align: left;\">23829229_P2 (MALE; P6M)</td><td style=\"text-align: left;\">Mitochondrial DNA depletion syndrome 6 (hepatocerebral type) (OMIM:256810)</td><td style=\"text-align: left;\">NM_002437.5:c.191C>G (homozygous)</td><td style=\"text-align: left;\">Hypotonia (HP:0001252); Failure to thrive (HP:0001508); Hepatomegaly (HP:0002240); Ascites (HP:0001541); Abnormal bleeding (HP:0001892)</td></tr>\n",
       "<tr><td style=\"text-align: left;\">23829229_P3 (FEMALE; P2M)</td><td style=\"text-align: left;\">Mitochondrial DNA depletion syndrome 6 (hepatocerebral type) (OMIM:256810)</td><td style=\"text-align: left;\">NM_002437.5:c.191C>G (homozygous)</td><td style=\"text-align: left;\">Severe failure to thrive (HP:0001525); Axial hypotonia (HP:0008936); Reduced tendon reflexes (HP:0001315); Fasciculations (HP:0002380); Hypoglycemia (HP:0001943); Nystagmus (HP:0000639); Stridor (HP:0010307); Jaundice (HP:0000952); Hepatomegaly (HP:0002240); Abnormal thrombosis (HP:0001977); Elevated hepatic transaminase (HP:0002910); Elevated gamma-glutamyltransferase level (HP:0030948); Hyperbilirubinemia (HP:0002904); Increased circulating ferritin concentration (HP:0003281); Polyneuropathy (HP:0001271)</td></tr>\n",
       "<tr><td style=\"text-align: left;\">23829229_P4 (FEMALE; P4M)</td><td style=\"text-align: left;\">Mitochondrial DNA depletion syndrome 6 (hepatocerebral type) (OMIM:256810)</td><td style=\"text-align: left;\">NM_002437.5:c.191C>G (homozygous)</td><td style=\"text-align: left;\">Lacticaciduria (HP:0003648); Dicarboxylic aciduria (HP:0003215); Hepatomegaly (HP:0002240); Elevated hepatic transaminase (HP:0002910); Episodic vomiting (HP:0002572); Dehydration (HP:0001944); Hypoglycemia (HP:0001943); Severe lactic acidosis (HP:0004900); Fatal liver failure in infancy (HP:0006583); Jaundice (HP:0000952); Ascites (HP:0001541); Abnormality of the coagulation cascade (HP:0003256); Bradycardia (HP:0001662)</td></tr>\n",
       "<tr><td style=\"text-align: left;\">24190800_P1 (FEMALE; P18Y)</td><td style=\"text-align: left;\">Mitochondrial DNA depletion syndrome 6 (hepatocerebral type) (OMIM:256810)</td><td style=\"text-align: left;\">NM_002437.5:c.293C>T (homozygous)</td><td style=\"text-align: left;\">Secondary amenorrhea (HP:0000869); Peripheral axonal neuropathy (HP:0003477); Aphasia (HP:0002381); Memory impairment (HP:0002354); Muscle weakness (HP:0001324); Lactic acidosis (HP:0003128); Hyperammonemia (HP:0001987); Cirrhosis (HP:0001394); Hepatic failure (HP:0001399); Leukodystrophy (HP:0002415)</td></tr>\n",
       "<tr><td style=\"text-align: left;\">24894789_P1 (MALE; P2M)</td><td style=\"text-align: left;\">Mitochondrial DNA depletion syndrome 6 (hepatocerebral type) (OMIM:256810)</td><td style=\"text-align: left;\">NM_002437.5:c.278A>C (homozygous)</td><td style=\"text-align: left;\">Jaundice (HP:0000952); Diarrhea (HP:0002014); Microcephaly (HP:0000252); Failure to thrive (HP:0001508); Hypotonia (HP:0001252); Hepatosplenomegaly (HP:0001433); Lactic acidosis (HP:0003128); Abnormality of the coagulation cascade (HP:0003256); Increased circulating ferritin concentration (HP:0003281); Pigmentary retinopathy (HP:0000580); Hepatic steatosis (HP:0001397); Leukodystrophy (HP:0002415)</td></tr>\n",
       "<tr><td style=\"text-align: left;\">25129007_P1 (MALE; P6M)</td><td style=\"text-align: left;\">Mitochondrial DNA depletion syndrome 6 (hepatocerebral type) (OMIM:256810)</td><td style=\"text-align: left;\"><ul> <li>NM_002437.5:c.408T>G (heterozygous)</li> <li>NM_002437.5:c.293C>T (heterozygous)</li> </ul></td><td style=\"text-align: left;\">Jaundice (HP:0000952); Abdominal distention (HP:0003270); Hepatomegaly (HP:0002240); Irritability (HP:0000737); Seizure (HP:0001250); Increased serum lactate (HP:0002151); Hepatic steatosis (HP:0001397)</td></tr>\n",
       "<tr><td style=\"text-align: left;\">26437932_P1 (FEMALE; P34Y)</td><td style=\"text-align: left;\">Mitochondrial DNA depletion syndrome 6 (hepatocerebral type) (OMIM:256810)</td><td style=\"text-align: left;\">NM_002437.5:c.122G>A (homozygous)</td><td style=\"text-align: left;\">Distal lower limb muscle weakness (HP:0009053); Difficulty walking (HP:0002355); Distal lower limb amyotrophy (HP:0008944); Abolished vibration sense (HP:0006944); Areflexia (HP:0001284); Increased serum lactate (HP:0002151)</td></tr>\n",
       "<tr><td style=\"text-align: left;\">26437932_P2 (MALE; P22Y)</td><td style=\"text-align: left;\">Mitochondrial DNA depletion syndrome 6 (hepatocerebral type) (OMIM:256810)</td><td style=\"text-align: left;\">NM_002437.5:c.122G>A (homozygous)</td><td style=\"text-align: left;\">Gait imbalance (HP:0002141); Difficulty walking (HP:0002355); Distal lower limb muscle weakness (HP:0009053); Distal lower limb amyotrophy (HP:0008944); Areflexia (HP:0001284); Increased serum lactate (HP:0002151)</td></tr>\n",
       "</table>"
      ],
      "text/plain": [
       "<IPython.core.display.HTML object>"
      ]
     },
     "metadata": {},
     "output_type": "display_data"
    }
   ],
   "source": [
    "individuals = cvalidator.get_error_free_individual_list()\n",
    "table = PhenopacketTable(individual_list=individuals, metadata=metadata)\n",
    "display(HTML(table.to_html()))"
   ]
  },
  {
   "cell_type": "code",
   "execution_count": 25,
   "id": "ff457951-baf5-44f1-8901-4fdb3b0d84b3",
   "metadata": {},
   "outputs": [
    {
     "name": "stdout",
     "output_type": "stream",
     "text": [
      "We output 50 GA4GH phenopackets to the directory phenopackets\n"
     ]
    }
   ],
   "source": [
    "MixedCohortEncoder.output_individuals_as_phenopackets(individual_list=individuals)"
   ]
  },
  {
   "cell_type": "code",
   "execution_count": null,
   "id": "f7e224cf-ae49-4331-aa59-8c4918d1b1cb",
   "metadata": {},
   "outputs": [],
   "source": []
  }
 ],
 "metadata": {
  "kernelspec": {
   "display_name": "ps2venv",
   "language": "python",
   "name": "ps2venv"
  },
  "language_info": {
   "codemirror_mode": {
    "name": "ipython",
    "version": 3
   },
   "file_extension": ".py",
   "mimetype": "text/x-python",
   "name": "python",
   "nbconvert_exporter": "python",
   "pygments_lexer": "ipython3",
   "version": "3.8.10"
  }
 },
 "nbformat": 4,
 "nbformat_minor": 5
}
