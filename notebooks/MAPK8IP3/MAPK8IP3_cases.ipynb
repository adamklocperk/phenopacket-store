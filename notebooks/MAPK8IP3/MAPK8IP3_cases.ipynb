{
 "cells": [
  {
   "cell_type": "markdown",
   "id": "8df8a5d8-260d-402e-a207-3f73e6e4ace6",
   "metadata": {},
   "source": [
    "<H1>MAPK8IP3 Case reports</H1>\n",
    "<p>This notebook records two case reports about individuals with de novo heterozygous variants in MAPK8IP3</p>"
   ]
  },
  {
   "cell_type": "code",
   "execution_count": 1,
   "id": "12093362-3301-4c5d-9b15-4c14d3427972",
   "metadata": {},
   "outputs": [
    {
     "name": "stdout",
     "output_type": "stream",
     "text": [
      "Using pyphetools version 0.9.4\n"
     ]
    }
   ],
   "source": [
    "import pandas as pd\n",
    "pd.set_option('display.max_colwidth', None) # show entire column contents, important!\n",
    "from IPython.display import display, HTML\n",
    "from pyphetools.creation import *\n",
    "from pyphetools.visualization import *\n",
    "from pyphetools.validation import *\n",
    "import pyphetools\n",
    "print(f\"Using pyphetools version {pyphetools.__version__}\")"
   ]
  },
  {
   "cell_type": "markdown",
   "id": "5c634672-f286-48b5-ada8-5e18e053b511",
   "metadata": {},
   "source": [
    "<h2>Yechieli et al.</h2>\n",
    "<p>This section of the notebook creates a phenopacket for patient S12 described in Yechieli M, et al., (2022) Diagnostic yield of chromosomal microarray and trio whole exome sequencing in cryptogenic cerebral palsy. J Med Genet. 59(8):759-767. (<a href=\"https://pubmed.ncbi.nlm.nih.gov/34321325/\" target=\"__blank\">PMID:34321325)</a></p>"
   ]
  },
  {
   "cell_type": "code",
   "execution_count": 2,
   "id": "4d08a33e-ffb7-42f0-bcb7-486de3ada9da",
   "metadata": {},
   "outputs": [
    {
     "name": "stdout",
     "output_type": "stream",
     "text": [
      "HPO version 2023-10-09\n"
     ]
    }
   ],
   "source": [
    "parser = HpoParser()\n",
    "hpo_cr = parser.get_hpo_concept_recognizer()\n",
    "hpo_version = parser.get_version()\n",
    "hpo_ontology = parser.get_ontology()\n",
    "print(f\"HPO version {hpo_version}\")"
   ]
  },
  {
   "cell_type": "code",
   "execution_count": 3,
   "id": "1f6a1a69-a37a-4ee1-9426-acbf902dca24",
   "metadata": {},
   "outputs": [],
   "source": [
    "disease_id = \"OMIM:618443\"\n",
    "disease_label = \"Neurodevelopmental disorder with or without variable brain abnormalities\"\n",
    "disease_MAPK8IP3 = Disease(disease_id=disease_id, disease_label=disease_label)\n",
    "age = \"P12Y\"\n",
    "sex = \"MALE\"\n",
    "PMID = \"PMID:34321325\"\n",
    "title = \"Diagnostic yield of chromosomal microarray and trio whole exome sequencing in cryptogenic cerebral palsy\"\n",
    "cite34321325 = Citation(pmid=PMID, title=title)\n",
    "metadata34321325 = MetaData(created_by=\"ORCID:0000-0002-0736-9199\", citation=cite34321325)\n",
    "metadata34321325.default_versions_with_hpo(version=hpo_version)\n",
    "\n",
    "\n",
    "pfeatures = []\n",
    "pfeatures.append(HpTerm(hpo_id=\"HP:0001249\", label=\"Intellectual disability\", observed=\"True\", onset=\"P12Y0M0D\"))\n",
    "pfeatures.append(HpTerm(hpo_id=\"HP:0034183\", label=\"Spastic triplegia\", observed=\"True\", onset=\"P12Y0M0D\"))\n",
    "patient_S12 = Individual(individual_id=\"Patient S12\", sex=\"MALE\", hpo_terms=pfeatures)\n",
    "patient_S12.set_disease(disease_MAPK8IP3)"
   ]
  },
  {
   "cell_type": "markdown",
   "id": "b4d37827-57fd-4fc4-a957-3f3470eb541e",
   "metadata": {},
   "source": [
    "<h2>Variant</h2>\n",
    "<p>In the original publication, the authors use the transcript NM_015133.4. The variant, NM_015133.4:c.45C>G, corresponds to GRCh38:16:1706384:C:G (VariantValidator). Here we use the MANE Select ENST00000610761 transcript, which corresponds to NM_001318852.2. \n",
    "NM_001318852.2:c.45C>G is the same variant - GRCh38:16:1706384:C:G</p>"
   ]
  },
  {
   "cell_type": "code",
   "execution_count": 4,
   "id": "b230c883-d83d-44bd-b221-d7e3d5f3970c",
   "metadata": {},
   "outputs": [
    {
     "name": "stdout",
     "output_type": "stream",
     "text": [
      "https://rest.variantvalidator.org/VariantValidator/variantvalidator/hg38/NM_001318852.2%3Ac.45C>G/NM_001318852.2?content-type=application%2Fjson\n"
     ]
    },
    {
     "data": {
      "text/plain": [
       "'chr16:1706384C>G'"
      ]
     },
     "execution_count": 4,
     "metadata": {},
     "output_type": "execute_result"
    }
   ],
   "source": [
    "genome = 'hg38'\n",
    "transcript='NM_001318852.2' # MAPK8IP3\n",
    "varValidator = VariantValidator(genome_build=genome, transcript=transcript)\n",
    "varA = varValidator.encode_hgvs(hgvs=\"c.45C>G\")\n",
    "varA.set_heterozygous()\n",
    "varA.to_string()"
   ]
  },
  {
   "cell_type": "code",
   "execution_count": 5,
   "id": "8e70f153-056d-47c7-8286-ae8e4a52ec76",
   "metadata": {},
   "outputs": [],
   "source": [
    "patient_S12.add_variant(varA)"
   ]
  },
  {
   "cell_type": "markdown",
   "id": "718806c3-4c92-4bcd-9c49-d21ad09767cc",
   "metadata": {},
   "source": [
    "<H1>Sundaramurthi et al., in preparation</H1>\n",
    "<p>The following HPO annotations correspond to the individual described in a manuscript in progress</p>"
   ]
  },
  {
   "cell_type": "code",
   "execution_count": 6,
   "id": "0dfa7cdf-82ba-4399-8dd2-2609b40f9e0b",
   "metadata": {},
   "outputs": [],
   "source": [
    "age = \"P5Y\"\n",
    "sex = \"FEMALE\"\n",
    "pmid = \"PMID:pending\"\n",
    "title = \"in preparation\"\n",
    "cite = Citation(pmid=PMID, title=title)\n",
    "metadataInPrep = MetaData(created_by=\"ORCID:0000-0002-0736-9199\", citation=cite)\n",
    "metadataInPrep.default_versions_with_hpo(version=hpo_version)"
   ]
  },
  {
   "cell_type": "code",
   "execution_count": 7,
   "id": "ef39baf2-b088-4f36-b40b-e050b2c1b65f",
   "metadata": {},
   "outputs": [],
   "source": [
    "pfeatures = []\n",
    "pfeatures.append(HpTerm(hpo_id=\"HP:0012498\", label=\"Nuchal cord\", observed=\"True\", onset=\"P1Y0M0D\"))\n",
    "pfeatures.append(HpTerm(hpo_id=\"HP:0001321\", label=\"Cerebellar hypoplasia\", observed=\"True\", onset=\"P1Y0M0D\"))\n",
    "pfeatures.append(HpTerm(hpo_id=\"HP:0006872\", label=\"Cerebral hypoplasia\", observed=\"True\", onset=\"P1Y0M0D\"))\n",
    "pfeatures.append(HpTerm(hpo_id=\"HP:0012110\", label=\"Hypoplasia of the pons\", observed=\"True\", onset=\"P1Y0M0D\"))\n",
    "pfeatures.append(HpTerm(hpo_id=\"HP:0034295\", label=\"Reduced cerebral white matter volume\", observed=\"True\", onset=\"P1Y0M0D\"))\n",
    "pfeatures.append(HpTerm(hpo_id=\"HP:0006970\", label=\"Periventricular leukomalacia\", observed=\"True\", onset=\"P1Y0M0D\"))\n",
    "pfeatures.append(HpTerm(hpo_id=\"HP:0033725\", label=\"Thin corpus callosum\", observed=\"True\", onset=\"P1Y0M0D\"))\n",
    "pfeatures.append(HpTerm(hpo_id=\"HP:0001263\", label=\"Global developmental delay\", observed=\"True\", onset=\"P1Y4M0D\"))\n",
    "pfeatures.append(HpTerm(hpo_id=\"HP:0031936\", label=\"Delayed ability to walk\", observed=\"True\", onset=\"P2Y0M0D\"))\n",
    "pfeatures.append(HpTerm(hpo_id=\"HP:0000750\", label=\"Delayed speech and language development\", observed=\"True\", onset=\"P2Y0M0D\"))\n",
    "pfeatures.append(HpTerm(hpo_id=\"HP:0100021\", label=\"Cerebral palsy\", observed=\"True\", onset=\"P5Y0M0D\"))\n",
    "pfeatures.append(HpTerm(hpo_id=\"HP:0000252\", label=\"Microcephaly\", observed=\"True\", onset=\"P5Y0M0D\"))\n",
    "pfeatures.append(HpTerm(hpo_id=\"HP:0002333\", label=\"Motor deterioration\", observed=\"True\", onset=\"P5Y0M0D\"))\n",
    "pfeatures.append(HpTerm(hpo_id=\"HP:0001264\", label=\"Spastic diplegia\", observed=\"True\", onset=\"P5Y0M0D\"))\n",
    "individual_A = Individual(individual_id=\"Individual A\", sex=\"FEMALE\", hpo_terms=pfeatures)"
   ]
  },
  {
   "cell_type": "code",
   "execution_count": 8,
   "id": "e995ad38-a3f8-46fa-b8a5-f8406d56af15",
   "metadata": {},
   "outputs": [
    {
     "name": "stdout",
     "output_type": "stream",
     "text": [
      "https://rest.variantvalidator.org/VariantValidator/variantvalidator/hg38/NM_001318852.2%3Ac.1735C>T/NM_001318852.2?content-type=application%2Fjson\n"
     ]
    },
    {
     "data": {
      "text/plain": [
       "'chr16:1762843C>T'"
      ]
     },
     "execution_count": 8,
     "metadata": {},
     "output_type": "execute_result"
    }
   ],
   "source": [
    "varB = varValidator.encode_hgvs(hgvs=\"c.1735C>T\")\n",
    "varB.set_heterozygous()\n",
    "varB.to_string()"
   ]
  },
  {
   "cell_type": "code",
   "execution_count": 9,
   "id": "833a8175-c548-4b91-8a1d-803f2acf3885",
   "metadata": {},
   "outputs": [],
   "source": [
    "individual_A.add_variant(varB)\n",
    "individual_A.set_disease(disease_MAPK8IP3)"
   ]
  },
  {
   "cell_type": "code",
   "execution_count": 10,
   "id": "934ae2e9-72a8-4659-aa76-9d905f2f1494",
   "metadata": {},
   "outputs": [
    {
     "data": {
      "text/html": [
       "<h2>Cohort validation</h2>\n",
       "<p>No errors found for the cohort with 1 individuals</p>"
      ],
      "text/plain": [
       "<IPython.core.display.HTML object>"
      ]
     },
     "metadata": {},
     "output_type": "display_data"
    }
   ],
   "source": [
    "individuals = [patient_S12]\n",
    "cvalidator = CohortValidator(cohort=individuals, ontology=hpo_ontology, min_hpo=1, allelic_requirement=AllelicRequirement.MONO_ALLELIC)\n",
    "qc = QcVisualizer(cohort_validator=cvalidator)\n",
    "display(HTML(qc.to_summary_html()))"
   ]
  },
  {
   "cell_type": "code",
   "execution_count": 11,
   "id": "e68f2ffe-872f-408d-95bd-1b9e166358a4",
   "metadata": {},
   "outputs": [
    {
     "data": {
      "text/html": [
       "<table style=\"border: 2px solid black; align: \"left\">\n",
       "<caption>1 phenopacket - PMID:34321325 (n=1)</caption>\n",
       "<tr><th style=\"text-align: left;font-weight: bold;\">Individual</th><th style=\"text-align: left;font-weight: bold;\">Disease</th><th style=\"text-align: left;font-weight: bold;\">Genotype</th><th style=\"text-align: left;font-weight: bold;\">Phenotypic features</th></tr>\n",
       "<tr><td style=\"text-align: left;\">Patient S12 (MALE; )</td><td style=\"text-align: left;\">Neurodevelopmental disorder with or without variable brain abnormalities (OMIM:618443)</td><td style=\"text-align: left;\">NM_001318852.2:c.45C>G (heterozygous)</td><td style=\"text-align: left;\"><b>P12Y0M0D</b>: Intellectual disability (HP:0001249); Spastic triplegia (HP:0034183)</td></tr>\n",
       "</table>"
      ],
      "text/plain": [
       "<IPython.core.display.HTML object>"
      ]
     },
     "metadata": {},
     "output_type": "display_data"
    }
   ],
   "source": [
    "individuals = cvalidator.get_error_free_individual_list()\n",
    "table = PhenopacketTable(individual_list=individuals, metadata=metadata34321325)\n",
    "display(HTML(table.to_html()))"
   ]
  },
  {
   "cell_type": "code",
   "execution_count": 12,
   "id": "595222f1-eee3-44ed-8ea8-91c7b1e437a0",
   "metadata": {},
   "outputs": [
    {
     "name": "stdout",
     "output_type": "stream",
     "text": [
      "We output 1 GA4GH phenopackets to the directory phenopackets\n"
     ]
    }
   ],
   "source": [
    "Individual.output_individuals_as_phenopackets(individual_list=[patient_S12],\n",
    "                                              metadata=metadata34321325,\n",
    "                                              outdir=\"phenopackets\")"
   ]
  },
  {
   "cell_type": "code",
   "execution_count": 13,
   "id": "85c43010-bd2c-41ac-9895-4c32c4e72825",
   "metadata": {},
   "outputs": [
    {
     "name": "stdout",
     "output_type": "stream",
     "text": [
      "We output 1 GA4GH phenopackets to the directory phenopackets\n"
     ]
    }
   ],
   "source": [
    "Individual.output_individuals_as_phenopackets(individual_list=[individual_A],\n",
    "                                              metadata=metadataInPrep,\n",
    "                                              outdir=\"phenopackets\")"
   ]
  },
  {
   "cell_type": "code",
   "execution_count": null,
   "id": "d507fba1-1e4b-4900-9f3e-0d4f3f3e8a31",
   "metadata": {},
   "outputs": [],
   "source": []
  }
 ],
 "metadata": {
  "kernelspec": {
   "display_name": "Python 3 (ipykernel)",
   "language": "python",
   "name": "python3"
  },
  "language_info": {
   "codemirror_mode": {
    "name": "ipython",
    "version": 3
   },
   "file_extension": ".py",
   "mimetype": "text/x-python",
   "name": "python",
   "nbconvert_exporter": "python",
   "pygments_lexer": "ipython3",
   "version": "3.11.3"
  }
 },
 "nbformat": 4,
 "nbformat_minor": 5
}
