{
 "cells": [
  {
   "cell_type": "markdown",
   "id": "d8831711-c0cc-481d-8347-1ff7161b0722",
   "metadata": {},
   "source": [
    "<H1>MAPK8IP3: Platzer et al (2019)</H1>\n",
    "<p>This notebook uses the <a href=\"https://github.com/monarch-initiative/pyphetools\" target=\"__blank\">pyphetools</a> library\n",
    "to create GA4GH phenopackets from the data in  <a href=\"https://pubmed.ncbi.nlm.nih.gov/30612693/\" target=\"__blank\">Platzer K., et al. (2019) De Novo Variants in MAPK8IP3 Cause Intellectual Disability with Variable Brain Anomalies</a>. See the <a href=\"https://monarch-initiative.github.io/pyphetools/index.html\" target=\"__blank\">Pyphetools documentation</a> for more information about the code.</p>\n",
    "<p>The original article describes de novo variants in MAPK8IP3 in 13 unrelated individuals presenting with an overlapping phenotype of mild to severe intellectual disability. </p>\n",
    "<p>This notebook parses the information in Supplemental Table S1 (an Excel file).</p>"
   ]
  },
  {
   "cell_type": "code",
   "execution_count": 1,
   "id": "15804341-3fd6-4610-8cc8-5ba4a515f080",
   "metadata": {},
   "outputs": [
    {
     "name": "stdout",
     "output_type": "stream",
     "text": [
      "Using pyphetools version 0.9.4\n"
     ]
    }
   ],
   "source": [
    "import pandas as pd\n",
    "pd.set_option('display.max_colwidth', None) # show entire column contents, important!\n",
    "from IPython.display import display, HTML\n",
    "from pyphetools.creation import *\n",
    "from pyphetools.visualization import *\n",
    "from pyphetools.validation import *\n",
    "import pyphetools\n",
    "print(f\"Using pyphetools version {pyphetools.__version__}\")"
   ]
  },
  {
   "cell_type": "markdown",
   "id": "1bcb5af1-2d35-463b-a18b-475cdbebce7c",
   "metadata": {},
   "source": [
    "<h2>Importing HPO data</h2>"
   ]
  },
  {
   "cell_type": "code",
   "execution_count": 2,
   "id": "feefba63-c315-4cf6-b9d9-d414eb2b86cb",
   "metadata": {},
   "outputs": [
    {
     "name": "stdout",
     "output_type": "stream",
     "text": [
      "HPO version 2023-10-09\n"
     ]
    }
   ],
   "source": [
    "PMID = \"PMID:30612693\"\n",
    "title = \"De Novo Variants in MAPK8IP3 Cause Intellectual Disability with Variable Brain Anomalies\"\n",
    "cite = Citation(pmid=PMID, title=title)\n",
    "parser = HpoParser()\n",
    "hpo_cr = parser.get_hpo_concept_recognizer()\n",
    "hpo_version = parser.get_version()\n",
    "hpo_ontology = parser.get_ontology()\n",
    "metadata = MetaData(created_by=\"ORCID:0000-0002-0736-9199\", citation=cite)\n",
    "metadata.default_versions_with_hpo(version=hpo_version)\n",
    "print(f\"HPO version {hpo_version}\")"
   ]
  },
  {
   "cell_type": "markdown",
   "id": "07e3b2f7-5b94-4224-a80f-44b477679507",
   "metadata": {},
   "source": [
    "<H2>Importing supplemental file S1.</H2>"
   ]
  },
  {
   "cell_type": "code",
   "execution_count": 3,
   "id": "f35dc7e0-1be6-4b49-8812-76d1b879939f",
   "metadata": {},
   "outputs": [
    {
     "data": {
      "text/html": [
       "<div>\n",
       "<style scoped>\n",
       "    .dataframe tbody tr th:only-of-type {\n",
       "        vertical-align: middle;\n",
       "    }\n",
       "\n",
       "    .dataframe tbody tr th {\n",
       "        vertical-align: top;\n",
       "    }\n",
       "\n",
       "    .dataframe thead th {\n",
       "        text-align: right;\n",
       "    }\n",
       "</style>\n",
       "<table border=\"1\" class=\"dataframe\">\n",
       "  <thead>\n",
       "    <tr style=\"text-align: right;\">\n",
       "      <th></th>\n",
       "      <th>Indvidual\\nin\\nmanuscript</th>\n",
       "      <th>g.(hg19) Chr16:</th>\n",
       "      <th>Transcript\\nNM_015133.4\\nc.</th>\n",
       "      <th>p.</th>\n",
       "      <th>origin</th>\n",
       "      <th>genetic testing</th>\n",
       "      <th>Sex</th>\n",
       "      <th>age at last assesment</th>\n",
       "      <th>prenatal period</th>\n",
       "      <th>Exam at birth</th>\n",
       "      <th>...</th>\n",
       "      <th>neurological examination</th>\n",
       "      <th>result of external MRI</th>\n",
       "      <th>seizures</th>\n",
       "      <th>Sz onset and Sz types</th>\n",
       "      <th>AEDs used</th>\n",
       "      <th>Sz outcome</th>\n",
       "      <th>EEG</th>\n",
       "      <th>Additional symptoms</th>\n",
       "      <th>family history</th>\n",
       "      <th>further results of genetic testing</th>\n",
       "    </tr>\n",
       "  </thead>\n",
       "  <tbody>\n",
       "    <tr>\n",
       "      <th>0</th>\n",
       "      <td>1</td>\n",
       "      <td>1756405</td>\n",
       "      <td>c.65delG</td>\n",
       "      <td>p.Gly22Alafs*3</td>\n",
       "      <td>de novo</td>\n",
       "      <td>TrioWES</td>\n",
       "      <td>M</td>\n",
       "      <td>14 y 8 m</td>\n",
       "      <td>NaN</td>\n",
       "      <td>41 weeks:\\nlength: 53.3 cm\\nweight: 3.941 kg\\nOFC: NA</td>\n",
       "      <td>...</td>\n",
       "      <td>ataxia</td>\n",
       "      <td>mild cerebellar atrophy, hypointensity of the globi pallidi and substantia nigra, possible mild degree of abnormal iron or mineral deposition</td>\n",
       "      <td>no</td>\n",
       "      <td>NaN</td>\n",
       "      <td>NaN</td>\n",
       "      <td>NaN</td>\n",
       "      <td>NaN</td>\n",
       "      <td>speech is ataxic but speaks in sentences/short phrases; attention issues, impulse control and emotional lability, OCD symptoms; recently developed scoliosis</td>\n",
       "      <td>unremarkable</td>\n",
       "      <td>NaN</td>\n",
       "    </tr>\n",
       "    <tr>\n",
       "      <th>1</th>\n",
       "      <td>2</td>\n",
       "      <td>1756419</td>\n",
       "      <td>c.79G&gt;T</td>\n",
       "      <td>p.Glu27*</td>\n",
       "      <td>de novo</td>\n",
       "      <td>SingleWES</td>\n",
       "      <td>M</td>\n",
       "      <td>4 y</td>\n",
       "      <td>NaN</td>\n",
       "      <td>length: 49 cm\\nweigth: 3215 g\\nOFC: 35 cm</td>\n",
       "      <td>...</td>\n",
       "      <td>ataxia</td>\n",
       "      <td>normal</td>\n",
       "      <td>no</td>\n",
       "      <td>NaN</td>\n",
       "      <td>NaN</td>\n",
       "      <td>NaN</td>\n",
       "      <td>NaN</td>\n",
       "      <td>pre-natal pelvi-ureteric junction stenosis (spontaneous resolution at 6 m)</td>\n",
       "      <td>NaN</td>\n",
       "      <td>NaN</td>\n",
       "    </tr>\n",
       "    <tr>\n",
       "      <th>2</th>\n",
       "      <td>3</td>\n",
       "      <td>1756451</td>\n",
       "      <td>c.111C&gt;G</td>\n",
       "      <td>p.Tyr37*</td>\n",
       "      <td>de novo</td>\n",
       "      <td>TrioWES</td>\n",
       "      <td>M</td>\n",
       "      <td>4 y</td>\n",
       "      <td>NaN</td>\n",
       "      <td>length: 20.5 in\\nweight: 8 lb 2 oz\\nOFC: NA</td>\n",
       "      <td>...</td>\n",
       "      <td>NaN</td>\n",
       "      <td>Stable areas of T2 hyperintensity involving the central tegmental tracts</td>\n",
       "      <td>no</td>\n",
       "      <td>NaN</td>\n",
       "      <td>NaN</td>\n",
       "      <td>NaN</td>\n",
       "      <td>NaN</td>\n",
       "      <td>Nystagmus</td>\n",
       "      <td>unremarkable</td>\n",
       "      <td>770 kb duplicaion of 20p12.3 on chromosome microarray</td>\n",
       "    </tr>\n",
       "    <tr>\n",
       "      <th>3</th>\n",
       "      <td>4</td>\n",
       "      <td>1798706</td>\n",
       "      <td>c.1198G&gt;A</td>\n",
       "      <td>p.Gly400Arg</td>\n",
       "      <td>de novo</td>\n",
       "      <td>TrioWES</td>\n",
       "      <td>M</td>\n",
       "      <td>7 y 6 m</td>\n",
       "      <td>no prenatal care, no known problems</td>\n",
       "      <td>32 weeks:\\nlength: NA,\\nweight: 4 lbs,\\nOFC: NA\\n\\nhad a 30 day hospital course</td>\n",
       "      <td>...</td>\n",
       "      <td>NaN</td>\n",
       "      <td>no MRI done</td>\n",
       "      <td>no</td>\n",
       "      <td>NaN</td>\n",
       "      <td>NaN</td>\n",
       "      <td>NaN</td>\n",
       "      <td>NaN</td>\n",
       "      <td>Left hearing loss; Dysmorphic features: hypertelorism inner canthal distance 4.3cm; low set prominent ears, slight overhangin columella, hypodontia; 5th finger clinodactyly and 5th finger brachydactylky; synophrys; Encopresis</td>\n",
       "      <td>Mother with learning disorder; finished 11th grade; Father with ADHD and learning disorder; finished 9th grade; Full sister with learning disorder; Full sister no known problems; Full brother with learning disorder</td>\n",
       "      <td>NaN</td>\n",
       "    </tr>\n",
       "    <tr>\n",
       "      <th>4</th>\n",
       "      <td>5</td>\n",
       "      <td>1810410</td>\n",
       "      <td>c.1331T&gt;C</td>\n",
       "      <td>p.Leu444Pro</td>\n",
       "      <td>de novo</td>\n",
       "      <td>TrioWES</td>\n",
       "      <td>M</td>\n",
       "      <td>10 y</td>\n",
       "      <td>NaN</td>\n",
       "      <td>40 weeks, length: 52 cm\\nweight:  3810 g\\nOFC: 36 cm</td>\n",
       "      <td>...</td>\n",
       "      <td>NaN</td>\n",
       "      <td>perisylvian polymicrogyria</td>\n",
       "      <td>yes</td>\n",
       "      <td>10 y:\\none event of a generalized seizure</td>\n",
       "      <td>NaN</td>\n",
       "      <td>NaN</td>\n",
       "      <td>pathological EEG with normal age-related background activity (alpha-type), increased appearance of slowing over temporal and occipital regions</td>\n",
       "      <td>no dysmorphism, small teeth, severe s-configured scoliosis of thoracic and lumbar spine</td>\n",
       "      <td>NaN</td>\n",
       "      <td>NaN</td>\n",
       "    </tr>\n",
       "  </tbody>\n",
       "</table>\n",
       "<p>5 rows × 29 columns</p>\n",
       "</div>"
      ],
      "text/plain": [
       "   Indvidual\\nin\\nmanuscript  g.(hg19) Chr16: Transcript\\nNM_015133.4\\nc.  \\\n",
       "0                          1          1756405                    c.65delG   \n",
       "1                          2          1756419                     c.79G>T   \n",
       "2                          3          1756451                    c.111C>G   \n",
       "3                          4          1798706                 c.1198G>A     \n",
       "4                          5          1810410                   c.1331T>C   \n",
       "\n",
       "               p.   origin genetic testing Sex age at last assesment  \\\n",
       "0  p.Gly22Alafs*3  de novo         TrioWES   M              14 y 8 m   \n",
       "1        p.Glu27*  de novo       SingleWES   M                   4 y   \n",
       "2        p.Tyr37*  de novo         TrioWES   M                   4 y   \n",
       "3     p.Gly400Arg  de novo         TrioWES   M               7 y 6 m   \n",
       "4     p.Leu444Pro  de novo         TrioWES   M                  10 y   \n",
       "\n",
       "                       prenatal period  \\\n",
       "0                                  NaN   \n",
       "1                                  NaN   \n",
       "2                                  NaN   \n",
       "3  no prenatal care, no known problems   \n",
       "4                                  NaN   \n",
       "\n",
       "                                                                     Exam at birth  \\\n",
       "0                            41 weeks:\\nlength: 53.3 cm\\nweight: 3.941 kg\\nOFC: NA   \n",
       "1                                        length: 49 cm\\nweigth: 3215 g\\nOFC: 35 cm   \n",
       "2                                      length: 20.5 in\\nweight: 8 lb 2 oz\\nOFC: NA   \n",
       "3  32 weeks:\\nlength: NA,\\nweight: 4 lbs,\\nOFC: NA\\n\\nhad a 30 day hospital course   \n",
       "4                             40 weeks, length: 52 cm\\nweight:  3810 g\\nOFC: 36 cm   \n",
       "\n",
       "   ... neurological examination  \\\n",
       "0  ...                   ataxia   \n",
       "1  ...                   ataxia   \n",
       "2  ...                      NaN   \n",
       "3  ...                      NaN   \n",
       "4  ...                      NaN   \n",
       "\n",
       "                                                                                                                          result of external MRI  \\\n",
       "0  mild cerebellar atrophy, hypointensity of the globi pallidi and substantia nigra, possible mild degree of abnormal iron or mineral deposition   \n",
       "1                                                                                                                                         normal   \n",
       "2                                                                       Stable areas of T2 hyperintensity involving the central tegmental tracts   \n",
       "3                                                                                                                                    no MRI done   \n",
       "4                                                                                                                     perisylvian polymicrogyria   \n",
       "\n",
       "  seizures                      Sz onset and Sz types AEDs used Sz outcome  \\\n",
       "0       no                                        NaN       NaN        NaN   \n",
       "1       no                                        NaN       NaN        NaN   \n",
       "2       no                                        NaN       NaN        NaN   \n",
       "3       no                                        NaN       NaN        NaN   \n",
       "4      yes  10 y:\\none event of a generalized seizure       NaN        NaN   \n",
       "\n",
       "                                                                                                                                              EEG  \\\n",
       "0                                                                                                                                             NaN   \n",
       "1                                                                                                                                             NaN   \n",
       "2                                                                                                                                             NaN   \n",
       "3                                                                                                                                             NaN   \n",
       "4  pathological EEG with normal age-related background activity (alpha-type), increased appearance of slowing over temporal and occipital regions   \n",
       "\n",
       "                                                                                                                                                                                                                 Additional symptoms  \\\n",
       "0                                                                       speech is ataxic but speaks in sentences/short phrases; attention issues, impulse control and emotional lability, OCD symptoms; recently developed scoliosis   \n",
       "1                                                                                                                                                         pre-natal pelvi-ureteric junction stenosis (spontaneous resolution at 6 m)   \n",
       "2                                                                                                                                                                                                                          Nystagmus   \n",
       "3  Left hearing loss; Dysmorphic features: hypertelorism inner canthal distance 4.3cm; low set prominent ears, slight overhangin columella, hypodontia; 5th finger clinodactyly and 5th finger brachydactylky; synophrys; Encopresis   \n",
       "4                                                                                                                                            no dysmorphism, small teeth, severe s-configured scoliosis of thoracic and lumbar spine   \n",
       "\n",
       "                                                                                                                                                                                                           family history  \\\n",
       "0                                                                                                                                                                                                            unremarkable   \n",
       "1                                                                                                                                                                                                                     NaN   \n",
       "2                                                                                                                                                                                                            unremarkable   \n",
       "3  Mother with learning disorder; finished 11th grade; Father with ADHD and learning disorder; finished 9th grade; Full sister with learning disorder; Full sister no known problems; Full brother with learning disorder   \n",
       "4                                                                                                                                                                                                                     NaN   \n",
       "\n",
       "                      further results of genetic testing  \n",
       "0                                                    NaN  \n",
       "1                                                    NaN  \n",
       "2  770 kb duplicaion of 20p12.3 on chromosome microarray  \n",
       "3                                                    NaN  \n",
       "4                                                    NaN  \n",
       "\n",
       "[5 rows x 29 columns]"
      ]
     },
     "execution_count": 3,
     "metadata": {},
     "output_type": "execute_result"
    }
   ],
   "source": [
    "df = pd.read_excel('input/platzer_2019_supplement.xlsx')\n",
    "df.head()"
   ]
  },
  {
   "cell_type": "markdown",
   "id": "83464e4a-c45c-43ca-9c3d-c37c5489fe16",
   "metadata": {},
   "source": [
    "<h2>Collecting column mappers</h2>"
   ]
  },
  {
   "cell_type": "code",
   "execution_count": 4,
   "id": "43d5f0b8-681d-448d-9238-64cfc4194fff",
   "metadata": {},
   "outputs": [],
   "source": [
    "column_mapper_d = {}"
   ]
  },
  {
   "cell_type": "code",
   "execution_count": 5,
   "id": "9f15efe3-3ea6-4de1-b9f5-b393eabab852",
   "metadata": {},
   "outputs": [],
   "source": [
    "neuro_exam_custom_map = {'low extremity weakness': 'Lower limb muscle weakness',  \n",
    "                         'unstable gait': 'Unsteady gait',\n",
    "                         'dysfunction of the corticospinal pathways':'Upper motor neuron dysfunction',\n",
    "                         'spastic': 'Spasticity',\n",
    "                         'orobuccal dyspraxia': 'Oromotor apraxia',\n",
    "                         'difficulty in coordination':'Poor coordination'\n",
    "                        }\n",
    "neuroMapper = OptionColumnMapper(concept_recognizer=hpo_cr, option_d=neuro_exam_custom_map, )\n",
    "neuroMapper.preview_column(df['neurological examination'])\n",
    "column_mapper_d['neurological examination'] = neuroMapper"
   ]
  },
  {
   "cell_type": "code",
   "execution_count": 6,
   "id": "b550763a-1b21-484e-a50c-5475601bd999",
   "metadata": {},
   "outputs": [],
   "source": [
    "severity_d = {'moderate\\n(IQ 48)':'Intellectual disability, moderate',\n",
    "             'moderate':'Intellectual disability, moderate',\n",
    "             'moderate\\n(IQ 49)': 'Intellectual disability, moderate',\n",
    "             'severe': 'Intellectual disability, severe',\n",
    "             'mild': 'Intellectual disability, mild'}\n",
    "severityOfIdMapper = OptionColumnMapper(concept_recognizer=hpo_cr, option_d=severity_d)\n",
    "#severityOfIdMapper.preview_column(df['severity of ID'])\n",
    "column_mapper_d['severity of ID'] = severityOfIdMapper"
   ]
  },
  {
   "cell_type": "code",
   "execution_count": 7,
   "id": "1227abc7-f602-4295-b666-d7d24dc63aef",
   "metadata": {},
   "outputs": [],
   "source": [
    "mri_custom_map = {'hypomyelination': 'CNS hypomyelination',  \n",
    "                  'thinning of CC': 'Thin corpus callosum',\n",
    "                  'white matter volume loss':'Reduced cerebral white matter volume',\n",
    "                  'widened lateral ventricles': 'Lateral ventricle dilatation',\n",
    "                  'dysgenesis of corpus callosum': 'Dysplastic corpus callosum',\n",
    "                  'hypoplasia of mesencephalon and brainstem': 'Hypoplasia of the brainstem'\n",
    "                  }\n",
    "mriMapper = OptionColumnMapper(concept_recognizer=hpo_cr, option_d=mri_custom_map, )\n",
    "#mriMapper.preview_column(df['result of external MRI'])\n",
    "column_mapper_d['result of external MRI'] = mriMapper"
   ]
  },
  {
   "cell_type": "code",
   "execution_count": 8,
   "id": "80a57c77-7b72-4988-aace-23de790091a1",
   "metadata": {},
   "outputs": [],
   "source": [
    "additional_custom_map = {'OCD': 'Obsessive-compulsive behavior',  \n",
    "                         '5th finger clinodactyly': 'Clinodactyly of the 5th finger',\n",
    "                         'small teeth':'Reduced cerebral white matter volume',\n",
    "                         'widened lateral ventricles': 'Lateral ventricle dilatation',\n",
    "                         'dysgenesis of corpus callosum': 'Dysplastic corpus callosum',\n",
    "                         'dramatic increased weight': 'Obesity'\n",
    "                        }\n",
    "excluded = {'pseudostrabismus': \"Strabismus\"}\n",
    "additionalFeaturesMapper = OptionColumnMapper(concept_recognizer=hpo_cr, \n",
    "                                              option_d=mri_custom_map, \n",
    "                                              excluded_d=excluded)\n",
    "additionalFeaturesMapper.preview_column(df['Additional symptoms'])\n",
    "column_mapper_d['Additional symptoms'] = additionalFeaturesMapper"
   ]
  },
  {
   "cell_type": "markdown",
   "id": "4fa824f8-448e-4e88-8ee2-333d359f57a0",
   "metadata": {},
   "source": [
    "<h2>Simple mappers</h2>"
   ]
  },
  {
   "cell_type": "code",
   "execution_count": 9,
   "id": "2d034825-486f-47aa-8905-3b537e1750ee",
   "metadata": {},
   "outputs": [
    {
     "name": "stdout",
     "output_type": "stream",
     "text": [
      "We created 7 simple column mappers\n"
     ]
    }
   ],
   "source": [
    "items = {\n",
    "    'regression': [\"Developmental regression\",\"HP:0002376\"],\n",
    "    'autism': ['Autism', 'HP:0000717'],\n",
    "    'hypotonia': ['Hypotonia', 'HP:0001252'],\n",
    "    'movement disorder': ['Abnormality of movement', 'HP:0100022'],\n",
    "    'CVI': ['Cerebral visual impairment', 'HP:0100704'], # CVI stands for Cortical visual impairment HP:0100704\n",
    "    'seizures': ['Seizure','HP:0001250'],\n",
    "    'DD': ['Global developmental delay', 'HP:0001263']\n",
    "}\n",
    "item_column_mapper_d = hpo_cr.initialize_simple_column_maps(column_name_to_hpo_label_map=items, observed='yes',\n",
    "    excluded='no')\n",
    "print(f\"We created {len(item_column_mapper_d)} simple column mappers\")\n",
    "# Transfer to column_mapper_d\n",
    "for k, v in item_column_mapper_d.items():\n",
    "    column_mapper_d[k] = v"
   ]
  },
  {
   "cell_type": "markdown",
   "id": "a8457eae-cceb-4c63-a2fa-808307ebf6c2",
   "metadata": {},
   "source": [
    "<h2>Option mapper</h2>"
   ]
  },
  {
   "cell_type": "code",
   "execution_count": 10,
   "id": "396bc53d-0c1a-4d24-9a48-af3824879d0a",
   "metadata": {},
   "outputs": [],
   "source": [
    "severity_d = {'moderate\\n(IQ 48)':'Intellectual disability, moderate',\n",
    "             'moderate':'Intellectual disability, moderate',\n",
    "             'moderate\\n(IQ 49)': 'Intellectual disability, moderate',\n",
    "             'severe': 'Intellectual disability, severe',\n",
    "             'mild': 'Intellectual disability, mild'}\n",
    "severityOfIdMapper = OptionColumnMapper(concept_recognizer=hpo_cr, option_d=severity_d)\n",
    "severityOfIdMapper.preview_column(df['severity of ID'])\n",
    "column_mapper_d['severity of ID'] = severityOfIdMapper"
   ]
  },
  {
   "cell_type": "code",
   "execution_count": 11,
   "id": "379358a4-8f79-482a-8c73-db3a5b739f5a",
   "metadata": {},
   "outputs": [],
   "source": [
    "mri_custom_map = {'hypomyelination': 'CNS hypomyelination',  \n",
    "                  'thinning of CC': 'Thin corpus callosum',\n",
    "                  'white matter volume loss':'Reduced cerebral white matter volume',\n",
    "                  'widened lateral ventricles': 'Lateral ventricle dilatation',\n",
    "                  'dysgenesis of corpus callosum': 'Dysplastic corpus callosum',\n",
    "                  'hypoplasia of mesencephalon and brainstem': 'Hypoplasia of the brainstem'\n",
    "                  }\n",
    "mriMapper = OptionColumnMapper(concept_recognizer=hpo_cr, option_d=mri_custom_map, )\n",
    "mriMapper.preview_column(df['result of external MRI'])\n",
    "column_mapper_d['result of external MRI'] = mriMapper"
   ]
  },
  {
   "cell_type": "code",
   "execution_count": 12,
   "id": "0e4e8daf-a613-4c3a-b481-6d9ae720c254",
   "metadata": {},
   "outputs": [],
   "source": [
    "additional_custom_map = {'OCD': 'Obsessive-compulsive behavior',  \n",
    "                         '5th finger clinodactyly': 'Clinodactyly of the 5th finger',\n",
    "                         'small teeth':'Reduced cerebral white matter volume',\n",
    "                         'widened lateral ventricles': 'Lateral ventricle dilatation',\n",
    "                         'dysgenesis of corpus callosum': 'Dysplastic corpus callosum',\n",
    "                         'dramatic increased weight': 'Obesity'\n",
    "                        }\n",
    "excluded = {'pseudostrabismus': \"Strabismus\"}\n",
    "additionalFeaturesMapper = OptionColumnMapper(concept_recognizer=hpo_cr, \n",
    "                                              option_d=mri_custom_map, \n",
    "                                              excluded_d=excluded)\n",
    "additionalFeaturesMapper.preview_column(df['Additional symptoms'])\n",
    "column_mapper_d['Additional symptoms'] = additionalFeaturesMapper"
   ]
  },
  {
   "cell_type": "markdown",
   "id": "5540270b-34bf-4286-a3c0-98973695e757",
   "metadata": {},
   "source": [
    "<H1>Mapping variants</H1>\n",
    "<p>MAPK8IP3 variants reported by Platzer et al, Iwasama et al., and Yechieli et al. We have transformed the variants, which were originally expressed using the transcript  NM_015133.4 to be expressed using the MANE select transcript NM_001318852.2</p>\n",
    "<p>pyphetools maps variants using the VariantValidator API.</p>"
   ]
  },
  {
   "cell_type": "code",
   "execution_count": 13,
   "id": "7c7bd05d-4d34-4b9c-bc3b-d68ba8bafd3b",
   "metadata": {},
   "outputs": [],
   "source": [
    "d_NM_015133_to_NM_001318852 = {\n",
    "\"c.45C>G\": \"c.45C>G\",\n",
    "\"c.65delG\":\"c.65del\",\n",
    "\"c.79G>T\":\"c.79G>T\",\n",
    "\"c.111C>G\": \"c.111C>G\",\n",
    "\"c.1198G>A\": \"c.1201G>A\",\n",
    "\"c.1331T>C\": \"c.1334T>C\",\n",
    "\"c.1574G>A\": \"c.1577G>A\",\n",
    "\"c.1732C>T\": \"c.1735C>T\",\n",
    "\"c.2982C>G\": \"c.2985C>G\",\n",
    "\"c.3436C>T\": \"c.3439C>T\"\n",
    "}\n",
    "\n",
    "df['NM_001318852'] = df['Transcript\\nNM_015133.4\\nc.'].apply(lambda x: d_NM_015133_to_NM_001318852.get(x.replace(\" \",\"\")))"
   ]
  },
  {
   "cell_type": "code",
   "execution_count": 14,
   "id": "6c72fef9-d8dc-407b-8dd7-808e08ae49c2",
   "metadata": {},
   "outputs": [
    {
     "data": {
      "text/plain": [
       "0       c.65del\n",
       "1       c.79G>T\n",
       "2      c.111C>G\n",
       "3     c.1201G>A\n",
       "4     c.1334T>C\n",
       "5     c.1334T>C\n",
       "6     c.1577G>A\n",
       "7     c.1735C>T\n",
       "8     c.1735C>T\n",
       "9     c.2985C>G\n",
       "10    c.3439C>T\n",
       "11    c.3439C>T\n",
       "12    c.3439C>T\n",
       "Name: NM_001318852, dtype: object"
      ]
     },
     "execution_count": 14,
     "metadata": {},
     "output_type": "execute_result"
    }
   ],
   "source": [
    "df['NM_001318852']"
   ]
  },
  {
   "cell_type": "code",
   "execution_count": 15,
   "id": "4b92a142-63fa-4636-bfb9-f3b45ab3a77a",
   "metadata": {},
   "outputs": [
    {
     "name": "stdout",
     "output_type": "stream",
     "text": [
      "https://rest.variantvalidator.org/VariantValidator/variantvalidator/hg38/NM_001318852.2%3Ac.65del/NM_001318852.2?content-type=application%2Fjson\n",
      "https://rest.variantvalidator.org/VariantValidator/variantvalidator/hg38/NM_001318852.2%3Ac.79G>T/NM_001318852.2?content-type=application%2Fjson\n",
      "https://rest.variantvalidator.org/VariantValidator/variantvalidator/hg38/NM_001318852.2%3Ac.111C>G/NM_001318852.2?content-type=application%2Fjson\n",
      "https://rest.variantvalidator.org/VariantValidator/variantvalidator/hg38/NM_001318852.2%3Ac.1201G>A/NM_001318852.2?content-type=application%2Fjson\n",
      "https://rest.variantvalidator.org/VariantValidator/variantvalidator/hg38/NM_001318852.2%3Ac.1334T>C/NM_001318852.2?content-type=application%2Fjson\n",
      "https://rest.variantvalidator.org/VariantValidator/variantvalidator/hg38/NM_001318852.2%3Ac.1334T>C/NM_001318852.2?content-type=application%2Fjson\n",
      "https://rest.variantvalidator.org/VariantValidator/variantvalidator/hg38/NM_001318852.2%3Ac.1577G>A/NM_001318852.2?content-type=application%2Fjson\n",
      "https://rest.variantvalidator.org/VariantValidator/variantvalidator/hg38/NM_001318852.2%3Ac.1735C>T/NM_001318852.2?content-type=application%2Fjson\n",
      "https://rest.variantvalidator.org/VariantValidator/variantvalidator/hg38/NM_001318852.2%3Ac.1735C>T/NM_001318852.2?content-type=application%2Fjson\n",
      "https://rest.variantvalidator.org/VariantValidator/variantvalidator/hg38/NM_001318852.2%3Ac.2985C>G/NM_001318852.2?content-type=application%2Fjson\n",
      "https://rest.variantvalidator.org/VariantValidator/variantvalidator/hg38/NM_001318852.2%3Ac.3439C>T/NM_001318852.2?content-type=application%2Fjson\n",
      "https://rest.variantvalidator.org/VariantValidator/variantvalidator/hg38/NM_001318852.2%3Ac.3439C>T/NM_001318852.2?content-type=application%2Fjson\n",
      "https://rest.variantvalidator.org/VariantValidator/variantvalidator/hg38/NM_001318852.2%3Ac.3439C>T/NM_001318852.2?content-type=application%2Fjson\n"
     ]
    }
   ],
   "source": [
    "transcript='NM_001318852.2'\n",
    "vvalidator = VariantValidator(genome_build=\"hg38\", transcript=transcript)\n",
    "\n",
    "var_d = {}\n",
    "for v in df['NM_001318852']:\n",
    "    var = vvalidator.encode_hgvs(v)\n",
    "    var_d[v] = var\n",
    "\n",
    "varMapper = VariantColumnMapper(variant_d=var_d,\n",
    "                                variant_column_name='NM_001318852', \n",
    "                                default_genotype='heterozygous')\n",
    "# varMapper.preview_column(df['NM_001318852'])"
   ]
  },
  {
   "cell_type": "code",
   "execution_count": 16,
   "id": "6b3b581d-30cb-40e9-bbce-ae49afb9e029",
   "metadata": {},
   "outputs": [],
   "source": [
    "ageMapper = AgeColumnMapper.by_year_and_month('age at last assesment')\n",
    "#ageMapper.preview_column(df['age at last assesment'])\n",
    "sexMapper = SexColumnMapper(male_symbol='M', female_symbol='F', column_name='Sex')\n",
    "#sexMapper.preview_column(df['Sex'])\n",
    "\n",
    "individual_column_name = 'Indvidual\\nin\\nmanuscript'\n",
    "\n",
    "encoder = CohortEncoder(df=df, \n",
    "                        hpo_cr=hpo_cr, \n",
    "                        column_mapper_d=column_mapper_d, \n",
    "                        individual_column_name=individual_column_name,\n",
    "                        agemapper=ageMapper, \n",
    "                        sexmapper=sexMapper,\n",
    "                        variant_mapper=varMapper,\n",
    "                        metadata=metadata)\n",
    "disease_id = 'OMIM:618443'\n",
    "disease_name = 'Neurodevelopmental disorder with or without variable brain abnormalities'\n",
    "disease = Disease(disease_id=disease_id, disease_label=disease_name)\n",
    "encoder.set_disease(disease=disease)"
   ]
  },
  {
   "cell_type": "markdown",
   "id": "30ce9e43-daae-43ca-948a-1c95ee8a00c4",
   "metadata": {},
   "source": [
    "<h2>Getting individual data and exporting to GA4GH Phenopacket Schema format</h2>"
   ]
  },
  {
   "cell_type": "code",
   "execution_count": 17,
   "id": "3a43daee-fcc1-4e07-b964-31425d7c8f21",
   "metadata": {},
   "outputs": [
    {
     "data": {
      "text/html": [
       "<h2>Cohort validation</h2>\n",
       "<p>Errors found with 9 of 13 phenopackets.</p>\n",
       "<table style=\"border: 2px solid black; align: \"left\">\n",
       "<caption>Error counts</caption>\n",
       "<tr><th style=\"text-align: left;font-weight: bold;\">Level</th><th style=\"text-align: left;font-weight: bold;\">Error category</th><th style=\"text-align: left;font-weight: bold;\">Count</th></tr>\n",
       "<tr><td style=\"text-align: left;\">ERROR</td><td style=\"text-align: left;\">CONFLICT</td><td style=\"text-align: left;\">1</td></tr>\n",
       "<tr><td style=\"text-align: left;\">WARNING</td><td style=\"text-align: left;\">REDUNDANT</td><td style=\"text-align: left;\">3</td></tr>\n",
       "<tr><td style=\"text-align: left;\">INFORMATION</td><td style=\"text-align: left;\">NOT_MEASURED</td><td style=\"text-align: left;\">14</td></tr>\n",
       "</table>\n",
       "<p>A total of 18 issues were fixed and no individual was removed from the cohort.</p>"
      ],
      "text/plain": [
       "<IPython.core.display.HTML object>"
      ]
     },
     "metadata": {},
     "output_type": "display_data"
    }
   ],
   "source": [
    "individuals = encoder.get_individuals()\n",
    "cvalidator = CohortValidator(cohort=individuals, ontology=hpo_ontology, min_hpo=1, allelic_requirement=AllelicRequirement.MONO_ALLELIC)\n",
    "qc = QcVisualizer(cohort_validator=cvalidator)\n",
    "display(HTML(qc.to_summary_html()))"
   ]
  },
  {
   "cell_type": "code",
   "execution_count": 18,
   "id": "358e965d-27ba-4538-8920-92ccdae91313",
   "metadata": {},
   "outputs": [
    {
     "data": {
      "text/html": [
       "<table style=\"border: 2px solid black; align: \"left\">\n",
       "<caption>13 phenopackets - PMID:30612693 (n=13)</caption>\n",
       "<tr><th style=\"text-align: left;font-weight: bold;\">Individual</th><th style=\"text-align: left;font-weight: bold;\">Disease</th><th style=\"text-align: left;font-weight: bold;\">Genotype</th><th style=\"text-align: left;font-weight: bold;\">Phenotypic features</th></tr>\n",
       "<tr><td style=\"text-align: left;\">1 (MALE; P14Y8M)</td><td style=\"text-align: left;\">Neurodevelopmental disorder with or without variable brain abnormalities (OMIM:618443)</td><td style=\"text-align: left;\">NM_001318852.2:c.65del (heterozygous)</td><td style=\"text-align: left;\">Ataxia (HP:0001251); Intellectual disability, moderate (HP:0002342); Cerebellar atrophy (HP:0001272); Emotional lability (HP:0000712); Scoliosis (HP:0002650); Autism (HP:0000717); Hypotonia (HP:0001252); Global developmental delay (HP:0001263); excluded: Developmental regression (HP:0002376); excluded: Abnormality of movement (HP:0100022); excluded: Cerebral visual impairment (HP:0100704); excluded: Seizure (HP:0001250)</td></tr>\n",
       "<tr><td style=\"text-align: left;\">2 (MALE; P4Y)</td><td style=\"text-align: left;\">Neurodevelopmental disorder with or without variable brain abnormalities (OMIM:618443)</td><td style=\"text-align: left;\">NM_001318852.2:c.79G>T (heterozygous)</td><td style=\"text-align: left;\">Ataxia (HP:0001251); Intellectual disability, severe (HP:0010864); Hypotonia (HP:0001252); Global developmental delay (HP:0001263); excluded: Developmental regression (HP:0002376); excluded: Autism (HP:0000717); excluded: Abnormality of movement (HP:0100022); excluded: Cerebral visual impairment (HP:0100704); excluded: Seizure (HP:0001250)</td></tr>\n",
       "<tr><td style=\"text-align: left;\">3 (MALE; P4Y)</td><td style=\"text-align: left;\">Neurodevelopmental disorder with or without variable brain abnormalities (OMIM:618443)</td><td style=\"text-align: left;\">NM_001318852.2:c.111C>G (heterozygous)</td><td style=\"text-align: left;\">Intellectual disability, moderate (HP:0002342); Nystagmus (HP:0000639); Hypotonia (HP:0001252); Global developmental delay (HP:0001263); excluded: Developmental regression (HP:0002376); excluded: Autism (HP:0000717); excluded: Abnormality of movement (HP:0100022); excluded: Cerebral visual impairment (HP:0100704); excluded: Seizure (HP:0001250)</td></tr>\n",
       "<tr><td style=\"text-align: left;\">4 (MALE; P7Y6M)</td><td style=\"text-align: left;\">Neurodevelopmental disorder with or without variable brain abnormalities (OMIM:618443)</td><td style=\"text-align: left;\">NM_001318852.2:c.1201G>A (heterozygous)</td><td style=\"text-align: left;\">Intellectual disability, mild (HP:0001256); Hearing impairment (HP:0000365); Hypertelorism (HP:0000316); Protruding ear (HP:0000411); Hypodontia (HP:0000668); Finger clinodactyly (HP:0040019); Synophrys (HP:0000664); Encopresis (HP:0040183); Autism (HP:0000717); Global developmental delay (HP:0001263); excluded: Developmental regression (HP:0002376); excluded: Hypotonia (HP:0001252); excluded: Abnormality of movement (HP:0100022); excluded: Cerebral visual impairment (HP:0100704); excluded: Seizure (HP:0001250)</td></tr>\n",
       "<tr><td style=\"text-align: left;\">5 (MALE; P10Y)</td><td style=\"text-align: left;\">Neurodevelopmental disorder with or without variable brain abnormalities (OMIM:618443)</td><td style=\"text-align: left;\">NM_001318852.2:c.1334T>C (heterozygous)</td><td style=\"text-align: left;\">Intellectual disability, moderate (HP:0002342); Perisylvian polymicrogyria (HP:0012650); Microdontia (HP:0000691); Scoliosis (HP:0002650); Hypotonia (HP:0001252); Seizure (HP:0001250); Global developmental delay (HP:0001263); excluded: Developmental regression (HP:0002376); excluded: Autism (HP:0000717); excluded: Abnormality of movement (HP:0100022)</td></tr>\n",
       "<tr><td style=\"text-align: left;\">6 (FEMALE; P9Y)</td><td style=\"text-align: left;\">Neurodevelopmental disorder with or without variable brain abnormalities (OMIM:618443)</td><td style=\"text-align: left;\">NM_001318852.2:c.1334T>C (heterozygous)</td><td style=\"text-align: left;\">Intellectual disability, mild (HP:0001256); Perisylvian polymicrogyria (HP:0012650); Hypotonia (HP:0001252); Global developmental delay (HP:0001263); excluded: Developmental regression (HP:0002376); excluded: Autism (HP:0000717); excluded: Seizure (HP:0001250)</td></tr>\n",
       "<tr><td style=\"text-align: left;\">7 (FEMALE; P3Y)</td><td style=\"text-align: left;\">Neurodevelopmental disorder with or without variable brain abnormalities (OMIM:618443)</td><td style=\"text-align: left;\">NM_001318852.2:c.1577G>A (heterozygous)</td><td style=\"text-align: left;\">Intellectual disability, mild (HP:0001256); Global developmental delay (HP:0001263); excluded: Developmental regression (HP:0002376); excluded: Autism (HP:0000717); excluded: Hypotonia (HP:0001252); excluded: Seizure (HP:0001250)</td></tr>\n",
       "<tr><td style=\"text-align: left;\">8 (FEMALE; P5Y)</td><td style=\"text-align: left;\">Neurodevelopmental disorder with or without variable brain abnormalities (OMIM:618443)</td><td style=\"text-align: left;\">NM_001318852.2:c.1735C>T (heterozygous)</td><td style=\"text-align: left;\">Spastic paraplegia (HP:0001258); Intellectual disability, severe (HP:0010864); Thin corpus callosum (HP:0033725); CNS hypomyelination (HP:0003429); Full cheeks (HP:0000293); Long philtrum (HP:0000343); Hypotonia (HP:0001252); Seizure (HP:0001250); Global developmental delay (HP:0001263); excluded: Developmental regression (HP:0002376); excluded: Autism (HP:0000717)</td></tr>\n",
       "<tr><td style=\"text-align: left;\">9 (FEMALE; P6Y)</td><td style=\"text-align: left;\">Neurodevelopmental disorder with or without variable brain abnormalities (OMIM:618443)</td><td style=\"text-align: left;\">NM_001318852.2:c.1735C>T (heterozygous)</td><td style=\"text-align: left;\">Global developmental delay (HP:0001263); Intellectual disability, moderate (HP:0002342); Reduced cerebral white matter volume (HP:0034295); Spasticity (HP:0001257); Hypotonia (HP:0001252); Small hand (HP:0200055); Lower limb muscle weakness (HP:0007340); Hypoplasia of the brainstem (HP:0002365); Seizure (HP:0001250); Syringomyelia (HP:0003396); Polymicrogyria (HP:0002126); Thin corpus callosum (HP:0033725); excluded: Developmental regression (HP:0002376); excluded: Autism (HP:0000717)</td></tr>\n",
       "<tr><td style=\"text-align: left;\">10 (MALE; P4Y)</td><td style=\"text-align: left;\">Neurodevelopmental disorder with or without variable brain abnormalities (OMIM:618443)</td><td style=\"text-align: left;\">NM_001318852.2:c.2985C>G (heterozygous)</td><td style=\"text-align: left;\">Intellectual disability, moderate (HP:0002342); Hypotonia (HP:0001252); Seizure (HP:0001250); Global developmental delay (HP:0001263); excluded: Developmental regression (HP:0002376); excluded: Autism (HP:0000717)</td></tr>\n",
       "<tr><td style=\"text-align: left;\">11 (FEMALE; P11Y)</td><td style=\"text-align: left;\">Neurodevelopmental disorder with or without variable brain abnormalities (OMIM:618443)</td><td style=\"text-align: left;\">NM_001318852.2:c.3439C>T (heterozygous)</td><td style=\"text-align: left;\">Spasticity (HP:0001257); Intellectual disability, moderate (HP:0002342); Thin corpus callosum (HP:0033725); Lateral ventricle dilatation (HP:0006956); Cerebral visual impairment (HP:0100704); Global developmental delay (HP:0001263); excluded: Hypotonia (HP:0001252); excluded: Abnormality of movement (HP:0100022); excluded: Seizure (HP:0001250)</td></tr>\n",
       "<tr><td style=\"text-align: left;\">12 (FEMALE; P4Y6M)</td><td style=\"text-align: left;\">Neurodevelopmental disorder with or without variable brain abnormalities (OMIM:618443)</td><td style=\"text-align: left;\">NM_001318852.2:c.3439C>T (heterozygous)</td><td style=\"text-align: left;\">Cerebral palsy (HP:0100021); Spastic diplegia (HP:0001264); Intellectual disability, severe (HP:0010864); Periventricular leukomalacia (HP:0006970); Dysplastic corpus callosum (HP:0006989); Myopic astigmatism (HP:0500041); Global developmental delay (HP:0001263); excluded: Developmental regression (HP:0002376); excluded: Autism (HP:0000717); excluded: Hypotonia (HP:0001252); excluded: Cerebral visual impairment (HP:0100704); excluded: Seizure (HP:0001250)</td></tr>\n",
       "<tr><td style=\"text-align: left;\">13 (FEMALE; P19Y)</td><td style=\"text-align: left;\">Neurodevelopmental disorder with or without variable brain abnormalities (OMIM:618443)</td><td style=\"text-align: left;\">NM_001318852.2:c.3439C>T (heterozygous)</td><td style=\"text-align: left;\">Oromotor apraxia (HP:0007301); Poor coordination (HP:0002370); Unsteady gait (HP:0002317); Intellectual disability, moderate (HP:0002342); Gastroesophageal reflux (HP:0002020); Hepatomegaly (HP:0002240); Long face (HP:0000276); Thick eyebrow (HP:0000574); Narrow palpebral fissure (HP:0045025); Strabismus (HP:0000486); Prominent nasal bridge (HP:0000426); Anteverted nares (HP:0000463); Short philtrum (HP:0000322); Narrow mouth (HP:0000160); High palate (HP:0000218); Truncal obesity (HP:0001956); Slender finger (HP:0001238); Kyphosis (HP:0002808); Hyperlordosis (HP:0003307); Scoliosis (HP:0002650); Genu valgum (HP:0002857); Hypotonia (HP:0001252); Cerebral visual impairment (HP:0100704); Global developmental delay (HP:0001263); excluded: Developmental regression (HP:0002376); excluded: Autism (HP:0000717); excluded: Seizure (HP:0001250)</td></tr>\n",
       "</table>"
      ],
      "text/plain": [
       "<IPython.core.display.HTML object>"
      ]
     },
     "metadata": {},
     "output_type": "display_data"
    }
   ],
   "source": [
    "individuals = cvalidator.get_error_free_individual_list()\n",
    "table = PhenopacketTable(individual_list=individuals, metadata=metadata)\n",
    "display(HTML(table.to_html()))"
   ]
  },
  {
   "cell_type": "markdown",
   "id": "49b2643b-a452-4f7d-9d4a-88dbc1b4dbe7",
   "metadata": {},
   "source": [
    "<h2>Output results in phenopacket format</h2>"
   ]
  },
  {
   "cell_type": "code",
   "execution_count": 19,
   "id": "7e79c7b5-0c3f-48ec-8da5-25f463767692",
   "metadata": {},
   "outputs": [
    {
     "name": "stdout",
     "output_type": "stream",
     "text": [
      "We output 13 GA4GH phenopackets to the directory phenopackets\n"
     ]
    }
   ],
   "source": [
    "Individual.output_individuals_as_phenopackets(individual_list=individuals, \n",
    "                                              metadata=metadata, \n",
    "                                              outdir=\"phenopackets\")"
   ]
  },
  {
   "cell_type": "code",
   "execution_count": 20,
   "id": "2ee8143c-7ea5-41f1-9bf8-2450d7fb98a6",
   "metadata": {},
   "outputs": [],
   "source": [
    "# pxf validate --hpo hp.json *.json\n",
    "# no errors"
   ]
  }
 ],
 "metadata": {
  "kernelspec": {
   "display_name": "pstore_env",
   "language": "python",
   "name": "pstore_env"
  },
  "language_info": {
   "codemirror_mode": {
    "name": "ipython",
    "version": 3
   },
   "file_extension": ".py",
   "mimetype": "text/x-python",
   "name": "python",
   "nbconvert_exporter": "python",
   "pygments_lexer": "ipython3",
   "version": "3.11.3"
  }
 },
 "nbformat": 4,
 "nbformat_minor": 5
}
