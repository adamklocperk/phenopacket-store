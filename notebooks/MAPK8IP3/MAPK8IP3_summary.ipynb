{
 "cells": [
  {
   "cell_type": "markdown",
   "id": "e5ee3491-cc3b-4cc5-99a1-9aa709ec5bd6",
   "metadata": {},
   "source": [
    "<h1>MAKP8IP3 Summary</h1>\n",
    "<p>This notebook provides a summary of the phenopackets created by the three other notebooks in this folder.</p>"
   ]
  },
  {
   "cell_type": "code",
   "execution_count": 1,
   "id": "9658a9da-15dc-46de-85d9-3a681f92a10c",
   "metadata": {},
   "outputs": [
    {
     "name": "stdout",
     "output_type": "stream",
     "text": [
      "Using pyphetools version 0.9.4\n"
     ]
    }
   ],
   "source": [
    "import pandas as pd\n",
    "pd.set_option('display.max_colwidth', None) # show entire column contents, important!\n",
    "from collections import defaultdict\n",
    "from IPython.display import HTML, display\n",
    "import hpotk\n",
    "from hpotk.ontology import Ontology\n",
    "from hpotk.ontology.load.obographs import load_ontology\n",
    "from pyphetools.visualization import *\n",
    "import importlib.metadata\n",
    "__version__ = importlib.metadata.version(\"pyphetools\")\n",
    "print(f\"Using pyphetools version {__version__}\")"
   ]
  },
  {
   "cell_type": "code",
   "execution_count": 2,
   "id": "a4229f9a-d0e3-46a0-b3d1-92df6c2266ca",
   "metadata": {},
   "outputs": [],
   "source": [
    "hpo: Ontology = load_ontology('http://purl.obolibrary.org/obo/hp.json')"
   ]
  },
  {
   "cell_type": "code",
   "execution_count": 3,
   "id": "e378f361-a0bf-4226-aeae-056036641e06",
   "metadata": {},
   "outputs": [
    {
     "name": "stdout",
     "output_type": "stream",
     "text": [
      "[pyphetools] Ingested 22 GA4GH phenopackets.\n"
     ]
    }
   ],
   "source": [
    "ingestor = PhenopacketIngestor(indir=\"phenopackets\")\n",
    "ppkt_d = ingestor.get_phenopacket_dictionary()"
   ]
  },
  {
   "cell_type": "markdown",
   "id": "deb3e3e5-e077-4087-a248-e0e68438c13d",
   "metadata": {},
   "source": [
    "<h2>Frequency of HPO terms per publication</h2>\n",
    "<p>The following table shows the counts of patients directly annotated to HPO terms per publication. Onely terms with more than one toal annotation are shown.</p>"
   ]
  },
  {
   "cell_type": "code",
   "execution_count": 4,
   "id": "e6f38064-8c3b-4cf1-8408-15329b770571",
   "metadata": {},
   "outputs": [],
   "source": [
    "detailed_table = DetailedSupplTable(patient_d=ppkt_d, hp_ontology=hpo)"
   ]
  },
  {
   "cell_type": "code",
   "execution_count": 5,
   "id": "003ac056-05d5-48b4-bc8d-6b6e46aa4d4d",
   "metadata": {},
   "outputs": [
    {
     "data": {
      "text/html": [
       "<table style=\"border: 2px solid black;\">\n",
       "\n",
       "<tr><th>HPO term</th><th>PMID:30612693</th><th>PMID:30945334</th><th>PMID:pending</th><th>PMID:34321325</th></tr>\n",
       "<tr><td>Global developmental delay (HP:0001263)</td><td>13/13 (100.0%)</td><td>0/5 (0.0%)</td><td>1/2 (50.0%)</td><td>1/2 (50.0%)</td></tr>\n",
       "\n",
       "<tr><td>Hypotonia (HP:0001252)</td><td>9/13 (69.2%)</td><td>0/5 (0.0%)</td><td>0/2 (0.0%)</td><td>0/2 (0.0%)</td></tr>\n",
       "\n",
       "<tr><td>Delayed ability to walk (HP:0031936)</td><td>0/13 (0.0%)</td><td>5/5 (100.0%)</td><td>1/2 (50.0%)</td><td>1/2 (50.0%)</td></tr>\n",
       "\n",
       "<tr><td>Spastic diplegia (HP:0001264)</td><td>1/13 (7.7%)</td><td>4/5 (80.0%)</td><td>1/2 (50.0%)</td><td>1/2 (50.0%)</td></tr>\n",
       "\n",
       "<tr><td>Intellectual disability, severe (HP:0010864)</td><td>3/13 (23.1%)</td><td>4/5 (80.0%)</td><td>0/2 (0.0%)</td><td>0/2 (0.0%)</td></tr>\n",
       "\n",
       "<tr><td>Intellectual disability, moderate (HP:0002342)</td><td>7/13 (53.8%)</td><td>0/5 (0.0%)</td><td>0/2 (0.0%)</td><td>0/2 (0.0%)</td></tr>\n",
       "\n",
       "<tr><td>Thin upper lip vermilion (HP:0000219)</td><td>0/13 (0.0%)</td><td>5/5 (100.0%)</td><td>0/2 (0.0%)</td><td>0/2 (0.0%)</td></tr>\n",
       "\n",
       "<tr><td>Delayed speech and language development (HP:0000750)</td><td>0/13 (0.0%)</td><td>3/5 (60.0%)</td><td>1/2 (50.0%)</td><td>1/2 (50.0%)</td></tr>\n",
       "\n",
       "<tr><td>Thin corpus callosum (HP:0033725)</td><td>3/13 (23.1%)</td><td>0/5 (0.0%)</td><td>1/2 (50.0%)</td><td>1/2 (50.0%)</td></tr>\n",
       "\n",
       "<tr><td>Cerebral atrophy (HP:0002059)</td><td>0/13 (0.0%)</td><td>4/5 (80.0%)</td><td>0/2 (0.0%)</td><td>0/2 (0.0%)</td></tr>\n",
       "\n",
       "<tr><td>Round face (HP:0000311)</td><td>0/13 (0.0%)</td><td>4/5 (80.0%)</td><td>0/2 (0.0%)</td><td>0/2 (0.0%)</td></tr>\n",
       "\n",
       "<tr><td>Short stature (HP:0004322)</td><td>0/13 (0.0%)</td><td>4/5 (80.0%)</td><td>0/2 (0.0%)</td><td>0/2 (0.0%)</td></tr>\n",
       "\n",
       "<tr><td>Prominent nasal bridge (HP:0000426)</td><td>1/13 (7.7%)</td><td>3/5 (60.0%)</td><td>0/2 (0.0%)</td><td>0/2 (0.0%)</td></tr>\n",
       "\n",
       "<tr><td>Seizure (HP:0001250)</td><td>4/13 (30.8%)</td><td>0/5 (0.0%)</td><td>0/2 (0.0%)</td><td>0/2 (0.0%)</td></tr>\n",
       "\n",
       "<tr><td>Delayed CNS myelination (HP:0002188)</td><td>0/13 (0.0%)</td><td>3/5 (60.0%)</td><td>0/2 (0.0%)</td><td>0/2 (0.0%)</td></tr>\n",
       "\n",
       "<tr><td>Obesity (HP:0001513)</td><td>0/13 (0.0%)</td><td>3/5 (60.0%)</td><td>0/2 (0.0%)</td><td>0/2 (0.0%)</td></tr>\n",
       "\n",
       "<tr><td>Loss of ambulation (HP:0002505)</td><td>0/13 (0.0%)</td><td>3/5 (60.0%)</td><td>0/2 (0.0%)</td><td>0/2 (0.0%)</td></tr>\n",
       "\n",
       "<tr><td>Cerebral palsy (HP:0100021)</td><td>1/13 (7.7%)</td><td>0/5 (0.0%)</td><td>1/2 (50.0%)</td><td>1/2 (50.0%)</td></tr>\n",
       "\n",
       "<tr><td>Periventricular leukomalacia (HP:0006970)</td><td>1/13 (7.7%)</td><td>0/5 (0.0%)</td><td>1/2 (50.0%)</td><td>1/2 (50.0%)</td></tr>\n",
       "\n",
       "<tr><td>Scoliosis (HP:0002650)</td><td>3/13 (23.1%)</td><td>0/5 (0.0%)</td><td>0/2 (0.0%)</td><td>0/2 (0.0%)</td></tr>\n",
       "\n",
       "<tr><td>Intellectual disability, mild (HP:0001256)</td><td>3/13 (23.1%)</td><td>0/5 (0.0%)</td><td>0/2 (0.0%)</td><td>0/2 (0.0%)</td></tr>\n",
       "\n",
       "<tr><td>Reduced cerebral white matter volume (HP:0034295)</td><td>1/13 (7.7%)</td><td>0/5 (0.0%)</td><td>1/2 (50.0%)</td><td>1/2 (50.0%)</td></tr>\n",
       "\n",
       "<tr><td>Delayed ability to sit (HP:0025336)</td><td>0/13 (0.0%)</td><td>3/5 (60.0%)</td><td>0/2 (0.0%)</td><td>0/2 (0.0%)</td></tr>\n",
       "\n",
       "<tr><td>Precocious puberty (HP:0000826)</td><td>0/13 (0.0%)</td><td>2/5 (40.0%)</td><td>0/2 (0.0%)</td><td>0/2 (0.0%)</td></tr>\n",
       "\n",
       "<tr><td>Ataxia (HP:0001251)</td><td>2/13 (15.4%)</td><td>0/5 (0.0%)</td><td>0/2 (0.0%)</td><td>0/2 (0.0%)</td></tr>\n",
       "\n",
       "<tr><td>Thick eyebrow (HP:0000574)</td><td>1/13 (7.7%)</td><td>1/5 (20.0%)</td><td>0/2 (0.0%)</td><td>0/2 (0.0%)</td></tr>\n",
       "\n",
       "<tr><td>Anteverted nares (HP:0000463)</td><td>1/13 (7.7%)</td><td>1/5 (20.0%)</td><td>0/2 (0.0%)</td><td>0/2 (0.0%)</td></tr>\n",
       "\n",
       "<tr><td>Short philtrum (HP:0000322)</td><td>1/13 (7.7%)</td><td>1/5 (20.0%)</td><td>0/2 (0.0%)</td><td>0/2 (0.0%)</td></tr>\n",
       "\n",
       "<tr><td>Cerebral visual impairment (HP:0100704)</td><td>2/13 (15.4%)</td><td>0/5 (0.0%)</td><td>0/2 (0.0%)</td><td>0/2 (0.0%)</td></tr>\n",
       "\n",
       "<tr><td>Intellectual disability (HP:0001249)</td><td>0/13 (0.0%)</td><td>0/5 (0.0%)</td><td>1/2 (50.0%)</td><td>1/2 (50.0%)</td></tr>\n",
       "\n",
       "<tr><td>Spastic triplegia (HP:0034183)</td><td>0/13 (0.0%)</td><td>0/5 (0.0%)</td><td>1/2 (50.0%)</td><td>1/2 (50.0%)</td></tr>\n",
       "\n",
       "<tr><td>Autism (HP:0000717)</td><td>2/13 (15.4%)</td><td>0/5 (0.0%)</td><td>0/2 (0.0%)</td><td>0/2 (0.0%)</td></tr>\n",
       "\n",
       "<tr><td>Spasticity (HP:0001257)</td><td>2/13 (15.4%)</td><td>0/5 (0.0%)</td><td>0/2 (0.0%)</td><td>0/2 (0.0%)</td></tr>\n",
       "\n",
       "<tr><td>Perisylvian polymicrogyria (HP:0012650)</td><td>2/13 (15.4%)</td><td>0/5 (0.0%)</td><td>0/2 (0.0%)</td><td>0/2 (0.0%)</td></tr>\n",
       "\n",
       "<tr><td>Persistent head lag (HP:0032988)</td><td>0/13 (0.0%)</td><td>2/5 (40.0%)</td><td>0/2 (0.0%)</td><td>0/2 (0.0%)</td></tr>\n",
       "\n",
       "<tr><td>Autistic behavior (HP:0000729)</td><td>0/13 (0.0%)</td><td>2/5 (40.0%)</td><td>0/2 (0.0%)</td><td>0/2 (0.0%)</td></tr>\n",
       "\n",
       "<tr><td>Infantile muscular hypotonia (HP:0008947)</td><td>0/13 (0.0%)</td><td>2/5 (40.0%)</td><td>0/2 (0.0%)</td><td>0/2 (0.0%)</td></tr>\n",
       "\n",
       "<tr><td>Absent speech (HP:0001344)</td><td>0/13 (0.0%)</td><td>2/5 (40.0%)</td><td>0/2 (0.0%)</td><td>0/2 (0.0%)</td></tr>\n",
       "\n",
       "<tr><td>Delayed ability to roll over (HP:0032989)</td><td>0/13 (0.0%)</td><td>2/5 (40.0%)</td><td>0/2 (0.0%)</td><td>0/2 (0.0%)</td></tr>\n",
       "\n",
       "<tr><td>Nuchal cord (HP:0012498)</td><td>0/13 (0.0%)</td><td>0/5 (0.0%)</td><td>1/2 (50.0%)</td><td>1/2 (50.0%)</td></tr>\n",
       "\n",
       "<tr><td>Cerebellar hypoplasia (HP:0001321)</td><td>0/13 (0.0%)</td><td>0/5 (0.0%)</td><td>1/2 (50.0%)</td><td>1/2 (50.0%)</td></tr>\n",
       "\n",
       "<tr><td>Cerebral hypoplasia (HP:0006872)</td><td>0/13 (0.0%)</td><td>0/5 (0.0%)</td><td>1/2 (50.0%)</td><td>1/2 (50.0%)</td></tr>\n",
       "\n",
       "<tr><td>Hypoplasia of the pons (HP:0012110)</td><td>0/13 (0.0%)</td><td>0/5 (0.0%)</td><td>1/2 (50.0%)</td><td>1/2 (50.0%)</td></tr>\n",
       "\n",
       "<tr><td>Microcephaly (HP:0000252)</td><td>0/13 (0.0%)</td><td>0/5 (0.0%)</td><td>1/2 (50.0%)</td><td>1/2 (50.0%)</td></tr>\n",
       "\n",
       "<tr><td>Motor deterioration (HP:0002333)</td><td>0/13 (0.0%)</td><td>0/5 (0.0%)</td><td>1/2 (50.0%)</td><td>1/2 (50.0%)</td></tr>\n",
       "\n",
       "</table>\n"
      ],
      "text/plain": [
       "<IPython.core.display.HTML object>"
      ]
     },
     "metadata": {},
     "output_type": "display_data"
    }
   ],
   "source": [
    "display(HTML(detailed_table.get_html_table_by_pmid(min_count=1)))"
   ]
  },
  {
   "cell_type": "code",
   "execution_count": null,
   "id": "6e4c0e94-b80c-49fc-8554-b0f47e21239b",
   "metadata": {},
   "outputs": [],
   "source": []
  }
 ],
 "metadata": {
  "kernelspec": {
   "display_name": "Python 3 (ipykernel)",
   "language": "python",
   "name": "python3"
  },
  "language_info": {
   "codemirror_mode": {
    "name": "ipython",
    "version": 3
   },
   "file_extension": ".py",
   "mimetype": "text/x-python",
   "name": "python",
   "nbconvert_exporter": "python",
   "pygments_lexer": "ipython3",
   "version": "3.11.3"
  }
 },
 "nbformat": 4,
 "nbformat_minor": 5
}
