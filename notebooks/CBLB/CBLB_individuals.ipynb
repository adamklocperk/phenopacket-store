{
 "cells": [
  {
   "cell_type": "markdown",
   "id": "f9621429-56da-4c3c-ac8e-6d34f5b55511",
   "metadata": {},
   "source": [
    "# CBLB cohort\n",
    "Data from \n",
    "[Janssen E, et al. (2022) Immune dysregulation caused by homozygous mutations in CBLB. J Clin Invest 132(20):e154487](https://pubmed.ncbi.nlm.nih.gov/36006710/)."
   ]
  },
  {
   "cell_type": "code",
   "execution_count": 1,
   "id": "cc92c05c-8d4d-460e-8203-c6581e5bf73d",
   "metadata": {},
   "outputs": [
    {
     "name": "stdout",
     "output_type": "stream",
     "text": [
      "Using pyphetools version 0.9.42\n"
     ]
    }
   ],
   "source": [
    "import pandas as pd\n",
    "from IPython.display import display, HTML\n",
    "pd.set_option('display.max_colwidth', None) \n",
    "from collections import defaultdict\n",
    "from pyphetools.creation import *\n",
    "from pyphetools.visualization import *\n",
    "from pyphetools.validation import *\n",
    "import pyphetools\n",
    "print(f\"Using pyphetools version {pyphetools.__version__}\")"
   ]
  },
  {
   "cell_type": "code",
   "execution_count": 2,
   "id": "5f39412a-b633-48f7-bb2e-55be7ff4a7e5",
   "metadata": {},
   "outputs": [
    {
     "name": "stdout",
     "output_type": "stream",
     "text": [
      "HPO version 2024-01-16\n"
     ]
    }
   ],
   "source": [
    "parser = HpoParser(hpo_json_file=\"../hp.json\")\n",
    "hpo_cr = parser.get_hpo_concept_recognizer()\n",
    "hpo_version = parser.get_version()\n",
    "hpo_ontology = parser.get_ontology()\n",
    "created_by=\"ORCID:0000-0002-0736-9199\"\n",
    "print(f\"HPO version {hpo_version}\")"
   ]
  },
  {
   "cell_type": "code",
   "execution_count": 3,
   "id": "99ea7aec-6042-4fc9-93de-e574308ed322",
   "metadata": {},
   "outputs": [
    {
     "data": {
      "text/html": [
       "<div>\n",
       "<style scoped>\n",
       "    .dataframe tbody tr th:only-of-type {\n",
       "        vertical-align: middle;\n",
       "    }\n",
       "\n",
       "    .dataframe tbody tr th {\n",
       "        vertical-align: top;\n",
       "    }\n",
       "\n",
       "    .dataframe thead th {\n",
       "        text-align: right;\n",
       "    }\n",
       "</style>\n",
       "<table border=\"1\" class=\"dataframe\">\n",
       "  <thead>\n",
       "    <tr style=\"text-align: right;\">\n",
       "      <th></th>\n",
       "      <th>PMID</th>\n",
       "      <th>title</th>\n",
       "      <th>individual_id</th>\n",
       "      <th>Comment</th>\n",
       "      <th>disease_id</th>\n",
       "      <th>disease_label</th>\n",
       "      <th>transcript</th>\n",
       "      <th>allele_1</th>\n",
       "      <th>allele_2</th>\n",
       "      <th>variant.comment</th>\n",
       "      <th>...</th>\n",
       "      <th>Type I diabetes mellitus</th>\n",
       "      <th>Vitiligo</th>\n",
       "      <th>Urticaria</th>\n",
       "      <th>Recurrent otitis media</th>\n",
       "      <th>Recurrent lower respiratory tract infections</th>\n",
       "      <th>Abnormal T cell count</th>\n",
       "      <th>Abnormal B cell count</th>\n",
       "      <th>Abnormal natural killer cell count</th>\n",
       "      <th>Hepatic hemophagocytosis</th>\n",
       "      <th>Recurrent fever</th>\n",
       "    </tr>\n",
       "  </thead>\n",
       "  <tbody>\n",
       "    <tr>\n",
       "      <th>0</th>\n",
       "      <td>str</td>\n",
       "      <td>str</td>\n",
       "      <td>str</td>\n",
       "      <td>optional str</td>\n",
       "      <td>str</td>\n",
       "      <td>str</td>\n",
       "      <td>str</td>\n",
       "      <td>NaN</td>\n",
       "      <td>NaN</td>\n",
       "      <td>optional str</td>\n",
       "      <td>...</td>\n",
       "      <td>HP:0100651</td>\n",
       "      <td>HP:0001045</td>\n",
       "      <td>HP:0001025</td>\n",
       "      <td>HP:0000403</td>\n",
       "      <td>HP:0002783</td>\n",
       "      <td>HP:0011839</td>\n",
       "      <td>HP:0010975</td>\n",
       "      <td>HP:0040089</td>\n",
       "      <td>HP:0034797</td>\n",
       "      <td>HP:0001954</td>\n",
       "    </tr>\n",
       "    <tr>\n",
       "      <th>1</th>\n",
       "      <td>PMID:36006710</td>\n",
       "      <td>Immune dysregulation caused by homozygous mutations in CBLB</td>\n",
       "      <td>Patient 1</td>\n",
       "      <td>NaN</td>\n",
       "      <td>OMIM:620430</td>\n",
       "      <td>Autoimmune disease, multisystem, infantile-onset, 3</td>\n",
       "      <td>NM_170662.5</td>\n",
       "      <td>c.770A&gt;T</td>\n",
       "      <td>c.770A&gt;T</td>\n",
       "      <td>NP_733762.2:p.(His257Leu); in original publication c.854A&gt;T:p.H285L (NM_001321786.1).</td>\n",
       "      <td>...</td>\n",
       "      <td>P6Y</td>\n",
       "      <td>P6Y</td>\n",
       "      <td>observed</td>\n",
       "      <td>observed</td>\n",
       "      <td>observed</td>\n",
       "      <td>excluded</td>\n",
       "      <td>excluded</td>\n",
       "      <td>excluded</td>\n",
       "      <td>excluded</td>\n",
       "      <td>excluded</td>\n",
       "    </tr>\n",
       "  </tbody>\n",
       "</table>\n",
       "<p>2 rows × 32 columns</p>\n",
       "</div>"
      ],
      "text/plain": [
       "            PMID                                                        title  \\\n",
       "0            str                                                          str   \n",
       "1  PMID:36006710  Immune dysregulation caused by homozygous mutations in CBLB   \n",
       "\n",
       "  individual_id       Comment   disease_id  \\\n",
       "0           str  optional str          str   \n",
       "1     Patient 1           NaN  OMIM:620430   \n",
       "\n",
       "                                         disease_label   transcript  allele_1  \\\n",
       "0                                                  str          str       NaN   \n",
       "1  Autoimmune disease, multisystem, infantile-onset, 3  NM_170662.5  c.770A>T   \n",
       "\n",
       "   allele_2  \\\n",
       "0       NaN   \n",
       "1  c.770A>T   \n",
       "\n",
       "                                                                         variant.comment  \\\n",
       "0                                                                           optional str   \n",
       "1  NP_733762.2:p.(His257Leu); in original publication c.854A>T:p.H285L (NM_001321786.1).   \n",
       "\n",
       "   ... Type I diabetes mellitus    Vitiligo   Urticaria  \\\n",
       "0  ...               HP:0100651  HP:0001045  HP:0001025   \n",
       "1  ...                      P6Y         P6Y    observed   \n",
       "\n",
       "  Recurrent otitis media Recurrent lower respiratory tract infections  \\\n",
       "0             HP:0000403                                   HP:0002783   \n",
       "1               observed                                     observed   \n",
       "\n",
       "  Abnormal T cell count Abnormal B cell count  \\\n",
       "0            HP:0011839            HP:0010975   \n",
       "1              excluded              excluded   \n",
       "\n",
       "  Abnormal natural killer cell count Hepatic hemophagocytosis Recurrent fever  \n",
       "0                         HP:0040089               HP:0034797      HP:0001954  \n",
       "1                           excluded                 excluded        excluded  \n",
       "\n",
       "[2 rows x 32 columns]"
      ]
     },
     "execution_count": 3,
     "metadata": {},
     "output_type": "execute_result"
    }
   ],
   "source": [
    "df = pd.read_excel(\"input/CBLB_individuals.xlsx\")\n",
    "df.head(2)"
   ]
  },
  {
   "cell_type": "code",
   "execution_count": 4,
   "id": "63cead78-51fa-49ec-b720-71aeb665d0fb",
   "metadata": {},
   "outputs": [
    {
     "name": "stdout",
     "output_type": "stream",
     "text": [
      "Created encoders for 32 fields\n"
     ]
    }
   ],
   "source": [
    "encoder = CaseTemplateEncoder(df=df, hpo_cr=hpo_cr, created_by=created_by)"
   ]
  },
  {
   "cell_type": "code",
   "execution_count": 5,
   "id": "788c7cfa-ae3a-4ca5-bee2-634fd3ce7d8a",
   "metadata": {},
   "outputs": [],
   "source": [
    "vmanager = VariantManager(df=df,\n",
    "                          individual_column_name=\"individual_id\",\n",
    "                          gene_symbol=\"CBLB\",\n",
    "                          transcript=\"NM_170662.5\",\n",
    "                          allele_1_column_name=\"allele_1\",\n",
    "                          allele_2_column_name=\"allele_2\")"
   ]
  },
  {
   "cell_type": "code",
   "execution_count": 6,
   "id": "09eeb8e8-3248-4a47-b2c1-e9559d1ac2c0",
   "metadata": {},
   "outputs": [
    {
     "data": {
      "text/html": [
       "<div>\n",
       "<style scoped>\n",
       "    .dataframe tbody tr th:only-of-type {\n",
       "        vertical-align: middle;\n",
       "    }\n",
       "\n",
       "    .dataframe tbody tr th {\n",
       "        vertical-align: top;\n",
       "    }\n",
       "\n",
       "    .dataframe thead th {\n",
       "        text-align: right;\n",
       "    }\n",
       "</style>\n",
       "<table border=\"1\" class=\"dataframe\">\n",
       "  <thead>\n",
       "    <tr style=\"text-align: right;\">\n",
       "      <th></th>\n",
       "      <th>status</th>\n",
       "      <th>count</th>\n",
       "      <th>alleles</th>\n",
       "    </tr>\n",
       "  </thead>\n",
       "  <tbody>\n",
       "    <tr>\n",
       "      <th>0</th>\n",
       "      <td>mapped</td>\n",
       "      <td>1</td>\n",
       "      <td>c.770A&gt;T</td>\n",
       "    </tr>\n",
       "    <tr>\n",
       "      <th>1</th>\n",
       "      <td>unmapped</td>\n",
       "      <td>0</td>\n",
       "      <td></td>\n",
       "    </tr>\n",
       "  </tbody>\n",
       "</table>\n",
       "</div>"
      ],
      "text/plain": [
       "     status  count   alleles\n",
       "0    mapped      1  c.770A>T\n",
       "1  unmapped      0          "
      ]
     },
     "execution_count": 6,
     "metadata": {},
     "output_type": "execute_result"
    }
   ],
   "source": [
    "vmanager.to_summary()"
   ]
  },
  {
   "cell_type": "code",
   "execution_count": 7,
   "id": "a9cfb617-2129-49b4-9816-dd48b9369c6f",
   "metadata": {},
   "outputs": [
    {
     "data": {
      "text/html": [
       "<h2>Cohort validation</h2>\n",
       "<p>No errors found for the cohort with 3 individuals</p>"
      ],
      "text/plain": [
       "<IPython.core.display.HTML object>"
      ]
     },
     "metadata": {},
     "output_type": "display_data"
    }
   ],
   "source": [
    "individuals = encoder.get_individuals()\n",
    "vmanager.add_variants_to_individuals(individuals)\n",
    "cvalidator = CohortValidator(cohort=individuals, ontology=hpo_ontology, min_hpo=1, allelic_requirement=AllelicRequirement.BI_ALLELIC)\n",
    "qc = QcVisualizer(cohort_validator=cvalidator)\n",
    "display(HTML(qc.to_summary_html()))"
   ]
  },
  {
   "cell_type": "code",
   "execution_count": 8,
   "id": "644ba5d7-0a39-4188-aa49-3b799b03cf98",
   "metadata": {},
   "outputs": [
    {
     "data": {
      "text/html": [
       "<table style=\"border: 2px solid black; align: \"left\">\n",
       "<caption>3 phenopackets - PMID:36006710 (n=3)</caption>\n",
       "<tr><th style=\"text-align: left;font-weight: bold;\">Individual</th><th style=\"text-align: left;font-weight: bold;\">Disease</th><th style=\"text-align: left;font-weight: bold;\">Genotype</th><th style=\"text-align: left;font-weight: bold;\">Phenotypic features</th></tr>\n",
       "<tr><td style=\"text-align: left;\">Patient 1 (FEMALE; P1Y)</td><td style=\"text-align: left;\">Autoimmune disease, multisystem, infantile-onset, 3 (OMIM:620430)</td><td style=\"text-align: left;\">NM_170662.5:c.770A>T (homozygous)</td><td style=\"text-align: left;\"><b>P1Y</b>: Hypothyroidism (HP:0000821)<br/><b>P6Y</b>: Type I diabetes mellitus (HP:0100651); Vitiligo (HP:0001045)<br/>Decreased circulating IgG level (HP:0004315); Decreased circulating IgA level (HP:0002720); Decreased circulating total IgM (HP:0002850); Partial absence of specific antibody response to tetanus vaccine (HP:0410297); Decreased specific pneumococcal antibody level (HP:0012476); Increased circulating interleukin 10 concentration (HP:0033199); Increased circulating interleukin 6 concentration (HP:0030783); Urticaria (HP:0001025); Recurrent otitis media (HP:0000403); Recurrent lower respiratory tract infections (HP:0002783); excluded: Autoimmune hemolytic anemia (HP:0001890); excluded: Abnormal T cell count (HP:0011839); excluded: Abnormal B cell count (HP:0010975); excluded: Abnormal natural killer cell count (HP:0040089); excluded: Hepatic hemophagocytosis (HP:0034797); excluded: Recurrent fever (HP:0001954)</td></tr>\n",
       "<tr><td style=\"text-align: left;\">Patient 2 (MALE; P3Y)</td><td style=\"text-align: left;\">Autoimmune disease, multisystem, infantile-onset, 3 (OMIM:620430)</td><td style=\"text-align: left;\">NM_170662.5:c.770A>T (homozygous)</td><td style=\"text-align: left;\">Increased circulating interleukin 10 concentration (HP:0033199); Increased circulating interleukin 6 concentration (HP:0030783); Hypothyroidism (HP:0000821); Type I diabetes mellitus (HP:0100651); Hepatic hemophagocytosis (HP:0034797); Recurrent fever (HP:0001954); excluded: Autoimmune hemolytic anemia (HP:0001890); excluded: Decreased circulating IgG level (HP:0004315); excluded: Decreased circulating IgA level (HP:0002720); excluded: Decreased circulating total IgM (HP:0002850); excluded: Partial absence of specific antibody response to tetanus vaccine (HP:0410297); excluded: Vitiligo (HP:0001045); excluded: Urticaria (HP:0001025); excluded: Recurrent otitis media (HP:0000403); excluded: Recurrent lower respiratory tract infections (HP:0002783); excluded: Abnormal T cell count (HP:0011839); excluded: Abnormal B cell count (HP:0010975); excluded: Abnormal natural killer cell count (HP:0040089)</td></tr>\n",
       "<tr><td style=\"text-align: left;\">Patient 3 (MALE; P6M)</td><td style=\"text-align: left;\">Autoimmune disease, multisystem, infantile-onset, 3 (OMIM:620430)</td><td style=\"text-align: left;\">NM_170662.5:c.770A>T (homozygous)</td><td style=\"text-align: left;\">Autoimmune hemolytic anemia (HP:0001890); Decreased circulating total IgM (HP:0002850); Decreased specific pneumococcal antibody level (HP:0012476); Increased circulating interleukin 10 concentration (HP:0033199); Increased circulating interleukin 6 concentration (HP:0030783); excluded: Decreased circulating IgG level (HP:0004315); excluded: Decreased circulating IgA level (HP:0002720); excluded: Partial absence of specific antibody response to tetanus vaccine (HP:0410297); excluded: Hypothyroidism (HP:0000821); excluded: Type I diabetes mellitus (HP:0100651); excluded: Vitiligo (HP:0001045); excluded: Urticaria (HP:0001025); excluded: Recurrent otitis media (HP:0000403); excluded: Recurrent lower respiratory tract infections (HP:0002783); excluded: Abnormal T cell count (HP:0011839); excluded: Abnormal B cell count (HP:0010975); excluded: Abnormal natural killer cell count (HP:0040089); excluded: Hepatic hemophagocytosis (HP:0034797); excluded: Recurrent fever (HP:0001954)</td></tr>\n",
       "</table>"
      ],
      "text/plain": [
       "<IPython.core.display.HTML object>"
      ]
     },
     "metadata": {},
     "output_type": "display_data"
    }
   ],
   "source": [
    "individuals = cvalidator.get_error_free_individual_list()\n",
    "table = IndividualTable(individuals)\n",
    "display(HTML(table.to_html()))"
   ]
  },
  {
   "cell_type": "code",
   "execution_count": 10,
   "id": "6b34e275-2e65-4a75-9d37-a601897a45ee",
   "metadata": {},
   "outputs": [
    {
     "name": "stdout",
     "output_type": "stream",
     "text": [
      "We output 3 GA4GH phenopackets to the directory phenopackets\n"
     ]
    }
   ],
   "source": [
    "encoder.output_individuals_as_phenopackets(individual_list=individuals)"
   ]
  },
  {
   "cell_type": "code",
   "execution_count": 9,
   "id": "6f92349e-9c95-48b2-b9d8-b9b6745dd535",
   "metadata": {},
   "outputs": [
    {
     "name": "stdout",
     "output_type": "stream",
     "text": [
      "We found a total of 19 unique HPO terms\n",
      "Extracted disease: Autoimmune disease, multisystem, infantile-onset, 3 (OMIM:620430)\n"
     ]
    }
   ],
   "source": [
    "builder = HpoaTableBuilder.from_individuals(individuals, created_by=created_by)\n",
    "pmid = \"PMID:36006710\"\n",
    "builder.infantile_onset(pmid,1,3).childhood_onset(pmid,2,3)\n",
    "builder.autosomal_recessive(pmid)\n",
    "hpoa_creator = builder.build()"
   ]
  },
  {
   "cell_type": "code",
   "execution_count": 11,
   "id": "7a5c965f-f8a0-4fe3-b63f-4af49ee50a9e",
   "metadata": {},
   "outputs": [
    {
     "data": {
      "text/html": [
       "<div>\n",
       "<style scoped>\n",
       "    .dataframe tbody tr th:only-of-type {\n",
       "        vertical-align: middle;\n",
       "    }\n",
       "\n",
       "    .dataframe tbody tr th {\n",
       "        vertical-align: top;\n",
       "    }\n",
       "\n",
       "    .dataframe thead th {\n",
       "        text-align: right;\n",
       "    }\n",
       "</style>\n",
       "<table border=\"1\" class=\"dataframe\">\n",
       "  <thead>\n",
       "    <tr style=\"text-align: right;\">\n",
       "      <th></th>\n",
       "      <th>#diseaseID</th>\n",
       "      <th>diseaseName</th>\n",
       "      <th>phenotypeID</th>\n",
       "      <th>phenotypeName</th>\n",
       "      <th>onsetID</th>\n",
       "      <th>onsetName</th>\n",
       "      <th>frequency</th>\n",
       "      <th>sex</th>\n",
       "      <th>negation</th>\n",
       "      <th>modifier</th>\n",
       "      <th>description</th>\n",
       "      <th>publication</th>\n",
       "      <th>evidence</th>\n",
       "      <th>biocuration</th>\n",
       "    </tr>\n",
       "  </thead>\n",
       "  <tbody>\n",
       "    <tr>\n",
       "      <th>0</th>\n",
       "      <td>OMIM:620430</td>\n",
       "      <td>Autoimmune disease, multisystem, infantile-onset, 3</td>\n",
       "      <td>HP:0004315</td>\n",
       "      <td>Decreased circulating IgG level</td>\n",
       "      <td></td>\n",
       "      <td></td>\n",
       "      <td>1/3</td>\n",
       "      <td></td>\n",
       "      <td></td>\n",
       "      <td></td>\n",
       "      <td></td>\n",
       "      <td>PMID:36006710</td>\n",
       "      <td>PCS</td>\n",
       "      <td>ORCID:0000-0002-0736-9199</td>\n",
       "    </tr>\n",
       "    <tr>\n",
       "      <th>1</th>\n",
       "      <td>OMIM:620430</td>\n",
       "      <td>Autoimmune disease, multisystem, infantile-onset, 3</td>\n",
       "      <td>HP:0002720</td>\n",
       "      <td>Decreased circulating IgA level</td>\n",
       "      <td></td>\n",
       "      <td></td>\n",
       "      <td>1/3</td>\n",
       "      <td></td>\n",
       "      <td></td>\n",
       "      <td></td>\n",
       "      <td></td>\n",
       "      <td>PMID:36006710</td>\n",
       "      <td>PCS</td>\n",
       "      <td>ORCID:0000-0002-0736-9199</td>\n",
       "    </tr>\n",
       "    <tr>\n",
       "      <th>2</th>\n",
       "      <td>OMIM:620430</td>\n",
       "      <td>Autoimmune disease, multisystem, infantile-onset, 3</td>\n",
       "      <td>HP:0002850</td>\n",
       "      <td>Decreased circulating total IgM</td>\n",
       "      <td></td>\n",
       "      <td></td>\n",
       "      <td>2/3</td>\n",
       "      <td></td>\n",
       "      <td></td>\n",
       "      <td></td>\n",
       "      <td></td>\n",
       "      <td>PMID:36006710</td>\n",
       "      <td>PCS</td>\n",
       "      <td>ORCID:0000-0002-0736-9199</td>\n",
       "    </tr>\n",
       "    <tr>\n",
       "      <th>3</th>\n",
       "      <td>OMIM:620430</td>\n",
       "      <td>Autoimmune disease, multisystem, infantile-onset, 3</td>\n",
       "      <td>HP:0410297</td>\n",
       "      <td>Partial absence of specific antibody response to tetanus vaccine</td>\n",
       "      <td></td>\n",
       "      <td></td>\n",
       "      <td>1/3</td>\n",
       "      <td></td>\n",
       "      <td></td>\n",
       "      <td></td>\n",
       "      <td></td>\n",
       "      <td>PMID:36006710</td>\n",
       "      <td>PCS</td>\n",
       "      <td>ORCID:0000-0002-0736-9199</td>\n",
       "    </tr>\n",
       "    <tr>\n",
       "      <th>4</th>\n",
       "      <td>OMIM:620430</td>\n",
       "      <td>Autoimmune disease, multisystem, infantile-onset, 3</td>\n",
       "      <td>HP:0012476</td>\n",
       "      <td>Decreased specific pneumococcal antibody level</td>\n",
       "      <td></td>\n",
       "      <td></td>\n",
       "      <td>2/2</td>\n",
       "      <td></td>\n",
       "      <td></td>\n",
       "      <td></td>\n",
       "      <td></td>\n",
       "      <td>PMID:36006710</td>\n",
       "      <td>PCS</td>\n",
       "      <td>ORCID:0000-0002-0736-9199</td>\n",
       "    </tr>\n",
       "  </tbody>\n",
       "</table>\n",
       "</div>"
      ],
      "text/plain": [
       "    #diseaseID                                          diseaseName  \\\n",
       "0  OMIM:620430  Autoimmune disease, multisystem, infantile-onset, 3   \n",
       "1  OMIM:620430  Autoimmune disease, multisystem, infantile-onset, 3   \n",
       "2  OMIM:620430  Autoimmune disease, multisystem, infantile-onset, 3   \n",
       "3  OMIM:620430  Autoimmune disease, multisystem, infantile-onset, 3   \n",
       "4  OMIM:620430  Autoimmune disease, multisystem, infantile-onset, 3   \n",
       "\n",
       "  phenotypeID  \\\n",
       "0  HP:0004315   \n",
       "1  HP:0002720   \n",
       "2  HP:0002850   \n",
       "3  HP:0410297   \n",
       "4  HP:0012476   \n",
       "\n",
       "                                                      phenotypeName onsetID  \\\n",
       "0                                   Decreased circulating IgG level           \n",
       "1                                   Decreased circulating IgA level           \n",
       "2                                   Decreased circulating total IgM           \n",
       "3  Partial absence of specific antibody response to tetanus vaccine           \n",
       "4                    Decreased specific pneumococcal antibody level           \n",
       "\n",
       "  onsetName frequency sex negation modifier description    publication  \\\n",
       "0                 1/3                                    PMID:36006710   \n",
       "1                 1/3                                    PMID:36006710   \n",
       "2                 2/3                                    PMID:36006710   \n",
       "3                 1/3                                    PMID:36006710   \n",
       "4                 2/2                                    PMID:36006710   \n",
       "\n",
       "  evidence                biocuration  \n",
       "0      PCS  ORCID:0000-0002-0736-9199  \n",
       "1      PCS  ORCID:0000-0002-0736-9199  \n",
       "2      PCS  ORCID:0000-0002-0736-9199  \n",
       "3      PCS  ORCID:0000-0002-0736-9199  \n",
       "4      PCS  ORCID:0000-0002-0736-9199  "
      ]
     },
     "execution_count": 11,
     "metadata": {},
     "output_type": "execute_result"
    }
   ],
   "source": [
    "df = hpoa_creator.get_dataframe()\n",
    "df.head()"
   ]
  },
  {
   "cell_type": "code",
   "execution_count": 12,
   "id": "3aea9443-37e1-4536-8b59-86892fe1c31b",
   "metadata": {},
   "outputs": [
    {
     "name": "stdout",
     "output_type": "stream",
     "text": [
      "Wrote HPOA disease file to OMIM-620430.tab\n"
     ]
    }
   ],
   "source": [
    "hpoa_creator.write_data_frame()"
   ]
  },
  {
   "cell_type": "code",
   "execution_count": null,
   "id": "3098a7cc-172f-4ae8-acc1-188ee9942a24",
   "metadata": {},
   "outputs": [],
   "source": []
  }
 ],
 "metadata": {
  "kernelspec": {
   "display_name": "ps24venv",
   "language": "python",
   "name": "ps24venv"
  },
  "language_info": {
   "codemirror_mode": {
    "name": "ipython",
    "version": 3
   },
   "file_extension": ".py",
   "mimetype": "text/x-python",
   "name": "python",
   "nbconvert_exporter": "python",
   "pygments_lexer": "ipython3",
   "version": "3.8.10"
  }
 },
 "nbformat": 4,
 "nbformat_minor": 5
}
