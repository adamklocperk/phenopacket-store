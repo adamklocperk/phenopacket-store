{
 "cells": [
  {
   "cell_type": "markdown",
   "metadata": {},
   "source": [
    "# ESAM\n",
    "\n",
    "Data extracted from [Lecca M, et al. (2023) Bi-allelic variants in the ESAM tight-junction gene cause a neurodevelopmental disorder associated with fetal intracranial hemorrhage. Am J Hum Genet ;110(4):681-690.  PMID:36996813](https://pubmed.ncbi.nlm.nih.gov/36996813/)"
   ]
  },
  {
   "cell_type": "code",
   "execution_count": 1,
   "metadata": {},
   "outputs": [
    {
     "name": "stdout",
     "output_type": "stream",
     "text": [
      "Using pyphetools version 0.9.15\n"
     ]
    }
   ],
   "source": [
    "import pandas as pd\n",
    "pd.set_option('display.max_colwidth', None) # show entire column contents, important!\n",
    "from IPython.display import display, HTML\n",
    "from pyphetools.creation import *\n",
    "from pyphetools.visualization import *\n",
    "from pyphetools.validation import *\n",
    "import pyphetools\n",
    "print(f\"Using pyphetools version {pyphetools.__version__}\")"
   ]
  },
  {
   "cell_type": "code",
   "execution_count": 37,
   "metadata": {},
   "outputs": [
    {
     "name": "stdout",
     "output_type": "stream",
     "text": [
      "HPO version 2023-10-09\n"
     ]
    }
   ],
   "source": [
    "PMID = \"PMID:36996813\"\n",
    "title = \"TBi-allelic variants in the ESAM tight-junction gene cause a neurodevelopmental disorder associated with fetal intracranial hemorrhage\"\n",
    "cite = Citation(pmid=PMID, title=title)\n",
    "parser = HpoParser(\"../hp.json\")\n",
    "hpo_cr = parser.get_hpo_concept_recognizer()\n",
    "hpo_version = parser.get_version()\n",
    "hpo_ontology = parser.get_ontology()\n",
    "metadata = MetaData(created_by=\"ORCID:0000-0002-5648-2155\", citation=cite)\n",
    "metadata.default_versions_with_hpo(version=hpo_version)\n",
    "print(f\"HPO version {hpo_version}\")"
   ]
  },
  {
   "cell_type": "code",
   "execution_count": 40,
   "metadata": {},
   "outputs": [],
   "source": [
    "df = pd.read_excel(\"input/esam_lecca_2023.xlsx\");\n",
    "#df.head()\n",
    "dft = df.transpose()\n",
    "dft.columns = dft.iloc[0]\n",
    "dft.drop(dft.index[0], inplace=True)\n",
    "dft.head()\n",
    "dft.index  # first check the index\n",
    "dft['individual_id'] = dft.index  # Set the new column 'patient_id' to be identical to the contents of the index\n",
    "#dft.head() # c"
   ]
  },
  {
   "cell_type": "code",
   "execution_count": 4,
   "metadata": {},
   "outputs": [
    {
     "data": {
      "text/html": [
       "<table style=\"border: 2px solid black;\">\n",
       "\n",
       "<tr>\n",
       "            <th>Result</th>\n",
       "            <th>Columns</th>\n",
       "        </tr>\n",
       "      \n",
       "<tr><td>Mapped</td><td>Microcephaly; Delayed speech and language development; Hypotonia; Spasticity; Epilepsy; Dilation of lateral ventricles; Thin corpus callosum; Abnormal myelination; Hydrocephalus</td></tr>\n",
       "<tr><td>Unmapped</td><td><q>ESAM variant (NM_138961.3)</q>; <q>NM_138961.3</q>; <q>Location</q>; <q>ACMG classification</q>; <q>ROH\n",
       "(GRCh38/hg38)</q>; <q>Sequencing analysis</q>; <q>Chromosomal microarray analysis</q>; <q>Further familial segregation data </q>; <q>Sex</q>; <q>Geographical origin</q>; <q>Consanguinity</q>; <q>Onset of symptoms</q>; <q>Current age</q>; <q>Gestational age at delivery</q>; <q>Mode of delivery</q>; <q>BirthWeight</q>; <q>BirthHeight</q>; <q>BirthOFC </q>; <q>APGAR score</q>; <q>Age</q>; <q>Weight</q>; <q>Height</q>; <q>OFC</q>; <q>Dysmorphic features</q>; <q>Global developmental delay/unspecified intellectual disability</q>; <q>Intracranial</q>; <q>Retinal</q>; <q>Other_findings</q>; <q>patient_id</q></td></tr>\n",
       "</table>\n"
      ],
      "text/plain": [
       "<IPython.core.display.HTML object>"
      ]
     },
     "metadata": {},
     "output_type": "display_data"
    }
   ],
   "source": [
    "generator = SimpleColumnMapperGenerator(df=dft, hpo_cr=hpo_cr, observed=\"+\", excluded=\"-\")\n",
    "column_mapper_d = generator.try_mapping_columns()\n",
    "display(HTML(generator.to_html()))"
   ]
  },
  {
   "cell_type": "code",
   "execution_count": 5,
   "metadata": {},
   "outputs": [],
   "source": [
    "#res = OptionColumnMapper.autoformat(df=dft, concept_recognizer=hpo_cr, omit_columns=generator.get_mapped_columns())\n",
    "#print(res)"
   ]
  },
  {
   "cell_type": "code",
   "execution_count": 6,
   "metadata": {},
   "outputs": [],
   "source": [
    "birthweight_d = {\n",
    " '2150 g (<3rd percentile)': 'Small for gestational age',\n",
    "}\n",
    "birthweight_Mapper = OptionColumnMapper(concept_recognizer=hpo_cr, option_d=birthweight_d)\n",
    "birthweight_Mapper.preview_column(dft['BirthWeight'])\n",
    "column_mapper_d['BirthWeight'] = birthweight_Mapper"
   ]
  },
  {
   "cell_type": "code",
   "execution_count": 7,
   "metadata": {},
   "outputs": [],
   "source": [
    "weight_d = {\n",
    " '12 kg (<3rd percentile)': 'Decreased body weight',\n",
    " '7.6 kg (<3rd percentile)': 'Decreased body weight',\n",
    " '8.07 kg (<3rd percentile)': 'Decreased body weight',\n",
    " '17 kg (<3rd percentile)': 'Decreased body weight',\n",
    " '7.9 kg (<3rd percentile)': 'Decreased body weight',\n",
    "}\n",
    "weight_Mapper = OptionColumnMapper(concept_recognizer=hpo_cr, option_d=weight_d)\n",
    "weight_Mapper.preview_column(dft['Weight'])\n",
    "column_mapper_d['Weight'] = weight_Mapper"
   ]
  },
  {
   "cell_type": "code",
   "execution_count": 8,
   "metadata": {},
   "outputs": [],
   "source": [
    "height_d = {\n",
    " '78 cm (<3rd percentile)': 'Short stature',\n",
    " '97 cm (<3rd percentile)': 'Short stature',\n",
    " '73 cm (<3rd percentile)': 'Short stature',\n",
    "}\n",
    "heightMapper = OptionColumnMapper(concept_recognizer=hpo_cr, option_d=height_d)\n",
    "heightMapper.preview_column(dft['Height'])\n",
    "column_mapper_d['Height'] = heightMapper"
   ]
  },
  {
   "cell_type": "code",
   "execution_count": 9,
   "metadata": {},
   "outputs": [],
   "source": [
    "# Microcephaly HP:0000252\n",
    "microcephaly_Mapper = SimpleColumnMapper(hpo_id=\"HP:0000252\", hpo_label=\"Microcephaly\", observed=\"+\", excluded=\"-\")\n",
    "microcephaly_Mapper.preview_column(dft['Microcephaly'])\n",
    "column_mapper_d['Microcephaly'] = microcephaly_Mapper"
   ]
  },
  {
   "cell_type": "code",
   "execution_count": 10,
   "metadata": {},
   "outputs": [],
   "source": [
    "dysmorphic_features_d = {'Bitemporal narrowing': 'Narrow forehead',\n",
    " 'Highly arched eyebrow': 'Highly arched eyebrow',\n",
    " 'Long eyelashes': 'Long eyelashes',\n",
    " 'Bulbous nasal tip': 'Bulbous nose',\n",
    " 'Fleshy and everted lower lip vermilion': 'Everted lower lip vermilion',\n",
    " 'Upslanted palpebral fissure': 'Upslanted palpebral fissure',\n",
    " 'Microretrognathia': 'Microretrognathia',\n",
    " 'Synophrys': 'Synophrys',\n",
    " 'Full cheeks': 'Full cheeks',\n",
    " 'Hypertrichosis': 'Hypertrichosis',\n",
    " 'Triangular face': 'Triangular face',\n",
    " 'Smooth philtrum': 'Smooth philtrum',\n",
    " 'Prominent chin': 'Mandibular prognathia',\n",
    " 'High palate': 'High palate',\n",
    " 'narrow palate': 'Narrow palate',\n",
    " 'Tented upper lip vermilion': 'Tented upper lip vermilion',\n",
    " 'Hammertoe': 'Hammertoe',\n",
    " 'Telecanthus': 'Telecanthus',\n",
    " 'Wide nasal bridge': 'Wide nasal bridge',\n",
    " 'Finger joint hypermobility': 'Finger joint hypermobility',\n",
    " 'Talipes equinovarus': 'Talipes equinovarus',\n",
    " 'Amblyopia': 'Amblyopia',\n",
    " 'Flat philtrum': 'Smooth philtrum',\n",
    " 'Upslanted palpebral fissures': 'Upslanted palpebral fissure',\n",
    " 'Broad forehead': 'Broad forehead',\n",
    " 'Undescended testicle': 'Cryptorchidism',\n",
    " 'Highly arched eyebrows': 'Highly arched eyebrow',\n",
    " 'Low posteriorly rotated ears': 'Posteriorly rotated ears',\n",
    " 'Anteverted nares': 'Anteverted nares',\n",
    "}\n",
    "dysmorphic_featuresMapper = OptionColumnMapper(concept_recognizer=hpo_cr, option_d=dysmorphic_features_d)\n",
    "dysmorphic_featuresMapper.preview_column(dft['Dysmorphic features'])\n",
    "column_mapper_d['Dysmorphic features'] = dysmorphic_featuresMapper"
   ]
  },
  {
   "cell_type": "code",
   "execution_count": 11,
   "metadata": {},
   "outputs": [],
   "source": [
    "gdd_d = {'+ (severe)': 'Severe global developmental delay',\n",
    " 'No walking': 'Inability to walk',\n",
    " 'Poor head control': 'Poor head control',\n",
    " 'No sitting': 'Delayed ability to sit',\n",
    " '[@[Individual 7]]No walking': 'Inability to walk',\n",
    " '(does not sit nor roll over)': 'Delayed ability to sit',\n",
    "}\n",
    "gddMapper = OptionColumnMapper(concept_recognizer=hpo_cr, option_d=gdd_d)\n",
    "gddMapper.preview_column(dft['Global developmental delay/unspecified intellectual disability'])\n",
    "column_mapper_d['Global developmental delay/unspecified intellectual disability'] = gddMapper"
   ]
  },
  {
   "cell_type": "code",
   "execution_count": 12,
   "metadata": {},
   "outputs": [],
   "source": [
    "delayed_speech_and_language_development_d = {'+ (severe)': 'Delayed speech and language development',\n",
    "                                             '+': 'Delayed speech and language development',\n",
    "}\n",
    "delayed_speech_and_language_developmentMapper = OptionColumnMapper(concept_recognizer=hpo_cr, option_d=delayed_speech_and_language_development_d)\n",
    "delayed_speech_and_language_developmentMapper.preview_column(dft['Delayed speech and language development'])\n",
    "column_mapper_d['Delayed speech and language development'] = delayed_speech_and_language_developmentMapper"
   ]
  },
  {
   "cell_type": "code",
   "execution_count": 13,
   "metadata": {},
   "outputs": [],
   "source": [
    "hypotonia__d = {'+ (neonatal)': 'Hypotonia',\n",
    " 'neonatal': 'Hypotonia',\n",
    " '+': 'Hypotonia',\n",
    " }\n",
    "hypotonia_Mapper = OptionColumnMapper(concept_recognizer=hpo_cr, option_d=hypotonia__d)\n",
    "hypotonia_Mapper.preview_column(dft['Hypotonia'])\n",
    "column_mapper_d['Hypotonia'] = hypotonia_Mapper"
   ]
  },
  {
   "cell_type": "code",
   "execution_count": 14,
   "metadata": {},
   "outputs": [],
   "source": [
    "spasticity__d = {'+ (spastic tetraparesis)': 'Spastic tetraparesis',\n",
    " '+ (spastic tetraparesis': 'Spastic tetraparesis',\n",
    " 'hyperreflexia)': 'Hyperreflexia',\n",
    " '+  (spastic tetraparesis)': 'Spastic tetraparesis',\n",
    " '+ (dystonia)': 'Dystonia',\n",
    " '+ (limb hypertonia)': 'Limb hypertonia',\n",
    "}\n",
    "spasticity_Mapper = OptionColumnMapper(concept_recognizer=hpo_cr, option_d=spasticity__d)\n",
    "spasticity_Mapper.preview_column(dft['Spasticity'])\n",
    "column_mapper_d['Spasticity'] = spasticity_Mapper"
   ]
  },
  {
   "cell_type": "code",
   "execution_count": 15,
   "metadata": {},
   "outputs": [],
   "source": [
    "epilepsy_d = {'+ (focal)': 'Focal-onset seizure',\n",
    " '+': 'Seizure',\n",
    " '+ (focal': 'Focal-onset seizure',\n",
    " 'myoclonic) \\nHypsarrhythmia': 'Hypsarrhythmia',\n",
    " 'myoclonic) Hypsarrhythmia': 'Hypsarrhythmia',\n",
    " '+ (generalized tonic-clonic seizures)': 'Bilateral tonic-clonic seizure',\n",
    "}\n",
    "epilepsyMapper = OptionColumnMapper(concept_recognizer=hpo_cr, option_d=epilepsy_d)\n",
    "epilepsyMapper.preview_column(dft['Epilepsy'])\n",
    "column_mapper_d['Epilepsy'] = epilepsyMapper"
   ]
  },
  {
   "cell_type": "code",
   "execution_count": 16,
   "metadata": {},
   "outputs": [],
   "source": [
    "dilation_of_lateral_ventricles__d = {'+': 'Dilated third ventricle',\n",
    " '+ (lateral and 3rd ventricles)': [\"Dilated third ventricle\", \"Lateral ventricle dilatation\"],\n",
    "}\n",
    "dilation_of_lateral_ventricles_Mapper = OptionColumnMapper(concept_recognizer=hpo_cr, option_d=dilation_of_lateral_ventricles__d)\n",
    "dilation_of_lateral_ventricles_Mapper.preview_column(dft['Dilation of lateral ventricles'])\n",
    "column_mapper_d['Dilation of lateral ventricles'] = dilation_of_lateral_ventricles_Mapper"
   ]
  },
  {
   "cell_type": "code",
   "execution_count": 19,
   "metadata": {},
   "outputs": [],
   "source": [
    "thin_corpus_callosum_d = {'+ (atrophy)': [\"Corpus callosum atrophy\", 'Thin corpus callosum'],\n",
    " '+ (partial absence of the septum pellucidum)': ['Thin corpus callosum','Partial absence of the septum pellucidum'],\n",
    " '+': 'Thin corpus callosum',\n",
    "}\n",
    "excluded = {'-': 'Thin corpus callosum'}\n",
    "thin_corpus_callosumMapper = OptionColumnMapper(concept_recognizer=hpo_cr, option_d=thin_corpus_callosum_d, excluded_d=excluded)\n",
    "thin_corpus_callosumMapper.preview_column(dft['Thin corpus callosum'])\n",
    "column_mapper_d['Thin corpus callosum'] = thin_corpus_callosumMapper"
   ]
  },
  {
   "cell_type": "code",
   "execution_count": 21,
   "metadata": {},
   "outputs": [],
   "source": [
    "abnormal_myelination_d = {'+ (FWML)': 'Abnormal CNS myelination',\n",
    " '+ (FWML - frontoparietal)': 'Abnormal CNS myelination',\n",
    " '+ (FWML - periventricular)': 'Abnormal CNS myelination',\n",
    " '+ (dysgiria/polymicrogyria': 'Polymicrogyria',\n",
    " 'white matter volume loss)': 'Reduced cerebral white matter volume',\n",
    "}\n",
    "abnormal_myelinationMapper = OptionColumnMapper(concept_recognizer=hpo_cr, option_d=abnormal_myelination_d)\n",
    "abnormal_myelinationMapper.preview_column(dft['Abnormal myelination'])\n",
    "column_mapper_d['Abnormal myelination'] = abnormal_myelinationMapper"
   ]
  },
  {
   "cell_type": "code",
   "execution_count": 23,
   "metadata": {},
   "outputs": [],
   "source": [
    "hydrocephalus_d = {'+ (prenatal)': 'Hydrocephalus',\n",
    " '+ (colpocephaly)': 'Colpocephaly',\n",
    " '+ (hydranencephaly)': 'Hydranencephaly',\n",
    " '+': 'Hydrocephalus',\n",
    " '+ (congenital)': 'Hydrocephalus'}\n",
    "hydrocephalusMapper = OptionColumnMapper(concept_recognizer=hpo_cr, option_d=hydrocephalus_d)\n",
    "hydrocephalusMapper.preview_column(dft['Hydrocephalus'])\n",
    "column_mapper_d['Hydrocephalus'] = hydrocephalusMapper"
   ]
  },
  {
   "cell_type": "code",
   "execution_count": 25,
   "metadata": {},
   "outputs": [],
   "source": [
    "intracranial_d = {'Intracranial hemorrhage (prenatal)': 'Intracranial hemorrhage',\n",
    " 'Porencephaly': 'Porencephalic cyst',\n",
    "\n",
    " 'Intracranial hemorrhage': 'Intracranial hemorrhage',\n",
    " 'Periventricular leukomalacia': 'Periventricular leukomalacia',\n",
    " 'Cerebral calcification': 'Cerebral calcification',\n",
    " 'Subependymal periventricular and lenticular nucleus calcifications': 'Intracerebral periventricular calcifications',\n",
    " 'Bilateral periventricular calcifications': 'Intracerebral periventricular calcifications',\n",
    " 'Severe cerebral edema': 'Cerebral edema',\n",
    " 'Diffuse cerebral gliosis': 'Gliosis',\n",
    " 'Multifocal cerebral white matter abnormalities': 'Multifocal cerebral white matter abnormalities',\n",
    " #'Karyorrhexis in the pontine nuclei and hippocampus (dentate gyrus)': 'PLACEHOLDER',\n",
    " 'Intraparenchymal and periventricular hemorrhages': 'Cerebral hemorrhage',\n",
    " 'Cerebral calcifications': 'Cerebral calcification',\n",
    " 'Porencephaly and cerebral cysts': 'Porencephalic cyst',\n",
    " 'Hemorrahgic ischemic lesions of white matter': 'Cerebral hemorrhage',\n",
    " 'Cerebral gliosis': 'Gliosis',\n",
    " 'Calcifications of basal ganglia and thalami': 'Basal ganglia calcification',\n",
    " 'Periventricular cysts': 'Periventricular cysts',\n",
    "}\n",
    "intracranialMapper = OptionColumnMapper(concept_recognizer=hpo_cr, option_d=intracranial_d)\n",
    "intracranialMapper.preview_column(dft['Intracranial'])\n",
    "column_mapper_d['Intracranial'] = intracranialMapper"
   ]
  },
  {
   "cell_type": "code",
   "execution_count": 27,
   "metadata": {},
   "outputs": [],
   "source": [
    "retinal_d = {\n",
    " 'Arterial tortuosity': 'Arterial tortuosity',\n",
    " 'Retinal hemorrhage (bilateral)': 'Retinal hemorrhage',\n",
    " 'Bilateral retinal detachment': 'Retinal detachment',\n",
    " 'Preretinal and vitreous hemorrhage': 'Vitreous hemorrhage',}\n",
    "retinalMapper = OptionColumnMapper(concept_recognizer=hpo_cr, option_d=retinal_d)\n",
    "retinalMapper.preview_column(dft['Retinal'])\n",
    "column_mapper_d['Retinal'] = retinalMapper"
   ]
  },
  {
   "cell_type": "code",
   "execution_count": 30,
   "metadata": {},
   "outputs": [],
   "source": [
    "other_findings_d = {'Feeding difficulties (PEG)': 'Feeding difficulties',\n",
    " 'Pancreatitis': 'Pancreatitis',\n",
    " 'Iris coloboma': 'Iris coloboma',\n",
    " 'VSD / FPO': ['Ventricular septal defect',\"Patent foramen ovale\"],\n",
    " 'Respiratory insufficiency': 'Respiratory insufficiency',\n",
    " 'Tracheomalacia': 'Tracheomalacia',\n",
    " 'Pectus excavatum': 'Pectus excavatum',\n",
    " 'Gastrostomy': 'Feeding difficulties',\n",
    " 'PFO': 'Patent foramen ovale',\n",
    " #'and hypertrophy of interventricular septum': 'PLACEHOLDER',\n",
    " 'Nystagmus': 'Nystagmus',\n",
    " 'Feeding difficulties': 'Feeding difficulties',\n",
    " 'Severe hydrops fetalis': 'Hydrops fetalis',\n",
    " 'Septate cystic hygroma': 'Cystic hygroma',\n",
    " 'Cardiomegaly': 'Cardiomegaly',\n",
    " 'Tricuspid regurgitation': 'Tricuspid regurgitation',\n",
    " 'Pulmonary atresia': 'Pulmonary artery atresia',\n",
    " 'Markedly hypoplastic lungs / atelectasis': 'Pulmonary hypoplasia',\n",
    " 'Splenic cyst': 'Splenic cyst',\n",
    " #'Diffuse bullous skin lesions': 'PLACEHOLDER',\n",
    " #'Langerhans cell hyperplasia': 'PLACEHOLDER',\n",
    " 'Hepatic sinusoidal dilatation / centrilobular congestion': 'Hepatic sinusoidal dilatation',\n",
    " }\n",
    "other_findingsMapper = OptionColumnMapper(concept_recognizer=hpo_cr, option_d=other_findings_d)\n",
    "other_findingsMapper.preview_column(dft['Other_findings'])\n",
    "column_mapper_d['Other_findings'] = other_findingsMapper"
   ]
  },
  {
   "cell_type": "code",
   "execution_count": 32,
   "metadata": {},
   "outputs": [
    {
     "data": {
      "text/plain": [
       "Index(['ESAM variant (NM_138961.3)', 'NM_138961.3', 'Location',\n",
       "       'ACMG classification', 'ROH\\n(GRCh38/hg38)', 'Sequencing analysis',\n",
       "       'Chromosomal microarray analysis', 'Further familial segregation data ',\n",
       "       'Sex', 'Geographical origin', 'Consanguinity', 'Onset of symptoms',\n",
       "       'Current age', 'Gestational age at delivery', 'Mode of delivery',\n",
       "       'BirthWeight', 'BirthHeight', 'BirthOFC ', 'APGAR score', 'Age',\n",
       "       'Weight', 'Height', 'OFC', 'Microcephaly', 'Dysmorphic features',\n",
       "       'Global developmental delay/unspecified intellectual disability',\n",
       "       'Delayed speech and language development', 'Hypotonia', 'Spasticity',\n",
       "       'Epilepsy', 'Dilation of lateral ventricles', 'Thin corpus callosum',\n",
       "       'Abnormal myelination', 'Hydrocephalus', 'Intracranial', 'Retinal',\n",
       "       'Other_findings', 'patient_id'],\n",
       "      dtype='object', name='Clinical features')"
      ]
     },
     "execution_count": 32,
     "metadata": {},
     "output_type": "execute_result"
    }
   ],
   "source": [
    "dft.columns\n"
   ]
  },
  {
   "cell_type": "code",
   "execution_count": 33,
   "metadata": {},
   "outputs": [
    {
     "name": "stdout",
     "output_type": "stream",
     "text": [
      "https://rest.variantvalidator.org/VariantValidator/variantvalidator/hg38/NM_138961.3%3Ac.115del/NM_138961.3?content-type=application%2Fjson\n",
      "https://rest.variantvalidator.org/VariantValidator/variantvalidator/hg38/NM_138961.3%3Ac.287del/NM_138961.3?content-type=application%2Fjson\n",
      "https://rest.variantvalidator.org/VariantValidator/variantvalidator/hg38/NM_138961.3%3Ac.35T>A/NM_138961.3?content-type=application%2Fjson\n",
      "https://rest.variantvalidator.org/VariantValidator/variantvalidator/hg38/NM_138961.3%3Ac.451+1G>A/NM_138961.3?content-type=application%2Fjson\n",
      "https://rest.variantvalidator.org/VariantValidator/variantvalidator/hg38/NM_138961.3%3Ac.605T>G/NM_138961.3?content-type=application%2Fjson\n"
     ]
    }
   ],
   "source": [
    "var_d = {}\n",
    "esam_transcript='NM_138961.3' \n",
    "varValidator = VariantValidator(genome_build='hg38', transcript=esam_transcript)\n",
    "for v in dft['NM_138961.3'].unique():\n",
    "    var = varValidator.encode_hgvs(v)\n",
    "    var.set_homozygous()\n",
    "    var_d[v] = var"
   ]
  },
  {
   "cell_type": "code",
   "execution_count": 35,
   "metadata": {},
   "outputs": [],
   "source": [
    "# TODO ageMapper = AgeColumnMapper(column_name=\"Current age\", ageEncodingType=\"year\")\n",
    "sexMapper = SexColumnMapper(male_symbol=\"M\", female_symbol=\"F\", column_name=\"Sex\")"
   ]
  },
  {
   "cell_type": "code",
   "execution_count": 42,
   "metadata": {},
   "outputs": [],
   "source": [
    "varMapper = VariantColumnMapper(variant_d=var_d, variant_column_name='NM_138961.3', default_genotype=\"homozygous\")\n",
    "\n",
    "encoder = CohortEncoder(df=dft, \n",
    "                        hpo_cr=hpo_cr, \n",
    "                        column_mapper_d=column_mapper_d, \n",
    "                        individual_column_name=\"individual_id\", \n",
    "                        agemapper=AgeColumnMapper.not_provided(), \n",
    "                        sexmapper=sexMapper,\n",
    "                        variant_mapper=varMapper,\n",
    "                        metadata=metadata)\n",
    "\n",
    "NEDIHSS = Disease(disease_id='OMIM:620371', disease_label='Neurodevelopmental disorder with intracranial hemorrhage, seizures, and spasticity')\n",
    "encoder.set_disease(NEDIHSS)\n"
   ]
  },
  {
   "cell_type": "code",
   "execution_count": 43,
   "metadata": {},
   "outputs": [
    {
     "name": "stdout",
     "output_type": "stream",
     "text": [
      "Could not parse the following as sex descriptors: Unknown (n=1)\n"
     ]
    }
   ],
   "source": [
    "individuals = encoder.get_individuals()"
   ]
  },
  {
   "cell_type": "code",
   "execution_count": 45,
   "metadata": {},
   "outputs": [
    {
     "data": {
      "text/html": [
       "<h2>Cohort validation</h2>\n",
       "<p>No errors found for the cohort with 14 individuals</p>"
      ],
      "text/plain": [
       "<IPython.core.display.HTML object>"
      ]
     },
     "metadata": {},
     "output_type": "display_data"
    }
   ],
   "source": [
    "cvalidator = CohortValidator(cohort=individuals, ontology=hpo_ontology, min_hpo=1, allelic_requirement=AllelicRequirement.BI_ALLELIC)\n",
    "qc = QcVisualizer(cohort_validator=cvalidator)\n",
    "display(HTML(qc.to_html()))"
   ]
  },
  {
   "cell_type": "code",
   "execution_count": 46,
   "metadata": {},
   "outputs": [
    {
     "data": {
      "text/html": [
       "<table style=\"border: 2px solid black; align: \"left\">\n",
       "<caption>14 phenopackets - PMID:36996813 (n=14)</caption>\n",
       "<tr><th style=\"text-align: left;font-weight: bold;\">Individual</th><th style=\"text-align: left;font-weight: bold;\">Disease</th><th style=\"text-align: left;font-weight: bold;\">Genotype</th><th style=\"text-align: left;font-weight: bold;\">Phenotypic features</th></tr>\n",
       "<tr><td style=\"text-align: left;\">Individual 1 (FEMALE; )</td><td style=\"text-align: left;\">Neurodevelopmental disorder with intracranial hemorrhage, seizures, and spasticity (OMIM:620371)</td><td style=\"text-align: left;\">NM_138961.3:c.115del (homozygous)</td><td style=\"text-align: left;\">Microcephaly (HP:0000252); Delayed speech and language development (HP:0000750); Hypotonia (HP:0001252); Spastic tetraparesis (HP:0001285); Focal-onset seizure (HP:0007359); Dilated third ventricle (HP:0007082); Thin corpus callosum (HP:0033725); Abnormal CNS myelination (HP:0011400); Hydrocephalus (HP:0000238); Narrow forehead (HP:0000341); Highly arched eyebrow (HP:0002553); Long eyelashes (HP:0000527); Bulbous nose (HP:0000414); Everted lower lip vermilion (HP:0000232); Upslanted palpebral fissure (HP:0000582); Microretrognathia (HP:0000308); Synophrys (HP:0000664); Full cheeks (HP:0000293); Severe global developmental delay (HP:0011344); Inability to walk (HP:0002540); Intracranial hemorrhage (HP:0002170); Porencephalic cyst (HP:0002132); Arterial tortuosity (HP:0005116); Retinal hemorrhage (HP:0000573); Feeding difficulties (HP:0011968); Pancreatitis (HP:0001733)</td></tr>\n",
       "<tr><td style=\"text-align: left;\">Individual 2 (MALE; )</td><td style=\"text-align: left;\">Neurodevelopmental disorder with intracranial hemorrhage, seizures, and spasticity (OMIM:620371)</td><td style=\"text-align: left;\">NM_138961.3:c.115del (homozygous)</td><td style=\"text-align: left;\">Microcephaly (HP:0000252); Delayed speech and language development (HP:0000750); Hypotonia (HP:0001252); Spastic tetraparesis (HP:0001285); Hyperreflexia (HP:0001347); Seizure (HP:0001250); Dilated third ventricle (HP:0007082); Thin corpus callosum (HP:0033725); Hydrocephalus (HP:0000238); Small for gestational age (HP:0001518); Triangular face (HP:0000325); Smooth philtrum (HP:0000319); Mandibular prognathia (HP:0000303); Severe global developmental delay (HP:0011344); Intracranial hemorrhage (HP:0002170); Periventricular leukomalacia (HP:0006970); Retinal detachment (HP:0000541); Iris coloboma (HP:0000612)</td></tr>\n",
       "<tr><td style=\"text-align: left;\">Individual 3 (FEMALE; )</td><td style=\"text-align: left;\">Neurodevelopmental disorder with intracranial hemorrhage, seizures, and spasticity (OMIM:620371)</td><td style=\"text-align: left;\">NM_138961.3:c.115del (homozygous)</td><td style=\"text-align: left;\">Microcephaly (HP:0000252); Delayed speech and language development (HP:0000750); Hypotonia (HP:0001252); Seizure (HP:0001250); Dilated third ventricle (HP:0007082); Thin corpus callosum (HP:0033725); Hydrocephalus (HP:0000238); Decreased body weight (HP:0004325); Short stature (HP:0004322); Triangular face (HP:0000325); Smooth philtrum (HP:0000319); Mandibular prognathia (HP:0000303); Severe global developmental delay (HP:0011344); Intracranial hemorrhage (HP:0002170); Periventricular leukomalacia (HP:0006970); Arterial tortuosity (HP:0005116); Vitreous hemorrhage (HP:0007902)</td></tr>\n",
       "<tr><td style=\"text-align: left;\">Individual 4 (MALE; )</td><td style=\"text-align: left;\">Neurodevelopmental disorder with intracranial hemorrhage, seizures, and spasticity (OMIM:620371)</td><td style=\"text-align: left;\">NM_138961.3:c.287del (homozygous)</td><td style=\"text-align: left;\">Delayed speech and language development (HP:0000750); Hypotonia (HP:0001252); Focal-onset seizure (HP:0007359); Hypsarrhythmia (HP:0002521); Dilated third ventricle (HP:0007082); Corpus callosum atrophy (HP:0007371); Abnormal CNS myelination (HP:0011400); Colpocephaly (HP:0030048); Short stature (HP:0004322); Narrow forehead (HP:0000341); Highly arched eyebrow (HP:0002553); Long eyelashes (HP:0000527); Bulbous nose (HP:0000414); High palate (HP:0000218); Narrow palate (HP:0000189); Tented upper lip vermilion (HP:0010804); Hammertoe (HP:0001765); Telecanthus (HP:0000506); Wide nasal bridge (HP:0000431); Finger joint hypermobility (HP:0006094); Talipes equinovarus (HP:0001762); Amblyopia (HP:0000646); Severe global developmental delay (HP:0011344); Poor head control (HP:0002421); Delayed ability to sit (HP:0025336); Intracranial hemorrhage (HP:0002170); Cerebral calcification (HP:0002514); Respiratory insufficiency (HP:0002093); Tracheomalacia (HP:0002779); Pectus excavatum (HP:0000767); excluded: Microcephaly (HP:0000252)</td></tr>\n",
       "<tr><td style=\"text-align: left;\">Individual 5 (FEMALE; )</td><td style=\"text-align: left;\">Neurodevelopmental disorder with intracranial hemorrhage, seizures, and spasticity (OMIM:620371)</td><td style=\"text-align: left;\">NM_138961.3:c.287del (homozygous)</td><td style=\"text-align: left;\">Delayed speech and language development (HP:0000750); Hypotonia (HP:0001252); Focal-onset seizure (HP:0007359); Hypsarrhythmia (HP:0002521); Dilated third ventricle (HP:0007082); Thin corpus callosum (HP:0033725); Abnormal CNS myelination (HP:0011400); Hydrocephalus (HP:0000238); Narrow forehead (HP:0000341); Highly arched eyebrow (HP:0002553); Long eyelashes (HP:0000527); Bulbous nose (HP:0000414); High palate (HP:0000218); Narrow palate (HP:0000189); Tented upper lip vermilion (HP:0010804); Hammertoe (HP:0001765); Telecanthus (HP:0000506); Wide nasal bridge (HP:0000431); Finger joint hypermobility (HP:0006094); Talipes equinovarus (HP:0001762); Amblyopia (HP:0000646); Severe global developmental delay (HP:0011344); Poor head control (HP:0002421); Delayed ability to sit (HP:0025336); Intracranial hemorrhage (HP:0002170); Cerebral calcification (HP:0002514); Respiratory insufficiency (HP:0002093); Tracheomalacia (HP:0002779); Pectus excavatum (HP:0000767); excluded: Microcephaly (HP:0000252)</td></tr>\n",
       "<tr><td style=\"text-align: left;\">Individual 6 (MALE; )</td><td style=\"text-align: left;\">Neurodevelopmental disorder with intracranial hemorrhage, seizures, and spasticity (OMIM:620371)</td><td style=\"text-align: left;\">NM_138961.3:c.35T>A (homozygous)</td><td style=\"text-align: left;\">Delayed speech and language development (HP:0000750); Hypotonia (HP:0001252); Spastic tetraparesis (HP:0001285); Seizure (HP:0001250); Dilated third ventricle (HP:0007082); Thin corpus callosum (HP:0033725); Partial absence of the septum pellucidum (HP:0030283); Hydranencephaly (HP:0002324); Decreased body weight (HP:0004325); Severe global developmental delay (HP:0011344); Delayed ability to sit (HP:0025336); Inability to walk (HP:0002540); Intracranial hemorrhage (HP:0002170); Retinal hemorrhage (HP:0000573); excluded: Microcephaly (HP:0000252)</td></tr>\n",
       "<tr><td style=\"text-align: left;\">Individual 7 (MALE; )</td><td style=\"text-align: left;\">Neurodevelopmental disorder with intracranial hemorrhage, seizures, and spasticity (OMIM:620371)</td><td style=\"text-align: left;\">NM_138961.3:c.115del (homozygous)</td><td style=\"text-align: left;\">Delayed speech and language development (HP:0000750); Hypotonia (HP:0001252); Spastic tetraparesis (HP:0001285); Bilateral tonic-clonic seizure (HP:0002069); Dilated third ventricle (HP:0007082); Wide nasal bridge (HP:0000431); Smooth philtrum (HP:0000319); Upslanted palpebral fissure (HP:0000582); Broad forehead (HP:0000337); Narrow forehead (HP:0000341); Severe global developmental delay (HP:0011344); Delayed ability to sit (HP:0025336); Inability to walk (HP:0002540); Intracerebral periventricular calcifications (HP:0007229); Feeding difficulties (HP:0011968); excluded: Microcephaly (HP:0000252); excluded: Thin corpus callosum (HP:0033725)</td></tr>\n",
       "<tr><td style=\"text-align: left;\">Individual 8 (MALE; )</td><td style=\"text-align: left;\">Neurodevelopmental disorder with intracranial hemorrhage, seizures, and spasticity (OMIM:620371)</td><td style=\"text-align: left;\">NM_138961.3:c.115del (homozygous)</td><td style=\"text-align: left;\">Delayed speech and language development (HP:0000750); Hypotonia (HP:0001252); Dystonia (HP:0001332); Seizure (HP:0001250); Dilated third ventricle (HP:0007082); Thin corpus callosum (HP:0033725); Abnormal CNS myelination (HP:0011400); Decreased body weight (HP:0004325); Narrow forehead (HP:0000341); Highly arched eyebrow (HP:0002553); Long eyelashes (HP:0000527); Bulbous nose (HP:0000414); High palate (HP:0000218); Narrow palate (HP:0000189); Everted lower lip vermilion (HP:0000232); Hammertoe (HP:0001765); Upslanted palpebral fissure (HP:0000582); Microretrognathia (HP:0000308); Cryptorchidism (HP:0000028); Severe global developmental delay (HP:0011344); Poor head control (HP:0002421); Intracranial hemorrhage (HP:0002170); Cerebral calcification (HP:0002514); Patent foramen ovale (HP:0001655); Nystagmus (HP:0000639); excluded: Microcephaly (HP:0000252)</td></tr>\n",
       "<tr><td style=\"text-align: left;\">Individual 9 (MALE; )</td><td style=\"text-align: left;\">Neurodevelopmental disorder with intracranial hemorrhage, seizures, and spasticity (OMIM:620371)</td><td style=\"text-align: left;\">NM_138961.3:c.451+1G>A (homozygous)</td><td style=\"text-align: left;\">Microcephaly (HP:0000252); Delayed speech and language development (HP:0000750); Hypotonia (HP:0001252); Limb hypertonia (HP:0002509); Focal-onset seizure (HP:0007359); Dilated third ventricle (HP:0007082); Lateral ventricle dilatation (HP:0006956); Thin corpus callosum (HP:0033725); Abnormal CNS myelination (HP:0011400); Hydrocephalus (HP:0000238); Decreased body weight (HP:0004325); Short stature (HP:0004322); Narrow forehead (HP:0000341); Highly arched eyebrow (HP:0002553); Bulbous nose (HP:0000414); Posteriorly rotated ears (HP:0000358); Severe global developmental delay (HP:0011344); Poor head control (HP:0002421); Delayed ability to sit (HP:0025336); Intracranial hemorrhage (HP:0002170); Intracerebral periventricular calcifications (HP:0007229); Feeding difficulties (HP:0011968)</td></tr>\n",
       "<tr><td style=\"text-align: left;\">Individual 10 (MALE; )</td><td style=\"text-align: left;\">Neurodevelopmental disorder with intracranial hemorrhage, seizures, and spasticity (OMIM:620371)</td><td style=\"text-align: left;\">NM_138961.3:c.115del (homozygous)</td><td style=\"text-align: left;\">Dilated third ventricle (HP:0007082); Hydrocephalus (HP:0000238); Anteverted nares (HP:0000463); Microretrognathia (HP:0000308); Talipes equinovarus (HP:0001762); Intracranial hemorrhage (HP:0002170); Cerebral edema (HP:0002181); Periventricular leukomalacia (HP:0006970); Gliosis (HP:0002171); Multifocal cerebral white matter abnormalities (HP:0007052); Hydrops fetalis (HP:0001789); Cystic hygroma (HP:0000476); Cardiomegaly (HP:0001640); Tricuspid regurgitation (HP:0005180); Pulmonary artery atresia (HP:0004935); Pulmonary hypoplasia (HP:0002089); Atelectasis (HP:0100750); Splenic cyst (HP:0030423); Hepatic sinusoidal dilatation (HP:0035006); excluded: Microcephaly (HP:0000252); excluded: Thin corpus callosum (HP:0033725)</td></tr>\n",
       "<tr><td style=\"text-align: left;\">Individual 11 (UNKNOWN; )</td><td style=\"text-align: left;\">Neurodevelopmental disorder with intracranial hemorrhage, seizures, and spasticity (OMIM:620371)</td><td style=\"text-align: left;\">NM_138961.3:c.35T>A (homozygous)</td><td style=\"text-align: left;\">Dilated third ventricle (HP:0007082); Hydrocephalus (HP:0000238); Cerebral hemorrhage (HP:0001342); Cerebral calcification (HP:0002514); excluded: Microcephaly (HP:0000252); excluded: Thin corpus callosum (HP:0033725)</td></tr>\n",
       "<tr><td style=\"text-align: left;\">Individual 12 (FEMALE; )</td><td style=\"text-align: left;\">Neurodevelopmental disorder with intracranial hemorrhage, seizures, and spasticity (OMIM:620371)</td><td style=\"text-align: left;\">NM_138961.3:c.451+1G>A (homozygous)</td><td style=\"text-align: left;\">Dilated third ventricle (HP:0007082); Thin corpus callosum (HP:0033725); Abnormal CNS myelination (HP:0011400); Hydrocephalus (HP:0000238); Porencephalic cyst (HP:0002132); Cerebral hemorrhage (HP:0001342); Gliosis (HP:0002171); Basal ganglia calcification (HP:0002135)</td></tr>\n",
       "<tr><td style=\"text-align: left;\">Individual 13 (MALE; )</td><td style=\"text-align: left;\">Neurodevelopmental disorder with intracranial hemorrhage, seizures, and spasticity (OMIM:620371)</td><td style=\"text-align: left;\">NM_138961.3:c.451+1G>A (homozygous)</td><td style=\"text-align: left;\">Dilated third ventricle (HP:0007082); Thin corpus callosum (HP:0033725); Polymicrogyria (HP:0002126); Reduced cerebral white matter volume (HP:0034295); Hydrocephalus (HP:0000238); Intracranial hemorrhage (HP:0002170); Periventricular cysts (HP:0007109); Cerebral calcification (HP:0002514)</td></tr>\n",
       "<tr><td style=\"text-align: left;\">Individual KCHYD24-1 (FEMALE; )</td><td style=\"text-align: left;\">Neurodevelopmental disorder with intracranial hemorrhage, seizures, and spasticity (OMIM:620371)</td><td style=\"text-align: left;\">NM_138961.3:c.605T>G (homozygous)</td><td style=\"text-align: left;\">Hydrocephalus (HP:0000238)</td></tr>\n",
       "</table>"
      ],
      "text/plain": [
       "<IPython.core.display.HTML object>"
      ]
     },
     "metadata": {},
     "output_type": "display_data"
    }
   ],
   "source": [
    "cohort = cvalidator.get_error_free_individual_list()\n",
    "table = PhenopacketTable(individual_list=individuals, metadata=metadata)\n",
    "display(HTML(table.to_html()))"
   ]
  },
  {
   "cell_type": "code",
   "execution_count": null,
   "metadata": {},
   "outputs": [],
   "source": []
  }
 ],
 "metadata": {
  "kernelspec": {
   "display_name": "Python 3 (ipykernel)",
   "language": "python",
   "name": "python3"
  },
  "language_info": {
   "codemirror_mode": {
    "name": "ipython",
    "version": 3
   },
   "file_extension": ".py",
   "mimetype": "text/x-python",
   "name": "python",
   "nbconvert_exporter": "python",
   "pygments_lexer": "ipython3",
   "version": "3.8.10"
  }
 },
 "nbformat": 4,
 "nbformat_minor": 4
}
