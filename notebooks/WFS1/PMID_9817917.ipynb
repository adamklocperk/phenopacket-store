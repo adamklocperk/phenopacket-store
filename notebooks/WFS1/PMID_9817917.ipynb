{
 "cells": [
  {
   "cell_type": "markdown",
   "id": "a39f3c65",
   "metadata": {},
   "source": [
    "<h1>WFS1: Strom et al. (1998)</h1>\n",
    "<p>Data derived from <a href=\"https://pubmed.ncbi.nlm.nih.gov/9817917/\" target=\"__blank\">Strom, et al. (1998) Diabetes insipidus, diabetes mellitus, optic atrophy and deafness (DIDMOAD) caused by mutations in a novel gene (wolframin) coding for a predicted transmembrane protein</a></p>"
   ]
  },
  {
   "cell_type": "code",
   "execution_count": 1,
   "id": "f0602c0e",
   "metadata": {},
   "outputs": [
    {
     "name": "stdout",
     "output_type": "stream",
     "text": [
      "Using pyphetools version 0.9.39\n"
     ]
    }
   ],
   "source": [
    "import pandas as pd\n",
    "pd.set_option('display.max_colwidth', None) # show entire column contents, important!\n",
    "from IPython.display import display, HTML\n",
    "from pyphetools.creation import *\n",
    "from pyphetools.visualization import *\n",
    "from pyphetools.validation import *\n",
    "import pyphetools\n",
    "print(f\"Using pyphetools version {pyphetools.__version__}\")"
   ]
  },
  {
   "cell_type": "markdown",
   "id": "8606e7eb",
   "metadata": {},
   "source": [
    "<h2>Importing HPO data</h2>"
   ]
  },
  {
   "cell_type": "code",
   "execution_count": 2,
   "id": "5a7789fc",
   "metadata": {},
   "outputs": [
    {
     "name": "stdout",
     "output_type": "stream",
     "text": [
      "HPO version 2024-01-16\n"
     ]
    }
   ],
   "source": [
    "PMID = \"PMID:9817917\"\n",
    "title = \"Diabetes insipidus, diabetes mellitus, optic atrophy and deafness (DIDMOAD) caused by mutations in a novel gene (wolframin) coding for a predicted transmembrane protein\"\n",
    "cite = Citation(pmid=PMID, title=title)\n",
    "parser = HpoParser(hpo_json_file=\"../hp.json\")\n",
    "hpo_cr = parser.get_hpo_concept_recognizer()\n",
    "hpo_version = parser.get_version()\n",
    "hpo_ontology = parser.get_ontology()\n",
    "metadata = MetaData(created_by=\"ORCID:0000-0002-5648-2155\", citation=cite)\n",
    "metadata.default_versions_with_hpo(version=hpo_version)\n",
    "print(f\"HPO version {hpo_version}\")"
   ]
  },
  {
   "cell_type": "markdown",
   "id": "5102722a",
   "metadata": {},
   "source": [
    "<h2>Importing the supplemental table</h2>"
   ]
  },
  {
   "cell_type": "code",
   "execution_count": 3,
   "id": "f17c3924",
   "metadata": {},
   "outputs": [],
   "source": [
    "df = pd.read_excel('input/PMID_9817917.xlsx')"
   ]
  },
  {
   "cell_type": "code",
   "execution_count": 4,
   "id": "06ec7dbd",
   "metadata": {},
   "outputs": [
    {
     "data": {
      "text/html": [
       "<div>\n",
       "<style scoped>\n",
       "    .dataframe tbody tr th:only-of-type {\n",
       "        vertical-align: middle;\n",
       "    }\n",
       "\n",
       "    .dataframe tbody tr th {\n",
       "        vertical-align: top;\n",
       "    }\n",
       "\n",
       "    .dataframe thead th {\n",
       "        text-align: right;\n",
       "    }\n",
       "</style>\n",
       "<table border=\"1\" class=\"dataframe\">\n",
       "  <thead>\n",
       "    <tr style=\"text-align: right;\">\n",
       "      <th></th>\n",
       "      <th>Family</th>\n",
       "      <th>Patient</th>\n",
       "      <th>Sex</th>\n",
       "      <th>Age</th>\n",
       "      <th>Diabetes mellitus</th>\n",
       "      <th>Progressive optic atrophy</th>\n",
       "      <th>Hearing impairment</th>\n",
       "      <th>Diabetes insipidus</th>\n",
       "      <th>Abnormality of the kidney</th>\n",
       "      <th>Neurological abnormalities</th>\n",
       "      <th>Other complications</th>\n",
       "      <th>Consangui</th>\n",
       "      <th>Variant</th>\n",
       "    </tr>\n",
       "  </thead>\n",
       "  <tbody>\n",
       "    <tr>\n",
       "      <th>0</th>\n",
       "      <td>1.0</td>\n",
       "      <td>5519</td>\n",
       "      <td>f</td>\n",
       "      <td>22.0</td>\n",
       "      <td>+</td>\n",
       "      <td>+</td>\n",
       "      <td>+</td>\n",
       "      <td>+</td>\n",
       "      <td>+</td>\n",
       "      <td>Ataxia, nystagmus</td>\n",
       "      <td>Retarded sexual maturation, depression</td>\n",
       "      <td>-</td>\n",
       "      <td>1380del9</td>\n",
       "    </tr>\n",
       "    <tr>\n",
       "      <th>1</th>\n",
       "      <td>1.0</td>\n",
       "      <td>13883</td>\n",
       "      <td>f</td>\n",
       "      <td>11.0</td>\n",
       "      <td>+</td>\n",
       "      <td>-</td>\n",
       "      <td>-</td>\n",
       "      <td>-</td>\n",
       "      <td>+</td>\n",
       "      <td>-</td>\n",
       "      <td>-</td>\n",
       "      <td>-</td>\n",
       "      <td>1380del9</td>\n",
       "    </tr>\n",
       "  </tbody>\n",
       "</table>\n",
       "</div>"
      ],
      "text/plain": [
       "   Family  Patient Sex   Age Diabetes mellitus Progressive optic atrophy  \\\n",
       "0     1.0     5519   f  22.0                 +                         +   \n",
       "1     1.0    13883   f  11.0                 +                         -   \n",
       "\n",
       "  Hearing impairment Diabetes insipidus Abnormality of the kidney  \\\n",
       "0                  +                  +                         +   \n",
       "1                  -                  -                         +   \n",
       "\n",
       "  Neurological abnormalities                     Other complications  \\\n",
       "0          Ataxia, nystagmus  Retarded sexual maturation, depression   \n",
       "1                          -                                       -   \n",
       "\n",
       "  Consangui   Variant  \n",
       "0         -  1380del9  \n",
       "1         -  1380del9  "
      ]
     },
     "execution_count": 4,
     "metadata": {},
     "output_type": "execute_result"
    }
   ],
   "source": [
    "df.head(2)"
   ]
  },
  {
   "cell_type": "markdown",
   "id": "e013666d",
   "metadata": {},
   "source": [
    "Some column names might include spaces in front or after, and a couple of columns are subheadings and only contain NaNs, so lets correct that. Furthermore, remove individuals without an age specified or a variant in this gene."
   ]
  },
  {
   "cell_type": "code",
   "execution_count": 5,
   "id": "5d604600",
   "metadata": {},
   "outputs": [
    {
     "data": {
      "text/html": [
       "<div>\n",
       "<style scoped>\n",
       "    .dataframe tbody tr th:only-of-type {\n",
       "        vertical-align: middle;\n",
       "    }\n",
       "\n",
       "    .dataframe tbody tr th {\n",
       "        vertical-align: top;\n",
       "    }\n",
       "\n",
       "    .dataframe thead th {\n",
       "        text-align: right;\n",
       "    }\n",
       "</style>\n",
       "<table border=\"1\" class=\"dataframe\">\n",
       "  <thead>\n",
       "    <tr style=\"text-align: right;\">\n",
       "      <th></th>\n",
       "      <th>Family</th>\n",
       "      <th>Patient</th>\n",
       "      <th>Sex</th>\n",
       "      <th>Age</th>\n",
       "      <th>Diabetes mellitus</th>\n",
       "      <th>Progressive optic atrophy</th>\n",
       "      <th>Hearing impairment</th>\n",
       "      <th>Diabetes insipidus</th>\n",
       "      <th>Abnormality of the kidney</th>\n",
       "      <th>Neurological abnormalities</th>\n",
       "      <th>Other complications</th>\n",
       "      <th>Consangui</th>\n",
       "      <th>Variant</th>\n",
       "      <th>patient_id</th>\n",
       "    </tr>\n",
       "  </thead>\n",
       "  <tbody>\n",
       "    <tr>\n",
       "      <th>0</th>\n",
       "      <td>1.0</td>\n",
       "      <td>5519</td>\n",
       "      <td>f</td>\n",
       "      <td>22.0</td>\n",
       "      <td>+</td>\n",
       "      <td>+</td>\n",
       "      <td>+</td>\n",
       "      <td>+</td>\n",
       "      <td>+</td>\n",
       "      <td>Ataxia, nystagmus</td>\n",
       "      <td>Retarded sexual maturation, depression</td>\n",
       "      <td>-</td>\n",
       "      <td>1380del9</td>\n",
       "      <td>5519</td>\n",
       "    </tr>\n",
       "    <tr>\n",
       "      <th>1</th>\n",
       "      <td>1.0</td>\n",
       "      <td>13883</td>\n",
       "      <td>f</td>\n",
       "      <td>11.0</td>\n",
       "      <td>+</td>\n",
       "      <td>-</td>\n",
       "      <td>-</td>\n",
       "      <td>-</td>\n",
       "      <td>+</td>\n",
       "      <td>-</td>\n",
       "      <td>-</td>\n",
       "      <td>-</td>\n",
       "      <td>1380del9</td>\n",
       "      <td>13883</td>\n",
       "    </tr>\n",
       "    <tr>\n",
       "      <th>2</th>\n",
       "      <td>2.0</td>\n",
       "      <td>13775</td>\n",
       "      <td>f</td>\n",
       "      <td>20.0</td>\n",
       "      <td>+</td>\n",
       "      <td>+</td>\n",
       "      <td>+</td>\n",
       "      <td>+</td>\n",
       "      <td>-</td>\n",
       "      <td>-</td>\n",
       "      <td>-</td>\n",
       "      <td>-</td>\n",
       "      <td>460+1G&gt;A</td>\n",
       "      <td>13775</td>\n",
       "    </tr>\n",
       "    <tr>\n",
       "      <th>3</th>\n",
       "      <td>2.0</td>\n",
       "      <td>13776</td>\n",
       "      <td>m</td>\n",
       "      <td>17.0</td>\n",
       "      <td>+</td>\n",
       "      <td>+</td>\n",
       "      <td>+</td>\n",
       "      <td>+</td>\n",
       "      <td>+</td>\n",
       "      <td>-</td>\n",
       "      <td>Retarded sexual maturation</td>\n",
       "      <td>-</td>\n",
       "      <td>460+1G&gt;A</td>\n",
       "      <td>13776</td>\n",
       "    </tr>\n",
       "    <tr>\n",
       "      <th>4</th>\n",
       "      <td>4.0</td>\n",
       "      <td>13070</td>\n",
       "      <td>f</td>\n",
       "      <td>22.0</td>\n",
       "      <td>+</td>\n",
       "      <td>+</td>\n",
       "      <td>+</td>\n",
       "      <td>-</td>\n",
       "      <td>+</td>\n",
       "      <td>Abnormal EEG</td>\n",
       "      <td>Psychiatric illness</td>\n",
       "      <td>-</td>\n",
       "      <td>599delT</td>\n",
       "      <td>13070</td>\n",
       "    </tr>\n",
       "  </tbody>\n",
       "</table>\n",
       "</div>"
      ],
      "text/plain": [
       "   Family  Patient Sex   Age Diabetes mellitus Progressive optic atrophy  \\\n",
       "0     1.0     5519   f  22.0                 +                         +   \n",
       "1     1.0    13883   f  11.0                 +                         -   \n",
       "2     2.0    13775   f  20.0                 +                         +   \n",
       "3     2.0    13776   m  17.0                 +                         +   \n",
       "4     4.0    13070   f  22.0                 +                         +   \n",
       "\n",
       "  Hearing impairment Diabetes insipidus Abnormality of the kidney  \\\n",
       "0                  +                  +                         +   \n",
       "1                  -                  -                         +   \n",
       "2                  +                  +                         -   \n",
       "3                  +                  +                         +   \n",
       "4                  +                  -                         +   \n",
       "\n",
       "  Neurological abnormalities                     Other complications  \\\n",
       "0          Ataxia, nystagmus  Retarded sexual maturation, depression   \n",
       "1                          -                                       -   \n",
       "2                          -                                       -   \n",
       "3                          -              Retarded sexual maturation   \n",
       "4               Abnormal EEG                     Psychiatric illness   \n",
       "\n",
       "  Consangui    Variant  patient_id  \n",
       "0         -   1380del9        5519  \n",
       "1         -   1380del9       13883  \n",
       "2         -   460+1G>A       13775  \n",
       "3         -   460+1G>A       13776  \n",
       "4         -    599delT       13070  "
      ]
     },
     "execution_count": 5,
     "metadata": {},
     "output_type": "execute_result"
    }
   ],
   "source": [
    "df.columns = df.columns.str.strip()\n",
    "df = df.dropna(axis=1, how='all')\n",
    "df['patient_id'] = df['Patient']\n",
    "df = df[~df['Age'].isna()]\n",
    "df = df[~df['Variant'].isna()]\n",
    "df.head()"
   ]
  },
  {
   "cell_type": "markdown",
   "id": "8314d6bd",
   "metadata": {},
   "source": [
    "<h2>Column mappers</h2>"
   ]
  },
  {
   "cell_type": "code",
   "execution_count": 6,
   "id": "59d9e9e8",
   "metadata": {},
   "outputs": [
    {
     "data": {
      "text/html": [
       "<table style=\"border: 2px solid black;\">\n",
       "\n",
       "<tr>\n",
       "            <th>Result</th>\n",
       "            <th>Columns</th>\n",
       "        </tr>\n",
       "        \n",
       "<tr><td>Mapped</td><td>Diabetes mellitus; Hearing impairment; Diabetes insipidus; Abnormality of the kidney</td></tr>\n",
       "<tr><td>Unmapped</td><td><q>Family</q>; <q>Patient</q>; <q>Sex</q>; <q>Age</q>; <q>Progressive optic atrophy</q>; <q>Neurological abnormalities</q>; <q>Other complications</q>; <q>Consangui</q>; <q>Variant</q>; <q>patient_id</q></td></tr>\n",
       "</table>\n"
      ],
      "text/plain": [
       "<IPython.core.display.HTML object>"
      ]
     },
     "metadata": {},
     "output_type": "display_data"
    }
   ],
   "source": [
    "generator = SimpleColumnMapperGenerator(df=df, observed='+', excluded='-', hpo_cr=hpo_cr)\n",
    "column_mapper_list = generator.try_mapping_columns()\n",
    "display(HTML(generator.to_html()))"
   ]
  },
  {
   "cell_type": "code",
   "execution_count": 7,
   "id": "6daa46a1",
   "metadata": {},
   "outputs": [
    {
     "data": {
      "text/html": [
       "<div>\n",
       "<style scoped>\n",
       "    .dataframe tbody tr th:only-of-type {\n",
       "        vertical-align: middle;\n",
       "    }\n",
       "\n",
       "    .dataframe tbody tr th {\n",
       "        vertical-align: top;\n",
       "    }\n",
       "\n",
       "    .dataframe thead th {\n",
       "        text-align: right;\n",
       "    }\n",
       "</style>\n",
       "<table border=\"1\" class=\"dataframe\">\n",
       "  <thead>\n",
       "    <tr style=\"text-align: right;\">\n",
       "      <th></th>\n",
       "      <th>mapping</th>\n",
       "      <th>count</th>\n",
       "    </tr>\n",
       "  </thead>\n",
       "  <tbody>\n",
       "    <tr>\n",
       "      <th>0</th>\n",
       "      <td>Ataxia (HP:0001251) (observed)</td>\n",
       "      <td>3</td>\n",
       "    </tr>\n",
       "    <tr>\n",
       "      <th>1</th>\n",
       "      <td>Nystagmus (HP:0000639) (observed)</td>\n",
       "      <td>2</td>\n",
       "    </tr>\n",
       "    <tr>\n",
       "      <th>2</th>\n",
       "      <td>EEG abnormality (HP:0002353) (observed)</td>\n",
       "      <td>2</td>\n",
       "    </tr>\n",
       "  </tbody>\n",
       "</table>\n",
       "</div>"
      ],
      "text/plain": [
       "                                   mapping count\n",
       "0           Ataxia (HP:0001251) (observed)     3\n",
       "1        Nystagmus (HP:0000639) (observed)     2\n",
       "2  EEG abnormality (HP:0002353) (observed)     2"
      ]
     },
     "execution_count": 7,
     "metadata": {},
     "output_type": "execute_result"
    }
   ],
   "source": [
    "neurological = {'Ataxia': 'Ataxia',\n",
    "                 'nystagmus': 'Nystagmus',\n",
    "               'Abnormal EEG': 'EEG abnormality'}\n",
    "neurologicalMapper = OptionColumnMapper(column_name='Neurological abnormalities',\n",
    "                                        concept_recognizer=hpo_cr, option_d=neurological)\n",
    "column_mapper_list.append(neurologicalMapper)\n",
    "neurologicalMapper.preview_column(df)"
   ]
  },
  {
   "cell_type": "code",
   "execution_count": 8,
   "id": "4497314a-8ba3-4cab-8ea8-de72d7fedb4b",
   "metadata": {},
   "outputs": [
    {
     "data": {
      "text/html": [
       "<div>\n",
       "<style scoped>\n",
       "    .dataframe tbody tr th:only-of-type {\n",
       "        vertical-align: middle;\n",
       "    }\n",
       "\n",
       "    .dataframe tbody tr th {\n",
       "        vertical-align: top;\n",
       "    }\n",
       "\n",
       "    .dataframe thead th {\n",
       "        text-align: right;\n",
       "    }\n",
       "</style>\n",
       "<table border=\"1\" class=\"dataframe\">\n",
       "  <thead>\n",
       "    <tr style=\"text-align: right;\">\n",
       "      <th></th>\n",
       "      <th>mapping</th>\n",
       "      <th>count</th>\n",
       "    </tr>\n",
       "  </thead>\n",
       "  <tbody>\n",
       "    <tr>\n",
       "      <th>0</th>\n",
       "      <td>Puberty and gonadal disorders (HP:0008373) (observed)</td>\n",
       "      <td>4</td>\n",
       "    </tr>\n",
       "    <tr>\n",
       "      <th>1</th>\n",
       "      <td>Depression (HP:0000716) (observed)</td>\n",
       "      <td>1</td>\n",
       "    </tr>\n",
       "    <tr>\n",
       "      <th>2</th>\n",
       "      <td>Atypical behavior (HP:0000708) (observed)</td>\n",
       "      <td>2</td>\n",
       "    </tr>\n",
       "    <tr>\n",
       "      <th>3</th>\n",
       "      <td>Cataract (HP:0000518) (observed)</td>\n",
       "      <td>2</td>\n",
       "    </tr>\n",
       "    <tr>\n",
       "      <th>4</th>\n",
       "      <td>Intellectual disability (HP:0001249) (observed)</td>\n",
       "      <td>1</td>\n",
       "    </tr>\n",
       "    <tr>\n",
       "      <th>5</th>\n",
       "      <td>Ragged-red muscle fibers (HP:0003200) (observed)</td>\n",
       "      <td>1</td>\n",
       "    </tr>\n",
       "  </tbody>\n",
       "</table>\n",
       "</div>"
      ],
      "text/plain": [
       "                                                 mapping count\n",
       "0  Puberty and gonadal disorders (HP:0008373) (observed)     4\n",
       "1                     Depression (HP:0000716) (observed)     1\n",
       "2              Atypical behavior (HP:0000708) (observed)     2\n",
       "3                       Cataract (HP:0000518) (observed)     2\n",
       "4        Intellectual disability (HP:0001249) (observed)     1\n",
       "5       Ragged-red muscle fibers (HP:0003200) (observed)     1"
      ]
     },
     "execution_count": 8,
     "metadata": {},
     "output_type": "execute_result"
    }
   ],
   "source": [
    "other = {'Retarded sexual maturation': 'Puberty and gonadal disorders',\n",
    "                 'depression': 'Depression',\n",
    "               'psychiatric illness': 'Atypical behavior',\n",
    "                'cataract' : 'Cataract', \n",
    "         'mental retardation': 'Intellectual disability',\n",
    "         'ragged red fibers': 'Ragged-red muscle fibers'\n",
    "        }\n",
    "otherMapper = OptionColumnMapper(column_name='Other complications',concept_recognizer=hpo_cr, option_d=other)\n",
    "column_mapper_list.append(otherMapper)\n",
    "otherMapper.preview_column(df)"
   ]
  },
  {
   "cell_type": "markdown",
   "id": "5e53617d",
   "metadata": {},
   "source": [
    "<h2>Variant Data</h2>\n",
    "<p>The variant data (HGVS< transcript) is listed in the Variant (hg19, NM_015133.4) column.</p>"
   ]
  },
  {
   "cell_type": "code",
   "execution_count": 9,
   "id": "da4d5706",
   "metadata": {},
   "outputs": [
    {
     "name": "stdout",
     "output_type": "stream",
     "text": [
      "['1380del9' ' 460+1G>A' ' 599delT' ' 1096C>T' '676C>T' '599delT' '1096C>T'\n",
      " '1558C>T']\n",
      "1380del9 - c.1385_1393del\n",
      "https://rest.variantvalidator.org/VariantValidator/variantvalidator/hg38/NM_006005.3%3Ac.1385_1393del/NM_006005.3?content-type=application%2Fjson\n",
      "1380del9: NM_006005.3:c.1385_1393del(chr4:6301174CCACCGAGGT>C)\n",
      " 460+1G>A - c. 460+1G>A\n",
      "https://rest.variantvalidator.org/VariantValidator/variantvalidator/hg38/NM_006005.3%3Ac. 460+1G>A/NM_006005.3?content-type=application%2Fjson\n",
      " 460+1G>A: NM_006005.3:c.460+1G>A(chr4:6289132G>A)\n",
      " 599delT - c. 599delT\n",
      "https://rest.variantvalidator.org/VariantValidator/variantvalidator/hg38/NM_006005.3%3Ac. 599delT/NM_006005.3?content-type=application%2Fjson\n",
      " 599delT: NM_006005.3:c.599del(chr4:6291334CT>C)\n",
      " 1096C>T - c. 1096C>T\n",
      "https://rest.variantvalidator.org/VariantValidator/variantvalidator/hg38/NM_006005.3%3Ac. 1096C>T/NM_006005.3?content-type=application%2Fjson\n",
      " 1096C>T: NM_006005.3:c.1096C>T(chr4:6300891C>T)\n",
      "676C>T - c.676C>T\n",
      "https://rest.variantvalidator.org/VariantValidator/variantvalidator/hg38/NM_006005.3%3Ac.676C>T/NM_006005.3?content-type=application%2Fjson\n",
      "676C>T: NM_006005.3:c.676C>T(chr4:6291961C>T)\n",
      "599delT - c.599delT\n",
      "https://rest.variantvalidator.org/VariantValidator/variantvalidator/hg38/NM_006005.3%3Ac.599delT/NM_006005.3?content-type=application%2Fjson\n",
      "599delT: NM_006005.3:c.599del(chr4:6291334CT>C)\n",
      "1096C>T - c.1096C>T\n",
      "https://rest.variantvalidator.org/VariantValidator/variantvalidator/hg38/NM_006005.3%3Ac.1096C>T/NM_006005.3?content-type=application%2Fjson\n",
      "1096C>T: NM_006005.3:c.1096C>T(chr4:6300891C>T)\n",
      "1558C>T - c.1558C>T\n",
      "https://rest.variantvalidator.org/VariantValidator/variantvalidator/hg38/NM_006005.3%3Ac.1558C>T/NM_006005.3?content-type=application%2Fjson\n",
      "1558C>T: NM_006005.3:c.1558C>T(chr4:6301353C>T)\n",
      "Extracted 8 unique variants\n"
     ]
    }
   ],
   "source": [
    "hg38 = 'hg38'\n",
    "default_genotype = 'heterozygous'\n",
    "WFS1_transcript='NM_006005.3'\n",
    "vvalidator = VariantValidator(genome_build=hg38, transcript=WFS1_transcript)\n",
    "variant_list = df['Variant'].unique()\n",
    "print(variant_list)\n",
    "variant_d = {}\n",
    "for v in variant_list:\n",
    "    if v == \"1380del9\":\n",
    "        hgvs = \"c.1385_1393del\"\n",
    "    else:\n",
    "        hgvs = f\"c.{v}\"\n",
    "    print(f\"{v} - {hgvs}\")\n",
    "    var = vvalidator.encode_hgvs(hgvs)\n",
    "    print(f\"{v}: {var}\")\n",
    "    variant_d[v] = var\n",
    "print(f\"Extracted {len(variant_d)} unique variants\")"
   ]
  },
  {
   "cell_type": "code",
   "execution_count": 10,
   "id": "928eeb81-5116-4cf9-972c-820347802a26",
   "metadata": {},
   "outputs": [],
   "source": [
    "varMapper = VariantColumnMapper(variant_d=variant_d,variant_column_name='Variant', default_genotype=default_genotype)"
   ]
  },
  {
   "cell_type": "markdown",
   "id": "d1af2052",
   "metadata": {},
   "source": [
    "<h1>Demographic data</h1>"
   ]
  },
  {
   "cell_type": "code",
   "execution_count": 11,
   "id": "3e64dc08",
   "metadata": {},
   "outputs": [],
   "source": [
    "ageMapper = AgeColumnMapper.by_year('Age')\n",
    "#ageMapper.preview_column(df['Age'])\n",
    "sexMapper = SexColumnMapper(male_symbol='m', female_symbol='f', column_name='Sex')\n",
    "#sexMapper.preview_column(df['Sex'])"
   ]
  },
  {
   "cell_type": "code",
   "execution_count": 13,
   "id": "f6581a8a",
   "metadata": {},
   "outputs": [],
   "source": [
    "encoder = CohortEncoder(df=df, \n",
    "                        hpo_cr=hpo_cr, \n",
    "                        column_mapper_list=column_mapper_list, \n",
    "                        individual_column_name=\"patient_id\", \n",
    "                        agemapper=ageMapper, \n",
    "                        sexmapper=sexMapper,\n",
    "                        variant_mapper=varMapper, \n",
    "                        metadata=metadata)\n",
    "wolfram1 = Disease(disease_id='OMIM:222300', disease_label='Wolfram syndrome 1')\n",
    "encoder.set_disease(wolfram1)"
   ]
  },
  {
   "cell_type": "code",
   "execution_count": 14,
   "id": "fd367ed6",
   "metadata": {},
   "outputs": [
    {
     "data": {
      "text/html": [
       "<h2>Cohort validation</h2>\n",
       "<p>No errors found for the cohort with 10 individuals</p>"
      ],
      "text/plain": [
       "<IPython.core.display.HTML object>"
      ]
     },
     "metadata": {},
     "output_type": "display_data"
    }
   ],
   "source": [
    "individuals = encoder.get_individuals()\n",
    "cvalidator = CohortValidator(cohort=individuals, ontology=hpo_ontology, min_hpo=1, allelic_requirement=AllelicRequirement.MONO_ALLELIC)\n",
    "qc = QcVisualizer(cohort_validator=cvalidator)\n",
    "display(HTML(qc.to_summary_html()))"
   ]
  },
  {
   "cell_type": "code",
   "execution_count": 15,
   "id": "5d044b78",
   "metadata": {},
   "outputs": [
    {
     "data": {
      "text/html": [
       "<table style=\"border: 2px solid black; align: \"left\">\n",
       "<caption>10 phenopackets - PMID:9817917 (n=10)</caption>\n",
       "<tr><th style=\"text-align: left;font-weight: bold;\">Individual</th><th style=\"text-align: left;font-weight: bold;\">Disease</th><th style=\"text-align: left;font-weight: bold;\">Genotype</th><th style=\"text-align: left;font-weight: bold;\">Phenotypic features</th></tr>\n",
       "<tr><td style=\"text-align: left;\">5519 (FEMALE; P22Y0M)</td><td style=\"text-align: left;\">Wolfram syndrome 1 (OMIM:222300)</td><td style=\"text-align: left;\">NM_006005.3:c.1385_1393del (heterozygous)</td><td style=\"text-align: left;\">Diabetes mellitus (HP:0000819); Hearing impairment (HP:0000365); Diabetes insipidus (HP:0000873); Abnormality of the kidney (HP:0000077); Ataxia (HP:0001251); Nystagmus (HP:0000639); Puberty and gonadal disorders (HP:0008373); Depression (HP:0000716)</td></tr>\n",
       "<tr><td style=\"text-align: left;\">13883 (FEMALE; P11Y0M)</td><td style=\"text-align: left;\">Wolfram syndrome 1 (OMIM:222300)</td><td style=\"text-align: left;\">NM_006005.3:c.1385_1393del (heterozygous)</td><td style=\"text-align: left;\">Diabetes mellitus (HP:0000819); Abnormality of the kidney (HP:0000077); excluded: Hearing impairment (HP:0000365); excluded: Diabetes insipidus (HP:0000873)</td></tr>\n",
       "<tr><td style=\"text-align: left;\">13775 (FEMALE; P20Y0M)</td><td style=\"text-align: left;\">Wolfram syndrome 1 (OMIM:222300)</td><td style=\"text-align: left;\">NM_006005.3:c.460+1G>A (heterozygous)</td><td style=\"text-align: left;\">Diabetes mellitus (HP:0000819); Hearing impairment (HP:0000365); Diabetes insipidus (HP:0000873); excluded: Abnormality of the kidney (HP:0000077)</td></tr>\n",
       "<tr><td style=\"text-align: left;\">13776 (MALE; P17Y0M)</td><td style=\"text-align: left;\">Wolfram syndrome 1 (OMIM:222300)</td><td style=\"text-align: left;\">NM_006005.3:c.460+1G>A (heterozygous)</td><td style=\"text-align: left;\">Diabetes mellitus (HP:0000819); Hearing impairment (HP:0000365); Diabetes insipidus (HP:0000873); Abnormality of the kidney (HP:0000077); Puberty and gonadal disorders (HP:0008373)</td></tr>\n",
       "<tr><td style=\"text-align: left;\">13070 (FEMALE; P22Y0M)</td><td style=\"text-align: left;\">Wolfram syndrome 1 (OMIM:222300)</td><td style=\"text-align: left;\">NM_006005.3:c.599del (heterozygous)</td><td style=\"text-align: left;\">Diabetes mellitus (HP:0000819); Hearing impairment (HP:0000365); Abnormality of the kidney (HP:0000077); EEG abnormality (HP:0002353); Atypical behavior (HP:0000708); excluded: Diabetes insipidus (HP:0000873)</td></tr>\n",
       "<tr><td style=\"text-align: left;\">13885 (FEMALE; P35Y0M)</td><td style=\"text-align: left;\">Wolfram syndrome 1 (OMIM:222300)</td><td style=\"text-align: left;\">NM_006005.3:c.1096C>T (heterozygous)</td><td style=\"text-align: left;\">Diabetes mellitus (HP:0000819); Hearing impairment (HP:0000365); Abnormality of the kidney (HP:0000077); Cataract (HP:0000518); excluded: Diabetes insipidus (HP:0000873)</td></tr>\n",
       "<tr><td style=\"text-align: left;\">13062 (FEMALE; P25Y0M)</td><td style=\"text-align: left;\">Wolfram syndrome 1 (OMIM:222300)</td><td style=\"text-align: left;\">NM_006005.3:c.676C>T (heterozygous)</td><td style=\"text-align: left;\">Diabetes mellitus (HP:0000819); Hearing impairment (HP:0000365); Diabetes insipidus (HP:0000873); Abnormality of the kidney (HP:0000077); Ataxia (HP:0001251); Nystagmus (HP:0000639)</td></tr>\n",
       "<tr><td style=\"text-align: left;\">13076 (MALE; P26Y0M)</td><td style=\"text-align: left;\">Wolfram syndrome 1 (OMIM:222300)</td><td style=\"text-align: left;\">NM_006005.3:c.599del (heterozygous)</td><td style=\"text-align: left;\">Diabetes mellitus (HP:0000819); Hearing impairment (HP:0000365); Diabetes insipidus (HP:0000873); Puberty and gonadal disorders (HP:0008373); Intellectual disability (HP:0001249); excluded: Abnormality of the kidney (HP:0000077)</td></tr>\n",
       "<tr><td style=\"text-align: left;\">13073 (FEMALE; P35Y0M)</td><td style=\"text-align: left;\">Wolfram syndrome 1 (OMIM:222300)</td><td style=\"text-align: left;\">NM_006005.3:c.1096C>T (heterozygous)</td><td style=\"text-align: left;\">Diabetes mellitus (HP:0000819); Hearing impairment (HP:0000365); Abnormality of the kidney (HP:0000077); Ataxia (HP:0001251); Cataract (HP:0000518); Atypical behavior (HP:0000708); Ragged-red muscle fibers (HP:0003200); excluded: Diabetes insipidus (HP:0000873)</td></tr>\n",
       "<tr><td style=\"text-align: left;\">13781 (MALE; P19Y0M)</td><td style=\"text-align: left;\">Wolfram syndrome 1 (OMIM:222300)</td><td style=\"text-align: left;\">NM_006005.3:c.1558C>T (heterozygous)</td><td style=\"text-align: left;\">Diabetes mellitus (HP:0000819); Hearing impairment (HP:0000365); Diabetes insipidus (HP:0000873); Abnormality of the kidney (HP:0000077); EEG abnormality (HP:0002353); Puberty and gonadal disorders (HP:0008373)</td></tr>\n",
       "</table>"
      ],
      "text/plain": [
       "<IPython.core.display.HTML object>"
      ]
     },
     "metadata": {},
     "output_type": "display_data"
    }
   ],
   "source": [
    "individuals = cvalidator.get_error_free_individual_list()\n",
    "table = PhenopacketTable(individual_list=individuals, metadata=metadata)\n",
    "display(HTML(table.to_html()))"
   ]
  },
  {
   "cell_type": "code",
   "execution_count": 16,
   "id": "23f1094f",
   "metadata": {},
   "outputs": [
    {
     "name": "stdout",
     "output_type": "stream",
     "text": [
      "We output 10 GA4GH phenopackets to the directory phenopackets\n"
     ]
    }
   ],
   "source": [
    "output_directory = \"phenopackets\"\n",
    "Individual.output_individuals_as_phenopackets(individual_list=individuals,\n",
    "                                             metadata=metadata,\n",
    "                                             outdir=output_directory)"
   ]
  },
  {
   "cell_type": "code",
   "execution_count": null,
   "id": "20cce252-6f66-4f14-9d9c-b3f96046f969",
   "metadata": {},
   "outputs": [],
   "source": []
  }
 ],
 "metadata": {
  "kernelspec": {
   "display_name": "Python 3 (ipykernel)",
   "language": "python",
   "name": "python3"
  },
  "language_info": {
   "codemirror_mode": {
    "name": "ipython",
    "version": 3
   },
   "file_extension": ".py",
   "mimetype": "text/x-python",
   "name": "python",
   "nbconvert_exporter": "python",
   "pygments_lexer": "ipython3",
   "version": "3.8.10"
  }
 },
 "nbformat": 4,
 "nbformat_minor": 5
}
