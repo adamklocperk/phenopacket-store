{
 "cells": [
  {
   "cell_type": "markdown",
   "id": "a39f3c65",
   "metadata": {},
   "source": [
    "<h1>WFS1: Hildebrand, et al. (2008)</h1>\n",
    "<p>We will process <a href=\"https://pubmed.ncbi.nlm.nih.gov/18688868/\" target=\"__blank\">Hildebrand, et al. (2008) Autoimmune Disease in a DFNA6/14/38 Family Carrying a Novel Missense Mutation in WFS1</a></p>"
   ]
  },
  {
   "cell_type": "code",
   "execution_count": 1,
   "id": "f0602c0e",
   "metadata": {},
   "outputs": [
    {
     "name": "stdout",
     "output_type": "stream",
     "text": [
      "Using pyphetools version 0.8.30\n"
     ]
    }
   ],
   "source": [
    "import pandas as pd\n",
    "pd.set_option('display.max_colwidth', None) # show entire column contents, important!\n",
    "from IPython.display import display, HTML\n",
    "from pyphetools.creation import *\n",
    "from pyphetools.visualization import *\n",
    "from pyphetools.validation import *\n",
    "import pyphetools\n",
    "print(f\"Using pyphetools version {pyphetools.__version__}\")"
   ]
  },
  {
   "cell_type": "markdown",
   "id": "8606e7eb",
   "metadata": {},
   "source": [
    "<h2>Importing HPO data</h2>"
   ]
  },
  {
   "cell_type": "code",
   "execution_count": 2,
   "id": "5a7789fc",
   "metadata": {},
   "outputs": [
    {
     "name": "stdout",
     "output_type": "stream",
     "text": [
      "HPO version 2023-10-09\n"
     ]
    }
   ],
   "source": [
    "parser = HpoParser()\n",
    "hpo_cr = parser.get_hpo_concept_recognizer()\n",
    "hpo_version = parser.get_version()\n",
    "hpo_ontology = parser.get_ontology()\n",
    "PMID = \"PMID:18688868\"\n",
    "title = \"Autoimmune disease in a DFNA6/14/38 family carrying a novel missense mutation in WFS1\"\n",
    "metadata = MetaData(created_by=\"ORCID:0000-0002-5648-2155\", pmid=PMID, pubmed_title=title)\n",
    "metadata.default_versions_with_hpo(version=hpo_version)\n",
    "print(f\"HPO version {hpo_version}\")"
   ]
  },
  {
   "cell_type": "markdown",
   "id": "5102722a",
   "metadata": {},
   "source": [
    "<h2>Importing the supplemental table</h2>\n",
    "<p>Here, we use the pandas library to import this file (note that the Python package called openpyxl must be installed to read Excel files with pandas, although the library does not need to be imported in this notebook). pyphetools expects a pandas DataFrame as input, and users can choose any input format available for pandas include CSV, TSV, and Excel, or can use any other method to transform their input data into a Pandas DataFrame before using pyphetools.</p>"
   ]
  },
  {
   "cell_type": "code",
   "execution_count": 3,
   "id": "f17c3924",
   "metadata": {},
   "outputs": [],
   "source": [
    "df = pd.read_excel('input/PMID_18688868.xlsx')"
   ]
  },
  {
   "cell_type": "code",
   "execution_count": 4,
   "id": "06ec7dbd",
   "metadata": {},
   "outputs": [
    {
     "data": {
      "text/html": [
       "<div>\n",
       "<style scoped>\n",
       "    .dataframe tbody tr th:only-of-type {\n",
       "        vertical-align: middle;\n",
       "    }\n",
       "\n",
       "    .dataframe tbody tr th {\n",
       "        vertical-align: top;\n",
       "    }\n",
       "\n",
       "    .dataframe thead th {\n",
       "        text-align: right;\n",
       "    }\n",
       "</style>\n",
       "<table border=\"1\" class=\"dataframe\">\n",
       "  <thead>\n",
       "    <tr style=\"text-align: right;\">\n",
       "      <th></th>\n",
       "      <th>patient_id</th>\n",
       "      <th>II:2</th>\n",
       "      <th>III:1</th>\n",
       "      <th>III:3</th>\n",
       "      <th>IV:2</th>\n",
       "      <th>IV:4</th>\n",
       "      <th>V:2</th>\n",
       "    </tr>\n",
       "  </thead>\n",
       "  <tbody>\n",
       "    <tr>\n",
       "      <th>0</th>\n",
       "      <td>Sex</td>\n",
       "      <td>female</td>\n",
       "      <td>female</td>\n",
       "      <td>female</td>\n",
       "      <td>female</td>\n",
       "      <td>female</td>\n",
       "      <td>male</td>\n",
       "    </tr>\n",
       "    <tr>\n",
       "      <th>1</th>\n",
       "      <td>Age</td>\n",
       "      <td>97</td>\n",
       "      <td>55</td>\n",
       "      <td>69</td>\n",
       "      <td>38</td>\n",
       "      <td>43</td>\n",
       "      <td>17</td>\n",
       "    </tr>\n",
       "    <tr>\n",
       "      <th>2</th>\n",
       "      <td>Variant</td>\n",
       "      <td>c.2576G&gt;A</td>\n",
       "      <td>c.2576G&gt;A</td>\n",
       "      <td>c.2576G&gt;A</td>\n",
       "      <td>c.2576G&gt;A</td>\n",
       "      <td>c.2576G&gt;A</td>\n",
       "      <td>c.2576G&gt;A</td>\n",
       "    </tr>\n",
       "    <tr>\n",
       "      <th>3</th>\n",
       "      <td>Low-frequency sensorineural hearing impairment</td>\n",
       "      <td>+</td>\n",
       "      <td>+</td>\n",
       "      <td>+</td>\n",
       "      <td>+</td>\n",
       "      <td>+</td>\n",
       "      <td>+</td>\n",
       "    </tr>\n",
       "    <tr>\n",
       "      <th>4</th>\n",
       "      <td>Progressive sensorineural hearing impairment</td>\n",
       "      <td>+</td>\n",
       "      <td>+</td>\n",
       "      <td>+</td>\n",
       "      <td>+</td>\n",
       "      <td>+</td>\n",
       "      <td>+</td>\n",
       "    </tr>\n",
       "    <tr>\n",
       "      <th>5</th>\n",
       "      <td>Graves disease</td>\n",
       "      <td>-</td>\n",
       "      <td>+</td>\n",
       "      <td>-</td>\n",
       "      <td>-</td>\n",
       "      <td>-</td>\n",
       "      <td>-</td>\n",
       "    </tr>\n",
       "    <tr>\n",
       "      <th>6</th>\n",
       "      <td>Crohn's disease</td>\n",
       "      <td>-</td>\n",
       "      <td>-</td>\n",
       "      <td>-</td>\n",
       "      <td>+</td>\n",
       "      <td>-</td>\n",
       "      <td>-</td>\n",
       "    </tr>\n",
       "  </tbody>\n",
       "</table>\n",
       "</div>"
      ],
      "text/plain": [
       "                                       patient_id       II:2      III:1  \\\n",
       "0                                             Sex     female     female   \n",
       "1                                             Age         97         55   \n",
       "2                                         Variant  c.2576G>A  c.2576G>A   \n",
       "3  Low-frequency sensorineural hearing impairment          +          +   \n",
       "4    Progressive sensorineural hearing impairment          +          +   \n",
       "5                                  Graves disease          -          +   \n",
       "6                                 Crohn's disease          -          -   \n",
       "\n",
       "       III:3       IV:2       IV:4        V:2  \n",
       "0     female     female     female       male  \n",
       "1         69         38         43         17  \n",
       "2  c.2576G>A  c.2576G>A  c.2576G>A  c.2576G>A  \n",
       "3          +          +          +          +  \n",
       "4          +          +          +          +  \n",
       "5          -          -          -          -  \n",
       "6          -          +          -          -  "
      ]
     },
     "execution_count": 4,
     "metadata": {},
     "output_type": "execute_result"
    }
   ],
   "source": [
    "df"
   ]
  },
  {
   "cell_type": "markdown",
   "id": "f7f7bad9",
   "metadata": {},
   "source": [
    "<h1>Converting to row-based format</h1>\n",
    "<p>For this specific case, there is a Count features row that we want dropped, so we filter out any row that does not have Patient in the first column.</p>"
   ]
  },
  {
   "cell_type": "code",
   "execution_count": 5,
   "id": "c85c793f",
   "metadata": {},
   "outputs": [
    {
     "data": {
      "text/html": [
       "<div>\n",
       "<style scoped>\n",
       "    .dataframe tbody tr th:only-of-type {\n",
       "        vertical-align: middle;\n",
       "    }\n",
       "\n",
       "    .dataframe tbody tr th {\n",
       "        vertical-align: top;\n",
       "    }\n",
       "\n",
       "    .dataframe thead th {\n",
       "        text-align: right;\n",
       "    }\n",
       "</style>\n",
       "<table border=\"1\" class=\"dataframe\">\n",
       "  <thead>\n",
       "    <tr style=\"text-align: right;\">\n",
       "      <th>patient_id</th>\n",
       "      <th>Sex</th>\n",
       "      <th>Age</th>\n",
       "      <th>Variant</th>\n",
       "      <th>Low-frequency sensorineural hearing impairment</th>\n",
       "      <th>Progressive sensorineural hearing impairment</th>\n",
       "      <th>Graves disease</th>\n",
       "      <th>Crohn's disease</th>\n",
       "    </tr>\n",
       "  </thead>\n",
       "  <tbody>\n",
       "    <tr>\n",
       "      <th>II:2</th>\n",
       "      <td>female</td>\n",
       "      <td>97</td>\n",
       "      <td>c.2576G&gt;A</td>\n",
       "      <td>+</td>\n",
       "      <td>+</td>\n",
       "      <td>-</td>\n",
       "      <td>-</td>\n",
       "    </tr>\n",
       "    <tr>\n",
       "      <th>III:1</th>\n",
       "      <td>female</td>\n",
       "      <td>55</td>\n",
       "      <td>c.2576G&gt;A</td>\n",
       "      <td>+</td>\n",
       "      <td>+</td>\n",
       "      <td>+</td>\n",
       "      <td>-</td>\n",
       "    </tr>\n",
       "    <tr>\n",
       "      <th>III:3</th>\n",
       "      <td>female</td>\n",
       "      <td>69</td>\n",
       "      <td>c.2576G&gt;A</td>\n",
       "      <td>+</td>\n",
       "      <td>+</td>\n",
       "      <td>-</td>\n",
       "      <td>-</td>\n",
       "    </tr>\n",
       "    <tr>\n",
       "      <th>IV:2</th>\n",
       "      <td>female</td>\n",
       "      <td>38</td>\n",
       "      <td>c.2576G&gt;A</td>\n",
       "      <td>+</td>\n",
       "      <td>+</td>\n",
       "      <td>-</td>\n",
       "      <td>+</td>\n",
       "    </tr>\n",
       "    <tr>\n",
       "      <th>IV:4</th>\n",
       "      <td>female</td>\n",
       "      <td>43</td>\n",
       "      <td>c.2576G&gt;A</td>\n",
       "      <td>+</td>\n",
       "      <td>+</td>\n",
       "      <td>-</td>\n",
       "      <td>-</td>\n",
       "    </tr>\n",
       "  </tbody>\n",
       "</table>\n",
       "</div>"
      ],
      "text/plain": [
       "patient_id     Sex Age    Variant  \\\n",
       "II:2        female  97  c.2576G>A   \n",
       "III:1       female  55  c.2576G>A   \n",
       "III:3       female  69  c.2576G>A   \n",
       "IV:2        female  38  c.2576G>A   \n",
       "IV:4        female  43  c.2576G>A   \n",
       "\n",
       "patient_id Low-frequency sensorineural hearing impairment  \\\n",
       "II:2                                                    +   \n",
       "III:1                                                   +   \n",
       "III:3                                                   +   \n",
       "IV:2                                                    +   \n",
       "IV:4                                                    +   \n",
       "\n",
       "patient_id Progressive sensorineural hearing impairment Graves disease  \\\n",
       "II:2                                                  +              -   \n",
       "III:1                                                 +              +   \n",
       "III:3                                                 +              -   \n",
       "IV:2                                                  +              -   \n",
       "IV:4                                                  +              -   \n",
       "\n",
       "patient_id Crohn's disease  \n",
       "II:2                     -  \n",
       "III:1                    -  \n",
       "III:3                    -  \n",
       "IV:2                     +  \n",
       "IV:4                     -  "
      ]
     },
     "execution_count": 5,
     "metadata": {},
     "output_type": "execute_result"
    }
   ],
   "source": [
    "dft = df.transpose()\n",
    "dft.columns = dft.iloc[0]\n",
    "dft.drop(dft.index[0], inplace=True)\n",
    "dft.head()"
   ]
  },
  {
   "cell_type": "markdown",
   "id": "e013666d",
   "metadata": {},
   "source": [
    "Some column names might include spaces in front or after, and a couple of columns are subheadings and only contain NaNs, so lets correct that:"
   ]
  },
  {
   "cell_type": "code",
   "execution_count": 6,
   "id": "5d604600",
   "metadata": {},
   "outputs": [],
   "source": [
    "dft.columns = dft.columns.str.strip()\n",
    "dft = dft.dropna(axis=1, how='all')\n",
    "dft['patient_id'] = dft.index"
   ]
  },
  {
   "cell_type": "markdown",
   "id": "8314d6bd",
   "metadata": {},
   "source": [
    "<h2>Column mappers</h2>\n",
    "<p>Please see the notebook \"Create phenopackets from tabular data with individuals in rows\" for explanations. In the following cell we create a dictionary for the ColumnMappers. Note that the code is identical except that we use the df.loc function to get the corresponding row data</p>"
   ]
  },
  {
   "cell_type": "code",
   "execution_count": 7,
   "id": "59d9e9e8",
   "metadata": {},
   "outputs": [],
   "source": [
    "generator = SimpleColumnMapperGenerator(df=dft, observed='+', excluded='-', hpo_cr=hpo_cr)\n",
    "column_mapper_d = generator.try_mapping_columns()"
   ]
  },
  {
   "cell_type": "code",
   "execution_count": 8,
   "id": "122946b0",
   "metadata": {},
   "outputs": [
    {
     "data": {
      "text/html": [
       "<table style=\"border: 2px solid black;\">\n",
       "\n",
       "<tr>\n",
       "            <th>Result</th>\n",
       "            <th>Columns</th>\n",
       "        </tr>\n",
       "      \n",
       "<tr><td>Mapped</td><td>Low-frequency sensorineural hearing impairment; Progressive sensorineural hearing impairment; Graves disease; Crohn's disease</td></tr>\n",
       "<tr><td>Unmapped</td><td><q>Sex</q>; <q>Age</q>; <q>Variant</q>; <q>patient_id</q></td></tr>\n",
       "</table>\n"
      ],
      "text/plain": [
       "<IPython.core.display.HTML object>"
      ]
     },
     "metadata": {},
     "output_type": "display_data"
    }
   ],
   "source": [
    "from IPython.display import HTML, display\n",
    "display(HTML(generator.to_html()))"
   ]
  },
  {
   "cell_type": "markdown",
   "id": "5e53617d",
   "metadata": {},
   "source": [
    "<h2>Variant Data</h2>\n",
    "<p>The variant data (HGVS transcript) is listed in the Variant (hg19, NM_015133.4) column.</p>"
   ]
  },
  {
   "cell_type": "code",
   "execution_count": 9,
   "id": "da4d5706",
   "metadata": {},
   "outputs": [
    {
     "name": "stdout",
     "output_type": "stream",
     "text": [
      "https://rest.variantvalidator.org/VariantValidator/variantvalidator/hg38/NM_006005.3%3Ac.2576G>A/NM_006005.3?content-type=application%2Fjson\n",
      "chr4:6302371G>A\n"
     ]
    }
   ],
   "source": [
    "genome = 'hg38'\n",
    "default_genotype = 'heterozygous'\n",
    "WFS1_transcript='NM_006005.3'\n",
    "var_list = dft['Variant'].unique()\n",
    "vvalidator = VariantValidator(genome_build=genome, transcript=WFS1_transcript)\n",
    "variant_d = {}\n",
    "for v in var_list:\n",
    "    var = vvalidator.encode_hgvs(v)\n",
    "    variant_d[v] = var\n",
    "    print(var)"
   ]
  },
  {
   "cell_type": "code",
   "execution_count": 10,
   "id": "23a2aefc-9ec9-4517-b7cb-bd117c6a9b5a",
   "metadata": {},
   "outputs": [],
   "source": [
    "varMapper = VariantColumnMapper(variant_d=variant_d, variant_column_name='Variant', default_genotype=default_genotype)"
   ]
  },
  {
   "cell_type": "markdown",
   "id": "d1af2052",
   "metadata": {},
   "source": [
    "<h1>Demographic data</h1>\n",
    "<p>pyphetools can be used to capture information about age, sex, and individual identifiers. This information is stored in a map of \"IndividualMapper\" objects. Special treatment may be required for the indifiers, which may be used as the column names or row index.</p>"
   ]
  },
  {
   "cell_type": "code",
   "execution_count": 11,
   "id": "3e64dc08",
   "metadata": {},
   "outputs": [
    {
     "data": {
      "text/html": [
       "<div>\n",
       "<style scoped>\n",
       "    .dataframe tbody tr th:only-of-type {\n",
       "        vertical-align: middle;\n",
       "    }\n",
       "\n",
       "    .dataframe tbody tr th {\n",
       "        vertical-align: top;\n",
       "    }\n",
       "\n",
       "    .dataframe thead th {\n",
       "        text-align: right;\n",
       "    }\n",
       "</style>\n",
       "<table border=\"1\" class=\"dataframe\">\n",
       "  <thead>\n",
       "    <tr style=\"text-align: right;\">\n",
       "      <th></th>\n",
       "      <th>original column contents</th>\n",
       "      <th>age</th>\n",
       "    </tr>\n",
       "  </thead>\n",
       "  <tbody>\n",
       "    <tr>\n",
       "      <th>0</th>\n",
       "      <td>97</td>\n",
       "      <td>P97Y</td>\n",
       "    </tr>\n",
       "    <tr>\n",
       "      <th>1</th>\n",
       "      <td>55</td>\n",
       "      <td>P55Y</td>\n",
       "    </tr>\n",
       "    <tr>\n",
       "      <th>2</th>\n",
       "      <td>69</td>\n",
       "      <td>P69Y</td>\n",
       "    </tr>\n",
       "    <tr>\n",
       "      <th>3</th>\n",
       "      <td>38</td>\n",
       "      <td>P38Y</td>\n",
       "    </tr>\n",
       "    <tr>\n",
       "      <th>4</th>\n",
       "      <td>43</td>\n",
       "      <td>P43Y</td>\n",
       "    </tr>\n",
       "    <tr>\n",
       "      <th>5</th>\n",
       "      <td>17</td>\n",
       "      <td>P17Y</td>\n",
       "    </tr>\n",
       "  </tbody>\n",
       "</table>\n",
       "</div>"
      ],
      "text/plain": [
       "   original column contents   age\n",
       "0                        97  P97Y\n",
       "1                        55  P55Y\n",
       "2                        69  P69Y\n",
       "3                        38  P38Y\n",
       "4                        43  P43Y\n",
       "5                        17  P17Y"
      ]
     },
     "execution_count": 11,
     "metadata": {},
     "output_type": "execute_result"
    }
   ],
   "source": [
    "ageMapper = AgeColumnMapper.by_year('Age')\n",
    "ageMapper.preview_column(dft['Age'])"
   ]
  },
  {
   "cell_type": "code",
   "execution_count": 12,
   "id": "71f664cc",
   "metadata": {},
   "outputs": [
    {
     "data": {
      "text/html": [
       "<div>\n",
       "<style scoped>\n",
       "    .dataframe tbody tr th:only-of-type {\n",
       "        vertical-align: middle;\n",
       "    }\n",
       "\n",
       "    .dataframe tbody tr th {\n",
       "        vertical-align: top;\n",
       "    }\n",
       "\n",
       "    .dataframe thead th {\n",
       "        text-align: right;\n",
       "    }\n",
       "</style>\n",
       "<table border=\"1\" class=\"dataframe\">\n",
       "  <thead>\n",
       "    <tr style=\"text-align: right;\">\n",
       "      <th></th>\n",
       "      <th>original column contents</th>\n",
       "      <th>sex</th>\n",
       "    </tr>\n",
       "  </thead>\n",
       "  <tbody>\n",
       "    <tr>\n",
       "      <th>0</th>\n",
       "      <td>female</td>\n",
       "      <td>FEMALE</td>\n",
       "    </tr>\n",
       "    <tr>\n",
       "      <th>1</th>\n",
       "      <td>female</td>\n",
       "      <td>FEMALE</td>\n",
       "    </tr>\n",
       "    <tr>\n",
       "      <th>2</th>\n",
       "      <td>female</td>\n",
       "      <td>FEMALE</td>\n",
       "    </tr>\n",
       "    <tr>\n",
       "      <th>3</th>\n",
       "      <td>female</td>\n",
       "      <td>FEMALE</td>\n",
       "    </tr>\n",
       "    <tr>\n",
       "      <th>4</th>\n",
       "      <td>female</td>\n",
       "      <td>FEMALE</td>\n",
       "    </tr>\n",
       "    <tr>\n",
       "      <th>5</th>\n",
       "      <td>male</td>\n",
       "      <td>MALE</td>\n",
       "    </tr>\n",
       "  </tbody>\n",
       "</table>\n",
       "</div>"
      ],
      "text/plain": [
       "  original column contents     sex\n",
       "0                   female  FEMALE\n",
       "1                   female  FEMALE\n",
       "2                   female  FEMALE\n",
       "3                   female  FEMALE\n",
       "4                   female  FEMALE\n",
       "5                     male    MALE"
      ]
     },
     "execution_count": 12,
     "metadata": {},
     "output_type": "execute_result"
    }
   ],
   "source": [
    "sexMapper = SexColumnMapper(male_symbol='male', female_symbol='female', column_name='Sex')\n",
    "sexMapper.preview_column(dft['Sex'])"
   ]
  },
  {
   "cell_type": "code",
   "execution_count": 14,
   "id": "f6581a8a",
   "metadata": {},
   "outputs": [],
   "source": [
    "encoder = CohortEncoder(df=dft, \n",
    "                        hpo_cr=hpo_cr, \n",
    "                        column_mapper_d=column_mapper_d, \n",
    "                        individual_column_name=\"patient_id\", \n",
    "                        agemapper=ageMapper, \n",
    "                        sexmapper=sexMapper,\n",
    "                        variant_mapper=varMapper, \n",
    "                        metadata=metadata,\n",
    "                        pmid=PMID)\n",
    "deafness_as6 = Disease(disease_id='OMIM:600965', disease_label='Deafness, autosomal dominant 6')\n",
    "encoder.set_disease(deafness_as6)"
   ]
  },
  {
   "cell_type": "code",
   "execution_count": 15,
   "id": "fd367ed6",
   "metadata": {},
   "outputs": [
    {
     "data": {
      "text/html": [
       "<h2>Cohort validation</h2>\n",
       "<p>No errors found for the cohort with 6 individuals</p>"
      ],
      "text/plain": [
       "<IPython.core.display.HTML object>"
      ]
     },
     "metadata": {},
     "output_type": "display_data"
    }
   ],
   "source": [
    "individuals = encoder.get_individuals()\n",
    "cvalidator = CohortValidator(cohort=individuals, ontology=hpo_ontology, min_hpo=1, allelic_requirement=AllelicRequirement.MONO_ALLELIC)\n",
    "qc = QcVisualizer(ontology=hpo_ontology, cohort_validator=cvalidator)\n",
    "display(HTML(qc.to_summary_html()))"
   ]
  },
  {
   "cell_type": "code",
   "execution_count": 16,
   "id": "5d044b78",
   "metadata": {},
   "outputs": [
    {
     "data": {
      "text/html": [
       "<table style=\"border: 2px solid black; align: \"left\">\n",
       "<caption>6 phenopackets - PMID:18688868 (n=6)</caption>\n",
       "<tr><th style=\"text-align: left;font-weight: bold;\">Individual</th><th style=\"text-align: left;font-weight: bold;\">Disease</th><th style=\"text-align: left;font-weight: bold;\">Genotype</th><th style=\"text-align: left;font-weight: bold;\">Phenotypic features</th></tr>\n",
       "<tr><td style=\"text-align: left;\">II:2 (FEMALE; P97Y)</td><td style=\"text-align: left;\">Deafness, autosomal dominant 6 (OMIM:600965)</td><td style=\"text-align: left;\">NM_006005.3:c.2576G>A (heterozygous)</td><td style=\"text-align: left;\">Low-frequency sensorineural hearing impairment (HP:0008573); Progressive sensorineural hearing impairment (HP:0000408); excluded: Graves disease (HP:0100647); excluded: Crohn's disease (HP:0100280)</td></tr>\n",
       "<tr><td style=\"text-align: left;\">III:1 (FEMALE; P55Y)</td><td style=\"text-align: left;\">Deafness, autosomal dominant 6 (OMIM:600965)</td><td style=\"text-align: left;\">NM_006005.3:c.2576G>A (heterozygous)</td><td style=\"text-align: left;\">Low-frequency sensorineural hearing impairment (HP:0008573); Progressive sensorineural hearing impairment (HP:0000408); Graves disease (HP:0100647); excluded: Crohn's disease (HP:0100280)</td></tr>\n",
       "<tr><td style=\"text-align: left;\">III:3 (FEMALE; P69Y)</td><td style=\"text-align: left;\">Deafness, autosomal dominant 6 (OMIM:600965)</td><td style=\"text-align: left;\">NM_006005.3:c.2576G>A (heterozygous)</td><td style=\"text-align: left;\">Low-frequency sensorineural hearing impairment (HP:0008573); Progressive sensorineural hearing impairment (HP:0000408); excluded: Graves disease (HP:0100647); excluded: Crohn's disease (HP:0100280)</td></tr>\n",
       "<tr><td style=\"text-align: left;\">IV:2 (FEMALE; P38Y)</td><td style=\"text-align: left;\">Deafness, autosomal dominant 6 (OMIM:600965)</td><td style=\"text-align: left;\">NM_006005.3:c.2576G>A (heterozygous)</td><td style=\"text-align: left;\">Low-frequency sensorineural hearing impairment (HP:0008573); Progressive sensorineural hearing impairment (HP:0000408); Crohn's disease (HP:0100280); excluded: Graves disease (HP:0100647)</td></tr>\n",
       "<tr><td style=\"text-align: left;\">IV:4 (FEMALE; P43Y)</td><td style=\"text-align: left;\">Deafness, autosomal dominant 6 (OMIM:600965)</td><td style=\"text-align: left;\">NM_006005.3:c.2576G>A (heterozygous)</td><td style=\"text-align: left;\">Low-frequency sensorineural hearing impairment (HP:0008573); Progressive sensorineural hearing impairment (HP:0000408); excluded: Graves disease (HP:0100647); excluded: Crohn's disease (HP:0100280)</td></tr>\n",
       "<tr><td style=\"text-align: left;\">V:2 (MALE; P17Y)</td><td style=\"text-align: left;\">Deafness, autosomal dominant 6 (OMIM:600965)</td><td style=\"text-align: left;\">NM_006005.3:c.2576G>A (heterozygous)</td><td style=\"text-align: left;\">Low-frequency sensorineural hearing impairment (HP:0008573); Progressive sensorineural hearing impairment (HP:0000408); excluded: Graves disease (HP:0100647); excluded: Crohn's disease (HP:0100280)</td></tr>\n",
       "</table>"
      ],
      "text/plain": [
       "<IPython.core.display.HTML object>"
      ]
     },
     "metadata": {},
     "output_type": "display_data"
    }
   ],
   "source": [
    "individuals = cvalidator.get_error_free_individual_list()\n",
    "table = PhenopacketTable(individual_list=individuals, metadata=metadata)\n",
    "display(HTML(table.to_html()))"
   ]
  },
  {
   "cell_type": "code",
   "execution_count": 17,
   "id": "23f1094f",
   "metadata": {},
   "outputs": [
    {
     "name": "stdout",
     "output_type": "stream",
     "text": [
      "We output 6 GA4GH phenopackets to the directory phenopackets\n"
     ]
    }
   ],
   "source": [
    "output_directory = \"phenopackets\"\n",
    "Individual.output_individuals_as_phenopackets(individual_list=individuals,\n",
    "                                             metadata=metadata,\n",
    "                                             outdir=output_directory)"
   ]
  },
  {
   "cell_type": "code",
   "execution_count": null,
   "id": "ce887cb5-8353-4073-b5c5-181602b7aed5",
   "metadata": {},
   "outputs": [],
   "source": []
  }
 ],
 "metadata": {
  "kernelspec": {
   "display_name": "Python 3 (ipykernel)",
   "language": "python",
   "name": "python3"
  },
  "language_info": {
   "codemirror_mode": {
    "name": "ipython",
    "version": 3
   },
   "file_extension": ".py",
   "mimetype": "text/x-python",
   "name": "python",
   "nbconvert_exporter": "python",
   "pygments_lexer": "ipython3",
   "version": "3.11.3"
  }
 },
 "nbformat": 4,
 "nbformat_minor": 5
}
