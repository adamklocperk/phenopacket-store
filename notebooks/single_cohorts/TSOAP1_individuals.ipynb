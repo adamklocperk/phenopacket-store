{
 "cells": [
  {
   "cell_type": "markdown",
   "id": "bb53c3c6-4d16-45d2-ad83-4dfc8a4c9af3",
   "metadata": {},
   "source": [
    "# TSOAP1\n",
    "\n",
    "Data derived from [Mencacci et al. (2021) Biallelic variants in TSPOAP1, encoding the active-zone protein RIMBP1, cause autosomal recessive dystonia. J Clin Invest. 2021 Apr 1;131(7):e140625 PMID:33539324](https://pubmed.ncbi.nlm.nih.gov/33539324/)"
   ]
  },
  {
   "cell_type": "code",
   "execution_count": 1,
   "id": "29b8ad61-b622-44a8-a9b6-4ea795336eb2",
   "metadata": {},
   "outputs": [
    {
     "name": "stdout",
     "output_type": "stream",
     "text": [
      "Using pyphetools version 0.9.29\n"
     ]
    }
   ],
   "source": [
    "import pandas as pd\n",
    "from IPython.display import display, HTML\n",
    "pd.set_option('display.max_colwidth', None) # show entire column contents, important!\n",
    "from collections import defaultdict\n",
    "from pyphetools.creation import *\n",
    "from pyphetools.visualization import IndividualTable, QcVisualizer, HpoaTableBuilder\n",
    "from pyphetools.validation import *\n",
    "import pyphetools\n",
    "print(f\"Using pyphetools version {pyphetools.__version__}\")"
   ]
  },
  {
   "cell_type": "code",
   "execution_count": 2,
   "id": "b9bcd6e0-9d7a-46a8-b80d-1a3989fb69f7",
   "metadata": {},
   "outputs": [
    {
     "name": "stdout",
     "output_type": "stream",
     "text": [
      "HPO version 2024-01-16\n"
     ]
    }
   ],
   "source": [
    "parser = HpoParser(hpo_json_file=\"../hp.json\")\n",
    "hpo_cr = parser.get_hpo_concept_recognizer()\n",
    "hpo_version = parser.get_version()\n",
    "hpo_ontology = parser.get_ontology()\n",
    "created_by=\"ORCID:0000-0002-0736-9199\"\n",
    "print(f\"HPO version {hpo_version}\")"
   ]
  },
  {
   "cell_type": "code",
   "execution_count": 3,
   "id": "782a8fd2-7064-492b-a1c7-7b48517cc909",
   "metadata": {},
   "outputs": [
    {
     "data": {
      "text/html": [
       "<div>\n",
       "<style scoped>\n",
       "    .dataframe tbody tr th:only-of-type {\n",
       "        vertical-align: middle;\n",
       "    }\n",
       "\n",
       "    .dataframe tbody tr th {\n",
       "        vertical-align: top;\n",
       "    }\n",
       "\n",
       "    .dataframe thead th {\n",
       "        text-align: right;\n",
       "    }\n",
       "</style>\n",
       "<table border=\"1\" class=\"dataframe\">\n",
       "  <thead>\n",
       "    <tr style=\"text-align: right;\">\n",
       "      <th></th>\n",
       "      <th>PMID</th>\n",
       "      <th>title</th>\n",
       "      <th>individual_id</th>\n",
       "      <th>Comment</th>\n",
       "      <th>disease_id</th>\n",
       "      <th>disease_label</th>\n",
       "      <th>transcript</th>\n",
       "      <th>allele_1</th>\n",
       "      <th>allele_2</th>\n",
       "      <th>variant.comment</th>\n",
       "      <th>...</th>\n",
       "      <th>sex</th>\n",
       "      <th>HPO</th>\n",
       "      <th>Motor delay</th>\n",
       "      <th>Torticollis</th>\n",
       "      <th>Retrocollis</th>\n",
       "      <th>Gait disturbance</th>\n",
       "      <th>Babinski sign</th>\n",
       "      <th>Mental deterioration</th>\n",
       "      <th>Upper limb postural tremor</th>\n",
       "      <th>Focal dystonia</th>\n",
       "    </tr>\n",
       "  </thead>\n",
       "  <tbody>\n",
       "    <tr>\n",
       "      <th>0</th>\n",
       "      <td>str</td>\n",
       "      <td>str</td>\n",
       "      <td>str</td>\n",
       "      <td>optional str</td>\n",
       "      <td>str</td>\n",
       "      <td>str</td>\n",
       "      <td>str</td>\n",
       "      <td>HGVS str</td>\n",
       "      <td>HGVS str</td>\n",
       "      <td>optional str</td>\n",
       "      <td>...</td>\n",
       "      <td>M:F:O:U</td>\n",
       "      <td>na</td>\n",
       "      <td>HP:0001270</td>\n",
       "      <td>HP:0000473</td>\n",
       "      <td>HP:0002544</td>\n",
       "      <td>HP:0001288</td>\n",
       "      <td>HP:0003487</td>\n",
       "      <td>HP:0001268</td>\n",
       "      <td>HP:0007351</td>\n",
       "      <td>HP:0004373</td>\n",
       "    </tr>\n",
       "    <tr>\n",
       "      <th>1</th>\n",
       "      <td>PMID:33539324</td>\n",
       "      <td>Biallelic variants in TSPOAP1, encoding the active-zone protein RIMBP1, cause autosomal recessive dystonia</td>\n",
       "      <td>C-II.1</td>\n",
       "      <td>NaN</td>\n",
       "      <td>OMIM:620456</td>\n",
       "      <td>Dystonia 22, adult-onset</td>\n",
       "      <td>NM_004758.4</td>\n",
       "      <td>c.5422G&gt;A</td>\n",
       "      <td>c.5422G&gt;A</td>\n",
       "      <td>NaN</td>\n",
       "      <td>...</td>\n",
       "      <td>M</td>\n",
       "      <td>na</td>\n",
       "      <td>excluded</td>\n",
       "      <td>excluded</td>\n",
       "      <td>excluded</td>\n",
       "      <td>excluded</td>\n",
       "      <td>excluded</td>\n",
       "      <td>observed</td>\n",
       "      <td>excluded</td>\n",
       "      <td>observed</td>\n",
       "    </tr>\n",
       "  </tbody>\n",
       "</table>\n",
       "<p>2 rows × 21 columns</p>\n",
       "</div>"
      ],
      "text/plain": [
       "            PMID  \\\n",
       "0            str   \n",
       "1  PMID:33539324   \n",
       "\n",
       "                                                                                                        title  \\\n",
       "0                                                                                                         str   \n",
       "1  Biallelic variants in TSPOAP1, encoding the active-zone protein RIMBP1, cause autosomal recessive dystonia   \n",
       "\n",
       "  individual_id       Comment   disease_id             disease_label  \\\n",
       "0           str  optional str          str                       str   \n",
       "1        C-II.1           NaN  OMIM:620456  Dystonia 22, adult-onset   \n",
       "\n",
       "    transcript   allele_1   allele_2 variant.comment  ...      sex HPO  \\\n",
       "0          str   HGVS str   HGVS str    optional str  ...  M:F:O:U  na   \n",
       "1  NM_004758.4  c.5422G>A  c.5422G>A             NaN  ...        M  na   \n",
       "\n",
       "  Motor delay Torticollis Retrocollis Gait disturbance Babinski sign  \\\n",
       "0  HP:0001270  HP:0000473  HP:0002544       HP:0001288    HP:0003487   \n",
       "1    excluded    excluded    excluded         excluded      excluded   \n",
       "\n",
       "  Mental deterioration Upper limb postural tremor Focal dystonia  \n",
       "0           HP:0001268                 HP:0007351     HP:0004373  \n",
       "1             observed                   excluded       observed  \n",
       "\n",
       "[2 rows x 21 columns]"
      ]
     },
     "execution_count": 3,
     "metadata": {},
     "output_type": "execute_result"
    }
   ],
   "source": [
    "df = pd.read_excel(\"input/TSPOAP1_Mencacci_2021.xlsx\")\n",
    "df.head(2)"
   ]
  },
  {
   "cell_type": "code",
   "execution_count": 4,
   "id": "871321d8-075a-46f3-9289-edf7dd197520",
   "metadata": {},
   "outputs": [
    {
     "name": "stdout",
     "output_type": "stream",
     "text": [
      "Created encoders for 21 fields\n"
     ]
    }
   ],
   "source": [
    "from pyphetools.creation import CaseTemplateEncoder\n",
    "encoder = CaseTemplateEncoder(df=df, hpo_cr=hpo_cr, created_by=created_by)"
   ]
  },
  {
   "cell_type": "code",
   "execution_count": 5,
   "id": "0db8c75e-15bf-410c-b50e-de62faba34dc",
   "metadata": {},
   "outputs": [],
   "source": [
    "individuals = encoder.get_individuals()"
   ]
  },
  {
   "cell_type": "code",
   "execution_count": 6,
   "id": "9dcd2b08-19b8-4ce5-aeec-602605b550fe",
   "metadata": {},
   "outputs": [],
   "source": [
    "vmanager = VariantManager(df=df,\n",
    "                          individual_column_name=\"individual_id\",\n",
    "                          cohort_name=\"TSPOAP1\",\n",
    "                          transcript=\"NM_004758.4\",\n",
    "                          allele_1_column_name=\"allele_1\",\n",
    "                          allele_2_column_name=\"allele_2\")"
   ]
  },
  {
   "cell_type": "code",
   "execution_count": 7,
   "id": "be027f36-3c4b-4e77-909d-49e617b9a1eb",
   "metadata": {},
   "outputs": [
    {
     "data": {
      "text/html": [
       "<div>\n",
       "<style scoped>\n",
       "    .dataframe tbody tr th:only-of-type {\n",
       "        vertical-align: middle;\n",
       "    }\n",
       "\n",
       "    .dataframe tbody tr th {\n",
       "        vertical-align: top;\n",
       "    }\n",
       "\n",
       "    .dataframe thead th {\n",
       "        text-align: right;\n",
       "    }\n",
       "</style>\n",
       "<table border=\"1\" class=\"dataframe\">\n",
       "  <thead>\n",
       "    <tr style=\"text-align: right;\">\n",
       "      <th></th>\n",
       "      <th>status</th>\n",
       "      <th>count</th>\n",
       "      <th>alleles</th>\n",
       "    </tr>\n",
       "  </thead>\n",
       "  <tbody>\n",
       "    <tr>\n",
       "      <th>0</th>\n",
       "      <td>mapped</td>\n",
       "      <td>1</td>\n",
       "      <td>c.5422G&gt;A</td>\n",
       "    </tr>\n",
       "    <tr>\n",
       "      <th>1</th>\n",
       "      <td>unmapped</td>\n",
       "      <td>0</td>\n",
       "      <td></td>\n",
       "    </tr>\n",
       "  </tbody>\n",
       "</table>\n",
       "</div>"
      ],
      "text/plain": [
       "     status  count    alleles\n",
       "0    mapped      1  c.5422G>A\n",
       "1  unmapped      0           "
      ]
     },
     "execution_count": 7,
     "metadata": {},
     "output_type": "execute_result"
    }
   ],
   "source": [
    "vmanager.to_summary()"
   ]
  },
  {
   "cell_type": "code",
   "execution_count": 8,
   "id": "980fca7a-4cbe-4fd6-ae66-68cd73f6fb7b",
   "metadata": {},
   "outputs": [
    {
     "data": {
      "text/html": [
       "<h2>Cohort validation</h2>\n",
       "<p>Errors found with 3 of 3 phenopackets.</p>\n",
       "<table style=\"border: 2px solid black; align: \"left\">\n",
       "<caption>Error counts</caption>\n",
       "<tr><th style=\"text-align: left;font-weight: bold;\">Level</th><th style=\"text-align: left;font-weight: bold;\">Error category</th><th style=\"text-align: left;font-weight: bold;\">Count</th></tr>\n",
       "<tr><td style=\"text-align: left;\">WARNING</td><td style=\"text-align: left;\">REDUNDANT</td><td style=\"text-align: left;\">4</td></tr>\n",
       "</table>\n",
       "<p>A total of 4 issues were fixed and no individual was removed from the cohort.</p>"
      ],
      "text/plain": [
       "<IPython.core.display.HTML object>"
      ]
     },
     "metadata": {},
     "output_type": "display_data"
    }
   ],
   "source": [
    "vmanager.add_variants_to_individuals(individuals)\n",
    "cvalidator = CohortValidator(cohort=individuals, ontology=hpo_ontology, min_hpo=1, allelic_requirement=AllelicRequirement.BI_ALLELIC)\n",
    "qc = QcVisualizer(cohort_validator=cvalidator)\n",
    "display(HTML(qc.to_summary_html()))"
   ]
  },
  {
   "cell_type": "code",
   "execution_count": 9,
   "id": "968529a4-6c18-4263-b5e0-d035e53d7045",
   "metadata": {},
   "outputs": [
    {
     "data": {
      "text/html": [
       "<table style=\"border: 2px solid black; align: \"left\">\n",
       "<caption>3 phenopackets - PMID:33539324 (n=3)</caption>\n",
       "<tr><th style=\"text-align: left;font-weight: bold;\">Individual</th><th style=\"text-align: left;font-weight: bold;\">Disease</th><th style=\"text-align: left;font-weight: bold;\">Genotype</th><th style=\"text-align: left;font-weight: bold;\">Phenotypic features</th></tr>\n",
       "<tr><td style=\"text-align: left;\">C-II.1 (MALE; )</td><td style=\"text-align: left;\">Dystonia 22, adult-onset (OMIM:620456)</td><td style=\"text-align: left;\">NM_004758.4:c.5422G>A (homozygous)</td><td style=\"text-align: left;\">Mental deterioration (HP:0001268); Focal dystonia (HP:0004373); excluded: Motor delay (HP:0001270); excluded: Retrocollis (HP:0002544); excluded: Gait disturbance (HP:0001288); excluded: Babinski sign (HP:0003487); excluded: Upper limb postural tremor (HP:0007351)</td></tr>\n",
       "<tr><td style=\"text-align: left;\">C-II.3 (MALE; )</td><td style=\"text-align: left;\">Dystonia 22, adult-onset (OMIM:620456)</td><td style=\"text-align: left;\">NM_004758.4:c.5422G>A (homozygous)</td><td style=\"text-align: left;\">Torticollis (HP:0000473); Mental deterioration (HP:0001268); Upper limb postural tremor (HP:0007351); excluded: Motor delay (HP:0001270); excluded: Retrocollis (HP:0002544); excluded: Gait disturbance (HP:0001288); excluded: Babinski sign (HP:0003487)</td></tr>\n",
       "<tr><td style=\"text-align: left;\">C-II.4 (FEMALE; )</td><td style=\"text-align: left;\">Dystonia 22, adult-onset (OMIM:620456)</td><td style=\"text-align: left;\">NM_004758.4:c.5422G>A (homozygous)</td><td style=\"text-align: left;\">Retrocollis (HP:0002544); Babinski sign (HP:0003487); Mental deterioration (HP:0001268); excluded: Motor delay (HP:0001270); excluded: Gait disturbance (HP:0001288); excluded: Upper limb postural tremor (HP:0007351)</td></tr>\n",
       "</table>"
      ],
      "text/plain": [
       "<IPython.core.display.HTML object>"
      ]
     },
     "metadata": {},
     "output_type": "display_data"
    }
   ],
   "source": [
    "individuals = cvalidator.get_error_free_individual_list()\n",
    "table = IndividualTable(individuals)\n",
    "display(HTML(table.to_html()))"
   ]
  },
  {
   "cell_type": "code",
   "execution_count": 10,
   "id": "3702f910-1788-46cd-b011-46d4ddfe09e1",
   "metadata": {},
   "outputs": [
    {
     "name": "stdout",
     "output_type": "stream",
     "text": [
      "We output 3 GA4GH phenopackets to the directory phenopackets\n"
     ]
    }
   ],
   "source": [
    "encoder.output_individuals_as_phenopackets(individuals)"
   ]
  },
  {
   "cell_type": "code",
   "execution_count": 11,
   "id": "0b4cbd83-bc00-4f64-969b-b48d3334bdc8",
   "metadata": {},
   "outputs": [
    {
     "name": "stdout",
     "output_type": "stream",
     "text": [
      "We found a total of 8 unique HPO terms\n",
      "Extracted disease: Dystonia 22, adult-onset (OMIM:620456)\n"
     ]
    },
    {
     "data": {
      "text/html": [
       "<div>\n",
       "<style scoped>\n",
       "    .dataframe tbody tr th:only-of-type {\n",
       "        vertical-align: middle;\n",
       "    }\n",
       "\n",
       "    .dataframe tbody tr th {\n",
       "        vertical-align: top;\n",
       "    }\n",
       "\n",
       "    .dataframe thead th {\n",
       "        text-align: right;\n",
       "    }\n",
       "</style>\n",
       "<table border=\"1\" class=\"dataframe\">\n",
       "  <thead>\n",
       "    <tr style=\"text-align: right;\">\n",
       "      <th></th>\n",
       "      <th>#diseaseID</th>\n",
       "      <th>diseaseName</th>\n",
       "      <th>phenotypeID</th>\n",
       "      <th>phenotypeName</th>\n",
       "      <th>onsetID</th>\n",
       "      <th>onsetName</th>\n",
       "      <th>frequency</th>\n",
       "      <th>sex</th>\n",
       "      <th>negation</th>\n",
       "      <th>modifier</th>\n",
       "      <th>description</th>\n",
       "      <th>publication</th>\n",
       "      <th>evidence</th>\n",
       "      <th>biocuration</th>\n",
       "    </tr>\n",
       "  </thead>\n",
       "  <tbody>\n",
       "    <tr>\n",
       "      <th>0</th>\n",
       "      <td>OMIM:620456</td>\n",
       "      <td>Dystonia 22, adult-onset</td>\n",
       "      <td>HP:0001268</td>\n",
       "      <td>Mental deterioration</td>\n",
       "      <td></td>\n",
       "      <td></td>\n",
       "      <td>3/3</td>\n",
       "      <td></td>\n",
       "      <td></td>\n",
       "      <td></td>\n",
       "      <td></td>\n",
       "      <td>PMID:33539324</td>\n",
       "      <td>PCS</td>\n",
       "      <td>ORCID:0000-0002-0736-9199</td>\n",
       "    </tr>\n",
       "    <tr>\n",
       "      <th>1</th>\n",
       "      <td>OMIM:620456</td>\n",
       "      <td>Dystonia 22, adult-onset</td>\n",
       "      <td>HP:0004373</td>\n",
       "      <td>Focal dystonia</td>\n",
       "      <td></td>\n",
       "      <td></td>\n",
       "      <td>1/1</td>\n",
       "      <td></td>\n",
       "      <td></td>\n",
       "      <td></td>\n",
       "      <td></td>\n",
       "      <td>PMID:33539324</td>\n",
       "      <td>PCS</td>\n",
       "      <td>ORCID:0000-0002-0736-9199</td>\n",
       "    </tr>\n",
       "    <tr>\n",
       "      <th>2</th>\n",
       "      <td>OMIM:620456</td>\n",
       "      <td>Dystonia 22, adult-onset</td>\n",
       "      <td>HP:0001270</td>\n",
       "      <td>Motor delay</td>\n",
       "      <td></td>\n",
       "      <td></td>\n",
       "      <td>0/3</td>\n",
       "      <td></td>\n",
       "      <td></td>\n",
       "      <td></td>\n",
       "      <td></td>\n",
       "      <td>PMID:33539324</td>\n",
       "      <td>PCS</td>\n",
       "      <td>ORCID:0000-0002-0736-9199</td>\n",
       "    </tr>\n",
       "    <tr>\n",
       "      <th>3</th>\n",
       "      <td>OMIM:620456</td>\n",
       "      <td>Dystonia 22, adult-onset</td>\n",
       "      <td>HP:0002544</td>\n",
       "      <td>Retrocollis</td>\n",
       "      <td></td>\n",
       "      <td></td>\n",
       "      <td>1/3</td>\n",
       "      <td></td>\n",
       "      <td></td>\n",
       "      <td></td>\n",
       "      <td></td>\n",
       "      <td>PMID:33539324</td>\n",
       "      <td>PCS</td>\n",
       "      <td>ORCID:0000-0002-0736-9199</td>\n",
       "    </tr>\n",
       "    <tr>\n",
       "      <th>4</th>\n",
       "      <td>OMIM:620456</td>\n",
       "      <td>Dystonia 22, adult-onset</td>\n",
       "      <td>HP:0001288</td>\n",
       "      <td>Gait disturbance</td>\n",
       "      <td></td>\n",
       "      <td></td>\n",
       "      <td>0/3</td>\n",
       "      <td></td>\n",
       "      <td></td>\n",
       "      <td></td>\n",
       "      <td></td>\n",
       "      <td>PMID:33539324</td>\n",
       "      <td>PCS</td>\n",
       "      <td>ORCID:0000-0002-0736-9199</td>\n",
       "    </tr>\n",
       "    <tr>\n",
       "      <th>5</th>\n",
       "      <td>OMIM:620456</td>\n",
       "      <td>Dystonia 22, adult-onset</td>\n",
       "      <td>HP:0003487</td>\n",
       "      <td>Babinski sign</td>\n",
       "      <td></td>\n",
       "      <td></td>\n",
       "      <td>1/3</td>\n",
       "      <td></td>\n",
       "      <td></td>\n",
       "      <td></td>\n",
       "      <td></td>\n",
       "      <td>PMID:33539324</td>\n",
       "      <td>PCS</td>\n",
       "      <td>ORCID:0000-0002-0736-9199</td>\n",
       "    </tr>\n",
       "    <tr>\n",
       "      <th>6</th>\n",
       "      <td>OMIM:620456</td>\n",
       "      <td>Dystonia 22, adult-onset</td>\n",
       "      <td>HP:0007351</td>\n",
       "      <td>Upper limb postural tremor</td>\n",
       "      <td></td>\n",
       "      <td></td>\n",
       "      <td>1/3</td>\n",
       "      <td></td>\n",
       "      <td></td>\n",
       "      <td></td>\n",
       "      <td></td>\n",
       "      <td>PMID:33539324</td>\n",
       "      <td>PCS</td>\n",
       "      <td>ORCID:0000-0002-0736-9199</td>\n",
       "    </tr>\n",
       "    <tr>\n",
       "      <th>7</th>\n",
       "      <td>OMIM:620456</td>\n",
       "      <td>Dystonia 22, adult-onset</td>\n",
       "      <td>HP:0000473</td>\n",
       "      <td>Torticollis</td>\n",
       "      <td></td>\n",
       "      <td></td>\n",
       "      <td>1/1</td>\n",
       "      <td></td>\n",
       "      <td></td>\n",
       "      <td></td>\n",
       "      <td></td>\n",
       "      <td>PMID:33539324</td>\n",
       "      <td>PCS</td>\n",
       "      <td>ORCID:0000-0002-0736-9199</td>\n",
       "    </tr>\n",
       "    <tr>\n",
       "      <th>8</th>\n",
       "      <td>OMIM:620456</td>\n",
       "      <td>Dystonia 22, adult-onset</td>\n",
       "      <td>HP:0003596</td>\n",
       "      <td>Middle age onset</td>\n",
       "      <td></td>\n",
       "      <td></td>\n",
       "      <td>1/3</td>\n",
       "      <td></td>\n",
       "      <td></td>\n",
       "      <td></td>\n",
       "      <td></td>\n",
       "      <td>PMID:33539324</td>\n",
       "      <td>PCS</td>\n",
       "      <td>ORCID:0000-0002-0736-9199</td>\n",
       "    </tr>\n",
       "    <tr>\n",
       "      <th>9</th>\n",
       "      <td>OMIM:620456</td>\n",
       "      <td>Dystonia 22, adult-onset</td>\n",
       "      <td>HP:0003584</td>\n",
       "      <td>Late onset</td>\n",
       "      <td></td>\n",
       "      <td></td>\n",
       "      <td>2/3</td>\n",
       "      <td></td>\n",
       "      <td></td>\n",
       "      <td></td>\n",
       "      <td></td>\n",
       "      <td>PMID:33539324</td>\n",
       "      <td>PCS</td>\n",
       "      <td>ORCID:0000-0002-0736-9199</td>\n",
       "    </tr>\n",
       "    <tr>\n",
       "      <th>10</th>\n",
       "      <td>OMIM:620456</td>\n",
       "      <td>Dystonia 22, adult-onset</td>\n",
       "      <td>HP:0000007</td>\n",
       "      <td>Autosomal recessive inheritance</td>\n",
       "      <td></td>\n",
       "      <td></td>\n",
       "      <td></td>\n",
       "      <td></td>\n",
       "      <td></td>\n",
       "      <td></td>\n",
       "      <td></td>\n",
       "      <td>PMID:33539324</td>\n",
       "      <td>PCS</td>\n",
       "      <td>ORCID:0000-0002-0736-9199</td>\n",
       "    </tr>\n",
       "  </tbody>\n",
       "</table>\n",
       "</div>"
      ],
      "text/plain": [
       "     #diseaseID               diseaseName phenotypeID  \\\n",
       "0   OMIM:620456  Dystonia 22, adult-onset  HP:0001268   \n",
       "1   OMIM:620456  Dystonia 22, adult-onset  HP:0004373   \n",
       "2   OMIM:620456  Dystonia 22, adult-onset  HP:0001270   \n",
       "3   OMIM:620456  Dystonia 22, adult-onset  HP:0002544   \n",
       "4   OMIM:620456  Dystonia 22, adult-onset  HP:0001288   \n",
       "5   OMIM:620456  Dystonia 22, adult-onset  HP:0003487   \n",
       "6   OMIM:620456  Dystonia 22, adult-onset  HP:0007351   \n",
       "7   OMIM:620456  Dystonia 22, adult-onset  HP:0000473   \n",
       "8   OMIM:620456  Dystonia 22, adult-onset  HP:0003596   \n",
       "9   OMIM:620456  Dystonia 22, adult-onset  HP:0003584   \n",
       "10  OMIM:620456  Dystonia 22, adult-onset  HP:0000007   \n",
       "\n",
       "                      phenotypeName onsetID onsetName frequency sex negation  \\\n",
       "0              Mental deterioration                         3/3                \n",
       "1                    Focal dystonia                         1/1                \n",
       "2                       Motor delay                         0/3                \n",
       "3                       Retrocollis                         1/3                \n",
       "4                  Gait disturbance                         0/3                \n",
       "5                     Babinski sign                         1/3                \n",
       "6        Upper limb postural tremor                         1/3                \n",
       "7                       Torticollis                         1/1                \n",
       "8                  Middle age onset                         1/3                \n",
       "9                        Late onset                         2/3                \n",
       "10  Autosomal recessive inheritance                                            \n",
       "\n",
       "   modifier description    publication evidence                biocuration  \n",
       "0                        PMID:33539324      PCS  ORCID:0000-0002-0736-9199  \n",
       "1                        PMID:33539324      PCS  ORCID:0000-0002-0736-9199  \n",
       "2                        PMID:33539324      PCS  ORCID:0000-0002-0736-9199  \n",
       "3                        PMID:33539324      PCS  ORCID:0000-0002-0736-9199  \n",
       "4                        PMID:33539324      PCS  ORCID:0000-0002-0736-9199  \n",
       "5                        PMID:33539324      PCS  ORCID:0000-0002-0736-9199  \n",
       "6                        PMID:33539324      PCS  ORCID:0000-0002-0736-9199  \n",
       "7                        PMID:33539324      PCS  ORCID:0000-0002-0736-9199  \n",
       "8                        PMID:33539324      PCS  ORCID:0000-0002-0736-9199  \n",
       "9                        PMID:33539324      PCS  ORCID:0000-0002-0736-9199  \n",
       "10                       PMID:33539324      PCS  ORCID:0000-0002-0736-9199  "
      ]
     },
     "execution_count": 11,
     "metadata": {},
     "output_type": "execute_result"
    }
   ],
   "source": [
    "PMID=\"PMID:33539324\"\n",
    "builder = HpoaTableBuilder.from_individuals(individuals, created_by)\n",
    "hpoa_creator = builder.middle_age_onset(PMID,1,3).late_onset(PMID, 2, 3).autosomal_recessive(PMID).build()\n",
    "df = hpoa_creator.get_dataframe()\n",
    "df"
   ]
  },
  {
   "cell_type": "code",
   "execution_count": 12,
   "id": "5f9a5ca1-0f38-4b3d-ac30-eaf7b4db6d61",
   "metadata": {},
   "outputs": [
    {
     "name": "stdout",
     "output_type": "stream",
     "text": [
      "Wrote HPOA disease file to OMIM-620456.tab\n"
     ]
    }
   ],
   "source": [
    "hpoa_creator.write_data_frame()"
   ]
  },
  {
   "cell_type": "code",
   "execution_count": null,
   "id": "534a094d-7aa6-43bb-9409-51d4809072bc",
   "metadata": {},
   "outputs": [],
   "source": []
  }
 ],
 "metadata": {
  "kernelspec": {
   "display_name": "ppt_venv",
   "language": "python",
   "name": "ppt_venv"
  },
  "language_info": {
   "codemirror_mode": {
    "name": "ipython",
    "version": 3
   },
   "file_extension": ".py",
   "mimetype": "text/x-python",
   "name": "python",
   "nbconvert_exporter": "python",
   "pygments_lexer": "ipython3",
   "version": "3.11.6"
  }
 },
 "nbformat": 4,
 "nbformat_minor": 5
}
