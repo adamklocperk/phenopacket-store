{
 "cells": [
  {
   "cell_type": "markdown",
   "id": "ae25dbd2-ede4-408f-ba18-ff6f3d154d24",
   "metadata": {},
   "source": [
    "# PRDM10\n",
    "\n",
    "Data derived from [van de Beek I, et al. (2023) PRDM10 directs FLCN expression in a novel disorder overlapping with Birt-Hogg-Dubé syndrome and familial lipomatosis. Hum Mol Genet. 2023;32(7):1223-1235. PMID:36440963](https://pubmed.ncbi.nlm.nih.gov/36440963/)"
   ]
  },
  {
   "cell_type": "code",
   "execution_count": 1,
   "id": "20fcf0a0-5593-45e8-96b7-b4e76b33c733",
   "metadata": {},
   "outputs": [
    {
     "name": "stdout",
     "output_type": "stream",
     "text": [
      "Using pyphetools version 0.9.34\n"
     ]
    }
   ],
   "source": [
    "import pandas as pd\n",
    "from IPython.display import display, HTML\n",
    "pd.set_option('display.max_colwidth', None) # show entire column contents, important!\n",
    "from collections import defaultdict\n",
    "from pyphetools.creation import *\n",
    "from pyphetools.visualization import IndividualTable, QcVisualizer, HpoaTableBuilder\n",
    "from pyphetools.validation import *\n",
    "import pyphetools\n",
    "print(f\"Using pyphetools version {pyphetools.__version__}\")"
   ]
  },
  {
   "cell_type": "code",
   "execution_count": 2,
   "id": "3e7e842e-60b2-478f-ab2f-d45f74bf2b6e",
   "metadata": {},
   "outputs": [
    {
     "name": "stdout",
     "output_type": "stream",
     "text": [
      "HPO version 2024-01-16\n"
     ]
    }
   ],
   "source": [
    "parser = HpoParser(hpo_json_file=\"../hp.json\")\n",
    "hpo_cr = parser.get_hpo_concept_recognizer()\n",
    "hpo_version = parser.get_version()\n",
    "hpo_ontology = parser.get_ontology()\n",
    "created_by=\"ORCID:0000-0002-0736-9199\"\n",
    "print(f\"HPO version {hpo_version}\")"
   ]
  },
  {
   "cell_type": "code",
   "execution_count": 3,
   "id": "770fc541-0c75-4968-bfa9-567725504b33",
   "metadata": {},
   "outputs": [
    {
     "data": {
      "text/html": [
       "<div>\n",
       "<style scoped>\n",
       "    .dataframe tbody tr th:only-of-type {\n",
       "        vertical-align: middle;\n",
       "    }\n",
       "\n",
       "    .dataframe tbody tr th {\n",
       "        vertical-align: top;\n",
       "    }\n",
       "\n",
       "    .dataframe thead th {\n",
       "        text-align: right;\n",
       "    }\n",
       "</style>\n",
       "<table border=\"1\" class=\"dataframe\">\n",
       "  <thead>\n",
       "    <tr style=\"text-align: right;\">\n",
       "      <th></th>\n",
       "      <th>PMID</th>\n",
       "      <th>title</th>\n",
       "      <th>individual_id</th>\n",
       "      <th>Comment</th>\n",
       "      <th>disease_id</th>\n",
       "      <th>disease_label</th>\n",
       "      <th>transcript</th>\n",
       "      <th>allele_1</th>\n",
       "      <th>variant.comment</th>\n",
       "      <th>age_of_onset</th>\n",
       "      <th>sex</th>\n",
       "      <th>HPO</th>\n",
       "      <th>Multiple lipomas</th>\n",
       "      <th>Fibrofolliculoma</th>\n",
       "      <th>Perifollicular fibroma</th>\n",
       "      <th>Pulmonary cyst</th>\n",
       "      <th>Clear cell renal cell carcinoma</th>\n",
       "    </tr>\n",
       "  </thead>\n",
       "  <tbody>\n",
       "    <tr>\n",
       "      <th>0</th>\n",
       "      <td>str</td>\n",
       "      <td>str</td>\n",
       "      <td>str</td>\n",
       "      <td>optional str</td>\n",
       "      <td>str</td>\n",
       "      <td>str</td>\n",
       "      <td>str</td>\n",
       "      <td>HGVS str</td>\n",
       "      <td>optional str</td>\n",
       "      <td>iso8601</td>\n",
       "      <td>M:F:O:U</td>\n",
       "      <td>na</td>\n",
       "      <td>HP:0001012</td>\n",
       "      <td>HP:0030436</td>\n",
       "      <td>HP:0032225</td>\n",
       "      <td>HP:0032445</td>\n",
       "      <td>HP:0006770</td>\n",
       "    </tr>\n",
       "    <tr>\n",
       "      <th>1</th>\n",
       "      <td>PMID:36440963</td>\n",
       "      <td>PRDM10 directs FLCN expression in a novel disorder overlapping with Birt-Hogg-Dubé syndrome and familial lipomatosis</td>\n",
       "      <td>IV-1</td>\n",
       "      <td>NaN</td>\n",
       "      <td>OMIM:620459</td>\n",
       "      <td>Birt-Hogg-Dube syndrome 2</td>\n",
       "      <td>NM_020228.3</td>\n",
       "      <td>c.2030G&gt;A</td>\n",
       "      <td>NaN</td>\n",
       "      <td>P33Y</td>\n",
       "      <td>M</td>\n",
       "      <td>na</td>\n",
       "      <td>observed</td>\n",
       "      <td>observed</td>\n",
       "      <td>observed</td>\n",
       "      <td>excluded</td>\n",
       "      <td>excluded</td>\n",
       "    </tr>\n",
       "  </tbody>\n",
       "</table>\n",
       "</div>"
      ],
      "text/plain": [
       "            PMID  \\\n",
       "0            str   \n",
       "1  PMID:36440963   \n",
       "\n",
       "                                                                                                                  title  \\\n",
       "0                                                                                                                   str   \n",
       "1  PRDM10 directs FLCN expression in a novel disorder overlapping with Birt-Hogg-Dubé syndrome and familial lipomatosis   \n",
       "\n",
       "  individual_id       Comment   disease_id              disease_label  \\\n",
       "0           str  optional str          str                        str   \n",
       "1          IV-1           NaN  OMIM:620459  Birt-Hogg-Dube syndrome 2   \n",
       "\n",
       "    transcript   allele_1 variant.comment age_of_onset      sex HPO  \\\n",
       "0          str   HGVS str    optional str      iso8601  M:F:O:U  na   \n",
       "1  NM_020228.3  c.2030G>A             NaN         P33Y        M  na   \n",
       "\n",
       "  Multiple lipomas Fibrofolliculoma Perifollicular fibroma Pulmonary cyst  \\\n",
       "0       HP:0001012       HP:0030436             HP:0032225     HP:0032445   \n",
       "1         observed         observed               observed       excluded   \n",
       "\n",
       "  Clear cell renal cell carcinoma  \n",
       "0                      HP:0006770  \n",
       "1                        excluded  "
      ]
     },
     "execution_count": 3,
     "metadata": {},
     "output_type": "execute_result"
    }
   ],
   "source": [
    "df = pd.read_excel(\"input/PRDM10_individuals.xlsx\")\n",
    "df.head(2)"
   ]
  },
  {
   "cell_type": "code",
   "execution_count": 4,
   "id": "19d7873d-641e-4396-b8c1-962c3a4da485",
   "metadata": {},
   "outputs": [
    {
     "name": "stdout",
     "output_type": "stream",
     "text": [
      "Created encoders for 17 fields\n"
     ]
    }
   ],
   "source": [
    "encoder = CaseTemplateEncoder(df=df, hpo_cr=hpo_cr, created_by=created_by)"
   ]
  },
  {
   "cell_type": "code",
   "execution_count": 5,
   "id": "dcef7618-7348-47ca-a91f-2f5c2d1e2c16",
   "metadata": {},
   "outputs": [],
   "source": [
    "individuals = encoder.get_individuals()"
   ]
  },
  {
   "cell_type": "code",
   "execution_count": 6,
   "id": "da444288-f392-4622-9df4-c34e342cdeb2",
   "metadata": {},
   "outputs": [
    {
     "name": "stdout",
     "output_type": "stream",
     "text": [
      "[INFO] encoding variant \"c.2030G>A\"\n",
      "https://rest.variantvalidator.org/VariantValidator/variantvalidator/hg38/NM_020228.3%3Ac.2030G>A/NM_020228.3?content-type=application%2Fjson\n"
     ]
    }
   ],
   "source": [
    "vmanager = VariantManager(df=df,\n",
    "                          individual_column_name=\"individual_id\",\n",
    "                          cohort_name=\"PRDM10\",\n",
    "                          transcript=\"NM_020228.3\",\n",
    "                          allele_1_column_name=\"allele_1\")"
   ]
  },
  {
   "cell_type": "code",
   "execution_count": 7,
   "id": "c442f660-62cc-4a15-a639-f5cd1dc39ede",
   "metadata": {},
   "outputs": [
    {
     "data": {
      "text/html": [
       "<div>\n",
       "<style scoped>\n",
       "    .dataframe tbody tr th:only-of-type {\n",
       "        vertical-align: middle;\n",
       "    }\n",
       "\n",
       "    .dataframe tbody tr th {\n",
       "        vertical-align: top;\n",
       "    }\n",
       "\n",
       "    .dataframe thead th {\n",
       "        text-align: right;\n",
       "    }\n",
       "</style>\n",
       "<table border=\"1\" class=\"dataframe\">\n",
       "  <thead>\n",
       "    <tr style=\"text-align: right;\">\n",
       "      <th></th>\n",
       "      <th>status</th>\n",
       "      <th>count</th>\n",
       "      <th>alleles</th>\n",
       "    </tr>\n",
       "  </thead>\n",
       "  <tbody>\n",
       "    <tr>\n",
       "      <th>0</th>\n",
       "      <td>mapped</td>\n",
       "      <td>1</td>\n",
       "      <td>c.2030G&gt;A</td>\n",
       "    </tr>\n",
       "    <tr>\n",
       "      <th>1</th>\n",
       "      <td>unmapped</td>\n",
       "      <td>0</td>\n",
       "      <td></td>\n",
       "    </tr>\n",
       "  </tbody>\n",
       "</table>\n",
       "</div>"
      ],
      "text/plain": [
       "     status  count    alleles\n",
       "0    mapped      1  c.2030G>A\n",
       "1  unmapped      0           "
      ]
     },
     "execution_count": 7,
     "metadata": {},
     "output_type": "execute_result"
    }
   ],
   "source": [
    "vmanager.to_summary()"
   ]
  },
  {
   "cell_type": "code",
   "execution_count": 8,
   "id": "b03c768a-917f-4df3-a17f-7b12e88893b8",
   "metadata": {},
   "outputs": [
    {
     "data": {
      "text/html": [
       "<h2>Cohort validation</h2>\n",
       "<p>No errors found for the cohort with 7 individuals</p>"
      ],
      "text/plain": [
       "<IPython.core.display.HTML object>"
      ]
     },
     "metadata": {},
     "output_type": "display_data"
    }
   ],
   "source": [
    "vmanager.add_variants_to_individuals(individuals)\n",
    "cvalidator = CohortValidator(cohort=individuals, ontology=hpo_ontology, min_hpo=1, allelic_requirement=AllelicRequirement.MONO_ALLELIC)\n",
    "qc = QcVisualizer(cohort_validator=cvalidator)\n",
    "display(HTML(qc.to_summary_html()))"
   ]
  },
  {
   "cell_type": "code",
   "execution_count": 9,
   "id": "d241aa19-fa41-40cf-bf03-d574691b2502",
   "metadata": {},
   "outputs": [
    {
     "data": {
      "text/html": [
       "<table style=\"border: 2px solid black; align: \"left\">\n",
       "<caption>7 phenopackets - PMID:36440963 (n=7)</caption>\n",
       "<tr><th style=\"text-align: left;font-weight: bold;\">Individual</th><th style=\"text-align: left;font-weight: bold;\">Disease</th><th style=\"text-align: left;font-weight: bold;\">Genotype</th><th style=\"text-align: left;font-weight: bold;\">Phenotypic features</th></tr>\n",
       "<tr><td style=\"text-align: left;\">IV-1 (MALE; )</td><td style=\"text-align: left;\">Birt-Hogg-Dube syndrome 2 (OMIM:620459)</td><td style=\"text-align: left;\">NM_020228.3:c.2030G>A (heterozygous)</td><td style=\"text-align: left;\">Multiple lipomas (HP:0001012); Fibrofolliculoma (HP:0030436); Perifollicular fibroma (HP:0032225); excluded: Pulmonary cyst (HP:0032445); excluded: Clear cell renal cell carcinoma (HP:0006770)</td></tr>\n",
       "<tr><td style=\"text-align: left;\">III-2 (MALE; )</td><td style=\"text-align: left;\">Birt-Hogg-Dube syndrome 2 (OMIM:620459)</td><td style=\"text-align: left;\">NM_020228.3:c.2030G>A (heterozygous)</td><td style=\"text-align: left;\">Multiple lipomas (HP:0001012); Fibrofolliculoma (HP:0030436); Perifollicular fibroma (HP:0032225); excluded: Clear cell renal cell carcinoma (HP:0006770)</td></tr>\n",
       "<tr><td style=\"text-align: left;\">III-3 (MALE; )</td><td style=\"text-align: left;\">Birt-Hogg-Dube syndrome 2 (OMIM:620459)</td><td style=\"text-align: left;\">NM_020228.3:c.2030G>A (heterozygous)</td><td style=\"text-align: left;\">Multiple lipomas (HP:0001012); Clear cell renal cell carcinoma (HP:0006770); excluded: Fibrofolliculoma (HP:0030436); excluded: Perifollicular fibroma (HP:0032225)</td></tr>\n",
       "<tr><td style=\"text-align: left;\">III-4 (FEMALE; )</td><td style=\"text-align: left;\">Birt-Hogg-Dube syndrome 2 (OMIM:620459)</td><td style=\"text-align: left;\">NM_020228.3:c.2030G>A (heterozygous)</td><td style=\"text-align: left;\">Multiple lipomas (HP:0001012); Clear cell renal cell carcinoma (HP:0006770); excluded: Fibrofolliculoma (HP:0030436); excluded: Perifollicular fibroma (HP:0032225); excluded: Pulmonary cyst (HP:0032445)</td></tr>\n",
       "<tr><td style=\"text-align: left;\">IV-2 (FEMALE; )</td><td style=\"text-align: left;\">Birt-Hogg-Dube syndrome 2 (OMIM:620459)</td><td style=\"text-align: left;\">NM_020228.3:c.2030G>A (heterozygous)</td><td style=\"text-align: left;\">Multiple lipomas (HP:0001012); Fibrofolliculoma (HP:0030436); Perifollicular fibroma (HP:0032225); excluded: Clear cell renal cell carcinoma (HP:0006770)</td></tr>\n",
       "<tr><td style=\"text-align: left;\">IV-3 (MALE; )</td><td style=\"text-align: left;\">Birt-Hogg-Dube syndrome 2 (OMIM:620459)</td><td style=\"text-align: left;\">NM_020228.3:c.2030G>A (heterozygous)</td><td style=\"text-align: left;\">Multiple lipomas (HP:0001012); Fibrofolliculoma (HP:0030436); Perifollicular fibroma (HP:0032225); Clear cell renal cell carcinoma (HP:0006770); excluded: Pulmonary cyst (HP:0032445)</td></tr>\n",
       "<tr><td style=\"text-align: left;\">IV-4 (FEMALE; )</td><td style=\"text-align: left;\">Birt-Hogg-Dube syndrome 2 (OMIM:620459)</td><td style=\"text-align: left;\">NM_020228.3:c.2030G>A (heterozygous)</td><td style=\"text-align: left;\">Multiple lipomas (HP:0001012); Fibrofolliculoma (HP:0030436); Perifollicular fibroma (HP:0032225); excluded: Clear cell renal cell carcinoma (HP:0006770)</td></tr>\n",
       "</table>"
      ],
      "text/plain": [
       "<IPython.core.display.HTML object>"
      ]
     },
     "metadata": {},
     "output_type": "display_data"
    }
   ],
   "source": [
    "individuals = cvalidator.get_error_free_individual_list()\n",
    "table = IndividualTable(individuals)\n",
    "display(HTML(table.to_html()))"
   ]
  },
  {
   "cell_type": "code",
   "execution_count": 10,
   "id": "45dbe1f0-e8b7-4ecd-988c-3ebf7dfff4b4",
   "metadata": {},
   "outputs": [
    {
     "name": "stdout",
     "output_type": "stream",
     "text": [
      "We output 7 GA4GH phenopackets to the directory phenopackets\n"
     ]
    }
   ],
   "source": [
    "encoder.output_individuals_as_phenopackets(individuals)"
   ]
  },
  {
   "cell_type": "code",
   "execution_count": 11,
   "id": "e107e05f-5788-4e07-9187-6695c887a9c1",
   "metadata": {},
   "outputs": [
    {
     "name": "stdout",
     "output_type": "stream",
     "text": [
      "We found a total of 5 unique HPO terms\n",
      "Extracted disease: Birt-Hogg-Dube syndrome 2 (OMIM:620459)\n"
     ]
    },
    {
     "data": {
      "text/html": [
       "<div>\n",
       "<style scoped>\n",
       "    .dataframe tbody tr th:only-of-type {\n",
       "        vertical-align: middle;\n",
       "    }\n",
       "\n",
       "    .dataframe tbody tr th {\n",
       "        vertical-align: top;\n",
       "    }\n",
       "\n",
       "    .dataframe thead th {\n",
       "        text-align: right;\n",
       "    }\n",
       "</style>\n",
       "<table border=\"1\" class=\"dataframe\">\n",
       "  <thead>\n",
       "    <tr style=\"text-align: right;\">\n",
       "      <th></th>\n",
       "      <th>#diseaseID</th>\n",
       "      <th>diseaseName</th>\n",
       "      <th>phenotypeID</th>\n",
       "      <th>phenotypeName</th>\n",
       "      <th>onsetID</th>\n",
       "      <th>onsetName</th>\n",
       "      <th>frequency</th>\n",
       "      <th>sex</th>\n",
       "      <th>negation</th>\n",
       "      <th>modifier</th>\n",
       "      <th>description</th>\n",
       "      <th>publication</th>\n",
       "      <th>evidence</th>\n",
       "      <th>biocuration</th>\n",
       "    </tr>\n",
       "  </thead>\n",
       "  <tbody>\n",
       "    <tr>\n",
       "      <th>0</th>\n",
       "      <td>OMIM:620459</td>\n",
       "      <td>Birt-Hogg-Dube syndrome 2</td>\n",
       "      <td>HP:0001012</td>\n",
       "      <td>Multiple lipomas</td>\n",
       "      <td></td>\n",
       "      <td></td>\n",
       "      <td>7/7</td>\n",
       "      <td></td>\n",
       "      <td></td>\n",
       "      <td></td>\n",
       "      <td></td>\n",
       "      <td>PMID:36440963</td>\n",
       "      <td>PCS</td>\n",
       "      <td>ORCID:0000-0002-0736-9199</td>\n",
       "    </tr>\n",
       "    <tr>\n",
       "      <th>1</th>\n",
       "      <td>OMIM:620459</td>\n",
       "      <td>Birt-Hogg-Dube syndrome 2</td>\n",
       "      <td>HP:0030436</td>\n",
       "      <td>Fibrofolliculoma</td>\n",
       "      <td></td>\n",
       "      <td></td>\n",
       "      <td>5/7</td>\n",
       "      <td></td>\n",
       "      <td></td>\n",
       "      <td></td>\n",
       "      <td></td>\n",
       "      <td>PMID:36440963</td>\n",
       "      <td>PCS</td>\n",
       "      <td>ORCID:0000-0002-0736-9199</td>\n",
       "    </tr>\n",
       "    <tr>\n",
       "      <th>2</th>\n",
       "      <td>OMIM:620459</td>\n",
       "      <td>Birt-Hogg-Dube syndrome 2</td>\n",
       "      <td>HP:0032225</td>\n",
       "      <td>Perifollicular fibroma</td>\n",
       "      <td></td>\n",
       "      <td></td>\n",
       "      <td>5/7</td>\n",
       "      <td></td>\n",
       "      <td></td>\n",
       "      <td></td>\n",
       "      <td></td>\n",
       "      <td>PMID:36440963</td>\n",
       "      <td>PCS</td>\n",
       "      <td>ORCID:0000-0002-0736-9199</td>\n",
       "    </tr>\n",
       "    <tr>\n",
       "      <th>3</th>\n",
       "      <td>OMIM:620459</td>\n",
       "      <td>Birt-Hogg-Dube syndrome 2</td>\n",
       "      <td>HP:0032445</td>\n",
       "      <td>Pulmonary cyst</td>\n",
       "      <td></td>\n",
       "      <td></td>\n",
       "      <td>0/3</td>\n",
       "      <td></td>\n",
       "      <td></td>\n",
       "      <td></td>\n",
       "      <td></td>\n",
       "      <td>PMID:36440963</td>\n",
       "      <td>PCS</td>\n",
       "      <td>ORCID:0000-0002-0736-9199</td>\n",
       "    </tr>\n",
       "    <tr>\n",
       "      <th>4</th>\n",
       "      <td>OMIM:620459</td>\n",
       "      <td>Birt-Hogg-Dube syndrome 2</td>\n",
       "      <td>HP:0006770</td>\n",
       "      <td>Clear cell renal cell carcinoma</td>\n",
       "      <td></td>\n",
       "      <td></td>\n",
       "      <td>3/7</td>\n",
       "      <td></td>\n",
       "      <td></td>\n",
       "      <td></td>\n",
       "      <td></td>\n",
       "      <td>PMID:36440963</td>\n",
       "      <td>PCS</td>\n",
       "      <td>ORCID:0000-0002-0736-9199</td>\n",
       "    </tr>\n",
       "    <tr>\n",
       "      <th>5</th>\n",
       "      <td>OMIM:620459</td>\n",
       "      <td>Birt-Hogg-Dube syndrome 2</td>\n",
       "      <td>HP:0011462</td>\n",
       "      <td>Young adult onset</td>\n",
       "      <td></td>\n",
       "      <td></td>\n",
       "      <td>1/1</td>\n",
       "      <td></td>\n",
       "      <td></td>\n",
       "      <td></td>\n",
       "      <td></td>\n",
       "      <td>PMID:36440963</td>\n",
       "      <td>PCS</td>\n",
       "      <td>ORCID:0000-0002-0736-9199</td>\n",
       "    </tr>\n",
       "    <tr>\n",
       "      <th>6</th>\n",
       "      <td>OMIM:620459</td>\n",
       "      <td>Birt-Hogg-Dube syndrome 2</td>\n",
       "      <td>HP:0000006</td>\n",
       "      <td>Autosomal dominant inheritance</td>\n",
       "      <td></td>\n",
       "      <td></td>\n",
       "      <td></td>\n",
       "      <td></td>\n",
       "      <td></td>\n",
       "      <td></td>\n",
       "      <td></td>\n",
       "      <td>PMID:36440963</td>\n",
       "      <td>PCS</td>\n",
       "      <td>ORCID:0000-0002-0736-9199</td>\n",
       "    </tr>\n",
       "  </tbody>\n",
       "</table>\n",
       "</div>"
      ],
      "text/plain": [
       "    #diseaseID                diseaseName phenotypeID  \\\n",
       "0  OMIM:620459  Birt-Hogg-Dube syndrome 2  HP:0001012   \n",
       "1  OMIM:620459  Birt-Hogg-Dube syndrome 2  HP:0030436   \n",
       "2  OMIM:620459  Birt-Hogg-Dube syndrome 2  HP:0032225   \n",
       "3  OMIM:620459  Birt-Hogg-Dube syndrome 2  HP:0032445   \n",
       "4  OMIM:620459  Birt-Hogg-Dube syndrome 2  HP:0006770   \n",
       "5  OMIM:620459  Birt-Hogg-Dube syndrome 2  HP:0011462   \n",
       "6  OMIM:620459  Birt-Hogg-Dube syndrome 2  HP:0000006   \n",
       "\n",
       "                     phenotypeName onsetID onsetName frequency sex negation  \\\n",
       "0                 Multiple lipomas                         7/7                \n",
       "1                 Fibrofolliculoma                         5/7                \n",
       "2           Perifollicular fibroma                         5/7                \n",
       "3                   Pulmonary cyst                         0/3                \n",
       "4  Clear cell renal cell carcinoma                         3/7                \n",
       "5                Young adult onset                         1/1                \n",
       "6   Autosomal dominant inheritance                                            \n",
       "\n",
       "  modifier description    publication evidence                biocuration  \n",
       "0                       PMID:36440963      PCS  ORCID:0000-0002-0736-9199  \n",
       "1                       PMID:36440963      PCS  ORCID:0000-0002-0736-9199  \n",
       "2                       PMID:36440963      PCS  ORCID:0000-0002-0736-9199  \n",
       "3                       PMID:36440963      PCS  ORCID:0000-0002-0736-9199  \n",
       "4                       PMID:36440963      PCS  ORCID:0000-0002-0736-9199  \n",
       "5                       PMID:36440963      PCS  ORCID:0000-0002-0736-9199  \n",
       "6                       PMID:36440963      PCS  ORCID:0000-0002-0736-9199  "
      ]
     },
     "execution_count": 11,
     "metadata": {},
     "output_type": "execute_result"
    }
   ],
   "source": [
    "PMID=\"PMID:36440963\"\n",
    "builder = HpoaTableBuilder.from_individuals(individuals, created_by)\n",
    "hpoa_creator = builder.young_adult_onset(PMID,1,1).autosomal_dominant(PMID).build()\n",
    "df = hpoa_creator.get_dataframe()\n",
    "df"
   ]
  },
  {
   "cell_type": "code",
   "execution_count": 12,
   "id": "94219e58-ca27-44ec-890c-a17c62b85e9a",
   "metadata": {},
   "outputs": [
    {
     "name": "stdout",
     "output_type": "stream",
     "text": [
      "Wrote HPOA disease file to OMIM-620459.tab\n"
     ]
    }
   ],
   "source": [
    "hpoa_creator.write_data_frame()"
   ]
  },
  {
   "cell_type": "code",
   "execution_count": null,
   "id": "6a736220-28b8-4fde-9546-c6899bae40ad",
   "metadata": {},
   "outputs": [],
   "source": []
  }
 ],
 "metadata": {
  "kernelspec": {
   "display_name": "ps24venv",
   "language": "python",
   "name": "ps24venv"
  },
  "language_info": {
   "codemirror_mode": {
    "name": "ipython",
    "version": 3
   },
   "file_extension": ".py",
   "mimetype": "text/x-python",
   "name": "python",
   "nbconvert_exporter": "python",
   "pygments_lexer": "ipython3",
   "version": "3.8.10"
  }
 },
 "nbformat": 4,
 "nbformat_minor": 5
}
