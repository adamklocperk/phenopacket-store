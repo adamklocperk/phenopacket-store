{
 "cells": [
  {
   "cell_type": "markdown",
   "id": "0a51a71b-b55e-414d-a7b1-abb5954b1396",
   "metadata": {},
   "source": [
    "<H1>FBXL4</h1>\n",
    "<p>Todo-short intro about gene and associated diseases</p>"
   ]
  },
  {
   "cell_type": "code",
   "execution_count": 1,
   "id": "a2a1c7c9-9e38-4591-af12-ff563358acf0",
   "metadata": {},
   "outputs": [
    {
     "name": "stdout",
     "output_type": "stream",
     "text": [
      "Using pyphetools version 0.9.1\n"
     ]
    }
   ],
   "source": [
    "import phenopackets as php\n",
    "from google.protobuf.json_format import MessageToDict, MessageToJson\n",
    "from google.protobuf.json_format import Parse, ParseDict\n",
    "import pandas as pd\n",
    "pd.set_option('display.max_colwidth', None) # show entire column contents, important!\n",
    "from collections import defaultdict\n",
    "import pyphetools\n",
    "from pyphetools.creation import *\n",
    "from pyphetools.visualization import *\n",
    "from pyphetools.validation import ContentValidator\n",
    "\n",
    "\n",
    "print(f\"Using pyphetools version {pyphetools.__version__}\")"
   ]
  },
  {
   "cell_type": "code",
   "execution_count": 2,
   "id": "824a9ab7-8b2c-4bfd-b6b5-5d28922e0df4",
   "metadata": {},
   "outputs": [],
   "source": [
    "parser = HpoParser()\n",
    "hpo_cr = parser.get_hpo_concept_recognizer()\n",
    "hpo_version = parser.get_version()\n",
    "metadata = MetaData(created_by=\"ORCID:0000-0002-0736-9199\")\n",
    "metadata.default_versions_with_hpo(version=hpo_version)"
   ]
  },
  {
   "cell_type": "code",
   "execution_count": 3,
   "id": "8d114e11-fa01-4ec0-887e-1762d245c586",
   "metadata": {},
   "outputs": [],
   "source": [
    "df = pd.read_excel('input/FBXL4-data.xlsx')"
   ]
  },
  {
   "cell_type": "markdown",
   "id": "f731ad13-bd8e-4513-aa6f-1e39e8f6674c",
   "metadata": {},
   "source": [
    "<h1>Data ingest strategy</h1>\n",
    "<p>We use classes of pyphetool to encode columns that contain the disease identifier, the age, sex, and phenotypes.\n",
    "For now, we add a column with an identifier (which is required) - we should get this from the original publications - and also\n",
    "add the PubMed identifiers (instead of DOI), for consistency with the other phenopackets in this project.</p>"
   ]
  },
  {
   "cell_type": "code",
   "execution_count": 4,
   "id": "a9920c17-f66e-4a74-89f0-c11952559abf",
   "metadata": {},
   "outputs": [
    {
     "data": {
      "text/html": [
       "<div>\n",
       "<style scoped>\n",
       "    .dataframe tbody tr th:only-of-type {\n",
       "        vertical-align: middle;\n",
       "    }\n",
       "\n",
       "    .dataframe tbody tr th {\n",
       "        vertical-align: top;\n",
       "    }\n",
       "\n",
       "    .dataframe thead th {\n",
       "        text-align: right;\n",
       "    }\n",
       "</style>\n",
       "<table border=\"1\" class=\"dataframe\">\n",
       "  <thead>\n",
       "    <tr style=\"text-align: right;\">\n",
       "      <th></th>\n",
       "      <th>omim_id</th>\n",
       "      <th>omim_title</th>\n",
       "      <th>omim_name</th>\n",
       "      <th>hgnc_id</th>\n",
       "      <th>gene_symbol</th>\n",
       "      <th>Zigosity</th>\n",
       "      <th>Location</th>\n",
       "      <th>Variant annotation</th>\n",
       "      <th>Consequence</th>\n",
       "      <th>Refseq</th>\n",
       "      <th>...</th>\n",
       "      <th>Protein structure</th>\n",
       "      <th>Age of diagnosis</th>\n",
       "      <th>Gender</th>\n",
       "      <th>Age at death</th>\n",
       "      <th>Phenotype</th>\n",
       "      <th>Prenatal ultrasound phenotype</th>\n",
       "      <th>MRI phenotype</th>\n",
       "      <th>Cardiac phenotype</th>\n",
       "      <th>Family history</th>\n",
       "      <th>Source</th>\n",
       "    </tr>\n",
       "  </thead>\n",
       "  <tbody>\n",
       "    <tr>\n",
       "      <th>0</th>\n",
       "      <td>615471</td>\n",
       "      <td>MITOCHONDRIAL DNA DEPLETION SYNDROME 13 (ENCEPHALOMYOPATHIC TYPE)</td>\n",
       "      <td>Mitochondrial DNA depletion syndrome 13 (encephalomyopathic type)</td>\n",
       "      <td>HGNC:13601</td>\n",
       "      <td>FBXL4</td>\n",
       "      <td>Compound heterozygous</td>\n",
       "      <td>NM_001278716.1/NM_001278716.1</td>\n",
       "      <td>c.772G&gt;T(p.Gly258*)/c.1061G&gt;C(p.Trp354Ser)</td>\n",
       "      <td>nonsense/missense</td>\n",
       "      <td>NM_001278716.1(FBXL4):c.772G&gt;T;(p.Gly258*)/NM_001278716.1(FBXL4):c.1060T&gt;C;(p.Trp354Arg)</td>\n",
       "      <td>...</td>\n",
       "      <td>NaN</td>\n",
       "      <td>Fetus</td>\n",
       "      <td>NaN</td>\n",
       "      <td>NaN</td>\n",
       "      <td>abnormal eyebrow morphology HP:0000534 , triangular face HP:0000325, abnormal shape of the palpebral fissure HP:0200005, mandibular prognathia HP:0000303, increased serum lactate HP:0002151 HP:0002151, increased serum pyruvate HP:0003542</td>\n",
       "      <td>NaN</td>\n",
       "      <td>NaN</td>\n",
       "      <td>NaN</td>\n",
       "      <td>Primigravid, no family history</td>\n",
       "      <td>https://doi.org/10.24953/turkjped.2021.05.025</td>\n",
       "    </tr>\n",
       "    <tr>\n",
       "      <th>1</th>\n",
       "      <td>615471</td>\n",
       "      <td>MITOCHONDRIAL DNA DEPLETION SYNDROME 13 (ENCEPHALOMYOPATHIC TYPE)</td>\n",
       "      <td>Mitochondrial DNA depletion syndrome 13 (encephalomyopathic type)</td>\n",
       "      <td>HGNC:13601</td>\n",
       "      <td>FBXL4</td>\n",
       "      <td>homozygous</td>\n",
       "      <td>NM_001278716.1</td>\n",
       "      <td>c.993dupA (p.L332Tfs*3)</td>\n",
       "      <td>NaN</td>\n",
       "      <td>NM_001278716.1(FBXL4):c.993dup</td>\n",
       "      <td>...</td>\n",
       "      <td>truncated protein. Leucine position 332 changed to arginine and termination</td>\n",
       "      <td>1.5</td>\n",
       "      <td>NaN</td>\n",
       "      <td>NaN</td>\n",
       "      <td>global developmental delay HP:0001263, hypotonia HP:0001252, abnormal eating behavior HP:0100738, hypertelorism HP:0000316, short palpebral fissure HP:0012745, internuclear ophthalmoplegia HP:0030773, wide nasal bridge HP:0000431</td>\n",
       "      <td>NaN</td>\n",
       "      <td>abnormality of brain morphology HP:0012443</td>\n",
       "      <td>NaN</td>\n",
       "      <td>no family history</td>\n",
       "      <td>https://doi.org/10.24953/turkjped.2021.05.025</td>\n",
       "    </tr>\n",
       "  </tbody>\n",
       "</table>\n",
       "<p>2 rows × 23 columns</p>\n",
       "</div>"
      ],
      "text/plain": [
       "   omim_id                                                         omim_title  \\\n",
       "0   615471  MITOCHONDRIAL DNA DEPLETION SYNDROME 13 (ENCEPHALOMYOPATHIC TYPE)   \n",
       "1   615471  MITOCHONDRIAL DNA DEPLETION SYNDROME 13 (ENCEPHALOMYOPATHIC TYPE)   \n",
       "\n",
       "                                                           omim_name  \\\n",
       "0  Mitochondrial DNA depletion syndrome 13 (encephalomyopathic type)   \n",
       "1  Mitochondrial DNA depletion syndrome 13 (encephalomyopathic type)   \n",
       "\n",
       "      hgnc_id gene_symbol               Zigosity  \\\n",
       "0  HGNC:13601       FBXL4  Compound heterozygous   \n",
       "1  HGNC:13601       FBXL4             homozygous   \n",
       "\n",
       "                        Location                          Variant annotation  \\\n",
       "0  NM_001278716.1/NM_001278716.1  c.772G>T(p.Gly258*)/c.1061G>C(p.Trp354Ser)   \n",
       "1                 NM_001278716.1                     c.993dupA (p.L332Tfs*3)   \n",
       "\n",
       "         Consequence  \\\n",
       "0  nonsense/missense   \n",
       "1                NaN   \n",
       "\n",
       "                                                                                     Refseq  \\\n",
       "0  NM_001278716.1(FBXL4):c.772G>T;(p.Gly258*)/NM_001278716.1(FBXL4):c.1060T>C;(p.Trp354Arg)   \n",
       "1                                                            NM_001278716.1(FBXL4):c.993dup   \n",
       "\n",
       "   ...  \\\n",
       "0  ...   \n",
       "1  ...   \n",
       "\n",
       "                                                             Protein structure  \\\n",
       "0                                                                          NaN   \n",
       "1  truncated protein. Leucine position 332 changed to arginine and termination   \n",
       "\n",
       "  Age of diagnosis Gender Age at death  \\\n",
       "0            Fetus    NaN          NaN   \n",
       "1              1.5    NaN          NaN   \n",
       "\n",
       "                                                                                                                                                                                                                                       Phenotype  \\\n",
       "0  abnormal eyebrow morphology HP:0000534 , triangular face HP:0000325, abnormal shape of the palpebral fissure HP:0200005, mandibular prognathia HP:0000303, increased serum lactate HP:0002151 HP:0002151, increased serum pyruvate HP:0003542   \n",
       "1          global developmental delay HP:0001263, hypotonia HP:0001252, abnormal eating behavior HP:0100738, hypertelorism HP:0000316, short palpebral fissure HP:0012745, internuclear ophthalmoplegia HP:0030773, wide nasal bridge HP:0000431   \n",
       "\n",
       "  Prenatal ultrasound phenotype                               MRI phenotype  \\\n",
       "0                           NaN                                         NaN   \n",
       "1                           NaN  abnormality of brain morphology HP:0012443   \n",
       "\n",
       "  Cardiac phenotype                  Family history  \\\n",
       "0               NaN  Primigravid, no family history   \n",
       "1               NaN               no family history   \n",
       "\n",
       "                                          Source  \n",
       "0  https://doi.org/10.24953/turkjped.2021.05.025  \n",
       "1  https://doi.org/10.24953/turkjped.2021.05.025  \n",
       "\n",
       "[2 rows x 23 columns]"
      ]
     },
     "execution_count": 4,
     "metadata": {},
     "output_type": "execute_result"
    }
   ],
   "source": [
    "df.head(2)"
   ]
  },
  {
   "cell_type": "code",
   "execution_count": 5,
   "id": "446c4714-5682-41a0-abe3-06acc938e4bf",
   "metadata": {},
   "outputs": [],
   "source": [
    "# We need to provide an id for a valid phenopacket. TODO - get original IDs from publications if possible\n",
    "\n",
    "import random\n",
    "import string\n",
    "\n",
    "def get_random_string(length):\n",
    "    letters = string.ascii_lowercase\n",
    "    result_str = ''.join(random.choice(letters) for i in range(length))\n",
    "    return result_str\n",
    "    \n",
    "df['patient_id'] = df['omim_id'].apply(lambda x: get_random_string(10))\n",
    "df.set_index('patient_id', inplace=True)"
   ]
  },
  {
   "cell_type": "markdown",
   "id": "098f24ed-7edf-40a7-8030-6f27c9f1f09a",
   "metadata": {},
   "source": [
    "<h3>PMID and title</h3>\n",
    "<p>For consistency with the rest of the phenopackets, we like to have PMID and title. The following adds new columns to the table starting from the DOI, but it would be nicer to have the PMID info in the original table</p>"
   ]
  },
  {
   "cell_type": "code",
   "execution_count": 6,
   "id": "3007e937-fcab-4dd1-85d4-c26320e6213d",
   "metadata": {},
   "outputs": [
    {
     "data": {
      "text/html": [
       "<div>\n",
       "<style scoped>\n",
       "    .dataframe tbody tr th:only-of-type {\n",
       "        vertical-align: middle;\n",
       "    }\n",
       "\n",
       "    .dataframe tbody tr th {\n",
       "        vertical-align: top;\n",
       "    }\n",
       "\n",
       "    .dataframe thead th {\n",
       "        text-align: right;\n",
       "    }\n",
       "</style>\n",
       "<table border=\"1\" class=\"dataframe\">\n",
       "  <thead>\n",
       "    <tr style=\"text-align: right;\">\n",
       "      <th></th>\n",
       "      <th>PMID</th>\n",
       "      <th>title</th>\n",
       "    </tr>\n",
       "    <tr>\n",
       "      <th>patient_id</th>\n",
       "      <th></th>\n",
       "      <th></th>\n",
       "    </tr>\n",
       "  </thead>\n",
       "  <tbody>\n",
       "    <tr>\n",
       "      <th>egzhrcpymu</th>\n",
       "      <td>PMID:34738379</td>\n",
       "      <td>Entero-encephalopathy due to FBXL4-related mtDNA depletion syndrome</td>\n",
       "    </tr>\n",
       "    <tr>\n",
       "      <th>hnkebhcukt</th>\n",
       "      <td>PMID:34738379</td>\n",
       "      <td>Entero-encephalopathy due to FBXL4-related mtDNA depletion syndrome</td>\n",
       "    </tr>\n",
       "    <tr>\n",
       "      <th>kzaszrhebc</th>\n",
       "      <td>PMID:34738379</td>\n",
       "      <td>Entero-encephalopathy due to FBXL4-related mtDNA depletion syndrome</td>\n",
       "    </tr>\n",
       "    <tr>\n",
       "      <th>bdqwaafjbu</th>\n",
       "      <td>PMID:34738379</td>\n",
       "      <td>Entero-encephalopathy due to FBXL4-related mtDNA depletion syndrome</td>\n",
       "    </tr>\n",
       "    <tr>\n",
       "      <th>rlcginzbsl</th>\n",
       "      <td>PMID:31969900</td>\n",
       "      <td>Molecular Characterization of New FBXL4 Mutations in Patients With mtDNA Depletion Syndrome</td>\n",
       "    </tr>\n",
       "  </tbody>\n",
       "</table>\n",
       "</div>"
      ],
      "text/plain": [
       "                     PMID  \\\n",
       "patient_id                  \n",
       "egzhrcpymu  PMID:34738379   \n",
       "hnkebhcukt  PMID:34738379   \n",
       "kzaszrhebc  PMID:34738379   \n",
       "bdqwaafjbu  PMID:34738379   \n",
       "rlcginzbsl  PMID:31969900   \n",
       "\n",
       "                                                                                                   title  \n",
       "patient_id                                                                                                \n",
       "egzhrcpymu                           Entero-encephalopathy due to FBXL4-related mtDNA depletion syndrome  \n",
       "hnkebhcukt                           Entero-encephalopathy due to FBXL4-related mtDNA depletion syndrome  \n",
       "kzaszrhebc                           Entero-encephalopathy due to FBXL4-related mtDNA depletion syndrome  \n",
       "bdqwaafjbu                           Entero-encephalopathy due to FBXL4-related mtDNA depletion syndrome  \n",
       "rlcginzbsl   Molecular Characterization of New FBXL4 Mutations in Patients With mtDNA Depletion Syndrome  "
      ]
     },
     "execution_count": 6,
     "metadata": {},
     "output_type": "execute_result"
    }
   ],
   "source": [
    "source_d = {'https://doi.org/10.24953/turkjped.2021.05.025': [\"PMID:34738379\", \"Entero-encephalopathy due to FBXL4-related mtDNA depletion syndrome\"],\n",
    "    'https://doi.org/10.3389/fgene.2019.01300':[\"PMID:31969900\",\" Molecular Characterization of New FBXL4 Mutations in Patients With mtDNA Depletion Syndrome\"],\n",
    "    'https://doi.org/10.24953/turkjped.2020.04.016' : ['PMID:32779419','Different clinical presentation in a patient with two novel pathogenic variants of the FBXL4 gene'],\n",
    "    'https://doi.org/10.1111/cge.12894':[\"PMID:27743463\",\"FBXL4 defects are common in patients with congenital lactic acidemia and encephalomyopathic mitochondrial DNA depletion syndrome\"],       \n",
    "    'doi: 10.1007/8904_2015_491':[\"PMID:26404457\",\"Detailed Biochemical and Bioenergetic Characterization of FBXL4-Related Encephalomyopathic Mitochondrial DNA Depletion\"],\n",
    "    'https://doi.org/10.3389/fgene.2019.00039': [\"PMID:30804983\", \"FBXL4-Related Mitochondrial DNA Depletion Syndrome 13 (MTDPS13): A Case Report With a Comprehensive Mutation Review\"],\n",
    "    'https://doi.org/10.1159/000515928':[\"PMID:34602956\",\"A Mild Phenotype of Mitochondrial DNA Depletion Syndrome Type 13 with a Novel FBXL4 Variant\"],\n",
    "    'https://doi.org/10.1016/j.gene.2019.01.049':[\"PMID:30771478\", \"Whole exome sequencing revealed mutations in FBXL4, UNC80, and ADK in Thai patients with severe intellectual disabilities\"],\n",
    "    'https://doi.org/10.1016/j.ajhg.2013.07.016':[\"PMID:23993194\", \"Mutations in FBXL4, encoding a mitochondrial protein, cause early-onset mitochondrial encephalomyopathy\"],\n",
    "}\n",
    "\n",
    "\n",
    "df['PMID'] = df['Source'].apply(lambda x: source_d.get(x)[0])\n",
    "df['title']= df['Source'].apply(lambda x: source_d.get(x)[1])\n",
    "df[['PMID', 'title']].head()"
   ]
  },
  {
   "cell_type": "code",
   "execution_count": 7,
   "id": "8c5fcfd4-1358-4082-8c12-a58abed02a7f",
   "metadata": {},
   "outputs": [
    {
     "data": {
      "text/plain": [
       "Index(['omim_id', 'omim_title', 'omim_name', 'hgnc_id', 'gene_symbol',\n",
       "       'Zigosity', 'Location', 'Variant annotation', 'Consequence', 'Refseq',\n",
       "       'Protein ID', 'Genomic location', 'ACGM classification',\n",
       "       'Protein structure', 'Age of diagnosis', 'Gender', 'Age at death',\n",
       "       'Phenotype', 'Prenatal ultrasound phenotype', 'MRI phenotype',\n",
       "       'Cardiac phenotype', 'Family history', 'Source', 'PMID', 'title'],\n",
       "      dtype='object')"
      ]
     },
     "execution_count": 7,
     "metadata": {},
     "output_type": "execute_result"
    }
   ],
   "source": [
    "df.columns"
   ]
  },
  {
   "cell_type": "markdown",
   "id": "14f9708f-5edf-42ee-a92a-547f88e66b60",
   "metadata": {},
   "source": [
    "<h1>Variants</h1>\n",
    "<p>Variant data is available in strings such as c.772G>T(p.Gly258*)/c.1061G>C(p.Trp354Ser) or c.772G>T(p.Gly258*) for homozygous variants.\n",
    "We need to extract the HGVS cDNA string to pass to Variant Validator</p>"
   ]
  },
  {
   "cell_type": "code",
   "execution_count": 8,
   "id": "da8d74bf-9381-4683-9586-bf4b3df936ca",
   "metadata": {},
   "outputs": [],
   "source": [
    "def extract_cdna(variant):\n",
    "    \"\"\"\n",
    "    split strings like c.772G>T(p.Gly258*) on the open-parenthesis symbol and return the first part\n",
    "    \"\"\"\n",
    "    return variant.split(\"(\")[0]\n",
    "    \n",
    "def extract_variant_1(variants):\n",
    "    \"\"\"\n",
    "    Split on the slash (\"/\") and return the first part (or entire string for homozygous)\n",
    "    \"\"\"\n",
    "    v1 = variants.split(\"/\")[0]\n",
    "    return extract_cdna(v1)\n",
    "\n",
    "def extract_variant_2(variants):\n",
    "    \"\"\"\n",
    "    Split on the slash (\"/\") and return the second part (or entire string for homozygous)\n",
    "    \"\"\"\n",
    "    fields = variants.split(\"/\")\n",
    "    if len(fields) == 2:\n",
    "        return extract_cdna(fields[1])\n",
    "    else:\n",
    "        # there was only one variant\n",
    "        return extract_cdna(variants)"
   ]
  },
  {
   "cell_type": "code",
   "execution_count": 9,
   "id": "52d17746-17c6-4503-a24e-1fa0dcff3127",
   "metadata": {},
   "outputs": [],
   "source": [
    "df[\"var1\"] = df['Variant annotation'].apply(lambda x: extract_variant_1(x))\n",
    "df[\"var2\"] = df['Variant annotation'].apply(lambda x: extract_variant_2(x))"
   ]
  },
  {
   "cell_type": "code",
   "execution_count": 10,
   "id": "11791196-0565-41a1-b025-1b2302220efd",
   "metadata": {},
   "outputs": [
    {
     "name": "stdout",
     "output_type": "stream",
     "text": [
      "https://rest.variantvalidator.org/VariantValidator/variantvalidator/hg38/NM_001278716.1%3Ac.1510T>C /NM_001278716.1?content-type=application%2Fjson\n",
      "c.1510T>C  - chr6:98875607A>G\n",
      "https://rest.variantvalidator.org/VariantValidator/variantvalidator/hg38/NM_001278716.1%3Ac.1652T>A/NM_001278716.1?content-type=application%2Fjson\n",
      "c.1652T>A - chr6:98875465A>T\n",
      "https://rest.variantvalidator.org/VariantValidator/variantvalidator/hg38/NM_001278716.1%3Ac.1750T>C/NM_001278716.1?content-type=application%2Fjson\n",
      "c.1750T>C - chr6:98874394A>G\n",
      "https://rest.variantvalidator.org/VariantValidator/variantvalidator/hg38/NM_001278716.1%3Ac.1229C>T/NM_001278716.1?content-type=application%2Fjson\n",
      "c.1229C>T - chr6:98899356G>A\n",
      "https://rest.variantvalidator.org/VariantValidator/variantvalidator/hg38/NM_001278716.1%3Ac.851_852del/NM_001278716.1?content-type=application%2Fjson\n",
      "c.851_852del - chr6:98917379AAG>A\n",
      "https://rest.variantvalidator.org/VariantValidator/variantvalidator/hg38/NM_001278716.1%3Ac.1694A>G/NM_001278716.1?content-type=application%2Fjson\n",
      "c.1694A>G - chr6:98875423T>C\n",
      "https://rest.variantvalidator.org/VariantValidator/variantvalidator/hg38/NM_001278716.1%3Ac.273_277del/NM_001278716.1?content-type=application%2Fjson\n",
      "c.273_277del - chr6:98926711TGAGTA>T\n",
      "https://rest.variantvalidator.org/VariantValidator/variantvalidator/hg38/NM_001278716.1%3Ac.1790A>C/NM_001278716.1?content-type=application%2Fjson\n",
      "c.1790A>C - chr6:98874354T>G\n",
      "https://rest.variantvalidator.org/VariantValidator/variantvalidator/hg38/NM_001278716.1%3Ac.106A>T/NM_001278716.1?content-type=application%2Fjson\n",
      "c.106A>T - chr6:98926883T>A\n",
      "https://rest.variantvalidator.org/VariantValidator/variantvalidator/hg38/NM_001278716.1%3Ac.1838T>A/NM_001278716.1?content-type=application%2Fjson\n",
      "c.1838T>A - chr6:98874306A>T\n",
      "https://rest.variantvalidator.org/VariantValidator/variantvalidator/hg38/NM_001278716.1%3Ac.1703G>C/NM_001278716.1?content-type=application%2Fjson\n",
      "c.1703G>C - chr6:98874441C>G\n",
      "https://rest.variantvalidator.org/VariantValidator/variantvalidator/hg38/NM_001278716.1%3Ac.858+5G>C/NM_001278716.1?content-type=application%2Fjson\n",
      "c.858+5G>C - chr6:98917369C>G\n",
      "https://rest.variantvalidator.org/VariantValidator/variantvalidator/hg38/NM_001278716.1%3Ac.1622C>T/NM_001278716.1?content-type=application%2Fjson\n",
      "c.1622C>T - chr6:98875495G>A\n",
      "https://rest.variantvalidator.org/VariantValidator/variantvalidator/hg38/NM_001278716.1%3Ac.219T>A/NM_001278716.1?content-type=application%2Fjson\n",
      "c.219T>A - chr6:98926770A>T\n",
      "https://rest.variantvalidator.org/VariantValidator/variantvalidator/hg38/NM_001278716.1%3Ac.1641_1642delTG/NM_001278716.1?content-type=application%2Fjson\n",
      "c.1641_1642delTG - chr6:98875474TCA>T\n",
      "https://rest.variantvalidator.org/VariantValidator/variantvalidator/hg38/NM_001278716.1%3Ac.993dupA /NM_001278716.1?content-type=application%2Fjson\n",
      "c.993dupA  - chr6:98905535G>GT\n",
      "https://rest.variantvalidator.org/VariantValidator/variantvalidator/hg38/NM_001278716.1%3Ac.1687C>T/NM_001278716.1?content-type=application%2Fjson\n",
      "c.1687C>T - chr6:98875430G>A\n",
      "https://rest.variantvalidator.org/VariantValidator/variantvalidator/hg38/NM_001278716.1%3Ac.1444C>T/NM_001278716.1?content-type=application%2Fjson\n",
      "c.1444C>T - chr6:98875673G>A\n",
      "https://rest.variantvalidator.org/VariantValidator/variantvalidator/hg38/NM_001278716.1%3Ac.614T>C/NM_001278716.1?content-type=application%2Fjson\n",
      "c.614T>C - chr6:98917618A>G\n",
      "https://rest.variantvalidator.org/VariantValidator/variantvalidator/hg38/NM_001278716.1%3Ac.1442T > C /NM_001278716.1?content-type=application%2Fjson\n",
      "c.1442T > C  - chr6:98875675A>G\n",
      "https://rest.variantvalidator.org/VariantValidator/variantvalidator/hg38/NM_001278716.1%3Ac.1061G>C/NM_001278716.1?content-type=application%2Fjson\n",
      "c.1061G>C - chr6:98905468C>G\n",
      "https://rest.variantvalidator.org/VariantValidator/variantvalidator/hg38/NM_001278716.1%3Ac.772G>T/NM_001278716.1?content-type=application%2Fjson\n",
      "c.772G>T - chr6:98917460C>A\n",
      "https://rest.variantvalidator.org/VariantValidator/variantvalidator/hg38/NM_001278716.1%3Ac.1303C>T /NM_001278716.1?content-type=application%2Fjson\n",
      "c.1303C>T  - chr6:98899282G>A\n",
      "https://rest.variantvalidator.org/VariantValidator/variantvalidator/hg38/NM_001278716.1%3Ac.64C>T/NM_001278716.1?content-type=application%2Fjson\n",
      "c.64C>T - chr6:98926925G>A\n",
      "https://rest.variantvalidator.org/VariantValidator/variantvalidator/hg38/NM_001278716.1%3Ac.1389+3_1389+6delAAGT/NM_001278716.1?content-type=application%2Fjson\n",
      "c.1389+3_1389+6delAAGT - chr6:98880546CACTT>C\n",
      "https://rest.variantvalidator.org/VariantValidator/variantvalidator/hg38/NM_001278716.1%3Ac.1641_1642del/NM_001278716.1?content-type=application%2Fjson\n",
      "c.1641_1642del - chr6:98875474TCA>T\n",
      "https://rest.variantvalidator.org/VariantValidator/variantvalidator/hg38/NM_001278716.1%3Ac.1232G>A/NM_001278716.1?content-type=application%2Fjson\n",
      "c.1232G>A - chr6:98899353C>T\n",
      "https://rest.variantvalidator.org/VariantValidator/variantvalidator/hg38/NM_001278716.1%3Ac.1067del/NM_001278716.1?content-type=application%2Fjson\n",
      "c.1067del - chr6:98905461GC>G\n",
      "https://rest.variantvalidator.org/VariantValidator/variantvalidator/hg38/NM_001278716.1%3Ac.486T>G /NM_001278716.1?content-type=application%2Fjson\n",
      "c.486T>G  - chr6:98926503A>C\n"
     ]
    }
   ],
   "source": [
    "var1_list = df[\"var1\"].unique()\n",
    "var2_list = df[\"var2\"].unique()\n",
    "var_set = set()\n",
    "var_set.update(var1_list)\n",
    "var_set.update(var2_list)\n",
    "variant_d = {}\n",
    "hg38 = \"hg38\"\n",
    "FBXL4_transcript = \"NM_001278716.1\"\n",
    "vvalidator = VariantValidator(genome_build=hg38, transcript=FBXL4_transcript)\n",
    "for v in var_set:\n",
    "    var = vvalidator.encode_hgvs(v)\n",
    "    variant_d[v] = var\n",
    "    print(f\"{v} - {var}\")"
   ]
  },
  {
   "cell_type": "markdown",
   "id": "096c66f9-f6ef-44b3-9c70-f9526f8fb877",
   "metadata": {},
   "source": [
    "<h2>Mapping the age column</h2>\n",
    "<p>We add a dictionary to the corresponding ISO 8601 age strings. Anything not here will be mapped to \"not provided\"</p>"
   ]
  },
  {
   "cell_type": "code",
   "execution_count": 11,
   "id": "00816fda-192c-41bb-9af9-dcc0d48b7a99",
   "metadata": {},
   "outputs": [],
   "source": [
    "string_to_iso_dict = {\n",
    "    \"1.5\": \"P1Y6M\",\n",
    "    \"3.5\": \"P3Y6M\",\n",
    "    'birth': \"P1D\",\n",
    "    '51 days': \"P1M21D\",\n",
    "    '19 months': \"P1Y7M\",\n",
    "    '10 monhts': \"P10M\",\n",
    "    '14 months': \"P1Y2M\",\n",
    "    '23 months': \"P1Y11M\",\n",
    "    '22 mohts': \"P1Y10M\",\n",
    "    '9 months': \"P9M\",\n",
    "    '12 years': \"P12Y\",\n",
    "    '1 day of age': \"P1D\",\n",
    "    '4.5 years': \"P4Y6M\",\n",
    "    '4 months': \"P4M\",\n",
    "    '1 month': \"P1M\"\n",
    "}\n",
    "ageMapper = AgeColumnMapper.custom_dictionary(column_name='Age of diagnosis', string_to_iso_d=string_to_iso_dict)\n",
    "#ageMapper.preview_column(df['Age of diagnosis']).head()"
   ]
  },
  {
   "cell_type": "code",
   "execution_count": 12,
   "id": "38c6371e-6375-402f-af8c-793349db77e5",
   "metadata": {},
   "outputs": [],
   "source": [
    "sexMapper = SexColumnMapper(male_symbol=\"M\", female_symbol=\"F\", unknown_symbol=\"nan\", column_name=\"Gender\")\n",
    "#sexMapper.preview_column(df['Gender']).head()"
   ]
  },
  {
   "cell_type": "code",
   "execution_count": 13,
   "id": "5c5ca062-5c91-4f00-8888-9793a4e5953a",
   "metadata": {},
   "outputs": [
    {
     "data": {
      "text/plain": [
       "patient_id\n",
       "egzhrcpymu                       NaN\n",
       "hnkebhcukt                       NaN\n",
       "kzaszrhebc                       NaN\n",
       "bdqwaafjbu                  7 months\n",
       "rlcginzbsl                 10 months\n",
       "ufuvyqzezv                    4 days\n",
       "nsukaiycdf           11 months alive\n",
       "bmwqmwqedv           19 months alive\n",
       "seuziqctok           10 months alive\n",
       "ensmljhqhq           14 months alive\n",
       "dqsihpwtpm                    5 days\n",
       "vedoepzlav           23 months alive\n",
       "dewhmocyye           22 months alive\n",
       "uljskuasnt                       NaN\n",
       "jsveocsain                    3 days\n",
       "ferdlulhgd                  9 monhts\n",
       "vqmlccrucq                  12 years\n",
       "qkjedcruhr           14 months alive\n",
       "sycpebcwme    2 years 8 months alive\n",
       "lubvpsperx    4 years 6 months alive\n",
       "zmxcdgvnuu                   3 years\n",
       "ensdjttwfb                       NaN\n",
       "bsucnpavjl                   4 years\n",
       "uybclysyhy                       NaN\n",
       "zpahipvihp                       NaN\n",
       "dwdffxtxtp                       NaN\n",
       "uyropypacq                 16 months\n",
       "ztlrhmsyhp                       NaN\n",
       "qidmoynqop                   2 years\n",
       "xrviexcdhz                 2.5 years\n",
       "Name: Age at death, dtype: object"
      ]
     },
     "execution_count": 13,
     "metadata": {},
     "output_type": "execute_result"
    }
   ],
   "source": [
    "# todo, add vital status to encoder or encode as HPO terms\n",
    "df['Age at death']"
   ]
  },
  {
   "cell_type": "markdown",
   "id": "020b9106-8d08-411a-a63b-2a30a0a20912",
   "metadata": {},
   "source": [
    "<h1>Mapping phenotypic features</h1>\n",
    "<p>We use the CustomColumnMapper class, which uses text mining to recognize one or more HPO terms in each table cell. The preview\n",
    "column function can be used to check results, which appear very accurate. Each mapper is put into a map that is used to encode the entire cohort, below</p>"
   ]
  },
  {
   "cell_type": "code",
   "execution_count": 14,
   "id": "af1a6157-2d6c-4108-8419-a51310f4e0b2",
   "metadata": {},
   "outputs": [],
   "source": [
    "mapper_d = {}"
   ]
  },
  {
   "cell_type": "code",
   "execution_count": 15,
   "id": "b95190de-ced6-44e7-b557-d0a908992847",
   "metadata": {},
   "outputs": [],
   "source": [
    "phenotypeColumnMapper = OptionColumnMapper(concept_recognizer=hpo_cr, option_d={})\n",
    "phenotypeColumnMapper.preview_column(df['Phenotype'])\n",
    "mapper_d['Phenotype'] = phenotypeColumnMapper"
   ]
  },
  {
   "cell_type": "code",
   "execution_count": 16,
   "id": "293cb862-9065-4d1e-85d0-a51ca403094b",
   "metadata": {},
   "outputs": [
    {
     "ename": "NameError",
     "evalue": "name 'CustomColumnMapper' is not defined",
     "output_type": "error",
     "traceback": [
      "\u001b[0;31m---------------------------------------------------------------------------\u001b[0m",
      "\u001b[0;31mNameError\u001b[0m                                 Traceback (most recent call last)",
      "Cell \u001b[0;32mIn[16], line 1\u001b[0m\n\u001b[0;32m----> 1\u001b[0m prenatalUSmapper \u001b[38;5;241m=\u001b[39m  \u001b[43mCustomColumnMapper\u001b[49m(concept_recognizer\u001b[38;5;241m=\u001b[39mhpo_cr)\n\u001b[1;32m      2\u001b[0m prenatalUSmapper\u001b[38;5;241m.\u001b[39mpreview_column(df[\u001b[38;5;124m'\u001b[39m\u001b[38;5;124mPrenatal ultrasound phenotype\u001b[39m\u001b[38;5;124m'\u001b[39m])\n\u001b[1;32m      3\u001b[0m mapper_d[\u001b[38;5;124m'\u001b[39m\u001b[38;5;124mPrenatal ultrasound phenotype\u001b[39m\u001b[38;5;124m'\u001b[39m] \u001b[38;5;241m=\u001b[39m prenatalUSmapper\n",
      "\u001b[0;31mNameError\u001b[0m: name 'CustomColumnMapper' is not defined"
     ]
    }
   ],
   "source": [
    "prenatalUSmapper =  CustomColumnMapper(concept_recognizer=hpo_cr)\n",
    "prenatalUSmapper.preview_column(df['Prenatal ultrasound phenotype'])\n",
    "mapper_d['Prenatal ultrasound phenotype'] = prenatalUSmapper"
   ]
  },
  {
   "cell_type": "code",
   "execution_count": null,
   "id": "51f43f60-a94a-4f84-8321-eaed3a50fbe0",
   "metadata": {},
   "outputs": [],
   "source": [
    "mriMapper = CustomColumnMapper(concept_recognizer=hpo_cr)\n",
    "mriMapper.preview_column(df['MRI phenotype'])\n",
    "mapper_d['MRI phenotype'] = mriMapper"
   ]
  },
  {
   "cell_type": "code",
   "execution_count": null,
   "id": "48629b1c-d192-4296-895a-c39027fd37e1",
   "metadata": {},
   "outputs": [],
   "source": [
    "cardiacMapper = CustomColumnMapper(concept_recognizer=hpo_cr)\n",
    "cardiacMapper.preview_column(df['Cardiac phenotype'])\n",
    "mapper_d['Cardiac phenotype'] = cardiacMapper"
   ]
  },
  {
   "cell_type": "markdown",
   "id": "63de410d-8df4-4545-a503-68af298fb55b",
   "metadata": {},
   "source": [
    "<h1>Putting it all together</h1>"
   ]
  },
  {
   "cell_type": "code",
   "execution_count": null,
   "id": "2da8b31f-fcf5-4594-84f7-afb36c957141",
   "metadata": {},
   "outputs": [],
   "source": [
    "mdds13 = Disease(disease_id=\"OMIM:615471\", disease_label=\"Mitochondrial DNA depletion syndrome 13 (encephalomyopathic type)\")\n",
    "disease_d = {\"615471\": mdds13}\n",
    "diseaseMapper = DiseaseIdColumnMapper(column_name=\"omim_id\", disease_id_map=disease_d)"
   ]
  },
  {
   "cell_type": "code",
   "execution_count": null,
   "id": "7637ac78-d8fc-4f90-a468-8deb696aba0f",
   "metadata": {},
   "outputs": [],
   "source": [
    "encoder = MixedCohortEncoder(df=df,\n",
    "                            hpo_cr=hpo_cr,\n",
    "                             column_mapper_d=mapper_d,\n",
    "                             individual_column_name=\"patient_id\",\n",
    "                             disease_id_mapper=diseaseMapper,\n",
    "                             pmid_column=\"PMID\",\n",
    "                             title_column=\"title\",\n",
    "                             sexmapper=sexMapper,\n",
    "                             agemapper=ageMapper,\n",
    "                             metadata=metadata\n",
    "                        )"
   ]
  },
  {
   "cell_type": "code",
   "execution_count": null,
   "id": "87b47b70-7a25-48ff-b228-d31b362abc38",
   "metadata": {},
   "outputs": [],
   "source": [
    "individuals = encoder.get_individuals()"
   ]
  },
  {
   "cell_type": "code",
   "execution_count": null,
   "id": "3cfb875d-c93f-4375-838c-43e1bb994096",
   "metadata": {},
   "outputs": [],
   "source": [
    "# retrieve the variant strings and add Variant objects to each individual\n",
    "# the individual id (i.id) is also the index of the pandas dataframe\n",
    "for i in individuals:\n",
    "    print(i.id)\n",
    "    row = df.loc[i.id] \n",
    "    #print(row)\n",
    "    v1 = row['var1']\n",
    "    v2 = row['var2']\n",
    "    print(f\"v1={v1} and v2={v2}\")\n",
    "    if v1 == v2:\n",
    "        var1 = variant_d.get(v1)\n",
    "        var1.set_homozygous()\n",
    "        i.add_variant(var1)\n",
    "    else:\n",
    "        var1 = variant_d.get(v1)\n",
    "        var2 = variant_d.get(v2)\n",
    "        var1.set_heterozygous()\n",
    "        var2.set_heterozygous()\n",
    "        i.add_variant(var1)\n",
    "        i.add_variant(var2)\n",
    "    "
   ]
  },
  {
   "cell_type": "markdown",
   "id": "cfa0093e-4ad1-4458-a1f2-6c2660f9a6e4",
   "metadata": {},
   "source": [
    "<h1>Validation</h1>\n",
    "<p>pyphetools offers a quick validation that phenopackets contain a mininum number of variants and HPO terms.\n",
    "We recommend additional validation with <a href=\"https://github.com/phenopackets/phenopacket-tools\">phenopacket-tools</a>.</p>"
   ]
  },
  {
   "cell_type": "code",
   "execution_count": null,
   "id": "f1c6e96e-e257-4e5b-9008-799e1efa28c2",
   "metadata": {},
   "outputs": [],
   "source": [
    "cvalidator = ContentValidator(min_var=1, min_hpo=1)\n",
    "errors = cvalidator.validate_phenopacket_list([i.to_ga4gh_phenopacket(metadata.to_ga4gh()) for i in individuals])\n",
    "print(f\"We found {len(errors)} validation errors\")"
   ]
  },
  {
   "cell_type": "markdown",
   "id": "f2fd5264-1827-43e3-9c28-fd41daeacf41",
   "metadata": {},
   "source": [
    "<h2>Visualization</h2>"
   ]
  },
  {
   "cell_type": "code",
   "execution_count": null,
   "id": "45974479-ed62-423e-a4af-724df9510da0",
   "metadata": {},
   "outputs": [],
   "source": [
    "from IPython.display import HTML, display\n",
    "phenopackets = [i.to_ga4gh_phenopacket(metadata=metadata.to_ga4gh()) for i in individuals]\n",
    "table = PhenopacketTable(phenopacket_list=phenopackets)\n",
    "display(HTML(table.to_html()))"
   ]
  },
  {
   "cell_type": "code",
   "execution_count": null,
   "id": "766c5fd5-6c75-4aec-bbdf-19bbe85f1c1e",
   "metadata": {},
   "outputs": [],
   "source": []
  }
 ],
 "metadata": {
  "kernelspec": {
   "display_name": "pstore_env",
   "language": "python",
   "name": "pstore_env"
  },
  "language_info": {
   "codemirror_mode": {
    "name": "ipython",
    "version": 3
   },
   "file_extension": ".py",
   "mimetype": "text/x-python",
   "name": "python",
   "nbconvert_exporter": "python",
   "pygments_lexer": "ipython3",
   "version": "3.11.3"
  }
 },
 "nbformat": 4,
 "nbformat_minor": 5
}
