{
 "cells": [
  {
   "cell_type": "markdown",
   "id": "a39f3c65",
   "metadata": {},
   "source": [
    "<h1>Creation of phenopackets from tabular data (individuals in columns)</h1>\n",
    "<p>We will process <a href=\"https://pubmed.ncbi.nlm.nih.gov/19800048/\" target=\"__blank\">Coene, et al. (2009) OFD1 Is Mutated in X-Linked Joubert Syndrome and Interacts with LCA5-Encoded Lebercilin</a> in this notebook.</p>"
   ]
  },
  {
   "cell_type": "code",
   "execution_count": 1,
   "id": "f0602c0e",
   "metadata": {
    "pycharm": {
     "is_executing": true
    }
   },
   "outputs": [
    {
     "name": "stdout",
     "output_type": "stream",
     "text": [
      "Using pyphetools version 0.9.4\n"
     ]
    }
   ],
   "source": [
    "import pandas as pd\n",
    "pd.set_option('display.max_colwidth', None) # show entire column contents, important!\n",
    "from IPython.display import display, HTML\n",
    "from pyphetools.creation import *\n",
    "from pyphetools.visualization import *\n",
    "from pyphetools.validation import *\n",
    "import pyphetools\n",
    "print(f\"Using pyphetools version {pyphetools.__version__}\")"
   ]
  },
  {
   "cell_type": "markdown",
   "id": "8606e7eb",
   "metadata": {},
   "source": [
    "<h2>Importing HPO data</h2>"
   ]
  },
  {
   "cell_type": "code",
   "execution_count": 2,
   "id": "5a7789fc",
   "metadata": {
    "pycharm": {
     "is_executing": true
    }
   },
   "outputs": [
    {
     "name": "stdout",
     "output_type": "stream",
     "text": [
      "HPO version 2023-10-09\n"
     ]
    }
   ],
   "source": [
    "parser = HpoParser()\n",
    "hpo_cr = parser.get_hpo_concept_recognizer()\n",
    "hpo_version = parser.get_version()\n",
    "hpo_ontology = parser.get_ontology()\n",
    "PMID = \"PMID:19800048\"\n",
    "title = \"OFD1 is mutated in X-linked Joubert syndrome and interacts with LCA5-encoded lebercilin\"\n",
    "cite = Citation(pmid=PMID, title=title)\n",
    "metadata = MetaData(created_by=\"ORCID:0000-0002-5648-2155\", citation=cite)\n",
    "metadata.default_versions_with_hpo(version=hpo_version)\n",
    "print(f\"HPO version {hpo_version}\")"
   ]
  },
  {
   "cell_type": "markdown",
   "id": "5102722a",
   "metadata": {},
   "source": [
    "<h2>Importing the supplemental table</h2>"
   ]
  },
  {
   "cell_type": "code",
   "execution_count": 3,
   "id": "f17c3924",
   "metadata": {
    "pycharm": {
     "is_executing": true
    }
   },
   "outputs": [],
   "source": [
    "df = pd.read_excel('input/PMID_19800048.xlsx')"
   ]
  },
  {
   "cell_type": "code",
   "execution_count": 4,
   "id": "06ec7dbd",
   "metadata": {
    "pycharm": {
     "is_executing": true
    }
   },
   "outputs": [
    {
     "data": {
      "text/html": [
       "<div>\n",
       "<style scoped>\n",
       "    .dataframe tbody tr th:only-of-type {\n",
       "        vertical-align: middle;\n",
       "    }\n",
       "\n",
       "    .dataframe tbody tr th {\n",
       "        vertical-align: top;\n",
       "    }\n",
       "\n",
       "    .dataframe thead th {\n",
       "        text-align: right;\n",
       "    }\n",
       "</style>\n",
       "<table border=\"1\" class=\"dataframe\">\n",
       "  <thead>\n",
       "    <tr style=\"text-align: right;\">\n",
       "      <th></th>\n",
       "      <th>Individual</th>\n",
       "      <th>Sex</th>\n",
       "      <th>Age</th>\n",
       "      <th>Genetic_variant</th>\n",
       "      <th>Polyhydramnios</th>\n",
       "      <th>Intellectual disability, severe</th>\n",
       "      <th>Postaxial hand polydactyly</th>\n",
       "      <th>Postaxial foot polydactyly</th>\n",
       "      <th>Rod-cone dystrophy</th>\n",
       "      <th>Molar tooth sign on MRI</th>\n",
       "      <th>...</th>\n",
       "      <th>Frequent temper tantrums</th>\n",
       "      <th>Conductive hearing impairment</th>\n",
       "      <th>Cerebellar vermis hypoplasia</th>\n",
       "      <th>Low-set ears</th>\n",
       "      <th>Polyphagia</th>\n",
       "      <th>Obesity</th>\n",
       "      <th>Macrocephaly</th>\n",
       "      <th>Hypotonia</th>\n",
       "      <th>Dysmetria</th>\n",
       "      <th>Brachydactyly</th>\n",
       "    </tr>\n",
       "  </thead>\n",
       "  <tbody>\n",
       "    <tr>\n",
       "      <th>0</th>\n",
       "      <td>III-9</td>\n",
       "      <td>male</td>\n",
       "      <td>34</td>\n",
       "      <td>c.2841_2847delAAAAGAC</td>\n",
       "      <td>NaN</td>\n",
       "      <td>+</td>\n",
       "      <td>NaN</td>\n",
       "      <td>NaN</td>\n",
       "      <td>+</td>\n",
       "      <td>+</td>\n",
       "      <td>...</td>\n",
       "      <td>NaN</td>\n",
       "      <td>NaN</td>\n",
       "      <td>+</td>\n",
       "      <td>+</td>\n",
       "      <td>NaN</td>\n",
       "      <td>NaN</td>\n",
       "      <td>NaN</td>\n",
       "      <td>NaN</td>\n",
       "      <td>NaN</td>\n",
       "      <td>NaN</td>\n",
       "    </tr>\n",
       "    <tr>\n",
       "      <th>1</th>\n",
       "      <td>III-10</td>\n",
       "      <td>male</td>\n",
       "      <td>0</td>\n",
       "      <td>c.2841_2847delAAAAGAC</td>\n",
       "      <td>NaN</td>\n",
       "      <td>+</td>\n",
       "      <td>NaN</td>\n",
       "      <td>NaN</td>\n",
       "      <td>+</td>\n",
       "      <td>NaN</td>\n",
       "      <td>...</td>\n",
       "      <td>NaN</td>\n",
       "      <td>NaN</td>\n",
       "      <td>NaN</td>\n",
       "      <td>NaN</td>\n",
       "      <td>NaN</td>\n",
       "      <td>NaN</td>\n",
       "      <td>NaN</td>\n",
       "      <td>NaN</td>\n",
       "      <td>NaN</td>\n",
       "      <td>NaN</td>\n",
       "    </tr>\n",
       "    <tr>\n",
       "      <th>2</th>\n",
       "      <td>IV-2</td>\n",
       "      <td>male</td>\n",
       "      <td>0</td>\n",
       "      <td>c.2841_2847delAAAAGAC</td>\n",
       "      <td>NaN</td>\n",
       "      <td>+</td>\n",
       "      <td>+</td>\n",
       "      <td>+</td>\n",
       "      <td>NaN</td>\n",
       "      <td>NaN</td>\n",
       "      <td>...</td>\n",
       "      <td>NaN</td>\n",
       "      <td>NaN</td>\n",
       "      <td>NaN</td>\n",
       "      <td>NaN</td>\n",
       "      <td>NaN</td>\n",
       "      <td>NaN</td>\n",
       "      <td>NaN</td>\n",
       "      <td>NaN</td>\n",
       "      <td>NaN</td>\n",
       "      <td>NaN</td>\n",
       "    </tr>\n",
       "    <tr>\n",
       "      <th>3</th>\n",
       "      <td>IV-3</td>\n",
       "      <td>male</td>\n",
       "      <td>0</td>\n",
       "      <td>c.2841_2847delAAAAGAC</td>\n",
       "      <td>NaN</td>\n",
       "      <td>+</td>\n",
       "      <td>NaN</td>\n",
       "      <td>NaN</td>\n",
       "      <td>NaN</td>\n",
       "      <td>NaN</td>\n",
       "      <td>...</td>\n",
       "      <td>NaN</td>\n",
       "      <td>NaN</td>\n",
       "      <td>NaN</td>\n",
       "      <td>NaN</td>\n",
       "      <td>NaN</td>\n",
       "      <td>NaN</td>\n",
       "      <td>NaN</td>\n",
       "      <td>NaN</td>\n",
       "      <td>NaN</td>\n",
       "      <td>NaN</td>\n",
       "    </tr>\n",
       "    <tr>\n",
       "      <th>4</th>\n",
       "      <td>IV-4</td>\n",
       "      <td>male</td>\n",
       "      <td>0</td>\n",
       "      <td>c.2841_2847delAAAAGAC</td>\n",
       "      <td>NaN</td>\n",
       "      <td>+</td>\n",
       "      <td>+</td>\n",
       "      <td>+</td>\n",
       "      <td>NaN</td>\n",
       "      <td>NaN</td>\n",
       "      <td>...</td>\n",
       "      <td>NaN</td>\n",
       "      <td>NaN</td>\n",
       "      <td>NaN</td>\n",
       "      <td>NaN</td>\n",
       "      <td>NaN</td>\n",
       "      <td>NaN</td>\n",
       "      <td>NaN</td>\n",
       "      <td>NaN</td>\n",
       "      <td>NaN</td>\n",
       "      <td>NaN</td>\n",
       "    </tr>\n",
       "  </tbody>\n",
       "</table>\n",
       "<p>5 rows × 31 columns</p>\n",
       "</div>"
      ],
      "text/plain": [
       "  Individual   Sex  Age        Genetic_variant Polyhydramnios  \\\n",
       "0      III-9  male   34  c.2841_2847delAAAAGAC            NaN   \n",
       "1     III-10  male    0  c.2841_2847delAAAAGAC            NaN   \n",
       "2       IV-2  male    0  c.2841_2847delAAAAGAC            NaN   \n",
       "3       IV-3  male    0  c.2841_2847delAAAAGAC            NaN   \n",
       "4       IV-4  male    0  c.2841_2847delAAAAGAC            NaN   \n",
       "\n",
       "  Intellectual disability, severe Postaxial hand polydactyly  \\\n",
       "0                               +                        NaN   \n",
       "1                               +                        NaN   \n",
       "2                               +                          +   \n",
       "3                               +                        NaN   \n",
       "4                               +                          +   \n",
       "\n",
       "  Postaxial foot polydactyly Rod-cone dystrophy Molar tooth sign on MRI  ...  \\\n",
       "0                        NaN                  +                       +  ...   \n",
       "1                        NaN                  +                     NaN  ...   \n",
       "2                          +                NaN                     NaN  ...   \n",
       "3                        NaN                NaN                     NaN  ...   \n",
       "4                          +                NaN                     NaN  ...   \n",
       "\n",
       "  Frequent temper tantrums Conductive hearing impairment  \\\n",
       "0                      NaN                           NaN   \n",
       "1                      NaN                           NaN   \n",
       "2                      NaN                           NaN   \n",
       "3                      NaN                           NaN   \n",
       "4                      NaN                           NaN   \n",
       "\n",
       "  Cerebellar vermis hypoplasia Low-set ears Polyphagia Obesity Macrocephaly  \\\n",
       "0                            +            +        NaN     NaN          NaN   \n",
       "1                          NaN          NaN        NaN     NaN          NaN   \n",
       "2                          NaN          NaN        NaN     NaN          NaN   \n",
       "3                          NaN          NaN        NaN     NaN          NaN   \n",
       "4                          NaN          NaN        NaN     NaN          NaN   \n",
       "\n",
       "  Hypotonia Dysmetria Brachydactyly  \n",
       "0       NaN       NaN           NaN  \n",
       "1       NaN       NaN           NaN  \n",
       "2       NaN       NaN           NaN  \n",
       "3       NaN       NaN           NaN  \n",
       "4       NaN       NaN           NaN  \n",
       "\n",
       "[5 rows x 31 columns]"
      ]
     },
     "execution_count": 4,
     "metadata": {},
     "output_type": "execute_result"
    }
   ],
   "source": [
    "df.head()"
   ]
  },
  {
   "cell_type": "markdown",
   "id": "8314d6bd",
   "metadata": {},
   "source": [
    "<h2>Column mappers</h2>\n",
    "<p>Please see the notebook \"Create phenopackets from tabular data with individuals in rows\" for explanations. In the following cell we create a dictionary for the ColumnMappers. Note that the code is identical except that we use the df.loc function to get the corresponding row data</p>"
   ]
  },
  {
   "cell_type": "code",
   "execution_count": 5,
   "id": "2305a0d2",
   "metadata": {
    "pycharm": {
     "is_executing": true
    }
   },
   "outputs": [],
   "source": [
    "hpo_cr = parser.get_hpo_concept_recognizer()\n",
    "generator = SimpleColumnMapperGenerator(df=df, observed='+', excluded='-', hpo_cr=hpo_cr)\n",
    "column_mapper_d = generator.try_mapping_columns()"
   ]
  },
  {
   "cell_type": "code",
   "execution_count": 6,
   "id": "fa281c54",
   "metadata": {
    "pycharm": {
     "is_executing": true
    }
   },
   "outputs": [
    {
     "data": {
      "text/html": [
       "<table style=\"border: 2px solid black;\">\n",
       "\n",
       "<tr>\n",
       "            <th>Result</th>\n",
       "            <th>Columns</th>\n",
       "        </tr>\n",
       "      \n",
       "<tr><td>Mapped</td><td>Polyhydramnios; Intellectual disability, severe; Postaxial hand polydactyly; Postaxial foot polydactyly; Rod-cone dystrophy; Molar tooth sign on MRI; Microcephaly; Decreased body weight; Short stature; Tube feeding; Feeding difficulties; Motor delay; Hirsutism; Wide nasal bridge; Thick vermilion border; Absent speech; Recurrent fever; Frequent temper tantrums; Conductive hearing impairment; Cerebellar vermis hypoplasia; Low-set ears; Polyphagia; Obesity; Macrocephaly; Hypotonia; Dysmetria; Brachydactyly</td></tr>\n",
       "<tr><td>Unmapped</td><td><q>Individual</q>; <q>Sex</q>; <q>Age</q>; <q>Genetic_variant</q></td></tr>\n",
       "</table>\n"
      ],
      "text/plain": [
       "<IPython.core.display.HTML object>"
      ]
     },
     "metadata": {},
     "output_type": "display_data"
    }
   ],
   "source": [
    "display(HTML((generator.to_html())))"
   ]
  },
  {
   "cell_type": "markdown",
   "id": "5e53617d",
   "metadata": {},
   "source": [
    "<h2>Variant Data</h2>\n",
    "<p>The variant data (HGVS transcript) is listed in the Variant (hg19, NM_015133.4) column.</p>"
   ]
  },
  {
   "cell_type": "code",
   "execution_count": 7,
   "id": "da4d5706",
   "metadata": {
    "pycharm": {
     "is_executing": true
    }
   },
   "outputs": [
    {
     "name": "stdout",
     "output_type": "stream",
     "text": [
      "https://rest.variantvalidator.org/VariantValidator/variantvalidator/hg38/NM_003611.2%3Ac.2841_2847delAAAAGAC/NM_003611.2?content-type=application%2Fjson\n",
      "https://rest.variantvalidator.org/VariantValidator/variantvalidator/hg38/NM_003611.2%3Ac.2767delG/NM_003611.2?content-type=application%2Fjson\n"
     ]
    }
   ],
   "source": [
    "default_genotype = 'hemizygous'\n",
    "transcript='NM_003611.2'\n",
    "vvalidator = VariantValidator(genome_build=\"hg38\", transcript=transcript)\n",
    "var_d = {}\n",
    "for v in df['Genetic_variant'].unique():\n",
    "    var = vvalidator.encode_hgvs(v)\n",
    "    var_d[v] = var\n",
    "\n",
    "varMapper = VariantColumnMapper(variant_d=var_d,\n",
    "                                variant_column_name='Genetic_variant', \n",
    "                                default_genotype=default_genotype)"
   ]
  },
  {
   "cell_type": "markdown",
   "id": "d1af2052",
   "metadata": {},
   "source": [
    "<h1>Demographic data</h1>"
   ]
  },
  {
   "cell_type": "code",
   "execution_count": 8,
   "id": "3e64dc08",
   "metadata": {
    "pycharm": {
     "is_executing": true
    }
   },
   "outputs": [
    {
     "data": {
      "text/html": [
       "<div>\n",
       "<style scoped>\n",
       "    .dataframe tbody tr th:only-of-type {\n",
       "        vertical-align: middle;\n",
       "    }\n",
       "\n",
       "    .dataframe tbody tr th {\n",
       "        vertical-align: top;\n",
       "    }\n",
       "\n",
       "    .dataframe thead th {\n",
       "        text-align: right;\n",
       "    }\n",
       "</style>\n",
       "<table border=\"1\" class=\"dataframe\">\n",
       "  <thead>\n",
       "    <tr style=\"text-align: right;\">\n",
       "      <th></th>\n",
       "      <th>original column contents</th>\n",
       "      <th>age</th>\n",
       "    </tr>\n",
       "  </thead>\n",
       "  <tbody>\n",
       "    <tr>\n",
       "      <th>0</th>\n",
       "      <td>34</td>\n",
       "      <td>P34Y</td>\n",
       "    </tr>\n",
       "    <tr>\n",
       "      <th>1</th>\n",
       "      <td>0</td>\n",
       "      <td>P0Y</td>\n",
       "    </tr>\n",
       "    <tr>\n",
       "      <th>2</th>\n",
       "      <td>12</td>\n",
       "      <td>P12Y</td>\n",
       "    </tr>\n",
       "  </tbody>\n",
       "</table>\n",
       "</div>"
      ],
      "text/plain": [
       "   original column contents   age\n",
       "0                        34  P34Y\n",
       "1                         0   P0Y\n",
       "2                        12  P12Y"
      ]
     },
     "execution_count": 8,
     "metadata": {},
     "output_type": "execute_result"
    }
   ],
   "source": [
    "ageMapper = AgeColumnMapper.by_year('Age')\n",
    "ageMapper.preview_column(df['Age'])"
   ]
  },
  {
   "cell_type": "code",
   "execution_count": 9,
   "id": "71f664cc",
   "metadata": {
    "pycharm": {
     "is_executing": true
    }
   },
   "outputs": [
    {
     "data": {
      "text/html": [
       "<div>\n",
       "<style scoped>\n",
       "    .dataframe tbody tr th:only-of-type {\n",
       "        vertical-align: middle;\n",
       "    }\n",
       "\n",
       "    .dataframe tbody tr th {\n",
       "        vertical-align: top;\n",
       "    }\n",
       "\n",
       "    .dataframe thead th {\n",
       "        text-align: right;\n",
       "    }\n",
       "</style>\n",
       "<table border=\"1\" class=\"dataframe\">\n",
       "  <thead>\n",
       "    <tr style=\"text-align: right;\">\n",
       "      <th></th>\n",
       "      <th>original column contents</th>\n",
       "      <th>sex</th>\n",
       "    </tr>\n",
       "  </thead>\n",
       "  <tbody>\n",
       "    <tr>\n",
       "      <th>0</th>\n",
       "      <td>male</td>\n",
       "      <td>MALE</td>\n",
       "    </tr>\n",
       "    <tr>\n",
       "      <th>1</th>\n",
       "      <td>male</td>\n",
       "      <td>MALE</td>\n",
       "    </tr>\n",
       "    <tr>\n",
       "      <th>2</th>\n",
       "      <td>male</td>\n",
       "      <td>MALE</td>\n",
       "    </tr>\n",
       "    <tr>\n",
       "      <th>3</th>\n",
       "      <td>male</td>\n",
       "      <td>MALE</td>\n",
       "    </tr>\n",
       "    <tr>\n",
       "      <th>4</th>\n",
       "      <td>male</td>\n",
       "      <td>MALE</td>\n",
       "    </tr>\n",
       "    <tr>\n",
       "      <th>5</th>\n",
       "      <td>male</td>\n",
       "      <td>MALE</td>\n",
       "    </tr>\n",
       "    <tr>\n",
       "      <th>6</th>\n",
       "      <td>male</td>\n",
       "      <td>MALE</td>\n",
       "    </tr>\n",
       "    <tr>\n",
       "      <th>7</th>\n",
       "      <td>male</td>\n",
       "      <td>MALE</td>\n",
       "    </tr>\n",
       "    <tr>\n",
       "      <th>8</th>\n",
       "      <td>male</td>\n",
       "      <td>MALE</td>\n",
       "    </tr>\n",
       "  </tbody>\n",
       "</table>\n",
       "</div>"
      ],
      "text/plain": [
       "  original column contents   sex\n",
       "0                     male  MALE\n",
       "1                     male  MALE\n",
       "2                     male  MALE\n",
       "3                     male  MALE\n",
       "4                     male  MALE\n",
       "5                     male  MALE\n",
       "6                     male  MALE\n",
       "7                     male  MALE\n",
       "8                     male  MALE"
      ]
     },
     "execution_count": 9,
     "metadata": {},
     "output_type": "execute_result"
    }
   ],
   "source": [
    "sexMapper = SexColumnMapper(male_symbol='male', female_symbol='female', column_name='Sex')\n",
    "sexMapper.preview_column(df['Sex'])"
   ]
  },
  {
   "cell_type": "code",
   "execution_count": 10,
   "id": "f6581a8a",
   "metadata": {
    "pycharm": {
     "is_executing": true
    }
   },
   "outputs": [],
   "source": [
    "\n",
    "encoder = CohortEncoder(df=df, \n",
    "                        hpo_cr=hpo_cr, \n",
    "                        column_mapper_d=column_mapper_d, \n",
    "                        individual_column_name=\"Individual\", \n",
    "                        agemapper=ageMapper, \n",
    "                        sexmapper=sexMapper,\n",
    "                        variant_mapper=varMapper, \n",
    "                        metadata=metadata)\n",
    "j10 = Disease(disease_id='OMIM:300804', disease_label='Joubert syndrome 10')\n",
    "encoder.set_disease(disease=j10)"
   ]
  },
  {
   "cell_type": "code",
   "execution_count": 11,
   "id": "fd367ed6",
   "metadata": {
    "pycharm": {
     "is_executing": true
    }
   },
   "outputs": [
    {
     "data": {
      "text/html": [
       "<h2>Cohort validation</h2>\n",
       "<p>Errors found with 9 of 9 phenopackets.</p>\n",
       "<table style=\"border: 2px solid black; align: \"left\">\n",
       "<caption>Error counts</caption>\n",
       "<tr><th style=\"text-align: left;font-weight: bold;\">Level</th><th style=\"text-align: left;font-weight: bold;\">Error category</th><th style=\"text-align: left;font-weight: bold;\">Count</th></tr>\n",
       "<tr><td style=\"text-align: left;\">WARNING</td><td style=\"text-align: left;\">REDUNDANT</td><td style=\"text-align: left;\">2</td></tr>\n",
       "<tr><td style=\"text-align: left;\">INFORMATION</td><td style=\"text-align: left;\">NOT_MEASURED</td><td style=\"text-align: left;\">188</td></tr>\n",
       "</table>\n",
       "<p>A total of 190 issues were fixed and no individual was removed from the cohort.</p>"
      ],
      "text/plain": [
       "<IPython.core.display.HTML object>"
      ]
     },
     "metadata": {},
     "output_type": "display_data"
    }
   ],
   "source": [
    "individuals = encoder.get_individuals()\n",
    "cvalidator = CohortValidator(cohort=individuals, ontology=hpo_ontology, min_hpo=1, allelic_requirement=AllelicRequirement.MONO_ALLELIC)\n",
    "qc = QcVisualizer(cohort_validator=cvalidator)\n",
    "display(HTML(qc.to_summary_html()))"
   ]
  },
  {
   "cell_type": "code",
   "execution_count": 12,
   "id": "5d044b78",
   "metadata": {
    "pycharm": {
     "is_executing": true
    }
   },
   "outputs": [
    {
     "data": {
      "text/html": [
       "<table style=\"border: 2px solid black; align: \"left\">\n",
       "<caption>9 phenopackets - PMID:19800048 (n=9)</caption>\n",
       "<tr><th style=\"text-align: left;font-weight: bold;\">Individual</th><th style=\"text-align: left;font-weight: bold;\">Disease</th><th style=\"text-align: left;font-weight: bold;\">Genotype</th><th style=\"text-align: left;font-weight: bold;\">Phenotypic features</th></tr>\n",
       "<tr><td style=\"text-align: left;\">III-9 (MALE; P34Y)</td><td style=\"text-align: left;\">Joubert syndrome 10 (OMIM:300804)</td><td style=\"text-align: left;\">NM_003611.2:c.2844_2850del (hemizygous)</td><td style=\"text-align: left;\">Intellectual disability (HP:0001249); Rod-cone dystrophy (HP:0000510); Molar tooth sign on MRI (HP:0002419); Thick vermilion border (HP:0012471); Cerebellar vermis hypoplasia (HP:0001320); Low-set ears (HP:0000369)</td></tr>\n",
       "<tr><td style=\"text-align: left;\">III-10 (MALE; P0Y)</td><td style=\"text-align: left;\">Joubert syndrome 10 (OMIM:300804)</td><td style=\"text-align: left;\">NM_003611.2:c.2844_2850del (hemizygous)</td><td style=\"text-align: left;\">Intellectual disability (HP:0001249); Rod-cone dystrophy (HP:0000510)</td></tr>\n",
       "<tr><td style=\"text-align: left;\">IV-2 (MALE; P0Y)</td><td style=\"text-align: left;\">Joubert syndrome 10 (OMIM:300804)</td><td style=\"text-align: left;\">NM_003611.2:c.2844_2850del (hemizygous)</td><td style=\"text-align: left;\">Intellectual disability (HP:0001249); Postaxial hand polydactyly (HP:0001162); Postaxial foot polydactyly (HP:0001830)</td></tr>\n",
       "<tr><td style=\"text-align: left;\">IV-3 (MALE; P0Y)</td><td style=\"text-align: left;\">Joubert syndrome 10 (OMIM:300804)</td><td style=\"text-align: left;\">NM_003611.2:c.2844_2850del (hemizygous)</td><td style=\"text-align: left;\">Intellectual disability (HP:0001249)</td></tr>\n",
       "<tr><td style=\"text-align: left;\">IV-4 (MALE; P0Y)</td><td style=\"text-align: left;\">Joubert syndrome 10 (OMIM:300804)</td><td style=\"text-align: left;\">NM_003611.2:c.2844_2850del (hemizygous)</td><td style=\"text-align: left;\">Intellectual disability (HP:0001249); Postaxial hand polydactyly (HP:0001162); Postaxial foot polydactyly (HP:0001830)</td></tr>\n",
       "<tr><td style=\"text-align: left;\">IV-5 (MALE; P0Y)</td><td style=\"text-align: left;\">Joubert syndrome 10 (OMIM:300804)</td><td style=\"text-align: left;\">NM_003611.2:c.2844_2850del (hemizygous)</td><td style=\"text-align: left;\">Intellectual disability (HP:0001249); Postaxial hand polydactyly (HP:0001162); Postaxial foot polydactyly (HP:0001830)</td></tr>\n",
       "<tr><td style=\"text-align: left;\">IV-6 (MALE; P0Y)</td><td style=\"text-align: left;\">Joubert syndrome 10 (OMIM:300804)</td><td style=\"text-align: left;\">NM_003611.2:c.2844_2850del (hemizygous)</td><td style=\"text-align: left;\">Intellectual disability (HP:0001249); Postaxial hand polydactyly (HP:0001162); Postaxial foot polydactyly (HP:0001830)</td></tr>\n",
       "<tr><td style=\"text-align: left;\">IV-10 (MALE; P0Y)</td><td style=\"text-align: left;\">Joubert syndrome 10 (OMIM:300804)</td><td style=\"text-align: left;\">NM_003611.2:c.2844_2850del (hemizygous)</td><td style=\"text-align: left;\">Intellectual disability (HP:0001249); Postaxial hand polydactyly (HP:0001162); Postaxial foot polydactyly (HP:0001830); Rod-cone dystrophy (HP:0000510); Molar tooth sign on MRI (HP:0002419); Microcephaly (HP:0000252); Decreased body weight (HP:0004325); Short stature (HP:0004322); Tube feeding (HP:0033454); Motor delay (HP:0001270); Hirsutism (HP:0001007); Wide nasal bridge (HP:0000431); Thick vermilion border (HP:0012471); Absent speech (HP:0001344); Recurrent fever (HP:0001954); Frequent temper tantrums (HP:0025161); Conductive hearing impairment (HP:0000405); Cerebellar vermis hypoplasia (HP:0001320); Low-set ears (HP:0000369)</td></tr>\n",
       "<tr><td style=\"text-align: left;\">UW87 (MALE; P12Y)</td><td style=\"text-align: left;\">Joubert syndrome 10 (OMIM:300804)</td><td style=\"text-align: left;\">NM_003611.2:c.2767del (hemizygous)</td><td style=\"text-align: left;\">Polyhydramnios (HP:0001561); Intellectual disability (HP:0001249); Postaxial hand polydactyly (HP:0001162); Postaxial foot polydactyly (HP:0001830); Molar tooth sign on MRI (HP:0002419); Tube feeding (HP:0033454); Absent speech (HP:0001344); Polyphagia (HP:0002591); Obesity (HP:0001513); Macrocephaly (HP:0000256); Hypotonia (HP:0001252); Dysmetria (HP:0001310); Brachydactyly (HP:0001156)</td></tr>\n",
       "</table>"
      ],
      "text/plain": [
       "<IPython.core.display.HTML object>"
      ]
     },
     "metadata": {},
     "output_type": "display_data"
    }
   ],
   "source": [
    "individuals = cvalidator.get_error_free_individual_list()\n",
    "table = PhenopacketTable(individual_list=individuals, metadata=metadata)\n",
    "display(HTML(table.to_html()))"
   ]
  },
  {
   "cell_type": "code",
   "execution_count": 13,
   "id": "d4edc40f-9f8d-4005-b343-e922425768cf",
   "metadata": {},
   "outputs": [
    {
     "data": {
      "text/html": [
       "<table style=\"border: 2px solid black; align: \"left\">\n",
       "<caption>9 phenopackets - PMID:19800048 (n=9)</caption>\n",
       "<tr><th style=\"text-align: left;font-weight: bold;\">Individual</th><th style=\"text-align: left;font-weight: bold;\">Disease</th><th style=\"text-align: left;font-weight: bold;\">Genotype</th><th style=\"text-align: left;font-weight: bold;\">Phenotypic features</th></tr>\n",
       "<tr><td style=\"text-align: left;\">III-9 (MALE; P34Y)</td><td style=\"text-align: left;\">Joubert syndrome 10 (OMIM:300804)</td><td style=\"text-align: left;\">NM_003611.2:c.2844_2850del (hemizygous)</td><td style=\"text-align: left;\">Intellectual disability (HP:0001249); Rod-cone dystrophy (HP:0000510); Molar tooth sign on MRI (HP:0002419); Thick vermilion border (HP:0012471); Cerebellar vermis hypoplasia (HP:0001320); Low-set ears (HP:0000369)</td></tr>\n",
       "<tr><td style=\"text-align: left;\">III-10 (MALE; P0Y)</td><td style=\"text-align: left;\">Joubert syndrome 10 (OMIM:300804)</td><td style=\"text-align: left;\">NM_003611.2:c.2844_2850del (hemizygous)</td><td style=\"text-align: left;\">Intellectual disability (HP:0001249); Rod-cone dystrophy (HP:0000510)</td></tr>\n",
       "<tr><td style=\"text-align: left;\">IV-2 (MALE; P0Y)</td><td style=\"text-align: left;\">Joubert syndrome 10 (OMIM:300804)</td><td style=\"text-align: left;\">NM_003611.2:c.2844_2850del (hemizygous)</td><td style=\"text-align: left;\">Intellectual disability (HP:0001249); Postaxial hand polydactyly (HP:0001162); Postaxial foot polydactyly (HP:0001830)</td></tr>\n",
       "<tr><td style=\"text-align: left;\">IV-3 (MALE; P0Y)</td><td style=\"text-align: left;\">Joubert syndrome 10 (OMIM:300804)</td><td style=\"text-align: left;\">NM_003611.2:c.2844_2850del (hemizygous)</td><td style=\"text-align: left;\">Intellectual disability (HP:0001249)</td></tr>\n",
       "<tr><td style=\"text-align: left;\">IV-4 (MALE; P0Y)</td><td style=\"text-align: left;\">Joubert syndrome 10 (OMIM:300804)</td><td style=\"text-align: left;\">NM_003611.2:c.2844_2850del (hemizygous)</td><td style=\"text-align: left;\">Intellectual disability (HP:0001249); Postaxial hand polydactyly (HP:0001162); Postaxial foot polydactyly (HP:0001830)</td></tr>\n",
       "<tr><td style=\"text-align: left;\">IV-5 (MALE; P0Y)</td><td style=\"text-align: left;\">Joubert syndrome 10 (OMIM:300804)</td><td style=\"text-align: left;\">NM_003611.2:c.2844_2850del (hemizygous)</td><td style=\"text-align: left;\">Intellectual disability (HP:0001249); Postaxial hand polydactyly (HP:0001162); Postaxial foot polydactyly (HP:0001830)</td></tr>\n",
       "<tr><td style=\"text-align: left;\">IV-6 (MALE; P0Y)</td><td style=\"text-align: left;\">Joubert syndrome 10 (OMIM:300804)</td><td style=\"text-align: left;\">NM_003611.2:c.2844_2850del (hemizygous)</td><td style=\"text-align: left;\">Intellectual disability (HP:0001249); Postaxial hand polydactyly (HP:0001162); Postaxial foot polydactyly (HP:0001830)</td></tr>\n",
       "<tr><td style=\"text-align: left;\">IV-10 (MALE; P0Y)</td><td style=\"text-align: left;\">Joubert syndrome 10 (OMIM:300804)</td><td style=\"text-align: left;\">NM_003611.2:c.2844_2850del (hemizygous)</td><td style=\"text-align: left;\">Intellectual disability (HP:0001249); Postaxial hand polydactyly (HP:0001162); Postaxial foot polydactyly (HP:0001830); Rod-cone dystrophy (HP:0000510); Molar tooth sign on MRI (HP:0002419); Microcephaly (HP:0000252); Decreased body weight (HP:0004325); Short stature (HP:0004322); Tube feeding (HP:0033454); Motor delay (HP:0001270); Hirsutism (HP:0001007); Wide nasal bridge (HP:0000431); Thick vermilion border (HP:0012471); Absent speech (HP:0001344); Recurrent fever (HP:0001954); Frequent temper tantrums (HP:0025161); Conductive hearing impairment (HP:0000405); Cerebellar vermis hypoplasia (HP:0001320); Low-set ears (HP:0000369)</td></tr>\n",
       "<tr><td style=\"text-align: left;\">UW87 (MALE; P12Y)</td><td style=\"text-align: left;\">Joubert syndrome 10 (OMIM:300804)</td><td style=\"text-align: left;\">NM_003611.2:c.2767del (hemizygous)</td><td style=\"text-align: left;\">Polyhydramnios (HP:0001561); Intellectual disability (HP:0001249); Postaxial hand polydactyly (HP:0001162); Postaxial foot polydactyly (HP:0001830); Molar tooth sign on MRI (HP:0002419); Tube feeding (HP:0033454); Absent speech (HP:0001344); Polyphagia (HP:0002591); Obesity (HP:0001513); Macrocephaly (HP:0000256); Hypotonia (HP:0001252); Dysmetria (HP:0001310); Brachydactyly (HP:0001156)</td></tr>\n",
       "</table>"
      ],
      "text/plain": [
       "<IPython.core.display.HTML object>"
      ]
     },
     "metadata": {},
     "output_type": "display_data"
    }
   ],
   "source": [
    "from IPython.display import HTML, display\n",
    "\n",
    "phenopackets = [i.to_ga4gh_phenopacket(metadata=metadata.to_ga4gh()) for i in individuals]\n",
    "table = PhenopacketTable(phenopacket_list=phenopackets)\n",
    "display(HTML(table.to_html()))"
   ]
  },
  {
   "cell_type": "code",
   "execution_count": 14,
   "id": "23f1094f",
   "metadata": {
    "pycharm": {
     "is_executing": true
    }
   },
   "outputs": [
    {
     "name": "stdout",
     "output_type": "stream",
     "text": [
      "We output 9 GA4GH phenopackets to the directory phenopackets\n"
     ]
    }
   ],
   "source": [
    "output_directory = \"phenopackets\"\n",
    "Individual.output_individuals_as_phenopackets(individual_list=individuals,\n",
    "                                              metadata=metadata,\n",
    "                                              outdir=output_directory)"
   ]
  },
  {
   "cell_type": "code",
   "execution_count": null,
   "id": "9130da09-c242-46ea-a950-ba5856b087ff",
   "metadata": {},
   "outputs": [],
   "source": []
  }
 ],
 "metadata": {
  "kernelspec": {
   "display_name": "Python 3 (ipykernel)",
   "language": "python",
   "name": "python3"
  },
  "language_info": {
   "codemirror_mode": {
    "name": "ipython",
    "version": 3
   },
   "file_extension": ".py",
   "mimetype": "text/x-python",
   "name": "python",
   "nbconvert_exporter": "python",
   "pygments_lexer": "ipython3",
   "version": "3.11.3"
  }
 },
 "nbformat": 4,
 "nbformat_minor": 5
}
