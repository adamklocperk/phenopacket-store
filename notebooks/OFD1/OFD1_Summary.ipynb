{
 "cells": [
  {
   "cell_type": "markdown",
   "id": "caff7b2e-1396-4ce0-9db3-08e916424d01",
   "metadata": {},
   "source": [
    "<h1>OFD1 Summary</h1>\n",
    "<p>This notebook provides a summary of the phenopackets created by the three other notebooks in this folder.</p>"
   ]
  },
  {
   "cell_type": "code",
   "execution_count": 4,
   "id": "8da59b7b-3a66-445b-a115-1ea28fa2cb72",
   "metadata": {},
   "outputs": [
    {
     "name": "stdout",
     "output_type": "stream",
     "text": [
      "Using pyphetools version 0.9.4\n"
     ]
    }
   ],
   "source": [
    "import pandas as pd\n",
    "pd.set_option('display.max_colwidth', None) # show entire column contents, important!\n",
    "from IPython.display import display, HTML\n",
    "import hpotk\n",
    "from hpotk.ontology import Ontology\n",
    "from hpotk.ontology.load.obographs import load_ontology\n",
    "from pyphetools.visualization import *\n",
    "import importlib.metadata\n",
    "__version__ = importlib.metadata.version(\"pyphetools\")\n",
    "print(f\"Using pyphetools version {__version__}\")"
   ]
  },
  {
   "cell_type": "code",
   "execution_count": 5,
   "id": "79bac9e6-6dea-4f39-bfc4-85d38cb69040",
   "metadata": {},
   "outputs": [],
   "source": [
    "hpo: Ontology = load_ontology('http://purl.obolibrary.org/obo/hp.json')"
   ]
  },
  {
   "cell_type": "code",
   "execution_count": 6,
   "id": "0cd6cda3-0406-460e-8cc1-3138b91b5168",
   "metadata": {},
   "outputs": [
    {
     "name": "stdout",
     "output_type": "stream",
     "text": [
      "[pyphetools] Ingested 25 GA4GH phenopackets.\n"
     ]
    }
   ],
   "source": [
    "ingestor = PhenopacketIngestor(indir=\"phenopackets\")"
   ]
  },
  {
   "cell_type": "code",
   "execution_count": 7,
   "id": "10fd7ae7-fa35-46a4-ab26-7e72e6938159",
   "metadata": {},
   "outputs": [],
   "source": [
    "ppkt_d = ingestor.get_phenopacket_dictionary()"
   ]
  },
  {
   "cell_type": "markdown",
   "id": "7b63fcd9-a223-4ec5-8e41-794bc10b1b2c",
   "metadata": {},
   "source": [
    "<h2>Frequency of HPO terms per publication</h2>\n",
    "<p>The following table shows the counts of patients directly annotated to HPO terms per publication. Onely terms with more than one toal annotation are shown.</p>"
   ]
  },
  {
   "cell_type": "code",
   "execution_count": 8,
   "id": "e6365ea2-00d2-414d-91f5-5ac0bfa4d37c",
   "metadata": {},
   "outputs": [],
   "source": [
    "detailed_table = DetailedSupplTable(patient_d=ppkt_d, hp_ontology=hpo)"
   ]
  },
  {
   "cell_type": "code",
   "execution_count": 9,
   "id": "33690768-fc71-4172-866d-2a772b401d69",
   "metadata": {},
   "outputs": [
    {
     "data": {
      "text/html": [
       "<table style=\"border: 2px solid black;\">\n",
       "\n",
       "<tr><th>HPO term</th><th>PMID:19800048</th><th>PMID:16783569</th><th>PMID:11179005</th></tr>\n",
       "<tr><td>Global developmental delay (HP:0001263)</td><td>0/9 (0.0%)</td><td>9/9 (100.0%)</td><td>4/7 (57.1%)</td></tr>\n",
       "\n",
       "<tr><td>Intellectual disability (HP:0001249)</td><td>9/9 (100.0%)</td><td>2/9 (22.2%)</td><td>0/7 (0.0%)</td></tr>\n",
       "\n",
       "<tr><td>Macrocephaly (HP:0000256)</td><td>1/9 (11.1%)</td><td>9/9 (100.0%)</td><td>0/7 (0.0%)</td></tr>\n",
       "\n",
       "<tr><td>Abnormal respiratory system physiology (HP:0002795)</td><td>0/9 (0.0%)</td><td>9/9 (100.0%)</td><td>0/7 (0.0%)</td></tr>\n",
       "\n",
       "<tr><td>Recurrent respiratory infections (HP:0002205)</td><td>0/9 (0.0%)</td><td>9/9 (100.0%)</td><td>0/7 (0.0%)</td></tr>\n",
       "\n",
       "<tr><td>Orofacial cleft (HP:0000202)</td><td>0/9 (0.0%)</td><td>0/9 (0.0%)</td><td>7/7 (100.0%)</td></tr>\n",
       "\n",
       "<tr><td>Postaxial hand polydactyly (HP:0001162)</td><td>6/9 (66.7%)</td><td>0/9 (0.0%)</td><td>0/7 (0.0%)</td></tr>\n",
       "\n",
       "<tr><td>Postaxial foot polydactyly (HP:0001830)</td><td>6/9 (66.7%)</td><td>0/9 (0.0%)</td><td>0/7 (0.0%)</td></tr>\n",
       "\n",
       "<tr><td>Brachydactyly (HP:0001156)</td><td>1/9 (11.1%)</td><td>2/9 (22.2%)</td><td>1/7 (14.3%)</td></tr>\n",
       "\n",
       "<tr><td>Localized skin lesion (HP:0011355)</td><td>0/9 (0.0%)</td><td>0/9 (0.0%)</td><td>4/7 (57.1%)</td></tr>\n",
       "\n",
       "<tr><td>Rod-cone dystrophy (HP:0000510)</td><td>3/9 (33.3%)</td><td>0/9 (0.0%)</td><td>0/7 (0.0%)</td></tr>\n",
       "\n",
       "<tr><td>Molar tooth sign on MRI (HP:0002419)</td><td>3/9 (33.3%)</td><td>0/9 (0.0%)</td><td>0/7 (0.0%)</td></tr>\n",
       "\n",
       "<tr><td>Low-set ears (HP:0000369)</td><td>2/9 (22.2%)</td><td>1/9 (11.1%)</td><td>0/7 (0.0%)</td></tr>\n",
       "\n",
       "<tr><td>Abnormality of the dentition (HP:0000164)</td><td>0/9 (0.0%)</td><td>0/9 (0.0%)</td><td>3/7 (42.9%)</td></tr>\n",
       "\n",
       "<tr><td>Polycystic kidney dysplasia (HP:0000113)</td><td>0/9 (0.0%)</td><td>0/9 (0.0%)</td><td>3/7 (42.9%)</td></tr>\n",
       "\n",
       "<tr><td>Brain imaging abnormality (HP:0410263)</td><td>0/9 (0.0%)</td><td>0/9 (0.0%)</td><td>3/7 (42.9%)</td></tr>\n",
       "\n",
       "<tr><td>Alopecia (HP:0001596)</td><td>0/9 (0.0%)</td><td>0/9 (0.0%)</td><td>3/7 (42.9%)</td></tr>\n",
       "\n",
       "<tr><td>Syndactyly (HP:0001159)</td><td>0/9 (0.0%)</td><td>0/9 (0.0%)</td><td>3/7 (42.9%)</td></tr>\n",
       "\n",
       "<tr><td>Tube feeding (HP:0033454)</td><td>2/9 (22.2%)</td><td>0/9 (0.0%)</td><td>0/7 (0.0%)</td></tr>\n",
       "\n",
       "<tr><td>Thick vermilion border (HP:0012471)</td><td>2/9 (22.2%)</td><td>0/9 (0.0%)</td><td>0/7 (0.0%)</td></tr>\n",
       "\n",
       "<tr><td>Absent speech (HP:0001344)</td><td>2/9 (22.2%)</td><td>0/9 (0.0%)</td><td>0/7 (0.0%)</td></tr>\n",
       "\n",
       "<tr><td>Cerebellar vermis hypoplasia (HP:0001320)</td><td>2/9 (22.2%)</td><td>0/9 (0.0%)</td><td>0/7 (0.0%)</td></tr>\n",
       "\n",
       "<tr><td>Obesity (HP:0001513)</td><td>1/9 (11.1%)</td><td>1/9 (11.1%)</td><td>0/7 (0.0%)</td></tr>\n",
       "\n",
       "<tr><td>Clinodactyly (HP:0030084)</td><td>0/9 (0.0%)</td><td>0/9 (0.0%)</td><td>2/7 (28.6%)</td></tr>\n",
       "\n",
       "</table>\n"
      ],
      "text/plain": [
       "<IPython.core.display.HTML object>"
      ]
     },
     "metadata": {},
     "output_type": "display_data"
    }
   ],
   "source": [
    "display(HTML(detailed_table.get_html_table_by_pmid(min_count=1)))"
   ]
  },
  {
   "cell_type": "code",
   "execution_count": null,
   "id": "c069eccf-9542-45dd-8d50-d32f8855cd59",
   "metadata": {},
   "outputs": [],
   "source": []
  }
 ],
 "metadata": {
  "kernelspec": {
   "display_name": "Python 3 (ipykernel)",
   "language": "python",
   "name": "python3"
  },
  "language_info": {
   "codemirror_mode": {
    "name": "ipython",
    "version": 3
   },
   "file_extension": ".py",
   "mimetype": "text/x-python",
   "name": "python",
   "nbconvert_exporter": "python",
   "pygments_lexer": "ipython3",
   "version": "3.11.3"
  }
 },
 "nbformat": 4,
 "nbformat_minor": 5
}
