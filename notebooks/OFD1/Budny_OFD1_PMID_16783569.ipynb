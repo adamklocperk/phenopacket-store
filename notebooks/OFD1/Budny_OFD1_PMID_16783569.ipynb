{
 "cells": [
  {
   "cell_type": "markdown",
   "id": "a39f3c65",
   "metadata": {},
   "source": [
    "<h1>OFD1: Simpson-Golabi-Behmel syndrome, type 2. Budny et al, 2006</h1>\n",
    "<p>We will process <a href=\"https://pubmed.ncbi.nlm.nih.gov/16783569/\" target=\"__blank\">Budny, et al. (2006) A novel X-linked recessive mental retardation syndrome comprising macrocephaly and ciliary dysfunction is allelic to oral-facial-digital type I syndrome</a> in this notebook.</p>"
   ]
  },
  {
   "cell_type": "code",
   "execution_count": 1,
   "id": "f0602c0e",
   "metadata": {
    "pycharm": {
     "is_executing": true
    }
   },
   "outputs": [
    {
     "name": "stdout",
     "output_type": "stream",
     "text": [
      "Using pyphetools version 0.8.28\n"
     ]
    }
   ],
   "source": [
    "import phenopackets as php\n",
    "from google.protobuf.json_format import MessageToDict, MessageToJson\n",
    "from google.protobuf.json_format import Parse, ParseDict\n",
    "import pandas as pd\n",
    "pd.set_option('display.max_colwidth', None) # show entire column contents, important!\n",
    "from IPython.display import display, HTML\n",
    "from pyphetools.creation import *\n",
    "from pyphetools.visualization import *\n",
    "from pyphetools.validation import *\n",
    "import pyphetools\n",
    "print(f\"Using pyphetools version {pyphetools.__version__}\")"
   ]
  },
  {
   "cell_type": "markdown",
   "id": "8606e7eb",
   "metadata": {},
   "source": [
    "<h2>Importing HPO data</h2>"
   ]
  },
  {
   "cell_type": "code",
   "execution_count": 2,
   "id": "5a7789fc",
   "metadata": {
    "pycharm": {
     "is_executing": true
    }
   },
   "outputs": [
    {
     "name": "stdout",
     "output_type": "stream",
     "text": [
      "HPO version 2023-10-09\n"
     ]
    }
   ],
   "source": [
    "parser = HpoParser()\n",
    "hpo_cr = parser.get_hpo_concept_recognizer()\n",
    "hpo_version = parser.get_version()\n",
    "hpo_ontology = parser.get_ontology()\n",
    "PMID = \"PMID:16783569\"\n",
    "title = \"A novel X-linked recessive mental retardation syndrome comprising macrocephaly and ciliary dysfunction is allelic to oral-facial-digital type I syndrome\"\n",
    "metadata = MetaData(created_by=\"ORCID:0000-0002-5648-2155\", pmid=PMID, pubmed_title=title)\n",
    "metadata.default_versions_with_hpo(version=hpo_version)\n",
    "print(f\"HPO version {hpo_version}\")"
   ]
  },
  {
   "cell_type": "markdown",
   "id": "5102722a",
   "metadata": {},
   "source": [
    "<h2>Importing the supplemental table</h2>"
   ]
  },
  {
   "cell_type": "code",
   "execution_count": 3,
   "id": "f17c3924",
   "metadata": {
    "pycharm": {
     "is_executing": true
    }
   },
   "outputs": [],
   "source": [
    "df = pd.read_excel('input/PMID_16783569.xlsx')"
   ]
  },
  {
   "cell_type": "code",
   "execution_count": 4,
   "id": "06ec7dbd",
   "metadata": {
    "pycharm": {
     "is_executing": true
    }
   },
   "outputs": [
    {
     "data": {
      "text/html": [
       "<div>\n",
       "<style scoped>\n",
       "    .dataframe tbody tr th:only-of-type {\n",
       "        vertical-align: middle;\n",
       "    }\n",
       "\n",
       "    .dataframe tbody tr th {\n",
       "        vertical-align: top;\n",
       "    }\n",
       "\n",
       "    .dataframe thead th {\n",
       "        text-align: right;\n",
       "    }\n",
       "</style>\n",
       "<table border=\"1\" class=\"dataframe\">\n",
       "  <thead>\n",
       "    <tr style=\"text-align: right;\">\n",
       "      <th></th>\n",
       "      <th>individual</th>\n",
       "      <th>sex</th>\n",
       "      <th>age</th>\n",
       "      <th>variant</th>\n",
       "      <th>Developmental delay</th>\n",
       "      <th>Abnormal respiratory system physiology</th>\n",
       "      <th>Macrocephaly</th>\n",
       "      <th>Recurrent respiratory infections</th>\n",
       "      <th>Intellectual disability, severe</th>\n",
       "      <th>High palate</th>\n",
       "      <th>Low-set ears</th>\n",
       "      <th>Broad thumb</th>\n",
       "      <th>Brachydactyly</th>\n",
       "      <th>Obesity</th>\n",
       "      <th>Large for gestational age</th>\n",
       "      <th>Postaxial polydactyly</th>\n",
       "      <th>Inguinal hernia</th>\n",
       "    </tr>\n",
       "  </thead>\n",
       "  <tbody>\n",
       "    <tr>\n",
       "      <th>0</th>\n",
       "      <td>1</td>\n",
       "      <td>male</td>\n",
       "      <td>11</td>\n",
       "      <td>c.2122_2125dupGAAG</td>\n",
       "      <td>+</td>\n",
       "      <td>+</td>\n",
       "      <td>+</td>\n",
       "      <td>+</td>\n",
       "      <td>+</td>\n",
       "      <td>+</td>\n",
       "      <td>+</td>\n",
       "      <td>+</td>\n",
       "      <td>+</td>\n",
       "      <td>+</td>\n",
       "      <td>-</td>\n",
       "      <td>NaN</td>\n",
       "      <td>NaN</td>\n",
       "    </tr>\n",
       "    <tr>\n",
       "      <th>1</th>\n",
       "      <td>2</td>\n",
       "      <td>male</td>\n",
       "      <td>0</td>\n",
       "      <td>c.2122_2125dupGAAG</td>\n",
       "      <td>+</td>\n",
       "      <td>+</td>\n",
       "      <td>+</td>\n",
       "      <td>+</td>\n",
       "      <td>+</td>\n",
       "      <td>NaN</td>\n",
       "      <td>NaN</td>\n",
       "      <td>NaN</td>\n",
       "      <td>NaN</td>\n",
       "      <td>NaN</td>\n",
       "      <td>+</td>\n",
       "      <td>+</td>\n",
       "      <td>NaN</td>\n",
       "    </tr>\n",
       "    <tr>\n",
       "      <th>2</th>\n",
       "      <td>3</td>\n",
       "      <td>male</td>\n",
       "      <td>0</td>\n",
       "      <td>c.2122_2125dupGAAG</td>\n",
       "      <td>+</td>\n",
       "      <td>+</td>\n",
       "      <td>+</td>\n",
       "      <td>+</td>\n",
       "      <td>NaN</td>\n",
       "      <td>NaN</td>\n",
       "      <td>NaN</td>\n",
       "      <td>NaN</td>\n",
       "      <td>+</td>\n",
       "      <td>NaN</td>\n",
       "      <td>NaN</td>\n",
       "      <td>NaN</td>\n",
       "      <td>+</td>\n",
       "    </tr>\n",
       "    <tr>\n",
       "      <th>3</th>\n",
       "      <td>4</td>\n",
       "      <td>male</td>\n",
       "      <td>0</td>\n",
       "      <td>c.2122_2125dupGAAG</td>\n",
       "      <td>+</td>\n",
       "      <td>+</td>\n",
       "      <td>+</td>\n",
       "      <td>+</td>\n",
       "      <td>NaN</td>\n",
       "      <td>NaN</td>\n",
       "      <td>NaN</td>\n",
       "      <td>NaN</td>\n",
       "      <td>NaN</td>\n",
       "      <td>NaN</td>\n",
       "      <td>NaN</td>\n",
       "      <td>NaN</td>\n",
       "      <td>NaN</td>\n",
       "    </tr>\n",
       "    <tr>\n",
       "      <th>4</th>\n",
       "      <td>5</td>\n",
       "      <td>male</td>\n",
       "      <td>0</td>\n",
       "      <td>c.2122_2125dupGAAG</td>\n",
       "      <td>+</td>\n",
       "      <td>+</td>\n",
       "      <td>+</td>\n",
       "      <td>+</td>\n",
       "      <td>NaN</td>\n",
       "      <td>NaN</td>\n",
       "      <td>NaN</td>\n",
       "      <td>NaN</td>\n",
       "      <td>NaN</td>\n",
       "      <td>NaN</td>\n",
       "      <td>NaN</td>\n",
       "      <td>NaN</td>\n",
       "      <td>NaN</td>\n",
       "    </tr>\n",
       "  </tbody>\n",
       "</table>\n",
       "</div>"
      ],
      "text/plain": [
       "   individual   sex  age             variant Developmental delay  \\\n",
       "0           1  male   11  c.2122_2125dupGAAG                   +   \n",
       "1           2  male    0  c.2122_2125dupGAAG                   +   \n",
       "2           3  male    0  c.2122_2125dupGAAG                   +   \n",
       "3           4  male    0  c.2122_2125dupGAAG                   +   \n",
       "4           5  male    0  c.2122_2125dupGAAG                   +   \n",
       "\n",
       "  Abnormal respiratory system physiology Macrocephaly  \\\n",
       "0                                      +            +   \n",
       "1                                      +            +   \n",
       "2                                      +            +   \n",
       "3                                      +            +   \n",
       "4                                      +            +   \n",
       "\n",
       "  Recurrent respiratory infections Intellectual disability, severe  \\\n",
       "0                                +                               +   \n",
       "1                                +                               +   \n",
       "2                                +                             NaN   \n",
       "3                                +                             NaN   \n",
       "4                                +                             NaN   \n",
       "\n",
       "  High palate Low-set ears Broad thumb Brachydactyly Obesity  \\\n",
       "0           +            +           +             +       +   \n",
       "1         NaN          NaN         NaN           NaN     NaN   \n",
       "2         NaN          NaN         NaN             +     NaN   \n",
       "3         NaN          NaN         NaN           NaN     NaN   \n",
       "4         NaN          NaN         NaN           NaN     NaN   \n",
       "\n",
       "  Large for gestational age Postaxial polydactyly Inguinal hernia  \n",
       "0                         -                   NaN             NaN  \n",
       "1                         +                     +             NaN  \n",
       "2                       NaN                   NaN               +  \n",
       "3                       NaN                   NaN             NaN  \n",
       "4                       NaN                   NaN             NaN  "
      ]
     },
     "execution_count": 4,
     "metadata": {},
     "output_type": "execute_result"
    }
   ],
   "source": [
    "df.head()"
   ]
  },
  {
   "cell_type": "markdown",
   "id": "8314d6bd",
   "metadata": {},
   "source": [
    "<h2>Column mappers</h2>"
   ]
  },
  {
   "cell_type": "code",
   "execution_count": 5,
   "id": "2305a0d2",
   "metadata": {
    "pycharm": {
     "is_executing": true
    }
   },
   "outputs": [],
   "source": [
    "hpo_cr = parser.get_hpo_concept_recognizer()\n",
    "generator = SimpleColumnMapperGenerator(df=df, observed='+', excluded='-', hpo_cr=hpo_cr)\n",
    "column_mapper_d = generator.try_mapping_columns()"
   ]
  },
  {
   "cell_type": "code",
   "execution_count": 7,
   "id": "fa281c54",
   "metadata": {
    "pycharm": {
     "is_executing": true
    }
   },
   "outputs": [
    {
     "data": {
      "text/html": [
       "<table style=\"border: 2px solid black;\">\n",
       "\n",
       "<tr>\n",
       "            <th>Result</th>\n",
       "            <th>Columns</th>\n",
       "        </tr>\n",
       "      \n",
       "<tr><td>Mapped</td><td>Developmental delay; Abnormal respiratory system physiology; Macrocephaly; Recurrent respiratory infections; Intellectual disability, severe; High palate; Low-set ears; Broad thumb; Brachydactyly; Obesity; Large for gestational age; Postaxial polydactyly; Inguinal hernia</td></tr>\n",
       "<tr><td>Unmapped</td><td><q>individual</q>; <q>sex</q>; <q>age</q>; <q>variant</q></td></tr>\n",
       "</table>\n"
      ],
      "text/plain": [
       "<IPython.core.display.HTML object>"
      ]
     },
     "metadata": {},
     "output_type": "display_data"
    }
   ],
   "source": [
    "display(HTML(generator.to_html()))"
   ]
  },
  {
   "cell_type": "markdown",
   "id": "5e53617d",
   "metadata": {},
   "source": [
    "<h2>Variant Data</h2>\n",
    "<p>The OFD1 variant data (HGVS transcript) is listed in the Variant (hg19, NM_015133.4) column.</p>"
   ]
  },
  {
   "cell_type": "code",
   "execution_count": 9,
   "id": "da4d5706",
   "metadata": {
    "pycharm": {
     "is_executing": true
    }
   },
   "outputs": [
    {
     "name": "stdout",
     "output_type": "stream",
     "text": [
      "https://rest.variantvalidator.org/VariantValidator/variantvalidator/hg38/NM_003611.3%3Ac.2122_2125dupGAAG/NM_003611.3?content-type=application%2Fjson\n"
     ]
    }
   ],
   "source": [
    "genome = 'hg19'\n",
    "default_genotype = 'hemizygous'\n",
    "transcript='NM_003611.3'\n",
    "\n",
    "vvalidator = VariantValidator(genome_build=\"hg38\", transcript=transcript)\n",
    "var_d = {}\n",
    "for v in df['variant'].unique():\n",
    "    var = vvalidator.encode_hgvs(v)\n",
    "    var_d[v] = var\n",
    "\n",
    "varMapper = VariantColumnMapper(variant_d=var_d,\n",
    "                                variant_column_name='variant', \n",
    "                                default_genotype=default_genotype)"
   ]
  },
  {
   "cell_type": "markdown",
   "id": "d1af2052",
   "metadata": {},
   "source": [
    "<h1>Demographic data</h1>"
   ]
  },
  {
   "cell_type": "code",
   "execution_count": 10,
   "id": "3e64dc08",
   "metadata": {
    "pycharm": {
     "is_executing": true
    }
   },
   "outputs": [
    {
     "data": {
      "text/html": [
       "<div>\n",
       "<style scoped>\n",
       "    .dataframe tbody tr th:only-of-type {\n",
       "        vertical-align: middle;\n",
       "    }\n",
       "\n",
       "    .dataframe tbody tr th {\n",
       "        vertical-align: top;\n",
       "    }\n",
       "\n",
       "    .dataframe thead th {\n",
       "        text-align: right;\n",
       "    }\n",
       "</style>\n",
       "<table border=\"1\" class=\"dataframe\">\n",
       "  <thead>\n",
       "    <tr style=\"text-align: right;\">\n",
       "      <th></th>\n",
       "      <th>original column contents</th>\n",
       "      <th>age</th>\n",
       "    </tr>\n",
       "  </thead>\n",
       "  <tbody>\n",
       "    <tr>\n",
       "      <th>0</th>\n",
       "      <td>11</td>\n",
       "      <td>P11Y</td>\n",
       "    </tr>\n",
       "    <tr>\n",
       "      <th>1</th>\n",
       "      <td>0</td>\n",
       "      <td>P0Y</td>\n",
       "    </tr>\n",
       "  </tbody>\n",
       "</table>\n",
       "</div>"
      ],
      "text/plain": [
       "   original column contents   age\n",
       "0                        11  P11Y\n",
       "1                         0   P0Y"
      ]
     },
     "execution_count": 10,
     "metadata": {},
     "output_type": "execute_result"
    }
   ],
   "source": [
    "ageMapper = AgeColumnMapper.by_year('age')\n",
    "ageMapper.preview_column(df['age'])"
   ]
  },
  {
   "cell_type": "code",
   "execution_count": 11,
   "id": "71f664cc",
   "metadata": {
    "pycharm": {
     "is_executing": true
    }
   },
   "outputs": [
    {
     "data": {
      "text/html": [
       "<div>\n",
       "<style scoped>\n",
       "    .dataframe tbody tr th:only-of-type {\n",
       "        vertical-align: middle;\n",
       "    }\n",
       "\n",
       "    .dataframe tbody tr th {\n",
       "        vertical-align: top;\n",
       "    }\n",
       "\n",
       "    .dataframe thead th {\n",
       "        text-align: right;\n",
       "    }\n",
       "</style>\n",
       "<table border=\"1\" class=\"dataframe\">\n",
       "  <thead>\n",
       "    <tr style=\"text-align: right;\">\n",
       "      <th></th>\n",
       "      <th>original column contents</th>\n",
       "      <th>sex</th>\n",
       "    </tr>\n",
       "  </thead>\n",
       "  <tbody>\n",
       "    <tr>\n",
       "      <th>0</th>\n",
       "      <td>male</td>\n",
       "      <td>MALE</td>\n",
       "    </tr>\n",
       "    <tr>\n",
       "      <th>1</th>\n",
       "      <td>male</td>\n",
       "      <td>MALE</td>\n",
       "    </tr>\n",
       "    <tr>\n",
       "      <th>2</th>\n",
       "      <td>male</td>\n",
       "      <td>MALE</td>\n",
       "    </tr>\n",
       "    <tr>\n",
       "      <th>3</th>\n",
       "      <td>male</td>\n",
       "      <td>MALE</td>\n",
       "    </tr>\n",
       "    <tr>\n",
       "      <th>4</th>\n",
       "      <td>male</td>\n",
       "      <td>MALE</td>\n",
       "    </tr>\n",
       "    <tr>\n",
       "      <th>5</th>\n",
       "      <td>male</td>\n",
       "      <td>MALE</td>\n",
       "    </tr>\n",
       "    <tr>\n",
       "      <th>6</th>\n",
       "      <td>male</td>\n",
       "      <td>MALE</td>\n",
       "    </tr>\n",
       "    <tr>\n",
       "      <th>7</th>\n",
       "      <td>male</td>\n",
       "      <td>MALE</td>\n",
       "    </tr>\n",
       "    <tr>\n",
       "      <th>8</th>\n",
       "      <td>male</td>\n",
       "      <td>MALE</td>\n",
       "    </tr>\n",
       "  </tbody>\n",
       "</table>\n",
       "</div>"
      ],
      "text/plain": [
       "  original column contents   sex\n",
       "0                     male  MALE\n",
       "1                     male  MALE\n",
       "2                     male  MALE\n",
       "3                     male  MALE\n",
       "4                     male  MALE\n",
       "5                     male  MALE\n",
       "6                     male  MALE\n",
       "7                     male  MALE\n",
       "8                     male  MALE"
      ]
     },
     "execution_count": 11,
     "metadata": {},
     "output_type": "execute_result"
    }
   ],
   "source": [
    "sexMapper = SexColumnMapper(male_symbol='male', female_symbol='female', column_name='sex')\n",
    "sexMapper.preview_column(df['sex'])"
   ]
  },
  {
   "cell_type": "code",
   "execution_count": 12,
   "id": "f6581a8a",
   "metadata": {
    "pycharm": {
     "is_executing": true
    }
   },
   "outputs": [],
   "source": [
    "encoder = CohortEncoder(df=df, \n",
    "                        hpo_cr=hpo_cr, \n",
    "                        column_mapper_d=column_mapper_d, \n",
    "                        individual_column_name=\"individual\", \n",
    "                        agemapper=ageMapper, \n",
    "                        sexmapper=sexMapper,\n",
    "                        variant_mapper=varMapper, \n",
    "                        metadata=metadata,\n",
    "                        pmid=PMID)\n",
    "sgb2 = Disease(disease_id='OMIM:300209', disease_label='Simpson-Golabi-Behmel syndrome, type 2')\n",
    "encoder.set_disease(sgb2)"
   ]
  },
  {
   "cell_type": "code",
   "execution_count": 15,
   "id": "fd367ed6",
   "metadata": {
    "pycharm": {
     "is_executing": true
    }
   },
   "outputs": [
    {
     "data": {
      "text/html": [
       "<h2>Cohort validation</h2>\n",
       "<p>Errors found with 9 of 9 phenopackets.</p>\n",
       "<table style=\"border: 2px solid black; align: \"left\">\n",
       "<caption>Error counts</caption>\n",
       "<tr><th style=\"text-align: left;font-weight: bold;\">Level</th><th style=\"text-align: left;font-weight: bold;\">Error category</th><th style=\"text-align: left;font-weight: bold;\">Count</th></tr>\n",
       "<tr><td style=\"text-align: left;\">INFORMATION</td><td style=\"text-align: left;\">NOT_MEASURED</td><td style=\"text-align: left;\">69</td></tr>\n",
       "</table>\n",
       "<p>A total of 69 issues were fixed and no individual was removed from the cohort.</p>"
      ],
      "text/plain": [
       "<IPython.core.display.HTML object>"
      ]
     },
     "metadata": {},
     "output_type": "display_data"
    }
   ],
   "source": [
    "individuals = encoder.get_individuals()\n",
    "cvalidator = CohortValidator(cohort=individuals, ontology=hpo_ontology, min_hpo=1, allelic_requirement=AllelicRequirement.MONO_ALLELIC)\n",
    "qc = QcVisualizer(ontology=hpo_ontology, cohort_validator=cvalidator)\n",
    "display(HTML(qc.to_summary_html()))"
   ]
  },
  {
   "cell_type": "code",
   "execution_count": 16,
   "id": "5d044b78",
   "metadata": {
    "pycharm": {
     "is_executing": true
    }
   },
   "outputs": [
    {
     "data": {
      "text/html": [
       "<table style=\"border: 2px solid black; align: \"left\">\n",
       "<caption>9 phenopackets - PMID:16783569 (n=9)</caption>\n",
       "<tr><th style=\"text-align: left;font-weight: bold;\">Individual</th><th style=\"text-align: left;font-weight: bold;\">Disease</th><th style=\"text-align: left;font-weight: bold;\">Genotype</th><th style=\"text-align: left;font-weight: bold;\">Phenotypic features</th></tr>\n",
       "<tr><td style=\"text-align: left;\">1 (MALE; P11Y)</td><td style=\"text-align: left;\">Simpson-Golabi-Behmel syndrome, type 2 (OMIM:300209)</td><td style=\"text-align: left;\">NM_003611.3:c.2122_2125dup (hemizygous)</td><td style=\"text-align: left;\">Global developmental delay (HP:0001263); Abnormal respiratory system physiology (HP:0002795); Macrocephaly (HP:0000256); Recurrent respiratory infections (HP:0002205); Intellectual disability (HP:0001249); High palate (HP:0000218); Low-set ears (HP:0000369); Broad thumb (HP:0011304); Brachydactyly (HP:0001156); Obesity (HP:0001513); excluded: Large for gestational age (HP:0001520)</td></tr>\n",
       "<tr><td style=\"text-align: left;\">2 (MALE; P0Y)</td><td style=\"text-align: left;\">Simpson-Golabi-Behmel syndrome, type 2 (OMIM:300209)</td><td style=\"text-align: left;\">NM_003611.3:c.2122_2125dup (hemizygous)</td><td style=\"text-align: left;\">Global developmental delay (HP:0001263); Abnormal respiratory system physiology (HP:0002795); Macrocephaly (HP:0000256); Recurrent respiratory infections (HP:0002205); Intellectual disability (HP:0001249); Large for gestational age (HP:0001520); Postaxial polydactyly (HP:0100259)</td></tr>\n",
       "<tr><td style=\"text-align: left;\">3 (MALE; P0Y)</td><td style=\"text-align: left;\">Simpson-Golabi-Behmel syndrome, type 2 (OMIM:300209)</td><td style=\"text-align: left;\">NM_003611.3:c.2122_2125dup (hemizygous)</td><td style=\"text-align: left;\">Global developmental delay (HP:0001263); Abnormal respiratory system physiology (HP:0002795); Macrocephaly (HP:0000256); Recurrent respiratory infections (HP:0002205); Brachydactyly (HP:0001156); Inguinal hernia (HP:0000023)</td></tr>\n",
       "<tr><td style=\"text-align: left;\">4 (MALE; P0Y)</td><td style=\"text-align: left;\">Simpson-Golabi-Behmel syndrome, type 2 (OMIM:300209)</td><td style=\"text-align: left;\">NM_003611.3:c.2122_2125dup (hemizygous)</td><td style=\"text-align: left;\">Global developmental delay (HP:0001263); Abnormal respiratory system physiology (HP:0002795); Macrocephaly (HP:0000256); Recurrent respiratory infections (HP:0002205)</td></tr>\n",
       "<tr><td style=\"text-align: left;\">5 (MALE; P0Y)</td><td style=\"text-align: left;\">Simpson-Golabi-Behmel syndrome, type 2 (OMIM:300209)</td><td style=\"text-align: left;\">NM_003611.3:c.2122_2125dup (hemizygous)</td><td style=\"text-align: left;\">Global developmental delay (HP:0001263); Abnormal respiratory system physiology (HP:0002795); Macrocephaly (HP:0000256); Recurrent respiratory infections (HP:0002205)</td></tr>\n",
       "<tr><td style=\"text-align: left;\">6 (MALE; P0Y)</td><td style=\"text-align: left;\">Simpson-Golabi-Behmel syndrome, type 2 (OMIM:300209)</td><td style=\"text-align: left;\">NM_003611.3:c.2122_2125dup (hemizygous)</td><td style=\"text-align: left;\">Global developmental delay (HP:0001263); Abnormal respiratory system physiology (HP:0002795); Macrocephaly (HP:0000256); Recurrent respiratory infections (HP:0002205)</td></tr>\n",
       "<tr><td style=\"text-align: left;\">7 (MALE; P0Y)</td><td style=\"text-align: left;\">Simpson-Golabi-Behmel syndrome, type 2 (OMIM:300209)</td><td style=\"text-align: left;\">NM_003611.3:c.2122_2125dup (hemizygous)</td><td style=\"text-align: left;\">Global developmental delay (HP:0001263); Abnormal respiratory system physiology (HP:0002795); Macrocephaly (HP:0000256); Recurrent respiratory infections (HP:0002205)</td></tr>\n",
       "<tr><td style=\"text-align: left;\">8 (MALE; P0Y)</td><td style=\"text-align: left;\">Simpson-Golabi-Behmel syndrome, type 2 (OMIM:300209)</td><td style=\"text-align: left;\">NM_003611.3:c.2122_2125dup (hemizygous)</td><td style=\"text-align: left;\">Global developmental delay (HP:0001263); Abnormal respiratory system physiology (HP:0002795); Macrocephaly (HP:0000256); Recurrent respiratory infections (HP:0002205)</td></tr>\n",
       "<tr><td style=\"text-align: left;\">9 (MALE; P0Y)</td><td style=\"text-align: left;\">Simpson-Golabi-Behmel syndrome, type 2 (OMIM:300209)</td><td style=\"text-align: left;\">NM_003611.3:c.2122_2125dup (hemizygous)</td><td style=\"text-align: left;\">Global developmental delay (HP:0001263); Abnormal respiratory system physiology (HP:0002795); Macrocephaly (HP:0000256); Recurrent respiratory infections (HP:0002205)</td></tr>\n",
       "</table>"
      ],
      "text/plain": [
       "<IPython.core.display.HTML object>"
      ]
     },
     "metadata": {},
     "output_type": "display_data"
    }
   ],
   "source": [
    "individuals = cvalidator.get_error_free_individual_list()\n",
    "table = PhenopacketTable(individual_list=individuals, metadata=metadata)\n",
    "display(HTML(table.to_html()))"
   ]
  },
  {
   "cell_type": "code",
   "execution_count": 17,
   "id": "23f1094f",
   "metadata": {
    "pycharm": {
     "is_executing": true
    }
   },
   "outputs": [
    {
     "name": "stdout",
     "output_type": "stream",
     "text": [
      "We output 9 GA4GH phenopackets to the directory phenopackets\n"
     ]
    }
   ],
   "source": [
    "output_directory = \"phenopackets\"\n",
    "Individual.output_individuals_as_phenopackets(individual_list=individuals,\n",
    "                                              metadata=metadata,\n",
    "                                              outdir=output_directory)"
   ]
  },
  {
   "cell_type": "code",
   "execution_count": null,
   "id": "9584c3f0-7020-4011-9166-8d3691fce6f4",
   "metadata": {},
   "outputs": [],
   "source": []
  }
 ],
 "metadata": {
  "kernelspec": {
   "display_name": "Python 3 (ipykernel)",
   "language": "python",
   "name": "python3"
  },
  "language_info": {
   "codemirror_mode": {
    "name": "ipython",
    "version": 3
   },
   "file_extension": ".py",
   "mimetype": "text/x-python",
   "name": "python",
   "nbconvert_exporter": "python",
   "pygments_lexer": "ipython3",
   "version": "3.11.3"
  }
 },
 "nbformat": 4,
 "nbformat_minor": 5
}
