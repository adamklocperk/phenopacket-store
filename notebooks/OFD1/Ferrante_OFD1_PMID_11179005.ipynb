{
 "cells": [
  {
   "cell_type": "markdown",
   "id": "a39f3c65",
   "metadata": {},
   "source": [
    "<h1>Creation of phenopackets from tabular data (individuals in columns)</h1>\n",
    "<p>We will process <a href=\"https://pubmed.ncbi.nlm.nih.gov/11179005/\" target=\"__blank\">Ferrante, et al. (2001) Identification of the gene for oral-facial-digital type I syndrome</a> in this notebook.\n",
    "<p>pyphetools provides a convenient way of extracting HPO terms from typical tables presented in supplemental material. Typical tables can have the individuals in columns or rows. In this case, we extract data from TABLE.</p>\n",
    "<p>This note shows how to work through the table and set up the pyphetools encoder. The table was not originally available in the table, but constructed using the data in the publication</p>\n",
    "<p>Users can work on one column at a time and then generate a collection of <a href=\"https://pubmed.ncbi.nlm.nih.gov/35705716/\" target=\"__blank\">GA4GH phenopackets</a> to represent each patient included in the original supplemental material. These phenopackets can then be used for a variety of downstream applications.</p>"
   ]
  },
  {
   "cell_type": "code",
   "execution_count": 1,
   "id": "f0602c0e",
   "metadata": {},
   "outputs": [
    {
     "name": "stdout",
     "output_type": "stream",
     "text": [
      "Using pyphetools version 0.8.28\n"
     ]
    }
   ],
   "source": [
    "import phenopackets as php\n",
    "from google.protobuf.json_format import MessageToDict, MessageToJson\n",
    "from google.protobuf.json_format import Parse, ParseDict\n",
    "import pandas as pd\n",
    "pd.set_option('display.max_colwidth', None) # show entire column contents, important!\n",
    "from IPython.display import display, HTML\n",
    "from pyphetools.creation import *\n",
    "from pyphetools.visualization import *\n",
    "from pyphetools.validation import *\n",
    "import pyphetools\n",
    "print(f\"Using pyphetools version {pyphetools.__version__}\")"
   ]
  },
  {
   "cell_type": "markdown",
   "id": "8606e7eb",
   "metadata": {},
   "source": [
    "<h2>Importing HPO data</h2>"
   ]
  },
  {
   "cell_type": "code",
   "execution_count": 2,
   "id": "5a7789fc",
   "metadata": {},
   "outputs": [
    {
     "name": "stdout",
     "output_type": "stream",
     "text": [
      "HPO version 2023-10-09\n"
     ]
    }
   ],
   "source": [
    "parser = HpoParser()\n",
    "hpo_cr = parser.get_hpo_concept_recognizer()\n",
    "hpo_version = parser.get_version()\n",
    "hpo_ontology = parser.get_ontology()\n",
    "PMID = \"PMID:11179005\"\n",
    "title = \"Identification of the gene for oral-facial-digital type I syndrome\"\n",
    "metadata = MetaData(created_by=\"ORCID:0000-0002-5648-2155\", pmid=PMID, pubmed_title=title)\n",
    "metadata.default_versions_with_hpo(version=hpo_version)\n",
    "print(f\"HPO version {hpo_version}\")"
   ]
  },
  {
   "cell_type": "markdown",
   "id": "5102722a",
   "metadata": {},
   "source": [
    "<h2>Importing the supplemental table</h2>\n",
    "<p>Here, we use the pandas library to import this file (note that the Python package called openpyxl must be installed to read Excel files with pandas, although the library does not need to be imported in this notebook). pyphetools expects a pandas DataFrame as input, and users can choose any input format available for pandas include CSV, TSV, and Excel, or can use any other method to transform their input data into a Pandas DataFrame before using pyphetools.</p>"
   ]
  },
  {
   "cell_type": "code",
   "execution_count": 3,
   "id": "f17c3924",
   "metadata": {},
   "outputs": [],
   "source": [
    "df = pd.read_excel('input/PMID_11179005.xlsx')\n",
    "df['Individual'] = df['(CASE)']"
   ]
  },
  {
   "cell_type": "code",
   "execution_count": 4,
   "id": "06ec7dbd",
   "metadata": {},
   "outputs": [
    {
     "data": {
      "text/html": [
       "<div>\n",
       "<style scoped>\n",
       "    .dataframe tbody tr th:only-of-type {\n",
       "        vertical-align: middle;\n",
       "    }\n",
       "\n",
       "    .dataframe tbody tr th {\n",
       "        vertical-align: top;\n",
       "    }\n",
       "\n",
       "    .dataframe thead th {\n",
       "        text-align: right;\n",
       "    }\n",
       "</style>\n",
       "<table border=\"1\" class=\"dataframe\">\n",
       "  <thead>\n",
       "    <tr style=\"text-align: right;\">\n",
       "      <th></th>\n",
       "      <th>(CASE)</th>\n",
       "      <th>sex</th>\n",
       "      <th>age</th>\n",
       "      <th>variant</th>\n",
       "      <th>Downslanted palpebral fissures</th>\n",
       "      <th>Dolichocephaly</th>\n",
       "      <th>Facial asymmetry</th>\n",
       "      <th>Localized skin lesion</th>\n",
       "      <th>Dental anomalies</th>\n",
       "      <th>Oral cleft</th>\n",
       "      <th>...</th>\n",
       "      <th>Dry hair</th>\n",
       "      <th>Coarse hair</th>\n",
       "      <th>Alopecia</th>\n",
       "      <th>Short 2nd toe</th>\n",
       "      <th>Syndactyly</th>\n",
       "      <th>Polycystic kidney dysplasia</th>\n",
       "      <th>Polydactyly</th>\n",
       "      <th>Clinodactyly</th>\n",
       "      <th>Brachydactyly</th>\n",
       "      <th>Individual</th>\n",
       "    </tr>\n",
       "  </thead>\n",
       "  <tbody>\n",
       "    <tr>\n",
       "      <th>0</th>\n",
       "      <td>1 (F)</td>\n",
       "      <td>male</td>\n",
       "      <td>1</td>\n",
       "      <td>c.1303A&gt;C</td>\n",
       "      <td>+</td>\n",
       "      <td>+</td>\n",
       "      <td>-</td>\n",
       "      <td>+</td>\n",
       "      <td>+</td>\n",
       "      <td>+</td>\n",
       "      <td>...</td>\n",
       "      <td>-</td>\n",
       "      <td>+</td>\n",
       "      <td>+</td>\n",
       "      <td>-</td>\n",
       "      <td>-</td>\n",
       "      <td>-</td>\n",
       "      <td>-</td>\n",
       "      <td>-</td>\n",
       "      <td>-</td>\n",
       "      <td>1 (F)</td>\n",
       "    </tr>\n",
       "    <tr>\n",
       "      <th>1</th>\n",
       "      <td>3 (F)</td>\n",
       "      <td>male</td>\n",
       "      <td>3</td>\n",
       "      <td>c.312delG</td>\n",
       "      <td>-</td>\n",
       "      <td>-</td>\n",
       "      <td>-</td>\n",
       "      <td>-</td>\n",
       "      <td>-</td>\n",
       "      <td>+</td>\n",
       "      <td>...</td>\n",
       "      <td>-</td>\n",
       "      <td>-</td>\n",
       "      <td>-</td>\n",
       "      <td>+</td>\n",
       "      <td>-</td>\n",
       "      <td>+</td>\n",
       "      <td>+</td>\n",
       "      <td>NaN</td>\n",
       "      <td>-</td>\n",
       "      <td>3 (F)</td>\n",
       "    </tr>\n",
       "    <tr>\n",
       "      <th>2</th>\n",
       "      <td>4 (F)</td>\n",
       "      <td>male</td>\n",
       "      <td>4</td>\n",
       "      <td>c.294_312delTGGTTTGGCAAAAGAAAAG</td>\n",
       "      <td>-</td>\n",
       "      <td>-</td>\n",
       "      <td>+</td>\n",
       "      <td>-</td>\n",
       "      <td>-</td>\n",
       "      <td>+</td>\n",
       "      <td>...</td>\n",
       "      <td>+</td>\n",
       "      <td>-</td>\n",
       "      <td>+</td>\n",
       "      <td>-</td>\n",
       "      <td>+</td>\n",
       "      <td>+</td>\n",
       "      <td>-</td>\n",
       "      <td>+</td>\n",
       "      <td>-</td>\n",
       "      <td>4 (F)</td>\n",
       "    </tr>\n",
       "    <tr>\n",
       "      <th>3</th>\n",
       "      <td>6 (S)</td>\n",
       "      <td>male</td>\n",
       "      <td>6</td>\n",
       "      <td>c.121C&gt;T</td>\n",
       "      <td>-</td>\n",
       "      <td>-</td>\n",
       "      <td>-</td>\n",
       "      <td>+</td>\n",
       "      <td>-</td>\n",
       "      <td>+</td>\n",
       "      <td>...</td>\n",
       "      <td>-</td>\n",
       "      <td>-</td>\n",
       "      <td>-</td>\n",
       "      <td>-</td>\n",
       "      <td>+</td>\n",
       "      <td>-</td>\n",
       "      <td>-</td>\n",
       "      <td>-</td>\n",
       "      <td>-</td>\n",
       "      <td>6 (S)</td>\n",
       "    </tr>\n",
       "    <tr>\n",
       "      <th>4</th>\n",
       "      <td>10 (S)</td>\n",
       "      <td>male</td>\n",
       "      <td>10</td>\n",
       "      <td>c.1071_1078delGAAGGATG</td>\n",
       "      <td>-</td>\n",
       "      <td>-</td>\n",
       "      <td>NaN</td>\n",
       "      <td>NaN</td>\n",
       "      <td>-</td>\n",
       "      <td>+</td>\n",
       "      <td>...</td>\n",
       "      <td>-</td>\n",
       "      <td>NaN</td>\n",
       "      <td>NaN</td>\n",
       "      <td>-</td>\n",
       "      <td>+</td>\n",
       "      <td>-</td>\n",
       "      <td>-</td>\n",
       "      <td>-</td>\n",
       "      <td>-</td>\n",
       "      <td>10 (S)</td>\n",
       "    </tr>\n",
       "    <tr>\n",
       "      <th>5</th>\n",
       "      <td>27 (S)</td>\n",
       "      <td>male</td>\n",
       "      <td>27</td>\n",
       "      <td>c.312+2del</td>\n",
       "      <td>-</td>\n",
       "      <td>-</td>\n",
       "      <td>-</td>\n",
       "      <td>+</td>\n",
       "      <td>+</td>\n",
       "      <td>+</td>\n",
       "      <td>...</td>\n",
       "      <td>-</td>\n",
       "      <td>-</td>\n",
       "      <td>-</td>\n",
       "      <td>-</td>\n",
       "      <td>-</td>\n",
       "      <td>+</td>\n",
       "      <td>-</td>\n",
       "      <td>-</td>\n",
       "      <td>-</td>\n",
       "      <td>27 (S)</td>\n",
       "    </tr>\n",
       "    <tr>\n",
       "      <th>6</th>\n",
       "      <td>28 (S)</td>\n",
       "      <td>male</td>\n",
       "      <td>28</td>\n",
       "      <td>c.1757delG</td>\n",
       "      <td>-</td>\n",
       "      <td>-</td>\n",
       "      <td>-</td>\n",
       "      <td>+</td>\n",
       "      <td>+</td>\n",
       "      <td>+</td>\n",
       "      <td>...</td>\n",
       "      <td>-</td>\n",
       "      <td>-</td>\n",
       "      <td>+</td>\n",
       "      <td>-</td>\n",
       "      <td>-</td>\n",
       "      <td>-</td>\n",
       "      <td>-</td>\n",
       "      <td>+</td>\n",
       "      <td>+</td>\n",
       "      <td>28 (S)</td>\n",
       "    </tr>\n",
       "  </tbody>\n",
       "</table>\n",
       "<p>7 rows × 23 columns</p>\n",
       "</div>"
      ],
      "text/plain": [
       "   (CASE)   sex  age                          variant  \\\n",
       "0   1 (F)  male    1                        c.1303A>C   \n",
       "1   3 (F)  male    3                        c.312delG   \n",
       "2   4 (F)  male    4  c.294_312delTGGTTTGGCAAAAGAAAAG   \n",
       "3   6 (S)  male    6                         c.121C>T   \n",
       "4  10 (S)  male   10           c.1071_1078delGAAGGATG   \n",
       "5  27 (S)  male   27                       c.312+2del   \n",
       "6  28 (S)  male   28                       c.1757delG   \n",
       "\n",
       "  Downslanted palpebral fissures Dolichocephaly Facial asymmetry  \\\n",
       "0                              +              +                -   \n",
       "1                              -              -                -   \n",
       "2                              -              -                +   \n",
       "3                              -              -                -   \n",
       "4                              -              -              NaN   \n",
       "5                              -              -                -   \n",
       "6                              -              -                -   \n",
       "\n",
       "  Localized skin lesion Dental anomalies Oral cleft  ... Dry hair Coarse hair  \\\n",
       "0                     +                +          +  ...        -           +   \n",
       "1                     -                -          +  ...        -           -   \n",
       "2                     -                -          +  ...        +           -   \n",
       "3                     +                -          +  ...        -           -   \n",
       "4                   NaN                -          +  ...        -         NaN   \n",
       "5                     +                +          +  ...        -           -   \n",
       "6                     +                +          +  ...        -           -   \n",
       "\n",
       "  Alopecia Short 2nd toe Syndactyly Polycystic kidney dysplasia Polydactyly  \\\n",
       "0        +             -          -                           -           -   \n",
       "1        -             +          -                           +           +   \n",
       "2        +             -          +                           +           -   \n",
       "3        -             -          +                           -           -   \n",
       "4      NaN             -          +                           -           -   \n",
       "5        -             -          -                           +           -   \n",
       "6        +             -          -                           -           -   \n",
       "\n",
       "  Clinodactyly Brachydactyly Individual  \n",
       "0            -             -      1 (F)  \n",
       "1          NaN             -      3 (F)  \n",
       "2            +             -      4 (F)  \n",
       "3            -             -      6 (S)  \n",
       "4            -             -     10 (S)  \n",
       "5            -             -     27 (S)  \n",
       "6            +             +     28 (S)  \n",
       "\n",
       "[7 rows x 23 columns]"
      ]
     },
     "execution_count": 4,
     "metadata": {},
     "output_type": "execute_result"
    }
   ],
   "source": [
    "df"
   ]
  },
  {
   "cell_type": "markdown",
   "id": "8314d6bd",
   "metadata": {},
   "source": [
    "<h2>Column mappers</h2>\n",
    "<p>Please see the notebook \"Create phenopackets from tabular data with individuals in rows\" for explanations. In the following cell we create a dictionary for the ColumnMappers. Note that the code is identical except that we use the df.loc function to get the corresponding row data</p>"
   ]
  },
  {
   "cell_type": "code",
   "execution_count": 5,
   "id": "2305a0d2",
   "metadata": {},
   "outputs": [],
   "source": [
    "hpo_cr = parser.get_hpo_concept_recognizer()\n",
    "generator = SimpleColumnMapperGenerator(df=df, observed=\"+\", excluded=\"-\", hpo_cr=hpo_cr)\n",
    "column_mapper_d = generator.try_mapping_columns()"
   ]
  },
  {
   "cell_type": "code",
   "execution_count": 6,
   "id": "c94140ae-8c6e-4eb9-b8c3-0bfbe654e36e",
   "metadata": {},
   "outputs": [
    {
     "data": {
      "text/html": [
       "<table style=\"border: 2px solid black;\">\n",
       "\n",
       "<tr>\n",
       "            <th>Result</th>\n",
       "            <th>Columns</th>\n",
       "        </tr>\n",
       "      \n",
       "<tr><td>Mapped</td><td>Downslanted palpebral fissures; Dolichocephaly; Facial asymmetry; Localized skin lesion; Dental anomalies; Oral cleft; Brain imaging abnormality; Developmental delay; Hepatic cysts; Dry hair; Coarse hair; Alopecia; Short 2nd toe; Syndactyly; Polycystic kidney dysplasia; Polydactyly; Clinodactyly; Brachydactyly</td></tr>\n",
       "<tr><td>Unmapped</td><td><q>(CASE)</q>; <q>sex</q>; <q>age</q>; <q>variant</q>; <q>Individual</q></td></tr>\n",
       "</table>\n"
      ],
      "text/plain": [
       "<IPython.core.display.HTML object>"
      ]
     },
     "metadata": {},
     "output_type": "display_data"
    }
   ],
   "source": [
    "display(HTML(generator.to_html()))"
   ]
  },
  {
   "cell_type": "markdown",
   "id": "5e53617d",
   "metadata": {},
   "source": [
    "<h2>Variant Data</h2>\n",
    "<p>The OFD1 variant data (HGVS transcript) is listed in the variant column.</p>"
   ]
  },
  {
   "cell_type": "code",
   "execution_count": 7,
   "id": "da4d5706",
   "metadata": {},
   "outputs": [
    {
     "name": "stdout",
     "output_type": "stream",
     "text": [
      "https://rest.variantvalidator.org/VariantValidator/variantvalidator/hg38/NM_003611.2%3Ac.1303A>C/NM_003611.2?content-type=application%2Fjson\n",
      "https://rest.variantvalidator.org/VariantValidator/variantvalidator/hg38/NM_003611.2%3Ac.312delG/NM_003611.2?content-type=application%2Fjson\n",
      "https://rest.variantvalidator.org/VariantValidator/variantvalidator/hg38/NM_003611.2%3Ac.294_312delTGGTTTGGCAAAAGAAAAG/NM_003611.2?content-type=application%2Fjson\n",
      "https://rest.variantvalidator.org/VariantValidator/variantvalidator/hg38/NM_003611.2%3Ac.121C>T/NM_003611.2?content-type=application%2Fjson\n",
      "https://rest.variantvalidator.org/VariantValidator/variantvalidator/hg38/NM_003611.2%3Ac.1071_1078delGAAGGATG/NM_003611.2?content-type=application%2Fjson\n",
      "https://rest.variantvalidator.org/VariantValidator/variantvalidator/hg38/NM_003611.2%3Ac.312+2del/NM_003611.2?content-type=application%2Fjson\n",
      "https://rest.variantvalidator.org/VariantValidator/variantvalidator/hg38/NM_003611.2%3Ac.1757delG/NM_003611.2?content-type=application%2Fjson\n"
     ]
    }
   ],
   "source": [
    "default_genotype = 'hemizygous'\n",
    "transcript='NM_003611.2'\n",
    "vvalidator = VariantValidator(genome_build=\"hg38\", transcript=transcript)\n",
    "var_d = {}\n",
    "for v in df['variant'].unique():\n",
    "    var = vvalidator.encode_hgvs(v)\n",
    "    var_d[v] = var\n",
    "\n",
    "varMapper = VariantColumnMapper(variant_d=var_d,\n",
    "                                variant_column_name='variant', \n",
    "                                default_genotype=default_genotype)"
   ]
  },
  {
   "cell_type": "markdown",
   "id": "d1af2052",
   "metadata": {},
   "source": [
    "<h1>Demographic data</h1>"
   ]
  },
  {
   "cell_type": "code",
   "execution_count": 8,
   "id": "3e64dc08",
   "metadata": {},
   "outputs": [
    {
     "data": {
      "text/html": [
       "<div>\n",
       "<style scoped>\n",
       "    .dataframe tbody tr th:only-of-type {\n",
       "        vertical-align: middle;\n",
       "    }\n",
       "\n",
       "    .dataframe tbody tr th {\n",
       "        vertical-align: top;\n",
       "    }\n",
       "\n",
       "    .dataframe thead th {\n",
       "        text-align: right;\n",
       "    }\n",
       "</style>\n",
       "<table border=\"1\" class=\"dataframe\">\n",
       "  <thead>\n",
       "    <tr style=\"text-align: right;\">\n",
       "      <th></th>\n",
       "      <th>original column contents</th>\n",
       "      <th>age</th>\n",
       "    </tr>\n",
       "  </thead>\n",
       "  <tbody>\n",
       "    <tr>\n",
       "      <th>0</th>\n",
       "      <td>1</td>\n",
       "      <td>P1Y</td>\n",
       "    </tr>\n",
       "    <tr>\n",
       "      <th>1</th>\n",
       "      <td>3</td>\n",
       "      <td>P3Y</td>\n",
       "    </tr>\n",
       "    <tr>\n",
       "      <th>2</th>\n",
       "      <td>4</td>\n",
       "      <td>P4Y</td>\n",
       "    </tr>\n",
       "    <tr>\n",
       "      <th>3</th>\n",
       "      <td>6</td>\n",
       "      <td>P6Y</td>\n",
       "    </tr>\n",
       "    <tr>\n",
       "      <th>4</th>\n",
       "      <td>10</td>\n",
       "      <td>P10Y</td>\n",
       "    </tr>\n",
       "    <tr>\n",
       "      <th>5</th>\n",
       "      <td>27</td>\n",
       "      <td>P27Y</td>\n",
       "    </tr>\n",
       "    <tr>\n",
       "      <th>6</th>\n",
       "      <td>28</td>\n",
       "      <td>P28Y</td>\n",
       "    </tr>\n",
       "  </tbody>\n",
       "</table>\n",
       "</div>"
      ],
      "text/plain": [
       "   original column contents   age\n",
       "0                         1   P1Y\n",
       "1                         3   P3Y\n",
       "2                         4   P4Y\n",
       "3                         6   P6Y\n",
       "4                        10  P10Y\n",
       "5                        27  P27Y\n",
       "6                        28  P28Y"
      ]
     },
     "execution_count": 8,
     "metadata": {},
     "output_type": "execute_result"
    }
   ],
   "source": [
    "ageMapper = AgeColumnMapper.by_year('age')\n",
    "ageMapper.preview_column(df['age'])"
   ]
  },
  {
   "cell_type": "code",
   "execution_count": 9,
   "id": "71f664cc",
   "metadata": {},
   "outputs": [
    {
     "data": {
      "text/html": [
       "<div>\n",
       "<style scoped>\n",
       "    .dataframe tbody tr th:only-of-type {\n",
       "        vertical-align: middle;\n",
       "    }\n",
       "\n",
       "    .dataframe tbody tr th {\n",
       "        vertical-align: top;\n",
       "    }\n",
       "\n",
       "    .dataframe thead th {\n",
       "        text-align: right;\n",
       "    }\n",
       "</style>\n",
       "<table border=\"1\" class=\"dataframe\">\n",
       "  <thead>\n",
       "    <tr style=\"text-align: right;\">\n",
       "      <th></th>\n",
       "      <th>original column contents</th>\n",
       "      <th>sex</th>\n",
       "    </tr>\n",
       "  </thead>\n",
       "  <tbody>\n",
       "    <tr>\n",
       "      <th>0</th>\n",
       "      <td>male</td>\n",
       "      <td>MALE</td>\n",
       "    </tr>\n",
       "    <tr>\n",
       "      <th>1</th>\n",
       "      <td>male</td>\n",
       "      <td>MALE</td>\n",
       "    </tr>\n",
       "    <tr>\n",
       "      <th>2</th>\n",
       "      <td>male</td>\n",
       "      <td>MALE</td>\n",
       "    </tr>\n",
       "    <tr>\n",
       "      <th>3</th>\n",
       "      <td>male</td>\n",
       "      <td>MALE</td>\n",
       "    </tr>\n",
       "    <tr>\n",
       "      <th>4</th>\n",
       "      <td>male</td>\n",
       "      <td>MALE</td>\n",
       "    </tr>\n",
       "    <tr>\n",
       "      <th>5</th>\n",
       "      <td>male</td>\n",
       "      <td>MALE</td>\n",
       "    </tr>\n",
       "    <tr>\n",
       "      <th>6</th>\n",
       "      <td>male</td>\n",
       "      <td>MALE</td>\n",
       "    </tr>\n",
       "  </tbody>\n",
       "</table>\n",
       "</div>"
      ],
      "text/plain": [
       "  original column contents   sex\n",
       "0                     male  MALE\n",
       "1                     male  MALE\n",
       "2                     male  MALE\n",
       "3                     male  MALE\n",
       "4                     male  MALE\n",
       "5                     male  MALE\n",
       "6                     male  MALE"
      ]
     },
     "execution_count": 9,
     "metadata": {},
     "output_type": "execute_result"
    }
   ],
   "source": [
    "sexMapper = SexColumnMapper(male_symbol='male', female_symbol='female', column_name='sex')\n",
    "sexMapper.preview_column(df['sex'])"
   ]
  },
  {
   "cell_type": "code",
   "execution_count": 11,
   "id": "f6581a8a",
   "metadata": {},
   "outputs": [],
   "source": [
    "encoder = CohortEncoder(df=df, \n",
    "                        hpo_cr=hpo_cr, \n",
    "                        column_mapper_d=column_mapper_d, \n",
    "                        individual_column_name=\"Individual\", \n",
    "                        agemapper=ageMapper, \n",
    "                        sexmapper=sexMapper,\n",
    "                        variant_mapper=varMapper, \n",
    "                        metadata=metadata,\n",
    "                        pmid=PMID)\n",
    "ofd1 = Disease(disease_id='OMIM:311200', disease_label='Orofaciodigital syndrome I')\n",
    "encoder.set_disease(ofd1)"
   ]
  },
  {
   "cell_type": "code",
   "execution_count": 13,
   "id": "fd367ed6",
   "metadata": {},
   "outputs": [
    {
     "data": {
      "text/html": [
       "<h2>Cohort validation</h2>\n",
       "<p>Errors found with 5 of 7 phenopackets.</p>\n",
       "<table style=\"border: 2px solid black; align: \"left\">\n",
       "<caption>Error counts</caption>\n",
       "<tr><th style=\"text-align: left;font-weight: bold;\">Level</th><th style=\"text-align: left;font-weight: bold;\">Error category</th><th style=\"text-align: left;font-weight: bold;\">Count</th></tr>\n",
       "<tr><td style=\"text-align: left;\">INFORMATION</td><td style=\"text-align: left;\">NOT_MEASURED</td><td style=\"text-align: left;\">12</td></tr>\n",
       "</table>\n",
       "<p>A total of 12 issues were fixed and no individual was removed from the cohort.</p>"
      ],
      "text/plain": [
       "<IPython.core.display.HTML object>"
      ]
     },
     "metadata": {},
     "output_type": "display_data"
    }
   ],
   "source": [
    "individuals = encoder.get_individuals()\n",
    "cvalidator = CohortValidator(cohort=individuals, ontology=hpo_ontology, min_hpo=1, allelic_requirement=AllelicRequirement.MONO_ALLELIC)\n",
    "qc = QcVisualizer(ontology=hpo_ontology, cohort_validator=cvalidator)\n",
    "display(HTML(qc.to_summary_html()))"
   ]
  },
  {
   "cell_type": "code",
   "execution_count": 14,
   "id": "5d044b78",
   "metadata": {},
   "outputs": [
    {
     "data": {
      "text/html": [
       "<table style=\"border: 2px solid black; align: \"left\">\n",
       "<caption>7 phenopackets - PMID:11179005 (n=7)</caption>\n",
       "<tr><th style=\"text-align: left;font-weight: bold;\">Individual</th><th style=\"text-align: left;font-weight: bold;\">Disease</th><th style=\"text-align: left;font-weight: bold;\">Genotype</th><th style=\"text-align: left;font-weight: bold;\">Phenotypic features</th></tr>\n",
       "<tr><td style=\"text-align: left;\">1 (F) (MALE; P1Y)</td><td style=\"text-align: left;\">Orofaciodigital syndrome I (OMIM:311200)</td><td style=\"text-align: left;\">NM_003611.2:c.1303A>C (hemizygous)</td><td style=\"text-align: left;\">Downslanted palpebral fissures (HP:0000494); Dolichocephaly (HP:0000268); Localized skin lesion (HP:0011355); Abnormality of the dentition (HP:0000164); Orofacial cleft (HP:0000202); Brain imaging abnormality (HP:0410263); Global developmental delay (HP:0001263); Coarse hair (HP:0002208); Alopecia (HP:0001596); excluded: Facial asymmetry (HP:0000324); excluded: Hepatic cysts (HP:0001407); excluded: Dry hair (HP:0011359); excluded: Short 2nd toe (HP:0001885); excluded: Syndactyly (HP:0001159); excluded: Polycystic kidney dysplasia (HP:0000113); excluded: Polydactyly (HP:0010442); excluded: Clinodactyly (HP:0030084); excluded: Brachydactyly (HP:0001156)</td></tr>\n",
       "<tr><td style=\"text-align: left;\">3 (F) (MALE; P3Y)</td><td style=\"text-align: left;\">Orofaciodigital syndrome I (OMIM:311200)</td><td style=\"text-align: left;\">NM_003611.2:c.312+1del (hemizygous)</td><td style=\"text-align: left;\">Orofacial cleft (HP:0000202); Brain imaging abnormality (HP:0410263); Short 2nd toe (HP:0001885); Polycystic kidney dysplasia (HP:0000113); Polydactyly (HP:0010442); excluded: Downslanted palpebral fissures (HP:0000494); excluded: Dolichocephaly (HP:0000268); excluded: Facial asymmetry (HP:0000324); excluded: Localized skin lesion (HP:0011355); excluded: Abnormality of the dentition (HP:0000164); excluded: Global developmental delay (HP:0001263); excluded: Hepatic cysts (HP:0001407); excluded: Dry hair (HP:0011359); excluded: Coarse hair (HP:0002208); excluded: Alopecia (HP:0001596); excluded: Syndactyly (HP:0001159); excluded: Brachydactyly (HP:0001156)</td></tr>\n",
       "<tr><td style=\"text-align: left;\">4 (F) (MALE; P4Y)</td><td style=\"text-align: left;\">Orofaciodigital syndrome I (OMIM:311200)</td><td style=\"text-align: left;\">NM_003611.2:c.294_312del (hemizygous)</td><td style=\"text-align: left;\">Facial asymmetry (HP:0000324); Orofacial cleft (HP:0000202); Brain imaging abnormality (HP:0410263); Global developmental delay (HP:0001263); Hepatic cysts (HP:0001407); Dry hair (HP:0011359); Alopecia (HP:0001596); Syndactyly (HP:0001159); Polycystic kidney dysplasia (HP:0000113); Clinodactyly (HP:0030084); excluded: Downslanted palpebral fissures (HP:0000494); excluded: Dolichocephaly (HP:0000268); excluded: Localized skin lesion (HP:0011355); excluded: Abnormality of the dentition (HP:0000164); excluded: Coarse hair (HP:0002208); excluded: Short 2nd toe (HP:0001885); excluded: Polydactyly (HP:0010442); excluded: Brachydactyly (HP:0001156)</td></tr>\n",
       "<tr><td style=\"text-align: left;\">6 (S) (MALE; P6Y)</td><td style=\"text-align: left;\">Orofaciodigital syndrome I (OMIM:311200)</td><td style=\"text-align: left;\">NM_003611.2:c.121C>T (hemizygous)</td><td style=\"text-align: left;\">Localized skin lesion (HP:0011355); Orofacial cleft (HP:0000202); Syndactyly (HP:0001159); excluded: Downslanted palpebral fissures (HP:0000494); excluded: Dolichocephaly (HP:0000268); excluded: Facial asymmetry (HP:0000324); excluded: Abnormality of the dentition (HP:0000164); excluded: Hepatic cysts (HP:0001407); excluded: Dry hair (HP:0011359); excluded: Coarse hair (HP:0002208); excluded: Alopecia (HP:0001596); excluded: Short 2nd toe (HP:0001885); excluded: Polycystic kidney dysplasia (HP:0000113); excluded: Polydactyly (HP:0010442); excluded: Clinodactyly (HP:0030084); excluded: Brachydactyly (HP:0001156)</td></tr>\n",
       "<tr><td style=\"text-align: left;\">10 (S) (MALE; P10Y)</td><td style=\"text-align: left;\">Orofaciodigital syndrome I (OMIM:311200)</td><td style=\"text-align: left;\">NM_003611.2:c.1071_1078del (hemizygous)</td><td style=\"text-align: left;\">Orofacial cleft (HP:0000202); Syndactyly (HP:0001159); excluded: Downslanted palpebral fissures (HP:0000494); excluded: Dolichocephaly (HP:0000268); excluded: Abnormality of the dentition (HP:0000164); excluded: Dry hair (HP:0011359); excluded: Short 2nd toe (HP:0001885); excluded: Polycystic kidney dysplasia (HP:0000113); excluded: Polydactyly (HP:0010442); excluded: Clinodactyly (HP:0030084); excluded: Brachydactyly (HP:0001156)</td></tr>\n",
       "<tr><td style=\"text-align: left;\">27 (S) (MALE; P27Y)</td><td style=\"text-align: left;\">Orofaciodigital syndrome I (OMIM:311200)</td><td style=\"text-align: left;\">NM_003611.2:c.312+2del (hemizygous)</td><td style=\"text-align: left;\">Localized skin lesion (HP:0011355); Abnormality of the dentition (HP:0000164); Orofacial cleft (HP:0000202); Global developmental delay (HP:0001263); Polycystic kidney dysplasia (HP:0000113); excluded: Downslanted palpebral fissures (HP:0000494); excluded: Dolichocephaly (HP:0000268); excluded: Facial asymmetry (HP:0000324); excluded: Hepatic cysts (HP:0001407); excluded: Dry hair (HP:0011359); excluded: Coarse hair (HP:0002208); excluded: Alopecia (HP:0001596); excluded: Short 2nd toe (HP:0001885); excluded: Syndactyly (HP:0001159); excluded: Polydactyly (HP:0010442); excluded: Clinodactyly (HP:0030084); excluded: Brachydactyly (HP:0001156)</td></tr>\n",
       "<tr><td style=\"text-align: left;\">28 (S) (MALE; P28Y)</td><td style=\"text-align: left;\">Orofaciodigital syndrome I (OMIM:311200)</td><td style=\"text-align: left;\">NM_003611.2:c.1757del (hemizygous)</td><td style=\"text-align: left;\">Localized skin lesion (HP:0011355); Abnormality of the dentition (HP:0000164); Orofacial cleft (HP:0000202); Global developmental delay (HP:0001263); Alopecia (HP:0001596); Clinodactyly (HP:0030084); Brachydactyly (HP:0001156); excluded: Downslanted palpebral fissures (HP:0000494); excluded: Dolichocephaly (HP:0000268); excluded: Facial asymmetry (HP:0000324); excluded: Hepatic cysts (HP:0001407); excluded: Dry hair (HP:0011359); excluded: Coarse hair (HP:0002208); excluded: Short 2nd toe (HP:0001885); excluded: Syndactyly (HP:0001159); excluded: Polycystic kidney dysplasia (HP:0000113); excluded: Polydactyly (HP:0010442)</td></tr>\n",
       "</table>"
      ],
      "text/plain": [
       "<IPython.core.display.HTML object>"
      ]
     },
     "metadata": {},
     "output_type": "display_data"
    }
   ],
   "source": [
    "individuals = cvalidator.get_error_free_individual_list()\n",
    "table = PhenopacketTable(individual_list=individuals, metadata=metadata)\n",
    "display(HTML(table.to_html()))"
   ]
  },
  {
   "cell_type": "code",
   "execution_count": 15,
   "id": "23f1094f",
   "metadata": {
    "scrolled": true
   },
   "outputs": [
    {
     "name": "stdout",
     "output_type": "stream",
     "text": [
      "We output 7 GA4GH phenopackets to the directory phenopackets\n"
     ]
    }
   ],
   "source": [
    "output_directory = \"phenopackets\"\n",
    "Individual.output_individuals_as_phenopackets(individual_list=individuals,\n",
    "                                             metadata=metadata,\n",
    "                                             outdir=output_directory)"
   ]
  },
  {
   "cell_type": "code",
   "execution_count": null,
   "id": "0adfec7e-3453-463d-aa8a-9c86b53e29f0",
   "metadata": {},
   "outputs": [],
   "source": []
  }
 ],
 "metadata": {
  "kernelspec": {
   "display_name": "Python 3 (ipykernel)",
   "language": "python",
   "name": "python3"
  },
  "language_info": {
   "codemirror_mode": {
    "name": "ipython",
    "version": 3
   },
   "file_extension": ".py",
   "mimetype": "text/x-python",
   "name": "python",
   "nbconvert_exporter": "python",
   "pygments_lexer": "ipython3",
   "version": "3.11.3"
  }
 },
 "nbformat": 4,
 "nbformat_minor": 5
}
