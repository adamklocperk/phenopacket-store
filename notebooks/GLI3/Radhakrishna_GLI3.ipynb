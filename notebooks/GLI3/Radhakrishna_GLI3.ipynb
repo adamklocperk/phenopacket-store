{
 "cells": [
  {
   "cell_type": "markdown",
   "id": "57c2aa24",
   "metadata": {},
   "source": [
    "<h1>GLI3: Al-Qattan et al 2012</h1>\n",
    "<p>Extract the clinical data from <a href=\"https://pubmed.ncbi.nlm.nih.gov/22428873/\"target=\"__blank\">Al-Qattan MM. A novel frameshift mutation of the GLI3 gene in a family with broad thumbs with/without big toes, postaxial polydactyly and variable syndactyly of the hands/feet. Clin Genet. 2012 Nov;82(5):502-4 PMID:22428873</a>.<p>"
   ]
  },
  {
   "cell_type": "code",
   "execution_count": 1,
   "id": "d1108bba",
   "metadata": {},
   "outputs": [
    {
     "name": "stdout",
     "output_type": "stream",
     "text": [
      "Using pyphetools version 0.9.3\n"
     ]
    }
   ],
   "source": [
    "import pandas as pd\n",
    "pd.set_option('display.max_colwidth', None) # show entire column contents, important!\n",
    "from IPython.display import display, HTML\n",
    "from pyphetools.creation import *\n",
    "from pyphetools.visualization import *\n",
    "from pyphetools.validation import *\n",
    "import pyphetools\n",
    "print(f\"Using pyphetools version {pyphetools.__version__}\")"
   ]
  },
  {
   "cell_type": "code",
   "execution_count": 2,
   "id": "98f50d43",
   "metadata": {},
   "outputs": [
    {
     "name": "stdout",
     "output_type": "stream",
     "text": [
      "HPO version 2023-10-09\n"
     ]
    }
   ],
   "source": [
    "PMID = \"PMID:22428873\"\n",
    "title = \"A novel frameshift mutation of the GLI3 gene in a family with broad thumbs with/without big toes, postaxial polydactyly and variable syndactyly of the hands/feet\"\n",
    "cite = Citation(pmid=PMID, title=title)\n",
    "parser = HpoParser()\n",
    "hpo_cr = parser.get_hpo_concept_recognizer()\n",
    "hpo_version = parser.get_version()\n",
    "hpo_ontology = parser.get_ontology()\n",
    "metadata = MetaData(created_by=\"ORCID:0000-0002-0736-9199\", citation=cite)\n",
    "metadata.default_versions_with_hpo(version=hpo_version)\n",
    "print(f\"HPO version {hpo_version}\")"
   ]
  },
  {
   "cell_type": "markdown",
   "id": "46c7faba",
   "metadata": {},
   "source": [
    "<h1>Postaxial polydactyly</h1>\n",
    "<p>The authors report on a family with a novel frameshift mutation of the GLI3 gene which predicts truncation\n",
    "in the N-terminal third of the protein. However, none of the affected family members had craniofacial manifestations.</p>\n",
    "<p>sented with rudimentary\n",
    "PAP of the hands, broad thumbs, broad mildly deviated big toes, and simple syndactyly of the left hand\n",
    "and both feet. There were no craniofacial or systemic\n",
    "abnormalities. The left leg had a small venous mal-\n",
    "formation. His father and four other family members\n",
    "also had similar limb features with no craniofacial\n",
    "or systemic abnormalities (Fig. 3). All members had\n",
    "PAP of the hands with/without feet, broad thumbs\n",
    "with/without big toes, and variable simple syndactyly\n",
    "of the hands/feet. The PAP was rudimentary in all but one member in whom there was bilateral PAP type A\n",
    "of both feet. None of the other family members had\n",
    "vascular malformations or other concurrent anomalies.\n",
    "Intelligence was normal.</p>\n",
    "<p>The patients are not numbered or described in detail in the manuscript, so we will identify them as patients P1-P6 from top to bottom and left to right. The index patient would thus be patient P6.</p>\n",
    "<p>Clinical details are limited in the manuscript, but since the patients are described as being similar, we create the following clinical table.</p>"
   ]
  },
  {
   "cell_type": "code",
   "execution_count": 3,
   "id": "e09feb18",
   "metadata": {},
   "outputs": [],
   "source": [
    "columns = [\"Postaxial hand polydactyly\",\n",
    "           \"Broad thumb\",\n",
    "          \"Broad hallux\",\n",
    "          \"Cutaneous finger syndactyly\",\n",
    "          \"Cutaneous syndactyly of toes\",\n",
    "          \"Macrocephaly\",\n",
    "          \"Hypertelorism\",\n",
    "          'Global developmental delay',\n",
    "          \"Intellectual disability\",\n",
    "          \"Growth delay\",\n",
    "           'Y-shaped metacarpals',\n",
    "           'Anal atresia',\n",
    "           \"Nail dysplasia\",\n",
    "           \"HGVS\"\n",
    "          ]\n",
    "clinical_data = [\"Y\",\"Y\",\"Y\",\"Y\",\"Y\", \"N\",\"N\",\"N\",\"N\",\"N\",\"N\",\"N\",\"N\",\"c.1616_1617del\"]"
   ]
  },
  {
   "cell_type": "code",
   "execution_count": 4,
   "id": "35c5a144",
   "metadata": {},
   "outputs": [
    {
     "data": {
      "text/html": [
       "<div>\n",
       "<style scoped>\n",
       "    .dataframe tbody tr th:only-of-type {\n",
       "        vertical-align: middle;\n",
       "    }\n",
       "\n",
       "    .dataframe tbody tr th {\n",
       "        vertical-align: top;\n",
       "    }\n",
       "\n",
       "    .dataframe thead th {\n",
       "        text-align: right;\n",
       "    }\n",
       "</style>\n",
       "<table border=\"1\" class=\"dataframe\">\n",
       "  <thead>\n",
       "    <tr style=\"text-align: right;\">\n",
       "      <th></th>\n",
       "      <th>Patient</th>\n",
       "      <th>Postaxial hand polydactyly</th>\n",
       "      <th>Broad thumb</th>\n",
       "      <th>Broad hallux</th>\n",
       "      <th>Cutaneous finger syndactyly</th>\n",
       "      <th>Cutaneous syndactyly of toes</th>\n",
       "      <th>Macrocephaly</th>\n",
       "      <th>Hypertelorism</th>\n",
       "      <th>Global developmental delay</th>\n",
       "      <th>Intellectual disability</th>\n",
       "      <th>Growth delay</th>\n",
       "      <th>Y-shaped metacarpals</th>\n",
       "      <th>Anal atresia</th>\n",
       "      <th>Nail dysplasia</th>\n",
       "      <th>HGVS</th>\n",
       "    </tr>\n",
       "  </thead>\n",
       "  <tbody>\n",
       "    <tr>\n",
       "      <th>0</th>\n",
       "      <td>P1</td>\n",
       "      <td>Y</td>\n",
       "      <td>Y</td>\n",
       "      <td>Y</td>\n",
       "      <td>Y</td>\n",
       "      <td>Y</td>\n",
       "      <td>N</td>\n",
       "      <td>N</td>\n",
       "      <td>N</td>\n",
       "      <td>N</td>\n",
       "      <td>N</td>\n",
       "      <td>N</td>\n",
       "      <td>N</td>\n",
       "      <td>N</td>\n",
       "      <td>c.1616_1617del</td>\n",
       "    </tr>\n",
       "    <tr>\n",
       "      <th>1</th>\n",
       "      <td>P2</td>\n",
       "      <td>Y</td>\n",
       "      <td>Y</td>\n",
       "      <td>Y</td>\n",
       "      <td>Y</td>\n",
       "      <td>Y</td>\n",
       "      <td>N</td>\n",
       "      <td>N</td>\n",
       "      <td>N</td>\n",
       "      <td>N</td>\n",
       "      <td>N</td>\n",
       "      <td>N</td>\n",
       "      <td>N</td>\n",
       "      <td>N</td>\n",
       "      <td>c.1616_1617del</td>\n",
       "    </tr>\n",
       "    <tr>\n",
       "      <th>2</th>\n",
       "      <td>P3</td>\n",
       "      <td>Y</td>\n",
       "      <td>Y</td>\n",
       "      <td>Y</td>\n",
       "      <td>Y</td>\n",
       "      <td>Y</td>\n",
       "      <td>N</td>\n",
       "      <td>N</td>\n",
       "      <td>N</td>\n",
       "      <td>N</td>\n",
       "      <td>N</td>\n",
       "      <td>N</td>\n",
       "      <td>N</td>\n",
       "      <td>N</td>\n",
       "      <td>c.1616_1617del</td>\n",
       "    </tr>\n",
       "    <tr>\n",
       "      <th>3</th>\n",
       "      <td>P4</td>\n",
       "      <td>Y</td>\n",
       "      <td>Y</td>\n",
       "      <td>Y</td>\n",
       "      <td>Y</td>\n",
       "      <td>Y</td>\n",
       "      <td>N</td>\n",
       "      <td>N</td>\n",
       "      <td>N</td>\n",
       "      <td>N</td>\n",
       "      <td>N</td>\n",
       "      <td>N</td>\n",
       "      <td>N</td>\n",
       "      <td>N</td>\n",
       "      <td>c.1616_1617del</td>\n",
       "    </tr>\n",
       "    <tr>\n",
       "      <th>4</th>\n",
       "      <td>P5</td>\n",
       "      <td>Y</td>\n",
       "      <td>Y</td>\n",
       "      <td>Y</td>\n",
       "      <td>Y</td>\n",
       "      <td>Y</td>\n",
       "      <td>N</td>\n",
       "      <td>N</td>\n",
       "      <td>N</td>\n",
       "      <td>N</td>\n",
       "      <td>N</td>\n",
       "      <td>N</td>\n",
       "      <td>N</td>\n",
       "      <td>N</td>\n",
       "      <td>c.1616_1617del</td>\n",
       "    </tr>\n",
       "    <tr>\n",
       "      <th>5</th>\n",
       "      <td>P6</td>\n",
       "      <td>Y</td>\n",
       "      <td>Y</td>\n",
       "      <td>Y</td>\n",
       "      <td>Y</td>\n",
       "      <td>Y</td>\n",
       "      <td>N</td>\n",
       "      <td>N</td>\n",
       "      <td>N</td>\n",
       "      <td>N</td>\n",
       "      <td>N</td>\n",
       "      <td>N</td>\n",
       "      <td>N</td>\n",
       "      <td>N</td>\n",
       "      <td>c.1616_1617del</td>\n",
       "    </tr>\n",
       "  </tbody>\n",
       "</table>\n",
       "</div>"
      ],
      "text/plain": [
       "  Patient Postaxial hand polydactyly Broad thumb Broad hallux  \\\n",
       "0      P1                          Y           Y            Y   \n",
       "1      P2                          Y           Y            Y   \n",
       "2      P3                          Y           Y            Y   \n",
       "3      P4                          Y           Y            Y   \n",
       "4      P5                          Y           Y            Y   \n",
       "5      P6                          Y           Y            Y   \n",
       "\n",
       "  Cutaneous finger syndactyly Cutaneous syndactyly of toes Macrocephaly  \\\n",
       "0                           Y                            Y            N   \n",
       "1                           Y                            Y            N   \n",
       "2                           Y                            Y            N   \n",
       "3                           Y                            Y            N   \n",
       "4                           Y                            Y            N   \n",
       "5                           Y                            Y            N   \n",
       "\n",
       "  Hypertelorism Global developmental delay Intellectual disability  \\\n",
       "0             N                          N                       N   \n",
       "1             N                          N                       N   \n",
       "2             N                          N                       N   \n",
       "3             N                          N                       N   \n",
       "4             N                          N                       N   \n",
       "5             N                          N                       N   \n",
       "\n",
       "  Growth delay Y-shaped metacarpals Anal atresia Nail dysplasia  \\\n",
       "0            N                    N            N              N   \n",
       "1            N                    N            N              N   \n",
       "2            N                    N            N              N   \n",
       "3            N                    N            N              N   \n",
       "4            N                    N            N              N   \n",
       "5            N                    N            N              N   \n",
       "\n",
       "             HGVS  \n",
       "0  c.1616_1617del  \n",
       "1  c.1616_1617del  \n",
       "2  c.1616_1617del  \n",
       "3  c.1616_1617del  \n",
       "4  c.1616_1617del  \n",
       "5  c.1616_1617del  "
      ]
     },
     "execution_count": 4,
     "metadata": {},
     "output_type": "execute_result"
    }
   ],
   "source": [
    "items = []\n",
    "for i in range(1,7):\n",
    "    patient = f\"P{i}\"\n",
    "    d = {}\n",
    "    d[\"Patient\"] = patient\n",
    "    for j in range(len(columns)):\n",
    "        d[columns[j]] = clinical_data[j]\n",
    "    items.append(d)\n",
    "\n",
    "\n",
    "df = pd.DataFrame(items)\n",
    "\n",
    "df"
   ]
  },
  {
   "cell_type": "code",
   "execution_count": 5,
   "id": "2f3c2c2f",
   "metadata": {},
   "outputs": [],
   "source": [
    "items = {\n",
    "  'Postaxial hand polydactyly': [\"Postaxial hand polydactyly\",\"HP:0001162\"],\n",
    "  'Broad thumb': ['Broad thumb', 'HP:0011304'],\n",
    "  'Broad hallux': ['Broad hallux', 'HP:0010055'],\n",
    "  'Cutaneous finger syndactyly': [\"Cutaneous finger syndactyly\", \"HP:0010554\"],\n",
    "  'Cutaneous syndactyly of toes': ['Cutaneous syndactyly of toes', 'HP:0010621'], \n",
    "  'Macrocephaly': ['Macrocephaly','HP:0000256'],\n",
    "  'Hypertelorism': ['Hypertelorism', 'HP:0000316'],\n",
    "  'Global developmental delay': ['Global developmental delay', 'HP:0001263'],\n",
    "   'Intellectual disability': ['Intellectual disability', 'HP:0001249'],\n",
    "  'Growth delay': ['Growth delay', 'HP:0001510'],\n",
    "  'Y-shaped metacarpals': ['Y-shaped metacarpals', 'HP:0006042'],\n",
    "  'Anal atresia': ['Anal atresia', 'HP:0002023'],\n",
    "    'Nail dysplasia': ['Nail dysplasia', 'HP:0002164']\n",
    "}\n",
    "\n",
    "item_column_mapper_d = hpo_cr.initialize_simple_column_maps(column_name_to_hpo_label_map=items, \n",
    "                                                            observed='Y',\n",
    "                                                              excluded='N')\n",
    "\n",
    "column_mapper_d = {}\n",
    "\n",
    "for k, v in item_column_mapper_d.items():\n",
    "    column_mapper_d[k] = v"
   ]
  },
  {
   "cell_type": "markdown",
   "id": "c45eaa6f",
   "metadata": {},
   "source": [
    "<h2>GLI3 variant</h2>\n",
    "<p>The variant is described as being a heterozygous change in exon 10 of the GLI3 gene for\n",
    "a double-nucleotide deletion defined as C.1615_1616delGA, which is predicted to result in a frameshift\n",
    "mutation, leading to a premature protein termination P. Arg 539 Thr fs x 12. We determined that this corresponds to NM_000168.6:c.1616_1617del.</p>"
   ]
  },
  {
   "cell_type": "code",
   "execution_count": 6,
   "id": "a59b9067",
   "metadata": {},
   "outputs": [
    {
     "name": "stdout",
     "output_type": "stream",
     "text": [
      "https://rest.variantvalidator.org/VariantValidator/variantvalidator/hg38/NM_000168.6%3Ac.1616_1617del/NM_000168.6?content-type=application%2Fjson\n"
     ]
    }
   ],
   "source": [
    "gli3_transcript='NM_000168.6'\n",
    "genome = 'hg38'\n",
    "# there is just one variant here\n",
    "validator = VariantValidator(genome_build=genome, transcript=gli3_transcript)\n",
    "var = validator.encode_hgvs(\"c.1616_1617del\")\n",
    "var.set_heterozygous()\n",
    "var_d = {\"c.1616_1617del\": var}"
   ]
  },
  {
   "cell_type": "code",
   "execution_count": 7,
   "id": "257d014e-aed9-4f7c-beef-a1deffad9f71",
   "metadata": {},
   "outputs": [],
   "source": [
    "varMapper = VariantColumnMapper(variant_d=var_d,\n",
    "                                variant_column_name='HGVS', \n",
    "                                default_genotype='heterozygous')"
   ]
  },
  {
   "cell_type": "code",
   "execution_count": 8,
   "id": "9cb0f5e9",
   "metadata": {},
   "outputs": [],
   "source": [
    "sexMapper = SexColumnMapper.not_provided()\n",
    "ageMapper = AgeColumnMapper.not_provided()\n",
    "encoder = CohortEncoder(df=df, \n",
    "                        hpo_cr=hpo_cr, \n",
    "                        column_mapper_d=column_mapper_d, \n",
    "                        individual_column_name=\"Patient\", \n",
    "                        agemapper=ageMapper, \n",
    "                        sexmapper=sexMapper,\n",
    "                        variant_mapper=varMapper,\n",
    "                        metadata=metadata)\n",
    "omim_label = \"Polydactyly, postaxial, types A1 and B\"\n",
    "omim_id = \"OMIM:174200\"\n",
    "ppab = Disease(disease_id=omim_id, disease_label=omim_label)\n",
    "encoder.set_disease(disease=ppab)"
   ]
  },
  {
   "cell_type": "code",
   "execution_count": 9,
   "id": "6592fbf5",
   "metadata": {},
   "outputs": [
    {
     "data": {
      "text/html": [
       "<h2>Cohort validation</h2>\n",
       "<p>No errors found for the cohort with 6 individuals</p>"
      ],
      "text/plain": [
       "<IPython.core.display.HTML object>"
      ]
     },
     "metadata": {},
     "output_type": "display_data"
    }
   ],
   "source": [
    "individuals = encoder.get_individuals()\n",
    "cvalidator = CohortValidator(cohort=individuals, ontology=hpo_ontology, min_hpo=1, allelic_requirement=AllelicRequirement.MONO_ALLELIC)\n",
    "qc = QcVisualizer(cohort_validator=cvalidator)\n",
    "display(HTML(qc.to_html()))"
   ]
  },
  {
   "cell_type": "code",
   "execution_count": 10,
   "id": "7a3b1286",
   "metadata": {},
   "outputs": [
    {
     "data": {
      "text/html": [
       "<table style=\"border: 2px solid black; align: \"left\">\n",
       "<caption>6 phenopackets - PMID:22428873 (n=6)</caption>\n",
       "<tr><th style=\"text-align: left;font-weight: bold;\">Individual</th><th style=\"text-align: left;font-weight: bold;\">Disease</th><th style=\"text-align: left;font-weight: bold;\">Genotype</th><th style=\"text-align: left;font-weight: bold;\">Phenotypic features</th></tr>\n",
       "<tr><td style=\"text-align: left;\">P1 (UNKNOWN; )</td><td style=\"text-align: left;\">Polydactyly, postaxial, types A1 and B (OMIM:174200)</td><td style=\"text-align: left;\">NM_000168.6:c.1616_1617del (heterozygous)</td><td style=\"text-align: left;\">Postaxial hand polydactyly (HP:0001162); Broad thumb (HP:0011304); Broad hallux (HP:0010055); Cutaneous finger syndactyly (HP:0010554); Cutaneous syndactyly of toes (HP:0010621); excluded: Macrocephaly (HP:0000256); excluded: Hypertelorism (HP:0000316); excluded: Global developmental delay (HP:0001263); excluded: Intellectual disability (HP:0001249); excluded: Growth delay (HP:0001510); excluded: Y-shaped metacarpals (HP:0006042); excluded: Anal atresia (HP:0002023); excluded: Nail dysplasia (HP:0002164)</td></tr>\n",
       "<tr><td style=\"text-align: left;\">P2 (UNKNOWN; )</td><td style=\"text-align: left;\">Polydactyly, postaxial, types A1 and B (OMIM:174200)</td><td style=\"text-align: left;\">NM_000168.6:c.1616_1617del (heterozygous)</td><td style=\"text-align: left;\">Postaxial hand polydactyly (HP:0001162); Broad thumb (HP:0011304); Broad hallux (HP:0010055); Cutaneous finger syndactyly (HP:0010554); Cutaneous syndactyly of toes (HP:0010621); excluded: Macrocephaly (HP:0000256); excluded: Hypertelorism (HP:0000316); excluded: Global developmental delay (HP:0001263); excluded: Intellectual disability (HP:0001249); excluded: Growth delay (HP:0001510); excluded: Y-shaped metacarpals (HP:0006042); excluded: Anal atresia (HP:0002023); excluded: Nail dysplasia (HP:0002164)</td></tr>\n",
       "<tr><td style=\"text-align: left;\">P3 (UNKNOWN; )</td><td style=\"text-align: left;\">Polydactyly, postaxial, types A1 and B (OMIM:174200)</td><td style=\"text-align: left;\">NM_000168.6:c.1616_1617del (heterozygous)</td><td style=\"text-align: left;\">Postaxial hand polydactyly (HP:0001162); Broad thumb (HP:0011304); Broad hallux (HP:0010055); Cutaneous finger syndactyly (HP:0010554); Cutaneous syndactyly of toes (HP:0010621); excluded: Macrocephaly (HP:0000256); excluded: Hypertelorism (HP:0000316); excluded: Global developmental delay (HP:0001263); excluded: Intellectual disability (HP:0001249); excluded: Growth delay (HP:0001510); excluded: Y-shaped metacarpals (HP:0006042); excluded: Anal atresia (HP:0002023); excluded: Nail dysplasia (HP:0002164)</td></tr>\n",
       "<tr><td style=\"text-align: left;\">P4 (UNKNOWN; )</td><td style=\"text-align: left;\">Polydactyly, postaxial, types A1 and B (OMIM:174200)</td><td style=\"text-align: left;\">NM_000168.6:c.1616_1617del (heterozygous)</td><td style=\"text-align: left;\">Postaxial hand polydactyly (HP:0001162); Broad thumb (HP:0011304); Broad hallux (HP:0010055); Cutaneous finger syndactyly (HP:0010554); Cutaneous syndactyly of toes (HP:0010621); excluded: Macrocephaly (HP:0000256); excluded: Hypertelorism (HP:0000316); excluded: Global developmental delay (HP:0001263); excluded: Intellectual disability (HP:0001249); excluded: Growth delay (HP:0001510); excluded: Y-shaped metacarpals (HP:0006042); excluded: Anal atresia (HP:0002023); excluded: Nail dysplasia (HP:0002164)</td></tr>\n",
       "<tr><td style=\"text-align: left;\">P5 (UNKNOWN; )</td><td style=\"text-align: left;\">Polydactyly, postaxial, types A1 and B (OMIM:174200)</td><td style=\"text-align: left;\">NM_000168.6:c.1616_1617del (heterozygous)</td><td style=\"text-align: left;\">Postaxial hand polydactyly (HP:0001162); Broad thumb (HP:0011304); Broad hallux (HP:0010055); Cutaneous finger syndactyly (HP:0010554); Cutaneous syndactyly of toes (HP:0010621); excluded: Macrocephaly (HP:0000256); excluded: Hypertelorism (HP:0000316); excluded: Global developmental delay (HP:0001263); excluded: Intellectual disability (HP:0001249); excluded: Growth delay (HP:0001510); excluded: Y-shaped metacarpals (HP:0006042); excluded: Anal atresia (HP:0002023); excluded: Nail dysplasia (HP:0002164)</td></tr>\n",
       "<tr><td style=\"text-align: left;\">P6 (UNKNOWN; )</td><td style=\"text-align: left;\">Polydactyly, postaxial, types A1 and B (OMIM:174200)</td><td style=\"text-align: left;\">NM_000168.6:c.1616_1617del (heterozygous)</td><td style=\"text-align: left;\">Postaxial hand polydactyly (HP:0001162); Broad thumb (HP:0011304); Broad hallux (HP:0010055); Cutaneous finger syndactyly (HP:0010554); Cutaneous syndactyly of toes (HP:0010621); excluded: Macrocephaly (HP:0000256); excluded: Hypertelorism (HP:0000316); excluded: Global developmental delay (HP:0001263); excluded: Intellectual disability (HP:0001249); excluded: Growth delay (HP:0001510); excluded: Y-shaped metacarpals (HP:0006042); excluded: Anal atresia (HP:0002023); excluded: Nail dysplasia (HP:0002164)</td></tr>\n",
       "</table>"
      ],
      "text/plain": [
       "<IPython.core.display.HTML object>"
      ]
     },
     "metadata": {},
     "output_type": "display_data"
    }
   ],
   "source": [
    "table = PhenopacketTable(individual_list=individuals, metadata=metadata)\n",
    "display(HTML(table.to_html()))"
   ]
  },
  {
   "cell_type": "code",
   "execution_count": 11,
   "id": "3d703b8a",
   "metadata": {},
   "outputs": [
    {
     "name": "stdout",
     "output_type": "stream",
     "text": [
      "We output 6 GA4GH phenopackets to the directory phenopackets\n"
     ]
    }
   ],
   "source": [
    "output_directory = \"phenopackets\"\n",
    "Individual.output_individuals_as_phenopackets(individual_list=individuals, \n",
    "                                              metadata=metadata,\n",
    "                                              outdir=output_directory)"
   ]
  },
  {
   "cell_type": "code",
   "execution_count": 12,
   "id": "0562ba36-badc-4641-a5f8-84a2b8b010d6",
   "metadata": {},
   "outputs": [],
   "source": [
    "# pxf validate --hpo ../hpo_data/hp.json *.json\n",
    "# no errors."
   ]
  }
 ],
 "metadata": {
  "kernelspec": {
   "display_name": "Python 3 (ipykernel)",
   "language": "python",
   "name": "python3"
  },
  "language_info": {
   "codemirror_mode": {
    "name": "ipython",
    "version": 3
   },
   "file_extension": ".py",
   "mimetype": "text/x-python",
   "name": "python",
   "nbconvert_exporter": "python",
   "pygments_lexer": "ipython3",
   "version": "3.11.3"
  }
 },
 "nbformat": 4,
 "nbformat_minor": 5
}
