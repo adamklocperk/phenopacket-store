{
 "cells": [
  {
   "cell_type": "markdown",
   "id": "834725fa",
   "metadata": {},
   "source": [
    "<h1>GLI3: Demurger et al 2015</h1>\n",
    "<p>Extract the clinical data from <a href=\"https://pubmed.ncbi.nlm.nih.gov/24736735/\"target=\"__blank\">Démurger F, et al. (2015) New insights into genotype-phenotype correlation for GLI3 mutations. Eur J Hum Genet ;23(1):92-102. PMID:24736735</a>.<p>\n",
    "<p>Table 1 (and Supplemental Table 1) present data for Greig cephalopolysyndactyly syndrome (GCPS; MIM# 175700).</p>\n",
    "<p>Table 2 (and Supplemental Table 2) present data for Pallister–Hall syndrome (PHS; MIM# 146510).</p>"
   ]
  },
  {
   "cell_type": "code",
   "execution_count": 1,
   "id": "da99853a",
   "metadata": {},
   "outputs": [
    {
     "name": "stdout",
     "output_type": "stream",
     "text": [
      "Using pyphetools version 0.8.25\n"
     ]
    }
   ],
   "source": [
    "import phenopackets as php\n",
    "from google.protobuf.json_format import MessageToDict, MessageToJson\n",
    "from google.protobuf.json_format import Parse, ParseDict\n",
    "import pandas as pd\n",
    "pd.set_option('display.max_colwidth', None) # show entire column contents, important!\n",
    "from IPython.display import display, HTML\n",
    "from pyphetools.creation import *\n",
    "from pyphetools.visualization import *\n",
    "from pyphetools.validation import *\n",
    "import pyphetools\n",
    "print(f\"Using pyphetools version {pyphetools.__version__}\")"
   ]
  },
  {
   "cell_type": "code",
   "execution_count": 2,
   "id": "10151cd3",
   "metadata": {},
   "outputs": [
    {
     "name": "stdout",
     "output_type": "stream",
     "text": [
      "HPO version 2023-10-09\n"
     ]
    }
   ],
   "source": [
    "PMID = \"PMID:24736735\"\n",
    "title = \"New insights into genotype-phenotype correlation for GLI3 mutations\"\n",
    "parser = HpoParser()\n",
    "hpo_cr = parser.get_hpo_concept_recognizer()\n",
    "hpo_version = parser.get_version()\n",
    "hpo_ontology = parser.get_ontology()\n",
    "metadata = MetaData(created_by=\"ORCID:0000-0002-0736-9199\", pmid=PMID, pubmed_title=title)\n",
    "metadata.default_versions_with_hpo(version=hpo_version)\n",
    "print(f\"HPO version {hpo_version}\")"
   ]
  },
  {
   "cell_type": "markdown",
   "id": "e4f26334-a0ff-4733-bb11-670db6a39f8a",
   "metadata": {},
   "source": [
    "<H2>Greig cephalopolysyndactyly syndrome (GCPS; MIM# 175700)</H2>\n",
    "<p>c.1543_1544dup) was found in two affected sibs, was present at low level in DNA extracted from blood of their father (Family G068), suggesting a somatic mosaicism. We therefore remove the row corresponding to the father from further analysis.</p>\n",
    "<p>Along the same line, a FISH analysis revealed a GLI3 deletion in only 56% of blood cells of a patient (G059) with bilateral preaxial PD of the feet and developmental delay. At least two patients (G005 and G019) had Greig cephalopolysyndactyly contiguous gene syndrome (GCPS-CGS) caused by haploinsufficiency of GLI3 and adjacent genes confirmed by array-CGH with a deletion of 7 and 9 Mb, respectively.</p>\n",
    "<p>These individuals were also removed from the analysis because of the multifactorial pathophysiology.</p>\n",
    "<p>We removed the corresponding rows from the following table.</p>"
   ]
  },
  {
   "cell_type": "code",
   "execution_count": 3,
   "id": "3aba8016",
   "metadata": {},
   "outputs": [
    {
     "data": {
      "text/html": [
       "<div>\n",
       "<style scoped>\n",
       "    .dataframe tbody tr th:only-of-type {\n",
       "        vertical-align: middle;\n",
       "    }\n",
       "\n",
       "    .dataframe tbody tr th {\n",
       "        vertical-align: top;\n",
       "    }\n",
       "\n",
       "    .dataframe thead th {\n",
       "        text-align: right;\n",
       "    }\n",
       "</style>\n",
       "<table border=\"1\" class=\"dataframe\">\n",
       "  <thead>\n",
       "    <tr style=\"text-align: right;\">\n",
       "      <th></th>\n",
       "      <th>N</th>\n",
       "      <th>cDNA alteration</th>\n",
       "      <th>Predicted protein alteration</th>\n",
       "      <th>Inheritance</th>\n",
       "      <th>Postaxial PD</th>\n",
       "      <th>Preaxial PD</th>\n",
       "      <th>Broad thumbs or halluces</th>\n",
       "      <th>Syndactyly</th>\n",
       "      <th>Macrocephaly</th>\n",
       "      <th>Widely spaced eyes</th>\n",
       "      <th>MRI Findings</th>\n",
       "      <th>Developmental delay</th>\n",
       "      <th>Additional findings</th>\n",
       "    </tr>\n",
       "  </thead>\n",
       "  <tbody>\n",
       "    <tr>\n",
       "      <th>0</th>\n",
       "      <td>G029</td>\n",
       "      <td>327del</td>\n",
       "      <td>Phe109Leufs*50</td>\n",
       "      <td>F</td>\n",
       "      <td>–</td>\n",
       "      <td>FB</td>\n",
       "      <td></td>\n",
       "      <td>+</td>\n",
       "      <td>–</td>\n",
       "      <td>–</td>\n",
       "      <td>–</td>\n",
       "      <td>–</td>\n",
       "      <td>Precocious puberty, scaphocephaly</td>\n",
       "    </tr>\n",
       "    <tr>\n",
       "      <th>1</th>\n",
       "      <td>G070</td>\n",
       "      <td>427G&gt;T</td>\n",
       "      <td>Glu143*</td>\n",
       "      <td>F</td>\n",
       "      <td>HB</td>\n",
       "      <td>FL</td>\n",
       "      <td></td>\n",
       "      <td>–</td>\n",
       "      <td>+</td>\n",
       "      <td></td>\n",
       "      <td></td>\n",
       "      <td>–</td>\n",
       "      <td></td>\n",
       "    </tr>\n",
       "    <tr>\n",
       "      <th>2</th>\n",
       "      <td>G070_Mother</td>\n",
       "      <td>427G&gt;T</td>\n",
       "      <td>Glu143*</td>\n",
       "      <td>F</td>\n",
       "      <td>–</td>\n",
       "      <td>–</td>\n",
       "      <td></td>\n",
       "      <td>–</td>\n",
       "      <td>–</td>\n",
       "      <td>–</td>\n",
       "      <td></td>\n",
       "      <td>–</td>\n",
       "      <td></td>\n",
       "    </tr>\n",
       "    <tr>\n",
       "      <th>3</th>\n",
       "      <td>G118</td>\n",
       "      <td>444C&gt;A</td>\n",
       "      <td>Tyr148*</td>\n",
       "      <td>F</td>\n",
       "      <td>–</td>\n",
       "      <td>FB</td>\n",
       "      <td>BT</td>\n",
       "      <td>+</td>\n",
       "      <td>+</td>\n",
       "      <td></td>\n",
       "      <td></td>\n",
       "      <td>–</td>\n",
       "      <td></td>\n",
       "    </tr>\n",
       "    <tr>\n",
       "      <th>4</th>\n",
       "      <td>G13684</td>\n",
       "      <td>444C&gt;A</td>\n",
       "      <td>Tyr148*</td>\n",
       "      <td>F</td>\n",
       "      <td>–</td>\n",
       "      <td>FB</td>\n",
       "      <td></td>\n",
       "      <td>+</td>\n",
       "      <td>+</td>\n",
       "      <td>+</td>\n",
       "      <td></td>\n",
       "      <td>–</td>\n",
       "      <td></td>\n",
       "    </tr>\n",
       "  </tbody>\n",
       "</table>\n",
       "</div>"
      ],
      "text/plain": [
       "             N cDNA alteration Predicted protein alteration Inheritance  \\\n",
       "0        G029           327del               Phe109Leufs*50           F   \n",
       "1        G070           427G>T                      Glu143*           F   \n",
       "2  G070_Mother          427G>T                      Glu143*           F   \n",
       "3        G118           444C>A                      Tyr148*           F   \n",
       "4      G13684           444C>A                      Tyr148*           F   \n",
       "\n",
       "  Postaxial PD Preaxial PD Broad thumbs or halluces Syndactyly Macrocephaly  \\\n",
       "0            –          FB                                   +            –   \n",
       "1           HB          FL                                   –            +   \n",
       "2            –           –                                   –            –   \n",
       "3            –          FB                       BT          +            +   \n",
       "4            –          FB                                   +            +   \n",
       "\n",
       "  Widely spaced eyes MRI Findings Developmental delay  \\\n",
       "0                  –            –                   –   \n",
       "1                                                   –   \n",
       "2                  –                                –   \n",
       "3                                                   –   \n",
       "4                  +                                –   \n",
       "\n",
       "                 Additional findings  \n",
       "0  Precocious puberty, scaphocephaly  \n",
       "1                                     \n",
       "2                                     \n",
       "3                                     \n",
       "4                                     "
      ]
     },
     "execution_count": 3,
     "metadata": {},
     "output_type": "execute_result"
    }
   ],
   "source": [
    "df1 = pd.read_csv(\"input/demurger_table_1.csv\", delimiter=\"\\t\")\n",
    "df1.head()"
   ]
  },
  {
   "cell_type": "code",
   "execution_count": 4,
   "id": "c6771fb1",
   "metadata": {},
   "outputs": [],
   "source": [
    "column_mapper_d = {}"
   ]
  },
  {
   "cell_type": "code",
   "execution_count": 5,
   "id": "b9879922",
   "metadata": {},
   "outputs": [],
   "source": [
    "postaxial_d = {'HB': 'Postaxial hand polydactyly',\n",
    "              'FB': 'Postaxial foot polydactyly',}\n",
    "excluded_d = {\"–\":'Postaxial polydactyly'}\n",
    "postaxialMapper = OptionColumnMapper(concept_recognizer=hpo_cr, option_d=postaxial_d, excluded_d=excluded_d)\n",
    "postaxialMapper.preview_column(df1[\"Postaxial PD\"])\n",
    "column_mapper_d[\"Postaxial PD\"] = postaxialMapper"
   ]
  },
  {
   "cell_type": "code",
   "execution_count": 6,
   "id": "668aa32c",
   "metadata": {},
   "outputs": [],
   "source": [
    "preaxial_d = {'HB': 'Preaxial hand polydactyly',\n",
    "              'FB': 'Preaxial foot polydactyly',\n",
    "              'FL': 'Preaxial foot polydactyly',}\n",
    "excluded_d = {\"–\":'Preaxial polydactyly'}\n",
    "preaxialMapper = OptionColumnMapper(concept_recognizer=hpo_cr, option_d=preaxial_d, excluded_d=excluded_d)\n",
    "preaxialMapper.preview_column(df1[\"Preaxial PD\"])\n",
    "column_mapper_d[\"Preaxial PD\"] = preaxialMapper"
   ]
  },
  {
   "cell_type": "code",
   "execution_count": 7,
   "id": "88c8fe0a",
   "metadata": {},
   "outputs": [],
   "source": [
    "thumb_d = {\"BT\": \"Broad thumb\", \n",
    "          \"BH\": \"Broad hallux\",\n",
    "          \"+\": [ \"Broad thumb\", \"Broad hallux\"]}\n",
    "excluded = {\"–\": \"Broad thumb\"}\n",
    "thumbMapper = OptionColumnMapper(concept_recognizer=hpo_cr, option_d=thumb_d,excluded_d=excluded_d)\n",
    "thumbMapper.preview_column(df1[\"Broad thumbs or halluces\"])\n",
    "column_mapper_d[\"Broad thumbs or halluces\"] = thumbMapper"
   ]
  },
  {
   "cell_type": "code",
   "execution_count": 8,
   "id": "2c581365",
   "metadata": {},
   "outputs": [],
   "source": [
    "syndMapper = SimpleColumnMapper(hpo_id=\"HP:0001159\", hpo_label=\"Syndactyly\", observed=\"+\", excluded=\"–\")\n",
    "syndMapper.preview_column(df1[\"Syndactyly\"])\n",
    "column_mapper_d[\"Syndactyly\"] = syndMapper"
   ]
  },
  {
   "cell_type": "code",
   "execution_count": 9,
   "id": "02d64bd8",
   "metadata": {},
   "outputs": [],
   "source": [
    "macMapper = SimpleColumnMapper(hpo_id=\"HP:0000256\", hpo_label=\"Macrocephaly\", observed=\"+\", excluded=\"–\")\n",
    "macMapper.preview_column(df1[\"Macrocephaly\"])\n",
    "column_mapper_d[\"Macrocephaly\"] = macMapper"
   ]
  },
  {
   "cell_type": "code",
   "execution_count": 10,
   "id": "35321910",
   "metadata": {},
   "outputs": [],
   "source": [
    "#Widely spaced eyes  Hypertelorism HP:0000316\n",
    "htMapper = SimpleColumnMapper(hpo_id=\"HP:0000316\", hpo_label=\"Hypertelorism\", observed=\"+\", excluded=\"–\")\n",
    "htMapper.preview_column(df1[\"Widely spaced eyes\"])\n",
    "column_mapper_d[\"Widely spaced eyes\"] = htMapper"
   ]
  },
  {
   "cell_type": "code",
   "execution_count": 11,
   "id": "458b06e1",
   "metadata": {},
   "outputs": [],
   "source": [
    "# MRI Findings\n",
    "mri_d = {'CCH': 'Hypoplasia of the corpus callosum',\n",
    "         'CCA': 'Agenesis of corpus callosum',\n",
    "         'pCCA': 'Partial agenesis of the corpus callosum',\n",
    "         'VD': 'Ventriculomegaly'}\n",
    "mriMapper = OptionColumnMapper(concept_recognizer=hpo_cr, option_d=mri_d)\n",
    "mriMapper.preview_column(df1[\"MRI Findings\"])\n",
    "column_mapper_d[\"MRI Findings\"] = mriMapper"
   ]
  },
  {
   "cell_type": "code",
   "execution_count": 12,
   "id": "5f9bf14e",
   "metadata": {},
   "outputs": [],
   "source": [
    "dd_d = {'+': 'Global developmental delay',\n",
    "         'Mild': 'Mild global developmental delay',\n",
    "         'Bilateral inguinal hernia': 'Inguinal hernia',\n",
    "         'strabismus': 'Strabismus',\n",
    "       \"Cataract\": \"Cataract\",\n",
    "       \"Seizures\":\"Seizure\",\n",
    "       \"horseshoe kidney\": \"Horseshoe kidney\",\n",
    "       \"Trigonocephaly\": \"Trigonocephaly\",\n",
    "       \"macrosomia\": \"Macrosomia\",\n",
    "       \"vermis dysgenesis\": \"Dysgenesis of the cerebellar vermis\"}\n",
    "excluded_d = {\"–\": \"Global developmental delay\"}\n",
    "ddMapper = OptionColumnMapper(concept_recognizer=hpo_cr, option_d=dd_d, excluded_d=excluded_d)\n",
    "ddMapper.preview_column(df1[\"Developmental delay\"])\n",
    "column_mapper_d[\"Developmental delay\"] = ddMapper"
   ]
  },
  {
   "cell_type": "code",
   "execution_count": 13,
   "id": "249b2860",
   "metadata": {},
   "outputs": [
    {
     "data": {
      "text/plain": [
       "array(['Precocious puberty, scaphocephaly', '\\xa0', 'Delta phalanx',\n",
       "       'Atrial septal defect', 'Umbilical hernia',\n",
       "       'Bifid distal phalanx, BW= 4150', 'Cerebral prematurity sequelae',\n",
       "       'Delta metacarpal, BW=4880', 'BW=4740',\n",
       "       'Hypoplastic cerebellum, microretrognathism',\n",
       "       'Bilateral keratoconus, umbilical and bilateral inguinal hernia',\n",
       "       'Macrosomia', 'Neurofibromatosis type 1',\n",
       "       'Brachydactyly, delta phalanx', 'Brachydactyly, speech delay',\n",
       "       'Speech delay, exomphalos', 'Umbilical hernia, anterior anus',\n",
       "       'Laryngomalacia', 'BW=4440', 'Supernumerary nipples'], dtype=object)"
      ]
     },
     "execution_count": 13,
     "metadata": {},
     "output_type": "execute_result"
    }
   ],
   "source": [
    "df1[\"Additional findings\"].unique()"
   ]
  },
  {
   "cell_type": "code",
   "execution_count": 14,
   "id": "4515ca18",
   "metadata": {},
   "outputs": [],
   "source": [
    "add_d = {'Precocious puberty': 'Precocious puberty',\n",
    "         'scaphocephaly': 'Scaphocephaly',\n",
    "         'Delta phalanx': 'Triangular shaped phalanges of the hand',\n",
    "         'Bifid distal phalanx': 'Partial duplication of the distal phalanges of the hand',\n",
    "       \"Hypoplastic cerebellum\": \"Cerebellar hypoplasia\",\n",
    "       \"microretrognathism\":\"Microretrognathia\",\n",
    "       \"keratoconus\": \"Keratoconus\",\n",
    "       \"umbilical\": \"Umbilical hernia\",\n",
    "         \"Umbilical hernia\": \"Umbilical hernia\",\n",
    "       \"inguinal hernia\": \"Inguinal hernia\",\n",
    "       \"Macrosomia\": \"Large for gestational age\",\n",
    "        \"Brachydactyly\":\"Brachydactyly\",\n",
    "         \"anterior anus\": \"Anteriorly placed anus\",\n",
    "         \"Laryngomalacia\":\"Laryngomalacia\",\n",
    "         \"Supernumerary nipples\": \"Supernumerary nipple\"\n",
    "        }\n",
    "addMapper = OptionColumnMapper(concept_recognizer=hpo_cr, option_d=add_d)\n",
    "addMapper.preview_column(df1[\"Additional findings\"])\n",
    "column_mapper_d[\"Additional findings\"] = addMapper"
   ]
  },
  {
   "cell_type": "markdown",
   "id": "b7b178fa",
   "metadata": {},
   "source": [
    "<h2>GLI3 Variants</h2>\n",
    "<p>Variants are provided in table 1 according to NM_000168.6.</p>\n",
    "<p>Note that the contents of the column \"cDNA alteration\" do not have the \"c.\" required by HGVS, so we add it to all columns before proceding.</p>"
   ]
  },
  {
   "cell_type": "code",
   "execution_count": 15,
   "id": "94d9199c-3304-4bcf-9e91-04d674ccadfb",
   "metadata": {},
   "outputs": [],
   "source": [
    "gli3_transcript='NM_000168.6'\n",
    "genome = 'hg38'\n",
    "hgvsMapper = VariantValidator(genome_build=genome, transcript=gli3_transcript)"
   ]
  },
  {
   "cell_type": "markdown",
   "id": "b4741b70-43cc-4dc4-b7b4-bbd877b6c904",
   "metadata": {},
   "source": [
    "<h3>Small and Structural variants</h3>\n",
    "<p>We encode the small variants using HGVS and trhe structural variants using the StructuralVariant class</p>"
   ]
  },
  {
   "cell_type": "code",
   "execution_count": 16,
   "id": "2e1a85a3-7809-46ac-8332-3e7e9ea95af0",
   "metadata": {},
   "outputs": [
    {
     "name": "stdout",
     "output_type": "stream",
     "text": [
      "https://rest.variantvalidator.org/VariantValidator/variantvalidator/hg38/NM_000168.6%3A327del/NM_000168.6?content-type=application%2Fjson\n",
      "https://rest.variantvalidator.org/VariantValidator/variantvalidator/hg38/NM_000168.6%3A427G>T/NM_000168.6?content-type=application%2Fjson\n",
      "https://rest.variantvalidator.org/VariantValidator/variantvalidator/hg38/NM_000168.6%3A444C>A/NM_000168.6?content-type=application%2Fjson\n",
      "https://rest.variantvalidator.org/VariantValidator/variantvalidator/hg38/NM_000168.6%3A518dup/NM_000168.6?content-type=application%2Fjson\n",
      "https://rest.variantvalidator.org/VariantValidator/variantvalidator/hg38/NM_000168.6%3A679+1G>T/NM_000168.6?content-type=application%2Fjson\n",
      "https://rest.variantvalidator.org/VariantValidator/variantvalidator/hg38/NM_000168.6%3A833_843del/NM_000168.6?content-type=application%2Fjson\n",
      "https://rest.variantvalidator.org/VariantValidator/variantvalidator/hg38/NM_000168.6%3A868C>T/NM_000168.6?content-type=application%2Fjson\n",
      "https://rest.variantvalidator.org/VariantValidator/variantvalidator/hg38/NM_000168.6%3A997_998dup/NM_000168.6?content-type=application%2Fjson\n",
      "https://rest.variantvalidator.org/VariantValidator/variantvalidator/hg38/NM_000168.6%3A1063_1067dup/NM_000168.6?content-type=application%2Fjson\n",
      "https://rest.variantvalidator.org/VariantValidator/variantvalidator/hg38/NM_000168.6%3A1378del/NM_000168.6?content-type=application%2Fjson\n",
      "https://rest.variantvalidator.org/VariantValidator/variantvalidator/hg38/NM_000168.6%3A1498C>T/NM_000168.6?content-type=application%2Fjson\n",
      "https://rest.variantvalidator.org/VariantValidator/variantvalidator/hg38/NM_000168.6%3A1543_1544dup/NM_000168.6?content-type=application%2Fjson\n",
      "https://rest.variantvalidator.org/VariantValidator/variantvalidator/hg38/NM_000168.6%3A1733G>C/NM_000168.6?content-type=application%2Fjson\n",
      "https://rest.variantvalidator.org/VariantValidator/variantvalidator/hg38/NM_000168.6%3A1745del/NM_000168.6?content-type=application%2Fjson\n",
      "https://rest.variantvalidator.org/VariantValidator/variantvalidator/hg38/NM_000168.6%3A1767del/NM_000168.6?content-type=application%2Fjson\n",
      "https://rest.variantvalidator.org/VariantValidator/variantvalidator/hg38/NM_000168.6%3A1786C>T/NM_000168.6?content-type=application%2Fjson\n",
      "https://rest.variantvalidator.org/VariantValidator/variantvalidator/hg38/NM_000168.6%3A1787A>C/NM_000168.6?content-type=application%2Fjson\n",
      "https://rest.variantvalidator.org/VariantValidator/variantvalidator/hg38/NM_000168.6%3A1874G>A/NM_000168.6?content-type=application%2Fjson\n",
      "https://rest.variantvalidator.org/VariantValidator/variantvalidator/hg38/NM_000168.6%3A2082_2083delinsAGAGAAGCC/NM_000168.6?content-type=application%2Fjson\n",
      "https://rest.variantvalidator.org/VariantValidator/variantvalidator/hg38/NM_000168.6%3A3427_3443del/NM_000168.6?content-type=application%2Fjson\n",
      "https://rest.variantvalidator.org/VariantValidator/variantvalidator/hg38/NM_000168.6%3A3559C>T/NM_000168.6?content-type=application%2Fjson\n",
      "https://rest.variantvalidator.org/VariantValidator/variantvalidator/hg38/NM_000168.6%3A3950del/NM_000168.6?content-type=application%2Fjson\n",
      "https://rest.variantvalidator.org/VariantValidator/variantvalidator/hg38/NM_000168.6%3A4099dup/NM_000168.6?content-type=application%2Fjson\n",
      "https://rest.variantvalidator.org/VariantValidator/variantvalidator/hg38/NM_000168.6%3A4324C>T/NM_000168.6?content-type=application%2Fjson\n",
      "https://rest.variantvalidator.org/VariantValidator/variantvalidator/hg38/NM_000168.6%3A4408C>T/NM_000168.6?content-type=application%2Fjson\n",
      "https://rest.variantvalidator.org/VariantValidator/variantvalidator/hg38/NM_000168.6%3A4431dup/NM_000168.6?content-type=application%2Fjson\n",
      "https://rest.variantvalidator.org/VariantValidator/variantvalidator/hg38/NM_000168.6%3A4456C>T/NM_000168.6?content-type=application%2Fjson\n",
      "https://rest.variantvalidator.org/VariantValidator/variantvalidator/hg38/NM_000168.6%3A4463del/NM_000168.6?content-type=application%2Fjson\n",
      "https://rest.variantvalidator.org/VariantValidator/variantvalidator/hg38/NM_000168.6%3A4615_4624del/NM_000168.6?content-type=application%2Fjson\n",
      "rsa7p14.1(kit P179)x1\n",
      "46,XY.ish del(7)(p14.1)(RP11-816F16-)\n",
      "46,XX.ish del(7)(p14.1p14.1)(GLI3-)\n"
     ]
    }
   ],
   "source": [
    "struct_variants = { \"rsa7p14.1(kit P179)x1\",\n",
    "                    \"46,XY.ish del(7)(p14.1)(RP11-816F16-)\",\n",
    "                    \"46,XX.ish del(7)(p14.1p14.1)(GLI3-)\" }\n",
    "gli3_symbol = \"GLI3\"\n",
    "gli3_id = \"HGNC:4319\"\n",
    "gli3_variants = df1['cDNA alteration'].unique()\n",
    "gli3_variant_d = {}\n",
    "for gli3v in gli3_variants:\n",
    "    if gli3v in struct_variants:\n",
    "        sv = StructuralVariant.chromosomal_deletion(cell_contents=gli3v, gene_id=gli3_id, gene_symbol=gli3_symbol)\n",
    "        print(gli3v)\n",
    "        gli3_variant_d[gli3v] = sv\n",
    "    else:\n",
    "        hgvs = f\"c.{gli3v}\"\n",
    "        v = hgvsMapper.encode_hgvs(gli3v)\n",
    "        gli3_variant_d[gli3v] = v"
   ]
  },
  {
   "cell_type": "code",
   "execution_count": 17,
   "id": "e9c43d7b-7a54-48d1-bccb-a64ecbff7ecd",
   "metadata": {},
   "outputs": [],
   "source": [
    "variantMapper = VariantColumnMapper(variant_d=gli3_variant_d,\n",
    "                                    variant_column_name=\"cDNA alteration\",\n",
    "                                    default_genotype='heterozygous')"
   ]
  },
  {
   "cell_type": "code",
   "execution_count": 18,
   "id": "7e75984f",
   "metadata": {},
   "outputs": [],
   "source": [
    "encoder = CohortEncoder(df=df1, \n",
    "                        hpo_cr=hpo_cr, \n",
    "                        column_mapper_d=column_mapper_d, \n",
    "                        individual_column_name=\"N\", \n",
    "                        metadata=metadata,\n",
    "                        agemapper=AgeColumnMapper.not_provided(), \n",
    "                        sexmapper=SexColumnMapper.not_provided(),\n",
    "                        variant_mapper=variantMapper,\n",
    "                        pmid=PMID)\n",
    "omim_id = \"OMIM:175700\"\n",
    "omim_label = \"Greig cephalopolysyndactyly syndrome\"\n",
    "gcps = Disease(disease_id=omim_id, disease_label=omim_label)\n",
    "\n",
    "encoder.set_disease(disease=gcps)"
   ]
  },
  {
   "cell_type": "code",
   "execution_count": 19,
   "id": "fefab7f1-3f8b-4f70-8d3f-045bd5fcfa23",
   "metadata": {},
   "outputs": [
    {
     "data": {
      "text/html": [
       "<h2>Cohort validation</h2>\n",
       "<p>Errors found with 2 of 51 phenopackets.</p>\n",
       "<table style=\"border: 2px solid black; align: \"left\">\n",
       "<caption>Error analysis</caption>\n",
       "<tr><th style=\"text-align: left;font-weight: bold;\">ID</th><th style=\"text-align: left;font-weight: bold;\">Level</th><th style=\"text-align: left;font-weight: bold;\">Category</th><th style=\"text-align: left;font-weight: bold;\">Message</th><th style=\"text-align: left;font-weight: bold;\">HPO Term</th></tr>\n",
       "<tr><td style=\"text-align: left;\">PMID_24736735_G028_</td><td style=\"text-align: left;\">INFORMATION</td><td style=\"text-align: left;\">NOT_MEASURED</td><td style=\"text-align: left;\">Hypertelorism (HP:0000316) was listed as not measured and will be omitted</td><td style=\"text-align: left;\">not measured: Hypertelorism (HP:0000316)</td></tr>\n",
       "<tr><td style=\"text-align: left;\">PMID_24736735_G038_</td><td style=\"text-align: left;\">INFORMATION</td><td style=\"text-align: left;\">NOT_MEASURED</td><td style=\"text-align: left;\">Hypertelorism (HP:0000316) was listed as not measured and will be omitted</td><td style=\"text-align: left;\">not measured: Hypertelorism (HP:0000316)</td></tr>\n",
       "</table>"
      ],
      "text/plain": [
       "<IPython.core.display.HTML object>"
      ]
     },
     "metadata": {},
     "output_type": "display_data"
    }
   ],
   "source": [
    "gcps_individuals = encoder.get_individuals()\n",
    "cvalidator = CohortValidator(cohort=gcps_individuals, ontology=hpo_ontology, min_hpo=1, allelic_requirement=AllelicRequirement.MONO_ALLELIC)\n",
    "qc = QcVisualizer(ontology=hpo_ontology, cohort_validator=cvalidator)\n",
    "display(HTML(qc.to_html()))"
   ]
  },
  {
   "cell_type": "code",
   "execution_count": 20,
   "id": "f4557911-f046-4653-a377-0627d0d2798a",
   "metadata": {},
   "outputs": [
    {
     "data": {
      "text/html": [
       "<table style=\"border: 2px solid black; align: \"left\">\n",
       "<caption>51 phenopackets - PMID:24736735 (n=51)</caption>\n",
       "<tr><th style=\"text-align: left;font-weight: bold;\">Individual</th><th style=\"text-align: left;font-weight: bold;\">Disease</th><th style=\"text-align: left;font-weight: bold;\">Genotype</th><th style=\"text-align: left;font-weight: bold;\">Phenotypic features</th></tr>\n",
       "<tr><td style=\"text-align: left;\">G029  (UNKNOWN; )</td><td style=\"text-align: left;\">Greig cephalopolysyndactyly syndrome (OMIM:175700)</td><td style=\"text-align: left;\">NM_000168.6:c.327del (heterozygous)</td><td style=\"text-align: left;\">Preaxial foot polydactyly (HP:0001841); Syndactyly (HP:0001159); Precocious puberty (HP:0000826); Scaphocephaly (HP:0030799); excluded: Postaxial polydactyly (HP:0100259); excluded: Macrocephaly (HP:0000256); excluded: Hypertelorism (HP:0000316); excluded: Global developmental delay (HP:0001263)</td></tr>\n",
       "<tr><td style=\"text-align: left;\">G070  (UNKNOWN; )</td><td style=\"text-align: left;\">Greig cephalopolysyndactyly syndrome (OMIM:175700)</td><td style=\"text-align: left;\">NM_000168.6:c.427G>T (heterozygous)</td><td style=\"text-align: left;\">Postaxial hand polydactyly (HP:0001162); Preaxial foot polydactyly (HP:0001841); Macrocephaly (HP:0000256); Hypertelorism (HP:0000316); excluded: Syndactyly (HP:0001159); excluded: Global developmental delay (HP:0001263)</td></tr>\n",
       "<tr><td style=\"text-align: left;\">G070_Mother (UNKNOWN; )</td><td style=\"text-align: left;\">Greig cephalopolysyndactyly syndrome (OMIM:175700)</td><td style=\"text-align: left;\">NM_000168.6:c.427G>T (heterozygous)</td><td style=\"text-align: left;\">excluded: Postaxial polydactyly (HP:0100259); excluded: Preaxial polydactyly (HP:0100258); excluded: Syndactyly (HP:0001159); excluded: Macrocephaly (HP:0000256); excluded: Hypertelorism (HP:0000316); excluded: Global developmental delay (HP:0001263)</td></tr>\n",
       "<tr><td style=\"text-align: left;\">G118  (UNKNOWN; )</td><td style=\"text-align: left;\">Greig cephalopolysyndactyly syndrome (OMIM:175700)</td><td style=\"text-align: left;\">NM_000168.6:c.444C>A (heterozygous)</td><td style=\"text-align: left;\">Preaxial foot polydactyly (HP:0001841); Broad thumb (HP:0011304); Syndactyly (HP:0001159); Macrocephaly (HP:0000256); Hypertelorism (HP:0000316); excluded: Postaxial polydactyly (HP:0100259); excluded: Global developmental delay (HP:0001263)</td></tr>\n",
       "<tr><td style=\"text-align: left;\">G13684  (UNKNOWN; )</td><td style=\"text-align: left;\">Greig cephalopolysyndactyly syndrome (OMIM:175700)</td><td style=\"text-align: left;\">NM_000168.6:c.444C>A (heterozygous)</td><td style=\"text-align: left;\">Preaxial foot polydactyly (HP:0001841); Syndactyly (HP:0001159); Macrocephaly (HP:0000256); Hypertelorism (HP:0000316); excluded: Postaxial polydactyly (HP:0100259); excluded: Global developmental delay (HP:0001263)</td></tr>\n",
       "<tr><td style=\"text-align: left;\">G13684_Brother (UNKNOWN; )</td><td style=\"text-align: left;\">Greig cephalopolysyndactyly syndrome (OMIM:175700)</td><td style=\"text-align: left;\">NM_000168.6:c.444C>A (heterozygous)</td><td style=\"text-align: left;\">Preaxial foot polydactyly (HP:0001841); Syndactyly (HP:0001159); Hypertelorism (HP:0000316); excluded: Postaxial polydactyly (HP:0100259); excluded: Macrocephaly (HP:0000256); excluded: Global developmental delay (HP:0001263)</td></tr>\n",
       "<tr><td style=\"text-align: left;\">G13684_Mother (UNKNOWN; )</td><td style=\"text-align: left;\">Greig cephalopolysyndactyly syndrome (OMIM:175700)</td><td style=\"text-align: left;\">NM_000168.6:c.444C>A (heterozygous)</td><td style=\"text-align: left;\">Preaxial foot polydactyly (HP:0001841); Syndactyly (HP:0001159); Macrocephaly (HP:0000256); Hypertelorism (HP:0000316); excluded: Postaxial polydactyly (HP:0100259); excluded: Global developmental delay (HP:0001263)</td></tr>\n",
       "<tr><td style=\"text-align: left;\">G099  (UNKNOWN; )</td><td style=\"text-align: left;\">Greig cephalopolysyndactyly syndrome (OMIM:175700)</td><td style=\"text-align: left;\">NM_000168.6:c.518dup (heterozygous)</td><td style=\"text-align: left;\">Preaxial foot polydactyly (HP:0001841); Syndactyly (HP:0001159); Macrocephaly (HP:0000256); excluded: Postaxial polydactyly (HP:0100259); excluded: Hypertelorism (HP:0000316); excluded: Global developmental delay (HP:0001263)</td></tr>\n",
       "<tr><td style=\"text-align: left;\">G048  (UNKNOWN; )</td><td style=\"text-align: left;\">Greig cephalopolysyndactyly syndrome (OMIM:175700)</td><td style=\"text-align: left;\">NM_000168.6:c.679+1G>T (heterozygous)</td><td style=\"text-align: left;\">Postaxial hand polydactyly (HP:0001162); Preaxial foot polydactyly (HP:0001841); Preaxial hand polydactyly (HP:0001177); Syndactyly (HP:0001159); Macrocephaly (HP:0000256); Hypertelorism (HP:0000316); Ventriculomegaly (HP:0002119); Triangular shaped phalanges of the hand (HP:0009774)</td></tr>\n",
       "<tr><td style=\"text-align: left;\">G15198  (UNKNOWN; )</td><td style=\"text-align: left;\">Greig cephalopolysyndactyly syndrome (OMIM:175700)</td><td style=\"text-align: left;\">NM_000168.6:c.833_843del (heterozygous)</td><td style=\"text-align: left;\">Postaxial hand polydactyly (HP:0001162); Postaxial foot polydactyly (HP:0001830); Preaxial foot polydactyly (HP:0001841); Preaxial hand polydactyly (HP:0001177); Broad thumb (HP:0011304); Syndactyly (HP:0001159); Macrocephaly (HP:0000256); Hypertelorism (HP:0000316); excluded: Global developmental delay (HP:0001263)</td></tr>\n",
       "<tr><td style=\"text-align: left;\">G079  (UNKNOWN; )</td><td style=\"text-align: left;\">Greig cephalopolysyndactyly syndrome (OMIM:175700)</td><td style=\"text-align: left;\">NM_000168.6:c.868C>T (heterozygous)</td><td style=\"text-align: left;\">Postaxial hand polydactyly (HP:0001162); Preaxial foot polydactyly (HP:0001841); Syndactyly (HP:0001159); Macrocephaly (HP:0000256); Hypertelorism (HP:0000316); Atrial septal defect (HP:0001631); excluded: Global developmental delay (HP:0001263)</td></tr>\n",
       "<tr><td style=\"text-align: left;\">G088  (UNKNOWN; )</td><td style=\"text-align: left;\">Greig cephalopolysyndactyly syndrome (OMIM:175700)</td><td style=\"text-align: left;\">NM_000168.6:c.997_998dup (heterozygous)</td><td style=\"text-align: left;\">Preaxial foot polydactyly (HP:0001841); Broad thumb (HP:0011304); Syndactyly (HP:0001159); Macrocephaly (HP:0000256); Hypertelorism (HP:0000316); Umbilical hernia (HP:0001537); excluded: Postaxial polydactyly (HP:0100259); excluded: Global developmental delay (HP:0001263)</td></tr>\n",
       "<tr><td style=\"text-align: left;\">G14083  (UNKNOWN; )</td><td style=\"text-align: left;\">Greig cephalopolysyndactyly syndrome (OMIM:175700)</td><td style=\"text-align: left;\">NM_000168.6:c.1063_1067dup (heterozygous)</td><td style=\"text-align: left;\">Preaxial foot polydactyly (HP:0001841); Preaxial hand polydactyly (HP:0001177); Broad thumb (HP:0011304); Syndactyly (HP:0001159); Partial duplication of the distal phalanges of the hand (HP:0010004); excluded: Postaxial polydactyly (HP:0100259); excluded: Macrocephaly (HP:0000256); excluded: Hypertelorism (HP:0000316)</td></tr>\n",
       "<tr><td style=\"text-align: left;\">G033  (UNKNOWN; )</td><td style=\"text-align: left;\">Greig cephalopolysyndactyly syndrome (OMIM:175700)</td><td style=\"text-align: left;\">NM_000168.6:c.1378del (heterozygous)</td><td style=\"text-align: left;\">Preaxial foot polydactyly (HP:0001841); Broad thumb (HP:0011304); Syndactyly (HP:0001159); Macrocephaly (HP:0000256); Hypertelorism (HP:0000316); excluded: Postaxial polydactyly (HP:0100259); excluded: Global developmental delay (HP:0001263)</td></tr>\n",
       "<tr><td style=\"text-align: left;\">G076  (UNKNOWN; )</td><td style=\"text-align: left;\">Greig cephalopolysyndactyly syndrome (OMIM:175700)</td><td style=\"text-align: left;\">NM_000168.6:c.1498C>T (heterozygous)</td><td style=\"text-align: left;\">Preaxial foot polydactyly (HP:0001841); Syndactyly (HP:0001159); Macrocephaly (HP:0000256); Global developmental delay (HP:0001263); excluded: Postaxial polydactyly (HP:0100259); excluded: Hypertelorism (HP:0000316)</td></tr>\n",
       "<tr><td style=\"text-align: left;\">G076_Mother (UNKNOWN; )</td><td style=\"text-align: left;\">Greig cephalopolysyndactyly syndrome (OMIM:175700)</td><td style=\"text-align: left;\">NM_000168.6:c.1498C>T (heterozygous)</td><td style=\"text-align: left;\">Preaxial foot polydactyly (HP:0001841); Syndactyly (HP:0001159); excluded: Postaxial polydactyly (HP:0100259); excluded: Macrocephaly (HP:0000256); excluded: Hypertelorism (HP:0000316); excluded: Global developmental delay (HP:0001263)</td></tr>\n",
       "<tr><td style=\"text-align: left;\">G076_Brother (UNKNOWN; )</td><td style=\"text-align: left;\">Greig cephalopolysyndactyly syndrome (OMIM:175700)</td><td style=\"text-align: left;\">NM_000168.6:c.1498C>T (heterozygous)</td><td style=\"text-align: left;\">Postaxial hand polydactyly (HP:0001162); Preaxial foot polydactyly (HP:0001841); Syndactyly (HP:0001159); excluded: Macrocephaly (HP:0000256); excluded: Hypertelorism (HP:0000316); excluded: Global developmental delay (HP:0001263)</td></tr>\n",
       "<tr><td style=\"text-align: left;\">G068  (UNKNOWN; )</td><td style=\"text-align: left;\">Greig cephalopolysyndactyly syndrome (OMIM:175700)</td><td style=\"text-align: left;\">NM_000168.6:c.1543_1544dup (heterozygous)</td><td style=\"text-align: left;\">Preaxial foot polydactyly (HP:0001841); Syndactyly (HP:0001159); excluded: Postaxial polydactyly (HP:0100259); excluded: Macrocephaly (HP:0000256); excluded: Hypertelorism (HP:0000316); excluded: Global developmental delay (HP:0001263)</td></tr>\n",
       "<tr><td style=\"text-align: left;\">G068_Brother (UNKNOWN; )</td><td style=\"text-align: left;\">Greig cephalopolysyndactyly syndrome (OMIM:175700)</td><td style=\"text-align: left;\">NM_000168.6:c.1543_1544dup (heterozygous)</td><td style=\"text-align: left;\">Preaxial foot polydactyly (HP:0001841); Syndactyly (HP:0001159); excluded: Postaxial polydactyly (HP:0100259); excluded: Macrocephaly (HP:0000256); excluded: Hypertelorism (HP:0000316); excluded: Global developmental delay (HP:0001263)</td></tr>\n",
       "<tr><td style=\"text-align: left;\">A018  (UNKNOWN; )</td><td style=\"text-align: left;\">Greig cephalopolysyndactyly syndrome (OMIM:175700)</td><td style=\"text-align: left;\">NM_000168.6:c.1733G>C (heterozygous)</td><td style=\"text-align: left;\">Postaxial hand polydactyly (HP:0001162); Preaxial foot polydactyly (HP:0001841); Broad thumb (HP:0011304); Syndactyly (HP:0001159); Macrocephaly (HP:0000256); Hypertelorism (HP:0000316); Hypoplasia of the corpus callosum (HP:0002079); Ventriculomegaly (HP:0002119); Cerebellar hypoplasia (HP:0001321); Microretrognathia (HP:0000308)</td></tr>\n",
       "<tr><td style=\"text-align: left;\">G094  (UNKNOWN; )</td><td style=\"text-align: left;\">Greig cephalopolysyndactyly syndrome (OMIM:175700)</td><td style=\"text-align: left;\">NM_000168.6:c.1745del (heterozygous)</td><td style=\"text-align: left;\">Postaxial hand polydactyly (HP:0001162); Postaxial foot polydactyly (HP:0001830); Syndactyly (HP:0001159); Macrocephaly (HP:0000256); excluded: Preaxial polydactyly (HP:0100258); excluded: Hypertelorism (HP:0000316); excluded: Global developmental delay (HP:0001263)</td></tr>\n",
       "<tr><td style=\"text-align: left;\">G16012  (UNKNOWN; )</td><td style=\"text-align: left;\">Greig cephalopolysyndactyly syndrome (OMIM:175700)</td><td style=\"text-align: left;\">NM_000168.6:c.1767del (heterozygous)</td><td style=\"text-align: left;\">Preaxial foot polydactyly (HP:0001841); Syndactyly (HP:0001159); Keratoconus (HP:0000563); Inguinal hernia (HP:0000023); Umbilical hernia (HP:0001537); excluded: Postaxial polydactyly (HP:0100259); excluded: Macrocephaly (HP:0000256); excluded: Hypertelorism (HP:0000316); excluded: Global developmental delay (HP:0001263)</td></tr>\n",
       "<tr><td style=\"text-align: left;\">G16012_Daughter (UNKNOWN; )</td><td style=\"text-align: left;\">Greig cephalopolysyndactyly syndrome (OMIM:175700)</td><td style=\"text-align: left;\">NM_000168.6:c.1767del (heterozygous)</td><td style=\"text-align: left;\">Broad thumb (HP:0011304); Syndactyly (HP:0001159); Umbilical hernia (HP:0001537); excluded: Postaxial polydactyly (HP:0100259); excluded: Preaxial polydactyly (HP:0100258); excluded: Macrocephaly (HP:0000256); excluded: Hypertelorism (HP:0000316); excluded: Global developmental delay (HP:0001263)</td></tr>\n",
       "<tr><td style=\"text-align: left;\">G109  (UNKNOWN; )</td><td style=\"text-align: left;\">Greig cephalopolysyndactyly syndrome (OMIM:175700)</td><td style=\"text-align: left;\">NM_000168.6:c.1786C>T (heterozygous)</td><td style=\"text-align: left;\">Postaxial hand polydactyly (HP:0001162); Preaxial foot polydactyly (HP:0001841); Hypertelorism (HP:0000316); Large for gestational age (HP:0001520); excluded: Syndactyly (HP:0001159); excluded: Macrocephaly (HP:0000256)</td></tr>\n",
       "<tr><td style=\"text-align: left;\">G109_Father (UNKNOWN; )</td><td style=\"text-align: left;\">Greig cephalopolysyndactyly syndrome (OMIM:175700)</td><td style=\"text-align: left;\">NM_000168.6:c.1786C>T (heterozygous)</td><td style=\"text-align: left;\">Broad hallux (HP:0010055); excluded: Postaxial polydactyly (HP:0100259); excluded: Preaxial polydactyly (HP:0100258); excluded: Syndactyly (HP:0001159); excluded: Macrocephaly (HP:0000256); excluded: Hypertelorism (HP:0000316); excluded: Global developmental delay (HP:0001263)</td></tr>\n",
       "<tr><td style=\"text-align: left;\">G109_Sister (UNKNOWN; )</td><td style=\"text-align: left;\">Greig cephalopolysyndactyly syndrome (OMIM:175700)</td><td style=\"text-align: left;\">NM_000168.6:c.1786C>T (heterozygous)</td><td style=\"text-align: left;\">Preaxial foot polydactyly (HP:0001841); Syndactyly (HP:0001159); Hypertelorism (HP:0000316); excluded: Postaxial polydactyly (HP:0100259); excluded: Macrocephaly (HP:0000256)</td></tr>\n",
       "<tr><td style=\"text-align: left;\">G056  (UNKNOWN; )</td><td style=\"text-align: left;\">Greig cephalopolysyndactyly syndrome (OMIM:175700)</td><td style=\"text-align: left;\">NM_000168.6:c.1787A>C (heterozygous)</td><td style=\"text-align: left;\">Preaxial foot polydactyly (HP:0001841); Syndactyly (HP:0001159); Macrocephaly (HP:0000256); Hypertelorism (HP:0000316); Global developmental delay (HP:0001263); Neurofibroma (HP:0001067); excluded: Postaxial polydactyly (HP:0100259)</td></tr>\n",
       "<tr><td style=\"text-align: left;\">G056_Father (UNKNOWN; )</td><td style=\"text-align: left;\">Greig cephalopolysyndactyly syndrome (OMIM:175700)</td><td style=\"text-align: left;\">NM_000168.6:c.1787A>C (heterozygous)</td><td style=\"text-align: left;\">Preaxial foot polydactyly (HP:0001841); Syndactyly (HP:0001159); Macrocephaly (HP:0000256); Hypertelorism (HP:0000316); excluded: Postaxial polydactyly (HP:0100259); excluded: Global developmental delay (HP:0001263)</td></tr>\n",
       "<tr><td style=\"text-align: left;\">G026  (UNKNOWN; )</td><td style=\"text-align: left;\">Greig cephalopolysyndactyly syndrome (OMIM:175700)</td><td style=\"text-align: left;\">NM_000168.6:c.1874G>A (heterozygous)</td><td style=\"text-align: left;\">Preaxial foot polydactyly (HP:0001841); Preaxial hand polydactyly (HP:0001177); Syndactyly (HP:0001159); Brachydactyly (HP:0001156); Triangular shaped phalanges of the hand (HP:0009774); excluded: Postaxial polydactyly (HP:0100259); excluded: Macrocephaly (HP:0000256); excluded: Hypertelorism (HP:0000316); excluded: Global developmental delay (HP:0001263)</td></tr>\n",
       "<tr><td style=\"text-align: left;\">G14331  (UNKNOWN; )</td><td style=\"text-align: left;\">Greig cephalopolysyndactyly syndrome (OMIM:175700)</td><td style=\"text-align: left;\">NM_000168.6:c.1874G>A (heterozygous)</td><td style=\"text-align: left;\">Preaxial foot polydactyly (HP:0001841); Broad thumb (HP:0011304); Broad hallux (HP:0010055); Syndactyly (HP:0001159); Macrocephaly (HP:0000256); Hypertelorism (HP:0000316); Brachydactyly (HP:0001156); Delayed speech and language development (HP:0000750); excluded: Postaxial polydactyly (HP:0100259)</td></tr>\n",
       "<tr><td style=\"text-align: left;\">G111  (UNKNOWN; )</td><td style=\"text-align: left;\">Greig cephalopolysyndactyly syndrome (OMIM:175700)</td><td style=\"text-align: left;\">NM_000168.6:c.2082_2083delinsAGAGAAGCC (heterozygous)</td><td style=\"text-align: left;\">Postaxial hand polydactyly (HP:0001162); Preaxial foot polydactyly (HP:0001841); excluded: Syndactyly (HP:0001159); excluded: Macrocephaly (HP:0000256); excluded: Hypertelorism (HP:0000316); excluded: Global developmental delay (HP:0001263)</td></tr>\n",
       "<tr><td style=\"text-align: left;\">G063  (UNKNOWN; )</td><td style=\"text-align: left;\">Greig cephalopolysyndactyly syndrome (OMIM:175700)</td><td style=\"text-align: left;\">NM_000168.6:c.3427_3443del (heterozygous)</td><td style=\"text-align: left;\">Preaxial foot polydactyly (HP:0001841); Hypertelorism (HP:0000316); Ventriculomegaly (HP:0002119); Global developmental delay (HP:0001263); Delayed speech and language development (HP:0000750); Omphalocele (HP:0001539); excluded: Postaxial polydactyly (HP:0100259); excluded: Syndactyly (HP:0001159); excluded: Macrocephaly (HP:0000256)</td></tr>\n",
       "<tr><td style=\"text-align: left;\">G003  (UNKNOWN; )</td><td style=\"text-align: left;\">Greig cephalopolysyndactyly syndrome (OMIM:175700)</td><td style=\"text-align: left;\">NM_000168.6:c.3559C>T (heterozygous)</td><td style=\"text-align: left;\">Postaxial hand polydactyly (HP:0001162); Macrocephaly (HP:0000256); Hypertelorism (HP:0000316); excluded: Preaxial polydactyly (HP:0100258); excluded: Syndactyly (HP:0001159)</td></tr>\n",
       "<tr><td style=\"text-align: left;\">G003_Brother (UNKNOWN; )</td><td style=\"text-align: left;\">Greig cephalopolysyndactyly syndrome (OMIM:175700)</td><td style=\"text-align: left;\">NM_000168.6:c.3559C>T (heterozygous)</td><td style=\"text-align: left;\">Postaxial hand polydactyly (HP:0001162); Postaxial foot polydactyly (HP:0001830); Broad thumb (HP:0011304); Macrocephaly (HP:0000256); Hypertelorism (HP:0000316); excluded: Preaxial polydactyly (HP:0100258); excluded: Syndactyly (HP:0001159); excluded: Global developmental delay (HP:0001263)</td></tr>\n",
       "<tr><td style=\"text-align: left;\">G003_Mother (UNKNOWN; )</td><td style=\"text-align: left;\">Greig cephalopolysyndactyly syndrome (OMIM:175700)</td><td style=\"text-align: left;\">NM_000168.6:c.3559C>T (heterozygous)</td><td style=\"text-align: left;\">Postaxial hand polydactyly (HP:0001162); Hypertelorism (HP:0000316); excluded: Preaxial polydactyly (HP:0100258); excluded: Syndactyly (HP:0001159); excluded: Macrocephaly (HP:0000256); excluded: Global developmental delay (HP:0001263)</td></tr>\n",
       "<tr><td style=\"text-align: left;\">G051  (UNKNOWN; )</td><td style=\"text-align: left;\">Greig cephalopolysyndactyly syndrome (OMIM:175700)</td><td style=\"text-align: left;\">NM_000168.6:c.3950del (heterozygous)</td><td style=\"text-align: left;\">Postaxial hand polydactyly (HP:0001162); Macrocephaly (HP:0000256); Partial agenesis of the corpus callosum (HP:0001338); Mild global developmental delay (HP:0011342); excluded: Preaxial polydactyly (HP:0100258); excluded: Syndactyly (HP:0001159); excluded: Hypertelorism (HP:0000316)</td></tr>\n",
       "<tr><td style=\"text-align: left;\">G051_Mother (UNKNOWN; )</td><td style=\"text-align: left;\">Greig cephalopolysyndactyly syndrome (OMIM:175700)</td><td style=\"text-align: left;\">NM_000168.6:c.3950del (heterozygous)</td><td style=\"text-align: left;\">Postaxial hand polydactyly (HP:0001162); Preaxial foot polydactyly (HP:0001841); Macrocephaly (HP:0000256); excluded: Syndactyly (HP:0001159); excluded: Hypertelorism (HP:0000316)</td></tr>\n",
       "<tr><td style=\"text-align: left;\">A019F*  (UNKNOWN; )</td><td style=\"text-align: left;\">Greig cephalopolysyndactyly syndrome (OMIM:175700)</td><td style=\"text-align: left;\">NM_000168.6:c.4099dup (heterozygous)</td><td style=\"text-align: left;\">Postaxial hand polydactyly (HP:0001162); Postaxial foot polydactyly (HP:0001830); Syndactyly (HP:0001159); Hypertelorism (HP:0000316); Partial agenesis of the corpus callosum (HP:0001338); excluded: Preaxial polydactyly (HP:0100258); excluded: Macrocephaly (HP:0000256)</td></tr>\n",
       "<tr><td style=\"text-align: left;\">G004  (UNKNOWN; )</td><td style=\"text-align: left;\">Greig cephalopolysyndactyly syndrome (OMIM:175700)</td><td style=\"text-align: left;\">NM_000168.6:c.4324C>T (heterozygous)</td><td style=\"text-align: left;\">Postaxial hand polydactyly (HP:0001162); Postaxial foot polydactyly (HP:0001830); Broad thumb (HP:0011304); Macrocephaly (HP:0000256); Hypertelorism (HP:0000316); Partial agenesis of the corpus callosum (HP:0001338); Global developmental delay (HP:0001263); Umbilical hernia (HP:0001537); Anteriorly placed anus (HP:0001545); excluded: Preaxial polydactyly (HP:0100258); excluded: Syndactyly (HP:0001159)</td></tr>\n",
       "<tr><td style=\"text-align: left;\">G002  (UNKNOWN; )</td><td style=\"text-align: left;\">Greig cephalopolysyndactyly syndrome (OMIM:175700)</td><td style=\"text-align: left;\">NM_000168.6:c.4408C>T (heterozygous)</td><td style=\"text-align: left;\">Postaxial hand polydactyly (HP:0001162); Postaxial foot polydactyly (HP:0001830); Syndactyly (HP:0001159); Macrocephaly (HP:0000256); Hypertelorism (HP:0000316); Hypoplasia of the corpus callosum (HP:0002079); Ventriculomegaly (HP:0002119); Laryngomalacia (HP:0001601); excluded: Preaxial polydactyly (HP:0100258); excluded: Global developmental delay (HP:0001263)</td></tr>\n",
       "<tr><td style=\"text-align: left;\">G006  (UNKNOWN; )</td><td style=\"text-align: left;\">Greig cephalopolysyndactyly syndrome (OMIM:175700)</td><td style=\"text-align: left;\">NM_000168.6:c.4431dup (heterozygous)</td><td style=\"text-align: left;\">Postaxial hand polydactyly (HP:0001162); Postaxial foot polydactyly (HP:0001830); Macrocephaly (HP:0000256); Hypertelorism (HP:0000316); Hypoplasia of the corpus callosum (HP:0002079); excluded: Preaxial polydactyly (HP:0100258); excluded: Syndactyly (HP:0001159)</td></tr>\n",
       "<tr><td style=\"text-align: left;\">A017  (UNKNOWN; )</td><td style=\"text-align: left;\">Greig cephalopolysyndactyly syndrome (OMIM:175700)</td><td style=\"text-align: left;\">NM_000168.6:c.4456C>T (heterozygous)</td><td style=\"text-align: left;\">Postaxial hand polydactyly (HP:0001162); Postaxial foot polydactyly (HP:0001830); Macrocephaly (HP:0000256); Hypoplasia of the corpus callosum (HP:0002079); excluded: Preaxial polydactyly (HP:0100258); excluded: Syndactyly (HP:0001159); excluded: Hypertelorism (HP:0000316); excluded: Global developmental delay (HP:0001263)</td></tr>\n",
       "<tr><td style=\"text-align: left;\">G016  (UNKNOWN; )</td><td style=\"text-align: left;\">Greig cephalopolysyndactyly syndrome (OMIM:175700)</td><td style=\"text-align: left;\">NM_000168.6:c.4463del (heterozygous)</td><td style=\"text-align: left;\">Preaxial foot polydactyly (HP:0001841); Syndactyly (HP:0001159); Macrocephaly (HP:0000256); Agenesis of corpus callosum (HP:0001274); Ventriculomegaly (HP:0002119); excluded: Postaxial polydactyly (HP:0100259); excluded: Hypertelorism (HP:0000316)</td></tr>\n",
       "<tr><td style=\"text-align: left;\">G043  (UNKNOWN; )</td><td style=\"text-align: left;\">Greig cephalopolysyndactyly syndrome (OMIM:175700)</td><td style=\"text-align: left;\">NM_000168.6:c.4463del (heterozygous)</td><td style=\"text-align: left;\">Postaxial hand polydactyly (HP:0001162); Postaxial foot polydactyly (HP:0001830); Preaxial foot polydactyly (HP:0001841); Syndactyly (HP:0001159); Macrocephaly (HP:0000256); Mild global developmental delay (HP:0011342); Supernumerary nipple (HP:0002558); excluded: Hypertelorism (HP:0000316)</td></tr>\n",
       "<tr><td style=\"text-align: left;\">G043_Father (UNKNOWN; )</td><td style=\"text-align: left;\">Greig cephalopolysyndactyly syndrome (OMIM:175700)</td><td style=\"text-align: left;\">NM_000168.6:c.4463del (heterozygous)</td><td style=\"text-align: left;\">Postaxial hand polydactyly (HP:0001162); Postaxial foot polydactyly (HP:0001830); Preaxial foot polydactyly (HP:0001841); Macrocephaly (HP:0000256); excluded: Syndactyly (HP:0001159); excluded: Hypertelorism (HP:0000316)</td></tr>\n",
       "<tr><td style=\"text-align: left;\">G043_Brother (UNKNOWN; )</td><td style=\"text-align: left;\">Greig cephalopolysyndactyly syndrome (OMIM:175700)</td><td style=\"text-align: left;\">NM_000168.6:c.4463del (heterozygous)</td><td style=\"text-align: left;\">Postaxial hand polydactyly (HP:0001162); Postaxial foot polydactyly (HP:0001830); Macrocephaly (HP:0000256); Hypertelorism (HP:0000316); Mild global developmental delay (HP:0011342); excluded: Syndactyly (HP:0001159)</td></tr>\n",
       "<tr><td style=\"text-align: left;\">G114  (UNKNOWN; )</td><td style=\"text-align: left;\">Greig cephalopolysyndactyly syndrome (OMIM:175700)</td><td style=\"text-align: left;\">NM_000168.6:c.4615_4624del (heterozygous)</td><td style=\"text-align: left;\">Postaxial hand polydactyly (HP:0001162); Broad hallux (HP:0010055); Macrocephaly (HP:0000256); excluded: Preaxial polydactyly (HP:0100258); excluded: Syndactyly (HP:0001159); excluded: Hypertelorism (HP:0000316); excluded: Global developmental delay (HP:0001263)</td></tr>\n",
       "<tr><td style=\"text-align: left;\">G114_Sister (UNKNOWN; )</td><td style=\"text-align: left;\">Greig cephalopolysyndactyly syndrome (OMIM:175700)</td><td style=\"text-align: left;\">NM_000168.6:c.4615_4624del (heterozygous)</td><td style=\"text-align: left;\">Postaxial hand polydactyly (HP:0001162); Preaxial foot polydactyly (HP:0001841); Syndactyly (HP:0001159); Macrocephaly (HP:0000256); excluded: Hypertelorism (HP:0000316); excluded: Global developmental delay (HP:0001263)</td></tr>\n",
       "<tr><td style=\"text-align: left;\">G028  (UNKNOWN; )</td><td style=\"text-align: left;\">Greig cephalopolysyndactyly syndrome (OMIM:175700)</td><td style=\"text-align: left;\">rsa7p14.1(kit P179)x1: chromosomal_deletion (SO:1000029)</td><td style=\"text-align: left;\">Postaxial foot polydactyly (HP:0001830); Broad thumb (HP:0011304); Broad hallux (HP:0010055); Syndactyly (HP:0001159); Macrocephaly (HP:0000256); Seizure (HP:0001250); Strabismus (HP:0000486); Horseshoe kidney (HP:0000085); excluded: Seizure (HP:0001250); excluded: Strabismus (HP:0000486); excluded: Horseshoe kidney (HP:0000085)</td></tr>\n",
       "<tr><td style=\"text-align: left;\">G115  (UNKNOWN; )</td><td style=\"text-align: left;\">Greig cephalopolysyndactyly syndrome (OMIM:175700)</td><td style=\"text-align: left;\">46,XY.ish del(7)(p14.1)(RP11-816F16-): chromosomal_deletion (SO:1000029)</td><td style=\"text-align: left;\">Postaxial foot polydactyly (HP:0001830); Broad thumb (HP:0011304); Broad hallux (HP:0010055); Syndactyly (HP:0001159); excluded: Macrocephaly (HP:0000256); excluded: Hypertelorism (HP:0000316)</td></tr>\n",
       "<tr><td style=\"text-align: left;\">G038  (UNKNOWN; )</td><td style=\"text-align: left;\">Greig cephalopolysyndactyly syndrome (OMIM:175700)</td><td style=\"text-align: left;\">46,XX.ish del(7)(p14.1p14.1)(GLI3-): chromosomal_deletion (SO:1000029)</td><td style=\"text-align: left;\">Postaxial foot polydactyly (HP:0001830); Broad thumb (HP:0011304); Broad hallux (HP:0010055); Syndactyly (HP:0001159); excluded: Macrocephaly (HP:0000256)</td></tr>\n",
       "</table>"
      ],
      "text/plain": [
       "<IPython.core.display.HTML object>"
      ]
     },
     "metadata": {},
     "output_type": "display_data"
    }
   ],
   "source": [
    "individuals = cvalidator.get_error_free_individual_list()\n",
    "phenopackets = [i.to_ga4gh_phenopacket(metadata=metadata.to_ga4gh()) for i in individuals]\n",
    "table = PhenopacketTable(phenopacket_list=phenopackets)\n",
    "display(HTML(table.to_html()))"
   ]
  },
  {
   "cell_type": "code",
   "execution_count": 21,
   "id": "bf33e8ae-c739-422c-a913-a4dfd69faf4a",
   "metadata": {},
   "outputs": [
    {
     "name": "stdout",
     "output_type": "stream",
     "text": [
      "We output 51 GA4GH phenopackets to the directory phenopackets\n"
     ]
    }
   ],
   "source": [
    "Individual.output_individuals_as_phenopackets(individual_list=gcps_individuals, \n",
    "                                              metadata=metadata,\n",
    "                                              outdir=\"phenopackets\")"
   ]
  },
  {
   "cell_type": "markdown",
   "id": "d068e398-9cae-4de8-b1c7-fa70e919a42e",
   "metadata": {},
   "source": [
    "<h1> Pallister–Hall syndrome (PHS; MIM# 146510)</h1>\n",
    "<p>The second half of this notebook extracts data about PHS from supplemental table 2.</p>"
   ]
  },
  {
   "cell_type": "code",
   "execution_count": 22,
   "id": "cc7aad78-2bb2-41ee-8c70-edf1eb595139",
   "metadata": {},
   "outputs": [
    {
     "data": {
      "text/html": [
       "<div>\n",
       "<style scoped>\n",
       "    .dataframe tbody tr th:only-of-type {\n",
       "        vertical-align: middle;\n",
       "    }\n",
       "\n",
       "    .dataframe tbody tr th {\n",
       "        vertical-align: top;\n",
       "    }\n",
       "\n",
       "    .dataframe thead th {\n",
       "        text-align: right;\n",
       "    }\n",
       "</style>\n",
       "<table border=\"1\" class=\"dataframe\">\n",
       "  <thead>\n",
       "    <tr style=\"text-align: right;\">\n",
       "      <th></th>\n",
       "      <th>N</th>\n",
       "      <th>cDNA</th>\n",
       "      <th>Predicted protein alteration</th>\n",
       "      <th>Inheritance</th>\n",
       "      <th>Growth delay/GH deficiency</th>\n",
       "      <th>Insertional/postaxial PD</th>\n",
       "      <th>Brachytelephalangism/dactyly</th>\n",
       "      <th>Y-shaped metacarpal/metatarsal</th>\n",
       "      <th>Hypothalamic hamartoma</th>\n",
       "      <th>Craniofacial anomalies</th>\n",
       "      <th>Anal atresia</th>\n",
       "      <th>Bifid epiglottis</th>\n",
       "      <th>Cardiac anomalies</th>\n",
       "      <th>Renal anomalies</th>\n",
       "      <th>Genital anomalies</th>\n",
       "      <th>Lung dysplasia</th>\n",
       "      <th>Intellectual deficiency</th>\n",
       "      <th>Nail dysplasia</th>\n",
       "      <th>Other findings</th>\n",
       "    </tr>\n",
       "  </thead>\n",
       "  <tbody>\n",
       "    <tr>\n",
       "      <th>0</th>\n",
       "      <td>P15112</td>\n",
       "      <td>1995del</td>\n",
       "      <td>Gly666Alafs*27</td>\n",
       "      <td>De novo</td>\n",
       "      <td>-</td>\n",
       "      <td>-</td>\n",
       "      <td>+</td>\n",
       "      <td>+</td>\n",
       "      <td>+</td>\n",
       "      <td>+</td>\n",
       "      <td>+</td>\n",
       "      <td>+</td>\n",
       "      <td>-</td>\n",
       "      <td>-</td>\n",
       "      <td>-</td>\n",
       "      <td>-</td>\n",
       "      <td>-</td>\n",
       "      <td>+</td>\n",
       "      <td>Overlapping toes, preauricular tag</td>\n",
       "    </tr>\n",
       "    <tr>\n",
       "      <th>1</th>\n",
       "      <td>G097</td>\n",
       "      <td>2072del</td>\n",
       "      <td>Gln691Argfs*2</td>\n",
       "      <td>De novo</td>\n",
       "      <td>+</td>\n",
       "      <td>+</td>\n",
       "      <td></td>\n",
       "      <td>+</td>\n",
       "      <td>+</td>\n",
       "      <td>-</td>\n",
       "      <td>-</td>\n",
       "      <td></td>\n",
       "      <td>-</td>\n",
       "      <td>-</td>\n",
       "      <td>+</td>\n",
       "      <td>-</td>\n",
       "      <td>-</td>\n",
       "      <td></td>\n",
       "      <td>Micropenis, thin CC</td>\n",
       "    </tr>\n",
       "    <tr>\n",
       "      <th>2</th>\n",
       "      <td>G085</td>\n",
       "      <td>2123_2126del</td>\n",
       "      <td>Gly708Valfs*24</td>\n",
       "      <td>Familial</td>\n",
       "      <td>-</td>\n",
       "      <td>+</td>\n",
       "      <td></td>\n",
       "      <td>+</td>\n",
       "      <td></td>\n",
       "      <td>-</td>\n",
       "      <td>-</td>\n",
       "      <td></td>\n",
       "      <td>-</td>\n",
       "      <td></td>\n",
       "      <td>-</td>\n",
       "      <td></td>\n",
       "      <td>-</td>\n",
       "      <td>+</td>\n",
       "      <td></td>\n",
       "    </tr>\n",
       "    <tr>\n",
       "      <th>3</th>\n",
       "      <td>Father</td>\n",
       "      <td>Gly708Valfs*24</td>\n",
       "      <td>Gly708Valfs*24</td>\n",
       "      <td></td>\n",
       "      <td>+</td>\n",
       "      <td>+</td>\n",
       "      <td></td>\n",
       "      <td>+</td>\n",
       "      <td></td>\n",
       "      <td>-</td>\n",
       "      <td>-</td>\n",
       "      <td></td>\n",
       "      <td>-</td>\n",
       "      <td></td>\n",
       "      <td>+</td>\n",
       "      <td></td>\n",
       "      <td>-</td>\n",
       "      <td></td>\n",
       "      <td>Micropenis</td>\n",
       "    </tr>\n",
       "    <tr>\n",
       "      <th>4</th>\n",
       "      <td>Aunt</td>\n",
       "      <td>Gly708Valfs*24</td>\n",
       "      <td>Gly708Valfs*24</td>\n",
       "      <td></td>\n",
       "      <td></td>\n",
       "      <td>+</td>\n",
       "      <td>+</td>\n",
       "      <td></td>\n",
       "      <td></td>\n",
       "      <td>-</td>\n",
       "      <td>-</td>\n",
       "      <td></td>\n",
       "      <td>-</td>\n",
       "      <td></td>\n",
       "      <td>-</td>\n",
       "      <td></td>\n",
       "      <td>-</td>\n",
       "      <td>+</td>\n",
       "      <td></td>\n",
       "    </tr>\n",
       "  </tbody>\n",
       "</table>\n",
       "</div>"
      ],
      "text/plain": [
       "         N            cDNA Predicted protein alteration Inheritance  \\\n",
       "0  P15112          1995del               Gly666Alafs*27    De novo    \n",
       "1    G097          2072del                Gln691Argfs*2    De novo    \n",
       "2    G085     2123_2126del               Gly708Valfs*24    Familial   \n",
       "3   Father  Gly708Valfs*24               Gly708Valfs*24               \n",
       "4     Aunt  Gly708Valfs*24               Gly708Valfs*24               \n",
       "\n",
       "  Growth delay/GH deficiency Insertional/postaxial PD  \\\n",
       "0                          -                        -   \n",
       "1                          +                        +   \n",
       "2                          -                        +   \n",
       "3                          +                        +   \n",
       "4                                                   +   \n",
       "\n",
       "  Brachytelephalangism/dactyly Y-shaped metacarpal/metatarsal  \\\n",
       "0                            +                              +   \n",
       "1                                                           +   \n",
       "2                                                           +   \n",
       "3                                                           +   \n",
       "4                            +                                  \n",
       "\n",
       "  Hypothalamic hamartoma Craniofacial anomalies Anal atresia Bifid epiglottis  \\\n",
       "0                      +                      +            +                +   \n",
       "1                      +                      -            -                    \n",
       "2                                             -            -                    \n",
       "3                                             -            -                    \n",
       "4                                             -            -                    \n",
       "\n",
       "  Cardiac anomalies Renal anomalies Genital anomalies Lung dysplasia  \\\n",
       "0                 -               -                 -              -   \n",
       "1                 -               -                 +              -   \n",
       "2                 -                                 -                  \n",
       "3                 -                                 +                  \n",
       "4                 -                                 -                  \n",
       "\n",
       "  Intellectual deficiency Nail dysplasia                      Other findings  \n",
       "0                       -              +  Overlapping toes, preauricular tag  \n",
       "1                       -                                Micropenis, thin CC  \n",
       "2                       -              +                                      \n",
       "3                       -                                         Micropenis  \n",
       "4                       -              +                                      "
      ]
     },
     "execution_count": 22,
     "metadata": {},
     "output_type": "execute_result"
    }
   ],
   "source": [
    "df2 = pd.read_csv(\"input/demurger_table_2.csv\", delimiter=\"\\t\")\n",
    "df2.head()"
   ]
  },
  {
   "cell_type": "markdown",
   "id": "f44b2a66-05e8-410d-b0a6-3d1ee0da5e58",
   "metadata": {},
   "source": [
    "<p>Note that the HPO parser and the metadata object can be reused.</p>"
   ]
  },
  {
   "cell_type": "code",
   "execution_count": 23,
   "id": "d888a752-88ba-4e60-9fa4-5e7d69a60c02",
   "metadata": {},
   "outputs": [],
   "source": [
    "generator = SimpleColumnMapperGenerator(df=df2, observed=\"+\", excluded=\"-\", hpo_cr=hpo_cr)"
   ]
  },
  {
   "cell_type": "code",
   "execution_count": 24,
   "id": "bd3ca775-b182-4713-9bb3-4e567250fde2",
   "metadata": {},
   "outputs": [],
   "source": [
    "# initialize the column_mapper_d with parsed simple columns\n",
    "column_mapper_d = generator.try_mapping_columns()"
   ]
  },
  {
   "cell_type": "code",
   "execution_count": 25,
   "id": "2112c5b7-4a02-4398-bbe4-17104e347db4",
   "metadata": {},
   "outputs": [
    {
     "data": {
      "text/html": [
       "<table style=\"border: 2px solid black;\">\n",
       "\n",
       "<tr>\n",
       "            <th>Result</th>\n",
       "            <th>Columns</th>\n",
       "        </tr>\n",
       "      \n",
       "<tr><td>Mapped</td><td>Hypothalamic hamartoma; Anal atresia; Bifid epiglottis; Cardiac anomalies; Renal anomalies; Genital anomalies; Nail dysplasia</td></tr>\n",
       "<tr><td>Unmapped</td><td><q>N</q>; <q>cDNA</q>; <q>Predicted protein alteration</q>; <q>Inheritance</q>; <q>Growth delay/GH deficiency</q>; <q>Insertional/postaxial PD</q>; <q>Brachytelephalangism/dactyly</q>; <q>Y-shaped metacarpal/metatarsal</q>; <q>Craniofacial anomalies</q>; <q>Lung dysplasia</q>; <q>Intellectual deficiency</q>; <q>Other findings</q></td></tr>\n",
       "</table>\n"
      ],
      "text/plain": [
       "<IPython.core.display.HTML object>"
      ]
     },
     "metadata": {},
     "output_type": "display_data"
    }
   ],
   "source": [
    "display(HTML(generator.to_html()))"
   ]
  },
  {
   "cell_type": "code",
   "execution_count": 26,
   "id": "09803133-788b-4296-a7f6-073101ce65e2",
   "metadata": {},
   "outputs": [
    {
     "name": "stdout",
     "output_type": "stream",
     "text": [
      "Growth delay/GH deficiency\n",
      "Brachytelephalangism/dactyly\n",
      "Craniofacial anomalies\n",
      "Lung dysplasia\n",
      "Intellectual deficiency\n"
     ]
    }
   ],
   "source": [
    "# Growth delay HP:0001510\n",
    "label_d = {\n",
    "    'Growth delay/GH deficiency': [\"Growth delay\", \"HP:0001510\"],\n",
    "    'Brachytelephalangism/dactyly': [\"Shortening of all distal phalanges of the fingers\", \"HP:0006118\"], # Brachyteledactylyly\n",
    "    'Craniofacial anomalies' : [\"Abnormality of the face\", \"HP:0000271\"],\n",
    "    'Lung dysplasia': [\"Abnormal lung development\", \"HP:4000059\"],\n",
    "    'Intellectual deficiency': [\"Intellectual disability\", \"HP:0001249\"]\n",
    "}\n",
    "\n",
    "for k, v in label_d.items():\n",
    "    column_name = k\n",
    "    print(column_name)\n",
    "    hpo_label = v[0]\n",
    "    hpo_id = v[1]\n",
    "    mapper = SimpleColumnMapper(hpo_id=hpo_id, hpo_label=hpo_label, observed=\"+\", excluded=\"-\")\n",
    "    #print(mapper.preview_column(df2[column_name]))\n",
    "    column_mapper_d[column_name] = mapper"
   ]
  },
  {
   "cell_type": "code",
   "execution_count": 27,
   "id": "7b470932-55de-4e8a-b8e0-01c480a7b192",
   "metadata": {},
   "outputs": [],
   "source": [
    "# 'Y-shaped metacarpal/metatarsal'\n",
    "# Y-shaped metacarpals HP:0006042\n",
    "# Y-shaped metatarsals HP:0010567\n",
    "y_d = {'+': [\"Y-shaped metacarpals\", \"Y-shaped metatarsals\"]}\n",
    "y_excluded = {\"-\": [\"Y-shaped metacarpals\", \"Y-shaped metatarsals\"]}\n",
    "yMapper = OptionColumnMapper(concept_recognizer=hpo_cr, option_d=y_d, excluded_d=y_excluded)\n",
    "yMapper.preview_column(df2['Y-shaped metacarpal/metatarsal'])\n",
    "column_mapper_d['Y-shaped metacarpal/metatarsal'] = yMapper\n",
    "#df2['Y-shaped metacarpal/metatarsal']"
   ]
  },
  {
   "cell_type": "code",
   "execution_count": 28,
   "id": "0a3af1ca-9ffc-434b-afe2-a9183e4b6ba6",
   "metadata": {},
   "outputs": [],
   "source": [
    "other_findings_d = {'Overlapping toes': 'Overlapping toe',\n",
    " 'preauricular tag': 'Preauricular skin tag',\n",
    " 'Micropenis': 'Micropenis',\n",
    " 'thin CC': 'Thin corpus callosum',\n",
    " 'Sacrococcygeal teratoma': 'Sacrococcygeal teratoma',\n",
    " 'conical teeth': 'Conical tooth',\n",
    " 'cryptorchidism': 'Cryptorchidism',\n",
    " 'micropenis': 'Micropenis',\n",
    " 'syndactyly': 'Syndactyly',\n",
    " 'unilateral renal agenesis': 'Unilateral renal agenesis',\n",
    " 'fine motor delay': 'Motor delay',\n",
    " 'choanal atresia': 'Choanal atresia',\n",
    " 'fine DD': 'Global developmental delay',\n",
    " 'Scoliosis': 'Scoliosis',\n",
    " 'dental malposition': 'Tooth malposition',\n",
    " 'Oligohydramnios': 'Oligohydramnios',\n",
    " 'Seizures': 'Seizure',\n",
    " 'panhypopituitarism': 'Panhypopituitarism',\n",
    " 'renal hypoplasia': 'Renal hypoplasia',\n",
    " 'Syndactyly': 'Syndactyly',\n",
    " 'Agnathia': 'Mandibular aplasia',\n",
    " 'hypoplastic maxillary': 'Hypoplasia of the maxilla',\n",
    " #'absence of oral orifice': 'PLACEHOLDER',\n",
    " 'bilateral choanal atresia': 'Bilateral choanal atresia',\n",
    " 'oligosyndactyly': 'Syndactyly',\n",
    " 'arthrogryposis': 'Arthrogryposis multiplex congenita',\n",
    " 'mesomelia bilateral radio-ulnar bowing': 'Mesomelia',\n",
    " 'absence of tibia and fibula': 'Absent tibia',\n",
    " 'bilateral renal agenesis': 'Bilateral renal agenesis',\n",
    " 'pituitary gland agenesis': 'Anterior pituitary agenesis',\n",
    " 'adrenal agenesis': 'Renal agenesis',\n",
    " 'uterovaginal aplasia': 'Aplasia of the uterus',\n",
    " #'AVC': 'PLACEHOLDER',\n",
    " 'CCA': 'Agenesis of corpus callosum',\n",
    " 'microcephaly': 'Microcephaly',\n",
    " 'Posterior cleft palate': 'Cleft palate',\n",
    " 'micrognathia': 'Micrognathia',\n",
    " 'micromelia': 'Micromelia',\n",
    " 'club feet': 'Talipes equinovarus',\n",
    " 'adrenal gland hypoplasia': 'Adrenal hypoplasia',\n",
    " 'anteposed anus': 'Anteriorly placed anus',\n",
    " 'Bilateral choanal atresia': 'Bilateral choanal atresia',\n",
    " 'retrognathia': 'Retrognathia',\n",
    " 'posterior cleft palate': 'Cleft palate',\n",
    " #'ear dysplasia': 'PLACEHOLDER',\n",
    " #'cervical chondroma': 'PLACEHOLDER',\n",
    " 'adrenal and pituitary gland agenesis': 'Adrenal gland agenesis',\n",
    " #'abnormal aortic arch': 'PLACEHOLDER',\n",
    " 'Premaxillary agenesis': 'Aplasia of the premaxilla',\n",
    " 'microretrognathism': 'Microretrognathia',\n",
    " 'arhinencephaly': 'Arrhinencephaly',\n",
    " 'hygroma colli': 'Cystic hygroma',\n",
    " 'intestinal malrotation': 'Intestinal malrotation',\n",
    " #'IAC': 'PLACEHOLDER',\n",
    " 'adrenal gland agenesis': 'Adrenal gland agenesis',\n",
    " 'Hypertelorism': 'Hypertelorism',\n",
    " 'retrognatism': 'Retrognathia',\n",
    " 'cleft palate': 'Cleft palate',\n",
    " 'abnormal metacarpals': 'Abnormal metacarpal morphology',\n",
    "# 'Limited ankle mobility': 'PLACEHOLDER',\n",
    " 'hypopituitarism': 'Hypopituitarism',\n",
    " 'hypospadias': 'Hypospadias',\n",
    " 'speech delay': 'Delayed speech and language development',\n",
    " 'gelastic seizures': 'Focal emotional seizure with laughing'}\n",
    "other_findingsMapper = OptionColumnMapper(concept_recognizer=hpo_cr, option_d=other_findings_d)\n",
    "other_findingsMapper.preview_column(df2['Other findings'])\n",
    "column_mapper_d['Other findings'] = other_findingsMapper"
   ]
  },
  {
   "cell_type": "markdown",
   "id": "e1443a92-a1ae-495f-9507-b8438ef8333a",
   "metadata": {},
   "source": [
    "<h2>GLI3 variants</h2>"
   ]
  },
  {
   "cell_type": "code",
   "execution_count": 29,
   "id": "797506b1-c9ab-490d-ae64-dd1ce9a845bc",
   "metadata": {},
   "outputs": [
    {
     "name": "stdout",
     "output_type": "stream",
     "text": [
      "1995del\n",
      "https://rest.variantvalidator.org/VariantValidator/variantvalidator/hg38/NM_000168.6%3A1995del/NM_000168.6?content-type=application%2Fjson\n",
      "2072del\n",
      "https://rest.variantvalidator.org/VariantValidator/variantvalidator/hg38/NM_000168.6%3A2072del/NM_000168.6?content-type=application%2Fjson\n",
      "2123_2126del\n",
      "https://rest.variantvalidator.org/VariantValidator/variantvalidator/hg38/NM_000168.6%3A2123_2126del/NM_000168.6?content-type=application%2Fjson\n",
      "Gly708Valfs*24\n",
      "https://rest.variantvalidator.org/VariantValidator/variantvalidator/hg38/NM_000168.6%3A2121del/NM_000168.6?content-type=application%2Fjson\n",
      "2149_2150insT\n",
      "https://rest.variantvalidator.org/VariantValidator/variantvalidator/hg38/NM_000168.6%3A2149_2150insT/NM_000168.6?content-type=application%2Fjson\n",
      "2149C>T\n",
      "https://rest.variantvalidator.org/VariantValidator/variantvalidator/hg38/NM_000168.6%3A2149C>T/NM_000168.6?content-type=application%2Fjson\n",
      "2385del\n",
      "https://rest.variantvalidator.org/VariantValidator/variantvalidator/hg38/NM_000168.6%3A2385del/NM_000168.6?content-type=application%2Fjson\n",
      "2641_2642dup\n",
      "https://rest.variantvalidator.org/VariantValidator/variantvalidator/hg38/NM_000168.6%3A2641_2642dup/NM_000168.6?content-type=application%2Fjson\n",
      "2647G>T\n",
      "https://rest.variantvalidator.org/VariantValidator/variantvalidator/hg38/NM_000168.6%3A2647G>T/NM_000168.6?content-type=application%2Fjson\n",
      "2685C>G\n",
      "https://rest.variantvalidator.org/VariantValidator/variantvalidator/hg38/NM_000168.6%3A2685C>G/NM_000168.6?content-type=application%2Fjson\n",
      "2799del\n",
      "https://rest.variantvalidator.org/VariantValidator/variantvalidator/hg38/NM_000168.6%3A2799del/NM_000168.6?content-type=application%2Fjson\n",
      "2875_2902del\n",
      "https://rest.variantvalidator.org/VariantValidator/variantvalidator/hg38/NM_000168.6%3A2875_2902del/NM_000168.6?content-type=application%2Fjson\n",
      "2941dup\n",
      "https://rest.variantvalidator.org/VariantValidator/variantvalidator/hg38/NM_000168.6%3A2941dup/NM_000168.6?content-type=application%2Fjson\n",
      "3006_3007insT\n",
      "https://rest.variantvalidator.org/VariantValidator/variantvalidator/hg38/NM_000168.6%3A3006_3007insT/NM_000168.6?content-type=application%2Fjson\n",
      "3040G>T\n",
      "https://rest.variantvalidator.org/VariantValidator/variantvalidator/hg38/NM_000168.6%3A3040G>T/NM_000168.6?content-type=application%2Fjson\n",
      "3098dup\n",
      "https://rest.variantvalidator.org/VariantValidator/variantvalidator/hg38/NM_000168.6%3A3098dup/NM_000168.6?content-type=application%2Fjson\n",
      "3324C>G\n",
      "https://rest.variantvalidator.org/VariantValidator/variantvalidator/hg38/NM_000168.6%3A3324C>G/NM_000168.6?content-type=application%2Fjson\n",
      "3386_3387del\n",
      "https://rest.variantvalidator.org/VariantValidator/variantvalidator/hg38/NM_000168.6%3A3386_3387del/NM_000168.6?content-type=application%2Fjson\n"
     ]
    }
   ],
   "source": [
    "gli3_variants2 = df2['cDNA'].unique()\n",
    "gli3_variant_d = {}\n",
    "# NM_000168.6:c.2121del leads to NP_000159.3:p.(Gly708ValfsTer25)\n",
    "# the exact HGVS cannot be determinded from the original publication, but the variant is equivalent for all intents and purposes\n",
    "hgvs_d = {\"Gly708Valfs*24\": \"2121del\" } \n",
    "for gli3v in gli3_variants2:\n",
    "    # correct HGVS if needed\n",
    "    if gli3v in hgvs_d:\n",
    "        gli3variant = hgvs_d.get(gli3v)\n",
    "    else:\n",
    "        gli3variant = gli3v\n",
    "    print(gli3v)\n",
    "    hgvs = f\"c.{gli3v}\"\n",
    "    v = hgvsMapper.encode_hgvs(gli3variant)\n",
    "    gli3_variant_d[gli3v] = v"
   ]
  },
  {
   "cell_type": "code",
   "execution_count": 30,
   "id": "7d81a62c-f121-4427-a9da-0619e27c9b97",
   "metadata": {},
   "outputs": [],
   "source": [
    "variantMapper = VariantColumnMapper(variant_d=gli3_variant_d,\n",
    "                                   variant_column_name=\"cDNA\",\n",
    "                                    default_genotype='heterozygous'\n",
    "                                   )\n",
    "encoder = CohortEncoder(df=df2, \n",
    "                        hpo_cr=hpo_cr, \n",
    "                        column_mapper_d=column_mapper_d, \n",
    "                        individual_column_name=\"N\", \n",
    "                        metadata=metadata,\n",
    "                        agemapper=AgeColumnMapper.not_provided(), \n",
    "                        sexmapper=SexColumnMapper.not_provided(),\n",
    "                        variant_mapper=variantMapper,\n",
    "                        pmid=PMID)\n",
    "phs = Disease(disease_id=\"OMIM:146510\", disease_label=\"Pallister-Hall syndrome\")\n",
    "encoder.set_disease(disease=phs)"
   ]
  },
  {
   "cell_type": "code",
   "execution_count": 31,
   "id": "c73f49c1-761a-4ab0-864a-bb6c7482ea4c",
   "metadata": {},
   "outputs": [
    {
     "data": {
      "text/html": [
       "<h2>Cohort validation</h2>\n",
       "<p>Errors found with 13 of 21 phenopackets.</p>\n",
       "<table style=\"border: 2px solid black; align: \"left\">\n",
       "<caption>Error analysis</caption>\n",
       "<tr><th style=\"text-align: left;font-weight: bold;\">ID</th><th style=\"text-align: left;font-weight: bold;\">Level</th><th style=\"text-align: left;font-weight: bold;\">Category</th><th style=\"text-align: left;font-weight: bold;\">Message</th><th style=\"text-align: left;font-weight: bold;\">HPO Term</th></tr>\n",
       "<tr><td style=\"text-align: left;\">PMID_24736735_G001_</td><td style=\"text-align: left;\">ERROR</td><td style=\"text-align: left;\">CONFLICT</td><td style=\"text-align: left;\">Conical tooth (HP:0000698) conflicts with the excluded term Abnormality of the face (HP:0000271) </td><td style=\"text-align: left;\">Abnormality of the face (HP:0000271)</td></tr>\n",
       "<tr><td style=\"text-align: left;\">PMID_24736735_G044_</td><td style=\"text-align: left;\">ERROR</td><td style=\"text-align: left;\">CONFLICT</td><td style=\"text-align: left;\">Tooth malposition (HP:0000692) conflicts with the excluded term Abnormality of the face (HP:0000271) </td><td style=\"text-align: left;\">Abnormality of the face (HP:0000271)</td></tr>\n",
       "<tr><td style=\"text-align: left;\">PMID_24736735_G104_F*_</td><td style=\"text-align: left;\">WARNING</td><td style=\"text-align: left;\">REDUNDANT</td><td style=\"text-align: left;\"><b>Abnormal metacarpal morphology</b> is redundant because of <b>Y-shaped metacarpals</b></td><td style=\"text-align: left;\">Abnormal metacarpal morphology (HP:0005916)</td></tr>\n",
       "<tr><td style=\"text-align: left;\">PMID_24736735_G012_F*_</td><td style=\"text-align: left;\">WARNING</td><td style=\"text-align: left;\">REDUNDANT</td><td style=\"text-align: left;\"><b>Abnormality of the face</b> is redundant because of <b>Bilateral choanal atresia</b></td><td style=\"text-align: left;\">Abnormality of the face (HP:0000271)</td></tr>\n",
       "<tr><td style=\"text-align: left;\">PMID_24736735_G082_</td><td style=\"text-align: left;\">WARNING</td><td style=\"text-align: left;\">REDUNDANT</td><td style=\"text-align: left;\"><b>Abnormality of the face</b> is redundant because of <b>Choanal atresia</b></td><td style=\"text-align: left;\">Abnormality of the face (HP:0000271)</td></tr>\n",
       "<tr><td style=\"text-align: left;\">PMID_24736735_G024_F*_</td><td style=\"text-align: left;\">WARNING</td><td style=\"text-align: left;\">REDUNDANT</td><td style=\"text-align: left;\"><b>Abnormality of the face</b> is redundant because of <b>Cleft palate</b></td><td style=\"text-align: left;\">Abnormality of the face (HP:0000271)</td></tr>\n",
       "<tr><td style=\"text-align: left;\">PMID_24736735_G013_F*_</td><td style=\"text-align: left;\">WARNING</td><td style=\"text-align: left;\">REDUNDANT</td><td style=\"text-align: left;\"><b>Abnormality of the face</b> is redundant because of <b>Cleft palate</b></td><td style=\"text-align: left;\">Abnormality of the face (HP:0000271)</td></tr>\n",
       "<tr><td style=\"text-align: left;\">PMID_24736735_G104_F*_</td><td style=\"text-align: left;\">WARNING</td><td style=\"text-align: left;\">REDUNDANT</td><td style=\"text-align: left;\"><b>Abnormality of the face</b> is redundant because of <b>Cleft palate</b></td><td style=\"text-align: left;\">Abnormality of the face (HP:0000271)</td></tr>\n",
       "<tr><td style=\"text-align: left;\">PMID_24736735_P15112_</td><td style=\"text-align: left;\">WARNING</td><td style=\"text-align: left;\">REDUNDANT</td><td style=\"text-align: left;\"><b>Abnormality of the face</b> is redundant because of <b>Preauricular skin tag</b></td><td style=\"text-align: left;\">Abnormality of the face (HP:0000271)</td></tr>\n",
       "<tr><td style=\"text-align: left;\">PMID_24736735_G012_F*_</td><td style=\"text-align: left;\">WARNING</td><td style=\"text-align: left;\">REDUNDANT</td><td style=\"text-align: left;\"><b>Abnormality of the genital system</b> is redundant because of <b>Aplasia of the uterus</b></td><td style=\"text-align: left;\">Abnormality of the genital system (HP:0000078)</td></tr>\n",
       "<tr><td style=\"text-align: left;\">PMID_24736735_G001_</td><td style=\"text-align: left;\">WARNING</td><td style=\"text-align: left;\">REDUNDANT</td><td style=\"text-align: left;\"><b>Abnormality of the genital system</b> is redundant because of <b>Cryptorchidism</b></td><td style=\"text-align: left;\">Abnormality of the genital system (HP:0000078)</td></tr>\n",
       "<tr><td style=\"text-align: left;\">PMID_24736735_G081_</td><td style=\"text-align: left;\">WARNING</td><td style=\"text-align: left;\">REDUNDANT</td><td style=\"text-align: left;\"><b>Abnormality of the genital system</b> is redundant because of <b>Hypospadias</b></td><td style=\"text-align: left;\">Abnormality of the genital system (HP:0000078)</td></tr>\n",
       "<tr><td style=\"text-align: left;\">PMID_24736735_G097_</td><td style=\"text-align: left;\">WARNING</td><td style=\"text-align: left;\">REDUNDANT</td><td style=\"text-align: left;\"><b>Abnormality of the genital system</b> is redundant because of <b>Micropenis</b></td><td style=\"text-align: left;\">Abnormality of the genital system (HP:0000078)</td></tr>\n",
       "<tr><td style=\"text-align: left;\">PMID_24736735_Father</td><td style=\"text-align: left;\">WARNING</td><td style=\"text-align: left;\">REDUNDANT</td><td style=\"text-align: left;\"><b>Abnormality of the genital system</b> is redundant because of <b>Micropenis</b></td><td style=\"text-align: left;\">Abnormality of the genital system (HP:0000078)</td></tr>\n",
       "<tr><td style=\"text-align: left;\">PMID_24736735_G082_</td><td style=\"text-align: left;\">WARNING</td><td style=\"text-align: left;\">REDUNDANT</td><td style=\"text-align: left;\"><b>Abnormality of the genital system</b> is redundant because of <b>Micropenis</b></td><td style=\"text-align: left;\">Abnormality of the genital system (HP:0000078)</td></tr>\n",
       "<tr><td style=\"text-align: left;\">PMID_24736735_G013_F*_</td><td style=\"text-align: left;\">WARNING</td><td style=\"text-align: left;\">REDUNDANT</td><td style=\"text-align: left;\"><b>Abnormality of the genital system</b> is redundant because of <b>Micropenis</b></td><td style=\"text-align: left;\">Abnormality of the genital system (HP:0000078)</td></tr>\n",
       "<tr><td style=\"text-align: left;\">PMID_24736735_G080_F*_</td><td style=\"text-align: left;\">WARNING</td><td style=\"text-align: left;\">REDUNDANT</td><td style=\"text-align: left;\"><b>Abnormality of the genital system</b> is redundant because of <b>Micropenis</b></td><td style=\"text-align: left;\">Abnormality of the genital system (HP:0000078)</td></tr>\n",
       "<tr><td style=\"text-align: left;\">PMID_24736735_G104_F*_</td><td style=\"text-align: left;\">WARNING</td><td style=\"text-align: left;\">REDUNDANT</td><td style=\"text-align: left;\"><b>Abnormality of the genital system</b> is redundant because of <b>Micropenis</b></td><td style=\"text-align: left;\">Abnormality of the genital system (HP:0000078)</td></tr>\n",
       "<tr><td style=\"text-align: left;\">PMID_24736735_G012_F*_</td><td style=\"text-align: left;\">WARNING</td><td style=\"text-align: left;\">REDUNDANT</td><td style=\"text-align: left;\"><b>Abnormality of the kidney</b> is redundant because of <b>Bilateral renal agenesis</b></td><td style=\"text-align: left;\">Abnormality of the kidney (HP:0000077)</td></tr>\n",
       "<tr><td style=\"text-align: left;\">PMID_24736735_G024_F*_</td><td style=\"text-align: left;\">WARNING</td><td style=\"text-align: left;\">REDUNDANT</td><td style=\"text-align: left;\"><b>Abnormality of the kidney</b> is redundant because of <b>Bilateral renal agenesis</b></td><td style=\"text-align: left;\">Abnormality of the kidney (HP:0000077)</td></tr>\n",
       "<tr><td style=\"text-align: left;\">PMID_24736735_G080_F*_</td><td style=\"text-align: left;\">WARNING</td><td style=\"text-align: left;\">REDUNDANT</td><td style=\"text-align: left;\"><b>Abnormality of the kidney</b> is redundant because of <b>Bilateral renal agenesis</b></td><td style=\"text-align: left;\">Abnormality of the kidney (HP:0000077)</td></tr>\n",
       "<tr><td style=\"text-align: left;\">PMID_24736735_GBUL_</td><td style=\"text-align: left;\">WARNING</td><td style=\"text-align: left;\">REDUNDANT</td><td style=\"text-align: left;\"><b>Abnormality of the kidney</b> is redundant because of <b>Renal hypoplasia</b></td><td style=\"text-align: left;\">Abnormality of the kidney (HP:0000077)</td></tr>\n",
       "<tr><td style=\"text-align: left;\">PMID_24736735_G001_</td><td style=\"text-align: left;\">WARNING</td><td style=\"text-align: left;\">REDUNDANT</td><td style=\"text-align: left;\"><b>Abnormality of the kidney</b> is redundant because of <b>Unilateral renal agenesis</b></td><td style=\"text-align: left;\">Abnormality of the kidney (HP:0000077)</td></tr>\n",
       "<tr><td style=\"text-align: left;\">PMID_24736735_G013_F*_</td><td style=\"text-align: left;\">WARNING</td><td style=\"text-align: left;\">REDUNDANT</td><td style=\"text-align: left;\"><b>Abnormality of the kidney</b> is redundant because of <b>Unilateral renal agenesis</b></td><td style=\"text-align: left;\">Abnormality of the kidney (HP:0000077)</td></tr>\n",
       "<tr><td style=\"text-align: left;\">PMID_24736735_G104_F*_</td><td style=\"text-align: left;\">WARNING</td><td style=\"text-align: left;\">REDUNDANT</td><td style=\"text-align: left;\"><b>Abnormality of the kidney</b> is redundant because of <b>Unilateral renal agenesis</b></td><td style=\"text-align: left;\">Abnormality of the kidney (HP:0000077)</td></tr>\n",
       "<tr><td style=\"text-align: left;\">PMID_24736735_G012_F*_</td><td style=\"text-align: left;\">WARNING</td><td style=\"text-align: left;\">REDUNDANT</td><td style=\"text-align: left;\"><b>Renal agenesis</b> is redundant because of <b>Bilateral renal agenesis</b></td><td style=\"text-align: left;\">Renal agenesis (HP:0000104)</td></tr>\n",
       "<tr><td style=\"text-align: left;\">PMID_24736735_G024_F*_</td><td style=\"text-align: left;\">INFORMATION</td><td style=\"text-align: left;\">NOT_MEASURED</td><td style=\"text-align: left;\">Anal atresia (HP:0002023) was listed as not measured and will be omitted</td><td style=\"text-align: left;\">not measured: Anal atresia (HP:0002023)</td></tr>\n",
       "<tr><td style=\"text-align: left;\">PMID_24736735_G012_F*_</td><td style=\"text-align: left;\">INFORMATION</td><td style=\"text-align: left;\">NOT_MEASURED</td><td style=\"text-align: left;\">Intellectual disability (HP:0001249) was listed as not measured and will be omitted</td><td style=\"text-align: left;\">not measured: Intellectual disability (HP:0001249)</td></tr>\n",
       "<tr><td style=\"text-align: left;\">PMID_24736735_G024_F*_</td><td style=\"text-align: left;\">INFORMATION</td><td style=\"text-align: left;\">NOT_MEASURED</td><td style=\"text-align: left;\">Intellectual disability (HP:0001249) was listed as not measured and will be omitted</td><td style=\"text-align: left;\">not measured: Intellectual disability (HP:0001249)</td></tr>\n",
       "<tr><td style=\"text-align: left;\">PMID_24736735_G013_F*_</td><td style=\"text-align: left;\">INFORMATION</td><td style=\"text-align: left;\">NOT_MEASURED</td><td style=\"text-align: left;\">Intellectual disability (HP:0001249) was listed as not measured and will be omitted</td><td style=\"text-align: left;\">not measured: Intellectual disability (HP:0001249)</td></tr>\n",
       "<tr><td style=\"text-align: left;\">PMID_24736735_G080_F*_</td><td style=\"text-align: left;\">INFORMATION</td><td style=\"text-align: left;\">NOT_MEASURED</td><td style=\"text-align: left;\">Intellectual disability (HP:0001249) was listed as not measured and will be omitted</td><td style=\"text-align: left;\">not measured: Intellectual disability (HP:0001249)</td></tr>\n",
       "<tr><td style=\"text-align: left;\">PMID_24736735_G104_F*_</td><td style=\"text-align: left;\">INFORMATION</td><td style=\"text-align: left;\">NOT_MEASURED</td><td style=\"text-align: left;\">Intellectual disability (HP:0001249) was listed as not measured and will be omitted</td><td style=\"text-align: left;\">not measured: Intellectual disability (HP:0001249)</td></tr>\n",
       "</table>"
      ],
      "text/plain": [
       "<IPython.core.display.HTML object>"
      ]
     },
     "metadata": {},
     "output_type": "display_data"
    }
   ],
   "source": [
    "phs_individuals = encoder.get_individuals()\n",
    "cvalidator = CohortValidator(cohort=phs_individuals, ontology=hpo_ontology, min_hpo=1, allelic_requirement=AllelicRequirement.MONO_ALLELIC)\n",
    "qc = QcVisualizer(ontology=hpo_ontology, cohort_validator=cvalidator)\n",
    "display(HTML(qc.to_html()))"
   ]
  },
  {
   "cell_type": "code",
   "execution_count": 32,
   "id": "1fffd35d-2079-47c9-8f2a-2a3af417beee",
   "metadata": {},
   "outputs": [
    {
     "data": {
      "text/html": [
       "<table style=\"border: 2px solid black; align: \"left\">\n",
       "<caption>21 phenopackets - PMID:24736735 (n=21)</caption>\n",
       "<tr><th style=\"text-align: left;font-weight: bold;\">Individual</th><th style=\"text-align: left;font-weight: bold;\">Disease</th><th style=\"text-align: left;font-weight: bold;\">Genotype</th><th style=\"text-align: left;font-weight: bold;\">Phenotypic features</th></tr>\n",
       "<tr><td style=\"text-align: left;\">P15112  (UNKNOWN; )</td><td style=\"text-align: left;\">Pallister-Hall syndrome (OMIM:146510)</td><td style=\"text-align: left;\">NM_000168.6:c.1995del (heterozygous)</td><td style=\"text-align: left;\">Hypothalamic hamartoma (HP:0002444); Anal atresia (HP:0002023); Bifid epiglottis (HP:0010564); Nail dysplasia (HP:0002164); Shortening of all distal phalanges of the fingers (HP:0006118); Y-shaped metacarpals (HP:0006042); Y-shaped metatarsals (HP:0010567); Overlapping toe (HP:0001845); Preauricular skin tag (HP:0000384); excluded: Abnormal heart morphology (HP:0001627); excluded: Abnormality of the kidney (HP:0000077); excluded: Abnormality of the genital system (HP:0000078); excluded: Growth delay (HP:0001510); excluded: Abnormal lung development (HP:4000059); excluded: Intellectual disability (HP:0001249)</td></tr>\n",
       "<tr><td style=\"text-align: left;\">G097  (UNKNOWN; )</td><td style=\"text-align: left;\">Pallister-Hall syndrome (OMIM:146510)</td><td style=\"text-align: left;\">NM_000168.6:c.2072del (heterozygous)</td><td style=\"text-align: left;\">Hypothalamic hamartoma (HP:0002444); Bifid epiglottis (HP:0010564); Nail dysplasia (HP:0002164); Growth delay (HP:0001510); Shortening of all distal phalanges of the fingers (HP:0006118); Y-shaped metacarpals (HP:0006042); Y-shaped metatarsals (HP:0010567); Micropenis (HP:0000054); Thin corpus callosum (HP:0033725); excluded: Anal atresia (HP:0002023); excluded: Abnormal heart morphology (HP:0001627); excluded: Abnormality of the kidney (HP:0000077); excluded: Abnormality of the face (HP:0000271); excluded: Abnormal lung development (HP:4000059); excluded: Intellectual disability (HP:0001249)</td></tr>\n",
       "<tr><td style=\"text-align: left;\">G085  (UNKNOWN; )</td><td style=\"text-align: left;\">Pallister-Hall syndrome (OMIM:146510)</td><td style=\"text-align: left;\">NM_000168.6:c.2123_2126del (heterozygous)</td><td style=\"text-align: left;\">Hypothalamic hamartoma (HP:0002444); Bifid epiglottis (HP:0010564); Abnormality of the kidney (HP:0000077); Nail dysplasia (HP:0002164); Shortening of all distal phalanges of the fingers (HP:0006118); Abnormal lung development (HP:4000059); Y-shaped metacarpals (HP:0006042); Y-shaped metatarsals (HP:0010567); excluded: Anal atresia (HP:0002023); excluded: Abnormal heart morphology (HP:0001627); excluded: Abnormality of the genital system (HP:0000078); excluded: Growth delay (HP:0001510); excluded: Abnormality of the face (HP:0000271); excluded: Intellectual disability (HP:0001249)</td></tr>\n",
       "<tr><td style=\"text-align: left;\">Father (UNKNOWN; )</td><td style=\"text-align: left;\">Pallister-Hall syndrome (OMIM:146510)</td><td style=\"text-align: left;\">NM_000168.6:c.2121del (heterozygous)</td><td style=\"text-align: left;\">Hypothalamic hamartoma (HP:0002444); Bifid epiglottis (HP:0010564); Abnormality of the kidney (HP:0000077); Nail dysplasia (HP:0002164); Growth delay (HP:0001510); Shortening of all distal phalanges of the fingers (HP:0006118); Abnormal lung development (HP:4000059); Y-shaped metacarpals (HP:0006042); Y-shaped metatarsals (HP:0010567); Micropenis (HP:0000054); excluded: Anal atresia (HP:0002023); excluded: Abnormal heart morphology (HP:0001627); excluded: Abnormality of the face (HP:0000271); excluded: Intellectual disability (HP:0001249)</td></tr>\n",
       "<tr><td style=\"text-align: left;\">Aunt (UNKNOWN; )</td><td style=\"text-align: left;\">Pallister-Hall syndrome (OMIM:146510)</td><td style=\"text-align: left;\">NM_000168.6:c.2121del (heterozygous)</td><td style=\"text-align: left;\">Hypothalamic hamartoma (HP:0002444); Bifid epiglottis (HP:0010564); Abnormality of the kidney (HP:0000077); Nail dysplasia (HP:0002164); Growth delay (HP:0001510); Shortening of all distal phalanges of the fingers (HP:0006118); Abnormal lung development (HP:4000059); excluded: Anal atresia (HP:0002023); excluded: Abnormal heart morphology (HP:0001627); excluded: Abnormality of the genital system (HP:0000078); excluded: Abnormality of the face (HP:0000271); excluded: Intellectual disability (HP:0001249)</td></tr>\n",
       "<tr><td style=\"text-align: left;\">Grand-mother (UNKNOWN; )</td><td style=\"text-align: left;\">Pallister-Hall syndrome (OMIM:146510)</td><td style=\"text-align: left;\">NM_000168.6:c.2121del (heterozygous)</td><td style=\"text-align: left;\">Hypothalamic hamartoma (HP:0002444); Bifid epiglottis (HP:0010564); Abnormality of the kidney (HP:0000077); Nail dysplasia (HP:0002164); Growth delay (HP:0001510); Shortening of all distal phalanges of the fingers (HP:0006118); Abnormal lung development (HP:4000059); excluded: Anal atresia (HP:0002023); excluded: Abnormal heart morphology (HP:0001627); excluded: Abnormality of the genital system (HP:0000078); excluded: Abnormality of the face (HP:0000271); excluded: Intellectual disability (HP:0001249)</td></tr>\n",
       "<tr><td style=\"text-align: left;\">G121  (UNKNOWN; )</td><td style=\"text-align: left;\">Pallister-Hall syndrome (OMIM:146510)</td><td style=\"text-align: left;\">NM_000168.6:c.2149_2150insT (heterozygous)</td><td style=\"text-align: left;\">Hypothalamic hamartoma (HP:0002444); Bifid epiglottis (HP:0010564); Shortening of all distal phalanges of the fingers (HP:0006118); Abnormal lung development (HP:4000059); Y-shaped metacarpals (HP:0006042); Y-shaped metatarsals (HP:0010567); excluded: Anal atresia (HP:0002023); excluded: Abnormal heart morphology (HP:0001627); excluded: Abnormality of the kidney (HP:0000077); excluded: Abnormality of the genital system (HP:0000078); excluded: Nail dysplasia (HP:0002164); excluded: Growth delay (HP:0001510); excluded: Abnormality of the face (HP:0000271); excluded: Intellectual disability (HP:0001249)</td></tr>\n",
       "<tr><td style=\"text-align: left;\">G001  (UNKNOWN; )</td><td style=\"text-align: left;\">Pallister-Hall syndrome (OMIM:146510)</td><td style=\"text-align: left;\">NM_000168.6:c.2149C>T (heterozygous)</td><td style=\"text-align: left;\">Hypothalamic hamartoma (HP:0002444); Anal atresia (HP:0002023); Bifid epiglottis (HP:0010564); Nail dysplasia (HP:0002164); Growth delay (HP:0001510); Shortening of all distal phalanges of the fingers (HP:0006118); Abnormal lung development (HP:4000059); Y-shaped metacarpals (HP:0006042); Y-shaped metatarsals (HP:0010567); Sacrococcygeal teratoma (HP:0030736); Conical tooth (HP:0000698); Cryptorchidism (HP:0000028); Micropenis (HP:0000054); Syndactyly (HP:0001159); Unilateral renal agenesis (HP:0000122); Motor delay (HP:0001270); excluded: Abnormal heart morphology (HP:0001627); excluded: Intellectual disability (HP:0001249)</td></tr>\n",
       "<tr><td style=\"text-align: left;\">G083  (UNKNOWN; )</td><td style=\"text-align: left;\">Pallister-Hall syndrome (OMIM:146510)</td><td style=\"text-align: left;\">NM_000168.6:c.2385del (heterozygous)</td><td style=\"text-align: left;\">Hypothalamic hamartoma (HP:0002444); Bifid epiglottis (HP:0010564); Shortening of all distal phalanges of the fingers (HP:0006118); Abnormal lung development (HP:4000059); Y-shaped metacarpals (HP:0006042); Y-shaped metatarsals (HP:0010567); excluded: Anal atresia (HP:0002023); excluded: Abnormal heart morphology (HP:0001627); excluded: Abnormality of the kidney (HP:0000077); excluded: Abnormality of the genital system (HP:0000078); excluded: Nail dysplasia (HP:0002164); excluded: Growth delay (HP:0001510); excluded: Abnormality of the face (HP:0000271); excluded: Intellectual disability (HP:0001249)</td></tr>\n",
       "<tr><td style=\"text-align: left;\">Father (UNKNOWN; )</td><td style=\"text-align: left;\">Pallister-Hall syndrome (OMIM:146510)</td><td style=\"text-align: left;\">NM_000168.6:c.2385del (heterozygous)</td><td style=\"text-align: left;\">Hypothalamic hamartoma (HP:0002444); Bifid epiglottis (HP:0010564); Shortening of all distal phalanges of the fingers (HP:0006118); Abnormal lung development (HP:4000059); Y-shaped metacarpals (HP:0006042); Y-shaped metatarsals (HP:0010567); excluded: Anal atresia (HP:0002023); excluded: Abnormal heart morphology (HP:0001627); excluded: Abnormality of the kidney (HP:0000077); excluded: Abnormality of the genital system (HP:0000078); excluded: Nail dysplasia (HP:0002164); excluded: Growth delay (HP:0001510); excluded: Abnormality of the face (HP:0000271); excluded: Intellectual disability (HP:0001249)</td></tr>\n",
       "<tr><td style=\"text-align: left;\">G082  (UNKNOWN; )</td><td style=\"text-align: left;\">Pallister-Hall syndrome (OMIM:146510)</td><td style=\"text-align: left;\">NM_000168.6:c.2641_2642dup (heterozygous)</td><td style=\"text-align: left;\">Hypothalamic hamartoma (HP:0002444); Anal atresia (HP:0002023); Bifid epiglottis (HP:0010564); Abnormal heart morphology (HP:0001627); Growth delay (HP:0001510); Shortening of all distal phalanges of the fingers (HP:0006118); Abnormal lung development (HP:4000059); Intellectual disability (HP:0001249); Y-shaped metacarpals (HP:0006042); Y-shaped metatarsals (HP:0010567); Micropenis (HP:0000054); Choanal atresia (HP:0000453); Global developmental delay (HP:0001263); excluded: Abnormality of the kidney (HP:0000077); excluded: Nail dysplasia (HP:0002164)</td></tr>\n",
       "<tr><td style=\"text-align: left;\">G044  (UNKNOWN; )</td><td style=\"text-align: left;\">Pallister-Hall syndrome (OMIM:146510)</td><td style=\"text-align: left;\">NM_000168.6:c.2647G>T (heterozygous)</td><td style=\"text-align: left;\">Hypothalamic hamartoma (HP:0002444); Nail dysplasia (HP:0002164); Growth delay (HP:0001510); Shortening of all distal phalanges of the fingers (HP:0006118); Abnormal lung development (HP:4000059); Y-shaped metacarpals (HP:0006042); Y-shaped metatarsals (HP:0010567); Scoliosis (HP:0002650); Tooth malposition (HP:0000692); excluded: Anal atresia (HP:0002023); excluded: Bifid epiglottis (HP:0010564); excluded: Abnormal heart morphology (HP:0001627); excluded: Abnormality of the kidney (HP:0000077); excluded: Abnormality of the genital system (HP:0000078); excluded: Intellectual disability (HP:0001249)</td></tr>\n",
       "<tr><td style=\"text-align: left;\">G072 F*  (UNKNOWN; )</td><td style=\"text-align: left;\">Pallister-Hall syndrome (OMIM:146510)</td><td style=\"text-align: left;\">NM_000168.6:c.2685C>G (heterozygous)</td><td style=\"text-align: left;\">Hypothalamic hamartoma (HP:0002444); Bifid epiglottis (HP:0010564); Nail dysplasia (HP:0002164); Shortening of all distal phalanges of the fingers (HP:0006118); Intellectual disability (HP:0001249); Oligohydramnios (HP:0001562); Syndactyly (HP:0001159); excluded: Anal atresia (HP:0002023); excluded: Abnormal heart morphology (HP:0001627); excluded: Abnormality of the kidney (HP:0000077); excluded: Abnormality of the genital system (HP:0000078); excluded: Growth delay (HP:0001510); excluded: Abnormality of the face (HP:0000271); excluded: Abnormal lung development (HP:4000059)</td></tr>\n",
       "<tr><td style=\"text-align: left;\">GBUL  (UNKNOWN; )</td><td style=\"text-align: left;\">Pallister-Hall syndrome (OMIM:146510)</td><td style=\"text-align: left;\">NM_000168.6:c.2799del (heterozygous)</td><td style=\"text-align: left;\">Hypothalamic hamartoma (HP:0002444); Anal atresia (HP:0002023); Bifid epiglottis (HP:0010564); Abnormality of the genital system (HP:0000078); Nail dysplasia (HP:0002164); Growth delay (HP:0001510); Shortening of all distal phalanges of the fingers (HP:0006118); Abnormal lung development (HP:4000059); Intellectual disability (HP:0001249); Y-shaped metacarpals (HP:0006042); Y-shaped metatarsals (HP:0010567); Seizure (HP:0001250); Panhypopituitarism (HP:0000871); Renal hypoplasia (HP:0000089); excluded: Abnormal heart morphology (HP:0001627); excluded: Abnormality of the face (HP:0000271)</td></tr>\n",
       "<tr><td style=\"text-align: left;\">G040  (UNKNOWN; )</td><td style=\"text-align: left;\">Pallister-Hall syndrome (OMIM:146510)</td><td style=\"text-align: left;\">NM_000168.6:c.2875_2902del (heterozygous)</td><td style=\"text-align: left;\">Hypothalamic hamartoma (HP:0002444); Bifid epiglottis (HP:0010564); Nail dysplasia (HP:0002164); Shortening of all distal phalanges of the fingers (HP:0006118); Abnormal lung development (HP:4000059); Y-shaped metacarpals (HP:0006042); Y-shaped metatarsals (HP:0010567); Syndactyly (HP:0001159); excluded: Anal atresia (HP:0002023); excluded: Abnormal heart morphology (HP:0001627); excluded: Abnormality of the kidney (HP:0000077); excluded: Abnormality of the genital system (HP:0000078); excluded: Growth delay (HP:0001510); excluded: Abnormality of the face (HP:0000271); excluded: Intellectual disability (HP:0001249)</td></tr>\n",
       "<tr><td style=\"text-align: left;\">G012 F*  (UNKNOWN; )</td><td style=\"text-align: left;\">Pallister-Hall syndrome (OMIM:146510)</td><td style=\"text-align: left;\">NM_000168.6:c.2941dup (heterozygous)</td><td style=\"text-align: left;\">Hypothalamic hamartoma (HP:0002444); Anal atresia (HP:0002023); Abnormal heart morphology (HP:0001627); Nail dysplasia (HP:0002164); Growth delay (HP:0001510); Shortening of all distal phalanges of the fingers (HP:0006118); Mandibular aplasia (HP:0009939); Hypoplasia of the maxilla (HP:0000327); Bilateral choanal atresia (HP:0004502); Syndactyly (HP:0001159); Arthrogryposis multiplex congenita (HP:0002804); Mesomelia (HP:0003027); Absent tibia (HP:0009556); Bilateral renal agenesis (HP:0010958); Anterior pituitary agenesis (HP:0010626); Aplasia of the uterus (HP:0000151); Agenesis of corpus callosum (HP:0001274); Microcephaly (HP:0000252); excluded: Bifid epiglottis (HP:0010564); excluded: Abnormal lung development (HP:4000059); excluded: Y-shaped metacarpals (HP:0006042); excluded: Y-shaped metatarsals (HP:0010567)</td></tr>\n",
       "<tr><td style=\"text-align: left;\">G024 F*  (UNKNOWN; )</td><td style=\"text-align: left;\">Pallister-Hall syndrome (OMIM:146510)</td><td style=\"text-align: left;\">NM_000168.6:c.3006_3007insT (heterozygous)</td><td style=\"text-align: left;\">Hypothalamic hamartoma (HP:0002444); Nail dysplasia (HP:0002164); Growth delay (HP:0001510); Shortening of all distal phalanges of the fingers (HP:0006118); Abnormal lung development (HP:4000059); Cleft palate (HP:0000175); Micrognathia (HP:0000347); Micromelia (HP:0002983); Syndactyly (HP:0001159); Talipes equinovarus (HP:0001762); Adrenal hypoplasia (HP:0000835); Bilateral renal agenesis (HP:0010958); Anteriorly placed anus (HP:0001545); excluded: Bifid epiglottis (HP:0010564); excluded: Abnormal heart morphology (HP:0001627); excluded: Abnormality of the genital system (HP:0000078); excluded: Y-shaped metacarpals (HP:0006042); excluded: Y-shaped metatarsals (HP:0010567)</td></tr>\n",
       "<tr><td style=\"text-align: left;\">G013 F*  (UNKNOWN; )</td><td style=\"text-align: left;\">Pallister-Hall syndrome (OMIM:146510)</td><td style=\"text-align: left;\">NM_000168.6:c.3040G>T (heterozygous)</td><td style=\"text-align: left;\">Hypothalamic hamartoma (HP:0002444); Anal atresia (HP:0002023); Abnormal heart morphology (HP:0001627); Nail dysplasia (HP:0002164); Growth delay (HP:0001510); Shortening of all distal phalanges of the fingers (HP:0006118); Abnormal lung development (HP:4000059); Y-shaped metacarpals (HP:0006042); Y-shaped metatarsals (HP:0010567); Bilateral choanal atresia (HP:0004502); Retrognathia (HP:0000278); Cleft palate (HP:0000175); Syndactyly (HP:0001159); Adrenal gland agenesis (HP:0011743); Micropenis (HP:0000054); Unilateral renal agenesis (HP:0000122); excluded: Bifid epiglottis (HP:0010564)</td></tr>\n",
       "<tr><td style=\"text-align: left;\">G080 F*  (UNKNOWN; )</td><td style=\"text-align: left;\">Pallister-Hall syndrome (OMIM:146510)</td><td style=\"text-align: left;\">NM_000168.6:c.3098dup (heterozygous)</td><td style=\"text-align: left;\">Hypothalamic hamartoma (HP:0002444); Anal atresia (HP:0002023); Bifid epiglottis (HP:0010564); Abnormal heart morphology (HP:0001627); Nail dysplasia (HP:0002164); Growth delay (HP:0001510); Abnormality of the face (HP:0000271); Abnormal lung development (HP:4000059); Y-shaped metacarpals (HP:0006042); Y-shaped metatarsals (HP:0010567); Aplasia of the premaxilla (HP:0010757); Microretrognathia (HP:0000308); Arrhinencephaly (HP:0002139); Cystic hygroma (HP:0000476); Intestinal malrotation (HP:0002566); Micropenis (HP:0000054); Bilateral renal agenesis (HP:0010958); Adrenal gland agenesis (HP:0011743); excluded: Shortening of all distal phalanges of the fingers (HP:0006118)</td></tr>\n",
       "<tr><td style=\"text-align: left;\">G104 F*  (UNKNOWN; )</td><td style=\"text-align: left;\">Pallister-Hall syndrome (OMIM:146510)</td><td style=\"text-align: left;\">NM_000168.6:c.3324C>G (heterozygous)</td><td style=\"text-align: left;\">Hypothalamic hamartoma (HP:0002444); Anal atresia (HP:0002023); Abnormal heart morphology (HP:0001627); Nail dysplasia (HP:0002164); Shortening of all distal phalanges of the fingers (HP:0006118); Abnormal lung development (HP:4000059); Y-shaped metacarpals (HP:0006042); Y-shaped metatarsals (HP:0010567); Hypertelorism (HP:0000316); Retrognathia (HP:0000278); Cleft palate (HP:0000175); Syndactyly (HP:0001159); Unilateral renal agenesis (HP:0000122); Micropenis (HP:0000054); excluded: Bifid epiglottis (HP:0010564); excluded: Growth delay (HP:0001510)</td></tr>\n",
       "<tr><td style=\"text-align: left;\">G081  (UNKNOWN; )</td><td style=\"text-align: left;\">Pallister-Hall syndrome (OMIM:146510)</td><td style=\"text-align: left;\">NM_000168.6:c.3386_3387del (heterozygous)</td><td style=\"text-align: left;\">Hypothalamic hamartoma (HP:0002444); Anal atresia (HP:0002023); Bifid epiglottis (HP:0010564); Nail dysplasia (HP:0002164); Shortening of all distal phalanges of the fingers (HP:0006118); Abnormal lung development (HP:4000059); Intellectual disability (HP:0001249); Syndactyly (HP:0001159); Hypopituitarism (HP:0040075); Micropenis (HP:0000054); Hypospadias (HP:0000047); Delayed speech and language development (HP:0000750); Focal emotional seizure with laughing (HP:0010821); excluded: Abnormal heart morphology (HP:0001627); excluded: Abnormality of the kidney (HP:0000077); excluded: Growth delay (HP:0001510); excluded: Abnormality of the face (HP:0000271); excluded: Y-shaped metacarpals (HP:0006042); excluded: Y-shaped metatarsals (HP:0010567)</td></tr>\n",
       "</table>"
      ],
      "text/plain": [
       "<IPython.core.display.HTML object>"
      ]
     },
     "metadata": {},
     "output_type": "display_data"
    }
   ],
   "source": [
    "phs_individuals = cvalidator.get_error_free_individual_list()\n",
    "phenopackets = [i.to_ga4gh_phenopacket(metadata=metadata.to_ga4gh()) for i in phs_individuals]\n",
    "table = PhenopacketTable(phenopacket_list=phenopackets)\n",
    "display(HTML(table.to_html()))"
   ]
  },
  {
   "cell_type": "code",
   "execution_count": 33,
   "id": "29d33e8e-a8bd-4ff3-bffa-33bb25d4b8e3",
   "metadata": {},
   "outputs": [
    {
     "name": "stdout",
     "output_type": "stream",
     "text": [
      "We output 21 GA4GH phenopackets to the directory phenopackets\n"
     ]
    }
   ],
   "source": [
    "Individual.output_individuals_as_phenopackets(individual_list=phs_individuals, \n",
    "                                              metadata=metadata,\n",
    "                                              outdir=\"phenopackets\")"
   ]
  },
  {
   "cell_type": "code",
   "execution_count": null,
   "id": "580c5b78-be1d-4568-82c4-ae35d3d76aaf",
   "metadata": {},
   "outputs": [],
   "source": [
    "# pxf validate --hpo ../hpo_data/hp.json *.json\n",
    "# no errors."
   ]
  }
 ],
 "metadata": {
  "kernelspec": {
   "display_name": "Python 3 (ipykernel)",
   "language": "python",
   "name": "python3"
  },
  "language_info": {
   "codemirror_mode": {
    "name": "ipython",
    "version": 3
   },
   "file_extension": ".py",
   "mimetype": "text/x-python",
   "name": "python",
   "nbconvert_exporter": "python",
   "pygments_lexer": "ipython3",
   "version": "3.11.3"
  }
 },
 "nbformat": 4,
 "nbformat_minor": 5
}
