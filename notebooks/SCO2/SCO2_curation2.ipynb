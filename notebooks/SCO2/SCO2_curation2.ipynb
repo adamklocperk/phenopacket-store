{
 "cells": [
  {
   "cell_type": "markdown",
   "id": "e936bf5e-e6cb-444d-95b1-4b4022d05484",
   "metadata": {},
   "source": [
    "# SCO2\n",
    "Variants in SCO2 are associated with [Mitochondrial complex IV deficiency, nuclear type 2](https://omim.org/entry/604377) as well as\n",
    "[Myopia 6](https://omim.org/entry/608908).  This notebook collects clinical data from several publications.\n",
    "\n",
    "\n",
    "Note that we have revised incorrect HGVS nomenclature in the original publications as follows\n",
    "- 12–base pair (bp) deletion at c.1519-1530 (PMID:23407777): NM_005138.3:c.402_413del\n",
    "- c.1541G A (PMID:23407777):  c.418G>A\n",
    "- c.398G> (PMID:14994243): c.398G>A\n",
    "- c.17INS19bp (PMID:20159436): NM_005138.3(SCO2):c.16_17insAGCATGCAGCAGTGACTCA (p.Arg6fs) (See clinvar variation id 222816)."
   ]
  },
  {
   "cell_type": "code",
   "execution_count": 1,
   "id": "62dfcd17-2be3-44ba-b603-3ac0b7b41ad2",
   "metadata": {},
   "outputs": [
    {
     "name": "stdout",
     "output_type": "stream",
     "text": [
      "Using pyphetools version 0.9.15\n"
     ]
    }
   ],
   "source": [
    "import pandas as pd\n",
    "pd.set_option('display.max_colwidth', None) # show entire column contents, important!\n",
    "from collections import defaultdict\n",
    "from IPython.display import display, HTML\n",
    "import pyphetools\n",
    "from pyphetools.creation import *\n",
    "from pyphetools.visualization import *\n",
    "from pyphetools.validation import CohortValidator\n",
    "print(f\"Using pyphetools version {pyphetools.__version__}\")"
   ]
  },
  {
   "cell_type": "code",
   "execution_count": 2,
   "id": "f80c85bb-dbaa-4aa3-a829-e2ef291ccf3c",
   "metadata": {},
   "outputs": [
    {
     "name": "stdout",
     "output_type": "stream",
     "text": [
      "HPO version 2023-10-09\n"
     ]
    }
   ],
   "source": [
    "import ssl\n",
    "ssl._create_default_https_context = ssl._create_unverified_context\n",
    "parser = HpoParser(hpo_json_file=\"../hp.json\")\n",
    "hpo_cr = parser.get_hpo_concept_recognizer()\n",
    "hpo_version = parser.get_version()\n",
    "hpo_ontology = parser.get_ontology()\n",
    "metadata = MetaData(created_by=\"ORCID:0000-0002-0736-9199\")\n",
    "metadata.default_versions_with_hpo(version=hpo_version)\n",
    "print(f\"HPO version {hpo_version}\")"
   ]
  },
  {
   "cell_type": "code",
   "execution_count": 3,
   "id": "55212b38-cf4a-4949-a67d-6b6f488db24d",
   "metadata": {},
   "outputs": [],
   "source": [
    "df = pd.read_excel('input/SCO2_curation.xlsx')\n",
    "df = df.astype(str)"
   ]
  },
  {
   "cell_type": "code",
   "execution_count": 4,
   "id": "bd015992-253c-400b-ba99-373335a8bbd5",
   "metadata": {},
   "outputs": [],
   "source": [
    "df['patient_id'] = df['id']\n",
    "df.set_index('patient_id', inplace=True)"
   ]
  },
  {
   "cell_type": "code",
   "execution_count": 5,
   "id": "183b2185-a535-4486-9eb2-7b4d5604b655",
   "metadata": {},
   "outputs": [
    {
     "data": {
      "text/plain": [
       "array(['c.361G>C(p.Gly121Arg)', 'c.763C>T(p.Arg255Trp)',\n",
       "       'c.418G>A(p.Glu140Lys)/c.505C>A(p.Pro169Thr)',\n",
       "       'c.404A>G(p.Asp135Gly)/c.512G>A(p.Arg171Gln)',\n",
       "       'c.179G>A p.(Arg60Gln)/c.577G>A p.(Gly193Ser)',\n",
       "       'c.334C>T(p.Arg112Trp)', 'c.358C>T(p.Arg120Trp)',\n",
       "       'c.479T>C(p.Val160Ala)/c.697C>A(p.Pro233Thr)',\n",
       "       'c.418G>A(p.Glu140Lys)/c.402_413del',\n",
       "       'c.157C>T(p.Gln53*)/c.418G>A(p.Glu140Lys)',\n",
       "       'c.418G>A(p.Glu140Lys)/c.674C>T(p.Ser225Phe)',\n",
       "       'c.667G>A(p.Asp223Asn)/chr22:g.49275958_49362964del(NCBI Build 36.1)',\n",
       "       'c.418G>A(p.Glu140Lys)/c.16_17insAGCATGCAGCAGTGACTCA',\n",
       "       'c.418G>A(p.Glu140Lys)/c.398G>A(p.Cys133Tyr)',\n",
       "       'c.418G>A(p.Glu140Lys)/c.157C>T(p.Gln53Ter)',\n",
       "       'c.418G>A(p.Glu140Lys)',\n",
       "       'c.418G>A(p.Glu140Lys)/c.479T>G(p.Val160Gly)',\n",
       "       'c.418G>A(p.Glu140Lys)/c.107G>A(p.Trp36*)',\n",
       "       'c.577G>A(p.Gly193Ser)', 'c.157C>T (p.Gln53*)',\n",
       "       'c.341G>A(p.Arg114His)', 'c.776C>T(p.Ala259Val)',\n",
       "       'c.418G>A(p.Glu140Lys)/c.511C>T(p.Arg171Trp)',\n",
       "       'c.418G>A(p.Glu140Lys)/c.268C>T(p.Arg90*)'], dtype=object)"
      ]
     },
     "execution_count": 5,
     "metadata": {},
     "output_type": "execute_result"
    }
   ],
   "source": [
    "df['Variant annotation'].unique()"
   ]
  },
  {
   "cell_type": "code",
   "execution_count": 6,
   "id": "36060d7d-39b5-4cf1-9857-cb967a2c3348",
   "metadata": {},
   "outputs": [],
   "source": [
    "def extract_cdna(variant):\n",
    "    \"\"\"\n",
    "    split strings like c.772G>T(p.Gly258*) on the open-parenthesis symbol and return the first part\n",
    "    \"\"\"\n",
    "    v = variant.split(\"(\")[0]\n",
    "    v = v.replace(\" \", \"\").replace(\"p.\",\"\")\n",
    "    return v\n",
    "    \n",
    "def extract_variant_1(variants):\n",
    "    \"\"\"\n",
    "    Split on the slash (\"/\") and return the first part (or entire string for homozygous)\n",
    "    \"\"\"\n",
    "    if isinstance(variants, float):\n",
    "        return \"nan\"\n",
    "    v1 = variants.split(\"/\")[0]\n",
    "    return extract_cdna(v1)\n",
    "\n",
    "def extract_variant_2(variants):\n",
    "    \"\"\"\n",
    "    Split on the slash (\"/\") and return the second part (or entire string for homozygous)\n",
    "    \"\"\"\n",
    "    if isinstance(variants, float):\n",
    "        return \"nan\"\n",
    "    fields = variants.split(\"/\")\n",
    "    if len(fields) == 2:\n",
    "        return extract_cdna(fields[1])\n",
    "    else:\n",
    "        # there was only one variant\n",
    "        return extract_cdna(variants)\n",
    "\n",
    "df[\"var1\"] = df['Variant annotation'].apply(lambda x: extract_variant_1(x))\n",
    "df[\"var2\"] = df['Variant annotation'].apply(lambda x: extract_variant_2(x))"
   ]
  },
  {
   "cell_type": "code",
   "execution_count": 7,
   "id": "4a17ada7-6037-4f60-a4ab-0ce2babdccfe",
   "metadata": {},
   "outputs": [
    {
     "name": "stdout",
     "output_type": "stream",
     "text": [
      "https://rest.variantvalidator.org/VariantValidator/variantvalidator/hg38/NM_005138.3%3Ac.157C>T/NM_005138.3?content-type=application%2Fjson\n",
      "https://rest.variantvalidator.org/VariantValidator/variantvalidator/hg38/NM_005138.3%3Ac.334C>T/NM_005138.3?content-type=application%2Fjson\n",
      "https://rest.variantvalidator.org/VariantValidator/variantvalidator/hg38/NM_005138.3%3Ac.402_413del/NM_005138.3?content-type=application%2Fjson\n",
      "https://rest.variantvalidator.org/VariantValidator/variantvalidator/hg38/NM_005138.3%3Ac.268C>T/NM_005138.3?content-type=application%2Fjson\n",
      "https://rest.variantvalidator.org/VariantValidator/variantvalidator/hg38/NM_005138.3%3Ac.358C>T/NM_005138.3?content-type=application%2Fjson\n",
      "https://rest.variantvalidator.org/VariantValidator/variantvalidator/hg38/NM_005138.3%3Ac.361G>C/NM_005138.3?content-type=application%2Fjson\n",
      "https://rest.variantvalidator.org/VariantValidator/variantvalidator/hg38/NM_005138.3%3Ac.16_17insAGCATGCAGCAGTGACTCA/NM_005138.3?content-type=application%2Fjson\n",
      "https://rest.variantvalidator.org/VariantValidator/variantvalidator/hg38/NM_005138.3%3Ac.697C>A/NM_005138.3?content-type=application%2Fjson\n",
      "https://rest.variantvalidator.org/VariantValidator/variantvalidator/hg38/NM_005138.3%3Ac.107G>A/NM_005138.3?content-type=application%2Fjson\n",
      "https://rest.variantvalidator.org/VariantValidator/variantvalidator/hg38/NM_005138.3%3Ac.674C>T/NM_005138.3?content-type=application%2Fjson\n",
      "https://rest.variantvalidator.org/VariantValidator/variantvalidator/hg38/NM_005138.3%3Ac.398G>A/NM_005138.3?content-type=application%2Fjson\n",
      "https://rest.variantvalidator.org/VariantValidator/variantvalidator/hg38/NM_005138.3%3Ac.763C>T/NM_005138.3?content-type=application%2Fjson\n",
      "https://rest.variantvalidator.org/VariantValidator/variantvalidator/hg38/NM_005138.3%3Ac.776C>T/NM_005138.3?content-type=application%2Fjson\n",
      "https://rest.variantvalidator.org/VariantValidator/variantvalidator/hg38/NM_005138.3%3Ac.577G>A/NM_005138.3?content-type=application%2Fjson\n",
      "https://rest.variantvalidator.org/VariantValidator/variantvalidator/hg38/NM_005138.3%3Ac.479T>G/NM_005138.3?content-type=application%2Fjson\n",
      "https://rest.variantvalidator.org/VariantValidator/variantvalidator/hg38/NM_005138.3%3Ac.512G>A/NM_005138.3?content-type=application%2Fjson\n",
      "https://rest.variantvalidator.org/VariantValidator/variantvalidator/hg38/NM_005138.3%3Ac.511C>T/NM_005138.3?content-type=application%2Fjson\n",
      "https://rest.variantvalidator.org/VariantValidator/variantvalidator/hg38/NM_005138.3%3Ac.404A>G/NM_005138.3?content-type=application%2Fjson\n",
      "https://rest.variantvalidator.org/VariantValidator/variantvalidator/hg38/NM_005138.3%3Ac.667G>A/NM_005138.3?content-type=application%2Fjson\n",
      "https://rest.variantvalidator.org/VariantValidator/variantvalidator/hg38/NM_005138.3%3Ac.179G>A/NM_005138.3?content-type=application%2Fjson\n",
      "https://rest.variantvalidator.org/VariantValidator/variantvalidator/hg38/NM_005138.3%3Ac.418G>A/NM_005138.3?content-type=application%2Fjson\n",
      "https://rest.variantvalidator.org/VariantValidator/variantvalidator/hg38/NM_005138.3%3Ac.341G>A/NM_005138.3?content-type=application%2Fjson\n",
      "https://rest.variantvalidator.org/VariantValidator/variantvalidator/hg38/NM_005138.3%3Ac.479T>C/NM_005138.3?content-type=application%2Fjson\n",
      "https://rest.variantvalidator.org/VariantValidator/variantvalidator/hg38/NM_005138.3%3Ac.505C>A/NM_005138.3?content-type=application%2Fjson\n",
      "extracted 25 variants with VariantValidator\n"
     ]
    }
   ],
   "source": [
    "from time import sleep\n",
    "var1_list = df[\"var1\"].unique()\n",
    "var2_list = df[\"var2\"].unique()\n",
    "var_set = set()\n",
    "var_set.update(var1_list)\n",
    "var_set.update(var2_list)\n",
    "variant_d = {}\n",
    "hg38 = \"hg38\"\n",
    "SCO2_transcript = \"NM_005138.3\"\n",
    "\n",
    "vvalidator = VariantValidator(genome_build=hg38, transcript=SCO2_transcript)\n",
    "for v in var_set:\n",
    "    #print(f\"{v}\")\n",
    "    try:\n",
    "        if v.startswith(\"chr22:g.49275958_49362964del\"):\n",
    "            var = StructuralVariant.chromosomal_deletion(cell_contents=\"chr22:g.49275958_49362964del(NCBI Build 36.1)\",\n",
    "                                                        gene_id=\"HGNC:10604\", gene_symbol=\"SCO2\")\n",
    "        else:\n",
    "            var = vvalidator.encode_hgvs(v)\n",
    "        variant_d[v] = var\n",
    "    except Exception as excpt:\n",
    "        print(v + ': -- ' +str(excpt))\n",
    "print(f\"extracted {len(variant_d)} variants with VariantValidator\")"
   ]
  },
  {
   "cell_type": "code",
   "execution_count": 8,
   "id": "94c40396-861d-430b-83a7-9dac394b9933",
   "metadata": {},
   "outputs": [],
   "source": [
    "import re\n",
    "def convert_year(y):\n",
    "    if y == '19 months':\n",
    "        return \"P1Y7M\"\n",
    "    elif y == '28 months':\n",
    "        return \"P2Y4M\"\n",
    "    elif y == \"birth\":\n",
    "        return \"P1D\"\n",
    "    match = re.search(r'(\\d+) year', y)\n",
    "    \n",
    "    if match:\n",
    "        years = match.group(1)\n",
    "        return f\"P{years}Y\"\n",
    "    match = re.search(r'(\\d+) month', y) \n",
    "    if match:\n",
    "        months = match.group(1)\n",
    "        return f\"P{months}M\"\n",
    "    match = re.search(r'(\\d+) weeks', y) \n",
    "    if match:\n",
    "        w = match.group(1)\n",
    "        return f\"P{w}W\"\n",
    "    else:\n",
    "        return \"n/a\"\n",
    "\n",
    "df['age'] = df['Age of diagnosis'].apply(lambda x: convert_year(x))"
   ]
  },
  {
   "cell_type": "code",
   "execution_count": 9,
   "id": "ba79a25f-2cb6-498c-9200-c2d729794e0d",
   "metadata": {},
   "outputs": [],
   "source": [
    "ageMapper = AgeColumnMapper.iso8601(column_name='age')\n",
    "# ageMapper.preview_column(df['age'])"
   ]
  },
  {
   "cell_type": "code",
   "execution_count": 10,
   "id": "5781fa96-c74f-4dc3-b5ef-66dc8f73a406",
   "metadata": {},
   "outputs": [],
   "source": [
    "sexMapper = SexColumnMapper(male_symbol=\"M\", female_symbol=\"F\", column_name='Gender')\n",
    "# sexMapper.preview_column(df[\"Gender\"])"
   ]
  },
  {
   "cell_type": "code",
   "execution_count": 11,
   "id": "4f3234e6-06e6-4522-a25a-ddf9f2125e50",
   "metadata": {},
   "outputs": [
    {
     "data": {
      "text/plain": [
       "Index(['id', 'omim_id', 'omim_title', 'omim_name', 'hgnc_id', 'gene_symbol',\n",
       "       'Zigosity', 'Location', 'Variant annotation', 'Consequence', 'Refseq',\n",
       "       'Protein ID', 'Unnamed: 12', 'ACGM classification', 'Protein structure',\n",
       "       'Age of diagnosis', 'Gender', 'Age at death', 'Phenotype',\n",
       "       'Prenatal ultrasound phenotype', 'MRI phenotype', 'Cardiac phenotype',\n",
       "       'Family history', 'Source', 'PMID', 'title', 'var1', 'var2', 'age'],\n",
       "      dtype='object')"
      ]
     },
     "execution_count": 11,
     "metadata": {},
     "output_type": "execute_result"
    }
   ],
   "source": [
    "df.columns"
   ]
  },
  {
   "cell_type": "code",
   "execution_count": 12,
   "id": "8633b048-5b92-442b-919e-b3f1a42154e9",
   "metadata": {},
   "outputs": [],
   "source": [
    "mapper_d = {}\n",
    "phenotypeColumnMapper = OptionColumnMapper(concept_recognizer=hpo_cr, option_d={})\n",
    "phenotypeColumnMapper.preview_column(df['Phenotype'])\n",
    "mapper_d['Phenotype'] = phenotypeColumnMapper\n",
    "# phenotypeColumnMapper.preview_column(df['Phenotype'])"
   ]
  },
  {
   "cell_type": "code",
   "execution_count": 13,
   "id": "4e5b1509-b6d9-47ea-9394-729ece28ddda",
   "metadata": {},
   "outputs": [],
   "source": [
    "prenatalUSmapper =  OptionColumnMapper(concept_recognizer=hpo_cr, option_d={})\n",
    "prenatalUSmapper.preview_column(df['Prenatal ultrasound phenotype'])\n",
    "mapper_d['Prenatal ultrasound phenotype'] = prenatalUSmapper"
   ]
  },
  {
   "cell_type": "code",
   "execution_count": 14,
   "id": "b9790312-91ef-4bfa-92f5-a30312bef581",
   "metadata": {},
   "outputs": [],
   "source": [
    "mriMapper = OptionColumnMapper(concept_recognizer=hpo_cr, option_d={})\n",
    "mriMapper.preview_column(df['MRI phenotype'])\n",
    "mapper_d['MRI phenotype'] = mriMapper"
   ]
  },
  {
   "cell_type": "code",
   "execution_count": 15,
   "id": "adf9d40c-6f75-43b7-adab-3549ff3d6521",
   "metadata": {},
   "outputs": [],
   "source": [
    "# No entries for cardiac\n",
    "#cardiacMapper = OptionColumnMapper(concept_recognizer=hpo_cr, option_d={})\n",
    "#cardiacMapper.preview_column(df['Cardiac phenotype'])"
   ]
  },
  {
   "cell_type": "code",
   "execution_count": 16,
   "id": "c572da7d-5647-4d9e-9bcc-1453d38735ef",
   "metadata": {},
   "outputs": [],
   "source": [
    "aod_d = {\n",
    "    \"5 months\": \"P5M\",\n",
    "    \"9 months\": \"P9M\",\n",
    "    \"10 months\": \"P10M\",\n",
    "    \"45 days\": \"P1M15D\",\n",
    "     \"7 months\": \"P7M\",\n",
    "     \"6 months\": \"P6M\",\n",
    "    \"20 months\": \"P1Y8M\",\n",
    "    \"13 weeks\": \"P4M1W\", \n",
    "    \"4 weeks\": \"P1M\",\n",
    "    \"53 days\": \"P1M3W2D\",\n",
    "     \"8 months\": \"P8M\",\n",
    "     \"12 months\": \"P1Y\",\n",
    "     \"15 months\": \"P1Y3M\",\n",
    "    \"7 weeks\": \"P1M3W\",\n",
    "    \"8 weeks\": \"P2M\",\n",
    "     \"4 months\": \"P4M\",\n",
    "     \"25 days\": \"P3W4D\",\n",
    "    \"1 month\": \"P1M\",\n",
    "    \"14 months\": \"P1Y2M\",\n",
    "    \"6.5 months\": \"P6M2W\",\n",
    "     \"4.5 months\": \"P4M2W\",\n",
    "    \"5 months\": \"P5M\",\n",
    "    \"11 months\": \"P11M\",\n",
    "     \"16 months\": \"P1Y4M\",\n",
    "    \"22 months\": \"P1Y10M\",\n",
    "    \"30 months\": \"P2Y6M\",\n",
    "     \"28 months\": \"P2Y4M\",\n",
    "}\n",
    "aodMapper = AgeOfDeathColumnMapper(column_name='Age at death', string_to_iso_d=aod_d)"
   ]
  },
  {
   "cell_type": "code",
   "execution_count": 17,
   "id": "936bf05c-3862-4e73-85ae-3ab940f0bf0a",
   "metadata": {},
   "outputs": [],
   "source": [
    "MC4DN2 = Disease(disease_id=\"OMIM:604377\", disease_label=\"Mitochondrial complex IV deficiency, nuclear type 2\")\n",
    "disease_d = {}\n",
    "disease_d[\"604377\"] = MC4DN2\n",
    "myopia6 = Disease(disease_id=\"OMIM:608908\", disease_label=\"Myopia 6\")\n",
    "disease_d[\"608908\"] = myopia6\n",
    "diseaseMapper = DiseaseIdColumnMapper(column_name=\"omim_id\", disease_id_map=disease_d)"
   ]
  },
  {
   "cell_type": "code",
   "execution_count": 18,
   "id": "b46e0970-12f6-4eca-a3a7-818c02834386",
   "metadata": {},
   "outputs": [],
   "source": [
    "encoder = MixedCohortEncoder(df=df,\n",
    "                            hpo_cr=hpo_cr,\n",
    "                             column_mapper_d=mapper_d,\n",
    "                             individual_column_name=\"patient_id\",\n",
    "                             disease_id_mapper=diseaseMapper,\n",
    "                             pmid_column=\"PMID\",\n",
    "                             title_column=\"title\",\n",
    "                             sexmapper=sexMapper,\n",
    "                             agemapper=ageMapper,\n",
    "                             age_of_death_mapper=aodMapper,\n",
    "                             metadata=metadata\n",
    "                        )"
   ]
  },
  {
   "cell_type": "code",
   "execution_count": 19,
   "id": "95de5b21-86a2-4eac-8a3f-93b469a42430",
   "metadata": {},
   "outputs": [],
   "source": [
    "individuals = encoder.get_individuals()"
   ]
  },
  {
   "cell_type": "code",
   "execution_count": 20,
   "id": "1eb5e09f-6739-4273-82bb-0923dd197429",
   "metadata": {},
   "outputs": [],
   "source": [
    "# retrieve the variant strings and add Variant objects to each individual\n",
    "# the individual id (i.id) is also the index of the pandas dataframe\n",
    "for i in individuals:\n",
    "    row = df.loc[i.id] \n",
    "    v1 = row['var1']\n",
    "    v2 = row['var2']\n",
    "    \n",
    "    #print(f\"{i.id}: v1={v1} and v2={v2}\")\n",
    "    if v1 == v2:\n",
    "        var1 = variant_d.get(v1)\n",
    "        var1.set_homozygous()\n",
    "        i.add_variant(var1)\n",
    "    else:\n",
    "        var1 = variant_d.get(v1)\n",
    "        var2 = variant_d.get(v2)\n",
    "        var1.set_heterozygous()\n",
    "        var2.set_heterozygous()\n",
    "        i.add_variant(var1)\n",
    "        i.add_variant(var2)"
   ]
  },
  {
   "cell_type": "code",
   "execution_count": 21,
   "id": "7161208c-81b2-40d7-a37d-630b47dff653",
   "metadata": {},
   "outputs": [
    {
     "data": {
      "text/html": [
       "<h2>Cohort validation</h2>\n",
       "<p>Errors found with 6 of 37 phenopackets.</p>\n",
       "<table style=\"border: 2px solid black; align: \"left\">\n",
       "<caption>Error counts</caption>\n",
       "<tr><th style=\"text-align: left;font-weight: bold;\">Level</th><th style=\"text-align: left;font-weight: bold;\">Error category</th><th style=\"text-align: left;font-weight: bold;\">Count</th></tr>\n",
       "<tr><td style=\"text-align: left;\">ERROR</td><td style=\"text-align: left;\">INSUFFICIENT_HPOS</td><td style=\"text-align: left;\">1</td></tr>\n",
       "<tr><td style=\"text-align: left;\">WARNING</td><td style=\"text-align: left;\">REDUNDANT</td><td style=\"text-align: left;\">5</td></tr>\n",
       "</table>\n",
       "<p>A total of 6 issues were fixed and 1 individuals were removed from the cohort because of irreparable errors. The cohort validator will return 36 individual objects without errors.</p>\n",
       "<p>The following redundant terms were found: Respiratory insufficiency (HP:0002093); Muscle weakness (HP:0001324); Abnormal basal ganglia MRI signal intensity (HP:0012751). Redundant terms will be removed, keeping only one instance of the most specific term.</p>\n",
       "<h2>Individuals with unfixable errors</h2>\n",
       "<table style=\"border: 2px solid black; align: \"left\">\n",
       "<caption>Error analysis</caption>\n",
       "<tr><th style=\"text-align: left;font-weight: bold;\">ID</th><th style=\"text-align: left;font-weight: bold;\">Level</th><th style=\"text-align: left;font-weight: bold;\">Category</th><th style=\"text-align: left;font-weight: bold;\">Message</th><th style=\"text-align: left;font-weight: bold;\">HPO Term</th></tr>\n",
       "<tr><td style=\"text-align: left;\">PMID_23838601_23838601_P1</td><td style=\"text-align: left;\">ERROR</td><td style=\"text-align: left;\">INSUFFICIENT_HPOS</td><td style=\"text-align: left;\">Minimum HPO terms required 1 but only 0 found</td><td style=\"text-align: left;\"></td></tr>\n",
       "</table>"
      ],
      "text/plain": [
       "<IPython.core.display.HTML object>"
      ]
     },
     "metadata": {},
     "output_type": "display_data"
    }
   ],
   "source": [
    "cvalidator = CohortValidator(cohort=individuals, ontology=hpo_ontology, min_hpo=1, allelic_requirement=AllelicRequirement.BI_ALLELIC)\n",
    "qc = QcVisualizer(cohort_validator=cvalidator)\n",
    "display(HTML(qc.to_summary_html()))"
   ]
  },
  {
   "cell_type": "code",
   "execution_count": 22,
   "id": "b5497820-3483-4ccf-9a29-2c9fcc21b169",
   "metadata": {},
   "outputs": [
    {
     "data": {
      "text/html": [
       "<table style=\"border: 2px solid black; align: \"left\">\n",
       "<caption>36 phenopackets - PMID:35112411 (n=2); PMID:31844624 (n=2); PMID:29351582 (n=2); PMID:34746378 (n=1); PMID:25525168 (n=2); PMID:23364397 (n=3); PMID:23407777 (n=1); PMID:10805329 (n=3); PMID:20159436 (n=1); PMID:14994243 (n=1); PMID:15210538 (n=1); PMID:15499950 (n=6); PMID:16765077 (n=1); PMID:17187620 (n=1); PMID:18924171 (n=1); PMID:19353847 (n=1); PMID:23643385 (n=4); PMID:10749987 (n=3)</caption>\n",
       "<tr><th style=\"text-align: left;font-weight: bold;\">Individual</th><th style=\"text-align: left;font-weight: bold;\">Disease</th><th style=\"text-align: left;font-weight: bold;\">Genotype</th><th style=\"text-align: left;font-weight: bold;\">Phenotypic features</th></tr>\n",
       "<tr><td style=\"text-align: left;\">35112411_P1 (MALE; P14Y)</td><td style=\"text-align: left;\">Mitochondrial complex IV deficiency, nuclear type 2 (OMIM:604377)</td><td style=\"text-align: left;\">NM_005138.3:c.361G>C (homozygous)</td><td style=\"text-align: left;\">Frequent falls (HP:0002359); Limited ankle dorsiflexion (HP:0033526); Distal lower limb amyotrophy (HP:0008944); Hand muscle atrophy (HP:0009130); Tremor (HP:0001337); Diffuse white matter abnormalities (HP:0007204)</td></tr>\n",
       "<tr><td style=\"text-align: left;\">35112411_P2 (MALE; P6Y)</td><td style=\"text-align: left;\">Mitochondrial complex IV deficiency, nuclear type 2 (OMIM:604377)</td><td style=\"text-align: left;\">NM_005138.3:c.361G>C (homozygous)</td><td style=\"text-align: left;\">Motor delay (HP:0001270); Tremor (HP:0001337)</td></tr>\n",
       "<tr><td style=\"text-align: left;\">31844624_P1 (MALE; P1Y7M)</td><td style=\"text-align: left;\">Mitochondrial complex IV deficiency, nuclear type 2 (OMIM:604377)</td><td style=\"text-align: left;\">NM_005138.3:c.763C>T (homozygous)</td><td style=\"text-align: left;\">Frequent falls (HP:0002359); Gait ataxia (HP:0002066); Tremor (HP:0001337); Distal amyotrophy (HP:0003693); Dysmetria (HP:0001310); Peripheral axonal neuropathy (HP:0003477); Increased serum lactate (HP:0002151); Increased CSF lactate (HP:0002490); Cerebellar atrophy (HP:0001272)</td></tr>\n",
       "<tr><td style=\"text-align: left;\">31844624_P2 (FEMALE; P2Y4M)</td><td style=\"text-align: left;\">Mitochondrial complex IV deficiency, nuclear type 2 (OMIM:604377)</td><td style=\"text-align: left;\">NM_005138.3:c.763C>T (homozygous)</td><td style=\"text-align: left;\">Gait ataxia (HP:0002066); Tremor (HP:0001337); Distal amyotrophy (HP:0003693); Strabismus (HP:0000486); Cerebellar atrophy (HP:0001272)</td></tr>\n",
       "<tr><td style=\"text-align: left;\">29351582_P1 (FEMALE; P6M)</td><td style=\"text-align: left;\">Mitochondrial complex IV deficiency, nuclear type 2 (OMIM:604377)</td><td style=\"text-align: left;\"><ul> <li>NM_005138.3:c.418G>A (heterozygous)</li> <li>NM_005138.3:c.505C>A (heterozygous)</li> </ul></td><td style=\"text-align: left;\">Ptosis (HP:0000508); Weakness of facial musculature (HP:0030319); Facial-lingual fasciculations (HP:0007089); Dysarthria (HP:0001260); Delayed gross motor development (HP:0002194); Frequent falls (HP:0002359); Skeletal muscle atrophy (HP:0003202); Motor axonal neuropathy (HP:0007002); Areflexia (HP:0001284); Pes cavus (HP:0001761)</td></tr>\n",
       "<tr><td style=\"text-align: left;\">29351582_P2 (MALE; P12Y)</td><td style=\"text-align: left;\">Mitochondrial complex IV deficiency, nuclear type 2 (OMIM:604377)</td><td style=\"text-align: left;\"><ul> <li>NM_005138.3:c.404A>G (heterozygous)</li> <li>NM_005138.3:c.512G>A (heterozygous)</li> </ul></td><td style=\"text-align: left;\">Lower limb muscle weakness (HP:0007340); Areflexia (HP:0001284); Impaired vibratory sensation (HP:0002495); Mixed demyelinating and axonal polyneuropathy (HP:0007327); Distal lower limb amyotrophy (HP:0008944); Pes planus (HP:0001763)</td></tr>\n",
       "<tr><td style=\"text-align: left;\">34746378_P1 (MALE; P48Y)</td><td style=\"text-align: left;\">Mitochondrial complex IV deficiency, nuclear type 2 (OMIM:604377)</td><td style=\"text-align: left;\"><ul> <li>NM_005138.3:c.179G>A (heterozygous)</li> <li>NM_005138.3:c.577G>A (heterozygous)</li> </ul></td><td style=\"text-align: left;\">Visual impairment (HP:0000505); Hemeralopia (HP:0012047); Memory impairment (HP:0002354); Lower limb pain (HP:0012514); Ataxia (HP:0001251); Areflexia (HP:0001284); Positive Romberg sign (HP:0002403); Hearing impairment (HP:0000365); Abnormal circulating creatine kinase concentration (HP:0040081); Abnormal cerebral white matter morphology (HP:0002500); Cerebral cortical atrophy (HP:0002120)</td></tr>\n",
       "<tr><td style=\"text-align: left;\">25525168_P1 (FEMALE; P32Y)</td><td style=\"text-align: left;\">Myopia 6 (OMIM:608908)</td><td style=\"text-align: left;\">NM_005138.3:c.334C>T (homozygous)</td><td style=\"text-align: left;\">Abnormal fundus morphology (HP:0001098); High myopia (HP:0011003)</td></tr>\n",
       "<tr><td style=\"text-align: left;\">25525168_P2 (FEMALE; P6Y)</td><td style=\"text-align: left;\">Myopia 6 (OMIM:608908)</td><td style=\"text-align: left;\">NM_005138.3:c.358C>T (homozygous)</td><td style=\"text-align: left;\">Abnormal fundus morphology (HP:0001098); High myopia (HP:0011003)</td></tr>\n",
       "<tr><td style=\"text-align: left;\">23364397_P1 (MALE; P4M)</td><td style=\"text-align: left;\">Mitochondrial complex IV deficiency, nuclear type 2 (OMIM:604377)</td><td style=\"text-align: left;\"><ul> <li>NM_005138.3:c.479T>C (heterozygous)</li> <li>NM_005138.3:c.697C>A (heterozygous)</li> </ul></td><td style=\"text-align: left;\">Malignant hyperthermia (HP:0002047)</td></tr>\n",
       "<tr><td style=\"text-align: left;\">23364397_P2 (MALE; P8M)</td><td style=\"text-align: left;\">Mitochondrial complex IV deficiency, nuclear type 2 (OMIM:604377)</td><td style=\"text-align: left;\"><ul> <li>NM_005138.3:c.479T>C (heterozygous)</li> <li>NM_005138.3:c.697C>A (heterozygous)</li> </ul></td><td style=\"text-align: left;\">Malignant hyperthermia (HP:0002047); Muscle weakness (HP:0001324); Neurodevelopmental delay (HP:0012758); Limb hypertonia (HP:0002509)</td></tr>\n",
       "<tr><td style=\"text-align: left;\">23364397_P3 (MALE; P9M)</td><td style=\"text-align: left;\">Mitochondrial complex IV deficiency, nuclear type 2 (OMIM:604377)</td><td style=\"text-align: left;\"><ul> <li>NM_005138.3:c.479T>C (heterozygous)</li> <li>NM_005138.3:c.697C>A (heterozygous)</li> </ul></td><td style=\"text-align: left;\">Malignant hyperthermia (HP:0002047)</td></tr>\n",
       "<tr><td style=\"text-align: left;\">23407777_P1 (FEMALE; P1M)</td><td style=\"text-align: left;\">Mitochondrial complex IV deficiency, nuclear type 2 (OMIM:604377)</td><td style=\"text-align: left;\"><ul> <li>NM_005138.3:c.418G>A (heterozygous)</li> <li>NM_005138.3:c.402_413del (heterozygous)</li> </ul></td><td style=\"text-align: left;\">Inspiratory stridor (HP:0005348); Neonatal hypotonia (HP:0001319); Upper limb hypertonia (HP:0200049); Cardiomegaly (HP:0001640); Respiratory insufficiency due to muscle weakness (HP:0002747); Lactic acidosis (HP:0003128); Peripheral axonal neuropathy (HP:0003477)</td></tr>\n",
       "<tr><td style=\"text-align: left;\">10805329_P1 (MALE; P1M)</td><td style=\"text-align: left;\">Mitochondrial complex IV deficiency, nuclear type 2 (OMIM:604377)</td><td style=\"text-align: left;\"><ul> <li>NM_005138.3:c.157C>T (heterozygous)</li> <li>NM_005138.3:c.418G>A (heterozygous)</li> </ul></td><td style=\"text-align: left;\">Respiratory distress (HP:0002098); Metabolic acidosis (HP:0001942); Respiratory failure requiring assisted ventilation (HP:0004887); Hypotonia (HP:0001252); Hyporeflexia (HP:0001265); Nystagmus (HP:0000639); Limb dystonia (HP:0002451); Abnormal facial shape (HP:0001999); Peripheral neuropathy (HP:0009830); EMG: myopathic abnormalities (HP:0003458); Hypertrophic cardiomyopathy (HP:0001639); Congestive heart failure (HP:0001635); Cardiorespiratory arrest (HP:0006543)</td></tr>\n",
       "<tr><td style=\"text-align: left;\">10805329_P2 (FEMALE; P1M)</td><td style=\"text-align: left;\">Mitochondrial complex IV deficiency, nuclear type 2 (OMIM:604377)</td><td style=\"text-align: left;\"><ul> <li>NM_005138.3:c.157C>T (heterozygous)</li> <li>NM_005138.3:c.418G>A (heterozygous)</li> </ul></td><td style=\"text-align: left;\">Respiratory distress (HP:0002098); Metabolic acidosis (HP:0001942); Respiratory failure requiring assisted ventilation (HP:0004887); Hypotonia (HP:0001252); Hyporeflexia (HP:0001265); Nystagmus (HP:0000639); Limb dystonia (HP:0002451); Abnormal facial shape (HP:0001999); Peripheral neuropathy (HP:0009830); EMG: myopathic abnormalities (HP:0003458); Hypertrophic cardiomyopathy (HP:0001639); Congestive heart failure (HP:0001635); Cardiorespiratory arrest (HP:0006543)</td></tr>\n",
       "<tr><td style=\"text-align: left;\">10805329_P3 (FEMALE; P1M)</td><td style=\"text-align: left;\">Mitochondrial complex IV deficiency, nuclear type 2 (OMIM:604377)</td><td style=\"text-align: left;\"><ul> <li>NM_005138.3:c.418G>A (heterozygous)</li> <li>NM_005138.3:c.674C>T (heterozygous)</li> </ul></td><td style=\"text-align: left;\">Respiratory distress (HP:0002098); Metabolic acidosis (HP:0001942); Respiratory failure requiring assisted ventilation (HP:0004887); Hypotonia (HP:0001252); Hyporeflexia (HP:0001265); Nystagmus (HP:0000639); Limb dystonia (HP:0002451); Abnormal facial shape (HP:0001999); Peripheral neuropathy (HP:0009830); EMG: myopathic abnormalities (HP:0003458); Hypertrophic cardiomyopathy (HP:0001639); Congestive heart failure (HP:0001635); Cardiorespiratory arrest (HP:0006543)</td></tr>\n",
       "<tr><td style=\"text-align: left;\">20159436_P1 (MALE; P3W)</td><td style=\"text-align: left;\">Mitochondrial complex IV deficiency, nuclear type 2 (OMIM:604377)</td><td style=\"text-align: left;\"><ul> <li>NM_005138.3:c.418G>A (heterozygous)</li> <li>NM_005138.3:c.16_17insAGCATGCAGCAGTGACTCA (heterozygous)</li> </ul></td><td style=\"text-align: left;\">Failure to thrive (HP:0001508); Hypotonia (HP:0001252); Hepatomegaly (HP:0002240); Apathy (HP:0000741); Jaundice (HP:0000952); Wide nasal bridge (HP:0000431); Microretrognathia (HP:0000308); Hypertrophic cardiomyopathy (HP:0001639); Lactic acidosis (HP:0003128); Feeding difficulties (HP:0011968); Respiratory failure requiring assisted ventilation (HP:0004887); Focal T2 hyperintense basal ganglia lesion (HP:0007183); Abnormal brainstem MRI signal intensity (HP:0012747)</td></tr>\n",
       "<tr><td style=\"text-align: left;\">14994243_P1 (MALE; P1D)</td><td style=\"text-align: left;\">Mitochondrial complex IV deficiency, nuclear type 2 (OMIM:604377)</td><td style=\"text-align: left;\"><ul> <li>NM_005138.3:c.418G>A (heterozygous)</li> <li>NM_005138.3:c.398G>A (heterozygous)</li> </ul></td><td style=\"text-align: left;\">Stridor (HP:0010307); Hypotonia (HP:0001252); Respiratory failure requiring assisted ventilation (HP:0004887); Areflexia (HP:0001284); Lactic acidosis (HP:0003128); Right ventricular hypertrophy (HP:0001667)</td></tr>\n",
       "<tr><td style=\"text-align: left;\">15210538_P1 (FEMALE; P1D)</td><td style=\"text-align: left;\">Mitochondrial complex IV deficiency, nuclear type 2 (OMIM:604377)</td><td style=\"text-align: left;\"><ul> <li>NM_005138.3:c.418G>A (heterozygous)</li> <li>NM_005138.3:c.157C>T (heterozygous)</li> </ul></td><td style=\"text-align: left;\">Hypotonia (HP:0001252); Heart murmur (HP:0030148); Respiratory distress (HP:0002098); Respiratory failure requiring assisted ventilation (HP:0004887); Lactic acidosis (HP:0003128); Hypertrophic cardiomyopathy (HP:0001639)</td></tr>\n",
       "<tr><td style=\"text-align: left;\">15499950_P1 (MALE; P3M)</td><td style=\"text-align: left;\">Mitochondrial complex IV deficiency, nuclear type 2 (OMIM:604377)</td><td style=\"text-align: left;\">NM_005138.3:c.418G>A (homozygous)</td><td style=\"text-align: left;\">Inspiratory stridor (HP:0005348); Hypotonia (HP:0001252); Encephalopathy (HP:0001298); Microcephaly (HP:0000252)</td></tr>\n",
       "<tr><td style=\"text-align: left;\">15499950_P2 (MALE; P6M)</td><td style=\"text-align: left;\">Mitochondrial complex IV deficiency, nuclear type 2 (OMIM:604377)</td><td style=\"text-align: left;\">NM_005138.3:c.418G>A (homozygous)</td><td style=\"text-align: left;\">Encephalopathy (HP:0001298); Hypotonia (HP:0001252); Hypertrophic cardiomyopathy (HP:0001639)</td></tr>\n",
       "<tr><td style=\"text-align: left;\">15499950_P3 (MALE; P4M)</td><td style=\"text-align: left;\">Mitochondrial complex IV deficiency, nuclear type 2 (OMIM:604377)</td><td style=\"text-align: left;\">NM_005138.3:c.418G>A (homozygous)</td><td style=\"text-align: left;\">Inspiratory stridor (HP:0005348); Hypotonia (HP:0001252); Encephalopathy (HP:0001298); Brain atrophy (HP:0012444)</td></tr>\n",
       "<tr><td style=\"text-align: left;\">15499950_P4 (MALE; P6M)</td><td style=\"text-align: left;\">Mitochondrial complex IV deficiency, nuclear type 2 (OMIM:604377)</td><td style=\"text-align: left;\">NM_005138.3:c.418G>A (homozygous)</td><td style=\"text-align: left;\">Inspiratory stridor (HP:0005348); Hypotonia (HP:0001252); Encephalopathy (HP:0001298); Brain atrophy (HP:0012444)</td></tr>\n",
       "<tr><td style=\"text-align: left;\">15499950_P5 (MALE; P5M)</td><td style=\"text-align: left;\">Mitochondrial complex IV deficiency, nuclear type 2 (OMIM:604377)</td><td style=\"text-align: left;\">NM_005138.3:c.418G>A (homozygous)</td><td style=\"text-align: left;\">Hypertonia (HP:0001276); Encephalopathy (HP:0001298); Brain atrophy (HP:0012444)</td></tr>\n",
       "<tr><td style=\"text-align: left;\">15499950_P6 (MALE; P1D)</td><td style=\"text-align: left;\">Mitochondrial complex IV deficiency, nuclear type 2 (OMIM:604377)</td><td style=\"text-align: left;\"><ul> <li>NM_005138.3:c.418G>A (heterozygous)</li> <li>NM_005138.3:c.157C>T (heterozygous)</li> </ul></td><td style=\"text-align: left;\">Encephalopathy (HP:0001298); Hypotonia (HP:0001252); Hypertrophic cardiomyopathy (HP:0001639); Brain atrophy (HP:0012444)</td></tr>\n",
       "<tr><td style=\"text-align: left;\">16765077_P1 (MALE; P1D)</td><td style=\"text-align: left;\">Mitochondrial complex IV deficiency, nuclear type 2 (OMIM:604377)</td><td style=\"text-align: left;\">NM_005138.3:c.418G>A (homozygous)</td><td style=\"text-align: left;\">Respiratory failure requiring assisted ventilation (HP:0004887); Feeding difficulties (HP:0011968); Ptosis (HP:0000508); Muscle weakness (HP:0001324); Hypertrophic cardiomyopathy (HP:0001639); Lactic acidosis (HP:0003128); Peripheral neuropathy (HP:0009830); Intrauterine growth retardation (HP:0001511)</td></tr>\n",
       "<tr><td style=\"text-align: left;\">17187620_P1 (FEMALE; P4W)</td><td style=\"text-align: left;\">Mitochondrial complex IV deficiency, nuclear type 2 (OMIM:604377)</td><td style=\"text-align: left;\"><ul> <li>NM_005138.3:c.418G>A (heterozygous)</li> <li>NM_005138.3:c.479T>G (heterozygous)</li> </ul></td><td style=\"text-align: left;\">Hypotonia (HP:0001252); Tachypnea (HP:0002789); Respiratory failure requiring assisted ventilation (HP:0004887); Dyspnea (HP:0002094); Hypertrophic cardiomyopathy (HP:0001639); Encephalopathy (HP:0001298); Neutropenia (HP:0001875)</td></tr>\n",
       "<tr><td style=\"text-align: left;\">18924171_P1 (MALE; P1D)</td><td style=\"text-align: left;\">Mitochondrial complex IV deficiency, nuclear type 2 (OMIM:604377)</td><td style=\"text-align: left;\"><ul> <li>NM_005138.3:c.418G>A (heterozygous)</li> <li>NM_005138.3:c.107G>A (heterozygous)</li> </ul></td><td style=\"text-align: left;\">Bradycardia (HP:0001662); Hypotonia (HP:0001252); Inspiratory stridor (HP:0005348); Respiratory failure requiring assisted ventilation (HP:0004887); Muscle weakness (HP:0001324); Vocal cord paralysis (HP:0001605); Areflexia (HP:0001284); Hypertrophic cardiomyopathy (HP:0001639); Abnormal brainstem morphology (HP:0002363); Abnormal periventricular white matter morphology (HP:0002518); Abnormal corpus callosum morphology (HP:0001273)</td></tr>\n",
       "<tr><td style=\"text-align: left;\">19353847_P1 (FEMALE; P1D)</td><td style=\"text-align: left;\">Mitochondrial complex IV deficiency, nuclear type 2 (OMIM:604377)</td><td style=\"text-align: left;\">NM_005138.3:c.577G>A (homozygous)</td><td style=\"text-align: left;\">Intrauterine growth retardation (HP:0001511)</td></tr>\n",
       "<tr><td style=\"text-align: left;\">23643385_P1 (UNKNOWN; )</td><td style=\"text-align: left;\">Myopia 6 (OMIM:608908)</td><td style=\"text-align: left;\">NM_005138.3:c.157C>T (homozygous)</td><td style=\"text-align: left;\">High myopia (HP:0011003)</td></tr>\n",
       "<tr><td style=\"text-align: left;\">23643385_P2 (UNKNOWN; )</td><td style=\"text-align: left;\">Myopia 6 (OMIM:608908)</td><td style=\"text-align: left;\">NM_005138.3:c.341G>A (homozygous)</td><td style=\"text-align: left;\">High myopia (HP:0011003)</td></tr>\n",
       "<tr><td style=\"text-align: left;\">23643385_P3 (UNKNOWN; )</td><td style=\"text-align: left;\">Myopia 6 (OMIM:608908)</td><td style=\"text-align: left;\">NM_005138.3:c.418G>A (homozygous)</td><td style=\"text-align: left;\">High myopia (HP:0011003)</td></tr>\n",
       "<tr><td style=\"text-align: left;\">23643385_P4 (UNKNOWN; )</td><td style=\"text-align: left;\">Myopia 6 (OMIM:608908)</td><td style=\"text-align: left;\">NM_005138.3:c.776C>T (homozygous)</td><td style=\"text-align: left;\">High myopia (HP:0011003)</td></tr>\n",
       "<tr><td style=\"text-align: left;\">10749987_P1 (MALE; P1D)</td><td style=\"text-align: left;\">Mitochondrial complex IV deficiency, nuclear type 2 (OMIM:604377)</td><td style=\"text-align: left;\"><ul> <li>NM_005138.3:c.418G>A (heterozygous)</li> <li>NM_005138.3:c.511C>T (heterozygous)</li> </ul></td><td style=\"text-align: left;\">Hypertrophic cardiomyopathy (HP:0001639); Seizure (HP:0001250); Hypotonia (HP:0001252); Respiratory failure (HP:0002878)</td></tr>\n",
       "<tr><td style=\"text-align: left;\">10749987_P2 (MALE; P1D)</td><td style=\"text-align: left;\">Mitochondrial complex IV deficiency, nuclear type 2 (OMIM:604377)</td><td style=\"text-align: left;\"><ul> <li>NM_005138.3:c.418G>A (heterozygous)</li> <li>NM_005138.3:c.268C>T (heterozygous)</li> </ul></td><td style=\"text-align: left;\">Hypertrophic cardiomyopathy (HP:0001639); Seizure (HP:0001250); Hypotonia (HP:0001252); Respiratory failure (HP:0002878)</td></tr>\n",
       "<tr><td style=\"text-align: left;\">10749987_P3 (MALE; P1D)</td><td style=\"text-align: left;\">Mitochondrial complex IV deficiency, nuclear type 2 (OMIM:604377)</td><td style=\"text-align: left;\"><ul> <li>NM_005138.3:c.418G>A (heterozygous)</li> <li>NM_005138.3:c.268C>T (heterozygous)</li> </ul></td><td style=\"text-align: left;\">Hypertrophic cardiomyopathy (HP:0001639); Seizure (HP:0001250); Hypotonia (HP:0001252); Respiratory failure (HP:0002878)</td></tr>\n",
       "</table>"
      ],
      "text/plain": [
       "<IPython.core.display.HTML object>"
      ]
     },
     "metadata": {},
     "output_type": "display_data"
    }
   ],
   "source": [
    "individuals = cvalidator.get_error_free_individual_list()\n",
    "table = PhenopacketTable(individual_list=individuals, metadata=metadata)\n",
    "display(HTML(table.to_html()))"
   ]
  },
  {
   "cell_type": "code",
   "execution_count": 23,
   "id": "a006ebcc-ce08-4235-9fd6-5cbfe1a1cb42",
   "metadata": {},
   "outputs": [
    {
     "name": "stdout",
     "output_type": "stream",
     "text": [
      "We output 36 GA4GH phenopackets to the directory phenopackets\n"
     ]
    }
   ],
   "source": [
    "MixedCohortEncoder.output_individuals_as_phenopackets(individual_list=individuals)"
   ]
  }
 ],
 "metadata": {
  "kernelspec": {
   "display_name": "Python 3 (ipykernel)",
   "language": "python",
   "name": "python3"
  },
  "language_info": {
   "codemirror_mode": {
    "name": "ipython",
    "version": 3
   },
   "file_extension": ".py",
   "mimetype": "text/x-python",
   "name": "python",
   "nbconvert_exporter": "python",
   "pygments_lexer": "ipython3",
   "version": "3.8.10"
  }
 },
 "nbformat": 4,
 "nbformat_minor": 5
}
