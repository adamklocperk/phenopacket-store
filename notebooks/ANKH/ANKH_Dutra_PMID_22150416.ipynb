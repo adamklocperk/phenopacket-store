{
 "cells": [
  {
   "cell_type": "markdown",
   "id": "d36b8f3b",
   "metadata": {},
   "source": [
    "<h1>ANKH: Dutra et al</h1>\n",
    "<p>Create phenopackets from <a href=\"https://pubmed.ncbi.nlm.nih.gov/22150416/\" target=\"__blank\">\n",
    "Dutra EH, et al., Two novel large ANKH deletion mutations in sporadic cases with craniometaphyseal dysplasia. \n",
    "Clin Genet. 2012;81(1):93-5</a></p>"
   ]
  },
  {
   "cell_type": "code",
   "execution_count": 1,
   "id": "6d6d5c1d",
   "metadata": {},
   "outputs": [
    {
     "name": "stdout",
     "output_type": "stream",
     "text": [
      "Using pyphetools version 0.9.1\n"
     ]
    }
   ],
   "source": [
    "import phenopackets as PPKt\n",
    "from google.protobuf.json_format import MessageToDict, MessageToJson, Parse, ParseDict\n",
    "import pandas as pd\n",
    "pd.set_option('display.max_colwidth', None) # show entire column contents, important!\n",
    "from collections import defaultdict\n",
    "from IPython.display import HTML, display\n",
    "from pyphetools.creation import *\n",
    "from pyphetools.validation import *\n",
    "from pyphetools.visualization import *\n",
    "import pyphetools\n",
    "print(f\"Using pyphetools version {pyphetools.__version__}\")"
   ]
  },
  {
   "cell_type": "code",
   "execution_count": 2,
   "id": "f1e6ac22",
   "metadata": {},
   "outputs": [],
   "source": [
    "PMID = \"PMID:22150416\"\n",
    "title = \"Two novel large ANKH deletion mutations in sporadic cases with craniometaphyseal dysplasia\"\n",
    "citation = Citation(pmid=PMID, title=title)\n",
    "parser = HpoParser()\n",
    "hpo_cr = parser.get_hpo_concept_recognizer()\n",
    "hpo_version = parser.get_version()\n",
    "hpo_ontology = parser.get_ontology()\n",
    "metadata = MetaData(created_by=\"ORCID:0000-0002-0736-9199\", citation=citation)\n",
    "metadata.default_versions_with_hpo(version=hpo_version)"
   ]
  },
  {
   "cell_type": "markdown",
   "id": "c9fbb8b1-b939-4af2-9084-f4804dd51ae0",
   "metadata": {},
   "source": [
    "# Patient 1\n",
    "\n",
    "From the original publication"
   ]
  },
  {
   "cell_type": "markdown",
   "id": "658ab0e2-9daf-4d24-8f71-5fa5872c1008",
   "metadata": {},
   "source": [
    "Female patient 1 (Fig. 1a) had acute-onset left facial nerve palsy and subacute upper airway obstruction at 10 weeks of age. At **8 months**, a temporal bone computed tomography (CT) revealed significant sclerosis of the skull base, which led to her diagnosis. At **9 months**, she was diagnosed with hearing loss bilaterally necessitating hearing aids. Ophthalmologic evaluation at 10 months noted poor visual fixation and tracking in her left eye, left exotropia, and primary optic atrophy. She developed nystagmus at **12 months** and subsequently had two episodes of orbital cellulitis. Progressive overgrowth of her inferior and middle turbinates prompted surgical resection to relieve obstruction, which was complicated by the marked density of the bone. By **17 months**, she had the eruption of six normal teeth with hypertrophic appearing gums. With length consistently about the 20th percentile (−1 SD), her head circumference measured 1.62, 2.54, 3.07, and 3.87 SDs above the mean for age at 4, 7, 10, and 17 months without hydrocephalus or narrowing of the foramen magnum. Alkaline phosphatase levels were persistently elevated, ranging from 427 to 1944 U/l (normal: 150–400). Other evaluations included normal total calcium levels, ionized calcium, which was normal at 1 week but elevated to 5.53 mg/dl (normal: 4.48–5.28) at 8 months, and phosphorus, which was 2.7 mg/dl (normal 4.5–6.7) at 2 months but normal at 8 months.\n",
    "Craniometaphyseal dysplasia (CMD) patient 1 presents with frontal bossing, macrocephaly, and a left facial palsy. Her distal femur and proximal tibia show typical metaphyseal flaring."
   ]
  },
  {
   "cell_type": "code",
   "execution_count": 3,
   "id": "effa887b-3095-4d4f-985a-a76a89608895",
   "metadata": {},
   "outputs": [],
   "source": [
    "pfeatures = []\n",
    "pfeatures.append(HpTerm(hpo_id=\"HP:0002148\", label=\"Hypophosphatemia\", observed=\"True\", onset=\"P0Y2M0D\"))\n",
    "pfeatures.append(HpTerm(hpo_id=\"HP:0002694\", label=\"Sclerosis of skull base\", observed=\"True\", onset=\"P0Y8M0D\"))\n",
    "pfeatures.append(HpTerm(hpo_id=\"HP:0003072\", label=\"Hypercalcemia\", observed=\"True\", onset=\"P0Y8M0D\"))\n",
    "pfeatures.append(HpTerm(hpo_id=\"HP:0000365\", label=\"Hearing impairment\", observed=\"True\", onset=\"P0Y9M0D\"))\n",
    "pfeatures.append(HpTerm(hpo_id=\"HP:0000577\", label=\"Exotropia\", observed=\"True\", onset=\"P0Y10M0D\"))\n",
    "pfeatures.append(HpTerm(hpo_id=\"HP:0000648\", label=\"Optic atrophy\", observed=\"True\", onset=\"P0Y10M0D\"))\n",
    "pfeatures.append(HpTerm(hpo_id=\"HP:0025405\", label=\"Visual fixation instability\", observed=\"True\", onset=\"P0Y10M0D\"))\n",
    "pfeatures.append(HpTerm(hpo_id=\"HP:0000639\", label=\"Nystagmus\", observed=\"True\", onset=\"P1Y0M0D\"))\n",
    "pfeatures.append(HpTerm(hpo_id=\"HP:0003155\", label=\"Elevated circulating alkaline phosphatase concentration\", observed=\"True\", onset=\"P1Y5M0D\"))\n",
    "pfeatures.append(HpTerm(hpo_id=\"HP:0010628\", label=\"Facial palsy\", observed=\"True\", onset=\"P1Y5M0D\"))\n",
    "pfeatures.append(HpTerm(hpo_id=\"HP:0002834\", label=\"Flared femoral metaphysis\", observed=\"True\", onset=\"P1Y5M0D\"))\n",
    "pfeatures.append(HpTerm(hpo_id=\"HP:0003015\", label=\"Flared metaphysis\", observed=\"True\", onset=\"P1Y5M0D\"))\n",
    "pfeatures.append(HpTerm(hpo_id=\"HP:0002007\", label=\"Frontal bossing\", observed=\"True\", onset=\"P1Y5M0D\"))\n",
    "pfeatures.append(HpTerm(hpo_id=\"HP:0000212\", label=\"Gingival overgrowth\", observed=\"True\", onset=\"P1Y5M0D\"))\n",
    "pfeatures.append(HpTerm(hpo_id=\"HP:0000238\", label=\"Hydrocephalus\", observed=\"False\", onset=\"P1Y5M0D\"))\n",
    "pfeatures.append(HpTerm(hpo_id=\"HP:0000256\", label=\"Macrocephaly\", observed=\"True\", onset=\"P1Y5M0D\"))\n",
    "pfeatures.append(HpTerm(hpo_id=\"HP:0002677\", label=\"Small foramen magnum\", observed=\"False\", onset=\"P1Y5M0D\"))\n",
    "individual_patient_1 = Individual(individual_id=\"patient 1\", sex=\"FEMALE\", hpo_terms=pfeatures, age=\"P1Y5M\")"
   ]
  },
  {
   "cell_type": "code",
   "execution_count": 4,
   "id": "aba09258-89ed-41fe-9c5f-b3deab7d831d",
   "metadata": {},
   "outputs": [],
   "source": [
    "cmd = Disease(disease_id=\"OMIM:123000\", disease_label=\"Craniometaphyseal dysplasia\")\n",
    "individual_patient_1.set_disease(disease=cmd)"
   ]
  },
  {
   "cell_type": "code",
   "execution_count": 5,
   "id": "6b70ed6f",
   "metadata": {},
   "outputs": [
    {
     "name": "stdout",
     "output_type": "stream",
     "text": [
      "https://rest.variantvalidator.org/VariantValidator/variantvalidator/hg38/NM_054027.6%3Ac.853_870del/NM_054027.6?content-type=application%2Fjson\n"
     ]
    },
    {
     "data": {
      "text/plain": [
       "'chr5:14745913CCGTATGGCATGTGACCCA>C'"
      ]
     },
     "execution_count": 5,
     "metadata": {},
     "output_type": "execute_result"
    }
   ],
   "source": [
    "# #BC014526\n",
    "# only one isoform, NM_054027.6 \n",
    "genome = 'hg38'\n",
    "transcript='NM_054027.6' # not mentioned in article, but should be correct since there are no alt starts\n",
    "varValidator = VariantValidator(genome_build=genome, transcript=transcript)\n",
    "var1 = varValidator.encode_hgvs(hgvs=\"c.853_870del\")\n",
    "var1.set_heterozygous()\n",
    "individual_patient_1.add_variant(var1.to_ga4gh_variant_interpretation())\n",
    "var1.to_string()"
   ]
  },
  {
   "cell_type": "markdown",
   "id": "8585f3fa",
   "metadata": {},
   "source": [
    "<h3>Patient 2</h3>"
   ]
  },
  {
   "cell_type": "markdown",
   "id": "0b915d93-eeda-4e59-abd3-7c618b90d9e7",
   "metadata": {},
   "source": [
    "Patient 2 (Fig. 1b) is a 5-year-old female who was evaluated for thickened calvarium and temporal bone with bony sclerosis of the internal auditory canals, cochleas, and semicircular canals, bilateral obliteration of mastoid air cells, and mixed bilateral hearing loss. Progressive hearing loss was diagnosed at **2 years of age**. At 5 years, height was 115.3 cm (95th centile) and head circumference was 54.5 cm (3.4 SD above the mean). She has macrocephaly, tall broad forehead, hypertelorism, telecanthus, epiblepharon, paranasal bossing, excess vertical face height, prominent maxillary alveolar ridge, and borderline low-set posteriorly rotated ears. Dental examination showed normal primary dentition with normal occlusion. Neurologic examination showed mild left facial palsy. Alkaline phosphatase was minimally elevated at 324 U/l (normal for age 93–309). Serum calcium was normal, 9.4 mg/dl (normal 8.9–10.4), as was phosphorus, 4.3 mg/dl (normal 3.0–6.0)."
   ]
  },
  {
   "cell_type": "code",
   "execution_count": 6,
   "id": "2bd5026f-7d94-4c45-9db2-0efaf79a079b",
   "metadata": {},
   "outputs": [],
   "source": [
    "pfeatures = []\n",
    "pfeatures.append(HpTerm(hpo_id=\"HP:0001730\", label=\"Progressive hearing impairment\", observed=\"True\", onset=\"P2Y0M0D\"))\n",
    "pfeatures.append(HpTerm(hpo_id=\"HP:0100529\", label=\"Abnormal blood phosphate concentration\", observed=\"False\", onset=\"P5Y0M0D\"))\n",
    "pfeatures.append(HpTerm(hpo_id=\"HP:0004363\", label=\"Abnormal circulating calcium concentration\", observed=\"False\", onset=\"P5Y0M0D\"))\n",
    "pfeatures.append(HpTerm(hpo_id=\"HP:0009085\", label=\"Alveolar ridge overgrowth\", observed=\"True\", onset=\"P5Y0M0D\"))\n",
    "pfeatures.append(HpTerm(hpo_id=\"HP:0004407\", label=\"Bony paranasal bossing\", observed=\"True\", onset=\"P5Y0M0D\"))\n",
    "pfeatures.append(HpTerm(hpo_id=\"HP:0000337\", label=\"Broad forehead\", observed=\"True\", onset=\"P5Y0M0D\"))\n",
    "pfeatures.append(HpTerm(hpo_id=\"HP:0003155\", label=\"Elevated circulating alkaline phosphatase concentration\", observed=\"True\", onset=\"P5Y0M0D\"))\n",
    "pfeatures.append(HpTerm(hpo_id=\"HP:0011225\", label=\"Epiblepharon\", observed=\"True\", onset=\"P5Y0M0D\"))\n",
    "pfeatures.append(HpTerm(hpo_id=\"HP:0000316\", label=\"Hypertelorism\", observed=\"True\", onset=\"P5Y0M0D\"))\n",
    "pfeatures.append(HpTerm(hpo_id=\"HP:0000276\", label=\"Long face\", observed=\"True\", onset=\"P5Y0M0D\"))\n",
    "pfeatures.append(HpTerm(hpo_id=\"HP:0000369\", label=\"Low-set ears\", observed=\"True\", onset=\"P5Y0M0D\"))\n",
    "pfeatures.append(HpTerm(hpo_id=\"HP:0000256\", label=\"Macrocephaly\", observed=\"True\", onset=\"P5Y0M0D\"))\n",
    "pfeatures.append(HpTerm(hpo_id=\"HP:0000410\", label=\"Mixed hearing impairment\", observed=\"True\", onset=\"P5Y0M0D\"))\n",
    "pfeatures.append(HpTerm(hpo_id=\"HP:0011386\", label=\"Narrow internal auditory canal\", observed=\"True\", onset=\"P5Y0M0D\"))\n",
    "pfeatures.append(HpTerm(hpo_id=\"HP:0000358\", label=\"Posteriorly rotated ears\", observed=\"True\", onset=\"P5Y0M0D\"))\n",
    "pfeatures.append(HpTerm(hpo_id=\"HP:0000506\", label=\"Telecanthus\", observed=\"True\", onset=\"P5Y0M0D\"))\n",
    "pfeatures.append(HpTerm(hpo_id=\"HP:0002684\", label=\"Thickened calvaria\", observed=\"True\", onset=\"P5Y0M0D\"))\n",
    "pfeatures.append(HpTerm(hpo_id=\"HP:0012799\", label=\"Unilateral facial palsy\", observed=\"True\", onset=\"P5Y0M0D\"))\n",
    "individual_Patient_2 = Individual(individual_id=\"Patient 2\", sex=\"MALE\", hpo_terms=pfeatures)"
   ]
  },
  {
   "cell_type": "code",
   "execution_count": 7,
   "id": "b184f9b4",
   "metadata": {},
   "outputs": [
    {
     "name": "stdout",
     "output_type": "stream",
     "text": [
      "https://rest.variantvalidator.org/VariantValidator/variantvalidator/hg38/NM_054027.6%3Ac.1178_1189del/NM_054027.6?content-type=application%2Fjson\n"
     ]
    },
    {
     "data": {
      "text/plain": [
       "'chr5:14713618GGTTTTCTTCAGT>G'"
      ]
     },
     "execution_count": 7,
     "metadata": {},
     "output_type": "execute_result"
    }
   ],
   "source": [
    "\"c1178-1189del\"\n",
    "genome = 'hg38'\n",
    "transcript='NM_054027.6' # not mentioned in article, but should be correct since there are no alt starts\n",
    "var2 = varValidator.encode_hgvs(hgvs=\"c.1178_1189del\")\n",
    "var2.set_heterozygous()\n",
    "individual_Patient_2.add_variant(var2)\n",
    "individual_Patient_2.set_disease(disease=cmd)\n",
    "var2.to_string()"
   ]
  },
  {
   "cell_type": "code",
   "execution_count": 8,
   "id": "28aafc15",
   "metadata": {},
   "outputs": [
    {
     "data": {
      "text/html": [
       "<h2>Cohort validation</h2>\n",
       "<p>Errors found with 1 of 2 phenopackets.</p>\n",
       "<table style=\"border: 2px solid black; align: \"left\">\n",
       "<caption>Error analysis</caption>\n",
       "<tr><th style=\"text-align: left;font-weight: bold;\">ID</th><th style=\"text-align: left;font-weight: bold;\">Level</th><th style=\"text-align: left;font-weight: bold;\">Category</th><th style=\"text-align: left;font-weight: bold;\">Message</th><th style=\"text-align: left;font-weight: bold;\">HPO Term</th></tr>\n",
       "<tr><td style=\"text-align: left;\">patient_1</td><td style=\"text-align: left;\">WARNING</td><td style=\"text-align: left;\">REDUNDANT</td><td style=\"text-align: left;\"><b>Flared metaphysis</b> is redundant because of <b>Flared femoral metaphysis</b></td><td style=\"text-align: left;\">Flared metaphysis (HP:0003015)</td></tr>\n",
       "</table>"
      ],
      "text/plain": [
       "<IPython.core.display.HTML object>"
      ]
     },
     "metadata": {},
     "output_type": "display_data"
    }
   ],
   "source": [
    "cohort = [individual_patient_1, individual_Patient_2]\n",
    "cvalidator = CohortValidator(cohort=cohort, ontology=hpo_ontology, min_hpo=1, allelic_requirement=AllelicRequirement.MONO_ALLELIC)\n",
    "qc = QcVisualizer(ontology=hpo_ontology, cohort_validator=cvalidator)\n",
    "display(HTML(qc.to_html()))"
   ]
  },
  {
   "cell_type": "markdown",
   "id": "6c9a2e20-5c77-434f-ac63-e43cae77f5bf",
   "metadata": {},
   "source": [
    "# Visualization"
   ]
  },
  {
   "cell_type": "code",
   "execution_count": 9,
   "id": "3f792b54-7fac-401c-8aba-812e7e8f03c3",
   "metadata": {},
   "outputs": [
    {
     "data": {
      "text/html": [
       "<table style=\"border: 2px solid black; align: \"left\">\n",
       "<caption>2 phenopackets - PMID:22150416 (n=2)</caption>\n",
       "<tr><th style=\"text-align: left;font-weight: bold;\">Individual</th><th style=\"text-align: left;font-weight: bold;\">Disease</th><th style=\"text-align: left;font-weight: bold;\">Genotype</th><th style=\"text-align: left;font-weight: bold;\">Phenotypic features</th></tr>\n",
       "<tr><td style=\"text-align: left;\">patient 1 (FEMALE; P1Y5M)</td><td style=\"text-align: left;\">Craniometaphyseal dysplasia (OMIM:123000)</td><td style=\"text-align: left;\">NM_054027.6:c.854_871del (heterozygous)</td><td style=\"text-align: left;\"><b>P0Y2M0D</b>: Hypophosphatemia (HP:0002148)<br/><b>P0Y8M0D</b>: Sclerosis of skull base (HP:0002694); Hypercalcemia (HP:0003072)<br/><b>P0Y9M0D</b>: Hearing impairment (HP:0000365)<br/><b>P0Y10M0D</b>: Exotropia (HP:0000577); Optic atrophy (HP:0000648); Visual fixation instability (HP:0025405)<br/><b>P1Y0M0D</b>: Nystagmus (HP:0000639)<br/><b>P1Y5M0D</b>: Elevated circulating alkaline phosphatase concentration (HP:0003155); Facial palsy (HP:0010628); Flared femoral metaphysis (HP:0002834); Frontal bossing (HP:0002007); Gingival overgrowth (HP:0000212); Hydrocephalus (HP:0000238); Macrocephaly (HP:0000256); Small foramen magnum (HP:0002677)</td></tr>\n",
       "<tr><td style=\"text-align: left;\">Patient 2 (MALE; )</td><td style=\"text-align: left;\">Craniometaphyseal dysplasia (OMIM:123000)</td><td style=\"text-align: left;\">NM_054027.6:c.1179_1190del (heterozygous)</td><td style=\"text-align: left;\"><b>P2Y0M0D</b>: Progressive hearing impairment (HP:0001730)<br/><b>P5Y0M0D</b>: Abnormal blood phosphate concentration (HP:0100529); Abnormal circulating calcium concentration (HP:0004363); Alveolar ridge overgrowth (HP:0009085); Bony paranasal bossing (HP:0004407); Broad forehead (HP:0000337); Elevated circulating alkaline phosphatase concentration (HP:0003155); Epiblepharon (HP:0011225); Hypertelorism (HP:0000316); Long face (HP:0000276); Low-set ears (HP:0000369); Macrocephaly (HP:0000256); Mixed hearing impairment (HP:0000410); Narrow internal auditory canal (HP:0011386); Posteriorly rotated ears (HP:0000358); Telecanthus (HP:0000506); Thickened calvaria (HP:0002684); Unilateral facial palsy (HP:0012799)</td></tr>\n",
       "</table>"
      ],
      "text/plain": [
       "<IPython.core.display.HTML object>"
      ]
     },
     "metadata": {},
     "output_type": "display_data"
    }
   ],
   "source": [
    "individuals = cvalidator.get_error_free_individual_list()\n",
    "table = PhenopacketTable(individual_list=individuals, metadata=metadata)\n",
    "display(HTML(table.to_html()))"
   ]
  },
  {
   "cell_type": "code",
   "execution_count": 10,
   "id": "84b6ad9a-bb9a-4e9f-ab3c-dacf73cadbe3",
   "metadata": {},
   "outputs": [
    {
     "name": "stdout",
     "output_type": "stream",
     "text": [
      "We output 2 GA4GH phenopackets to the directory phenopackets\n"
     ]
    }
   ],
   "source": [
    "Individual.output_individuals_as_phenopackets(individual_list=cohort,\n",
    "                                              metadata=metadata,\n",
    "                                              outdir=\"phenopackets\")"
   ]
  },
  {
   "cell_type": "code",
   "execution_count": 11,
   "id": "ffd7c8d9-9e5b-4331-9641-accf2bf41622",
   "metadata": {},
   "outputs": [],
   "source": [
    "# pxf validate --hpo=../hpo_data/hp.json *.json\n",
    "# showed no errors"
   ]
  },
  {
   "cell_type": "code",
   "execution_count": null,
   "id": "b36c9002-ce69-480a-91c7-d0ba598a2b5f",
   "metadata": {},
   "outputs": [],
   "source": []
  }
 ],
 "metadata": {
  "kernelspec": {
   "display_name": "ppt_venv",
   "language": "python",
   "name": "ppt_venv"
  },
  "language_info": {
   "codemirror_mode": {
    "name": "ipython",
    "version": 3
   },
   "file_extension": ".py",
   "mimetype": "text/x-python",
   "name": "python",
   "nbconvert_exporter": "python",
   "pygments_lexer": "ipython3",
   "version": "3.11.3"
  }
 },
 "nbformat": 4,
 "nbformat_minor": 5
}
