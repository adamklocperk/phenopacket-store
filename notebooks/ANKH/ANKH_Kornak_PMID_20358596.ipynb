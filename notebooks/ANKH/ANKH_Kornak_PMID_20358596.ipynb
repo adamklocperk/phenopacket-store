{
 "cells": [
  {
   "cell_type": "markdown",
   "id": "1be9b5c8",
   "metadata": {},
   "source": [
    "<H1>ANKH Kornak et al, PMID:20358596</H1>\n",
    "<p>This notebook imports data from <a href=\"https://pubmed.ncbi.nlm.nih.gov/20358596/\" target=\"__blank\">Kornak U, et al. Three novel mutations in the ANK membrane protein cause craniometaphyseal dysplasia with variable conductive hearing loss. Am J Med Genet A. 2010;152A(4):870-4</a></p>"
   ]
  },
  {
   "cell_type": "code",
   "execution_count": 1,
   "id": "7a58cb6d",
   "metadata": {},
   "outputs": [
    {
     "name": "stdout",
     "output_type": "stream",
     "text": [
      "Using pyphetools version 0.9.1\n"
     ]
    }
   ],
   "source": [
    "import pandas as pd\n",
    "pd.set_option('display.max_colwidth', None) # show entire column contents, important!\n",
    "from IPython.display import HTML, display\n",
    "from pyphetools.creation import *\n",
    "from pyphetools.validation import *\n",
    "from pyphetools.visualization import *\n",
    "import pyphetools\n",
    "print(f\"Using pyphetools version {pyphetools.__version__}\")"
   ]
  },
  {
   "cell_type": "code",
   "execution_count": 2,
   "id": "e5ec3f1d-7a69-455e-8c87-56e5cced16e7",
   "metadata": {},
   "outputs": [
    {
     "name": "stdout",
     "output_type": "stream",
     "text": [
      "HPO version 2023-10-09\n"
     ]
    }
   ],
   "source": [
    "PMID = \"PMID:20358596\"\n",
    "title = \"Three novel mutations in the ANK membrane protein cause craniometaphyseal dysplasia with variable conductive hearing loss\"\n",
    "citation = Citation(pmid=PMID, title=title)\n",
    "parser = HpoParser()\n",
    "hpo_cr = parser.get_hpo_concept_recognizer()\n",
    "hpo_version = parser.get_version()\n",
    "hpo_ontology = parser.get_ontology()\n",
    "metadata = MetaData(created_by=\"ORCID:0000-0002-0736-9199\", citation=citation)\n",
    "metadata.default_versions_with_hpo(version=hpo_version)\n",
    "\n",
    "print(f\"HPO version {hpo_version}\")\n",
    "\n",
    "cmd_disease = Disease(disease_id=\"OMIM:123000\", disease_label=\"Craniometaphyseal dysplasia\")"
   ]
  },
  {
   "cell_type": "markdown",
   "id": "f238de7d-b24a-4d43-91b7-f3f4668e7eaf",
   "metadata": {},
   "source": [
    "# Patient A\n",
    "\n",
    "This is a male child of unaffected, unrelated parents. He was born at full term with normal birth parameters of OFC 35 cm, weight 2,750 g, and length 48 cm. Apparent hypertelorism was evident at birth, together with a rigid neck, and wide alveolar ridges. Bilateral facial palsy was diagnosed soon after birth and respiratory problems with nasal obstruction and feeding difficulties manifested during the first months of life.\n",
    "\n",
    "# Age 1 year\n",
    "Skull hyperostosis and modeling defects of the femora were noted at the age of 1 year. Cranial MRI showed a structurally normal\n",
    "CNS, but evoked potentials showed impairment of cranial nerves IX, X, XI, and XII (Fig. 2a,b).\n",
    "\n",
    "# Age 30 months (2 years 6 months)\n",
    "A moderate conductive hearing loss was noted at the age of 30 months. \n",
    "At this age, radiographs of the long bones showed modifications of the metaphyseal shape\n",
    "\n",
    "# Age 6 years\n",
    "At the age of 6 years, his height was 115 cm (\u001850th centile) and skull circumference was 54 cm (>97th centile). Although the\n",
    "facial palsy resolved with age, the hearing loss worsened and at the age of 12 years he required a hearing aid. An altered shape of\n",
    "the middle ear cavity and the ossicles was noted on CT scans (images not available). He had malocclusion and crowding of the teeth. The\n",
    "parathyroid hormone (14 pg/ml, reference range 10–65 pg/ml) and vitamin D3 (11 pg/ml, reference range 10–30 pg/ml) levels were\n",
    "normal, while osteocalcin (82 ng/ml, reference range <70 ng/ml) and alkaline phosphatase levels (533 IU/L, reference range 125–\n",
    "410 IU/L) were high suggesting increased bone formation. Although the patient manifested behavioral and language difficulties, he met normal developmental milestones\n"
   ]
  },
  {
   "cell_type": "code",
   "execution_count": 3,
   "id": "768b3cba-7d5e-477b-bb9f-be0a29782b04",
   "metadata": {},
   "outputs": [],
   "source": [
    "pfeatures = []\n",
    "pfeatures.append(HpTerm(hpo_id=\"HP:0430025\", label=\"Bilateral facial palsy\", observed=\"True\", onset=\"P0Y0M1D\"))\n",
    "pfeatures.append(HpTerm(hpo_id=\"HP:0000187\", label=\"Broad alveolar ridges\", observed=\"True\", onset=\"P0Y0M1D\"))\n",
    "pfeatures.append(HpTerm(hpo_id=\"HP:0000316\", label=\"Hypertelorism\", observed=\"True\", onset=\"P0Y0M1D\"))\n",
    "pfeatures.append(HpTerm(hpo_id=\"HP:0011968\", label=\"Feeding difficulties\", observed=\"True\", onset=\"P0Y1M0D\"))\n",
    "pfeatures.append(HpTerm(hpo_id=\"HP:0004437\", label=\"Cranial hyperostosis\", observed=\"True\", onset=\"P1Y0M0D\"))\n",
    "pfeatures.append(HpTerm(hpo_id=\"HP:0000405\", label=\"Conductive hearing impairment\", observed=\"True\", onset=\"P2Y6M0D\"))\n",
    "pfeatures.append(HpTerm(hpo_id=\"HP:0000678\", label=\"Dental crowding\", observed=\"True\", onset=\"P6Y0M0D\"))\n",
    "pfeatures.append(HpTerm(hpo_id=\"HP:0000689\", label=\"Dental malocclusion\", observed=\"True\", onset=\"P6Y0M0D\"))\n",
    "pfeatures.append(HpTerm(hpo_id=\"HP:0003155\", label=\"Elevated circulating alkaline phosphatase concentration\", observed=\"True\", onset=\"P6Y0M0D\"))\n",
    "pfeatures.append(HpTerm(hpo_id=\"HP:0031428\", label=\"Increased circulating osteocalcin level\", observed=\"True\", onset=\"P6Y0M0D\"))\n",
    "pfeatures.append(HpTerm(hpo_id=\"HP:0000256\", label=\"Macrocephaly\", observed=\"True\", onset=\"P6Y0M0D\"))\n",
    "patient_A = Individual(individual_id=\"Patient A\", sex=\"MALE\", hpo_terms=pfeatures, age=\"P12Y\")"
   ]
  },
  {
   "cell_type": "markdown",
   "id": "7288a6c8",
   "metadata": {},
   "source": [
    "<H3>patient A</H3>"
   ]
  },
  {
   "cell_type": "code",
   "execution_count": 4,
   "id": "c02d02dd",
   "metadata": {},
   "outputs": [
    {
     "name": "stdout",
     "output_type": "stream",
     "text": [
      "https://rest.variantvalidator.org/VariantValidator/variantvalidator/hg38/NM_054027.6%3Ac.1015T>C/NM_054027.6?content-type=application%2Fjson\n"
     ]
    }
   ],
   "source": [
    "genome = 'hg38'\n",
    "transcript='NM_054027.6' # not mentioned in article, but should be correct since there are no alt starts\n",
    "varValidator = VariantValidator(genome_build=genome, transcript=transcript)\n",
    "varA = varValidator.encode_hgvs(hgvs=\"c.1015T>C\")\n",
    "varA.set_heterozygous()\n",
    "varA.to_string()\n",
    "patient_A.add_variant(varA)\n",
    "patient_A.set_disease(cmd_disease)"
   ]
  },
  {
   "cell_type": "markdown",
   "id": "1e6dcc5f",
   "metadata": {},
   "source": [
    "<h3>Patient B</h3>"
   ]
  },
  {
   "cell_type": "markdown",
   "id": "019f5b70-34cd-402c-bf41-65e29f9c5e9d",
   "metadata": {},
   "source": [
    "# Patient B\n",
    "\n",
    "# Age 2 months\n",
    "This male patient had an unremarkable family history and was diagnosed with CMD at the age of 24 years.\n",
    "Unilateral facial palsy was detected at age 2 months. During childhood, he came to medical attention because of macrocephaly.\n",
    "He had orthodontic braces because of crowding of teeth, with suboptimal effect.\n",
    "\n",
    "# Age 23 years\n",
    "At the age of 23 years, he presented with a\n",
    "progressive conductive and sensorineural hearing loss, mainly of\n",
    "the high tones and more pronounced on the left side. He had no\n",
    "nasal obstruction and he stated that his smell sensation was intact.\n",
    "Fundoscopy showed no signs of optic nerve atrophy. A CT scan of\n",
    "the os petrosum showed reduced pneumatization of the mastoid\n",
    "and diffuse hyperostosis and sclerosis of the skull base (Fig. 2d). In\n",
    "contrast, plain radiography showed only mild cranial involvement,\n",
    "but did show tubular remodeling and widened metaphyses of\n",
    "the long bones (Fig. 1d–f). Paranasal bossing, apparent hyper-\n",
    "telorism, and prognathism were evident. His height was 185 cm\n",
    "(75th–90th centile) (father: 176 cm (25th–50th centile); mother:\n",
    "172 cm (75th–90th centile)) and skull circumference 62 cm\n",
    "(>97th centile) (father: 60.5 cm (90th–97th centile); mother: 57 cm\n",
    "(75th–90th centile)). Lateral deviation of the distal phalanges of his\n",
    "third fingers and medial deviation of the distal phalanges of his\n",
    "fourth fingers were noted. He graduated from university in mathe-\n",
    "matics and chemistry."
   ]
  },
  {
   "cell_type": "code",
   "execution_count": 5,
   "id": "c87f810f-74a6-4e2d-8349-5968fbb4460d",
   "metadata": {},
   "outputs": [],
   "source": [
    "pfeatures = []\n",
    "pfeatures.append(HpTerm(hpo_id=\"HP:0000678\", label=\"Dental crowding\", observed=\"True\", onset=\"P0Y2M0D\"))\n",
    "pfeatures.append(HpTerm(hpo_id=\"HP:0000256\", label=\"Macrocephaly\", observed=\"True\", onset=\"P0Y2M0D\"))\n",
    "pfeatures.append(HpTerm(hpo_id=\"HP:0012799\", label=\"Unilateral facial palsy\", observed=\"True\", onset=\"P0Y2M0D\"))\n",
    "pfeatures.append(HpTerm(hpo_id=\"HP:0000405\", label=\"Conductive hearing impairment\", observed=\"True\", onset=\"P23Y0M0D\"))\n",
    "pfeatures.append(HpTerm(hpo_id=\"HP:0004437\", label=\"Cranial hyperostosis\", observed=\"True\", onset=\"P23Y0M0D\"))\n",
    "pfeatures.append(HpTerm(hpo_id=\"HP:0005906\", label=\"Delayed pneumatization of the mastoid process\", observed=\"True\", onset=\"P23Y0M0D\"))\n",
    "pfeatures.append(HpTerm(hpo_id=\"HP:0000316\", label=\"Hypertelorism\", observed=\"True\", onset=\"P23Y0M0D\"))\n",
    "pfeatures.append(HpTerm(hpo_id=\"HP:0000303\", label=\"Mandibular prognathia\", observed=\"True\", onset=\"P23Y0M0D\"))\n",
    "pfeatures.append(HpTerm(hpo_id=\"HP:0003016\", label=\"Metaphyseal widening\", observed=\"True\", onset=\"P23Y0M0D\"))\n",
    "pfeatures.append(HpTerm(hpo_id=\"HP:0000648\", label=\"Optic atrophy\", observed=\"False\", onset=\"P23Y0M0D\"))\n",
    "pfeatures.append(HpTerm(hpo_id=\"HP:0002694\", label=\"Sclerosis of skull base\", observed=\"True\", onset=\"P23Y0M0D\"))\n",
    "pfeatures.append(HpTerm(hpo_id=\"HP:0000407\", label=\"Sensorineural hearing impairment\", observed=\"True\", onset=\"P23Y0M0D\"))\n",
    "patient_B = Individual(individual_id=\"Patient B\", sex=\"MALE\", hpo_terms=pfeatures)"
   ]
  },
  {
   "cell_type": "code",
   "execution_count": 6,
   "id": "62c93abe",
   "metadata": {},
   "outputs": [
    {
     "name": "stdout",
     "output_type": "stream",
     "text": [
      "https://rest.variantvalidator.org/VariantValidator/variantvalidator/hg38/NM_054027.6%3Ac.1172T>C/NM_054027.6?content-type=application%2Fjson\n"
     ]
    }
   ],
   "source": [
    "varB = varValidator.encode_hgvs(hgvs=\"c.1172T>C\")\n",
    "varB.set_heterozygous()\n",
    "varB.to_string()\n",
    "patient_B.add_variant(varB)\n",
    "patient_B.set_disease(cmd_disease)"
   ]
  },
  {
   "cell_type": "markdown",
   "id": "3e2c1768",
   "metadata": {},
   "source": [
    "# Patient C\n",
    "\n",
    "At examination, he was a 43-year-old man born from\n",
    "unrelated parents. Since early childhood, paranasal bossing and\n",
    "apparent hypertelorism were noted. Nasopharyngoscopy showed\n",
    "bilateral narrowing of nasal passages and posterior choanae due to\n",
    "bony overgrowth.\n",
    "\n",
    "Skull radiographs performed at 14 years of age\n",
    "showed hyperostosis (Fig. 1g,h). He had a delay in primary dentition and malocclusion. \n",
    "\n",
    "At age 30 years, he underwent multiple\n",
    "tooth extractions and implantations. The diagnosis of CMD was\n",
    "suggested at the age of 40 years based on clinical history, facial\n",
    "dysmorphism, and radiographic features including widening of the\n",
    "metaphyses with cortical thinning, more evident at the distal femurs\n",
    "(Fig. 1i). The patient underwent regular follow-up including yearly\n",
    "audiogram to monitor mild conductive deafness diagnosed at the\n",
    "age of 30 years by audiometry.\n",
    "\n",
    "At age 43 years, a cranial CT scan\n",
    "showed a thickened calvaria (Fig. 2c–f). At this time, he complained\n",
    "of tinnitus and worsening of hearing loss. High-resolution tempo-\n",
    "ral CT scan showed narrowing of the middle ear cavities with\n",
    "bilateral fixation of the body of the incus to the lateral attic wall\n",
    "(Fig. 2e). His final height was 168 cm (10th–25th centile)."
   ]
  },
  {
   "cell_type": "code",
   "execution_count": 7,
   "id": "1095a89d-65e1-4474-8c37-d4bc4ae24022",
   "metadata": {},
   "outputs": [],
   "source": [
    "pfeatures = []\n",
    "pfeatures.append(HpTerm(hpo_id=\"HP:0004407\", label=\"Bony paranasal bossing\", observed=\"True\", onset=\"P2Y0M0D\"))\n",
    "pfeatures.append(HpTerm(hpo_id=\"HP:0000452\", label=\"Choanal stenosis\", observed=\"True\", onset=\"P2Y0M0D\"))\n",
    "pfeatures.append(HpTerm(hpo_id=\"HP:0000316\", label=\"Hypertelorism\", observed=\"True\", onset=\"P2Y0M0D\"))\n",
    "pfeatures.append(HpTerm(hpo_id=\"HP:0004437\", label=\"Cranial hyperostosis\", observed=\"True\", onset=\"P14Y0M0D\"))\n",
    "pfeatures.append(HpTerm(hpo_id=\"HP:0000680\", label=\"Delayed eruption of primary teeth\", observed=\"True\", onset=\"P14Y0M0D\"))\n",
    "pfeatures.append(HpTerm(hpo_id=\"HP:0000689\", label=\"Dental malocclusion\", observed=\"True\", onset=\"P14Y0M0D\"))\n",
    "pfeatures.append(HpTerm(hpo_id=\"HP:0000405\", label=\"Conductive hearing impairment\", observed=\"True\", onset=\"P30Y0M0D\"))\n",
    "pfeatures.append(HpTerm(hpo_id=\"HP:0003016\", label=\"Metaphyseal widening\", observed=\"True\", onset=\"P30Y0M0D\"))\n",
    "pfeatures.append(HpTerm(hpo_id=\"HP:0002753\", label=\"Thin bony cortex\", observed=\"True\", onset=\"P30Y0M0D\"))\n",
    "pfeatures.append(HpTerm(hpo_id=\"HP:0002684\", label=\"Thickened calvaria\", observed=\"True\", onset=\"P43Y0M0D\"))\n",
    "pfeatures.append(HpTerm(hpo_id=\"HP:0000360\", label=\"Tinnitus\", observed=\"True\", onset=\"P43Y0M0D\"))\n",
    "patient_C = Individual(individual_id=\"Patient C\", sex=\"MALE\", hpo_terms=pfeatures, age=\"P43Y0M0D\")"
   ]
  },
  {
   "cell_type": "code",
   "execution_count": 8,
   "id": "c01bba72",
   "metadata": {},
   "outputs": [
    {
     "name": "stdout",
     "output_type": "stream",
     "text": [
      "https://rest.variantvalidator.org/VariantValidator/variantvalidator/hg38/NM_054027.6%3Ac.1001T>G/NM_054027.6?content-type=application%2Fjson\n"
     ]
    },
    {
     "data": {
      "text/plain": [
       "'chr5:14741837A>C'"
      ]
     },
     "execution_count": 8,
     "metadata": {},
     "output_type": "execute_result"
    }
   ],
   "source": [
    "varC = varValidator.encode_hgvs(hgvs=\"c.1001T>G\")\n",
    "varC.set_heterozygous()\n",
    "patient_C.add_variant(varC)\n",
    "patient_C.set_disease(cmd_disease)\n",
    "varC.to_string()"
   ]
  },
  {
   "cell_type": "markdown",
   "id": "1e77e6c4-b1c4-4670-a13e-13e355abb46e",
   "metadata": {},
   "source": [
    "# Validation"
   ]
  },
  {
   "cell_type": "code",
   "execution_count": 9,
   "id": "aaac877d-9cb8-4da0-a276-260c5450b51b",
   "metadata": {},
   "outputs": [
    {
     "data": {
      "text/html": [
       "<h2>Cohort validation</h2>\n",
       "<p>No errors found for the cohort with 3 individuals</p>"
      ],
      "text/plain": [
       "<IPython.core.display.HTML object>"
      ]
     },
     "metadata": {},
     "output_type": "display_data"
    }
   ],
   "source": [
    "cohort = [patient_A, patient_B, patient_C]\n",
    "cvalidator = CohortValidator(cohort=cohort, ontology=hpo_ontology, min_hpo=1, allelic_requirement=AllelicRequirement.MONO_ALLELIC)\n",
    "qc = QcVisualizer(ontology=hpo_ontology, cohort_validator=cvalidator)\n",
    "display(HTML(qc.to_html()))"
   ]
  },
  {
   "cell_type": "markdown",
   "id": "4ad1f9b8-7257-45d1-80bd-c59d18e810ce",
   "metadata": {},
   "source": [
    "# Visualization"
   ]
  },
  {
   "cell_type": "code",
   "execution_count": 10,
   "id": "03660121-2c9b-4c36-b957-ad190733fd59",
   "metadata": {},
   "outputs": [
    {
     "data": {
      "text/html": [
       "<table style=\"border: 2px solid black; align: \"left\">\n",
       "<caption>3 phenopackets - PMID:20358596 (n=3)</caption>\n",
       "<tr><th style=\"text-align: left;font-weight: bold;\">Individual</th><th style=\"text-align: left;font-weight: bold;\">Disease</th><th style=\"text-align: left;font-weight: bold;\">Genotype</th><th style=\"text-align: left;font-weight: bold;\">Phenotypic features</th></tr>\n",
       "<tr><td style=\"text-align: left;\">Patient A (MALE; P12Y)</td><td style=\"text-align: left;\">Craniometaphyseal dysplasia (OMIM:123000)</td><td style=\"text-align: left;\">NM_054027.6:c.1015T>C (heterozygous)</td><td style=\"text-align: left;\"><b>P0Y0M1D</b>: Bilateral facial palsy (HP:0430025); Broad alveolar ridges (HP:0000187); Hypertelorism (HP:0000316)<br/><b>P0Y1M0D</b>: Feeding difficulties (HP:0011968)<br/><b>P1Y0M0D</b>: Cranial hyperostosis (HP:0004437)<br/><b>P2Y6M0D</b>: Conductive hearing impairment (HP:0000405)<br/><b>P6Y0M0D</b>: Dental crowding (HP:0000678); Dental malocclusion (HP:0000689); Elevated circulating alkaline phosphatase concentration (HP:0003155); Increased circulating osteocalcin level (HP:0031428); Macrocephaly (HP:0000256)</td></tr>\n",
       "<tr><td style=\"text-align: left;\">Patient B (MALE; )</td><td style=\"text-align: left;\">Craniometaphyseal dysplasia (OMIM:123000)</td><td style=\"text-align: left;\">NM_054027.6:c.1172T>C (heterozygous)</td><td style=\"text-align: left;\"><b>P0Y2M0D</b>: Dental crowding (HP:0000678); Macrocephaly (HP:0000256); Unilateral facial palsy (HP:0012799)<br/><b>P23Y0M0D</b>: Conductive hearing impairment (HP:0000405); Cranial hyperostosis (HP:0004437); Delayed pneumatization of the mastoid process (HP:0005906); Hypertelorism (HP:0000316); Mandibular prognathia (HP:0000303); Metaphyseal widening (HP:0003016); Optic atrophy (HP:0000648); Sclerosis of skull base (HP:0002694); Sensorineural hearing impairment (HP:0000407)</td></tr>\n",
       "<tr><td style=\"text-align: left;\">Patient C (MALE; P43Y0M0D)</td><td style=\"text-align: left;\">Craniometaphyseal dysplasia (OMIM:123000)</td><td style=\"text-align: left;\">NM_054027.6:c.1001T>G (heterozygous)</td><td style=\"text-align: left;\"><b>P2Y0M0D</b>: Bony paranasal bossing (HP:0004407); Choanal stenosis (HP:0000452); Hypertelorism (HP:0000316)<br/><b>P14Y0M0D</b>: Cranial hyperostosis (HP:0004437); Delayed eruption of primary teeth (HP:0000680); Dental malocclusion (HP:0000689)<br/><b>P30Y0M0D</b>: Conductive hearing impairment (HP:0000405); Metaphyseal widening (HP:0003016); Thin bony cortex (HP:0002753)<br/><b>P43Y0M0D</b>: Thickened calvaria (HP:0002684); Tinnitus (HP:0000360)</td></tr>\n",
       "</table>"
      ],
      "text/plain": [
       "<IPython.core.display.HTML object>"
      ]
     },
     "metadata": {},
     "output_type": "display_data"
    }
   ],
   "source": [
    "table = PhenopacketTable(individual_list=cohort, metadata=metadata)\n",
    "display(HTML(table.to_html()))"
   ]
  },
  {
   "cell_type": "code",
   "execution_count": 11,
   "id": "56c098d8",
   "metadata": {},
   "outputs": [
    {
     "name": "stdout",
     "output_type": "stream",
     "text": [
      "We output 3 GA4GH phenopackets to the directory phenopackets\n"
     ]
    }
   ],
   "source": [
    "output_directory = \"phenopackets\"\n",
    "Individual.output_individuals_as_phenopackets(individual_list=cohort,\n",
    "                                             metadata=metadata,\n",
    "                                             outdir=output_directory)"
   ]
  },
  {
   "cell_type": "code",
   "execution_count": null,
   "id": "ae25b155-2b0b-41ac-9e84-8c8d8b16404c",
   "metadata": {},
   "outputs": [],
   "source": []
  }
 ],
 "metadata": {
  "kernelspec": {
   "display_name": "pstore_env",
   "language": "python",
   "name": "pstore_env"
  },
  "language_info": {
   "codemirror_mode": {
    "name": "ipython",
    "version": 3
   },
   "file_extension": ".py",
   "mimetype": "text/x-python",
   "name": "python",
   "nbconvert_exporter": "python",
   "pygments_lexer": "ipython3",
   "version": "3.11.3"
  }
 },
 "nbformat": 4,
 "nbformat_minor": 5
}
