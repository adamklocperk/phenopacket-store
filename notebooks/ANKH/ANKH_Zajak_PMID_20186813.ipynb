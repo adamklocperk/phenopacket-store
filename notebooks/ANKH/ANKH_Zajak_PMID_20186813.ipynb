{
 "cells": [
  {
   "cell_type": "markdown",
   "id": "b398a5b4",
   "metadata": {},
   "source": [
    "<H1>Zajak, Novel ANKH mutation in a patient with sporadic craniometaphyseal dysplasia</H1>\n",
    "<p>Data from <a href=\"https://pubmed.ncbi.nlm.nih.gov/20186813/\" target=\"__blank\">Zajac A, et al. Novel ANKH mutation in a patient with sporadic craniometaphyseal dysplasia. Am J Med Genet A. 2010 Mar;152A(3):770-6.</a>.</p>"
   ]
  },
  {
   "cell_type": "code",
   "execution_count": 1,
   "id": "35c332c7",
   "metadata": {},
   "outputs": [
    {
     "name": "stdout",
     "output_type": "stream",
     "text": [
      "Using pyphetools version 0.9.1\n"
     ]
    }
   ],
   "source": [
    "import pandas as pd\n",
    "pd.set_option('display.max_colwidth', None) # show entire column contents, important!\n",
    "from IPython.display import HTML, display\n",
    "from pyphetools.creation import *\n",
    "from pyphetools.validation import *\n",
    "from pyphetools.visualization import *\n",
    "import pyphetools\n",
    "print(f\"Using pyphetools version {pyphetools.__version__}\")"
   ]
  },
  {
   "cell_type": "code",
   "execution_count": 2,
   "id": "5ff37a52",
   "metadata": {},
   "outputs": [
    {
     "name": "stdout",
     "output_type": "stream",
     "text": [
      "HPO version 2023-10-09\n"
     ]
    }
   ],
   "source": [
    "PMID = \"PMID:20186813\"\n",
    "title = \"Novel ANKH mutation in a patient with sporadic craniometaphyseal dysplasia\"\n",
    "cite = Citation(pmid=PMID, title=title)\n",
    "parser = HpoParser()\n",
    "hpo_cr = parser.get_hpo_concept_recognizer()\n",
    "hpo_version = parser.get_version()\n",
    "hpo_ontology = parser.get_ontology()\n",
    "\n",
    "metadata = MetaData(created_by=\"ORCID:0000-0002-0736-9199\", citation=cite)\n",
    "metadata.default_versions_with_hpo(version=hpo_version)\n",
    "print(f\"HPO version {hpo_version}\")"
   ]
  },
  {
   "cell_type": "markdown",
   "id": "498e6a80-52d8-46b0-8920-6fb5dc565b8e",
   "metadata": {},
   "source": [
    "A 6-year-old male patient was initially evaluated in the Pediatric Plastic Surgery clinic for a progressively worsening facial deformity. He was born at full term by spontaneous vaginal delivery without prenatal or perinatal complications. \n",
    "\n",
    "His birth weight was 3.3 kg (∼35th centile) and his birth length was 45 cm (∼3rd centile). \n",
    "\n",
    "# 6 years\n",
    "At 6 years, his height was 118 cm (∼65th centile) and his weight was 19 kg (∼25th centile); at **9 years**, his height was 138 cm (∼75th centile) and his weight was 28.5 kg (∼50th centile). Clinically, he presented with a small nose, a wide and thickened bony nasal bridge, and prominent zygomatic arches (Fig 1A). Computerized tomographic (CT) scan of the skull showed multiple hyperostoses in the occipital calvarium, maxilla, mandible, and nasal bones, and bilateral obliteration of the maxillary sinus and mastoid air cells (data not shown). The patient presented with no apparent signs of middle ear dysfunction, sensorineural hearing loss, or vision loss. This was determined by tympanometry (Type A on both sides), pure tone audiometric air and bone conduction tests (0-15 dB at 250-8k Hz on both ears), speech audiometry (SRT of 8 dB on both ears), and visual acuity test (scored 20/20 for both eyes) performed at 9 years. The patient was in good overall health as well. A lateral radiograph of the patient's ankle showed mild broadening of the tibial metaphyseal plate (Fig 1B). A lateral radiograph of the skull, taken at 9 years (Fig 1C), also showed that the mineral density and thickness of the endosteal bony plate was significantly increased in the cranial vault and mandibular symphysis (Fig 1C). Dental records indicated that the patient's primary teeth were smaller than average and discolored. In a panoramic radiograph at 9 years, most of the primary teeth showed no root resorption nor delayed exfoliation, and further, the radiograph indicates that the permanent teeth were developing normally (Fig 1D). The alveolar bone showed significantly increased mineral density and a lack of typical trabecular bony architecture (Fig 1D). The patient's parents and sibling had no evident features similar to those observed in the patient, although they were not formally examined. Based on the clinical and radiographic examinations, the patient was given a clinical diagnosis of a sporadic form of craniometaphyseal dysplasia.\n",
    "An external file that holds a picture, illustration, etc. Object name is nihms220676f1.jpg\n",
    "Figure 1\n",
    "\n",
    "# 6 years\n",
    "Clinical and radiographic findings from a patient diagnosed with craniometaphyseal dysplasia. A. Lateral and frontal facial photographs taken at 6 years showed thickening and broadening of the nasal bridge. B. Lateral radiograph of the ankle taken at 6 years showed mild flaring of the tibial metaphyseal plate. \n",
    "\n",
    "# 9 years\n",
    "C. Lateral radiograph of the skull of the patient at 9 years showed hyperostosis of the cranial base, calvarial bones, facial bones, and the alveolar bone. Arrows point to increased endosteal bone density and thickness. D. Panoramic radiograph of developing dentition taken at 9 years showed delayed primary tooth root resorption and permanent tooth eruption. Asterisks point to alveolar bone and mandibular symphysis with unusually high mineral density and loss of typical trabecular bony architecture"
   ]
  },
  {
   "cell_type": "code",
   "execution_count": 3,
   "id": "4fbf0e4f-65d8-4452-a07d-54391621fdef",
   "metadata": {},
   "outputs": [],
   "source": [
    "pfeatures = []\n",
    "pfeatures.append(HpTerm(hpo_id=\"HP:0006413\", label=\"Broad tibial metaphyses\", observed=\"True\", onset=\"P9Y0M0D\"))\n",
    "pfeatures.append(HpTerm(hpo_id=\"HP:0004490\", label=\"Calvarial hyperostosis\", observed=\"True\", onset=\"P9Y0M0D\"))\n",
    "pfeatures.append(HpTerm(hpo_id=\"HP:0100774\", label=\"Hyperostosis\", observed=\"True\", onset=\"P9Y0M0D\"))\n",
    "pfeatures.append(HpTerm(hpo_id=\"HP:0012370\", label=\"Prominence of the zygomatic bone\", observed=\"True\", onset=\"P9Y0M0D\"))\n",
    "pfeatures.append(HpTerm(hpo_id=\"HP:0000426\", label=\"Prominent nasal bridge\", observed=\"True\", onset=\"P9Y0M0D\"))\n",
    "pfeatures.append(HpTerm(hpo_id=\"HP:0000407\", label=\"Sensorineural hearing impairment\", observed=\"False\", onset=\"P9Y0M0D\"))\n",
    "pfeatures.append(HpTerm(hpo_id=\"HP:0003196\", label=\"Short nose\", observed=\"True\", onset=\"P9Y0M0D\"))\n",
    "pfeatures.append(HpTerm(hpo_id=\"HP:0000572\", label=\"Visual loss\", observed=\"False\", onset=\"P9Y0M0D\"))\n",
    "pfeatures.append(HpTerm(hpo_id=\"HP:0000431\", label=\"Wide nasal bridge\", observed=\"True\", onset=\"P6Y0M0D\"))\n",
    "pfeatures.append(HpTerm(hpo_id=\"HP:0004437\", label=\"Cranial hyperostosis\", observed=\"True\", onset=\"P9Y0M0D\"))\n",
    "pfeatures.append(HpTerm(hpo_id=\"HP:0004437\", label=\"Cranial hyperostosis\", observed=\"True\", onset=\"P9Y0M0D\"))\n",
    "pfeatures.append(HpTerm(hpo_id=\"HP:0000696\", label=\"Delayed eruption of permanent teeth\", observed=\"True\", onset=\"P9Y0M0D\"))\n",
    "individual_patient = Individual(individual_id=\"patient\", sex=\"MALE\", hpo_terms=pfeatures, age=\"P12Y\")\n"
   ]
  },
  {
   "cell_type": "markdown",
   "id": "6f3cf149",
   "metadata": {},
   "source": [
    "<h2>The variant</h2>\n",
    "<p>The mutation was complex and consisted of two substitutions (c.936T>C, c.938C>G) and one deletion (c.942_953delTGGTTGACGGAA), predicting p.Tyr290Gln and p.Trp292_Glu295del separated by one amino acid (Fig 2D). </p>"
   ]
  },
  {
   "cell_type": "code",
   "execution_count": 4,
   "id": "77da31c5",
   "metadata": {},
   "outputs": [
    {
     "name": "stdout",
     "output_type": "stream",
     "text": [
      "https://rest.variantvalidator.org/VariantValidator/variantvalidator/hg38/NM_054027.6%3Ac.942_953del/NM_054027.6?content-type=application%2Fjson\n"
     ]
    },
    {
     "data": {
      "text/plain": [
       "'chr5:14741884TGTGTTGCTCGTG>T'"
      ]
     },
     "execution_count": 4,
     "metadata": {},
     "output_type": "execute_result"
    }
   ],
   "source": [
    "genome = 'hg38'\n",
    "transcript='NM_054027.6' # not mentioned in article, but should be correct since there are no alt starts\n",
    "varValidator = VariantValidator(genome_build=genome, transcript=transcript)\n",
    "varA = varValidator.encode_hgvs(hgvs=\"c.942_953del\")\n",
    "varA.set_heterozygous()\n",
    "varA.to_string()"
   ]
  },
  {
   "cell_type": "code",
   "execution_count": 5,
   "id": "87d4ba98",
   "metadata": {},
   "outputs": [],
   "source": [
    "cmd_disease = Disease(disease_id = \"OMIM:123000\", disease_label = \"Craniometaphyseal dysplasia\")\n",
    "individual_patient.add_variant(varA)\n",
    "individual_patient.set_disease(cmd_disease)"
   ]
  },
  {
   "cell_type": "markdown",
   "id": "6408c2ef-2be3-4ea8-9fa0-5db15ee76d29",
   "metadata": {},
   "source": [
    "# Validation"
   ]
  },
  {
   "cell_type": "code",
   "execution_count": 6,
   "id": "1e80c833-7bb7-4cbf-ab86-9364b659fb74",
   "metadata": {},
   "outputs": [
    {
     "data": {
      "text/html": [
       "<h2>Cohort validation</h2>\n",
       "<p>Errors found with 1 of 1 phenopackets.</p>\n",
       "<table style=\"border: 2px solid black; align: \"left\">\n",
       "<caption>Error analysis</caption>\n",
       "<tr><th style=\"text-align: left;font-weight: bold;\">ID</th><th style=\"text-align: left;font-weight: bold;\">Level</th><th style=\"text-align: left;font-weight: bold;\">Category</th><th style=\"text-align: left;font-weight: bold;\">Message</th><th style=\"text-align: left;font-weight: bold;\">HPO Term</th></tr>\n",
       "<tr><td style=\"text-align: left;\">patient</td><td style=\"text-align: left;\">WARNING</td><td style=\"text-align: left;\">REDUNDANT</td><td style=\"text-align: left;\"><b>Cranial hyperostosis</b> is listed multiple times</td><td style=\"text-align: left;\">Cranial hyperostosis (HP:0004437)</td></tr>\n",
       "<tr><td style=\"text-align: left;\">patient</td><td style=\"text-align: left;\">WARNING</td><td style=\"text-align: left;\">REDUNDANT</td><td style=\"text-align: left;\"><b>Cranial hyperostosis</b> is redundant because of <b>Calvarial hyperostosis</b></td><td style=\"text-align: left;\">Cranial hyperostosis (HP:0004437)</td></tr>\n",
       "<tr><td style=\"text-align: left;\">patient</td><td style=\"text-align: left;\">WARNING</td><td style=\"text-align: left;\">REDUNDANT</td><td style=\"text-align: left;\"><b>Hyperostosis</b> is redundant because of <b>Calvarial hyperostosis</b></td><td style=\"text-align: left;\">Hyperostosis (HP:0100774)</td></tr>\n",
       "</table>"
      ],
      "text/plain": [
       "<IPython.core.display.HTML object>"
      ]
     },
     "metadata": {},
     "output_type": "display_data"
    }
   ],
   "source": [
    "cohort = [individual_patient]\n",
    "cvalidator = CohortValidator(cohort=cohort, ontology=hpo_ontology, min_hpo=1, allelic_requirement=AllelicRequirement.MONO_ALLELIC)\n",
    "qc = QcVisualizer(ontology=hpo_ontology, cohort_validator=cvalidator)\n",
    "display(HTML(qc.to_html()))"
   ]
  },
  {
   "cell_type": "markdown",
   "id": "904ab6f3-6bbb-470e-9b59-1e08fd7bc38a",
   "metadata": {},
   "source": [
    "# Visualization"
   ]
  },
  {
   "cell_type": "code",
   "execution_count": 7,
   "id": "219ccfe0-643e-4d3c-9171-8fd42dd66689",
   "metadata": {},
   "outputs": [
    {
     "data": {
      "text/html": [
       "<table style=\"border: 2px solid black; align: \"left\">\n",
       "<caption>1 phenopacket - PMID:20186813 (n=1)</caption>\n",
       "<tr><th style=\"text-align: left;font-weight: bold;\">Individual</th><th style=\"text-align: left;font-weight: bold;\">Disease</th><th style=\"text-align: left;font-weight: bold;\">Genotype</th><th style=\"text-align: left;font-weight: bold;\">Phenotypic features</th></tr>\n",
       "<tr><td style=\"text-align: left;\">patient (MALE; P12Y)</td><td style=\"text-align: left;\">Craniometaphyseal dysplasia (OMIM:123000)</td><td style=\"text-align: left;\">NM_054027.6:c.942_953del (heterozygous)</td><td style=\"text-align: left;\"><b>P6Y0M0D</b>: Wide nasal bridge (HP:0000431)<br/><b>P9Y0M0D</b>: Delayed eruption of permanent teeth (HP:0000696); Broad tibial metaphyses (HP:0006413); Short nose (HP:0003196); Sensorineural hearing impairment (HP:0000407); Calvarial hyperostosis (HP:0004490); Prominence of the zygomatic bone (HP:0012370); Visual loss (HP:0000572); Prominent nasal bridge (HP:0000426)</td></tr>\n",
       "</table>"
      ],
      "text/plain": [
       "<IPython.core.display.HTML object>"
      ]
     },
     "metadata": {},
     "output_type": "display_data"
    }
   ],
   "source": [
    "cohort = cvalidator.get_error_free_individual_list()\n",
    "table = PhenopacketTable(individual_list=cohort, metadata=metadata)\n",
    "display(HTML(table.to_html()))"
   ]
  },
  {
   "cell_type": "code",
   "execution_count": 8,
   "id": "4000eb04-9ac0-4363-b049-7a1d3eda42d8",
   "metadata": {},
   "outputs": [
    {
     "name": "stdout",
     "output_type": "stream",
     "text": [
      "We output 1 GA4GH phenopackets to the directory phenopackets\n"
     ]
    }
   ],
   "source": [
    "output_directory = \"phenopackets\"\n",
    "Individual.output_individuals_as_phenopackets(individual_list=cohort,\n",
    "                                              metadata=metadata,\n",
    "                                              outdir=output_directory)"
   ]
  },
  {
   "cell_type": "code",
   "execution_count": null,
   "id": "de2af845-7e8a-4b32-b5de-c4bc8bf6435a",
   "metadata": {},
   "outputs": [],
   "source": []
  }
 ],
 "metadata": {
  "kernelspec": {
   "display_name": "pstore_env",
   "language": "python",
   "name": "pstore_env"
  },
  "language_info": {
   "codemirror_mode": {
    "name": "ipython",
    "version": 3
   },
   "file_extension": ".py",
   "mimetype": "text/x-python",
   "name": "python",
   "nbconvert_exporter": "python",
   "pygments_lexer": "ipython3",
   "version": "3.11.3"
  }
 },
 "nbformat": 4,
 "nbformat_minor": 5
}
