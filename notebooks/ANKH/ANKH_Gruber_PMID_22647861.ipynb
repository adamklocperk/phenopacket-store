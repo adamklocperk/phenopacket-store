{
 "cells": [
  {
   "cell_type": "markdown",
   "id": "01c16275",
   "metadata": {},
   "source": [
    "<H1>ANKH: Gruber et al., 2012</H1>\n",
    "<p>This notebook imports data from <a href=\"https://pubmed.ncbi.nlm.nih.gov/22647861/\" target=\"__blank\">Gruber BL, et al. Novel ANKH amino terminus mutation (Pro5Ser) associated with early-onset calcium pyrophosphate disease with associated phosphaturia. J Clin Rheumatol. 2012 Jun;18(4):192-5.</a></p>"
   ]
  },
  {
   "cell_type": "code",
   "execution_count": 1,
   "id": "91a7e599",
   "metadata": {},
   "outputs": [
    {
     "name": "stdout",
     "output_type": "stream",
     "text": [
      "Using pyphetools version 0.9.1\n"
     ]
    }
   ],
   "source": [
    "import pandas as pd\n",
    "pd.set_option('display.max_colwidth', None) # show entire column contents, important!\n",
    "from IPython.display import HTML, display\n",
    "from pyphetools.creation import *\n",
    "from pyphetools.validation import *\n",
    "from pyphetools.visualization import *\n",
    "import pyphetools\n",
    "print(f\"Using pyphetools version {pyphetools.__version__}\")"
   ]
  },
  {
   "cell_type": "markdown",
   "id": "a1a48efa",
   "metadata": {},
   "source": [
    "<h3>Setup pyphetools</h3>"
   ]
  },
  {
   "cell_type": "code",
   "execution_count": 2,
   "id": "116871c8",
   "metadata": {},
   "outputs": [
    {
     "name": "stdout",
     "output_type": "stream",
     "text": [
      "HPO version 2023-10-09\n"
     ]
    }
   ],
   "source": [
    "PMID = \"PMID:22647861\"\n",
    "title = \"Novel ANKH amino terminus mutation (Pro5Ser) associated with early-onset calcium pyrophosphate disease with associated phosphaturia\"\n",
    "citation = Citation(pmid=PMID, title=title)\n",
    "parser = HpoParser()\n",
    "hpo_cr = parser.get_hpo_concept_recognizer()\n",
    "hpo_version = parser.get_version()\n",
    "hpo_ontology = parser.get_ontology()\n",
    "age = \"P20Y\"\n",
    "metadata = MetaData(created_by=\"ORCID:0000-0002-0736-9199\", citation=citation)\n",
    "metadata.default_versions_with_hpo(version=hpo_version)\n",
    "print(f\"HPO version {hpo_version}\")"
   ]
  },
  {
   "cell_type": "markdown",
   "id": "c6fb812c-e954-4b5e-959f-5552cd42793e",
   "metadata": {},
   "source": [
    "# Age 22\n",
    "A 41-year-old woman presented as an outpatient with a history of onset of bilateral ankle swelling and pain dating back to age 20. The inflammatory attacks were self-limited, lasting days to weeks and recurring every few months. Subsequently, both knees became involved, and arthroscopy was performed at age 22, revealing extensive CC intraoperatively, with CPP crystals documented. Symptoms progressed despite treatment with colchicine and nonsteroidal anti-inflammatory drugs. Additional joint involvement included shoulders, elbows, and wrists with multiple attacks every few weeks. She also began to experience severe low back pain. Over the years, attacks became less self-limited and a chronic, polyarticular arthropathy evolved. Her family history is remarkable for 2 siblings and mother with no history of arthritis, although her father carried a presumptive diagnosis of severe (non–crystal-proven) gout, onset in middle age.\n",
    "\n",
    "# Age 42\n",
    "On presentation, examination revealed multiple swollen, warm, and markedly tender joints—including bilateral wrists, right shoulder with minimal range of motion, and bilateral ankle swelling. She was wheelchair bound, unable to ambulate or bear weight. An ankle aspiration revealed CPP crystals via compensated polarized microscopic analysis.\n",
    "\n",
    "Laboratory tests revealed normal complete blood cell count and metabolic panel including serum alkaline phosphatase, calcium (8.8 mg/dL), magnesium (1.9 mg/dL), urate (1.6 mg/dL), copper (122 μg/dL), ceruloplasmin (36 mg/dL), ferritin (31 ng/mL), 25-hydroxy vitamin D (28 ng/mL), and thyroid function tests. Serum phosphorus was decreased (1.9 mg/dL) and intact parathyroid hormonewas elevated (93 pg/mL; reference value, <65 pg/mL), indicating mild secondary hyperparathyroidism. The level of fibroblast growth factor-23 was not elevated (100 RU/mL; reference value, <180 RU/mL). The 24-hour urine collection revealed elevated calcium (437 mg/24 hr; reference value, <275 mg/24 hr) and phosphorus (1730 mg/24 hr; reference value, <1300 mg/24 hr) with normal creatinine (1860 mg/24 hr) and uric acid (600 mg/24 hr) excretion, with a calculated creatinine clearance of 110 mL/min.\n",
    "\n",
    "Radiographs of multiple regions revealed extensive CC of small and large joints within the articular cartilage and fibrocartilage, as well as along tendon insertions in the feet (Fig. 1). In addition, calcifications were observed throughout the spine within intervertebral disks (Fig. 1).\n",
    "\n",
    "A, Left wrist: calcification of multiple intercarpal ligaments, including scapholunate, lunate-triquetral, and triangulofibrocartilage (arrow). B, Right foot: dense calcification of the plantar fascia origin (arrow) and posterior ankle joint capsule. C, Right knee: dense calcification of fibrocartilage of medial and lateral meniscus; calcification of hyaline cartilage on lateral view (not shown). D, Lumbar spine: intradiscal calcification at L4–L5."
   ]
  },
  {
   "cell_type": "code",
   "execution_count": 3,
   "id": "63be57e0-faf3-4560-9dc0-09acde7285ae",
   "metadata": {},
   "outputs": [],
   "source": [
    "pfeatures = []\n",
    "pfeatures.append(HpTerm(hpo_id=\"HP:0030840\", label=\"Ankle pain\", observed=\"True\", onset=\"P22Y0M0D\"))\n",
    "pfeatures.append(HpTerm(hpo_id=\"HP:0001785\", label=\"Ankle swelling\", observed=\"True\", onset=\"P22Y0M0D\"))\n",
    "pfeatures.append(HpTerm(hpo_id=\"HP:0003419\", label=\"Low back pain\", observed=\"True\", onset=\"P22Y0M0D\"))\n",
    "pfeatures.append(HpTerm(hpo_id=\"HP:0005195\", label=\"Polyarticular arthropathy\", observed=\"True\", onset=\"P22Y0M0D\"))\n",
    "pfeatures.append(HpTerm(hpo_id=\"HP:0005017\", label=\"Polyarticular chondrocalcinosis\", observed=\"True\", onset=\"P22Y0M0D\"))\n",
    "pfeatures.append(HpTerm(hpo_id=\"HP:0001785\", label=\"Ankle swelling\", observed=\"True\", onset=\"P42Y0M0D\"))\n",
    "pfeatures.append(HpTerm(hpo_id=\"HP:0003165\", label=\"Elevated circulating parathyroid hormone level\", observed=\"True\", onset=\"P42Y0M0D\"))\n",
    "pfeatures.append(HpTerm(hpo_id=\"HP:0002150\", label=\"Hypercalciuria\", observed=\"True\", onset=\"P42Y0M0D\"))\n",
    "pfeatures.append(HpTerm(hpo_id=\"HP:0003109\", label=\"Hyperphosphaturia\", observed=\"True\", onset=\"P42Y0M0D\"))\n",
    "pfeatures.append(HpTerm(hpo_id=\"HP:0002148\", label=\"Hypophosphatemia\", observed=\"True\", onset=\"P42Y0M0D\"))\n",
    "pfeatures.append(HpTerm(hpo_id=\"HP:0000867\", label=\"Secondary hyperparathyroidism\", observed=\"True\", onset=\"P42Y0M0D\"))\n",
    "pfeatures.append(HpTerm(hpo_id=\"HP:0005645\", label=\"Intervertebral disk calcification\", observed=\"True\", onset=\"P42Y0M0D\"))\n",
    "individual_1 = Individual(individual_id=\"41-year-old woman\", sex=\"FEMALE\", hpo_terms=pfeatures)"
   ]
  },
  {
   "cell_type": "code",
   "execution_count": 4,
   "id": "657a06c0-81bd-4527-8c92-1b2e54f596e6",
   "metadata": {},
   "outputs": [],
   "source": [
    "individual_id = \"41-year-old woman\"\n",
    "sex = \"FEMALE\"\n",
    "age = \"P41Y\" \n",
    "cc2 = Disease(disease_id=\"OMIM:118600\", disease_label=\"Chondrocalcinosis 2\")\n",
    "individual_1.set_disease(cc2)"
   ]
  },
  {
   "cell_type": "code",
   "execution_count": 5,
   "id": "5eebfb6c",
   "metadata": {},
   "outputs": [
    {
     "name": "stdout",
     "output_type": "stream",
     "text": [
      "https://rest.variantvalidator.org/VariantValidator/variantvalidator/hg38/NM_054027.4%3Ac.13C>T/NM_054027.4?content-type=application%2Fjson\n"
     ]
    }
   ],
   "source": [
    "genome = 'hg38'\n",
    "transcript='NM_054027.4' # not mentioned in article, but should be correct since there are no alt starts\n",
    "varValidator = VariantValidator(genome_build=genome, transcript=transcript)\n",
    "var = varValidator.encode_hgvs(hgvs=\"c.13C>T\")\n",
    "var.set_heterozygous()\n",
    "var.to_string()\n",
    "individual_1.add_variant(var)"
   ]
  },
  {
   "cell_type": "code",
   "execution_count": 6,
   "id": "adb3684a",
   "metadata": {},
   "outputs": [
    {
     "data": {
      "text/html": [
       "<h2>Cohort validation</h2>\n",
       "<p>No errors found for the cohort with 1 individuals</p>"
      ],
      "text/plain": [
       "<IPython.core.display.HTML object>"
      ]
     },
     "metadata": {},
     "output_type": "display_data"
    }
   ],
   "source": [
    "cohort = [individual_1]\n",
    "cvalidator = CohortValidator(cohort=cohort, ontology=hpo_ontology, min_hpo=1, allelic_requirement=AllelicRequirement.MONO_ALLELIC)\n",
    "qc = QcVisualizer(ontology=hpo_ontology, cohort_validator=cvalidator)\n",
    "display(HTML(qc.to_html()))"
   ]
  },
  {
   "cell_type": "markdown",
   "id": "f9cba416-8abb-4d2a-ae1b-7e8eb6201d6e",
   "metadata": {},
   "source": [
    "# Visualization"
   ]
  },
  {
   "cell_type": "code",
   "execution_count": 7,
   "id": "3e086c38-4348-400d-9df3-29b6bc17c729",
   "metadata": {},
   "outputs": [
    {
     "data": {
      "text/html": [
       "<table style=\"border: 2px solid black; align: \"left\">\n",
       "<caption>1 phenopacket - PMID:22647861 (n=1)</caption>\n",
       "<tr><th style=\"text-align: left;font-weight: bold;\">Individual</th><th style=\"text-align: left;font-weight: bold;\">Disease</th><th style=\"text-align: left;font-weight: bold;\">Genotype</th><th style=\"text-align: left;font-weight: bold;\">Phenotypic features</th></tr>\n",
       "<tr><td style=\"text-align: left;\">41-year-old woman (FEMALE; )</td><td style=\"text-align: left;\">Chondrocalcinosis 2 (OMIM:118600)</td><td style=\"text-align: left;\">NM_054027.4:c.13C>T (heterozygous)</td><td style=\"text-align: left;\"><b>P22Y0M0D</b>: Ankle pain (HP:0030840); Ankle swelling (HP:0001785); Low back pain (HP:0003419); Polyarticular arthropathy (HP:0005195); Polyarticular chondrocalcinosis (HP:0005017)<br/><b>P42Y0M0D</b>: Ankle swelling (HP:0001785); Elevated circulating parathyroid hormone level (HP:0003165); Hypercalciuria (HP:0002150); Hyperphosphaturia (HP:0003109); Hypophosphatemia (HP:0002148); Secondary hyperparathyroidism (HP:0000867); Intervertebral disk calcification (HP:0005645)</td></tr>\n",
       "</table>"
      ],
      "text/plain": [
       "<IPython.core.display.HTML object>"
      ]
     },
     "metadata": {},
     "output_type": "display_data"
    }
   ],
   "source": [
    "table = PhenopacketTable(individual_list=cohort, metadata=metadata)\n",
    "display(HTML(table.to_html()))"
   ]
  },
  {
   "cell_type": "code",
   "execution_count": 8,
   "id": "76419e7e",
   "metadata": {},
   "outputs": [
    {
     "ename": "NameError",
     "evalue": "name 'encoder' is not defined",
     "output_type": "error",
     "traceback": [
      "\u001b[0;31m---------------------------------------------------------------------------\u001b[0m",
      "\u001b[0;31mNameError\u001b[0m                                 Traceback (most recent call last)",
      "Cell \u001b[0;32mIn[8], line 2\u001b[0m\n\u001b[1;32m      1\u001b[0m output_directory \u001b[38;5;241m=\u001b[39m \u001b[38;5;124m\"\u001b[39m\u001b[38;5;124mphenopackets\u001b[39m\u001b[38;5;124m\"\u001b[39m\n\u001b[0;32m----> 2\u001b[0m \u001b[43mencoder\u001b[49m\u001b[38;5;241m.\u001b[39moutput_phenopacket(outdir\u001b[38;5;241m=\u001b[39moutput_directory)\n",
      "\u001b[0;31mNameError\u001b[0m: name 'encoder' is not defined"
     ]
    }
   ],
   "source": [
    "output_directory = \"phenopackets\"\n",
    "encoder.output_phenopacket(outdir=output_directory)"
   ]
  },
  {
   "cell_type": "code",
   "execution_count": null,
   "id": "0c999498-1cfc-4001-b2db-00b0fdbe01b6",
   "metadata": {},
   "outputs": [],
   "source": [
    "# pxf validate --hpo=../hpo_data/hp.json  *.json\n",
    "# no errors found"
   ]
  }
 ],
 "metadata": {
  "kernelspec": {
   "display_name": "Python 3 (ipykernel)",
   "language": "python",
   "name": "python3"
  },
  "language_info": {
   "codemirror_mode": {
    "name": "ipython",
    "version": 3
   },
   "file_extension": ".py",
   "mimetype": "text/x-python",
   "name": "python",
   "nbconvert_exporter": "python",
   "pygments_lexer": "ipython3",
   "version": "3.11.3"
  }
 },
 "nbformat": 4,
 "nbformat_minor": 5
}
