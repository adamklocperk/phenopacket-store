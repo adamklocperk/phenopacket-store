{
 "cells": [
  {
   "cell_type": "markdown",
   "id": "4c6aa9f9-c0f4-41c5-91b8-515885423c70",
   "metadata": {},
   "source": [
    "<h1>ANKH Summary</h1>\n",
    "<p>This notebook provides a summary of the phenopackets created by the other notebooks in this folder.</p>"
   ]
  },
  {
   "cell_type": "code",
   "execution_count": 1,
   "id": "8755a993-c489-4546-9747-91cfb07697fa",
   "metadata": {},
   "outputs": [
    {
     "name": "stdout",
     "output_type": "stream",
     "text": [
      "Using pyphetools version 0.9.1\n"
     ]
    }
   ],
   "source": [
    "import pandas as pd\n",
    "pd.set_option('display.max_colwidth', None) # show entire column contents, important!\n",
    "from collections import defaultdict\n",
    "import hpotk\n",
    "from hpotk.ontology import Ontology\n",
    "from hpotk.ontology.load.obographs import load_ontology\n",
    "from pyphetools.creation import AllelicRequirement\n",
    "from pyphetools.visualization import *\n",
    "import importlib.metadata\n",
    "__version__ = importlib.metadata.version(\"pyphetools\")\n",
    "print(f\"Using pyphetools version {__version__}\")"
   ]
  },
  {
   "cell_type": "code",
   "execution_count": 2,
   "id": "99ac7c0f-11cd-4312-8909-9b663c919a73",
   "metadata": {},
   "outputs": [],
   "source": [
    "hpo: Ontology = load_ontology('http://purl.obolibrary.org/obo/hp.json')"
   ]
  },
  {
   "cell_type": "code",
   "execution_count": 3,
   "id": "d9f858b1-458c-4bb3-a8cc-4b3470b7c9e7",
   "metadata": {},
   "outputs": [
    {
     "name": "stdout",
     "output_type": "stream",
     "text": [
      "[pyphetools] Ingested 7 GA4GH phenopackets.\n"
     ]
    }
   ],
   "source": [
    "ingestor = PhenopacketIngestor(indir=\"phenopackets\")"
   ]
  },
  {
   "cell_type": "code",
   "execution_count": 8,
   "id": "c993a7d5-15a8-4359-b7e9-bccfaab8ceb0",
   "metadata": {},
   "outputs": [],
   "source": [
    "ppkt_d = ingestor.get_phenopacket_dictionary()\n",
    "ppkt_list = list(ppkt_d.values())\n",
    "# refactor visualization\n",
    "#table = PhenopacketTable(phenopacket_list=ppkt_list)\n",
    "#from IPython.display import HTML, display\n",
    "#display(HTML(table.to_html()))"
   ]
  },
  {
   "cell_type": "code",
   "execution_count": 9,
   "id": "a9ed4a44-0ce1-4a1f-9694-1811bc3146c2",
   "metadata": {},
   "outputs": [],
   "source": [
    "detailed_table = DetailedSupplTable(patient_d=ppkt_d, hp_ontology=hpo)"
   ]
  },
  {
   "cell_type": "code",
   "execution_count": 10,
   "id": "9588b6ae-57ce-4b4d-9746-f54c55441f17",
   "metadata": {},
   "outputs": [
    {
     "data": {
      "text/html": [
       "<table style=\"border: 2px solid black;\">\n",
       "\n",
       "<tr><th>HPO term</th><th>PMID:20358596</th><th>PMID:22150416</th><th>PMID:22647861</th><th>PMID:20186813</th></tr>\n",
       "<tr><td>Elevated circulating alkaline phosphatase concentration (HP:0003155)</td><td>1/3 (33.3%)</td><td>2/2 (100.0%)</td><td>0/1 (0.0%)</td><td>0/1 (0.0%)</td></tr>\n",
       "\n",
       "<tr><td>Hypophosphatemia (HP:0002148)</td><td>0/3 (0.0%)</td><td>1/2 (50.0%)</td><td>1/1 (100.0%)</td><td>0/1 (0.0%)</td></tr>\n",
       "\n",
       "<tr><td>Hypertelorism (HP:0000316)</td><td>2/3 (66.7%)</td><td>0/2 (0.0%)</td><td>0/1 (0.0%)</td><td>0/1 (0.0%)</td></tr>\n",
       "\n",
       "<tr><td>Cranial hyperostosis (HP:0004437)</td><td>1/3 (33.3%)</td><td>0/2 (0.0%)</td><td>0/1 (0.0%)</td><td>1/1 (100.0%)</td></tr>\n",
       "\n",
       "<tr><td>Conductive hearing impairment (HP:0000405)</td><td>2/3 (66.7%)</td><td>0/2 (0.0%)</td><td>0/1 (0.0%)</td><td>0/1 (0.0%)</td></tr>\n",
       "\n",
       "<tr><td>Dental malocclusion (HP:0000689)</td><td>2/3 (66.7%)</td><td>0/2 (0.0%)</td><td>0/1 (0.0%)</td><td>0/1 (0.0%)</td></tr>\n",
       "\n",
       "<tr><td>Sclerosis of skull base (HP:0002694)</td><td>1/3 (33.3%)</td><td>1/2 (50.0%)</td><td>0/1 (0.0%)</td><td>0/1 (0.0%)</td></tr>\n",
       "\n",
       "<tr><td>Hearing impairment (HP:0000365)</td><td>1/3 (33.3%)</td><td>1/2 (50.0%)</td><td>0/1 (0.0%)</td><td>0/1 (0.0%)</td></tr>\n",
       "\n",
       "<tr><td>Optic atrophy (HP:0000648)</td><td>1/3 (33.3%)</td><td>1/2 (50.0%)</td><td>0/1 (0.0%)</td><td>0/1 (0.0%)</td></tr>\n",
       "\n",
       "<tr><td>Macrocephaly (HP:0000256)</td><td>1/3 (33.3%)</td><td>1/2 (50.0%)</td><td>0/1 (0.0%)</td><td>0/1 (0.0%)</td></tr>\n",
       "\n",
       "<tr><td>Sensorineural hearing impairment (HP:0000407)</td><td>1/3 (33.3%)</td><td>0/2 (0.0%)</td><td>0/1 (0.0%)</td><td>1/1 (100.0%)</td></tr>\n",
       "\n",
       "<tr><td>Hyperostosis (HP:0100774)</td><td>2/3 (66.7%)</td><td>0/2 (0.0%)</td><td>0/1 (0.0%)</td><td>0/1 (0.0%)</td></tr>\n",
       "\n",
       "<tr><td>Metaphyseal widening (HP:0003016)</td><td>2/3 (66.7%)</td><td>0/2 (0.0%)</td><td>0/1 (0.0%)</td><td>0/1 (0.0%)</td></tr>\n",
       "\n",
       "</table>\n"
      ],
      "text/plain": [
       "<IPython.core.display.HTML object>"
      ]
     },
     "metadata": {},
     "output_type": "display_data"
    }
   ],
   "source": [
    "display(HTML(detailed_table.get_html_table_by_pmid(min_count=1)))"
   ]
  },
  {
   "cell_type": "code",
   "execution_count": null,
   "id": "ae49786a-cbb9-483a-be22-191ba7751da6",
   "metadata": {},
   "outputs": [],
   "source": []
  }
 ],
 "metadata": {
  "kernelspec": {
   "display_name": "pstore_env",
   "language": "python",
   "name": "pstore_env"
  },
  "language_info": {
   "codemirror_mode": {
    "name": "ipython",
    "version": 3
   },
   "file_extension": ".py",
   "mimetype": "text/x-python",
   "name": "python",
   "nbconvert_exporter": "python",
   "pygments_lexer": "ipython3",
   "version": "3.11.3"
  }
 },
 "nbformat": 4,
 "nbformat_minor": 5
}
