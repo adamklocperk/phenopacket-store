{
 "cells": [
  {
   "cell_type": "markdown",
   "id": "cd6b7421-26b3-4101-938e-352b358a60d9",
   "metadata": {},
   "source": [
    "# LMNA Lipodystrophy, familial partial, type 2 \n",
    "\n",
    "Data taken from [Xiao C, et al. (2023) The Clinical Characteristics and Potential Molecular Mechanism of LMNA Mutation-Related Lipodystrophy. Adv Biol (Weinh). 2023 Sep;7(9):e2200301. PMID:37303127](https://pubmed.ncbi.nlm.nih.gov/37303127/)\n",
    "\n",
    "The study included six individuals (with a male to female ratio of 1:2), with a mean age of onset of 18 ± 21.62 years and a mean age of diagnosis of 30.33 ± 22.87 years. All patients were presented with glucose intolerance or diabetes and insulin resistance. Five out of the six patients had hyperlipidemia, and two out of the six had fatty liver disease. Creatinine levels of all participants were within the normal range, with a mean value of 48.3 ± 21.7 μmol L−1 . However, we observed elevated levels of albuminuria in three out of six patients with T10I or R482W mutations, as indicated by a higher urine albumin-to-creatinine ratio (UACR),\n",
    "suggesting potential kidney injury in these patients. \n",
    "\n",
    "All six patients showed elevated postprandial in-\n",
    "sulin levels, with cases 3 and 4 having insulin levels greater than\n",
    "300 uIU mL−1 , indicating insulin resistance in all six patients.\n",
    "This was confirmed by homeostatic model assessment of insulin\n",
    "resistance (HOMA-IR) values. In terms of gonad involvement,\n",
    "one patient (case 2 with L59V mutation) was diagnosed with pre-\n",
    "mature ovarian failure without determined reasons, while an-\n",
    "other patient (case 4 with heterozygous R482W mutation) was di-\n",
    "agnosed with polycystic ovary syndrome (PCOS). \n"
   ]
  },
  {
   "cell_type": "code",
   "execution_count": 1,
   "id": "8d03679f-2295-4473-a0a7-baada8334cfb",
   "metadata": {},
   "outputs": [
    {
     "name": "stdout",
     "output_type": "stream",
     "text": [
      "Using pyphetools version 0.9.15\n"
     ]
    }
   ],
   "source": [
    "import pandas as pd\n",
    "pd.set_option('display.max_colwidth', None) # show entire column contents, important!\n",
    "from IPython.display import display, HTML\n",
    "from pyphetools.creation import *\n",
    "from pyphetools.visualization import *\n",
    "from pyphetools.validation import *\n",
    "import pyphetools\n",
    "print(f\"Using pyphetools version {pyphetools.__version__}\")"
   ]
  },
  {
   "cell_type": "code",
   "execution_count": 2,
   "id": "6b1a29fd-eecd-4582-8773-33df4ba84cdb",
   "metadata": {},
   "outputs": [
    {
     "name": "stdout",
     "output_type": "stream",
     "text": [
      "HPO version 2023-10-09\n"
     ]
    }
   ],
   "source": [
    "PMID = \"PMID:37303127\"\n",
    "title = \"The Clinical Characteristics and Potential Molecular Mechanism of LMNA Mutation-Related Lipodystrophy\"\n",
    "cite = Citation(pmid=PMID, title=title)\n",
    "parser = HpoParser(hpo_json_file=\"../hp.json\")\n",
    "hpo_cr = parser.get_hpo_concept_recognizer()\n",
    "hpo_version = parser.get_version()\n",
    "hpo_ontology = parser.get_ontology()\n",
    "metadata = MetaData(created_by=\"ORCID:0000-0002-0736-9199\", citation=cite)\n",
    "metadata.default_versions_with_hpo(version=hpo_version)\n",
    "print(f\"HPO version {hpo_version}\")"
   ]
  },
  {
   "cell_type": "code",
   "execution_count": 3,
   "id": "f955c2ee-890b-4483-8096-8f843c3d5055",
   "metadata": {},
   "outputs": [
    {
     "data": {
      "text/html": [
       "<div>\n",
       "<style scoped>\n",
       "    .dataframe tbody tr th:only-of-type {\n",
       "        vertical-align: middle;\n",
       "    }\n",
       "\n",
       "    .dataframe tbody tr th {\n",
       "        vertical-align: top;\n",
       "    }\n",
       "\n",
       "    .dataframe thead th {\n",
       "        text-align: right;\n",
       "    }\n",
       "</style>\n",
       "<table border=\"1\" class=\"dataframe\">\n",
       "  <thead>\n",
       "    <tr style=\"text-align: right;\">\n",
       "      <th></th>\n",
       "      <th>Case</th>\n",
       "      <th>Gender</th>\n",
       "      <th>Age onset</th>\n",
       "      <th>Age diagnosis</th>\n",
       "      <th>Family history</th>\n",
       "      <th>BMI [kg m−2]</th>\n",
       "      <th>Nucleotide mutation</th>\n",
       "      <th>Amino acid mutation</th>\n",
       "      <th>Zygosity</th>\n",
       "      <th>Lipodystrophy phenotype</th>\n",
       "      <th>...</th>\n",
       "      <th>LAAPD</th>\n",
       "      <th>RVAPD</th>\n",
       "      <th>IVS</th>\n",
       "      <th>LVPW</th>\n",
       "      <th>LVIDd</th>\n",
       "      <th>LVIDs</th>\n",
       "      <th>FS%</th>\n",
       "      <th>EF%</th>\n",
       "      <th>ECG</th>\n",
       "      <th>Cardiac MRI</th>\n",
       "    </tr>\n",
       "  </thead>\n",
       "  <tbody>\n",
       "    <tr>\n",
       "      <th>0</th>\n",
       "      <td>1</td>\n",
       "      <td>M</td>\n",
       "      <td>7</td>\n",
       "      <td>16</td>\n",
       "      <td>none</td>\n",
       "      <td>14.1</td>\n",
       "      <td>c.29C&gt;T</td>\n",
       "      <td>p.T10I</td>\n",
       "      <td>Het</td>\n",
       "      <td>Generalized</td>\n",
       "      <td>...</td>\n",
       "      <td>25</td>\n",
       "      <td>17</td>\n",
       "      <td>8</td>\n",
       "      <td>7</td>\n",
       "      <td>41</td>\n",
       "      <td>25</td>\n",
       "      <td>49</td>\n",
       "      <td>71</td>\n",
       "      <td>Normal</td>\n",
       "      <td>ND</td>\n",
       "    </tr>\n",
       "    <tr>\n",
       "      <th>1</th>\n",
       "      <td>2</td>\n",
       "      <td>F</td>\n",
       "      <td>6</td>\n",
       "      <td>21</td>\n",
       "      <td>Father hypertension</td>\n",
       "      <td>13.1</td>\n",
       "      <td>c.175C&gt;G</td>\n",
       "      <td>p.L59V</td>\n",
       "      <td>Het</td>\n",
       "      <td>Generalized</td>\n",
       "      <td>...</td>\n",
       "      <td>29</td>\n",
       "      <td>35</td>\n",
       "      <td>8</td>\n",
       "      <td>8</td>\n",
       "      <td>44</td>\n",
       "      <td>36</td>\n",
       "      <td>19</td>\n",
       "      <td>39</td>\n",
       "      <td>Junctional escape rhythm, QT interval prolongation</td>\n",
       "      <td>Enlarged right heart, tricuspid valve insufficiency, myocardial lesions, aortic valve, mitral valve reflux</td>\n",
       "    </tr>\n",
       "    <tr>\n",
       "      <th>2</th>\n",
       "      <td>3</td>\n",
       "      <td>F</td>\n",
       "      <td>14</td>\n",
       "      <td>16</td>\n",
       "      <td>Father diabetes</td>\n",
       "      <td>21.9</td>\n",
       "      <td>c.1444C&gt;T</td>\n",
       "      <td>p.R482W</td>\n",
       "      <td>Het</td>\n",
       "      <td>Partial</td>\n",
       "      <td>...</td>\n",
       "      <td>29</td>\n",
       "      <td>20</td>\n",
       "      <td>6</td>\n",
       "      <td>6</td>\n",
       "      <td>49</td>\n",
       "      <td>30</td>\n",
       "      <td>39</td>\n",
       "      <td>69</td>\n",
       "      <td>Normal</td>\n",
       "      <td>ND</td>\n",
       "    </tr>\n",
       "    <tr>\n",
       "      <th>3</th>\n",
       "      <td>4</td>\n",
       "      <td>F</td>\n",
       "      <td>20</td>\n",
       "      <td>40</td>\n",
       "      <td>Father FPLD2</td>\n",
       "      <td>8.7</td>\n",
       "      <td>c.1444C&gt;T</td>\n",
       "      <td>p.R482W</td>\n",
       "      <td>Het</td>\n",
       "      <td>Partial</td>\n",
       "      <td>...</td>\n",
       "      <td>34</td>\n",
       "      <td>23</td>\n",
       "      <td>8</td>\n",
       "      <td>8</td>\n",
       "      <td>49</td>\n",
       "      <td>28</td>\n",
       "      <td>43</td>\n",
       "      <td>74</td>\n",
       "      <td>QT interval prolongation</td>\n",
       "      <td>ND</td>\n",
       "    </tr>\n",
       "    <tr>\n",
       "      <th>4</th>\n",
       "      <td>5</td>\n",
       "      <td>M</td>\n",
       "      <td>60</td>\n",
       "      <td>73</td>\n",
       "      <td>Daughter FPLD2</td>\n",
       "      <td>21.3</td>\n",
       "      <td>c.1444C&gt;T</td>\n",
       "      <td>p.R482W</td>\n",
       "      <td>Het</td>\n",
       "      <td>Partial</td>\n",
       "      <td>...</td>\n",
       "      <td>38</td>\n",
       "      <td>23</td>\n",
       "      <td>9</td>\n",
       "      <td>9</td>\n",
       "      <td>45</td>\n",
       "      <td>26</td>\n",
       "      <td>42</td>\n",
       "      <td>73</td>\n",
       "      <td>ST-T changes</td>\n",
       "      <td>ND</td>\n",
       "    </tr>\n",
       "  </tbody>\n",
       "</table>\n",
       "<p>5 rows × 47 columns</p>\n",
       "</div>"
      ],
      "text/plain": [
       "   Case Gender  Age onset  Age diagnosis       Family history  BMI [kg m−2]  \\\n",
       "0     1      M          7             16                 none          14.1   \n",
       "1     2      F          6             21  Father hypertension          13.1   \n",
       "2     3      F         14             16      Father diabetes          21.9   \n",
       "3     4      F         20             40         Father FPLD2           8.7   \n",
       "4     5      M         60             73       Daughter FPLD2          21.3   \n",
       "\n",
       "  Nucleotide mutation Amino acid mutation Zygosity Lipodystrophy phenotype  \\\n",
       "0             c.29C>T              p.T10I      Het             Generalized   \n",
       "1            c.175C>G              p.L59V      Het             Generalized   \n",
       "2           c.1444C>T             p.R482W      Het                 Partial   \n",
       "3           c.1444C>T             p.R482W      Het                 Partial   \n",
       "4           c.1444C>T             p.R482W      Het                 Partial   \n",
       "\n",
       "   ... LAAPD RVAPD  IVS  LVPW  LVIDd  LVIDs  FS%  EF%  \\\n",
       "0  ...    25    17    8     7     41     25   49   71   \n",
       "1  ...    29    35    8     8     44     36   19   39   \n",
       "2  ...    29    20    6     6     49     30   39   69   \n",
       "3  ...    34    23    8     8     49     28   43   74   \n",
       "4  ...    38    23    9     9     45     26   42   73   \n",
       "\n",
       "                                                  ECG  \\\n",
       "0                                              Normal   \n",
       "1  Junctional escape rhythm, QT interval prolongation   \n",
       "2                                              Normal   \n",
       "3                            QT interval prolongation   \n",
       "4                                        ST-T changes   \n",
       "\n",
       "                                                                                                  Cardiac MRI  \n",
       "0                                                                                                          ND  \n",
       "1  Enlarged right heart, tricuspid valve insufficiency, myocardial lesions, aortic valve, mitral valve reflux  \n",
       "2                                                                                                          ND  \n",
       "3                                                                                                          ND  \n",
       "4                                                                                                          ND  \n",
       "\n",
       "[5 rows x 47 columns]"
      ]
     },
     "execution_count": 3,
     "metadata": {},
     "output_type": "execute_result"
    }
   ],
   "source": [
    "df = pd.read_excel(\"input/Xiao2023_LMNA.xlsx\")\n",
    "df.head()"
   ]
  },
  {
   "cell_type": "code",
   "execution_count": 4,
   "id": "cc7c0543-9c58-4b92-94fc-8cc2a6a91cc1",
   "metadata": {},
   "outputs": [],
   "source": [
    "res = OptionColumnMapper.autoformat(df=df, concept_recognizer=hpo_cr)"
   ]
  },
  {
   "cell_type": "code",
   "execution_count": 5,
   "id": "1c0adf9c-fa27-47c4-beb3-9a0b9236667f",
   "metadata": {},
   "outputs": [],
   "source": [
    "column_mapper_d = {}"
   ]
  },
  {
   "cell_type": "code",
   "execution_count": 6,
   "id": "cce3d6f6-1cbb-4f5e-8c92-93c3b6f05785",
   "metadata": {},
   "outputs": [],
   "source": [
    "lipodystrophy_phenotype_d = {'Generalized': 'Generalized lipodystrophy',\n",
    " 'Partial': 'Lipodystrophy'}\n",
    "# TODO work out terms for partial dystrophy\n",
    "lipodystrophy_phenotypeMapper = OptionColumnMapper(concept_recognizer=hpo_cr, option_d=lipodystrophy_phenotype_d)\n",
    "lipodystrophy_phenotypeMapper.preview_column(df['Lipodystrophy phenotype'])\n",
    "column_mapper_d['Lipodystrophy phenotype'] = lipodystrophy_phenotypeMapper"
   ]
  },
  {
   "cell_type": "code",
   "execution_count": 7,
   "id": "0ce88379-2902-4d7f-bef9-bffb531b0a4e",
   "metadata": {},
   "outputs": [],
   "source": [
    "endocrinopathies_d = {'Diabetes': 'Diabetes mellitus',\n",
    " 'insulin resistance': 'Insulin resistance',\n",
    " 'nonalcoholic fatty liver': 'Hepatic steatosis',\n",
    " 'osteoporosis': 'Osteoporosis',\n",
    " 'hyperlipidemia': 'Hyperlipidemia',\n",
    " 'Glucose intolerance': 'Glucose intolerance',\n",
    " 'short stature': 'Short stature',\n",
    "}\n",
    "endocrinopathiesMapper = OptionColumnMapper(concept_recognizer=hpo_cr, option_d=endocrinopathies_d)\n",
    "endocrinopathiesMapper.preview_column(df['Endocrinopathies'])\n",
    "column_mapper_d['Endocrinopathies'] = endocrinopathiesMapper"
   ]
  },
  {
   "cell_type": "code",
   "execution_count": 8,
   "id": "88355363-7550-4432-a94d-a29f4839c76e",
   "metadata": {},
   "outputs": [],
   "source": [
    "nonendocrine_disease_d = {'Progeroid appearance': 'Progeroid facial appearance',\n",
    " 'skin pigmentation': 'Hyperpigmentation of the skin',\n",
    " #'bilateral femoral fractures': 'PLACEHOLDER',\n",
    " 'liver insufficiency': 'Decreased liver function',\n",
    " 'cardiomyopathy': 'Cardiomyopathy',\n",
    " 'heart failure': 'Congestive heart failure',\n",
    " 'junctional escape rhythm': 'Ventricular escape rhythm',\n",
    " 'premature ovarian failure': 'Premature ovarian insufficiency',\n",
    " 'café au lait spots': 'Cafe-au-lait spot',\n",
    " 'scoliosis': 'Scoliosis',\n",
    " 'QT intervals prolongation': 'Prolonged QT interval',\n",
    " 'ST-T changes': 'Abnormal ST segment',\n",
    " 'Dilated cardiomyopathy': 'Dilated cardiomyopathy',\n",
    " 'persistent atrial fibrillation': 'Atrial fibrillation',\n",
    " 'abnormal liver function': 'Elevated hepatic transaminase',\n",
    " 'achilles tendon contracture': 'Achilles tendon contracture',\n",
    " 'muscular dystrophy': 'Muscular dystrophy',\n",
    " 'myotonia': 'Myotonia'}\n",
    "nonendocrine_diseaseMapper = OptionColumnMapper(concept_recognizer=hpo_cr, option_d=nonendocrine_disease_d)\n",
    "nonendocrine_diseaseMapper.preview_column(df['Nonendocrine disease'])\n",
    "column_mapper_d['Nonendocrine disease'] = nonendocrine_diseaseMapper"
   ]
  },
  {
   "cell_type": "code",
   "execution_count": 9,
   "id": "95254040-d6f5-4e5e-9334-00563e27deea",
   "metadata": {},
   "outputs": [],
   "source": [
    "# The normal range veries in different labs.\n",
    "# The authors called the following values abnormal\n",
    "alt_d = {'62': 'Elevated circulating alanine aminotransferase concentration',\n",
    "  '138': 'Elevated circulating alanine aminotransferase concentration',\n",
    " '59': 'Elevated circulating alanine aminotransferase concentration'}\n",
    "altMapper = OptionColumnMapper(concept_recognizer=hpo_cr, option_d=alt_d)\n",
    "altMapper.preview_column(df['ALT'])\n",
    "column_mapper_d['ALT'] = altMapper"
   ]
  },
  {
   "cell_type": "code",
   "execution_count": 10,
   "id": "f1293a33-892d-4bee-9368-ae2188e92d28",
   "metadata": {},
   "outputs": [],
   "source": [
    "#The normal range is 8 to 33 U/L\n",
    "ast_d = {'49': 'Elevated circulating aspartate aminotransferase concentration',\n",
    " '151': 'Elevated circulating aspartate aminotransferase concentration',\n",
    " '36': 'Elevated circulating aspartate aminotransferase concentration'}\n",
    "astMapper = OptionColumnMapper(concept_recognizer=hpo_cr, option_d=ast_d)\n",
    "astMapper.preview_column(df['AST'])\n",
    "column_mapper_d['AST'] = astMapper"
   ]
  },
  {
   "cell_type": "code",
   "execution_count": 11,
   "id": "02cafc69-e51a-4570-8ab8-d5d718b757cc",
   "metadata": {},
   "outputs": [],
   "source": [
    "# All crea values were notmal\n",
    "crMapper = ConstantColumnMapper(hpo_id=\"HP:0012100\", hpo_label=\"Abnormal circulating creatinine concentration\", excluded=True)\n",
    "crMapper.preview_column(df['Cr'])\n",
    "column_mapper_d['Cr'] = crMapper"
   ]
  },
  {
   "cell_type": "code",
   "execution_count": 12,
   "id": "cdd7197b-5d77-4444-bc4e-e9a76e9ff9be",
   "metadata": {},
   "outputs": [],
   "source": [
    "# normal 208 – 428 µmol/L (male)\n",
    "uaMapper = ThresholdedColumnMapper(hpo_id=\"HP:0002149\", hpo_label=\"Hyperuricemia\", threshold=428, call_if_above=True)\n",
    "uaMapper.preview_column(df['UA'])\n",
    "column_mapper_d['UA'] = uaMapper"
   ]
  },
  {
   "cell_type": "code",
   "execution_count": 13,
   "id": "9985ad12-46b3-45eb-ba7a-af1367be41d4",
   "metadata": {},
   "outputs": [],
   "source": [
    "# UACR  PMID: 34089300\n",
    "# The normal UACR value is less than or equal to 17 mg/g in men but in women, the level is observed to be higher ranging around 25 mg/g.\n",
    "# Implies albuminuria\n",
    "uacrMapper = ThresholdedColumnMapper(hpo_id=\"HP:0012592\", hpo_label=\"Albuminuria\", threshold=25, call_if_above=True)\n",
    "uacrMapper.preview_column(df['UACR'])\n",
    "column_mapper_d['UACR'] = uacrMapper"
   ]
  },
  {
   "cell_type": "code",
   "execution_count": 14,
   "id": "5e972e8d-de90-4e76-a3c0-2ed20542226c",
   "metadata": {},
   "outputs": [],
   "source": [
    "# Normal range, below 3.4 mmol/L\n",
    "ldlMapper = ThresholdedColumnMapper(hpo_id=\"HP:0003141\", hpo_label=\"Increased LDL cholesterol concentration\", threshold=3.4, call_if_above=True)\n",
    "ldlMapper.preview_column(df['LDLc'])\n",
    "column_mapper_d['LDLc'] = ldlMapper"
   ]
  },
  {
   "cell_type": "code",
   "execution_count": 15,
   "id": "1c8be59d-1fd6-4148-8fe1-58bfb6165bca",
   "metadata": {},
   "outputs": [],
   "source": [
    "# Desirable range: Levels above 40 mg/dL (1 mmol/L) in men and above 50 mg/dL (1.3 mmol/L) in women\n",
    "# Decreased HDL cholesterol concentration HP:0003233\n",
    "hdlc_d = {'0.65': 'PLACEHOLDER',\n",
    " '0.84': 'PLACEHOLDER',\n",
    " '0.64': 'PLACEHOLDER',\n",
    " '1.32': 'PLACEHOLDER',\n",
    " '1.52': 'PLACEHOLDER',\n",
    " '0.75': 'PLACEHOLDER'}\n",
    "\n",
    "hdlcMapper = ThresholdedColumnMapper(hpo_id=\"HP:0003233\", \n",
    "                                     hpo_label=\"Decreased HDL cholesterol concentration\", \n",
    "                                     threshold=1.3, \n",
    "                                     call_if_above=False)\n",
    "hdlcMapper.preview_column(df['HDLc'])\n",
    "column_mapper_d['HDLc'] = hdlcMapper"
   ]
  },
  {
   "cell_type": "code",
   "execution_count": 16,
   "id": "16c0862f-3903-40f2-a801-3ec11f134cc7",
   "metadata": {},
   "outputs": [],
   "source": [
    "# Less than 150 mg/dL (1.69 mmol/L) Borderline high: 150 to 199 mg/dL (1.69 to 2.25 mmol/L) \n",
    "# High: 200 to 499 mg/dL (2.26 to 5.64 mmol/L) Very high: 500 mg/dL or above \n",
    "# Hypertriglyceridemia HP:0002155\n",
    "tg_d = {'3.85': 'PLACEHOLDER',\n",
    " '1.11': 'PLACEHOLDER',\n",
    " '39.91': 'PLACEHOLDER',\n",
    " '0.69': 'PLACEHOLDER',\n",
    " '3.31': 'PLACEHOLDER',\n",
    " '3.59a)': 'PLACEHOLDER'}\n",
    "tgMapper =  ThresholdedColumnMapper(hpo_id=\"HP:0002155\", \n",
    "                                     hpo_label=\"Hypertriglyceridemia\", \n",
    "                                     threshold=2.25, \n",
    "                                     call_if_above=True)\n",
    "tgMapper.preview_column(df['TG'])\n",
    "column_mapper_d['TG'] = tgMapper"
   ]
  },
  {
   "cell_type": "code",
   "execution_count": 17,
   "id": "f578a2b1-12d1-4738-8762-ad7fd6774c7b",
   "metadata": {},
   "outputs": [],
   "source": [
    "# Total cholesterol: Levels below 200 mg/dL (5.2 mmol/L)\n",
    "#Hypercholesterolemia HP:0003124\n",
    "tcMapper =  ThresholdedColumnMapper(hpo_id=\"HP:0003124\", \n",
    "                                     hpo_label=\"Hypercholesterolemia\", \n",
    "                                     threshold=5.2, \n",
    "                                     call_if_above=True)\n",
    "tcMapper.preview_column(df['TC'])\n",
    "column_mapper_d['TC'] = tcMapper"
   ]
  },
  {
   "cell_type": "code",
   "execution_count": 18,
   "id": "98058c68-d5f6-472f-9f8b-47b170fd8586",
   "metadata": {},
   "outputs": [],
   "source": [
    "# The normal fasting serum FFAs level is 0.1 to 0.45 mmol/L for females and 0.1 to 0.6 mmol/L for males\n",
    "# note the table has umol not mmol, so the threshold is 450\n",
    "# Increased circulating free fatty acid level HP:0030781\n",
    "ffa_d = {'455': 'PLACEHOLDER',\n",
    " '250': 'PLACEHOLDER',\n",
    " '1569': 'PLACEHOLDER',\n",
    " '361': 'PLACEHOLDER',\n",
    " '703': 'PLACEHOLDER',\n",
    " '359': 'PLACEHOLDER'}\n",
    "ffaMapper =   ThresholdedColumnMapper(hpo_id=\"HP:0030781\", \n",
    "                                     hpo_label=\"Increased circulating free fatty acid level\", \n",
    "                                     threshold=450, \n",
    "                                     call_if_above=True)\n",
    "ffaMapper.preview_column(df['FFA'])\n",
    "column_mapper_d['FFA'] = ffaMapper"
   ]
  },
  {
   "cell_type": "code",
   "execution_count": 19,
   "id": "03f22fe5-01d3-4b58-9bd2-fc7a97a62a4e",
   "metadata": {},
   "outputs": [],
   "source": [
    "#0.3 to 1.0 mg/dL\n",
    "# Elevated circulating C-reactive protein concentration HP:0011227\n",
    "hscrp_d = {'4.72': 'PLACEHOLDER',\n",
    " '2.83': 'PLACEHOLDER',\n",
    " '3.99': 'PLACEHOLDER',\n",
    " '2.9': 'PLACEHOLDER',\n",
    " '0.41': 'PLACEHOLDER',\n",
    " '0.26': 'PLACEHOLDER'}\n",
    "hscrpMapper =  ThresholdedColumnMapper(hpo_id=\"HP:0011227\", \n",
    "                                     hpo_label=\"Elevated circulating C-reactive protein concentration\", \n",
    "                                     threshold=1.0, \n",
    "                                     call_if_above=True)\n",
    "hscrpMapper.preview_column(df['hsCRP'])\n",
    "column_mapper_d['hsCRP'] = hscrpMapper"
   ]
  },
  {
   "cell_type": "code",
   "execution_count": 20,
   "id": "4578a28d-a2c8-41db-b11f-1d210bd653fb",
   "metadata": {},
   "outputs": [],
   "source": [
    "# FBG, fasting blood glucose; 70 mg/dL (3.9 mmol/L) and 100 mg/dL (5.6 mmol/L). \n",
    "# Hyperglycemia HP:0003074\n",
    "fbg_d = {'6.6': 'PLACEHOLDER',\n",
    " '4.6': 'PLACEHOLDER',\n",
    " '18.8': 'PLACEHOLDER',\n",
    " '6.0': 'PLACEHOLDER',\n",
    " '8.8': 'PLACEHOLDER'}\n",
    "fbgMapper = ThresholdedColumnMapper(hpo_id=\"HP:0003074\", \n",
    "                                     hpo_label=\"Hyperglycemia\", \n",
    "                                     threshold=5.6, \n",
    "                                     call_if_above=True)\n",
    "fbgMapper.preview_column(df['FBG'])\n",
    "column_mapper_d['FBG'] = fbgMapper"
   ]
  },
  {
   "cell_type": "code",
   "execution_count": 21,
   "id": "14421a3e-b534-4698-88af-3404d746f072",
   "metadata": {},
   "outputs": [],
   "source": [
    "## below 5.7 %. 5.7 % to 6.4 %  prediabetic, while diabetes can be diagnosed with a HbA1c of 6.5% or high\n",
    "## Elevated hemoglobin A1c HP:0040217\n",
    "hba1c_d = {'6.5': 'PLACEHOLDER',\n",
    " '6.7': 'PLACEHOLDER',\n",
    " '11.9': 'PLACEHOLDER',\n",
    " '5.7': 'PLACEHOLDER',\n",
    " '6.9': 'PLACEHOLDER',\n",
    " '9.6': 'PLACEHOLDER'}\n",
    "hba1cMapper = ThresholdedColumnMapper(hpo_id=\"HP:0040217\", \n",
    "                                     hpo_label=\"Elevated hemoglobin A1c\", \n",
    "                                     threshold=6.5, \n",
    "                                     call_if_above=True)\n",
    "hba1cMapper.preview_column(df['HbA1c'])\n",
    "column_mapper_d['HbA1c'] = hba1cMapper"
   ]
  },
  {
   "cell_type": "code",
   "execution_count": 22,
   "id": "bf9be135-3156-437d-b2ec-c2a9b25b9f62",
   "metadata": {},
   "outputs": [],
   "source": [
    "#FI, fasting insulin; \n",
    "# Hyperinsulinemia HP:0000842\n",
    "#5 and 15 µU/mL but\n",
    "fi_d = {'77.19': 'PLACEHOLDER',\n",
    " '12.79': 'PLACEHOLDER',\n",
    " '167.48': 'PLACEHOLDER',\n",
    " '29.2': 'PLACEHOLDER',\n",
    " '18.31': 'PLACEHOLDER',\n",
    " '13.1': 'PLACEHOLDER'}\n",
    "fiMapper = ThresholdedColumnMapper(hpo_id=\"HP:0000842\", \n",
    "                                     hpo_label=\"Hyperinsulinemia\", \n",
    "                                     threshold=15, \n",
    "                                     call_if_above=True)\n",
    "fiMapper.preview_column(df['FI'])\n",
    "column_mapper_d['FI'] = fiMapper"
   ]
  },
  {
   "cell_type": "code",
   "execution_count": 23,
   "id": "f9521751-f265-4c20-83c7-660a5b59112e",
   "metadata": {},
   "outputs": [],
   "source": [
    "# CK females is 30 to 145 U/L; males 55 to 170 U/L\n",
    "# Elevated circulating creatine kinase concentration HP:0003236\n",
    "\n",
    "ck_d = {'ND': 'PLACEHOLDER',\n",
    " '65': 'PLACEHOLDER',\n",
    " '50': 'PLACEHOLDER',\n",
    " '45': 'PLACEHOLDER',\n",
    " '39': 'PLACEHOLDER',\n",
    " '481': 'PLACEHOLDER'}\n",
    "ckMapper = ThresholdedColumnMapper(hpo_id=\"HP:0003236\", \n",
    "                                     hpo_label=\"Elevated circulating creatine kinase concentration\", \n",
    "                                     threshold=170, \n",
    "                                     call_if_above=True)\n",
    "ckMapper.preview_column(df['CK'])\n",
    "column_mapper_d['CK'] = ckMapper"
   ]
  },
  {
   "cell_type": "code",
   "execution_count": 24,
   "id": "045f8a2b-ce54-4ec8-b881-426146b4c921",
   "metadata": {},
   "outputs": [],
   "source": [
    "# NT-proBNP < 100 picograms per milliliter (pg/mL)\n",
    "# Increased circulating NT-proBNP concentration HP:0031185\n",
    "\n",
    "ntprobnp_d = {'ND': 'PLACEHOLDER',\n",
    " '1673': 'PLACEHOLDER',\n",
    " '72': 'PLACEHOLDER',\n",
    " '60': 'PLACEHOLDER',\n",
    " '138': 'PLACEHOLDER',\n",
    " '746': 'PLACEHOLDER'}\n",
    "ntprobnpMapper = ThresholdedColumnMapper(hpo_id=\"HP:0031185\", \n",
    "                                     hpo_label=\"Increased circulating NT-proBNP concentration\", \n",
    "                                     threshold=100, \n",
    "                                     call_if_above=True)\n",
    "ntprobnpMapper.preview_column(df['NT-proBNP'])\n",
    "column_mapper_d['NT-proBNP'] = ntprobnpMapper"
   ]
  },
  {
   "cell_type": "code",
   "execution_count": 25,
   "id": "9202e070-7581-4998-ad99-4a240c12e446",
   "metadata": {},
   "outputs": [],
   "source": [
    "# 50%\n",
    "# Reduced left ventricular ejection fraction HP:0012664\n",
    "ef_d = {'71': 'PLACEHOLDER',\n",
    " '39': 'PLACEHOLDER',\n",
    " '69': 'PLACEHOLDER',\n",
    " '74': 'PLACEHOLDER',\n",
    " '73': 'PLACEHOLDER',\n",
    " '40': 'PLACEHOLDER'}\n",
    "efMapper = ThresholdedColumnMapper(hpo_id=\"HP:0012664\", \n",
    "                                     hpo_label=\"Reduced left ventricular ejection fraction\", \n",
    "                                     threshold=50, \n",
    "                                     call_if_above=False)\n",
    "efMapper.preview_column(df['EF%'])\n",
    "column_mapper_d['EF%'] = efMapper"
   ]
  },
  {
   "cell_type": "code",
   "execution_count": 26,
   "id": "04752a2f-ba71-4ead-abdc-7bae2431e4e1",
   "metadata": {},
   "outputs": [],
   "source": [
    "ecg_d = {\n",
    " 'Junctional escape rhythm': 'Ventricular escape rhythm',\n",
    " 'QT interval prolongation': 'Prolonged QT interval',\n",
    " 'ST-T changes': 'Abnormal ST segment',\n",
    " 'Continuous atrial fibrillation': 'Atrial fibrillation'}\n",
    "ecgMapper = OptionColumnMapper(concept_recognizer=hpo_cr, option_d=ecg_d)\n",
    "ecgMapper.preview_column(df['ECG'])\n",
    "column_mapper_d['ECG'] = ecgMapper"
   ]
  },
  {
   "cell_type": "code",
   "execution_count": 27,
   "id": "4e0de931-efd8-4728-9648-ff4fbb4613f6",
   "metadata": {},
   "outputs": [],
   "source": [
    "cardiac_mri_d = {\n",
    " 'tricuspid valve insufficiency': 'Tricuspid regurgitation',\n",
    " 'mitral valve reflux': 'Mitral regurgitation',\n",
    " 'Enlargement of the right atrium': 'Right atrial enlargement',\n",
    " 'pulmonary hypertension': 'Pulmonary arterial hypertension'}\n",
    "cardiac_mriMapper = OptionColumnMapper(concept_recognizer=hpo_cr, option_d=cardiac_mri_d)\n",
    "cardiac_mriMapper.preview_column(df['Cardiac MRI'])\n",
    "column_mapper_d['Cardiac MRI'] = cardiac_mriMapper"
   ]
  },
  {
   "cell_type": "code",
   "execution_count": 28,
   "id": "7933091d-3d75-48db-9410-b43021af1636",
   "metadata": {},
   "outputs": [
    {
     "data": {
      "text/plain": [
       "Index(['Case', 'Gender', 'Age onset', 'Age diagnosis', 'Family history',\n",
       "       'BMI [kg m−2]', 'Nucleotide mutation', 'Amino acid mutation',\n",
       "       'Zygosity', 'Lipodystrophy phenotype', 'Endocrinopathies',\n",
       "       'Nonendocrine disease', 'ALT', 'AST', 'Cr', 'UA', 'UACR', 'LDLc',\n",
       "       'HDLc', 'TG', 'TC', 'FFA', 'hsCRP', 'FBG', 'PBG', 'GA%', 'HbA1c', 'FI',\n",
       "       'PI', 'FC-P', 'PC-P', 'HOMA-IR', 'LH', 'FSH', 'T', 'CK', 'NT-proBNP',\n",
       "       'LAAPD', 'RVAPD', 'IVS', 'LVPW', 'LVIDd', 'LVIDs', 'FS%', 'EF%', 'ECG',\n",
       "       'Cardiac MRI'],\n",
       "      dtype='object')"
      ]
     },
     "execution_count": 28,
     "metadata": {},
     "output_type": "execute_result"
    }
   ],
   "source": [
    "df.columns"
   ]
  },
  {
   "cell_type": "code",
   "execution_count": 29,
   "id": "47a4cbb6-98a5-474d-9c29-92aa20a4c04f",
   "metadata": {},
   "outputs": [],
   "source": [
    "ageMapper = AgeColumnMapper.by_year('Age onset')\n",
    "#ageMapper.preview_column(df['Age onset'])\n",
    "sexMapper = SexColumnMapper(male_symbol=\"M\", female_symbol=\"F\", column_name=\"Gender\")\n",
    "#sexMapper.preview_column(df['Gender'])"
   ]
  },
  {
   "cell_type": "code",
   "execution_count": 30,
   "id": "8a58be35-222c-4f83-a36e-6355acc4dd76",
   "metadata": {},
   "outputs": [
    {
     "name": "stdout",
     "output_type": "stream",
     "text": [
      "https://rest.variantvalidator.org/VariantValidator/variantvalidator/hg38/NM_170707.4%3Ac.29C>T/NM_170707.4?content-type=application%2Fjson\n",
      "c.29C>T\n",
      "https://rest.variantvalidator.org/VariantValidator/variantvalidator/hg38/NM_170707.4%3Ac.175C>G/NM_170707.4?content-type=application%2Fjson\n",
      "c.175C>G\n",
      "https://rest.variantvalidator.org/VariantValidator/variantvalidator/hg38/NM_170707.4%3Ac.1444C>T/NM_170707.4?content-type=application%2Fjson\n",
      "c.1444C>T\n",
      "Extracted 3 variants with Variant Validator\n"
     ]
    }
   ],
   "source": [
    "LMNA_transcript = \"NM_170707.4\"\n",
    "vvalidator = VariantValidator(genome_build=\"hg38\", transcript=LMNA_transcript)\n",
    "var_d = {}\n",
    "\n",
    "for v in df['Nucleotide mutation'].unique():\n",
    "    var = vvalidator.encode_hgvs(v)\n",
    "    var.set_heterozygous()\n",
    "    var_d[v] = var\n",
    "    print(v)\n",
    "print(f\"Extracted {len(var_d)} variants with Variant Validator\")\n",
    "varMapper = VariantColumnMapper(variant_d=var_d,\n",
    "                                variant_column_name='Nucleotide mutation',\n",
    "                                default_genotype=\"heterozygous\")"
   ]
  },
  {
   "cell_type": "code",
   "execution_count": 31,
   "id": "65b783d3-733c-4f8c-8c3b-a0cbf462ee88",
   "metadata": {},
   "outputs": [],
   "source": [
    "encoder = CohortEncoder(df=df, \n",
    "                        hpo_cr=hpo_cr, \n",
    "                        column_mapper_d=column_mapper_d, \n",
    "                        individual_column_name=\"Case\", \n",
    "                        agemapper=ageMapper, \n",
    "                        variant_mapper=varMapper,\n",
    "                        sexmapper=sexMapper,\n",
    "                        metadata=metadata)\n",
    "omim_id = \"OMIM:151660\"\n",
    "omim_label = \"Lipodystrophy, familial partial, type 2\"\n",
    "lipodystrophy = Disease(disease_id=omim_id, disease_label=omim_label)\n",
    "encoder.set_disease(disease=lipodystrophy)\n",
    "individuals = encoder.get_individuals()"
   ]
  },
  {
   "cell_type": "code",
   "execution_count": 32,
   "id": "71982ae8-eb5a-4834-bc6d-3b717e8ee1c1",
   "metadata": {},
   "outputs": [
    {
     "data": {
      "text/html": [
       "<h2>Cohort validation</h2>\n",
       "<p>Errors found with 6 of 6 phenopackets.</p>\n",
       "<table style=\"border: 2px solid black; align: \"left\">\n",
       "<caption>Error counts</caption>\n",
       "<tr><th style=\"text-align: left;font-weight: bold;\">Level</th><th style=\"text-align: left;font-weight: bold;\">Error category</th><th style=\"text-align: left;font-weight: bold;\">Count</th></tr>\n",
       "<tr><td style=\"text-align: left;\">WARNING</td><td style=\"text-align: left;\">REDUNDANT</td><td style=\"text-align: left;\">5</td></tr>\n",
       "<tr><td style=\"text-align: left;\">INFORMATION</td><td style=\"text-align: left;\">NOT_MEASURED</td><td style=\"text-align: left;\">2</td></tr>\n",
       "</table>\n",
       "<p>A total of 11 issues were fixed and no individual was removed from the cohort.</p>"
      ],
      "text/plain": [
       "<IPython.core.display.HTML object>"
      ]
     },
     "metadata": {},
     "output_type": "display_data"
    }
   ],
   "source": [
    "cvalidator = CohortValidator(cohort=individuals, ontology=hpo_ontology, min_hpo=1, allelic_requirement=AllelicRequirement.MONO_ALLELIC)\n",
    "qc = QcVisualizer(cohort_validator=cvalidator)\n",
    "display(HTML(qc.to_summary_html()))"
   ]
  },
  {
   "cell_type": "code",
   "execution_count": 33,
   "id": "2f31137e-db20-4301-999a-e849b4c21598",
   "metadata": {},
   "outputs": [
    {
     "data": {
      "text/html": [
       "<table style=\"border: 2px solid black; align: \"left\">\n",
       "<caption>6 phenopackets - PMID:37303127 (n=6)</caption>\n",
       "<tr><th style=\"text-align: left;font-weight: bold;\">Individual</th><th style=\"text-align: left;font-weight: bold;\">Disease</th><th style=\"text-align: left;font-weight: bold;\">Genotype</th><th style=\"text-align: left;font-weight: bold;\">Phenotypic features</th></tr>\n",
       "<tr><td style=\"text-align: left;\">1 (MALE; P7Y)</td><td style=\"text-align: left;\">Lipodystrophy, familial partial, type 2 (OMIM:151660)</td><td style=\"text-align: left;\">NM_170707.4:c.29C>T (heterozygous)</td><td style=\"text-align: left;\">Generalized lipodystrophy (HP:0009064); Diabetes mellitus (HP:0000819); Insulin resistance (HP:0000855); Hepatic steatosis (HP:0001397); Osteoporosis (HP:0000939); Progeroid facial appearance (HP:0005328); Hyperpigmentation of the skin (HP:0000953); Decreased liver function (HP:0001410); Elevated circulating alanine aminotransferase concentration (HP:0031964); Elevated circulating aspartate aminotransferase concentration (HP:0031956); Albuminuria (HP:0012592); Decreased HDL cholesterol concentration (HP:0003233); Hypertriglyceridemia (HP:0002155); Increased circulating free fatty acid level (HP:0030781); Elevated circulating C-reactive protein concentration (HP:0011227); Hyperglycemia (HP:0003074); Hyperinsulinemia (HP:0000842); excluded: Abnormal circulating creatinine concentration (HP:0012100); excluded: Hyperuricemia (HP:0002149); excluded: Increased LDL cholesterol concentration (HP:0003141); excluded: Hypercholesterolemia (HP:0003124); excluded: Elevated hemoglobin A1c (HP:0040217); excluded: Reduced left ventricular ejection fraction (HP:0012664)</td></tr>\n",
       "<tr><td style=\"text-align: left;\">2 (FEMALE; P6Y)</td><td style=\"text-align: left;\">Lipodystrophy, familial partial, type 2 (OMIM:151660)</td><td style=\"text-align: left;\">NM_170707.4:c.175C>G (heterozygous)</td><td style=\"text-align: left;\">Short stature (HP:0004322); Osteoporosis (HP:0000939); Insulin resistance (HP:0000855); Reduced left ventricular ejection fraction (HP:0012664); Glucose intolerance (HP:0001952); Hyperuricemia (HP:0002149); Mitral regurgitation (HP:0001653); Premature ovarian insufficiency (HP:0008209); Cardiomyopathy (HP:0001638); Cafe-au-lait spot (HP:0000957); Scoliosis (HP:0002650); Decreased HDL cholesterol concentration (HP:0003233); Elevated circulating C-reactive protein concentration (HP:0011227); Progeroid facial appearance (HP:0005328); Elevated hemoglobin A1c (HP:0040217); Generalized lipodystrophy (HP:0009064); Prolonged QT interval (HP:0001657); Ventricular escape rhythm (HP:0005155); Congestive heart failure (HP:0001635); Tricuspid regurgitation (HP:0005180); Increased circulating NT-proBNP concentration (HP:0031185); excluded: Abnormal circulating creatinine concentration (HP:0012100); excluded: Albuminuria (HP:0012592); excluded: Increased LDL cholesterol concentration (HP:0003141); excluded: Hypertriglyceridemia (HP:0002155); excluded: Hypercholesterolemia (HP:0003124); excluded: Increased circulating free fatty acid level (HP:0030781); excluded: Hyperglycemia (HP:0003074); excluded: Hyperinsulinemia (HP:0000842); excluded: Elevated circulating creatine kinase concentration (HP:0003236)</td></tr>\n",
       "<tr><td style=\"text-align: left;\">3 (FEMALE; P14Y)</td><td style=\"text-align: left;\">Lipodystrophy, familial partial, type 2 (OMIM:151660)</td><td style=\"text-align: left;\">NM_170707.4:c.1444C>T (heterozygous)</td><td style=\"text-align: left;\">Lipodystrophy (HP:0009125); Diabetes mellitus (HP:0000819); Insulin resistance (HP:0000855); Hepatic steatosis (HP:0001397); Elevated circulating alanine aminotransferase concentration (HP:0031964); Elevated circulating aspartate aminotransferase concentration (HP:0031956); Albuminuria (HP:0012592); Decreased HDL cholesterol concentration (HP:0003233); Hypertriglyceridemia (HP:0002155); Hypercholesterolemia (HP:0003124); Increased circulating free fatty acid level (HP:0030781); Elevated circulating C-reactive protein concentration (HP:0011227); Hyperglycemia (HP:0003074); Elevated hemoglobin A1c (HP:0040217); Hyperinsulinemia (HP:0000842); excluded: Abnormal circulating creatinine concentration (HP:0012100); excluded: Hyperuricemia (HP:0002149); excluded: Increased LDL cholesterol concentration (HP:0003141); excluded: Elevated circulating creatine kinase concentration (HP:0003236); excluded: Increased circulating NT-proBNP concentration (HP:0031185); excluded: Reduced left ventricular ejection fraction (HP:0012664)</td></tr>\n",
       "<tr><td style=\"text-align: left;\">4 (FEMALE; P20Y)</td><td style=\"text-align: left;\">Lipodystrophy, familial partial, type 2 (OMIM:151660)</td><td style=\"text-align: left;\">NM_170707.4:c.1444C>T (heterozygous)</td><td style=\"text-align: left;\">Lipodystrophy (HP:0009125); Hyperinsulinemia (HP:0000842); Elevated circulating C-reactive protein concentration (HP:0011227); Hyperglycemia (HP:0003074); Prolonged QT interval (HP:0001657); Insulin resistance (HP:0000855); Glucose intolerance (HP:0001952); Hyperlipidemia (HP:0003077); excluded: Abnormal circulating creatinine concentration (HP:0012100); excluded: Hyperuricemia (HP:0002149); excluded: Albuminuria (HP:0012592); excluded: Increased LDL cholesterol concentration (HP:0003141); excluded: Decreased HDL cholesterol concentration (HP:0003233); excluded: Hypertriglyceridemia (HP:0002155); excluded: Hypercholesterolemia (HP:0003124); excluded: Increased circulating free fatty acid level (HP:0030781); excluded: Elevated hemoglobin A1c (HP:0040217); excluded: Elevated circulating creatine kinase concentration (HP:0003236); excluded: Increased circulating NT-proBNP concentration (HP:0031185); excluded: Reduced left ventricular ejection fraction (HP:0012664)</td></tr>\n",
       "<tr><td style=\"text-align: left;\">5 (MALE; P60Y)</td><td style=\"text-align: left;\">Lipodystrophy, familial partial, type 2 (OMIM:151660)</td><td style=\"text-align: left;\">NM_170707.4:c.1444C>T (heterozygous)</td><td style=\"text-align: left;\">Hypercholesterolemia (HP:0003124); Lipodystrophy (HP:0009125); Hyperinsulinemia (HP:0000842); Abnormal ST segment (HP:0012249); Hyperglycemia (HP:0003074); Insulin resistance (HP:0000855); Hepatic steatosis (HP:0001397); Diabetes mellitus (HP:0000819); Hypertriglyceridemia (HP:0002155); Increased circulating free fatty acid level (HP:0030781); Hyperuricemia (HP:0002149); Increased LDL cholesterol concentration (HP:0003141); Elevated hemoglobin A1c (HP:0040217); Increased circulating NT-proBNP concentration (HP:0031185); excluded: Abnormal circulating creatinine concentration (HP:0012100); excluded: Albuminuria (HP:0012592); excluded: Decreased HDL cholesterol concentration (HP:0003233); excluded: Elevated circulating C-reactive protein concentration (HP:0011227); excluded: Elevated circulating creatine kinase concentration (HP:0003236); excluded: Reduced left ventricular ejection fraction (HP:0012664)</td></tr>\n",
       "<tr><td style=\"text-align: left;\">6 (FEMALE; P1Y)</td><td style=\"text-align: left;\">Lipodystrophy, familial partial, type 2 (OMIM:151660)</td><td style=\"text-align: left;\">NM_170707.4:c.1444C>T (heterozygous)</td><td style=\"text-align: left;\">Albuminuria (HP:0012592); Insulin resistance (HP:0000855); Diabetes mellitus (HP:0000819); Reduced left ventricular ejection fraction (HP:0012664); Elevated circulating aspartate aminotransferase concentration (HP:0031956); Hyperuricemia (HP:0002149); Myotonia (HP:0002486); Elevated circulating alanine aminotransferase concentration (HP:0031964); Muscular dystrophy (HP:0003560); Pulmonary arterial hypertension (HP:0002092); Hyperglycemia (HP:0003074); Hypertriglyceridemia (HP:0002155); Scoliosis (HP:0002650); Atrial fibrillation (HP:0005110); Decreased HDL cholesterol concentration (HP:0003233); Elevated hemoglobin A1c (HP:0040217); Generalized lipodystrophy (HP:0009064); Elevated circulating creatine kinase concentration (HP:0003236); Right atrial enlargement (HP:0030718); Hepatic steatosis (HP:0001397); Dilated cardiomyopathy (HP:0001644); Achilles tendon contracture (HP:0001771); Congestive heart failure (HP:0001635); Increased circulating NT-proBNP concentration (HP:0031185); excluded: Abnormal circulating creatinine concentration (HP:0012100); excluded: Increased LDL cholesterol concentration (HP:0003141); excluded: Hypercholesterolemia (HP:0003124); excluded: Increased circulating free fatty acid level (HP:0030781); excluded: Elevated circulating C-reactive protein concentration (HP:0011227); excluded: Hyperinsulinemia (HP:0000842)</td></tr>\n",
       "</table>"
      ],
      "text/plain": [
       "<IPython.core.display.HTML object>"
      ]
     },
     "metadata": {},
     "output_type": "display_data"
    }
   ],
   "source": [
    "individuals = cvalidator.get_error_free_individual_list()\n",
    "phenopackets = [i.to_ga4gh_phenopacket(metadata=metadata.to_ga4gh()) for i in individuals]\n",
    "table = PhenopacketTable(phenopacket_list=phenopackets)\n",
    "display(HTML(table.to_html()))"
   ]
  },
  {
   "cell_type": "code",
   "execution_count": 34,
   "id": "a1473b5a-306d-496e-abac-7f18a2abcf06",
   "metadata": {},
   "outputs": [
    {
     "name": "stdout",
     "output_type": "stream",
     "text": [
      "We output 6 GA4GH phenopackets to the directory phenopackets\n"
     ]
    }
   ],
   "source": [
    "Individual.output_individuals_as_phenopackets(individual_list=individuals,\n",
    "                                              metadata=metadata)"
   ]
  },
  {
   "cell_type": "code",
   "execution_count": null,
   "id": "0aec0955-483e-43cf-840d-b71bf0e091d3",
   "metadata": {},
   "outputs": [],
   "source": []
  }
 ],
 "metadata": {
  "kernelspec": {
   "display_name": "ps24venv",
   "language": "python",
   "name": "ps24venv"
  },
  "language_info": {
   "codemirror_mode": {
    "name": "ipython",
    "version": 3
   },
   "file_extension": ".py",
   "mimetype": "text/x-python",
   "name": "python",
   "nbconvert_exporter": "python",
   "pygments_lexer": "ipython3",
   "version": "3.8.10"
  }
 },
 "nbformat": 4,
 "nbformat_minor": 5
}
