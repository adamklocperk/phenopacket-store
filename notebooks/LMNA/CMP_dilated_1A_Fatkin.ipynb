{
 "cells": [
  {
   "cell_type": "markdown",
   "id": "b67ed5a8-8f29-486e-93ec-8315839d847d",
   "metadata": {},
   "source": [
    "# LMNA: Cardiomyopathy, dilated, 1A \n",
    "\n",
    "The data in this workbook were derived from Table 1 of [Fatkin D, et al. (1999) Missense mutations in the rod domain of the lamin A/C gene as causes of dilated cardiomyopathy and conduction-system disease. N Engl J Med 341(23):1715-24. PMID:10580070](https://pubmed.ncbi.nlm.nih.gov/10580070/).\n",
    "\n",
    "\n",
    "Variants were curated as follows\n",
    "- Family A: Arg571Ser; C→A (1711): NM_005572.4(LMNA):c.1711C>A (p.Arg571Ser)\n",
    "- Family B: Asn195Lys; C→G (585): NM_170707.4(LMNA):c.585C>A (p.Asn195Lys) \n",
    "- Family C: Leu85Arg; T→G (254): NM_170707.4(LMNA):c.254T>G (p.Leu85Arg) \n",
    "- Family D: Arg60Gly; C→G (178): NM_170707.4(LMNA):c.178C>G (p.Arg60Gly)\n",
    "- Family E: Glu203Gly; A→G (608):  NM_170707.4(LMNA):c.608A>G (p.Glu203Gly) "
   ]
  },
  {
   "cell_type": "code",
   "execution_count": 1,
   "id": "a7a175e9-99ff-4640-a52f-1f01cb525f67",
   "metadata": {},
   "outputs": [
    {
     "name": "stdout",
     "output_type": "stream",
     "text": [
      "Using pyphetools version 0.9.15\n"
     ]
    }
   ],
   "source": [
    "import pandas as pd\n",
    "pd.set_option('display.max_colwidth', None) # show entire column contents, important!\n",
    "from IPython.display import display, HTML\n",
    "from pyphetools.creation import *\n",
    "from pyphetools.visualization import *\n",
    "from pyphetools.validation import *\n",
    "import pyphetools\n",
    "print(f\"Using pyphetools version {pyphetools.__version__}\")"
   ]
  },
  {
   "cell_type": "code",
   "execution_count": 26,
   "id": "8316e9ee-56a3-4451-a781-c8cb411e62a0",
   "metadata": {},
   "outputs": [
    {
     "name": "stdout",
     "output_type": "stream",
     "text": [
      "HPO version 2023-10-09\n"
     ]
    }
   ],
   "source": [
    "PMID = \"PMID:10580070\"\n",
    "title = \"Missense mutations in the rod domain of the lamin A/C gene as causes of dilated cardiomyopathy and conduction-system disease\"\n",
    "cite = Citation(pmid=PMID, title=title)\n",
    "parser = HpoParser(hpo_json_file=\"../hp.json\")\n",
    "hpo_cr = parser.get_hpo_concept_recognizer()\n",
    "hpo_version = parser.get_version()\n",
    "hpo_ontology = parser.get_ontology()\n",
    "metadata = MetaData(created_by=\"ORCID:0000-0002-0736-9199\", citation=cite)\n",
    "metadata.default_versions_with_hpo(version=hpo_version)\n",
    "print(f\"HPO version {hpo_version}\")"
   ]
  },
  {
   "cell_type": "code",
   "execution_count": 3,
   "id": "89d91c23-03bd-431d-96f6-75e41806ff06",
   "metadata": {},
   "outputs": [
    {
     "data": {
      "text/html": [
       "<div>\n",
       "<style scoped>\n",
       "    .dataframe tbody tr th:only-of-type {\n",
       "        vertical-align: middle;\n",
       "    }\n",
       "\n",
       "    .dataframe tbody tr th {\n",
       "        vertical-align: top;\n",
       "    }\n",
       "\n",
       "    .dataframe thead th {\n",
       "        text-align: right;\n",
       "    }\n",
       "</style>\n",
       "<table border=\"1\" class=\"dataframe\">\n",
       "  <thead>\n",
       "    <tr style=\"text-align: right;\">\n",
       "      <th></th>\n",
       "      <th>FAMILY</th>\n",
       "      <th>MEMBER</th>\n",
       "      <th>AGE AT CLINICAL PRESENTATION (YR )</th>\n",
       "      <th>Sex</th>\n",
       "      <th>CONDUCTION -SYSTEM DISEASE</th>\n",
       "      <th>ATRIAL FIBRILLATION</th>\n",
       "      <th>DILATED CARDIOMYOPATHY</th>\n",
       "      <th>CAUSE OF DEATH</th>\n",
       "      <th>COMMENTS</th>\n",
       "      <th>CK</th>\n",
       "      <th>Elevated CK</th>\n",
       "      <th>NM_005572.4</th>\n",
       "    </tr>\n",
       "  </thead>\n",
       "  <tbody>\n",
       "    <tr>\n",
       "      <th>0</th>\n",
       "      <td>A</td>\n",
       "      <td>III-1</td>\n",
       "      <td>51</td>\n",
       "      <td>M</td>\n",
       "      <td>Third-degree atrioventricular block, permanent pacemaker</td>\n",
       "      <td>No</td>\n",
       "      <td>Yes</td>\n",
       "      <td>-</td>\n",
       "      <td>NaN</td>\n",
       "      <td>181 U/liter (&lt;210 U/liter)</td>\n",
       "      <td>No</td>\n",
       "      <td>c.1711C&gt;A</td>\n",
       "    </tr>\n",
       "    <tr>\n",
       "      <th>1</th>\n",
       "      <td>A</td>\n",
       "      <td>III-5</td>\n",
       "      <td>39</td>\n",
       "      <td>F</td>\n",
       "      <td>NaN</td>\n",
       "      <td>No</td>\n",
       "      <td>No</td>\n",
       "      <td>-</td>\n",
       "      <td>NaN</td>\n",
       "      <td>180 U/liter (&lt;140 U/liter)</td>\n",
       "      <td>No</td>\n",
       "      <td>c.1711C&gt;A</td>\n",
       "    </tr>\n",
       "    <tr>\n",
       "      <th>2</th>\n",
       "      <td>A</td>\n",
       "      <td>III-8</td>\n",
       "      <td>42</td>\n",
       "      <td>F</td>\n",
       "      <td>Sinus bradycardia, permanent pacemaker</td>\n",
       "      <td>Yes</td>\n",
       "      <td>Yes</td>\n",
       "      <td>-</td>\n",
       "      <td>Arterial embolus</td>\n",
       "      <td>170 U/liter (&lt;140 U/liter)</td>\n",
       "      <td>No</td>\n",
       "      <td>c.1711C&gt;A</td>\n",
       "    </tr>\n",
       "    <tr>\n",
       "      <th>3</th>\n",
       "      <td>A</td>\n",
       "      <td>III-9</td>\n",
       "      <td>40</td>\n",
       "      <td>M</td>\n",
       "      <td>Third-degree atrioventricular block, permanent pacemaker</td>\n",
       "      <td>No</td>\n",
       "      <td>Yes</td>\n",
       "      <td>Lymphoma</td>\n",
       "      <td>Heart failure</td>\n",
       "      <td>NaN</td>\n",
       "      <td>NaN</td>\n",
       "      <td>c.1711C&gt;A</td>\n",
       "    </tr>\n",
       "    <tr>\n",
       "      <th>4</th>\n",
       "      <td>A</td>\n",
       "      <td>III-11</td>\n",
       "      <td>46</td>\n",
       "      <td>F</td>\n",
       "      <td>Second-degree atrioventricular block</td>\n",
       "      <td>Yes</td>\n",
       "      <td>No</td>\n",
       "      <td>-</td>\n",
       "      <td>NaN</td>\n",
       "      <td>360 U/liter (&lt;140 U/liter)</td>\n",
       "      <td>Yes</td>\n",
       "      <td>c.1711C&gt;A</td>\n",
       "    </tr>\n",
       "  </tbody>\n",
       "</table>\n",
       "</div>"
      ],
      "text/plain": [
       "  FAMILY  MEMBER  AGE AT CLINICAL PRESENTATION (YR ) Sex  \\\n",
       "0      A   III-1                                  51   M   \n",
       "1      A   III-5                                  39   F   \n",
       "2      A  III-8                                   42   F   \n",
       "3      A   III-9                                  40   M   \n",
       "4      A  III-11                                  46   F   \n",
       "\n",
       "                                 CONDUCTION -SYSTEM DISEASE  \\\n",
       "0  Third-degree atrioventricular block, permanent pacemaker   \n",
       "1                                                       NaN   \n",
       "2                    Sinus bradycardia, permanent pacemaker   \n",
       "3  Third-degree atrioventricular block, permanent pacemaker   \n",
       "4                      Second-degree atrioventricular block   \n",
       "\n",
       "  ATRIAL FIBRILLATION DILATED CARDIOMYOPATHY CAUSE OF DEATH          COMMENTS  \\\n",
       "0                  No                    Yes              -               NaN   \n",
       "1                  No                     No              -               NaN   \n",
       "2                 Yes                    Yes              -  Arterial embolus   \n",
       "3                  No                    Yes       Lymphoma     Heart failure   \n",
       "4                 Yes                     No              -               NaN   \n",
       "\n",
       "                           CK Elevated CK NM_005572.4  \n",
       "0  181 U/liter (<210 U/liter)          No   c.1711C>A  \n",
       "1  180 U/liter (<140 U/liter)          No   c.1711C>A  \n",
       "2  170 U/liter (<140 U/liter)          No   c.1711C>A  \n",
       "3                         NaN         NaN   c.1711C>A  \n",
       "4  360 U/liter (<140 U/liter)         Yes   c.1711C>A  "
      ]
     },
     "execution_count": 3,
     "metadata": {},
     "output_type": "execute_result"
    }
   ],
   "source": [
    "df = pd.read_excel(\"input/Fatkin1999.xlsx\")\n",
    "df.head()"
   ]
  },
  {
   "cell_type": "code",
   "execution_count": 4,
   "id": "ee07091f-c191-46e2-9206-23cd6192053b",
   "metadata": {},
   "outputs": [],
   "source": [
    "def create_id(row):\n",
    "    return f\"{row['FAMILY']}_{row['MEMBER']}\"\n",
    "\n",
    "df[\"patient_id\"] = df.apply(create_id, axis=1)"
   ]
  },
  {
   "cell_type": "code",
   "execution_count": 5,
   "id": "c74d2d8c-9413-49d6-9cd3-7894ecf2c1b2",
   "metadata": {},
   "outputs": [],
   "source": [
    "ageMapper = AgeColumnMapper.by_year(column_name=\"AGE AT CLINICAL PRESENTATION (YR )\")\n",
    "#ageMapper.preview_column(df[\"AGE AT CLINICAL PRESENTATION (YR )\"])\n",
    "sexMapper = SexColumnMapper(male_symbol=\"M\", female_symbol=\"F\", column_name=\"Sex\")\n",
    "#sexMapper.preview_column(df[\"Sex\"])"
   ]
  },
  {
   "cell_type": "code",
   "execution_count": 6,
   "id": "08da1838-902d-46c8-869c-0c89101ae438",
   "metadata": {},
   "outputs": [],
   "source": [
    "column_d = {}"
   ]
  },
  {
   "cell_type": "code",
   "execution_count": 7,
   "id": "0924cee2-469b-4128-89e6-3dac0779fd21",
   "metadata": {},
   "outputs": [
    {
     "data": {
      "text/plain": [
       "Index(['FAMILY', 'MEMBER', 'AGE AT CLINICAL PRESENTATION (YR )', 'Sex',\n",
       "       'CONDUCTION -SYSTEM DISEASE', 'ATRIAL FIBRILLATION',\n",
       "       'DILATED CARDIOMYOPATHY', 'CAUSE OF DEATH', 'COMMENTS', 'CK',\n",
       "       'Elevated CK', 'NM_005572.4', 'patient_id'],\n",
       "      dtype='object')"
      ]
     },
     "execution_count": 7,
     "metadata": {},
     "output_type": "execute_result"
    }
   ],
   "source": [
    "df.columns"
   ]
  },
  {
   "cell_type": "code",
   "execution_count": 8,
   "id": "ea17b12f-8ca9-4393-ad78-b01715cc7ebf",
   "metadata": {},
   "outputs": [
    {
     "data": {
      "text/html": [
       "<div>\n",
       "<style scoped>\n",
       "    .dataframe tbody tr th:only-of-type {\n",
       "        vertical-align: middle;\n",
       "    }\n",
       "\n",
       "    .dataframe tbody tr th {\n",
       "        vertical-align: top;\n",
       "    }\n",
       "\n",
       "    .dataframe thead th {\n",
       "        text-align: right;\n",
       "    }\n",
       "</style>\n",
       "<table border=\"1\" class=\"dataframe\">\n",
       "  <thead>\n",
       "    <tr style=\"text-align: right;\">\n",
       "      <th></th>\n",
       "      <th>mapping</th>\n",
       "      <th>count</th>\n",
       "    </tr>\n",
       "  </thead>\n",
       "  <tbody>\n",
       "    <tr>\n",
       "      <th>0</th>\n",
       "      <td>original value: \"No\" -&gt; HP: Atrial fibrillation (HP:0005110) (excluded)</td>\n",
       "      <td>16</td>\n",
       "    </tr>\n",
       "    <tr>\n",
       "      <th>1</th>\n",
       "      <td>original value: \"Yes\" -&gt; HP: Atrial fibrillation (HP:0005110) (observed)</td>\n",
       "      <td>23</td>\n",
       "    </tr>\n",
       "  </tbody>\n",
       "</table>\n",
       "</div>"
      ],
      "text/plain": [
       "                                                                    mapping  \\\n",
       "0   original value: \"No\" -> HP: Atrial fibrillation (HP:0005110) (excluded)   \n",
       "1  original value: \"Yes\" -> HP: Atrial fibrillation (HP:0005110) (observed)   \n",
       "\n",
       "  count  \n",
       "0    16  \n",
       "1    23  "
      ]
     },
     "execution_count": 8,
     "metadata": {},
     "output_type": "execute_result"
    }
   ],
   "source": [
    "# Atrial fibrillation HP:0005110\n",
    "afMapper = SimpleColumnMapper(hpo_id=\"HP:0005110\", hpo_label=\"Atrial fibrillation\", observed=\"Yes\", excluded=\"No\")\n",
    "afMapper.preview_column(df['ATRIAL FIBRILLATION'])\n"
   ]
  },
  {
   "cell_type": "code",
   "execution_count": 9,
   "id": "6ba92760-e533-4895-b931-862120a01f6f",
   "metadata": {},
   "outputs": [
    {
     "data": {
      "text/html": [
       "<div>\n",
       "<style scoped>\n",
       "    .dataframe tbody tr th:only-of-type {\n",
       "        vertical-align: middle;\n",
       "    }\n",
       "\n",
       "    .dataframe tbody tr th {\n",
       "        vertical-align: top;\n",
       "    }\n",
       "\n",
       "    .dataframe thead th {\n",
       "        text-align: right;\n",
       "    }\n",
       "</style>\n",
       "<table border=\"1\" class=\"dataframe\">\n",
       "  <thead>\n",
       "    <tr style=\"text-align: right;\">\n",
       "      <th></th>\n",
       "      <th>mapping</th>\n",
       "      <th>count</th>\n",
       "    </tr>\n",
       "  </thead>\n",
       "  <tbody>\n",
       "    <tr>\n",
       "      <th>0</th>\n",
       "      <td>original value: \"Yes\" -&gt; HP: Dilated cardiomyopathy (HP:0001644) (observed)</td>\n",
       "      <td>25</td>\n",
       "    </tr>\n",
       "    <tr>\n",
       "      <th>1</th>\n",
       "      <td>original value: \"No\" -&gt; HP: Dilated cardiomyopathy (HP:0001644) (excluded)</td>\n",
       "      <td>14</td>\n",
       "    </tr>\n",
       "  </tbody>\n",
       "</table>\n",
       "</div>"
      ],
      "text/plain": [
       "                                                                       mapping  \\\n",
       "0  original value: \"Yes\" -> HP: Dilated cardiomyopathy (HP:0001644) (observed)   \n",
       "1   original value: \"No\" -> HP: Dilated cardiomyopathy (HP:0001644) (excluded)   \n",
       "\n",
       "  count  \n",
       "0    25  \n",
       "1    14  "
      ]
     },
     "execution_count": 9,
     "metadata": {},
     "output_type": "execute_result"
    }
   ],
   "source": [
    "# Dilated cardiomyopathy HP:0001644\n",
    "dilatedCmMapper = SimpleColumnMapper(hpo_id=\"HP:0001644\", hpo_label=\"Dilated cardiomyopathy\", observed=\"Yes\", excluded=\"No\")\n",
    "dilatedCmMapper.preview_column(df['DILATED CARDIOMYOPATHY'])"
   ]
  },
  {
   "cell_type": "code",
   "execution_count": 10,
   "id": "fa027227-53e9-40da-8766-5d955f6ebc20",
   "metadata": {},
   "outputs": [
    {
     "data": {
      "text/html": [
       "<div>\n",
       "<style scoped>\n",
       "    .dataframe tbody tr th:only-of-type {\n",
       "        vertical-align: middle;\n",
       "    }\n",
       "\n",
       "    .dataframe tbody tr th {\n",
       "        vertical-align: top;\n",
       "    }\n",
       "\n",
       "    .dataframe thead th {\n",
       "        text-align: right;\n",
       "    }\n",
       "</style>\n",
       "<table border=\"1\" class=\"dataframe\">\n",
       "  <thead>\n",
       "    <tr style=\"text-align: right;\">\n",
       "      <th></th>\n",
       "      <th>mapping</th>\n",
       "      <th>count</th>\n",
       "    </tr>\n",
       "  </thead>\n",
       "  <tbody>\n",
       "    <tr>\n",
       "      <th>0</th>\n",
       "      <td>original value: \"No\" -&gt; HP: Elevated circulating creatine kinase concentration (HP:0003236) (excluded)</td>\n",
       "      <td>20</td>\n",
       "    </tr>\n",
       "    <tr>\n",
       "      <th>1</th>\n",
       "      <td>original value: \"nan\" -&gt; HP: Elevated circulating creatine kinase concentration (HP:0003236) (not measured)</td>\n",
       "      <td>18</td>\n",
       "    </tr>\n",
       "    <tr>\n",
       "      <th>2</th>\n",
       "      <td>original value: \"Yes\" -&gt; HP: Elevated circulating creatine kinase concentration (HP:0003236) (observed)</td>\n",
       "      <td>1</td>\n",
       "    </tr>\n",
       "  </tbody>\n",
       "</table>\n",
       "</div>"
      ],
      "text/plain": [
       "                                                                                                       mapping  \\\n",
       "0       original value: \"No\" -> HP: Elevated circulating creatine kinase concentration (HP:0003236) (excluded)   \n",
       "1  original value: \"nan\" -> HP: Elevated circulating creatine kinase concentration (HP:0003236) (not measured)   \n",
       "2      original value: \"Yes\" -> HP: Elevated circulating creatine kinase concentration (HP:0003236) (observed)   \n",
       "\n",
       "  count  \n",
       "0    20  \n",
       "1    18  \n",
       "2     1  "
      ]
     },
     "execution_count": 10,
     "metadata": {},
     "output_type": "execute_result"
    }
   ],
   "source": [
    "# Elevated circulating creatine kinase concentration HP:0003236\n",
    "ckMapper = SimpleColumnMapper(hpo_id=\"HP:0003236\", hpo_label=\"Elevated circulating creatine kinase concentration\", observed=\"Yes\", excluded=\"No\")\n",
    "ckMapper.preview_column(df['Elevated CK'])"
   ]
  },
  {
   "cell_type": "code",
   "execution_count": 11,
   "id": "b149b0a3-2b23-4ad4-b5ac-978e30f0bb38",
   "metadata": {},
   "outputs": [
    {
     "data": {
      "text/html": [
       "<div>\n",
       "<style scoped>\n",
       "    .dataframe tbody tr th:only-of-type {\n",
       "        vertical-align: middle;\n",
       "    }\n",
       "\n",
       "    .dataframe tbody tr th {\n",
       "        vertical-align: top;\n",
       "    }\n",
       "\n",
       "    .dataframe thead th {\n",
       "        text-align: right;\n",
       "    }\n",
       "</style>\n",
       "<table border=\"1\" class=\"dataframe\">\n",
       "  <thead>\n",
       "    <tr style=\"text-align: right;\">\n",
       "      <th></th>\n",
       "      <th>mapping</th>\n",
       "      <th>count</th>\n",
       "    </tr>\n",
       "  </thead>\n",
       "  <tbody>\n",
       "    <tr>\n",
       "      <th>0</th>\n",
       "      <td>original value: \"-\" -&gt; HP: Sudden cardiac death (HP:0001645) (not measured)</td>\n",
       "      <td>15</td>\n",
       "    </tr>\n",
       "    <tr>\n",
       "      <th>1</th>\n",
       "      <td>original value: \"Lymphoma\" -&gt; HP: Sudden cardiac death (HP:0001645) (not measured)</td>\n",
       "      <td>1</td>\n",
       "    </tr>\n",
       "    <tr>\n",
       "      <th>2</th>\n",
       "      <td>original value: \"nan\" -&gt; HP: Sudden cardiac death (HP:0001645) (not measured)</td>\n",
       "      <td>11</td>\n",
       "    </tr>\n",
       "    <tr>\n",
       "      <th>3</th>\n",
       "      <td>original value: \"Sudden death\" -&gt; HP: Sudden cardiac death (HP:0001645) (observed)</td>\n",
       "      <td>11</td>\n",
       "    </tr>\n",
       "    <tr>\n",
       "      <th>4</th>\n",
       "      <td>original value: \"No\" -&gt; HP: Sudden cardiac death (HP:0001645) (excluded)</td>\n",
       "      <td>1</td>\n",
       "    </tr>\n",
       "  </tbody>\n",
       "</table>\n",
       "</div>"
      ],
      "text/plain": [
       "                                                                              mapping  \\\n",
       "0         original value: \"-\" -> HP: Sudden cardiac death (HP:0001645) (not measured)   \n",
       "1  original value: \"Lymphoma\" -> HP: Sudden cardiac death (HP:0001645) (not measured)   \n",
       "2       original value: \"nan\" -> HP: Sudden cardiac death (HP:0001645) (not measured)   \n",
       "3  original value: \"Sudden death\" -> HP: Sudden cardiac death (HP:0001645) (observed)   \n",
       "4            original value: \"No\" -> HP: Sudden cardiac death (HP:0001645) (excluded)   \n",
       "\n",
       "  count  \n",
       "0    15  \n",
       "1     1  \n",
       "2    11  \n",
       "3    11  \n",
       "4     1  "
      ]
     },
     "execution_count": 11,
     "metadata": {},
     "output_type": "execute_result"
    }
   ],
   "source": [
    "#Sudden cardiac death HP:0001645\n",
    "df['CAUSE OF DEATH'].unique()\n",
    "suddenMapper = SimpleColumnMapper(hpo_id=\"HP:0001645\", hpo_label=\"Sudden cardiac death\", observed=\"Sudden death\", excluded=\"No\")\n",
    "suddenMapper.preview_column(df['CAUSE OF DEATH'])"
   ]
  },
  {
   "cell_type": "code",
   "execution_count": 12,
   "id": "23de133f-8c63-4f94-a862-bb027162fd6b",
   "metadata": {},
   "outputs": [],
   "source": [
    "column_d['ATRIAL FIBRILLATION'] = afMapper\n",
    "column_d['DILATED CARDIOMYOPATHY'] = dilatedCmMapper\n",
    "column_d['Elevated CK'] = ckMapper\n",
    "column_d['CAUSE OF DEATH'] = suddenMapper"
   ]
  },
  {
   "cell_type": "code",
   "execution_count": 13,
   "id": "07bb2e70-d1a4-4a26-89c6-d80f78f5b153",
   "metadata": {},
   "outputs": [
    {
     "data": {
      "text/plain": [
       "array(['Third-degree atrioventricular block, permanent pacemaker', nan,\n",
       "       'Sinus bradycardia, permanent pacemaker',\n",
       "       'Second-degree atrioventricular block',\n",
       "       'Sinus bradycardia, first-degree atrioventricular block',\n",
       "       'First-degree atrioventricular block',\n",
       "       'Third-degree atrioventricular block', 'Yes',\n",
       "       'Slow atrial fibrillation, permanent pacemaker',\n",
       "       'Yes; permanent pacemaker', 'Slow atrial fibrillation', 'No',\n",
       "       'Sinus bradycardia',\n",
       "       'Second-degree atrioventricular block, permanent pacemaker'],\n",
       "      dtype=object)"
      ]
     },
     "execution_count": 13,
     "metadata": {},
     "output_type": "execute_result"
    }
   ],
   "source": [
    "df['CONDUCTION -SYSTEM DISEASE'].unique()"
   ]
  },
  {
   "cell_type": "code",
   "execution_count": 14,
   "id": "7758a4ac-cd13-4414-9eb5-4b07ad02fa51",
   "metadata": {},
   "outputs": [],
   "source": [
    "auto = OptionColumnMapper.autoformat(df=df, concept_recognizer=hpo_cr, delimiter=\",\")"
   ]
  },
  {
   "cell_type": "code",
   "execution_count": 15,
   "id": "31310681-dd91-47ee-ab65-deb921438787",
   "metadata": {},
   "outputs": [],
   "source": [
    "comments_d = {\n",
    " 'Arterial embolus': 'Thromboembolism',\n",
    " 'Heart failure': 'Congestive heart failure',\n",
    " 'Embolic stroke': 'Stroke',\n",
    " 'Left atrial enlargement': 'Left atrial enlargement',\n",
    " 'Renal failure': 'Renal insufficiency',\n",
    " 'Heart transplant': 'Congestive heart failure'}\n",
    "commentsMapper = OptionColumnMapper(concept_recognizer=hpo_cr, option_d=comments_d)\n",
    "commentsMapper.preview_column(df['COMMENTS'])\n",
    "column_d['COMMENTS'] = commentsMapper"
   ]
  },
  {
   "cell_type": "code",
   "execution_count": 16,
   "id": "a4178337-c3fe-4cd4-a4cf-13d45927c63c",
   "metadata": {},
   "outputs": [],
   "source": [
    "conduction_d = {'Third-degree atrioventricular block': 'Third degree atrioventricular block',\n",
    " 'permanent pacemaker': 'Abnormal atrioventricular conduction',\n",
    " 'Sinus bradycardia': 'Sinus bradycardia',\n",
    " 'Second-degree atrioventricular block': 'Second degree atrioventricular block',\n",
    " 'first-degree atrioventricular block': 'First degree atrioventricular block',\n",
    " 'First-degree atrioventricular block': 'First degree atrioventricular block',\n",
    " 'Yes': 'Abnormal atrioventricular conduction',\n",
    " 'Slow atrial fibrillation': 'Atrial fibrillation',\n",
    " 'Yes; permanent pacemaker': 'Abnormal atrioventricular conduction'\n",
    "}\n",
    "excluded = {'No':'Abnormal atrioventricular conduction'}\n",
    "conductionMapper = OptionColumnMapper(concept_recognizer=hpo_cr, option_d=conduction_d)\n",
    "conductionMapper.preview_column(df['CONDUCTION -SYSTEM DISEASE'])\n",
    "column_d['CONDUCTION -SYSTEM DISEASE'] = conductionMapper"
   ]
  },
  {
   "cell_type": "code",
   "execution_count": 19,
   "id": "247bcb4f-ca44-4f70-a6aa-74f46d1dc482",
   "metadata": {},
   "outputs": [
    {
     "name": "stdout",
     "output_type": "stream",
     "text": [
      "https://rest.variantvalidator.org/VariantValidator/variantvalidator/hg38/NM_005572.4%3Ac.1711C>A/NM_005572.4?content-type=application%2Fjson\n",
      "https://rest.variantvalidator.org/VariantValidator/variantvalidator/hg38/NM_005572.4%3Ac.585C>A/NM_005572.4?content-type=application%2Fjson\n",
      "https://rest.variantvalidator.org/VariantValidator/variantvalidator/hg38/NM_005572.4%3Ac.254T>G/NM_005572.4?content-type=application%2Fjson\n",
      "https://rest.variantvalidator.org/VariantValidator/variantvalidator/hg38/NM_005572.4%3Ac.178C>G/NM_005572.4?content-type=application%2Fjson\n",
      "https://rest.variantvalidator.org/VariantValidator/variantvalidator/hg38/NM_005572.4%3Ac.608A>G/NM_005572.4?content-type=application%2Fjson\n"
     ]
    }
   ],
   "source": [
    "LMNA_transcript = \"NM_005572.4\"\n",
    "vvalidator = VariantValidator(genome_build=\"hg38\", transcript=LMNA_transcript)\n",
    "variant_d = {}\n",
    "for v in df[\"NM_005572.4\"].unique():\n",
    "    var = vvalidator.encode_hgvs(v)\n",
    "    variant_d[v] = var\n",
    "\n",
    "varMapper = VariantColumnMapper(variant_d=variant_d,\n",
    "                                variant_column_name='NM_005572.4', \n",
    "                                default_genotype='heterozygous')"
   ]
  },
  {
   "cell_type": "code",
   "execution_count": 22,
   "id": "cb35ffe5-cbcc-40c2-bbac-9c0fd4bd6d9f",
   "metadata": {},
   "outputs": [],
   "source": [
    "encoder = CohortEncoder(df=df, \n",
    "                        hpo_cr=hpo_cr, \n",
    "                        column_mapper_d=column_d, \n",
    "                        individual_column_name=\"patient_id\", \n",
    "                        agemapper=ageMapper, \n",
    "                        sexmapper=sexMapper,\n",
    "                        variant_mapper=varMapper,\n",
    "                        metadata=metadata)\n",
    "omim_id = \"OMIM:115200\"\n",
    "omim_label = \"Cardiomyopathy, dilated, 1A\"\n",
    " \t \n",
    "cmp1a = Disease(disease_id=omim_id, disease_label=omim_label)\n",
    "encoder.set_disease(disease=cmp1a)"
   ]
  },
  {
   "cell_type": "code",
   "execution_count": 24,
   "id": "a8546353-6db0-47cf-ae6d-053071816e4a",
   "metadata": {},
   "outputs": [
    {
     "data": {
      "text/html": [
       "<h2>Cohort validation</h2>\n",
       "<p>Errors found with 38 of 39 phenopackets.</p>\n",
       "<table style=\"border: 2px solid black; align: \"left\">\n",
       "<caption>Error counts</caption>\n",
       "<tr><th style=\"text-align: left;font-weight: bold;\">Level</th><th style=\"text-align: left;font-weight: bold;\">Error category</th><th style=\"text-align: left;font-weight: bold;\">Count</th></tr>\n",
       "<tr><td style=\"text-align: left;\">WARNING</td><td style=\"text-align: left;\">REDUNDANT</td><td style=\"text-align: left;\">6</td></tr>\n",
       "<tr><td style=\"text-align: left;\">INFORMATION</td><td style=\"text-align: left;\">NOT_MEASURED</td><td style=\"text-align: left;\">45</td></tr>\n",
       "</table>\n",
       "<p>A total of 57 issues were fixed and no individual was removed from the cohort.</p>"
      ],
      "text/plain": [
       "<IPython.core.display.HTML object>"
      ]
     },
     "metadata": {},
     "output_type": "display_data"
    }
   ],
   "source": [
    "individuals = encoder.get_individuals()\n",
    "cvalidator = CohortValidator(cohort=individuals, ontology=hpo_ontology, min_hpo=1, allelic_requirement=AllelicRequirement.MONO_ALLELIC)\n",
    "qc = QcVisualizer(cohort_validator=cvalidator)\n",
    "display(HTML(qc.to_summary_html()))"
   ]
  },
  {
   "cell_type": "code",
   "execution_count": 25,
   "id": "04129690-d2d7-404d-ad48-aab078b5d5a9",
   "metadata": {},
   "outputs": [
    {
     "data": {
      "text/html": [
       "<table style=\"border: 2px solid black; align: \"left\">\n",
       "<caption>39 phenopackets - PMID: 10580070 (n=39)</caption>\n",
       "<tr><th style=\"text-align: left;font-weight: bold;\">Individual</th><th style=\"text-align: left;font-weight: bold;\">Disease</th><th style=\"text-align: left;font-weight: bold;\">Genotype</th><th style=\"text-align: left;font-weight: bold;\">Phenotypic features</th></tr>\n",
       "<tr><td style=\"text-align: left;\">A_III-1 (MALE; P51Y)</td><td style=\"text-align: left;\">Cardiomyopathy, dilated, 1A (OMIM:115200)</td><td style=\"text-align: left;\">NM_005572.4:c.1711C>A (heterozygous)</td><td style=\"text-align: left;\">Dilated cardiomyopathy (HP:0001644); Third degree atrioventricular block (HP:0001709); excluded: Atrial fibrillation (HP:0005110); excluded: Elevated circulating creatine kinase concentration (HP:0003236)</td></tr>\n",
       "<tr><td style=\"text-align: left;\">A_III-5 (FEMALE; P39Y)</td><td style=\"text-align: left;\">Cardiomyopathy, dilated, 1A (OMIM:115200)</td><td style=\"text-align: left;\">NM_005572.4:c.1711C>A (heterozygous)</td><td style=\"text-align: left;\">excluded: Atrial fibrillation (HP:0005110); excluded: Dilated cardiomyopathy (HP:0001644); excluded: Elevated circulating creatine kinase concentration (HP:0003236)</td></tr>\n",
       "<tr><td style=\"text-align: left;\">A_III-8  (FEMALE; P42Y)</td><td style=\"text-align: left;\">Cardiomyopathy, dilated, 1A (OMIM:115200)</td><td style=\"text-align: left;\">NM_005572.4:c.1711C>A (heterozygous)</td><td style=\"text-align: left;\">Atrial fibrillation (HP:0005110); Dilated cardiomyopathy (HP:0001644); Thromboembolism (HP:0001907); Sinus bradycardia (HP:0001688); Abnormal atrioventricular conduction (HP:0005150); excluded: Elevated circulating creatine kinase concentration (HP:0003236)</td></tr>\n",
       "<tr><td style=\"text-align: left;\">A_III-9 (MALE; P40Y)</td><td style=\"text-align: left;\">Cardiomyopathy, dilated, 1A (OMIM:115200)</td><td style=\"text-align: left;\">NM_005572.4:c.1711C>A (heterozygous)</td><td style=\"text-align: left;\">Dilated cardiomyopathy (HP:0001644); Congestive heart failure (HP:0001635); Third degree atrioventricular block (HP:0001709); excluded: Atrial fibrillation (HP:0005110)</td></tr>\n",
       "<tr><td style=\"text-align: left;\">A_III-11 (FEMALE; P46Y)</td><td style=\"text-align: left;\">Cardiomyopathy, dilated, 1A (OMIM:115200)</td><td style=\"text-align: left;\">NM_005572.4:c.1711C>A (heterozygous)</td><td style=\"text-align: left;\">Atrial fibrillation (HP:0005110); Elevated circulating creatine kinase concentration (HP:0003236); Second degree atrioventricular block (HP:0011706); excluded: Dilated cardiomyopathy (HP:0001644)</td></tr>\n",
       "<tr><td style=\"text-align: left;\">A_III-13 (MALE; P43Y)</td><td style=\"text-align: left;\">Cardiomyopathy, dilated, 1A (OMIM:115200)</td><td style=\"text-align: left;\">NM_005572.4:c.1711C>A (heterozygous)</td><td style=\"text-align: left;\">Atrial fibrillation (HP:0005110); Sinus bradycardia (HP:0001688); First degree atrioventricular block (HP:0011705); excluded: Dilated cardiomyopathy (HP:0001644); excluded: Elevated circulating creatine kinase concentration (HP:0003236)</td></tr>\n",
       "<tr><td style=\"text-align: left;\">A_III-14 (FEMALE; P40Y)</td><td style=\"text-align: left;\">Cardiomyopathy, dilated, 1A (OMIM:115200)</td><td style=\"text-align: left;\">NM_005572.4:c.1711C>A (heterozygous)</td><td style=\"text-align: left;\">First degree atrioventricular block (HP:0011705); excluded: Atrial fibrillation (HP:0005110); excluded: Dilated cardiomyopathy (HP:0001644); excluded: Elevated circulating creatine kinase concentration (HP:0003236)</td></tr>\n",
       "<tr><td style=\"text-align: left;\">A_III-15 (FEMALE; P39Y)</td><td style=\"text-align: left;\">Cardiomyopathy, dilated, 1A (OMIM:115200)</td><td style=\"text-align: left;\">NM_005572.4:c.1711C>A (heterozygous)</td><td style=\"text-align: left;\">Third degree atrioventricular block (HP:0001709); excluded: Atrial fibrillation (HP:0005110); excluded: Dilated cardiomyopathy (HP:0001644)</td></tr>\n",
       "<tr><td style=\"text-align: left;\">B_III-1 (MALE; P19Y)</td><td style=\"text-align: left;\">Cardiomyopathy, dilated, 1A (OMIM:115200)</td><td style=\"text-align: left;\">NM_005572.4:c.585C>A (heterozygous)</td><td style=\"text-align: left;\">Atrial fibrillation (HP:0005110); Dilated cardiomyopathy (HP:0001644); Sudden cardiac death (HP:0001645); Congestive heart failure (HP:0001635); Abnormal atrioventricular conduction (HP:0005150)</td></tr>\n",
       "<tr><td style=\"text-align: left;\">B_III-3 (MALE; P39Y)</td><td style=\"text-align: left;\">Cardiomyopathy, dilated, 1A (OMIM:115200)</td><td style=\"text-align: left;\">NM_005572.4:c.585C>A (heterozygous)</td><td style=\"text-align: left;\">Abnormal atrioventricular conduction (HP:0005150); Dilated cardiomyopathy (HP:0001644); Sudden cardiac death (HP:0001645); Atrial fibrillation (HP:0005110)</td></tr>\n",
       "<tr><td style=\"text-align: left;\">B_III-11 (FEMALE; P53Y)</td><td style=\"text-align: left;\">Cardiomyopathy, dilated, 1A (OMIM:115200)</td><td style=\"text-align: left;\">NM_005572.4:c.585C>A (heterozygous)</td><td style=\"text-align: left;\">Atrial fibrillation (HP:0005110); Dilated cardiomyopathy (HP:0001644); Stroke (HP:0001297); Abnormal atrioventricular conduction (HP:0005150); excluded: Elevated circulating creatine kinase concentration (HP:0003236)</td></tr>\n",
       "<tr><td style=\"text-align: left;\">B_III-13 (FEMALE; P39Y)</td><td style=\"text-align: left;\">Cardiomyopathy, dilated, 1A (OMIM:115200)</td><td style=\"text-align: left;\">NM_005572.4:c.585C>A (heterozygous)</td><td style=\"text-align: left;\">Atrial fibrillation (HP:0005110); Dilated cardiomyopathy (HP:0001644); Sudden cardiac death (HP:0001645); Congestive heart failure (HP:0001635); Abnormal atrioventricular conduction (HP:0005150)</td></tr>\n",
       "<tr><td style=\"text-align: left;\">B_IV-1 (MALE; P29Y)</td><td style=\"text-align: left;\">Cardiomyopathy, dilated, 1A (OMIM:115200)</td><td style=\"text-align: left;\">NM_005572.4:c.585C>A (heterozygous)</td><td style=\"text-align: left;\">Atrial fibrillation (HP:0005110); Dilated cardiomyopathy (HP:0001644); Sudden cardiac death (HP:0001645); Congestive heart failure (HP:0001635); Abnormal atrioventricular conduction (HP:0005150)</td></tr>\n",
       "<tr><td style=\"text-align: left;\">B_IV-4 (MALE; P31Y)</td><td style=\"text-align: left;\">Cardiomyopathy, dilated, 1A (OMIM:115200)</td><td style=\"text-align: left;\">NM_005572.4:c.585C>A (heterozygous)</td><td style=\"text-align: left;\">Abnormal atrioventricular conduction (HP:0005150); Left atrial enlargement (HP:0031295); Atrial fibrillation (HP:0005110); excluded: Dilated cardiomyopathy (HP:0001644); excluded: Elevated circulating creatine kinase concentration (HP:0003236)</td></tr>\n",
       "<tr><td style=\"text-align: left;\">B_IV-8 (MALE; P40Y)</td><td style=\"text-align: left;\">Cardiomyopathy, dilated, 1A (OMIM:115200)</td><td style=\"text-align: left;\">NM_005572.4:c.585C>A (heterozygous)</td><td style=\"text-align: left;\">Congestive heart failure (HP:0001635); Renal insufficiency (HP:0000083); Dilated cardiomyopathy (HP:0001644); Atrial fibrillation (HP:0005110)</td></tr>\n",
       "<tr><td style=\"text-align: left;\">B_IV-10 (FEMALE; P50Y)</td><td style=\"text-align: left;\">Cardiomyopathy, dilated, 1A (OMIM:115200)</td><td style=\"text-align: left;\">NM_005572.4:c.585C>A (heterozygous)</td><td style=\"text-align: left;\">Atrial fibrillation (HP:0005110); Dilated cardiomyopathy (HP:0001644); excluded: Elevated circulating creatine kinase concentration (HP:0003236)</td></tr>\n",
       "<tr><td style=\"text-align: left;\">B_IV-16 (FEMALE; P34Y)</td><td style=\"text-align: left;\">Cardiomyopathy, dilated, 1A (OMIM:115200)</td><td style=\"text-align: left;\">NM_005572.4:c.585C>A (heterozygous)</td><td style=\"text-align: left;\">Atrial fibrillation (HP:0005110); Second degree atrioventricular block (HP:0011706); excluded: Dilated cardiomyopathy (HP:0001644); excluded: Elevated circulating creatine kinase concentration (HP:0003236)</td></tr>\n",
       "<tr><td style=\"text-align: left;\">B_V-1 (MALE; P29Y)</td><td style=\"text-align: left;\">Cardiomyopathy, dilated, 1A (OMIM:115200)</td><td style=\"text-align: left;\">NM_005572.4:c.585C>A (heterozygous)</td><td style=\"text-align: left;\">Atrial fibrillation (HP:0005110); Dilated cardiomyopathy (HP:0001644); Sudden cardiac death (HP:0001645); Abnormal atrioventricular conduction (HP:0005150); excluded: Elevated circulating creatine kinase concentration (HP:0003236)</td></tr>\n",
       "<tr><td style=\"text-align: left;\">B_V-2 (MALE; P22Y)</td><td style=\"text-align: left;\">Cardiomyopathy, dilated, 1A (OMIM:115200)</td><td style=\"text-align: left;\">NM_005572.4:c.585C>A (heterozygous)</td><td style=\"text-align: left;\">Sinus bradycardia (HP:0001688); excluded: Atrial fibrillation (HP:0005110); excluded: Dilated cardiomyopathy (HP:0001644); excluded: Sudden cardiac death (HP:0001645)</td></tr>\n",
       "<tr><td style=\"text-align: left;\">C_II-1 (FEMALE; P45Y)</td><td style=\"text-align: left;\">Cardiomyopathy, dilated, 1A (OMIM:115200)</td><td style=\"text-align: left;\">NM_005572.4:c.254T>G (heterozygous)</td><td style=\"text-align: left;\">Atrial fibrillation (HP:0005110); Dilated cardiomyopathy (HP:0001644); Abnormal atrioventricular conduction (HP:0005150); excluded: Elevated circulating creatine kinase concentration (HP:0003236)</td></tr>\n",
       "<tr><td style=\"text-align: left;\">C_II-2 (FEMALE; P45Y)</td><td style=\"text-align: left;\">Cardiomyopathy, dilated, 1A (OMIM:115200)</td><td style=\"text-align: left;\">NM_005572.4:c.254T>G (heterozygous)</td><td style=\"text-align: left;\">Atrial fibrillation (HP:0005110); Dilated cardiomyopathy (HP:0001644); Sudden cardiac death (HP:0001645); Abnormal atrioventricular conduction (HP:0005150)</td></tr>\n",
       "<tr><td style=\"text-align: left;\">C_II-4 (FEMALE; P38Y)</td><td style=\"text-align: left;\">Cardiomyopathy, dilated, 1A (OMIM:115200)</td><td style=\"text-align: left;\">NM_005572.4:c.254T>G (heterozygous)</td><td style=\"text-align: left;\">Atrial fibrillation (HP:0005110); Dilated cardiomyopathy (HP:0001644); Sudden cardiac death (HP:0001645); Abnormal atrioventricular conduction (HP:0005150)</td></tr>\n",
       "<tr><td style=\"text-align: left;\">C_III-2 (MALE; P40Y)</td><td style=\"text-align: left;\">Cardiomyopathy, dilated, 1A (OMIM:115200)</td><td style=\"text-align: left;\">NM_005572.4:c.254T>G (heterozygous)</td><td style=\"text-align: left;\">Congestive heart failure (HP:0001635); Abnormal atrioventricular conduction (HP:0005150); Dilated cardiomyopathy (HP:0001644); Atrial fibrillation (HP:0005110); excluded: Elevated circulating creatine kinase concentration (HP:0003236)</td></tr>\n",
       "<tr><td style=\"text-align: left;\">C_III-4 (MALE; P30Y)</td><td style=\"text-align: left;\">Cardiomyopathy, dilated, 1A (OMIM:115200)</td><td style=\"text-align: left;\">NM_005572.4:c.254T>G (heterozygous)</td><td style=\"text-align: left;\">Congestive heart failure (HP:0001635); Dilated cardiomyopathy (HP:0001644); Atrial fibrillation (HP:0005110); excluded: Elevated circulating creatine kinase concentration (HP:0003236)</td></tr>\n",
       "<tr><td style=\"text-align: left;\">D_II-1 (MALE; P35Y)</td><td style=\"text-align: left;\">Cardiomyopathy, dilated, 1A (OMIM:115200)</td><td style=\"text-align: left;\">NM_005572.4:c.178C>G (heterozygous)</td><td style=\"text-align: left;\">Dilated cardiomyopathy (HP:0001644); Sudden cardiac death (HP:0001645); Congestive heart failure (HP:0001635); Abnormal atrioventricular conduction (HP:0005150); excluded: Atrial fibrillation (HP:0005110)</td></tr>\n",
       "<tr><td style=\"text-align: left;\">D_II-4 (FEMALE; P52Y)</td><td style=\"text-align: left;\">Cardiomyopathy, dilated, 1A (OMIM:115200)</td><td style=\"text-align: left;\">NM_005572.4:c.178C>G (heterozygous)</td><td style=\"text-align: left;\">Sudden cardiac death (HP:0001645); excluded: Atrial fibrillation (HP:0005110); excluded: Dilated cardiomyopathy (HP:0001644)</td></tr>\n",
       "<tr><td style=\"text-align: left;\">D_II-5 (MALE; P40Y)</td><td style=\"text-align: left;\">Cardiomyopathy, dilated, 1A (OMIM:115200)</td><td style=\"text-align: left;\">NM_005572.4:c.178C>G (heterozygous)</td><td style=\"text-align: left;\">Abnormal atrioventricular conduction (HP:0005150); excluded: Atrial fibrillation (HP:0005110); excluded: Dilated cardiomyopathy (HP:0001644)</td></tr>\n",
       "<tr><td style=\"text-align: left;\">D_III-2 (FEMALE; P37Y)</td><td style=\"text-align: left;\">Cardiomyopathy, dilated, 1A (OMIM:115200)</td><td style=\"text-align: left;\">NM_005572.4:c.178C>G (heterozygous)</td><td style=\"text-align: left;\">Dilated cardiomyopathy (HP:0001644); Congestive heart failure (HP:0001635); Sinus bradycardia (HP:0001688); Abnormal atrioventricular conduction (HP:0005150); excluded: Atrial fibrillation (HP:0005110); excluded: Elevated circulating creatine kinase concentration (HP:0003236)</td></tr>\n",
       "<tr><td style=\"text-align: left;\">D_III-3 (MALE; P38Y)</td><td style=\"text-align: left;\">Cardiomyopathy, dilated, 1A (OMIM:115200)</td><td style=\"text-align: left;\">NM_005572.4:c.178C>G (heterozygous)</td><td style=\"text-align: left;\">Dilated cardiomyopathy (HP:0001644); Congestive heart failure (HP:0001635); Third degree atrioventricular block (HP:0001709); excluded: Atrial fibrillation (HP:0005110); excluded: Elevated circulating creatine kinase concentration (HP:0003236)</td></tr>\n",
       "<tr><td style=\"text-align: left;\">D_III-6 (FEMALE; P28Y)</td><td style=\"text-align: left;\">Cardiomyopathy, dilated, 1A (OMIM:115200)</td><td style=\"text-align: left;\">NM_005572.4:c.178C>G (heterozygous)</td><td style=\"text-align: left;\">Dilated cardiomyopathy (HP:0001644); Third degree atrioventricular block (HP:0001709); excluded: Atrial fibrillation (HP:0005110); excluded: Elevated circulating creatine kinase concentration (HP:0003236)</td></tr>\n",
       "<tr><td style=\"text-align: left;\">D_III-7 (MALE; P45Y)</td><td style=\"text-align: left;\">Cardiomyopathy, dilated, 1A (OMIM:115200)</td><td style=\"text-align: left;\">NM_005572.4:c.178C>G (heterozygous)</td><td style=\"text-align: left;\">Atrial fibrillation (HP:0005110); Abnormal atrioventricular conduction (HP:0005150); excluded: Dilated cardiomyopathy (HP:0001644); excluded: Elevated circulating creatine kinase concentration (HP:0003236)</td></tr>\n",
       "<tr><td style=\"text-align: left;\">E_II-2 (FEMALE; P46Y)</td><td style=\"text-align: left;\">Cardiomyopathy, dilated, 1A (OMIM:115200)</td><td style=\"text-align: left;\">NM_005572.4:c.608A>G (heterozygous)</td><td style=\"text-align: left;\">Atrial fibrillation (HP:0005110); Dilated cardiomyopathy (HP:0001644); Stroke (HP:0001297); Second degree atrioventricular block (HP:0011706); excluded: Elevated circulating creatine kinase concentration (HP:0003236)</td></tr>\n",
       "<tr><td style=\"text-align: left;\">E_II-4 (FEMALE; P37Y)</td><td style=\"text-align: left;\">Cardiomyopathy, dilated, 1A (OMIM:115200)</td><td style=\"text-align: left;\">NM_005572.4:c.608A>G (heterozygous)</td><td style=\"text-align: left;\">Congestive heart failure (HP:0001635); Abnormal atrioventricular conduction (HP:0005150); Dilated cardiomyopathy (HP:0001644); Atrial fibrillation (HP:0005110)</td></tr>\n",
       "<tr><td style=\"text-align: left;\">E_II-6 (FEMALE; P35Y)</td><td style=\"text-align: left;\">Cardiomyopathy, dilated, 1A (OMIM:115200)</td><td style=\"text-align: left;\">NM_005572.4:c.608A>G (heterozygous)</td><td style=\"text-align: left;\">Atrial fibrillation (HP:0005110); Dilated cardiomyopathy (HP:0001644); Sudden cardiac death (HP:0001645); Abnormal atrioventricular conduction (HP:0005150)</td></tr>\n",
       "<tr><td style=\"text-align: left;\">E_II-8 (MALE; P48Y)</td><td style=\"text-align: left;\">Cardiomyopathy, dilated, 1A (OMIM:115200)</td><td style=\"text-align: left;\">NM_005572.4:c.608A>G (heterozygous)</td><td style=\"text-align: left;\">Atrial fibrillation (HP:0005110); Dilated cardiomyopathy (HP:0001644); Sudden cardiac death (HP:0001645); Congestive heart failure (HP:0001635); Second degree atrioventricular block (HP:0011706); excluded: Elevated circulating creatine kinase concentration (HP:0003236)</td></tr>\n",
       "<tr><td style=\"text-align: left;\">E_II-9 (MALE; P47Y)</td><td style=\"text-align: left;\">Cardiomyopathy, dilated, 1A (OMIM:115200)</td><td style=\"text-align: left;\">NM_005572.4:c.608A>G (heterozygous)</td><td style=\"text-align: left;\">Dilated cardiomyopathy (HP:0001644); Congestive heart failure (HP:0001635); Stroke (HP:0001297); Abnormal atrioventricular conduction (HP:0005150); excluded: Atrial fibrillation (HP:0005110)</td></tr>\n",
       "<tr><td style=\"text-align: left;\">E_III-1 (FEMALE; P35Y)</td><td style=\"text-align: left;\">Cardiomyopathy, dilated, 1A (OMIM:115200)</td><td style=\"text-align: left;\">NM_005572.4:c.608A>G (heterozygous)</td><td style=\"text-align: left;\">First degree atrioventricular block (HP:0011705); excluded: Atrial fibrillation (HP:0005110); excluded: Dilated cardiomyopathy (HP:0001644); excluded: Elevated circulating creatine kinase concentration (HP:0003236)</td></tr>\n",
       "<tr><td style=\"text-align: left;\">E_III-4 (MALE; P28Y)</td><td style=\"text-align: left;\">Cardiomyopathy, dilated, 1A (OMIM:115200)</td><td style=\"text-align: left;\">NM_005572.4:c.608A>G (heterozygous)</td><td style=\"text-align: left;\">First degree atrioventricular block (HP:0011705); excluded: Atrial fibrillation (HP:0005110); excluded: Dilated cardiomyopathy (HP:0001644)</td></tr>\n",
       "<tr><td style=\"text-align: left;\">E_III-8 (MALE; P28Y)</td><td style=\"text-align: left;\">Cardiomyopathy, dilated, 1A (OMIM:115200)</td><td style=\"text-align: left;\">NM_005572.4:c.608A>G (heterozygous)</td><td style=\"text-align: left;\">First degree atrioventricular block (HP:0011705); excluded: Atrial fibrillation (HP:0005110); excluded: Dilated cardiomyopathy (HP:0001644)</td></tr>\n",
       "</table>"
      ],
      "text/plain": [
       "<IPython.core.display.HTML object>"
      ]
     },
     "metadata": {},
     "output_type": "display_data"
    }
   ],
   "source": [
    "individuals = cvalidator.get_error_free_individual_list()\n",
    "phenopackets = [i.to_ga4gh_phenopacket(metadata=metadata.to_ga4gh()) for i in individuals]\n",
    "table = PhenopacketTable(phenopacket_list=phenopackets)\n",
    "display(HTML(table.to_html()))"
   ]
  },
  {
   "cell_type": "code",
   "execution_count": null,
   "id": "eebb4844-9204-403b-9118-069e8d97b573",
   "metadata": {},
   "outputs": [],
   "source": []
  }
 ],
 "metadata": {
  "kernelspec": {
   "display_name": "ps24venv",
   "language": "python",
   "name": "ps24venv"
  },
  "language_info": {
   "codemirror_mode": {
    "name": "ipython",
    "version": 3
   },
   "file_extension": ".py",
   "mimetype": "text/x-python",
   "name": "python",
   "nbconvert_exporter": "python",
   "pygments_lexer": "ipython3",
   "version": "3.8.10"
  }
 },
 "nbformat": 4,
 "nbformat_minor": 5
}
