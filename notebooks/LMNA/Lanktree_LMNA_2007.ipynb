{
 "cells": [
  {
   "cell_type": "markdown",
   "id": "64c1c9b4-830a-4ff8-9032-0c185184f1f7",
   "metadata": {},
   "source": [
    "# LMNA Lipodystrophy, familial partial, type 2 \t151660 \n",
    "Data taken from  [Lanktree M, et al. (2007) Novel LMNA mutations seen in patients with familial partial lipodystrophy subtype 2 (FPLD2; MIM 151660). Clin Genet ;71(2):183-6. PMID:17250669](https://pubmed.ncbi.nlm.nih.gov/17250669/).\n",
    "\n",
    "The authors write:\n",
    "The clinical and biochemical attributes of thethree patients are shown in Table 1. Each hadtypical loss of subcutaneous adipose in the limbsand gluteal region, although these findings wereless pronounced for patient C, as often is the case with men. Each had insulin resistance and type 2 diabetes mellitus although none had acanthosis nigricans. Each had high triglycerides and depressed high-density lipoprotein cholesterol. No findings of other laminopathies were present in any patient."
   ]
  },
  {
   "cell_type": "code",
   "execution_count": 1,
   "id": "ecda4608-168a-4a7f-b3cd-81631a47fcf2",
   "metadata": {},
   "outputs": [
    {
     "name": "stdout",
     "output_type": "stream",
     "text": [
      "Using pyphetools version 0.9.15\n"
     ]
    }
   ],
   "source": [
    "import pandas as pd\n",
    "pd.set_option('display.max_colwidth', None) # show entire column contents, important!\n",
    "from IPython.display import display, HTML\n",
    "from pyphetools.creation import *\n",
    "from pyphetools.visualization import *\n",
    "from pyphetools.validation import *\n",
    "import pyphetools\n",
    "print(f\"Using pyphetools version {pyphetools.__version__}\")"
   ]
  },
  {
   "cell_type": "code",
   "execution_count": 2,
   "id": "bb08b402-7f30-4f67-b41d-3be99756a53a",
   "metadata": {},
   "outputs": [
    {
     "name": "stdout",
     "output_type": "stream",
     "text": [
      "HPO version 2023-10-09\n"
     ]
    }
   ],
   "source": [
    "PMID = \"PMID:18256394\"\n",
    "title = \"Phenotype and course of Hutchinson-Gilford progeria syndrome\"\n",
    "cite = Citation(pmid=PMID, title=title)\n",
    "parser = HpoParser(hpo_json_file=\"../hp.json\")\n",
    "hpo_cr = parser.get_hpo_concept_recognizer()\n",
    "hpo_version = parser.get_version()\n",
    "hpo_ontology = parser.get_ontology()\n",
    "metadata = MetaData(created_by=\"ORCID:0000-0002-0736-9199\", citation=cite)\n",
    "metadata.default_versions_with_hpo(version=hpo_version)\n",
    "print(f\"HPO version {hpo_version}\")"
   ]
  },
  {
   "cell_type": "code",
   "execution_count": 3,
   "id": "641f5667-9597-4917-bc89-7770d6b891b4",
   "metadata": {},
   "outputs": [
    {
     "data": {
      "text/html": [
       "<div>\n",
       "<style scoped>\n",
       "    .dataframe tbody tr th:only-of-type {\n",
       "        vertical-align: middle;\n",
       "    }\n",
       "\n",
       "    .dataframe tbody tr th {\n",
       "        vertical-align: top;\n",
       "    }\n",
       "\n",
       "    .dataframe thead th {\n",
       "        text-align: right;\n",
       "    }\n",
       "</style>\n",
       "<table border=\"1\" class=\"dataframe\">\n",
       "  <thead>\n",
       "    <tr style=\"text-align: right;\">\n",
       "      <th></th>\n",
       "      <th>Patient</th>\n",
       "      <th>Age</th>\n",
       "      <th>Variant</th>\n",
       "      <th>Onset</th>\n",
       "      <th>Sex</th>\n",
       "      <th>BMI</th>\n",
       "      <th>Waist</th>\n",
       "      <th>Facial fat</th>\n",
       "      <th>lipodystrophy.arm</th>\n",
       "      <th>lipodystrophy.gluteal</th>\n",
       "      <th>...</th>\n",
       "      <th>Diabetes.onset</th>\n",
       "      <th>HTN</th>\n",
       "      <th>NM_170707.4</th>\n",
       "      <th>Acanthosis nigricans</th>\n",
       "      <th>cholesterol.total</th>\n",
       "      <th>HDL</th>\n",
       "      <th>LDL</th>\n",
       "      <th>triglycerides</th>\n",
       "      <th>blood.glucose</th>\n",
       "      <th>HBA1Cg</th>\n",
       "    </tr>\n",
       "  </thead>\n",
       "  <tbody>\n",
       "    <tr>\n",
       "      <th>0</th>\n",
       "      <td>A</td>\n",
       "      <td>46</td>\n",
       "      <td>p.D230N</td>\n",
       "      <td>Youth</td>\n",
       "      <td>F</td>\n",
       "      <td>29.3</td>\n",
       "      <td>86</td>\n",
       "      <td>excess</td>\n",
       "      <td>loss</td>\n",
       "      <td>loss</td>\n",
       "      <td>...</td>\n",
       "      <td>44</td>\n",
       "      <td>No</td>\n",
       "      <td>c.688G&gt;A</td>\n",
       "      <td>No</td>\n",
       "      <td>5.13</td>\n",
       "      <td>0.93</td>\n",
       "      <td>2.75</td>\n",
       "      <td>3.20</td>\n",
       "      <td>9.8</td>\n",
       "      <td>7.2</td>\n",
       "    </tr>\n",
       "    <tr>\n",
       "      <th>1</th>\n",
       "      <td>B</td>\n",
       "      <td>50</td>\n",
       "      <td>p.R399C</td>\n",
       "      <td>Puberty</td>\n",
       "      <td>F</td>\n",
       "      <td>35.0</td>\n",
       "      <td>80</td>\n",
       "      <td>excess</td>\n",
       "      <td>loss</td>\n",
       "      <td>loss</td>\n",
       "      <td>...</td>\n",
       "      <td>48</td>\n",
       "      <td>No</td>\n",
       "      <td>c.1195C&gt;T</td>\n",
       "      <td>No</td>\n",
       "      <td>4.50</td>\n",
       "      <td>1.12</td>\n",
       "      <td>2.32</td>\n",
       "      <td>2.35</td>\n",
       "      <td>6.5</td>\n",
       "      <td>7.0</td>\n",
       "    </tr>\n",
       "    <tr>\n",
       "      <th>2</th>\n",
       "      <td>C</td>\n",
       "      <td>75</td>\n",
       "      <td>p.S573L</td>\n",
       "      <td>Adulthood</td>\n",
       "      <td>M</td>\n",
       "      <td>35.6</td>\n",
       "      <td>100</td>\n",
       "      <td>excess</td>\n",
       "      <td>loss</td>\n",
       "      <td>loss</td>\n",
       "      <td>...</td>\n",
       "      <td>57</td>\n",
       "      <td>Yes(71)</td>\n",
       "      <td>c.1718C&gt;T</td>\n",
       "      <td>No</td>\n",
       "      <td>6.04</td>\n",
       "      <td>1.14</td>\n",
       "      <td>4.10</td>\n",
       "      <td>1.75</td>\n",
       "      <td>22.7</td>\n",
       "      <td>9.5</td>\n",
       "    </tr>\n",
       "  </tbody>\n",
       "</table>\n",
       "<p>3 rows × 22 columns</p>\n",
       "</div>"
      ],
      "text/plain": [
       "  Patient  Age  Variant      Onset Sex   BMI  Waist Facial fat  \\\n",
       "0       A   46  p.D230N      Youth   F  29.3     86     excess   \n",
       "1       B   50  p.R399C    Puberty   F  35.0     80     excess   \n",
       "2       C   75  p.S573L  Adulthood   M  35.6    100     excess   \n",
       "\n",
       "  lipodystrophy.arm lipodystrophy.gluteal  ... Diabetes.onset      HTN  \\\n",
       "0              loss                  loss  ...             44       No   \n",
       "1              loss                  loss  ...             48       No   \n",
       "2              loss                  loss  ...             57  Yes(71)   \n",
       "\n",
       "   NM_170707.4 Acanthosis nigricans cholesterol.total   HDL   LDL  \\\n",
       "0     c.688G>A                   No              5.13  0.93  2.75   \n",
       "1    c.1195C>T                   No              4.50  1.12  2.32   \n",
       "2    c.1718C>T                   No              6.04  1.14  4.10   \n",
       "\n",
       "   triglycerides  blood.glucose  HBA1Cg  \n",
       "0           3.20            9.8     7.2  \n",
       "1           2.35            6.5     7.0  \n",
       "2           1.75           22.7     9.5  \n",
       "\n",
       "[3 rows x 22 columns]"
      ]
     },
     "execution_count": 3,
     "metadata": {},
     "output_type": "execute_result"
    }
   ],
   "source": [
    "df = pd.read_csv(\"input/lanktree.tsv\", sep='\\t')\n",
    "df.head()"
   ]
  },
  {
   "cell_type": "code",
   "execution_count": 4,
   "id": "7af4bb14-2c8d-4c3d-a8b5-119143a91ea9",
   "metadata": {},
   "outputs": [],
   "source": [
    "#res = OptionColumnMapper.autoformat(df=df, concept_recognizer=hpo_cr)\n",
    "#print(res)"
   ]
  },
  {
   "cell_type": "code",
   "execution_count": 5,
   "id": "a87810ab-2067-4fc6-820d-ab8ff0421453",
   "metadata": {},
   "outputs": [],
   "source": [
    "column_mapper_d = {}\n",
    "# Each value is above normal limit\n",
    "bmi_d = {'29.3': 'Obesity',\n",
    " '35.0': 'Obesity',\n",
    " '35.6': 'Obesity'}\n",
    "bmiMapper = OptionColumnMapper(concept_recognizer=hpo_cr, option_d=bmi_d)\n",
    "bmiMapper.preview_column(df['BMI'])\n",
    "column_mapper_d['BMI'] = bmiMapper"
   ]
  },
  {
   "cell_type": "code",
   "execution_count": 6,
   "id": "0a579992-932f-4f7b-a0d1-bccbef428fc7",
   "metadata": {},
   "outputs": [],
   "source": [
    "# Facial fat = Increased facial adipose tissue HP:0000287\n",
    "facialFatMapper = ConstantColumnMapper(hpo_id=\"HP:0000287\", hpo_label=\"Increased facial adipose tissue\")\n",
    "# facialFatMapper.preview_column(df[\"Facial fat\"])\n",
    "column_mapper_d['Facial fat'] = facialFatMapper"
   ]
  },
  {
   "cell_type": "code",
   "execution_count": 7,
   "id": "9a28a3e7-a65a-475e-816b-851cd09896f3",
   "metadata": {},
   "outputs": [],
   "source": [
    "# Loss of subcutaneous adipose tissue in limbs HP:0003635\n",
    "subqArmsMapper = ConstantColumnMapper(hpo_id=\"HP:0003635\", hpo_label=\"Loss of subcutaneous adipose tissue in limbs\")\n",
    "subqArmsMapper.preview_column(df[\"lipodystrophy.arm\"])\n",
    "column_mapper_d[\"lipodystrophy.arm\"] = subqArmsMapper"
   ]
  },
  {
   "cell_type": "code",
   "execution_count": 8,
   "id": "69330a83-593b-41a7-8e69-69e9b1f3514b",
   "metadata": {},
   "outputs": [],
   "source": [
    "# Lipodystrophy HP:0009125\n",
    "# Currently no more detail available\n",
    "ldMapper = ConstantColumnMapper(hpo_id=\"HP:0009125\", hpo_label=\"Lipodystrophy\")\n",
    "ldMapper.preview_column(df[\"lipodystrophy.arm\"])\n",
    "column_mapper_d['lipodystrophy.arm'] = ldMapper"
   ]
  },
  {
   "cell_type": "code",
   "execution_count": 9,
   "id": "5af7cf77-20e3-47f7-a949-f85cfe8a1caf",
   "metadata": {},
   "outputs": [],
   "source": [
    "# Acanthosis nigricans HP:0000956\n",
    "anMapper = ConstantColumnMapper(hpo_id=\"HP:0009125\", hpo_label=\"Lipodystrophy\", excluded=True)\n",
    "anMapper.preview_column(df[\"Acanthosis nigricans\"])\n",
    "column_mapper_d['Acanthosis nigricans'] = anMapper"
   ]
  },
  {
   "cell_type": "code",
   "execution_count": 10,
   "id": "a327610a-d846-44c4-a0df-252036d27aae",
   "metadata": {},
   "outputs": [],
   "source": [
    "# Type II diabetes mellitus  HP:0005978\n",
    "dmMapper = ConstantColumnMapper(hpo_id=\"HP:0005978\", hpo_label=\"Type II diabetes mellitus\")\n",
    "dmMapper.preview_column(df[\"Diabetes.onset\"])\n",
    "column_mapper_d[\"Diabetes.onset\"] = dmMapper"
   ]
  },
  {
   "cell_type": "code",
   "execution_count": 11,
   "id": "e9679474-4db7-481c-8753-554a714226a3",
   "metadata": {},
   "outputs": [],
   "source": [
    "# Hypertriglyceridemia HP:0002155\n",
    "htMapper = ConstantColumnMapper(hpo_id=\"HP:0002155\", hpo_label=\"Hypertriglyceridemia\")\n",
    "htMapper.preview_column(df[\"triglycerides\"])\n",
    "column_mapper_d[\"triglycerides\"] = htMapper"
   ]
  },
  {
   "cell_type": "code",
   "execution_count": 12,
   "id": "90d73cc3-fc37-488d-8405-6de2563047ee",
   "metadata": {},
   "outputs": [],
   "source": [
    "# Hypercholesterolemia HP:0003124\n",
    "cholMapper = ConstantColumnMapper(hpo_id=\"HP:0003124\", hpo_label=\"Hypercholesterolemia\")\n",
    "cholMapper.preview_column(df['cholesterol.total'])\n",
    "column_mapper_d[\"cholesterol.total\"] = cholMapper"
   ]
  },
  {
   "cell_type": "code",
   "execution_count": 13,
   "id": "422367a1-c20b-49bf-a38f-565149cfbead",
   "metadata": {},
   "outputs": [],
   "source": [
    "# Decreased HDL cholesterol concentration HP:0003233\n",
    "hdlMapper = ConstantColumnMapper(hpo_id=\"HP:0003233\", hpo_label=\"Decreased HDL cholesterol concentration\")\n",
    "hdlMapper.preview_column(df[\"HDL\"])\n",
    "column_mapper_d[\"HDL\"] = hdlMapper"
   ]
  },
  {
   "cell_type": "code",
   "execution_count": 14,
   "id": "116b05c8-3231-4757-98dd-0ceee978561f",
   "metadata": {},
   "outputs": [],
   "source": [
    "# Hyperglycemia HP:0003074 -- assume upper limit of normal of 5.6 mmol/L\n",
    "glucoseMapper = ConstantColumnMapper(hpo_id=\"HP:0003074\", hpo_label=\"Hyperglycemia\")\n",
    "glucoseMapper.preview_column(df['blood.glucose'])\n",
    "column_mapper_d[\"blood.glucose\"] = glucoseMapper"
   ]
  },
  {
   "cell_type": "code",
   "execution_count": 15,
   "id": "48016922-7a5c-455e-9241-dfb6cfd90cd3",
   "metadata": {},
   "outputs": [],
   "source": [
    "# Elevated hemoglobin A1c HP:0040217 -- assume normal range at 4.5-5.7%\n",
    "hba1cg_d = {'7.2': 'Elevated hemoglobin A1c',\n",
    " '7.0': 'Elevated hemoglobin A1c',\n",
    " '9.5': 'Elevated hemoglobin A1c'}\n",
    "hba1cgMapper = OptionColumnMapper(concept_recognizer=hpo_cr, option_d=hba1cg_d)\n",
    "hba1cgMapper.preview_column(df['HBA1Cg'])\n",
    "column_mapper_d['HBA1Cg'] = hba1cgMapper"
   ]
  },
  {
   "cell_type": "code",
   "execution_count": 16,
   "id": "fad7c8ad-ebd7-468f-9c35-a8cdebbb15fe",
   "metadata": {},
   "outputs": [],
   "source": [
    "ageMapper = AgeColumnMapper.by_year(column_name=\"Age\")\n",
    "#ageMapper.preview_column(df[\"Age\"])\n",
    "sexMapper = SexColumnMapper(male_symbol=\"M\", female_symbol=\"F\", column_name=\"Sex\")\n",
    "#sexMapper.preview_column(df[\"Sex\"])"
   ]
  },
  {
   "cell_type": "code",
   "execution_count": 17,
   "id": "8e2a82d9-e5ad-42d7-818b-74d66fe8382e",
   "metadata": {},
   "outputs": [
    {
     "name": "stdout",
     "output_type": "stream",
     "text": [
      "\"c.688G>A\"\n",
      "https://rest.variantvalidator.org/VariantValidator/variantvalidator/hg38/NM_170707.4%3Ac.688G>A/NM_170707.4?content-type=application%2Fjson\n",
      "chr1:156134853G>A\n",
      "\"c.1195C>T\"\n",
      "https://rest.variantvalidator.org/VariantValidator/variantvalidator/hg38/NM_170707.4%3Ac.1195C>T/NM_170707.4?content-type=application%2Fjson\n",
      "chr1:156136251C>T\n",
      "\"c.1718C>T\"\n",
      "https://rest.variantvalidator.org/VariantValidator/variantvalidator/hg38/NM_170707.4%3Ac.1718C>T/NM_170707.4?content-type=application%2Fjson\n"
     ]
    },
    {
     "ename": "JSONDecodeError",
     "evalue": "Expecting value: line 1 column 1 (char 0)",
     "output_type": "error",
     "traceback": [
      "\u001b[0;31m---------------------------------------------------------------------------\u001b[0m",
      "\u001b[0;31mJSONDecodeError\u001b[0m                           Traceback (most recent call last)",
      "File \u001b[0;32m~/GIT/phenopacket-store/ps24venv/lib/python3.8/site-packages/requests/models.py:971\u001b[0m, in \u001b[0;36mResponse.json\u001b[0;34m(self, **kwargs)\u001b[0m\n\u001b[1;32m    970\u001b[0m \u001b[38;5;28;01mtry\u001b[39;00m:\n\u001b[0;32m--> 971\u001b[0m     \u001b[38;5;28;01mreturn\u001b[39;00m \u001b[43mcomplexjson\u001b[49m\u001b[38;5;241;43m.\u001b[39;49m\u001b[43mloads\u001b[49m\u001b[43m(\u001b[49m\u001b[38;5;28;43mself\u001b[39;49m\u001b[38;5;241;43m.\u001b[39;49m\u001b[43mtext\u001b[49m\u001b[43m,\u001b[49m\u001b[43m \u001b[49m\u001b[38;5;241;43m*\u001b[39;49m\u001b[38;5;241;43m*\u001b[39;49m\u001b[43mkwargs\u001b[49m\u001b[43m)\u001b[49m\n\u001b[1;32m    972\u001b[0m \u001b[38;5;28;01mexcept\u001b[39;00m JSONDecodeError \u001b[38;5;28;01mas\u001b[39;00m e:\n\u001b[1;32m    973\u001b[0m     \u001b[38;5;66;03m# Catch JSON-related errors and raise as requests.JSONDecodeError\u001b[39;00m\n\u001b[1;32m    974\u001b[0m     \u001b[38;5;66;03m# This aliases json.JSONDecodeError and simplejson.JSONDecodeError\u001b[39;00m\n",
      "File \u001b[0;32m/Library/Frameworks/Python.framework/Versions/3.8/lib/python3.8/json/__init__.py:357\u001b[0m, in \u001b[0;36mloads\u001b[0;34m(s, cls, object_hook, parse_float, parse_int, parse_constant, object_pairs_hook, **kw)\u001b[0m\n\u001b[1;32m    354\u001b[0m \u001b[38;5;28;01mif\u001b[39;00m (\u001b[38;5;28mcls\u001b[39m \u001b[38;5;129;01mis\u001b[39;00m \u001b[38;5;28;01mNone\u001b[39;00m \u001b[38;5;129;01mand\u001b[39;00m object_hook \u001b[38;5;129;01mis\u001b[39;00m \u001b[38;5;28;01mNone\u001b[39;00m \u001b[38;5;129;01mand\u001b[39;00m\n\u001b[1;32m    355\u001b[0m         parse_int \u001b[38;5;129;01mis\u001b[39;00m \u001b[38;5;28;01mNone\u001b[39;00m \u001b[38;5;129;01mand\u001b[39;00m parse_float \u001b[38;5;129;01mis\u001b[39;00m \u001b[38;5;28;01mNone\u001b[39;00m \u001b[38;5;129;01mand\u001b[39;00m\n\u001b[1;32m    356\u001b[0m         parse_constant \u001b[38;5;129;01mis\u001b[39;00m \u001b[38;5;28;01mNone\u001b[39;00m \u001b[38;5;129;01mand\u001b[39;00m object_pairs_hook \u001b[38;5;129;01mis\u001b[39;00m \u001b[38;5;28;01mNone\u001b[39;00m \u001b[38;5;129;01mand\u001b[39;00m \u001b[38;5;129;01mnot\u001b[39;00m kw):\n\u001b[0;32m--> 357\u001b[0m     \u001b[38;5;28;01mreturn\u001b[39;00m \u001b[43m_default_decoder\u001b[49m\u001b[38;5;241;43m.\u001b[39;49m\u001b[43mdecode\u001b[49m\u001b[43m(\u001b[49m\u001b[43ms\u001b[49m\u001b[43m)\u001b[49m\n\u001b[1;32m    358\u001b[0m \u001b[38;5;28;01mif\u001b[39;00m \u001b[38;5;28mcls\u001b[39m \u001b[38;5;129;01mis\u001b[39;00m \u001b[38;5;28;01mNone\u001b[39;00m:\n",
      "File \u001b[0;32m/Library/Frameworks/Python.framework/Versions/3.8/lib/python3.8/json/decoder.py:337\u001b[0m, in \u001b[0;36mJSONDecoder.decode\u001b[0;34m(self, s, _w)\u001b[0m\n\u001b[1;32m    333\u001b[0m \u001b[38;5;250m\u001b[39m\u001b[38;5;124;03m\"\"\"Return the Python representation of ``s`` (a ``str`` instance\u001b[39;00m\n\u001b[1;32m    334\u001b[0m \u001b[38;5;124;03mcontaining a JSON document).\u001b[39;00m\n\u001b[1;32m    335\u001b[0m \n\u001b[1;32m    336\u001b[0m \u001b[38;5;124;03m\"\"\"\u001b[39;00m\n\u001b[0;32m--> 337\u001b[0m obj, end \u001b[38;5;241m=\u001b[39m \u001b[38;5;28;43mself\u001b[39;49m\u001b[38;5;241;43m.\u001b[39;49m\u001b[43mraw_decode\u001b[49m\u001b[43m(\u001b[49m\u001b[43ms\u001b[49m\u001b[43m,\u001b[49m\u001b[43m \u001b[49m\u001b[43midx\u001b[49m\u001b[38;5;241;43m=\u001b[39;49m\u001b[43m_w\u001b[49m\u001b[43m(\u001b[49m\u001b[43ms\u001b[49m\u001b[43m,\u001b[49m\u001b[43m \u001b[49m\u001b[38;5;241;43m0\u001b[39;49m\u001b[43m)\u001b[49m\u001b[38;5;241;43m.\u001b[39;49m\u001b[43mend\u001b[49m\u001b[43m(\u001b[49m\u001b[43m)\u001b[49m\u001b[43m)\u001b[49m\n\u001b[1;32m    338\u001b[0m end \u001b[38;5;241m=\u001b[39m _w(s, end)\u001b[38;5;241m.\u001b[39mend()\n",
      "File \u001b[0;32m/Library/Frameworks/Python.framework/Versions/3.8/lib/python3.8/json/decoder.py:355\u001b[0m, in \u001b[0;36mJSONDecoder.raw_decode\u001b[0;34m(self, s, idx)\u001b[0m\n\u001b[1;32m    354\u001b[0m \u001b[38;5;28;01mexcept\u001b[39;00m \u001b[38;5;167;01mStopIteration\u001b[39;00m \u001b[38;5;28;01mas\u001b[39;00m err:\n\u001b[0;32m--> 355\u001b[0m     \u001b[38;5;28;01mraise\u001b[39;00m JSONDecodeError(\u001b[38;5;124m\"\u001b[39m\u001b[38;5;124mExpecting value\u001b[39m\u001b[38;5;124m\"\u001b[39m, s, err\u001b[38;5;241m.\u001b[39mvalue) \u001b[38;5;28;01mfrom\u001b[39;00m \u001b[38;5;28;01mNone\u001b[39;00m\n\u001b[1;32m    356\u001b[0m \u001b[38;5;28;01mreturn\u001b[39;00m obj, end\n",
      "\u001b[0;31mJSONDecodeError\u001b[0m: Expecting value: line 1 column 1 (char 0)",
      "\nDuring handling of the above exception, another exception occurred:\n",
      "\u001b[0;31mJSONDecodeError\u001b[0m                           Traceback (most recent call last)",
      "Cell \u001b[0;32mIn[17], line 6\u001b[0m\n\u001b[1;32m      4\u001b[0m \u001b[38;5;28;01mfor\u001b[39;00m v \u001b[38;5;129;01min\u001b[39;00m df[\u001b[38;5;124m\"\u001b[39m\u001b[38;5;124mNM_170707.4\u001b[39m\u001b[38;5;124m\"\u001b[39m]\u001b[38;5;241m.\u001b[39munique():\n\u001b[1;32m      5\u001b[0m     \u001b[38;5;28mprint\u001b[39m(\u001b[38;5;124mf\u001b[39m\u001b[38;5;124m'\u001b[39m\u001b[38;5;124m\"\u001b[39m\u001b[38;5;132;01m{\u001b[39;00mv\u001b[38;5;132;01m}\u001b[39;00m\u001b[38;5;124m\"\u001b[39m\u001b[38;5;124m'\u001b[39m)\n\u001b[0;32m----> 6\u001b[0m     var \u001b[38;5;241m=\u001b[39m \u001b[43mvvalidator\u001b[49m\u001b[38;5;241;43m.\u001b[39;49m\u001b[43mencode_hgvs\u001b[49m\u001b[43m(\u001b[49m\u001b[43mv\u001b[49m\u001b[43m)\u001b[49m\n\u001b[1;32m      7\u001b[0m     var\u001b[38;5;241m.\u001b[39mset_heterozygous()\n\u001b[1;32m      8\u001b[0m     \u001b[38;5;28mprint\u001b[39m(var)\n",
      "File \u001b[0;32m~/GIT/phenopacket-store/ps24venv/lib/python3.8/site-packages/pyphetools/creation/variant_validator.py:56\u001b[0m, in \u001b[0;36mVariantValidator.encode_hgvs\u001b[0;34m(self, hgvs, custom_transcript)\u001b[0m\n\u001b[1;32m     53\u001b[0m response \u001b[38;5;241m=\u001b[39m requests\u001b[38;5;241m.\u001b[39mget(api_url)\n\u001b[1;32m     54\u001b[0m \u001b[38;5;66;03m# We expect to get a dictionary with three keys. The first is the name of the variant, e.g., ACC:HGVS, then we\u001b[39;00m\n\u001b[1;32m     55\u001b[0m \u001b[38;5;66;03m# get flag and metadata\u001b[39;00m\n\u001b[0;32m---> 56\u001b[0m vv_dict \u001b[38;5;241m=\u001b[39m \u001b[43mresponse\u001b[49m\u001b[38;5;241;43m.\u001b[39;49m\u001b[43mjson\u001b[49m\u001b[43m(\u001b[49m\u001b[43m)\u001b[49m\n\u001b[1;32m     57\u001b[0m \u001b[38;5;28;01mif\u001b[39;00m \u001b[38;5;124m'\u001b[39m\u001b[38;5;124mflag\u001b[39m\u001b[38;5;124m'\u001b[39m \u001b[38;5;129;01min\u001b[39;00m vv_dict:\n\u001b[1;32m     58\u001b[0m     \u001b[38;5;28;01mif\u001b[39;00m vv_dict[\u001b[38;5;124m'\u001b[39m\u001b[38;5;124mflag\u001b[39m\u001b[38;5;124m'\u001b[39m] \u001b[38;5;241m!=\u001b[39m \u001b[38;5;124m'\u001b[39m\u001b[38;5;124mgene_variant\u001b[39m\u001b[38;5;124m'\u001b[39m:\n",
      "File \u001b[0;32m~/GIT/phenopacket-store/ps24venv/lib/python3.8/site-packages/requests/models.py:975\u001b[0m, in \u001b[0;36mResponse.json\u001b[0;34m(self, **kwargs)\u001b[0m\n\u001b[1;32m    971\u001b[0m     \u001b[38;5;28;01mreturn\u001b[39;00m complexjson\u001b[38;5;241m.\u001b[39mloads(\u001b[38;5;28mself\u001b[39m\u001b[38;5;241m.\u001b[39mtext, \u001b[38;5;241m*\u001b[39m\u001b[38;5;241m*\u001b[39mkwargs)\n\u001b[1;32m    972\u001b[0m \u001b[38;5;28;01mexcept\u001b[39;00m JSONDecodeError \u001b[38;5;28;01mas\u001b[39;00m e:\n\u001b[1;32m    973\u001b[0m     \u001b[38;5;66;03m# Catch JSON-related errors and raise as requests.JSONDecodeError\u001b[39;00m\n\u001b[1;32m    974\u001b[0m     \u001b[38;5;66;03m# This aliases json.JSONDecodeError and simplejson.JSONDecodeError\u001b[39;00m\n\u001b[0;32m--> 975\u001b[0m     \u001b[38;5;28;01mraise\u001b[39;00m RequestsJSONDecodeError(e\u001b[38;5;241m.\u001b[39mmsg, e\u001b[38;5;241m.\u001b[39mdoc, e\u001b[38;5;241m.\u001b[39mpos)\n",
      "\u001b[0;31mJSONDecodeError\u001b[0m: Expecting value: line 1 column 1 (char 0)"
     ]
    }
   ],
   "source": [
    "LMNA_transcript = \"NM_170707.4\"\n",
    "vvalidator = VariantValidator(genome_build=\"hg38\", transcript=LMNA_transcript)\n",
    "var_d = {}\n",
    "for v in df[\"NM_170707.4\"].unique():\n",
    "    print(f'\"{v}\"')\n",
    "    var = vvalidator.encode_hgvs(v)\n",
    "    var.set_heterozygous()\n",
    "    print(var)\n",
    "    var_d[v] = var"
   ]
  },
  {
   "cell_type": "code",
   "execution_count": null,
   "id": "8241e3b7-d38c-4daf-8c20-98db25ae9a06",
   "metadata": {},
   "outputs": [],
   "source": [
    "encoder = CohortEncoder(df=df, \n",
    "                        hpo_cr=hpo_cr, \n",
    "                        column_mapper_d=column_d, \n",
    "                        individual_column_name=\"Patient\", \n",
    "                        agemapper=ageMapper, \n",
    "                        va\n",
    "                        sexmapper=sexMapper,\n",
    "                        metadata=metadata)\n",
    "omim_id = \"OMIM:151660\"\n",
    "omim_label = \"Lipodystrophy, familial partial, type 2\"\n",
    " \t lipodystrophy = Disease(disease_id=omim_id, disease_label=omim_label)\n",
    "encoder.set_disease(disease=lipodystrophy)"
   ]
  },
  {
   "cell_type": "markdown",
   "id": "c9f70bbf-f59d-407c-a50e-153ec1809b2d",
   "metadata": {},
   "source": [
    "## Excluded phenotypes\n",
    "The authors write that No findings of other laminopathies were present in any patient.\n",
    "Therefore, we exclude several characteristic findings\n",
    "\n",
    "- Proptosis (HP:0000520); \n",
    "- Failure to thrive (HP:0001508); \n",
    "- Micrognathia (HP:0000347); \n",
    "- Alopecia (HP:0001596); \n",
    "- Short stature (HP:0004322); \n",
    "- Scleroderma (HP:0100324); \n",
    "- Prominent superficial blood vessels (HP:0007394); \n",
    "- Mottled pigmentation (HP:0001070)\n",
    "- Progeroid facial appearance HP:0005328"
   ]
  },
  {
   "cell_type": "code",
   "execution_count": 18,
   "id": "2444dd85-9cc6-4276-b23b-54b5d18602b6",
   "metadata": {},
   "outputs": [
    {
     "ename": "NameError",
     "evalue": "name 'individuals' is not defined",
     "output_type": "error",
     "traceback": [
      "\u001b[0;31m---------------------------------------------------------------------------\u001b[0m",
      "\u001b[0;31mNameError\u001b[0m                                 Traceback (most recent call last)",
      "Cell \u001b[0;32mIn[18], line 1\u001b[0m\n\u001b[0;32m----> 1\u001b[0m \u001b[38;5;28;01mfor\u001b[39;00m i \u001b[38;5;129;01min\u001b[39;00m \u001b[43mindividuals\u001b[49m:\n\u001b[1;32m      2\u001b[0m     proptosis \u001b[38;5;241m=\u001b[39m HpTerm(hpo_id\u001b[38;5;241m=\u001b[39m\u001b[38;5;124m\"\u001b[39m\u001b[38;5;124mHP:0000520\u001b[39m\u001b[38;5;124m\"\u001b[39m, label\u001b[38;5;241m=\u001b[39m\u001b[38;5;124m\"\u001b[39m\u001b[38;5;124mProptosis\u001b[39m\u001b[38;5;124m\"\u001b[39m, excluded\u001b[38;5;241m=\u001b[39m\u001b[38;5;28;01mTrue\u001b[39;00m)\n\u001b[1;32m      3\u001b[0m     i\u001b[38;5;241m.\u001b[39madd_hpo_term(proptosis)\n",
      "\u001b[0;31mNameError\u001b[0m: name 'individuals' is not defined"
     ]
    }
   ],
   "source": [
    "for i in individuals:\n",
    "    proptosis = HpTerm(hpo_id=\"HP:0000520\", label=\"Proptosis\", excluded=True)\n",
    "    i.add_hpo_term(proptosis)\n",
    "    micrognathia = HpTerm(hpo_id=\"HP:0000347\", label=\"Micrognathia\", excluded=True)\n",
    "    i.add_hpo_term(micrognathia)\n",
    "    sqfat = HpTerm(hpo_id=\"HP:0003758\", label=\"Reduced subcutaneous adipose tissue\", excluded=True)\n",
    "    i.add_hpo_term(sqfat)\n",
    "    alopecia = HpTerm(hpo_id=\"HP:0001596\", label=\"Alopecia\", excluded=True)\n",
    "    i.add_hpo_term(alopecia)\n",
    "    vessels = HpTerm(hpo_id=\"HP:0007394\", label=\"Prominent superficial blood vessels\", excluded=True)\n",
    "    i.add_hpo_term(vessels)\n",
    "    ftt = HpTerm(hpo_id=\"HP:0001508\", label=\"Failure to thrive\", excluded=True)\n",
    "    i.add_hpo_term(ftt)\n",
    "    sst = HpTerm(hpo_id=\"HP:0004322\", label=\"Short stature\", excluded=True)\n",
    "    i.add_hpo_term(sst)\n",
    "    bmt = HpTerm(hpo_id=\"HP:0004349\", label=\"Reduced bone mineral density\", excluded=True)\n",
    "    i.add_hpo_term(bmt)\n",
    "    prog = HpTerm(hpo_id=\"HP:0005328\", label=\"Progeroid facial appearance\", excluded=True)\n",
    "    i.add_hpo_term(bmt)"
   ]
  },
  {
   "cell_type": "code",
   "execution_count": null,
   "id": "4a4938cf-227a-4d50-84bc-6dfeb50172b6",
   "metadata": {},
   "outputs": [],
   "source": []
  }
 ],
 "metadata": {
  "kernelspec": {
   "display_name": "ps24venv",
   "language": "python",
   "name": "ps24venv"
  },
  "language_info": {
   "codemirror_mode": {
    "name": "ipython",
    "version": 3
   },
   "file_extension": ".py",
   "mimetype": "text/x-python",
   "name": "python",
   "nbconvert_exporter": "python",
   "pygments_lexer": "ipython3",
   "version": "3.8.10"
  }
 },
 "nbformat": 4,
 "nbformat_minor": 5
}
