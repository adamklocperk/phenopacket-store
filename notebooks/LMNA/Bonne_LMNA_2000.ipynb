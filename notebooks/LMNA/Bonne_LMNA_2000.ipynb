{
 "cells": [
  {
   "cell_type": "markdown",
   "id": "723cdeae-fa8b-4417-b0ea-534267b45386",
   "metadata": {},
   "source": [
    "# LMNA \n",
    "\n",
    "The data in this workbook were derived from Table 1 of [Bonne G, et al (2000) Clinical and molecular genetic spectrum of autosomal dominant Emery-Dreifuss muscular dystrophy due to mutations of the lamin A/C gene. Ann Neurol 48(2):170-80. PMID:10939567](https://pubmed.ncbi.nlm.nih.gov/10939567/).\n"
   ]
  },
  {
   "cell_type": "code",
   "execution_count": 1,
   "id": "85de09a9-9226-49db-9f13-e565c268ecbd",
   "metadata": {},
   "outputs": [
    {
     "name": "stdout",
     "output_type": "stream",
     "text": [
      "Using pyphetools version 0.9.15\n"
     ]
    }
   ],
   "source": [
    "import pandas as pd\n",
    "pd.set_option('display.max_colwidth', None) # show entire column contents, important!\n",
    "from IPython.display import display, HTML\n",
    "from pyphetools.creation import *\n",
    "from pyphetools.visualization import *\n",
    "from pyphetools.validation import *\n",
    "import pyphetools\n",
    "print(f\"Using pyphetools version {pyphetools.__version__}\")"
   ]
  },
  {
   "cell_type": "code",
   "execution_count": 2,
   "id": "02084704-4c6b-46de-8a0d-43c4ead41509",
   "metadata": {},
   "outputs": [
    {
     "name": "stdout",
     "output_type": "stream",
     "text": [
      "HPO version 2023-10-09\n"
     ]
    }
   ],
   "source": [
    "PMID = \"PMID:10939567\"\n",
    "title = \"Clinical and molecular genetic spectrum of autosomal dominant Emery-Dreifuss muscular dystrophy due to mutations of the lamin A/C gene\"\n",
    "cite = Citation(pmid=PMID, title=title)\n",
    "parser = HpoParser(hpo_json_file=\"../hp.json\")\n",
    "hpo_cr = parser.get_hpo_concept_recognizer()\n",
    "hpo_version = parser.get_version()\n",
    "hpo_ontology = parser.get_ontology()\n",
    "metadata = MetaData(created_by=\"ORCID:0000-0002-0736-9199\", citation=cite)\n",
    "metadata.default_versions_with_hpo(version=hpo_version)\n",
    "print(f\"HPO version {hpo_version}\")"
   ]
  },
  {
   "cell_type": "code",
   "execution_count": 3,
   "id": "2b5db8c8-7c9f-49f5-a45a-0d594d8533f8",
   "metadata": {},
   "outputs": [
    {
     "data": {
      "text/html": [
       "<div>\n",
       "<style scoped>\n",
       "    .dataframe tbody tr th:only-of-type {\n",
       "        vertical-align: middle;\n",
       "    }\n",
       "\n",
       "    .dataframe tbody tr th {\n",
       "        vertical-align: top;\n",
       "    }\n",
       "\n",
       "    .dataframe thead th {\n",
       "        text-align: right;\n",
       "    }\n",
       "</style>\n",
       "<table border=\"1\" class=\"dataframe\">\n",
       "  <thead>\n",
       "    <tr style=\"text-align: right;\">\n",
       "      <th></th>\n",
       "      <th>Patient</th>\n",
       "      <th>Age</th>\n",
       "      <th>Onset</th>\n",
       "      <th>First  Symptoms</th>\n",
       "      <th>Course</th>\n",
       "      <th>Walks(age  [yr])</th>\n",
       "      <th>Severity</th>\n",
       "      <th>CK</th>\n",
       "      <th>Wasting</th>\n",
       "      <th>Weakness  in Upper Limbs</th>\n",
       "      <th>Weakness  in Lower  Limbs</th>\n",
       "      <th>Neck</th>\n",
       "      <th>Contracture</th>\n",
       "      <th>Spine</th>\n",
       "    </tr>\n",
       "  </thead>\n",
       "  <tbody>\n",
       "    <tr>\n",
       "      <th>0</th>\n",
       "      <td>EMD1 III-2</td>\n",
       "      <td>51</td>\n",
       "      <td>Childhood</td>\n",
       "      <td>Waddling gait,difficulty in running</td>\n",
       "      <td>Slowly progressive</td>\n",
       "      <td>YD</td>\n",
       "      <td>++</td>\n",
       "      <td>na</td>\n",
       "      <td>Scapuloperoneal</td>\n",
       "      <td>Proximal</td>\n",
       "      <td>NaN</td>\n",
       "      <td>stiff</td>\n",
       "      <td>E,A</td>\n",
       "      <td>Rigid</td>\n",
       "    </tr>\n",
       "    <tr>\n",
       "      <th>1</th>\n",
       "      <td>EMD1 III-20</td>\n",
       "      <td>61</td>\n",
       "      <td>Childhood</td>\n",
       "      <td>Waddling gait,difficulty in running</td>\n",
       "      <td>Slowly progressive</td>\n",
       "      <td>WCB(55)</td>\n",
       "      <td>++</td>\n",
       "      <td>2</td>\n",
       "      <td>Scapuloperoneal</td>\n",
       "      <td>Proximal</td>\n",
       "      <td>NaN</td>\n",
       "      <td>stiff</td>\n",
       "      <td>E,A</td>\n",
       "      <td>Rigid</td>\n",
       "    </tr>\n",
       "    <tr>\n",
       "      <th>2</th>\n",
       "      <td>EMD1 IV-13</td>\n",
       "      <td>48</td>\n",
       "      <td>P15Y</td>\n",
       "      <td>AT contractures, difficulty in running</td>\n",
       "      <td>Slowly progressive</td>\n",
       "      <td>YD</td>\n",
       "      <td>+</td>\n",
       "      <td>2</td>\n",
       "      <td>Scapuloperoneal</td>\n",
       "      <td>Distal</td>\n",
       "      <td>Proximal</td>\n",
       "      <td>N</td>\n",
       "      <td>E,A</td>\n",
       "      <td>Rigid</td>\n",
       "    </tr>\n",
       "    <tr>\n",
       "      <th>3</th>\n",
       "      <td>EMD1 IV-14</td>\n",
       "      <td>46</td>\n",
       "      <td>na</td>\n",
       "      <td>Difficulty in climbing</td>\n",
       "      <td>Slowly progressive</td>\n",
       "      <td>YD</td>\n",
       "      <td>+</td>\n",
       "      <td>na</td>\n",
       "      <td>Scapuloperoneal</td>\n",
       "      <td>Proximal</td>\n",
       "      <td>NaN</td>\n",
       "      <td>stiff</td>\n",
       "      <td>A</td>\n",
       "      <td>Rigid</td>\n",
       "    </tr>\n",
       "    <tr>\n",
       "      <th>4</th>\n",
       "      <td>EMD1 IV-24</td>\n",
       "      <td>41</td>\n",
       "      <td>P15Y</td>\n",
       "      <td>AT contractures</td>\n",
       "      <td>Slowly progressive</td>\n",
       "      <td>YD</td>\n",
       "      <td>+</td>\n",
       "      <td>2</td>\n",
       "      <td>Scapuloperoneal</td>\n",
       "      <td>Proximal</td>\n",
       "      <td>NaN</td>\n",
       "      <td>stiff</td>\n",
       "      <td>E,A</td>\n",
       "      <td>Rigid</td>\n",
       "    </tr>\n",
       "  </tbody>\n",
       "</table>\n",
       "</div>"
      ],
      "text/plain": [
       "       Patient  Age      Onset                         First  Symptoms  \\\n",
       "0   EMD1 III-2   51  Childhood     Waddling gait,difficulty in running   \n",
       "1  EMD1 III-20   61  Childhood     Waddling gait,difficulty in running   \n",
       "2   EMD1 IV-13   48       P15Y  AT contractures, difficulty in running   \n",
       "3   EMD1 IV-14   46         na                  Difficulty in climbing   \n",
       "4   EMD1 IV-24   41       P15Y                         AT contractures   \n",
       "\n",
       "               Course Walks(age  [yr]) Severity  CK          Wasting  \\\n",
       "0  Slowly progressive               YD       ++  na  Scapuloperoneal   \n",
       "1  Slowly progressive          WCB(55)       ++   2  Scapuloperoneal   \n",
       "2  Slowly progressive               YD        +   2  Scapuloperoneal   \n",
       "3  Slowly progressive               YD        +  na  Scapuloperoneal   \n",
       "4  Slowly progressive               YD        +   2  Scapuloperoneal   \n",
       "\n",
       "  Weakness  in Upper Limbs Weakness  in Lower  Limbs   Neck Contracture  Spine  \n",
       "0                 Proximal                       NaN  stiff         E,A  Rigid  \n",
       "1                 Proximal                       NaN  stiff         E,A  Rigid  \n",
       "2                   Distal                  Proximal      N         E,A  Rigid  \n",
       "3                 Proximal                       NaN  stiff           A  Rigid  \n",
       "4                 Proximal                       NaN  stiff         E,A  Rigid  "
      ]
     },
     "execution_count": 3,
     "metadata": {},
     "output_type": "execute_result"
    }
   ],
   "source": [
    "df = pd.read_csv(\"input/Bonne2000.tsv\", sep='\\t')\n",
    "df.head()"
   ]
  },
  {
   "cell_type": "code",
   "execution_count": null,
   "id": "a3affe8a-2dc5-471c-b7c1-7145806c3b88",
   "metadata": {},
   "outputs": [],
   "source": []
  }
 ],
 "metadata": {
  "kernelspec": {
   "display_name": "ps24venv",
   "language": "python",
   "name": "ps24venv"
  },
  "language_info": {
   "codemirror_mode": {
    "name": "ipython",
    "version": 3
   },
   "file_extension": ".py",
   "mimetype": "text/x-python",
   "name": "python",
   "nbconvert_exporter": "python",
   "pygments_lexer": "ipython3",
   "version": "3.8.10"
  }
 },
 "nbformat": 4,
 "nbformat_minor": 5
}
