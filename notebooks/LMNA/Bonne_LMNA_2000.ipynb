{
 "cells": [
  {
   "cell_type": "markdown",
   "id": "723cdeae-fa8b-4417-b0ea-534267b45386",
   "metadata": {},
   "source": [
    "# LMNA \n",
    "\n",
    "The data in this workbook were derived from Table 1 of [Bonne G, et al (2000) Clinical and molecular genetic spectrum of autosomal dominant Emery-Dreifuss muscular dystrophy due to mutations of the lamin A/C gene. Ann Neurol 48(2):170-80. PMID:10939567](https://pubmed.ncbi.nlm.nih.gov/10939567/).\n"
   ]
  },
  {
   "cell_type": "code",
   "execution_count": 1,
   "id": "85de09a9-9226-49db-9f13-e565c268ecbd",
   "metadata": {},
   "outputs": [
    {
     "name": "stdout",
     "output_type": "stream",
     "text": [
      "Using pyphetools version 0.9.15\n"
     ]
    }
   ],
   "source": [
    "import pandas as pd\n",
    "pd.set_option('display.max_colwidth', None) # show entire column contents, important!\n",
    "from IPython.display import display, HTML\n",
    "from pyphetools.creation import *\n",
    "from pyphetools.visualization import *\n",
    "from pyphetools.validation import *\n",
    "import pyphetools\n",
    "print(f\"Using pyphetools version {pyphetools.__version__}\")"
   ]
  },
  {
   "cell_type": "code",
   "execution_count": 2,
   "id": "02084704-4c6b-46de-8a0d-43c4ead41509",
   "metadata": {},
   "outputs": [
    {
     "name": "stdout",
     "output_type": "stream",
     "text": [
      "HPO version 2023-10-09\n"
     ]
    }
   ],
   "source": [
    "PMID = \"PMID:10939567\"\n",
    "title = \"Clinical and molecular genetic spectrum of autosomal dominant Emery-Dreifuss muscular dystrophy due to mutations of the lamin A/C gene\"\n",
    "cite = Citation(pmid=PMID, title=title)\n",
    "parser = HpoParser(hpo_json_file=\"../hp.json\")\n",
    "hpo_cr = parser.get_hpo_concept_recognizer()\n",
    "hpo_version = parser.get_version()\n",
    "hpo_ontology = parser.get_ontology()\n",
    "metadata = MetaData(created_by=\"ORCID:0000-0002-0736-9199\", citation=cite)\n",
    "metadata.default_versions_with_hpo(version=hpo_version)\n",
    "print(f\"HPO version {hpo_version}\")"
   ]
  },
  {
   "cell_type": "code",
   "execution_count": 3,
   "id": "2b5db8c8-7c9f-49f5-a45a-0d594d8533f8",
   "metadata": {},
   "outputs": [
    {
     "data": {
      "text/html": [
       "<div>\n",
       "<style scoped>\n",
       "    .dataframe tbody tr th:only-of-type {\n",
       "        vertical-align: middle;\n",
       "    }\n",
       "\n",
       "    .dataframe tbody tr th {\n",
       "        vertical-align: top;\n",
       "    }\n",
       "\n",
       "    .dataframe thead th {\n",
       "        text-align: right;\n",
       "    }\n",
       "</style>\n",
       "<table border=\"1\" class=\"dataframe\">\n",
       "  <thead>\n",
       "    <tr style=\"text-align: right;\">\n",
       "      <th></th>\n",
       "      <th>Patient</th>\n",
       "      <th>Age</th>\n",
       "      <th>Onset</th>\n",
       "      <th>First  Symptoms</th>\n",
       "      <th>Course</th>\n",
       "      <th>Walks(age  [yr])</th>\n",
       "      <th>Severity</th>\n",
       "      <th>CK</th>\n",
       "      <th>Wasting</th>\n",
       "      <th>Weakness  in Upper Limbs</th>\n",
       "      <th>Weakness  in Lower  Limbs</th>\n",
       "      <th>Neck</th>\n",
       "      <th>Contracture</th>\n",
       "      <th>Spine</th>\n",
       "      <th>Electrocardiography</th>\n",
       "      <th>Echocardiography</th>\n",
       "      <th>NM_170707.4</th>\n",
       "    </tr>\n",
       "  </thead>\n",
       "  <tbody>\n",
       "    <tr>\n",
       "      <th>0</th>\n",
       "      <td>EMD1 III-2</td>\n",
       "      <td>51</td>\n",
       "      <td>Childhood</td>\n",
       "      <td>Waddling gait,difficulty in running</td>\n",
       "      <td>Slowly progressive</td>\n",
       "      <td>YD</td>\n",
       "      <td>++</td>\n",
       "      <td>na</td>\n",
       "      <td>Scapuloperoneal</td>\n",
       "      <td>Proximal</td>\n",
       "      <td>NaN</td>\n",
       "      <td>stiff</td>\n",
       "      <td>E,A</td>\n",
       "      <td>Rigid</td>\n",
       "      <td>Pacemaker</td>\n",
       "      <td>Ventricular dysfunction</td>\n",
       "      <td>c.16C&gt;T</td>\n",
       "    </tr>\n",
       "    <tr>\n",
       "      <th>1</th>\n",
       "      <td>EMD1 III-20</td>\n",
       "      <td>61</td>\n",
       "      <td>Childhood</td>\n",
       "      <td>Waddling gait,difficulty in running</td>\n",
       "      <td>Slowly progressive</td>\n",
       "      <td>WCB(55)</td>\n",
       "      <td>++</td>\n",
       "      <td>2</td>\n",
       "      <td>Scapuloperoneal</td>\n",
       "      <td>Proximal</td>\n",
       "      <td>NaN</td>\n",
       "      <td>stiff</td>\n",
       "      <td>E,A</td>\n",
       "      <td>Rigid</td>\n",
       "      <td>Pacemaker</td>\n",
       "      <td>Ventricular dysfunction</td>\n",
       "      <td>c.16C&gt;T</td>\n",
       "    </tr>\n",
       "    <tr>\n",
       "      <th>2</th>\n",
       "      <td>EMD1 IV-13</td>\n",
       "      <td>48</td>\n",
       "      <td>P15Y</td>\n",
       "      <td>AT contractures, difficulty in running</td>\n",
       "      <td>Slowly progressive</td>\n",
       "      <td>YD</td>\n",
       "      <td>+</td>\n",
       "      <td>2</td>\n",
       "      <td>Scapuloperoneal</td>\n",
       "      <td>Distal</td>\n",
       "      <td>Proximal</td>\n",
       "      <td>N</td>\n",
       "      <td>E,A</td>\n",
       "      <td>Rigid</td>\n",
       "      <td>Arrhythmia</td>\n",
       "      <td>N</td>\n",
       "      <td>c.16C&gt;T</td>\n",
       "    </tr>\n",
       "    <tr>\n",
       "      <th>3</th>\n",
       "      <td>EMD1 IV-14</td>\n",
       "      <td>46</td>\n",
       "      <td>na</td>\n",
       "      <td>Difficulty in climbing</td>\n",
       "      <td>Slowly progressive</td>\n",
       "      <td>YD</td>\n",
       "      <td>+</td>\n",
       "      <td>na</td>\n",
       "      <td>Scapuloperoneal</td>\n",
       "      <td>Proximal</td>\n",
       "      <td>NaN</td>\n",
       "      <td>stiff</td>\n",
       "      <td>A</td>\n",
       "      <td>Rigid</td>\n",
       "      <td>Arrhythmia</td>\n",
       "      <td>N</td>\n",
       "      <td>c.16C&gt;T</td>\n",
       "    </tr>\n",
       "    <tr>\n",
       "      <th>4</th>\n",
       "      <td>EMD1 IV-24</td>\n",
       "      <td>41</td>\n",
       "      <td>P15Y</td>\n",
       "      <td>AT contractures</td>\n",
       "      <td>Slowly progressive</td>\n",
       "      <td>YD</td>\n",
       "      <td>+</td>\n",
       "      <td>2</td>\n",
       "      <td>Scapuloperoneal</td>\n",
       "      <td>Proximal</td>\n",
       "      <td>NaN</td>\n",
       "      <td>stiff</td>\n",
       "      <td>E,A</td>\n",
       "      <td>Rigid</td>\n",
       "      <td>Pacemaker</td>\n",
       "      <td>N</td>\n",
       "      <td>c.16C&gt;T</td>\n",
       "    </tr>\n",
       "  </tbody>\n",
       "</table>\n",
       "</div>"
      ],
      "text/plain": [
       "       Patient  Age      Onset                         First  Symptoms  \\\n",
       "0   EMD1 III-2   51  Childhood     Waddling gait,difficulty in running   \n",
       "1  EMD1 III-20   61  Childhood     Waddling gait,difficulty in running   \n",
       "2   EMD1 IV-13   48       P15Y  AT contractures, difficulty in running   \n",
       "3   EMD1 IV-14   46         na                  Difficulty in climbing   \n",
       "4   EMD1 IV-24   41       P15Y                         AT contractures   \n",
       "\n",
       "               Course Walks(age  [yr]) Severity  CK          Wasting  \\\n",
       "0  Slowly progressive               YD       ++  na  Scapuloperoneal   \n",
       "1  Slowly progressive          WCB(55)       ++   2  Scapuloperoneal   \n",
       "2  Slowly progressive               YD        +   2  Scapuloperoneal   \n",
       "3  Slowly progressive               YD        +  na  Scapuloperoneal   \n",
       "4  Slowly progressive               YD        +   2  Scapuloperoneal   \n",
       "\n",
       "  Weakness  in Upper Limbs Weakness  in Lower  Limbs   Neck Contracture  \\\n",
       "0                 Proximal                       NaN  stiff         E,A   \n",
       "1                 Proximal                       NaN  stiff         E,A   \n",
       "2                   Distal                  Proximal      N         E,A   \n",
       "3                 Proximal                       NaN  stiff           A   \n",
       "4                 Proximal                       NaN  stiff         E,A   \n",
       "\n",
       "   Spine Electrocardiography         Echocardiography NM_170707.4  \n",
       "0  Rigid           Pacemaker  Ventricular dysfunction     c.16C>T  \n",
       "1  Rigid           Pacemaker  Ventricular dysfunction     c.16C>T  \n",
       "2  Rigid          Arrhythmia                        N     c.16C>T  \n",
       "3  Rigid          Arrhythmia                        N     c.16C>T  \n",
       "4  Rigid           Pacemaker                        N     c.16C>T  "
      ]
     },
     "execution_count": 3,
     "metadata": {},
     "output_type": "execute_result"
    }
   ],
   "source": [
    "df = pd.read_csv(\"input/Bonne2000.tsv\", sep='\\t')\n",
    "df.head()"
   ]
  },
  {
   "cell_type": "code",
   "execution_count": 4,
   "id": "a3affe8a-2dc5-471c-b7c1-7145806c3b88",
   "metadata": {},
   "outputs": [],
   "source": [
    "# Make the approximate assumption that childhood onset is P2Y\n",
    "def iso_age(onset):\n",
    "    if onset.startswith(\"P\"):\n",
    "        return onset\n",
    "    elif onset == \"Childhood\":\n",
    "        return \"P2Y\"\n",
    "    elif onset == \"na\":\n",
    "        return \"n/a\"\n",
    "    else:\n",
    "        return f\"Could not map{onset}\"\n",
    "\n",
    "df['iso_onset'] = df[\"Onset\"].apply(lambda x: iso_age(x))\n",
    "ageMapper = AgeColumnMapper.iso8601(column_name='iso_onset')\n",
    "#ageMapper.preview_column(df['iso_onset'])\n",
    "sexMapper = SexColumnMapper.not_provided()"
   ]
  },
  {
   "cell_type": "code",
   "execution_count": 5,
   "id": "11b8d095-97d6-4360-a2b4-a2abe611abe8",
   "metadata": {},
   "outputs": [],
   "source": [
    "def indiv_id(patient):\n",
    "    individual_id = patient\n",
    "    return individual_id.replace(\" \", \"_\")\n",
    "    \n",
    "df['individual_id'] = df[\"Patient\"].apply(lambda x: indiv_id(x))"
   ]
  },
  {
   "cell_type": "code",
   "execution_count": 6,
   "id": "77df836b-bbe3-4b35-af0a-fa0a153b7262",
   "metadata": {},
   "outputs": [],
   "source": [
    "#res = OptionColumnMapper.autoformat(df=df, concept_recognizer=hpo_cr)\n",
    "#print(res)\n",
    "column_mapper_d = {}"
   ]
  },
  {
   "cell_type": "code",
   "execution_count": 7,
   "id": "95c5c82b-08bf-438d-ac48-3ff570ba6990",
   "metadata": {},
   "outputs": [],
   "source": [
    "first_symptoms_d = {'Waddling gait': 'Waddling gait',\n",
    " 'difficulty in running': 'Difficulty running',\n",
    " 'AT contractures': 'Achilles tendon contracture',\n",
    " 'Difficulty in climbing': 'Difficulty climbing stairs',\n",
    " 'Difficulty in walking': 'Difficulty walking',\n",
    " 'Difficulty in running': 'Difficulty running',\n",
    " 'Elbow flexion': 'Elbow flexion contracture',\n",
    " 'Weakness': 'Muscle weakness',\n",
    " 'positive Gower sign': 'Gowers sign',\n",
    " 'Frequent falls': 'Frequent falls',\n",
    " 'Positive Gower sign': 'Gowers sign',\n",
    " #'Difficulty in getting up': 'PLACEHOLDER',\n",
    " 'Falling': 'Frequent falls',\n",
    " 'fatigue': 'Fatigue',\n",
    " 'Fatigue': 'Fatigue',\n",
    " 'foot deformity': 'Abnormal foot morphology',\n",
    " 'Minimal wasting': 'Skeletal muscle atrophy',\n",
    " 'Delayed motor development': 'Motor delay'}\n",
    "firstsymptomsMapper = OptionColumnMapper(concept_recognizer=hpo_cr, option_d=first_symptoms_d)\n",
    "firstsymptomsMapper.preview_column(df['First  Symptoms'])\n",
    "column_mapper_d['First  Symptoms'] = firstsymptomsMapper"
   ]
  },
  {
   "cell_type": "code",
   "execution_count": 8,
   "id": "49911666-df6a-4cfc-ae83-be47e5b460bd",
   "metadata": {},
   "outputs": [],
   "source": [
    "walks_d = {'YD': 'Difficulty walking',\n",
    " 'WCB(55)': 'Loss of ambulation',\n",
    " 'WCB(13)': 'Loss of ambulation',\n",
    " 'WCB(8)': 'Loss of ambulation'}\n",
    "walksMapper = OptionColumnMapper(concept_recognizer=hpo_cr, option_d=walks_d)\n",
    "walksMapper.preview_column(df['Walks(age  [yr])'])\n",
    "column_mapper_d['Walks(age  [yr])'] = walksMapper"
   ]
  },
  {
   "cell_type": "code",
   "execution_count": 9,
   "id": "43dcbbe8-a908-4e9a-b4f3-66f1a386b511",
   "metadata": {},
   "outputs": [],
   "source": [
    "ck_d = {\n",
    "        '2': 'Elevated circulating creatine kinase concentration',\n",
    "        '3': 'Elevated circulating creatine kinase concentration',\n",
    "        '4': 'Highly elevated creatine kinase',\n",
    "        '5': 'Highly elevated creatine kinase',\n",
    "        '6': 'Highly elevated creatine kinase',\n",
    "        '7': 'Highly elevated creatine kinase',\n",
    "        '8': 'Highly elevated creatine kinase',\n",
    "         '15': 'Highly elevated creatine kinase',\n",
    "         '14': 'Highly elevated creatine kinase'}\n",
    "excluded ={'N': 'Elevated circulating creatine kinase concentration',}\n",
    "ckMapper = OptionColumnMapper(concept_recognizer=hpo_cr, option_d=ck_d, excluded_d=excluded)\n",
    "ckMapper.preview_column(df['CK'])\n",
    "column_mapper_d['CK'] = ckMapper"
   ]
  },
  {
   "cell_type": "code",
   "execution_count": 10,
   "id": "bfcb45f3-0fcf-4ce4-8363-d02710723d90",
   "metadata": {},
   "outputs": [],
   "source": [
    "wasting_d = {'Scapuloperoneal': 'Scapuloperoneal amyotrophy',\n",
    " 'Scapular': 'Amyotrophy involving the shoulder musculature',\n",
    " 'Mild distal': 'Distal amyotrophy',\n",
    " 'pes cavus': 'Pes cavus',\n",
    " 'Diffuse wasting': 'Distal amyotrophy',\n",
    " 'preddistal': 'Distal amyotrophy',\n",
    " 'Pseudohypertrophy calves': 'Calf muscle pseudohypertrophy',\n",
    " 'Both arms': 'Upper limb amyotrophy',\n",
    " 'Humeroperoneal': 'Proximal amyotrophy',\n",
    " 'bilateral pes equinus': 'Talipes equinovarus',\n",
    " 'Mild proximal': 'Proximal amyotrophy',\n",
    " 'Proximal': 'Proximal amyotrophy',\n",
    " 'scapular winging': 'Scapular winging',\n",
    " 'Diffuse': 'Generalized amyotrophy',\n",
    " #'Pseudohypertrophy in deltoideus': 'PLACEHOLDER', no term\n",
    " 'wasting shoulder': 'Amyotrophy involving the shoulder musculature',\n",
    " 'wasting leg': 'Lower limb amyotrophy',\n",
    " 'Upper arms': 'Proximal upper limb amyotrophy',\n",
    " 'glutei': 'Proximal lower limb amyotrophy',\n",
    " 'Proximal muscle': 'Proximal amyotrophy',\n",
    " 'upper arm': 'Upper limb amyotrophy',\n",
    " 'leg': 'Lower limb amyotrophy',\n",
    " 'Distal': 'Distal amyotrophy',\n",
    " 'pes equinovarus': 'Talipes equinovarus',\n",
    " 'legs': 'Lower limb amyotrophy',\n",
    " 'Humeral': 'Proximal upper limb amyotrophy',\n",
    " 'posterior leg': 'Lower limb amyotrophy',\n",
    " 'upper leg': 'Proximal lower limb amyotrophy',\n",
    " 'bilateral pes equinus': 'Bilateral talipes equinovarus'}\n",
    "wastingMapper = OptionColumnMapper(concept_recognizer=hpo_cr, option_d=wasting_d)\n",
    "wastingMapper.preview_column(df['Wasting'])\n",
    "column_mapper_d['Wasting'] = wastingMapper"
   ]
  },
  {
   "cell_type": "code",
   "execution_count": 11,
   "id": "d592e50c-9eae-4c56-9466-7c11eab1633e",
   "metadata": {},
   "outputs": [],
   "source": [
    "weakness_upper_limbs_d = {'Proximal': 'Proximal muscle weakness in upper limbs',\n",
    " 'Distal': 'Upper limb muscle weakness',\n",
    " 'Mildly proximal': 'Proximal muscle weakness in upper limbs'}\n",
    "weakness_upper_limbsMapper = OptionColumnMapper(concept_recognizer=hpo_cr, option_d=weakness_upper_limbs_d)\n",
    "weakness_upper_limbsMapper.preview_column(df['Weakness  in Upper Limbs'])\n",
    "column_mapper_d['Weakness  in Upper Limbs'] = weakness_upper_limbsMapper"
   ]
  },
  {
   "cell_type": "code",
   "execution_count": 12,
   "id": "e2e7e253-8f8d-4804-b04d-5e4ad54b9034",
   "metadata": {},
   "outputs": [],
   "source": [
    "weakness_lower_limbs_d = {\n",
    " 'Proximal': 'Proximal muscle weakness in lower limbs',\n",
    " 'Distal': 'Distal lower limb muscle weakness',\n",
    " }\n",
    "weakness_lower_limbsMapper = OptionColumnMapper(concept_recognizer=hpo_cr, option_d=weakness_lower_limbs_d)\n",
    "weakness_lower_limbsMapper.preview_column(df['Weakness  in Lower  Limbs'])\n",
    "column_mapper_d['Weakness  in Lower  Limbs'] = weakness_lower_limbsMapper"
   ]
  },
  {
   "cell_type": "code",
   "execution_count": 13,
   "id": "5367fdc6-0775-41a3-963e-3b0dcdaf839c",
   "metadata": {},
   "outputs": [],
   "source": [
    "neck_d = {'stiff': 'Stiff neck',\n",
    "}\n",
    "neckMapper = OptionColumnMapper(concept_recognizer=hpo_cr, option_d=neck_d)\n",
    "neckMapper.preview_column(df['Neck'])\n",
    "column_mapper_d['Neck'] = neckMapper"
   ]
  },
  {
   "cell_type": "code",
   "execution_count": 14,
   "id": "72852218-5653-4fd5-a165-dd3af967a01c",
   "metadata": {},
   "outputs": [],
   "source": [
    "# A: ankles;  E: elbow;  F: finger;  H: hips;  K: knee;  W: wrist;  N: normal;  \n",
    "contracture_d = {'E': 'Elbow contracture',\n",
    " 'A': 'Ankle contracture',\n",
    " 'K': 'Knee contracture',\n",
    " 'H': 'Hip contracture',\n",
    " 'W': 'Wrist flexion contracture',\n",
    " 'F': 'Finger joint contracture'}\n",
    "excluded = {'N':'Joint contracture' }\n",
    "contractureMapper = OptionColumnMapper(concept_recognizer=hpo_cr, option_d=contracture_d, excluded_d=excluded)\n",
    "contractureMapper.preview_column(df['Contracture'])\n",
    "column_mapper_d['Contracture'] = contractureMapper"
   ]
  },
  {
   "cell_type": "code",
   "execution_count": 15,
   "id": "b47cb3d9-b721-472b-ae3a-3ad1e2d4dfd6",
   "metadata": {},
   "outputs": [],
   "source": [
    "spine_d = {'Rigid': 'Spinal rigidity',\n",
    " 'Scoliosis': 'Scoliosis',\n",
    " 'thoracic kyphosis': 'Thoracic kyphosis',\n",
    " 'hyperext lordosis': 'Hyperlordosis'}\n",
    "spineMapper = OptionColumnMapper(concept_recognizer=hpo_cr, option_d=spine_d)\n",
    "spineMapper.preview_column(df['Spine'])\n",
    "column_mapper_d['Spine'] = spineMapper"
   ]
  },
  {
   "cell_type": "code",
   "execution_count": 16,
   "id": "74ab44c6-7ccf-461a-bc65-81b5956618f9",
   "metadata": {},
   "outputs": [],
   "source": [
    "# Six  pa-tients  had  a  pacemaker  inserted  (age  range,  35– 61years),  and  1  patient  (Spo1)  had  an  implantable  defi-brillator  inserted  for  \n",
    "# severe  ventricular  dysrhythmias duringel ectrophysiological testing.\n",
    "ecg_d = {'Pacemaker': 'Ventricular arrhythmia',\n",
    " 'Arrhythmia': 'Arrhythmia'}\n",
    "ecgMapper = OptionColumnMapper(concept_recognizer=hpo_cr, option_d=ecg_d)\n",
    "ecgMapper.preview_column(df['Electrocardiography'])\n",
    "column_mapper_d['Electrocardiography'] = ecgMapper"
   ]
  },
  {
   "cell_type": "code",
   "execution_count": 17,
   "id": "abd09d41-d82d-4837-9d92-a9ba88503579",
   "metadata": {},
   "outputs": [],
   "source": [
    "echo_d = {'Ventricular dysfunction': 'Abnormal left ventricular function'}\n",
    "excluded = {'N': 'Abnormal left ventricular function'}\n",
    "echoMapper = OptionColumnMapper(concept_recognizer=hpo_cr, option_d=echo_d, excluded_d=excluded)\n",
    "echoMapper.preview_column(df['Echocardiography'])\n",
    "column_mapper_d['Echocardiography'] = echoMapper"
   ]
  },
  {
   "cell_type": "markdown",
   "id": "f59f2327-af1f-4817-9d83-255c6adfd9af",
   "metadata": {},
   "source": [
    "# Variants\n",
    "\n",
    "We mapped the variants to HGNC nomenclature as follows\n",
    "\n",
    "- EMD1 CAG -> TAG  Q6Stop:  NM_170707.4(LMNA):c.16C>T (p.Gln6Ter) \n",
    "- Spo3 TAC -> TGC  Y45C: NM_170707.4(LMNA):c.134A>G (p.Tyr45Cys) \n",
    "- Spo27 CGC -> CCC  R50P: NM_170707.4(LMNA):c.149G>C (p.Arg50Pro) \n",
    "- Spo104 ATC ->AGC I63S: NM_170707.4(LMNA):c.188T>G (p.Ile63Ser) \n",
    "- Spo20 delGAG del112: NM_170707.4(LMNA):c.334_336del (p.Glu112del)\n",
    "- EMD3 CAT -> CCT H222P: NM_170707.4(LMNA):c.665A>C (p.His222Pro)\n",
    "- Spo70 GGG ->GAG G232E: NM_170707.4(LMNA):c.695G>A (p.Gly232Glu) \n",
    "- Spo89 CGG -> CAG R249Q: NM_170707.4(LMNA):c.746G>A (p.Arg249Gln)\n",
    "- Spo1 delAAG delK261: NM_170707.4:c.781_783del/NP_733821.1:p.(Lys261del)\n",
    "- Spo2 CAG ->CCG Q294P: NM_170707.4(LMNA):c.881A>C (p.Gln294Pro)\n",
    "- Spo11 GAG -> AAG E358K: NM_170707.4(LMNA):c.1072G>A (p.Glu358Lys)\n",
    "- Spo69 GAG -> AAG E358K: NM_170707.4(LMNA):c.1072G>A (p.Glu358Lys)\n",
    "- Spo10 ATG -> AAG M371K: NM_170707.4(LMNA):c.1112T>A (p.Met371Lys)\n",
    "- EMD5 AG/G -> AA/G R386K+intron 6: NM_170707.4(LMNA):c.1157G>A (p.Arg386Lys)\n",
    "- Spo47 CGG -> TGG R453W: NM_170707.4(LMNA):c.1357C>T (p.Arg453Trp)\n",
    "- Spo37 CGG -> TGG R453W: NM_170707.4(LMNA):c.1357C>T (p.Arg453Trp)\n",
    "- EMD2 CGG -> TGG R453W: NM_170707.4(LMNA):c.1357C>T (p.Arg453Trp)\n",
    "- Spo78 AAC -> AAA N456K: NM_170707.4(LMNA):c.1368C>A (p.Asn456Lys)\n",
    "- Spo21 TGG -> TCG W520S: NM_170707.4(LMNA):c.1559G>C (p.Trp520Ser)\n",
    "- EMD6 CGT -> CCT R527P: NM_170707.4(LMNA):c.1580G>C (p.Arg527Pro)\n",
    "- EMD4 CGT -> CCT R527P: NM_170707.4(LMNA):c.1580G>C (p.Arg527Pro)\n",
    "- Spo28 ACG -> AAG T528K: NM_170707.4(LMNA):c.1583C>A (p.Thr528Lys)\n",
    "- Spo29 ACG -> AAG T528K: NM_170707.4(LMNA):c.1583C>A (p.Thr528Lys)"
   ]
  },
  {
   "cell_type": "code",
   "execution_count": 18,
   "id": "de77bc76-c6ef-43dd-b157-f910704048c9",
   "metadata": {},
   "outputs": [
    {
     "name": "stdout",
     "output_type": "stream",
     "text": [
      "https://rest.variantvalidator.org/VariantValidator/variantvalidator/hg38/NM_005572.4%3Ac.16C>T/NM_005572.4?content-type=application%2Fjson\n",
      "https://rest.variantvalidator.org/VariantValidator/variantvalidator/hg38/NM_005572.4%3Ac.134A>G/NM_005572.4?content-type=application%2Fjson\n",
      "https://rest.variantvalidator.org/VariantValidator/variantvalidator/hg38/NM_005572.4%3Ac.149G>C/NM_005572.4?content-type=application%2Fjson\n",
      "https://rest.variantvalidator.org/VariantValidator/variantvalidator/hg38/NM_005572.4%3Ac.188T>G/NM_005572.4?content-type=application%2Fjson\n",
      "https://rest.variantvalidator.org/VariantValidator/variantvalidator/hg38/NM_005572.4%3Ac.334_336del/NM_005572.4?content-type=application%2Fjson\n",
      "https://rest.variantvalidator.org/VariantValidator/variantvalidator/hg38/NM_005572.4%3Ac.665A>C/NM_005572.4?content-type=application%2Fjson\n",
      "https://rest.variantvalidator.org/VariantValidator/variantvalidator/hg38/NM_005572.4%3Ac.695G>A/NM_005572.4?content-type=application%2Fjson\n",
      "https://rest.variantvalidator.org/VariantValidator/variantvalidator/hg38/NM_005572.4%3Ac.746G>A/NM_005572.4?content-type=application%2Fjson\n",
      "https://rest.variantvalidator.org/VariantValidator/variantvalidator/hg38/NM_005572.4%3Ac.781_783del/NM_005572.4?content-type=application%2Fjson\n",
      "https://rest.variantvalidator.org/VariantValidator/variantvalidator/hg38/NM_005572.4%3Ac.881A>C/NM_005572.4?content-type=application%2Fjson\n",
      "https://rest.variantvalidator.org/VariantValidator/variantvalidator/hg38/NM_005572.4%3Ac.1072G>A/NM_005572.4?content-type=application%2Fjson\n",
      "https://rest.variantvalidator.org/VariantValidator/variantvalidator/hg38/NM_005572.4%3Ac.1112T>A/NM_005572.4?content-type=application%2Fjson\n",
      "https://rest.variantvalidator.org/VariantValidator/variantvalidator/hg38/NM_005572.4%3Ac.1157G>A/NM_005572.4?content-type=application%2Fjson\n",
      "https://rest.variantvalidator.org/VariantValidator/variantvalidator/hg38/NM_005572.4%3Ac.1357C>T/NM_005572.4?content-type=application%2Fjson\n",
      "https://rest.variantvalidator.org/VariantValidator/variantvalidator/hg38/NM_005572.4%3Ac.1368C>A/NM_005572.4?content-type=application%2Fjson\n",
      "https://rest.variantvalidator.org/VariantValidator/variantvalidator/hg38/NM_005572.4%3Ac.1559G>C/NM_005572.4?content-type=application%2Fjson\n",
      "https://rest.variantvalidator.org/VariantValidator/variantvalidator/hg38/NM_005572.4%3Ac.1580G>C/NM_005572.4?content-type=application%2Fjson\n",
      "https://rest.variantvalidator.org/VariantValidator/variantvalidator/hg38/NM_005572.4%3Ac.1583C>A/NM_005572.4?content-type=application%2Fjson\n"
     ]
    }
   ],
   "source": [
    "LMNA_transcript = \"NM_005572.4\"\n",
    "vvalidator = VariantValidator(genome_build=\"hg38\", transcript=LMNA_transcript)\n",
    "var_d = {}\n",
    "for v in df['NM_170707.4'].unique():\n",
    "    var = vvalidator.encode_hgvs(v)\n",
    "    var.set_heterozygous()\n",
    "    var_d[v] = var"
   ]
  },
  {
   "cell_type": "code",
   "execution_count": 19,
   "id": "748aa16b-ad98-4b10-8e75-e22c997a988d",
   "metadata": {},
   "outputs": [],
   "source": [
    "varMapper = VariantColumnMapper(variant_d=var_d, variant_column_name='NM_170707.4', default_genotype='heterozygous')\n",
    "encoder = CohortEncoder(df=df, \n",
    "                        hpo_cr=hpo_cr, \n",
    "                        column_mapper_d=column_mapper_d, \n",
    "                        individual_column_name=\"individual_id\", \n",
    "                        agemapper=ageMapper, \n",
    "                        variant_mapper=varMapper,\n",
    "                        sexmapper=sexMapper,\n",
    "                        metadata=metadata)\n",
    "omim_id = \"OMIM:181350\"\n",
    "omim_label = \"Emery-Dreifuss muscular dystrophy 2, autosomal dominant\" \n",
    "edmd2 = Disease(disease_id=omim_id, disease_label=omim_label)\n",
    "encoder.set_disease(disease=edmd2)"
   ]
  },
  {
   "cell_type": "code",
   "execution_count": 20,
   "id": "a87e1dc7-ee19-4a7c-b514-e8a9063a914b",
   "metadata": {},
   "outputs": [
    {
     "name": "stdout",
     "output_type": "stream",
     "text": [
      "Could not parse the following as ISO8601 ages: n/a (n=1)\n"
     ]
    },
    {
     "data": {
      "text/html": [
       "<h2>Cohort validation</h2>\n",
       "<p>Errors found with 21 of 41 phenopackets.</p>\n",
       "<table style=\"border: 2px solid black; align: \"left\">\n",
       "<caption>Error counts</caption>\n",
       "<tr><th style=\"text-align: left;font-weight: bold;\">Level</th><th style=\"text-align: left;font-weight: bold;\">Error category</th><th style=\"text-align: left;font-weight: bold;\">Count</th></tr>\n",
       "<tr><td style=\"text-align: left;\">WARNING</td><td style=\"text-align: left;\">REDUNDANT</td><td style=\"text-align: left;\">22</td></tr>\n",
       "</table>\n",
       "<p>A total of 24 issues were fixed and no individual was removed from the cohort.</p>"
      ],
      "text/plain": [
       "<IPython.core.display.HTML object>"
      ]
     },
     "metadata": {},
     "output_type": "display_data"
    }
   ],
   "source": [
    "individuals = encoder.get_individuals()\n",
    "cvalidator = CohortValidator(cohort=individuals, ontology=hpo_ontology, min_hpo=1, allelic_requirement=AllelicRequirement.MONO_ALLELIC)\n",
    "qc = QcVisualizer(cohort_validator=cvalidator)\n",
    "display(HTML(qc.to_summary_html()))"
   ]
  },
  {
   "cell_type": "code",
   "execution_count": 21,
   "id": "ad5ae6a4-e5b2-4f70-a125-e1c78805d89c",
   "metadata": {},
   "outputs": [
    {
     "data": {
      "text/html": [
       "<table style=\"border: 2px solid black; align: \"left\">\n",
       "<caption>41 phenopackets - PMID:10939567 (n=41)</caption>\n",
       "<tr><th style=\"text-align: left;font-weight: bold;\">Individual</th><th style=\"text-align: left;font-weight: bold;\">Disease</th><th style=\"text-align: left;font-weight: bold;\">Genotype</th><th style=\"text-align: left;font-weight: bold;\">Phenotypic features</th></tr>\n",
       "<tr><td style=\"text-align: left;\">EMD1_III-2 (UNKNOWN; P2Y)</td><td style=\"text-align: left;\">Emery-Dreifuss muscular dystrophy 2, autosomal dominant (OMIM:181350)</td><td style=\"text-align: left;\">NM_005572.4:c.16C>T (heterozygous)</td><td style=\"text-align: left;\">Waddling gait (HP:0002515); Difficulty running (HP:0009046); Difficulty walking (HP:0002355); Scapuloperoneal amyotrophy (HP:0003697); Proximal muscle weakness in upper limbs (HP:0008997); Stiff neck (HP:0025258); Elbow contracture (HP:0034391); Ankle contracture (HP:0034677); Spinal rigidity (HP:0003306); Ventricular arrhythmia (HP:0004308); Abnormal left ventricular function (HP:0005162)</td></tr>\n",
       "<tr><td style=\"text-align: left;\">EMD1_III-20 (UNKNOWN; P2Y)</td><td style=\"text-align: left;\">Emery-Dreifuss muscular dystrophy 2, autosomal dominant (OMIM:181350)</td><td style=\"text-align: left;\">NM_005572.4:c.16C>T (heterozygous)</td><td style=\"text-align: left;\">Waddling gait (HP:0002515); Difficulty running (HP:0009046); Loss of ambulation (HP:0002505); Elevated circulating creatine kinase concentration (HP:0003236); Scapuloperoneal amyotrophy (HP:0003697); Proximal muscle weakness in upper limbs (HP:0008997); Stiff neck (HP:0025258); Elbow contracture (HP:0034391); Ankle contracture (HP:0034677); Spinal rigidity (HP:0003306); Ventricular arrhythmia (HP:0004308); Abnormal left ventricular function (HP:0005162)</td></tr>\n",
       "<tr><td style=\"text-align: left;\">EMD1_IV-13 (UNKNOWN; P15Y)</td><td style=\"text-align: left;\">Emery-Dreifuss muscular dystrophy 2, autosomal dominant (OMIM:181350)</td><td style=\"text-align: left;\">NM_005572.4:c.16C>T (heterozygous)</td><td style=\"text-align: left;\">Achilles tendon contracture (HP:0001771); Difficulty running (HP:0009046); Difficulty walking (HP:0002355); Elevated circulating creatine kinase concentration (HP:0003236); Scapuloperoneal amyotrophy (HP:0003697); Upper limb muscle weakness (HP:0003484); Proximal muscle weakness in lower limbs (HP:0008994); Elbow contracture (HP:0034391); Ankle contracture (HP:0034677); Spinal rigidity (HP:0003306); Arrhythmia (HP:0011675); excluded: Abnormal left ventricular function (HP:0005162)</td></tr>\n",
       "<tr><td style=\"text-align: left;\">EMD1_IV-14 (UNKNOWN; )</td><td style=\"text-align: left;\">Emery-Dreifuss muscular dystrophy 2, autosomal dominant (OMIM:181350)</td><td style=\"text-align: left;\">NM_005572.4:c.16C>T (heterozygous)</td><td style=\"text-align: left;\">Difficulty climbing stairs (HP:0003551); Difficulty walking (HP:0002355); Scapuloperoneal amyotrophy (HP:0003697); Proximal muscle weakness in upper limbs (HP:0008997); Stiff neck (HP:0025258); Ankle contracture (HP:0034677); Spinal rigidity (HP:0003306); Arrhythmia (HP:0011675); excluded: Abnormal left ventricular function (HP:0005162)</td></tr>\n",
       "<tr><td style=\"text-align: left;\">EMD1_IV-24 (UNKNOWN; P15Y)</td><td style=\"text-align: left;\">Emery-Dreifuss muscular dystrophy 2, autosomal dominant (OMIM:181350)</td><td style=\"text-align: left;\">NM_005572.4:c.16C>T (heterozygous)</td><td style=\"text-align: left;\">Achilles tendon contracture (HP:0001771); Difficulty walking (HP:0002355); Elevated circulating creatine kinase concentration (HP:0003236); Scapuloperoneal amyotrophy (HP:0003697); Proximal muscle weakness in upper limbs (HP:0008997); Stiff neck (HP:0025258); Elbow contracture (HP:0034391); Ankle contracture (HP:0034677); Spinal rigidity (HP:0003306); Ventricular arrhythmia (HP:0004308); excluded: Abnormal left ventricular function (HP:0005162)</td></tr>\n",
       "<tr><td style=\"text-align: left;\">Spo3 (UNKNOWN; P6Y)</td><td style=\"text-align: left;\">Emery-Dreifuss muscular dystrophy 2, autosomal dominant (OMIM:181350)</td><td style=\"text-align: left;\">NM_005572.4:c.134A>G (heterozygous)</td><td style=\"text-align: left;\">Difficulty walking (HP:0002355); Elevated circulating creatine kinase concentration (HP:0003236); Scapuloperoneal amyotrophy (HP:0003697); Proximal muscle weakness in upper limbs (HP:0008997); Proximal muscle weakness in lower limbs (HP:0008994); Distal lower limb muscle weakness (HP:0009053); Stiff neck (HP:0025258); Elbow contracture (HP:0034391); Knee contracture (HP:0034671); Ankle contracture (HP:0034677); Spinal rigidity (HP:0003306); excluded: Abnormal left ventricular function (HP:0005162)</td></tr>\n",
       "<tr><td style=\"text-align: left;\">Spo27 (UNKNOWN; P2Y)</td><td style=\"text-align: left;\">Emery-Dreifuss muscular dystrophy 2, autosomal dominant (OMIM:181350)</td><td style=\"text-align: left;\">NM_005572.4:c.149G>C (heterozygous)</td><td style=\"text-align: left;\">Difficulty walking (HP:0002355); Loss of ambulation (HP:0002505); Scapuloperoneal amyotrophy (HP:0003697); Proximal muscle weakness in upper limbs (HP:0008997); Proximal muscle weakness in lower limbs (HP:0008994); Distal lower limb muscle weakness (HP:0009053); Stiff neck (HP:0025258); Elbow contracture (HP:0034391); Hip contracture (HP:0003273); Knee contracture (HP:0034671); Spinal rigidity (HP:0003306); Arrhythmia (HP:0011675); excluded: Abnormal left ventricular function (HP:0005162)</td></tr>\n",
       "<tr><td style=\"text-align: left;\">Spo104 (UNKNOWN; P4Y)</td><td style=\"text-align: left;\">Emery-Dreifuss muscular dystrophy 2, autosomal dominant (OMIM:181350)</td><td style=\"text-align: left;\">NM_005572.4:c.188T>G (heterozygous)</td><td style=\"text-align: left;\">Difficulty running (HP:0009046); Elevated circulating creatine kinase concentration (HP:0003236); Scapuloperoneal amyotrophy (HP:0003697); Proximal muscle weakness in upper limbs (HP:0008997); Proximal muscle weakness in lower limbs (HP:0008994); Distal lower limb muscle weakness (HP:0009053); Stiff neck (HP:0025258); Elbow contracture (HP:0034391); Wrist flexion contracture (HP:0001239); Finger joint contracture (HP:0034681); Knee contracture (HP:0034671); Ankle contracture (HP:0034677); Spinal rigidity (HP:0003306); Arrhythmia (HP:0011675); Abnormal left ventricular function (HP:0005162)</td></tr>\n",
       "<tr><td style=\"text-align: left;\">Spo20 (UNKNOWN; P4Y)</td><td style=\"text-align: left;\">Emery-Dreifuss muscular dystrophy 2, autosomal dominant (OMIM:181350)</td><td style=\"text-align: left;\">NM_005572.4:c.334_336del (heterozygous)</td><td style=\"text-align: left;\">Difficulty running (HP:0009046); Elevated circulating creatine kinase concentration (HP:0003236); Scapuloperoneal amyotrophy (HP:0003697); Proximal muscle weakness in upper limbs (HP:0008997); Proximal muscle weakness in lower limbs (HP:0008994); Distal lower limb muscle weakness (HP:0009053); Stiff neck (HP:0025258); Elbow contracture (HP:0034391); Finger joint contracture (HP:0034681); Hip contracture (HP:0003273); Ankle contracture (HP:0034677); Spinal rigidity (HP:0003306); excluded: Abnormal left ventricular function (HP:0005162)</td></tr>\n",
       "<tr><td style=\"text-align: left;\">EMD3_III-3 (UNKNOWN; P1D)</td><td style=\"text-align: left;\">Emery-Dreifuss muscular dystrophy 2, autosomal dominant (OMIM:181350)</td><td style=\"text-align: left;\">NM_005572.4:c.665A>C (heterozygous)</td><td style=\"text-align: left;\">Elbow flexion contracture (HP:0002987); Amyotrophy involving the shoulder musculature (HP:0001465); Proximal muscle weakness in upper limbs (HP:0008997); Proximal muscle weakness in lower limbs (HP:0008994); Distal lower limb muscle weakness (HP:0009053); Stiff neck (HP:0025258); Ankle contracture (HP:0034677); Spinal rigidity (HP:0003306); Arrhythmia (HP:0011675)</td></tr>\n",
       "<tr><td style=\"text-align: left;\">EMD3_IV-5 (UNKNOWN; P2Y)</td><td style=\"text-align: left;\">Emery-Dreifuss muscular dystrophy 2, autosomal dominant (OMIM:181350)</td><td style=\"text-align: left;\">NM_005572.4:c.665A>C (heterozygous)</td><td style=\"text-align: left;\">Elbow flexion contracture (HP:0002987); Amyotrophy involving the shoulder musculature (HP:0001465); Stiff neck (HP:0025258); Ankle contracture (HP:0034677); Scoliosis (HP:0002650)</td></tr>\n",
       "<tr><td style=\"text-align: left;\">EMD3_IV-7 (UNKNOWN; P5Y)</td><td style=\"text-align: left;\">Emery-Dreifuss muscular dystrophy 2, autosomal dominant (OMIM:181350)</td><td style=\"text-align: left;\">NM_005572.4:c.665A>C (heterozygous)</td><td style=\"text-align: left;\">Achilles tendon contracture (HP:0001771); Amyotrophy involving the shoulder musculature (HP:0001465); Proximal muscle weakness in upper limbs (HP:0008997); Proximal muscle weakness in lower limbs (HP:0008994); Distal lower limb muscle weakness (HP:0009053); Stiff neck (HP:0025258); Elbow contracture (HP:0034391); Ankle contracture (HP:0034677); Spinal rigidity (HP:0003306); Arrhythmia (HP:0011675); excluded: Abnormal left ventricular function (HP:0005162)</td></tr>\n",
       "<tr><td style=\"text-align: left;\">Spo70 (UNKNOWN; P2Y)</td><td style=\"text-align: left;\">Emery-Dreifuss muscular dystrophy 2, autosomal dominant (OMIM:181350)</td><td style=\"text-align: left;\">NM_005572.4:c.695G>A (heterozygous)</td><td style=\"text-align: left;\">Gowers sign (HP:0003391); Loss of ambulation (HP:0002505); Highly elevated creatine kinase (HP:0030234); Distal amyotrophy (HP:0003693); Pes cavus (HP:0001761); Proximal muscle weakness in upper limbs (HP:0008997); Distal lower limb muscle weakness (HP:0009053); Stiff neck (HP:0025258); Elbow contracture (HP:0034391); Wrist flexion contracture (HP:0001239); Hip contracture (HP:0003273); Ankle contracture (HP:0034677); Spinal rigidity (HP:0003306); excluded: Abnormal left ventricular function (HP:0005162)</td></tr>\n",
       "<tr><td style=\"text-align: left;\">Spo89 (UNKNOWN; P8Y)</td><td style=\"text-align: left;\">Emery-Dreifuss muscular dystrophy 2, autosomal dominant (OMIM:181350)</td><td style=\"text-align: left;\">NM_005572.4:c.746G>A (heterozygous)</td><td style=\"text-align: left;\">Difficulty walking (HP:0002355); Scapuloperoneal amyotrophy (HP:0003697); Proximal muscle weakness in upper limbs (HP:0008997); Distal lower limb muscle weakness (HP:0009053); Elbow contracture (HP:0034391); Wrist flexion contracture (HP:0001239); Knee contracture (HP:0034671); Ankle contracture (HP:0034677); Arrhythmia (HP:0011675); excluded: Elevated circulating creatine kinase concentration (HP:0003236); excluded: Abnormal left ventricular function (HP:0005162)</td></tr>\n",
       "<tr><td style=\"text-align: left;\">Spo1 (UNKNOWN; P3Y)</td><td style=\"text-align: left;\">Emery-Dreifuss muscular dystrophy 2, autosomal dominant (OMIM:181350)</td><td style=\"text-align: left;\">NM_005572.4:c.781_783del (heterozygous)</td><td style=\"text-align: left;\">Ankle contracture (HP:0034677); Spinal rigidity (HP:0003306); Stiff neck (HP:0025258); Highly elevated creatine kinase (HP:0030234); Elbow contracture (HP:0034391); Difficulty walking (HP:0002355); Upper limb muscle weakness (HP:0003484); Arrhythmia (HP:0011675); Abnormal left ventricular function (HP:0005162); Distal lower limb muscle weakness (HP:0009053); Proximal muscle weakness in lower limbs (HP:0008994); Distal amyotrophy (HP:0003693)</td></tr>\n",
       "<tr><td style=\"text-align: left;\">Spo2 (UNKNOWN; P5Y)</td><td style=\"text-align: left;\">Emery-Dreifuss muscular dystrophy 2, autosomal dominant (OMIM:181350)</td><td style=\"text-align: left;\">NM_005572.4:c.881A>C (heterozygous)</td><td style=\"text-align: left;\">Frequent falls (HP:0002359); Amyotrophy involving the shoulder musculature (HP:0001465); Proximal muscle weakness in upper limbs (HP:0008997); Stiff neck (HP:0025258); Elbow contracture (HP:0034391); Ankle contracture (HP:0034677); Spinal rigidity (HP:0003306); Arrhythmia (HP:0011675); Abnormal left ventricular function (HP:0005162); excluded: Elevated circulating creatine kinase concentration (HP:0003236)</td></tr>\n",
       "<tr><td style=\"text-align: left;\">Spo11 (UNKNOWN; P1Y1M)</td><td style=\"text-align: left;\">Emery-Dreifuss muscular dystrophy 2, autosomal dominant (OMIM:181350)</td><td style=\"text-align: left;\">NM_005572.4:c.1072G>A (heterozygous)</td><td style=\"text-align: left;\">Highly elevated creatine kinase (HP:0030234); Scapuloperoneal amyotrophy (HP:0003697); Proximal muscle weakness in upper limbs (HP:0008997); Proximal muscle weakness in lower limbs (HP:0008994); Distal lower limb muscle weakness (HP:0009053); Stiff neck (HP:0025258); Ankle contracture (HP:0034677); Spinal rigidity (HP:0003306); excluded: Abnormal left ventricular function (HP:0005162)</td></tr>\n",
       "<tr><td style=\"text-align: left;\">Spo69 (UNKNOWN; P4Y)</td><td style=\"text-align: left;\">Emery-Dreifuss muscular dystrophy 2, autosomal dominant (OMIM:181350)</td><td style=\"text-align: left;\">NM_005572.4:c.1072G>A (heterozygous)</td><td style=\"text-align: left;\">Difficulty walking (HP:0002355); Elevated circulating creatine kinase concentration (HP:0003236); Scapuloperoneal amyotrophy (HP:0003697); Proximal muscle weakness in upper limbs (HP:0008997); Stiff neck (HP:0025258); Elbow contracture (HP:0034391); Hip contracture (HP:0003273); Ankle contracture (HP:0034677); Spinal rigidity (HP:0003306); Arrhythmia (HP:0011675); Abnormal left ventricular function (HP:0005162)</td></tr>\n",
       "<tr><td style=\"text-align: left;\">Spo10 (UNKNOWN; P21Y)</td><td style=\"text-align: left;\">Emery-Dreifuss muscular dystrophy 2, autosomal dominant (OMIM:181350)</td><td style=\"text-align: left;\">NM_005572.4:c.1112T>A (heterozygous)</td><td style=\"text-align: left;\">Difficulty climbing stairs (HP:0003551); Difficulty walking (HP:0002355); Elevated circulating creatine kinase concentration (HP:0003236); Amyotrophy involving the shoulder musculature (HP:0001465); Stiff neck (HP:0025258); Elbow contracture (HP:0034391); Spinal rigidity (HP:0003306); Ventricular arrhythmia (HP:0004308); excluded: Abnormal left ventricular function (HP:0005162)</td></tr>\n",
       "<tr><td style=\"text-align: left;\">EMD5_II-1 (UNKNOWN; P7Y)</td><td style=\"text-align: left;\">Emery-Dreifuss muscular dystrophy 2, autosomal dominant (OMIM:181350)</td><td style=\"text-align: left;\">NM_005572.4:c.1157G>A (heterozygous)</td><td style=\"text-align: left;\">Frequent falls (HP:0002359); Elevated circulating creatine kinase concentration (HP:0003236); Amyotrophy involving the shoulder musculature (HP:0001465); Proximal muscle weakness in upper limbs (HP:0008997); Proximal muscle weakness in lower limbs (HP:0008994); Distal lower limb muscle weakness (HP:0009053); Stiff neck (HP:0025258); Elbow contracture (HP:0034391); Ankle contracture (HP:0034677); Spinal rigidity (HP:0003306); Ventricular arrhythmia (HP:0004308); Abnormal left ventricular function (HP:0005162)</td></tr>\n",
       "<tr><td style=\"text-align: left;\">EMD5_III-3 (UNKNOWN; P4Y)</td><td style=\"text-align: left;\">Emery-Dreifuss muscular dystrophy 2, autosomal dominant (OMIM:181350)</td><td style=\"text-align: left;\">NM_005572.4:c.1157G>A (heterozygous)</td><td style=\"text-align: left;\">Waddling gait (HP:0002515); Achilles tendon contracture (HP:0001771); Highly elevated creatine kinase (HP:0030234); Calf muscle pseudohypertrophy (HP:0003707); Amyotrophy involving the shoulder musculature (HP:0001465); Proximal muscle weakness in upper limbs (HP:0008997); Stiff neck (HP:0025258); Elbow contracture (HP:0034391); Ankle contracture (HP:0034677); Spinal rigidity (HP:0003306); Arrhythmia (HP:0011675); excluded: Abnormal left ventricular function (HP:0005162)</td></tr>\n",
       "<tr><td style=\"text-align: left;\">EMD5_III-4 (UNKNOWN; P5Y)</td><td style=\"text-align: left;\">Emery-Dreifuss muscular dystrophy 2, autosomal dominant (OMIM:181350)</td><td style=\"text-align: left;\">NM_005572.4:c.1157G>A (heterozygous)</td><td style=\"text-align: left;\">Waddling gait (HP:0002515); Amyotrophy involving the shoulder musculature (HP:0001465); Proximal muscle weakness in upper limbs (HP:0008997); Stiff neck (HP:0025258); Elbow contracture (HP:0034391); Ankle contracture (HP:0034677); Spinal rigidity (HP:0003306); Arrhythmia (HP:0011675); excluded: Abnormal left ventricular function (HP:0005162)</td></tr>\n",
       "<tr><td style=\"text-align: left;\">EMD5_III-5 (UNKNOWN; P6Y)</td><td style=\"text-align: left;\">Emery-Dreifuss muscular dystrophy 2, autosomal dominant (OMIM:181350)</td><td style=\"text-align: left;\">NM_005572.4:c.1157G>A (heterozygous)</td><td style=\"text-align: left;\">Gowers sign (HP:0003391); Elevated circulating creatine kinase concentration (HP:0003236); Amyotrophy involving the shoulder musculature (HP:0001465); Elbow contracture (HP:0034391); Ankle contracture (HP:0034677); excluded: Abnormal left ventricular function (HP:0005162)</td></tr>\n",
       "<tr><td style=\"text-align: left;\">Spo4 (UNKNOWN; P3Y)</td><td style=\"text-align: left;\">Emery-Dreifuss muscular dystrophy 2, autosomal dominant (OMIM:181350)</td><td style=\"text-align: left;\">NM_005572.4:c.1357C>T (heterozygous)</td><td style=\"text-align: left;\">Difficulty running (HP:0009046); Highly elevated creatine kinase (HP:0030234); Upper limb amyotrophy (HP:0009129); Proximal muscle weakness in upper limbs (HP:0008997); Proximal muscle weakness in lower limbs (HP:0008994); Distal lower limb muscle weakness (HP:0009053); Stiff neck (HP:0025258); Elbow contracture (HP:0034391); Hip contracture (HP:0003273); Ankle contracture (HP:0034677); Spinal rigidity (HP:0003306); Arrhythmia (HP:0011675); Abnormal left ventricular function (HP:0005162)</td></tr>\n",
       "<tr><td style=\"text-align: left;\">Spo37 (UNKNOWN; P8Y)</td><td style=\"text-align: left;\">Emery-Dreifuss muscular dystrophy 2, autosomal dominant (OMIM:181350)</td><td style=\"text-align: left;\">NM_005572.4:c.1357C>T (heterozygous)</td><td style=\"text-align: left;\">Difficulty climbing stairs (HP:0003551); Elevated circulating creatine kinase concentration (HP:0003236); Proximal amyotrophy (HP:0007126); Bilateral talipes equinovarus (HP:0001776); Proximal muscle weakness in upper limbs (HP:0008997); Proximal muscle weakness in lower limbs (HP:0008994); Distal lower limb muscle weakness (HP:0009053); Stiff neck (HP:0025258); Elbow contracture (HP:0034391); Hip contracture (HP:0003273); Ankle contracture (HP:0034677); Spinal rigidity (HP:0003306); Ventricular arrhythmia (HP:0004308); excluded: Abnormal left ventricular function (HP:0005162)</td></tr>\n",
       "<tr><td style=\"text-align: left;\">EMD2_II-3 (UNKNOWN; P4Y)</td><td style=\"text-align: left;\">Emery-Dreifuss muscular dystrophy 2, autosomal dominant (OMIM:181350)</td><td style=\"text-align: left;\">NM_005572.4:c.1357C>T (heterozygous)</td><td style=\"text-align: left;\">Difficulty running (HP:0009046); Difficulty walking (HP:0002355); Proximal amyotrophy (HP:0007126); Proximal muscle weakness in upper limbs (HP:0008997); Proximal muscle weakness in lower limbs (HP:0008994); Stiff neck (HP:0025258); Elbow contracture (HP:0034391); Hip contracture (HP:0003273); Ankle contracture (HP:0034677); Spinal rigidity (HP:0003306); Scoliosis (HP:0002650); Arrhythmia (HP:0011675); excluded: Abnormal left ventricular function (HP:0005162)</td></tr>\n",
       "<tr><td style=\"text-align: left;\">EMD2_II-4 (UNKNOWN; P40Y)</td><td style=\"text-align: left;\">Emery-Dreifuss muscular dystrophy 2, autosomal dominant (OMIM:181350)</td><td style=\"text-align: left;\">NM_005572.4:c.1357C>T (heterozygous)</td><td style=\"text-align: left;\">Difficulty running (HP:0009046); Difficulty walking (HP:0002355); Proximal amyotrophy (HP:0007126); Scapular winging (HP:0003691); Proximal muscle weakness in upper limbs (HP:0008997); Proximal muscle weakness in lower limbs (HP:0008994); Stiff neck (HP:0025258); Elbow contracture (HP:0034391); Hip contracture (HP:0003273); Ankle contracture (HP:0034677); Spinal rigidity (HP:0003306); Scoliosis (HP:0002650); Arrhythmia (HP:0011675); excluded: Abnormal left ventricular function (HP:0005162)</td></tr>\n",
       "<tr><td style=\"text-align: left;\">EMD2_III-6 (UNKNOWN; P3Y)</td><td style=\"text-align: left;\">Emery-Dreifuss muscular dystrophy 2, autosomal dominant (OMIM:181350)</td><td style=\"text-align: left;\">NM_005572.4:c.1357C>T (heterozygous)</td><td style=\"text-align: left;\">Highly elevated creatine kinase (HP:0030234); Scapuloperoneal amyotrophy (HP:0003697); Proximal muscle weakness in upper limbs (HP:0008997); Proximal muscle weakness in lower limbs (HP:0008994); Distal lower limb muscle weakness (HP:0009053); Stiff neck (HP:0025258); Elbow contracture (HP:0034391); Ankle contracture (HP:0034677); Spinal rigidity (HP:0003306); excluded: Abnormal left ventricular function (HP:0005162)</td></tr>\n",
       "<tr><td style=\"text-align: left;\">EMD2_III-7 (UNKNOWN; P4Y)</td><td style=\"text-align: left;\">Emery-Dreifuss muscular dystrophy 2, autosomal dominant (OMIM:181350)</td><td style=\"text-align: left;\">NM_005572.4:c.1357C>T (heterozygous)</td><td style=\"text-align: left;\">Generalized amyotrophy (HP:0003700); Proximal muscle weakness in upper limbs (HP:0008997); Proximal muscle weakness in lower limbs (HP:0008994); Stiff neck (HP:0025258); Elbow contracture (HP:0034391); Ankle contracture (HP:0034677); Spinal rigidity (HP:0003306); excluded: Abnormal left ventricular function (HP:0005162)</td></tr>\n",
       "<tr><td style=\"text-align: left;\">Spo78 (UNKNOWN; P2Y)</td><td style=\"text-align: left;\">Emery-Dreifuss muscular dystrophy 2, autosomal dominant (OMIM:181350)</td><td style=\"text-align: left;\">NM_005572.4:c.1368C>A (heterozygous)</td><td style=\"text-align: left;\">Gowers sign (HP:0003391); Loss of ambulation (HP:0002505); Highly elevated creatine kinase (HP:0030234); Generalized amyotrophy (HP:0003700); Proximal muscle weakness in upper limbs (HP:0008997); Proximal muscle weakness in lower limbs (HP:0008994); Stiff neck (HP:0025258); Elbow contracture (HP:0034391); Hip contracture (HP:0003273); Knee contracture (HP:0034671); Ankle contracture (HP:0034677); Spinal rigidity (HP:0003306); excluded: Abnormal left ventricular function (HP:0005162)</td></tr>\n",
       "<tr><td style=\"text-align: left;\">Spo21 (UNKNOWN; P4Y)</td><td style=\"text-align: left;\">Emery-Dreifuss muscular dystrophy 2, autosomal dominant (OMIM:181350)</td><td style=\"text-align: left;\">NM_005572.4:c.1559G>C (heterozygous)</td><td style=\"text-align: left;\">Frequent falls (HP:0002359); Fatigue (HP:0012378); Difficulty walking (HP:0002355); Highly elevated creatine kinase (HP:0030234); Amyotrophy involving the shoulder musculature (HP:0001465); Lower limb amyotrophy (HP:0007210); Proximal muscle weakness in upper limbs (HP:0008997); Proximal muscle weakness in lower limbs (HP:0008994); Distal lower limb muscle weakness (HP:0009053); Stiff neck (HP:0025258); Elbow contracture (HP:0034391); Ankle contracture (HP:0034677); Spinal rigidity (HP:0003306); Thoracic kyphosis (HP:0002942); Arrhythmia (HP:0011675); Abnormal left ventricular function (HP:0005162)</td></tr>\n",
       "<tr><td style=\"text-align: left;\">EMD6_II-3 (UNKNOWN; P40Y)</td><td style=\"text-align: left;\">Emery-Dreifuss muscular dystrophy 2, autosomal dominant (OMIM:181350)</td><td style=\"text-align: left;\">NM_005572.4:c.1580G>C (heterozygous)</td><td style=\"text-align: left;\">Fatigue (HP:0012378); Elevated circulating creatine kinase concentration (HP:0003236); Proximal upper limb amyotrophy (HP:0008948); Proximal lower limb amyotrophy (HP:0008956); Proximal muscle weakness in upper limbs (HP:0008997); Distal lower limb muscle weakness (HP:0009053); Stiff neck (HP:0025258); Elbow contracture (HP:0034391); Hip contracture (HP:0003273); Ankle contracture (HP:0034677); Spinal rigidity (HP:0003306); Arrhythmia (HP:0011675)</td></tr>\n",
       "<tr><td style=\"text-align: left;\">EMD6_III-5 (UNKNOWN; P2Y)</td><td style=\"text-align: left;\">Emery-Dreifuss muscular dystrophy 2, autosomal dominant (OMIM:181350)</td><td style=\"text-align: left;\">NM_005572.4:c.1580G>C (heterozygous)</td><td style=\"text-align: left;\">Waddling gait (HP:0002515); Elevated circulating creatine kinase concentration (HP:0003236); Upper limb amyotrophy (HP:0009129); Lower limb amyotrophy (HP:0007210); Proximal lower limb amyotrophy (HP:0008956); Proximal muscle weakness in upper limbs (HP:0008997); Proximal muscle weakness in lower limbs (HP:0008994); Distal lower limb muscle weakness (HP:0009053); Stiff neck (HP:0025258); Elbow contracture (HP:0034391); Hip contracture (HP:0003273); Ankle contracture (HP:0034677); Spinal rigidity (HP:0003306); Arrhythmia (HP:0011675); excluded: Abnormal left ventricular function (HP:0005162)</td></tr>\n",
       "<tr><td style=\"text-align: left;\">EMD6_IV-7 (UNKNOWN; P3Y)</td><td style=\"text-align: left;\">Emery-Dreifuss muscular dystrophy 2, autosomal dominant (OMIM:181350)</td><td style=\"text-align: left;\">NM_005572.4:c.1580G>C (heterozygous)</td><td style=\"text-align: left;\">Difficulty walking (HP:0002355); Highly elevated creatine kinase (HP:0030234); Distal amyotrophy (HP:0003693); Talipes equinovarus (HP:0001762); Pes cavus (HP:0001761); Distal lower limb muscle weakness (HP:0009053); Stiff neck (HP:0025258); Elbow contracture (HP:0034391); Hip contracture (HP:0003273); Ankle contracture (HP:0034677); Spinal rigidity (HP:0003306); Arrhythmia (HP:0011675); excluded: Abnormal left ventricular function (HP:0005162)</td></tr>\n",
       "<tr><td style=\"text-align: left;\">EMD4_II-2 (UNKNOWN; P2Y)</td><td style=\"text-align: left;\">Emery-Dreifuss muscular dystrophy 2, autosomal dominant (OMIM:181350)</td><td style=\"text-align: left;\">NM_005572.4:c.1580G>C (heterozygous)</td><td style=\"text-align: left;\">Difficulty running (HP:0009046); Difficulty walking (HP:0002355); Highly elevated creatine kinase (HP:0030234); Proximal upper limb amyotrophy (HP:0008948); Lower limb amyotrophy (HP:0007210); Proximal lower limb amyotrophy (HP:0008956); Proximal muscle weakness in upper limbs (HP:0008997); Stiff neck (HP:0025258); Elbow contracture (HP:0034391); Ankle contracture (HP:0034677); Spinal rigidity (HP:0003306); Arrhythmia (HP:0011675); excluded: Abnormal left ventricular function (HP:0005162)</td></tr>\n",
       "<tr><td style=\"text-align: left;\">EMD4_III-4 (UNKNOWN; P4Y)</td><td style=\"text-align: left;\">Emery-Dreifuss muscular dystrophy 2, autosomal dominant (OMIM:181350)</td><td style=\"text-align: left;\">NM_005572.4:c.1580G>C (heterozygous)</td><td style=\"text-align: left;\">Frequent falls (HP:0002359); Fatigue (HP:0012378); Difficulty walking (HP:0002355); Highly elevated creatine kinase (HP:0030234); Proximal upper limb amyotrophy (HP:0008948); Lower limb amyotrophy (HP:0007210); Proximal lower limb amyotrophy (HP:0008956); Proximal muscle weakness in upper limbs (HP:0008997); Distal lower limb muscle weakness (HP:0009053); Stiff neck (HP:0025258); Elbow contracture (HP:0034391); Ankle contracture (HP:0034677); Scoliosis (HP:0002650); Arrhythmia (HP:0011675); excluded: Abnormal left ventricular function (HP:0005162)</td></tr>\n",
       "<tr><td style=\"text-align: left;\">EMD4_III-6 (UNKNOWN; P4Y)</td><td style=\"text-align: left;\">Emery-Dreifuss muscular dystrophy 2, autosomal dominant (OMIM:181350)</td><td style=\"text-align: left;\">NM_005572.4:c.1580G>C (heterozygous)</td><td style=\"text-align: left;\">Frequent falls (HP:0002359); Fatigue (HP:0012378); Highly elevated creatine kinase (HP:0030234); Proximal upper limb amyotrophy (HP:0008948); Lower limb amyotrophy (HP:0007210); Proximal muscle weakness in upper limbs (HP:0008997); Stiff neck (HP:0025258); Elbow contracture (HP:0034391); Ankle contracture (HP:0034677); Scoliosis (HP:0002650); excluded: Abnormal left ventricular function (HP:0005162)</td></tr>\n",
       "<tr><td style=\"text-align: left;\">EMD4_III-7 (UNKNOWN; P4Y)</td><td style=\"text-align: left;\">Emery-Dreifuss muscular dystrophy 2, autosomal dominant (OMIM:181350)</td><td style=\"text-align: left;\">NM_005572.4:c.1580G>C (heterozygous)</td><td style=\"text-align: left;\">Frequent falls (HP:0002359); Fatigue (HP:0012378); Highly elevated creatine kinase (HP:0030234); Proximal upper limb amyotrophy (HP:0008948); Lower limb amyotrophy (HP:0007210); Proximal lower limb amyotrophy (HP:0008956); Proximal muscle weakness in upper limbs (HP:0008997); Stiff neck (HP:0025258); Elbow contracture (HP:0034391); Ankle contracture (HP:0034677); Spinal rigidity (HP:0003306); excluded: Abnormal left ventricular function (HP:0005162)</td></tr>\n",
       "<tr><td style=\"text-align: left;\">EMD4_III-8 (UNKNOWN; P15Y)</td><td style=\"text-align: left;\">Emery-Dreifuss muscular dystrophy 2, autosomal dominant (OMIM:181350)</td><td style=\"text-align: left;\">NM_005572.4:c.1580G>C (heterozygous)</td><td style=\"text-align: left;\">Highly elevated creatine kinase (HP:0030234); Proximal upper limb amyotrophy (HP:0008948); Lower limb amyotrophy (HP:0007210); Proximal lower limb amyotrophy (HP:0008956); Proximal muscle weakness in upper limbs (HP:0008997); Elbow contracture (HP:0034391); Ankle contracture (HP:0034677); Spinal rigidity (HP:0003306)</td></tr>\n",
       "<tr><td style=\"text-align: left;\">Spo28 (UNKNOWN; P2Y)</td><td style=\"text-align: left;\">Emery-Dreifuss muscular dystrophy 2, autosomal dominant (OMIM:181350)</td><td style=\"text-align: left;\">NM_005572.4:c.1583C>A (heterozygous)</td><td style=\"text-align: left;\">Ankle contracture (HP:0034677); Spinal rigidity (HP:0003306); Hyperlordosis (HP:0003307); Highly elevated creatine kinase (HP:0030234); Fatigue (HP:0012378); Elbow contracture (HP:0034391); Difficulty walking (HP:0002355); Proximal muscle weakness in upper limbs (HP:0008997); Arrhythmia (HP:0011675); Distal lower limb muscle weakness (HP:0009053); Proximal muscle weakness in lower limbs (HP:0008994); Distal amyotrophy (HP:0003693); Hip contracture (HP:0003273)</td></tr>\n",
       "<tr><td style=\"text-align: left;\">Spo29 (UNKNOWN; P1Y)</td><td style=\"text-align: left;\">Emery-Dreifuss muscular dystrophy 2, autosomal dominant (OMIM:181350)</td><td style=\"text-align: left;\">NM_005572.4:c.1583C>A (heterozygous)</td><td style=\"text-align: left;\">Motor delay (HP:0001270); Fatigue (HP:0012378); Highly elevated creatine kinase (HP:0030234); Upper limb amyotrophy (HP:0009129); Proximal lower limb amyotrophy (HP:0008956); Bilateral talipes equinovarus (HP:0001776); Proximal muscle weakness in upper limbs (HP:0008997); Proximal muscle weakness in lower limbs (HP:0008994); Distal lower limb muscle weakness (HP:0009053); Stiff neck (HP:0025258); Elbow contracture (HP:0034391); Ankle contracture (HP:0034677); Spinal rigidity (HP:0003306); Arrhythmia (HP:0011675); excluded: Abnormal left ventricular function (HP:0005162)</td></tr>\n",
       "</table>"
      ],
      "text/plain": [
       "<IPython.core.display.HTML object>"
      ]
     },
     "metadata": {},
     "output_type": "display_data"
    }
   ],
   "source": [
    "individuals = cvalidator.get_error_free_individual_list()\n",
    "table = PhenopacketTable(individual_list=individuals, metadata=metadata)\n",
    "display(HTML(table.to_html()))"
   ]
  },
  {
   "cell_type": "code",
   "execution_count": 22,
   "id": "58064f8d-8a41-40eb-a590-19cbe68697a9",
   "metadata": {},
   "outputs": [
    {
     "data": {
      "text/plain": [
       "Index(['Patient', 'Age', 'Onset', 'First  Symptoms', 'Course',\n",
       "       'Walks(age  [yr])', 'Severity', 'CK', 'Wasting',\n",
       "       'Weakness  in Upper Limbs', 'Weakness  in Lower  Limbs', 'Neck',\n",
       "       'Contracture', 'Spine', 'Electrocardiography', 'Echocardiography',\n",
       "       'NM_170707.4', 'iso_onset', 'individual_id'],\n",
       "      dtype='object')"
      ]
     },
     "execution_count": 22,
     "metadata": {},
     "output_type": "execute_result"
    }
   ],
   "source": [
    "df.columns"
   ]
  },
  {
   "cell_type": "code",
   "execution_count": 23,
   "id": "14679244-1ba5-4037-b9f3-5bf31280140a",
   "metadata": {},
   "outputs": [
    {
     "data": {
      "text/plain": [
       "array(['Pacemaker', 'Arrhythmia', 'N'], dtype=object)"
      ]
     },
     "execution_count": 23,
     "metadata": {},
     "output_type": "execute_result"
    }
   ],
   "source": [
    "df['Electrocardiography'].unique()"
   ]
  },
  {
   "cell_type": "code",
   "execution_count": null,
   "id": "c3f1ae72-55a8-43d8-a78c-0f857e90328f",
   "metadata": {},
   "outputs": [],
   "source": []
  }
 ],
 "metadata": {
  "kernelspec": {
   "display_name": "ps24venv",
   "language": "python",
   "name": "ps24venv"
  },
  "language_info": {
   "codemirror_mode": {
    "name": "ipython",
    "version": 3
   },
   "file_extension": ".py",
   "mimetype": "text/x-python",
   "name": "python",
   "nbconvert_exporter": "python",
   "pygments_lexer": "ipython3",
   "version": "3.8.10"
  }
 },
 "nbformat": 4,
 "nbformat_minor": 5
}
