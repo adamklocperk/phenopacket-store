{
 "cells": [
  {
   "cell_type": "markdown",
   "id": "a326d83c-898d-4659-93c7-a0acbdf2747f",
   "metadata": {},
   "source": [
    "# LMNA Brodsky et al, Cardiomyopathy, dilated, 1A \n",
    "\n",
    "\n",
    "The data in this workbook were derived from Table 1 of [Brodsky GL, et al (2000) Lamin A/C gene mutation associated with dilated cardiomyopathy with variable skeletal muscle involvement. Circulation;101(5):473-6. PMID:10662742](https://pubmed.ncbi.nlm.nih.gov/10662742/).\n",
    "\n",
    "Note that we will code the following two features as excluded in all individuals based on knowledge external to the above cited publication.\n",
    "\n",
    "- Excluded: Progeroid facial appearance HP:0005328 (see OMIM)\n",
    "- Excluded: Lipodystrophy HP:0009125 (see OMIM)"
   ]
  },
  {
   "cell_type": "code",
   "execution_count": 1,
   "id": "2f60587f-fa46-4050-a9b9-97a80412b2ac",
   "metadata": {},
   "outputs": [
    {
     "name": "stdout",
     "output_type": "stream",
     "text": [
      "Using pyphetools version 0.9.15\n"
     ]
    }
   ],
   "source": [
    "import pandas as pd\n",
    "pd.set_option('display.max_colwidth', None) # show entire column contents, important!\n",
    "from IPython.display import display, HTML\n",
    "from pyphetools.creation import *\n",
    "from pyphetools.visualization import *\n",
    "from pyphetools.validation import *\n",
    "import pyphetools\n",
    "print(f\"Using pyphetools version {pyphetools.__version__}\")"
   ]
  },
  {
   "cell_type": "code",
   "execution_count": 2,
   "id": "829549e2-4381-4520-b6fd-4270d466698b",
   "metadata": {},
   "outputs": [
    {
     "name": "stdout",
     "output_type": "stream",
     "text": [
      "HPO version 2023-10-09\n"
     ]
    }
   ],
   "source": [
    "PMID = \"PMID:10662742\"\n",
    "title = \"Lamin A/C gene mutation associated with dilated cardiomyopathy with variable skeletal muscle involvement\"\n",
    "cite = Citation(pmid=PMID, title=title)\n",
    "parser = HpoParser(hpo_json_file=\"../hp.json\")\n",
    "hpo_cr = parser.get_hpo_concept_recognizer()\n",
    "hpo_version = parser.get_version()\n",
    "hpo_ontology = parser.get_ontology()\n",
    "metadata = MetaData(created_by=\"ORCID:0000-0002-0736-9199\", citation=cite)\n",
    "metadata.default_versions_with_hpo(version=hpo_version)\n",
    "print(f\"HPO version {hpo_version}\")"
   ]
  },
  {
   "cell_type": "code",
   "execution_count": 3,
   "id": "16a03a95-439d-4920-bd18-39f52eb99361",
   "metadata": {},
   "outputs": [
    {
     "data": {
      "text/html": [
       "<div>\n",
       "<style scoped>\n",
       "    .dataframe tbody tr th:only-of-type {\n",
       "        vertical-align: middle;\n",
       "    }\n",
       "\n",
       "    .dataframe tbody tr th {\n",
       "        vertical-align: top;\n",
       "    }\n",
       "\n",
       "    .dataframe thead th {\n",
       "        text-align: right;\n",
       "    }\n",
       "</style>\n",
       "<table border=\"1\" class=\"dataframe\">\n",
       "  <thead>\n",
       "    <tr style=\"text-align: right;\">\n",
       "      <th></th>\n",
       "      <th>ID</th>\n",
       "      <th>II-1</th>\n",
       "      <th>II-5</th>\n",
       "      <th>III-1</th>\n",
       "      <th>III-3</th>\n",
       "      <th>III-4</th>\n",
       "    </tr>\n",
       "  </thead>\n",
       "  <tbody>\n",
       "    <tr>\n",
       "      <th>0</th>\n",
       "      <td>Age, y</td>\n",
       "      <td>22</td>\n",
       "      <td>30</td>\n",
       "      <td>4</td>\n",
       "      <td>16</td>\n",
       "      <td>18</td>\n",
       "    </tr>\n",
       "    <tr>\n",
       "      <th>1</th>\n",
       "      <td>Sex</td>\n",
       "      <td>M</td>\n",
       "      <td>M</td>\n",
       "      <td>F</td>\n",
       "      <td>M</td>\n",
       "      <td>F</td>\n",
       "    </tr>\n",
       "    <tr>\n",
       "      <th>2</th>\n",
       "      <td>NYHA class</td>\n",
       "      <td>2</td>\n",
       "      <td>3</td>\n",
       "      <td>1</td>\n",
       "      <td>1</td>\n",
       "      <td>1</td>\n",
       "    </tr>\n",
       "    <tr>\n",
       "      <th>3</th>\n",
       "      <td>CK-MM</td>\n",
       "      <td>N-3×</td>\n",
       "      <td>N</td>\n",
       "      <td>N</td>\n",
       "      <td>3×</td>\n",
       "      <td>4×</td>\n",
       "    </tr>\n",
       "    <tr>\n",
       "      <th>4</th>\n",
       "      <td>Arrhythmia</td>\n",
       "      <td>NSVT, SVT</td>\n",
       "      <td>AF, VT</td>\n",
       "      <td>PAC</td>\n",
       "      <td>SVT, PVC</td>\n",
       "      <td>SVT</td>\n",
       "    </tr>\n",
       "  </tbody>\n",
       "</table>\n",
       "</div>"
      ],
      "text/plain": [
       "           ID       II-1    II-5 III-1     III-3 III-4\n",
       "0      Age, y         22      30     4        16    18\n",
       "1         Sex          M       M     F         M     F\n",
       "2  NYHA class          2       3     1         1     1\n",
       "3       CK-MM       N-3×       N     N        3×    4×\n",
       "4  Arrhythmia  NSVT, SVT  AF, VT   PAC  SVT, PVC   SVT"
      ]
     },
     "execution_count": 3,
     "metadata": {},
     "output_type": "execute_result"
    }
   ],
   "source": [
    "df = pd.read_excel(\"input/Brodsky2000.xlsx\")\n",
    "df.head()"
   ]
  },
  {
   "cell_type": "code",
   "execution_count": 4,
   "id": "f7433423-df06-458b-ada4-ac54b65b9ee4",
   "metadata": {},
   "outputs": [
    {
     "data": {
      "text/html": [
       "<div>\n",
       "<style scoped>\n",
       "    .dataframe tbody tr th:only-of-type {\n",
       "        vertical-align: middle;\n",
       "    }\n",
       "\n",
       "    .dataframe tbody tr th {\n",
       "        vertical-align: top;\n",
       "    }\n",
       "\n",
       "    .dataframe thead th {\n",
       "        text-align: right;\n",
       "    }\n",
       "</style>\n",
       "<table border=\"1\" class=\"dataframe\">\n",
       "  <thead>\n",
       "    <tr style=\"text-align: right;\">\n",
       "      <th>ID</th>\n",
       "      <th>Age, y</th>\n",
       "      <th>Sex</th>\n",
       "      <th>NYHA class</th>\n",
       "      <th>CK-MM</th>\n",
       "      <th>Arrhythmia</th>\n",
       "      <th>ECG</th>\n",
       "      <th>LVEDD, cm</th>\n",
       "      <th>FS, %</th>\n",
       "      <th>EF, %</th>\n",
       "      <th>Neuromuscular</th>\n",
       "      <th>Pattern</th>\n",
       "      <th>Duration, y</th>\n",
       "      <th>LVEF, %</th>\n",
       "      <th>Outcome</th>\n",
       "      <th>patient_id</th>\n",
       "    </tr>\n",
       "  </thead>\n",
       "  <tbody>\n",
       "    <tr>\n",
       "      <th>II-1</th>\n",
       "      <td>22</td>\n",
       "      <td>M</td>\n",
       "      <td>2</td>\n",
       "      <td>N-3×</td>\n",
       "      <td>NSVT, SVT</td>\n",
       "      <td>AVB 2°–3°,LBBB 1°</td>\n",
       "      <td>5.9</td>\n",
       "      <td>12</td>\n",
       "      <td>30</td>\n",
       "      <td>Weakness, slight calf hypertrophy</td>\n",
       "      <td>Mild LGMD</td>\n",
       "      <td>11</td>\n",
       "      <td>27</td>\n",
       "      <td>DCM, HF, transplant</td>\n",
       "      <td>II-1</td>\n",
       "    </tr>\n",
       "    <tr>\n",
       "      <th>II-5</th>\n",
       "      <td>30</td>\n",
       "      <td>M</td>\n",
       "      <td>3</td>\n",
       "      <td>N</td>\n",
       "      <td>AF, VT</td>\n",
       "      <td>AVB 2°–3°,LBBB 1°</td>\n",
       "      <td>6</td>\n",
       "      <td>24</td>\n",
       "      <td>48</td>\n",
       "      <td>N</td>\n",
       "      <td>N</td>\n",
       "      <td>2</td>\n",
       "      <td>16</td>\n",
       "      <td>HF, SD</td>\n",
       "      <td>II-5</td>\n",
       "    </tr>\n",
       "    <tr>\n",
       "      <th>III-1</th>\n",
       "      <td>4</td>\n",
       "      <td>F</td>\n",
       "      <td>1</td>\n",
       "      <td>N</td>\n",
       "      <td>PAC</td>\n",
       "      <td>N</td>\n",
       "      <td>2.8</td>\n",
       "      <td>36</td>\n",
       "      <td>…</td>\n",
       "      <td>Minimal weakness</td>\n",
       "      <td>Aspecific</td>\n",
       "      <td>2</td>\n",
       "      <td>…</td>\n",
       "      <td>Stable</td>\n",
       "      <td>III-1</td>\n",
       "    </tr>\n",
       "    <tr>\n",
       "      <th>III-3</th>\n",
       "      <td>16</td>\n",
       "      <td>M</td>\n",
       "      <td>1</td>\n",
       "      <td>3×</td>\n",
       "      <td>SVT, PVC</td>\n",
       "      <td>N</td>\n",
       "      <td>4.8</td>\n",
       "      <td>33</td>\n",
       "      <td>49</td>\n",
       "      <td>Slight weakness of limb-girdle</td>\n",
       "      <td>Mild LGMD</td>\n",
       "      <td>3</td>\n",
       "      <td>57</td>\n",
       "      <td>Stable</td>\n",
       "      <td>III-3</td>\n",
       "    </tr>\n",
       "    <tr>\n",
       "      <th>III-4</th>\n",
       "      <td>18</td>\n",
       "      <td>F</td>\n",
       "      <td>1</td>\n",
       "      <td>4×</td>\n",
       "      <td>SVT</td>\n",
       "      <td>LAH</td>\n",
       "      <td>4.5</td>\n",
       "      <td>37</td>\n",
       "      <td>63</td>\n",
       "      <td>Slight rigidity of spine, elbow, Achilles tendon</td>\n",
       "      <td>Mild EDMD</td>\n",
       "      <td>3</td>\n",
       "      <td>63</td>\n",
       "      <td>Stable</td>\n",
       "      <td>III-4</td>\n",
       "    </tr>\n",
       "  </tbody>\n",
       "</table>\n",
       "</div>"
      ],
      "text/plain": [
       "ID    Age, y Sex NYHA class CK-MM Arrhythmia                ECG LVEDD, cm  \\\n",
       "II-1      22   M          2  N-3×  NSVT, SVT  AVB 2°–3°,LBBB 1°       5.9   \n",
       "II-5      30   M          3     N     AF, VT  AVB 2°–3°,LBBB 1°         6   \n",
       "III-1      4   F          1     N        PAC                  N       2.8   \n",
       "III-3     16   M          1    3×   SVT, PVC                  N       4.8   \n",
       "III-4     18   F          1    4×        SVT                LAH       4.5   \n",
       "\n",
       "ID    FS, % EF, %                                     Neuromuscular  \\\n",
       "II-1     12    30                 Weakness, slight calf hypertrophy   \n",
       "II-5     24    48                                                 N   \n",
       "III-1    36     …                                  Minimal weakness   \n",
       "III-3    33    49                    Slight weakness of limb-girdle   \n",
       "III-4    37    63  Slight rigidity of spine, elbow, Achilles tendon   \n",
       "\n",
       "ID       Pattern Duration, y LVEF, %              Outcome patient_id  \n",
       "II-1   Mild LGMD          11      27  DCM, HF, transplant       II-1  \n",
       "II-5           N           2      16               HF, SD       II-5  \n",
       "III-1  Aspecific           2       …               Stable      III-1  \n",
       "III-3  Mild LGMD           3      57               Stable      III-3  \n",
       "III-4  Mild EDMD           3      63               Stable      III-4  "
      ]
     },
     "execution_count": 4,
     "metadata": {},
     "output_type": "execute_result"
    }
   ],
   "source": [
    "dft = df.transpose()\n",
    "dft.columns = dft.iloc[0]\n",
    "dft.drop(dft.index[0], inplace=True)\n",
    "dft['patient_id'] = dft.index  # Set the new column 'patient_id' to be identical to the contents of the index\n",
    "dft.head() # check the transposed table"
   ]
  },
  {
   "cell_type": "code",
   "execution_count": 5,
   "id": "1071e906-894e-473d-af37-e6ef8d6a0c02",
   "metadata": {},
   "outputs": [],
   "source": [
    "ageMapper = AgeColumnMapper.by_year(column_name=\"Age, y\")\n",
    "#ageMapper.preview_column(dft[\"Age, y\"])\n",
    "sexMapper = SexColumnMapper(male_symbol=\"M\", female_symbol=\"F\", column_name=\"Sex\")\n",
    "#sexMapper.preview_column(dft[\"Sex\"])"
   ]
  },
  {
   "cell_type": "code",
   "execution_count": 6,
   "id": "7de21482-a317-4cb6-93c5-4ada1cbd8461",
   "metadata": {},
   "outputs": [],
   "source": [
    "# used for creating mapper only\n",
    "# result = OptionColumnMapper.autoformat(df=dft, concept_recognizer=hpo_cr)\n",
    "column_mapper_d = {}"
   ]
  },
  {
   "cell_type": "code",
   "execution_count": 7,
   "id": "e926a330-1836-4341-a49c-089bb90a2345",
   "metadata": {},
   "outputs": [],
   "source": [
    "ck_mm_d = {'N-3×': 'Increased circulating creatine kinase MM isoform',\n",
    " '3×': 'Increased circulating creatine kinase MM isoform',\n",
    " '4×': 'Increased circulating creatine kinase MM isoform'}\n",
    "ckmmMapper = OptionColumnMapper(concept_recognizer=hpo_cr, option_d=ck_mm_d)\n",
    "ckmmMapper.preview_column(dft['CK-MM'])\n",
    "column_mapper_d['CK-MM'] = ckmmMapper"
   ]
  },
  {
   "cell_type": "code",
   "execution_count": 8,
   "id": "b03aad33-03b3-417d-a3ad-d2305b80400d",
   "metadata": {},
   "outputs": [],
   "source": [
    "dft['NYHA class'].unique() # 1, 2, 3 -- all of which indicate heart failure\n",
    "chfMapper = ConstantColumnMapper(hpo_id=\"HP:0001635\", hpo_label=\"Congestive heart failure\")\n",
    "column_mapper_d['NYHA class'] = chfMapper\n"
   ]
  },
  {
   "cell_type": "code",
   "execution_count": 9,
   "id": "55ddab58-8c8b-432e-ab3d-7b3103b8a327",
   "metadata": {},
   "outputs": [],
   "source": [
    "arrhythmia_d = {'NSVT': 'Ventricular tachycardia',\n",
    " 'SVT': 'Supraventricular tachycardia',\n",
    " 'AF': 'Atrial fibrillation',\n",
    " 'VT': 'Ventricular tachycardia',\n",
    " 'PAC': 'Premature atrial contractions',\n",
    " 'PVC': 'Premature ventricular contraction'}\n",
    "arrhythmiaMapper = OptionColumnMapper(concept_recognizer=hpo_cr, option_d=arrhythmia_d)\n",
    "arrhythmiaMapper.preview_column(dft['Arrhythmia'])\n",
    "column_mapper_d['Arrhythmia'] = arrhythmiaMapper"
   ]
  },
  {
   "cell_type": "code",
   "execution_count": 10,
   "id": "8f1c531c-e4ec-49b9-a429-2266b6fed49f",
   "metadata": {},
   "outputs": [],
   "source": [
    "ecg_d = {'AVB 2°–3°': 'Second degree atrioventricular block',\n",
    " 'LBBB 1°': 'Left bundle branch block',\n",
    " 'LAH': 'Left anterior fascicular block'}\n",
    "excluded = {\"N\": \"Cardiac conduction abnormality\"}\n",
    "ecgMapper = OptionColumnMapper(concept_recognizer=hpo_cr, option_d=ecg_d, excluded_d=excluded)\n",
    "ecgMapper.preview_column(dft['ECG'])\n",
    "column_mapper_d['ECG'] = ecgMapper"
   ]
  },
  {
   "cell_type": "code",
   "execution_count": 11,
   "id": "058c9595-9cd0-4ae5-9d35-74dcdae03f7c",
   "metadata": {},
   "outputs": [],
   "source": [
    "# Normal values not provided in article. We will assume LVEDD. mm. F. 38-52. M. 42-58.\n",
    "lvedd_cm_d = {'5.9': 'Elevated left ventricular end-diastolic diameter',\n",
    "}\n",
    "excluded = { '2.8': 'Elevated left ventricular end-diastolic diameter',\n",
    " '4.8': 'Elevated left ventricular end-diastolic diameter',\n",
    " '4.5': 'Elevated left ventricular end-diastolic diameter'} \n",
    "lvedd_cmMapper = OptionColumnMapper(concept_recognizer=hpo_cr, option_d=lvedd_cm_d, excluded_d=excluded)\n",
    "lvedd_cmMapper.preview_column(dft['LVEDD, cm'])\n",
    "column_mapper_d['LVEDD, cm'] = lvedd_cmMapper"
   ]
  },
  {
   "cell_type": "code",
   "execution_count": 12,
   "id": "812292de-937a-48c6-a1b7-12ed21644612",
   "metadata": {},
   "outputs": [],
   "source": [
    "ef_d = {'30': 'Moderately reduced left ventricular ejection fraction',\n",
    " '48': 'Mildly reduced left ventricular ejection fraction',\n",
    " '49': 'Mildly reduced left ventricular ejection fraction',\n",
    " }\n",
    "excluded = {'63': 'Reduced left ventricular ejection fraction'} \n",
    "efMapper = OptionColumnMapper(concept_recognizer=hpo_cr, option_d=ef_d, excluded_d=excluded)\n",
    "efMapper.preview_column(dft['EF, %'])\n",
    "column_mapper_d['EF, %'] = efMapper"
   ]
  },
  {
   "cell_type": "code",
   "execution_count": 13,
   "id": "51e291af-2a8e-48ad-a9a5-1ad7c1ab16a1",
   "metadata": {},
   "outputs": [],
   "source": [
    "neuromuscular_d = {'Weakness': 'Muscle weakness',\n",
    " 'slight calf hypertrophy': 'Calf muscle hypertrophy',\n",
    " 'Minimal weakness': 'Asthenia',\n",
    " 'Slight weakness of limb-girdle': 'Asthenia',\n",
    " 'Slight rigidity of spine': 'Spinal rigidity',}\n",
    "neuromuscularMapper = OptionColumnMapper(concept_recognizer=hpo_cr, option_d=neuromuscular_d)\n",
    "neuromuscularMapper.preview_column(dft['Neuromuscular'])\n",
    "column_mapper_d['Neuromuscular'] = neuromuscularMapper"
   ]
  },
  {
   "cell_type": "code",
   "execution_count": 14,
   "id": "2ab10cc0-63d0-49b0-89b1-70bec4f8be39",
   "metadata": {},
   "outputs": [],
   "source": [
    "outcome_d = {'DCM': 'Dilated cardiomyopathy',\n",
    " 'HF': 'Congestive heart failure',\n",
    " 'transplant': 'Congestive heart failure',\n",
    " 'SD': 'Sudden cardiac death',\n",
    " }\n",
    "outcomeMapper = OptionColumnMapper(concept_recognizer=hpo_cr, option_d=outcome_d)\n",
    "outcomeMapper.preview_column(dft['Outcome'])\n",
    "column_mapper_d['Outcome'] = outcomeMapper"
   ]
  },
  {
   "cell_type": "code",
   "execution_count": 15,
   "id": "7b797935-9d55-4056-849a-f00305ccdf28",
   "metadata": {},
   "outputs": [],
   "source": [
    "encoder = CohortEncoder(df=dft, \n",
    "                        hpo_cr=hpo_cr, \n",
    "                        column_mapper_d=column_mapper_d, \n",
    "                        individual_column_name=\"patient_id\", \n",
    "                        agemapper=ageMapper, \n",
    "                        sexmapper=sexMapper,\n",
    "                        metadata=metadata)\n",
    "omim_id = \"OMIM:115200\"\n",
    "omim_label = \"Cardiomyopathy, dilated, 1A\"\n",
    " \t \n",
    "cmp1a = Disease(disease_id=omim_id, disease_label=omim_label)\n",
    "encoder.set_disease(disease=cmp1a)"
   ]
  },
  {
   "cell_type": "code",
   "execution_count": 16,
   "id": "628158f3-7c33-4cf8-bcd5-59f06e369e0c",
   "metadata": {},
   "outputs": [
    {
     "name": "stdout",
     "output_type": "stream",
     "text": [
      "https://rest.variantvalidator.org/VariantValidator/variantvalidator/hg38/NM_005572.4%3Ac.960del/NM_005572.4?content-type=application%2Fjson\n"
     ]
    }
   ],
   "source": [
    "LMNA_transcript = \"NM_005572.4\"\n",
    "vvalidator = VariantValidator(genome_build=\"hg38\", transcript=LMNA_transcript)\n",
    "# heterozygosity in affected members for a 1-bp deletion (del959T) deletion in exon 6 of the LMNA gene\n",
    "# NM_170707.4(LMNA):c.960del (p.Arg321fs) \n",
    "var = vvalidator.encode_hgvs(\"c.960del\")\n",
    "var.set_heterozygous()"
   ]
  },
  {
   "cell_type": "code",
   "execution_count": 17,
   "id": "c72feeec-97d3-4f46-b27e-5738759834e4",
   "metadata": {},
   "outputs": [],
   "source": [
    "individuals = encoder.get_individuals()\n",
    "for i in individuals:\n",
    "    i.add_variant(var)\n",
    "# We code the following terms as excluded (see top of notebook)\n",
    "for i in individuals:\n",
    "    progeroid = HpTerm(hpo_id=\"HP:0005328\", label=\"Progeroid facial appearance\", observed=False)\n",
    "    lipodystrophy = HpTerm(hpo_id=\"HP:0009125\", label=\"Lipodystrophy\", observed=False)\n",
    "    i.add_hpo_term(progeroid)\n",
    "    i.add_hpo_term(lipodystrophy)    "
   ]
  },
  {
   "cell_type": "code",
   "execution_count": 18,
   "id": "a2671eb2-9044-4277-95cc-dfd187579da0",
   "metadata": {},
   "outputs": [
    {
     "data": {
      "text/html": [
       "<h2>Cohort validation</h2>\n",
       "<p>Errors found with 2 of 5 phenopackets.</p>\n",
       "<table style=\"border: 2px solid black; align: \"left\">\n",
       "<caption>Error counts</caption>\n",
       "<tr><th style=\"text-align: left;font-weight: bold;\">Level</th><th style=\"text-align: left;font-weight: bold;\">Error category</th><th style=\"text-align: left;font-weight: bold;\">Count</th></tr>\n",
       "</table>\n",
       "<p>A total of 2 issues were fixed and no individual was removed from the cohort.</p>"
      ],
      "text/plain": [
       "<IPython.core.display.HTML object>"
      ]
     },
     "metadata": {},
     "output_type": "display_data"
    }
   ],
   "source": [
    "cvalidator = CohortValidator(cohort=individuals, ontology=hpo_ontology, min_hpo=1, allelic_requirement=AllelicRequirement.MONO_ALLELIC)\n",
    "qc = QcVisualizer(cohort_validator=cvalidator)\n",
    "display(HTML(qc.to_summary_html()))"
   ]
  },
  {
   "cell_type": "code",
   "execution_count": 19,
   "id": "d20a28d8-ebff-4c2e-9363-a0b2fa4b70a1",
   "metadata": {},
   "outputs": [
    {
     "data": {
      "text/html": [
       "<table style=\"border: 2px solid black; align: \"left\">\n",
       "<caption>5 phenopackets - PMID:10662742 (n=5)</caption>\n",
       "<tr><th style=\"text-align: left;font-weight: bold;\">Individual</th><th style=\"text-align: left;font-weight: bold;\">Disease</th><th style=\"text-align: left;font-weight: bold;\">Genotype</th><th style=\"text-align: left;font-weight: bold;\">Phenotypic features</th></tr>\n",
       "<tr><td style=\"text-align: left;\">II-1 (MALE; P22Y)</td><td style=\"text-align: left;\">Cardiomyopathy, dilated, 1A (OMIM:115200)</td><td style=\"text-align: left;\">NM_005572.4:c.960del (heterozygous)</td><td style=\"text-align: left;\">Left bundle branch block (HP:0011713); Supraventricular tachycardia (HP:0004755); Moderately reduced left ventricular ejection fraction (HP:0012665); Elevated left ventricular end-diastolic diameter (HP:0034307); Ventricular tachycardia (HP:0004756); Calf muscle hypertrophy (HP:0008981); Congestive heart failure (HP:0001635); Increased circulating creatine kinase MM isoform (HP:0032234); Dilated cardiomyopathy (HP:0001644); Muscle weakness (HP:0001324); Second degree atrioventricular block (HP:0011706); excluded: Progeroid facial appearance (HP:0005328); excluded: Lipodystrophy (HP:0009125)</td></tr>\n",
       "<tr><td style=\"text-align: left;\">II-5 (MALE; P30Y)</td><td style=\"text-align: left;\">Cardiomyopathy, dilated, 1A (OMIM:115200)</td><td style=\"text-align: left;\">NM_005572.4:c.960del (heterozygous)</td><td style=\"text-align: left;\">Left bundle branch block (HP:0011713); Ventricular tachycardia (HP:0004756); Congestive heart failure (HP:0001635); Mildly reduced left ventricular ejection fraction (HP:0012663); Atrial fibrillation (HP:0005110); Sudden cardiac death (HP:0001645); Second degree atrioventricular block (HP:0011706); excluded: Progeroid facial appearance (HP:0005328); excluded: Lipodystrophy (HP:0009125)</td></tr>\n",
       "<tr><td style=\"text-align: left;\">III-1 (FEMALE; P4Y)</td><td style=\"text-align: left;\">Cardiomyopathy, dilated, 1A (OMIM:115200)</td><td style=\"text-align: left;\">NM_005572.4:c.960del (heterozygous)</td><td style=\"text-align: left;\">Congestive heart failure (HP:0001635); Premature atrial contractions (HP:0006699); Asthenia (HP:0025406); excluded: Cardiac conduction abnormality (HP:0031546); excluded: Elevated left ventricular end-diastolic diameter (HP:0034307); excluded: Progeroid facial appearance (HP:0005328); excluded: Lipodystrophy (HP:0009125)</td></tr>\n",
       "<tr><td style=\"text-align: left;\">III-3 (MALE; P16Y)</td><td style=\"text-align: left;\">Cardiomyopathy, dilated, 1A (OMIM:115200)</td><td style=\"text-align: left;\">NM_005572.4:c.960del (heterozygous)</td><td style=\"text-align: left;\">Increased circulating creatine kinase MM isoform (HP:0032234); Congestive heart failure (HP:0001635); Supraventricular tachycardia (HP:0004755); Premature ventricular contraction (HP:0006682); Mildly reduced left ventricular ejection fraction (HP:0012663); Asthenia (HP:0025406); excluded: Cardiac conduction abnormality (HP:0031546); excluded: Elevated left ventricular end-diastolic diameter (HP:0034307); excluded: Progeroid facial appearance (HP:0005328); excluded: Lipodystrophy (HP:0009125)</td></tr>\n",
       "<tr><td style=\"text-align: left;\">III-4 (FEMALE; P18Y)</td><td style=\"text-align: left;\">Cardiomyopathy, dilated, 1A (OMIM:115200)</td><td style=\"text-align: left;\">NM_005572.4:c.960del (heterozygous)</td><td style=\"text-align: left;\">Increased circulating creatine kinase MM isoform (HP:0032234); Congestive heart failure (HP:0001635); Supraventricular tachycardia (HP:0004755); Left anterior fascicular block (HP:0011711); Spinal rigidity (HP:0003306); excluded: Elevated left ventricular end-diastolic diameter (HP:0034307); excluded: Reduced left ventricular ejection fraction (HP:0012664); excluded: Progeroid facial appearance (HP:0005328); excluded: Lipodystrophy (HP:0009125)</td></tr>\n",
       "</table>"
      ],
      "text/plain": [
       "<IPython.core.display.HTML object>"
      ]
     },
     "metadata": {},
     "output_type": "display_data"
    }
   ],
   "source": [
    "phenopackets = [i.to_ga4gh_phenopacket(metadata=metadata.to_ga4gh()) for i in individuals]\n",
    "table = PhenopacketTable(phenopacket_list=phenopackets)\n",
    "display(HTML(table.to_html()))"
   ]
  },
  {
   "cell_type": "code",
   "execution_count": 20,
   "id": "8cf2e9e5-68f7-4d40-b41a-8c8fe8a3c00b",
   "metadata": {},
   "outputs": [
    {
     "name": "stdout",
     "output_type": "stream",
     "text": [
      "We output 5 GA4GH phenopackets to the directory phenopackets\n"
     ]
    }
   ],
   "source": [
    "Individual.output_individuals_as_phenopackets(individual_list=individuals,\n",
    "                                              metadata=metadata)"
   ]
  },
  {
   "cell_type": "code",
   "execution_count": null,
   "id": "e8502058-9986-4a69-b443-adf1c382dda8",
   "metadata": {},
   "outputs": [],
   "source": []
  }
 ],
 "metadata": {
  "kernelspec": {
   "display_name": "ps24venv",
   "language": "python",
   "name": "ps24venv"
  },
  "language_info": {
   "codemirror_mode": {
    "name": "ipython",
    "version": 3
   },
   "file_extension": ".py",
   "mimetype": "text/x-python",
   "name": "python",
   "nbconvert_exporter": "python",
   "pygments_lexer": "ipython3",
   "version": "3.8.10"
  }
 },
 "nbformat": 4,
 "nbformat_minor": 5
}
