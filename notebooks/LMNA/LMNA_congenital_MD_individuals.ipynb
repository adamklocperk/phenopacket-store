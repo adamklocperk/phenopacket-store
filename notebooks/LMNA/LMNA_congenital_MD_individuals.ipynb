{
 "cells": [
  {
   "cell_type": "markdown",
   "id": "cb3019dc-1bf4-41fc-a55f-c2946f7f4a7a",
   "metadata": {},
   "source": [
    "# LMNA-related congenital muscular dystrophy"
   ]
  },
  {
   "cell_type": "code",
   "execution_count": 1,
   "id": "0d26a83c-0008-40fd-a2ae-09dec5e3548e",
   "metadata": {},
   "outputs": [
    {
     "name": "stdout",
     "output_type": "stream",
     "text": [
      "Using pyphetools version 0.9.41\n"
     ]
    }
   ],
   "source": [
    "import pandas as pd\n",
    "from IPython.display import display, HTML\n",
    "pd.set_option('display.max_colwidth', None) # show entire column contents, important!\n",
    "from collections import defaultdict\n",
    "from pyphetools.creation import *\n",
    "from pyphetools.visualization import IndividualTable, QcVisualizer\n",
    "from pyphetools.validation import *\n",
    "import pyphetools\n",
    "print(f\"Using pyphetools version {pyphetools.__version__}\")"
   ]
  },
  {
   "cell_type": "code",
   "execution_count": 2,
   "id": "93b94fb7-2008-4a28-98fc-6ff035fbd256",
   "metadata": {},
   "outputs": [
    {
     "name": "stdout",
     "output_type": "stream",
     "text": [
      "HPO version 2024-01-16\n"
     ]
    }
   ],
   "source": [
    "parser = HpoParser(hpo_json_file=\"../hp.json\")\n",
    "hpo_cr = parser.get_hpo_concept_recognizer()\n",
    "hpo_version = parser.get_version()\n",
    "hpo_ontology = parser.get_ontology()\n",
    "created_by=\"ORCID:0000-0002-0736-9199\"\n",
    "print(f\"HPO version {hpo_version}\")"
   ]
  },
  {
   "cell_type": "code",
   "execution_count": 3,
   "id": "940691e3-3a71-49c2-8023-b564b8c08c40",
   "metadata": {},
   "outputs": [
    {
     "data": {
      "text/html": [
       "<div>\n",
       "<style scoped>\n",
       "    .dataframe tbody tr th:only-of-type {\n",
       "        vertical-align: middle;\n",
       "    }\n",
       "\n",
       "    .dataframe tbody tr th {\n",
       "        vertical-align: top;\n",
       "    }\n",
       "\n",
       "    .dataframe thead th {\n",
       "        text-align: right;\n",
       "    }\n",
       "</style>\n",
       "<table border=\"1\" class=\"dataframe\">\n",
       "  <thead>\n",
       "    <tr style=\"text-align: right;\">\n",
       "      <th></th>\n",
       "      <th>PMID</th>\n",
       "      <th>title</th>\n",
       "      <th>individual_id</th>\n",
       "      <th>Comment</th>\n",
       "      <th>disease_id</th>\n",
       "      <th>disease_label</th>\n",
       "      <th>transcript</th>\n",
       "      <th>allele_1</th>\n",
       "      <th>allele_2</th>\n",
       "      <th>variant.comment</th>\n",
       "      <th>...</th>\n",
       "      <th>Respiratory insufficiency due to muscle weakness</th>\n",
       "      <th>Paroxysmal atrial tachycardia</th>\n",
       "      <th>Muscle fiber atrophy</th>\n",
       "      <th>Delayed ability to roll over</th>\n",
       "      <th>Delayed ability to walk</th>\n",
       "      <th>Ventricular tachycardia</th>\n",
       "      <th>Neck muscle weakness</th>\n",
       "      <th>Loss of ambulation</th>\n",
       "      <th>Tube feeding</th>\n",
       "      <th>Muscular dystrophy</th>\n",
       "    </tr>\n",
       "  </thead>\n",
       "  <tbody>\n",
       "    <tr>\n",
       "      <th>0</th>\n",
       "      <td>str</td>\n",
       "      <td>str</td>\n",
       "      <td>str</td>\n",
       "      <td>optional str</td>\n",
       "      <td>str</td>\n",
       "      <td>str</td>\n",
       "      <td>str</td>\n",
       "      <td>HGVS str</td>\n",
       "      <td>HGVS str</td>\n",
       "      <td>optional str</td>\n",
       "      <td>...</td>\n",
       "      <td>HP:0002747</td>\n",
       "      <td>HP:0006671</td>\n",
       "      <td>HP:0100295</td>\n",
       "      <td>HP:0032989</td>\n",
       "      <td>HP:0031936</td>\n",
       "      <td>HP:0004756</td>\n",
       "      <td>HP:0000467</td>\n",
       "      <td>HP:0002505</td>\n",
       "      <td>HP:0033454</td>\n",
       "      <td>HP:0003560</td>\n",
       "    </tr>\n",
       "    <tr>\n",
       "      <th>1</th>\n",
       "      <td>PMID:18551513</td>\n",
       "      <td>De novo LMNA mutations cause a new form of congenital muscular dystrophy</td>\n",
       "      <td>1</td>\n",
       "      <td>NaN</td>\n",
       "      <td>OMIM:613205</td>\n",
       "      <td>LMNA-related congenital muscular dystrophy</td>\n",
       "      <td>NM_170707.4</td>\n",
       "      <td>c.1139T&gt;C</td>\n",
       "      <td>na</td>\n",
       "      <td>p.L380S-NM_170707.4(LMNA):c.1139T&gt;C (p.Leu380Ser)</td>\n",
       "      <td>...</td>\n",
       "      <td>P1Y10M</td>\n",
       "      <td>P7Y</td>\n",
       "      <td>observed</td>\n",
       "      <td>NaN</td>\n",
       "      <td>observed</td>\n",
       "      <td>excluded</td>\n",
       "      <td>excluded</td>\n",
       "      <td>excluded</td>\n",
       "      <td>excluded</td>\n",
       "      <td>observed</td>\n",
       "    </tr>\n",
       "  </tbody>\n",
       "</table>\n",
       "<p>2 rows × 30 columns</p>\n",
       "</div>"
      ],
      "text/plain": [
       "            PMID  \\\n",
       "0            str   \n",
       "1  PMID:18551513   \n",
       "\n",
       "                                                                      title  \\\n",
       "0                                                                       str   \n",
       "1  De novo LMNA mutations cause a new form of congenital muscular dystrophy   \n",
       "\n",
       "  individual_id       Comment   disease_id  \\\n",
       "0           str  optional str          str   \n",
       "1             1           NaN  OMIM:613205   \n",
       "\n",
       "                                disease_label   transcript   allele_1  \\\n",
       "0                                         str          str   HGVS str   \n",
       "1  LMNA-related congenital muscular dystrophy  NM_170707.4  c.1139T>C   \n",
       "\n",
       "   allele_2                                     variant.comment  ...  \\\n",
       "0  HGVS str                                        optional str  ...   \n",
       "1        na  p.L380S-NM_170707.4(LMNA):c.1139T>C (p.Leu380Ser)   ...   \n",
       "\n",
       "  Respiratory insufficiency due to muscle weakness  \\\n",
       "0                                       HP:0002747   \n",
       "1                                           P1Y10M   \n",
       "\n",
       "  Paroxysmal atrial tachycardia Muscle fiber atrophy  \\\n",
       "0                    HP:0006671           HP:0100295   \n",
       "1                           P7Y             observed   \n",
       "\n",
       "  Delayed ability to roll over Delayed ability to walk  \\\n",
       "0                   HP:0032989              HP:0031936   \n",
       "1                          NaN                observed   \n",
       "\n",
       "  Ventricular tachycardia Neck muscle weakness Loss of ambulation  \\\n",
       "0              HP:0004756           HP:0000467         HP:0002505   \n",
       "1                excluded             excluded           excluded   \n",
       "\n",
       "  Tube feeding Muscular dystrophy  \n",
       "0   HP:0033454         HP:0003560  \n",
       "1     excluded           observed  \n",
       "\n",
       "[2 rows x 30 columns]"
      ]
     },
     "execution_count": 3,
     "metadata": {},
     "output_type": "execute_result"
    }
   ],
   "source": [
    "df = pd.read_excel(\"input/LMNA_Muscular_dystrophy_congenita_individuals.xlsx\")\n",
    "df.head(2)"
   ]
  },
  {
   "cell_type": "code",
   "execution_count": 4,
   "id": "8e396522-cd63-4d7d-95e3-75d37a1144ce",
   "metadata": {},
   "outputs": [
    {
     "name": "stdout",
     "output_type": "stream",
     "text": [
      "Created encoders for 30 fields\n"
     ]
    }
   ],
   "source": [
    "encoder = CaseTemplateEncoder(df=df, hpo_cr=hpo_cr, created_by=created_by)"
   ]
  },
  {
   "cell_type": "code",
   "execution_count": 5,
   "id": "7434d2ed-dace-427c-ae8e-2357e6e4b9bd",
   "metadata": {},
   "outputs": [],
   "source": [
    "individuals = encoder.get_individuals()"
   ]
  },
  {
   "cell_type": "code",
   "execution_count": 6,
   "id": "1aa2bcc6-8517-4543-9045-4378eac975e0",
   "metadata": {},
   "outputs": [],
   "source": [
    "LMNA_transcript = \"NM_170707.4\"\n",
    "\n",
    "vmanager = VariantManager(df=df,\n",
    "                          individual_column_name=\"individual_id\",\n",
    "                          gene_symbol=\"LMNA\",\n",
    "                          transcript=LMNA_transcript,\n",
    "                          allele_1_column_name=\"allele_1\")"
   ]
  },
  {
   "cell_type": "code",
   "execution_count": 7,
   "id": "f6525791-cc63-46fa-bc11-46b4a962a8a3",
   "metadata": {},
   "outputs": [
    {
     "data": {
      "text/html": [
       "<div>\n",
       "<style scoped>\n",
       "    .dataframe tbody tr th:only-of-type {\n",
       "        vertical-align: middle;\n",
       "    }\n",
       "\n",
       "    .dataframe tbody tr th {\n",
       "        vertical-align: top;\n",
       "    }\n",
       "\n",
       "    .dataframe thead th {\n",
       "        text-align: right;\n",
       "    }\n",
       "</style>\n",
       "<table border=\"1\" class=\"dataframe\">\n",
       "  <thead>\n",
       "    <tr style=\"text-align: right;\">\n",
       "      <th></th>\n",
       "      <th>status</th>\n",
       "      <th>count</th>\n",
       "      <th>alleles</th>\n",
       "    </tr>\n",
       "  </thead>\n",
       "  <tbody>\n",
       "    <tr>\n",
       "      <th>0</th>\n",
       "      <td>mapped</td>\n",
       "      <td>38</td>\n",
       "      <td>c.1357C&gt;T, c.665A&gt;C, c.781_783del, c.334_336del, c.188T&gt;G, c.695G&gt;A, c.149G&gt;C, c.1157G&gt;A, c.1583C&gt;A, c.1072G&gt;A, c.1580G&gt;C, c.746G&gt;A, c.1559G&gt;C, c.881A&gt;C, c.16C&gt;T, c.134A&gt;G, c.1368C&gt;A, c.1112T&gt;A, c.608A&gt;G, c.178C&gt;G, c.1711C&gt;A, c.585C&gt;A, c.254T&gt;G, c.1195C&gt;T, c.688G&gt;A, c.1718C&gt;T, c.175C&gt;G, c.29C&gt;T, c.1444C&gt;T, c.745C&gt;T, c.1364G&gt;C, c.94_96del, c.1358G&gt;C, c.1366A&gt;G, c.116A&gt;G, c.905T&gt;C, c.1139T&gt;C, c.1381-2A&gt;G</td>\n",
       "    </tr>\n",
       "    <tr>\n",
       "      <th>1</th>\n",
       "      <td>unmapped</td>\n",
       "      <td>0</td>\n",
       "      <td></td>\n",
       "    </tr>\n",
       "  </tbody>\n",
       "</table>\n",
       "</div>"
      ],
      "text/plain": [
       "     status  count  \\\n",
       "0    mapped     38   \n",
       "1  unmapped      0   \n",
       "\n",
       "                                                                                                                                                                                                                                                                                                                                                                                                                 alleles  \n",
       "0  c.1357C>T, c.665A>C, c.781_783del, c.334_336del, c.188T>G, c.695G>A, c.149G>C, c.1157G>A, c.1583C>A, c.1072G>A, c.1580G>C, c.746G>A, c.1559G>C, c.881A>C, c.16C>T, c.134A>G, c.1368C>A, c.1112T>A, c.608A>G, c.178C>G, c.1711C>A, c.585C>A, c.254T>G, c.1195C>T, c.688G>A, c.1718C>T, c.175C>G, c.29C>T, c.1444C>T, c.745C>T, c.1364G>C, c.94_96del, c.1358G>C, c.1366A>G, c.116A>G, c.905T>C, c.1139T>C, c.1381-2A>G  \n",
       "1                                                                                                                                                                                                                                                                                                                                                                                                                         "
      ]
     },
     "execution_count": 7,
     "metadata": {},
     "output_type": "execute_result"
    }
   ],
   "source": [
    "vmanager.to_summary()"
   ]
  },
  {
   "cell_type": "code",
   "execution_count": 8,
   "id": "150ca4cb-daf9-4567-a4de-f3e00c8b36cb",
   "metadata": {},
   "outputs": [
    {
     "data": {
      "text/html": [
       "<h2>Cohort validation</h2>\n",
       "<p>No errors found for the cohort with 15 individuals</p>"
      ],
      "text/plain": [
       "<IPython.core.display.HTML object>"
      ]
     },
     "metadata": {},
     "output_type": "display_data"
    }
   ],
   "source": [
    "vmanager.add_variants_to_individuals(individuals)\n",
    "cvalidator = CohortValidator(cohort=individuals, ontology=hpo_ontology, min_hpo=1, allelic_requirement=AllelicRequirement.MONO_ALLELIC)\n",
    "qc = QcVisualizer(cohort_validator=cvalidator)\n",
    "display(HTML(qc.to_summary_html()))"
   ]
  },
  {
   "cell_type": "code",
   "execution_count": 9,
   "id": "4237ef9d-370b-4a5b-9cdf-f925ff0d3273",
   "metadata": {},
   "outputs": [
    {
     "data": {
      "text/html": [
       "<table style=\"border: 2px solid black; align: \"left\">\n",
       "<caption>15 phenopackets - PMID:18551513 (n=15)</caption>\n",
       "<tr><th style=\"text-align: left;font-weight: bold;\">Individual</th><th style=\"text-align: left;font-weight: bold;\">Disease</th><th style=\"text-align: left;font-weight: bold;\">Genotype</th><th style=\"text-align: left;font-weight: bold;\">Phenotypic features</th></tr>\n",
       "<tr><td style=\"text-align: left;\">1 (MALE; )</td><td style=\"text-align: left;\">LMNA-related congenital muscular dystrophy (OMIM:613205)</td><td style=\"text-align: left;\">NM_170707.4:c.1139T>C (heterozygous)</td><td style=\"text-align: left;\"><b>P0D</b>: Talipes (HP:0001883)<br/><b>P1Y10M</b>: Respiratory insufficiency due to muscle weakness (HP:0002747)<br/><b>P7Y</b>: Paroxysmal atrial tachycardia (HP:0006671)<br/>Decreased fetal movement (HP:0001558); Hypotonia (HP:0001252); Proximal muscle weakness (HP:0003701); Distal muscle weakness (HP:0002460); Axial muscle weakness (HP:0003327); Poor head control (HP:0002421); Muscle fiber atrophy (HP:0100295); Delayed ability to walk (HP:0031936); Muscular dystrophy (HP:0003560); excluded: Ventricular tachycardia (HP:0004756); excluded: Neck muscle weakness (HP:0000467); excluded: Loss of ambulation (HP:0002505); excluded: Tube feeding (HP:0033454)</td></tr>\n",
       "<tr><td style=\"text-align: left;\">2 (MALE; )</td><td style=\"text-align: left;\">LMNA-related congenital muscular dystrophy (OMIM:613205)</td><td style=\"text-align: left;\">NM_170707.4:c.745C>T (heterozygous)</td><td style=\"text-align: left;\"><b>P2Y6M</b>: Respiratory insufficiency due to muscle weakness (HP:0002747)<br/>Decreased fetal movement (HP:0001558); Hypotonia (HP:0001252); Proximal muscle weakness (HP:0003701); Distal muscle weakness (HP:0002460); Axial muscle weakness (HP:0003327); Poor head control (HP:0002421); Muscle fiber atrophy (HP:0100295); Delayed ability to roll over (HP:0032989); Delayed ability to walk (HP:0031936); Muscular dystrophy (HP:0003560); excluded: Talipes (HP:0001883); excluded: Paroxysmal atrial tachycardia (HP:0006671); excluded: Ventricular tachycardia (HP:0004756); excluded: Neck muscle weakness (HP:0000467); excluded: Loss of ambulation (HP:0002505); excluded: Tube feeding (HP:0033454)</td></tr>\n",
       "<tr><td style=\"text-align: left;\">3 (FEMALE; )</td><td style=\"text-align: left;\">LMNA-related congenital muscular dystrophy (OMIM:613205)</td><td style=\"text-align: left;\">NM_005572.4:c.1072G>A (heterozygous)</td><td style=\"text-align: left;\"><b>P2Y2M</b>: Respiratory insufficiency due to muscle weakness (HP:0002747)<br/>Decreased fetal movement (HP:0001558); Hypotonia (HP:0001252); Proximal muscle weakness (HP:0003701); Distal muscle weakness (HP:0002460); Axial muscle weakness (HP:0003327); Poor head control (HP:0002421); Muscle fiber atrophy (HP:0100295); Delayed ability to walk (HP:0031936); Muscular dystrophy (HP:0003560); excluded: Talipes (HP:0001883); excluded: Paroxysmal atrial tachycardia (HP:0006671); excluded: Ventricular tachycardia (HP:0004756); excluded: Neck muscle weakness (HP:0000467); excluded: Loss of ambulation (HP:0002505); excluded: Tube feeding (HP:0033454)</td></tr>\n",
       "<tr><td style=\"text-align: left;\">4 (FEMALE; )</td><td style=\"text-align: left;\">LMNA-related congenital muscular dystrophy (OMIM:613205)</td><td style=\"text-align: left;\">NM_170707.4:c.745C>T (heterozygous)</td><td style=\"text-align: left;\"><b>P0D</b>: Talipes (HP:0001883)<br/><b>P7Y</b>: Respiratory insufficiency due to muscle weakness (HP:0002747)<br/>Proximal muscle weakness (HP:0003701); Distal muscle weakness (HP:0002460); Axial muscle weakness (HP:0003327); Poor head control (HP:0002421); Muscle fiber atrophy (HP:0100295); Delayed ability to walk (HP:0031936); Neck muscle weakness (HP:0000467); Loss of ambulation (HP:0002505); Muscular dystrophy (HP:0003560); excluded: Decreased fetal movement (HP:0001558); excluded: Paroxysmal atrial tachycardia (HP:0006671); excluded: Ventricular tachycardia (HP:0004756); excluded: Tube feeding (HP:0033454)</td></tr>\n",
       "<tr><td style=\"text-align: left;\">5 (FEMALE; )</td><td style=\"text-align: left;\">LMNA-related congenital muscular dystrophy (OMIM:613205)</td><td style=\"text-align: left;\">NM_005572.4:c.149G>C (heterozygous)</td><td style=\"text-align: left;\"><b>P9Y</b>: Respiratory insufficiency due to muscle weakness (HP:0002747); Paroxysmal atrial tachycardia (HP:0006671)<br/>Talipes (HP:0001883); Proximal muscle weakness (HP:0003701); Distal muscle weakness (HP:0002460); Axial muscle weakness (HP:0003327); Poor head control (HP:0002421); Muscle fiber atrophy (HP:0100295); Delayed ability to walk (HP:0031936); Neck muscle weakness (HP:0000467); Loss of ambulation (HP:0002505); Muscular dystrophy (HP:0003560); excluded: Decreased fetal movement (HP:0001558); excluded: Ventricular tachycardia (HP:0004756); excluded: Tube feeding (HP:0033454)</td></tr>\n",
       "<tr><td style=\"text-align: left;\">6 (FEMALE; )</td><td style=\"text-align: left;\">LMNA-related congenital muscular dystrophy (OMIM:613205)</td><td style=\"text-align: left;\">NM_005572.4:c.1072G>A (heterozygous)</td><td style=\"text-align: left;\"><b>P5Y</b>: Respiratory insufficiency due to muscle weakness (HP:0002747)<br/>Hypotonia (HP:0001252); Proximal muscle weakness (HP:0003701); Distal muscle weakness (HP:0002460); Axial muscle weakness (HP:0003327); Poor head control (HP:0002421); Muscle fiber atrophy (HP:0100295); Delayed ability to walk (HP:0031936); Neck muscle weakness (HP:0000467); Loss of ambulation (HP:0002505); Tube feeding (HP:0033454); Muscular dystrophy (HP:0003560); excluded: Decreased fetal movement (HP:0001558); excluded: Talipes (HP:0001883); excluded: Paroxysmal atrial tachycardia (HP:0006671); excluded: Ventricular tachycardia (HP:0004756)</td></tr>\n",
       "<tr><td style=\"text-align: left;\">7 (MALE; )</td><td style=\"text-align: left;\">LMNA-related congenital muscular dystrophy (OMIM:613205)</td><td style=\"text-align: left;\">NM_170707.4:c.905T>C (heterozygous)</td><td style=\"text-align: left;\"><b>P3Y</b>: Respiratory insufficiency due to muscle weakness (HP:0002747)<br/>Hypotonia (HP:0001252); Proximal muscle weakness (HP:0003701); Distal muscle weakness (HP:0002460); Axial muscle weakness (HP:0003327); Poor head control (HP:0002421); Delayed ability to walk (HP:0031936); Neck muscle weakness (HP:0000467); Muscular dystrophy (HP:0003560); excluded: Decreased fetal movement (HP:0001558); excluded: Talipes (HP:0001883); excluded: Paroxysmal atrial tachycardia (HP:0006671); excluded: Ventricular tachycardia (HP:0004756); excluded: Loss of ambulation (HP:0002505); excluded: Tube feeding (HP:0033454)</td></tr>\n",
       "<tr><td style=\"text-align: left;\">8 (MALE; )</td><td style=\"text-align: left;\">LMNA-related congenital muscular dystrophy (OMIM:613205)</td><td style=\"text-align: left;\">NM_170707.4:c.1364G>C (heterozygous)</td><td style=\"text-align: left;\">Hypotonia (HP:0001252); Proximal muscle weakness (HP:0003701); Poor head control (HP:0002421); Muscle fiber atrophy (HP:0100295); Delayed ability to walk (HP:0031936); Neck muscle weakness (HP:0000467); Muscular dystrophy (HP:0003560); excluded: Decreased fetal movement (HP:0001558); excluded: Talipes (HP:0001883); excluded: Respiratory insufficiency due to muscle weakness (HP:0002747); excluded: Paroxysmal atrial tachycardia (HP:0006671); excluded: Ventricular tachycardia (HP:0004756); excluded: Loss of ambulation (HP:0002505); excluded: Tube feeding (HP:0033454)</td></tr>\n",
       "<tr><td style=\"text-align: left;\">9 (MALE; )</td><td style=\"text-align: left;\">LMNA-related congenital muscular dystrophy (OMIM:613205)</td><td style=\"text-align: left;\">NM_170707.4:c.94_96del (heterozygous)</td><td style=\"text-align: left;\">Hypotonia (HP:0001252); Proximal muscle weakness (HP:0003701); Poor head control (HP:0002421); Delayed ability to walk (HP:0031936); Neck muscle weakness (HP:0000467); Muscular dystrophy (HP:0003560); excluded: Decreased fetal movement (HP:0001558); excluded: Talipes (HP:0001883); excluded: Respiratory insufficiency due to muscle weakness (HP:0002747); excluded: Paroxysmal atrial tachycardia (HP:0006671); excluded: Ventricular tachycardia (HP:0004756); excluded: Loss of ambulation (HP:0002505); excluded: Tube feeding (HP:0033454)</td></tr>\n",
       "<tr><td style=\"text-align: left;\">10 (MALE; )</td><td style=\"text-align: left;\">LMNA-related congenital muscular dystrophy (OMIM:613205)</td><td style=\"text-align: left;\">NM_170707.4:c.1358G>C (heterozygous)</td><td style=\"text-align: left;\">Hypotonia (HP:0001252); Proximal muscle weakness (HP:0003701); Poor head control (HP:0002421); Muscle fiber atrophy (HP:0100295); Delayed ability to roll over (HP:0032989); Delayed ability to walk (HP:0031936); Neck muscle weakness (HP:0000467); Muscular dystrophy (HP:0003560); excluded: Decreased fetal movement (HP:0001558); excluded: Talipes (HP:0001883); excluded: Respiratory insufficiency due to muscle weakness (HP:0002747); excluded: Paroxysmal atrial tachycardia (HP:0006671); excluded: Ventricular tachycardia (HP:0004756); excluded: Loss of ambulation (HP:0002505); excluded: Tube feeding (HP:0033454)</td></tr>\n",
       "<tr><td style=\"text-align: left;\">11 (FEMALE; )</td><td style=\"text-align: left;\">LMNA-related congenital muscular dystrophy (OMIM:613205)</td><td style=\"text-align: left;\">NM_170707.4:c.116A>G (heterozygous)</td><td style=\"text-align: left;\"><b>P5Y</b>: Respiratory insufficiency due to muscle weakness (HP:0002747)<br/>Hypotonia (HP:0001252); Proximal muscle weakness (HP:0003701); Distal muscle weakness (HP:0002460); Axial muscle weakness (HP:0003327); Poor head control (HP:0002421); Muscle fiber atrophy (HP:0100295); Neck muscle weakness (HP:0000467); Loss of ambulation (HP:0002505); Muscular dystrophy (HP:0003560); excluded: Decreased fetal movement (HP:0001558); excluded: Talipes (HP:0001883); excluded: Paroxysmal atrial tachycardia (HP:0006671); excluded: Ventricular tachycardia (HP:0004756); excluded: Tube feeding (HP:0033454)</td></tr>\n",
       "<tr><td style=\"text-align: left;\">12 (FEMALE; )</td><td style=\"text-align: left;\">LMNA-related congenital muscular dystrophy (OMIM:613205)</td><td style=\"text-align: left;\">NM_170707.4:c.1366A>G (heterozygous)</td><td style=\"text-align: left;\"><b>P8Y</b>: Respiratory insufficiency due to muscle weakness (HP:0002747)<br/>Proximal muscle weakness (HP:0003701); Distal muscle weakness (HP:0002460); Axial muscle weakness (HP:0003327); Poor head control (HP:0002421); Neck muscle weakness (HP:0000467); Muscular dystrophy (HP:0003560); excluded: Decreased fetal movement (HP:0001558); excluded: Talipes (HP:0001883); excluded: Paroxysmal atrial tachycardia (HP:0006671); excluded: Ventricular tachycardia (HP:0004756); excluded: Loss of ambulation (HP:0002505); excluded: Tube feeding (HP:0033454)</td></tr>\n",
       "<tr><td style=\"text-align: left;\">13 (FEMALE; )</td><td style=\"text-align: left;\">LMNA-related congenital muscular dystrophy (OMIM:613205)</td><td style=\"text-align: left;\">NM_170707.4:c.1381-2A>G (heterozygous)</td><td style=\"text-align: left;\">Hypotonia (HP:0001252); Proximal muscle weakness (HP:0003701); Axial muscle weakness (HP:0003327); Poor head control (HP:0002421); Muscle fiber atrophy (HP:0100295); Neck muscle weakness (HP:0000467); Tube feeding (HP:0033454); Muscular dystrophy (HP:0003560); excluded: Decreased fetal movement (HP:0001558); excluded: Talipes (HP:0001883); excluded: Respiratory insufficiency due to muscle weakness (HP:0002747); excluded: Paroxysmal atrial tachycardia (HP:0006671); excluded: Ventricular tachycardia (HP:0004756); excluded: Loss of ambulation (HP:0002505)</td></tr>\n",
       "<tr><td style=\"text-align: left;\">14 (MALE; )</td><td style=\"text-align: left;\">LMNA-related congenital muscular dystrophy (OMIM:613205)</td><td style=\"text-align: left;\">NM_005572.4:c.1072G>A (heterozygous)</td><td style=\"text-align: left;\"><b>P4Y</b>: Respiratory insufficiency due to muscle weakness (HP:0002747)<br/>Hypotonia (HP:0001252); Proximal muscle weakness (HP:0003701); Distal muscle weakness (HP:0002460); Axial muscle weakness (HP:0003327); Poor head control (HP:0002421); Muscle fiber atrophy (HP:0100295); Neck muscle weakness (HP:0000467); Loss of ambulation (HP:0002505); Tube feeding (HP:0033454); Muscular dystrophy (HP:0003560); excluded: Decreased fetal movement (HP:0001558); excluded: Talipes (HP:0001883); excluded: Paroxysmal atrial tachycardia (HP:0006671); excluded: Ventricular tachycardia (HP:0004756)</td></tr>\n",
       "<tr><td style=\"text-align: left;\">15 (MALE; )</td><td style=\"text-align: left;\">LMNA-related congenital muscular dystrophy (OMIM:613205)</td><td style=\"text-align: left;\">NM_005572.4:c.1072G>A (heterozygous)</td><td style=\"text-align: left;\"><b>P3Y</b>: Respiratory insufficiency due to muscle weakness (HP:0002747)<br/>Proximal muscle weakness (HP:0003701); Distal muscle weakness (HP:0002460); Axial muscle weakness (HP:0003327); Poor head control (HP:0002421); Muscle fiber atrophy (HP:0100295); Ventricular tachycardia (HP:0004756); Neck muscle weakness (HP:0000467); Loss of ambulation (HP:0002505); Muscular dystrophy (HP:0003560); excluded: Decreased fetal movement (HP:0001558); excluded: Talipes (HP:0001883); excluded: Paroxysmal atrial tachycardia (HP:0006671); excluded: Tube feeding (HP:0033454)</td></tr>\n",
       "</table>"
      ],
      "text/plain": [
       "<IPython.core.display.HTML object>"
      ]
     },
     "metadata": {},
     "output_type": "display_data"
    }
   ],
   "source": [
    "individuals = cvalidator.get_error_free_individual_list()\n",
    "table = IndividualTable(individuals)\n",
    "display(HTML(table.to_html()))"
   ]
  },
  {
   "cell_type": "code",
   "execution_count": 10,
   "id": "d2bd4028-1cec-4a6e-9c31-73c631501f71",
   "metadata": {},
   "outputs": [
    {
     "name": "stdout",
     "output_type": "stream",
     "text": [
      "We output 15 GA4GH phenopackets to the directory phenopackets\n"
     ]
    }
   ],
   "source": [
    "encoder.output_individuals_as_phenopackets(individuals)"
   ]
  },
  {
   "cell_type": "code",
   "execution_count": null,
   "id": "cddd9c58-ee06-4543-97f8-c7a41c24b565",
   "metadata": {},
   "outputs": [],
   "source": []
  }
 ],
 "metadata": {
  "kernelspec": {
   "display_name": "ps24venv",
   "language": "python",
   "name": "ps24venv"
  },
  "language_info": {
   "codemirror_mode": {
    "name": "ipython",
    "version": 3
   },
   "file_extension": ".py",
   "mimetype": "text/x-python",
   "name": "python",
   "nbconvert_exporter": "python",
   "pygments_lexer": "ipython3",
   "version": "3.8.10"
  }
 },
 "nbformat": 4,
 "nbformat_minor": 5
}
