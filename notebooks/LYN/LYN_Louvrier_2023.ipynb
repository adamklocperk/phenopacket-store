{
 "cells": [
  {
   "cell_type": "markdown",
   "id": "f5df03ac-c352-42db-80c3-42444c2a5293",
   "metadata": {},
   "source": [
    "# LYN\n",
    "\n",
    "Data from [Louvrier C, et al. (2023) De Novo Gain-Of-Function Variations in LYN Associated With an Early-Onset Systemic Autoinflammatory Disorder. Arthritis Rheumatol;75(3):468-474. PMID:36122175](https://pubmed.ncbi.nlm.nih.gov/36122175/)."
   ]
  },
  {
   "cell_type": "code",
   "execution_count": 1,
   "id": "ee6f7795-f3d4-4ced-a0f4-fa50f4f1840c",
   "metadata": {},
   "outputs": [
    {
     "name": "stdout",
     "output_type": "stream",
     "text": [
      "Using pyphetools version 0.9.22\n"
     ]
    }
   ],
   "source": [
    "import pandas as pd\n",
    "from IPython.display import display, HTML\n",
    "pd.set_option('display.max_colwidth', None) # show entire column contents, important!\n",
    "from collections import defaultdict\n",
    "from pyphetools.creation import *\n",
    "from pyphetools.visualization import IndividualTable, QcVisualizer\n",
    "from pyphetools.validation import *\n",
    "import pyphetools\n",
    "print(f\"Using pyphetools version {pyphetools.__version__}\")"
   ]
  },
  {
   "cell_type": "code",
   "execution_count": 2,
   "id": "1df6b35d-180a-47f6-914c-53b1bc05614b",
   "metadata": {},
   "outputs": [
    {
     "name": "stdout",
     "output_type": "stream",
     "text": [
      "HPO version 2023-10-09\n"
     ]
    }
   ],
   "source": [
    "# de Jesus AA (2023)\n",
    "PMID=\"PMID:36932076\"\n",
    "title = \"Constitutively active Lyn kinase causes a cutaneous small vessel vasculitis and liver fibrosis syndrome\"\n",
    "cite = Citation(pmid=PMID, title=title)\n",
    "parser = HpoParser(hpo_json_file=\"../hp.json\")\n",
    "hpo_cr = parser.get_hpo_concept_recognizer()\n",
    "hpo_version = parser.get_version()\n",
    "hpo_ontology = parser.get_ontology()\n",
    "metadata = MetaData(created_by=\"ORCID:0000-0002-0736-9199\", citation=cite)\n",
    "metadata.default_versions_with_hpo(version=hpo_version)\n",
    "print(f\"HPO version {hpo_version}\")"
   ]
  },
  {
   "cell_type": "code",
   "execution_count": 3,
   "id": "53040e06-1dda-47f2-846c-a3180e029563",
   "metadata": {},
   "outputs": [
    {
     "data": {
      "text/html": [
       "<div>\n",
       "<style scoped>\n",
       "    .dataframe tbody tr th:only-of-type {\n",
       "        vertical-align: middle;\n",
       "    }\n",
       "\n",
       "    .dataframe tbody tr th {\n",
       "        vertical-align: top;\n",
       "    }\n",
       "\n",
       "    .dataframe thead th {\n",
       "        text-align: right;\n",
       "    }\n",
       "</style>\n",
       "<table border=\"1\" class=\"dataframe\">\n",
       "  <thead>\n",
       "    <tr style=\"text-align: right;\">\n",
       "      <th>Clinical and laboratory features</th>\n",
       "      <th>Age of disease onset</th>\n",
       "      <th>Sex</th>\n",
       "      <th>Age at diagnosis</th>\n",
       "      <th>Presenting Symptoms</th>\n",
       "      <th>Hydrops fetalis</th>\n",
       "      <th>Liver fibrosis</th>\n",
       "      <th>Other clinical manifestations</th>\n",
       "      <th>ESR (mm/1h)</th>\n",
       "      <th>CRP (mg/L)</th>\n",
       "      <th>SAA (mg/L)</th>\n",
       "      <th>...</th>\n",
       "      <th>NK lymphocytes (abs #)</th>\n",
       "      <th>IgG</th>\n",
       "      <th>IgA</th>\n",
       "      <th>IgM</th>\n",
       "      <th>Skin biopsies</th>\n",
       "      <th>Elastography (max)</th>\n",
       "      <th>Infections</th>\n",
       "      <th>Treatment</th>\n",
       "      <th>NM_002350.4</th>\n",
       "      <th>individual_id</th>\n",
       "    </tr>\n",
       "  </thead>\n",
       "  <tbody>\n",
       "    <tr>\n",
       "      <th>Patient 1</th>\n",
       "      <td>1st day of life</td>\n",
       "      <td>female</td>\n",
       "      <td>2 years 6 months old</td>\n",
       "      <td>Purpuric rash, hepatosplenomegaly, fever, thrombocytopenia at birth</td>\n",
       "      <td>Yes, intra-utero platelet and PRBC transfusion at 29 weeks of GA</td>\n",
       "      <td>Yes</td>\n",
       "      <td>Recurrent parotitis, abdominal pain, periorbital edema and erythema, conjunctivitis, epididymitis, headaches, arthralgias, oral ulcers, fatigue, GVHD-like colitis</td>\n",
       "      <td>64</td>\n",
       "      <td>14–86.5</td>\n",
       "      <td>ND</td>\n",
       "      <td>...</td>\n",
       "      <td>nl</td>\n",
       "      <td>nl</td>\n",
       "      <td>nl</td>\n",
       "      <td>low</td>\n",
       "      <td>Small vessel vasculitis with neutrophilic infiltrate and destruction of dermal vessel walls</td>\n",
       "      <td>6.7 kPa</td>\n",
       "      <td>Enteropathogenic E. coli, Salmonella sp, Toxocara canisb</td>\n",
       "      <td>Poor response to IVIG, IVMP and oral prednisolone, partial response to dasatinib monotherapy, partial response to etanercept monotherapy, good response to dasatinib and etanercept combination therapy</td>\n",
       "      <td>c.1522T&gt;C</td>\n",
       "      <td>Patient 1</td>\n",
       "    </tr>\n",
       "    <tr>\n",
       "      <th>Patient 2</th>\n",
       "      <td>1st day of life</td>\n",
       "      <td>male</td>\n",
       "      <td>15 years-old</td>\n",
       "      <td>Mild purpuric rash at birth, fever, and generalized severe purpuric rash at the age of 3 months</td>\n",
       "      <td>No</td>\n",
       "      <td>No</td>\n",
       "      <td>Recurrent abdominal pain, periorbital edema and erythema, conjunctivitis, epididymitis, headaches, arthralgias, oral ulcers, fatigue, GVHD-like colitis</td>\n",
       "      <td>ND</td>\n",
       "      <td>46–166</td>\n",
       "      <td>182–984</td>\n",
       "      <td>...</td>\n",
       "      <td>nl</td>\n",
       "      <td>nl</td>\n",
       "      <td>nl</td>\n",
       "      <td>low</td>\n",
       "      <td>Perivascular neutrophilic dermal infiltrate</td>\n",
       "      <td>ND, normal LFTs</td>\n",
       "      <td>Post-streptococcal glomerulonephritis</td>\n",
       "      <td>No response to anakinra and tocilizumab, partial response to colchicine and good response to etanercept and colchicine</td>\n",
       "      <td>c.1524C&gt;G</td>\n",
       "      <td>Patient 2</td>\n",
       "    </tr>\n",
       "    <tr>\n",
       "      <th>Patient 3</th>\n",
       "      <td>1st day of life</td>\n",
       "      <td>male</td>\n",
       "      <td>4 months old</td>\n",
       "      <td>Hepatosplenomegaly, thrombocytopenia, and discrete purpuric rash at birth</td>\n",
       "      <td>No, had congenital hydrocele</td>\n",
       "      <td>Yes</td>\n",
       "      <td>Intrauterine growth restriction, failure to thrive, transient periorbital erythema, jaundice, direct hyperbilirubinemia</td>\n",
       "      <td>ND</td>\n",
       "      <td>6.5–107.6</td>\n",
       "      <td>ND</td>\n",
       "      <td>...</td>\n",
       "      <td>high</td>\n",
       "      <td>nl</td>\n",
       "      <td>low</td>\n",
       "      <td>nl</td>\n",
       "      <td>Small vessel vasculitis with neutrophilic infiltrate and destruction of dermal vessel walls</td>\n",
       "      <td>18.7 kPa</td>\n",
       "      <td>Late neonatal sepsis, COVID-19 (asymptomatic)</td>\n",
       "      <td>Partial improvement of CRP and thrombocytopenia, resolution of direct hyperbilirubinemia, return of normal growth rate, and persistence of liver fibrosis on etanercept therapy</td>\n",
       "      <td>c.1523A&gt;T</td>\n",
       "      <td>Patient 3</td>\n",
       "    </tr>\n",
       "  </tbody>\n",
       "</table>\n",
       "<p>3 rows × 27 columns</p>\n",
       "</div>"
      ],
      "text/plain": [
       "Clinical and laboratory features Age of disease onset     Sex  \\\n",
       "Patient 1                             1st day of life  female   \n",
       "Patient 2                             1st day of life    male   \n",
       "Patient 3                             1st day of life    male   \n",
       "\n",
       "Clinical and laboratory features      Age at diagnosis  \\\n",
       "Patient 1                         2 years 6 months old   \n",
       "Patient 2                                 15 years-old   \n",
       "Patient 3                                 4 months old   \n",
       "\n",
       "Clinical and laboratory features                                                                              Presenting Symptoms  \\\n",
       "Patient 1                                                     Purpuric rash, hepatosplenomegaly, fever, thrombocytopenia at birth   \n",
       "Patient 2                         Mild purpuric rash at birth, fever, and generalized severe purpuric rash at the age of 3 months   \n",
       "Patient 3                                               Hepatosplenomegaly, thrombocytopenia, and discrete purpuric rash at birth   \n",
       "\n",
       "Clinical and laboratory features                                                   Hydrops fetalis  \\\n",
       "Patient 1                         Yes, intra-utero platelet and PRBC transfusion at 29 weeks of GA   \n",
       "Patient 2                                                                                       No   \n",
       "Patient 3                                                             No, had congenital hydrocele   \n",
       "\n",
       "Clinical and laboratory features Liver fibrosis  \\\n",
       "Patient 1                                   Yes   \n",
       "Patient 2                                    No   \n",
       "Patient 3                                   Yes   \n",
       "\n",
       "Clinical and laboratory features                                                                                                                                       Other clinical manifestations  \\\n",
       "Patient 1                         Recurrent parotitis, abdominal pain, periorbital edema and erythema, conjunctivitis, epididymitis, headaches, arthralgias, oral ulcers, fatigue, GVHD-like colitis   \n",
       "Patient 2                                    Recurrent abdominal pain, periorbital edema and erythema, conjunctivitis, epididymitis, headaches, arthralgias, oral ulcers, fatigue, GVHD-like colitis   \n",
       "Patient 3                                                                    Intrauterine growth restriction, failure to thrive, transient periorbital erythema, jaundice, direct hyperbilirubinemia   \n",
       "\n",
       "Clinical and laboratory features ESR (mm/1h) CRP (mg/L) SAA (mg/L)  ...  \\\n",
       "Patient 1                                 64    14–86.5         ND  ...   \n",
       "Patient 2                                 ND     46–166    182–984  ...   \n",
       "Patient 3                                 ND  6.5–107.6         ND  ...   \n",
       "\n",
       "Clinical and laboratory features NK lymphocytes (abs #) IgG  IgA  IgM  \\\n",
       "Patient 1                                            nl  nl   nl  low   \n",
       "Patient 2                                            nl  nl   nl  low   \n",
       "Patient 3                                          high  nl  low   nl   \n",
       "\n",
       "Clinical and laboratory features                                                                                Skin biopsies  \\\n",
       "Patient 1                         Small vessel vasculitis with neutrophilic infiltrate and destruction of dermal vessel walls   \n",
       "Patient 2                                                                         Perivascular neutrophilic dermal infiltrate   \n",
       "Patient 3                         Small vessel vasculitis with neutrophilic infiltrate and destruction of dermal vessel walls   \n",
       "\n",
       "Clinical and laboratory features Elastography (max)  \\\n",
       "Patient 1                                   6.7 kPa   \n",
       "Patient 2                           ND, normal LFTs   \n",
       "Patient 3                                  18.7 kPa   \n",
       "\n",
       "Clinical and laboratory features                                                Infections  \\\n",
       "Patient 1                         Enteropathogenic E. coli, Salmonella sp, Toxocara canisb   \n",
       "Patient 2                                            Post-streptococcal glomerulonephritis   \n",
       "Patient 3                                    Late neonatal sepsis, COVID-19 (asymptomatic)   \n",
       "\n",
       "Clinical and laboratory features                                                                                                                                                                                                Treatment  \\\n",
       "Patient 1                         Poor response to IVIG, IVMP and oral prednisolone, partial response to dasatinib monotherapy, partial response to etanercept monotherapy, good response to dasatinib and etanercept combination therapy   \n",
       "Patient 2                                                                                                          No response to anakinra and tocilizumab, partial response to colchicine and good response to etanercept and colchicine   \n",
       "Patient 3                                                 Partial improvement of CRP and thrombocytopenia, resolution of direct hyperbilirubinemia, return of normal growth rate, and persistence of liver fibrosis on etanercept therapy   \n",
       "\n",
       "Clinical and laboratory features NM_002350.4 individual_id  \n",
       "Patient 1                          c.1522T>C     Patient 1  \n",
       "Patient 2                          c.1524C>G     Patient 2  \n",
       "Patient 3                          c.1523A>T     Patient 3  \n",
       "\n",
       "[3 rows x 27 columns]"
      ]
     },
     "execution_count": 3,
     "metadata": {},
     "output_type": "execute_result"
    }
   ],
   "source": [
    "df = pd.read_excel(\"input/louvrier_2023_LYN.xlsx\")\n",
    "dft = df.transpose()\n",
    "dft.columns = dft.iloc[0]\n",
    "dft.drop(dft.index[0], inplace=True)\n",
    "dft['individual_id'] = dft.index  # Set the new column 'patient_id' to be identical to the contents of the index\n",
    "dft.head() # check the transposed table"
   ]
  },
  {
   "cell_type": "code",
   "execution_count": 4,
   "id": "c1777a3c-b1d2-4562-8431-5b1755a406d9",
   "metadata": {},
   "outputs": [],
   "source": [
    "#res = OptionColumnMapper.autoformat(df=dft, concept_recognizer=hpo_cr, )\n",
    "#print(res)\n",
    "column_mapper_d = {}"
   ]
  },
  {
   "cell_type": "code",
   "execution_count": 5,
   "id": "c6fd69ef-887c-46ab-9225-61f58cc9c9b6",
   "metadata": {},
   "outputs": [],
   "source": [
    "presenting_symptoms_d = {'Purpuric rash': 'Purpura',\n",
    "                    'hepatosplenomegaly': 'Hepatosplenomegaly',\n",
    "                    'fever': 'Fever',\n",
    "                    'thrombocytopenia at birth': 'Thrombocytopenia',\n",
    "                    'Mild purpuric rash at birth': 'Purpura',\n",
    "                    'and generalized severe purpuric rash at the age of 3 months': 'Purpura',\n",
    "                    'Hepatosplenomegaly': 'Hepatosplenomegaly',\n",
    "                    'thrombocytopenia': 'Thrombocytopenia',\n",
    "                    'and discrete purpuric rash at birth': 'Purpura'}\n",
    "presenting_symptomsMapper = OptionColumnMapper(concept_recognizer=hpo_cr, option_d=presenting_symptoms_d)\n",
    "presenting_symptomsMapper.preview_column(dft['Presenting Symptoms'])\n",
    "column_mapper_d['Presenting Symptoms'] = presenting_symptomsMapper"
   ]
  },
  {
   "cell_type": "code",
   "execution_count": 6,
   "id": "7a5bda25-c97a-43ae-9484-fce7693f0f13",
   "metadata": {},
   "outputs": [],
   "source": [
    "hydrops_fetalis_d = {'Yes': 'Hydrops fetalis',\n",
    " #'intra-utero platelet and PRBC transfusion at 29 weeks of\\xa0GA': 'PLACEHOLDER',\n",
    " 'had congenital hydrocele': 'Congenital hydrocele'}\n",
    "excluded = {'No': 'Hydrops fetalis',}\n",
    "hydrops_fetalisMapper = OptionColumnMapper(concept_recognizer=hpo_cr, option_d=hydrops_fetalis_d, excluded_d=excluded)\n",
    "hydrops_fetalisMapper.preview_column(dft['Hydrops fetalis'])\n",
    "column_mapper_d['Hydrops fetalis'] = hydrops_fetalisMapper"
   ]
  },
  {
   "cell_type": "code",
   "execution_count": 7,
   "id": "c123ced7-cadf-4c77-a696-dc8fc50fa259",
   "metadata": {},
   "outputs": [],
   "source": [
    "liver_fibrosis_d = {'Yes': 'Hepatic fibrosis',}\n",
    "excluded = {'No': 'Hepatic fibrosis',}\n",
    "liver_fibrosisMapper = OptionColumnMapper(concept_recognizer=hpo_cr, option_d=liver_fibrosis_d, excluded_d=excluded)\n",
    "liver_fibrosisMapper.preview_column(dft['Liver fibrosis'])\n",
    "column_mapper_d['Liver fibrosis'] = liver_fibrosisMapper"
   ]
  },
  {
   "cell_type": "code",
   "execution_count": 8,
   "id": "30846ea2-24eb-414d-82cb-90748a39b330",
   "metadata": {},
   "outputs": [],
   "source": [
    "other_clinical_manifestations_d = {'Recurrent parotitis': 'Parotitis',\n",
    " 'abdominal pain': 'Abdominal pain',\n",
    " 'periorbital edema and erythema': 'Periorbital edema',\n",
    " 'conjunctivitis': 'Conjunctivitis',\n",
    " 'epididymitis': 'Epididymitis',\n",
    " 'headaches': 'Headache',\n",
    " 'arthralgias': 'Arthralgia',\n",
    " 'oral ulcers': 'Oral ulcer',\n",
    " 'fatigue': 'Fatigue',\n",
    " 'GVHD-like colitis': 'Colitis',\n",
    " 'Recurrent abdominal pain': 'Abdominal pain',\n",
    " 'Intrauterine growth restriction': 'Intrauterine growth retardation',\n",
    " 'failure to thrive': 'Failure to thrive',\n",
    " 'transient periorbital erythema': 'Erythema',\n",
    " 'jaundice': 'Jaundice',\n",
    " 'direct hyperbilirubinemia': 'Conjugated hyperbilirubinemia'}\n",
    "other_clinical_manifestationsMapper = OptionColumnMapper(concept_recognizer=hpo_cr, option_d=other_clinical_manifestations_d)\n",
    "other_clinical_manifestationsMapper.preview_column(dft['Other clinical manifestations'])\n",
    "column_mapper_d['Other clinical manifestations'] = other_clinical_manifestationsMapper"
   ]
  },
  {
   "cell_type": "code",
   "execution_count": 9,
   "id": "dc879c16-d6b6-43bf-9859-2f2bf5d37ebf",
   "metadata": {},
   "outputs": [],
   "source": [
    "# Male <50 years old: ≤15 mm/hr. Female <50 years old: ≤ 20 mm/hr. Male >50 years old: ≤20 mm/hr.\n",
    "# therefore, 64 is increased\n",
    "esr_d = {'64': 'Elevated erythrocyte sedimentation rate',}\n",
    "esr_Mapper = OptionColumnMapper(concept_recognizer=hpo_cr, option_d=esr_d)\n",
    "esr_Mapper.preview_column(dft['ESR (mm/1h)'])\n",
    "column_mapper_d['ESR (mm/1h)'] = esr_Mapper"
   ]
  },
  {
   "cell_type": "code",
   "execution_count": 10,
   "id": "d038e692-6f4a-4630-8933-d90589ef2b60",
   "metadata": {},
   "outputs": [],
   "source": [
    "# Elevated circulating C-reactive protein concentration HP:0011227\n",
    "crp_d = {'14–86.5': 'Elevated circulating C-reactive protein concentration',\n",
    " '46–166': 'Elevated circulating C-reactive protein concentration',\n",
    " '6.5–107.6': 'Elevated circulating C-reactive protein concentration'}\n",
    "crpMapper = OptionColumnMapper(concept_recognizer=hpo_cr, option_d=crp_d)\n",
    "crpMapper.preview_column(dft['CRP (mg/L)'])\n",
    "column_mapper_d['CRP (mg/L)'] = crpMapper"
   ]
  },
  {
   "cell_type": "code",
   "execution_count": 11,
   "id": "b7fbcdd3-2423-473f-b49c-82be2a3309ea",
   "metadata": {},
   "outputs": [],
   "source": [
    "# Serum amyloid A - need term\n",
    "#saa_d = { '182–984': 'PLACEHOLDER'} - elevated\n",
    "#saa_Mapper = OptionColumnMapper(concept_recognizer=hpo_cr, option_d=saa_d)\n",
    "#saa_Mapper.preview_column(df['SAA (mg/L)'])\n",
    "#column_mapper_d['SAA (mg/L)'] = saa_(mg/l)Mapper"
   ]
  },
  {
   "cell_type": "code",
   "execution_count": 12,
   "id": "c61376a2-47a9-4917-989b-a1847fc2e729",
   "metadata": {},
   "outputs": [],
   "source": [
    "cbc_d = {'Mild anemia': 'Anemia',\n",
    " 'mild leukocytosis': 'Leukocytosis',\n",
    " 'moderate to severe thrombocytopenia': 'Thrombocytopenia',\n",
    " 'Mild leukocytosis': 'Leukocytosis',\n",
    " 'moderate leukocytosis': 'Leukocytosis'}\n",
    "cbcMapper = OptionColumnMapper(concept_recognizer=hpo_cr, option_d=cbc_d)\n",
    "cbcMapper.preview_column(dft['CBC'])\n",
    "column_mapper_d['CBC'] = cbcMapper"
   ]
  },
  {
   "cell_type": "code",
   "execution_count": 13,
   "id": "622f819c-fbbb-45f2-8bfc-0f5dc1a5db40",
   "metadata": {},
   "outputs": [
    {
     "data": {
      "text/html": [
       "<div>\n",
       "<style scoped>\n",
       "    .dataframe tbody tr th:only-of-type {\n",
       "        vertical-align: middle;\n",
       "    }\n",
       "\n",
       "    .dataframe tbody tr th {\n",
       "        vertical-align: top;\n",
       "    }\n",
       "\n",
       "    .dataframe thead th {\n",
       "        text-align: right;\n",
       "    }\n",
       "</style>\n",
       "<table border=\"1\" class=\"dataframe\">\n",
       "  <thead>\n",
       "    <tr style=\"text-align: right;\">\n",
       "      <th></th>\n",
       "      <th>original text</th>\n",
       "      <th>terms</th>\n",
       "    </tr>\n",
       "  </thead>\n",
       "  <tbody>\n",
       "    <tr>\n",
       "      <th>0</th>\n",
       "      <td>Increased ALT, Increased AST, Increased GGT</td>\n",
       "      <td>HP:0031964 (Elevated circulating alanine aminotransferase concentration/observed); HP:0031956 (Elevated circulating aspartate aminotransferase concentration/observed); HP:0030948 (Elevated gamma-glutamyltransferase level/observed)</td>\n",
       "    </tr>\n",
       "    <tr>\n",
       "      <th>1</th>\n",
       "      <td>Normal ALT, Normal AST, Normal GGT</td>\n",
       "      <td>n/a</td>\n",
       "    </tr>\n",
       "    <tr>\n",
       "      <th>2</th>\n",
       "      <td>Increased ALT, Increased AST, Increased GGT</td>\n",
       "      <td>HP:0031964 (Elevated circulating alanine aminotransferase concentration/observed); HP:0031956 (Elevated circulating aspartate aminotransferase concentration/observed); HP:0030948 (Elevated gamma-glutamyltransferase level/observed)</td>\n",
       "    </tr>\n",
       "  </tbody>\n",
       "</table>\n",
       "</div>"
      ],
      "text/plain": [
       "                                 original text  \\\n",
       "0  Increased ALT, Increased AST, Increased GGT   \n",
       "1           Normal ALT, Normal AST, Normal GGT   \n",
       "2  Increased ALT, Increased AST, Increased GGT   \n",
       "\n",
       "                                                                                                                                                                                                                                    terms  \n",
       "0  HP:0031964 (Elevated circulating alanine aminotransferase concentration/observed); HP:0031956 (Elevated circulating aspartate aminotransferase concentration/observed); HP:0030948 (Elevated gamma-glutamyltransferase level/observed)  \n",
       "1                                                                                                                                                                                                                                     n/a  \n",
       "2  HP:0031964 (Elevated circulating alanine aminotransferase concentration/observed); HP:0031956 (Elevated circulating aspartate aminotransferase concentration/observed); HP:0030948 (Elevated gamma-glutamyltransferase level/observed)  "
      ]
     },
     "execution_count": 13,
     "metadata": {},
     "output_type": "execute_result"
    }
   ],
   "source": [
    "lfts_d = {'Increased ALT': 'Elevated circulating alanine aminotransferase concentration',\n",
    " 'Increased AST': 'Elevated circulating aspartate aminotransferase concentration',\n",
    " 'Increased GGT': 'Elevated gamma-glutamyltransferase level',\n",
    " }\n",
    "excluded = {'Normal ALT': 'Elevated circulating aspartate aminotransferase concentration',\n",
    " 'Normal AST': 'Elevated circulating aspartate aminotransferase concentration',\n",
    " 'Normal GGT': 'Elevated gamma-glutamyltransferase level'}\n",
    "lftsMapper = OptionColumnMapper(concept_recognizer=hpo_cr, option_d=lfts_d, excluded_d=excluded)\n",
    "lftsMapper.preview_column(dft['LFTs'])\n",
    "#column_mapper_d['LFTs'] = lftsMapper"
   ]
  },
  {
   "cell_type": "code",
   "execution_count": 14,
   "id": "3f324f4b-f05f-408e-a92c-8328e10c0f53",
   "metadata": {},
   "outputs": [],
   "source": [
    "autoantibodies_d = {'Positive ANA': 'Antinuclear antibody positivity',\n",
    " 'anti-Sm': 'Anti-Sm antibody positivity',\n",
    "# 'anti-SSA': 'PLACEHOLDER',\n",
    "# 'ACL IgG': 'PLACEHOLDER',\n",
    " 'LAC': 'Lupus anticoagulant',\n",
    " 'anti-mitochondrial': 'Antimitochondrial antibody positivity',\n",
    " 'RF': 'Rheumatoid factor positive',\n",
    " 'anti-TPO': 'Anti-thyroid peroxidase antibody positivity',\n",
    " #'transient positivity for ANA on research testing once': 'PLACEHOLDER',\n",
    " #'Borderline anti-PR3': 'PLACEHOLDER'\n",
    "}\n",
    "autoantibodiesMapper = OptionColumnMapper(concept_recognizer=hpo_cr, option_d=autoantibodies_d)\n",
    "autoantibodiesMapper.preview_column(dft['Autoantibodies'])\n",
    "column_mapper_d['Autoantibodies'] = autoantibodiesMapper"
   ]
  },
  {
   "cell_type": "code",
   "execution_count": 15,
   "id": "d8763e5c-0b9e-42c9-b33f-86509350c5cb",
   "metadata": {},
   "outputs": [],
   "source": [
    "#cd4_lymphocytes_(abs)_d = {'high': 'PLACEHOLDER',\n",
    "# 'nl': 'PLACEHOLDER'}\n",
    "#cd4_lymphocytes_(abs_#)Mapper = OptionColumnMapper(concept_recognizer=hpo_cr, option_d=cd4_lymphocytes_(abs_#)_d)\n",
    "#cd4_lymphocytes_(abs_#)Mapper.preview_column(df['CD4 lymphocytes (abs #)'])\n",
    "#column_mapper_d['CD4 lymphocytes (abs #)'] = cd4_lymphocytes_(abs_#)Mapper"
   ]
  },
  {
   "cell_type": "code",
   "execution_count": 16,
   "id": "b590a0d2-944b-4e7f-b1a0-c90ac05a67f1",
   "metadata": {},
   "outputs": [],
   "source": [
    "#cd8_lymphocytes_(abs)_d = {'high': 'PLACEHOLDER',\n",
    "# 'nl': 'PLACEHOLDER'}\n",
    "#cd8_lymphocytes_(abs_#)Mapper = OptionColumnMapper(concept_recognizer=hpo_cr, option_d=cd8_lymphocytes_(abs_#)_d)\n",
    "#cd8_lymphocytes_(abs_#)Mapper.preview_column(df['CD8 lymphocytes (abs #)'])\n",
    "#column_mapper_d['CD8 lymphocytes (abs #)'] = cd8_lymphocytes_(abs_#)Mapper"
   ]
  },
  {
   "cell_type": "code",
   "execution_count": 17,
   "id": "c633a79b-70e3-4b4c-be5f-0905f885e746",
   "metadata": {},
   "outputs": [],
   "source": [
    "b_lymphocytes_absMapper = SimpleColumnMapper(hpo_id=\"HP:0005404\", hpo_label=\"Increased B cell count\", observed=\"high\", excluded=\"nl\")\n",
    "b_lymphocytes_absMapper.preview_column(dft['B lymphocytes (abs #)'])\n",
    "column_mapper_d['B lymphocytes (abs #)'] = b_lymphocytes_absMapper"
   ]
  },
  {
   "cell_type": "code",
   "execution_count": 18,
   "id": "a63c2dda-a4fd-477c-9af9-0925fb0d82f2",
   "metadata": {},
   "outputs": [],
   "source": [
    "#nk_lymphocytes_(abs_#)_d = {'nl': 'PLACEHOLDER',\n",
    "# 'high': 'PLACEHOLDER'}\n",
    "#nk_lymphocytes_(abs_#)Mapper = OptionColumnMapper(concept_recognizer=hpo_cr, option_d=nk_lymphocytes_(abs_#)_d)\n",
    "#nk_lymphocytes_(abs_#)Mapper.preview_column(df['NK lymphocytes (abs #)'])\n",
    "#column_mapper_d['NK lymphocytes (abs #)'] = nk_lymphocytes_(abs_#)Mapper"
   ]
  },
  {
   "cell_type": "code",
   "execution_count": 19,
   "id": "b920f945-823d-4200-a1c1-58e008d8f3f2",
   "metadata": {},
   "outputs": [],
   "source": [
    "iggMapper = SimpleColumnMapper(hpo_id=\"HP:0410242\", hpo_label=\"Abnormal circulating IgG level\", observed=\"high\", excluded=\"nl\")\n",
    "iggMapper.preview_column(dft['IgG'])\n",
    "column_mapper_d['IgG'] = iggMapper"
   ]
  },
  {
   "cell_type": "code",
   "execution_count": 20,
   "id": "6c08e870-2894-4c5f-a0a6-7eac308f39ba",
   "metadata": {},
   "outputs": [],
   "source": [
    "igaMapper = SimpleColumnMapper(hpo_id=\"HP:0002720\", hpo_label=\"Decreased circulating IgA level\", observed=\"low\", excluded=\"nl\")\n",
    "igaMapper.preview_column(dft['IgA'])\n",
    "column_mapper_d['IgA'] = igaMapper"
   ]
  },
  {
   "cell_type": "code",
   "execution_count": 21,
   "id": "bc9d1fa1-67d1-4538-bf51-b292fb2631e1",
   "metadata": {},
   "outputs": [],
   "source": [
    "igmMapper = SimpleColumnMapper(hpo_id=\"HP:0002850\", hpo_label=\"Decreased circulating total IgM\", observed=\"low\", excluded=\"nl\")\n",
    "igmMapper.preview_column(dft['IgM'])\n",
    "column_mapper_d['IgM'] = igmMapper"
   ]
  },
  {
   "cell_type": "code",
   "execution_count": 22,
   "id": "c9dc2a76-5bb1-4ea8-b9f3-bd5c49a45ae9",
   "metadata": {},
   "outputs": [],
   "source": [
    "skin_biopsies_d = {'Small vessel vasculitis with neutrophilic infiltrate and destruction of dermal vessel walls': 'Small vessel vasculitis',\n",
    " #'Perivascular neutrophilic dermal infiltrate': 'PLACEHOLDER'\n",
    "                  }\n",
    "skin_biopsiesMapper = OptionColumnMapper(concept_recognizer=hpo_cr, option_d=skin_biopsies_d)\n",
    "skin_biopsiesMapper.preview_column(dft['Skin biopsies'])\n",
    "column_mapper_d['Skin biopsies'] = skin_biopsiesMapper"
   ]
  },
  {
   "cell_type": "code",
   "execution_count": 23,
   "id": "c7573634-6393-4020-ad9b-49080a936e86",
   "metadata": {},
   "outputs": [],
   "source": [
    "ageMapper = AgeColumnMapper.custom_dictionary(column_name=\"Age of disease onset\", string_to_iso_d={'1st day of life': 'P1D'})\n",
    "#ageMapper.preview_column(dft[\"Age of disease onset\"])\n",
    "sexMapper = SexColumnMapper(column_name=\"Sex\", male_symbol=\"male\", female_symbol=\"female\")"
   ]
  },
  {
   "cell_type": "code",
   "execution_count": 24,
   "id": "47274769-a82a-46ad-b5b3-f7055c8402d9",
   "metadata": {},
   "outputs": [],
   "source": [
    "vmanager = VariantManager(df=dft, \n",
    "                          allele_1_column_name=\"NM_002350.4\",\n",
    "                          cohort_name=\"LYN\", \n",
    "                          individual_column_name=\"individual_id\",\n",
    "                          transcript=\"NM_002350.4\")"
   ]
  },
  {
   "cell_type": "code",
   "execution_count": 25,
   "id": "5fcd9418-ccc8-4f2c-81b5-838880d4467f",
   "metadata": {},
   "outputs": [],
   "source": [
    "disease = Disease(disease_id=\"OMIM:620376\", disease_label=\"Autoinflammatory disease, systemic, with vasculitis\")\n",
    "encoder = CohortEncoder(df=dft,\n",
    "                       hpo_cr=hpo_cr, \n",
    "                        agemapper=ageMapper,\n",
    "                        sexmapper=sexMapper,\n",
    "                        column_mapper_d=column_mapper_d,\n",
    "                        individual_column_name=\"individual_id\",\n",
    "                       metadata=metadata)\n",
    "encoder.set_disease(disease)"
   ]
  },
  {
   "cell_type": "code",
   "execution_count": 26,
   "id": "2bf19869-87b6-4666-9ba5-b45329f69500",
   "metadata": {},
   "outputs": [],
   "source": [
    "individuals = encoder.get_individuals()\n",
    "vmanager.add_variants_to_individuals(individual_list=individuals)"
   ]
  },
  {
   "cell_type": "code",
   "execution_count": 27,
   "id": "afed7822-891d-49df-8ee1-160eb295a668",
   "metadata": {},
   "outputs": [
    {
     "data": {
      "text/html": [
       "<h2>Cohort validation</h2>\n",
       "<p>Errors found with 3 of 3 phenopackets.</p>\n",
       "<table style=\"border: 2px solid black; align: \"left\">\n",
       "<caption>Error counts</caption>\n",
       "<tr><th style=\"text-align: left;font-weight: bold;\">Level</th><th style=\"text-align: left;font-weight: bold;\">Error category</th><th style=\"text-align: left;font-weight: bold;\">Count</th></tr>\n",
       "<tr><td style=\"text-align: left;\">WARNING</td><td style=\"text-align: left;\">REDUNDANT</td><td style=\"text-align: left;\">2</td></tr>\n",
       "</table>\n",
       "<p>A total of 5 issues were fixed and no individual was removed from the cohort.</p>"
      ],
      "text/plain": [
       "<IPython.core.display.HTML object>"
      ]
     },
     "metadata": {},
     "output_type": "display_data"
    }
   ],
   "source": [
    "cvalidator = CohortValidator(cohort=individuals, ontology=hpo_ontology, min_hpo=1, allelic_requirement=AllelicRequirement.MONO_ALLELIC)\n",
    "qc = QcVisualizer(cohort_validator=cvalidator)\n",
    "display(HTML(qc.to_summary_html()))"
   ]
  },
  {
   "cell_type": "code",
   "execution_count": 28,
   "id": "b96955c6-26de-4224-b92c-53c1828fd60f",
   "metadata": {},
   "outputs": [
    {
     "data": {
      "text/html": [
       "<table style=\"border: 2px solid black; align: \"left\">\n",
       "<caption>3 phenopackets - PMID:36932076 (n=3)</caption>\n",
       "<tr><th style=\"text-align: left;font-weight: bold;\">Individual</th><th style=\"text-align: left;font-weight: bold;\">Disease</th><th style=\"text-align: left;font-weight: bold;\">Genotype</th><th style=\"text-align: left;font-weight: bold;\">Phenotypic features</th></tr>\n",
       "<tr><td style=\"text-align: left;\">Patient 1 (FEMALE; P1D)</td><td style=\"text-align: left;\">Autoinflammatory disease, systemic, with vasculitis (OMIM:620376)</td><td style=\"text-align: left;\">NM_002350.4:c.1522T>C (heterozygous)</td><td style=\"text-align: left;\">Epididymitis (HP:0000031); Anti-Sm antibody positivity (HP:0033040); Lupus anticoagulant (HP:0025343); Small vessel vasculitis (HP:0011944); Arthralgia (HP:0002829); Fever (HP:0001945); Parotitis (HP:0011850); Headache (HP:0002315); Oral ulcer (HP:0000155); Purpura (HP:0000979); Anemia (HP:0001903); Fatigue (HP:0012378); Hydrops fetalis (HP:0001789); Hepatic fibrosis (HP:0001395); Conjunctivitis (HP:0000509); Antimitochondrial antibody positivity (HP:0030167); Decreased circulating total IgM (HP:0002850); Anti-thyroid peroxidase antibody positivity (HP:0025379); Elevated circulating C-reactive protein concentration (HP:0011227); Periorbital edema (HP:0100539); Colitis (HP:0002583); Abdominal pain (HP:0002027); Thrombocytopenia (HP:0001873); Elevated erythrocyte sedimentation rate (HP:0003565); Rheumatoid factor positive (HP:0002923); Leukocytosis (HP:0001974); Hepatosplenomegaly (HP:0001433); excluded: Increased B cell count (HP:0005404); excluded: Abnormal circulating IgG level (HP:0410242); excluded: Decreased circulating IgA level (HP:0002720)</td></tr>\n",
       "<tr><td style=\"text-align: left;\">Patient 2 (MALE; P1D)</td><td style=\"text-align: left;\">Autoinflammatory disease, systemic, with vasculitis (OMIM:620376)</td><td style=\"text-align: left;\">NM_002350.4:c.1524C>G (heterozygous)</td><td style=\"text-align: left;\">Fatigue (HP:0012378); Headache (HP:0002315); Epididymitis (HP:0000031); Oral ulcer (HP:0000155); Purpura (HP:0000979); Conjunctivitis (HP:0000509); Arthralgia (HP:0002829); Leukocytosis (HP:0001974); Decreased circulating total IgM (HP:0002850); Fever (HP:0001945); Elevated circulating C-reactive protein concentration (HP:0011227); Periorbital edema (HP:0100539); Colitis (HP:0002583); Abdominal pain (HP:0002027); excluded: Hydrops fetalis (HP:0001789); excluded: Hepatic fibrosis (HP:0001395); excluded: Increased B cell count (HP:0005404); excluded: Abnormal circulating IgG level (HP:0410242); excluded: Decreased circulating IgA level (HP:0002720)</td></tr>\n",
       "<tr><td style=\"text-align: left;\">Patient 3 (MALE; P1D)</td><td style=\"text-align: left;\">Autoinflammatory disease, systemic, with vasculitis (OMIM:620376)</td><td style=\"text-align: left;\">NM_002350.4:c.1523A>T (heterozygous)</td><td style=\"text-align: left;\">Thrombocytopenia (HP:0001873); Congenital hydrocele (HP:4000037); Purpura (HP:0000979); Hepatic fibrosis (HP:0001395); Failure to thrive (HP:0001508); Conjugated hyperbilirubinemia (HP:0002908); Intrauterine growth retardation (HP:0001511); Decreased circulating IgA level (HP:0002720); Jaundice (HP:0000952); Increased B cell count (HP:0005404); Small vessel vasculitis (HP:0011944); Anemia (HP:0001903); Hepatosplenomegaly (HP:0001433); Elevated circulating C-reactive protein concentration (HP:0011227); Erythema (HP:0010783); excluded: Abnormal circulating IgG level (HP:0410242); excluded: Decreased circulating total IgM (HP:0002850)</td></tr>\n",
       "</table>"
      ],
      "text/plain": [
       "<IPython.core.display.HTML object>"
      ]
     },
     "metadata": {},
     "output_type": "display_data"
    }
   ],
   "source": [
    "individuals = cvalidator.get_error_free_individual_list()\n",
    "table = IndividualTable(individuals)\n",
    "display(HTML(table.to_html()))"
   ]
  },
  {
   "cell_type": "code",
   "execution_count": 29,
   "id": "41e4ef3b-2a03-48b0-84dc-204ba3b2f10c",
   "metadata": {},
   "outputs": [
    {
     "name": "stdout",
     "output_type": "stream",
     "text": [
      "We output 3 GA4GH phenopackets to the directory phenopackets\n"
     ]
    }
   ],
   "source": [
    "Individual.output_individuals_as_phenopackets(individual_list=individuals, metadata=metadata)"
   ]
  }
 ],
 "metadata": {
  "kernelspec": {
   "display_name": "ps24venv",
   "language": "python",
   "name": "ps24venv"
  },
  "language_info": {
   "codemirror_mode": {
    "name": "ipython",
    "version": 3
   },
   "file_extension": ".py",
   "mimetype": "text/x-python",
   "name": "python",
   "nbconvert_exporter": "python",
   "pygments_lexer": "ipython3",
   "version": "3.8.10"
  }
 },
 "nbformat": 4,
 "nbformat_minor": 5
}
