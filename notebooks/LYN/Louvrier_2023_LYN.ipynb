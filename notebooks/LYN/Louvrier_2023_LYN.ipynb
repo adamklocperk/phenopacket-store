{
 "cells": [
  {
   "cell_type": "markdown",
   "id": "36d71a75-4d61-46df-be91-e114175daa2e",
   "metadata": {},
   "source": [
    "# Louvrier et al (2023)\n",
    "\n",
    "The authors reported a a 4-year-old girl with SAIDV in\n",
    "[Louvrier C, et al. (2023) De Novo Gain-Of-Function Variations in LYN Associated With an Early-Onset Systemic Autoinflammatory Disorder. Arthritis Rheumatol.  Mar;75(3):468-474. PMID:36122175](https://pubmed.ncbi.nlm.nih.gov/36122175/)."
   ]
  },
  {
   "cell_type": "code",
   "execution_count": 1,
   "id": "bda5c809-208f-4a79-bbba-e82603179834",
   "metadata": {},
   "outputs": [
    {
     "name": "stdout",
     "output_type": "stream",
     "text": [
      "Using pyphetools version 0.9.39\n"
     ]
    }
   ],
   "source": [
    "import pandas as pd\n",
    "from IPython.display import display, HTML\n",
    "pd.set_option('display.max_colwidth', None) # show entire column contents, important!\n",
    "from collections import defaultdict\n",
    "from pyphetools.creation import *\n",
    "from pyphetools.visualization import IndividualTable, QcVisualizer\n",
    "from pyphetools.validation import *\n",
    "import pyphetools\n",
    "print(f\"Using pyphetools version {pyphetools.__version__}\")"
   ]
  },
  {
   "cell_type": "code",
   "execution_count": 2,
   "id": "cc3ac6cf-160c-4ead-9ddb-c70d25f21849",
   "metadata": {},
   "outputs": [
    {
     "name": "stdout",
     "output_type": "stream",
     "text": [
      "HPO version 2024-01-16\n"
     ]
    }
   ],
   "source": [
    "title = \"De Novo Gain-Of-Function Variations in LYN Associated With an Early-Onset Systemic Autoinflammatory Disorder\"\n",
    "PMID = \"PMID:36122175\"\n",
    "cite = Citation(pmid=PMID, title=title)\n",
    "parser = HpoParser(hpo_json_file=\"../hp.json\")\n",
    "hpo_cr = parser.get_hpo_concept_recognizer()\n",
    "hpo_version = parser.get_version()\n",
    "hpo_ontology = parser.get_ontology()\n",
    "metadata = MetaData(created_by=\"ORCID:0000-0002-0736-9199\", citation=cite)\n",
    "metadata.default_versions_with_hpo(version=hpo_version)\n",
    "print(f\"HPO version {hpo_version}\")"
   ]
  },
  {
   "cell_type": "code",
   "execution_count": 3,
   "id": "4bec0e03-fb29-4454-8c41-c33a20bf7c79",
   "metadata": {},
   "outputs": [],
   "source": [
    "pfeatures = []\n",
    "pfeatures.append(HpTerm(hpo_id=\"HP:0004970\", label=\"Ascending tubular aorta aneurysm\", observed=\"True\", onset=\"P0Y0M1D\"))\n",
    "pfeatures.append(HpTerm(hpo_id=\"HP:0001640\", label=\"Cardiomegaly\", observed=\"True\", onset=\"P0Y0M1D\"))\n",
    "pfeatures.append(HpTerm(hpo_id=\"HP:0001396\", label=\"Cholestasis\", observed=\"True\", onset=\"P0Y0M1D\"))\n",
    "pfeatures.append(HpTerm(hpo_id=\"HP:0006559\", label=\"Hepatic calcification\", observed=\"True\", onset=\"P0Y0M1D\"))\n",
    "pfeatures.append(HpTerm(hpo_id=\"HP:0002240\", label=\"Hepatomegaly\", observed=\"True\", onset=\"P0Y0M1D\"))\n",
    "pfeatures.append(HpTerm(hpo_id=\"HP:0001511\", label=\"Intrauterine growth retardation\", observed=\"True\", onset=\"P0Y0M1D\"))\n",
    "pfeatures.append(HpTerm(hpo_id=\"HP:0001622\", label=\"Premature birth\", observed=\"True\", onset=\"P0Y0M1D\"))\n",
    "pfeatures.append(HpTerm(hpo_id=\"HP:0001744\", label=\"Splenomegaly\", observed=\"True\", onset=\"P0Y0M1D\"))\n",
    "pfeatures.append(HpTerm(hpo_id=\"HP:0002027\", label=\"Abdominal pain\", observed=\"True\", onset=\"P0Y0M3D\"))\n",
    "pfeatures.append(HpTerm(hpo_id=\"HP:0001369\", label=\"Arthritis\", observed=\"True\", onset=\"P0Y0M3D\"))\n",
    "pfeatures.append(HpTerm(hpo_id=\"HP:0002099\", label=\"Asthma\", observed=\"True\", onset=\"P0Y0M3D\"))\n",
    "pfeatures.append(HpTerm(hpo_id=\"HP:0001047\", label=\"Atopic dermatitis\", observed=\"True\", onset=\"P0Y0M3D\"))\n",
    "pfeatures.append(HpTerm(hpo_id=\"HP:0002014\", label=\"Diarrhea\", observed=\"True\", onset=\"P0Y0M3D\"))\n",
    "pfeatures.append(HpTerm(hpo_id=\"HP:0011227\", label=\"Elevated circulating C-reactive protein concentration\", observed=\"True\", onset=\"P0Y0M3D\"))\n",
    "pfeatures.append(HpTerm(hpo_id=\"HP:0001945\", label=\"Fever\", observed=\"True\", onset=\"P0Y0M3D\"))\n",
    "pfeatures.append(HpTerm(hpo_id=\"HP:0001025\", label=\"Urticaria\", observed=\"True\", onset=\"P0Y0M3D\"))\n",
    "pfeatures.append(HpTerm(hpo_id=\"HP:0002007\", label=\"Frontal bossing\", observed=\"True\", onset=\"P1Y2M0D\"))\n",
    "pfeatures.append(HpTerm(hpo_id=\"HP:0000316\", label=\"Hypertelorism\", observed=\"True\", onset=\"P1Y2M0D\"))\n",
    "pfeatures.append(HpTerm(hpo_id=\"HP:0100828\", label=\"Increased T cell count\", observed=\"True\", onset=\"P2Y0M0D\"))\n",
    "pfeatures.append(HpTerm(hpo_id=\"HP:0030783\", label=\"Increased circulating interleukin 6 concentration\", observed=\"True\", onset=\"P2Y0M0D\"))\n",
    "individual_1 = Individual(individual_id=\"Patient in the present study\", sex=\"FEMALE\", hpo_terms=pfeatures, age=\"P2Y\")"
   ]
  },
  {
   "cell_type": "code",
   "execution_count": 4,
   "id": "77027204-8a17-43aa-91c8-71e0fbb826ee",
   "metadata": {},
   "outputs": [
    {
     "name": "stdout",
     "output_type": "stream",
     "text": [
      "https://rest.variantvalidator.org/VariantValidator/variantvalidator/hg38/NM_002350.4%3Ac.1522T>C/NM_002350.4?content-type=application%2Fjson\n"
     ]
    }
   ],
   "source": [
    "vvalidator = VariantValidator(genome_build=\"hg38\", transcript=\"NM_002350.4\")\n",
    "var = vvalidator.encode_hgvs(\"c.1522T>C\")\n",
    "var.set_heterozygous()\n",
    "individual_1.add_variant(var)"
   ]
  },
  {
   "cell_type": "code",
   "execution_count": 5,
   "id": "7e4e3c20-00a1-40a4-b307-647d5ee5e43d",
   "metadata": {},
   "outputs": [],
   "source": [
    "disease = Disease(disease_id=\"OMIM:620376\", disease_label=\"Autoinflammatory disease, systemic, with vasculitis\")\n",
    "\n",
    "individual_1.set_disease(disease)\n",
    "individual_1.set_citation(cite)"
   ]
  },
  {
   "cell_type": "code",
   "execution_count": 6,
   "id": "71b9a2ee-a42c-4c49-bca1-59ce6abf8925",
   "metadata": {},
   "outputs": [
    {
     "data": {
      "text/html": [
       "<h2>Cohort validation</h2>\n",
       "<p>No errors found for the cohort with 1 individuals</p>"
      ],
      "text/plain": [
       "<IPython.core.display.HTML object>"
      ]
     },
     "metadata": {},
     "output_type": "display_data"
    }
   ],
   "source": [
    "cvalidator = CohortValidator(cohort=[individual_1], ontology=hpo_ontology, min_hpo=1, allelic_requirement=AllelicRequirement.MONO_ALLELIC)\n",
    "qc = QcVisualizer(cohort_validator=cvalidator)\n",
    "display(HTML(qc.to_summary_html()))"
   ]
  },
  {
   "cell_type": "code",
   "execution_count": 7,
   "id": "69505016-97c9-43f6-b247-a58f407bc144",
   "metadata": {},
   "outputs": [
    {
     "data": {
      "text/html": [
       "<table style=\"border: 2px solid black; align: \"left\">\n",
       "<caption>1 phenopacket - PMID:36122175 (n=1)</caption>\n",
       "<tr><th style=\"text-align: left;font-weight: bold;\">Individual</th><th style=\"text-align: left;font-weight: bold;\">Disease</th><th style=\"text-align: left;font-weight: bold;\">Genotype</th><th style=\"text-align: left;font-weight: bold;\">Phenotypic features</th></tr>\n",
       "<tr><td style=\"text-align: left;\">Patient in the present study (FEMALE; P2Y)</td><td style=\"text-align: left;\">Autoinflammatory disease, systemic, with vasculitis (OMIM:620376)</td><td style=\"text-align: left;\">NM_002350.4:c.1522T>C (heterozygous)</td><td style=\"text-align: left;\"><b>P0Y0M1D</b>: Ascending tubular aorta aneurysm (HP:0004970); Cardiomegaly (HP:0001640); Cholestasis (HP:0001396); Hepatic calcification (HP:0006559); Hepatomegaly (HP:0002240); Intrauterine growth retardation (HP:0001511); Premature birth (HP:0001622); Splenomegaly (HP:0001744)<br/><b>P0Y0M3D</b>: Abdominal pain (HP:0002027); Arthritis (HP:0001369); Asthma (HP:0002099); Atopic dermatitis (HP:0001047); Diarrhea (HP:0002014); Elevated circulating C-reactive protein concentration (HP:0011227); Fever (HP:0001945); Urticaria (HP:0001025)<br/><b>P1Y2M0D</b>: Frontal bossing (HP:0002007); Hypertelorism (HP:0000316)<br/><b>P2Y0M0D</b>: Increased T cell count (HP:0100828); Increased circulating interleukin 6 concentration (HP:0030783)</td></tr>\n",
       "</table>"
      ],
      "text/plain": [
       "<IPython.core.display.HTML object>"
      ]
     },
     "metadata": {},
     "output_type": "display_data"
    }
   ],
   "source": [
    "individuals = cvalidator.get_error_free_individual_list()\n",
    "table = IndividualTable(individuals)\n",
    "display(HTML(table.to_html()))"
   ]
  },
  {
   "cell_type": "code",
   "execution_count": 8,
   "id": "6a679e00-d104-4a29-ad41-b683def67c62",
   "metadata": {},
   "outputs": [
    {
     "name": "stdout",
     "output_type": "stream",
     "text": [
      "We output 1 GA4GH phenopackets to the directory phenopackets\n"
     ]
    }
   ],
   "source": [
    "Individual.output_individuals_as_phenopackets(individual_list=individuals, metadata=metadata)"
   ]
  },
  {
   "cell_type": "code",
   "execution_count": null,
   "id": "2c1648be-d758-425e-8733-71d2f9a8a324",
   "metadata": {},
   "outputs": [],
   "source": []
  }
 ],
 "metadata": {
  "kernelspec": {
   "display_name": "ps24venv",
   "language": "python",
   "name": "ps24venv"
  },
  "language_info": {
   "codemirror_mode": {
    "name": "ipython",
    "version": 3
   },
   "file_extension": ".py",
   "mimetype": "text/x-python",
   "name": "python",
   "nbconvert_exporter": "python",
   "pygments_lexer": "ipython3",
   "version": "3.8.10"
  }
 },
 "nbformat": 4,
 "nbformat_minor": 5
}
