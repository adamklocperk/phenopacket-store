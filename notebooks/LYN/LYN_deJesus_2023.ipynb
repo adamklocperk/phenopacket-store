{
 "cells": [
  {
   "cell_type": "markdown",
   "id": "f5df03ac-c352-42db-80c3-42444c2a5293",
   "metadata": {},
   "source": [
    "# LYN\n",
    "\n",
    "Data from [de Jesus AA, et al. (2023) Constitutively active Lyn kinase causes a cutaneous small vessel vasculitis and liver fibrosis syndrome. Nat Commun;14:1502. PMID:36932076](https://pubmed.ncbi.nlm.nih.gov/36932076/)."
   ]
  },
  {
   "cell_type": "code",
   "execution_count": 1,
   "id": "ee6f7795-f3d4-4ced-a0f4-fa50f4f1840c",
   "metadata": {},
   "outputs": [
    {
     "name": "stdout",
     "output_type": "stream",
     "text": [
      "Using pyphetools version 0.9.39\n"
     ]
    }
   ],
   "source": [
    "import pandas as pd\n",
    "from IPython.display import display, HTML\n",
    "pd.set_option('display.max_colwidth', None) # show entire column contents, important!\n",
    "from collections import defaultdict\n",
    "from pyphetools.creation import *\n",
    "from pyphetools.visualization import IndividualTable, QcVisualizer\n",
    "from pyphetools.validation import *\n",
    "import pyphetools\n",
    "print(f\"Using pyphetools version {pyphetools.__version__}\")"
   ]
  },
  {
   "cell_type": "code",
   "execution_count": 2,
   "id": "1df6b35d-180a-47f6-914c-53b1bc05614b",
   "metadata": {},
   "outputs": [
    {
     "name": "stdout",
     "output_type": "stream",
     "text": [
      "HPO version 2024-01-16\n"
     ]
    }
   ],
   "source": [
    "# de Jesus AA (2023)\n",
    "PMID=\"PMID:36932076\"\n",
    "title = \"Constitutively active Lyn kinase causes a cutaneous small vessel vasculitis and liver fibrosis syndrome\"\n",
    "cite = Citation(pmid=PMID, title=title)\n",
    "parser = HpoParser(hpo_json_file=\"../hp.json\")\n",
    "hpo_cr = parser.get_hpo_concept_recognizer()\n",
    "hpo_version = parser.get_version()\n",
    "hpo_ontology = parser.get_ontology()\n",
    "metadata = MetaData(created_by=\"ORCID:0000-0002-0736-9199\", citation=cite)\n",
    "metadata.default_versions_with_hpo(version=hpo_version)\n",
    "print(f\"HPO version {hpo_version}\")"
   ]
  },
  {
   "cell_type": "code",
   "execution_count": 3,
   "id": "53040e06-1dda-47f2-846c-a3180e029563",
   "metadata": {},
   "outputs": [
    {
     "data": {
      "text/html": [
       "<div>\n",
       "<style scoped>\n",
       "    .dataframe tbody tr th:only-of-type {\n",
       "        vertical-align: middle;\n",
       "    }\n",
       "\n",
       "    .dataframe tbody tr th {\n",
       "        vertical-align: top;\n",
       "    }\n",
       "\n",
       "    .dataframe thead th {\n",
       "        text-align: right;\n",
       "    }\n",
       "</style>\n",
       "<table border=\"1\" class=\"dataframe\">\n",
       "  <thead>\n",
       "    <tr style=\"text-align: right;\">\n",
       "      <th>Clinical and laboratory features</th>\n",
       "      <th>Age of disease onset</th>\n",
       "      <th>Sex</th>\n",
       "      <th>Age at diagnosis</th>\n",
       "      <th>Presenting Symptoms</th>\n",
       "      <th>Hydrops fetalis</th>\n",
       "      <th>Liver fibrosis</th>\n",
       "      <th>Other clinical manifestations</th>\n",
       "      <th>ESR (mm/1h)</th>\n",
       "      <th>CRP (mg/L)</th>\n",
       "      <th>SAA (mg/L)</th>\n",
       "      <th>...</th>\n",
       "      <th>NK lymphocytes (abs #)</th>\n",
       "      <th>IgG</th>\n",
       "      <th>IgA</th>\n",
       "      <th>IgM</th>\n",
       "      <th>Skin biopsies</th>\n",
       "      <th>Elastography (max)</th>\n",
       "      <th>Infections</th>\n",
       "      <th>Treatment</th>\n",
       "      <th>NM_002350.4</th>\n",
       "      <th>individual_id</th>\n",
       "    </tr>\n",
       "  </thead>\n",
       "  <tbody>\n",
       "    <tr>\n",
       "      <th>Patient 1</th>\n",
       "      <td>1st day of life</td>\n",
       "      <td>female</td>\n",
       "      <td>2 years 6 months old</td>\n",
       "      <td>Purpuric rash, hepatosplenomegaly, fever, thrombocytopenia at birth</td>\n",
       "      <td>Yes, intra-utero platelet and PRBC transfusion at 29 weeks of GA</td>\n",
       "      <td>Yes</td>\n",
       "      <td>Recurrent parotitis, abdominal pain, periorbital edema and erythema, conjunctivitis, epididymitis, headaches, arthralgias, oral ulcers, fatigue, GVHD-like colitis</td>\n",
       "      <td>64</td>\n",
       "      <td>14–86.5</td>\n",
       "      <td>ND</td>\n",
       "      <td>...</td>\n",
       "      <td>nl</td>\n",
       "      <td>nl</td>\n",
       "      <td>nl</td>\n",
       "      <td>low</td>\n",
       "      <td>Small vessel vasculitis with neutrophilic infiltrate and destruction of dermal vessel walls</td>\n",
       "      <td>6.7 kPa</td>\n",
       "      <td>Enteropathogenic E. coli, Salmonella sp, Toxocara canisb</td>\n",
       "      <td>Poor response to IVIG, IVMP and oral prednisolone, partial response to dasatinib monotherapy, partial response to etanercept monotherapy, good response to dasatinib and etanercept combination therapy</td>\n",
       "      <td>c.1522T&gt;C</td>\n",
       "      <td>Patient 1</td>\n",
       "    </tr>\n",
       "    <tr>\n",
       "      <th>Patient 2</th>\n",
       "      <td>1st day of life</td>\n",
       "      <td>male</td>\n",
       "      <td>15 years-old</td>\n",
       "      <td>Mild purpuric rash at birth, fever, and generalized severe purpuric rash at the age of 3 months</td>\n",
       "      <td>No</td>\n",
       "      <td>No</td>\n",
       "      <td>Recurrent abdominal pain, periorbital edema and erythema, conjunctivitis, epididymitis, headaches, arthralgias, oral ulcers, fatigue, GVHD-like colitis</td>\n",
       "      <td>ND</td>\n",
       "      <td>46–166</td>\n",
       "      <td>182–984</td>\n",
       "      <td>...</td>\n",
       "      <td>nl</td>\n",
       "      <td>nl</td>\n",
       "      <td>nl</td>\n",
       "      <td>low</td>\n",
       "      <td>Perivascular neutrophilic dermal infiltrate</td>\n",
       "      <td>ND, normal LFTs</td>\n",
       "      <td>Post-streptococcal glomerulonephritis</td>\n",
       "      <td>No response to anakinra and tocilizumab, partial response to colchicine and good response to etanercept and colchicine</td>\n",
       "      <td>c.1524C&gt;G</td>\n",
       "      <td>Patient 2</td>\n",
       "    </tr>\n",
       "    <tr>\n",
       "      <th>Patient 3</th>\n",
       "      <td>1st day of life</td>\n",
       "      <td>male</td>\n",
       "      <td>4 months old</td>\n",
       "      <td>Hepatosplenomegaly, thrombocytopenia, and discrete purpuric rash at birth</td>\n",
       "      <td>No, had congenital hydrocele</td>\n",
       "      <td>Yes</td>\n",
       "      <td>Intrauterine growth restriction, failure to thrive, transient periorbital erythema, jaundice, direct hyperbilirubinemia</td>\n",
       "      <td>ND</td>\n",
       "      <td>6.5–107.6</td>\n",
       "      <td>ND</td>\n",
       "      <td>...</td>\n",
       "      <td>high</td>\n",
       "      <td>nl</td>\n",
       "      <td>low</td>\n",
       "      <td>nl</td>\n",
       "      <td>Small vessel vasculitis with neutrophilic infiltrate and destruction of dermal vessel walls</td>\n",
       "      <td>18.7 kPa</td>\n",
       "      <td>Late neonatal sepsis, COVID-19 (asymptomatic)</td>\n",
       "      <td>Partial improvement of CRP and thrombocytopenia, resolution of direct hyperbilirubinemia, return of normal growth rate, and persistence of liver fibrosis on etanercept therapy</td>\n",
       "      <td>c.1523A&gt;T</td>\n",
       "      <td>Patient 3</td>\n",
       "    </tr>\n",
       "  </tbody>\n",
       "</table>\n",
       "<p>3 rows × 27 columns</p>\n",
       "</div>"
      ],
      "text/plain": [
       "Clinical and laboratory features Age of disease onset     Sex  \\\n",
       "Patient 1                             1st day of life  female   \n",
       "Patient 2                             1st day of life    male   \n",
       "Patient 3                             1st day of life    male   \n",
       "\n",
       "Clinical and laboratory features      Age at diagnosis  \\\n",
       "Patient 1                         2 years 6 months old   \n",
       "Patient 2                                 15 years-old   \n",
       "Patient 3                                 4 months old   \n",
       "\n",
       "Clinical and laboratory features                                                                              Presenting Symptoms  \\\n",
       "Patient 1                                                     Purpuric rash, hepatosplenomegaly, fever, thrombocytopenia at birth   \n",
       "Patient 2                         Mild purpuric rash at birth, fever, and generalized severe purpuric rash at the age of 3 months   \n",
       "Patient 3                                               Hepatosplenomegaly, thrombocytopenia, and discrete purpuric rash at birth   \n",
       "\n",
       "Clinical and laboratory features                                                   Hydrops fetalis  \\\n",
       "Patient 1                         Yes, intra-utero platelet and PRBC transfusion at 29 weeks of GA   \n",
       "Patient 2                                                                                       No   \n",
       "Patient 3                                                             No, had congenital hydrocele   \n",
       "\n",
       "Clinical and laboratory features Liver fibrosis  \\\n",
       "Patient 1                                   Yes   \n",
       "Patient 2                                    No   \n",
       "Patient 3                                   Yes   \n",
       "\n",
       "Clinical and laboratory features                                                                                                                                       Other clinical manifestations  \\\n",
       "Patient 1                         Recurrent parotitis, abdominal pain, periorbital edema and erythema, conjunctivitis, epididymitis, headaches, arthralgias, oral ulcers, fatigue, GVHD-like colitis   \n",
       "Patient 2                                    Recurrent abdominal pain, periorbital edema and erythema, conjunctivitis, epididymitis, headaches, arthralgias, oral ulcers, fatigue, GVHD-like colitis   \n",
       "Patient 3                                                                    Intrauterine growth restriction, failure to thrive, transient periorbital erythema, jaundice, direct hyperbilirubinemia   \n",
       "\n",
       "Clinical and laboratory features ESR (mm/1h) CRP (mg/L) SAA (mg/L)  ...  \\\n",
       "Patient 1                                 64    14–86.5         ND  ...   \n",
       "Patient 2                                 ND     46–166    182–984  ...   \n",
       "Patient 3                                 ND  6.5–107.6         ND  ...   \n",
       "\n",
       "Clinical and laboratory features NK lymphocytes (abs #) IgG  IgA  IgM  \\\n",
       "Patient 1                                            nl  nl   nl  low   \n",
       "Patient 2                                            nl  nl   nl  low   \n",
       "Patient 3                                          high  nl  low   nl   \n",
       "\n",
       "Clinical and laboratory features                                                                                Skin biopsies  \\\n",
       "Patient 1                         Small vessel vasculitis with neutrophilic infiltrate and destruction of dermal vessel walls   \n",
       "Patient 2                                                                         Perivascular neutrophilic dermal infiltrate   \n",
       "Patient 3                         Small vessel vasculitis with neutrophilic infiltrate and destruction of dermal vessel walls   \n",
       "\n",
       "Clinical and laboratory features Elastography (max)  \\\n",
       "Patient 1                                   6.7 kPa   \n",
       "Patient 2                           ND, normal LFTs   \n",
       "Patient 3                                  18.7 kPa   \n",
       "\n",
       "Clinical and laboratory features                                                Infections  \\\n",
       "Patient 1                         Enteropathogenic E. coli, Salmonella sp, Toxocara canisb   \n",
       "Patient 2                                            Post-streptococcal glomerulonephritis   \n",
       "Patient 3                                    Late neonatal sepsis, COVID-19 (asymptomatic)   \n",
       "\n",
       "Clinical and laboratory features                                                                                                                                                                                                Treatment  \\\n",
       "Patient 1                         Poor response to IVIG, IVMP and oral prednisolone, partial response to dasatinib monotherapy, partial response to etanercept monotherapy, good response to dasatinib and etanercept combination therapy   \n",
       "Patient 2                                                                                                          No response to anakinra and tocilizumab, partial response to colchicine and good response to etanercept and colchicine   \n",
       "Patient 3                                                 Partial improvement of CRP and thrombocytopenia, resolution of direct hyperbilirubinemia, return of normal growth rate, and persistence of liver fibrosis on etanercept therapy   \n",
       "\n",
       "Clinical and laboratory features NM_002350.4 individual_id  \n",
       "Patient 1                          c.1522T>C     Patient 1  \n",
       "Patient 2                          c.1524C>G     Patient 2  \n",
       "Patient 3                          c.1523A>T     Patient 3  \n",
       "\n",
       "[3 rows x 27 columns]"
      ]
     },
     "execution_count": 3,
     "metadata": {},
     "output_type": "execute_result"
    }
   ],
   "source": [
    "df = pd.read_excel(\"input/dejesus_2023_LYN.xlsx\")\n",
    "dft = df.transpose()\n",
    "dft.columns = dft.iloc[0]\n",
    "dft.drop(dft.index[0], inplace=True)\n",
    "dft['individual_id'] = dft.index  # Set the new column 'patient_id' to be identical to the contents of the index\n",
    "dft.head() # check the transposed table"
   ]
  },
  {
   "cell_type": "code",
   "execution_count": 4,
   "id": "c1777a3c-b1d2-4562-8431-5b1755a406d9",
   "metadata": {},
   "outputs": [],
   "source": [
    "#res = OptionColumnMapper.autoformat(df=dft, concept_recognizer=hpo_cr, )\n",
    "#print(res)\n",
    "column_mapper_list = list()"
   ]
  },
  {
   "cell_type": "code",
   "execution_count": 5,
   "id": "c6fd69ef-887c-46ab-9225-61f58cc9c9b6",
   "metadata": {},
   "outputs": [
    {
     "data": {
      "text/html": [
       "<div>\n",
       "<style scoped>\n",
       "    .dataframe tbody tr th:only-of-type {\n",
       "        vertical-align: middle;\n",
       "    }\n",
       "\n",
       "    .dataframe tbody tr th {\n",
       "        vertical-align: top;\n",
       "    }\n",
       "\n",
       "    .dataframe thead th {\n",
       "        text-align: right;\n",
       "    }\n",
       "</style>\n",
       "<table border=\"1\" class=\"dataframe\">\n",
       "  <thead>\n",
       "    <tr style=\"text-align: right;\">\n",
       "      <th></th>\n",
       "      <th>mapping</th>\n",
       "      <th>count</th>\n",
       "    </tr>\n",
       "  </thead>\n",
       "  <tbody>\n",
       "    <tr>\n",
       "      <th>0</th>\n",
       "      <td>Purpura (HP:0000979) (observed)</td>\n",
       "      <td>4</td>\n",
       "    </tr>\n",
       "    <tr>\n",
       "      <th>1</th>\n",
       "      <td>Hepatosplenomegaly (HP:0001433) (observed)</td>\n",
       "      <td>2</td>\n",
       "    </tr>\n",
       "    <tr>\n",
       "      <th>2</th>\n",
       "      <td>Fever (HP:0001945) (observed)</td>\n",
       "      <td>2</td>\n",
       "    </tr>\n",
       "    <tr>\n",
       "      <th>3</th>\n",
       "      <td>Thrombocytopenia (HP:0001873) (observed)</td>\n",
       "      <td>2</td>\n",
       "    </tr>\n",
       "  </tbody>\n",
       "</table>\n",
       "</div>"
      ],
      "text/plain": [
       "                                      mapping count\n",
       "0             Purpura (HP:0000979) (observed)     4\n",
       "1  Hepatosplenomegaly (HP:0001433) (observed)     2\n",
       "2               Fever (HP:0001945) (observed)     2\n",
       "3    Thrombocytopenia (HP:0001873) (observed)     2"
      ]
     },
     "execution_count": 5,
     "metadata": {},
     "output_type": "execute_result"
    }
   ],
   "source": [
    "presenting_symptoms_d = {'Purpuric rash': 'Purpura',\n",
    "                    'hepatosplenomegaly': 'Hepatosplenomegaly',\n",
    "                    'fever': 'Fever',\n",
    "                    'thrombocytopenia at birth': 'Thrombocytopenia',\n",
    "                    'Mild purpuric rash at birth': 'Purpura',\n",
    "                    'and generalized severe purpuric rash at the age of 3 months': 'Purpura',\n",
    "                    'Hepatosplenomegaly': 'Hepatosplenomegaly',\n",
    "                    'thrombocytopenia': 'Thrombocytopenia',\n",
    "                    'and discrete purpuric rash at birth': 'Purpura'}\n",
    "presenting_symptomsMapper = OptionColumnMapper(column_name='Presenting Symptoms',\n",
    "                                               concept_recognizer=hpo_cr, option_d=presenting_symptoms_d)\n",
    "column_mapper_list.append(presenting_symptomsMapper)\n",
    "presenting_symptomsMapper.preview_column(dft)"
   ]
  },
  {
   "cell_type": "code",
   "execution_count": 6,
   "id": "7a5bda25-c97a-43ae-9484-fce7693f0f13",
   "metadata": {},
   "outputs": [
    {
     "data": {
      "text/html": [
       "<div>\n",
       "<style scoped>\n",
       "    .dataframe tbody tr th:only-of-type {\n",
       "        vertical-align: middle;\n",
       "    }\n",
       "\n",
       "    .dataframe tbody tr th {\n",
       "        vertical-align: top;\n",
       "    }\n",
       "\n",
       "    .dataframe thead th {\n",
       "        text-align: right;\n",
       "    }\n",
       "</style>\n",
       "<table border=\"1\" class=\"dataframe\">\n",
       "  <thead>\n",
       "    <tr style=\"text-align: right;\">\n",
       "      <th></th>\n",
       "      <th>mapping</th>\n",
       "      <th>count</th>\n",
       "    </tr>\n",
       "  </thead>\n",
       "  <tbody>\n",
       "    <tr>\n",
       "      <th>0</th>\n",
       "      <td>Hydrops fetalis (HP:0001789) (observed)</td>\n",
       "      <td>1</td>\n",
       "    </tr>\n",
       "    <tr>\n",
       "      <th>1</th>\n",
       "      <td>Hydrops fetalis (HP:0001789) (excluded)</td>\n",
       "      <td>1</td>\n",
       "    </tr>\n",
       "    <tr>\n",
       "      <th>2</th>\n",
       "      <td>Congenital hydrocele (HP:4000037) (observed)</td>\n",
       "      <td>1</td>\n",
       "    </tr>\n",
       "  </tbody>\n",
       "</table>\n",
       "</div>"
      ],
      "text/plain": [
       "                                        mapping count\n",
       "0       Hydrops fetalis (HP:0001789) (observed)     1\n",
       "1       Hydrops fetalis (HP:0001789) (excluded)     1\n",
       "2  Congenital hydrocele (HP:4000037) (observed)     1"
      ]
     },
     "execution_count": 6,
     "metadata": {},
     "output_type": "execute_result"
    }
   ],
   "source": [
    "hydrops_d = {'Yes': 'Hydrops fetalis',\n",
    " #'intra-utero platelet and PRBC transfusion at 29 weeks of\\xa0GA': 'PLACEHOLDER',\n",
    " 'had congenital hydrocele': 'Congenital hydrocele'}\n",
    "excluded = {'No': 'Hydrops fetalis',}\n",
    "hydropsMapper = OptionColumnMapper(column_name='Hydrops fetalis',\n",
    "                                    concept_recognizer=hpo_cr, option_d=hydrops_d, excluded_d=excluded)\n",
    "column_mapper_list.append(hydropsMapper)\n",
    "hydropsMapper.preview_column(dft)"
   ]
  },
  {
   "cell_type": "code",
   "execution_count": 7,
   "id": "c123ced7-cadf-4c77-a696-dc8fc50fa259",
   "metadata": {},
   "outputs": [
    {
     "data": {
      "text/html": [
       "<div>\n",
       "<style scoped>\n",
       "    .dataframe tbody tr th:only-of-type {\n",
       "        vertical-align: middle;\n",
       "    }\n",
       "\n",
       "    .dataframe tbody tr th {\n",
       "        vertical-align: top;\n",
       "    }\n",
       "\n",
       "    .dataframe thead th {\n",
       "        text-align: right;\n",
       "    }\n",
       "</style>\n",
       "<table border=\"1\" class=\"dataframe\">\n",
       "  <thead>\n",
       "    <tr style=\"text-align: right;\">\n",
       "      <th></th>\n",
       "      <th>mapping</th>\n",
       "      <th>count</th>\n",
       "    </tr>\n",
       "  </thead>\n",
       "  <tbody>\n",
       "    <tr>\n",
       "      <th>0</th>\n",
       "      <td>Hepatic fibrosis (HP:0001395) (observed)</td>\n",
       "      <td>2</td>\n",
       "    </tr>\n",
       "    <tr>\n",
       "      <th>1</th>\n",
       "      <td>Hepatic fibrosis (HP:0001395) (excluded)</td>\n",
       "      <td>1</td>\n",
       "    </tr>\n",
       "  </tbody>\n",
       "</table>\n",
       "</div>"
      ],
      "text/plain": [
       "                                    mapping count\n",
       "0  Hepatic fibrosis (HP:0001395) (observed)     2\n",
       "1  Hepatic fibrosis (HP:0001395) (excluded)     1"
      ]
     },
     "execution_count": 7,
     "metadata": {},
     "output_type": "execute_result"
    }
   ],
   "source": [
    "liver_d = {'Yes': 'Hepatic fibrosis',}\n",
    "excluded = {'No': 'Hepatic fibrosis',}\n",
    "liverMapper = OptionColumnMapper(column_name='Liver fibrosis',concept_recognizer=hpo_cr, option_d=liver_d, excluded_d=excluded)\n",
    "column_mapper_list.append(liverMapper)\n",
    "liverMapper.preview_column(dft)"
   ]
  },
  {
   "cell_type": "code",
   "execution_count": 8,
   "id": "30846ea2-24eb-414d-82cb-90748a39b330",
   "metadata": {},
   "outputs": [
    {
     "data": {
      "text/html": [
       "<div>\n",
       "<style scoped>\n",
       "    .dataframe tbody tr th:only-of-type {\n",
       "        vertical-align: middle;\n",
       "    }\n",
       "\n",
       "    .dataframe tbody tr th {\n",
       "        vertical-align: top;\n",
       "    }\n",
       "\n",
       "    .dataframe thead th {\n",
       "        text-align: right;\n",
       "    }\n",
       "</style>\n",
       "<table border=\"1\" class=\"dataframe\">\n",
       "  <thead>\n",
       "    <tr style=\"text-align: right;\">\n",
       "      <th></th>\n",
       "      <th>mapping</th>\n",
       "      <th>count</th>\n",
       "    </tr>\n",
       "  </thead>\n",
       "  <tbody>\n",
       "    <tr>\n",
       "      <th>0</th>\n",
       "      <td>Parotitis (HP:0011850) (observed)</td>\n",
       "      <td>1</td>\n",
       "    </tr>\n",
       "    <tr>\n",
       "      <th>1</th>\n",
       "      <td>Abdominal pain (HP:0002027) (observed)</td>\n",
       "      <td>2</td>\n",
       "    </tr>\n",
       "    <tr>\n",
       "      <th>2</th>\n",
       "      <td>Periorbital edema (HP:0100539) (observed)</td>\n",
       "      <td>2</td>\n",
       "    </tr>\n",
       "    <tr>\n",
       "      <th>3</th>\n",
       "      <td>Conjunctivitis (HP:0000509) (observed)</td>\n",
       "      <td>2</td>\n",
       "    </tr>\n",
       "    <tr>\n",
       "      <th>4</th>\n",
       "      <td>Epididymitis (HP:0000031) (observed)</td>\n",
       "      <td>2</td>\n",
       "    </tr>\n",
       "    <tr>\n",
       "      <th>5</th>\n",
       "      <td>Headache (HP:0002315) (observed)</td>\n",
       "      <td>2</td>\n",
       "    </tr>\n",
       "    <tr>\n",
       "      <th>6</th>\n",
       "      <td>Arthralgia (HP:0002829) (observed)</td>\n",
       "      <td>2</td>\n",
       "    </tr>\n",
       "    <tr>\n",
       "      <th>7</th>\n",
       "      <td>Oral ulcer (HP:0000155) (observed)</td>\n",
       "      <td>2</td>\n",
       "    </tr>\n",
       "    <tr>\n",
       "      <th>8</th>\n",
       "      <td>Fatigue (HP:0012378) (observed)</td>\n",
       "      <td>2</td>\n",
       "    </tr>\n",
       "    <tr>\n",
       "      <th>9</th>\n",
       "      <td>Colitis (HP:0002583) (observed)</td>\n",
       "      <td>2</td>\n",
       "    </tr>\n",
       "    <tr>\n",
       "      <th>10</th>\n",
       "      <td>Intrauterine growth retardation (HP:0001511) (observed)</td>\n",
       "      <td>1</td>\n",
       "    </tr>\n",
       "    <tr>\n",
       "      <th>11</th>\n",
       "      <td>Failure to thrive (HP:0001508) (observed)</td>\n",
       "      <td>1</td>\n",
       "    </tr>\n",
       "    <tr>\n",
       "      <th>12</th>\n",
       "      <td>Erythema (HP:0010783) (observed)</td>\n",
       "      <td>1</td>\n",
       "    </tr>\n",
       "    <tr>\n",
       "      <th>13</th>\n",
       "      <td>Jaundice (HP:0000952) (observed)</td>\n",
       "      <td>1</td>\n",
       "    </tr>\n",
       "    <tr>\n",
       "      <th>14</th>\n",
       "      <td>Conjugated hyperbilirubinemia (HP:0002908) (observed)</td>\n",
       "      <td>1</td>\n",
       "    </tr>\n",
       "  </tbody>\n",
       "</table>\n",
       "</div>"
      ],
      "text/plain": [
       "                                                    mapping count\n",
       "0                         Parotitis (HP:0011850) (observed)     1\n",
       "1                    Abdominal pain (HP:0002027) (observed)     2\n",
       "2                 Periorbital edema (HP:0100539) (observed)     2\n",
       "3                    Conjunctivitis (HP:0000509) (observed)     2\n",
       "4                      Epididymitis (HP:0000031) (observed)     2\n",
       "5                          Headache (HP:0002315) (observed)     2\n",
       "6                        Arthralgia (HP:0002829) (observed)     2\n",
       "7                        Oral ulcer (HP:0000155) (observed)     2\n",
       "8                           Fatigue (HP:0012378) (observed)     2\n",
       "9                           Colitis (HP:0002583) (observed)     2\n",
       "10  Intrauterine growth retardation (HP:0001511) (observed)     1\n",
       "11                Failure to thrive (HP:0001508) (observed)     1\n",
       "12                         Erythema (HP:0010783) (observed)     1\n",
       "13                         Jaundice (HP:0000952) (observed)     1\n",
       "14    Conjugated hyperbilirubinemia (HP:0002908) (observed)     1"
      ]
     },
     "execution_count": 8,
     "metadata": {},
     "output_type": "execute_result"
    }
   ],
   "source": [
    "other_d = {'Recurrent parotitis': 'Parotitis',\n",
    " 'abdominal pain': 'Abdominal pain',\n",
    " 'periorbital edema and erythema': 'Periorbital edema',\n",
    " 'conjunctivitis': 'Conjunctivitis',\n",
    " 'epididymitis': 'Epididymitis',\n",
    " 'headaches': 'Headache',\n",
    " 'arthralgias': 'Arthralgia',\n",
    " 'oral ulcers': 'Oral ulcer',\n",
    " 'fatigue': 'Fatigue',\n",
    " 'GVHD-like colitis': 'Colitis',\n",
    " 'Recurrent abdominal pain': 'Abdominal pain',\n",
    " 'Intrauterine growth restriction': 'Intrauterine growth retardation',\n",
    " 'failure to thrive': 'Failure to thrive',\n",
    " 'transient periorbital erythema': 'Erythema',\n",
    " 'jaundice': 'Jaundice',\n",
    " 'direct hyperbilirubinemia': 'Conjugated hyperbilirubinemia'}\n",
    "otherMapper = OptionColumnMapper(column_name='Other clinical manifestations', concept_recognizer=hpo_cr, option_d=other_d)\n",
    "column_mapper_list.append(otherMapper)\n",
    "otherMapper.preview_column(dft)"
   ]
  },
  {
   "cell_type": "code",
   "execution_count": 9,
   "id": "dc879c16-d6b6-43bf-9859-2f2bf5d37ebf",
   "metadata": {},
   "outputs": [
    {
     "data": {
      "text/html": [
       "<div>\n",
       "<style scoped>\n",
       "    .dataframe tbody tr th:only-of-type {\n",
       "        vertical-align: middle;\n",
       "    }\n",
       "\n",
       "    .dataframe tbody tr th {\n",
       "        vertical-align: top;\n",
       "    }\n",
       "\n",
       "    .dataframe thead th {\n",
       "        text-align: right;\n",
       "    }\n",
       "</style>\n",
       "<table border=\"1\" class=\"dataframe\">\n",
       "  <thead>\n",
       "    <tr style=\"text-align: right;\">\n",
       "      <th></th>\n",
       "      <th>mapping</th>\n",
       "      <th>count</th>\n",
       "    </tr>\n",
       "  </thead>\n",
       "  <tbody>\n",
       "    <tr>\n",
       "      <th>0</th>\n",
       "      <td>Elevated erythrocyte sedimentation rate (HP:0003565) (observed)</td>\n",
       "      <td>1</td>\n",
       "    </tr>\n",
       "  </tbody>\n",
       "</table>\n",
       "</div>"
      ],
      "text/plain": [
       "                                                           mapping count\n",
       "0  Elevated erythrocyte sedimentation rate (HP:0003565) (observed)     1"
      ]
     },
     "execution_count": 9,
     "metadata": {},
     "output_type": "execute_result"
    }
   ],
   "source": [
    "# Male <50 years old: ≤15 mm/hr. Female <50 years old: ≤ 20 mm/hr. Male >50 years old: ≤20 mm/hr.\n",
    "# therefore, 64 is increased\n",
    "esr_d = {'64': 'Elevated erythrocyte sedimentation rate',}\n",
    "esr_Mapper = OptionColumnMapper(column_name='ESR (mm/1h)',concept_recognizer=hpo_cr, option_d=esr_d)\n",
    "column_mapper_list.append(esr_Mapper)\n",
    "esr_Mapper.preview_column(dft)"
   ]
  },
  {
   "cell_type": "code",
   "execution_count": 10,
   "id": "d038e692-6f4a-4630-8933-d90589ef2b60",
   "metadata": {},
   "outputs": [
    {
     "data": {
      "text/html": [
       "<div>\n",
       "<style scoped>\n",
       "    .dataframe tbody tr th:only-of-type {\n",
       "        vertical-align: middle;\n",
       "    }\n",
       "\n",
       "    .dataframe tbody tr th {\n",
       "        vertical-align: top;\n",
       "    }\n",
       "\n",
       "    .dataframe thead th {\n",
       "        text-align: right;\n",
       "    }\n",
       "</style>\n",
       "<table border=\"1\" class=\"dataframe\">\n",
       "  <thead>\n",
       "    <tr style=\"text-align: right;\">\n",
       "      <th></th>\n",
       "      <th>mapping</th>\n",
       "      <th>count</th>\n",
       "    </tr>\n",
       "  </thead>\n",
       "  <tbody>\n",
       "    <tr>\n",
       "      <th>0</th>\n",
       "      <td>Elevated circulating C-reactive protein concentration (HP:0011227) (observed)</td>\n",
       "      <td>3</td>\n",
       "    </tr>\n",
       "  </tbody>\n",
       "</table>\n",
       "</div>"
      ],
      "text/plain": [
       "                                                                         mapping  \\\n",
       "0  Elevated circulating C-reactive protein concentration (HP:0011227) (observed)   \n",
       "\n",
       "  count  \n",
       "0     3  "
      ]
     },
     "execution_count": 10,
     "metadata": {},
     "output_type": "execute_result"
    }
   ],
   "source": [
    "# Elevated circulating C-reactive protein concentration HP:0011227\n",
    "crp_d = {'14–86.5': 'Elevated circulating C-reactive protein concentration',\n",
    " '46–166': 'Elevated circulating C-reactive protein concentration',\n",
    " '6.5–107.6': 'Elevated circulating C-reactive protein concentration'}\n",
    "crpMapper = OptionColumnMapper(column_name='CRP (mg/L)',concept_recognizer=hpo_cr, option_d=crp_d)\n",
    "column_mapper_list.append(crpMapper)\n",
    "crpMapper.preview_column(dft)"
   ]
  },
  {
   "cell_type": "code",
   "execution_count": 11,
   "id": "b7fbcdd3-2423-473f-b49c-82be2a3309ea",
   "metadata": {},
   "outputs": [],
   "source": [
    "# Serum amyloid A - need term\n",
    "#saa_d = { '182–984': 'PLACEHOLDER'} - elevated\n",
    "#saa_Mapper = OptionColumnMapper(concept_recognizer=hpo_cr, option_d=saa_d)\n",
    "#saa_Mapper.preview_column(df['SAA (mg/L)'])\n",
    "#column_mapper_d['SAA (mg/L)'] = saa_(mg/l)Mapper"
   ]
  },
  {
   "cell_type": "code",
   "execution_count": 12,
   "id": "c61376a2-47a9-4917-989b-a1847fc2e729",
   "metadata": {},
   "outputs": [
    {
     "data": {
      "text/html": [
       "<div>\n",
       "<style scoped>\n",
       "    .dataframe tbody tr th:only-of-type {\n",
       "        vertical-align: middle;\n",
       "    }\n",
       "\n",
       "    .dataframe tbody tr th {\n",
       "        vertical-align: top;\n",
       "    }\n",
       "\n",
       "    .dataframe thead th {\n",
       "        text-align: right;\n",
       "    }\n",
       "</style>\n",
       "<table border=\"1\" class=\"dataframe\">\n",
       "  <thead>\n",
       "    <tr style=\"text-align: right;\">\n",
       "      <th></th>\n",
       "      <th>mapping</th>\n",
       "      <th>count</th>\n",
       "    </tr>\n",
       "  </thead>\n",
       "  <tbody>\n",
       "    <tr>\n",
       "      <th>0</th>\n",
       "      <td>Anemia (HP:0001903) (observed)</td>\n",
       "      <td>2</td>\n",
       "    </tr>\n",
       "    <tr>\n",
       "      <th>1</th>\n",
       "      <td>Leukocytosis (HP:0001974) (observed)</td>\n",
       "      <td>3</td>\n",
       "    </tr>\n",
       "    <tr>\n",
       "      <th>2</th>\n",
       "      <td>Thrombocytopenia (HP:0001873) (observed)</td>\n",
       "      <td>2</td>\n",
       "    </tr>\n",
       "  </tbody>\n",
       "</table>\n",
       "</div>"
      ],
      "text/plain": [
       "                                    mapping count\n",
       "0            Anemia (HP:0001903) (observed)     2\n",
       "1      Leukocytosis (HP:0001974) (observed)     3\n",
       "2  Thrombocytopenia (HP:0001873) (observed)     2"
      ]
     },
     "execution_count": 12,
     "metadata": {},
     "output_type": "execute_result"
    }
   ],
   "source": [
    "cbc_d = {'Mild anemia': 'Anemia',\n",
    " 'mild leukocytosis': 'Leukocytosis',\n",
    " 'moderate to severe thrombocytopenia': 'Thrombocytopenia',\n",
    " 'Mild leukocytosis': 'Leukocytosis',\n",
    " 'moderate leukocytosis': 'Leukocytosis'}\n",
    "cbcMapper = OptionColumnMapper(column_name='CBC',concept_recognizer=hpo_cr, option_d=cbc_d)\n",
    "column_mapper_list.append(cbcMapper)\n",
    "cbcMapper.preview_column(dft)"
   ]
  },
  {
   "cell_type": "code",
   "execution_count": 13,
   "id": "622f819c-fbbb-45f2-8bfc-0f5dc1a5db40",
   "metadata": {},
   "outputs": [
    {
     "data": {
      "text/html": [
       "<div>\n",
       "<style scoped>\n",
       "    .dataframe tbody tr th:only-of-type {\n",
       "        vertical-align: middle;\n",
       "    }\n",
       "\n",
       "    .dataframe tbody tr th {\n",
       "        vertical-align: top;\n",
       "    }\n",
       "\n",
       "    .dataframe thead th {\n",
       "        text-align: right;\n",
       "    }\n",
       "</style>\n",
       "<table border=\"1\" class=\"dataframe\">\n",
       "  <thead>\n",
       "    <tr style=\"text-align: right;\">\n",
       "      <th></th>\n",
       "      <th>mapping</th>\n",
       "      <th>count</th>\n",
       "    </tr>\n",
       "  </thead>\n",
       "  <tbody>\n",
       "    <tr>\n",
       "      <th>0</th>\n",
       "      <td>Elevated circulating alanine aminotransferase concentration (HP:0031964) (observed)</td>\n",
       "      <td>2</td>\n",
       "    </tr>\n",
       "    <tr>\n",
       "      <th>1</th>\n",
       "      <td>Elevated circulating aspartate aminotransferase concentration (HP:0031956) (observed)</td>\n",
       "      <td>2</td>\n",
       "    </tr>\n",
       "    <tr>\n",
       "      <th>2</th>\n",
       "      <td>Elevated gamma-glutamyltransferase level (HP:0030948) (observed)</td>\n",
       "      <td>2</td>\n",
       "    </tr>\n",
       "  </tbody>\n",
       "</table>\n",
       "</div>"
      ],
      "text/plain": [
       "                                                                                 mapping  \\\n",
       "0    Elevated circulating alanine aminotransferase concentration (HP:0031964) (observed)   \n",
       "1  Elevated circulating aspartate aminotransferase concentration (HP:0031956) (observed)   \n",
       "2                       Elevated gamma-glutamyltransferase level (HP:0030948) (observed)   \n",
       "\n",
       "  count  \n",
       "0     2  \n",
       "1     2  \n",
       "2     2  "
      ]
     },
     "execution_count": 13,
     "metadata": {},
     "output_type": "execute_result"
    }
   ],
   "source": [
    "lfts_d = {'Increased ALT': 'Elevated circulating alanine aminotransferase concentration',\n",
    " 'Increased AST': 'Elevated circulating aspartate aminotransferase concentration',\n",
    " 'Increased GGT': 'Elevated gamma-glutamyltransferase level',\n",
    " }\n",
    "excluded = {'Normal ALT': 'Elevated circulating aspartate aminotransferase concentration',\n",
    " 'Normal AST': 'Elevated circulating aspartate aminotransferase concentration',\n",
    " 'Normal GGT': 'Elevated gamma-glutamyltransferase level'}\n",
    "lftsMapper = OptionColumnMapper(column_name='LFTs',concept_recognizer=hpo_cr, option_d=lfts_d, excluded_d=excluded)\n",
    "column_mapper_list.append(lftsMapper)\n",
    "lftsMapper.preview_column(dft)"
   ]
  },
  {
   "cell_type": "code",
   "execution_count": 14,
   "id": "3f324f4b-f05f-408e-a92c-8328e10c0f53",
   "metadata": {},
   "outputs": [
    {
     "data": {
      "text/html": [
       "<div>\n",
       "<style scoped>\n",
       "    .dataframe tbody tr th:only-of-type {\n",
       "        vertical-align: middle;\n",
       "    }\n",
       "\n",
       "    .dataframe tbody tr th {\n",
       "        vertical-align: top;\n",
       "    }\n",
       "\n",
       "    .dataframe thead th {\n",
       "        text-align: right;\n",
       "    }\n",
       "</style>\n",
       "<table border=\"1\" class=\"dataframe\">\n",
       "  <thead>\n",
       "    <tr style=\"text-align: right;\">\n",
       "      <th></th>\n",
       "      <th>mapping</th>\n",
       "      <th>count</th>\n",
       "    </tr>\n",
       "  </thead>\n",
       "  <tbody>\n",
       "    <tr>\n",
       "      <th>0</th>\n",
       "      <td>Antinuclear antibody positivity (HP:0003493) (observed)</td>\n",
       "      <td>1</td>\n",
       "    </tr>\n",
       "    <tr>\n",
       "      <th>1</th>\n",
       "      <td>Anti-Sm antibody positivity (HP:0033040) (observed)</td>\n",
       "      <td>1</td>\n",
       "    </tr>\n",
       "    <tr>\n",
       "      <th>2</th>\n",
       "      <td>Lupus anticoagulant (HP:0025343) (observed)</td>\n",
       "      <td>1</td>\n",
       "    </tr>\n",
       "    <tr>\n",
       "      <th>3</th>\n",
       "      <td>Antimitochondrial antibody positivity (HP:0030167) (observed)</td>\n",
       "      <td>1</td>\n",
       "    </tr>\n",
       "    <tr>\n",
       "      <th>4</th>\n",
       "      <td>Rheumatoid factor positive (HP:0002923) (observed)</td>\n",
       "      <td>1</td>\n",
       "    </tr>\n",
       "    <tr>\n",
       "      <th>5</th>\n",
       "      <td>Anti-thyroid peroxidase antibody positivity (HP:0025379) (observed)</td>\n",
       "      <td>1</td>\n",
       "    </tr>\n",
       "  </tbody>\n",
       "</table>\n",
       "</div>"
      ],
      "text/plain": [
       "                                                               mapping count\n",
       "0              Antinuclear antibody positivity (HP:0003493) (observed)     1\n",
       "1                  Anti-Sm antibody positivity (HP:0033040) (observed)     1\n",
       "2                          Lupus anticoagulant (HP:0025343) (observed)     1\n",
       "3        Antimitochondrial antibody positivity (HP:0030167) (observed)     1\n",
       "4                   Rheumatoid factor positive (HP:0002923) (observed)     1\n",
       "5  Anti-thyroid peroxidase antibody positivity (HP:0025379) (observed)     1"
      ]
     },
     "execution_count": 14,
     "metadata": {},
     "output_type": "execute_result"
    }
   ],
   "source": [
    "autoAB_d = {'Positive ANA': 'Antinuclear antibody positivity',\n",
    " 'anti-Sm': 'Anti-Sm antibody positivity',\n",
    "# 'anti-SSA': 'PLACEHOLDER',\n",
    "# 'ACL IgG': 'PLACEHOLDER',\n",
    " 'LAC': 'Lupus anticoagulant',\n",
    " 'anti-mitochondrial': 'Antimitochondrial antibody positivity',\n",
    " 'RF': 'Rheumatoid factor positive',\n",
    " 'anti-TPO': 'Anti-thyroid peroxidase antibody positivity',\n",
    " #'transient positivity for ANA on research testing once': 'PLACEHOLDER',\n",
    " #'Borderline anti-PR3': 'PLACEHOLDER'\n",
    "}\n",
    "autoAbMapper = OptionColumnMapper(column_name='Autoantibodies',concept_recognizer=hpo_cr, option_d=autoAB_d)\n",
    "column_mapper_list.append(autoAbMapper)\n",
    "autoAbMapper.preview_column(dft)"
   ]
  },
  {
   "cell_type": "code",
   "execution_count": 15,
   "id": "d8763e5c-0b9e-42c9-b33f-86509350c5cb",
   "metadata": {},
   "outputs": [],
   "source": [
    "#cd4_lymphocytes_(abs)_d = {'high': 'PLACEHOLDER',\n",
    "# 'nl': 'PLACEHOLDER'}\n",
    "#cd4_lymphocytes_(abs_#)Mapper = OptionColumnMapper(concept_recognizer=hpo_cr, option_d=cd4_lymphocytes_(abs_#)_d)\n",
    "#cd4_lymphocytes_(abs_#)Mapper.preview_column(df['CD4 lymphocytes (abs #)'])\n",
    "#column_mapper_d['CD4 lymphocytes (abs #)'] = cd4_lymphocytes_(abs_#)Mapper"
   ]
  },
  {
   "cell_type": "code",
   "execution_count": 16,
   "id": "b590a0d2-944b-4e7f-b1a0-c90ac05a67f1",
   "metadata": {},
   "outputs": [],
   "source": [
    "#cd8_lymphocytes_(abs)_d = {'high': 'PLACEHOLDER',\n",
    "# 'nl': 'PLACEHOLDER'}\n",
    "#cd8_lymphocytes_(abs_#)Mapper = OptionColumnMapper(concept_recognizer=hpo_cr, option_d=cd8_lymphocytes_(abs_#)_d)\n",
    "#cd8_lymphocytes_(abs_#)Mapper.preview_column(df['CD8 lymphocytes (abs #)'])\n",
    "#column_mapper_d['CD8 lymphocytes (abs #)'] = cd8_lymphocytes_(abs_#)Mapper"
   ]
  },
  {
   "cell_type": "code",
   "execution_count": 17,
   "id": "c633a79b-70e3-4b4c-be5f-0905f885e746",
   "metadata": {},
   "outputs": [
    {
     "data": {
      "text/html": [
       "<div>\n",
       "<style scoped>\n",
       "    .dataframe tbody tr th:only-of-type {\n",
       "        vertical-align: middle;\n",
       "    }\n",
       "\n",
       "    .dataframe tbody tr th {\n",
       "        vertical-align: top;\n",
       "    }\n",
       "\n",
       "    .dataframe thead th {\n",
       "        text-align: right;\n",
       "    }\n",
       "</style>\n",
       "<table border=\"1\" class=\"dataframe\">\n",
       "  <thead>\n",
       "    <tr style=\"text-align: right;\">\n",
       "      <th></th>\n",
       "      <th>mapping</th>\n",
       "      <th>count</th>\n",
       "    </tr>\n",
       "  </thead>\n",
       "  <tbody>\n",
       "    <tr>\n",
       "      <th>0</th>\n",
       "      <td>original value: \"nl\" -&gt; HP: Increased B cell count (HP:0005404) (excluded)</td>\n",
       "      <td>2</td>\n",
       "    </tr>\n",
       "    <tr>\n",
       "      <th>1</th>\n",
       "      <td>original value: \"high\" -&gt; HP: Increased B cell count (HP:0005404) (observed)</td>\n",
       "      <td>1</td>\n",
       "    </tr>\n",
       "  </tbody>\n",
       "</table>\n",
       "</div>"
      ],
      "text/plain": [
       "                                                                        mapping  \\\n",
       "0    original value: \"nl\" -> HP: Increased B cell count (HP:0005404) (excluded)   \n",
       "1  original value: \"high\" -> HP: Increased B cell count (HP:0005404) (observed)   \n",
       "\n",
       "  count  \n",
       "0     2  \n",
       "1     1  "
      ]
     },
     "execution_count": 17,
     "metadata": {},
     "output_type": "execute_result"
    }
   ],
   "source": [
    "b_lymphMapper = SimpleColumnMapper(column_name='B lymphocytes (abs #)',\n",
    "                                    hpo_id=\"HP:0005404\", hpo_label=\"Increased B cell count\", \n",
    "                                   observed=\"high\", excluded=\"nl\")\n",
    "column_mapper_list.append(b_lymphMapper)\n",
    "b_lymphMapper.preview_column(dft)"
   ]
  },
  {
   "cell_type": "code",
   "execution_count": 18,
   "id": "a63c2dda-a4fd-477c-9af9-0925fb0d82f2",
   "metadata": {},
   "outputs": [],
   "source": [
    "#nk_lymphocytes_(abs_#)_d = {'nl': 'PLACEHOLDER',\n",
    "# 'high': 'PLACEHOLDER'}\n",
    "#nk_lymphocytes_(abs_#)Mapper = OptionColumnMapper(concept_recognizer=hpo_cr, option_d=nk_lymphocytes_(abs_#)_d)\n",
    "#nk_lymphocytes_(abs_#)Mapper.preview_column(df['NK lymphocytes (abs #)'])\n",
    "#column_mapper_d['NK lymphocytes (abs #)'] = nk_lymphocytes_(abs_#)Mapper"
   ]
  },
  {
   "cell_type": "code",
   "execution_count": 19,
   "id": "b920f945-823d-4200-a1c1-58e008d8f3f2",
   "metadata": {},
   "outputs": [
    {
     "data": {
      "text/html": [
       "<div>\n",
       "<style scoped>\n",
       "    .dataframe tbody tr th:only-of-type {\n",
       "        vertical-align: middle;\n",
       "    }\n",
       "\n",
       "    .dataframe tbody tr th {\n",
       "        vertical-align: top;\n",
       "    }\n",
       "\n",
       "    .dataframe thead th {\n",
       "        text-align: right;\n",
       "    }\n",
       "</style>\n",
       "<table border=\"1\" class=\"dataframe\">\n",
       "  <thead>\n",
       "    <tr style=\"text-align: right;\">\n",
       "      <th></th>\n",
       "      <th>mapping</th>\n",
       "      <th>count</th>\n",
       "    </tr>\n",
       "  </thead>\n",
       "  <tbody>\n",
       "    <tr>\n",
       "      <th>0</th>\n",
       "      <td>original value: \"nl\" -&gt; HP: Abnormal circulating IgG level (HP:0410242) (excluded)</td>\n",
       "      <td>3</td>\n",
       "    </tr>\n",
       "  </tbody>\n",
       "</table>\n",
       "</div>"
      ],
      "text/plain": [
       "                                                                              mapping  \\\n",
       "0  original value: \"nl\" -> HP: Abnormal circulating IgG level (HP:0410242) (excluded)   \n",
       "\n",
       "  count  \n",
       "0     3  "
      ]
     },
     "execution_count": 19,
     "metadata": {},
     "output_type": "execute_result"
    }
   ],
   "source": [
    "iggMapper = SimpleColumnMapper(column_name='IgG',hpo_id=\"HP:0410242\", hpo_label=\"Abnormal circulating IgG level\", observed=\"high\", excluded=\"nl\")\n",
    "column_mapper_list.append(iggMapper)\n",
    "iggMapper.preview_column(dft)"
   ]
  },
  {
   "cell_type": "code",
   "execution_count": 20,
   "id": "6c08e870-2894-4c5f-a0a6-7eac308f39ba",
   "metadata": {},
   "outputs": [
    {
     "data": {
      "text/html": [
       "<div>\n",
       "<style scoped>\n",
       "    .dataframe tbody tr th:only-of-type {\n",
       "        vertical-align: middle;\n",
       "    }\n",
       "\n",
       "    .dataframe tbody tr th {\n",
       "        vertical-align: top;\n",
       "    }\n",
       "\n",
       "    .dataframe thead th {\n",
       "        text-align: right;\n",
       "    }\n",
       "</style>\n",
       "<table border=\"1\" class=\"dataframe\">\n",
       "  <thead>\n",
       "    <tr style=\"text-align: right;\">\n",
       "      <th></th>\n",
       "      <th>mapping</th>\n",
       "      <th>count</th>\n",
       "    </tr>\n",
       "  </thead>\n",
       "  <tbody>\n",
       "    <tr>\n",
       "      <th>0</th>\n",
       "      <td>original value: \"nl\" -&gt; HP: Decreased circulating IgA level (HP:0002720) (excluded)</td>\n",
       "      <td>2</td>\n",
       "    </tr>\n",
       "    <tr>\n",
       "      <th>1</th>\n",
       "      <td>original value: \"low\" -&gt; HP: Decreased circulating IgA level (HP:0002720) (observed)</td>\n",
       "      <td>1</td>\n",
       "    </tr>\n",
       "  </tbody>\n",
       "</table>\n",
       "</div>"
      ],
      "text/plain": [
       "                                                                                mapping  \\\n",
       "0   original value: \"nl\" -> HP: Decreased circulating IgA level (HP:0002720) (excluded)   \n",
       "1  original value: \"low\" -> HP: Decreased circulating IgA level (HP:0002720) (observed)   \n",
       "\n",
       "  count  \n",
       "0     2  \n",
       "1     1  "
      ]
     },
     "execution_count": 20,
     "metadata": {},
     "output_type": "execute_result"
    }
   ],
   "source": [
    "igaMapper = SimpleColumnMapper(column_name='IgA',\n",
    "                               hpo_id=\"HP:0002720\", hpo_label=\"Decreased circulating IgA level\", observed=\"low\", excluded=\"nl\")\n",
    "column_mapper_list.append(igaMapper)\n",
    "igaMapper.preview_column(dft)"
   ]
  },
  {
   "cell_type": "code",
   "execution_count": 21,
   "id": "bc9d1fa1-67d1-4538-bf51-b292fb2631e1",
   "metadata": {},
   "outputs": [
    {
     "data": {
      "text/html": [
       "<div>\n",
       "<style scoped>\n",
       "    .dataframe tbody tr th:only-of-type {\n",
       "        vertical-align: middle;\n",
       "    }\n",
       "\n",
       "    .dataframe tbody tr th {\n",
       "        vertical-align: top;\n",
       "    }\n",
       "\n",
       "    .dataframe thead th {\n",
       "        text-align: right;\n",
       "    }\n",
       "</style>\n",
       "<table border=\"1\" class=\"dataframe\">\n",
       "  <thead>\n",
       "    <tr style=\"text-align: right;\">\n",
       "      <th></th>\n",
       "      <th>mapping</th>\n",
       "      <th>count</th>\n",
       "    </tr>\n",
       "  </thead>\n",
       "  <tbody>\n",
       "    <tr>\n",
       "      <th>0</th>\n",
       "      <td>original value: \"low\" -&gt; HP: Decreased circulating total IgM (HP:0002850) (observed)</td>\n",
       "      <td>2</td>\n",
       "    </tr>\n",
       "    <tr>\n",
       "      <th>1</th>\n",
       "      <td>original value: \"nl\" -&gt; HP: Decreased circulating total IgM (HP:0002850) (excluded)</td>\n",
       "      <td>1</td>\n",
       "    </tr>\n",
       "  </tbody>\n",
       "</table>\n",
       "</div>"
      ],
      "text/plain": [
       "                                                                                mapping  \\\n",
       "0  original value: \"low\" -> HP: Decreased circulating total IgM (HP:0002850) (observed)   \n",
       "1   original value: \"nl\" -> HP: Decreased circulating total IgM (HP:0002850) (excluded)   \n",
       "\n",
       "  count  \n",
       "0     2  \n",
       "1     1  "
      ]
     },
     "execution_count": 21,
     "metadata": {},
     "output_type": "execute_result"
    }
   ],
   "source": [
    "igmMapper = SimpleColumnMapper(column_name='IgM',hpo_id=\"HP:0002850\", hpo_label=\"Decreased circulating total IgM\", observed=\"low\", excluded=\"nl\")\n",
    "column_mapper_list.append(igmMapper)\n",
    "igmMapper.preview_column(dft)"
   ]
  },
  {
   "cell_type": "code",
   "execution_count": 22,
   "id": "c9dc2a76-5bb1-4ea8-b9f3-bd5c49a45ae9",
   "metadata": {},
   "outputs": [
    {
     "data": {
      "text/html": [
       "<div>\n",
       "<style scoped>\n",
       "    .dataframe tbody tr th:only-of-type {\n",
       "        vertical-align: middle;\n",
       "    }\n",
       "\n",
       "    .dataframe tbody tr th {\n",
       "        vertical-align: top;\n",
       "    }\n",
       "\n",
       "    .dataframe thead th {\n",
       "        text-align: right;\n",
       "    }\n",
       "</style>\n",
       "<table border=\"1\" class=\"dataframe\">\n",
       "  <thead>\n",
       "    <tr style=\"text-align: right;\">\n",
       "      <th></th>\n",
       "      <th>mapping</th>\n",
       "      <th>count</th>\n",
       "    </tr>\n",
       "  </thead>\n",
       "  <tbody>\n",
       "    <tr>\n",
       "      <th>0</th>\n",
       "      <td>Small vessel vasculitis (HP:0011944) (observed)</td>\n",
       "      <td>2</td>\n",
       "    </tr>\n",
       "  </tbody>\n",
       "</table>\n",
       "</div>"
      ],
      "text/plain": [
       "                                           mapping count\n",
       "0  Small vessel vasculitis (HP:0011944) (observed)     2"
      ]
     },
     "execution_count": 22,
     "metadata": {},
     "output_type": "execute_result"
    }
   ],
   "source": [
    "skin_d = {'Small vessel vasculitis with neutrophilic infiltrate and destruction of dermal vessel walls': 'Small vessel vasculitis',\n",
    " #'Perivascular neutrophilic dermal infiltrate': 'PLACEHOLDER'\n",
    "                  }\n",
    "skinMapper = OptionColumnMapper(column_name='Skin biopsies',concept_recognizer=hpo_cr, option_d=skin_d)\n",
    "column_mapper_list.append(skinMapper)\n",
    "skinMapper.preview_column(dft)"
   ]
  },
  {
   "cell_type": "code",
   "execution_count": 23,
   "id": "c7573634-6393-4020-ad9b-49080a936e86",
   "metadata": {},
   "outputs": [],
   "source": [
    "ageMapper = AgeColumnMapper.custom_dictionary(column_name=\"Age of disease onset\", string_to_iso_d={'1st day of life': 'P1D'})\n",
    "#ageMapper.preview_column(dft[\"Age of disease onset\"])\n",
    "sexMapper = SexColumnMapper(column_name=\"Sex\", male_symbol=\"male\", female_symbol=\"female\")"
   ]
  },
  {
   "cell_type": "code",
   "execution_count": 24,
   "id": "47274769-a82a-46ad-b5b3-f7055c8402d9",
   "metadata": {},
   "outputs": [],
   "source": [
    "vmanager = VariantManager(df=dft, \n",
    "                          allele_1_column_name=\"NM_002350.4\",\n",
    "                          gene_symbol=\"LYN\", \n",
    "                          individual_column_name=\"individual_id\",\n",
    "                          transcript=\"NM_002350.4\")\n",
    "varMapper = VariantColumnMapper(variant_column_name=\"NM_002350.4\",variant_d=vmanager.get_variant_d(), default_genotype=\"heterozygous\")"
   ]
  },
  {
   "cell_type": "code",
   "execution_count": 25,
   "id": "5fcd9418-ccc8-4f2c-81b5-838880d4467f",
   "metadata": {},
   "outputs": [],
   "source": [
    "disease = Disease(disease_id=\"OMIM:620376\", disease_label=\"Autoinflammatory disease, systemic, with vasculitis\")\n",
    "encoder = CohortEncoder(df=dft,\n",
    "                       hpo_cr=hpo_cr, \n",
    "                        agemapper=ageMapper,\n",
    "                        sexmapper=sexMapper,\n",
    "                        column_mapper_list=column_mapper_list,\n",
    "                        individual_column_name=\"individual_id\",\n",
    "                        variant_mapper=varMapper,\n",
    "                       metadata=metadata)\n",
    "encoder.set_disease(disease)"
   ]
  },
  {
   "cell_type": "code",
   "execution_count": 26,
   "id": "2bf19869-87b6-4666-9ba5-b45329f69500",
   "metadata": {},
   "outputs": [],
   "source": [
    "individuals = encoder.get_individuals()"
   ]
  },
  {
   "cell_type": "code",
   "execution_count": 27,
   "id": "afed7822-891d-49df-8ee1-160eb295a668",
   "metadata": {},
   "outputs": [
    {
     "data": {
      "text/html": [
       "<h2>Cohort validation</h2>\n",
       "<p>Errors found with 3 of 3 phenopackets.</p>\n",
       "<table style=\"border: 2px solid black; align: \"left\">\n",
       "<caption>Error counts</caption>\n",
       "<tr><th style=\"text-align: left;font-weight: bold;\">Level</th><th style=\"text-align: left;font-weight: bold;\">Error category</th><th style=\"text-align: left;font-weight: bold;\">Count</th></tr>\n",
       "<tr><td style=\"text-align: left;\">WARNING</td><td style=\"text-align: left;\">REDUNDANT</td><td style=\"text-align: left;\">2</td></tr>\n",
       "</table>\n",
       "<p>A total of 5 issues were fixed and no individual was removed from the cohort.</p>"
      ],
      "text/plain": [
       "<IPython.core.display.HTML object>"
      ]
     },
     "metadata": {},
     "output_type": "display_data"
    }
   ],
   "source": [
    "cvalidator = CohortValidator(cohort=individuals, ontology=hpo_ontology, min_hpo=1, allelic_requirement=AllelicRequirement.MONO_ALLELIC)\n",
    "qc = QcVisualizer(cohort_validator=cvalidator)\n",
    "display(HTML(qc.to_summary_html()))"
   ]
  },
  {
   "cell_type": "code",
   "execution_count": 28,
   "id": "b96955c6-26de-4224-b92c-53c1828fd60f",
   "metadata": {},
   "outputs": [
    {
     "data": {
      "text/html": [
       "<table style=\"border: 2px solid black; align: \"left\">\n",
       "<caption>3 phenopackets - PMID:36932076 (n=3)</caption>\n",
       "<tr><th style=\"text-align: left;font-weight: bold;\">Individual</th><th style=\"text-align: left;font-weight: bold;\">Disease</th><th style=\"text-align: left;font-weight: bold;\">Genotype</th><th style=\"text-align: left;font-weight: bold;\">Phenotypic features</th></tr>\n",
       "<tr><td style=\"text-align: left;\">Patient 1 (FEMALE; P1D)</td><td style=\"text-align: left;\">Autoinflammatory disease, systemic, with vasculitis (OMIM:620376)</td><td style=\"text-align: left;\">NM_002350.4:c.1522T>C (heterozygous)</td><td style=\"text-align: left;\">Small vessel vasculitis (HP:0011944); Hepatic fibrosis (HP:0001395); Abdominal pain (HP:0002027); Parotitis (HP:0011850); Elevated gamma-glutamyltransferase level (HP:0030948); Elevated erythrocyte sedimentation rate (HP:0003565); Arthralgia (HP:0002829); Elevated circulating C-reactive protein concentration (HP:0011227); Colitis (HP:0002583); Leukocytosis (HP:0001974); Fatigue (HP:0012378); Anti-Sm antibody positivity (HP:0033040); Hepatosplenomegaly (HP:0001433); Anemia (HP:0001903); Antimitochondrial antibody positivity (HP:0030167); Anti-thyroid peroxidase antibody positivity (HP:0025379); Decreased circulating total IgM (HP:0002850); Lupus anticoagulant (HP:0025343); Conjunctivitis (HP:0000509); Thrombocytopenia (HP:0001873); Periorbital edema (HP:0100539); Elevated circulating alanine aminotransferase concentration (HP:0031964); Oral ulcer (HP:0000155); Fever (HP:0001945); Hydrops fetalis (HP:0001789); Elevated circulating aspartate aminotransferase concentration (HP:0031956); Rheumatoid factor positive (HP:0002923); Purpura (HP:0000979); Epididymitis (HP:0000031); Headache (HP:0002315); excluded: Increased B cell count (HP:0005404); excluded: Abnormal circulating IgG level (HP:0410242); excluded: Decreased circulating IgA level (HP:0002720)</td></tr>\n",
       "<tr><td style=\"text-align: left;\">Patient 2 (MALE; P1D)</td><td style=\"text-align: left;\">Autoinflammatory disease, systemic, with vasculitis (OMIM:620376)</td><td style=\"text-align: left;\">NM_002350.4:c.1524C>G (heterozygous)</td><td style=\"text-align: left;\">Oral ulcer (HP:0000155); Arthralgia (HP:0002829); Elevated circulating C-reactive protein concentration (HP:0011227); Purpura (HP:0000979); Colitis (HP:0002583); Decreased circulating total IgM (HP:0002850); Conjunctivitis (HP:0000509); Abdominal pain (HP:0002027); Epididymitis (HP:0000031); Leukocytosis (HP:0001974); Fatigue (HP:0012378); Fever (HP:0001945); Headache (HP:0002315); Periorbital edema (HP:0100539); excluded: Hydrops fetalis (HP:0001789); excluded: Hepatic fibrosis (HP:0001395); excluded: Increased B cell count (HP:0005404); excluded: Abnormal circulating IgG level (HP:0410242); excluded: Decreased circulating IgA level (HP:0002720)</td></tr>\n",
       "<tr><td style=\"text-align: left;\">Patient 3 (MALE; P1D)</td><td style=\"text-align: left;\">Autoinflammatory disease, systemic, with vasculitis (OMIM:620376)</td><td style=\"text-align: left;\">NM_002350.4:c.1523A>T (heterozygous)</td><td style=\"text-align: left;\">Small vessel vasculitis (HP:0011944); Hepatic fibrosis (HP:0001395); Decreased circulating IgA level (HP:0002720); Elevated gamma-glutamyltransferase level (HP:0030948); Jaundice (HP:0000952); Elevated circulating C-reactive protein concentration (HP:0011227); Intrauterine growth retardation (HP:0001511); Hepatosplenomegaly (HP:0001433); Anemia (HP:0001903); Failure to thrive (HP:0001508); Increased B cell count (HP:0005404); Thrombocytopenia (HP:0001873); Elevated circulating alanine aminotransferase concentration (HP:0031964); Congenital hydrocele (HP:4000037); Elevated circulating aspartate aminotransferase concentration (HP:0031956); Purpura (HP:0000979); Conjugated hyperbilirubinemia (HP:0002908); Erythema (HP:0010783); excluded: Abnormal circulating IgG level (HP:0410242); excluded: Decreased circulating total IgM (HP:0002850)</td></tr>\n",
       "</table>"
      ],
      "text/plain": [
       "<IPython.core.display.HTML object>"
      ]
     },
     "metadata": {},
     "output_type": "display_data"
    }
   ],
   "source": [
    "individuals = cvalidator.get_error_free_individual_list()\n",
    "table = IndividualTable(individuals)\n",
    "display(HTML(table.to_html()))"
   ]
  },
  {
   "cell_type": "code",
   "execution_count": 29,
   "id": "41e4ef3b-2a03-48b0-84dc-204ba3b2f10c",
   "metadata": {},
   "outputs": [
    {
     "name": "stdout",
     "output_type": "stream",
     "text": [
      "We output 3 GA4GH phenopackets to the directory phenopackets\n"
     ]
    }
   ],
   "source": [
    "Individual.output_individuals_as_phenopackets(individual_list=individuals, metadata=metadata)"
   ]
  }
 ],
 "metadata": {
  "kernelspec": {
   "display_name": "ps24venv",
   "language": "python",
   "name": "ps24venv"
  },
  "language_info": {
   "codemirror_mode": {
    "name": "ipython",
    "version": 3
   },
   "file_extension": ".py",
   "mimetype": "text/x-python",
   "name": "python",
   "nbconvert_exporter": "python",
   "pygments_lexer": "ipython3",
   "version": "3.8.10"
  }
 },
 "nbformat": 4,
 "nbformat_minor": 5
}
