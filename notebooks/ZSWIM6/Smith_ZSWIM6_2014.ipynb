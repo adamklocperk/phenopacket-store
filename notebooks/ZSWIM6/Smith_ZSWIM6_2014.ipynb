{
 "cells": [
  {
   "cell_type": "markdown",
   "id": "70f8c000",
   "metadata": {},
   "source": [
    "<h1>Acromelic Frontonasal Dysostosis (ZSWIM6): Smith et al 2014</h1>\n",
    "<p>Extract the clinical data from <a href=\"https://pubmed.ncbi.nlm.nih.gov/25105228/\"target=\"__blank\">Smith JD, et al. (2014) Exome sequencing identifies a recurrent de novo ZSWIM6 mutation associated with acromelic frontonasal dysostosis. Am J Hum Genet ;95(2):235-40 PMID: 25105228</a>.<p>"
   ]
  },
  {
   "cell_type": "code",
   "execution_count": 1,
   "id": "1f2b3fd5",
   "metadata": {
    "scrolled": true
   },
   "outputs": [
    {
     "name": "stdout",
     "output_type": "stream",
     "text": [
      "pyphetools version 0.9.9\n"
     ]
    }
   ],
   "source": [
    "import pandas as pd\n",
    "pd.set_option('display.max_colwidth', None) # show entire column contents, important!\n",
    "from IPython.display import display, HTML\n",
    "import pyphetools\n",
    "from pyphetools.creation import *\n",
    "from pyphetools.visualization import *\n",
    "from pyphetools.validation import CohortValidator\n",
    "print(f\"pyphetools version {pyphetools.__version__}\")"
   ]
  },
  {
   "cell_type": "code",
   "execution_count": 2,
   "id": "094d1ee8",
   "metadata": {
    "scrolled": true
   },
   "outputs": [
    {
     "name": "stdout",
     "output_type": "stream",
     "text": [
      "HPO version 2023-10-09\n"
     ]
    }
   ],
   "source": [
    "pmid=\"PMID:25105228\"\n",
    "title=\"Exome sequencing identifies a recurrent de novo ZSWIM6 mutation associated with acromelic frontonasal dysostosis\"\n",
    "cite = Citation(pmid=pmid, title=title)\n",
    "parser = HpoParser()\n",
    "hpo_cr = parser.get_hpo_concept_recognizer()\n",
    "hpo_version = parser.get_version()\n",
    "hpo_ontology = parser.get_ontology()\n",
    "metadata = MetaData(created_by=\"ORCID:0000-0002-0736-9199\", citation=cite)\n",
    "metadata.default_versions_with_hpo(version=hpo_version)\n",
    "print(f\"HPO version {hpo_version}\")"
   ]
  },
  {
   "cell_type": "code",
   "execution_count": 3,
   "id": "72251716",
   "metadata": {
    "scrolled": true
   },
   "outputs": [],
   "source": [
    "df = pd.read_csv(\"input/smith_2014.csv\", delimiter=\"\\t\")"
   ]
  },
  {
   "cell_type": "code",
   "execution_count": 4,
   "id": "ff211f8f",
   "metadata": {
    "scrolled": true
   },
   "outputs": [
    {
     "data": {
      "text/html": [
       "<div>\n",
       "<style scoped>\n",
       "    .dataframe tbody tr th:only-of-type {\n",
       "        vertical-align: middle;\n",
       "    }\n",
       "\n",
       "    .dataframe tbody tr th {\n",
       "        vertical-align: top;\n",
       "    }\n",
       "\n",
       "    .dataframe thead th {\n",
       "        text-align: right;\n",
       "    }\n",
       "</style>\n",
       "<table border=\"1\" class=\"dataframe\">\n",
       "  <thead>\n",
       "    <tr style=\"text-align: right;\">\n",
       "      <th></th>\n",
       "      <th>Feature</th>\n",
       "      <th>Individual 1</th>\n",
       "      <th>Individual 2</th>\n",
       "      <th>Individual 3</th>\n",
       "      <th>Individual 4</th>\n",
       "    </tr>\n",
       "  </thead>\n",
       "  <tbody>\n",
       "    <tr>\n",
       "      <th>0</th>\n",
       "      <td>Periventricular nodular heterotopia</td>\n",
       "      <td>no</td>\n",
       "      <td>yes</td>\n",
       "      <td>no</td>\n",
       "      <td>no</td>\n",
       "    </tr>\n",
       "    <tr>\n",
       "      <th>1</th>\n",
       "      <td>Ventriculomegaly</td>\n",
       "      <td>yes</td>\n",
       "      <td>no</td>\n",
       "      <td>no</td>\n",
       "      <td>yes</td>\n",
       "    </tr>\n",
       "    <tr>\n",
       "      <th>2</th>\n",
       "      <td>Choroid plexus cyst</td>\n",
       "      <td>yes</td>\n",
       "      <td>yes</td>\n",
       "      <td>no</td>\n",
       "      <td>no</td>\n",
       "    </tr>\n",
       "    <tr>\n",
       "      <th>3</th>\n",
       "      <td>Dilation of Virchow-Robin spaces</td>\n",
       "      <td>no</td>\n",
       "      <td>yes</td>\n",
       "      <td>no</td>\n",
       "      <td>no</td>\n",
       "    </tr>\n",
       "    <tr>\n",
       "      <th>4</th>\n",
       "      <td>Agenesis of corpus callosum</td>\n",
       "      <td>no</td>\n",
       "      <td>yes</td>\n",
       "      <td>no</td>\n",
       "      <td>no</td>\n",
       "    </tr>\n",
       "  </tbody>\n",
       "</table>\n",
       "</div>"
      ],
      "text/plain": [
       "                               Feature Individual 1 Individual 2 Individual 3  \\\n",
       "0  Periventricular nodular heterotopia           no          yes           no   \n",
       "1                     Ventriculomegaly          yes           no           no   \n",
       "2                  Choroid plexus cyst          yes          yes           no   \n",
       "3     Dilation of Virchow-Robin spaces           no          yes           no   \n",
       "4          Agenesis of corpus callosum           no          yes           no   \n",
       "\n",
       "  Individual 4  \n",
       "0           no  \n",
       "1          yes  \n",
       "2           no  \n",
       "3           no  \n",
       "4           no  "
      ]
     },
     "execution_count": 4,
     "metadata": {},
     "output_type": "execute_result"
    }
   ],
   "source": [
    "df.head()"
   ]
  },
  {
   "cell_type": "markdown",
   "id": "83da87b7",
   "metadata": {},
   "source": [
    "<h2>Phenotypic data</h2>"
   ]
  },
  {
   "cell_type": "code",
   "execution_count": 5,
   "id": "4cf1512e",
   "metadata": {
    "scrolled": true
   },
   "outputs": [],
   "source": [
    "from collections import defaultdict\n",
    "patient_d = defaultdict(list)"
   ]
  },
  {
   "cell_type": "code",
   "execution_count": 6,
   "id": "fe0c60f5",
   "metadata": {
    "scrolled": true
   },
   "outputs": [],
   "source": [
    "for _, row in df.iterrows():\n",
    "    label = row[\"Feature\"]\n",
    "    hpo_term = hpo_cr.get_term_from_label(label)\n",
    "    individual_1 = row[\"Individual 1\"]\n",
    "    individual_2 = row[\"Individual 2\"]\n",
    "    individual_3 = row[\"Individual 3\"]\n",
    "    individual_4 = row[\"Individual 4\"]\n",
    "    if individual_1 == \"yes\":\n",
    "        hpt1 = HpTerm(hpo_id=hpo_term.id, label=hpo_term.label)\n",
    "    elif individual_1 == \"no\":\n",
    "        hpt1 = HpTerm(hpo_id=hpo_term.id, label=hpo_term.label, observed=False)\n",
    "    patient_d[\"individual_1\"].append(hpt1)\n",
    "    if individual_2 == \"yes\":\n",
    "        hpt2 = HpTerm(hpo_id=hpo_term.id, label=hpo_term.label)\n",
    "    elif individual_2 == \"no\":\n",
    "        hpt2 = HpTerm(hpo_id=hpo_term.id, label=hpo_term.label, observed=False)\n",
    "    patient_d[\"individual_2\"].append(hpt2)\n",
    "    if individual_3 == \"yes\":\n",
    "        hpt3 = HpTerm(hpo_id=hpo_term.id, label=hpo_term.label)\n",
    "    elif individual_3 == \"no\":\n",
    "        hpt3 = HpTerm(hpo_id=hpo_term.id, label=hpo_term.label, observed=False)\n",
    "    patient_d[\"individual_3\"].append(hpt3)\n",
    "    if individual_4 == \"yes\":\n",
    "        hpt4 = HpTerm(hpo_id=hpo_term.id, label=hpo_term.label)\n",
    "    elif individual_4 == \"no\":\n",
    "        hpt4 = HpTerm(hpo_id=hpo_term.id, label=hpo_term.label, observed=False)\n",
    "    patient_d[\"individual_4\"].append(hpt4)\n",
    "    #@print(f\"{label}: {hpo_term}\")"
   ]
  },
  {
   "cell_type": "markdown",
   "id": "3636efe5",
   "metadata": {},
   "source": [
    "<h2>Variant</h2>\n",
    "<p>Sequencing of ZSWIM6 (RefSeq NM_020928.1)  confirms the exon 14 c.3487C>T mutation that leads to the amino acid substitution p.Arg1163Trp in all four cases.</p>"
   ]
  },
  {
   "cell_type": "code",
   "execution_count": 7,
   "id": "4f0da7e8",
   "metadata": {
    "scrolled": true
   },
   "outputs": [
    {
     "name": "stdout",
     "output_type": "stream",
     "text": [
      "https://rest.variantvalidator.org/VariantValidator/variantvalidator/hg38/NM_020928.2%3Ac.3487C>T/NM_020928.2?content-type=application%2Fjson\n"
     ]
    }
   ],
   "source": [
    "validator = VariantValidator(genome_build='hg38')\n",
    "transcript = \"NM_020928.2\"\n",
    "var_hgvs = \"c.3487C>T\"\n",
    "v = validator.encode_hgvs(hgvs=var_hgvs, custom_transcript=transcript)\n",
    "v.set_heterozygous()"
   ]
  },
  {
   "cell_type": "code",
   "execution_count": 8,
   "id": "f9833cea",
   "metadata": {
    "scrolled": true
   },
   "outputs": [
    {
     "name": "stdout",
     "output_type": "stream",
     "text": [
      "Created 4 individual objects\n"
     ]
    }
   ],
   "source": [
    "individual_list = []\n",
    "disease_label = \"Acromelic frontonasal dysostosis\"\n",
    "disease_id = \"OMIM:603671\"\n",
    "dysostosis = Disease(disease_id=disease_id, disease_label=disease_label)\n",
    "for pat_id, hpo_list in patient_d.items():\n",
    "    if hpo_list is None:\n",
    "        print(f\"Could not find hpo list for {pat_id}\")\n",
    "        continue\n",
    "    if len(hpo_list) == 0:\n",
    "        print(f\"warning, empty HPO list for {pat_id}\")\n",
    "    ind = Individual(individual_id=pat_id, \n",
    "                     hpo_terms=hpo_list, \n",
    "                     interpretation_list=[v.to_ga4gh_variant_interpretation()], \n",
    "                     disease=dysostosis)\n",
    "    individual_list.append(ind)\n",
    "    \n",
    "print(f\"Created {len(individual_list)} individual objects\")"
   ]
  },
  {
   "cell_type": "code",
   "execution_count": 9,
   "id": "d3391fdb",
   "metadata": {},
   "outputs": [
    {
     "data": {
      "text/html": [
       "<h2>Cohort validation</h2>\n",
       "<p>Errors found with 4 of 4 phenopackets.</p>\n",
       "<table style=\"border: 2px solid black; align: \"left\">\n",
       "<caption>Error counts</caption>\n",
       "<tr><th style=\"text-align: left;font-weight: bold;\">Level</th><th style=\"text-align: left;font-weight: bold;\">Error category</th><th style=\"text-align: left;font-weight: bold;\">Count</th></tr>\n",
       "<tr><td style=\"text-align: left;\">WARNING</td><td style=\"text-align: left;\">REDUNDANT</td><td style=\"text-align: left;\">2</td></tr>\n",
       "</table>\n",
       "<p>A total of 12 issues were fixed and no individual was removed from the cohort.</p>"
      ],
      "text/plain": [
       "<IPython.core.display.HTML object>"
      ]
     },
     "metadata": {},
     "output_type": "display_data"
    }
   ],
   "source": [
    "cvalidator = CohortValidator(cohort=individual_list, ontology=hpo_ontology, min_hpo=1, allelic_requirement=AllelicRequirement.MONO_ALLELIC)\n",
    "qc = QcVisualizer(cohort_validator=cvalidator)\n",
    "display(HTML(qc.to_summary_html()))"
   ]
  },
  {
   "cell_type": "code",
   "execution_count": 10,
   "id": "34fb28e1",
   "metadata": {},
   "outputs": [
    {
     "data": {
      "text/html": [
       "<table style=\"border: 2px solid black; align: \"left\">\n",
       "<caption>4 phenopackets - PMID:25105228 (n=4)</caption>\n",
       "<tr><th style=\"text-align: left;font-weight: bold;\">Individual</th><th style=\"text-align: left;font-weight: bold;\">Disease</th><th style=\"text-align: left;font-weight: bold;\">Genotype</th><th style=\"text-align: left;font-weight: bold;\">Phenotypic features</th></tr>\n",
       "<tr><td style=\"text-align: left;\">individual_1 (UNKNOWN; )</td><td style=\"text-align: left;\">Acromelic frontonasal dysostosis (OMIM:603671)</td><td style=\"text-align: left;\">NM_020928.2:c.3487C>T (heterozygous)</td><td style=\"text-align: left;\">Telecanthus (HP:0000506); Hypopituitarism (HP:0040075); Calcification of falx cerebri (HP:0005462); Patellar hypoplasia (HP:0003065); Choroid plexus cyst (HP:0002190); Midline central nervous system lipomas (HP:0006866); Hypertelorism (HP:0000316); Preaxial foot polydactyly (HP:0001841); Ptosis (HP:0000508); Large sella turcica (HP:0002690); Parietal foramina (HP:0002697); Short tibia (HP:0005736); Aplasia of the olfactory bulb (HP:0032466); Ventriculomegaly (HP:0002119); Hypoplasia of the corpus callosum (HP:0002079); Vertical clivus (HP:0010559); Cryptorchidism (HP:0000028); Bifid nose (HP:0011803); Midline facial cleft (HP:0100629); Glaucoma (HP:0000501); Global developmental delay (HP:0001263); Cleft palate (HP:0000175); excluded: Periventricular nodular heterotopia (HP:0032388); excluded: Dilation of Virchow-Robin spaces (HP:0012520); excluded: Agenesis of corpus callosum (HP:0001274); excluded: Absent septum pellucidum (HP:0001331); excluded: Retrocerebellar cyst (HP:0006951); excluded: Myopia (HP:0000545); excluded: Optic nerve hypoplasia (HP:0000609); excluded: Remnants of the hyaloid vascular system (HP:0007968); excluded: Submucous cleft soft palate (HP:0011819)</td></tr>\n",
       "<tr><td style=\"text-align: left;\">individual_2 (UNKNOWN; )</td><td style=\"text-align: left;\">Acromelic frontonasal dysostosis (OMIM:603671)</td><td style=\"text-align: left;\">NM_020928.2:c.3487C>T (heterozygous)</td><td style=\"text-align: left;\">Telecanthus (HP:0000506); Hypopituitarism (HP:0040075); Calcification of falx cerebri (HP:0005462); Patellar hypoplasia (HP:0003065); Choroid plexus cyst (HP:0002190); Myopia (HP:0000545); Midline central nervous system lipomas (HP:0006866); Hypertelorism (HP:0000316); Agenesis of corpus callosum (HP:0001274); Preaxial foot polydactyly (HP:0001841); Ptosis (HP:0000508); Parietal foramina (HP:0002697); Dilation of Virchow-Robin spaces (HP:0012520); Short tibia (HP:0005736); Aplasia of the olfactory bulb (HP:0032466); Submucous cleft soft palate (HP:0011819); Vertical clivus (HP:0010559); Remnants of the hyaloid vascular system (HP:0007968); Bifid nose (HP:0011803); Midline facial cleft (HP:0100629); Periventricular nodular heterotopia (HP:0032388); Global developmental delay (HP:0001263); excluded: Ventriculomegaly (HP:0002119); excluded: Hypoplasia of the corpus callosum (HP:0002079); excluded: Absent septum pellucidum (HP:0001331); excluded: Large sella turcica (HP:0002690); excluded: Retrocerebellar cyst (HP:0006951); excluded: Glaucoma (HP:0000501); excluded: Optic nerve hypoplasia (HP:0000609)</td></tr>\n",
       "<tr><td style=\"text-align: left;\">individual_3 (UNKNOWN; )</td><td style=\"text-align: left;\">Acromelic frontonasal dysostosis (OMIM:603671)</td><td style=\"text-align: left;\">NM_020928.2:c.3487C>T (heterozygous)</td><td style=\"text-align: left;\">Hypertelorism (HP:0000316); Telecanthus (HP:0000506); Bifid nose (HP:0011803); Short tibia (HP:0005736); Global developmental delay (HP:0001263); Midline facial cleft (HP:0100629); Calcification of falx cerebri (HP:0005462); Patellar hypoplasia (HP:0003065); Preaxial foot polydactyly (HP:0001841); Myopia (HP:0000545); Absent septum pellucidum (HP:0001331); Ptosis (HP:0000508); Vertical clivus (HP:0010559); Large sella turcica (HP:0002690); Optic nerve hypoplasia (HP:0000609); Midline central nervous system lipomas (HP:0006866); Parietal foramina (HP:0002697); excluded: Periventricular nodular heterotopia (HP:0032388); excluded: Ventriculomegaly (HP:0002119); excluded: Choroid plexus cyst (HP:0002190); excluded: Dilation of Virchow-Robin spaces (HP:0012520); excluded: Agenesis of corpus callosum (HP:0001274); excluded: Hypoplasia of the corpus callosum (HP:0002079); excluded: Retrocerebellar cyst (HP:0006951); excluded: Glaucoma (HP:0000501); excluded: Remnants of the hyaloid vascular system (HP:0007968); excluded: Submucous cleft soft palate (HP:0011819); excluded: Hypopituitarism (HP:0040075); excluded: Cryptorchidism (HP:0000028)</td></tr>\n",
       "<tr><td style=\"text-align: left;\">individual_4 (UNKNOWN; )</td><td style=\"text-align: left;\">Acromelic frontonasal dysostosis (OMIM:603671)</td><td style=\"text-align: left;\">NM_020928.2:c.3487C>T (heterozygous)</td><td style=\"text-align: left;\">Hypertelorism (HP:0000316); Telecanthus (HP:0000506); Bifid nose (HP:0011803); Global developmental delay (HP:0001263); Midline facial cleft (HP:0100629); Ventriculomegaly (HP:0002119); Retrocerebellar cyst (HP:0006951); Preaxial foot polydactyly (HP:0001841); Ptosis (HP:0000508); Vertical clivus (HP:0010559); Large sella turcica (HP:0002690); Midline central nervous system lipomas (HP:0006866); excluded: Short tibia (HP:0005736); excluded: Absent septum pellucidum (HP:0001331); excluded: Choroid plexus cyst (HP:0002190); excluded: Parietal foramina (HP:0002697); excluded: Hypoplasia of the corpus callosum (HP:0002079); excluded: Calcification of falx cerebri (HP:0005462); excluded: Agenesis of corpus callosum (HP:0001274); excluded: Submucous cleft soft palate (HP:0011819); excluded: Dilation of Virchow-Robin spaces (HP:0012520); excluded: Periventricular nodular heterotopia (HP:0032388)</td></tr>\n",
       "</table>"
      ],
      "text/plain": [
       "<IPython.core.display.HTML object>"
      ]
     },
     "metadata": {},
     "output_type": "display_data"
    }
   ],
   "source": [
    "individuals = cvalidator.get_error_free_individual_list()\n",
    "table = PhenopacketTable(individual_list=individuals, metadata=metadata)\n",
    "display(HTML(table.to_html()))"
   ]
  },
  {
   "cell_type": "code",
   "execution_count": 11,
   "id": "1427b0e3",
   "metadata": {
    "scrolled": true
   },
   "outputs": [
    {
     "name": "stdout",
     "output_type": "stream",
     "text": [
      "We output 4 GA4GH phenopackets to the directory phenopackets\n"
     ]
    }
   ],
   "source": [
    "Individual.output_individuals_as_phenopackets(individual_list=individual_list,\n",
    "                                              metadata=metadata)"
   ]
  },
  {
   "cell_type": "code",
   "execution_count": null,
   "id": "198f9251",
   "metadata": {},
   "outputs": [],
   "source": []
  }
 ],
 "metadata": {
  "kernelspec": {
   "display_name": "pstore_env",
   "language": "python",
   "name": "pstore_env"
  },
  "language_info": {
   "codemirror_mode": {
    "name": "ipython",
    "version": 3
   },
   "file_extension": ".py",
   "mimetype": "text/x-python",
   "name": "python",
   "nbconvert_exporter": "python",
   "pygments_lexer": "ipython3",
   "version": "3.11.3"
  }
 },
 "nbformat": 4,
 "nbformat_minor": 5
}
