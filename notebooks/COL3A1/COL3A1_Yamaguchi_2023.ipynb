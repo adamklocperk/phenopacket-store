{
 "cells": [
  {
   "cell_type": "markdown",
   "id": "7b24c5f7-0566-4c9d-9c87-adc19eace71e",
   "metadata": {},
   "source": [
    "# Yamaguchi T et al. (2023) COL3A1\n",
    "\n",
    "Data from [Yamaguchi T et al. (2023) Comprehensive genetic screening for vascular Ehlers-Danlos syndrome through an amplification-based next-generation sequencing system. Am J Med Genet A. 2023 Jan;191(1):37-51.](https://pubmed.ncbi.nlm.nih.gov/36189931/).\n",
    "The authors stated that the original diagnosis was 'vEDS', 'LDS/FTAAD', or 'FTAAD', but we will code all individuals with the final diagnosis of [Ehlers-Danlos syndrome, vascular type](https://omim.org/entry/130050)."
   ]
  },
  {
   "cell_type": "code",
   "execution_count": 1,
   "id": "d5ae75dc-e2a1-4ac4-8632-c0932ea9c657",
   "metadata": {},
   "outputs": [
    {
     "name": "stdout",
     "output_type": "stream",
     "text": [
      "pyphetools version 0.9.1\n"
     ]
    }
   ],
   "source": [
    "import pandas as pd\n",
    "pd.set_option('display.max_colwidth', None) # show entire column contents, important!\n",
    "from IPython.display import HTML, display\n",
    "from pyphetools.creation import *\n",
    "from pyphetools.validation import *\n",
    "from pyphetools.visualization import *\n",
    "import pyphetools\n",
    "print(f\"pyphetools version {pyphetools.__version__}\")"
   ]
  },
  {
   "cell_type": "code",
   "execution_count": 2,
   "id": "afeb3465-97de-4400-8089-bfd1a91ea780",
   "metadata": {},
   "outputs": [
    {
     "name": "stdout",
     "output_type": "stream",
     "text": [
      "HPO version 2023-10-09\n"
     ]
    }
   ],
   "source": [
    "PMID = \"PMID:36189931\"\n",
    "title = \"Comprehensive genetic screening for vascular Ehlers-Danlos syndrome through an amplification-based next-generation sequencing system\"\n",
    "cite = Citation(pmid=PMID, title=title)\n",
    "parser = HpoParser()\n",
    "hpo_cr = parser.get_hpo_concept_recognizer()\n",
    "hpo_version = parser.get_version()\n",
    "hpo_ontology = parser.get_ontology()\n",
    "metadata = MetaData(created_by=\"ORCID:0000-0002-5648-2155\", citation=cite)\n",
    "metadata.default_versions_with_hpo(version=hpo_version)\n",
    "print(f\"HPO version {hpo_version}\")"
   ]
  },
  {
   "cell_type": "code",
   "execution_count": 3,
   "id": "ddc50aef-ff2c-428a-9899-dd59dad8dae0",
   "metadata": {},
   "outputs": [],
   "source": [
    "df = pd.read_excel('input/Yamaguchi_2022_PMID_36189931.xlsx')\n",
    "df = df.astype(str)"
   ]
  },
  {
   "cell_type": "code",
   "execution_count": 4,
   "id": "632bc487-d689-40cb-8428-de609eca922c",
   "metadata": {},
   "outputs": [
    {
     "data": {
      "text/html": [
       "<div>\n",
       "<style scoped>\n",
       "    .dataframe tbody tr th:only-of-type {\n",
       "        vertical-align: middle;\n",
       "    }\n",
       "\n",
       "    .dataframe tbody tr th {\n",
       "        vertical-align: top;\n",
       "    }\n",
       "\n",
       "    .dataframe thead th {\n",
       "        text-align: right;\n",
       "    }\n",
       "</style>\n",
       "<table border=\"1\" class=\"dataframe\">\n",
       "  <thead>\n",
       "    <tr style=\"text-align: right;\">\n",
       "      <th></th>\n",
       "      <th>Patient</th>\n",
       "      <th>Variants (NM_000090.3)</th>\n",
       "      <th>Suspected disease</th>\n",
       "      <th>Age at genetic diagnosis (years)</th>\n",
       "      <th>Sex</th>\n",
       "      <th>Aortic dissection</th>\n",
       "      <th>Aortic rupture</th>\n",
       "      <th>Arterial dissection</th>\n",
       "      <th>Arterial rupture</th>\n",
       "      <th>Uterine rupture</th>\n",
       "      <th>...</th>\n",
       "      <th>Spontaneous pneumothorax</th>\n",
       "      <th>Acrogeria</th>\n",
       "      <th>Talipes equinovarus</th>\n",
       "      <th>Congenital hip dislocation</th>\n",
       "      <th>Hypermobility of small joints</th>\n",
       "      <th>Tendon and muscle rupture</th>\n",
       "      <th>Gingival recession/fragility</th>\n",
       "      <th>Keratoconus</th>\n",
       "      <th>Early onset varicose veins</th>\n",
       "      <th>Family history</th>\n",
       "    </tr>\n",
       "  </thead>\n",
       "  <tbody>\n",
       "    <tr>\n",
       "      <th>0</th>\n",
       "      <td>1</td>\n",
       "      <td>c.547G&gt;A:p.Gly183Ser</td>\n",
       "      <td>vEDS</td>\n",
       "      <td>59</td>\n",
       "      <td>F</td>\n",
       "      <td>−</td>\n",
       "      <td>−</td>\n",
       "      <td>−</td>\n",
       "      <td>+</td>\n",
       "      <td>nan</td>\n",
       "      <td>...</td>\n",
       "      <td>−</td>\n",
       "      <td>−</td>\n",
       "      <td>−</td>\n",
       "      <td>−</td>\n",
       "      <td>−</td>\n",
       "      <td>−</td>\n",
       "      <td>−</td>\n",
       "      <td>nan</td>\n",
       "      <td>−</td>\n",
       "      <td>−</td>\n",
       "    </tr>\n",
       "    <tr>\n",
       "      <th>1</th>\n",
       "      <td>2</td>\n",
       "      <td>c.547G&gt;A:p.Gly183Ser</td>\n",
       "      <td>vEDS</td>\n",
       "      <td>29</td>\n",
       "      <td>F</td>\n",
       "      <td>−</td>\n",
       "      <td>−</td>\n",
       "      <td>+</td>\n",
       "      <td>−</td>\n",
       "      <td>−</td>\n",
       "      <td>...</td>\n",
       "      <td>−</td>\n",
       "      <td>−</td>\n",
       "      <td>−</td>\n",
       "      <td>−</td>\n",
       "      <td>−</td>\n",
       "      <td>−</td>\n",
       "      <td>−</td>\n",
       "      <td>nan</td>\n",
       "      <td>−</td>\n",
       "      <td>Mother, died, carotid-cavernous sinus fistula</td>\n",
       "    </tr>\n",
       "    <tr>\n",
       "      <th>2</th>\n",
       "      <td>3</td>\n",
       "      <td>c.556G&gt;A:p.Gly186Ser</td>\n",
       "      <td>vEDS</td>\n",
       "      <td>d.15</td>\n",
       "      <td>M</td>\n",
       "      <td>+</td>\n",
       "      <td>+</td>\n",
       "      <td>−</td>\n",
       "      <td>−</td>\n",
       "      <td>nan</td>\n",
       "      <td>...</td>\n",
       "      <td>−</td>\n",
       "      <td>−</td>\n",
       "      <td>−</td>\n",
       "      <td>−</td>\n",
       "      <td>−</td>\n",
       "      <td>−</td>\n",
       "      <td>−</td>\n",
       "      <td>nan</td>\n",
       "      <td>−</td>\n",
       "      <td>Mother, died at 30s, subarachnoid hemorrhage</td>\n",
       "    </tr>\n",
       "    <tr>\n",
       "      <th>3</th>\n",
       "      <td>4</td>\n",
       "      <td>c.565G&gt;C:p.Gly189Arg</td>\n",
       "      <td>vEDS</td>\n",
       "      <td>45</td>\n",
       "      <td>F</td>\n",
       "      <td>−</td>\n",
       "      <td>−</td>\n",
       "      <td>+</td>\n",
       "      <td>−</td>\n",
       "      <td>−</td>\n",
       "      <td>...</td>\n",
       "      <td>−</td>\n",
       "      <td>−</td>\n",
       "      <td>−</td>\n",
       "      <td>−</td>\n",
       "      <td>−</td>\n",
       "      <td>−</td>\n",
       "      <td>−</td>\n",
       "      <td>nan</td>\n",
       "      <td>−</td>\n",
       "      <td>−</td>\n",
       "    </tr>\n",
       "    <tr>\n",
       "      <th>4</th>\n",
       "      <td>5</td>\n",
       "      <td>c.583G&gt;A:p.Gly195Arg</td>\n",
       "      <td>vEDS</td>\n",
       "      <td>17</td>\n",
       "      <td>F</td>\n",
       "      <td>−</td>\n",
       "      <td>−</td>\n",
       "      <td>−</td>\n",
       "      <td>−</td>\n",
       "      <td>nan</td>\n",
       "      <td>...</td>\n",
       "      <td>−</td>\n",
       "      <td>−</td>\n",
       "      <td>−</td>\n",
       "      <td>−</td>\n",
       "      <td>+</td>\n",
       "      <td>−</td>\n",
       "      <td>−</td>\n",
       "      <td>nan</td>\n",
       "      <td>−</td>\n",
       "      <td>Mother, died at 32 years, aortic dissection; grandfather, died at 30s, aortic dissection</td>\n",
       "    </tr>\n",
       "  </tbody>\n",
       "</table>\n",
       "<p>5 rows × 25 columns</p>\n",
       "</div>"
      ],
      "text/plain": [
       "  Patient Variants (NM_000090.3) Suspected disease  \\\n",
       "0       1   c.547G>A:p.Gly183Ser              vEDS   \n",
       "1       2   c.547G>A:p.Gly183Ser              vEDS   \n",
       "2       3   c.556G>A:p.Gly186Ser              vEDS   \n",
       "3       4   c.565G>C:p.Gly189Arg              vEDS   \n",
       "4       5   c.583G>A:p.Gly195Arg              vEDS   \n",
       "\n",
       "  Age at genetic diagnosis (years) Sex Aortic dissection Aortic rupture  \\\n",
       "0                               59   F                 −              −   \n",
       "1                               29   F                 −              −   \n",
       "2                             d.15   M                 +              +   \n",
       "3                               45   F                 −              −   \n",
       "4                               17   F                 −              −   \n",
       "\n",
       "  Arterial dissection Arterial rupture Uterine rupture  ...  \\\n",
       "0                   −                +             nan  ...   \n",
       "1                   +                −               −  ...   \n",
       "2                   −                −             nan  ...   \n",
       "3                   +                −               −  ...   \n",
       "4                   −                −             nan  ...   \n",
       "\n",
       "  Spontaneous pneumothorax Acrogeria Talipes equinovarus  \\\n",
       "0                        −         −                   −   \n",
       "1                        −         −                   −   \n",
       "2                        −         −                   −   \n",
       "3                        −         −                   −   \n",
       "4                        −         −                   −   \n",
       "\n",
       "  Congenital hip dislocation Hypermobility of small joints  \\\n",
       "0                          −                             −   \n",
       "1                          −                             −   \n",
       "2                          −                             −   \n",
       "3                          −                             −   \n",
       "4                          −                             +   \n",
       "\n",
       "  Tendon and muscle rupture Gingival recession/fragility Keratoconus  \\\n",
       "0                         −                            −         nan   \n",
       "1                         −                            −         nan   \n",
       "2                         −                            −         nan   \n",
       "3                         −                            −         nan   \n",
       "4                         −                            −         nan   \n",
       "\n",
       "  Early onset varicose veins  \\\n",
       "0                          −   \n",
       "1                          −   \n",
       "2                          −   \n",
       "3                          −   \n",
       "4                          −   \n",
       "\n",
       "                                                                             Family history  \n",
       "0                                                                                         −  \n",
       "1                                             Mother, died, carotid-cavernous sinus fistula  \n",
       "2                                              Mother, died at 30s, subarachnoid hemorrhage  \n",
       "3                                                                                         −  \n",
       "4  Mother, died at 32 years, aortic dissection; grandfather, died at 30s, aortic dissection  \n",
       "\n",
       "[5 rows x 25 columns]"
      ]
     },
     "execution_count": 4,
     "metadata": {},
     "output_type": "execute_result"
    }
   ],
   "source": [
    "df.head()"
   ]
  },
  {
   "cell_type": "markdown",
   "id": "c08eccf9-fc08-4244-bd54-6fe188f8f47e",
   "metadata": {},
   "source": [
    "## Phenotypic features\n",
    "\n",
    "The following code maps some columns automatically."
   ]
  },
  {
   "cell_type": "code",
   "execution_count": 5,
   "id": "89852d40-5d40-4687-85d0-b3a43229502b",
   "metadata": {},
   "outputs": [],
   "source": [
    "generator = SimpleColumnMapperGenerator(df=df, observed='+', excluded='−', hpo_cr=hpo_cr)\n",
    "column_mapper_d = generator.try_mapping_columns()"
   ]
  },
  {
   "cell_type": "code",
   "execution_count": 6,
   "id": "18a77e82-a699-4757-8a09-8aeff561e066",
   "metadata": {},
   "outputs": [
    {
     "data": {
      "text/html": [
       "<table style=\"border: 2px solid black;\">\n",
       "\n",
       "<tr>\n",
       "            <th>Result</th>\n",
       "            <th>Columns</th>\n",
       "        </tr>\n",
       "      \n",
       "<tr><td>Mapped</td><td>Aortic dissection; Aortic rupture; Arterial dissection; Arterial rupture; Uterine rupture; Easy bruising; Spontaneous pneumothorax; Talipes equinovarus; Congenital hip dislocation; Keratoconus</td></tr>\n",
       "<tr><td>Unmapped</td><td><q>Patient</q>; <q>Variants (NM_000090.3)</q>; <q>Suspected disease</q>; <q>Age at genetic diagnosis (years)</q>; <q>Sex</q>; <q>Sigmoid colon perforation</q>; <q>Carotid-cavernous sinus fistula</q>; <q>Thin, translucent skin</q>; <q>Characteristic facial features</q>; <q>Acrogeria</q>; <q>Hypermobility of small joints</q>; <q>Tendon and muscle rupture</q>; <q>Gingival recession/fragility</q>; <q>Early onset varicose veins</q>; <q>Family history</q></td></tr>\n",
       "</table>\n"
      ],
      "text/plain": [
       "<IPython.core.display.HTML object>"
      ]
     },
     "metadata": {},
     "output_type": "display_data"
    }
   ],
   "source": [
    "display(HTML(generator.to_html()))"
   ]
  },
  {
   "cell_type": "code",
   "execution_count": 7,
   "id": "01beb29e-393f-4542-ae2d-80b52f334a32",
   "metadata": {},
   "outputs": [],
   "source": [
    "#Acrogeria\"; -- need HPO Term\n",
    "# Carotid-cavernous sinus fistula -- need HPO Term\n",
    "#v\"Characteristic facial features\"; \" -- too general to code\n",
    "feature_d = {\n",
    "    \"Early onset varicose veins\": [\"Varicose veins\", \"HP:0002619\"],\n",
    "    \"Gingival recession/fragility\": [\"Gingival fragility\", \"HP:0034518\"], \n",
    "    \"Tendon and muscle rupture\": [\"Tendon rupture\", \"HP:0100550\"],\n",
    "    \"Hypermobility of small joints\":  [\"Finger joint hypermobility\", \"HP:0006094\"],\n",
    "    \"Thin, translucent skin\": [\"Dermal translucency\", \"HP:0010648\"]\n",
    "}\n",
    "\n",
    "for k, v in feature_d.items():\n",
    "    mapper = SimpleColumnMapper(hpo_id=v[1], hpo_label=v[0], observed=\"+\", excluded=\"−\")\n",
    "    column_mapper_d[k] = mapper"
   ]
  },
  {
   "cell_type": "code",
   "execution_count": 8,
   "id": "cfec1d45-b51b-4ea5-a684-59110effe69e",
   "metadata": {},
   "outputs": [],
   "source": [
    "df[\"hgvs\"] = df[\"Variants (NM_000090.3)\"].apply(lambda x: x.split(\":\")[0])"
   ]
  },
  {
   "cell_type": "code",
   "execution_count": 9,
   "id": "359dbac5-4a01-44bb-ab8b-c02acc605976",
   "metadata": {},
   "outputs": [
    {
     "name": "stdout",
     "output_type": "stream",
     "text": [
      "https://rest.variantvalidator.org/VariantValidator/variantvalidator/hg38/NM_000090.3%3Ac.547G>A/NM_000090.3?content-type=application%2Fjson\n",
      "https://rest.variantvalidator.org/VariantValidator/variantvalidator/hg38/NM_000090.3%3Ac.556G>A/NM_000090.3?content-type=application%2Fjson\n",
      "https://rest.variantvalidator.org/VariantValidator/variantvalidator/hg38/NM_000090.3%3Ac.565G>C/NM_000090.3?content-type=application%2Fjson\n",
      "https://rest.variantvalidator.org/VariantValidator/variantvalidator/hg38/NM_000090.3%3Ac.583G>A/NM_000090.3?content-type=application%2Fjson\n",
      "https://rest.variantvalidator.org/VariantValidator/variantvalidator/hg38/NM_000090.3%3Ac.598C>T/NM_000090.3?content-type=application%2Fjson\n",
      "https://rest.variantvalidator.org/VariantValidator/variantvalidator/hg38/NM_000090.3%3Ac.659_664del/NM_000090.3?content-type=application%2Fjson\n",
      "https://rest.variantvalidator.org/VariantValidator/variantvalidator/hg38/NM_000090.3%3Ac.665G>A/NM_000090.3?content-type=application%2Fjson\n",
      "https://rest.variantvalidator.org/VariantValidator/variantvalidator/hg38/NM_000090.3%3Ac.724C>T/NM_000090.3?content-type=application%2Fjson\n",
      "https://rest.variantvalidator.org/VariantValidator/variantvalidator/hg38/NM_000090.3%3Ac.754G>A/NM_000090.3?content-type=application%2Fjson\n",
      "https://rest.variantvalidator.org/VariantValidator/variantvalidator/hg38/NM_000090.3%3Ac.755G>A/NM_000090.3?content-type=application%2Fjson\n",
      "https://rest.variantvalidator.org/VariantValidator/variantvalidator/hg38/NM_000090.3%3Ac.763G>T/NM_000090.3?content-type=application%2Fjson\n",
      "https://rest.variantvalidator.org/VariantValidator/variantvalidator/hg38/NM_000090.3%3Ac.848T>A/NM_000090.3?content-type=application%2Fjson\n",
      "https://rest.variantvalidator.org/VariantValidator/variantvalidator/hg38/NM_000090.3%3Ac.897+2T>G/NM_000090.3?content-type=application%2Fjson\n",
      "https://rest.variantvalidator.org/VariantValidator/variantvalidator/hg38/NM_000090.3%3Ac.897+2T>A/NM_000090.3?content-type=application%2Fjson\n",
      "https://rest.variantvalidator.org/VariantValidator/variantvalidator/hg38/NM_000090.3%3Ac.951+5G>C/NM_000090.3?content-type=application%2Fjson\n",
      "https://rest.variantvalidator.org/VariantValidator/variantvalidator/hg38/NM_000090.3%3Ac.1194+1G>A/NM_000090.3?content-type=application%2Fjson\n",
      "https://rest.variantvalidator.org/VariantValidator/variantvalidator/hg38/NM_000090.3%3Ac.1330G>A/NM_000090.3?content-type=application%2Fjson\n",
      "https://rest.variantvalidator.org/VariantValidator/variantvalidator/hg38/NM_000090.3%3Ac.1346G>T/NM_000090.3?content-type=application%2Fjson\n",
      "https://rest.variantvalidator.org/VariantValidator/variantvalidator/hg38/NM_000090.3%3Ac.[1546G>T;1556G>T]/NM_000090.3?content-type=application%2Fjson\n",
      "https://rest.variantvalidator.org/VariantValidator/variantvalidator/hg38/NM_000090.3%3Ac.1662+1G>A/NM_000090.3?content-type=application%2Fjson\n",
      "https://rest.variantvalidator.org/VariantValidator/variantvalidator/hg38/NM_000090.3%3Ac.1862G>A/NM_000090.3?content-type=application%2Fjson\n",
      "https://rest.variantvalidator.org/VariantValidator/variantvalidator/hg38/NM_000090.3%3Ac.1977+5G>C/NM_000090.3?content-type=application%2Fjson\n",
      "https://rest.variantvalidator.org/VariantValidator/variantvalidator/hg38/NM_000090.3%3Ac.2134_2160del/NM_000090.3?content-type=application%2Fjson\n",
      "https://rest.variantvalidator.org/VariantValidator/variantvalidator/hg38/NM_000090.3%3Ac.2283+5G>T/NM_000090.3?content-type=application%2Fjson\n",
      "https://rest.variantvalidator.org/VariantValidator/variantvalidator/hg38/NM_000090.3%3Ac.2356G>A/NM_000090.3?content-type=application%2Fjson\n",
      "https://rest.variantvalidator.org/VariantValidator/variantvalidator/hg38/NM_000090.3%3Ac.2357G>A/NM_000090.3?content-type=application%2Fjson\n",
      "https://rest.variantvalidator.org/VariantValidator/variantvalidator/hg38/NM_000090.3%3Ac.2518G>A/NM_000090.3?content-type=application%2Fjson\n",
      "https://rest.variantvalidator.org/VariantValidator/variantvalidator/hg38/NM_000090.3%3Ac.2815G>A/NM_000090.3?content-type=application%2Fjson\n",
      "https://rest.variantvalidator.org/VariantValidator/variantvalidator/hg38/NM_000090.3%3Ac.2869G>A/NM_000090.3?content-type=application%2Fjson\n",
      "https://rest.variantvalidator.org/VariantValidator/variantvalidator/hg38/NM_000090.3%3Ac.2870G>T/NM_000090.3?content-type=application%2Fjson\n",
      "https://rest.variantvalidator.org/VariantValidator/variantvalidator/hg38/NM_000090.3%3Ac.3256G>C/NM_000090.3?content-type=application%2Fjson\n",
      "https://rest.variantvalidator.org/VariantValidator/variantvalidator/hg38/NM_000090.3%3Ac.3338G>A/NM_000090.3?content-type=application%2Fjson\n",
      "https://rest.variantvalidator.org/VariantValidator/variantvalidator/hg38/NM_000090.3%3Ac.3525+1G>A/NM_000090.3?content-type=application%2Fjson\n"
     ]
    }
   ],
   "source": [
    "col3a1_transcript = \"NM_000090.3\"\n",
    "col3a1_id = \"HGNC:2201\"\n",
    "vvalidator = VariantValidator(genome_build=\"hg38\", transcript=col3a1_transcript)\n",
    "variant_d = {}\n",
    "for v in df[\"hgvs\"].unique():\n",
    "    if v == \"ex. 24–33 deletion\":\n",
    "        var = StructuralVariant.chromosomal_deletion(cell_contents=v, gene_symbol=\"COL3A1\", gene_id=col3a1_id)\n",
    "    else:\n",
    "        var = vvalidator.encode_hgvs(v)\n",
    "    variant_d[v] = var"
   ]
  },
  {
   "cell_type": "markdown",
   "id": "c60b7533-ae2a-4808-9ecf-426d80dd63dc",
   "metadata": {},
   "source": [
    "<h1>Demographic data</h1>"
   ]
  },
  {
   "cell_type": "code",
   "execution_count": 10,
   "id": "5cb3f0d8-c79c-48e7-9767-af7d121fd736",
   "metadata": {},
   "outputs": [],
   "source": [
    "# Revise the age column because it is a mix of years (e.g. 59) and days (e.g. d.17)\n",
    "def get_iso_8601(age_string):\n",
    "    if age_string.startswith(\"d.\"):\n",
    "        age_string = age_string[2:]\n",
    "        return f\"P{age_string}D\"\n",
    "    else:\n",
    "        return f\"P{age_string}Y\"\n",
    "df[\"isoAge\"] = df[\"Age at genetic diagnosis (years)\"].apply(lambda x: get_iso_8601(x))\n",
    "ageMapper = AgeColumnMapper.iso8601(column_name=\"isoAge\")\n",
    "#ageMapper.preview_column(df[\"isoAge\"])"
   ]
  },
  {
   "cell_type": "code",
   "execution_count": 11,
   "id": "2c24df96-c74a-4011-bfc5-2eda98cb7f07",
   "metadata": {},
   "outputs": [],
   "source": [
    "sexMapper = SexColumnMapper(male_symbol='M', female_symbol='F', column_name='Sex')\n",
    "#sexMapper.preview_column(df['Sex'])"
   ]
  },
  {
   "cell_type": "code",
   "execution_count": 12,
   "id": "456a5290-27ee-483b-9ac0-524a9ef79352",
   "metadata": {},
   "outputs": [],
   "source": [
    "vEDS = Disease(disease_id='OMIM:130050', disease_label='Ehlers-Danlos syndrome, vascular type')\n",
    "encoder = CohortEncoder(df=df, \n",
    "                        hpo_cr=hpo_cr, \n",
    "                        column_mapper_d=column_mapper_d, \n",
    "                        individual_column_name=\"Patient\", \n",
    "                        agemapper=ageMapper, \n",
    "                        sexmapper=sexMapper,\n",
    "                        metadata=metadata,  \n",
    "                        citation=cite)\n",
    "encoder.set_disease(vEDS)"
   ]
  },
  {
   "cell_type": "code",
   "execution_count": 13,
   "id": "e48af718-36a5-4952-ab4e-d5dec5e822a1",
   "metadata": {},
   "outputs": [],
   "source": [
    "individuals = encoder.get_individuals()"
   ]
  },
  {
   "cell_type": "markdown",
   "id": "14f85a40-8793-4753-b9b9-7381b01b3aaf",
   "metadata": {},
   "source": [
    "# Add variant data"
   ]
  },
  {
   "cell_type": "code",
   "execution_count": 14,
   "id": "f4c4c548-aa73-46d3-96c8-b19fd2617fe3",
   "metadata": {},
   "outputs": [],
   "source": [
    "patient_id_to_hgvs_d = {row[\"Patient\"]:row[\"hgvs\"] for _, row in df[[\"Patient\", \"hgvs\"]].iterrows()}\n",
    "for indi in individuals:\n",
    "    if  indi.id not in patient_id_to_hgvs_d:\n",
    "        raise ValueError(f\"Could not find individual \\\"{indi.id}\\\"\")\n",
    "    hgvs = patient_id_to_hgvs_d.get(indi.id)\n",
    "    var = variant_d.get(hgvs)\n",
    "    var.set_heterozygous()\n",
    "    indi.add_variant(var)"
   ]
  },
  {
   "cell_type": "markdown",
   "id": "d0ae4cec-0b26-4369-aa9d-a99f7b207a14",
   "metadata": {},
   "source": [
    "# Perform Q/C"
   ]
  },
  {
   "cell_type": "code",
   "execution_count": 15,
   "id": "1f9fc8db-8d92-4058-a15e-e5beecd1bde3",
   "metadata": {},
   "outputs": [
    {
     "data": {
      "text/html": [
       "<h2>Cohort validation</h2>\n",
       "<p>Errors found with 34 of 35 phenopackets.</p>\n",
       "<table style=\"border: 2px solid black; align: \"left\">\n",
       "<caption>Error analysis</caption>\n",
       "<tr><th style=\"text-align: left;font-weight: bold;\">ID</th><th style=\"text-align: left;font-weight: bold;\">Level</th><th style=\"text-align: left;font-weight: bold;\">Category</th><th style=\"text-align: left;font-weight: bold;\">Message</th><th style=\"text-align: left;font-weight: bold;\">HPO Term</th></tr>\n",
       "<tr><td style=\"text-align: left;\">PMID_36189931_10</td><td style=\"text-align: left;\">INFORMATION</td><td style=\"text-align: left;\">NOT_MEASURED</td><td style=\"text-align: left;\">Bruising susceptibility (HP:0000978) was listed as not measured and will be omitted</td><td style=\"text-align: left;\">not measured: Bruising susceptibility (HP:0000978)</td></tr>\n",
       "<tr><td style=\"text-align: left;\">PMID_36189931_10</td><td style=\"text-align: left;\">INFORMATION</td><td style=\"text-align: left;\">NOT_MEASURED</td><td style=\"text-align: left;\">Congenital hip dislocation (HP:0001374) was listed as not measured and will be omitted</td><td style=\"text-align: left;\">not measured: Congenital hip dislocation (HP:0001374)</td></tr>\n",
       "<tr><td style=\"text-align: left;\">PMID_36189931_23</td><td style=\"text-align: left;\">INFORMATION</td><td style=\"text-align: left;\">NOT_MEASURED</td><td style=\"text-align: left;\">Congenital hip dislocation (HP:0001374) was listed as not measured and will be omitted</td><td style=\"text-align: left;\">not measured: Congenital hip dislocation (HP:0001374)</td></tr>\n",
       "<tr><td style=\"text-align: left;\">PMID_36189931_30</td><td style=\"text-align: left;\">INFORMATION</td><td style=\"text-align: left;\">NOT_MEASURED</td><td style=\"text-align: left;\">Congenital hip dislocation (HP:0001374) was listed as not measured and will be omitted</td><td style=\"text-align: left;\">not measured: Congenital hip dislocation (HP:0001374)</td></tr>\n",
       "<tr><td style=\"text-align: left;\">PMID_36189931_10</td><td style=\"text-align: left;\">INFORMATION</td><td style=\"text-align: left;\">NOT_MEASURED</td><td style=\"text-align: left;\">Dermal translucency (HP:0010648) was listed as not measured and will be omitted</td><td style=\"text-align: left;\">not measured: Dermal translucency (HP:0010648)</td></tr>\n",
       "<tr><td style=\"text-align: left;\">PMID_36189931_30</td><td style=\"text-align: left;\">INFORMATION</td><td style=\"text-align: left;\">NOT_MEASURED</td><td style=\"text-align: left;\">Dermal translucency (HP:0010648) was listed as not measured and will be omitted</td><td style=\"text-align: left;\">not measured: Dermal translucency (HP:0010648)</td></tr>\n",
       "<tr><td style=\"text-align: left;\">PMID_36189931_10</td><td style=\"text-align: left;\">INFORMATION</td><td style=\"text-align: left;\">NOT_MEASURED</td><td style=\"text-align: left;\">Finger joint hypermobility (HP:0006094) was listed as not measured and will be omitted</td><td style=\"text-align: left;\">not measured: Finger joint hypermobility (HP:0006094)</td></tr>\n",
       "<tr><td style=\"text-align: left;\">PMID_36189931_30</td><td style=\"text-align: left;\">INFORMATION</td><td style=\"text-align: left;\">NOT_MEASURED</td><td style=\"text-align: left;\">Finger joint hypermobility (HP:0006094) was listed as not measured and will be omitted</td><td style=\"text-align: left;\">not measured: Finger joint hypermobility (HP:0006094)</td></tr>\n",
       "<tr><td style=\"text-align: left;\">PMID_36189931_9</td><td style=\"text-align: left;\">INFORMATION</td><td style=\"text-align: left;\">NOT_MEASURED</td><td style=\"text-align: left;\">Gingival fragility (HP:0034518) was listed as not measured and will be omitted</td><td style=\"text-align: left;\">not measured: Gingival fragility (HP:0034518)</td></tr>\n",
       "<tr><td style=\"text-align: left;\">PMID_36189931_10</td><td style=\"text-align: left;\">INFORMATION</td><td style=\"text-align: left;\">NOT_MEASURED</td><td style=\"text-align: left;\">Gingival fragility (HP:0034518) was listed as not measured and will be omitted</td><td style=\"text-align: left;\">not measured: Gingival fragility (HP:0034518)</td></tr>\n",
       "<tr><td style=\"text-align: left;\">PMID_36189931_23</td><td style=\"text-align: left;\">INFORMATION</td><td style=\"text-align: left;\">NOT_MEASURED</td><td style=\"text-align: left;\">Gingival fragility (HP:0034518) was listed as not measured and will be omitted</td><td style=\"text-align: left;\">not measured: Gingival fragility (HP:0034518)</td></tr>\n",
       "<tr><td style=\"text-align: left;\">PMID_36189931_30</td><td style=\"text-align: left;\">INFORMATION</td><td style=\"text-align: left;\">NOT_MEASURED</td><td style=\"text-align: left;\">Gingival fragility (HP:0034518) was listed as not measured and will be omitted</td><td style=\"text-align: left;\">not measured: Gingival fragility (HP:0034518)</td></tr>\n",
       "<tr><td style=\"text-align: left;\">PMID_36189931_1</td><td style=\"text-align: left;\">INFORMATION</td><td style=\"text-align: left;\">NOT_MEASURED</td><td style=\"text-align: left;\">Keratoconus (HP:0000563) was listed as not measured and will be omitted</td><td style=\"text-align: left;\">not measured: Keratoconus (HP:0000563)</td></tr>\n",
       "<tr><td style=\"text-align: left;\">PMID_36189931_2</td><td style=\"text-align: left;\">INFORMATION</td><td style=\"text-align: left;\">NOT_MEASURED</td><td style=\"text-align: left;\">Keratoconus (HP:0000563) was listed as not measured and will be omitted</td><td style=\"text-align: left;\">not measured: Keratoconus (HP:0000563)</td></tr>\n",
       "<tr><td style=\"text-align: left;\">PMID_36189931_3</td><td style=\"text-align: left;\">INFORMATION</td><td style=\"text-align: left;\">NOT_MEASURED</td><td style=\"text-align: left;\">Keratoconus (HP:0000563) was listed as not measured and will be omitted</td><td style=\"text-align: left;\">not measured: Keratoconus (HP:0000563)</td></tr>\n",
       "<tr><td style=\"text-align: left;\">PMID_36189931_4</td><td style=\"text-align: left;\">INFORMATION</td><td style=\"text-align: left;\">NOT_MEASURED</td><td style=\"text-align: left;\">Keratoconus (HP:0000563) was listed as not measured and will be omitted</td><td style=\"text-align: left;\">not measured: Keratoconus (HP:0000563)</td></tr>\n",
       "<tr><td style=\"text-align: left;\">PMID_36189931_5</td><td style=\"text-align: left;\">INFORMATION</td><td style=\"text-align: left;\">NOT_MEASURED</td><td style=\"text-align: left;\">Keratoconus (HP:0000563) was listed as not measured and will be omitted</td><td style=\"text-align: left;\">not measured: Keratoconus (HP:0000563)</td></tr>\n",
       "<tr><td style=\"text-align: left;\">PMID_36189931_7</td><td style=\"text-align: left;\">INFORMATION</td><td style=\"text-align: left;\">NOT_MEASURED</td><td style=\"text-align: left;\">Keratoconus (HP:0000563) was listed as not measured and will be omitted</td><td style=\"text-align: left;\">not measured: Keratoconus (HP:0000563)</td></tr>\n",
       "<tr><td style=\"text-align: left;\">PMID_36189931_8</td><td style=\"text-align: left;\">INFORMATION</td><td style=\"text-align: left;\">NOT_MEASURED</td><td style=\"text-align: left;\">Keratoconus (HP:0000563) was listed as not measured and will be omitted</td><td style=\"text-align: left;\">not measured: Keratoconus (HP:0000563)</td></tr>\n",
       "<tr><td style=\"text-align: left;\">PMID_36189931_9</td><td style=\"text-align: left;\">INFORMATION</td><td style=\"text-align: left;\">NOT_MEASURED</td><td style=\"text-align: left;\">Keratoconus (HP:0000563) was listed as not measured and will be omitted</td><td style=\"text-align: left;\">not measured: Keratoconus (HP:0000563)</td></tr>\n",
       "<tr><td style=\"text-align: left;\">PMID_36189931_10</td><td style=\"text-align: left;\">INFORMATION</td><td style=\"text-align: left;\">NOT_MEASURED</td><td style=\"text-align: left;\">Keratoconus (HP:0000563) was listed as not measured and will be omitted</td><td style=\"text-align: left;\">not measured: Keratoconus (HP:0000563)</td></tr>\n",
       "<tr><td style=\"text-align: left;\">PMID_36189931_11</td><td style=\"text-align: left;\">INFORMATION</td><td style=\"text-align: left;\">NOT_MEASURED</td><td style=\"text-align: left;\">Keratoconus (HP:0000563) was listed as not measured and will be omitted</td><td style=\"text-align: left;\">not measured: Keratoconus (HP:0000563)</td></tr>\n",
       "<tr><td style=\"text-align: left;\">PMID_36189931_12</td><td style=\"text-align: left;\">INFORMATION</td><td style=\"text-align: left;\">NOT_MEASURED</td><td style=\"text-align: left;\">Keratoconus (HP:0000563) was listed as not measured and will be omitted</td><td style=\"text-align: left;\">not measured: Keratoconus (HP:0000563)</td></tr>\n",
       "<tr><td style=\"text-align: left;\">PMID_36189931_13</td><td style=\"text-align: left;\">INFORMATION</td><td style=\"text-align: left;\">NOT_MEASURED</td><td style=\"text-align: left;\">Keratoconus (HP:0000563) was listed as not measured and will be omitted</td><td style=\"text-align: left;\">not measured: Keratoconus (HP:0000563)</td></tr>\n",
       "<tr><td style=\"text-align: left;\">PMID_36189931_14</td><td style=\"text-align: left;\">INFORMATION</td><td style=\"text-align: left;\">NOT_MEASURED</td><td style=\"text-align: left;\">Keratoconus (HP:0000563) was listed as not measured and will be omitted</td><td style=\"text-align: left;\">not measured: Keratoconus (HP:0000563)</td></tr>\n",
       "<tr><td style=\"text-align: left;\">PMID_36189931_15</td><td style=\"text-align: left;\">INFORMATION</td><td style=\"text-align: left;\">NOT_MEASURED</td><td style=\"text-align: left;\">Keratoconus (HP:0000563) was listed as not measured and will be omitted</td><td style=\"text-align: left;\">not measured: Keratoconus (HP:0000563)</td></tr>\n",
       "<tr><td style=\"text-align: left;\">PMID_36189931_16</td><td style=\"text-align: left;\">INFORMATION</td><td style=\"text-align: left;\">NOT_MEASURED</td><td style=\"text-align: left;\">Keratoconus (HP:0000563) was listed as not measured and will be omitted</td><td style=\"text-align: left;\">not measured: Keratoconus (HP:0000563)</td></tr>\n",
       "<tr><td style=\"text-align: left;\">PMID_36189931_17</td><td style=\"text-align: left;\">INFORMATION</td><td style=\"text-align: left;\">NOT_MEASURED</td><td style=\"text-align: left;\">Keratoconus (HP:0000563) was listed as not measured and will be omitted</td><td style=\"text-align: left;\">not measured: Keratoconus (HP:0000563)</td></tr>\n",
       "<tr><td style=\"text-align: left;\">PMID_36189931_18</td><td style=\"text-align: left;\">INFORMATION</td><td style=\"text-align: left;\">NOT_MEASURED</td><td style=\"text-align: left;\">Keratoconus (HP:0000563) was listed as not measured and will be omitted</td><td style=\"text-align: left;\">not measured: Keratoconus (HP:0000563)</td></tr>\n",
       "<tr><td style=\"text-align: left;\">PMID_36189931_19</td><td style=\"text-align: left;\">INFORMATION</td><td style=\"text-align: left;\">NOT_MEASURED</td><td style=\"text-align: left;\">Keratoconus (HP:0000563) was listed as not measured and will be omitted</td><td style=\"text-align: left;\">not measured: Keratoconus (HP:0000563)</td></tr>\n",
       "<tr><td style=\"text-align: left;\">PMID_36189931_20</td><td style=\"text-align: left;\">INFORMATION</td><td style=\"text-align: left;\">NOT_MEASURED</td><td style=\"text-align: left;\">Keratoconus (HP:0000563) was listed as not measured and will be omitted</td><td style=\"text-align: left;\">not measured: Keratoconus (HP:0000563)</td></tr>\n",
       "<tr><td style=\"text-align: left;\">PMID_36189931_21</td><td style=\"text-align: left;\">INFORMATION</td><td style=\"text-align: left;\">NOT_MEASURED</td><td style=\"text-align: left;\">Keratoconus (HP:0000563) was listed as not measured and will be omitted</td><td style=\"text-align: left;\">not measured: Keratoconus (HP:0000563)</td></tr>\n",
       "<tr><td style=\"text-align: left;\">PMID_36189931_22</td><td style=\"text-align: left;\">INFORMATION</td><td style=\"text-align: left;\">NOT_MEASURED</td><td style=\"text-align: left;\">Keratoconus (HP:0000563) was listed as not measured and will be omitted</td><td style=\"text-align: left;\">not measured: Keratoconus (HP:0000563)</td></tr>\n",
       "<tr><td style=\"text-align: left;\">PMID_36189931_23</td><td style=\"text-align: left;\">INFORMATION</td><td style=\"text-align: left;\">NOT_MEASURED</td><td style=\"text-align: left;\">Keratoconus (HP:0000563) was listed as not measured and will be omitted</td><td style=\"text-align: left;\">not measured: Keratoconus (HP:0000563)</td></tr>\n",
       "<tr><td style=\"text-align: left;\">PMID_36189931_24</td><td style=\"text-align: left;\">INFORMATION</td><td style=\"text-align: left;\">NOT_MEASURED</td><td style=\"text-align: left;\">Keratoconus (HP:0000563) was listed as not measured and will be omitted</td><td style=\"text-align: left;\">not measured: Keratoconus (HP:0000563)</td></tr>\n",
       "<tr><td style=\"text-align: left;\">PMID_36189931_25</td><td style=\"text-align: left;\">INFORMATION</td><td style=\"text-align: left;\">NOT_MEASURED</td><td style=\"text-align: left;\">Keratoconus (HP:0000563) was listed as not measured and will be omitted</td><td style=\"text-align: left;\">not measured: Keratoconus (HP:0000563)</td></tr>\n",
       "<tr><td style=\"text-align: left;\">PMID_36189931_26</td><td style=\"text-align: left;\">INFORMATION</td><td style=\"text-align: left;\">NOT_MEASURED</td><td style=\"text-align: left;\">Keratoconus (HP:0000563) was listed as not measured and will be omitted</td><td style=\"text-align: left;\">not measured: Keratoconus (HP:0000563)</td></tr>\n",
       "<tr><td style=\"text-align: left;\">PMID_36189931_27</td><td style=\"text-align: left;\">INFORMATION</td><td style=\"text-align: left;\">NOT_MEASURED</td><td style=\"text-align: left;\">Keratoconus (HP:0000563) was listed as not measured and will be omitted</td><td style=\"text-align: left;\">not measured: Keratoconus (HP:0000563)</td></tr>\n",
       "<tr><td style=\"text-align: left;\">PMID_36189931_28</td><td style=\"text-align: left;\">INFORMATION</td><td style=\"text-align: left;\">NOT_MEASURED</td><td style=\"text-align: left;\">Keratoconus (HP:0000563) was listed as not measured and will be omitted</td><td style=\"text-align: left;\">not measured: Keratoconus (HP:0000563)</td></tr>\n",
       "<tr><td style=\"text-align: left;\">PMID_36189931_29</td><td style=\"text-align: left;\">INFORMATION</td><td style=\"text-align: left;\">NOT_MEASURED</td><td style=\"text-align: left;\">Keratoconus (HP:0000563) was listed as not measured and will be omitted</td><td style=\"text-align: left;\">not measured: Keratoconus (HP:0000563)</td></tr>\n",
       "<tr><td style=\"text-align: left;\">PMID_36189931_30</td><td style=\"text-align: left;\">INFORMATION</td><td style=\"text-align: left;\">NOT_MEASURED</td><td style=\"text-align: left;\">Keratoconus (HP:0000563) was listed as not measured and will be omitted</td><td style=\"text-align: left;\">not measured: Keratoconus (HP:0000563)</td></tr>\n",
       "<tr><td style=\"text-align: left;\">PMID_36189931_31</td><td style=\"text-align: left;\">INFORMATION</td><td style=\"text-align: left;\">NOT_MEASURED</td><td style=\"text-align: left;\">Keratoconus (HP:0000563) was listed as not measured and will be omitted</td><td style=\"text-align: left;\">not measured: Keratoconus (HP:0000563)</td></tr>\n",
       "<tr><td style=\"text-align: left;\">PMID_36189931_32</td><td style=\"text-align: left;\">INFORMATION</td><td style=\"text-align: left;\">NOT_MEASURED</td><td style=\"text-align: left;\">Keratoconus (HP:0000563) was listed as not measured and will be omitted</td><td style=\"text-align: left;\">not measured: Keratoconus (HP:0000563)</td></tr>\n",
       "<tr><td style=\"text-align: left;\">PMID_36189931_33</td><td style=\"text-align: left;\">INFORMATION</td><td style=\"text-align: left;\">NOT_MEASURED</td><td style=\"text-align: left;\">Keratoconus (HP:0000563) was listed as not measured and will be omitted</td><td style=\"text-align: left;\">not measured: Keratoconus (HP:0000563)</td></tr>\n",
       "<tr><td style=\"text-align: left;\">PMID_36189931_34</td><td style=\"text-align: left;\">INFORMATION</td><td style=\"text-align: left;\">NOT_MEASURED</td><td style=\"text-align: left;\">Keratoconus (HP:0000563) was listed as not measured and will be omitted</td><td style=\"text-align: left;\">not measured: Keratoconus (HP:0000563)</td></tr>\n",
       "<tr><td style=\"text-align: left;\">PMID_36189931_35</td><td style=\"text-align: left;\">INFORMATION</td><td style=\"text-align: left;\">NOT_MEASURED</td><td style=\"text-align: left;\">Keratoconus (HP:0000563) was listed as not measured and will be omitted</td><td style=\"text-align: left;\">not measured: Keratoconus (HP:0000563)</td></tr>\n",
       "<tr><td style=\"text-align: left;\">PMID_36189931_10</td><td style=\"text-align: left;\">INFORMATION</td><td style=\"text-align: left;\">NOT_MEASURED</td><td style=\"text-align: left;\">Talipes equinovarus (HP:0001762) was listed as not measured and will be omitted</td><td style=\"text-align: left;\">not measured: Talipes equinovarus (HP:0001762)</td></tr>\n",
       "<tr><td style=\"text-align: left;\">PMID_36189931_23</td><td style=\"text-align: left;\">INFORMATION</td><td style=\"text-align: left;\">NOT_MEASURED</td><td style=\"text-align: left;\">Talipes equinovarus (HP:0001762) was listed as not measured and will be omitted</td><td style=\"text-align: left;\">not measured: Talipes equinovarus (HP:0001762)</td></tr>\n",
       "<tr><td style=\"text-align: left;\">PMID_36189931_30</td><td style=\"text-align: left;\">INFORMATION</td><td style=\"text-align: left;\">NOT_MEASURED</td><td style=\"text-align: left;\">Talipes equinovarus (HP:0001762) was listed as not measured and will be omitted</td><td style=\"text-align: left;\">not measured: Talipes equinovarus (HP:0001762)</td></tr>\n",
       "<tr><td style=\"text-align: left;\">PMID_36189931_10</td><td style=\"text-align: left;\">INFORMATION</td><td style=\"text-align: left;\">NOT_MEASURED</td><td style=\"text-align: left;\">Tendon rupture (HP:0100550) was listed as not measured and will be omitted</td><td style=\"text-align: left;\">not measured: Tendon rupture (HP:0100550)</td></tr>\n",
       "<tr><td style=\"text-align: left;\">PMID_36189931_23</td><td style=\"text-align: left;\">INFORMATION</td><td style=\"text-align: left;\">NOT_MEASURED</td><td style=\"text-align: left;\">Tendon rupture (HP:0100550) was listed as not measured and will be omitted</td><td style=\"text-align: left;\">not measured: Tendon rupture (HP:0100550)</td></tr>\n",
       "<tr><td style=\"text-align: left;\">PMID_36189931_1</td><td style=\"text-align: left;\">INFORMATION</td><td style=\"text-align: left;\">NOT_MEASURED</td><td style=\"text-align: left;\">Uterine rupture (HP:0100718) was listed as not measured and will be omitted</td><td style=\"text-align: left;\">not measured: Uterine rupture (HP:0100718)</td></tr>\n",
       "<tr><td style=\"text-align: left;\">PMID_36189931_3</td><td style=\"text-align: left;\">INFORMATION</td><td style=\"text-align: left;\">NOT_MEASURED</td><td style=\"text-align: left;\">Uterine rupture (HP:0100718) was listed as not measured and will be omitted</td><td style=\"text-align: left;\">not measured: Uterine rupture (HP:0100718)</td></tr>\n",
       "<tr><td style=\"text-align: left;\">PMID_36189931_5</td><td style=\"text-align: left;\">INFORMATION</td><td style=\"text-align: left;\">NOT_MEASURED</td><td style=\"text-align: left;\">Uterine rupture (HP:0100718) was listed as not measured and will be omitted</td><td style=\"text-align: left;\">not measured: Uterine rupture (HP:0100718)</td></tr>\n",
       "<tr><td style=\"text-align: left;\">PMID_36189931_7</td><td style=\"text-align: left;\">INFORMATION</td><td style=\"text-align: left;\">NOT_MEASURED</td><td style=\"text-align: left;\">Uterine rupture (HP:0100718) was listed as not measured and will be omitted</td><td style=\"text-align: left;\">not measured: Uterine rupture (HP:0100718)</td></tr>\n",
       "<tr><td style=\"text-align: left;\">PMID_36189931_9</td><td style=\"text-align: left;\">INFORMATION</td><td style=\"text-align: left;\">NOT_MEASURED</td><td style=\"text-align: left;\">Uterine rupture (HP:0100718) was listed as not measured and will be omitted</td><td style=\"text-align: left;\">not measured: Uterine rupture (HP:0100718)</td></tr>\n",
       "<tr><td style=\"text-align: left;\">PMID_36189931_10</td><td style=\"text-align: left;\">INFORMATION</td><td style=\"text-align: left;\">NOT_MEASURED</td><td style=\"text-align: left;\">Uterine rupture (HP:0100718) was listed as not measured and will be omitted</td><td style=\"text-align: left;\">not measured: Uterine rupture (HP:0100718)</td></tr>\n",
       "<tr><td style=\"text-align: left;\">PMID_36189931_12</td><td style=\"text-align: left;\">INFORMATION</td><td style=\"text-align: left;\">NOT_MEASURED</td><td style=\"text-align: left;\">Uterine rupture (HP:0100718) was listed as not measured and will be omitted</td><td style=\"text-align: left;\">not measured: Uterine rupture (HP:0100718)</td></tr>\n",
       "<tr><td style=\"text-align: left;\">PMID_36189931_14</td><td style=\"text-align: left;\">INFORMATION</td><td style=\"text-align: left;\">NOT_MEASURED</td><td style=\"text-align: left;\">Uterine rupture (HP:0100718) was listed as not measured and will be omitted</td><td style=\"text-align: left;\">not measured: Uterine rupture (HP:0100718)</td></tr>\n",
       "<tr><td style=\"text-align: left;\">PMID_36189931_15</td><td style=\"text-align: left;\">INFORMATION</td><td style=\"text-align: left;\">NOT_MEASURED</td><td style=\"text-align: left;\">Uterine rupture (HP:0100718) was listed as not measured and will be omitted</td><td style=\"text-align: left;\">not measured: Uterine rupture (HP:0100718)</td></tr>\n",
       "<tr><td style=\"text-align: left;\">PMID_36189931_17</td><td style=\"text-align: left;\">INFORMATION</td><td style=\"text-align: left;\">NOT_MEASURED</td><td style=\"text-align: left;\">Uterine rupture (HP:0100718) was listed as not measured and will be omitted</td><td style=\"text-align: left;\">not measured: Uterine rupture (HP:0100718)</td></tr>\n",
       "<tr><td style=\"text-align: left;\">PMID_36189931_18</td><td style=\"text-align: left;\">INFORMATION</td><td style=\"text-align: left;\">NOT_MEASURED</td><td style=\"text-align: left;\">Uterine rupture (HP:0100718) was listed as not measured and will be omitted</td><td style=\"text-align: left;\">not measured: Uterine rupture (HP:0100718)</td></tr>\n",
       "<tr><td style=\"text-align: left;\">PMID_36189931_19</td><td style=\"text-align: left;\">INFORMATION</td><td style=\"text-align: left;\">NOT_MEASURED</td><td style=\"text-align: left;\">Uterine rupture (HP:0100718) was listed as not measured and will be omitted</td><td style=\"text-align: left;\">not measured: Uterine rupture (HP:0100718)</td></tr>\n",
       "<tr><td style=\"text-align: left;\">PMID_36189931_22</td><td style=\"text-align: left;\">INFORMATION</td><td style=\"text-align: left;\">NOT_MEASURED</td><td style=\"text-align: left;\">Uterine rupture (HP:0100718) was listed as not measured and will be omitted</td><td style=\"text-align: left;\">not measured: Uterine rupture (HP:0100718)</td></tr>\n",
       "<tr><td style=\"text-align: left;\">PMID_36189931_24</td><td style=\"text-align: left;\">INFORMATION</td><td style=\"text-align: left;\">NOT_MEASURED</td><td style=\"text-align: left;\">Uterine rupture (HP:0100718) was listed as not measured and will be omitted</td><td style=\"text-align: left;\">not measured: Uterine rupture (HP:0100718)</td></tr>\n",
       "<tr><td style=\"text-align: left;\">PMID_36189931_25</td><td style=\"text-align: left;\">INFORMATION</td><td style=\"text-align: left;\">NOT_MEASURED</td><td style=\"text-align: left;\">Uterine rupture (HP:0100718) was listed as not measured and will be omitted</td><td style=\"text-align: left;\">not measured: Uterine rupture (HP:0100718)</td></tr>\n",
       "<tr><td style=\"text-align: left;\">PMID_36189931_26</td><td style=\"text-align: left;\">INFORMATION</td><td style=\"text-align: left;\">NOT_MEASURED</td><td style=\"text-align: left;\">Uterine rupture (HP:0100718) was listed as not measured and will be omitted</td><td style=\"text-align: left;\">not measured: Uterine rupture (HP:0100718)</td></tr>\n",
       "<tr><td style=\"text-align: left;\">PMID_36189931_27</td><td style=\"text-align: left;\">INFORMATION</td><td style=\"text-align: left;\">NOT_MEASURED</td><td style=\"text-align: left;\">Uterine rupture (HP:0100718) was listed as not measured and will be omitted</td><td style=\"text-align: left;\">not measured: Uterine rupture (HP:0100718)</td></tr>\n",
       "<tr><td style=\"text-align: left;\">PMID_36189931_28</td><td style=\"text-align: left;\">INFORMATION</td><td style=\"text-align: left;\">NOT_MEASURED</td><td style=\"text-align: left;\">Uterine rupture (HP:0100718) was listed as not measured and will be omitted</td><td style=\"text-align: left;\">not measured: Uterine rupture (HP:0100718)</td></tr>\n",
       "<tr><td style=\"text-align: left;\">PMID_36189931_29</td><td style=\"text-align: left;\">INFORMATION</td><td style=\"text-align: left;\">NOT_MEASURED</td><td style=\"text-align: left;\">Uterine rupture (HP:0100718) was listed as not measured and will be omitted</td><td style=\"text-align: left;\">not measured: Uterine rupture (HP:0100718)</td></tr>\n",
       "<tr><td style=\"text-align: left;\">PMID_36189931_30</td><td style=\"text-align: left;\">INFORMATION</td><td style=\"text-align: left;\">NOT_MEASURED</td><td style=\"text-align: left;\">Uterine rupture (HP:0100718) was listed as not measured and will be omitted</td><td style=\"text-align: left;\">not measured: Uterine rupture (HP:0100718)</td></tr>\n",
       "<tr><td style=\"text-align: left;\">PMID_36189931_31</td><td style=\"text-align: left;\">INFORMATION</td><td style=\"text-align: left;\">NOT_MEASURED</td><td style=\"text-align: left;\">Uterine rupture (HP:0100718) was listed as not measured and will be omitted</td><td style=\"text-align: left;\">not measured: Uterine rupture (HP:0100718)</td></tr>\n",
       "<tr><td style=\"text-align: left;\">PMID_36189931_32</td><td style=\"text-align: left;\">INFORMATION</td><td style=\"text-align: left;\">NOT_MEASURED</td><td style=\"text-align: left;\">Uterine rupture (HP:0100718) was listed as not measured and will be omitted</td><td style=\"text-align: left;\">not measured: Uterine rupture (HP:0100718)</td></tr>\n",
       "<tr><td style=\"text-align: left;\">PMID_36189931_33</td><td style=\"text-align: left;\">INFORMATION</td><td style=\"text-align: left;\">NOT_MEASURED</td><td style=\"text-align: left;\">Uterine rupture (HP:0100718) was listed as not measured and will be omitted</td><td style=\"text-align: left;\">not measured: Uterine rupture (HP:0100718)</td></tr>\n",
       "<tr><td style=\"text-align: left;\">PMID_36189931_35</td><td style=\"text-align: left;\">INFORMATION</td><td style=\"text-align: left;\">NOT_MEASURED</td><td style=\"text-align: left;\">Uterine rupture (HP:0100718) was listed as not measured and will be omitted</td><td style=\"text-align: left;\">not measured: Uterine rupture (HP:0100718)</td></tr>\n",
       "<tr><td style=\"text-align: left;\">PMID_36189931_10</td><td style=\"text-align: left;\">INFORMATION</td><td style=\"text-align: left;\">NOT_MEASURED</td><td style=\"text-align: left;\">Varicose veins (HP:0002619) was listed as not measured and will be omitted</td><td style=\"text-align: left;\">not measured: Varicose veins (HP:0002619)</td></tr>\n",
       "<tr><td style=\"text-align: left;\">PMID_36189931_13</td><td style=\"text-align: left;\">INFORMATION</td><td style=\"text-align: left;\">NOT_MEASURED</td><td style=\"text-align: left;\">Varicose veins (HP:0002619) was listed as not measured and will be omitted</td><td style=\"text-align: left;\">not measured: Varicose veins (HP:0002619)</td></tr>\n",
       "<tr><td style=\"text-align: left;\">PMID_36189931_17</td><td style=\"text-align: left;\">INFORMATION</td><td style=\"text-align: left;\">NOT_MEASURED</td><td style=\"text-align: left;\">Varicose veins (HP:0002619) was listed as not measured and will be omitted</td><td style=\"text-align: left;\">not measured: Varicose veins (HP:0002619)</td></tr>\n",
       "<tr><td style=\"text-align: left;\">PMID_36189931_19</td><td style=\"text-align: left;\">INFORMATION</td><td style=\"text-align: left;\">NOT_MEASURED</td><td style=\"text-align: left;\">Varicose veins (HP:0002619) was listed as not measured and will be omitted</td><td style=\"text-align: left;\">not measured: Varicose veins (HP:0002619)</td></tr>\n",
       "<tr><td style=\"text-align: left;\">PMID_36189931_24</td><td style=\"text-align: left;\">INFORMATION</td><td style=\"text-align: left;\">NOT_MEASURED</td><td style=\"text-align: left;\">Varicose veins (HP:0002619) was listed as not measured and will be omitted</td><td style=\"text-align: left;\">not measured: Varicose veins (HP:0002619)</td></tr>\n",
       "<tr><td style=\"text-align: left;\">PMID_36189931_30</td><td style=\"text-align: left;\">INFORMATION</td><td style=\"text-align: left;\">NOT_MEASURED</td><td style=\"text-align: left;\">Varicose veins (HP:0002619) was listed as not measured and will be omitted</td><td style=\"text-align: left;\">not measured: Varicose veins (HP:0002619)</td></tr>\n",
       "<tr><td style=\"text-align: left;\">PMID_36189931_32</td><td style=\"text-align: left;\">INFORMATION</td><td style=\"text-align: left;\">NOT_MEASURED</td><td style=\"text-align: left;\">Varicose veins (HP:0002619) was listed as not measured and will be omitted</td><td style=\"text-align: left;\">not measured: Varicose veins (HP:0002619)</td></tr>\n",
       "</table>"
      ],
      "text/plain": [
       "<IPython.core.display.HTML object>"
      ]
     },
     "metadata": {},
     "output_type": "display_data"
    }
   ],
   "source": [
    "cvalidator = CohortValidator(cohort=individuals, ontology=hpo_ontology, min_hpo=1, allelic_requirement=AllelicRequirement.MONO_ALLELIC)\n",
    "qc = QcVisualizer(ontology=hpo_ontology, cohort_validator=cvalidator)\n",
    "display(HTML(qc.to_html()))"
   ]
  },
  {
   "cell_type": "code",
   "execution_count": 16,
   "id": "8387ba45-993b-44c0-a725-4e03ebe50b2e",
   "metadata": {},
   "outputs": [
    {
     "data": {
      "text/html": [
       "<table style=\"border: 2px solid black; align: \"left\">\n",
       "<caption>35 phenopackets - PMID:36189931 (n=35)</caption>\n",
       "<tr><th style=\"text-align: left;font-weight: bold;\">Individual</th><th style=\"text-align: left;font-weight: bold;\">Disease</th><th style=\"text-align: left;font-weight: bold;\">Genotype</th><th style=\"text-align: left;font-weight: bold;\">Phenotypic features</th></tr>\n",
       "<tr><td style=\"text-align: left;\">1 (FEMALE; P59Y)</td><td style=\"text-align: left;\">Ehlers-Danlos syndrome, vascular type (OMIM:130050)</td><td style=\"text-align: left;\">NM_000090.3:c.547G>A (heterozygous)</td><td style=\"text-align: left;\">Arterial rupture (HP:0025019); Bruising susceptibility (HP:0000978); Dermal translucency (HP:0010648); excluded: Aortic dissection (HP:0002647); excluded: Aortic rupture (HP:0031649); excluded: Arterial dissection (HP:0005294); excluded: Spontaneous pneumothorax (HP:0002108); excluded: Talipes equinovarus (HP:0001762); excluded: Congenital hip dislocation (HP:0001374); excluded: Varicose veins (HP:0002619); excluded: Gingival fragility (HP:0034518); excluded: Tendon rupture (HP:0100550); excluded: Finger joint hypermobility (HP:0006094)</td></tr>\n",
       "<tr><td style=\"text-align: left;\">2 (FEMALE; P29Y)</td><td style=\"text-align: left;\">Ehlers-Danlos syndrome, vascular type (OMIM:130050)</td><td style=\"text-align: left;\">NM_000090.3:c.547G>A (heterozygous)</td><td style=\"text-align: left;\">Arterial dissection (HP:0005294); Bruising susceptibility (HP:0000978); excluded: Aortic dissection (HP:0002647); excluded: Aortic rupture (HP:0031649); excluded: Arterial rupture (HP:0025019); excluded: Uterine rupture (HP:0100718); excluded: Spontaneous pneumothorax (HP:0002108); excluded: Talipes equinovarus (HP:0001762); excluded: Congenital hip dislocation (HP:0001374); excluded: Varicose veins (HP:0002619); excluded: Gingival fragility (HP:0034518); excluded: Tendon rupture (HP:0100550); excluded: Finger joint hypermobility (HP:0006094); excluded: Dermal translucency (HP:0010648)</td></tr>\n",
       "<tr><td style=\"text-align: left;\">3 (MALE; P15D)</td><td style=\"text-align: left;\">Ehlers-Danlos syndrome, vascular type (OMIM:130050)</td><td style=\"text-align: left;\">NM_000090.3:c.556G>A (heterozygous)</td><td style=\"text-align: left;\">Aortic dissection (HP:0002647); Aortic rupture (HP:0031649); excluded: Arterial dissection (HP:0005294); excluded: Arterial rupture (HP:0025019); excluded: Bruising susceptibility (HP:0000978); excluded: Spontaneous pneumothorax (HP:0002108); excluded: Talipes equinovarus (HP:0001762); excluded: Congenital hip dislocation (HP:0001374); excluded: Varicose veins (HP:0002619); excluded: Gingival fragility (HP:0034518); excluded: Tendon rupture (HP:0100550); excluded: Finger joint hypermobility (HP:0006094); excluded: Dermal translucency (HP:0010648)</td></tr>\n",
       "<tr><td style=\"text-align: left;\">4 (FEMALE; P45Y)</td><td style=\"text-align: left;\">Ehlers-Danlos syndrome, vascular type (OMIM:130050)</td><td style=\"text-align: left;\">NM_000090.3:c.565G>C (heterozygous)</td><td style=\"text-align: left;\">Arterial dissection (HP:0005294); Bruising susceptibility (HP:0000978); Dermal translucency (HP:0010648); excluded: Aortic dissection (HP:0002647); excluded: Aortic rupture (HP:0031649); excluded: Arterial rupture (HP:0025019); excluded: Uterine rupture (HP:0100718); excluded: Spontaneous pneumothorax (HP:0002108); excluded: Talipes equinovarus (HP:0001762); excluded: Congenital hip dislocation (HP:0001374); excluded: Varicose veins (HP:0002619); excluded: Gingival fragility (HP:0034518); excluded: Tendon rupture (HP:0100550); excluded: Finger joint hypermobility (HP:0006094)</td></tr>\n",
       "<tr><td style=\"text-align: left;\">5 (FEMALE; P17Y)</td><td style=\"text-align: left;\">Ehlers-Danlos syndrome, vascular type (OMIM:130050)</td><td style=\"text-align: left;\">NM_000090.3:c.583G>A (heterozygous)</td><td style=\"text-align: left;\">Bruising susceptibility (HP:0000978); Finger joint hypermobility (HP:0006094); Dermal translucency (HP:0010648); excluded: Aortic dissection (HP:0002647); excluded: Aortic rupture (HP:0031649); excluded: Arterial dissection (HP:0005294); excluded: Arterial rupture (HP:0025019); excluded: Spontaneous pneumothorax (HP:0002108); excluded: Talipes equinovarus (HP:0001762); excluded: Congenital hip dislocation (HP:0001374); excluded: Varicose veins (HP:0002619); excluded: Gingival fragility (HP:0034518); excluded: Tendon rupture (HP:0100550)</td></tr>\n",
       "<tr><td style=\"text-align: left;\">6 (FEMALE; P54Y)</td><td style=\"text-align: left;\">Ehlers-Danlos syndrome, vascular type (OMIM:130050)</td><td style=\"text-align: left;\">NM_000090.3:c.598C>T (heterozygous)</td><td style=\"text-align: left;\">Arterial dissection (HP:0005294); Bruising susceptibility (HP:0000978); Keratoconus (HP:0000563); Gingival fragility (HP:0034518); Dermal translucency (HP:0010648); excluded: Aortic dissection (HP:0002647); excluded: Aortic rupture (HP:0031649); excluded: Arterial rupture (HP:0025019); excluded: Uterine rupture (HP:0100718); excluded: Spontaneous pneumothorax (HP:0002108); excluded: Talipes equinovarus (HP:0001762); excluded: Congenital hip dislocation (HP:0001374); excluded: Varicose veins (HP:0002619); excluded: Tendon rupture (HP:0100550); excluded: Finger joint hypermobility (HP:0006094)</td></tr>\n",
       "<tr><td style=\"text-align: left;\">7 (FEMALE; P21Y)</td><td style=\"text-align: left;\">Ehlers-Danlos syndrome, vascular type (OMIM:130050)</td><td style=\"text-align: left;\">NM_000090.3:c.659_664del (heterozygous)</td><td style=\"text-align: left;\">Bruising susceptibility (HP:0000978); Talipes equinovarus (HP:0001762); Finger joint hypermobility (HP:0006094); excluded: Aortic dissection (HP:0002647); excluded: Aortic rupture (HP:0031649); excluded: Arterial dissection (HP:0005294); excluded: Arterial rupture (HP:0025019); excluded: Spontaneous pneumothorax (HP:0002108); excluded: Congenital hip dislocation (HP:0001374); excluded: Varicose veins (HP:0002619); excluded: Gingival fragility (HP:0034518); excluded: Tendon rupture (HP:0100550); excluded: Dermal translucency (HP:0010648)</td></tr>\n",
       "<tr><td style=\"text-align: left;\">8 (FEMALE; P34Y)</td><td style=\"text-align: left;\">Ehlers-Danlos syndrome, vascular type (OMIM:130050)</td><td style=\"text-align: left;\">NM_000090.3:c.665G>A (heterozygous)</td><td style=\"text-align: left;\">Aortic dissection (HP:0002647); Arterial dissection (HP:0005294); Bruising susceptibility (HP:0000978); Gingival fragility (HP:0034518); Dermal translucency (HP:0010648); excluded: Aortic rupture (HP:0031649); excluded: Arterial rupture (HP:0025019); excluded: Uterine rupture (HP:0100718); excluded: Spontaneous pneumothorax (HP:0002108); excluded: Talipes equinovarus (HP:0001762); excluded: Congenital hip dislocation (HP:0001374); excluded: Varicose veins (HP:0002619); excluded: Tendon rupture (HP:0100550); excluded: Finger joint hypermobility (HP:0006094)</td></tr>\n",
       "<tr><td style=\"text-align: left;\">9 (MALE; P50Y)</td><td style=\"text-align: left;\">Ehlers-Danlos syndrome, vascular type (OMIM:130050)</td><td style=\"text-align: left;\">NM_000090.3:c.724C>T (heterozygous)</td><td style=\"text-align: left;\">Aortic dissection (HP:0002647); excluded: Aortic rupture (HP:0031649); excluded: Arterial dissection (HP:0005294); excluded: Arterial rupture (HP:0025019); excluded: Bruising susceptibility (HP:0000978); excluded: Spontaneous pneumothorax (HP:0002108); excluded: Talipes equinovarus (HP:0001762); excluded: Congenital hip dislocation (HP:0001374); excluded: Varicose veins (HP:0002619); excluded: Tendon rupture (HP:0100550); excluded: Finger joint hypermobility (HP:0006094); excluded: Dermal translucency (HP:0010648)</td></tr>\n",
       "<tr><td style=\"text-align: left;\">10 (MALE; P27Y)</td><td style=\"text-align: left;\">Ehlers-Danlos syndrome, vascular type (OMIM:130050)</td><td style=\"text-align: left;\">NM_000090.3:c.754G>A (heterozygous)</td><td style=\"text-align: left;\">Aortic dissection (HP:0002647); Spontaneous pneumothorax (HP:0002108); excluded: Aortic rupture (HP:0031649); excluded: Arterial dissection (HP:0005294); excluded: Arterial rupture (HP:0025019)</td></tr>\n",
       "<tr><td style=\"text-align: left;\">11 (FEMALE; P38Y)</td><td style=\"text-align: left;\">Ehlers-Danlos syndrome, vascular type (OMIM:130050)</td><td style=\"text-align: left;\">NM_000090.3:c.755G>A (heterozygous)</td><td style=\"text-align: left;\">Arterial rupture (HP:0025019); Bruising susceptibility (HP:0000978); Spontaneous pneumothorax (HP:0002108); Varicose veins (HP:0002619); Finger joint hypermobility (HP:0006094); Dermal translucency (HP:0010648); excluded: Aortic dissection (HP:0002647); excluded: Aortic rupture (HP:0031649); excluded: Arterial dissection (HP:0005294); excluded: Uterine rupture (HP:0100718); excluded: Talipes equinovarus (HP:0001762); excluded: Congenital hip dislocation (HP:0001374); excluded: Gingival fragility (HP:0034518); excluded: Tendon rupture (HP:0100550)</td></tr>\n",
       "<tr><td style=\"text-align: left;\">12 (MALE; P15D)</td><td style=\"text-align: left;\">Ehlers-Danlos syndrome, vascular type (OMIM:130050)</td><td style=\"text-align: left;\">NM_000090.3:c.763G>T (heterozygous)</td><td style=\"text-align: left;\">Arterial rupture (HP:0025019); Spontaneous pneumothorax (HP:0002108); excluded: Aortic dissection (HP:0002647); excluded: Aortic rupture (HP:0031649); excluded: Arterial dissection (HP:0005294); excluded: Bruising susceptibility (HP:0000978); excluded: Talipes equinovarus (HP:0001762); excluded: Congenital hip dislocation (HP:0001374); excluded: Varicose veins (HP:0002619); excluded: Gingival fragility (HP:0034518); excluded: Tendon rupture (HP:0100550); excluded: Finger joint hypermobility (HP:0006094); excluded: Dermal translucency (HP:0010648)</td></tr>\n",
       "<tr><td style=\"text-align: left;\">13 (FEMALE; P37Y)</td><td style=\"text-align: left;\">Ehlers-Danlos syndrome, vascular type (OMIM:130050)</td><td style=\"text-align: left;\">NM_000090.3:c.848T>A (heterozygous)</td><td style=\"text-align: left;\">Aortic rupture (HP:0031649); Uterine rupture (HP:0100718); Bruising susceptibility (HP:0000978); Gingival fragility (HP:0034518); Tendon rupture (HP:0100550); Dermal translucency (HP:0010648); excluded: Aortic dissection (HP:0002647); excluded: Arterial dissection (HP:0005294); excluded: Arterial rupture (HP:0025019); excluded: Spontaneous pneumothorax (HP:0002108); excluded: Talipes equinovarus (HP:0001762); excluded: Congenital hip dislocation (HP:0001374); excluded: Finger joint hypermobility (HP:0006094)</td></tr>\n",
       "<tr><td style=\"text-align: left;\">14 (MALE; P28Y)</td><td style=\"text-align: left;\">Ehlers-Danlos syndrome, vascular type (OMIM:130050)</td><td style=\"text-align: left;\">NM_000090.3:c.897+2T>G (heterozygous)</td><td style=\"text-align: left;\">Aortic rupture (HP:0031649); Arterial rupture (HP:0025019); Bruising susceptibility (HP:0000978); Spontaneous pneumothorax (HP:0002108); Varicose veins (HP:0002619); Gingival fragility (HP:0034518); Finger joint hypermobility (HP:0006094); Dermal translucency (HP:0010648); excluded: Aortic dissection (HP:0002647); excluded: Arterial dissection (HP:0005294); excluded: Talipes equinovarus (HP:0001762); excluded: Congenital hip dislocation (HP:0001374); excluded: Tendon rupture (HP:0100550)</td></tr>\n",
       "<tr><td style=\"text-align: left;\">15 (MALE; P8Y)</td><td style=\"text-align: left;\">Ehlers-Danlos syndrome, vascular type (OMIM:130050)</td><td style=\"text-align: left;\">NM_000090.3:c.897+2T>A (heterozygous)</td><td style=\"text-align: left;\">Bruising susceptibility (HP:0000978); Finger joint hypermobility (HP:0006094); Dermal translucency (HP:0010648); excluded: Aortic dissection (HP:0002647); excluded: Aortic rupture (HP:0031649); excluded: Arterial dissection (HP:0005294); excluded: Arterial rupture (HP:0025019); excluded: Spontaneous pneumothorax (HP:0002108); excluded: Talipes equinovarus (HP:0001762); excluded: Congenital hip dislocation (HP:0001374); excluded: Varicose veins (HP:0002619); excluded: Gingival fragility (HP:0034518); excluded: Tendon rupture (HP:0100550)</td></tr>\n",
       "<tr><td style=\"text-align: left;\">16 (FEMALE; P25Y)</td><td style=\"text-align: left;\">Ehlers-Danlos syndrome, vascular type (OMIM:130050)</td><td style=\"text-align: left;\">NM_000090.3:c.951+5G>C (heterozygous)</td><td style=\"text-align: left;\">Arterial dissection (HP:0005294); Arterial rupture (HP:0025019); Bruising susceptibility (HP:0000978); Spontaneous pneumothorax (HP:0002108); Dermal translucency (HP:0010648); excluded: Aortic dissection (HP:0002647); excluded: Aortic rupture (HP:0031649); excluded: Uterine rupture (HP:0100718); excluded: Talipes equinovarus (HP:0001762); excluded: Congenital hip dislocation (HP:0001374); excluded: Varicose veins (HP:0002619); excluded: Gingival fragility (HP:0034518); excluded: Tendon rupture (HP:0100550); excluded: Finger joint hypermobility (HP:0006094)</td></tr>\n",
       "<tr><td style=\"text-align: left;\">17 (MALE; P39Y)</td><td style=\"text-align: left;\">Ehlers-Danlos syndrome, vascular type (OMIM:130050)</td><td style=\"text-align: left;\">NM_000090.3:c.1194+1G>A (heterozygous)</td><td style=\"text-align: left;\">Arterial rupture (HP:0025019); Bruising susceptibility (HP:0000978); Spontaneous pneumothorax (HP:0002108); Gingival fragility (HP:0034518); Finger joint hypermobility (HP:0006094); Dermal translucency (HP:0010648); excluded: Aortic dissection (HP:0002647); excluded: Aortic rupture (HP:0031649); excluded: Arterial dissection (HP:0005294); excluded: Talipes equinovarus (HP:0001762); excluded: Congenital hip dislocation (HP:0001374); excluded: Tendon rupture (HP:0100550)</td></tr>\n",
       "<tr><td style=\"text-align: left;\">18 (MALE; P32Y)</td><td style=\"text-align: left;\">Ehlers-Danlos syndrome, vascular type (OMIM:130050)</td><td style=\"text-align: left;\">NM_000090.3:c.1330G>A (heterozygous)</td><td style=\"text-align: left;\">Bruising susceptibility (HP:0000978); Spontaneous pneumothorax (HP:0002108); Talipes equinovarus (HP:0001762); Finger joint hypermobility (HP:0006094); Dermal translucency (HP:0010648); excluded: Aortic dissection (HP:0002647); excluded: Aortic rupture (HP:0031649); excluded: Arterial dissection (HP:0005294); excluded: Arterial rupture (HP:0025019); excluded: Congenital hip dislocation (HP:0001374); excluded: Varicose veins (HP:0002619); excluded: Gingival fragility (HP:0034518); excluded: Tendon rupture (HP:0100550)</td></tr>\n",
       "<tr><td style=\"text-align: left;\">19 (FEMALE; P55Y)</td><td style=\"text-align: left;\">Ehlers-Danlos syndrome, vascular type (OMIM:130050)</td><td style=\"text-align: left;\">NM_000090.3:c.1346G>T (heterozygous)</td><td style=\"text-align: left;\">Arterial rupture (HP:0025019); Bruising susceptibility (HP:0000978); Gingival fragility (HP:0034518); Finger joint hypermobility (HP:0006094); Dermal translucency (HP:0010648); excluded: Aortic dissection (HP:0002647); excluded: Aortic rupture (HP:0031649); excluded: Arterial dissection (HP:0005294); excluded: Spontaneous pneumothorax (HP:0002108); excluded: Talipes equinovarus (HP:0001762); excluded: Congenital hip dislocation (HP:0001374); excluded: Tendon rupture (HP:0100550)</td></tr>\n",
       "<tr><td style=\"text-align: left;\">20 (FEMALE; P38Y)</td><td style=\"text-align: left;\">Ehlers-Danlos syndrome, vascular type (OMIM:130050)</td><td style=\"text-align: left;\">NM_000090.3:c.1546G>T (heterozygous)</td><td style=\"text-align: left;\">Aortic dissection (HP:0002647); Arterial dissection (HP:0005294); Arterial rupture (HP:0025019); Bruising susceptibility (HP:0000978); Dermal translucency (HP:0010648); excluded: Aortic rupture (HP:0031649); excluded: Uterine rupture (HP:0100718); excluded: Spontaneous pneumothorax (HP:0002108); excluded: Talipes equinovarus (HP:0001762); excluded: Congenital hip dislocation (HP:0001374); excluded: Varicose veins (HP:0002619); excluded: Gingival fragility (HP:0034518); excluded: Tendon rupture (HP:0100550); excluded: Finger joint hypermobility (HP:0006094)</td></tr>\n",
       "<tr><td style=\"text-align: left;\">21 (FEMALE; P42Y)</td><td style=\"text-align: left;\">Ehlers-Danlos syndrome, vascular type (OMIM:130050)</td><td style=\"text-align: left;\">NM_000090.3:c.1662+1G>A (heterozygous)</td><td style=\"text-align: left;\">Bruising susceptibility (HP:0000978); Finger joint hypermobility (HP:0006094); excluded: Aortic dissection (HP:0002647); excluded: Aortic rupture (HP:0031649); excluded: Arterial dissection (HP:0005294); excluded: Arterial rupture (HP:0025019); excluded: Uterine rupture (HP:0100718); excluded: Spontaneous pneumothorax (HP:0002108); excluded: Talipes equinovarus (HP:0001762); excluded: Congenital hip dislocation (HP:0001374); excluded: Varicose veins (HP:0002619); excluded: Gingival fragility (HP:0034518); excluded: Tendon rupture (HP:0100550); excluded: Dermal translucency (HP:0010648)</td></tr>\n",
       "<tr><td style=\"text-align: left;\">22 (FEMALE; P30Y)</td><td style=\"text-align: left;\">Ehlers-Danlos syndrome, vascular type (OMIM:130050)</td><td style=\"text-align: left;\">NM_000090.3:c.1862G>A (heterozygous)</td><td style=\"text-align: left;\">Arterial dissection (HP:0005294); Bruising susceptibility (HP:0000978); Finger joint hypermobility (HP:0006094); Dermal translucency (HP:0010648); excluded: Aortic dissection (HP:0002647); excluded: Aortic rupture (HP:0031649); excluded: Arterial rupture (HP:0025019); excluded: Spontaneous pneumothorax (HP:0002108); excluded: Talipes equinovarus (HP:0001762); excluded: Congenital hip dislocation (HP:0001374); excluded: Varicose veins (HP:0002619); excluded: Gingival fragility (HP:0034518); excluded: Tendon rupture (HP:0100550)</td></tr>\n",
       "<tr><td style=\"text-align: left;\">23 (FEMALE; P65Y)</td><td style=\"text-align: left;\">Ehlers-Danlos syndrome, vascular type (OMIM:130050)</td><td style=\"text-align: left;\">NM_000090.3:c.1977+5G>C (heterozygous)</td><td style=\"text-align: left;\">Aortic dissection (HP:0002647); Arterial dissection (HP:0005294); Bruising susceptibility (HP:0000978); Varicose veins (HP:0002619); Finger joint hypermobility (HP:0006094); Dermal translucency (HP:0010648); excluded: Aortic rupture (HP:0031649); excluded: Arterial rupture (HP:0025019); excluded: Uterine rupture (HP:0100718); excluded: Spontaneous pneumothorax (HP:0002108)</td></tr>\n",
       "<tr><td style=\"text-align: left;\">24 (FEMALE; P48Y)</td><td style=\"text-align: left;\">Ehlers-Danlos syndrome, vascular type (OMIM:130050)</td><td style=\"text-align: left;\">NM_000090.3:c.2134_2160del (heterozygous)</td><td style=\"text-align: left;\">Aortic dissection (HP:0002647); Arterial rupture (HP:0025019); Bruising susceptibility (HP:0000978); Spontaneous pneumothorax (HP:0002108); Gingival fragility (HP:0034518); Finger joint hypermobility (HP:0006094); Dermal translucency (HP:0010648); excluded: Aortic rupture (HP:0031649); excluded: Arterial dissection (HP:0005294); excluded: Talipes equinovarus (HP:0001762); excluded: Congenital hip dislocation (HP:0001374); excluded: Tendon rupture (HP:0100550)</td></tr>\n",
       "<tr><td style=\"text-align: left;\">25 (FEMALE; P16Y)</td><td style=\"text-align: left;\">Ehlers-Danlos syndrome, vascular type (OMIM:130050)</td><td style=\"text-align: left;\">NM_000090.3:c.2283+5G>T (heterozygous)</td><td style=\"text-align: left;\">Spontaneous pneumothorax (HP:0002108); Finger joint hypermobility (HP:0006094); Dermal translucency (HP:0010648); excluded: Aortic dissection (HP:0002647); excluded: Aortic rupture (HP:0031649); excluded: Arterial dissection (HP:0005294); excluded: Arterial rupture (HP:0025019); excluded: Bruising susceptibility (HP:0000978); excluded: Talipes equinovarus (HP:0001762); excluded: Congenital hip dislocation (HP:0001374); excluded: Varicose veins (HP:0002619); excluded: Gingival fragility (HP:0034518); excluded: Tendon rupture (HP:0100550)</td></tr>\n",
       "<tr><td style=\"text-align: left;\">26 (FEMALE; P31Y)</td><td style=\"text-align: left;\">Ehlers-Danlos syndrome, vascular type (OMIM:130050)</td><td style=\"text-align: left;\">NM_000090.3:c.2356G>A (heterozygous)</td><td style=\"text-align: left;\">Bruising susceptibility (HP:0000978); Spontaneous pneumothorax (HP:0002108); Finger joint hypermobility (HP:0006094); Dermal translucency (HP:0010648); excluded: Aortic dissection (HP:0002647); excluded: Aortic rupture (HP:0031649); excluded: Arterial dissection (HP:0005294); excluded: Arterial rupture (HP:0025019); excluded: Talipes equinovarus (HP:0001762); excluded: Congenital hip dislocation (HP:0001374); excluded: Varicose veins (HP:0002619); excluded: Gingival fragility (HP:0034518); excluded: Tendon rupture (HP:0100550)</td></tr>\n",
       "<tr><td style=\"text-align: left;\">27 (MALE; P33Y)</td><td style=\"text-align: left;\">Ehlers-Danlos syndrome, vascular type (OMIM:130050)</td><td style=\"text-align: left;\">NM_000090.3:c.2357G>A (heterozygous)</td><td style=\"text-align: left;\">Arterial dissection (HP:0005294); excluded: Aortic dissection (HP:0002647); excluded: Aortic rupture (HP:0031649); excluded: Arterial rupture (HP:0025019); excluded: Bruising susceptibility (HP:0000978); excluded: Spontaneous pneumothorax (HP:0002108); excluded: Talipes equinovarus (HP:0001762); excluded: Congenital hip dislocation (HP:0001374); excluded: Varicose veins (HP:0002619); excluded: Gingival fragility (HP:0034518); excluded: Tendon rupture (HP:0100550); excluded: Finger joint hypermobility (HP:0006094); excluded: Dermal translucency (HP:0010648)</td></tr>\n",
       "<tr><td style=\"text-align: left;\">28 (MALE; P43Y)</td><td style=\"text-align: left;\">Ehlers-Danlos syndrome, vascular type (OMIM:130050)</td><td style=\"text-align: left;\">NM_000090.3:c.2518G>A (heterozygous)</td><td style=\"text-align: left;\">Arterial rupture (HP:0025019); Bruising susceptibility (HP:0000978); Spontaneous pneumothorax (HP:0002108); Talipes equinovarus (HP:0001762); Finger joint hypermobility (HP:0006094); excluded: Aortic dissection (HP:0002647); excluded: Aortic rupture (HP:0031649); excluded: Arterial dissection (HP:0005294); excluded: Congenital hip dislocation (HP:0001374); excluded: Varicose veins (HP:0002619); excluded: Gingival fragility (HP:0034518); excluded: Tendon rupture (HP:0100550); excluded: Dermal translucency (HP:0010648)</td></tr>\n",
       "<tr><td style=\"text-align: left;\">29 (MALE; P25Y)</td><td style=\"text-align: left;\">Ehlers-Danlos syndrome, vascular type (OMIM:130050)</td><td style=\"text-align: left;\">NM_000090.3:c.2815G>A (heterozygous)</td><td style=\"text-align: left;\">Arterial dissection (HP:0005294); Bruising susceptibility (HP:0000978); Finger joint hypermobility (HP:0006094); excluded: Aortic dissection (HP:0002647); excluded: Aortic rupture (HP:0031649); excluded: Arterial rupture (HP:0025019); excluded: Spontaneous pneumothorax (HP:0002108); excluded: Talipes equinovarus (HP:0001762); excluded: Congenital hip dislocation (HP:0001374); excluded: Varicose veins (HP:0002619); excluded: Gingival fragility (HP:0034518); excluded: Tendon rupture (HP:0100550); excluded: Dermal translucency (HP:0010648)</td></tr>\n",
       "<tr><td style=\"text-align: left;\">30 (MALE; P26D)</td><td style=\"text-align: left;\">Ehlers-Danlos syndrome, vascular type (OMIM:130050)</td><td style=\"text-align: left;\">NM_000090.3:c.2869G>A (heterozygous)</td><td style=\"text-align: left;\">Arterial rupture (HP:0025019); Bruising susceptibility (HP:0000978); excluded: Aortic dissection (HP:0002647); excluded: Aortic rupture (HP:0031649); excluded: Arterial dissection (HP:0005294); excluded: Spontaneous pneumothorax (HP:0002108); excluded: Tendon rupture (HP:0100550)</td></tr>\n",
       "<tr><td style=\"text-align: left;\">31 (MALE; P24Y)</td><td style=\"text-align: left;\">Ehlers-Danlos syndrome, vascular type (OMIM:130050)</td><td style=\"text-align: left;\">NM_000090.3:c.2870G>T (heterozygous)</td><td style=\"text-align: left;\">Spontaneous pneumothorax (HP:0002108); Finger joint hypermobility (HP:0006094); Dermal translucency (HP:0010648); excluded: Aortic dissection (HP:0002647); excluded: Aortic rupture (HP:0031649); excluded: Arterial dissection (HP:0005294); excluded: Arterial rupture (HP:0025019); excluded: Bruising susceptibility (HP:0000978); excluded: Talipes equinovarus (HP:0001762); excluded: Congenital hip dislocation (HP:0001374); excluded: Varicose veins (HP:0002619); excluded: Gingival fragility (HP:0034518); excluded: Tendon rupture (HP:0100550)</td></tr>\n",
       "<tr><td style=\"text-align: left;\">32 (FEMALE; P49Y)</td><td style=\"text-align: left;\">Ehlers-Danlos syndrome, vascular type (OMIM:130050)</td><td style=\"text-align: left;\">NM_000090.3:c.3256G>C (heterozygous)</td><td style=\"text-align: left;\">Bruising susceptibility (HP:0000978); Congenital hip dislocation (HP:0001374); Gingival fragility (HP:0034518); Tendon rupture (HP:0100550); Finger joint hypermobility (HP:0006094); Dermal translucency (HP:0010648); excluded: Aortic dissection (HP:0002647); excluded: Aortic rupture (HP:0031649); excluded: Arterial dissection (HP:0005294); excluded: Arterial rupture (HP:0025019); excluded: Spontaneous pneumothorax (HP:0002108); excluded: Talipes equinovarus (HP:0001762)</td></tr>\n",
       "<tr><td style=\"text-align: left;\">33 (MALE; P17Y)</td><td style=\"text-align: left;\">Ehlers-Danlos syndrome, vascular type (OMIM:130050)</td><td style=\"text-align: left;\">NM_000090.3:c.3338G>A (heterozygous)</td><td style=\"text-align: left;\">Arterial rupture (HP:0025019); Spontaneous pneumothorax (HP:0002108); Tendon rupture (HP:0100550); excluded: Aortic dissection (HP:0002647); excluded: Aortic rupture (HP:0031649); excluded: Arterial dissection (HP:0005294); excluded: Bruising susceptibility (HP:0000978); excluded: Talipes equinovarus (HP:0001762); excluded: Congenital hip dislocation (HP:0001374); excluded: Varicose veins (HP:0002619); excluded: Gingival fragility (HP:0034518); excluded: Finger joint hypermobility (HP:0006094); excluded: Dermal translucency (HP:0010648)</td></tr>\n",
       "<tr><td style=\"text-align: left;\">34 (FEMALE; P53Y)</td><td style=\"text-align: left;\">Ehlers-Danlos syndrome, vascular type (OMIM:130050)</td><td style=\"text-align: left;\">NM_000090.3:c.3525+1G>A (heterozygous)</td><td style=\"text-align: left;\">Bruising susceptibility (HP:0000978); Varicose veins (HP:0002619); Gingival fragility (HP:0034518); Tendon rupture (HP:0100550); Dermal translucency (HP:0010648); excluded: Aortic dissection (HP:0002647); excluded: Aortic rupture (HP:0031649); excluded: Arterial dissection (HP:0005294); excluded: Arterial rupture (HP:0025019); excluded: Uterine rupture (HP:0100718); excluded: Spontaneous pneumothorax (HP:0002108); excluded: Talipes equinovarus (HP:0001762); excluded: Congenital hip dislocation (HP:0001374); excluded: Finger joint hypermobility (HP:0006094)</td></tr>\n",
       "<tr><td style=\"text-align: left;\">35 (MALE; P24Y)</td><td style=\"text-align: left;\">Ehlers-Danlos syndrome, vascular type (OMIM:130050)</td><td style=\"text-align: left;\">ex. 24–33 deletion: chromosomal_deletion (SO:1000029)</td><td style=\"text-align: left;\">Bruising susceptibility (HP:0000978); Spontaneous pneumothorax (HP:0002108); Talipes equinovarus (HP:0001762); Finger joint hypermobility (HP:0006094); Dermal translucency (HP:0010648); excluded: Aortic dissection (HP:0002647); excluded: Aortic rupture (HP:0031649); excluded: Arterial dissection (HP:0005294); excluded: Arterial rupture (HP:0025019); excluded: Congenital hip dislocation (HP:0001374); excluded: Varicose veins (HP:0002619); excluded: Gingival fragility (HP:0034518); excluded: Tendon rupture (HP:0100550)</td></tr>\n",
       "</table>"
      ],
      "text/plain": [
       "<IPython.core.display.HTML object>"
      ]
     },
     "metadata": {},
     "output_type": "display_data"
    }
   ],
   "source": [
    "individuals = cvalidator.get_error_free_individual_list()\n",
    "table = PhenopacketTable(individual_list=individuals, metadata=metadata)\n",
    "display(HTML(table.to_html()))"
   ]
  },
  {
   "cell_type": "code",
   "execution_count": 17,
   "id": "33a1affc-7592-443f-8b10-18438c7da1f2",
   "metadata": {},
   "outputs": [
    {
     "name": "stdout",
     "output_type": "stream",
     "text": [
      "We output 35 GA4GH phenopackets to the directory phenopackets\n"
     ]
    }
   ],
   "source": [
    "Individual.output_individuals_as_phenopackets(individual_list=individuals,\n",
    "                                              metadata=metadata,\n",
    "                                              outdir=\"phenopackets\")"
   ]
  },
  {
   "cell_type": "code",
   "execution_count": null,
   "id": "ae6a0c9e-ad2b-46cd-96e1-0edea51b8ce6",
   "metadata": {},
   "outputs": [],
   "source": []
  }
 ],
 "metadata": {
  "kernelspec": {
   "display_name": "pstore_env",
   "language": "python",
   "name": "pstore_env"
  },
  "language_info": {
   "codemirror_mode": {
    "name": "ipython",
    "version": 3
   },
   "file_extension": ".py",
   "mimetype": "text/x-python",
   "name": "python",
   "nbconvert_exporter": "python",
   "pygments_lexer": "ipython3",
   "version": "3.11.3"
  }
 },
 "nbformat": 4,
 "nbformat_minor": 5
}
