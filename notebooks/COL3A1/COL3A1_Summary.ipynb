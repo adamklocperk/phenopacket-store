{
 "cells": [
  {
   "cell_type": "markdown",
   "id": "56a2fc73-94c0-4399-8b50-e3072ec28a81",
   "metadata": {},
   "source": [
    "<H1>COL3A1 phenopackets</H1>"
   ]
  },
  {
   "cell_type": "code",
   "execution_count": 10,
   "id": "d9a2f288-6a4c-4a09-8b09-7394ca456007",
   "metadata": {},
   "outputs": [
    {
     "name": "stdout",
     "output_type": "stream",
     "text": [
      "pyphetools version 0.8.20\n"
     ]
    }
   ],
   "source": [
    "import phenopackets as php\n",
    "from google.protobuf.json_format import MessageToDict, MessageToJson\n",
    "from google.protobuf.json_format import Parse, ParseDict\n",
    "import pandas as pd\n",
    "import hpotk\n",
    "from hpotk.ontology import Ontology\n",
    "from hpotk.ontology.load.obographs import load_ontology\n",
    "from csv import DictReader\n",
    "pd.set_option('display.max_colwidth', None) # show entire column contents, important!\n",
    "from IPython.display import HTML, display\n",
    "import pyphetools\n",
    "from pyphetools.creation import *\n",
    "from pyphetools.visualization import *\n",
    "from pyphetools.validation import ContentValidator\n",
    "print(f\"pyphetools version {pyphetools.__version__}\")"
   ]
  },
  {
   "cell_type": "code",
   "execution_count": 8,
   "id": "838ee42d-e1e1-443d-9ac6-6b2a659f0b72",
   "metadata": {},
   "outputs": [],
   "source": [
    "hpo: Ontology = load_ontology('hpo_data/hp.json')"
   ]
  },
  {
   "cell_type": "code",
   "execution_count": 9,
   "id": "498604e4-32e1-44b5-b2ea-abbdcd990a94",
   "metadata": {},
   "outputs": [
    {
     "name": "stdout",
     "output_type": "stream",
     "text": [
      "[pyphetools] Ingested 39 GA4GH phenopackets.\n"
     ]
    }
   ],
   "source": [
    "ingestor = PhenopacketIngestor(indir=\"phenopackets\")"
   ]
  },
  {
   "cell_type": "code",
   "execution_count": 12,
   "id": "d1ac3b53-2f45-41be-aa5b-747584ca7720",
   "metadata": {},
   "outputs": [
    {
     "data": {
      "text/html": [
       "<table style=\"border: 2px solid black; align: \"left\">\n",
       "<caption>39 phenopackets - PMID:36189931 (n=35); PMID:28258187 (n=4)</caption>\n",
       "<tr><th style=\"text-align: left;font-weight: bold;\">Individual</th><th style=\"text-align: left;font-weight: bold;\">Disease</th><th style=\"text-align: left;font-weight: bold;\">Genotype</th><th style=\"text-align: left;font-weight: bold;\">Phenotypic features</th></tr>\n",
       "<tr><td style=\"text-align: left;\">11 (FEMALE; P38Y)</td><td style=\"text-align: left;\">Ehlers-Danlos syndrome, vascular type (OMIM:130050)</td><td style=\"text-align: left;\">NM_000090.3:c.755G>A (heterozygous)</td><td style=\"text-align: left;\">excluded: Aortic dissection (HP:0002647); excluded: Aortic rupture (HP:0031649); excluded: Arterial dissection (HP:0005294); Arterial rupture (HP:0025019); excluded: Uterine rupture (HP:0100718); Bruising susceptibility (HP:0000978); Spontaneous pneumothorax (HP:0002108); excluded: Talipes equinovarus (HP:0001762); excluded: Congenital hip dislocation (HP:0001374); Varicose veins (HP:0002619); excluded: Gingival fragility (HP:0034518); excluded: Tendon rupture (HP:0100550); Finger joint hypermobility (HP:0006094); Dermal translucency (HP:0010648)</td></tr>\n",
       "<tr><td style=\"text-align: left;\">Patient 4 (FEMALE; P19Y)</td><td style=\"text-align: left;\">Polymicrogyria with or without vascular-type EDS (OMIM:618343)</td><td style=\"text-align: left;\"><ul> <li>NM_000090.3:c.1786C>T (heterozygous)</li> <li>NM_000090.3:c.3851G>A (heterozygous)</li> </ul></td><td style=\"text-align: left;\">Bruising susceptibility (HP:0000978); Dermal translucency (HP:0010648); Arterial dissection (HP:0005294); Renal cortical cysts (HP:0000803); Joint hypermobility (HP:0001382); Tendon rupture (HP:0100550); Slender finger (HP:0001238); Polymicrogyria (HP:0002126); Dilation of Virchow-Robin spaces (HP:0012520); Cerebellar vermis hypoplasia (HP:0001320); Enlarged cisterna magna (HP:0002280); Carotid artery dilatation (HP:0012163); Carotid artery stenosis (HP:0100546)</td></tr>\n",
       "<tr><td style=\"text-align: left;\">27 (MALE; P33Y)</td><td style=\"text-align: left;\">Ehlers-Danlos syndrome, vascular type (OMIM:130050)</td><td style=\"text-align: left;\">NM_000090.3:c.2357G>A (heterozygous)</td><td style=\"text-align: left;\">excluded: Aortic dissection (HP:0002647); excluded: Aortic rupture (HP:0031649); Arterial dissection (HP:0005294); excluded: Arterial rupture (HP:0025019); excluded: Bruising susceptibility (HP:0000978); excluded: Spontaneous pneumothorax (HP:0002108); excluded: Talipes equinovarus (HP:0001762); excluded: Congenital hip dislocation (HP:0001374); excluded: Varicose veins (HP:0002619); excluded: Gingival fragility (HP:0034518); excluded: Tendon rupture (HP:0100550); excluded: Finger joint hypermobility (HP:0006094); excluded: Dermal translucency (HP:0010648)</td></tr>\n",
       "<tr><td style=\"text-align: left;\">31 (MALE; P24Y)</td><td style=\"text-align: left;\">Ehlers-Danlos syndrome, vascular type (OMIM:130050)</td><td style=\"text-align: left;\">NM_000090.3:c.2870G>T (heterozygous)</td><td style=\"text-align: left;\">excluded: Aortic dissection (HP:0002647); excluded: Aortic rupture (HP:0031649); excluded: Arterial dissection (HP:0005294); excluded: Arterial rupture (HP:0025019); excluded: Bruising susceptibility (HP:0000978); Spontaneous pneumothorax (HP:0002108); excluded: Talipes equinovarus (HP:0001762); excluded: Congenital hip dislocation (HP:0001374); excluded: Varicose veins (HP:0002619); excluded: Gingival fragility (HP:0034518); excluded: Tendon rupture (HP:0100550); Finger joint hypermobility (HP:0006094); Dermal translucency (HP:0010648)</td></tr>\n",
       "<tr><td style=\"text-align: left;\">30 (MALE; P26D)</td><td style=\"text-align: left;\">Ehlers-Danlos syndrome, vascular type (OMIM:130050)</td><td style=\"text-align: left;\">NM_000090.3:c.2869G>A (heterozygous)</td><td style=\"text-align: left;\">excluded: Aortic dissection (HP:0002647); excluded: Aortic rupture (HP:0031649); excluded: Arterial dissection (HP:0005294); Arterial rupture (HP:0025019); Bruising susceptibility (HP:0000978); excluded: Spontaneous pneumothorax (HP:0002108); excluded: Tendon rupture (HP:0100550)</td></tr>\n",
       "<tr><td style=\"text-align: left;\">26 (FEMALE; P31Y)</td><td style=\"text-align: left;\">Ehlers-Danlos syndrome, vascular type (OMIM:130050)</td><td style=\"text-align: left;\">NM_000090.3:c.2356G>A (heterozygous)</td><td style=\"text-align: left;\">excluded: Aortic dissection (HP:0002647); excluded: Aortic rupture (HP:0031649); excluded: Arterial dissection (HP:0005294); excluded: Arterial rupture (HP:0025019); Bruising susceptibility (HP:0000978); Spontaneous pneumothorax (HP:0002108); excluded: Talipes equinovarus (HP:0001762); excluded: Congenital hip dislocation (HP:0001374); excluded: Varicose veins (HP:0002619); excluded: Gingival fragility (HP:0034518); excluded: Tendon rupture (HP:0100550); Finger joint hypermobility (HP:0006094); Dermal translucency (HP:0010648)</td></tr>\n",
       "<tr><td style=\"text-align: left;\">1 (FEMALE; P59Y)</td><td style=\"text-align: left;\">Ehlers-Danlos syndrome, vascular type (OMIM:130050)</td><td style=\"text-align: left;\">NM_000090.3:c.547G>A (heterozygous)</td><td style=\"text-align: left;\">excluded: Aortic dissection (HP:0002647); excluded: Aortic rupture (HP:0031649); excluded: Arterial dissection (HP:0005294); Arterial rupture (HP:0025019); Bruising susceptibility (HP:0000978); excluded: Spontaneous pneumothorax (HP:0002108); excluded: Talipes equinovarus (HP:0001762); excluded: Congenital hip dislocation (HP:0001374); excluded: Varicose veins (HP:0002619); excluded: Gingival fragility (HP:0034518); excluded: Tendon rupture (HP:0100550); excluded: Finger joint hypermobility (HP:0006094); Dermal translucency (HP:0010648)</td></tr>\n",
       "<tr><td style=\"text-align: left;\">10 (MALE; P27Y)</td><td style=\"text-align: left;\">Ehlers-Danlos syndrome, vascular type (OMIM:130050)</td><td style=\"text-align: left;\">NM_000090.3:c.754G>A (heterozygous)</td><td style=\"text-align: left;\">Aortic dissection (HP:0002647); excluded: Aortic rupture (HP:0031649); excluded: Arterial dissection (HP:0005294); excluded: Arterial rupture (HP:0025019); Spontaneous pneumothorax (HP:0002108)</td></tr>\n",
       "<tr><td style=\"text-align: left;\">21 (FEMALE; P42Y)</td><td style=\"text-align: left;\">Ehlers-Danlos syndrome, vascular type (OMIM:130050)</td><td style=\"text-align: left;\">NM_000090.3:c.1662+1G>A (heterozygous)</td><td style=\"text-align: left;\">excluded: Aortic dissection (HP:0002647); excluded: Aortic rupture (HP:0031649); excluded: Arterial dissection (HP:0005294); excluded: Arterial rupture (HP:0025019); excluded: Uterine rupture (HP:0100718); Bruising susceptibility (HP:0000978); excluded: Spontaneous pneumothorax (HP:0002108); excluded: Talipes equinovarus (HP:0001762); excluded: Congenital hip dislocation (HP:0001374); excluded: Varicose veins (HP:0002619); excluded: Gingival fragility (HP:0034518); excluded: Tendon rupture (HP:0100550); Finger joint hypermobility (HP:0006094); excluded: Dermal translucency (HP:0010648)</td></tr>\n",
       "<tr><td style=\"text-align: left;\">17 (MALE; P39Y)</td><td style=\"text-align: left;\">Ehlers-Danlos syndrome, vascular type (OMIM:130050)</td><td style=\"text-align: left;\">NM_000090.3:c.1194+1G>A (heterozygous)</td><td style=\"text-align: left;\">excluded: Aortic dissection (HP:0002647); excluded: Aortic rupture (HP:0031649); excluded: Arterial dissection (HP:0005294); Arterial rupture (HP:0025019); Bruising susceptibility (HP:0000978); Spontaneous pneumothorax (HP:0002108); excluded: Talipes equinovarus (HP:0001762); excluded: Congenital hip dislocation (HP:0001374); Gingival fragility (HP:0034518); excluded: Tendon rupture (HP:0100550); Finger joint hypermobility (HP:0006094); Dermal translucency (HP:0010648)</td></tr>\n",
       "<tr><td style=\"text-align: left;\">Patient 2 (MALE; P3Y6M)</td><td style=\"text-align: left;\">Polymicrogyria with or without vascular-type EDS (OMIM:618343)</td><td style=\"text-align: left;\">NM_000090.3:c.145C>G (homozygous)</td><td style=\"text-align: left;\">Abnormal cerebellar cortex morphology (HP:0031422); Renal cortical cysts (HP:0000803); Global developmental delay (HP:0001263); Absent speech (HP:0001344); Macrocephaly (HP:0000256); Seizure (HP:0001250); Dysgyria with thickened cortex (HP:0032400); Cerebral hypomyelination (HP:0006808); Dilation of Virchow-Robin spaces (HP:0012520); Lateral ventricle dilatation (HP:0006956); Dilated third ventricle (HP:0007082); Abnormal brainstem morphology (HP:0002363); Abnormal length of corpus callosum (HP:0200011); Cerebellar vermis hypoplasia (HP:0001320); Enlarged cisterna magna (HP:0002280); Arachnoid cyst (HP:0100702)</td></tr>\n",
       "<tr><td style=\"text-align: left;\">6 (FEMALE; P54Y)</td><td style=\"text-align: left;\">Ehlers-Danlos syndrome, vascular type (OMIM:130050)</td><td style=\"text-align: left;\">NM_000090.3:c.598C>T (heterozygous)</td><td style=\"text-align: left;\">excluded: Aortic dissection (HP:0002647); excluded: Aortic rupture (HP:0031649); Arterial dissection (HP:0005294); excluded: Arterial rupture (HP:0025019); excluded: Uterine rupture (HP:0100718); Bruising susceptibility (HP:0000978); excluded: Spontaneous pneumothorax (HP:0002108); excluded: Talipes equinovarus (HP:0001762); excluded: Congenital hip dislocation (HP:0001374); Keratoconus (HP:0000563); excluded: Varicose veins (HP:0002619); Gingival fragility (HP:0034518); excluded: Tendon rupture (HP:0100550); excluded: Finger joint hypermobility (HP:0006094); Dermal translucency (HP:0010648)</td></tr>\n",
       "<tr><td style=\"text-align: left;\">7 (FEMALE; P21Y)</td><td style=\"text-align: left;\">Ehlers-Danlos syndrome, vascular type (OMIM:130050)</td><td style=\"text-align: left;\">NM_000090.3:c.659_664del (heterozygous)</td><td style=\"text-align: left;\">excluded: Aortic dissection (HP:0002647); excluded: Aortic rupture (HP:0031649); excluded: Arterial dissection (HP:0005294); excluded: Arterial rupture (HP:0025019); Bruising susceptibility (HP:0000978); excluded: Spontaneous pneumothorax (HP:0002108); Talipes equinovarus (HP:0001762); excluded: Congenital hip dislocation (HP:0001374); excluded: Varicose veins (HP:0002619); excluded: Gingival fragility (HP:0034518); excluded: Tendon rupture (HP:0100550); Finger joint hypermobility (HP:0006094); excluded: Dermal translucency (HP:0010648)</td></tr>\n",
       "<tr><td style=\"text-align: left;\">Patient 3 (FEMALE; P10Y)</td><td style=\"text-align: left;\">Polymicrogyria with or without vascular-type EDS (OMIM:618343)</td><td style=\"text-align: left;\"><ul> <li>NM_000090.3:c.479dup (heterozygous)</li> <li>NM_000090.3:c.479dup (heterozygous)</li> </ul></td><td style=\"text-align: left;\">Bruising susceptibility (HP:0000978); Abnormal arterial physiology (HP:0025323); Renal cortical cysts (HP:0000803); Varicose veins (HP:0002619); Joint hypermobility (HP:0001382); Pulmonic stenosis (HP:0001642); Atrophic scars (HP:0001075); Gingival recession (HP:0030816); Talipes equinovarus (HP:0001762); Motor delay (HP:0001270); Typical absence seizure (HP:0011147); Dysgyria with thickened cortex (HP:0032400); Polymicrogyria (HP:0002126); Dilation of Virchow-Robin spaces (HP:0012520); Lateral ventricle dilatation (HP:0006956); Dilated third ventricle (HP:0007082); Hypoplasia of the pons (HP:0012110); Abnormal length of corpus callosum (HP:0200011); Arachnoid cyst (HP:0100702)</td></tr>\n",
       "<tr><td style=\"text-align: left;\">16 (FEMALE; P25Y)</td><td style=\"text-align: left;\">Ehlers-Danlos syndrome, vascular type (OMIM:130050)</td><td style=\"text-align: left;\">NM_000090.3:c.951+5G>C (heterozygous)</td><td style=\"text-align: left;\">excluded: Aortic dissection (HP:0002647); excluded: Aortic rupture (HP:0031649); Arterial dissection (HP:0005294); Arterial rupture (HP:0025019); excluded: Uterine rupture (HP:0100718); Bruising susceptibility (HP:0000978); Spontaneous pneumothorax (HP:0002108); excluded: Talipes equinovarus (HP:0001762); excluded: Congenital hip dislocation (HP:0001374); excluded: Varicose veins (HP:0002619); excluded: Gingival fragility (HP:0034518); excluded: Tendon rupture (HP:0100550); excluded: Finger joint hypermobility (HP:0006094); Dermal translucency (HP:0010648)</td></tr>\n",
       "<tr><td style=\"text-align: left;\">20 (FEMALE; P38Y)</td><td style=\"text-align: left;\">Ehlers-Danlos syndrome, vascular type (OMIM:130050)</td><td style=\"text-align: left;\">NM_000090.3:c.1546G>T (heterozygous)</td><td style=\"text-align: left;\">Aortic dissection (HP:0002647); excluded: Aortic rupture (HP:0031649); Arterial dissection (HP:0005294); Arterial rupture (HP:0025019); excluded: Uterine rupture (HP:0100718); Bruising susceptibility (HP:0000978); excluded: Spontaneous pneumothorax (HP:0002108); excluded: Talipes equinovarus (HP:0001762); excluded: Congenital hip dislocation (HP:0001374); excluded: Varicose veins (HP:0002619); excluded: Gingival fragility (HP:0034518); excluded: Tendon rupture (HP:0100550); excluded: Finger joint hypermobility (HP:0006094); Dermal translucency (HP:0010648)</td></tr>\n",
       "<tr><td style=\"text-align: left;\">35 (MALE; P24Y)</td><td style=\"text-align: left;\">Ehlers-Danlos syndrome, vascular type (OMIM:130050)</td><td style=\"text-align: left;\">ex. 24–33 deletion: chromosomal_deletion (SO:1000029)</td><td style=\"text-align: left;\">excluded: Aortic dissection (HP:0002647); excluded: Aortic rupture (HP:0031649); excluded: Arterial dissection (HP:0005294); excluded: Arterial rupture (HP:0025019); Bruising susceptibility (HP:0000978); Spontaneous pneumothorax (HP:0002108); Talipes equinovarus (HP:0001762); excluded: Congenital hip dislocation (HP:0001374); excluded: Varicose veins (HP:0002619); excluded: Gingival fragility (HP:0034518); excluded: Tendon rupture (HP:0100550); Finger joint hypermobility (HP:0006094); Dermal translucency (HP:0010648)</td></tr>\n",
       "<tr><td style=\"text-align: left;\">8 (FEMALE; P34Y)</td><td style=\"text-align: left;\">Ehlers-Danlos syndrome, vascular type (OMIM:130050)</td><td style=\"text-align: left;\">NM_000090.3:c.665G>A (heterozygous)</td><td style=\"text-align: left;\">Aortic dissection (HP:0002647); excluded: Aortic rupture (HP:0031649); Arterial dissection (HP:0005294); excluded: Arterial rupture (HP:0025019); excluded: Uterine rupture (HP:0100718); Bruising susceptibility (HP:0000978); excluded: Spontaneous pneumothorax (HP:0002108); excluded: Talipes equinovarus (HP:0001762); excluded: Congenital hip dislocation (HP:0001374); excluded: Varicose veins (HP:0002619); Gingival fragility (HP:0034518); excluded: Tendon rupture (HP:0100550); excluded: Finger joint hypermobility (HP:0006094); Dermal translucency (HP:0010648)</td></tr>\n",
       "<tr><td style=\"text-align: left;\">23 (FEMALE; P65Y)</td><td style=\"text-align: left;\">Ehlers-Danlos syndrome, vascular type (OMIM:130050)</td><td style=\"text-align: left;\">NM_000090.3:c.1977+5G>C (heterozygous)</td><td style=\"text-align: left;\">Aortic dissection (HP:0002647); excluded: Aortic rupture (HP:0031649); Arterial dissection (HP:0005294); excluded: Arterial rupture (HP:0025019); excluded: Uterine rupture (HP:0100718); Bruising susceptibility (HP:0000978); excluded: Spontaneous pneumothorax (HP:0002108); Varicose veins (HP:0002619); Finger joint hypermobility (HP:0006094); Dermal translucency (HP:0010648)</td></tr>\n",
       "<tr><td style=\"text-align: left;\">19 (FEMALE; P55Y)</td><td style=\"text-align: left;\">Ehlers-Danlos syndrome, vascular type (OMIM:130050)</td><td style=\"text-align: left;\">NM_000090.3:c.1346G>T (heterozygous)</td><td style=\"text-align: left;\">excluded: Aortic dissection (HP:0002647); excluded: Aortic rupture (HP:0031649); excluded: Arterial dissection (HP:0005294); Arterial rupture (HP:0025019); Bruising susceptibility (HP:0000978); excluded: Spontaneous pneumothorax (HP:0002108); excluded: Talipes equinovarus (HP:0001762); excluded: Congenital hip dislocation (HP:0001374); Gingival fragility (HP:0034518); excluded: Tendon rupture (HP:0100550); Finger joint hypermobility (HP:0006094); Dermal translucency (HP:0010648)</td></tr>\n",
       "<tr><td style=\"text-align: left;\">4 (FEMALE; P45Y)</td><td style=\"text-align: left;\">Ehlers-Danlos syndrome, vascular type (OMIM:130050)</td><td style=\"text-align: left;\">NM_000090.3:c.565G>C (heterozygous)</td><td style=\"text-align: left;\">excluded: Aortic dissection (HP:0002647); excluded: Aortic rupture (HP:0031649); Arterial dissection (HP:0005294); excluded: Arterial rupture (HP:0025019); excluded: Uterine rupture (HP:0100718); Bruising susceptibility (HP:0000978); excluded: Spontaneous pneumothorax (HP:0002108); excluded: Talipes equinovarus (HP:0001762); excluded: Congenital hip dislocation (HP:0001374); excluded: Varicose veins (HP:0002619); excluded: Gingival fragility (HP:0034518); excluded: Tendon rupture (HP:0100550); excluded: Finger joint hypermobility (HP:0006094); Dermal translucency (HP:0010648)</td></tr>\n",
       "<tr><td style=\"text-align: left;\">15 (MALE; P8Y)</td><td style=\"text-align: left;\">Ehlers-Danlos syndrome, vascular type (OMIM:130050)</td><td style=\"text-align: left;\">NM_000090.3:c.897+2T>A (heterozygous)</td><td style=\"text-align: left;\">excluded: Aortic dissection (HP:0002647); excluded: Aortic rupture (HP:0031649); excluded: Arterial dissection (HP:0005294); excluded: Arterial rupture (HP:0025019); Bruising susceptibility (HP:0000978); excluded: Spontaneous pneumothorax (HP:0002108); excluded: Talipes equinovarus (HP:0001762); excluded: Congenital hip dislocation (HP:0001374); excluded: Varicose veins (HP:0002619); excluded: Gingival fragility (HP:0034518); excluded: Tendon rupture (HP:0100550); Finger joint hypermobility (HP:0006094); Dermal translucency (HP:0010648)</td></tr>\n",
       "<tr><td style=\"text-align: left;\">14 (MALE; P28Y)</td><td style=\"text-align: left;\">Ehlers-Danlos syndrome, vascular type (OMIM:130050)</td><td style=\"text-align: left;\">NM_000090.3:c.897+2T>G (heterozygous)</td><td style=\"text-align: left;\">excluded: Aortic dissection (HP:0002647); Aortic rupture (HP:0031649); excluded: Arterial dissection (HP:0005294); Arterial rupture (HP:0025019); Bruising susceptibility (HP:0000978); Spontaneous pneumothorax (HP:0002108); excluded: Talipes equinovarus (HP:0001762); excluded: Congenital hip dislocation (HP:0001374); Varicose veins (HP:0002619); Gingival fragility (HP:0034518); excluded: Tendon rupture (HP:0100550); Finger joint hypermobility (HP:0006094); Dermal translucency (HP:0010648)</td></tr>\n",
       "<tr><td style=\"text-align: left;\">Patient 1 (FEMALE; P7Y)</td><td style=\"text-align: left;\">Polymicrogyria with or without vascular-type EDS (OMIM:618343)</td><td style=\"text-align: left;\">NM_000090.3:c.145C>G (homozygous)</td><td style=\"text-align: left;\">Abnormal cerebellar cortex morphology (HP:0031422); Renal cortical cysts (HP:0000803); Global developmental delay (HP:0001263); Seizure (HP:0001250); Dysgyria with thickened cortex (HP:0032400); Hypointensity of cerebral white matter on MRI (HP:0007103); Lateral ventricle dilatation (HP:0006956); Dilated third ventricle (HP:0007082); Abnormal brainstem morphology (HP:0002363); Dilation of Virchow-Robin spaces (HP:0012520); Abnormal length of corpus callosum (HP:0200011); Cerebellar vermis hypoplasia (HP:0001320); Enlarged cisterna magna (HP:0002280)</td></tr>\n",
       "<tr><td style=\"text-align: left;\">5 (FEMALE; P17Y)</td><td style=\"text-align: left;\">Ehlers-Danlos syndrome, vascular type (OMIM:130050)</td><td style=\"text-align: left;\">NM_000090.3:c.583G>A (heterozygous)</td><td style=\"text-align: left;\">excluded: Aortic dissection (HP:0002647); excluded: Aortic rupture (HP:0031649); excluded: Arterial dissection (HP:0005294); excluded: Arterial rupture (HP:0025019); Bruising susceptibility (HP:0000978); excluded: Spontaneous pneumothorax (HP:0002108); excluded: Talipes equinovarus (HP:0001762); excluded: Congenital hip dislocation (HP:0001374); excluded: Varicose veins (HP:0002619); excluded: Gingival fragility (HP:0034518); excluded: Tendon rupture (HP:0100550); Finger joint hypermobility (HP:0006094); Dermal translucency (HP:0010648)</td></tr>\n",
       "<tr><td style=\"text-align: left;\">18 (MALE; P32Y)</td><td style=\"text-align: left;\">Ehlers-Danlos syndrome, vascular type (OMIM:130050)</td><td style=\"text-align: left;\">NM_000090.3:c.1330G>A (heterozygous)</td><td style=\"text-align: left;\">excluded: Aortic dissection (HP:0002647); excluded: Aortic rupture (HP:0031649); excluded: Arterial dissection (HP:0005294); excluded: Arterial rupture (HP:0025019); Bruising susceptibility (HP:0000978); Spontaneous pneumothorax (HP:0002108); Talipes equinovarus (HP:0001762); excluded: Congenital hip dislocation (HP:0001374); excluded: Varicose veins (HP:0002619); excluded: Gingival fragility (HP:0034518); excluded: Tendon rupture (HP:0100550); Finger joint hypermobility (HP:0006094); Dermal translucency (HP:0010648)</td></tr>\n",
       "<tr><td style=\"text-align: left;\">9 (MALE; P50Y)</td><td style=\"text-align: left;\">Ehlers-Danlos syndrome, vascular type (OMIM:130050)</td><td style=\"text-align: left;\">NM_000090.3:c.724C>T (heterozygous)</td><td style=\"text-align: left;\">Aortic dissection (HP:0002647); excluded: Aortic rupture (HP:0031649); excluded: Arterial dissection (HP:0005294); excluded: Arterial rupture (HP:0025019); excluded: Bruising susceptibility (HP:0000978); excluded: Spontaneous pneumothorax (HP:0002108); excluded: Talipes equinovarus (HP:0001762); excluded: Congenital hip dislocation (HP:0001374); excluded: Varicose veins (HP:0002619); excluded: Tendon rupture (HP:0100550); excluded: Finger joint hypermobility (HP:0006094); excluded: Dermal translucency (HP:0010648)</td></tr>\n",
       "<tr><td style=\"text-align: left;\">22 (FEMALE; P30Y)</td><td style=\"text-align: left;\">Ehlers-Danlos syndrome, vascular type (OMIM:130050)</td><td style=\"text-align: left;\">NM_000090.3:c.1862G>A (heterozygous)</td><td style=\"text-align: left;\">excluded: Aortic dissection (HP:0002647); excluded: Aortic rupture (HP:0031649); Arterial dissection (HP:0005294); excluded: Arterial rupture (HP:0025019); Bruising susceptibility (HP:0000978); excluded: Spontaneous pneumothorax (HP:0002108); excluded: Talipes equinovarus (HP:0001762); excluded: Congenital hip dislocation (HP:0001374); excluded: Varicose veins (HP:0002619); excluded: Gingival fragility (HP:0034518); excluded: Tendon rupture (HP:0100550); Finger joint hypermobility (HP:0006094); Dermal translucency (HP:0010648)</td></tr>\n",
       "<tr><td style=\"text-align: left;\">34 (FEMALE; P53Y)</td><td style=\"text-align: left;\">Ehlers-Danlos syndrome, vascular type (OMIM:130050)</td><td style=\"text-align: left;\">NM_000090.3:c.3525+1G>A (heterozygous)</td><td style=\"text-align: left;\">excluded: Aortic dissection (HP:0002647); excluded: Aortic rupture (HP:0031649); excluded: Arterial dissection (HP:0005294); excluded: Arterial rupture (HP:0025019); excluded: Uterine rupture (HP:0100718); Bruising susceptibility (HP:0000978); excluded: Spontaneous pneumothorax (HP:0002108); excluded: Talipes equinovarus (HP:0001762); excluded: Congenital hip dislocation (HP:0001374); Varicose veins (HP:0002619); Gingival fragility (HP:0034518); Tendon rupture (HP:0100550); excluded: Finger joint hypermobility (HP:0006094); Dermal translucency (HP:0010648)</td></tr>\n",
       "<tr><td style=\"text-align: left;\">2 (FEMALE; P29Y)</td><td style=\"text-align: left;\">Ehlers-Danlos syndrome, vascular type (OMIM:130050)</td><td style=\"text-align: left;\">NM_000090.3:c.547G>A (heterozygous)</td><td style=\"text-align: left;\">excluded: Aortic dissection (HP:0002647); excluded: Aortic rupture (HP:0031649); Arterial dissection (HP:0005294); excluded: Arterial rupture (HP:0025019); excluded: Uterine rupture (HP:0100718); Bruising susceptibility (HP:0000978); excluded: Spontaneous pneumothorax (HP:0002108); excluded: Talipes equinovarus (HP:0001762); excluded: Congenital hip dislocation (HP:0001374); excluded: Varicose veins (HP:0002619); excluded: Gingival fragility (HP:0034518); excluded: Tendon rupture (HP:0100550); excluded: Finger joint hypermobility (HP:0006094); excluded: Dermal translucency (HP:0010648)</td></tr>\n",
       "<tr><td style=\"text-align: left;\">29 (MALE; P25Y)</td><td style=\"text-align: left;\">Ehlers-Danlos syndrome, vascular type (OMIM:130050)</td><td style=\"text-align: left;\">NM_000090.3:c.2815G>A (heterozygous)</td><td style=\"text-align: left;\">excluded: Aortic dissection (HP:0002647); excluded: Aortic rupture (HP:0031649); Arterial dissection (HP:0005294); excluded: Arterial rupture (HP:0025019); Bruising susceptibility (HP:0000978); excluded: Spontaneous pneumothorax (HP:0002108); excluded: Talipes equinovarus (HP:0001762); excluded: Congenital hip dislocation (HP:0001374); excluded: Varicose veins (HP:0002619); excluded: Gingival fragility (HP:0034518); excluded: Tendon rupture (HP:0100550); Finger joint hypermobility (HP:0006094); excluded: Dermal translucency (HP:0010648)</td></tr>\n",
       "<tr><td style=\"text-align: left;\">13 (FEMALE; P37Y)</td><td style=\"text-align: left;\">Ehlers-Danlos syndrome, vascular type (OMIM:130050)</td><td style=\"text-align: left;\">NM_000090.3:c.848T>A (heterozygous)</td><td style=\"text-align: left;\">excluded: Aortic dissection (HP:0002647); Aortic rupture (HP:0031649); excluded: Arterial dissection (HP:0005294); excluded: Arterial rupture (HP:0025019); Uterine rupture (HP:0100718); Bruising susceptibility (HP:0000978); excluded: Spontaneous pneumothorax (HP:0002108); excluded: Talipes equinovarus (HP:0001762); excluded: Congenital hip dislocation (HP:0001374); Gingival fragility (HP:0034518); Tendon rupture (HP:0100550); excluded: Finger joint hypermobility (HP:0006094); Dermal translucency (HP:0010648)</td></tr>\n",
       "<tr><td style=\"text-align: left;\">33 (MALE; P17Y)</td><td style=\"text-align: left;\">Ehlers-Danlos syndrome, vascular type (OMIM:130050)</td><td style=\"text-align: left;\">NM_000090.3:c.3338G>A (heterozygous)</td><td style=\"text-align: left;\">excluded: Aortic dissection (HP:0002647); excluded: Aortic rupture (HP:0031649); excluded: Arterial dissection (HP:0005294); Arterial rupture (HP:0025019); excluded: Bruising susceptibility (HP:0000978); Spontaneous pneumothorax (HP:0002108); excluded: Talipes equinovarus (HP:0001762); excluded: Congenital hip dislocation (HP:0001374); excluded: Varicose veins (HP:0002619); excluded: Gingival fragility (HP:0034518); Tendon rupture (HP:0100550); excluded: Finger joint hypermobility (HP:0006094); excluded: Dermal translucency (HP:0010648)</td></tr>\n",
       "<tr><td style=\"text-align: left;\">25 (FEMALE; P16Y)</td><td style=\"text-align: left;\">Ehlers-Danlos syndrome, vascular type (OMIM:130050)</td><td style=\"text-align: left;\">NM_000090.3:c.2283+5G>T (heterozygous)</td><td style=\"text-align: left;\">excluded: Aortic dissection (HP:0002647); excluded: Aortic rupture (HP:0031649); excluded: Arterial dissection (HP:0005294); excluded: Arterial rupture (HP:0025019); excluded: Bruising susceptibility (HP:0000978); Spontaneous pneumothorax (HP:0002108); excluded: Talipes equinovarus (HP:0001762); excluded: Congenital hip dislocation (HP:0001374); excluded: Varicose veins (HP:0002619); excluded: Gingival fragility (HP:0034518); excluded: Tendon rupture (HP:0100550); Finger joint hypermobility (HP:0006094); Dermal translucency (HP:0010648)</td></tr>\n",
       "<tr><td style=\"text-align: left;\">24 (FEMALE; P48Y)</td><td style=\"text-align: left;\">Ehlers-Danlos syndrome, vascular type (OMIM:130050)</td><td style=\"text-align: left;\">NM_000090.3:c.2134_2160del (heterozygous)</td><td style=\"text-align: left;\">Aortic dissection (HP:0002647); excluded: Aortic rupture (HP:0031649); excluded: Arterial dissection (HP:0005294); Arterial rupture (HP:0025019); Bruising susceptibility (HP:0000978); Spontaneous pneumothorax (HP:0002108); excluded: Talipes equinovarus (HP:0001762); excluded: Congenital hip dislocation (HP:0001374); Gingival fragility (HP:0034518); excluded: Tendon rupture (HP:0100550); Finger joint hypermobility (HP:0006094); Dermal translucency (HP:0010648)</td></tr>\n",
       "<tr><td style=\"text-align: left;\">32 (FEMALE; P49Y)</td><td style=\"text-align: left;\">Ehlers-Danlos syndrome, vascular type (OMIM:130050)</td><td style=\"text-align: left;\">NM_000090.3:c.3256G>C (heterozygous)</td><td style=\"text-align: left;\">excluded: Aortic dissection (HP:0002647); excluded: Aortic rupture (HP:0031649); excluded: Arterial dissection (HP:0005294); excluded: Arterial rupture (HP:0025019); Bruising susceptibility (HP:0000978); excluded: Spontaneous pneumothorax (HP:0002108); excluded: Talipes equinovarus (HP:0001762); Congenital hip dislocation (HP:0001374); Gingival fragility (HP:0034518); Tendon rupture (HP:0100550); Finger joint hypermobility (HP:0006094); Dermal translucency (HP:0010648)</td></tr>\n",
       "<tr><td style=\"text-align: left;\">12 (MALE; P15D)</td><td style=\"text-align: left;\">Ehlers-Danlos syndrome, vascular type (OMIM:130050)</td><td style=\"text-align: left;\">NM_000090.3:c.763G>T (heterozygous)</td><td style=\"text-align: left;\">excluded: Aortic dissection (HP:0002647); excluded: Aortic rupture (HP:0031649); excluded: Arterial dissection (HP:0005294); Arterial rupture (HP:0025019); excluded: Bruising susceptibility (HP:0000978); Spontaneous pneumothorax (HP:0002108); excluded: Talipes equinovarus (HP:0001762); excluded: Congenital hip dislocation (HP:0001374); excluded: Varicose veins (HP:0002619); excluded: Gingival fragility (HP:0034518); excluded: Tendon rupture (HP:0100550); excluded: Finger joint hypermobility (HP:0006094); excluded: Dermal translucency (HP:0010648)</td></tr>\n",
       "<tr><td style=\"text-align: left;\">3 (MALE; P15D)</td><td style=\"text-align: left;\">Ehlers-Danlos syndrome, vascular type (OMIM:130050)</td><td style=\"text-align: left;\">NM_000090.3:c.556G>A (heterozygous)</td><td style=\"text-align: left;\">Aortic dissection (HP:0002647); Aortic rupture (HP:0031649); excluded: Arterial dissection (HP:0005294); excluded: Arterial rupture (HP:0025019); excluded: Bruising susceptibility (HP:0000978); excluded: Spontaneous pneumothorax (HP:0002108); excluded: Talipes equinovarus (HP:0001762); excluded: Congenital hip dislocation (HP:0001374); excluded: Varicose veins (HP:0002619); excluded: Gingival fragility (HP:0034518); excluded: Tendon rupture (HP:0100550); excluded: Finger joint hypermobility (HP:0006094); excluded: Dermal translucency (HP:0010648)</td></tr>\n",
       "<tr><td style=\"text-align: left;\">28 (MALE; P43Y)</td><td style=\"text-align: left;\">Ehlers-Danlos syndrome, vascular type (OMIM:130050)</td><td style=\"text-align: left;\">NM_000090.3:c.2518G>A (heterozygous)</td><td style=\"text-align: left;\">excluded: Aortic dissection (HP:0002647); excluded: Aortic rupture (HP:0031649); excluded: Arterial dissection (HP:0005294); Arterial rupture (HP:0025019); Bruising susceptibility (HP:0000978); Spontaneous pneumothorax (HP:0002108); Talipes equinovarus (HP:0001762); excluded: Congenital hip dislocation (HP:0001374); excluded: Varicose veins (HP:0002619); excluded: Gingival fragility (HP:0034518); excluded: Tendon rupture (HP:0100550); Finger joint hypermobility (HP:0006094); excluded: Dermal translucency (HP:0010648)</td></tr>\n",
       "</table>"
      ],
      "text/plain": [
       "<IPython.core.display.HTML object>"
      ]
     },
     "metadata": {},
     "output_type": "display_data"
    }
   ],
   "source": [
    "ppkt_d = ingestor.get_phenopacket_dictionary()\n",
    "ppkt_list = list(ppkt_d.values())\n",
    "table = PhenopacketTable(phenopacket_list=ppkt_list)\n",
    "display(HTML(table.to_html()))"
   ]
  },
  {
   "cell_type": "code",
   "execution_count": 13,
   "id": "cc2b5e71-272b-4508-8773-5b7db1da4856",
   "metadata": {},
   "outputs": [
    {
     "data": {
      "text/html": [
       "<table style=\"border: 2px solid black;\">\n",
       "\n",
       "<tr><th>HPO term</th><th>PMID:36189931</th><th>PMID:28258187</th></tr>\n",
       "<tr><td>Bruising susceptibility (HP:0000978)</td><td>27/35 (77.1%)</td><td>2/4 (50.0%)</td></tr>\n",
       "\n",
       "<tr><td>Dermal translucency (HP:0010648)</td><td>23/35 (65.7%)</td><td>1/4 (25.0%)</td></tr>\n",
       "\n",
       "<tr><td>Finger joint hypermobility (HP:0006094)</td><td>19/35 (54.3%)</td><td>0/4 (0.0%)</td></tr>\n",
       "\n",
       "<tr><td>Spontaneous pneumothorax (HP:0002108)</td><td>14/35 (40.0%)</td><td>0/4 (0.0%)</td></tr>\n",
       "\n",
       "<tr><td>Arterial rupture (HP:0025019)</td><td>12/35 (34.3%)</td><td>0/4 (0.0%)</td></tr>\n",
       "\n",
       "<tr><td>Arterial dissection (HP:0005294)</td><td>10/35 (28.6%)</td><td>1/4 (25.0%)</td></tr>\n",
       "\n",
       "<tr><td>Gingival fragility (HP:0034518)</td><td>9/35 (25.7%)</td><td>0/4 (0.0%)</td></tr>\n",
       "\n",
       "<tr><td>Aortic dissection (HP:0002647)</td><td>7/35 (20.0%)</td><td>0/4 (0.0%)</td></tr>\n",
       "\n",
       "<tr><td>Varicose veins (HP:0002619)</td><td>4/35 (11.4%)</td><td>1/4 (25.0%)</td></tr>\n",
       "\n",
       "<tr><td>Tendon rupture (HP:0100550)</td><td>4/35 (11.4%)</td><td>1/4 (25.0%)</td></tr>\n",
       "\n",
       "<tr><td>Talipes equinovarus (HP:0001762)</td><td>4/35 (11.4%)</td><td>1/4 (25.0%)</td></tr>\n",
       "\n",
       "<tr><td>Renal cortical cysts (HP:0000803)</td><td>0/35 (0.0%)</td><td>4/4 (100.0%)</td></tr>\n",
       "\n",
       "<tr><td>Dilation of Virchow-Robin spaces (HP:0012520)</td><td>0/35 (0.0%)</td><td>4/4 (100.0%)</td></tr>\n",
       "\n",
       "<tr><td>Cerebellar vermis hypoplasia (HP:0001320)</td><td>0/35 (0.0%)</td><td>3/4 (75.0%)</td></tr>\n",
       "\n",
       "<tr><td>Enlarged cisterna magna (HP:0002280)</td><td>0/35 (0.0%)</td><td>3/4 (75.0%)</td></tr>\n",
       "\n",
       "<tr><td>Dysgyria with thickened cortex (HP:0032400)</td><td>0/35 (0.0%)</td><td>3/4 (75.0%)</td></tr>\n",
       "\n",
       "<tr><td>Lateral ventricle dilatation (HP:0006956)</td><td>0/35 (0.0%)</td><td>3/4 (75.0%)</td></tr>\n",
       "\n",
       "<tr><td>Dilated third ventricle (HP:0007082)</td><td>0/35 (0.0%)</td><td>3/4 (75.0%)</td></tr>\n",
       "\n",
       "<tr><td>Abnormal length of corpus callosum (HP:0200011)</td><td>0/35 (0.0%)</td><td>3/4 (75.0%)</td></tr>\n",
       "\n",
       "<tr><td>Aortic rupture (HP:0031649)</td><td>3/35 (8.6%)</td><td>0/4 (0.0%)</td></tr>\n",
       "\n",
       "<tr><td>Joint hypermobility (HP:0001382)</td><td>0/35 (0.0%)</td><td>2/4 (50.0%)</td></tr>\n",
       "\n",
       "<tr><td>Polymicrogyria (HP:0002126)</td><td>0/35 (0.0%)</td><td>2/4 (50.0%)</td></tr>\n",
       "\n",
       "<tr><td>Abnormal cerebellar cortex morphology (HP:0031422)</td><td>0/35 (0.0%)</td><td>2/4 (50.0%)</td></tr>\n",
       "\n",
       "<tr><td>Global developmental delay (HP:0001263)</td><td>0/35 (0.0%)</td><td>2/4 (50.0%)</td></tr>\n",
       "\n",
       "<tr><td>Seizure (HP:0001250)</td><td>0/35 (0.0%)</td><td>2/4 (50.0%)</td></tr>\n",
       "\n",
       "<tr><td>Abnormal brainstem morphology (HP:0002363)</td><td>0/35 (0.0%)</td><td>2/4 (50.0%)</td></tr>\n",
       "\n",
       "<tr><td>Arachnoid cyst (HP:0100702)</td><td>0/35 (0.0%)</td><td>2/4 (50.0%)</td></tr>\n",
       "\n",
       "</table>\n"
      ],
      "text/plain": [
       "<IPython.core.display.HTML object>"
      ]
     },
     "metadata": {},
     "output_type": "display_data"
    }
   ],
   "source": [
    "detailed_table = DetailedSupplTable(patient_d=ppkt_d, hp_ontology=hpo)\n",
    "display(HTML(detailed_table.get_html_table_by_pmid(min_count=1)))"
   ]
  },
  {
   "cell_type": "code",
   "execution_count": 14,
   "id": "2611a1b3-4d7b-40a6-8be2-561c922910b3",
   "metadata": {},
   "outputs": [],
   "source": [
    "# Note - pxf validate --hpo=../hpo_data/hp.json *.json\n",
    "# revealed no errors"
   ]
  },
  {
   "cell_type": "code",
   "execution_count": null,
   "id": "b8c2fc9e-8e0c-4572-ac71-ce57cc444c2c",
   "metadata": {},
   "outputs": [],
   "source": []
  }
 ],
 "metadata": {
  "kernelspec": {
   "display_name": "pstore_env",
   "language": "python",
   "name": "pstore_env"
  },
  "language_info": {
   "codemirror_mode": {
    "name": "ipython",
    "version": 3
   },
   "file_extension": ".py",
   "mimetype": "text/x-python",
   "name": "python",
   "nbconvert_exporter": "python",
   "pygments_lexer": "ipython3",
   "version": "3.11.3"
  }
 },
 "nbformat": 4,
 "nbformat_minor": 5
}
