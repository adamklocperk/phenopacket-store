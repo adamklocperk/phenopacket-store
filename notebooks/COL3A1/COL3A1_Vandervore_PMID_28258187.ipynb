{
 "cells": [
  {
   "cell_type": "markdown",
   "id": "a39f3c65",
   "metadata": {},
   "source": [
    "<h1>COL3A1: Vandervore (2017)</h1>\n",
    "<p>We will process <a href=\"https://pubmed.ncbi.nlm.nih.gov/28258187/\" target=\"__blank\">Vandervore, et al. (2017) Bi-allelic variants in COL3A1 encoding the ligand to GPR56 are associated with cobblestone-like cortical malformation, white matter changes and cerebellar cysts</a></p>"
   ]
  },
  {
   "cell_type": "code",
   "execution_count": 1,
   "id": "f0602c0e",
   "metadata": {},
   "outputs": [
    {
     "name": "stdout",
     "output_type": "stream",
     "text": [
      "pyphetools version 0.9.1\n"
     ]
    }
   ],
   "source": [
    "import pandas as pd\n",
    "pd.set_option('display.max_colwidth', None) # show entire column contents, important!\n",
    "from IPython.display import HTML, display\n",
    "from pyphetools.creation import *\n",
    "from pyphetools.visualization import *\n",
    "from pyphetools.validation import *\n",
    "import pyphetools\n",
    "print(f\"pyphetools version {pyphetools.__version__}\")"
   ]
  },
  {
   "cell_type": "markdown",
   "id": "8606e7eb",
   "metadata": {},
   "source": [
    "<h2>Importing HPO data</h2>\n",
    "<p>pyphetools uses the Human Phenotype Ontology (HPO) to encode phenotypic features. The recommended way of doing this is to ingest the hp.json file using HpoParser, which in turn creates an HpoConceptRecognizer object. </p>\n",
    "<p>The HpoParser can accept a hpo_json_file argument if you want to use a specific file. If the argument is not passed, it will download the latext hp.json file from the HPO GitHub site and store it in a new subdirectory called hpo_data. It will not download the file if the file is already downloaded.</p>"
   ]
  },
  {
   "cell_type": "code",
   "execution_count": 2,
   "id": "5a7789fc",
   "metadata": {},
   "outputs": [
    {
     "name": "stdout",
     "output_type": "stream",
     "text": [
      "HPO version 2023-10-09\n"
     ]
    }
   ],
   "source": [
    "PMID = \"PMID:28258187\"\n",
    "title = \"Bi-allelic variants in COL3A1 encoding the ligand to GPR56 are associated with cobblestone-like cortical malformation, white matter changes and cerebellar cysts\"\n",
    "cite = Citation(pmid=PMID, title=title)\n",
    "parser = HpoParser()\n",
    "hpo_cr = parser.get_hpo_concept_recognizer()\n",
    "hpo_version = parser.get_version()\n",
    "hpo_ontology = parser.get_ontology()\n",
    "metadata = MetaData(created_by=\"ORCID:0000-0002-5648-2155\", citation=cite)\n",
    "metadata.default_versions_with_hpo(version=hpo_version)\n",
    "print(f\"HPO version {hpo_version}\")"
   ]
  },
  {
   "cell_type": "markdown",
   "id": "5102722a",
   "metadata": {},
   "source": [
    "<h2>Importing the supplemental table</h2>\n",
    "<p>Here, we use the pandas library to import this file (note that the Python package called openpyxl must be installed to read Excel files with pandas, although the library does not need to be imported in this notebook). pyphetools expects a pandas DataFrame as input, and users can choose any input format available for pandas include CSV, TSV, and Excel, or can use any other method to transform their input data into a Pandas DataFrame before using pyphetools.</p>"
   ]
  },
  {
   "cell_type": "code",
   "execution_count": 3,
   "id": "f17c3924",
   "metadata": {},
   "outputs": [],
   "source": [
    "df = pd.read_excel('input/PMID_28258187.xlsx')"
   ]
  },
  {
   "cell_type": "code",
   "execution_count": 4,
   "id": "06ec7dbd",
   "metadata": {},
   "outputs": [
    {
     "data": {
      "text/html": [
       "<div>\n",
       "<style scoped>\n",
       "    .dataframe tbody tr th:only-of-type {\n",
       "        vertical-align: middle;\n",
       "    }\n",
       "\n",
       "    .dataframe tbody tr th {\n",
       "        vertical-align: top;\n",
       "    }\n",
       "\n",
       "    .dataframe thead th {\n",
       "        text-align: right;\n",
       "    }\n",
       "</style>\n",
       "<table border=\"1\" class=\"dataframe\">\n",
       "  <thead>\n",
       "    <tr style=\"text-align: right;\">\n",
       "      <th></th>\n",
       "      <th>Clinical features</th>\n",
       "      <th>Patient 1 (11.3 this manuscript)</th>\n",
       "      <th>Patient 2 (11.4 this manuscript)</th>\n",
       "      <th>Patient 3 (Plancke et al, 2009)</th>\n",
       "      <th>Patient 4 (Jergensen et al, 2014)</th>\n",
       "    </tr>\n",
       "  </thead>\n",
       "  <tbody>\n",
       "    <tr>\n",
       "      <th>0</th>\n",
       "      <td>patient_id</td>\n",
       "      <td>Patient 1</td>\n",
       "      <td>Patient 2</td>\n",
       "      <td>Patient 3</td>\n",
       "      <td>Patient 4</td>\n",
       "    </tr>\n",
       "    <tr>\n",
       "      <th>1</th>\n",
       "      <td>Sex</td>\n",
       "      <td>female</td>\n",
       "      <td>male</td>\n",
       "      <td>female</td>\n",
       "      <td>female</td>\n",
       "    </tr>\n",
       "    <tr>\n",
       "      <th>2</th>\n",
       "      <td>Age at examination(years)</td>\n",
       "      <td>7</td>\n",
       "      <td>3.5</td>\n",
       "      <td>10</td>\n",
       "      <td>19</td>\n",
       "    </tr>\n",
       "    <tr>\n",
       "      <th>3</th>\n",
       "      <td>Mutation in COL3A1</td>\n",
       "      <td>c.145C&gt;G</td>\n",
       "      <td>c.145C&gt;G</td>\n",
       "      <td>c.479dupT</td>\n",
       "      <td>c.1786C&gt;T</td>\n",
       "    </tr>\n",
       "    <tr>\n",
       "      <th>4</th>\n",
       "      <td>Second mutation in COL3A1</td>\n",
       "      <td>c.145C&gt;G</td>\n",
       "      <td>c.145C&gt;G</td>\n",
       "      <td>c.479dupT</td>\n",
       "      <td>c.3851G&gt;A</td>\n",
       "    </tr>\n",
       "  </tbody>\n",
       "</table>\n",
       "</div>"
      ],
      "text/plain": [
       "            Clinical features Patient 1 (11.3 this manuscript)  \\\n",
       "0                  patient_id                        Patient 1   \n",
       "1                         Sex                           female   \n",
       "2   Age at examination(years)                                7   \n",
       "3          Mutation in COL3A1                         c.145C>G   \n",
       "4  Second mutation in COL3A1                          c.145C>G   \n",
       "\n",
       "  Patient 2 (11.4 this manuscript) Patient 3 (Plancke et al, 2009)  \\\n",
       "0                        Patient 2                       Patient 3   \n",
       "1                             male                          female   \n",
       "2                              3.5                              10   \n",
       "3                         c.145C>G                       c.479dupT   \n",
       "4                         c.145C>G                       c.479dupT   \n",
       "\n",
       "  Patient 4 (Jergensen et al, 2014)  \n",
       "0                         Patient 4  \n",
       "1                            female  \n",
       "2                                19  \n",
       "3                         c.1786C>T  \n",
       "4                         c.3851G>A  "
      ]
     },
     "execution_count": 4,
     "metadata": {},
     "output_type": "execute_result"
    }
   ],
   "source": [
    "df.head()"
   ]
  },
  {
   "cell_type": "markdown",
   "id": "f7f7bad9",
   "metadata": {},
   "source": [
    "<h1>Converting to row-based format</h1>\n",
    "<p>To use pyphetools, we need to have the individuals represented as rows (one row per individual) and have the items of interest be encoded as column names. The required transformations for doing this may be different for different input data, but often we will want to transpose the table (using the pandas <tt>transpose</tt> function) and set the column names of the new table to the zero-th row. After this, we drop the zero-th row (otherwise, it will be interpreted as an individual by the pyphetools code).</p>\n",
    "<p>After this step is completed, the remaining steps to create phenopackets are the same as in the \n",
    "    <a href=\"http://localhost:8888/notebooks/notebooks/Create%20phenopackets%20from%20tabular%20data%20with%20individuals%20in%20rows.ipynb\" target=\"__blank\">row-based notebook</a>.</p>\n",
    "    \n",
    "Furthermore, for this specific case, there is a Count features row that we want dropped, so we filter out any row that does not have Patient in the first column."
   ]
  },
  {
   "cell_type": "code",
   "execution_count": 5,
   "id": "c85c793f",
   "metadata": {},
   "outputs": [
    {
     "data": {
      "text/html": [
       "<div>\n",
       "<style scoped>\n",
       "    .dataframe tbody tr th:only-of-type {\n",
       "        vertical-align: middle;\n",
       "    }\n",
       "\n",
       "    .dataframe tbody tr th {\n",
       "        vertical-align: top;\n",
       "    }\n",
       "\n",
       "    .dataframe thead th {\n",
       "        text-align: right;\n",
       "    }\n",
       "</style>\n",
       "<table border=\"1\" class=\"dataframe\">\n",
       "  <thead>\n",
       "    <tr style=\"text-align: right;\">\n",
       "      <th>Clinical features</th>\n",
       "      <th>Sex</th>\n",
       "      <th>Age at examination(years)</th>\n",
       "      <th>Mutation in COL3A1</th>\n",
       "      <th>Second mutation in COL3A1</th>\n",
       "      <th>Major features</th>\n",
       "      <th>Minor features</th>\n",
       "      <th>Additional features</th>\n",
       "      <th>Congenital anomalies</th>\n",
       "      <th>Neurological examination</th>\n",
       "      <th>Head circumference</th>\n",
       "      <th>...</th>\n",
       "      <th>Basal ganglia</th>\n",
       "      <th>Corpus callosum</th>\n",
       "      <th>Hippocampus</th>\n",
       "      <th>Cortex</th>\n",
       "      <th>White matter_5</th>\n",
       "      <th>Vermis</th>\n",
       "      <th>Post fossa</th>\n",
       "      <th>Pituitary</th>\n",
       "      <th>Arachnoid cysts</th>\n",
       "      <th>Vessels</th>\n",
       "    </tr>\n",
       "    <tr>\n",
       "      <th>patient_id</th>\n",
       "      <th></th>\n",
       "      <th></th>\n",
       "      <th></th>\n",
       "      <th></th>\n",
       "      <th></th>\n",
       "      <th></th>\n",
       "      <th></th>\n",
       "      <th></th>\n",
       "      <th></th>\n",
       "      <th></th>\n",
       "      <th></th>\n",
       "      <th></th>\n",
       "      <th></th>\n",
       "      <th></th>\n",
       "      <th></th>\n",
       "      <th></th>\n",
       "      <th></th>\n",
       "      <th></th>\n",
       "      <th></th>\n",
       "      <th></th>\n",
       "      <th></th>\n",
       "    </tr>\n",
       "  </thead>\n",
       "  <tbody>\n",
       "    <tr>\n",
       "      <th>Patient 1</th>\n",
       "      <td>female</td>\n",
       "      <td>7</td>\n",
       "      <td>c.145C&gt;G</td>\n",
       "      <td>c.145C&gt;G</td>\n",
       "      <td>-</td>\n",
       "      <td>-</td>\n",
       "      <td>-</td>\n",
       "      <td>-</td>\n",
       "      <td>Global developmental delay, walks without support, uses a few words</td>\n",
       "      <td>90th centile</td>\n",
       "      <td>...</td>\n",
       "      <td>Thalamus normal putamen/globus pallidus small, accentuated Virchow- Robin spaces</td>\n",
       "      <td>Present, elongated and mildly thickened</td>\n",
       "      <td>Normal</td>\n",
       "      <td>Dysplastic cerebellar cortex, multiple cortical cysts superior&gt;inferior</td>\n",
       "      <td>No hypoplasia, multifocal lesions in cerebellar white matter</td>\n",
       "      <td>Vermis hypoplasia cysts</td>\n",
       "      <td>Mega cisterna magna</td>\n",
       "      <td>Normal</td>\n",
       "      <td>NaN</td>\n",
       "      <td>Intracranial segment of the A carotis interna is normal</td>\n",
       "    </tr>\n",
       "    <tr>\n",
       "      <th>Patient 2</th>\n",
       "      <td>male</td>\n",
       "      <td>3.5</td>\n",
       "      <td>c.145C&gt;G</td>\n",
       "      <td>c.145C&gt;G</td>\n",
       "      <td>-</td>\n",
       "      <td>-</td>\n",
       "      <td>-</td>\n",
       "      <td>-</td>\n",
       "      <td>Global developmental delay. sits independently, no words</td>\n",
       "      <td>&gt;97th centile</td>\n",
       "      <td>...</td>\n",
       "      <td>Normal volume and signal intensity, accentuated Virchow-Robin spaces</td>\n",
       "      <td>Present elongated and mildly thickened</td>\n",
       "      <td>Normal</td>\n",
       "      <td>Dysplastic cerebellar cortex, multiple cortical cysts superior&gt;inferior</td>\n",
       "      <td>No hypoplasia multifocal lesions in cerebellar white matter</td>\n",
       "      <td>Vermis hypoplasia cysts</td>\n",
       "      <td>Mega cisterna magna</td>\n",
       "      <td>Normal</td>\n",
       "      <td>Bilateral temporal pole arachnoidal cysts</td>\n",
       "      <td>Intracranial segment of the A carotis interna is normal</td>\n",
       "    </tr>\n",
       "  </tbody>\n",
       "</table>\n",
       "<p>2 rows × 34 columns</p>\n",
       "</div>"
      ],
      "text/plain": [
       "Clinical features     Sex Age at examination(years) Mutation in COL3A1  \\\n",
       "patient_id                                                               \n",
       "Patient 1          female                         7           c.145C>G   \n",
       "Patient 2            male                       3.5           c.145C>G   \n",
       "\n",
       "Clinical features Second mutation in COL3A1 Major features Minor features  \\\n",
       "patient_id                                                                  \n",
       "Patient 1                          c.145C>G              -              -   \n",
       "Patient 2                          c.145C>G              -              -   \n",
       "\n",
       "Clinical features Additional features Congenital anomalies  \\\n",
       "patient_id                                                   \n",
       "Patient 1                           -                    -   \n",
       "Patient 2                           -                    -   \n",
       "\n",
       "Clinical features                                             Neurological examination  \\\n",
       "patient_id                                                                               \n",
       "Patient 1          Global developmental delay, walks without support, uses a few words   \n",
       "Patient 2                     Global developmental delay. sits independently, no words   \n",
       "\n",
       "Clinical features Head circumference  ...  \\\n",
       "patient_id                            ...   \n",
       "Patient 1               90th centile  ...   \n",
       "Patient 2              >97th centile  ...   \n",
       "\n",
       "Clinical features                                                                     Basal ganglia  \\\n",
       "patient_id                                                                                            \n",
       "Patient 1          Thalamus normal putamen/globus pallidus small, accentuated Virchow- Robin spaces   \n",
       "Patient 2                      Normal volume and signal intensity, accentuated Virchow-Robin spaces   \n",
       "\n",
       "Clinical features                          Corpus callosum Hippocampus  \\\n",
       "patient_id                                                               \n",
       "Patient 1          Present, elongated and mildly thickened      Normal   \n",
       "Patient 2           Present elongated and mildly thickened      Normal   \n",
       "\n",
       "Clinical features                                                                   Cortex  \\\n",
       "patient_id                                                                                   \n",
       "Patient 1          Dysplastic cerebellar cortex, multiple cortical cysts superior>inferior   \n",
       "Patient 2          Dysplastic cerebellar cortex, multiple cortical cysts superior>inferior   \n",
       "\n",
       "Clinical features                                                White matter_5  \\\n",
       "patient_id                                                                        \n",
       "Patient 1          No hypoplasia, multifocal lesions in cerebellar white matter   \n",
       "Patient 2           No hypoplasia multifocal lesions in cerebellar white matter   \n",
       "\n",
       "Clinical features                   Vermis           Post fossa Pituitary  \\\n",
       "patient_id                                                                  \n",
       "Patient 1          Vermis hypoplasia cysts  Mega cisterna magna    Normal   \n",
       "Patient 2          Vermis hypoplasia cysts  Mega cisterna magna    Normal   \n",
       "\n",
       "Clinical features                            Arachnoid cysts  \\\n",
       "patient_id                                                     \n",
       "Patient 1                                                NaN   \n",
       "Patient 2          Bilateral temporal pole arachnoidal cysts   \n",
       "\n",
       "Clinical features                                                  Vessels  \n",
       "patient_id                                                                  \n",
       "Patient 1          Intracranial segment of the A carotis interna is normal  \n",
       "Patient 2          Intracranial segment of the A carotis interna is normal  \n",
       "\n",
       "[2 rows x 34 columns]"
      ]
     },
     "execution_count": 5,
     "metadata": {},
     "output_type": "execute_result"
    }
   ],
   "source": [
    "dft = df.transpose()\n",
    "dft.columns = dft.iloc[0]\n",
    "dft.drop(dft.index[0], inplace=True)\n",
    "import re\n",
    "dft.columns = dft.columns.str.strip()\n",
    "dft = dft.dropna(axis=1, how='all')\n",
    "# simplify the name of the id column to remove e.g.,(11.3 this manuscript) f\n",
    "dft.set_index(\"patient_id\", inplace = True)\n",
    "dft.head(2)"
   ]
  },
  {
   "cell_type": "markdown",
   "id": "8314d6bd",
   "metadata": {},
   "source": [
    "<h2>Column mappers</h2>\n",
    "<p>Please see the notebook \"Create phenopackets from tabular data with individuals in rows\" for explanations. In the following cell we create a dictionary for the ColumnMappers. Note that the code is identical except that we use the df.loc function to get the corresponding row data</p>"
   ]
  },
  {
   "cell_type": "code",
   "execution_count": 6,
   "id": "2305a0d2",
   "metadata": {},
   "outputs": [],
   "source": [
    "column_mapper_d = {}"
   ]
  },
  {
   "cell_type": "markdown",
   "id": "9ecb20c7",
   "metadata": {},
   "source": [
    "Lets try to get code autoformatted so that we can easily copy-paste and change it."
   ]
  },
  {
   "cell_type": "code",
   "execution_count": 7,
   "id": "88e52430",
   "metadata": {},
   "outputs": [],
   "source": [
    "# This was used to help generate the following code\n",
    "#output = OptionColumnMapper.autoformat(df=dft, concept_recognizer=hpo_cr)\n",
    "major_features = {'Easy bruising thin translucent skin': 'Bruising susceptibility',\n",
    " 'arterial tissue fragility': 'Abnormal arterial physiology',\n",
    " 'Easy bruising': 'Bruising susceptibility',\n",
    " 'thin translucent skin': 'Dermal translucency',\n",
    " 'arterial dissections': 'Arterial dissection',}\n",
    "major_featuresMapper = OptionColumnMapper(concept_recognizer=hpo_cr, option_d=major_features)\n",
    "#print(major_featuresMapper.preview_column(dft['Major features']))\n",
    "column_mapper_d['Major features'] = major_featuresMapper\n",
    "\n",
    "cortex = {'Dysplastic cerebellar cortex': 'Abnormal cerebellar cortex morphology'}\n",
    "cortexMapper = OptionColumnMapper(concept_recognizer=hpo_cr, option_d=cortex)\n",
    "#print(cortexMapper.preview_column(dft['Cortex']))\n",
    "column_mapper_d['Cortex'] = cortexMapper\n",
    "\n",
    "minor_features = {'Early-onset varicose veins': 'Varicose veins',\n",
    " 'small joint hypermobility': 'Joint hypermobility',\n",
    " 'tendon rupture': 'Tendon rupture'}\n",
    "minor_featuresMapper = OptionColumnMapper(concept_recognizer=hpo_cr, option_d=minor_features)\n",
    "#print(minor_featuresMapper.preview_column(dft['Minor features']))\n",
    "column_mapper_d['Minor features'] = minor_featuresMapper\n",
    "\n",
    "additional_features = {'Pulmonary valve stenosis': 'Pulmonic stenosis',\n",
    " 'pronounced atrophic scars': 'Atrophic scars',\n",
    " 'multiple gingival recessions': 'Gingival recession',\n",
    " 'slender fingers': 'Slender finger'}\n",
    "additional_featuresMapper = OptionColumnMapper(concept_recognizer=hpo_cr, option_d=additional_features)\n",
    "#print(major_featuresMapper.preview_column(dft['Additional features']))\n",
    "column_mapper_d['Additional features'] = additional_featuresMapper\n",
    "\n",
    "\n",
    "congenital_anomalies = {'Talipes equinovarus': 'Talipes equinovarus'}\n",
    "congenital_anomaliesMapper = OptionColumnMapper(concept_recognizer=hpo_cr, option_d=congenital_anomalies)\n",
    "#print(congenital_anomaliesMapper.preview_column(dft['Congenital anomalies']))\n",
    "column_mapper_d['Congenital anomalies'] = congenital_anomaliesMapper\n",
    "\n",
    "neurological_examination = {'Global developmental delay': 'Global developmental delay',\n",
    " 'no words': 'Absent speech',\n",
    " 'Delayed motor milestones': 'Motor delay'}\n",
    "neurological_examinationMapper = OptionColumnMapper(concept_recognizer=hpo_cr, option_d=neurological_examination)\n",
    "#print(neurological_examinationMapper.preview_column(dft['Neurological examination']))\n",
    "column_mapper_d['Neurological examination'] = neurological_examinationMapper\n",
    "\n",
    "head_circumference = {'>97th centile': 'Macrocephaly'}\n",
    "head_circumferenceMapper = OptionColumnMapper(concept_recognizer=hpo_cr, option_d=head_circumference)\n",
    "#print(head_circumferenceMapper.preview_column(dft['Head circumference']))\n",
    "column_mapper_d['Head circumference'] = head_circumferenceMapper\n",
    "\n",
    "epilepsy_onset = {'Spasms/5 years': 'Seizure',\n",
    " 'Spasms/26 months': 'Seizure',\n",
    " 'Absence seizures/unknown': 'Typical absence seizure'}\n",
    "epilepsy_onsetMapper = OptionColumnMapper(concept_recognizer=hpo_cr, option_d=epilepsy_onset)\n",
    "#print(epilepsy_onsetMapper.preview_column(dft['Epilepsy/onset']))\n",
    "column_mapper_d['Epilepsy/onset'] = epilepsy_onsetMapper\n",
    "\n",
    "\n",
    "gyral_pattern = {'Diffuse thickened cobblestone cortex with relative sparing of the temporal lobes': 'Dysgyria with thickened cortex',\n",
    " 'Diffuse thickened cobblestone cortex with relative sparing of the temporal poles': 'Dysgyria with thickened cortex',\n",
    " 'Frontal cobblestone cortex': 'Dysgyria with thickened cortex',\n",
    " 'parietal polymicrogyria': 'Polymicrogyria',\n",
    " 'Bilateral frontal polymicrogyria including cingulate gyri': 'Polymicrogyria'}\n",
    "gyral_patternMapper = OptionColumnMapper(concept_recognizer=hpo_cr, option_d=gyral_pattern)\n",
    "#print(gyral_patternMapper.preview_column(dft['Gyral pattern']))\n",
    "column_mapper_d['Gyral pattern'] = gyral_patternMapper\n",
    "\n",
    "\n",
    "white_matter = {'Globale reduction of white matter': 'Hypointensity of cerebral white matter on MRI',\n",
    " 'Diffuse hypomyelination': 'Cerebral hypomyelination'}\n",
    "white_matterMapper = OptionColumnMapper(concept_recognizer=hpo_cr, option_d=white_matter)\n",
    "#print(white_matterMapper.preview_column(dft['White matter']))\n",
    "column_mapper_d['White matter'] = white_matterMapper\n",
    "\n",
    "white_matter_2 = {'Prominent perivascular spaces': 'Dilation of Virchow-Robin spaces',\n",
    " 'Prominent perivascular spaces bilateral frontal': 'Dilation of Virchow-Robin spaces'}\n",
    "white_matter_2Mapper = OptionColumnMapper(concept_recognizer=hpo_cr, option_d=white_matter_2)\n",
    "#print(white_matter_2Mapper .preview_column(dft['White matter_2']))\n",
    "column_mapper_d['White matter_2'] = white_matter_2Mapper\n",
    "\n",
    "white_matter_3 = {'Frontal nodular heterotopia (beads)': 'Gray matter heterotopia',\n",
    " 'perisylvian and occipital band heterotopia': 'Gray matter heterotopia'}\n",
    "white_matter_3Mapper = OptionColumnMapper(concept_recognizer=hpo_cr, option_d=white_matter_3)\n",
    "#print(white_matter_3Mapper.preview_column(dft['White matter_3']))\n",
    "column_mapper_d['White matter_3'] = white_matter_3Mapper\n",
    "\n",
    "\n",
    "lateral_ventricles = {'Ventriculomegaly': 'Lateral ventricle dilatation',\n",
    " 'Mild enlargement': 'Lateral ventricle dilatation'}\n",
    "lateral_ventriclesMapper = OptionColumnMapper(concept_recognizer=hpo_cr, option_d=lateral_ventricles)\n",
    "#print(lateral_ventriclesMapper.preview_column(dft['Lateral ventricles']))\n",
    "column_mapper_d['Lateral ventricles'] = lateral_ventriclesMapper\n",
    "\n",
    "third_ventricle = {'Ventriculomegaly': 'Dilated third ventricle',\n",
    " 'Mild enlargement': 'Dilated third ventricle'}\n",
    "third_ventricleMapper = OptionColumnMapper(concept_recognizer=hpo_cr, option_d=third_ventricle)\n",
    "#print(third_ventricleMapper.preview_column(dft['Third ventricle']))\n",
    "column_mapper_d['Third ventricle'] = third_ventricleMapper\n",
    "\n",
    "brainstem = {'Hypoplastic': 'Abnormal brainstem morphology',\n",
    " 'Mildly hypoplastic': 'Abnormal brainstem morphology',\n",
    " 'Hypoplasia of the pons': 'Hypoplasia of the pons'}\n",
    "brainstemMapper = OptionColumnMapper(concept_recognizer=hpo_cr, option_d=brainstem)\n",
    "#print(brainstemMapper.preview_column(dft['Brainstem']))\n",
    "column_mapper_d['Brainstem'] = brainstemMapper\n",
    "\n",
    "basal_ganglia = {'Thalamus normal putamen/globus pallidus small': 'Abnormal globus pallidus morphology',\n",
    " 'accentuated Virchow- Robin spaces': 'Dilation of Virchow-Robin spaces'}\n",
    "basal_gangliaMapper = OptionColumnMapper(concept_recognizer=hpo_cr, option_d=basal_ganglia)\n",
    "#print(basal_gangliaMapper.preview_column(dft['Basal ganglia']))\n",
    "column_mapper_d['Basal ganglia'] = basal_gangliaMapper\n",
    "\n",
    "corpus_callosum = {'elongated and mildly thickened': 'Abnormal length of corpus callosum',\n",
    " 'Present elongated and mildly thickened': 'Abnormal length of corpus callosum',\n",
    " 'elongated': 'Abnormal length of corpus callosum'}\n",
    "corpus_callosumMapper = OptionColumnMapper(concept_recognizer=hpo_cr, option_d=corpus_callosum)\n",
    "#print(corpus_callosumMapper.preview_column(dft['Corpus callosum']))\n",
    "column_mapper_d['Corpus callosum'] = corpus_callosumMapper\n",
    "\n",
    "vermis = {'Vermis hypoplasia cysts': 'Cerebellar vermis hypoplasia',\n",
    " 'Mild atrophy': 'Cerebellar vermis hypoplasia'}\n",
    "vermisMapper = OptionColumnMapper(concept_recognizer=hpo_cr, option_d=vermis)\n",
    "#print(vermisMapper.preview_column(dft['Vermis']))\n",
    "column_mapper_d['Vermis'] = vermisMapper\n",
    "\n",
    "post_fossa = {'Mega cisterna magna': 'Enlarged cisterna magna',\n",
    " 'Mega cistema magna': 'Enlarged cisterna magna'}\n",
    "post_fossaMapper = OptionColumnMapper(concept_recognizer=hpo_cr, option_d=post_fossa)\n",
    "#print(post_fossaMapper.preview_column(dft['Post fossa']))\n",
    "column_mapper_d['Post fossa'] = post_fossaMapper\n",
    "\n",
    "vessels = { 'Dilatation left A carotis interna': 'Carotid artery dilatation',\n",
    " 'stenosis right A carotis interna': 'Carotid artery stenosis'}\n",
    "vesselsMapper = OptionColumnMapper(concept_recognizer=hpo_cr, option_d=vessels)\n",
    "#print(vesselsMapper.preview_column(dft['Vessels']))\n",
    "column_mapper_d['Vessels'] = vesselsMapper\n",
    "\n",
    "arachnoid_cysts = {'Bilateral temporal pole arachnoidal cysts': 'Arachnoid cyst'}\n",
    "arachnoid_cystsMapper = OptionColumnMapper(concept_recognizer=hpo_cr, option_d=arachnoid_cysts)\n",
    "#print(arachnoid_cystsMapper.preview_column(dft['Arachnoid cysts']))\n",
    "column_mapper_d['Arachnoid cysts'] = arachnoid_cystsMapper"
   ]
  },
  {
   "cell_type": "markdown",
   "id": "5e53617d",
   "metadata": {},
   "source": [
    "<h2>Variant Data</h2>\n",
    "<p>The variant data (HGVS< transcript) is listed in the Variant (hg19, NM_015133.4) column.</p>"
   ]
  },
  {
   "cell_type": "code",
   "execution_count": 8,
   "id": "9008d72a-fa98-41ec-85e4-1b22b4645cce",
   "metadata": {},
   "outputs": [
    {
     "name": "stdout",
     "output_type": "stream",
     "text": [
      "https://rest.variantvalidator.org/VariantValidator/variantvalidator/hg38/NM_000090.3%3A c.3851G>A/NM_000090.3?content-type=application%2Fjson\n",
      "https://rest.variantvalidator.org/VariantValidator/variantvalidator/hg38/NM_000090.3%3A c.479dupT/NM_000090.3?content-type=application%2Fjson\n",
      "https://rest.variantvalidator.org/VariantValidator/variantvalidator/hg38/NM_000090.3%3Ac.479dupT/NM_000090.3?content-type=application%2Fjson\n",
      "https://rest.variantvalidator.org/VariantValidator/variantvalidator/hg38/NM_000090.3%3Ac.1786C>T/NM_000090.3?content-type=application%2Fjson\n",
      "https://rest.variantvalidator.org/VariantValidator/variantvalidator/hg38/NM_000090.3%3Ac.145C>G/NM_000090.3?content-type=application%2Fjson\n",
      "We extracted 5 variants\n"
     ]
    }
   ],
   "source": [
    "allele_1 = dft[\"Mutation in COL3A1\"].unique()\n",
    "allele_2 = dft[\"Second mutation in COL3A1\"].unique()\n",
    "alleles = set(allele_1)\n",
    "alleles.update(allele_2)\n",
    "genome = 'hg38'\n",
    "default_genotype = 'homozygous'\n",
    "COL3A1_transcript='NM_000090.3'\n",
    "vvalidator = VariantValidator(genome_build=genome, transcript=COL3A1_transcript)\n",
    "variant_d = {}\n",
    "for v in alleles:\n",
    "    var = vvalidator.encode_hgvs(v)\n",
    "    variant_d[v] = var\n",
    "print(f\"We extracted {len(variant_d)} variants\")"
   ]
  },
  {
   "cell_type": "markdown",
   "id": "d1af2052",
   "metadata": {},
   "source": [
    "<h1>Demographic data</h1>\n",
    "<p>pyphetools can be used to capture information about age, sex, and individual identifiers. This information is stored in a map of \"IndividualMapper\" objects. Special treatment may be required for the indifiers, which may be used as the column names or row index.</p>"
   ]
  },
  {
   "cell_type": "code",
   "execution_count": 9,
   "id": "3e64dc08",
   "metadata": {},
   "outputs": [
    {
     "data": {
      "text/html": [
       "<div>\n",
       "<style scoped>\n",
       "    .dataframe tbody tr th:only-of-type {\n",
       "        vertical-align: middle;\n",
       "    }\n",
       "\n",
       "    .dataframe tbody tr th {\n",
       "        vertical-align: top;\n",
       "    }\n",
       "\n",
       "    .dataframe thead th {\n",
       "        text-align: right;\n",
       "    }\n",
       "</style>\n",
       "<table border=\"1\" class=\"dataframe\">\n",
       "  <thead>\n",
       "    <tr style=\"text-align: right;\">\n",
       "      <th></th>\n",
       "      <th>original column contents</th>\n",
       "      <th>age</th>\n",
       "    </tr>\n",
       "  </thead>\n",
       "  <tbody>\n",
       "    <tr>\n",
       "      <th>0</th>\n",
       "      <td>7</td>\n",
       "      <td>P7Y</td>\n",
       "    </tr>\n",
       "    <tr>\n",
       "      <th>1</th>\n",
       "      <td>3.5</td>\n",
       "      <td>P3Y6M</td>\n",
       "    </tr>\n",
       "    <tr>\n",
       "      <th>2</th>\n",
       "      <td>10</td>\n",
       "      <td>P10Y</td>\n",
       "    </tr>\n",
       "    <tr>\n",
       "      <th>3</th>\n",
       "      <td>19</td>\n",
       "      <td>P19Y</td>\n",
       "    </tr>\n",
       "  </tbody>\n",
       "</table>\n",
       "</div>"
      ],
      "text/plain": [
       "  original column contents    age\n",
       "0                        7    P7Y\n",
       "1                      3.5  P3Y6M\n",
       "2                       10   P10Y\n",
       "3                       19   P19Y"
      ]
     },
     "execution_count": 9,
     "metadata": {},
     "output_type": "execute_result"
    }
   ],
   "source": [
    "ageMapper = AgeColumnMapper.by_year('Age at examination(years)')\n",
    "ageMapper.preview_column(dft['Age at examination(years)'])"
   ]
  },
  {
   "cell_type": "code",
   "execution_count": 10,
   "id": "71f664cc",
   "metadata": {},
   "outputs": [
    {
     "data": {
      "text/html": [
       "<div>\n",
       "<style scoped>\n",
       "    .dataframe tbody tr th:only-of-type {\n",
       "        vertical-align: middle;\n",
       "    }\n",
       "\n",
       "    .dataframe tbody tr th {\n",
       "        vertical-align: top;\n",
       "    }\n",
       "\n",
       "    .dataframe thead th {\n",
       "        text-align: right;\n",
       "    }\n",
       "</style>\n",
       "<table border=\"1\" class=\"dataframe\">\n",
       "  <thead>\n",
       "    <tr style=\"text-align: right;\">\n",
       "      <th></th>\n",
       "      <th>original column contents</th>\n",
       "      <th>sex</th>\n",
       "    </tr>\n",
       "  </thead>\n",
       "  <tbody>\n",
       "    <tr>\n",
       "      <th>0</th>\n",
       "      <td>female</td>\n",
       "      <td>FEMALE</td>\n",
       "    </tr>\n",
       "    <tr>\n",
       "      <th>1</th>\n",
       "      <td>male</td>\n",
       "      <td>MALE</td>\n",
       "    </tr>\n",
       "    <tr>\n",
       "      <th>2</th>\n",
       "      <td>female</td>\n",
       "      <td>FEMALE</td>\n",
       "    </tr>\n",
       "    <tr>\n",
       "      <th>3</th>\n",
       "      <td>female</td>\n",
       "      <td>FEMALE</td>\n",
       "    </tr>\n",
       "  </tbody>\n",
       "</table>\n",
       "</div>"
      ],
      "text/plain": [
       "  original column contents     sex\n",
       "0                   female  FEMALE\n",
       "1                     male    MALE\n",
       "2                   female  FEMALE\n",
       "3                   female  FEMALE"
      ]
     },
     "execution_count": 10,
     "metadata": {},
     "output_type": "execute_result"
    }
   ],
   "source": [
    "sexMapper = SexColumnMapper(male_symbol='male', female_symbol='female', column_name='Sex')\n",
    "sexMapper.preview_column(dft['Sex'])"
   ]
  },
  {
   "cell_type": "code",
   "execution_count": 11,
   "id": "f6581a8a",
   "metadata": {},
   "outputs": [],
   "source": [
    "disease = Disease(disease_id='OMIM:618343', disease_label='Polymicrogyria with or without vascular-type EDS')\n",
    "encoder = CohortEncoder(df=dft, \n",
    "                        hpo_cr=hpo_cr, \n",
    "                        column_mapper_d=column_mapper_d, \n",
    "                        individual_column_name=\"patient_id\", \n",
    "                        agemapper=ageMapper, \n",
    "                        sexmapper=sexMapper,\n",
    "                        metadata=metadata,\n",
    "                        citation=cite)\n",
    "encoder.set_disease(disease)"
   ]
  },
  {
   "cell_type": "markdown",
   "id": "36f64a38-2cb4-4452-9e42-cdccbe123728",
   "metadata": {},
   "source": [
    "# Add variant data"
   ]
  },
  {
   "cell_type": "code",
   "execution_count": 12,
   "id": "3c04a936-cb2b-451d-8870-bb8e5068abfd",
   "metadata": {},
   "outputs": [],
   "source": [
    "individuals = encoder.get_individuals()\n",
    "for indi in individuals:\n",
    "    row = dft.loc[indi.id]\n",
    "    v1 = row['Mutation in COL3A1']\n",
    "    v2 = row['Second mutation in COL3A1']\n",
    "    if v1 == v2:\n",
    "        var = variant_d.get(v1)\n",
    "        var.set_homozygous()\n",
    "        indi.add_variant(var)\n",
    "    else:\n",
    "        var1 = variant_d.get(v1)\n",
    "        var1.set_heterozygous()\n",
    "        var2 = variant_d.get(v2)\n",
    "        var2.set_heterozygous()\n",
    "        indi.add_variant(var1)\n",
    "        indi.add_variant(var2)"
   ]
  },
  {
   "cell_type": "code",
   "execution_count": 13,
   "id": "5d044b78",
   "metadata": {},
   "outputs": [
    {
     "data": {
      "text/html": [
       "<h2>Cohort validation</h2>\n",
       "<p>Errors found with 1 of 4 phenopackets.</p>\n",
       "<table style=\"border: 2px solid black; align: \"left\">\n",
       "<caption>Error analysis</caption>\n",
       "<tr><th style=\"text-align: left;font-weight: bold;\">ID</th><th style=\"text-align: left;font-weight: bold;\">Level</th><th style=\"text-align: left;font-weight: bold;\">Category</th><th style=\"text-align: left;font-weight: bold;\">Message</th><th style=\"text-align: left;font-weight: bold;\">HPO Term</th></tr>\n",
       "<tr><td style=\"text-align: left;\">PMID_28258187_Patient_1</td><td style=\"text-align: left;\">WARNING</td><td style=\"text-align: left;\">REDUNDANT</td><td style=\"text-align: left;\"><b>Dilation of Virchow-Robin spaces</b> is listed multiple times</td><td style=\"text-align: left;\">Dilation of Virchow-Robin spaces (HP:0012520)</td></tr>\n",
       "</table>"
      ],
      "text/plain": [
       "<IPython.core.display.HTML object>"
      ]
     },
     "metadata": {},
     "output_type": "display_data"
    }
   ],
   "source": [
    "cvalidator = CohortValidator(cohort=individuals, ontology=hpo_ontology, min_hpo=1, allelic_requirement=AllelicRequirement.BI_ALLELIC)\n",
    "validated_individuals = cvalidator.get_validated_individual_list()\n",
    "qc = QcVisualizer(ontology=hpo_ontology, cohort_validator=cvalidator)\n",
    "display(HTML(qc.to_html()))"
   ]
  },
  {
   "cell_type": "markdown",
   "id": "ea84d704-a291-4ea8-acd5-31cba1d7c099",
   "metadata": {},
   "source": [
    "## Clean annotations\n",
    "We use the validated individuals to get a version of the phenopackets without the redundant term"
   ]
  },
  {
   "cell_type": "code",
   "execution_count": 14,
   "id": "f9f913a2-15ce-434f-a95b-cdfc6ee084d6",
   "metadata": {},
   "outputs": [
    {
     "data": {
      "text/html": [
       "<h2>Cohort validation</h2>\n",
       "<p>No errors found for the cohort with 4 individuals</p>"
      ],
      "text/plain": [
       "<IPython.core.display.HTML object>"
      ]
     },
     "metadata": {},
     "output_type": "display_data"
    }
   ],
   "source": [
    "individuals = cvalidator.get_error_free_individual_list()\n",
    "cvalidator = CohortValidator(cohort=individuals, ontology=hpo_ontology, min_hpo=1, allelic_requirement=AllelicRequirement.BI_ALLELIC)\n",
    "validated_individuals = cvalidator.get_validated_individual_list()\n",
    "qc = QcVisualizer(ontology=hpo_ontology, cohort_validator=cvalidator)\n",
    "display(HTML(qc.to_html()))"
   ]
  },
  {
   "cell_type": "code",
   "execution_count": 15,
   "id": "d1d4ee19-a732-4126-951a-4adf284f732d",
   "metadata": {},
   "outputs": [
    {
     "data": {
      "text/html": [
       "<table style=\"border: 2px solid black; align: \"left\">\n",
       "<caption>4 phenopackets - PMID:28258187 (n=4)</caption>\n",
       "<tr><th style=\"text-align: left;font-weight: bold;\">Individual</th><th style=\"text-align: left;font-weight: bold;\">Disease</th><th style=\"text-align: left;font-weight: bold;\">Genotype</th><th style=\"text-align: left;font-weight: bold;\">Phenotypic features</th></tr>\n",
       "<tr><td style=\"text-align: left;\">Patient 1 (FEMALE; P7Y)</td><td style=\"text-align: left;\">Polymicrogyria with or without vascular-type EDS (OMIM:618343)</td><td style=\"text-align: left;\">NM_000090.3:c.145C>G (homozygous)</td><td style=\"text-align: left;\">Cerebellar vermis hypoplasia (HP:0001320); Abnormal brainstem morphology (HP:0002363); Dilation of Virchow-Robin spaces (HP:0012520); Dysgyria with thickened cortex (HP:0032400); Dilated third ventricle (HP:0007082); Renal cortical cysts (HP:0000803); Abnormal length of corpus callosum (HP:0200011); Lateral ventricle dilatation (HP:0006956); Enlarged cisterna magna (HP:0002280); Global developmental delay (HP:0001263); Seizure (HP:0001250); Abnormal cerebellar cortex morphology (HP:0031422); Hypointensity of cerebral white matter on MRI (HP:0007103)</td></tr>\n",
       "<tr><td style=\"text-align: left;\">Patient 2 (MALE; P3Y6M)</td><td style=\"text-align: left;\">Polymicrogyria with or without vascular-type EDS (OMIM:618343)</td><td style=\"text-align: left;\">NM_000090.3:c.145C>G (homozygous)</td><td style=\"text-align: left;\">Abnormal cerebellar cortex morphology (HP:0031422); Renal cortical cysts (HP:0000803); Global developmental delay (HP:0001263); Absent speech (HP:0001344); Macrocephaly (HP:0000256); Seizure (HP:0001250); Dysgyria with thickened cortex (HP:0032400); Cerebral hypomyelination (HP:0006808); Dilation of Virchow-Robin spaces (HP:0012520); Lateral ventricle dilatation (HP:0006956); Dilated third ventricle (HP:0007082); Abnormal brainstem morphology (HP:0002363); Abnormal length of corpus callosum (HP:0200011); Cerebellar vermis hypoplasia (HP:0001320); Enlarged cisterna magna (HP:0002280); Arachnoid cyst (HP:0100702)</td></tr>\n",
       "<tr><td style=\"text-align: left;\">Patient 3 (FEMALE; P10Y)</td><td style=\"text-align: left;\">Polymicrogyria with or without vascular-type EDS (OMIM:618343)</td><td style=\"text-align: left;\"><ul> <li>NM_000090.3:c.479dup (heterozygous)</li> <li>NM_000090.3:c.479dup (heterozygous)</li> </ul></td><td style=\"text-align: left;\">Bruising susceptibility (HP:0000978); Abnormal arterial physiology (HP:0025323); Renal cortical cysts (HP:0000803); Varicose veins (HP:0002619); Joint hypermobility (HP:0001382); Pulmonic stenosis (HP:0001642); Atrophic scars (HP:0001075); Gingival recession (HP:0030816); Talipes equinovarus (HP:0001762); Motor delay (HP:0001270); Typical absence seizure (HP:0011147); Dysgyria with thickened cortex (HP:0032400); Polymicrogyria (HP:0002126); Dilation of Virchow-Robin spaces (HP:0012520); Lateral ventricle dilatation (HP:0006956); Dilated third ventricle (HP:0007082); Hypoplasia of the pons (HP:0012110); Abnormal length of corpus callosum (HP:0200011); Arachnoid cyst (HP:0100702)</td></tr>\n",
       "<tr><td style=\"text-align: left;\">Patient 4 (FEMALE; P19Y)</td><td style=\"text-align: left;\">Polymicrogyria with or without vascular-type EDS (OMIM:618343)</td><td style=\"text-align: left;\"><ul> <li>NM_000090.3:c.1786C>T (heterozygous)</li> <li>NM_000090.3:c.3851G>A (heterozygous)</li> </ul></td><td style=\"text-align: left;\">Bruising susceptibility (HP:0000978); Dermal translucency (HP:0010648); Arterial dissection (HP:0005294); Renal cortical cysts (HP:0000803); Joint hypermobility (HP:0001382); Tendon rupture (HP:0100550); Slender finger (HP:0001238); Polymicrogyria (HP:0002126); Dilation of Virchow-Robin spaces (HP:0012520); Cerebellar vermis hypoplasia (HP:0001320); Enlarged cisterna magna (HP:0002280); Carotid artery dilatation (HP:0012163); Carotid artery stenosis (HP:0100546)</td></tr>\n",
       "</table>"
      ],
      "text/plain": [
       "<IPython.core.display.HTML object>"
      ]
     },
     "metadata": {},
     "output_type": "display_data"
    }
   ],
   "source": [
    "table = PhenopacketTable(individual_list=individuals, metadata=metadata)\n",
    "display(HTML(table.to_html()))"
   ]
  },
  {
   "cell_type": "code",
   "execution_count": 16,
   "id": "23f1094f",
   "metadata": {},
   "outputs": [
    {
     "name": "stdout",
     "output_type": "stream",
     "text": [
      "We output 4 GA4GH phenopackets to the directory phenopackets\n"
     ]
    }
   ],
   "source": [
    "output_directory = \"phenopackets\"\n",
    "Individual.output_individuals_as_phenopackets(individual_list=individuals,\n",
    "                                              metadata=metadata,\n",
    "                                              outdir=output_directory)"
   ]
  },
  {
   "cell_type": "code",
   "execution_count": null,
   "id": "d5be6641-961c-4592-8a77-2c485a311b08",
   "metadata": {},
   "outputs": [],
   "source": []
  }
 ],
 "metadata": {
  "kernelspec": {
   "display_name": "Python 3 (ipykernel)",
   "language": "python",
   "name": "python3"
  },
  "language_info": {
   "codemirror_mode": {
    "name": "ipython",
    "version": 3
   },
   "file_extension": ".py",
   "mimetype": "text/x-python",
   "name": "python",
   "nbconvert_exporter": "python",
   "pygments_lexer": "ipython3",
   "version": "3.11.3"
  }
 },
 "nbformat": 4,
 "nbformat_minor": 5
}
