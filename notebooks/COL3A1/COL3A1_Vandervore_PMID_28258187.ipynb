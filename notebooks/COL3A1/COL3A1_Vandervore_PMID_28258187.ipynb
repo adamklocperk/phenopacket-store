{
 "cells": [
  {
   "cell_type": "markdown",
   "id": "a39f3c65",
   "metadata": {},
   "source": [
    "<h1>COL3A1: Vandervore (2017)</h1>\n",
    "<p>Data derived from <a href=\"https://pubmed.ncbi.nlm.nih.gov/28258187/\" target=\"__blank\">Vandervore, et al. (2017) Bi-allelic variants in COL3A1 encoding the ligand to GPR56 are associated with cobblestone-like cortical malformation, white matter changes and cerebellar cysts</a></p>"
   ]
  },
  {
   "cell_type": "code",
   "execution_count": 1,
   "id": "f0602c0e",
   "metadata": {},
   "outputs": [
    {
     "name": "stdout",
     "output_type": "stream",
     "text": [
      "pyphetools version 0.9.31\n"
     ]
    }
   ],
   "source": [
    "import pandas as pd\n",
    "pd.set_option('display.max_colwidth', None) # show entire column contents, important!\n",
    "from IPython.display import HTML, display\n",
    "from pyphetools.creation import *\n",
    "from pyphetools.visualization import *\n",
    "from pyphetools.validation import *\n",
    "import pyphetools\n",
    "print(f\"pyphetools version {pyphetools.__version__}\")"
   ]
  },
  {
   "cell_type": "markdown",
   "id": "8606e7eb",
   "metadata": {},
   "source": [
    "<h2>Importing HPO data</h2>\n",
    "<p>pyphetools uses the Human Phenotype Ontology (HPO) to encode phenotypic features. The recommended way of doing this is to ingest the hp.json file using HpoParser, which in turn creates an HpoConceptRecognizer object. </p>\n",
    "<p>The HpoParser can accept a hpo_json_file argument if you want to use a specific file. If the argument is not passed, it will download the latext hp.json file from the HPO GitHub site and store it in a new subdirectory called hpo_data. It will not download the file if the file is already downloaded.</p>"
   ]
  },
  {
   "cell_type": "code",
   "execution_count": 2,
   "id": "5a7789fc",
   "metadata": {},
   "outputs": [
    {
     "name": "stdout",
     "output_type": "stream",
     "text": [
      "HPO version 2024-01-16\n"
     ]
    }
   ],
   "source": [
    "PMID = \"PMID:28258187\"\n",
    "title = \"Bi-allelic variants in COL3A1 encoding the ligand to GPR56 are associated with cobblestone-like cortical malformation, white matter changes and cerebellar cysts\"\n",
    "cite = Citation(pmid=PMID, title=title)\n",
    "parser = HpoParser(hpo_json_file=\"../hp.json\")\n",
    "hpo_cr = parser.get_hpo_concept_recognizer()\n",
    "hpo_version = parser.get_version()\n",
    "hpo_ontology = parser.get_ontology()\n",
    "metadata = MetaData(created_by=\"ORCID:0000-0002-5648-2155\", citation=cite)\n",
    "metadata.default_versions_with_hpo(version=hpo_version)\n",
    "print(f\"HPO version {hpo_version}\")"
   ]
  },
  {
   "cell_type": "markdown",
   "id": "5102722a",
   "metadata": {},
   "source": [
    "<h2>Importing the clinical data</h2>"
   ]
  },
  {
   "cell_type": "code",
   "execution_count": 3,
   "id": "f17c3924",
   "metadata": {},
   "outputs": [],
   "source": [
    "df = pd.read_excel('input/PMID_28258187.xlsx')"
   ]
  },
  {
   "cell_type": "code",
   "execution_count": 4,
   "id": "06ec7dbd",
   "metadata": {},
   "outputs": [
    {
     "data": {
      "text/html": [
       "<div>\n",
       "<style scoped>\n",
       "    .dataframe tbody tr th:only-of-type {\n",
       "        vertical-align: middle;\n",
       "    }\n",
       "\n",
       "    .dataframe tbody tr th {\n",
       "        vertical-align: top;\n",
       "    }\n",
       "\n",
       "    .dataframe thead th {\n",
       "        text-align: right;\n",
       "    }\n",
       "</style>\n",
       "<table border=\"1\" class=\"dataframe\">\n",
       "  <thead>\n",
       "    <tr style=\"text-align: right;\">\n",
       "      <th></th>\n",
       "      <th>Clinical features</th>\n",
       "      <th>Patient 1 (11.3 this manuscript)</th>\n",
       "      <th>Patient 2 (11.4 this manuscript)</th>\n",
       "      <th>Patient 3 (Plancke et al, 2009)</th>\n",
       "      <th>Patient 4 (Jergensen et al, 2014)</th>\n",
       "    </tr>\n",
       "  </thead>\n",
       "  <tbody>\n",
       "    <tr>\n",
       "      <th>0</th>\n",
       "      <td>patient_id</td>\n",
       "      <td>Patient 1</td>\n",
       "      <td>Patient 2</td>\n",
       "      <td>Patient 3</td>\n",
       "      <td>Patient 4</td>\n",
       "    </tr>\n",
       "    <tr>\n",
       "      <th>1</th>\n",
       "      <td>Sex</td>\n",
       "      <td>female</td>\n",
       "      <td>male</td>\n",
       "      <td>female</td>\n",
       "      <td>female</td>\n",
       "    </tr>\n",
       "    <tr>\n",
       "      <th>2</th>\n",
       "      <td>Age at examination(years)</td>\n",
       "      <td>7</td>\n",
       "      <td>3.5</td>\n",
       "      <td>10</td>\n",
       "      <td>19</td>\n",
       "    </tr>\n",
       "    <tr>\n",
       "      <th>3</th>\n",
       "      <td>Mutation in COL3A1</td>\n",
       "      <td>c.145C&gt;G</td>\n",
       "      <td>c.145C&gt;G</td>\n",
       "      <td>c.479dupT</td>\n",
       "      <td>c.1786C&gt;T</td>\n",
       "    </tr>\n",
       "    <tr>\n",
       "      <th>4</th>\n",
       "      <td>Second mutation in COL3A1</td>\n",
       "      <td>c.145C&gt;G</td>\n",
       "      <td>c.145C&gt;G</td>\n",
       "      <td>c.479dupT</td>\n",
       "      <td>c.3851G&gt;A</td>\n",
       "    </tr>\n",
       "  </tbody>\n",
       "</table>\n",
       "</div>"
      ],
      "text/plain": [
       "            Clinical features Patient 1 (11.3 this manuscript)  \\\n",
       "0                  patient_id                        Patient 1   \n",
       "1                         Sex                           female   \n",
       "2   Age at examination(years)                                7   \n",
       "3          Mutation in COL3A1                         c.145C>G   \n",
       "4  Second mutation in COL3A1                          c.145C>G   \n",
       "\n",
       "  Patient 2 (11.4 this manuscript) Patient 3 (Plancke et al, 2009)  \\\n",
       "0                        Patient 2                       Patient 3   \n",
       "1                             male                          female   \n",
       "2                              3.5                              10   \n",
       "3                         c.145C>G                       c.479dupT   \n",
       "4                         c.145C>G                       c.479dupT   \n",
       "\n",
       "  Patient 4 (Jergensen et al, 2014)  \n",
       "0                         Patient 4  \n",
       "1                            female  \n",
       "2                                19  \n",
       "3                         c.1786C>T  \n",
       "4                         c.3851G>A  "
      ]
     },
     "execution_count": 4,
     "metadata": {},
     "output_type": "execute_result"
    }
   ],
   "source": [
    "df.head()"
   ]
  },
  {
   "cell_type": "code",
   "execution_count": 5,
   "id": "c85c793f",
   "metadata": {},
   "outputs": [
    {
     "data": {
      "text/html": [
       "<div>\n",
       "<style scoped>\n",
       "    .dataframe tbody tr th:only-of-type {\n",
       "        vertical-align: middle;\n",
       "    }\n",
       "\n",
       "    .dataframe tbody tr th {\n",
       "        vertical-align: top;\n",
       "    }\n",
       "\n",
       "    .dataframe thead th {\n",
       "        text-align: right;\n",
       "    }\n",
       "</style>\n",
       "<table border=\"1\" class=\"dataframe\">\n",
       "  <thead>\n",
       "    <tr style=\"text-align: right;\">\n",
       "      <th>Clinical features</th>\n",
       "      <th>patient_id</th>\n",
       "      <th>Sex</th>\n",
       "      <th>Age at examination(years)</th>\n",
       "      <th>Mutation in COL3A1</th>\n",
       "      <th>Second mutation in COL3A1</th>\n",
       "      <th>Major features</th>\n",
       "      <th>Minor features</th>\n",
       "      <th>Additional features</th>\n",
       "      <th>Congenital anomalies</th>\n",
       "      <th>Neurological examination</th>\n",
       "      <th>...</th>\n",
       "      <th>Basal ganglia</th>\n",
       "      <th>Corpus callosum</th>\n",
       "      <th>Hippocampus</th>\n",
       "      <th>Cortex</th>\n",
       "      <th>White matter_5</th>\n",
       "      <th>Vermis</th>\n",
       "      <th>Post fossa</th>\n",
       "      <th>Pituitary</th>\n",
       "      <th>Arachnoid cysts</th>\n",
       "      <th>Vessels</th>\n",
       "    </tr>\n",
       "  </thead>\n",
       "  <tbody>\n",
       "    <tr>\n",
       "      <th>Patient 1 (11.3 this manuscript)</th>\n",
       "      <td>Patient 1</td>\n",
       "      <td>female</td>\n",
       "      <td>7</td>\n",
       "      <td>c.145C&gt;G</td>\n",
       "      <td>c.145C&gt;G</td>\n",
       "      <td>-</td>\n",
       "      <td>-</td>\n",
       "      <td>-</td>\n",
       "      <td>-</td>\n",
       "      <td>Global developmental delay, walks without support, uses a few words</td>\n",
       "      <td>...</td>\n",
       "      <td>Thalamus normal putamen/globus pallidus small, accentuated Virchow- Robin spaces</td>\n",
       "      <td>Present, elongated and mildly thickened</td>\n",
       "      <td>Normal</td>\n",
       "      <td>Dysplastic cerebellar cortex, multiple cortical cysts superior&gt;inferior</td>\n",
       "      <td>No hypoplasia, multifocal lesions in cerebellar white matter</td>\n",
       "      <td>Vermis hypoplasia cysts</td>\n",
       "      <td>Mega cisterna magna</td>\n",
       "      <td>Normal</td>\n",
       "      <td>NaN</td>\n",
       "      <td>Intracranial segment of the A carotis interna is normal</td>\n",
       "    </tr>\n",
       "    <tr>\n",
       "      <th>Patient 2 (11.4 this manuscript)</th>\n",
       "      <td>Patient 2</td>\n",
       "      <td>male</td>\n",
       "      <td>3.5</td>\n",
       "      <td>c.145C&gt;G</td>\n",
       "      <td>c.145C&gt;G</td>\n",
       "      <td>-</td>\n",
       "      <td>-</td>\n",
       "      <td>-</td>\n",
       "      <td>-</td>\n",
       "      <td>Global developmental delay. sits independently, no words</td>\n",
       "      <td>...</td>\n",
       "      <td>Normal volume and signal intensity, accentuated Virchow-Robin spaces</td>\n",
       "      <td>Present elongated and mildly thickened</td>\n",
       "      <td>Normal</td>\n",
       "      <td>Dysplastic cerebellar cortex, multiple cortical cysts superior&gt;inferior</td>\n",
       "      <td>No hypoplasia multifocal lesions in cerebellar white matter</td>\n",
       "      <td>Vermis hypoplasia cysts</td>\n",
       "      <td>Mega cisterna magna</td>\n",
       "      <td>Normal</td>\n",
       "      <td>Bilateral temporal pole arachnoidal cysts</td>\n",
       "      <td>Intracranial segment of the A carotis interna is normal</td>\n",
       "    </tr>\n",
       "  </tbody>\n",
       "</table>\n",
       "<p>2 rows × 35 columns</p>\n",
       "</div>"
      ],
      "text/plain": [
       "Clinical features                patient_id     Sex Age at examination(years)  \\\n",
       "Patient 1 (11.3 this manuscript)  Patient 1  female                         7   \n",
       "Patient 2 (11.4 this manuscript)  Patient 2    male                       3.5   \n",
       "\n",
       "Clinical features                Mutation in COL3A1 Second mutation in COL3A1  \\\n",
       "Patient 1 (11.3 this manuscript)           c.145C>G                  c.145C>G   \n",
       "Patient 2 (11.4 this manuscript)           c.145C>G                  c.145C>G   \n",
       "\n",
       "Clinical features                Major features Minor features  \\\n",
       "Patient 1 (11.3 this manuscript)              -              -   \n",
       "Patient 2 (11.4 this manuscript)              -              -   \n",
       "\n",
       "Clinical features                Additional features Congenital anomalies  \\\n",
       "Patient 1 (11.3 this manuscript)                   -                    -   \n",
       "Patient 2 (11.4 this manuscript)                   -                    -   \n",
       "\n",
       "Clinical features                                                            Neurological examination  \\\n",
       "Patient 1 (11.3 this manuscript)  Global developmental delay, walks without support, uses a few words   \n",
       "Patient 2 (11.4 this manuscript)             Global developmental delay. sits independently, no words   \n",
       "\n",
       "Clinical features                 ...  \\\n",
       "Patient 1 (11.3 this manuscript)  ...   \n",
       "Patient 2 (11.4 this manuscript)  ...   \n",
       "\n",
       "Clinical features                                                                                    Basal ganglia  \\\n",
       "Patient 1 (11.3 this manuscript)  Thalamus normal putamen/globus pallidus small, accentuated Virchow- Robin spaces   \n",
       "Patient 2 (11.4 this manuscript)              Normal volume and signal intensity, accentuated Virchow-Robin spaces   \n",
       "\n",
       "Clinical features                                         Corpus callosum  \\\n",
       "Patient 1 (11.3 this manuscript)  Present, elongated and mildly thickened   \n",
       "Patient 2 (11.4 this manuscript)   Present elongated and mildly thickened   \n",
       "\n",
       "Clinical features                Hippocampus  \\\n",
       "Patient 1 (11.3 this manuscript)      Normal   \n",
       "Patient 2 (11.4 this manuscript)      Normal   \n",
       "\n",
       "Clinical features                                                                                  Cortex  \\\n",
       "Patient 1 (11.3 this manuscript)  Dysplastic cerebellar cortex, multiple cortical cysts superior>inferior   \n",
       "Patient 2 (11.4 this manuscript)  Dysplastic cerebellar cortex, multiple cortical cysts superior>inferior   \n",
       "\n",
       "Clinical features                                                               White matter_5  \\\n",
       "Patient 1 (11.3 this manuscript)  No hypoplasia, multifocal lesions in cerebellar white matter   \n",
       "Patient 2 (11.4 this manuscript)   No hypoplasia multifocal lesions in cerebellar white matter   \n",
       "\n",
       "Clinical features                                  Vermis  \\\n",
       "Patient 1 (11.3 this manuscript)  Vermis hypoplasia cysts   \n",
       "Patient 2 (11.4 this manuscript)  Vermis hypoplasia cysts   \n",
       "\n",
       "Clinical features                          Post fossa Pituitary  \\\n",
       "Patient 1 (11.3 this manuscript)  Mega cisterna magna    Normal   \n",
       "Patient 2 (11.4 this manuscript)  Mega cisterna magna    Normal   \n",
       "\n",
       "Clinical features                                           Arachnoid cysts  \\\n",
       "Patient 1 (11.3 this manuscript)                                        NaN   \n",
       "Patient 2 (11.4 this manuscript)  Bilateral temporal pole arachnoidal cysts   \n",
       "\n",
       "Clinical features                                                                 Vessels  \n",
       "Patient 1 (11.3 this manuscript)  Intracranial segment of the A carotis interna is normal  \n",
       "Patient 2 (11.4 this manuscript)  Intracranial segment of the A carotis interna is normal  \n",
       "\n",
       "[2 rows x 35 columns]"
      ]
     },
     "execution_count": 5,
     "metadata": {},
     "output_type": "execute_result"
    }
   ],
   "source": [
    "# Covert to row based data\n",
    "dft = df.transpose()\n",
    "dft.columns = dft.iloc[0]\n",
    "dft.drop(dft.index[0], inplace=True)\n",
    "import re\n",
    "dft.columns = dft.columns.str.strip()\n",
    "dft = dft.dropna(axis=1, how='all')\n",
    "# simplify the name of the id column to remove e.g.,(11.3 this manuscript) f\n",
    "#dft.set_index(\"patient_id\", inplace = True)\n",
    "dft.head(2)"
   ]
  },
  {
   "cell_type": "markdown",
   "id": "8314d6bd",
   "metadata": {},
   "source": [
    "<h2>Column mappers</h2>\n",
    "<p>Please see the notebook \"Create phenopackets from tabular data with individuals in rows\" for explanations. In the following cell we create a dictionary for the ColumnMappers. Note that the code is identical except that we use the df.loc function to get the corresponding row data</p>"
   ]
  },
  {
   "cell_type": "code",
   "execution_count": 6,
   "id": "2305a0d2",
   "metadata": {},
   "outputs": [],
   "source": [
    "column_mapper_list = list()"
   ]
  },
  {
   "cell_type": "markdown",
   "id": "9ecb20c7",
   "metadata": {},
   "source": [
    "Lets try to get code autoformatted so that we can easily copy-paste and change it."
   ]
  },
  {
   "cell_type": "code",
   "execution_count": 7,
   "id": "88e52430",
   "metadata": {},
   "outputs": [
    {
     "data": {
      "text/html": [
       "<div>\n",
       "<style scoped>\n",
       "    .dataframe tbody tr th:only-of-type {\n",
       "        vertical-align: middle;\n",
       "    }\n",
       "\n",
       "    .dataframe tbody tr th {\n",
       "        vertical-align: top;\n",
       "    }\n",
       "\n",
       "    .dataframe thead th {\n",
       "        text-align: right;\n",
       "    }\n",
       "</style>\n",
       "<table border=\"1\" class=\"dataframe\">\n",
       "  <thead>\n",
       "    <tr style=\"text-align: right;\">\n",
       "      <th></th>\n",
       "      <th>mapping</th>\n",
       "      <th>count</th>\n",
       "    </tr>\n",
       "  </thead>\n",
       "  <tbody>\n",
       "    <tr>\n",
       "      <th>0</th>\n",
       "      <td>original value: \"Easy bruising thin translucent skin, intestinal/arterial tissue fragility. characteristic facial appearance\" -&gt; HP: Bruising susceptibility (HP:0000978) (observed)</td>\n",
       "      <td>1</td>\n",
       "    </tr>\n",
       "    <tr>\n",
       "      <th>1</th>\n",
       "      <td>original value: \"Easy bruising, thin translucent skin, arterial dissections, characteristic facial appearance\" -&gt; HP: Bruising susceptibility (HP:0000978) (observed)</td>\n",
       "      <td>1</td>\n",
       "    </tr>\n",
       "  </tbody>\n",
       "</table>\n",
       "</div>"
      ],
      "text/plain": [
       "                                                                                                                                                                                mapping  \\\n",
       "0  original value: \"Easy bruising thin translucent skin, intestinal/arterial tissue fragility. characteristic facial appearance\" -> HP: Bruising susceptibility (HP:0000978) (observed)   \n",
       "1                 original value: \"Easy bruising, thin translucent skin, arterial dissections, characteristic facial appearance\" -> HP: Bruising susceptibility (HP:0000978) (observed)   \n",
       "\n",
       "  count  \n",
       "0     1  \n",
       "1     1  "
      ]
     },
     "execution_count": 7,
     "metadata": {},
     "output_type": "execute_result"
    }
   ],
   "source": [
    "major_features = {'Easy bruising thin translucent skin': 'Bruising susceptibility',\n",
    " 'arterial tissue fragility': 'Abnormal arterial physiology',\n",
    " 'Easy bruising': 'Bruising susceptibility',\n",
    " 'thin translucent skin': 'Dermal translucency',\n",
    " 'arterial dissections': 'Arterial dissection',}\n",
    "major_featuresMapper = OptionColumnMapper(column_name=\"Major features\",concept_recognizer=hpo_cr, option_d=major_features)\n",
    "column_mapper_list.append(major_featuresMapper)\n",
    "major_featuresMapper.preview_column(dft)"
   ]
  },
  {
   "cell_type": "code",
   "execution_count": 8,
   "id": "fad3b0af-8af8-4b41-a745-719b45d86a9c",
   "metadata": {},
   "outputs": [
    {
     "data": {
      "text/html": [
       "<div>\n",
       "<style scoped>\n",
       "    .dataframe tbody tr th:only-of-type {\n",
       "        vertical-align: middle;\n",
       "    }\n",
       "\n",
       "    .dataframe tbody tr th {\n",
       "        vertical-align: top;\n",
       "    }\n",
       "\n",
       "    .dataframe thead th {\n",
       "        text-align: right;\n",
       "    }\n",
       "</style>\n",
       "<table border=\"1\" class=\"dataframe\">\n",
       "  <thead>\n",
       "    <tr style=\"text-align: right;\">\n",
       "      <th></th>\n",
       "      <th>mapping</th>\n",
       "      <th>count</th>\n",
       "    </tr>\n",
       "  </thead>\n",
       "  <tbody>\n",
       "    <tr>\n",
       "      <th>0</th>\n",
       "      <td>original value: \"Dysplastic cerebellar cortex, multiple cortical cysts superior&gt;inferior\" -&gt; HP: Abnormal cerebellar cortex morphology (HP:0031422) (observed)</td>\n",
       "      <td>2</td>\n",
       "    </tr>\n",
       "    <tr>\n",
       "      <th>1</th>\n",
       "      <td>original value: \"Cortical cysts\" -&gt; HP: Renal cortical cysts (HP:0000803) (observed)</td>\n",
       "      <td>1</td>\n",
       "    </tr>\n",
       "    <tr>\n",
       "      <th>2</th>\n",
       "      <td>original value: \"Few cortical cysts superior cerebellar lobe\" -&gt; HP: Renal cortical cysts (HP:0000803) (observed)</td>\n",
       "      <td>1</td>\n",
       "    </tr>\n",
       "  </tbody>\n",
       "</table>\n",
       "</div>"
      ],
      "text/plain": [
       "                                                                                                                                                          mapping  \\\n",
       "0  original value: \"Dysplastic cerebellar cortex, multiple cortical cysts superior>inferior\" -> HP: Abnormal cerebellar cortex morphology (HP:0031422) (observed)   \n",
       "1                                                                            original value: \"Cortical cysts\" -> HP: Renal cortical cysts (HP:0000803) (observed)   \n",
       "2                                               original value: \"Few cortical cysts superior cerebellar lobe\" -> HP: Renal cortical cysts (HP:0000803) (observed)   \n",
       "\n",
       "  count  \n",
       "0     2  \n",
       "1     1  \n",
       "2     1  "
      ]
     },
     "execution_count": 8,
     "metadata": {},
     "output_type": "execute_result"
    }
   ],
   "source": [
    "cortex = {'Dysplastic cerebellar cortex': 'Abnormal cerebellar cortex morphology'}\n",
    "cortexMapper = OptionColumnMapper(column_name=\"Cortex\", concept_recognizer=hpo_cr, option_d=cortex)\n",
    "column_mapper_list.append(cortexMapper)\n",
    "cortexMapper.preview_column(dft)"
   ]
  },
  {
   "cell_type": "code",
   "execution_count": 9,
   "id": "ea40d98e-1268-4e07-9334-1b6ca562b525",
   "metadata": {},
   "outputs": [
    {
     "data": {
      "text/html": [
       "<div>\n",
       "<style scoped>\n",
       "    .dataframe tbody tr th:only-of-type {\n",
       "        vertical-align: middle;\n",
       "    }\n",
       "\n",
       "    .dataframe tbody tr th {\n",
       "        vertical-align: top;\n",
       "    }\n",
       "\n",
       "    .dataframe thead th {\n",
       "        text-align: right;\n",
       "    }\n",
       "</style>\n",
       "<table border=\"1\" class=\"dataframe\">\n",
       "  <thead>\n",
       "    <tr style=\"text-align: right;\">\n",
       "      <th></th>\n",
       "      <th>mapping</th>\n",
       "      <th>count</th>\n",
       "    </tr>\n",
       "  </thead>\n",
       "  <tbody>\n",
       "    <tr>\n",
       "      <th>0</th>\n",
       "      <td>original value: \"Early-onset varicose veins, small joint hypermobility\" -&gt; HP: Varicose veins (HP:0002619) (observed)</td>\n",
       "      <td>1</td>\n",
       "    </tr>\n",
       "    <tr>\n",
       "      <th>1</th>\n",
       "      <td>original value: \"Small joint hypermobility, tendon rupture, first-degree relative with vascular Ehlers- Danlos syndrome\" -&gt; HP: Joint hypermobility (HP:0001382) (observed)</td>\n",
       "      <td>1</td>\n",
       "    </tr>\n",
       "  </tbody>\n",
       "</table>\n",
       "</div>"
      ],
      "text/plain": [
       "                                                                                                                                                                       mapping  \\\n",
       "0                                                        original value: \"Early-onset varicose veins, small joint hypermobility\" -> HP: Varicose veins (HP:0002619) (observed)   \n",
       "1  original value: \"Small joint hypermobility, tendon rupture, first-degree relative with vascular Ehlers- Danlos syndrome\" -> HP: Joint hypermobility (HP:0001382) (observed)   \n",
       "\n",
       "  count  \n",
       "0     1  \n",
       "1     1  "
      ]
     },
     "execution_count": 9,
     "metadata": {},
     "output_type": "execute_result"
    }
   ],
   "source": [
    "minor_features = {'Early-onset varicose veins': 'Varicose veins',\n",
    " 'small joint hypermobility': 'Joint hypermobility',\n",
    " 'tendon rupture': 'Tendon rupture'}\n",
    "minor_featuresMapper = OptionColumnMapper(column_name=\"Minor features\",concept_recognizer=hpo_cr, option_d=minor_features)\n",
    "column_mapper_list.append(minor_featuresMapper)\n",
    "minor_featuresMapper.preview_column(dft)"
   ]
  },
  {
   "cell_type": "code",
   "execution_count": 10,
   "id": "fcf79699-d43f-4d8b-a8c2-4328c7b3e31c",
   "metadata": {},
   "outputs": [
    {
     "data": {
      "text/html": [
       "<div>\n",
       "<style scoped>\n",
       "    .dataframe tbody tr th:only-of-type {\n",
       "        vertical-align: middle;\n",
       "    }\n",
       "\n",
       "    .dataframe tbody tr th {\n",
       "        vertical-align: top;\n",
       "    }\n",
       "\n",
       "    .dataframe thead th {\n",
       "        text-align: right;\n",
       "    }\n",
       "</style>\n",
       "<table border=\"1\" class=\"dataframe\">\n",
       "  <thead>\n",
       "    <tr style=\"text-align: right;\">\n",
       "      <th></th>\n",
       "      <th>mapping</th>\n",
       "      <th>count</th>\n",
       "    </tr>\n",
       "  </thead>\n",
       "  <tbody>\n",
       "    <tr>\n",
       "      <th>0</th>\n",
       "      <td>original value: \"Easy bruising thin translucent skin, intestinal/arterial tissue fragility. characteristic facial appearance\" -&gt; HP: Bruising susceptibility (HP:0000978) (observed)</td>\n",
       "      <td>1</td>\n",
       "    </tr>\n",
       "    <tr>\n",
       "      <th>1</th>\n",
       "      <td>original value: \"Easy bruising, thin translucent skin, arterial dissections, characteristic facial appearance\" -&gt; HP: Bruising susceptibility (HP:0000978) (observed)</td>\n",
       "      <td>1</td>\n",
       "    </tr>\n",
       "  </tbody>\n",
       "</table>\n",
       "</div>"
      ],
      "text/plain": [
       "                                                                                                                                                                                mapping  \\\n",
       "0  original value: \"Easy bruising thin translucent skin, intestinal/arterial tissue fragility. characteristic facial appearance\" -> HP: Bruising susceptibility (HP:0000978) (observed)   \n",
       "1                 original value: \"Easy bruising, thin translucent skin, arterial dissections, characteristic facial appearance\" -> HP: Bruising susceptibility (HP:0000978) (observed)   \n",
       "\n",
       "  count  \n",
       "0     1  \n",
       "1     1  "
      ]
     },
     "execution_count": 10,
     "metadata": {},
     "output_type": "execute_result"
    }
   ],
   "source": [
    "additional_features = {'Pulmonary valve stenosis': 'Pulmonic stenosis',\n",
    " 'pronounced atrophic scars': 'Atrophic scars',\n",
    " 'multiple gingival recessions': 'Gingival recession',\n",
    " 'slender fingers': 'Slender finger'}\n",
    "additional_featuresMapper = OptionColumnMapper(column_name=\"Additional features\", concept_recognizer=hpo_cr, option_d=additional_features)\n",
    "column_mapper_list.append(additional_featuresMapper)\n",
    "major_featuresMapper.preview_column(dft)"
   ]
  },
  {
   "cell_type": "code",
   "execution_count": 11,
   "id": "df70c5bd-32ff-430b-b893-ae13a45b64c0",
   "metadata": {},
   "outputs": [
    {
     "data": {
      "text/html": [
       "<div>\n",
       "<style scoped>\n",
       "    .dataframe tbody tr th:only-of-type {\n",
       "        vertical-align: middle;\n",
       "    }\n",
       "\n",
       "    .dataframe tbody tr th {\n",
       "        vertical-align: top;\n",
       "    }\n",
       "\n",
       "    .dataframe thead th {\n",
       "        text-align: right;\n",
       "    }\n",
       "</style>\n",
       "<table border=\"1\" class=\"dataframe\">\n",
       "  <thead>\n",
       "    <tr style=\"text-align: right;\">\n",
       "      <th></th>\n",
       "      <th>mapping</th>\n",
       "      <th>count</th>\n",
       "    </tr>\n",
       "  </thead>\n",
       "  <tbody>\n",
       "    <tr>\n",
       "      <th>0</th>\n",
       "      <td>original value: \"Talipes equinovarus\" -&gt; HP: Talipes equinovarus (HP:0001762) (observed)</td>\n",
       "      <td>1</td>\n",
       "    </tr>\n",
       "  </tbody>\n",
       "</table>\n",
       "</div>"
      ],
      "text/plain": [
       "                                                                                    mapping  \\\n",
       "0  original value: \"Talipes equinovarus\" -> HP: Talipes equinovarus (HP:0001762) (observed)   \n",
       "\n",
       "  count  \n",
       "0     1  "
      ]
     },
     "execution_count": 11,
     "metadata": {},
     "output_type": "execute_result"
    }
   ],
   "source": [
    "congenital_anomalies = {'Talipes equinovarus': 'Talipes equinovarus'}\n",
    "congenital_anomaliesMapper = OptionColumnMapper(column_name=\"Congenital anomalies\", concept_recognizer=hpo_cr, option_d=congenital_anomalies)\n",
    "column_mapper_list.append(congenital_anomaliesMapper)\n",
    "congenital_anomaliesMapper.preview_column(dft)"
   ]
  },
  {
   "cell_type": "code",
   "execution_count": 12,
   "id": "286e0011-5e65-49ba-b256-4fa6f1a04bd6",
   "metadata": {},
   "outputs": [
    {
     "data": {
      "text/html": [
       "<div>\n",
       "<style scoped>\n",
       "    .dataframe tbody tr th:only-of-type {\n",
       "        vertical-align: middle;\n",
       "    }\n",
       "\n",
       "    .dataframe tbody tr th {\n",
       "        vertical-align: top;\n",
       "    }\n",
       "\n",
       "    .dataframe thead th {\n",
       "        text-align: right;\n",
       "    }\n",
       "</style>\n",
       "<table border=\"1\" class=\"dataframe\">\n",
       "  <thead>\n",
       "    <tr style=\"text-align: right;\">\n",
       "      <th></th>\n",
       "      <th>mapping</th>\n",
       "      <th>count</th>\n",
       "    </tr>\n",
       "  </thead>\n",
       "  <tbody>\n",
       "    <tr>\n",
       "      <th>0</th>\n",
       "      <td>original value: \"Global developmental delay, walks without support, uses a few words\" -&gt; HP: Global developmental delay (HP:0001263) (observed)</td>\n",
       "      <td>1</td>\n",
       "    </tr>\n",
       "    <tr>\n",
       "      <th>1</th>\n",
       "      <td>original value: \"Global developmental delay. sits independently, no words\" -&gt; HP: Global developmental delay (HP:0001263) (observed)</td>\n",
       "      <td>1</td>\n",
       "    </tr>\n",
       "    <tr>\n",
       "      <th>2</th>\n",
       "      <td>original value: \"Delayed motor milestones, normal language development\" -&gt; HP: Motor delay (HP:0001270) (observed)</td>\n",
       "      <td>1</td>\n",
       "    </tr>\n",
       "  </tbody>\n",
       "</table>\n",
       "</div>"
      ],
      "text/plain": [
       "                                                                                                                                           mapping  \\\n",
       "0  original value: \"Global developmental delay, walks without support, uses a few words\" -> HP: Global developmental delay (HP:0001263) (observed)   \n",
       "1             original value: \"Global developmental delay. sits independently, no words\" -> HP: Global developmental delay (HP:0001263) (observed)   \n",
       "2                               original value: \"Delayed motor milestones, normal language development\" -> HP: Motor delay (HP:0001270) (observed)   \n",
       "\n",
       "  count  \n",
       "0     1  \n",
       "1     1  \n",
       "2     1  "
      ]
     },
     "execution_count": 12,
     "metadata": {},
     "output_type": "execute_result"
    }
   ],
   "source": [
    "neurological_examination = {'Global developmental delay': 'Global developmental delay',\n",
    " 'no words': 'Absent speech',\n",
    " 'Delayed motor milestones': 'Motor delay'}\n",
    "neurological_examinationMapper = OptionColumnMapper(column_name=\"Neurological examination\", concept_recognizer=hpo_cr, option_d=neurological_examination)\n",
    "column_mapper_list.append(neurological_examinationMapper)\n",
    "neurological_examinationMapper.preview_column(dft)"
   ]
  },
  {
   "cell_type": "code",
   "execution_count": 13,
   "id": "887021f3-5617-42dc-b952-1d38d99a45e9",
   "metadata": {},
   "outputs": [
    {
     "data": {
      "text/html": [
       "<div>\n",
       "<style scoped>\n",
       "    .dataframe tbody tr th:only-of-type {\n",
       "        vertical-align: middle;\n",
       "    }\n",
       "\n",
       "    .dataframe tbody tr th {\n",
       "        vertical-align: top;\n",
       "    }\n",
       "\n",
       "    .dataframe thead th {\n",
       "        text-align: right;\n",
       "    }\n",
       "</style>\n",
       "<table border=\"1\" class=\"dataframe\">\n",
       "  <thead>\n",
       "    <tr style=\"text-align: right;\">\n",
       "      <th></th>\n",
       "      <th>mapping</th>\n",
       "      <th>count</th>\n",
       "    </tr>\n",
       "  </thead>\n",
       "  <tbody>\n",
       "    <tr>\n",
       "      <th>0</th>\n",
       "      <td>original value: \"&gt;97th centile\" -&gt; HP: Macrocephaly (HP:0000256) (observed)</td>\n",
       "      <td>1</td>\n",
       "    </tr>\n",
       "  </tbody>\n",
       "</table>\n",
       "</div>"
      ],
      "text/plain": [
       "                                                                       mapping  \\\n",
       "0  original value: \">97th centile\" -> HP: Macrocephaly (HP:0000256) (observed)   \n",
       "\n",
       "  count  \n",
       "0     1  "
      ]
     },
     "execution_count": 13,
     "metadata": {},
     "output_type": "execute_result"
    }
   ],
   "source": [
    "head_circumference = {'>97th centile': 'Macrocephaly'}\n",
    "head_circumferenceMapper = OptionColumnMapper(column_name=\"Head circumference\", concept_recognizer=hpo_cr, option_d=head_circumference)\n",
    "column_mapper_list.append(head_circumferenceMapper)\n",
    "head_circumferenceMapper.preview_column(dft)"
   ]
  },
  {
   "cell_type": "code",
   "execution_count": 14,
   "id": "9d5e6545-11fa-454b-824a-284eea93c015",
   "metadata": {},
   "outputs": [
    {
     "data": {
      "text/html": [
       "<div>\n",
       "<style scoped>\n",
       "    .dataframe tbody tr th:only-of-type {\n",
       "        vertical-align: middle;\n",
       "    }\n",
       "\n",
       "    .dataframe tbody tr th {\n",
       "        vertical-align: top;\n",
       "    }\n",
       "\n",
       "    .dataframe thead th {\n",
       "        text-align: right;\n",
       "    }\n",
       "</style>\n",
       "<table border=\"1\" class=\"dataframe\">\n",
       "  <thead>\n",
       "    <tr style=\"text-align: right;\">\n",
       "      <th></th>\n",
       "      <th>mapping</th>\n",
       "      <th>count</th>\n",
       "    </tr>\n",
       "  </thead>\n",
       "  <tbody>\n",
       "    <tr>\n",
       "      <th>0</th>\n",
       "      <td>original value: \"Spasms/5 years\" -&gt; HP: Seizure (HP:0001250) (observed)</td>\n",
       "      <td>1</td>\n",
       "    </tr>\n",
       "    <tr>\n",
       "      <th>1</th>\n",
       "      <td>original value: \"Spasms/26 months\" -&gt; HP: Seizure (HP:0001250) (observed)</td>\n",
       "      <td>1</td>\n",
       "    </tr>\n",
       "    <tr>\n",
       "      <th>2</th>\n",
       "      <td>original value: \"Absence seizures/unknown\" -&gt; HP: Typical absence seizure (HP:0011147) (observed)</td>\n",
       "      <td>1</td>\n",
       "    </tr>\n",
       "  </tbody>\n",
       "</table>\n",
       "</div>"
      ],
      "text/plain": [
       "                                                                                             mapping  \\\n",
       "0                            original value: \"Spasms/5 years\" -> HP: Seizure (HP:0001250) (observed)   \n",
       "1                          original value: \"Spasms/26 months\" -> HP: Seizure (HP:0001250) (observed)   \n",
       "2  original value: \"Absence seizures/unknown\" -> HP: Typical absence seizure (HP:0011147) (observed)   \n",
       "\n",
       "  count  \n",
       "0     1  \n",
       "1     1  \n",
       "2     1  "
      ]
     },
     "execution_count": 14,
     "metadata": {},
     "output_type": "execute_result"
    }
   ],
   "source": [
    "epilepsy_onset = {'Spasms/5 years': 'Seizure',\n",
    " 'Spasms/26 months': 'Seizure',\n",
    " 'Absence seizures/unknown': 'Typical absence seizure'}\n",
    "epilepsy_onsetMapper = OptionColumnMapper(column_name=\"Epilepsy/onset\", concept_recognizer=hpo_cr, option_d=epilepsy_onset)\n",
    "column_mapper_list.append(epilepsy_onsetMapper)\n",
    "epilepsy_onsetMapper.preview_column(dft)"
   ]
  },
  {
   "cell_type": "code",
   "execution_count": 15,
   "id": "826185f0-2e47-4023-9307-9d1652229a39",
   "metadata": {},
   "outputs": [
    {
     "data": {
      "text/html": [
       "<div>\n",
       "<style scoped>\n",
       "    .dataframe tbody tr th:only-of-type {\n",
       "        vertical-align: middle;\n",
       "    }\n",
       "\n",
       "    .dataframe tbody tr th {\n",
       "        vertical-align: top;\n",
       "    }\n",
       "\n",
       "    .dataframe thead th {\n",
       "        text-align: right;\n",
       "    }\n",
       "</style>\n",
       "<table border=\"1\" class=\"dataframe\">\n",
       "  <thead>\n",
       "    <tr style=\"text-align: right;\">\n",
       "      <th></th>\n",
       "      <th>mapping</th>\n",
       "      <th>count</th>\n",
       "    </tr>\n",
       "  </thead>\n",
       "  <tbody>\n",
       "    <tr>\n",
       "      <th>0</th>\n",
       "      <td>original value: \"Diffuse thickened cobblestone cortex with relative sparing of the temporal lobes\" -&gt; HP: Dysgyria with thickened cortex (HP:0032400) (observed)</td>\n",
       "      <td>1</td>\n",
       "    </tr>\n",
       "    <tr>\n",
       "      <th>1</th>\n",
       "      <td>original value: \"Diffuse thickened cobblestone cortex with relative sparing of the temporal poles\" -&gt; HP: Dysgyria with thickened cortex (HP:0032400) (observed)</td>\n",
       "      <td>1</td>\n",
       "    </tr>\n",
       "    <tr>\n",
       "      <th>2</th>\n",
       "      <td>original value: \"Frontal cobblestone cortex, parietal polymicrogyria, relative sparing of the temporal lobes\" -&gt; HP: Dysgyria with thickened cortex (HP:0032400) (observed)</td>\n",
       "      <td>1</td>\n",
       "    </tr>\n",
       "    <tr>\n",
       "      <th>3</th>\n",
       "      <td>original value: \"Bilateral frontal polymicrogyria including cingulate gyri\" -&gt; HP: Polymicrogyria (HP:0002126) (observed)</td>\n",
       "      <td>1</td>\n",
       "    </tr>\n",
       "  </tbody>\n",
       "</table>\n",
       "</div>"
      ],
      "text/plain": [
       "                                                                                                                                                                       mapping  \\\n",
       "0             original value: \"Diffuse thickened cobblestone cortex with relative sparing of the temporal lobes\" -> HP: Dysgyria with thickened cortex (HP:0032400) (observed)   \n",
       "1             original value: \"Diffuse thickened cobblestone cortex with relative sparing of the temporal poles\" -> HP: Dysgyria with thickened cortex (HP:0032400) (observed)   \n",
       "2  original value: \"Frontal cobblestone cortex, parietal polymicrogyria, relative sparing of the temporal lobes\" -> HP: Dysgyria with thickened cortex (HP:0032400) (observed)   \n",
       "3                                                    original value: \"Bilateral frontal polymicrogyria including cingulate gyri\" -> HP: Polymicrogyria (HP:0002126) (observed)   \n",
       "\n",
       "  count  \n",
       "0     1  \n",
       "1     1  \n",
       "2     1  \n",
       "3     1  "
      ]
     },
     "execution_count": 15,
     "metadata": {},
     "output_type": "execute_result"
    }
   ],
   "source": [
    "gyral_pattern = {'Diffuse thickened cobblestone cortex with relative sparing of the temporal lobes': 'Dysgyria with thickened cortex',\n",
    " 'Diffuse thickened cobblestone cortex with relative sparing of the temporal poles': 'Dysgyria with thickened cortex',\n",
    " 'Frontal cobblestone cortex': 'Dysgyria with thickened cortex',\n",
    " 'parietal polymicrogyria': 'Polymicrogyria',\n",
    " 'Bilateral frontal polymicrogyria including cingulate gyri': 'Polymicrogyria'}\n",
    "gyral_patternMapper = OptionColumnMapper(column_name=\"Gyral pattern\", concept_recognizer=hpo_cr, option_d=gyral_pattern)\n",
    "column_mapper_list.append(gyral_patternMapper)\n",
    "gyral_patternMapper.preview_column(dft)"
   ]
  },
  {
   "cell_type": "code",
   "execution_count": 16,
   "id": "367e487d-cc04-45be-8840-3b107ff7201b",
   "metadata": {},
   "outputs": [
    {
     "data": {
      "text/html": [
       "<div>\n",
       "<style scoped>\n",
       "    .dataframe tbody tr th:only-of-type {\n",
       "        vertical-align: middle;\n",
       "    }\n",
       "\n",
       "    .dataframe tbody tr th {\n",
       "        vertical-align: top;\n",
       "    }\n",
       "\n",
       "    .dataframe thead th {\n",
       "        text-align: right;\n",
       "    }\n",
       "</style>\n",
       "<table border=\"1\" class=\"dataframe\">\n",
       "  <thead>\n",
       "    <tr style=\"text-align: right;\">\n",
       "      <th></th>\n",
       "      <th>mapping</th>\n",
       "      <th>count</th>\n",
       "    </tr>\n",
       "  </thead>\n",
       "  <tbody>\n",
       "    <tr>\n",
       "      <th>0</th>\n",
       "      <td>original value: \"Globale reduction of white matter\" -&gt; HP: Hypointensity of cerebral white matter on MRI (HP:0007103) (observed)</td>\n",
       "      <td>1</td>\n",
       "    </tr>\n",
       "    <tr>\n",
       "      <th>1</th>\n",
       "      <td>original value: \"Diffuse hypomyelination\" -&gt; HP: Cerebral hypomyelination (HP:0006808) (observed)</td>\n",
       "      <td>1</td>\n",
       "    </tr>\n",
       "  </tbody>\n",
       "</table>\n",
       "</div>"
      ],
      "text/plain": [
       "                                                                                                                            mapping  \\\n",
       "0  original value: \"Globale reduction of white matter\" -> HP: Hypointensity of cerebral white matter on MRI (HP:0007103) (observed)   \n",
       "1                                 original value: \"Diffuse hypomyelination\" -> HP: Cerebral hypomyelination (HP:0006808) (observed)   \n",
       "\n",
       "  count  \n",
       "0     1  \n",
       "1     1  "
      ]
     },
     "execution_count": 16,
     "metadata": {},
     "output_type": "execute_result"
    }
   ],
   "source": [
    "white_matter = {'Globale reduction of white matter': 'Hypointensity of cerebral white matter on MRI',\n",
    " 'Diffuse hypomyelination': 'Cerebral hypomyelination'}\n",
    "white_matterMapper = OptionColumnMapper(column_name=\"White matter\", concept_recognizer=hpo_cr, option_d=white_matter)\n",
    "column_mapper_list.append(white_matterMapper)\n",
    "white_matterMapper.preview_column(dft)"
   ]
  },
  {
   "cell_type": "code",
   "execution_count": 17,
   "id": "396bd8eb-e1ed-4b37-abb8-9484868d5b51",
   "metadata": {},
   "outputs": [
    {
     "data": {
      "text/html": [
       "<div>\n",
       "<style scoped>\n",
       "    .dataframe tbody tr th:only-of-type {\n",
       "        vertical-align: middle;\n",
       "    }\n",
       "\n",
       "    .dataframe tbody tr th {\n",
       "        vertical-align: top;\n",
       "    }\n",
       "\n",
       "    .dataframe thead th {\n",
       "        text-align: right;\n",
       "    }\n",
       "</style>\n",
       "<table border=\"1\" class=\"dataframe\">\n",
       "  <thead>\n",
       "    <tr style=\"text-align: right;\">\n",
       "      <th></th>\n",
       "      <th>mapping</th>\n",
       "      <th>count</th>\n",
       "    </tr>\n",
       "  </thead>\n",
       "  <tbody>\n",
       "    <tr>\n",
       "      <th>0</th>\n",
       "      <td>original value: \"Prominent perivascular spaces\" -&gt; HP: Dilation of Virchow-Robin spaces (HP:0012520) (observed)</td>\n",
       "      <td>3</td>\n",
       "    </tr>\n",
       "    <tr>\n",
       "      <th>1</th>\n",
       "      <td>original value: \"Prominent perivascular spaces bilateral frontal\" -&gt; HP: Dilation of Virchow-Robin spaces (HP:0012520) (observed)</td>\n",
       "      <td>1</td>\n",
       "    </tr>\n",
       "  </tbody>\n",
       "</table>\n",
       "</div>"
      ],
      "text/plain": [
       "                                                                                                                             mapping  \\\n",
       "0                    original value: \"Prominent perivascular spaces\" -> HP: Dilation of Virchow-Robin spaces (HP:0012520) (observed)   \n",
       "1  original value: \"Prominent perivascular spaces bilateral frontal\" -> HP: Dilation of Virchow-Robin spaces (HP:0012520) (observed)   \n",
       "\n",
       "  count  \n",
       "0     3  \n",
       "1     1  "
      ]
     },
     "execution_count": 17,
     "metadata": {},
     "output_type": "execute_result"
    }
   ],
   "source": [
    "white_matter_2 = {'Prominent perivascular spaces': 'Dilation of Virchow-Robin spaces',\n",
    " 'Prominent perivascular spaces bilateral frontal': 'Dilation of Virchow-Robin spaces'}\n",
    "white_matter_2Mapper = OptionColumnMapper(column_name=\"White matter_2\", concept_recognizer=hpo_cr, option_d=white_matter_2)\n",
    "column_mapper_list.append(white_matter_2Mapper)\n",
    "white_matter_2Mapper.preview_column(dft)"
   ]
  },
  {
   "cell_type": "code",
   "execution_count": 18,
   "id": "8c551b0f-ac3c-45f1-9106-2181ad08bc4e",
   "metadata": {},
   "outputs": [
    {
     "data": {
      "text/html": [
       "<div>\n",
       "<style scoped>\n",
       "    .dataframe tbody tr th:only-of-type {\n",
       "        vertical-align: middle;\n",
       "    }\n",
       "\n",
       "    .dataframe tbody tr th {\n",
       "        vertical-align: top;\n",
       "    }\n",
       "\n",
       "    .dataframe thead th {\n",
       "        text-align: right;\n",
       "    }\n",
       "</style>\n",
       "<table border=\"1\" class=\"dataframe\">\n",
       "  <thead>\n",
       "    <tr style=\"text-align: right;\">\n",
       "      <th></th>\n",
       "    </tr>\n",
       "  </thead>\n",
       "  <tbody>\n",
       "  </tbody>\n",
       "</table>\n",
       "</div>"
      ],
      "text/plain": [
       "Empty DataFrame\n",
       "Columns: []\n",
       "Index: []"
      ]
     },
     "execution_count": 18,
     "metadata": {},
     "output_type": "execute_result"
    }
   ],
   "source": [
    "white_matter_3 = {'Frontal nodular heterotopia (beads)': 'Gray matter heterotopia',\n",
    " 'perisylvian and occipital band heterotopia': 'Gray matter heterotopia'}\n",
    "white_matter_3Mapper = OptionColumnMapper(column_name=\"White matter_3\", concept_recognizer=hpo_cr, option_d=white_matter_3)\n",
    "column_mapper_list.append(white_matter_3Mapper)\n",
    "white_matter_3Mapper.preview_column(dft)"
   ]
  },
  {
   "cell_type": "code",
   "execution_count": 19,
   "id": "d3f2698d-6652-4a3f-bdfc-c5c2273f94ca",
   "metadata": {},
   "outputs": [
    {
     "data": {
      "text/html": [
       "<div>\n",
       "<style scoped>\n",
       "    .dataframe tbody tr th:only-of-type {\n",
       "        vertical-align: middle;\n",
       "    }\n",
       "\n",
       "    .dataframe tbody tr th {\n",
       "        vertical-align: top;\n",
       "    }\n",
       "\n",
       "    .dataframe thead th {\n",
       "        text-align: right;\n",
       "    }\n",
       "</style>\n",
       "<table border=\"1\" class=\"dataframe\">\n",
       "  <thead>\n",
       "    <tr style=\"text-align: right;\">\n",
       "      <th></th>\n",
       "      <th>mapping</th>\n",
       "      <th>count</th>\n",
       "    </tr>\n",
       "  </thead>\n",
       "  <tbody>\n",
       "    <tr>\n",
       "      <th>0</th>\n",
       "      <td>original value: \"Ventriculomegaly\" -&gt; HP: Lateral ventricle dilatation (HP:0006956) (observed)</td>\n",
       "      <td>2</td>\n",
       "    </tr>\n",
       "    <tr>\n",
       "      <th>1</th>\n",
       "      <td>original value: \"Mild enlargement\" -&gt; HP: Lateral ventricle dilatation (HP:0006956) (observed)</td>\n",
       "      <td>1</td>\n",
       "    </tr>\n",
       "  </tbody>\n",
       "</table>\n",
       "</div>"
      ],
      "text/plain": [
       "                                                                                          mapping  \\\n",
       "0  original value: \"Ventriculomegaly\" -> HP: Lateral ventricle dilatation (HP:0006956) (observed)   \n",
       "1  original value: \"Mild enlargement\" -> HP: Lateral ventricle dilatation (HP:0006956) (observed)   \n",
       "\n",
       "  count  \n",
       "0     2  \n",
       "1     1  "
      ]
     },
     "execution_count": 19,
     "metadata": {},
     "output_type": "execute_result"
    }
   ],
   "source": [
    "lateral_ventricles = {'Ventriculomegaly': 'Lateral ventricle dilatation',\n",
    " 'Mild enlargement': 'Lateral ventricle dilatation'}\n",
    "lateral_ventriclesMapper = OptionColumnMapper(column_name=\"Lateral ventricles\", concept_recognizer=hpo_cr, option_d=lateral_ventricles)\n",
    "column_mapper_list.append(lateral_ventriclesMapper)\n",
    "lateral_ventriclesMapper.preview_column(dft)"
   ]
  },
  {
   "cell_type": "code",
   "execution_count": 20,
   "id": "d2183dcf-628f-4f92-981e-c69ffa34e629",
   "metadata": {},
   "outputs": [
    {
     "data": {
      "text/html": [
       "<div>\n",
       "<style scoped>\n",
       "    .dataframe tbody tr th:only-of-type {\n",
       "        vertical-align: middle;\n",
       "    }\n",
       "\n",
       "    .dataframe tbody tr th {\n",
       "        vertical-align: top;\n",
       "    }\n",
       "\n",
       "    .dataframe thead th {\n",
       "        text-align: right;\n",
       "    }\n",
       "</style>\n",
       "<table border=\"1\" class=\"dataframe\">\n",
       "  <thead>\n",
       "    <tr style=\"text-align: right;\">\n",
       "      <th></th>\n",
       "      <th>mapping</th>\n",
       "      <th>count</th>\n",
       "    </tr>\n",
       "  </thead>\n",
       "  <tbody>\n",
       "    <tr>\n",
       "      <th>0</th>\n",
       "      <td>original value: \"Ventriculomegaly\" -&gt; HP: Dilated third ventricle (HP:0007082) (observed)</td>\n",
       "      <td>2</td>\n",
       "    </tr>\n",
       "    <tr>\n",
       "      <th>1</th>\n",
       "      <td>original value: \"Mild enlargement\" -&gt; HP: Dilated third ventricle (HP:0007082) (observed)</td>\n",
       "      <td>1</td>\n",
       "    </tr>\n",
       "  </tbody>\n",
       "</table>\n",
       "</div>"
      ],
      "text/plain": [
       "                                                                                     mapping  \\\n",
       "0  original value: \"Ventriculomegaly\" -> HP: Dilated third ventricle (HP:0007082) (observed)   \n",
       "1  original value: \"Mild enlargement\" -> HP: Dilated third ventricle (HP:0007082) (observed)   \n",
       "\n",
       "  count  \n",
       "0     2  \n",
       "1     1  "
      ]
     },
     "execution_count": 20,
     "metadata": {},
     "output_type": "execute_result"
    }
   ],
   "source": [
    "third_ventricle = {'Ventriculomegaly': 'Dilated third ventricle',\n",
    " 'Mild enlargement': 'Dilated third ventricle'}\n",
    "third_ventricleMapper = OptionColumnMapper(column_name=\"Third ventricle\", concept_recognizer=hpo_cr, option_d=third_ventricle)\n",
    "column_mapper_list.append(third_ventricleMapper)\n",
    "third_ventricleMapper.preview_column(dft)"
   ]
  },
  {
   "cell_type": "code",
   "execution_count": 21,
   "id": "7d90fa6c-a006-4b43-9ba9-b3ea4440193e",
   "metadata": {},
   "outputs": [
    {
     "data": {
      "text/html": [
       "<div>\n",
       "<style scoped>\n",
       "    .dataframe tbody tr th:only-of-type {\n",
       "        vertical-align: middle;\n",
       "    }\n",
       "\n",
       "    .dataframe tbody tr th {\n",
       "        vertical-align: top;\n",
       "    }\n",
       "\n",
       "    .dataframe thead th {\n",
       "        text-align: right;\n",
       "    }\n",
       "</style>\n",
       "<table border=\"1\" class=\"dataframe\">\n",
       "  <thead>\n",
       "    <tr style=\"text-align: right;\">\n",
       "      <th></th>\n",
       "      <th>mapping</th>\n",
       "      <th>count</th>\n",
       "    </tr>\n",
       "  </thead>\n",
       "  <tbody>\n",
       "    <tr>\n",
       "      <th>0</th>\n",
       "      <td>original value: \"Hypoplastic\" -&gt; HP: Abnormal brainstem morphology (HP:0002363) (observed)</td>\n",
       "      <td>1</td>\n",
       "    </tr>\n",
       "    <tr>\n",
       "      <th>1</th>\n",
       "      <td>original value: \"Mildly hypoplastic\" -&gt; HP: Abnormal brainstem morphology (HP:0002363) (observed)</td>\n",
       "      <td>1</td>\n",
       "    </tr>\n",
       "    <tr>\n",
       "      <th>2</th>\n",
       "      <td>original value: \"Hypoplasia of the pons\" -&gt; HP: Hypoplasia of the pons (HP:0012110) (observed)</td>\n",
       "      <td>1</td>\n",
       "    </tr>\n",
       "  </tbody>\n",
       "</table>\n",
       "</div>"
      ],
      "text/plain": [
       "                                                                                             mapping  \\\n",
       "0         original value: \"Hypoplastic\" -> HP: Abnormal brainstem morphology (HP:0002363) (observed)   \n",
       "1  original value: \"Mildly hypoplastic\" -> HP: Abnormal brainstem morphology (HP:0002363) (observed)   \n",
       "2     original value: \"Hypoplasia of the pons\" -> HP: Hypoplasia of the pons (HP:0012110) (observed)   \n",
       "\n",
       "  count  \n",
       "0     1  \n",
       "1     1  \n",
       "2     1  "
      ]
     },
     "execution_count": 21,
     "metadata": {},
     "output_type": "execute_result"
    }
   ],
   "source": [
    "brainstem = {'Hypoplastic': 'Abnormal brainstem morphology',\n",
    " 'Mildly hypoplastic': 'Abnormal brainstem morphology',\n",
    " 'Hypoplasia of the pons': 'Hypoplasia of the pons'}\n",
    "brainstemMapper = OptionColumnMapper(column_name=\"Brainstem\", concept_recognizer=hpo_cr, option_d=brainstem)\n",
    "column_mapper_list.append(brainstemMapper)\n",
    "brainstemMapper.preview_column(dft)"
   ]
  },
  {
   "cell_type": "code",
   "execution_count": 22,
   "id": "402bc7f1-64d4-497c-bf66-afa3f1e7e8d0",
   "metadata": {},
   "outputs": [
    {
     "data": {
      "text/html": [
       "<div>\n",
       "<style scoped>\n",
       "    .dataframe tbody tr th:only-of-type {\n",
       "        vertical-align: middle;\n",
       "    }\n",
       "\n",
       "    .dataframe tbody tr th {\n",
       "        vertical-align: top;\n",
       "    }\n",
       "\n",
       "    .dataframe thead th {\n",
       "        text-align: right;\n",
       "    }\n",
       "</style>\n",
       "<table border=\"1\" class=\"dataframe\">\n",
       "  <thead>\n",
       "    <tr style=\"text-align: right;\">\n",
       "      <th></th>\n",
       "      <th>mapping</th>\n",
       "      <th>count</th>\n",
       "    </tr>\n",
       "  </thead>\n",
       "  <tbody>\n",
       "    <tr>\n",
       "      <th>0</th>\n",
       "      <td>original value: \"Thalamus normal putamen/globus pallidus small, accentuated Virchow- Robin spaces\" -&gt; HP: Dilation of Virchow-Robin spaces (HP:0012520) (observed)</td>\n",
       "      <td>1</td>\n",
       "    </tr>\n",
       "  </tbody>\n",
       "</table>\n",
       "</div>"
      ],
      "text/plain": [
       "                                                                                                                                                              mapping  \\\n",
       "0  original value: \"Thalamus normal putamen/globus pallidus small, accentuated Virchow- Robin spaces\" -> HP: Dilation of Virchow-Robin spaces (HP:0012520) (observed)   \n",
       "\n",
       "  count  \n",
       "0     1  "
      ]
     },
     "execution_count": 22,
     "metadata": {},
     "output_type": "execute_result"
    }
   ],
   "source": [
    "basal_ganglia = {'Thalamus normal putamen/globus pallidus small': 'Abnormal globus pallidus morphology',\n",
    " 'accentuated Virchow- Robin spaces': 'Dilation of Virchow-Robin spaces'}\n",
    "basal_gangliaMapper = OptionColumnMapper(column_name=\"Basal ganglia\", concept_recognizer=hpo_cr, option_d=basal_ganglia)\n",
    "column_mapper_list.append(basal_gangliaMapper)\n",
    "basal_gangliaMapper.preview_column(dft)"
   ]
  },
  {
   "cell_type": "code",
   "execution_count": 23,
   "id": "7329a21c-897b-4685-b3cf-e5014a5effbc",
   "metadata": {},
   "outputs": [
    {
     "data": {
      "text/html": [
       "<div>\n",
       "<style scoped>\n",
       "    .dataframe tbody tr th:only-of-type {\n",
       "        vertical-align: middle;\n",
       "    }\n",
       "\n",
       "    .dataframe tbody tr th {\n",
       "        vertical-align: top;\n",
       "    }\n",
       "\n",
       "    .dataframe thead th {\n",
       "        text-align: right;\n",
       "    }\n",
       "</style>\n",
       "<table border=\"1\" class=\"dataframe\">\n",
       "  <thead>\n",
       "    <tr style=\"text-align: right;\">\n",
       "      <th></th>\n",
       "      <th>mapping</th>\n",
       "      <th>count</th>\n",
       "    </tr>\n",
       "  </thead>\n",
       "  <tbody>\n",
       "    <tr>\n",
       "      <th>0</th>\n",
       "      <td>original value: \"Present, elongated and mildly thickened\" -&gt; HP: Abnormal length of corpus callosum (HP:0200011) (observed)</td>\n",
       "      <td>1</td>\n",
       "    </tr>\n",
       "    <tr>\n",
       "      <th>1</th>\n",
       "      <td>original value: \"Present elongated and mildly thickened\" -&gt; HP: Abnormal length of corpus callosum (HP:0200011) (observed)</td>\n",
       "      <td>1</td>\n",
       "    </tr>\n",
       "    <tr>\n",
       "      <th>2</th>\n",
       "      <td>original value: \"Present, elongated\" -&gt; HP: Abnormal length of corpus callosum (HP:0200011) (observed)</td>\n",
       "      <td>1</td>\n",
       "    </tr>\n",
       "  </tbody>\n",
       "</table>\n",
       "</div>"
      ],
      "text/plain": [
       "                                                                                                                       mapping  \\\n",
       "0  original value: \"Present, elongated and mildly thickened\" -> HP: Abnormal length of corpus callosum (HP:0200011) (observed)   \n",
       "1   original value: \"Present elongated and mildly thickened\" -> HP: Abnormal length of corpus callosum (HP:0200011) (observed)   \n",
       "2                       original value: \"Present, elongated\" -> HP: Abnormal length of corpus callosum (HP:0200011) (observed)   \n",
       "\n",
       "  count  \n",
       "0     1  \n",
       "1     1  \n",
       "2     1  "
      ]
     },
     "execution_count": 23,
     "metadata": {},
     "output_type": "execute_result"
    }
   ],
   "source": [
    "corpus_callosum = {'elongated and mildly thickened': 'Abnormal length of corpus callosum',\n",
    " 'Present elongated and mildly thickened': 'Abnormal length of corpus callosum',\n",
    " 'elongated': 'Abnormal length of corpus callosum'}\n",
    "corpus_callosumMapper = OptionColumnMapper(column_name=\"Corpus callosum\", concept_recognizer=hpo_cr, option_d=corpus_callosum)\n",
    "column_mapper_list.append(corpus_callosumMapper)\n",
    "corpus_callosumMapper.preview_column(dft)"
   ]
  },
  {
   "cell_type": "code",
   "execution_count": 24,
   "id": "bf35805d-36bf-4d59-8695-4fdd9a2b2bd3",
   "metadata": {},
   "outputs": [
    {
     "data": {
      "text/html": [
       "<div>\n",
       "<style scoped>\n",
       "    .dataframe tbody tr th:only-of-type {\n",
       "        vertical-align: middle;\n",
       "    }\n",
       "\n",
       "    .dataframe tbody tr th {\n",
       "        vertical-align: top;\n",
       "    }\n",
       "\n",
       "    .dataframe thead th {\n",
       "        text-align: right;\n",
       "    }\n",
       "</style>\n",
       "<table border=\"1\" class=\"dataframe\">\n",
       "  <thead>\n",
       "    <tr style=\"text-align: right;\">\n",
       "      <th></th>\n",
       "      <th>mapping</th>\n",
       "      <th>count</th>\n",
       "    </tr>\n",
       "  </thead>\n",
       "  <tbody>\n",
       "    <tr>\n",
       "      <th>0</th>\n",
       "      <td>original value: \"Vermis hypoplasia cysts\" -&gt; HP: Cerebellar vermis hypoplasia (HP:0001320) (observed)</td>\n",
       "      <td>2</td>\n",
       "    </tr>\n",
       "    <tr>\n",
       "      <th>1</th>\n",
       "      <td>original value: \"Mild atrophy\" -&gt; HP: Cerebellar vermis hypoplasia (HP:0001320) (observed)</td>\n",
       "      <td>1</td>\n",
       "    </tr>\n",
       "  </tbody>\n",
       "</table>\n",
       "</div>"
      ],
      "text/plain": [
       "                                                                                                 mapping  \\\n",
       "0  original value: \"Vermis hypoplasia cysts\" -> HP: Cerebellar vermis hypoplasia (HP:0001320) (observed)   \n",
       "1             original value: \"Mild atrophy\" -> HP: Cerebellar vermis hypoplasia (HP:0001320) (observed)   \n",
       "\n",
       "  count  \n",
       "0     2  \n",
       "1     1  "
      ]
     },
     "execution_count": 24,
     "metadata": {},
     "output_type": "execute_result"
    }
   ],
   "source": [
    "vermis = {'Vermis hypoplasia cysts': 'Cerebellar vermis hypoplasia',\n",
    " 'Mild atrophy': 'Cerebellar vermis hypoplasia'}\n",
    "vermisMapper = OptionColumnMapper(column_name=\"Vermis\", concept_recognizer=hpo_cr, option_d=vermis)\n",
    "column_mapper_list.append(vermisMapper)\n",
    "vermisMapper.preview_column(dft)"
   ]
  },
  {
   "cell_type": "code",
   "execution_count": 25,
   "id": "ccbe7fbf-417f-49cb-9b00-58ba3c7308cb",
   "metadata": {},
   "outputs": [
    {
     "data": {
      "text/html": [
       "<div>\n",
       "<style scoped>\n",
       "    .dataframe tbody tr th:only-of-type {\n",
       "        vertical-align: middle;\n",
       "    }\n",
       "\n",
       "    .dataframe tbody tr th {\n",
       "        vertical-align: top;\n",
       "    }\n",
       "\n",
       "    .dataframe thead th {\n",
       "        text-align: right;\n",
       "    }\n",
       "</style>\n",
       "<table border=\"1\" class=\"dataframe\">\n",
       "  <thead>\n",
       "    <tr style=\"text-align: right;\">\n",
       "      <th></th>\n",
       "      <th>mapping</th>\n",
       "      <th>count</th>\n",
       "    </tr>\n",
       "  </thead>\n",
       "  <tbody>\n",
       "    <tr>\n",
       "      <th>0</th>\n",
       "      <td>original value: \"Mega cisterna magna\" -&gt; HP: Enlarged cisterna magna (HP:0002280) (observed)</td>\n",
       "      <td>2</td>\n",
       "    </tr>\n",
       "    <tr>\n",
       "      <th>1</th>\n",
       "      <td>original value: \"Mega cistema magna\" -&gt; HP: Enlarged cisterna magna (HP:0002280) (observed)</td>\n",
       "      <td>1</td>\n",
       "    </tr>\n",
       "  </tbody>\n",
       "</table>\n",
       "</div>"
      ],
      "text/plain": [
       "                                                                                        mapping  \\\n",
       "0  original value: \"Mega cisterna magna\" -> HP: Enlarged cisterna magna (HP:0002280) (observed)   \n",
       "1   original value: \"Mega cistema magna\" -> HP: Enlarged cisterna magna (HP:0002280) (observed)   \n",
       "\n",
       "  count  \n",
       "0     2  \n",
       "1     1  "
      ]
     },
     "execution_count": 25,
     "metadata": {},
     "output_type": "execute_result"
    }
   ],
   "source": [
    "post_fossa = {'Mega cisterna magna': 'Enlarged cisterna magna',\n",
    " 'Mega cistema magna': 'Enlarged cisterna magna'}\n",
    "post_fossaMapper = OptionColumnMapper(column_name=\"Post fossa\",concept_recognizer=hpo_cr, option_d=post_fossa)\n",
    "column_mapper_list.append(post_fossaMapper)\n",
    "post_fossaMapper.preview_column(dft)"
   ]
  },
  {
   "cell_type": "code",
   "execution_count": 26,
   "id": "eabd321b-42c5-4fae-b270-fa5f9bd832e9",
   "metadata": {},
   "outputs": [
    {
     "data": {
      "text/html": [
       "<div>\n",
       "<style scoped>\n",
       "    .dataframe tbody tr th:only-of-type {\n",
       "        vertical-align: middle;\n",
       "    }\n",
       "\n",
       "    .dataframe tbody tr th {\n",
       "        vertical-align: top;\n",
       "    }\n",
       "\n",
       "    .dataframe thead th {\n",
       "        text-align: right;\n",
       "    }\n",
       "</style>\n",
       "<table border=\"1\" class=\"dataframe\">\n",
       "  <thead>\n",
       "    <tr style=\"text-align: right;\">\n",
       "      <th></th>\n",
       "      <th>mapping</th>\n",
       "      <th>count</th>\n",
       "    </tr>\n",
       "  </thead>\n",
       "  <tbody>\n",
       "    <tr>\n",
       "      <th>0</th>\n",
       "      <td>original value: \"Dilatation left A carotis interna, stenosis right A carotis interna\" -&gt; HP: Carotid artery dilatation (HP:0012163) (observed)</td>\n",
       "      <td>1</td>\n",
       "    </tr>\n",
       "  </tbody>\n",
       "</table>\n",
       "</div>"
      ],
      "text/plain": [
       "                                                                                                                                          mapping  \\\n",
       "0  original value: \"Dilatation left A carotis interna, stenosis right A carotis interna\" -> HP: Carotid artery dilatation (HP:0012163) (observed)   \n",
       "\n",
       "  count  \n",
       "0     1  "
      ]
     },
     "execution_count": 26,
     "metadata": {},
     "output_type": "execute_result"
    }
   ],
   "source": [
    "vessels = { 'Dilatation left A carotis interna': 'Carotid artery dilatation',\n",
    " 'stenosis right A carotis interna': 'Carotid artery stenosis'}\n",
    "vesselsMapper = OptionColumnMapper(column_name=\"Vessels\", concept_recognizer=hpo_cr, option_d=vessels)\n",
    "column_mapper_list.append(vesselsMapper)\n",
    "vesselsMapper.preview_column(dft)"
   ]
  },
  {
   "cell_type": "code",
   "execution_count": 27,
   "id": "45c25e88-4bc6-460f-b7fd-fd217f0efc8f",
   "metadata": {},
   "outputs": [
    {
     "data": {
      "text/html": [
       "<div>\n",
       "<style scoped>\n",
       "    .dataframe tbody tr th:only-of-type {\n",
       "        vertical-align: middle;\n",
       "    }\n",
       "\n",
       "    .dataframe tbody tr th {\n",
       "        vertical-align: top;\n",
       "    }\n",
       "\n",
       "    .dataframe thead th {\n",
       "        text-align: right;\n",
       "    }\n",
       "</style>\n",
       "<table border=\"1\" class=\"dataframe\">\n",
       "  <thead>\n",
       "    <tr style=\"text-align: right;\">\n",
       "      <th></th>\n",
       "      <th>mapping</th>\n",
       "      <th>count</th>\n",
       "    </tr>\n",
       "  </thead>\n",
       "  <tbody>\n",
       "    <tr>\n",
       "      <th>0</th>\n",
       "      <td>original value: \"Bilateral temporal pole arachnoidal cysts\" -&gt; HP: Arachnoid cyst (HP:0100702) (observed)</td>\n",
       "      <td>2</td>\n",
       "    </tr>\n",
       "  </tbody>\n",
       "</table>\n",
       "</div>"
      ],
      "text/plain": [
       "                                                                                                     mapping  \\\n",
       "0  original value: \"Bilateral temporal pole arachnoidal cysts\" -> HP: Arachnoid cyst (HP:0100702) (observed)   \n",
       "\n",
       "  count  \n",
       "0     2  "
      ]
     },
     "execution_count": 27,
     "metadata": {},
     "output_type": "execute_result"
    }
   ],
   "source": [
    "arachnoid_cysts = {'Bilateral temporal pole arachnoidal cysts': 'Arachnoid cyst'}\n",
    "arachnoid_cystsMapper = OptionColumnMapper(column_name=\"Arachnoid cysts\", concept_recognizer=hpo_cr, option_d=arachnoid_cysts)\n",
    "column_mapper_list.append(arachnoid_cystsMapper)\n",
    "arachnoid_cystsMapper.preview_column(dft)"
   ]
  },
  {
   "cell_type": "code",
   "execution_count": 28,
   "id": "a2e26bed-733e-4049-a229-4287ff03925e",
   "metadata": {},
   "outputs": [
    {
     "name": "stdout",
     "output_type": "stream",
     "text": [
      "[INFO] encoding variant \"c.145C>G\"\n",
      "https://rest.variantvalidator.org/VariantValidator/variantvalidator/hg38/NM_000090.4%3Ac.145C>G/NM_000090.4?content-type=application%2Fjson\n",
      "[INFO] encoding variant \"c.3851G>A\"\n",
      "https://rest.variantvalidator.org/VariantValidator/variantvalidator/hg38/NM_000090.4%3Ac.3851G>A/NM_000090.4?content-type=application%2Fjson\n",
      "[INFO] encoding variant \"c.1786C>T\"\n",
      "https://rest.variantvalidator.org/VariantValidator/variantvalidator/hg38/NM_000090.4%3Ac.1786C>T/NM_000090.4?content-type=application%2Fjson\n",
      "[INFO] encoding variant \"c.479dupT\"\n",
      "https://rest.variantvalidator.org/VariantValidator/variantvalidator/hg38/NM_000090.4%3Ac.479dupT/NM_000090.4?content-type=application%2Fjson\n"
     ]
    }
   ],
   "source": [
    "COL3A1_transcript='NM_000090.4'\n",
    "vmanager = VariantManager(df=dft, individual_column_name=\"patient_id\",cohort_name=\"COL3A1\",transcript=COL3A1_transcript,\n",
    "                          allele_1_column_name=\"Mutation in COL3A1\", allele_2_column_name=\"Second mutation in COL3A1\")"
   ]
  },
  {
   "cell_type": "code",
   "execution_count": 29,
   "id": "d764e922-e65e-44f7-bb02-07a65f979cda",
   "metadata": {},
   "outputs": [
    {
     "data": {
      "text/html": [
       "<div>\n",
       "<style scoped>\n",
       "    .dataframe tbody tr th:only-of-type {\n",
       "        vertical-align: middle;\n",
       "    }\n",
       "\n",
       "    .dataframe tbody tr th {\n",
       "        vertical-align: top;\n",
       "    }\n",
       "\n",
       "    .dataframe thead th {\n",
       "        text-align: right;\n",
       "    }\n",
       "</style>\n",
       "<table border=\"1\" class=\"dataframe\">\n",
       "  <thead>\n",
       "    <tr style=\"text-align: right;\">\n",
       "      <th></th>\n",
       "      <th>status</th>\n",
       "      <th>count</th>\n",
       "      <th>alleles</th>\n",
       "    </tr>\n",
       "  </thead>\n",
       "  <tbody>\n",
       "    <tr>\n",
       "      <th>0</th>\n",
       "      <td>mapped</td>\n",
       "      <td>37</td>\n",
       "      <td>c.1862G&gt;A, c.755G&gt;A, c.951+5G&gt;C, c.724C&gt;T, c.565G&gt;C, c.659_664del, c.[1546G&gt;T;1556G&gt;T], c.2869G&gt;A, c.1346G&gt;T, c.556G&gt;A, c.2134_2160del, c.2283+5G&gt;T, c.598C&gt;T, c.1194+1G&gt;A, c.2870G&gt;T, c.583G&gt;A, c.897+2T&gt;G, c.763G&gt;T, c.547G&gt;A, c.2357G&gt;A, c.3256G&gt;C, c.3338G&gt;A, c.2356G&gt;A, c.2815G&gt;A, c.1330G&gt;A, c.3525+1G&gt;A, c.754G&gt;A, c.2518G&gt;A, c.897+2T&gt;A, c.848T&gt;A, c.665G&gt;A, c.1977+5G&gt;C, c.1662+1G&gt;A, c.145C&gt;G, c.3851G&gt;A, c.1786C&gt;T, c.479dupT</td>\n",
       "    </tr>\n",
       "    <tr>\n",
       "      <th>1</th>\n",
       "      <td>unmapped</td>\n",
       "      <td>0</td>\n",
       "      <td></td>\n",
       "    </tr>\n",
       "  </tbody>\n",
       "</table>\n",
       "</div>"
      ],
      "text/plain": [
       "     status  count  \\\n",
       "0    mapped     37   \n",
       "1  unmapped      0   \n",
       "\n",
       "                                                                                                                                                                                                                                                                                                                                                                                                                                    alleles  \n",
       "0  c.1862G>A, c.755G>A, c.951+5G>C, c.724C>T, c.565G>C, c.659_664del, c.[1546G>T;1556G>T], c.2869G>A, c.1346G>T, c.556G>A, c.2134_2160del, c.2283+5G>T, c.598C>T, c.1194+1G>A, c.2870G>T, c.583G>A, c.897+2T>G, c.763G>T, c.547G>A, c.2357G>A, c.3256G>C, c.3338G>A, c.2356G>A, c.2815G>A, c.1330G>A, c.3525+1G>A, c.754G>A, c.2518G>A, c.897+2T>A, c.848T>A, c.665G>A, c.1977+5G>C, c.1662+1G>A, c.145C>G, c.3851G>A, c.1786C>T, c.479dupT  \n",
       "1                                                                                                                                                                                                                                                                                                                                                                                                                                            "
      ]
     },
     "execution_count": 29,
     "metadata": {},
     "output_type": "execute_result"
    }
   ],
   "source": [
    "vmanager.to_summary()"
   ]
  },
  {
   "cell_type": "markdown",
   "id": "d1af2052",
   "metadata": {},
   "source": [
    "<h1>Demographic data</h1>"
   ]
  },
  {
   "cell_type": "code",
   "execution_count": 30,
   "id": "3e64dc08",
   "metadata": {},
   "outputs": [
    {
     "data": {
      "text/html": [
       "<div>\n",
       "<style scoped>\n",
       "    .dataframe tbody tr th:only-of-type {\n",
       "        vertical-align: middle;\n",
       "    }\n",
       "\n",
       "    .dataframe tbody tr th {\n",
       "        vertical-align: top;\n",
       "    }\n",
       "\n",
       "    .dataframe thead th {\n",
       "        text-align: right;\n",
       "    }\n",
       "</style>\n",
       "<table border=\"1\" class=\"dataframe\">\n",
       "  <thead>\n",
       "    <tr style=\"text-align: right;\">\n",
       "      <th></th>\n",
       "      <th>original column contents</th>\n",
       "      <th>age</th>\n",
       "    </tr>\n",
       "  </thead>\n",
       "  <tbody>\n",
       "    <tr>\n",
       "      <th>0</th>\n",
       "      <td>7</td>\n",
       "      <td>P7Y</td>\n",
       "    </tr>\n",
       "    <tr>\n",
       "      <th>1</th>\n",
       "      <td>3.5</td>\n",
       "      <td>P3Y6M</td>\n",
       "    </tr>\n",
       "    <tr>\n",
       "      <th>2</th>\n",
       "      <td>10</td>\n",
       "      <td>P10Y</td>\n",
       "    </tr>\n",
       "    <tr>\n",
       "      <th>3</th>\n",
       "      <td>19</td>\n",
       "      <td>P19Y</td>\n",
       "    </tr>\n",
       "  </tbody>\n",
       "</table>\n",
       "</div>"
      ],
      "text/plain": [
       "  original column contents    age\n",
       "0                        7    P7Y\n",
       "1                      3.5  P3Y6M\n",
       "2                       10   P10Y\n",
       "3                       19   P19Y"
      ]
     },
     "execution_count": 30,
     "metadata": {},
     "output_type": "execute_result"
    }
   ],
   "source": [
    "ageMapper = AgeColumnMapper.by_year('Age at examination(years)')\n",
    "ageMapper.preview_column(dft)"
   ]
  },
  {
   "cell_type": "code",
   "execution_count": 31,
   "id": "71f664cc",
   "metadata": {},
   "outputs": [
    {
     "data": {
      "text/html": [
       "<div>\n",
       "<style scoped>\n",
       "    .dataframe tbody tr th:only-of-type {\n",
       "        vertical-align: middle;\n",
       "    }\n",
       "\n",
       "    .dataframe tbody tr th {\n",
       "        vertical-align: top;\n",
       "    }\n",
       "\n",
       "    .dataframe thead th {\n",
       "        text-align: right;\n",
       "    }\n",
       "</style>\n",
       "<table border=\"1\" class=\"dataframe\">\n",
       "  <thead>\n",
       "    <tr style=\"text-align: right;\">\n",
       "      <th></th>\n",
       "      <th>original column contents</th>\n",
       "      <th>sex</th>\n",
       "    </tr>\n",
       "  </thead>\n",
       "  <tbody>\n",
       "    <tr>\n",
       "      <th>0</th>\n",
       "      <td>female</td>\n",
       "      <td>FEMALE</td>\n",
       "    </tr>\n",
       "    <tr>\n",
       "      <th>1</th>\n",
       "      <td>male</td>\n",
       "      <td>MALE</td>\n",
       "    </tr>\n",
       "    <tr>\n",
       "      <th>2</th>\n",
       "      <td>female</td>\n",
       "      <td>FEMALE</td>\n",
       "    </tr>\n",
       "    <tr>\n",
       "      <th>3</th>\n",
       "      <td>female</td>\n",
       "      <td>FEMALE</td>\n",
       "    </tr>\n",
       "  </tbody>\n",
       "</table>\n",
       "</div>"
      ],
      "text/plain": [
       "  original column contents     sex\n",
       "0                   female  FEMALE\n",
       "1                     male    MALE\n",
       "2                   female  FEMALE\n",
       "3                   female  FEMALE"
      ]
     },
     "execution_count": 31,
     "metadata": {},
     "output_type": "execute_result"
    }
   ],
   "source": [
    "sexMapper = SexColumnMapper(male_symbol='male', female_symbol='female', column_name='Sex')\n",
    "sexMapper.preview_column(dft)"
   ]
  },
  {
   "cell_type": "code",
   "execution_count": 32,
   "id": "f6581a8a",
   "metadata": {},
   "outputs": [],
   "source": [
    "disease = Disease(disease_id='OMIM:618343', disease_label='Polymicrogyria with or without vascular-type EDS')\n",
    "encoder = CohortEncoder(df=dft, \n",
    "                        hpo_cr=hpo_cr, \n",
    "                        column_mapper_list=column_mapper_list, \n",
    "                        individual_column_name=\"patient_id\", \n",
    "                        agemapper=ageMapper, \n",
    "                        sexmapper=sexMapper,\n",
    "                        metadata=metadata)\n",
    "encoder.set_disease(disease)"
   ]
  },
  {
   "cell_type": "markdown",
   "id": "36f64a38-2cb4-4452-9e42-cdccbe123728",
   "metadata": {},
   "source": [
    "# Add variant data"
   ]
  },
  {
   "cell_type": "code",
   "execution_count": 33,
   "id": "3c04a936-cb2b-451d-8870-bb8e5068abfd",
   "metadata": {},
   "outputs": [],
   "source": [
    "individuals = encoder.get_individuals()\n",
    "vmanager.add_variants_to_individuals(individuals)"
   ]
  },
  {
   "cell_type": "code",
   "execution_count": 34,
   "id": "ba2d26c7-a280-486f-b714-43f2ab8d04e3",
   "metadata": {},
   "outputs": [
    {
     "data": {
      "text/plain": [
       "Index(['patient_id', 'Sex', 'Age at examination(years)', 'Mutation in COL3A1',\n",
       "       'Second mutation in COL3A1', 'Major features', 'Minor features',\n",
       "       'Additional features', 'Congenital anomalies',\n",
       "       'Neurological examination', 'Head circumference', 'Epilepsy/onset',\n",
       "       'Age at MRI', 'Gyral pattern', 'Gradient', 'Periventricular region',\n",
       "       'White matter', 'White matter_2', 'White matter_3', 'White matter_4',\n",
       "       'Calcification', 'Lateral ventricles', 'Third ventricle',\n",
       "       'Fourth venticle', 'Brainstem', 'Basal ganglia', 'Corpus callosum',\n",
       "       'Hippocampus', 'Cortex', 'White matter_5', 'Vermis', 'Post fossa',\n",
       "       'Pituitary', 'Arachnoid cysts', 'Vessels'],\n",
       "      dtype='object', name='Clinical features')"
      ]
     },
     "execution_count": 34,
     "metadata": {},
     "output_type": "execute_result"
    }
   ],
   "source": [
    "dft.columns"
   ]
  },
  {
   "cell_type": "code",
   "execution_count": 35,
   "id": "5d044b78",
   "metadata": {},
   "outputs": [
    {
     "data": {
      "text/html": [
       "<h2>Cohort validation</h2>\n",
       "<p>Errors found with 1 of 4 phenopackets.</p>\n",
       "<table style=\"border: 2px solid black; align: \"left\">\n",
       "<caption>Error analysis</caption>\n",
       "<tr><th style=\"text-align: left;font-weight: bold;\">ID</th><th style=\"text-align: left;font-weight: bold;\">Level</th><th style=\"text-align: left;font-weight: bold;\">Category</th><th style=\"text-align: left;font-weight: bold;\">Message</th><th style=\"text-align: left;font-weight: bold;\">HPO Term</th></tr>\n",
       "<tr><td style=\"text-align: left;\">PMID_28258187_Patient_1</td><td style=\"text-align: left;\">WARNING</td><td style=\"text-align: left;\">DUPLICATE</td><td style=\"text-align: left;\"><b>Dilation of Virchow-Robin spaces</b> is listed multiple times</td><td style=\"text-align: left;\">Dilation of Virchow-Robin spaces (HP:0012520)</td></tr>\n",
       "</table>"
      ],
      "text/plain": [
       "<IPython.core.display.HTML object>"
      ]
     },
     "metadata": {},
     "output_type": "display_data"
    }
   ],
   "source": [
    "cvalidator = CohortValidator(cohort=individuals, ontology=hpo_ontology, min_hpo=1, allelic_requirement=AllelicRequirement.BI_ALLELIC)\n",
    "validated_individuals = cvalidator.get_validated_individual_list()\n",
    "qc = QcVisualizer(cohort_validator=cvalidator)\n",
    "display(HTML(qc.to_html()))"
   ]
  },
  {
   "cell_type": "markdown",
   "id": "ea84d704-a291-4ea8-acd5-31cba1d7c099",
   "metadata": {},
   "source": [
    "## Clean annotations\n",
    "We use the validated individuals to get a version of the phenopackets without the redundant term"
   ]
  },
  {
   "cell_type": "code",
   "execution_count": 36,
   "id": "f9f913a2-15ce-434f-a95b-cdfc6ee084d6",
   "metadata": {},
   "outputs": [
    {
     "data": {
      "text/html": [
       "<h2>Cohort validation</h2>\n",
       "<p>No errors found for the cohort with 4 individuals</p>"
      ],
      "text/plain": [
       "<IPython.core.display.HTML object>"
      ]
     },
     "metadata": {},
     "output_type": "display_data"
    }
   ],
   "source": [
    "individuals = cvalidator.get_error_free_individual_list()\n",
    "cvalidator = CohortValidator(cohort=individuals, ontology=hpo_ontology, min_hpo=1, allelic_requirement=AllelicRequirement.BI_ALLELIC)\n",
    "validated_individuals = cvalidator.get_validated_individual_list()\n",
    "qc = QcVisualizer(cohort_validator=cvalidator)\n",
    "display(HTML(qc.to_html()))"
   ]
  },
  {
   "cell_type": "code",
   "execution_count": 37,
   "id": "d1d4ee19-a732-4126-951a-4adf284f732d",
   "metadata": {},
   "outputs": [
    {
     "data": {
      "text/html": [
       "<table style=\"border: 2px solid black; align: \"left\">\n",
       "<caption>4 phenopackets - PMID:28258187 (n=4)</caption>\n",
       "<tr><th style=\"text-align: left;font-weight: bold;\">Individual</th><th style=\"text-align: left;font-weight: bold;\">Disease</th><th style=\"text-align: left;font-weight: bold;\">Genotype</th><th style=\"text-align: left;font-weight: bold;\">Phenotypic features</th></tr>\n",
       "<tr><td style=\"text-align: left;\">Patient 1 (FEMALE; P7Y)</td><td style=\"text-align: left;\">Polymicrogyria with or without vascular-type EDS (OMIM:618343)</td><td style=\"text-align: left;\">NM_000090.4:c.145C>G (homozygous)</td><td style=\"text-align: left;\">Dysgyria with thickened cortex (HP:0032400); Lateral ventricle dilatation (HP:0006956); Seizure (HP:0001250); Cerebellar vermis hypoplasia (HP:0001320); Hypointensity of cerebral white matter on MRI (HP:0007103); Global developmental delay (HP:0001263); Abnormal length of corpus callosum (HP:0200011); Renal cortical cysts (HP:0000803); Enlarged cisterna magna (HP:0002280); Dilated third ventricle (HP:0007082); Abnormal cerebellar cortex morphology (HP:0031422); Dilation of Virchow-Robin spaces (HP:0012520); Abnormal brainstem morphology (HP:0002363)</td></tr>\n",
       "<tr><td style=\"text-align: left;\">Patient 2 (MALE; P3Y6M)</td><td style=\"text-align: left;\">Polymicrogyria with or without vascular-type EDS (OMIM:618343)</td><td style=\"text-align: left;\">NM_000090.4:c.145C>G (homozygous)</td><td style=\"text-align: left;\">Abnormal cerebellar cortex morphology (HP:0031422); Renal cortical cysts (HP:0000803); Global developmental delay (HP:0001263); Absent speech (HP:0001344); Macrocephaly (HP:0000256); Seizure (HP:0001250); Dysgyria with thickened cortex (HP:0032400); Cerebral hypomyelination (HP:0006808); Dilation of Virchow-Robin spaces (HP:0012520); Lateral ventricle dilatation (HP:0006956); Dilated third ventricle (HP:0007082); Abnormal brainstem morphology (HP:0002363); Abnormal length of corpus callosum (HP:0200011); Cerebellar vermis hypoplasia (HP:0001320); Enlarged cisterna magna (HP:0002280); Arachnoid cyst (HP:0100702)</td></tr>\n",
       "<tr><td style=\"text-align: left;\">Patient 3 (FEMALE; P10Y)</td><td style=\"text-align: left;\">Polymicrogyria with or without vascular-type EDS (OMIM:618343)</td><td style=\"text-align: left;\">NM_000090.4:c.479dup (homozygous)</td><td style=\"text-align: left;\">Bruising susceptibility (HP:0000978); Abnormal arterial physiology (HP:0025323); Renal cortical cysts (HP:0000803); Varicose veins (HP:0002619); Joint hypermobility (HP:0001382); Pulmonic stenosis (HP:0001642); Atrophic scars (HP:0001075); Gingival recession (HP:0030816); Talipes equinovarus (HP:0001762); Motor delay (HP:0001270); Typical absence seizure (HP:0011147); Dysgyria with thickened cortex (HP:0032400); Polymicrogyria (HP:0002126); Dilation of Virchow-Robin spaces (HP:0012520); Lateral ventricle dilatation (HP:0006956); Dilated third ventricle (HP:0007082); Hypoplasia of the pons (HP:0012110); Abnormal length of corpus callosum (HP:0200011); Arachnoid cyst (HP:0100702)</td></tr>\n",
       "<tr><td style=\"text-align: left;\">Patient 4 (FEMALE; P19Y)</td><td style=\"text-align: left;\">Polymicrogyria with or without vascular-type EDS (OMIM:618343)</td><td style=\"text-align: left;\"><ul> <li>NM_000090.4:c.1786C>T (heterozygous)</li> <li>NM_000090.4:c.3851G>A (heterozygous)</li> </ul></td><td style=\"text-align: left;\">Bruising susceptibility (HP:0000978); Dermal translucency (HP:0010648); Arterial dissection (HP:0005294); Renal cortical cysts (HP:0000803); Joint hypermobility (HP:0001382); Tendon rupture (HP:0100550); Slender finger (HP:0001238); Polymicrogyria (HP:0002126); Dilation of Virchow-Robin spaces (HP:0012520); Cerebellar vermis hypoplasia (HP:0001320); Enlarged cisterna magna (HP:0002280); Carotid artery dilatation (HP:0012163); Carotid artery stenosis (HP:0100546)</td></tr>\n",
       "</table>"
      ],
      "text/plain": [
       "<IPython.core.display.HTML object>"
      ]
     },
     "metadata": {},
     "output_type": "display_data"
    }
   ],
   "source": [
    "table = PhenopacketTable(individual_list=individuals, metadata=metadata)\n",
    "display(HTML(table.to_html()))"
   ]
  },
  {
   "cell_type": "code",
   "execution_count": 38,
   "id": "23f1094f",
   "metadata": {},
   "outputs": [
    {
     "name": "stdout",
     "output_type": "stream",
     "text": [
      "We output 4 GA4GH phenopackets to the directory phenopackets\n"
     ]
    }
   ],
   "source": [
    "output_directory = \"phenopackets\"\n",
    "Individual.output_individuals_as_phenopackets(individual_list=individuals,\n",
    "                                              metadata=metadata,\n",
    "                                              outdir=output_directory)"
   ]
  },
  {
   "cell_type": "code",
   "execution_count": null,
   "id": "d5be6641-961c-4592-8a77-2c485a311b08",
   "metadata": {},
   "outputs": [],
   "source": []
  }
 ],
 "metadata": {
  "kernelspec": {
   "display_name": "Python 3 (ipykernel)",
   "language": "python",
   "name": "python3"
  },
  "language_info": {
   "codemirror_mode": {
    "name": "ipython",
    "version": 3
   },
   "file_extension": ".py",
   "mimetype": "text/x-python",
   "name": "python",
   "nbconvert_exporter": "python",
   "pygments_lexer": "ipython3",
   "version": "3.8.10"
  }
 },
 "nbformat": 4,
 "nbformat_minor": 5
}
