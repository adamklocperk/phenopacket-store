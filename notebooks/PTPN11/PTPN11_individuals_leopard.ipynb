{
 "cells": [
  {
   "cell_type": "markdown",
   "id": "cef6c385-782d-4bc9-a5c3-444f2d56c2f4",
   "metadata": {},
   "source": [
    "# PTPN11 Cases with LEOPARD Syndrome 1"
   ]
  },
  {
   "cell_type": "code",
   "execution_count": 1,
   "id": "f1b7733f-9ff9-4ed7-87b3-8481744a54ec",
   "metadata": {},
   "outputs": [
    {
     "name": "stdout",
     "output_type": "stream",
     "text": [
      "Using pyphetools version 0.9.39\n"
     ]
    }
   ],
   "source": [
    "import pandas as pd\n",
    "from IPython.display import display, HTML\n",
    "pd.set_option('display.max_colwidth', None) # show entire column contents, important!\n",
    "from collections import defaultdict\n",
    "from pyphetools.creation import *\n",
    "from pyphetools.visualization import IndividualTable, QcVisualizer\n",
    "from pyphetools.validation import *\n",
    "import pyphetools\n",
    "print(f\"Using pyphetools version {pyphetools.__version__}\")"
   ]
  },
  {
   "cell_type": "code",
   "execution_count": 2,
   "id": "52776b0e-107a-40e7-ae29-15f77e5aa563",
   "metadata": {},
   "outputs": [
    {
     "name": "stdout",
     "output_type": "stream",
     "text": [
      "HPO version 2024-01-16\n"
     ]
    }
   ],
   "source": [
    "parser = HpoParser(hpo_json_file=\"../hp.json\")\n",
    "hpo_cr = parser.get_hpo_concept_recognizer()\n",
    "hpo_version = parser.get_version()\n",
    "hpo_ontology = parser.get_ontology()\n",
    "created_by=\"ORCID:0000-0002-0736-9199\"\n",
    "print(f\"HPO version {hpo_version}\")"
   ]
  },
  {
   "cell_type": "code",
   "execution_count": 3,
   "id": "fad48271-054b-4c43-99a8-c374865ea594",
   "metadata": {},
   "outputs": [
    {
     "data": {
      "text/html": [
       "<div>\n",
       "<style scoped>\n",
       "    .dataframe tbody tr th:only-of-type {\n",
       "        vertical-align: middle;\n",
       "    }\n",
       "\n",
       "    .dataframe tbody tr th {\n",
       "        vertical-align: top;\n",
       "    }\n",
       "\n",
       "    .dataframe thead th {\n",
       "        text-align: right;\n",
       "    }\n",
       "</style>\n",
       "<table border=\"1\" class=\"dataframe\">\n",
       "  <thead>\n",
       "    <tr style=\"text-align: right;\">\n",
       "      <th></th>\n",
       "      <th>PMID</th>\n",
       "      <th>title</th>\n",
       "      <th>individual_id</th>\n",
       "      <th>Comment</th>\n",
       "      <th>disease_id</th>\n",
       "      <th>disease_label</th>\n",
       "      <th>transcript</th>\n",
       "      <th>allele_1</th>\n",
       "      <th>allele_2</th>\n",
       "      <th>variant.comment</th>\n",
       "      <th>...</th>\n",
       "      <th>Growth delay</th>\n",
       "      <th>Diastema</th>\n",
       "      <th>Scoliosis</th>\n",
       "      <th>Hypodontia</th>\n",
       "      <th>Mobitz I atrioventricular block</th>\n",
       "      <th>Posteriorly rotated ears</th>\n",
       "      <th>Hypotonia</th>\n",
       "      <th>Cerebral hemorrhage</th>\n",
       "      <th>Atrial septal defect</th>\n",
       "      <th>Pulmonic stenosis</th>\n",
       "    </tr>\n",
       "  </thead>\n",
       "  <tbody>\n",
       "    <tr>\n",
       "      <th>0</th>\n",
       "      <td>str</td>\n",
       "      <td>str</td>\n",
       "      <td>str</td>\n",
       "      <td>optional str</td>\n",
       "      <td>str</td>\n",
       "      <td>str</td>\n",
       "      <td>str</td>\n",
       "      <td>HGVS str</td>\n",
       "      <td>HGVS str</td>\n",
       "      <td>optional str</td>\n",
       "      <td>...</td>\n",
       "      <td>HP:0001510</td>\n",
       "      <td>HP:0000699</td>\n",
       "      <td>HP:0002650</td>\n",
       "      <td>HP:0000668</td>\n",
       "      <td>HP:0011707</td>\n",
       "      <td>HP:0000358</td>\n",
       "      <td>HP:0001252</td>\n",
       "      <td>HP:0001342</td>\n",
       "      <td>HP:0001631</td>\n",
       "      <td>HP:0001642</td>\n",
       "    </tr>\n",
       "    <tr>\n",
       "      <th>1</th>\n",
       "      <td>PMID:37260585</td>\n",
       "      <td>LEOPARD Syndrome with a Sporadic PTPN11 Mutation in a Saudi Patient</td>\n",
       "      <td>5-year-old girl</td>\n",
       "      <td>NaN</td>\n",
       "      <td>OMIM:151100</td>\n",
       "      <td>LEOPARD syndrome 1</td>\n",
       "      <td>NM_002834.5</td>\n",
       "      <td>c.836A&gt;G</td>\n",
       "      <td>na</td>\n",
       "      <td>NaN</td>\n",
       "      <td>...</td>\n",
       "      <td>excluded</td>\n",
       "      <td>NaN</td>\n",
       "      <td>excluded</td>\n",
       "      <td>NaN</td>\n",
       "      <td>NaN</td>\n",
       "      <td>excluded</td>\n",
       "      <td>excluded</td>\n",
       "      <td>excluded</td>\n",
       "      <td>NaN</td>\n",
       "      <td>NaN</td>\n",
       "    </tr>\n",
       "  </tbody>\n",
       "</table>\n",
       "<p>2 rows × 39 columns</p>\n",
       "</div>"
      ],
      "text/plain": [
       "            PMID  \\\n",
       "0            str   \n",
       "1  PMID:37260585   \n",
       "\n",
       "                                                                 title  \\\n",
       "0                                                                  str   \n",
       "1  LEOPARD Syndrome with a Sporadic PTPN11 Mutation in a Saudi Patient   \n",
       "\n",
       "     individual_id       Comment   disease_id       disease_label  \\\n",
       "0              str  optional str          str                 str   \n",
       "1  5-year-old girl           NaN  OMIM:151100  LEOPARD syndrome 1   \n",
       "\n",
       "    transcript  allele_1  allele_2 variant.comment  ... Growth delay  \\\n",
       "0          str  HGVS str  HGVS str    optional str  ...   HP:0001510   \n",
       "1  NM_002834.5  c.836A>G        na             NaN  ...     excluded   \n",
       "\n",
       "     Diastema   Scoliosis  Hypodontia Mobitz I atrioventricular block  \\\n",
       "0  HP:0000699  HP:0002650  HP:0000668                      HP:0011707   \n",
       "1         NaN    excluded         NaN                             NaN   \n",
       "\n",
       "  Posteriorly rotated ears   Hypotonia Cerebral hemorrhage  \\\n",
       "0               HP:0000358  HP:0001252          HP:0001342   \n",
       "1                 excluded    excluded            excluded   \n",
       "\n",
       "  Atrial septal defect Pulmonic stenosis  \n",
       "0           HP:0001631        HP:0001642  \n",
       "1                  NaN               NaN  \n",
       "\n",
       "[2 rows x 39 columns]"
      ]
     },
     "execution_count": 3,
     "metadata": {},
     "output_type": "execute_result"
    }
   ],
   "source": [
    "df = pd.read_excel(\"input/ptpn11_leopard_individuals.xlsx\")\n",
    "df.head(2)"
   ]
  },
  {
   "cell_type": "code",
   "execution_count": 4,
   "id": "db50eed6-89df-43ba-bfd4-9f3a1c0a7c28",
   "metadata": {},
   "outputs": [
    {
     "name": "stdout",
     "output_type": "stream",
     "text": [
      "Created encoders for 39 fields\n"
     ]
    }
   ],
   "source": [
    "from pyphetools.creation import CaseTemplateEncoder\n",
    "encoder = CaseTemplateEncoder(df=df, hpo_cr=hpo_cr, created_by=created_by)"
   ]
  },
  {
   "cell_type": "code",
   "execution_count": 5,
   "id": "46d81ad6-e318-48ea-bd8e-a87e8b68274f",
   "metadata": {},
   "outputs": [],
   "source": [
    "individuals = encoder.get_individuals()"
   ]
  },
  {
   "cell_type": "code",
   "execution_count": 6,
   "id": "e66c70aa-8448-48e7-9668-578ddd2024f6",
   "metadata": {},
   "outputs": [],
   "source": [
    "vmanager = VariantManager(df=df,\n",
    "                          individual_column_name=\"individual_id\",\n",
    "                          gene_symbol=\"PTPN11\",\n",
    "                          transcript=\"NM_002834.5\",\n",
    "                          allele_1_column_name=\"allele_1\")"
   ]
  },
  {
   "cell_type": "code",
   "execution_count": 7,
   "id": "1dfad798-3e4f-440b-bf30-66d5cc131035",
   "metadata": {},
   "outputs": [
    {
     "data": {
      "text/html": [
       "<div>\n",
       "<style scoped>\n",
       "    .dataframe tbody tr th:only-of-type {\n",
       "        vertical-align: middle;\n",
       "    }\n",
       "\n",
       "    .dataframe tbody tr th {\n",
       "        vertical-align: top;\n",
       "    }\n",
       "\n",
       "    .dataframe thead th {\n",
       "        text-align: right;\n",
       "    }\n",
       "</style>\n",
       "<table border=\"1\" class=\"dataframe\">\n",
       "  <thead>\n",
       "    <tr style=\"text-align: right;\">\n",
       "      <th></th>\n",
       "      <th>status</th>\n",
       "      <th>count</th>\n",
       "      <th>alleles</th>\n",
       "    </tr>\n",
       "  </thead>\n",
       "  <tbody>\n",
       "    <tr>\n",
       "      <th>0</th>\n",
       "      <td>mapped</td>\n",
       "      <td>7</td>\n",
       "      <td>c.124A&gt;G, c.1510A&gt;G, c.922A&gt;G, c.380C&gt;T, c.836A&gt;G, c.1493G&gt;T, c.1403C&gt;T</td>\n",
       "    </tr>\n",
       "    <tr>\n",
       "      <th>1</th>\n",
       "      <td>unmapped</td>\n",
       "      <td>0</td>\n",
       "      <td></td>\n",
       "    </tr>\n",
       "  </tbody>\n",
       "</table>\n",
       "</div>"
      ],
      "text/plain": [
       "     status  count  \\\n",
       "0    mapped      7   \n",
       "1  unmapped      0   \n",
       "\n",
       "                                                                   alleles  \n",
       "0  c.124A>G, c.1510A>G, c.922A>G, c.380C>T, c.836A>G, c.1493G>T, c.1403C>T  \n",
       "1                                                                           "
      ]
     },
     "execution_count": 7,
     "metadata": {},
     "output_type": "execute_result"
    }
   ],
   "source": [
    "vmanager.to_summary()"
   ]
  },
  {
   "cell_type": "code",
   "execution_count": 8,
   "id": "e0093ddd-8f83-4494-8e27-5c5cfb488423",
   "metadata": {},
   "outputs": [
    {
     "data": {
      "text/html": [
       "<h2>Cohort validation</h2>\n",
       "<p>No errors found for the cohort with 9 individuals</p>"
      ],
      "text/plain": [
       "<IPython.core.display.HTML object>"
      ]
     },
     "metadata": {},
     "output_type": "display_data"
    }
   ],
   "source": [
    "vmanager.add_variants_to_individuals(individuals)\n",
    "cvalidator = CohortValidator(cohort=individuals, ontology=hpo_ontology, min_hpo=1, allelic_requirement=AllelicRequirement.MONO_ALLELIC)\n",
    "qc = QcVisualizer(cohort_validator=cvalidator)\n",
    "display(HTML(qc.to_summary_html()))"
   ]
  },
  {
   "cell_type": "code",
   "execution_count": 9,
   "id": "e83f4aab-c965-4f7e-abea-2531bb7d8570",
   "metadata": {},
   "outputs": [
    {
     "data": {
      "text/html": [
       "<table style=\"border: 2px solid black; align: \"left\">\n",
       "<caption>9 phenopackets - PMID:37260585 (n=1); PMID:37056170 (n=2); PMID:34552798 (n=1); PMID:33898683 (n=1); PMID:33776629 (n=1); PMID:32765928 (n=3)</caption>\n",
       "<tr><th style=\"text-align: left;font-weight: bold;\">Individual</th><th style=\"text-align: left;font-weight: bold;\">Disease</th><th style=\"text-align: left;font-weight: bold;\">Genotype</th><th style=\"text-align: left;font-weight: bold;\">Phenotypic features</th></tr>\n",
       "<tr><td style=\"text-align: left;\">5-year-old girl (FEMALE; P2Y)</td><td style=\"text-align: left;\">LEOPARD syndrome 1 (OMIM:151100)</td><td style=\"text-align: left;\">NM_002834.5:c.836A>G (heterozygous)</td><td style=\"text-align: left;\"><b>P2Y</b>: Multiple lentigines (HP:0001003); Triangular face (HP:0000325)<br/>Mandibular prognathia (HP:0000303); Wide nasal bridge (HP:0000431); Hypertelorism (HP:0000316); Ptosis (HP:0000508); Low-set ears (HP:0000369); Low posterior hairline (HP:0002162); Pectus carinatum (HP:0000768); Scapular winging (HP:0003691); Ventricular septal defect (HP:0001629); Sensorineural hearing impairment (HP:0000407); Global developmental delay (HP:0001263); Cafe-au-lait spot (HP:0000957); excluded: Pectus excavatum (HP:0000767); excluded: Growth delay (HP:0001510); excluded: Scoliosis (HP:0002650); excluded: Posteriorly rotated ears (HP:0000358); excluded: Hypotonia (HP:0001252); excluded: Cerebral hemorrhage (HP:0001342)</td></tr>\n",
       "<tr><td style=\"text-align: left;\">Proband 3 (FEMALE; P4Y)</td><td style=\"text-align: left;\">LEOPARD syndrome 1 (OMIM:151100)</td><td style=\"text-align: left;\">NM_002834.5:c.1403C>T (heterozygous)</td><td style=\"text-align: left;\"><b>P4Y</b>: Multiple lentigines (HP:0001003)<br/>Hypertelorism (HP:0000316); excluded: Triangular face (HP:0000325); excluded: Mandibular prognathia (HP:0000303); excluded: Wide nasal bridge (HP:0000431); excluded: Ptosis (HP:0000508); excluded: Low-set ears (HP:0000369); excluded: Low posterior hairline (HP:0002162); excluded: Pectus excavatum (HP:0000767); excluded: Pectus carinatum (HP:0000768); excluded: Scapular winging (HP:0003691); excluded: Ventricular septal defect (HP:0001629); excluded: Sensorineural hearing impairment (HP:0000407); excluded: Global developmental delay (HP:0001263); excluded: Cafe-au-lait spot (HP:0000957); excluded: Growth delay (HP:0001510); excluded: Scoliosis (HP:0002650); excluded: Posteriorly rotated ears (HP:0000358); excluded: Hypotonia (HP:0001252); excluded: Cerebral hemorrhage (HP:0001342)</td></tr>\n",
       "<tr><td style=\"text-align: left;\">Proband 4 (MALE; P2Y)</td><td style=\"text-align: left;\">LEOPARD syndrome 1 (OMIM:151100)</td><td style=\"text-align: left;\">NM_002834.5:c.1493G>T (heterozygous)</td><td style=\"text-align: left;\"><b>P2Y</b>: Multiple lentigines (HP:0001003)<br/>Hypertrophic cardiomyopathy (HP:0001639); excluded: Triangular face (HP:0000325); excluded: Mandibular prognathia (HP:0000303); excluded: Wide nasal bridge (HP:0000431); excluded: Hypertelorism (HP:0000316); excluded: Ptosis (HP:0000508); excluded: Low-set ears (HP:0000369); excluded: Low posterior hairline (HP:0002162); excluded: Pectus excavatum (HP:0000767); excluded: Pectus carinatum (HP:0000768); excluded: Scapular winging (HP:0003691); excluded: Ventricular septal defect (HP:0001629); excluded: Sensorineural hearing impairment (HP:0000407); excluded: Global developmental delay (HP:0001263); excluded: Cafe-au-lait spot (HP:0000957); excluded: Growth delay (HP:0001510); excluded: Scoliosis (HP:0002650); excluded: Posteriorly rotated ears (HP:0000358); excluded: Hypotonia (HP:0001252); excluded: Cerebral hemorrhage (HP:0001342)</td></tr>\n",
       "<tr><td style=\"text-align: left;\">8-year-old female patient (FEMALE; P4Y)</td><td style=\"text-align: left;\">LEOPARD syndrome 1 (OMIM:151100)</td><td style=\"text-align: left;\">NM_002834.5:c.836A>G (heterozygous)</td><td style=\"text-align: left;\"><b>P4Y</b>: Multiple lentigines (HP:0001003)<br/>Mandibular prognathia (HP:0000303); Wide nasal bridge (HP:0000431); Hypertelorism (HP:0000316); Pectus carinatum (HP:0000768); Scapular winging (HP:0003691); Cafe-au-lait spot (HP:0000957); Growth delay (HP:0001510); Diastema (HP:0000699); Scoliosis (HP:0002650); Hypodontia (HP:0000668); excluded: Low-set ears (HP:0000369); excluded: Low posterior hairline (HP:0002162); excluded: Pectus excavatum (HP:0000767); excluded: Ventricular septal defect (HP:0001629); excluded: Hypertrophic cardiomyopathy (HP:0001639); excluded: Posteriorly rotated ears (HP:0000358); excluded: Hypotonia (HP:0001252); excluded: Cerebral hemorrhage (HP:0001342); excluded: Atrial septal defect (HP:0001631)</td></tr>\n",
       "<tr><td style=\"text-align: left;\">43-year-old Jewish man (MALE; P3Y)</td><td style=\"text-align: left;\">LEOPARD syndrome 1 (OMIM:151100)</td><td style=\"text-align: left;\">NM_002834.5:c.380C>T (heterozygous)</td><td style=\"text-align: left;\"><b>P3Y</b>: Multiple lentigines (HP:0001003)<br/>Wide nasal bridge (HP:0000431); Hypertelorism (HP:0000316); Low-set ears (HP:0000369); Pectus excavatum (HP:0000767); Sensorineural hearing impairment (HP:0000407); Mobitz I atrioventricular block (HP:0011707); Posteriorly rotated ears (HP:0000358); excluded: Triangular face (HP:0000325); excluded: Ptosis (HP:0000508); excluded: Low posterior hairline (HP:0002162); excluded: Pectus carinatum (HP:0000768); excluded: Scapular winging (HP:0003691); excluded: Ventricular septal defect (HP:0001629); excluded: Global developmental delay (HP:0001263); excluded: Cafe-au-lait spot (HP:0000957); excluded: Hypertrophic cardiomyopathy (HP:0001639); excluded: Growth delay (HP:0001510); excluded: Scoliosis (HP:0002650); excluded: Hypotonia (HP:0001252); excluded: Cerebral hemorrhage (HP:0001342); excluded: Atrial septal defect (HP:0001631)</td></tr>\n",
       "<tr><td style=\"text-align: left;\">2-year-old girl (FEMALE; )</td><td style=\"text-align: left;\">LEOPARD syndrome 1 (OMIM:151100)</td><td style=\"text-align: left;\">NM_002834.5:c.1493G>T (heterozygous)</td><td style=\"text-align: left;\"><b>P12Y</b>: Cerebral hemorrhage (HP:0001342)<br/>Multiple lentigines (HP:0001003); Triangular face (HP:0000325); Low-set ears (HP:0000369); Cafe-au-lait spot (HP:0000957); Hypotonia (HP:0001252); excluded: Ptosis (HP:0000508); excluded: Low posterior hairline (HP:0002162); excluded: Pectus excavatum (HP:0000767); excluded: Pectus carinatum (HP:0000768); excluded: Scapular winging (HP:0003691); excluded: Growth delay (HP:0001510); excluded: Scoliosis (HP:0002650); excluded: Posteriorly rotated ears (HP:0000358)</td></tr>\n",
       "<tr><td style=\"text-align: left;\">37-year-old male (MALE; )</td><td style=\"text-align: left;\">LEOPARD syndrome 1 (OMIM:151100)</td><td style=\"text-align: left;\">NM_002834.5:c.836A>G (heterozygous)</td><td style=\"text-align: left;\">Multiple lentigines (HP:0001003); Hypertelorism (HP:0000316); Low-set ears (HP:0000369); Pectus excavatum (HP:0000767); Atrial septal defect (HP:0001631); excluded: Pectus carinatum (HP:0000768); excluded: Sensorineural hearing impairment (HP:0000407); excluded: Pulmonic stenosis (HP:0001642)</td></tr>\n",
       "<tr><td style=\"text-align: left;\">4-year-old son (MALE; P6M)</td><td style=\"text-align: left;\">LEOPARD syndrome 1 (OMIM:151100)</td><td style=\"text-align: left;\">NM_002834.5:c.836A>G (heterozygous)</td><td style=\"text-align: left;\"><b>P6M</b>: Multiple lentigines (HP:0001003)<br/>Hypertelorism (HP:0000316); Low-set ears (HP:0000369); Pectus excavatum (HP:0000767); Global developmental delay (HP:0001263); excluded: Pectus carinatum (HP:0000768); excluded: Sensorineural hearing impairment (HP:0000407); excluded: Hypertrophic cardiomyopathy (HP:0001639); excluded: Atrial septal defect (HP:0001631); excluded: Pulmonic stenosis (HP:0001642)</td></tr>\n",
       "<tr><td style=\"text-align: left;\">18-month-old son (MALE; P2M)</td><td style=\"text-align: left;\">LEOPARD syndrome 1 (OMIM:151100)</td><td style=\"text-align: left;\">NM_002834.5:c.836A>G (heterozygous)</td><td style=\"text-align: left;\"><b>P2M</b>: Multiple lentigines (HP:0001003)<br/>Hypertelorism (HP:0000316); Low-set ears (HP:0000369); Ventricular septal defect (HP:0001629); Atrial septal defect (HP:0001631); excluded: Sensorineural hearing impairment (HP:0000407); excluded: Pulmonic stenosis (HP:0001642)</td></tr>\n",
       "</table>"
      ],
      "text/plain": [
       "<IPython.core.display.HTML object>"
      ]
     },
     "metadata": {},
     "output_type": "display_data"
    }
   ],
   "source": [
    "individuals = cvalidator.get_error_free_individual_list()\n",
    "table = IndividualTable(individuals)\n",
    "display(HTML(table.to_html()))"
   ]
  },
  {
   "cell_type": "code",
   "execution_count": 10,
   "id": "5572e9ca-8b5b-4a8d-908e-84d76e1683d8",
   "metadata": {},
   "outputs": [
    {
     "name": "stdout",
     "output_type": "stream",
     "text": [
      "We output 9 GA4GH phenopackets to the directory phenopackets\n"
     ]
    }
   ],
   "source": [
    "encoder.output_individuals_as_phenopackets(individuals)"
   ]
  },
  {
   "cell_type": "code",
   "execution_count": null,
   "id": "68c0f867-af4c-4488-8c99-bad70add94c5",
   "metadata": {},
   "outputs": [],
   "source": []
  }
 ],
 "metadata": {
  "kernelspec": {
   "display_name": "ps24venv",
   "language": "python",
   "name": "ps24venv"
  },
  "language_info": {
   "codemirror_mode": {
    "name": "ipython",
    "version": 3
   },
   "file_extension": ".py",
   "mimetype": "text/x-python",
   "name": "python",
   "nbconvert_exporter": "python",
   "pygments_lexer": "ipython3",
   "version": "3.8.10"
  }
 },
 "nbformat": 4,
 "nbformat_minor": 5
}
