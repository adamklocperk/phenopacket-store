{
 "cells": [
  {
   "cell_type": "markdown",
   "id": "3dda740a-c6f4-477f-a86d-e40c86c3ea3e",
   "metadata": {},
   "source": [
    "# PTPN11 case reports\n",
    "Data taken from various case reports using"
   ]
  },
  {
   "cell_type": "code",
   "execution_count": 1,
   "id": "95cc5dd3-b6ed-4ce5-87da-ce5d29f244a0",
   "metadata": {},
   "outputs": [
    {
     "name": "stdout",
     "output_type": "stream",
     "text": [
      "pyphetools version 0.8.31\n"
     ]
    }
   ],
   "source": [
    "import pandas as pd\n",
    "pd.set_option('display.max_colwidth', None) # show entire column contents, important!\n",
    "from IPython.display import display, HTML\n",
    "import pyphetools\n",
    "from pyphetools.creation import *\n",
    "from pyphetools.visualization import *\n",
    "from pyphetools.validation import CohortValidator\n",
    "print(f\"pyphetools version {pyphetools.__version__}\")"
   ]
  },
  {
   "cell_type": "code",
   "execution_count": 2,
   "id": "170b1329-4106-4623-b918-19db7240f661",
   "metadata": {},
   "outputs": [
    {
     "name": "stdout",
     "output_type": "stream",
     "text": [
      "HPO version 2023-10-09\n"
     ]
    }
   ],
   "source": [
    "parser = HpoParser()\n",
    "hpo_cr = parser.get_hpo_concept_recognizer()\n",
    "hpo_version = parser.get_version()\n",
    "hpo_ontology = parser.get_ontology()\n",
    "print(f\"HPO version {hpo_version}\")"
   ]
  },
  {
   "cell_type": "markdown",
   "id": "65f02fbe-0e0f-4c31-aaf9-46381cf044f9",
   "metadata": {},
   "source": [
    "# Watanabe et al. (2022)\n",
    "Data taken from [Watanabe D, et al. (2022) PTPN11 c.853T>C (p.Phe285Leu) mutation in Noonan syndrome with chylothorax. Nagoya J Med Sci. 84:871-876. PMID:36544606](https://pubmed.ncbi.nlm.nih.gov/36544606/)\n"
   ]
  },
  {
   "cell_type": "code",
   "execution_count": 3,
   "id": "f460ce97-5eec-4c85-965f-345aab2fb48a",
   "metadata": {},
   "outputs": [],
   "source": [
    "PMID = \"PMID:36544606\"\n",
    "title = \"PTPN11 c.853T>C (p.Phe285Leu) mutation in Noonan syndrome with chylothorax\"\n",
    "citation = Citation(pmid=PMID, title=title)\n",
    "metadata = MetaData(created_by=\"ORCID:0000-0002-0736-9199\", citation=citation)\n",
    "metadata.default_versions_with_hpo(version=hpo_version)"
   ]
  },
  {
   "cell_type": "markdown",
   "id": "5d29583b-bb0e-4801-8754-f3d1d912cac2",
   "metadata": {},
   "source": [
    "A male infant was born as a first child to healthy, nonconsanguineous parents at 35 weeks and 4 days of gestation. His birth weight was 1,452 g. At 21 weeks of gestation, massive chylothorax was observed. At 23–24 weeks of gestation, thoracoamniotic shunting was performed, which was removed at birth. Physical examination revealed a peculiar face with a prominent forehead, droopy eyelids, micrognathia, low-set ears, webbed neck, funnel chest, and cryptorchidism. Heart ultrasound examination revealed good wall motion and no signs of pulmonary stenosis, hypertrophic cardiomyopathy, or other heart anomalies. CT examination revealed the presence of hypoplasia of the sternum and ribs. He was mechanically ventilated for 15 days. Enteral feeding was started from the first day, and his weight gain was good with human milk fortifier and medium-chain triglyceride oil. When the total water intake reached 150 ml/kg/day at 42 days of age, recurrence of the chylothorax occurred (Fig. 1). Pleural fluid analysis showed that white blood cells, lymphocytes, triglycerides, and Rivalta’s reaction were 55,900/µL, 98%, 2364.1 mg/dL, and positive, respectively. At the age of 54 days, the subject’s feeding was changed to medium-chain triglyceride formula and he received octreotide for the treatment of chylothorax. At 63 days of age, furosemide and spironolactone were administered for the treatment of chylothorax. The patient was discharged at 5 months of age with no re-accumulation of the chylothorax after reducing the dose of octreotide.\n",
    "At the age of 42 days, the patient had chylothorax on the right side\n",
    "Fig. 1a: X-ray examination. Right and subpulmonic effusion. Decreased lung volume. Diffuse hazy opacities in the right lung were consistent with chylothorax and atelectasis.\n",
    "Fig. 1b: Ultrasonogram. Examined from the intercostal space above the right axillary line. Accumulation of the pleural effusion.\n",
    "Fig. 1c: Pleural fluid analysis. Thoracentesis was performed, and 10 ml of pleural fluid was drained."
   ]
  },
  {
   "cell_type": "code",
   "execution_count": 4,
   "id": "8b6206bd-5686-4c46-addf-1b7038d94b23",
   "metadata": {},
   "outputs": [],
   "source": [
    "pfeatures = []\n",
    "pfeatures.append(HpTerm(hpo_id=\"HP:0100750\", label=\"Atelectasis\", observed=\"True\", onset=\"P0Y5M0D\"))\n",
    "pfeatures.append(HpTerm(hpo_id=\"HP:0000028\", label=\"Cryptorchidism\", observed=\"True\"))\n",
    "pfeatures.append(HpTerm(hpo_id=\"HP:0025677\", label=\"Fetal chylothorax\", observed=\"True\"))\n",
    "pfeatures.append(HpTerm(hpo_id=\"HP:0001639\", label=\"Hypertrophic cardiomyopathy\", observed=\"False\", onset=\"P0Y5M0D\"))\n",
    "pfeatures.append(HpTerm(hpo_id=\"HP:0000369\", label=\"Low-set ears\", observed=\"True\", onset=\"P0Y5M0D\"))\n",
    "pfeatures.append(HpTerm(hpo_id=\"HP:0000347\", label=\"Micrognathia\", observed=\"True\", onset=\"P0Y5M0D\"))\n",
    "pfeatures.append(HpTerm(hpo_id=\"HP:0000767\", label=\"Pectus excavatum\", observed=\"True\", onset=\"P0Y5M0D\"))\n",
    "pfeatures.append(HpTerm(hpo_id=\"HP:0002202\", label=\"Pleural effusion\", observed=\"True\", onset=\"P0Y5M0D\"))\n",
    "pfeatures.append(HpTerm(hpo_id=\"HP:0011220\", label=\"Prominent forehead\", observed=\"True\", onset=\"P0Y5M0D\"))\n",
    "pfeatures.append(HpTerm(hpo_id=\"HP:0001642\", label=\"Pulmonic stenosis\", observed=\"False\", onset=\"P0Y5M0D\"))\n",
    "pfeatures.append(HpTerm(hpo_id=\"HP:0000879\", label=\"Short sternum\", observed=\"True\", onset=\"P0Y5M0D\"))\n",
    "pfeatures.append(HpTerm(hpo_id=\"HP:0000465\", label=\"Webbed neck\", observed=\"True\", onset=\"P0Y5M0D\"))\n",
    "individual_patient = Individual(individual_id=\"patient\", sex=\"MALE\", hpo_terms=pfeatures)"
   ]
  },
  {
   "cell_type": "code",
   "execution_count": 5,
   "id": "020f3867-216d-47bf-84da-9fa1f3aa771f",
   "metadata": {},
   "outputs": [
    {
     "name": "stdout",
     "output_type": "stream",
     "text": [
      "https://rest.variantvalidator.org/VariantValidator/variantvalidator/hg38/NM_002834.5%3Ac.853T>C/NM_002834.5?content-type=application%2Fjson\n"
     ]
    }
   ],
   "source": [
    "individuals = []\n",
    "noonan1 = Disease(disease_id=\"OMIM:163950\", disease_label=\"Noonan syndrome 1\")\n",
    "vvalidator = VariantValidator(genome_build=\"hg38\", transcript=\"NM_002834.5\")\n",
    "var = vvalidator.encode_hgvs(\"c.853T>C\")\n",
    "var.set_heterozygous()\n",
    "v_interpretation = var.to_ga4gh_variant_interpretation()\n",
    "individual_patient.add_variant(v_interpretation)\n",
    "individual_patient.set_citation(citation)\n",
    "individual_patient.set_disease(noonan1)"
   ]
  },
  {
   "cell_type": "code",
   "execution_count": 6,
   "id": "282a2f19-e9b3-49dc-b2c2-2cb43a451d07",
   "metadata": {},
   "outputs": [
    {
     "data": {
      "text/html": [
       "<h2>Cohort validation</h2>\n",
       "<p>No errors found for the cohort with 1 individuals</p>"
      ],
      "text/plain": [
       "<IPython.core.display.HTML object>"
      ]
     },
     "metadata": {},
     "output_type": "display_data"
    }
   ],
   "source": [
    "cvalidator = CohortValidator(cohort=[individual_patient], ontology=hpo_ontology, min_hpo=1, allelic_requirement=AllelicRequirement.MONO_ALLELIC)\n",
    "qc = QcVisualizer(ontology=hpo_ontology, cohort_validator=cvalidator)\n",
    "display(HTML(qc.to_summary_html()))"
   ]
  },
  {
   "cell_type": "code",
   "execution_count": 7,
   "id": "da4fa573-1100-4b75-85bf-1c5f3d71d748",
   "metadata": {},
   "outputs": [
    {
     "data": {
      "text/html": [
       "<table style=\"border: 2px solid black; align: \"left\">\n",
       "<caption>1 phenopacket - PMID:36544606 (n=1)</caption>\n",
       "<tr><th style=\"text-align: left;font-weight: bold;\">Individual</th><th style=\"text-align: left;font-weight: bold;\">Disease</th><th style=\"text-align: left;font-weight: bold;\">Genotype</th><th style=\"text-align: left;font-weight: bold;\">Phenotypic features</th></tr>\n",
       "<tr><td style=\"text-align: left;\">patient (MALE; )</td><td style=\"text-align: left;\">Noonan syndrome 1 (OMIM:163950)</td><td style=\"text-align: left;\">NM_002834.5:c.853T>C (heterozygous)</td><td style=\"text-align: left;\"><b>P0Y5M0D</b>: Atelectasis (HP:0100750); Hypertrophic cardiomyopathy (HP:0001639); Low-set ears (HP:0000369); Micrognathia (HP:0000347); Pectus excavatum (HP:0000767); Pleural effusion (HP:0002202); Prominent forehead (HP:0011220); Pulmonic stenosis (HP:0001642); Short sternum (HP:0000879); Webbed neck (HP:0000465)<br/>Cryptorchidism (HP:0000028); Fetal chylothorax (HP:0025677)</td></tr>\n",
       "</table>"
      ],
      "text/plain": [
       "<IPython.core.display.HTML object>"
      ]
     },
     "metadata": {},
     "output_type": "display_data"
    }
   ],
   "source": [
    "individuals = cvalidator.get_error_free_individual_list()\n",
    "table = PhenopacketTable(individual_list=individuals, metadata=metadata)\n",
    "display(HTML(table.to_html()))"
   ]
  },
  {
   "cell_type": "code",
   "execution_count": 8,
   "id": "783546fd-a396-43e8-a901-dabed17cdf94",
   "metadata": {},
   "outputs": [
    {
     "name": "stdout",
     "output_type": "stream",
     "text": [
      "We output 1 GA4GH phenopackets to the directory phenopackets\n"
     ]
    }
   ],
   "source": [
    "Individual.output_individuals_as_phenopackets(individual_list=individuals,\n",
    "                                              metadata=metadata)"
   ]
  },
  {
   "cell_type": "code",
   "execution_count": null,
   "id": "a0b3db3d-9e3f-4d80-a799-996903260caa",
   "metadata": {},
   "outputs": [],
   "source": []
  }
 ],
 "metadata": {
  "kernelspec": {
   "display_name": "pstore_env",
   "language": "python",
   "name": "pstore_env"
  },
  "language_info": {
   "codemirror_mode": {
    "name": "ipython",
    "version": 3
   },
   "file_extension": ".py",
   "mimetype": "text/x-python",
   "name": "python",
   "nbconvert_exporter": "python",
   "pygments_lexer": "ipython3",
   "version": "3.11.3"
  }
 },
 "nbformat": 4,
 "nbformat_minor": 5
}
