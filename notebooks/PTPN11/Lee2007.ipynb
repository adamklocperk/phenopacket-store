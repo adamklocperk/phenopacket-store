{
 "cells": [
  {
   "cell_type": "markdown",
   "id": "f5900216",
   "metadata": {},
   "source": [
    "<h1>Noon syndrome 1: Lee at al (2007): phenopackets</h1>\n",
    "<p>Data imported from <a href=\"https://pubmed.ncbi.nlm.nih.gov/17661820/\">Lee ST, Ki CS, Lee HJ. Mutation analysis of the genes involved in the Ras-mitogen-activated protein kinase (MAPK) pathway in Korean patients with Noonan syndrome. Clin Genet. 2007 Aug;72(2):150-5.PMID: 17661820</a>.</p>"
   ]
  },
  {
   "cell_type": "code",
   "execution_count": 1,
   "id": "c0c555bb",
   "metadata": {},
   "outputs": [
    {
     "name": "stdout",
     "output_type": "stream",
     "text": [
      "pyphetools version 0.8.31\n"
     ]
    }
   ],
   "source": [
    "import pandas as pd\n",
    "pd.set_option('display.max_colwidth', None) # show entire column contents, important!\n",
    "from IPython.display import display, HTML\n",
    "import pyphetools\n",
    "from pyphetools.creation import *\n",
    "from pyphetools.visualization import *\n",
    "from pyphetools.validation import CohortValidator\n",
    "print(f\"pyphetools version {pyphetools.__version__}\")"
   ]
  },
  {
   "cell_type": "code",
   "execution_count": 2,
   "id": "2b402fde",
   "metadata": {},
   "outputs": [
    {
     "name": "stdout",
     "output_type": "stream",
     "text": [
      "HPO version 2023-10-09\n"
     ]
    }
   ],
   "source": [
    "PMID = \"PMID:17661820\"\n",
    "title = \"Mutation analysis of the genes involved in the Ras-mitogen-activated protein kinase (MAPK) pathway in Korean patients with Noonan syndrome\"\n",
    "citation = Citation(pmid=PMID, title=title)\n",
    "parser = HpoParser()\n",
    "hpo_cr = parser.get_hpo_concept_recognizer()\n",
    "hpo_version = parser.get_version()\n",
    "hpo_ontology = parser.get_ontology()\n",
    "metadata = MetaData(created_by=\"ORCID:0000-0002-0736-9199\", citation=citation)\n",
    "metadata.default_versions_with_hpo(version=hpo_version)\n",
    "print(f\"HPO version {hpo_version}\")"
   ]
  },
  {
   "cell_type": "code",
   "execution_count": 3,
   "id": "8d123e48",
   "metadata": {},
   "outputs": [],
   "source": [
    "df = pd.read_excel('input/Lee2007Noonan1.xlsx')"
   ]
  },
  {
   "cell_type": "code",
   "execution_count": 4,
   "id": "8415ff43",
   "metadata": {},
   "outputs": [
    {
     "data": {
      "text/html": [
       "<div>\n",
       "<style scoped>\n",
       "    .dataframe tbody tr th:only-of-type {\n",
       "        vertical-align: middle;\n",
       "    }\n",
       "\n",
       "    .dataframe tbody tr th {\n",
       "        vertical-align: top;\n",
       "    }\n",
       "\n",
       "    .dataframe thead th {\n",
       "        text-align: right;\n",
       "    }\n",
       "</style>\n",
       "<table border=\"1\" class=\"dataframe\">\n",
       "  <thead>\n",
       "    <tr style=\"text-align: right;\">\n",
       "      <th></th>\n",
       "      <th>Patient</th>\n",
       "      <th>1</th>\n",
       "      <th>2</th>\n",
       "      <th>3</th>\n",
       "      <th>4</th>\n",
       "      <th>5</th>\n",
       "      <th>6</th>\n",
       "      <th>7</th>\n",
       "    </tr>\n",
       "  </thead>\n",
       "  <tbody>\n",
       "    <tr>\n",
       "      <th>0</th>\n",
       "      <td>Sex</td>\n",
       "      <td>M</td>\n",
       "      <td>F</td>\n",
       "      <td>M</td>\n",
       "      <td>F</td>\n",
       "      <td>F</td>\n",
       "      <td>M</td>\n",
       "      <td>M</td>\n",
       "    </tr>\n",
       "    <tr>\n",
       "      <th>1</th>\n",
       "      <td>Age</td>\n",
       "      <td>5</td>\n",
       "      <td>29</td>\n",
       "      <td>4</td>\n",
       "      <td>2</td>\n",
       "      <td>30</td>\n",
       "      <td>6</td>\n",
       "      <td>3</td>\n",
       "    </tr>\n",
       "    <tr>\n",
       "      <th>2</th>\n",
       "      <td>PTPN11 mutation</td>\n",
       "      <td>T42A</td>\n",
       "      <td>N308D</td>\n",
       "      <td>N308D</td>\n",
       "      <td>N308D</td>\n",
       "      <td>N308D</td>\n",
       "      <td>N308D</td>\n",
       "      <td>M504V</td>\n",
       "    </tr>\n",
       "    <tr>\n",
       "      <th>3</th>\n",
       "      <td>transcript.hgvs</td>\n",
       "      <td>c.124A&gt;G</td>\n",
       "      <td>c.922A&gt;G</td>\n",
       "      <td>c.922A&gt;G</td>\n",
       "      <td>c.922A&gt;G</td>\n",
       "      <td>c.922A&gt;G</td>\n",
       "      <td>c.922A&gt;G</td>\n",
       "      <td>c.1510A&gt;G</td>\n",
       "    </tr>\n",
       "    <tr>\n",
       "      <th>4</th>\n",
       "      <td>CHD</td>\n",
       "      <td>ASD, SVC and IVC anomaly</td>\n",
       "      <td>PS</td>\n",
       "      <td>ASD, PS, hypoplastic MPA</td>\n",
       "      <td>VSD, PS</td>\n",
       "      <td>PS</td>\n",
       "      <td>ASD, PS</td>\n",
       "      <td>ASD, mild PS</td>\n",
       "    </tr>\n",
       "  </tbody>\n",
       "</table>\n",
       "</div>"
      ],
      "text/plain": [
       "           Patient                         1         2  \\\n",
       "0              Sex                         M         F   \n",
       "1              Age                         5        29   \n",
       "2  PTPN11 mutation                      T42A     N308D   \n",
       "3  transcript.hgvs                  c.124A>G  c.922A>G   \n",
       "4              CHD  ASD, SVC and IVC anomaly        PS   \n",
       "\n",
       "                          3         4         5         6             7  \n",
       "0                         M         F         F         M             M  \n",
       "1                         4         2        30         6             3  \n",
       "2                     N308D     N308D     N308D     N308D         M504V  \n",
       "3                  c.922A>G  c.922A>G  c.922A>G  c.922A>G     c.1510A>G  \n",
       "4  ASD, PS, hypoplastic MPA   VSD, PS        PS   ASD, PS  ASD, mild PS  "
      ]
     },
     "execution_count": 4,
     "metadata": {},
     "output_type": "execute_result"
    }
   ],
   "source": [
    "df.head()"
   ]
  },
  {
   "cell_type": "code",
   "execution_count": 5,
   "id": "3bc16e90",
   "metadata": {},
   "outputs": [],
   "source": [
    "# need to convert to column-based format\n",
    "dft = df.transpose()\n",
    "dft.columns = dft.iloc[0]\n",
    "dft.drop(dft.index[0], inplace=True)\n",
    "dft.head()\n",
    "dft['patient_id'] = dft.index"
   ]
  },
  {
   "cell_type": "code",
   "execution_count": 6,
   "id": "5c89dc0b",
   "metadata": {},
   "outputs": [],
   "source": [
    "column_mapper_d = {}"
   ]
  },
  {
   "cell_type": "code",
   "execution_count": 7,
   "id": "778fe433",
   "metadata": {},
   "outputs": [
    {
     "data": {
      "text/html": [
       "<div>\n",
       "<style scoped>\n",
       "    .dataframe tbody tr th:only-of-type {\n",
       "        vertical-align: middle;\n",
       "    }\n",
       "\n",
       "    .dataframe tbody tr th {\n",
       "        vertical-align: top;\n",
       "    }\n",
       "\n",
       "    .dataframe thead th {\n",
       "        text-align: right;\n",
       "    }\n",
       "</style>\n",
       "<table border=\"1\" class=\"dataframe\">\n",
       "  <thead>\n",
       "    <tr style=\"text-align: right;\">\n",
       "      <th></th>\n",
       "      <th>terms</th>\n",
       "    </tr>\n",
       "  </thead>\n",
       "  <tbody>\n",
       "    <tr>\n",
       "      <th>0</th>\n",
       "      <td>HP:0001631 (Atrial septum defect/observed); HP:0033379 (Bilateral superior vena cava/observed)</td>\n",
       "    </tr>\n",
       "    <tr>\n",
       "      <th>1</th>\n",
       "      <td>HP:0001642 (Pulmonic stenosis/observed)</td>\n",
       "    </tr>\n",
       "    <tr>\n",
       "      <th>2</th>\n",
       "      <td>HP:0001631 (Atrial septum defect/observed); HP:0001642 (Pulmonic stenosis/observed); HP:0004971 (Pulmonary artery hypoplasia/observed)</td>\n",
       "    </tr>\n",
       "    <tr>\n",
       "      <th>3</th>\n",
       "      <td>HP:0001629 (Ventricular septal defect/observed); HP:0001642 (Pulmonic stenosis/observed)</td>\n",
       "    </tr>\n",
       "    <tr>\n",
       "      <th>4</th>\n",
       "      <td>HP:0001642 (Pulmonic stenosis/observed)</td>\n",
       "    </tr>\n",
       "    <tr>\n",
       "      <th>5</th>\n",
       "      <td>HP:0001631 (Atrial septum defect/observed); HP:0001642 (Pulmonic stenosis/observed)</td>\n",
       "    </tr>\n",
       "    <tr>\n",
       "      <th>6</th>\n",
       "      <td>HP:0001631 (Atrial septum defect/observed); HP:0001642 (Pulmonic stenosis/observed)</td>\n",
       "    </tr>\n",
       "  </tbody>\n",
       "</table>\n",
       "</div>"
      ],
      "text/plain": [
       "                                                                                                                                    terms\n",
       "0                                          HP:0001631 (Atrial septum defect/observed); HP:0033379 (Bilateral superior vena cava/observed)\n",
       "1                                                                                                 HP:0001642 (Pulmonic stenosis/observed)\n",
       "2  HP:0001631 (Atrial septum defect/observed); HP:0001642 (Pulmonic stenosis/observed); HP:0004971 (Pulmonary artery hypoplasia/observed)\n",
       "3                                                HP:0001629 (Ventricular septal defect/observed); HP:0001642 (Pulmonic stenosis/observed)\n",
       "4                                                                                                 HP:0001642 (Pulmonic stenosis/observed)\n",
       "5                                                     HP:0001631 (Atrial septum defect/observed); HP:0001642 (Pulmonic stenosis/observed)\n",
       "6                                                     HP:0001631 (Atrial septum defect/observed); HP:0001642 (Pulmonic stenosis/observed)"
      ]
     },
     "execution_count": 7,
     "metadata": {},
     "output_type": "execute_result"
    }
   ],
   "source": [
    "chd_d = {'ASD': 'Atrial septum defect',\n",
    "         'SVC': 'Bilateral superior vena cava', # from paper!\n",
    "             'PS': 'Pulmonic stenosis',\n",
    "        'hypoplastic MPA': 'Pulmonary artery hypoplasia',\n",
    "        'VSD': 'Ventricular septal defect'}\n",
    "chdMapper = OptionColumnMapper(concept_recognizer=hpo_cr, option_d=chd_d)\n",
    "chdMapper.preview_column(dft['CHD'])\n",
    "#column_mapper_d['CHD'] = chdMapper"
   ]
  },
  {
   "cell_type": "code",
   "execution_count": 8,
   "id": "a5767ae7",
   "metadata": {},
   "outputs": [],
   "source": [
    "#Webbed neck HP:0000465\n",
    "webbedNeckMapper = SimpleColumnMapper(hpo_id='HP:0000465',\n",
    "    hpo_label='Webbed neck',\n",
    "    observed='Yes',\n",
    "    excluded='−')\n",
    "#webbedNeckMapper.preview_column(dft['Webbed neck'])\n",
    "column_mapper_d['Webbed neck'] = webbedNeckMapper"
   ]
  },
  {
   "cell_type": "code",
   "execution_count": 9,
   "id": "fea9a69c",
   "metadata": {},
   "outputs": [],
   "source": [
    "# Short stature HP:0004322\n",
    "shortStatureMapper = SimpleColumnMapper(hpo_id='HP:0004322',\n",
    "    hpo_label='Short stature',\n",
    "    observed='Yes',\n",
    "    excluded='−')\n",
    "#shortStatureMapper.preview_column(dft['Short stature'])\n",
    "column_mapper_d['Short stature'] = shortStatureMapper"
   ]
  },
  {
   "cell_type": "code",
   "execution_count": 10,
   "id": "1386a520",
   "metadata": {},
   "outputs": [],
   "source": [
    "# Chest deformity -- assume pectus excavatum, reported for one patient only in detail\n",
    "# Pectus excavatum HP:0000767\n",
    "pectusMapper = SimpleColumnMapper(hpo_id='HP:0000767',\n",
    "    hpo_label='Pectus excavatum',\n",
    "    observed='Yes',\n",
    "    excluded='−')\n",
    "#pectusMapper.preview_column(dft['Chest deformity'])\n",
    "column_mapper_d['Chest deformity'] = pectusMapper"
   ]
  },
  {
   "cell_type": "code",
   "execution_count": 11,
   "id": "97444fb0",
   "metadata": {},
   "outputs": [],
   "source": [
    "# Feeding difficulties HP:0011968\n",
    "feedingMapper = SimpleColumnMapper(hpo_id='HP:0011968',\n",
    "    hpo_label='Feeding difficulties',\n",
    "    observed='Yes',\n",
    "    excluded='−')\n",
    "#feedingMapper.preview_column(dft['Feeding problems'])\n",
    "column_mapper_d['Feeding problems'] = feedingMapper"
   ]
  },
  {
   "cell_type": "code",
   "execution_count": 12,
   "id": "d9898d39",
   "metadata": {},
   "outputs": [],
   "source": [
    "# Hearing problem\n",
    "# Hearing impairment HP:0000365\n",
    "hearingMapper = SimpleColumnMapper(hpo_id='HP:0000365',\n",
    "    hpo_label='Hearing impairment',\n",
    "    observed='Yes',\n",
    "    excluded='−')\n",
    "#hearingMapper.preview_column(dft['Hearing problem'])\n",
    "column_mapper_d['Hearing problem'] = hearingMapper"
   ]
  },
  {
   "cell_type": "code",
   "execution_count": 13,
   "id": "7095c2d6",
   "metadata": {},
   "outputs": [],
   "source": [
    "# Delayed development\n",
    "# Global developmental delay HP:0001263\n",
    "devMapper = SimpleColumnMapper(hpo_id='HP:0001263',\n",
    "    hpo_label='Global developmental delay',\n",
    "    observed='Yes',\n",
    "    excluded='−')\n",
    "#devMapper.preview_column(dft['Delayed development'])\n",
    "column_mapper_d['Delayed development'] = devMapper"
   ]
  },
  {
   "cell_type": "code",
   "execution_count": 14,
   "id": "7ecb6376",
   "metadata": {},
   "outputs": [],
   "source": [
    "# Mental retardation\n",
    "# Intellectual disability, mild HP:0001256\n",
    "idMapper =  SimpleColumnMapper(hpo_id='HP:0001256',\n",
    "    hpo_label='Intellectual disability, mild',\n",
    "    observed='Mild',\n",
    "    excluded='−')\n",
    "#idMapper.preview_column(dft['Mental retardation'])\n",
    "column_mapper_d['Mental retardation'] = idMapper"
   ]
  },
  {
   "cell_type": "code",
   "execution_count": 15,
   "id": "935b9914",
   "metadata": {},
   "outputs": [],
   "source": [
    "# Cryptorchidism HP:0000028\n",
    "cryptorchidismMapper =  SimpleColumnMapper(hpo_id='HP:0000028',\n",
    "    hpo_label='Cryptorchidism',\n",
    "    observed='Yes',\n",
    "    excluded='−')\n",
    "#cryptorchidismMapper.preview_column(dft['Cryptorchidism'])\n",
    "column_mapper_d['Cryptorchidism'] = cryptorchidismMapper"
   ]
  },
  {
   "cell_type": "code",
   "execution_count": 16,
   "id": "c9d139ba",
   "metadata": {},
   "outputs": [],
   "source": [
    "# Cubitus valgus HP:0002967\n",
    "cvalMapper =  SimpleColumnMapper(hpo_id='HP:0002967',\n",
    "    hpo_label='Cubitus valgus',\n",
    "    observed='Yes',\n",
    "    excluded='−')\n",
    "#cvalMapper.preview_column(dft['Cubitus valgus'])\n",
    "column_mapper_d['Cubitus valgus'] = cvalMapper"
   ]
  },
  {
   "cell_type": "code",
   "execution_count": 17,
   "id": "7b9e2cc7",
   "metadata": {},
   "outputs": [],
   "source": [
    "# Patient 1 had a small ectopic kidney\n",
    "other_d = {'Splenomegaly': 'Splenomegaly',\n",
    "         'Renal': 'Ectopic kidney', # from paper!\n",
    "             }\n",
    "otherMapper = OptionColumnMapper(concept_recognizer=hpo_cr, option_d=other_d)\n",
    "#otherMapper.preview_column(dft['Others'])\n",
    "column_mapper_d['Others'] = otherMapper\n"
   ]
  },
  {
   "cell_type": "markdown",
   "id": "d691a996",
   "metadata": {},
   "source": [
    "<h3>Variants</h3>\n",
    "<p>By inspection in ClinVar, the three variants are: NM_002834.5(PTPN11):c.124A>G (p.Thr42Ala), NM_002834.5(PTPN11):c.922A>G (p.Asn308Asp), and  NM_002834.5(PTPN11):c.1510A>G (p.Met504Val) </p>"
   ]
  },
  {
   "cell_type": "code",
   "execution_count": 18,
   "id": "07d11613",
   "metadata": {},
   "outputs": [
    {
     "name": "stdout",
     "output_type": "stream",
     "text": [
      "https://rest.variantvalidator.org/VariantValidator/variantvalidator/hg38/NM_002834.5%3Ac.124A>G/NM_002834.5?content-type=application%2Fjson\n",
      "c.124A>G - chr12:112446385A>G\n",
      "https://rest.variantvalidator.org/VariantValidator/variantvalidator/hg38/NM_002834.5%3Ac.922A>G/NM_002834.5?content-type=application%2Fjson\n",
      "c.922A>G - chr12:112477719A>G\n",
      "https://rest.variantvalidator.org/VariantValidator/variantvalidator/hg38/NM_002834.5%3Ac.1510A>G/NM_002834.5?content-type=application%2Fjson\n",
      "c.1510A>G - chr12:112489086A>G\n"
     ]
    }
   ],
   "source": [
    "ptpn11_transcript='NM_002834.5'\n",
    "vvalidator = VariantValidator(genome_build=\"hg38\", transcript=ptpn11_transcript)\n",
    "var_d = {}\n",
    "for v in dft['transcript.hgvs'].unique():\n",
    "    var = vvalidator.encode_hgvs(v)\n",
    "    print(f\"{v} - {var}\")\n",
    "    var_d[v] = var\n",
    "varMapper = VariantColumnMapper(variant_d=var_d, \n",
    "                                variant_column_name='transcript.hgvs', \n",
    "                                default_genotype=\"heterozygous\")"
   ]
  },
  {
   "cell_type": "code",
   "execution_count": 19,
   "id": "6b27323b",
   "metadata": {},
   "outputs": [],
   "source": [
    "ageMapper = AgeColumnMapper.by_year('Age')\n",
    "#ageMapper.preview_column(dft['Age'])\n",
    "sexMapper = SexColumnMapper(male_symbol='M', female_symbol='F', column_name='Sex')\n",
    "#sexMapper.preview_column(dft['Sex'])"
   ]
  },
  {
   "cell_type": "code",
   "execution_count": 20,
   "id": "9611e896",
   "metadata": {},
   "outputs": [],
   "source": [
    "encoder = CohortEncoder(df=dft, hpo_cr=hpo_cr, column_mapper_d=column_mapper_d, \n",
    "                        individual_column_name=\"patient_id\", \n",
    "                        agemapper=ageMapper, \n",
    "                        sexmapper=sexMapper,\n",
    "                        metadata=metadata,\n",
    "                        variant_mapper=varMapper,\n",
    "                        pmid=PMID)\n",
    "noonan = Disease(disease_id=\"OMIM:163950\", disease_label=\"Noonan syndrome 1\")\n",
    "encoder.set_disease(noonan)"
   ]
  },
  {
   "cell_type": "code",
   "execution_count": 21,
   "id": "066c71d7",
   "metadata": {},
   "outputs": [
    {
     "ename": "TypeError",
     "evalue": "Individual.__init__() got an unexpected keyword argument 'pmid'",
     "output_type": "error",
     "traceback": [
      "\u001b[0;31m---------------------------------------------------------------------------\u001b[0m",
      "\u001b[0;31mTypeError\u001b[0m                                 Traceback (most recent call last)",
      "Cell \u001b[0;32mIn[21], line 1\u001b[0m\n\u001b[0;32m----> 1\u001b[0m individuals \u001b[38;5;241m=\u001b[39m \u001b[43mencoder\u001b[49m\u001b[38;5;241;43m.\u001b[39;49m\u001b[43mget_individuals\u001b[49m\u001b[43m(\u001b[49m\u001b[43m)\u001b[49m\n\u001b[1;32m      2\u001b[0m cvalidator \u001b[38;5;241m=\u001b[39m CohortValidator(cohort\u001b[38;5;241m=\u001b[39mindividuals, ontology\u001b[38;5;241m=\u001b[39mhpo_ontology, min_hpo\u001b[38;5;241m=\u001b[39m\u001b[38;5;241m1\u001b[39m, allelic_requirement\u001b[38;5;241m=\u001b[39mAllelicRequirement\u001b[38;5;241m.\u001b[39mMONO_ALLELIC)\n\u001b[1;32m      3\u001b[0m qc \u001b[38;5;241m=\u001b[39m QcVisualizer(ontology\u001b[38;5;241m=\u001b[39mhpo_ontology, cohort_validator\u001b[38;5;241m=\u001b[39mcvalidator)\n",
      "File \u001b[0;32m~/GIT/phenopacket-store/pstore_env/lib/python3.11/site-packages/pyphetools/creation/cohort_encoder.py:211\u001b[0m, in \u001b[0;36mCohortEncoder.get_individuals\u001b[0;34m(self)\u001b[0m\n\u001b[1;32m    203\u001b[0m     indi \u001b[38;5;241m=\u001b[39m Individual(individual_id\u001b[38;5;241m=\u001b[39mindividual_id,\n\u001b[1;32m    204\u001b[0m                       sex\u001b[38;5;241m=\u001b[39msex,\n\u001b[1;32m    205\u001b[0m                       age\u001b[38;5;241m=\u001b[39mage,\n\u001b[0;32m   (...)\u001b[0m\n\u001b[1;32m    208\u001b[0m                       interpretation_list\u001b[38;5;241m=\u001b[39minterpretation_list,\n\u001b[1;32m    209\u001b[0m                       disease\u001b[38;5;241m=\u001b[39mdisease)\n\u001b[1;32m    210\u001b[0m \u001b[38;5;28;01melif\u001b[39;00m \u001b[38;5;28mself\u001b[39m\u001b[38;5;241m.\u001b[39m_disease_dictionary \u001b[38;5;129;01mis\u001b[39;00m \u001b[38;5;28;01mNone\u001b[39;00m \u001b[38;5;129;01mand\u001b[39;00m \u001b[38;5;28mself\u001b[39m\u001b[38;5;241m.\u001b[39m_disease \u001b[38;5;129;01mis\u001b[39;00m \u001b[38;5;129;01mnot\u001b[39;00m \u001b[38;5;28;01mNone\u001b[39;00m:\n\u001b[0;32m--> 211\u001b[0m     indi \u001b[38;5;241m=\u001b[39m \u001b[43mIndividual\u001b[49m\u001b[43m(\u001b[49m\u001b[43mindividual_id\u001b[49m\u001b[38;5;241;43m=\u001b[39;49m\u001b[43mindividual_id\u001b[49m\u001b[43m,\u001b[49m\n\u001b[1;32m    212\u001b[0m \u001b[43m                      \u001b[49m\u001b[43msex\u001b[49m\u001b[38;5;241;43m=\u001b[39;49m\u001b[43msex\u001b[49m\u001b[43m,\u001b[49m\n\u001b[1;32m    213\u001b[0m \u001b[43m                      \u001b[49m\u001b[43mage\u001b[49m\u001b[38;5;241;43m=\u001b[39;49m\u001b[43mage\u001b[49m\u001b[43m,\u001b[49m\n\u001b[1;32m    214\u001b[0m \u001b[43m                      \u001b[49m\u001b[43mhpo_terms\u001b[49m\u001b[38;5;241;43m=\u001b[39;49m\u001b[43mhpo_terms\u001b[49m\u001b[43m,\u001b[49m\n\u001b[1;32m    215\u001b[0m \u001b[43m                      \u001b[49m\u001b[43mpmid\u001b[49m\u001b[38;5;241;43m=\u001b[39;49m\u001b[38;5;28;43mself\u001b[39;49m\u001b[38;5;241;43m.\u001b[39;49m\u001b[43m_pmid\u001b[49m\u001b[43m,\u001b[49m\n\u001b[1;32m    216\u001b[0m \u001b[43m                      \u001b[49m\u001b[43minterpretation_list\u001b[49m\u001b[38;5;241;43m=\u001b[39;49m\u001b[43minterpretation_list\u001b[49m\u001b[43m,\u001b[49m\n\u001b[1;32m    217\u001b[0m \u001b[43m                      \u001b[49m\u001b[43mdisease\u001b[49m\u001b[38;5;241;43m=\u001b[39;49m\u001b[38;5;28;43mself\u001b[39;49m\u001b[38;5;241;43m.\u001b[39;49m\u001b[43m_disease\u001b[49m\u001b[43m)\u001b[49m\n\u001b[1;32m    218\u001b[0m \u001b[38;5;28;01melse\u001b[39;00m:\n\u001b[1;32m    219\u001b[0m     \u001b[38;5;28;01mraise\u001b[39;00m \u001b[38;5;167;01mValueError\u001b[39;00m(\u001b[38;5;124mf\u001b[39m\u001b[38;5;124m\"\u001b[39m\u001b[38;5;124mCould not find disease data for \u001b[39m\u001b[38;5;124m'\u001b[39m\u001b[38;5;132;01m{\u001b[39;00mindividual_id\u001b[38;5;132;01m}\u001b[39;00m\u001b[38;5;124m'\u001b[39m\u001b[38;5;124m\"\u001b[39m)\n",
      "\u001b[0;31mTypeError\u001b[0m: Individual.__init__() got an unexpected keyword argument 'pmid'"
     ]
    }
   ],
   "source": [
    "individuals = encoder.get_individuals()\n",
    "cvalidator = CohortValidator(cohort=individuals, ontology=hpo_ontology, min_hpo=1, allelic_requirement=AllelicRequirement.MONO_ALLELIC)\n",
    "qc = QcVisualizer(ontology=hpo_ontology, cohort_validator=cvalidator)\n",
    "display(HTML(qc.to_summary_html()))"
   ]
  },
  {
   "cell_type": "code",
   "execution_count": null,
   "id": "83a441e0",
   "metadata": {},
   "outputs": [],
   "source": [
    "individuals = cvalidator.get_error_free_individual_list()\n",
    "table = PhenopacketTable(individual_list=individuals, metadata=metadata)\n",
    "display(HTML(table.to_html()))"
   ]
  },
  {
   "cell_type": "code",
   "execution_count": null,
   "id": "c59b9235",
   "metadata": {},
   "outputs": [],
   "source": [
    "Individual.output_individuals_as_phenopackets(individual_list=individuals,\n",
    "                                              metadata=metadata)"
   ]
  },
  {
   "cell_type": "code",
   "execution_count": null,
   "id": "fef8ba2a",
   "metadata": {},
   "outputs": [],
   "source": []
  }
 ],
 "metadata": {
  "kernelspec": {
   "display_name": "pstore_env",
   "language": "python",
   "name": "pstore_env"
  },
  "language_info": {
   "codemirror_mode": {
    "name": "ipython",
    "version": 3
   },
   "file_extension": ".py",
   "mimetype": "text/x-python",
   "name": "python",
   "nbconvert_exporter": "python",
   "pygments_lexer": "ipython3",
   "version": "3.11.3"
  }
 },
 "nbformat": 4,
 "nbformat_minor": 5
}
