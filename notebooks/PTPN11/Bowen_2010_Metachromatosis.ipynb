{
 "cells": [
  {
   "cell_type": "markdown",
   "id": "72b9f97d-234b-4f65-8993-418484ca3985",
   "metadata": {},
   "source": [
    "# Metachromatosis\n",
    "Data taken from [Bowen ME, et al. (2011) Loss-of-function mutations in PTPN11 cause metachondromatosis, but not Ollier disease or Maffucci syndrome. PLoS Genet 7:e1002050](https://pubmed.ncbi.nlm.nih.gov/21533187/).\n",
    "\n",
    "In metachondromatosis (MC), patients develop tumors both on and within bones. These tumors are called exostoses (on the surface of bone) or endosteal tumors (within bone).\n",
    "\n",
    "Clinical details are not provided in this pub;ication, but from the description we infer that each affected individual had the following:\n",
    "- [Multiple enchondromatosis - HP:0005701](https://hpo.jax.org/app/browse/term/HP:0005701)\n",
    "- [Multiple exostoses - HP:0002762](https://hpo.jax.org/app/browse/term/HP:0002762)"
   ]
  },
  {
   "cell_type": "code",
   "execution_count": 1,
   "id": "2a9e8e96-b4d8-4260-adeb-e7b34ed4d5e4",
   "metadata": {},
   "outputs": [
    {
     "name": "stdout",
     "output_type": "stream",
     "text": [
      "pyphetools version 0.8.31\n"
     ]
    }
   ],
   "source": [
    "import pandas as pd\n",
    "pd.set_option('display.max_colwidth', None) # show entire column contents, important!\n",
    "from IPython.display import display, HTML\n",
    "import pyphetools\n",
    "from pyphetools.creation import *\n",
    "from pyphetools.visualization import *\n",
    "from pyphetools.validation import CohortValidator\n",
    "print(f\"pyphetools version {pyphetools.__version__}\")"
   ]
  },
  {
   "cell_type": "code",
   "execution_count": 2,
   "id": "14754220-e1d8-476c-8b9e-2de4fd875ca5",
   "metadata": {},
   "outputs": [
    {
     "name": "stdout",
     "output_type": "stream",
     "text": [
      "HPO version 2023-10-09\n"
     ]
    }
   ],
   "source": [
    "PMID = \"PMID:21533187\"\n",
    "title = \"Loss-of-function mutations in PTPN11 cause metachondromatosis, but not Ollier disease or Maffucci syndrome\"\n",
    "citation = Citation(pmid=PMID, title=title)\n",
    "parser = HpoParser()\n",
    "hpo_cr = parser.get_hpo_concept_recognizer()\n",
    "hpo_version = parser.get_version()\n",
    "hpo_ontology = parser.get_ontology()\n",
    "metadata = MetaData(created_by=\"ORCID:0000-0002-0736-9199\", citation=citation)\n",
    "metadata.default_versions_with_hpo(version=hpo_version)\n",
    "print(f\"HPO version {hpo_version}\")"
   ]
  },
  {
   "cell_type": "code",
   "execution_count": 3,
   "id": "1306cb5a-d718-4505-ac39-dd8cc7abce4f",
   "metadata": {},
   "outputs": [
    {
     "name": "stdout",
     "output_type": "stream",
     "text": [
      "https://rest.variantvalidator.org/VariantValidator/variantvalidator/hg38/NM_002834.5%3Ac.409_413del/NM_002834.5?content-type=application%2Fjson\n",
      "https://rest.variantvalidator.org/VariantValidator/variantvalidator/hg38/NM_002834.5%3Ac.458_463delinsAAGAACACAGGGGAGAGCA/NM_002834.5?content-type=application%2Fjson\n",
      "https://rest.variantvalidator.org/VariantValidator/variantvalidator/hg38/NM_002834.5%3Ac.353_354del/NM_002834.5?content-type=application%2Fjson\n",
      "https://rest.variantvalidator.org/VariantValidator/variantvalidator/hg38/NM_002834.5%3Ac.295A>T/NM_002834.5?content-type=application%2Fjson\n",
      "https://rest.variantvalidator.org/VariantValidator/variantvalidator/hg38/NM_002834.5%3Ac.1315del/NM_002834.5?content-type=application%2Fjson\n",
      "https://rest.variantvalidator.org/VariantValidator/variantvalidator/hg38/NM_002834.5%3Ac.1516C>T/NM_002834.5?content-type=application%2Fjson\n",
      "https://rest.variantvalidator.org/VariantValidator/variantvalidator/hg38/NM_002834.5%3Ac.643-2A>C/NM_002834.5?content-type=application%2Fjson\n",
      "https://rest.variantvalidator.org/VariantValidator/variantvalidator/hg38/NM_002834.5%3Ac.1093-1G>T/NM_002834.5?content-type=application%2Fjson\n",
      "https://rest.variantvalidator.org/VariantValidator/variantvalidator/hg38/NM_002834.5%3Ac.680_683del/NM_002834.5?content-type=application%2Fjson\n",
      "https://rest.variantvalidator.org/VariantValidator/variantvalidator/hg38/NM_002834.5%3Ac.1225-1G>A/NM_002834.5?content-type=application%2Fjson\n"
     ]
    }
   ],
   "source": [
    "# With respect to transcript NM_002834.5 of PTPN11\n",
    "ptpn11_variants = {\n",
    "    \"family A\": \"c.409_413del\",\n",
    "    \"family B\":\"c.458_463delinsAAGAACACAGGGGAGAGCA\",\n",
    "    \"family C\": \"c.353_354del\",\n",
    "    \"family I\": \"c.295A>T\",\n",
    "    \"family D\":\"c.1315del\",\n",
    "    \"family E\": \"c.1516C>T\",\n",
    "    \"family F\": \"c.643-2A>C\",\n",
    "    \"family G\": \"c.1093-1G>T\",\n",
    "    \"family H\": \"c.680_683del\",\n",
    "    \"family O\": \"c.1225-1G>A\"\n",
    "}\n",
    "\n",
    "metachondromatosis = Disease(disease_id='OMIM:156250', disease_label='Metachondromatosis')\n",
    "\n",
    "\n",
    "default_genotype = 'heterozygous'\n",
    "transcript='NM_002834.5'\n",
    "vvalidator = VariantValidator(genome_build=\"hg38\", transcript=transcript)\n",
    "variant_d = {}\n",
    "for v in ptpn11_variants.values():\n",
    "    var = vvalidator.encode_hgvs(v)\n",
    "    variant_d[v] = var"
   ]
  },
  {
   "cell_type": "code",
   "execution_count": 4,
   "id": "f0698ac3-c6ff-4540-a9c4-a4bcce17b93a",
   "metadata": {},
   "outputs": [
    {
     "name": "stdout",
     "output_type": "stream",
     "text": [
      "Got 10 individuals\n"
     ]
    }
   ],
   "source": [
    "individuals = []\n",
    "\n",
    "menchondromatosis = HpTerm(hpo_id=\"HP:0005701\", label=\"Multiple enchondromatosis\")\n",
    "mexostoses = HpTerm(hpo_id=\"HP:0002762\", label=\"Multiple exostoses\")\n",
    "hpo_terms = [menchondromatosis, mexostoses]\n",
    "\n",
    "for pat_id, variant in ptpn11_variants.items():\n",
    "    variant = variant_d.get(variant)\n",
    "    variant.set_heterozygous()\n",
    "    #print(variant.to_string())\n",
    "    vinterpretation = variant.to_ga4gh_variant_interpretation()\n",
    "    indi = Individual(individual_id=pat_id,\n",
    "                      hpo_terms=hpo_terms,\n",
    "                      citation=citation,\n",
    "                      interpretation_list=[vinterpretation],\n",
    "                      disease=metachondromatosis\n",
    "                     )\n",
    "    individuals.append(indi)\n",
    "print(f\"Got {len(individuals)} individuals\")"
   ]
  },
  {
   "cell_type": "code",
   "execution_count": 5,
   "id": "afe8b242-1887-42ff-bc65-24a9a9167703",
   "metadata": {},
   "outputs": [
    {
     "data": {
      "text/html": [
       "<h2>Cohort validation</h2>\n",
       "<p>No errors found for the cohort with 10 individuals</p>"
      ],
      "text/plain": [
       "<IPython.core.display.HTML object>"
      ]
     },
     "metadata": {},
     "output_type": "display_data"
    }
   ],
   "source": [
    "cvalidator = CohortValidator(cohort=individuals, ontology=hpo_ontology, min_hpo=1, allelic_requirement=AllelicRequirement.MONO_ALLELIC)\n",
    "qc = QcVisualizer(ontology=hpo_ontology, cohort_validator=cvalidator)\n",
    "display(HTML(qc.to_summary_html()))"
   ]
  },
  {
   "cell_type": "code",
   "execution_count": 6,
   "id": "443401d5-680b-45c8-b6a0-11de3ce40a82",
   "metadata": {},
   "outputs": [
    {
     "data": {
      "text/html": [
       "<table style=\"border: 2px solid black; align: \"left\">\n",
       "<caption>10 phenopackets - PMID:21533187 (n=10)</caption>\n",
       "<tr><th style=\"text-align: left;font-weight: bold;\">Individual</th><th style=\"text-align: left;font-weight: bold;\">Disease</th><th style=\"text-align: left;font-weight: bold;\">Genotype</th><th style=\"text-align: left;font-weight: bold;\">Phenotypic features</th></tr>\n",
       "<tr><td style=\"text-align: left;\">family A (UNKNOWN; )</td><td style=\"text-align: left;\">Metachondromatosis (OMIM:156250)</td><td style=\"text-align: left;\">NM_002834.5:c.409_413del (heterozygous)</td><td style=\"text-align: left;\">Multiple enchondromatosis (HP:0005701); Multiple exostoses (HP:0002762)</td></tr>\n",
       "<tr><td style=\"text-align: left;\">family B (UNKNOWN; )</td><td style=\"text-align: left;\">Metachondromatosis (OMIM:156250)</td><td style=\"text-align: left;\">NM_002834.5:c.458_463delinsAAGAACACAGGGGAGAGCA (heterozygous)</td><td style=\"text-align: left;\">Multiple enchondromatosis (HP:0005701); Multiple exostoses (HP:0002762)</td></tr>\n",
       "<tr><td style=\"text-align: left;\">family C (UNKNOWN; )</td><td style=\"text-align: left;\">Metachondromatosis (OMIM:156250)</td><td style=\"text-align: left;\">NM_002834.5:c.353_354del (heterozygous)</td><td style=\"text-align: left;\">Multiple enchondromatosis (HP:0005701); Multiple exostoses (HP:0002762)</td></tr>\n",
       "<tr><td style=\"text-align: left;\">family I (UNKNOWN; )</td><td style=\"text-align: left;\">Metachondromatosis (OMIM:156250)</td><td style=\"text-align: left;\">NM_002834.5:c.295A>T (heterozygous)</td><td style=\"text-align: left;\">Multiple enchondromatosis (HP:0005701); Multiple exostoses (HP:0002762)</td></tr>\n",
       "<tr><td style=\"text-align: left;\">family D (UNKNOWN; )</td><td style=\"text-align: left;\">Metachondromatosis (OMIM:156250)</td><td style=\"text-align: left;\">NM_002834.5:c.1315del (heterozygous)</td><td style=\"text-align: left;\">Multiple enchondromatosis (HP:0005701); Multiple exostoses (HP:0002762)</td></tr>\n",
       "<tr><td style=\"text-align: left;\">family E (UNKNOWN; )</td><td style=\"text-align: left;\">Metachondromatosis (OMIM:156250)</td><td style=\"text-align: left;\">NM_002834.5:c.1516C>T (heterozygous)</td><td style=\"text-align: left;\">Multiple enchondromatosis (HP:0005701); Multiple exostoses (HP:0002762)</td></tr>\n",
       "<tr><td style=\"text-align: left;\">family F (UNKNOWN; )</td><td style=\"text-align: left;\">Metachondromatosis (OMIM:156250)</td><td style=\"text-align: left;\">NM_002834.5:c.643-2A>C (heterozygous)</td><td style=\"text-align: left;\">Multiple enchondromatosis (HP:0005701); Multiple exostoses (HP:0002762)</td></tr>\n",
       "<tr><td style=\"text-align: left;\">family G (UNKNOWN; )</td><td style=\"text-align: left;\">Metachondromatosis (OMIM:156250)</td><td style=\"text-align: left;\">NM_002834.5:c.1093-1G>T (heterozygous)</td><td style=\"text-align: left;\">Multiple enchondromatosis (HP:0005701); Multiple exostoses (HP:0002762)</td></tr>\n",
       "<tr><td style=\"text-align: left;\">family H (UNKNOWN; )</td><td style=\"text-align: left;\">Metachondromatosis (OMIM:156250)</td><td style=\"text-align: left;\">NM_002834.5:c.680_683del (heterozygous)</td><td style=\"text-align: left;\">Multiple enchondromatosis (HP:0005701); Multiple exostoses (HP:0002762)</td></tr>\n",
       "<tr><td style=\"text-align: left;\">family O (UNKNOWN; )</td><td style=\"text-align: left;\">Metachondromatosis (OMIM:156250)</td><td style=\"text-align: left;\">NM_002834.5:c.1225-1G>A (heterozygous)</td><td style=\"text-align: left;\">Multiple enchondromatosis (HP:0005701); Multiple exostoses (HP:0002762)</td></tr>\n",
       "</table>"
      ],
      "text/plain": [
       "<IPython.core.display.HTML object>"
      ]
     },
     "metadata": {},
     "output_type": "display_data"
    }
   ],
   "source": [
    "individuals = cvalidator.get_error_free_individual_list()\n",
    "table = PhenopacketTable(individual_list=individuals, metadata=metadata)\n",
    "display(HTML(table.to_html()))"
   ]
  },
  {
   "cell_type": "code",
   "execution_count": 7,
   "id": "74e3ab42-5b15-4392-8367-7f1b6dc91c19",
   "metadata": {},
   "outputs": [
    {
     "name": "stdout",
     "output_type": "stream",
     "text": [
      "We output 10 GA4GH phenopackets to the directory phenopackets\n"
     ]
    }
   ],
   "source": [
    "Individual.output_individuals_as_phenopackets(individual_list=individuals,\n",
    "                                              metadata=metadata)"
   ]
  },
  {
   "cell_type": "code",
   "execution_count": null,
   "id": "1b8bcc8b-ccf5-4f70-860e-dc735342ae41",
   "metadata": {},
   "outputs": [],
   "source": []
  }
 ],
 "metadata": {
  "kernelspec": {
   "display_name": "pstore_env",
   "language": "python",
   "name": "pstore_env"
  },
  "language_info": {
   "codemirror_mode": {
    "name": "ipython",
    "version": 3
   },
   "file_extension": ".py",
   "mimetype": "text/x-python",
   "name": "python",
   "nbconvert_exporter": "python",
   "pygments_lexer": "ipython3",
   "version": "3.11.3"
  }
 },
 "nbformat": 4,
 "nbformat_minor": 5
}
