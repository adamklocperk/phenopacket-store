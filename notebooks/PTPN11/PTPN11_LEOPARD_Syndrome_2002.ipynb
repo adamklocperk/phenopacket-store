{
 "cells": [
  {
   "cell_type": "markdown",
   "id": "554a9c17-4f26-4c53-8915-2bf419a4e0a4",
   "metadata": {},
   "source": [
    "# Legius\n",
    "Data taken from [Legius E, et al. (2002) PTPN11 mutations in LEOPARD syndrome. J Med Genet 39:571-4](https://pubmed.ncbi.nlm.nih.gov/12161596/).\n",
    "The acronym LEOPARD syndrome was introduced by Gorlin et al1 for the combination of multiple Lentigines, ECG abnormalities, Ocular hypertelorism, Pulmonary stenosis, Abnormalities of the genitalia, Retardation of growth, and Deafness. "
   ]
  },
  {
   "cell_type": "code",
   "execution_count": 1,
   "id": "e33aebda-7131-49d3-8384-6ffe4deb4bdb",
   "metadata": {},
   "outputs": [
    {
     "name": "stdout",
     "output_type": "stream",
     "text": [
      "pyphetools version 0.9.39\n"
     ]
    }
   ],
   "source": [
    "import pandas as pd\n",
    "pd.set_option('display.max_colwidth', None) # show entire column contents, important!\n",
    "from IPython.display import display, HTML\n",
    "import pyphetools\n",
    "from pyphetools.creation import *\n",
    "from pyphetools.visualization import *\n",
    "from pyphetools.validation import CohortValidator\n",
    "print(f\"pyphetools version {pyphetools.__version__}\")"
   ]
  },
  {
   "cell_type": "code",
   "execution_count": 2,
   "id": "f2d09b55-28d1-4251-96e8-c916aadf39b7",
   "metadata": {},
   "outputs": [
    {
     "name": "stdout",
     "output_type": "stream",
     "text": [
      "HPO version 2024-01-16\n"
     ]
    }
   ],
   "source": [
    "PMID = \"PMID:12161596\"\n",
    "title = \"PTPN11 mutations in LEOPARD syndrome\"\n",
    "citation = Citation(pmid=PMID, title=title)\n",
    "parser = HpoParser(hpo_json_file=\"../hp.json\")\n",
    "hpo_cr = parser.get_hpo_concept_recognizer()\n",
    "hpo_version = parser.get_version()\n",
    "hpo_ontology = parser.get_ontology()\n",
    "metadata = MetaData(created_by=\"ORCID:0000-0002-0736-9199\", citation=citation)\n",
    "metadata.default_versions_with_hpo(version=hpo_version)\n",
    "print(f\"HPO version {hpo_version}\")"
   ]
  },
  {
   "cell_type": "markdown",
   "id": "434fafdc-9620-4e9f-b40d-197438c210bc",
   "metadata": {},
   "source": [
    "In this notebook, we use <a href=\"https://github.com/monarch-initiative/fenominal-gui\">fenominal-gui</a> to create\n",
    "pyphetools code."
   ]
  },
  {
   "cell_type": "code",
   "execution_count": 3,
   "id": "dbefd315-2086-4d21-be73-ff9f636fc318",
   "metadata": {},
   "outputs": [
    {
     "name": "stdout",
     "output_type": "stream",
     "text": [
      "https://rest.variantvalidator.org/VariantValidator/variantvalidator/hg38/NM_002834.5%3Ac.836A>G/NM_002834.5?content-type=application%2Fjson\n"
     ]
    }
   ],
   "source": [
    "individuals = []\n",
    "leopard1 = Disease(disease_id=\"OMIM:151100\", disease_label=\"LEOPARD syndrome 1\") \n",
    "vvalidator = VariantValidator(genome_build=\"hg38\", transcript=\"NM_002834.5\")\n",
    "var = vvalidator.encode_hgvs(\"c.836A>G\")\n",
    "var.set_heterozygous()\n",
    "v_interpretation = var.to_ga4gh_variant_interpretation()"
   ]
  },
  {
   "cell_type": "markdown",
   "id": "434893b2-1a74-44b4-9b4f-434d994f7d14",
   "metadata": {},
   "source": [
    "# Individual 1\n",
    "The index patient was the daughter, who presented with short stature (height below the 3rd centile), relative macrocephaly (occipitofrontal circumference (OFC) on the 90th centile for age), and hypertrophic cardiomyopathy (asymmetrical septal hypertrophy which was stable over time). She had a relatively broad, asymmetrical chest (internipple distance 18.5 cm, 75th centile for age), hypertelorism (ICD 4.2 cm, >97th centile) with epicanthic folds, and mild mental delay. Webbing of the neck was not present. Her skin showed numerous, small, dark pigmented spots (fig 1)."
   ]
  },
  {
   "cell_type": "code",
   "execution_count": 4,
   "id": "525b5327-d246-4956-a9c8-15011c9f48fc",
   "metadata": {},
   "outputs": [],
   "source": [
    "pfeatures = []\n",
    "pfeatures.append(HpTerm(hpo_id=\"HP:0001670\", label=\"Asymmetric septal hypertrophy\", observed=\"True\", onset=\"P12Y0M0D\"))\n",
    "pfeatures.append(HpTerm(hpo_id=\"HP:0001555\", label=\"Asymmetry of the thorax\", observed=\"True\", onset=\"P12Y0M0D\"))\n",
    "pfeatures.append(HpTerm(hpo_id=\"HP:0000286\", label=\"Epicanthus\", observed=\"True\", onset=\"P12Y0M0D\"))\n",
    "pfeatures.append(HpTerm(hpo_id=\"HP:0000316\", label=\"Hypertelorism\", observed=\"True\", onset=\"P12Y0M0D\"))\n",
    "pfeatures.append(HpTerm(hpo_id=\"HP:0001639\", label=\"Hypertrophic cardiomyopathy\", observed=\"True\", onset=\"P12Y0M0D\"))\n",
    "pfeatures.append(HpTerm(hpo_id=\"HP:0001003\", label=\"Multiple lentigines\", observed=\"True\", onset=\"P12Y0M0D\"))\n",
    "pfeatures.append(HpTerm(hpo_id=\"HP:0004482\", label=\"Relative macrocephaly\", observed=\"True\", onset=\"P12Y0M0D\"))\n",
    "pfeatures.append(HpTerm(hpo_id=\"HP:0004322\", label=\"Short stature\", observed=\"True\", onset=\"P12Y0M0D\"))\n",
    "pfeatures.append(HpTerm(hpo_id=\"HP:0000465\", label=\"Webbed neck\", observed=\"True\", onset=\"P12Y0M0D\"))\n",
    "individual_patient_1 = Individual(individual_id=\"patient_1\", sex=\"FEMALE\", hpo_terms=pfeatures)"
   ]
  },
  {
   "cell_type": "code",
   "execution_count": 5,
   "id": "d852c507-aab9-4053-a1ec-77dcdf99a137",
   "metadata": {},
   "outputs": [],
   "source": [
    "individual_p1 = Individual(individual_id=\"p1\", sex=\"FEMALE\", hpo_terms=pfeatures)"
   ]
  },
  {
   "cell_type": "code",
   "execution_count": 6,
   "id": "c52730d1-188a-4357-96c1-afa016604a3a",
   "metadata": {},
   "outputs": [],
   "source": [
    "individual_p1.set_disease(leopard1)\n",
    "individual_p1.add_variant(v_interpretation)\n",
    "individual_p1.set_citation(citation)\n",
    "individuals.append(individual_p1)"
   ]
  },
  {
   "cell_type": "markdown",
   "id": "766167ff-2af9-4b92-8760-d8921864ee3f",
   "metadata": {},
   "source": [
    "## Individual 2\n",
    "Similar skin features were present in the father, a healthy man with a medical history of recurrent pneumonia and constipation during childhood. During childhood he had failed to thrive and had short stature. His parents were 27 and 26 years old when he was born. He was the third in a family of six children. At that time he was the first and only person with these medical features in his family. His adult height (171.5 cm with mild kyphosis) and OFC are within normal limits (57.5 cm). His chest is broad with an internipple distance of 26 cm (>97th centile) and a pectus carinatum. He and his wife had a normal cardiac evaluation at the time when the daughter was diagnosed with the cardiomyopathy. His facial features (fig 2) were remarkable because of the very bright blue eyes which were unusual in his family. Hypertelorism was not present (ICD 3.4 cm, 50th-75th centile) and there was no webbing of the neck. His skin showed multiple, small, and very darkly pigmented spots (fig 2). His school career was normal but short and he started work at a young age. Cytogenetic studies in both the father and the daughter were normal and eye examination showed no Lisch nodules in the irides. In this family with LEOPARD syndrome, mutation and microdeletion analysis of the NF1 gene was performed but no abnormality was found."
   ]
  },
  {
   "cell_type": "code",
   "execution_count": 7,
   "id": "499e2393-5c21-4521-a1a5-2ad89b970f68",
   "metadata": {},
   "outputs": [],
   "source": [
    "pfeatures = []\n",
    "pfeatures.append(HpTerm(hpo_id=\"HP:0000635\", label=\"Blue irides\", observed=\"True\", onset=\"P43Y0M0D\"))\n",
    "pfeatures.append(HpTerm(hpo_id=\"HP:0001638\", label=\"Cardiomyopathy\", observed=\"False\", onset=\"P43Y0M0D\"))\n",
    "pfeatures.append(HpTerm(hpo_id=\"HP:0002019\", label=\"Constipation\", observed=\"True\", onset=\"P43Y0M0D\"))\n",
    "pfeatures.append(HpTerm(hpo_id=\"HP:0000316\", label=\"Hypertelorism\", observed=\"True\", onset=\"P43Y0M0D\"))\n",
    "pfeatures.append(HpTerm(hpo_id=\"HP:0002808\", label=\"Kyphosis\", observed=\"True\", onset=\"P43Y0M0D\"))\n",
    "pfeatures.append(HpTerm(hpo_id=\"HP:0009737\", label=\"Lisch nodules\", observed=\"False\", onset=\"P43Y0M0D\"))\n",
    "pfeatures.append(HpTerm(hpo_id=\"HP:0001003\", label=\"Multiple lentigines\", observed=\"True\", onset=\"P43Y0M0D\"))\n",
    "pfeatures.append(HpTerm(hpo_id=\"HP:0000768\", label=\"Pectus carinatum\", observed=\"True\", onset=\"P43Y0M0D\"))\n",
    "pfeatures.append(HpTerm(hpo_id=\"HP:0006532\", label=\"Recurrent pneumonia\", observed=\"True\", onset=\"P43Y0M0D\"))\n",
    "pfeatures.append(HpTerm(hpo_id=\"HP:0004322\", label=\"Short stature\", observed=\"True\", onset=\"P43Y0M0D\"))\n",
    "pfeatures.append(HpTerm(hpo_id=\"HP:0000465\", label=\"Webbed neck\", observed=\"False\", onset=\"P43Y0M0D\"))\n",
    "individual_Patient_2 = Individual(individual_id=\"Patient 2\", sex=\"MALE\", hpo_terms=pfeatures)\n"
   ]
  },
  {
   "cell_type": "code",
   "execution_count": 8,
   "id": "370f56c5-0857-44ee-8571-04539bac9b44",
   "metadata": {},
   "outputs": [],
   "source": [
    "individual_Patient_2.set_disease(leopard1)\n",
    "individual_Patient_2.add_variant(v_interpretation)\n",
    "individual_Patient_2.set_citation(citation)\n",
    "individuals.append(individual_Patient_2)"
   ]
  },
  {
   "cell_type": "markdown",
   "id": "edd0ea4b-8e87-4a37-9a62-1f7782745a93",
   "metadata": {},
   "source": [
    "# Individual 3\n",
    "This 1 year old girl is one of twins. She was born at 35 weeks’ gestation and had a birth weight of 2370 g. The co-twin weighed 2630 g. The father was 41 and the mother 30 years old when the twins were born. This girl presented with a systolic heart murmur. Cardiac investigation showed hypertrophic cardiomyopathy with a mild left outflow tract obstruction (20 mm Hg), and a left anterior bundle branch block. She had facial features of Noonan syndrome with bilateral mild ptosis of the eyelids and hypertelorism. At 12 months of age, her height was on the 10th centile, weight below the 3rd centile, and head circumference on the 25th centile. The height and weight of the co-twin were on the 25th and the 10th centile, respectively. Psychomotor development was adequate. Multiple dark lentigines (>10) and three larger café au lait spots were present. Both LEOPARD syndrome and neurofibromatosis-Noonan syndrome were considered in this child. No similar phenotype was present in the parents or her co-twin. Because of the strong suspicion of neurofibromatosis, a mutation and microdeletion analysis of the NF1 gene was performed and showed normal results. Routine cytogenetic analysis with G banding on peripheral lymphocytes was normal. After blood sampling, a long clotting time was noted in this child but this was not investigated further."
   ]
  },
  {
   "cell_type": "code",
   "execution_count": 9,
   "id": "f7f73b93-d7bf-4341-9229-bb36f975a7fb",
   "metadata": {},
   "outputs": [],
   "source": [
    "pfeatures = []\n",
    "pfeatures.append(HpTerm(hpo_id=\"HP:0007429\", label=\"Few cafe-au-lait spots\", observed=\"True\", onset=\"P1Y0M0D\"))\n",
    "pfeatures.append(HpTerm(hpo_id=\"HP:0000316\", label=\"Hypertelorism\", observed=\"True\", onset=\"P1Y0M0D\"))\n",
    "pfeatures.append(HpTerm(hpo_id=\"HP:0001639\", label=\"Hypertrophic cardiomyopathy\", observed=\"True\", onset=\"P1Y0M0D\"))\n",
    "pfeatures.append(HpTerm(hpo_id=\"HP:0011713\", label=\"Left bundle branch block\", observed=\"True\", onset=\"P1Y0M0D\"))\n",
    "pfeatures.append(HpTerm(hpo_id=\"HP:0001003\", label=\"Multiple lentigines\", observed=\"True\", onset=\"P1Y0M0D\"))\n",
    "pfeatures.append(HpTerm(hpo_id=\"HP:0001067\", label=\"Neurofibroma\", observed=\"True\", onset=\"P1Y0M0D\"))\n",
    "pfeatures.append(HpTerm(hpo_id=\"HP:0000508\", label=\"Ptosis\", observed=\"True\", onset=\"P1Y0M0D\"))\n",
    "individual_Patient_3 = Individual(individual_id=\"Patient 3\", sex=\"FEMALE\", hpo_terms=pfeatures)"
   ]
  },
  {
   "cell_type": "code",
   "execution_count": 10,
   "id": "331dab79-365e-4f25-8808-2cc30a7abc15",
   "metadata": {},
   "outputs": [],
   "source": [
    "individual_Patient_3.set_disease(leopard1)\n",
    "individual_Patient_3.add_variant(v_interpretation)\n",
    "individual_Patient_2.set_citation(citation)\n",
    "individuals.append(individual_Patient_3)"
   ]
  },
  {
   "cell_type": "code",
   "execution_count": 11,
   "id": "e82f0635-2162-43d7-99f7-5736c60927c9",
   "metadata": {},
   "outputs": [
    {
     "data": {
      "text/html": [
       "<h2>Cohort validation</h2>\n",
       "<p>Errors found with 1 of 3 phenopackets.</p>\n",
       "<table style=\"border: 2px solid black; align: \"left\">\n",
       "<caption>Error counts</caption>\n",
       "<tr><th style=\"text-align: left;font-weight: bold;\">Level</th><th style=\"text-align: left;font-weight: bold;\">Error category</th><th style=\"text-align: left;font-weight: bold;\">Count</th></tr>\n",
       "<tr><td style=\"text-align: left;\">WARNING</td><td style=\"text-align: left;\">REDUNDANT</td><td style=\"text-align: left;\">1</td></tr>\n",
       "</table>\n",
       "<p>A total of 1 issues were fixed and no individual was removed from the cohort.</p>"
      ],
      "text/plain": [
       "<IPython.core.display.HTML object>"
      ]
     },
     "metadata": {},
     "output_type": "display_data"
    }
   ],
   "source": [
    "cvalidator = CohortValidator(cohort=individuals, ontology=hpo_ontology, min_hpo=1, allelic_requirement=AllelicRequirement.MONO_ALLELIC)\n",
    "qc = QcVisualizer(cohort_validator=cvalidator)\n",
    "display(HTML(qc.to_summary_html()))"
   ]
  },
  {
   "cell_type": "code",
   "execution_count": 12,
   "id": "c50beff4-0054-4f4d-85d4-4c10d85701ab",
   "metadata": {},
   "outputs": [
    {
     "data": {
      "text/html": [
       "<table style=\"border: 2px solid black; align: \"left\">\n",
       "<caption>3 phenopackets - PMID:12161596 (n=3)</caption>\n",
       "<tr><th style=\"text-align: left;font-weight: bold;\">Individual</th><th style=\"text-align: left;font-weight: bold;\">Disease</th><th style=\"text-align: left;font-weight: bold;\">Genotype</th><th style=\"text-align: left;font-weight: bold;\">Phenotypic features</th></tr>\n",
       "<tr><td style=\"text-align: left;\">p1 (FEMALE; )</td><td style=\"text-align: left;\">LEOPARD syndrome 1 (OMIM:151100)</td><td style=\"text-align: left;\">NM_002834.5:c.836A>G (heterozygous)</td><td style=\"text-align: left;\"><b>P12Y0M0D</b>: Asymmetric septal hypertrophy (HP:0001670); Asymmetry of the thorax (HP:0001555); Epicanthus (HP:0000286); Hypertelorism (HP:0000316); Multiple lentigines (HP:0001003); Relative macrocephaly (HP:0004482); Short stature (HP:0004322); Webbed neck (HP:0000465)</td></tr>\n",
       "<tr><td style=\"text-align: left;\">Patient 2 (MALE; )</td><td style=\"text-align: left;\">LEOPARD syndrome 1 (OMIM:151100)</td><td style=\"text-align: left;\">NM_002834.5:c.836A>G (heterozygous)</td><td style=\"text-align: left;\"><b>P43Y0M0D</b>: Blue irides (HP:0000635); Cardiomyopathy (HP:0001638); Constipation (HP:0002019); Hypertelorism (HP:0000316); Kyphosis (HP:0002808); Lisch nodules (HP:0009737); Multiple lentigines (HP:0001003); Pectus carinatum (HP:0000768); Recurrent pneumonia (HP:0006532); Short stature (HP:0004322); Webbed neck (HP:0000465)</td></tr>\n",
       "<tr><td style=\"text-align: left;\">Patient 3 (FEMALE; )</td><td style=\"text-align: left;\">LEOPARD syndrome 1 (OMIM:151100)</td><td style=\"text-align: left;\">NM_002834.5:c.836A>G (heterozygous)</td><td style=\"text-align: left;\"><b>P1Y0M0D</b>: Few cafe-au-lait spots (HP:0007429); Hypertelorism (HP:0000316); Hypertrophic cardiomyopathy (HP:0001639); Left bundle branch block (HP:0011713); Multiple lentigines (HP:0001003); Neurofibroma (HP:0001067); Ptosis (HP:0000508)</td></tr>\n",
       "</table>"
      ],
      "text/plain": [
       "<IPython.core.display.HTML object>"
      ]
     },
     "metadata": {},
     "output_type": "display_data"
    }
   ],
   "source": [
    "individuals = cvalidator.get_error_free_individual_list()\n",
    "table = PhenopacketTable(individual_list=individuals, metadata=metadata)\n",
    "display(HTML(table.to_html()))"
   ]
  },
  {
   "cell_type": "code",
   "execution_count": 13,
   "id": "c87bb6a1-9f75-4bed-a4eb-c1a4ba8bc778",
   "metadata": {},
   "outputs": [
    {
     "name": "stdout",
     "output_type": "stream",
     "text": [
      "We output 3 GA4GH phenopackets to the directory phenopackets\n"
     ]
    }
   ],
   "source": [
    "Individual.output_individuals_as_phenopackets(individual_list=individuals,\n",
    "                                              metadata=metadata)"
   ]
  },
  {
   "cell_type": "code",
   "execution_count": null,
   "id": "f3f95139-b132-4036-8ca9-1d29704a5c48",
   "metadata": {},
   "outputs": [],
   "source": []
  }
 ],
 "metadata": {
  "kernelspec": {
   "display_name": "ps24venv",
   "language": "python",
   "name": "ps24venv"
  },
  "language_info": {
   "codemirror_mode": {
    "name": "ipython",
    "version": 3
   },
   "file_extension": ".py",
   "mimetype": "text/x-python",
   "name": "python",
   "nbconvert_exporter": "python",
   "pygments_lexer": "ipython3",
   "version": "3.8.10"
  }
 },
 "nbformat": 4,
 "nbformat_minor": 5
}
