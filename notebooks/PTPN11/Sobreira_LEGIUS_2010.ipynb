{
 "cells": [
  {
   "cell_type": "markdown",
   "id": "7783ede8-d93a-4ec9-a98e-d83ac9da4702",
   "metadata": {},
   "source": [
    "# Sobreira et al. (2010) Metachromatosis, PTPN11\n",
    "Data taken from [Sobreira NL, et al. (2010) Whole-genome sequencing of a single proband together with linkage analysis identifies a Mendelian disease gene. PLoS Genet 6:e1000991](https://pubmed.ncbi.nlm.nih.gov/20577567/).\n",
    "\n",
    "Metachondromatosis (MC) is an autosomal dominant condition characterized by exostoses (osteochondromas), commonly of the hands and feet, and enchondromas of long bone metaphyses and iliac crests. \n",
    "\n",
    "The authors sequenced the whole genome of a single patient with MC and used partial linkage data from her small family to focus our search for the responsible variant. In the proband, they identified an 11 bp deletion in exon four of PTPN11, which results in premature translation termination and co-segregates with the phenotype. In a second metachondromatosis family, they identified a nonsense mutation in exon 4 of PTPN11 that also co-segregates with the phenotype. \n",
    "\n",
    "Clinical details are not provided in this pub;ication, but from the description we infer that each affected individual had the following:\n",
    "- [Multiple enchondromatosis - HP:0005701](https://hpo.jax.org/app/browse/term/HP:0005701)\n",
    "- [Multiple exostoses - HP:0002762](https://hpo.jax.org/app/browse/term/HP:0002762)"
   ]
  },
  {
   "cell_type": "code",
   "execution_count": 1,
   "id": "0439e6e5-534d-440a-8aa1-67b18dffe278",
   "metadata": {},
   "outputs": [
    {
     "name": "stdout",
     "output_type": "stream",
     "text": [
      "pyphetools version 0.9.4\n"
     ]
    }
   ],
   "source": [
    "import pandas as pd\n",
    "pd.set_option('display.max_colwidth', None) # show entire column contents, important!\n",
    "from IPython.display import display, HTML\n",
    "import pyphetools\n",
    "from pyphetools.creation import *\n",
    "from pyphetools.visualization import *\n",
    "from pyphetools.validation import CohortValidator\n",
    "print(f\"pyphetools version {pyphetools.__version__}\")"
   ]
  },
  {
   "cell_type": "code",
   "execution_count": 2,
   "id": "c739313c-b42d-44d4-a21b-9ebfba6850f4",
   "metadata": {},
   "outputs": [
    {
     "name": "stdout",
     "output_type": "stream",
     "text": [
      "HPO version 2023-10-09\n"
     ]
    }
   ],
   "source": [
    "PMID = \"PMID:20577567\"\n",
    "title = \"Whole-genome sequencing of a single proband together with linkage analysis identifies a Mendelian disease gene\"\n",
    "citation = Citation(pmid=PMID, title=title)\n",
    "parser = HpoParser()\n",
    "hpo_cr = parser.get_hpo_concept_recognizer()\n",
    "hpo_version = parser.get_version()\n",
    "hpo_ontology = parser.get_ontology()\n",
    "metadata = MetaData(created_by=\"ORCID:0000-0002-0736-9199\", citation=citation)\n",
    "metadata.default_versions_with_hpo(version=hpo_version)\n",
    "print(f\"HPO version {hpo_version}\")"
   ]
  },
  {
   "cell_type": "code",
   "execution_count": 3,
   "id": "e4248009-74fd-4989-adab-1229f9d22df1",
   "metadata": {},
   "outputs": [
    {
     "name": "stdout",
     "output_type": "stream",
     "text": [
      "https://rest.variantvalidator.org/VariantValidator/variantvalidator/hg38/NM_002834.5%3Ac.514_524del11/NM_002834.5?content-type=application%2Fjson\n",
      "https://rest.variantvalidator.org/VariantValidator/variantvalidator/hg38/NM_002834.5%3Ac.412C>T/NM_002834.5?content-type=application%2Fjson\n"
     ]
    }
   ],
   "source": [
    "individuals = []\n",
    "leopard1 = Disease(disease_id=\"OMIM:151100\", disease_label=\"LEOPARD syndrome 1\") \n",
    "ptpn11_transcript='NM_002834.5'\n",
    "vvalidator = VariantValidator(genome_build=\"hg38\", transcript=ptpn11_transcript)\n",
    "var_514_524del11 = vvalidator.encode_hgvs(\"c.514_524del11\")\n",
    "var_514_524del11.set_heterozygous()\n",
    "var_412C_T = vvalidator.encode_hgvs(\"c.412C>T\")\n",
    "var_412C_T.set_heterozygous()"
   ]
  },
  {
   "cell_type": "code",
   "execution_count": 4,
   "id": "338cf115-eb50-40e5-bc66-7ec42d1932aa",
   "metadata": {},
   "outputs": [
    {
     "name": "stdout",
     "output_type": "stream",
     "text": [
      "Got 2 individuals\n"
     ]
    }
   ],
   "source": [
    "hp_enchondromatosis = HpTerm(hpo_id=\"HP:0005701\", label=\"Multiple enchondromatosis\")\n",
    "hp_exostoses = HpTerm(hpo_id=\"HP:0002762\", label=\"Multiple exostoses\")\n",
    "hpo_terms = [hp_enchondromatosis, hp_exostoses]\n",
    "\n",
    "metachondromatosis = Disease(disease_id='OMIM:156250', disease_label='Metachondromatosis')\n",
    "individual_1 = Individual(individual_id=\"pedigree-1-V-1\",\n",
    "                          age=\"P3Y\",\n",
    "                          sex=\"FEMALE\",\n",
    "                          hpo_terms=hpo_terms,\n",
    "                          citation=citation,\n",
    "                          disease=metachondromatosis,\n",
    "                          interpretation_list=[var_514_524del11.to_ga4gh_variant_interpretation()])\n",
    "\n",
    "individual_2 = Individual(individual_id=\"pedigree-2-III-2\",\n",
    "                          age=\"P12Y\",\n",
    "                          sex=\"MALE\",\n",
    "                          hpo_terms=hpo_terms,\n",
    "                          citation=citation,\n",
    "                          disease=metachondromatosis,\n",
    "                          interpretation_list=[var_412C_T.to_ga4gh_variant_interpretation()])\n",
    "\n",
    "individuals = [individual_1, individual_2]\n",
    "\n",
    "print(f\"Got {len(individuals)} individuals\")"
   ]
  },
  {
   "cell_type": "code",
   "execution_count": 5,
   "id": "a2a49150-2d1c-4908-9950-da07ecb6ae34",
   "metadata": {},
   "outputs": [
    {
     "data": {
      "text/html": [
       "<h2>Cohort validation</h2>\n",
       "<p>No errors found for the cohort with 2 individuals</p>"
      ],
      "text/plain": [
       "<IPython.core.display.HTML object>"
      ]
     },
     "metadata": {},
     "output_type": "display_data"
    }
   ],
   "source": [
    "cvalidator = CohortValidator(cohort=individuals, ontology=hpo_ontology, min_hpo=1, allelic_requirement=AllelicRequirement.MONO_ALLELIC)\n",
    "qc = QcVisualizer(cohort_validator=cvalidator)\n",
    "display(HTML(qc.to_summary_html()))"
   ]
  },
  {
   "cell_type": "code",
   "execution_count": 6,
   "id": "ffbf5cba-ec9f-49ba-8829-43441895471c",
   "metadata": {},
   "outputs": [
    {
     "data": {
      "text/html": [
       "<table style=\"border: 2px solid black; align: \"left\">\n",
       "<caption>2 phenopackets - PMID:20577567 (n=2)</caption>\n",
       "<tr><th style=\"text-align: left;font-weight: bold;\">Individual</th><th style=\"text-align: left;font-weight: bold;\">Disease</th><th style=\"text-align: left;font-weight: bold;\">Genotype</th><th style=\"text-align: left;font-weight: bold;\">Phenotypic features</th></tr>\n",
       "<tr><td style=\"text-align: left;\">pedigree-1-V-1 (FEMALE; P3Y)</td><td style=\"text-align: left;\">Metachondromatosis (OMIM:156250)</td><td style=\"text-align: left;\">NM_002834.5:c.514_524del (heterozygous)</td><td style=\"text-align: left;\">Multiple enchondromatosis (HP:0005701); Multiple exostoses (HP:0002762)</td></tr>\n",
       "<tr><td style=\"text-align: left;\">pedigree-2-III-2 (MALE; P12Y)</td><td style=\"text-align: left;\">Metachondromatosis (OMIM:156250)</td><td style=\"text-align: left;\">NM_002834.5:c.412C>T (heterozygous)</td><td style=\"text-align: left;\">Multiple enchondromatosis (HP:0005701); Multiple exostoses (HP:0002762)</td></tr>\n",
       "</table>"
      ],
      "text/plain": [
       "<IPython.core.display.HTML object>"
      ]
     },
     "metadata": {},
     "output_type": "display_data"
    }
   ],
   "source": [
    "individuals = cvalidator.get_error_free_individual_list()\n",
    "table = PhenopacketTable(individual_list=individuals, metadata=metadata)\n",
    "display(HTML(table.to_html()))"
   ]
  },
  {
   "cell_type": "code",
   "execution_count": 7,
   "id": "9b02ae9b-2e9d-404d-9e35-db32dc7450bc",
   "metadata": {},
   "outputs": [
    {
     "name": "stdout",
     "output_type": "stream",
     "text": [
      "We output 2 GA4GH phenopackets to the directory phenopackets\n"
     ]
    }
   ],
   "source": [
    "Individual.output_individuals_as_phenopackets(individual_list=individuals,\n",
    "                                              metadata=metadata)"
   ]
  },
  {
   "cell_type": "code",
   "execution_count": null,
   "id": "96fe6a84-10a3-4708-ba5d-6ecf53ae216d",
   "metadata": {},
   "outputs": [],
   "source": []
  }
 ],
 "metadata": {
  "kernelspec": {
   "display_name": "pstore_env",
   "language": "python",
   "name": "pstore_env"
  },
  "language_info": {
   "codemirror_mode": {
    "name": "ipython",
    "version": 3
   },
   "file_extension": ".py",
   "mimetype": "text/x-python",
   "name": "python",
   "nbconvert_exporter": "python",
   "pygments_lexer": "ipython3",
   "version": "3.11.3"
  }
 },
 "nbformat": 4,
 "nbformat_minor": 5
}
