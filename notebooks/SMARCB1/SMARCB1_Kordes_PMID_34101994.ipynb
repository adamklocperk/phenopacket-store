{
 "cells": [
  {
   "cell_type": "markdown",
   "id": "a39f3c65",
   "metadata": {},
   "source": [
    "<h1>SMARCB1 Kordes</h1>\n",
    "<p>We will process <a href=\"https://pubmed.ncbi.nlm.nih.gov/34101994/\" target=\"__blank\">Kordes, et al. (2021) Evidence for a low-penetrant extended phenotype of rhabdoid tumor predisposition syndrome type 1 from a kindred with gain of SMARCB1 exon 6</a>."
   ]
  },
  {
   "cell_type": "code",
   "execution_count": 1,
   "id": "f0602c0e",
   "metadata": {},
   "outputs": [
    {
     "name": "stdout",
     "output_type": "stream",
     "text": [
      "pyphetools version 0.9.8\n"
     ]
    }
   ],
   "source": [
    "import pandas as pd\n",
    "pd.set_option('display.max_colwidth', None) # show entire column contents, important!\n",
    "from collections import defaultdict\n",
    "import re\n",
    "from IPython.display import display, HTML, JSON\n",
    "from pyphetools.creation import *\n",
    "from pyphetools.visualization import *\n",
    "from pyphetools.validation import *\n",
    "import pyphetools\n",
    "print(f\"pyphetools version {pyphetools.__version__}\")"
   ]
  },
  {
   "cell_type": "markdown",
   "id": "8606e7eb",
   "metadata": {},
   "source": [
    "<h2>Importing HPO data</h2>"
   ]
  },
  {
   "cell_type": "code",
   "execution_count": 2,
   "id": "5a7789fc",
   "metadata": {},
   "outputs": [
    {
     "name": "stdout",
     "output_type": "stream",
     "text": [
      "HPO version 2023-10-09\n"
     ]
    }
   ],
   "source": [
    "PMID = \"PMID:34101994\"\n",
    "title = \"Evidence for a low-penetrant extended phenotype of rhabdoid tumor predisposition syndrome \\\n",
    "type 1 from a kindred with gain of SMARCB1 exon 6\"\n",
    "cite = Citation(pmid=PMID, title=title)\n",
    "parser = HpoParser()\n",
    "hpo_cr = parser.get_hpo_concept_recognizer()\n",
    "hpo_version = parser.get_version()\n",
    "hpo_ontology = parser.get_ontology()\n",
    "metadata = MetaData(created_by=\"ORCID:0000-0002-5648-2155\", citation=cite)\n",
    "metadata.default_versions_with_hpo(version=hpo_version)\n",
    "print(f\"HPO version {hpo_version}\")"
   ]
  },
  {
   "cell_type": "markdown",
   "id": "5102722a",
   "metadata": {},
   "source": [
    "<h2>Creating and loading the table</h2>\n",
    "<p>Both papers do not have specific clinical tables, therefor, we have first created one manually, that we will now load.</p>"
   ]
  },
  {
   "cell_type": "code",
   "execution_count": 3,
   "id": "f17c3924",
   "metadata": {},
   "outputs": [],
   "source": [
    "df = pd.read_excel('input/PMID_34101994_Kordes.xlsx')"
   ]
  },
  {
   "cell_type": "code",
   "execution_count": 4,
   "id": "06ec7dbd",
   "metadata": {},
   "outputs": [
    {
     "data": {
      "text/html": [
       "<div>\n",
       "<style scoped>\n",
       "    .dataframe tbody tr th:only-of-type {\n",
       "        vertical-align: middle;\n",
       "    }\n",
       "\n",
       "    .dataframe tbody tr th {\n",
       "        vertical-align: top;\n",
       "    }\n",
       "\n",
       "    .dataframe thead th {\n",
       "        text-align: right;\n",
       "    }\n",
       "</style>\n",
       "<table border=\"1\" class=\"dataframe\">\n",
       "  <thead>\n",
       "    <tr style=\"text-align: right;\">\n",
       "      <th></th>\n",
       "      <th>Unnamed: 0</th>\n",
       "      <th>III.1</th>\n",
       "      <th>II.2</th>\n",
       "    </tr>\n",
       "  </thead>\n",
       "  <tbody>\n",
       "    <tr>\n",
       "      <th>0</th>\n",
       "      <td>PMID</td>\n",
       "      <td>34101994</td>\n",
       "      <td>34101994</td>\n",
       "    </tr>\n",
       "    <tr>\n",
       "      <th>1</th>\n",
       "      <td>age</td>\n",
       "      <td>21</td>\n",
       "      <td>57</td>\n",
       "    </tr>\n",
       "    <tr>\n",
       "      <th>2</th>\n",
       "      <td>sex</td>\n",
       "      <td>male</td>\n",
       "      <td>male</td>\n",
       "    </tr>\n",
       "    <tr>\n",
       "      <th>3</th>\n",
       "      <td>pathogenic variant</td>\n",
       "      <td>NaN</td>\n",
       "      <td>NaN</td>\n",
       "    </tr>\n",
       "    <tr>\n",
       "      <th>4</th>\n",
       "      <td>Feeding difficulties</td>\n",
       "      <td>NaN</td>\n",
       "      <td>NaN</td>\n",
       "    </tr>\n",
       "    <tr>\n",
       "      <th>5</th>\n",
       "      <td>Lethargy</td>\n",
       "      <td>NaN</td>\n",
       "      <td>NaN</td>\n",
       "    </tr>\n",
       "    <tr>\n",
       "      <th>6</th>\n",
       "      <td>Vomiting</td>\n",
       "      <td>NaN</td>\n",
       "      <td>NaN</td>\n",
       "    </tr>\n",
       "    <tr>\n",
       "      <th>7</th>\n",
       "      <td>Hydrocephalus</td>\n",
       "      <td>NaN</td>\n",
       "      <td>NaN</td>\n",
       "    </tr>\n",
       "    <tr>\n",
       "      <th>8</th>\n",
       "      <td>Neoplasm</td>\n",
       "      <td>+</td>\n",
       "      <td>+</td>\n",
       "    </tr>\n",
       "    <tr>\n",
       "      <th>9</th>\n",
       "      <td>Atypical teratoid/rhabdoid tumor</td>\n",
       "      <td>+</td>\n",
       "      <td>NaN</td>\n",
       "    </tr>\n",
       "    <tr>\n",
       "      <th>10</th>\n",
       "      <td>Flesh colored papules</td>\n",
       "      <td>NaN</td>\n",
       "      <td>NaN</td>\n",
       "    </tr>\n",
       "    <tr>\n",
       "      <th>11</th>\n",
       "      <td>Granuloma</td>\n",
       "      <td>NaN</td>\n",
       "      <td>NaN</td>\n",
       "    </tr>\n",
       "    <tr>\n",
       "      <th>12</th>\n",
       "      <td>Hemiparesis</td>\n",
       "      <td>NaN</td>\n",
       "      <td>NaN</td>\n",
       "    </tr>\n",
       "    <tr>\n",
       "      <th>13</th>\n",
       "      <td>Stroke</td>\n",
       "      <td>NaN</td>\n",
       "      <td>NaN</td>\n",
       "    </tr>\n",
       "    <tr>\n",
       "      <th>14</th>\n",
       "      <td>Leukemia</td>\n",
       "      <td>-</td>\n",
       "      <td>+</td>\n",
       "    </tr>\n",
       "    <tr>\n",
       "      <th>15</th>\n",
       "      <td>Ulcerative colitis</td>\n",
       "      <td>-</td>\n",
       "      <td>+</td>\n",
       "    </tr>\n",
       "    <tr>\n",
       "      <th>16</th>\n",
       "      <td>Specific learning disability</td>\n",
       "      <td>+</td>\n",
       "      <td>-</td>\n",
       "    </tr>\n",
       "    <tr>\n",
       "      <th>17</th>\n",
       "      <td>Ependymoma</td>\n",
       "      <td>-</td>\n",
       "      <td>+</td>\n",
       "    </tr>\n",
       "  </tbody>\n",
       "</table>\n",
       "</div>"
      ],
      "text/plain": [
       "                          Unnamed: 0     III.1      II.2\n",
       "0                               PMID  34101994  34101994\n",
       "1                                age        21        57\n",
       "2                                sex      male      male\n",
       "3                 pathogenic variant       NaN       NaN\n",
       "4               Feeding difficulties       NaN       NaN\n",
       "5                           Lethargy       NaN       NaN\n",
       "6                           Vomiting       NaN       NaN\n",
       "7                      Hydrocephalus       NaN       NaN\n",
       "8                           Neoplasm         +         +\n",
       "9   Atypical teratoid/rhabdoid tumor         +       NaN\n",
       "10             Flesh colored papules       NaN       NaN\n",
       "11                         Granuloma       NaN       NaN\n",
       "12                       Hemiparesis       NaN       NaN\n",
       "13                            Stroke       NaN       NaN\n",
       "14                          Leukemia         -         +\n",
       "15                Ulcerative colitis         -         +\n",
       "16      Specific learning disability         +         -\n",
       "17                        Ependymoma         -         +"
      ]
     },
     "execution_count": 4,
     "metadata": {},
     "output_type": "execute_result"
    }
   ],
   "source": [
    "df"
   ]
  },
  {
   "cell_type": "markdown",
   "id": "f7f7bad9",
   "metadata": {},
   "source": [
    "<h1>Converting to row-based format</h1>"
   ]
  },
  {
   "cell_type": "code",
   "execution_count": 5,
   "id": "c85c793f",
   "metadata": {},
   "outputs": [
    {
     "data": {
      "text/html": [
       "<div>\n",
       "<style scoped>\n",
       "    .dataframe tbody tr th:only-of-type {\n",
       "        vertical-align: middle;\n",
       "    }\n",
       "\n",
       "    .dataframe tbody tr th {\n",
       "        vertical-align: top;\n",
       "    }\n",
       "\n",
       "    .dataframe thead th {\n",
       "        text-align: right;\n",
       "    }\n",
       "</style>\n",
       "<table border=\"1\" class=\"dataframe\">\n",
       "  <thead>\n",
       "    <tr style=\"text-align: right;\">\n",
       "      <th>Unnamed: 0</th>\n",
       "      <th>PMID</th>\n",
       "      <th>age</th>\n",
       "      <th>sex</th>\n",
       "      <th>Neoplasm</th>\n",
       "      <th>Atypical teratoid/rhabdoid tumor</th>\n",
       "      <th>Leukemia</th>\n",
       "      <th>Ulcerative colitis</th>\n",
       "      <th>Specific learning disability</th>\n",
       "      <th>Ependymoma</th>\n",
       "      <th>patient_id</th>\n",
       "    </tr>\n",
       "  </thead>\n",
       "  <tbody>\n",
       "    <tr>\n",
       "      <th>III.1</th>\n",
       "      <td>34101994</td>\n",
       "      <td>21</td>\n",
       "      <td>male</td>\n",
       "      <td>+</td>\n",
       "      <td>+</td>\n",
       "      <td>-</td>\n",
       "      <td>-</td>\n",
       "      <td>+</td>\n",
       "      <td>-</td>\n",
       "      <td>III.1</td>\n",
       "    </tr>\n",
       "    <tr>\n",
       "      <th>II.2</th>\n",
       "      <td>34101994</td>\n",
       "      <td>57</td>\n",
       "      <td>male</td>\n",
       "      <td>+</td>\n",
       "      <td>NaN</td>\n",
       "      <td>+</td>\n",
       "      <td>+</td>\n",
       "      <td>-</td>\n",
       "      <td>+</td>\n",
       "      <td>II.2</td>\n",
       "    </tr>\n",
       "  </tbody>\n",
       "</table>\n",
       "</div>"
      ],
      "text/plain": [
       "Unnamed: 0      PMID age   sex Neoplasm Atypical teratoid/rhabdoid tumor  \\\n",
       " III.1      34101994  21  male        +                                +   \n",
       " II.2       34101994  57  male        +                              NaN   \n",
       "\n",
       "Unnamed: 0 Leukemia Ulcerative colitis Specific learning disability  \\\n",
       " III.1            -                  -                            +   \n",
       " II.2             +                  +                            -   \n",
       "\n",
       "Unnamed: 0 Ependymoma patient_id  \n",
       " III.1              -      III.1  \n",
       " II.2               +       II.2  "
      ]
     },
     "execution_count": 5,
     "metadata": {},
     "output_type": "execute_result"
    }
   ],
   "source": [
    "dft = df.transpose()\n",
    "dft.columns = dft.iloc[0]\n",
    "dft.drop(dft.index[0], inplace=True)\n",
    "dft.index\n",
    "dft['patient_id'] = dft.index\n",
    "dft.columns = dft.columns.str.strip()\n",
    "dft = dft.dropna(axis=1, how='all')\n",
    "dft.head()"
   ]
  },
  {
   "cell_type": "markdown",
   "id": "8314d6bd",
   "metadata": {},
   "source": [
    "<h2>Column mappers</h2>\n",
    "<p>Please see the notebook \"Create phenopackets from tabular data with individuals in rows\" for explanations. In the following cell we create a dictionary for the ColumnMappers. Note that the code is identical except that we use the df.loc function to get the corresponding row data</p>"
   ]
  },
  {
   "cell_type": "code",
   "execution_count": 6,
   "id": "59d9e9e8",
   "metadata": {},
   "outputs": [
    {
     "data": {
      "text/html": [
       "<table style=\"border: 2px solid black;\">\n",
       "\n",
       "<tr>\n",
       "            <th>Result</th>\n",
       "            <th>Columns</th>\n",
       "        </tr>\n",
       "      \n",
       "<tr><td>Mapped</td><td>Neoplasm; Atypical teratoid/rhabdoid tumor; Leukemia; Ulcerative colitis; Specific learning disability; Ependymoma</td></tr>\n",
       "<tr><td>Unmapped</td><td><q>PMID</q>; <q>age</q>; <q>sex</q>; <q>patient_id</q></td></tr>\n",
       "</table>\n"
      ],
      "text/plain": [
       "<IPython.core.display.HTML object>"
      ]
     },
     "metadata": {},
     "output_type": "display_data"
    }
   ],
   "source": [
    "generator = SimpleColumnMapperGenerator(df=dft.loc[:,:],\n",
    "                                                    observed='+',\n",
    "                                                    excluded='-',\n",
    "                                                    hpo_cr=hpo_cr)\n",
    "\n",
    "column_mapper_d = generator.try_mapping_columns()\n",
    "from IPython.display import display, HTML\n",
    "display(HTML(generator.to_html()))"
   ]
  },
  {
   "cell_type": "markdown",
   "id": "5e53617d",
   "metadata": {},
   "source": [
    "<h2>Variant Data</h2>"
   ]
  },
  {
   "cell_type": "code",
   "execution_count": 7,
   "id": "da4d5706",
   "metadata": {},
   "outputs": [],
   "source": [
    "SMARCB1_transcript = \"NM_003073.5\"\n",
    "SMARCB1_symbol = \"SMARCB1\"\n",
    "SMARCB1_id = \"HGNC:11103\"\n",
    "smarcb6_gain = \"gain of SMARCB1 exon 6\"\n",
    "gain_var = StructuralVariant.chromosomal_duplication(cell_contents=smarcb6_gain,\n",
    "                                                     gene_id=SMARCB1_id,\n",
    "                                                     gene_symbol=SMARCB1_symbol)\n",
    "gain_var.set_heterozygous()"
   ]
  },
  {
   "cell_type": "markdown",
   "id": "d1af2052",
   "metadata": {},
   "source": [
    "<h1>Demographic data</h1>\n",
    "<p>pyphetools can be used to capture information about age, sex, and individual identifiers. This information is stored in a map of \"IndividualMapper\" objects. Special treatment may be required for the indifiers, which may be used as the column names or row index.</p>"
   ]
  },
  {
   "cell_type": "code",
   "execution_count": 8,
   "id": "3e64dc08",
   "metadata": {},
   "outputs": [
    {
     "data": {
      "text/html": [
       "<div>\n",
       "<style scoped>\n",
       "    .dataframe tbody tr th:only-of-type {\n",
       "        vertical-align: middle;\n",
       "    }\n",
       "\n",
       "    .dataframe tbody tr th {\n",
       "        vertical-align: top;\n",
       "    }\n",
       "\n",
       "    .dataframe thead th {\n",
       "        text-align: right;\n",
       "    }\n",
       "</style>\n",
       "<table border=\"1\" class=\"dataframe\">\n",
       "  <thead>\n",
       "    <tr style=\"text-align: right;\">\n",
       "      <th></th>\n",
       "      <th>original column contents</th>\n",
       "      <th>age</th>\n",
       "    </tr>\n",
       "  </thead>\n",
       "  <tbody>\n",
       "    <tr>\n",
       "      <th>0</th>\n",
       "      <td>21</td>\n",
       "      <td>P21Y</td>\n",
       "    </tr>\n",
       "    <tr>\n",
       "      <th>1</th>\n",
       "      <td>57</td>\n",
       "      <td>P57Y</td>\n",
       "    </tr>\n",
       "  </tbody>\n",
       "</table>\n",
       "</div>"
      ],
      "text/plain": [
       "   original column contents   age\n",
       "0                        21  P21Y\n",
       "1                        57  P57Y"
      ]
     },
     "execution_count": 8,
     "metadata": {},
     "output_type": "execute_result"
    }
   ],
   "source": [
    "ageMapper = AgeColumnMapper.by_year('age')\n",
    "ageMapper.preview_column(dft['age'])"
   ]
  },
  {
   "cell_type": "code",
   "execution_count": 9,
   "id": "71f664cc",
   "metadata": {},
   "outputs": [
    {
     "data": {
      "text/html": [
       "<div>\n",
       "<style scoped>\n",
       "    .dataframe tbody tr th:only-of-type {\n",
       "        vertical-align: middle;\n",
       "    }\n",
       "\n",
       "    .dataframe tbody tr th {\n",
       "        vertical-align: top;\n",
       "    }\n",
       "\n",
       "    .dataframe thead th {\n",
       "        text-align: right;\n",
       "    }\n",
       "</style>\n",
       "<table border=\"1\" class=\"dataframe\">\n",
       "  <thead>\n",
       "    <tr style=\"text-align: right;\">\n",
       "      <th></th>\n",
       "      <th>original column contents</th>\n",
       "      <th>sex</th>\n",
       "    </tr>\n",
       "  </thead>\n",
       "  <tbody>\n",
       "    <tr>\n",
       "      <th>0</th>\n",
       "      <td>male</td>\n",
       "      <td>MALE</td>\n",
       "    </tr>\n",
       "    <tr>\n",
       "      <th>1</th>\n",
       "      <td>male</td>\n",
       "      <td>MALE</td>\n",
       "    </tr>\n",
       "  </tbody>\n",
       "</table>\n",
       "</div>"
      ],
      "text/plain": [
       "  original column contents   sex\n",
       "0                     male  MALE\n",
       "1                     male  MALE"
      ]
     },
     "execution_count": 9,
     "metadata": {},
     "output_type": "execute_result"
    }
   ],
   "source": [
    "#sex is not in columns, since it were all females in this paper\n",
    "sexMapper = SexColumnMapper(male_symbol='male', female_symbol='female', column_name='sex')\n",
    "sexMapper.preview_column(dft['sex'])"
   ]
  },
  {
   "cell_type": "code",
   "execution_count": 10,
   "id": "f6581a8a",
   "metadata": {},
   "outputs": [],
   "source": [
    "encoder = CohortEncoder(df=dft, \n",
    "                        hpo_cr=hpo_cr, \n",
    "                        column_mapper_d=column_mapper_d, \n",
    "                        individual_column_name=\"patient_id\", \n",
    "                        agemapper=ageMapper, \n",
    "                        sexmapper=sexMapper, \n",
    "                        metadata=metadata)\n",
    "rtps = Disease(disease_id='OMIM:609322', disease_label='Rhabdoid tumor predisposition syndrome-1')\n",
    "encoder.set_disease(disease=rtps)"
   ]
  },
  {
   "cell_type": "code",
   "execution_count": 11,
   "id": "fd367ed6",
   "metadata": {},
   "outputs": [],
   "source": [
    "individuals = encoder.get_individuals()\n",
    "for i in individuals:\n",
    "    i.add_variant(gain_var)"
   ]
  },
  {
   "cell_type": "code",
   "execution_count": 12,
   "id": "31421b42-c223-4a9a-b85f-0427639bfdd2",
   "metadata": {},
   "outputs": [
    {
     "data": {
      "text/html": [
       "<h2>Cohort validation</h2>\n",
       "<p>Errors found with 2 of 2 phenopackets.</p>\n",
       "<table style=\"border: 2px solid black; align: \"left\">\n",
       "<caption>Error counts</caption>\n",
       "<tr><th style=\"text-align: left;font-weight: bold;\">Level</th><th style=\"text-align: left;font-weight: bold;\">Error category</th><th style=\"text-align: left;font-weight: bold;\">Count</th></tr>\n",
       "<tr><td style=\"text-align: left;\">WARNING</td><td style=\"text-align: left;\">REDUNDANT</td><td style=\"text-align: left;\">2</td></tr>\n",
       "<tr><td style=\"text-align: left;\">INFORMATION</td><td style=\"text-align: left;\">NOT_MEASURED</td><td style=\"text-align: left;\">1</td></tr>\n",
       "</table>\n",
       "<p>A total of 3 issues were fixed and no individual was removed from the cohort.</p>"
      ],
      "text/plain": [
       "<IPython.core.display.HTML object>"
      ]
     },
     "metadata": {},
     "output_type": "display_data"
    }
   ],
   "source": [
    "cvalidator = CohortValidator(cohort=individuals, ontology=hpo_ontology, min_hpo=1, allelic_requirement=AllelicRequirement.MONO_ALLELIC)\n",
    "qc = QcVisualizer(cohort_validator=cvalidator)\n",
    "display(HTML(qc.to_summary_html()))"
   ]
  },
  {
   "cell_type": "code",
   "execution_count": 13,
   "id": "5d044b78",
   "metadata": {},
   "outputs": [
    {
     "data": {
      "text/html": [
       "<table style=\"border: 2px solid black; align: \"left\">\n",
       "<caption>2 phenopackets - PMID:34101994 (n=2)</caption>\n",
       "<tr><th style=\"text-align: left;font-weight: bold;\">Individual</th><th style=\"text-align: left;font-weight: bold;\">Disease</th><th style=\"text-align: left;font-weight: bold;\">Genotype</th><th style=\"text-align: left;font-weight: bold;\">Phenotypic features</th></tr>\n",
       "<tr><td style=\"text-align: left;\"> III.1 (MALE; P21Y)</td><td style=\"text-align: left;\">Rhabdoid tumor predisposition syndrome-1 (OMIM:609322)</td><td style=\"text-align: left;\">gain of SMARCB1 exon 6: chromosomal_duplication (SO:1000037)</td><td style=\"text-align: left;\">Rhabdoid tumor (HP:0034557); Specific learning disability (HP:0001328); excluded: Leukemia (HP:0001909); excluded: Ulcerative colitis (HP:0100279); excluded: Ependymoma (HP:0002888)</td></tr>\n",
       "<tr><td style=\"text-align: left;\"> II.2 (MALE; P57Y)</td><td style=\"text-align: left;\">Rhabdoid tumor predisposition syndrome-1 (OMIM:609322)</td><td style=\"text-align: left;\">gain of SMARCB1 exon 6: chromosomal_duplication (SO:1000037)</td><td style=\"text-align: left;\">Leukemia (HP:0001909); Ulcerative colitis (HP:0100279); Ependymoma (HP:0002888); excluded: Specific learning disability (HP:0001328)</td></tr>\n",
       "</table>"
      ],
      "text/plain": [
       "<IPython.core.display.HTML object>"
      ]
     },
     "metadata": {},
     "output_type": "display_data"
    }
   ],
   "source": [
    "individuals = cvalidator.get_error_free_individual_list()\n",
    "table = PhenopacketTable(individual_list=individuals, metadata=metadata)\n",
    "display(HTML(table.to_html()))"
   ]
  },
  {
   "cell_type": "code",
   "execution_count": 14,
   "id": "23f1094f",
   "metadata": {},
   "outputs": [
    {
     "name": "stdout",
     "output_type": "stream",
     "text": [
      "We output 2 GA4GH phenopackets to the directory phenopackets\n"
     ]
    }
   ],
   "source": [
    "output_directory = \"phenopackets\"\n",
    "Individual.output_individuals_as_phenopackets(individual_list=individuals,\n",
    "                                              metadata=metadata,\n",
    "                                              outdir=output_directory)"
   ]
  },
  {
   "cell_type": "code",
   "execution_count": null,
   "id": "97102c2b-8749-47a2-a237-a02f86898199",
   "metadata": {},
   "outputs": [],
   "source": []
  }
 ],
 "metadata": {
  "kernelspec": {
   "display_name": "Python 3 (ipykernel)",
   "language": "python",
   "name": "python3"
  },
  "language_info": {
   "codemirror_mode": {
    "name": "ipython",
    "version": 3
   },
   "file_extension": ".py",
   "mimetype": "text/x-python",
   "name": "python",
   "nbconvert_exporter": "python",
   "pygments_lexer": "ipython3",
   "version": "3.11.3"
  }
 },
 "nbformat": 4,
 "nbformat_minor": 5
}
