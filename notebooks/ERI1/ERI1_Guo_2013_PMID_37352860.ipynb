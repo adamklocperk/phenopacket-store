{
 "cells": [
  {
   "cell_type": "markdown",
   "id": "14ee3127",
   "metadata": {},
   "source": [
    "<h1>ERI1: Guo et al 2013 </h1>\n",
    "<p>Extract the clinical data from <a href=\"https://pubmed.ncbi.nlm.nih.gov/37352860/\"target=\"__blank\">Guo L, et al. (2023) Null and missense mutations of ERI1 cause a recessive phenotypic dichotomy in humans. Am J Hum Genet.  PMID:37352860</a>.<p>\n",
    "<p>The authors report a phenotypic dichotomy associated with bi-allelic ERI1 variants by reporting eight affected individuals from seven unrelated families. A severe spondyloepimetaphyseal dysplasia (SEMD) was identified in five affected individuals with missense variants but not in those with bi-allelic null variants, who showed mild intellectual disability and digital anomalies.</p>"
   ]
  },
  {
   "cell_type": "code",
   "execution_count": 1,
   "id": "3d9c8a7f",
   "metadata": {},
   "outputs": [
    {
     "name": "stdout",
     "output_type": "stream",
     "text": [
      "Using pyphetools version 0.9.35\n"
     ]
    }
   ],
   "source": [
    "import pandas as pd\n",
    "import math\n",
    "pd.set_option('display.max_colwidth', None) # show entire column contents, important!\n",
    "from collections import defaultdict\n",
    "import re\n",
    "from pyphetools.creation import *\n",
    "from pyphetools.visualization import PhenopacketTable, QcVisualizer\n",
    "from pyphetools.validation import *\n",
    "import pyphetools\n",
    "print(f\"Using pyphetools version {pyphetools.__version__}\")"
   ]
  },
  {
   "cell_type": "code",
   "execution_count": 2,
   "id": "3d06141b",
   "metadata": {},
   "outputs": [
    {
     "name": "stdout",
     "output_type": "stream",
     "text": [
      "HPO version 2024-01-16\n"
     ]
    }
   ],
   "source": [
    "PMID=\"PMID:37352860\"\n",
    "title = \"Null and missense mutations of ERI1 cause a recessive phenotypic dichotomy in humans\"\n",
    "cite = Citation(pmid=PMID, title=title)\n",
    "parser = HpoParser(hpo_json_file=\"../hp.json\")\n",
    "hpo_cr = parser.get_hpo_concept_recognizer()\n",
    "hpo_version = parser.get_version()\n",
    "hpo_ontology = parser.get_ontology()\n",
    "metadata = MetaData(created_by=\"ORCID:0000-0002-0736-9199\", citation=cite)\n",
    "metadata.default_versions_with_hpo(version=hpo_version)\n",
    "print(f\"HPO version {hpo_version}\")"
   ]
  },
  {
   "cell_type": "code",
   "execution_count": 3,
   "id": "1f2ca0a7",
   "metadata": {},
   "outputs": [],
   "source": [
    "df = pd.read_excel(\"input/Guo_2023.xlsx\")"
   ]
  },
  {
   "cell_type": "code",
   "execution_count": 4,
   "id": "5c8b8006",
   "metadata": {},
   "outputs": [],
   "source": [
    "#patient_id = df.columns"
   ]
  },
  {
   "cell_type": "code",
   "execution_count": 5,
   "id": "771713c5",
   "metadata": {},
   "outputs": [],
   "source": [
    "df = df.set_index('Individual').T.reset_index()\n",
    "df[\"patient_id\"] = df[\"index\"]"
   ]
  },
  {
   "cell_type": "code",
   "execution_count": 6,
   "id": "9eefb904",
   "metadata": {},
   "outputs": [],
   "source": [
    "scg = SimpleColumnMapperGenerator(df=df,\n",
    "                                  observed='+',\n",
    "                                  excluded='-',\n",
    "                                  hpo_cr=hpo_cr)"
   ]
  },
  {
   "cell_type": "code",
   "execution_count": 7,
   "id": "2c585ebc",
   "metadata": {},
   "outputs": [],
   "source": [
    "column_mapper_list = scg.try_mapping_columns()"
   ]
  },
  {
   "cell_type": "code",
   "execution_count": 8,
   "id": "a1f215be",
   "metadata": {},
   "outputs": [
    {
     "data": {
      "text/html": [
       "<table style=\"border: 2px solid black;\">\n",
       "\n",
       "<tr>\n",
       "            <th>Result</th>\n",
       "            <th>Columns</th>\n",
       "        </tr>\n",
       "        \n",
       "<tr><td>Mapped</td><td>Syndactyly; Cardiac anomaly; Hydronephrosis; Vesicoureteral reflux; Asthma; Conductive hearing impairment; hypernasal speech; Dislocated radial head; Scoliosis; Hip pain; Short stature; Long face; Narrow face; proptosis; Coarse facies; Low-set ears; Limited elbow extension; Finger joint hypermobility; Clinodactyly of the 5th finger; Pes planus; Slender metacarpals; Increased vertebral height; Velopharyngeal insufficiency; Hip dislocation; Patellar dislocation; Narrow forehead; Upslanted palpebral fissure; High palate; Pectus excavatum; Tapered finger; Prominent forehead; Depressed nasal bridge; Micrognathia; Cutaneous syndactyly; Macrotia; Narrow chest; Pulmonary arterial hypertension; Oligodactyly; Tricuspid regurgitation; Platyspondyly; Intrauterine growth retardation; Motor delay; Failure to thrive; Trigonocephaly; Frontal bossing; Sparse hair; Pectus carinatum; Wormian bones; Osteopenia; Delayed skeletal maturation; Inguinal hernia; Ventricular septal defect; Brachycephaly; Anonychia; Strabismus; Low anterior hairline; Epicanthus</td></tr>\n",
       "<tr><td>Unmapped</td><td><q>index</q>; <q>DNA</q>; <q>Protein</q>; <q>Sex</q>; <q>Age at last follow-up</q>; <q>Weight</q>; <q>Height</q>; <q>Consanguinity</q>; <q>Fetal ultrasound</q>; <q>Gestation age</q>; <q>Birth weight</q>; <q>Birth length</q>; <q>Spine anomaly</q>; <q>Metaphyseal anomaly</q>; <q>Epiphyseal anomaly</q>; <q>Brachydactyly/clinodactyly/camptodactyly</q>; <q>Intellectual disability/developmental delay</q>; <q>Zygomatic hypoplasia</q>; <q>Posteriorly rotated ear</q>; <q>Cupped ear </q>; <q>patient_id</q></td></tr>\n",
       "</table>\n"
      ],
      "text/plain": [
       "<IPython.core.display.HTML object>"
      ]
     },
     "metadata": {},
     "output_type": "display_data"
    }
   ],
   "source": [
    "from IPython.display import display, HTML\n",
    "display(HTML(scg.to_html()))"
   ]
  },
  {
   "cell_type": "code",
   "execution_count": 9,
   "id": "23b8f381",
   "metadata": {},
   "outputs": [],
   "source": [
    "# Now get the unmapped columns and try option mappers\n",
    "# The following was only needed to write the notebook\n",
    "# unmapped_columns = scg.get_unmapped_columns()\n",
    "# omit_columns = set(column_mapper_d.keys())\n",
    "# omit_columns.update(['index','DNA','Protein','Age at last follow-up','Consanguinity'])\n",
    "# auto_results = OptionColumnMapper.autoformat(df=df, concept_recognizer=hpo_cr, omit_columns=omit_columns)\n",
    "# print(auto_results)"
   ]
  },
  {
   "cell_type": "code",
   "execution_count": 10,
   "id": "9ede0bd6",
   "metadata": {},
   "outputs": [
    {
     "data": {
      "text/html": [
       "<div>\n",
       "<style scoped>\n",
       "    .dataframe tbody tr th:only-of-type {\n",
       "        vertical-align: middle;\n",
       "    }\n",
       "\n",
       "    .dataframe tbody tr th {\n",
       "        vertical-align: top;\n",
       "    }\n",
       "\n",
       "    .dataframe thead th {\n",
       "        text-align: right;\n",
       "    }\n",
       "</style>\n",
       "<table border=\"1\" class=\"dataframe\">\n",
       "  <thead>\n",
       "    <tr style=\"text-align: right;\">\n",
       "      <th></th>\n",
       "      <th>mapping</th>\n",
       "      <th>count</th>\n",
       "    </tr>\n",
       "  </thead>\n",
       "  <tbody>\n",
       "    <tr>\n",
       "      <th>0</th>\n",
       "      <td>original value: \"24 kg (−5 SD)\" -&gt; HP: Decreased body weight (HP:0004325) (observed)</td>\n",
       "      <td>1</td>\n",
       "    </tr>\n",
       "    <tr>\n",
       "      <th>1</th>\n",
       "      <td>original value: \"26 kg (−5 SD)\" -&gt; HP: Decreased body weight (HP:0004325) (observed)</td>\n",
       "      <td>1</td>\n",
       "    </tr>\n",
       "    <tr>\n",
       "      <th>2</th>\n",
       "      <td>original value: \"3.3 kg (- 4 SD)\" -&gt; HP: Decreased body weight (HP:0004325) (observed)</td>\n",
       "      <td>1</td>\n",
       "    </tr>\n",
       "    <tr>\n",
       "      <th>3</th>\n",
       "      <td>original value: \"failure to thrive\" -&gt; HP: Failure to thrive (HP:0001508) (observed)</td>\n",
       "      <td>1</td>\n",
       "    </tr>\n",
       "    <tr>\n",
       "      <th>4</th>\n",
       "      <td>original value: \"22 kg (8th centile)\" -&gt; HP: Decreased body weight (HP:0004325) (excluded)</td>\n",
       "      <td>1</td>\n",
       "    </tr>\n",
       "    <tr>\n",
       "      <th>5</th>\n",
       "      <td>original value: \"62 kg (85th centile)\" -&gt; HP: Decreased body weight (HP:0004325) (excluded)</td>\n",
       "      <td>1</td>\n",
       "    </tr>\n",
       "    <tr>\n",
       "      <th>6</th>\n",
       "      <td>original value: \"27.6 kg (50th centile)\" -&gt; HP: Decreased body weight (HP:0004325) (excluded)</td>\n",
       "      <td>1</td>\n",
       "    </tr>\n",
       "    <tr>\n",
       "      <th>7</th>\n",
       "      <td>original value: \"normal\" -&gt; HP: Failure to thrive (HP:0001508) (excluded)</td>\n",
       "      <td>1</td>\n",
       "    </tr>\n",
       "  </tbody>\n",
       "</table>\n",
       "</div>"
      ],
      "text/plain": [
       "                                                                                         mapping  \\\n",
       "0           original value: \"24 kg (−5 SD)\" -> HP: Decreased body weight (HP:0004325) (observed)   \n",
       "1           original value: \"26 kg (−5 SD)\" -> HP: Decreased body weight (HP:0004325) (observed)   \n",
       "2         original value: \"3.3 kg (- 4 SD)\" -> HP: Decreased body weight (HP:0004325) (observed)   \n",
       "3           original value: \"failure to thrive\" -> HP: Failure to thrive (HP:0001508) (observed)   \n",
       "4     original value: \"22 kg (8th centile)\" -> HP: Decreased body weight (HP:0004325) (excluded)   \n",
       "5    original value: \"62 kg (85th centile)\" -> HP: Decreased body weight (HP:0004325) (excluded)   \n",
       "6  original value: \"27.6 kg (50th centile)\" -> HP: Decreased body weight (HP:0004325) (excluded)   \n",
       "7                      original value: \"normal\" -> HP: Failure to thrive (HP:0001508) (excluded)   \n",
       "\n",
       "  count  \n",
       "0     1  \n",
       "1     1  \n",
       "2     1  \n",
       "3     1  \n",
       "4     1  \n",
       "5     1  \n",
       "6     1  \n",
       "7     1  "
      ]
     },
     "execution_count": 10,
     "metadata": {},
     "output_type": "execute_result"
    }
   ],
   "source": [
    "weight_d = {'24\\xa0kg (−5 SD)': 'Decreased body weight',\n",
    " '26\\xa0kg (−5 SD)': 'Decreased body weight',\n",
    " '3.3\\xa0kg (- 4 SD)': 'Decreased body weight',\n",
    " 'failure to thrive': 'Failure to thrive'}\n",
    "excluded_d = {\n",
    "    '22\\xa0kg (8th centile)': 'Decreased body weight',\n",
    "    '62\\xa0kg (85th centile)': 'Decreased body weight',\n",
    "    '27.6\\xa0kg (50th centile)': 'Decreased body weight',\n",
    "    'normal': 'Failure to thrive',\n",
    "}\n",
    "weightMapper = OptionColumnMapper(column_name=\"Weight\", concept_recognizer=hpo_cr, option_d=weight_d,\n",
    "                                 excluded_d=excluded_d)\n",
    "column_mapper_list.append(weightMapper)\n",
    "weightMapper.preview_column(df)"
   ]
  },
  {
   "cell_type": "code",
   "execution_count": 11,
   "id": "a54cf9ec",
   "metadata": {},
   "outputs": [
    {
     "data": {
      "text/html": [
       "<div>\n",
       "<style scoped>\n",
       "    .dataframe tbody tr th:only-of-type {\n",
       "        vertical-align: middle;\n",
       "    }\n",
       "\n",
       "    .dataframe tbody tr th {\n",
       "        vertical-align: top;\n",
       "    }\n",
       "\n",
       "    .dataframe thead th {\n",
       "        text-align: right;\n",
       "    }\n",
       "</style>\n",
       "<table border=\"1\" class=\"dataframe\">\n",
       "  <thead>\n",
       "    <tr style=\"text-align: right;\">\n",
       "      <th></th>\n",
       "      <th>mapping</th>\n",
       "      <th>count</th>\n",
       "    </tr>\n",
       "  </thead>\n",
       "  <tbody>\n",
       "    <tr>\n",
       "      <th>0</th>\n",
       "      <td>original value: \"112 cm (−8 SD)\" -&gt; HP: Short stature (HP:0004322) (observed)</td>\n",
       "      <td>1</td>\n",
       "    </tr>\n",
       "    <tr>\n",
       "      <th>1</th>\n",
       "      <td>original value: \"128 cm (−7 SD)\" -&gt; HP: Short stature (HP:0004322) (observed)</td>\n",
       "      <td>1</td>\n",
       "    </tr>\n",
       "    <tr>\n",
       "      <th>2</th>\n",
       "      <td>original value: \"50.3 cm (−5 SD)\" -&gt; HP: Short stature (HP:0004322) (observed)</td>\n",
       "      <td>1</td>\n",
       "    </tr>\n",
       "    <tr>\n",
       "      <th>3</th>\n",
       "      <td>original value: \"short stature\" -&gt; HP: Short stature (HP:0004322) (observed)</td>\n",
       "      <td>1</td>\n",
       "    </tr>\n",
       "    <tr>\n",
       "      <th>4</th>\n",
       "      <td>original value: \"130.8 cm (46th centile)\" -&gt; HP: Short stature (HP:0004322) (excluded)</td>\n",
       "      <td>1</td>\n",
       "    </tr>\n",
       "    <tr>\n",
       "      <th>5</th>\n",
       "      <td>original value: \"155 cm (25th centile)\" -&gt; HP: Short stature (HP:0004322) (excluded)</td>\n",
       "      <td>1</td>\n",
       "    </tr>\n",
       "    <tr>\n",
       "      <th>6</th>\n",
       "      <td>original value: \"130 cm (90th centile)\" -&gt; HP: Short stature (HP:0004322) (excluded)</td>\n",
       "      <td>1</td>\n",
       "    </tr>\n",
       "    <tr>\n",
       "      <th>7</th>\n",
       "      <td>original value: \"105 cm (&lt;3rd centile)\" -&gt; HP: Short stature (HP:0004322) (observed)</td>\n",
       "      <td>1</td>\n",
       "    </tr>\n",
       "  </tbody>\n",
       "</table>\n",
       "</div>"
      ],
      "text/plain": [
       "                                                                                  mapping  \\\n",
       "0           original value: \"112 cm (−8 SD)\" -> HP: Short stature (HP:0004322) (observed)   \n",
       "1           original value: \"128 cm (−7 SD)\" -> HP: Short stature (HP:0004322) (observed)   \n",
       "2          original value: \"50.3 cm (−5 SD)\" -> HP: Short stature (HP:0004322) (observed)   \n",
       "3            original value: \"short stature\" -> HP: Short stature (HP:0004322) (observed)   \n",
       "4  original value: \"130.8 cm (46th centile)\" -> HP: Short stature (HP:0004322) (excluded)   \n",
       "5    original value: \"155 cm (25th centile)\" -> HP: Short stature (HP:0004322) (excluded)   \n",
       "6    original value: \"130 cm (90th centile)\" -> HP: Short stature (HP:0004322) (excluded)   \n",
       "7    original value: \"105 cm (<3rd centile)\" -> HP: Short stature (HP:0004322) (observed)   \n",
       "\n",
       "  count  \n",
       "0     1  \n",
       "1     1  \n",
       "2     1  \n",
       "3     1  \n",
       "4     1  \n",
       "5     1  \n",
       "6     1  \n",
       "7     1  "
      ]
     },
     "execution_count": 11,
     "metadata": {},
     "output_type": "execute_result"
    }
   ],
   "source": [
    "height_d = {'112\\xa0cm (−8 SD)': 'Short stature',\n",
    " '128\\xa0cm (−7 SD)': 'Short stature',\n",
    " '50.3\\xa0cm (−5 SD)': 'Short stature',\n",
    " 'short stature': 'Short stature',\n",
    " \n",
    " '105\\xa0cm (<3rd centile)': 'Short stature'}\n",
    "\n",
    "excluded_d = {\n",
    "    '130.8\\xa0cm (46th centile)': 'Short stature',\n",
    " '155\\xa0cm (25th centile)': 'Short stature',\n",
    " '130\\xa0cm (90th centile)': 'Short stature',\n",
    "}\n",
    "heightMapper = OptionColumnMapper(column_name=\"Height\", concept_recognizer=hpo_cr, option_d=height_d,\n",
    "                                excluded_d=excluded_d)\n",
    "column_mapper_list.append(heightMapper)\n",
    "heightMapper.preview_column(df)"
   ]
  },
  {
   "cell_type": "code",
   "execution_count": 12,
   "id": "5b0aae33",
   "metadata": {},
   "outputs": [
    {
     "data": {
      "text/html": [
       "<div>\n",
       "<style scoped>\n",
       "    .dataframe tbody tr th:only-of-type {\n",
       "        vertical-align: middle;\n",
       "    }\n",
       "\n",
       "    .dataframe tbody tr th {\n",
       "        vertical-align: top;\n",
       "    }\n",
       "\n",
       "    .dataframe thead th {\n",
       "        text-align: right;\n",
       "    }\n",
       "</style>\n",
       "<table border=\"1\" class=\"dataframe\">\n",
       "  <thead>\n",
       "    <tr style=\"text-align: right;\">\n",
       "      <th></th>\n",
       "      <th>mapping</th>\n",
       "      <th>count</th>\n",
       "    </tr>\n",
       "  </thead>\n",
       "  <tbody>\n",
       "    <tr>\n",
       "      <th>0</th>\n",
       "      <td>original value: \"hydronephrosis\" -&gt; HP: Hydronephrosis (HP:0000126) (observed)</td>\n",
       "      <td>2</td>\n",
       "    </tr>\n",
       "    <tr>\n",
       "      <th>1</th>\n",
       "      <td>original value: \"short limbs\" -&gt; HP: Limb undergrowth (HP:0009826) (observed)</td>\n",
       "      <td>1</td>\n",
       "    </tr>\n",
       "    <tr>\n",
       "      <th>2</th>\n",
       "      <td>original value: \"severe IUGR\" -&gt; HP: Intrauterine growth retardation (HP:0001511) (observed)</td>\n",
       "      <td>1</td>\n",
       "    </tr>\n",
       "  </tbody>\n",
       "</table>\n",
       "</div>"
      ],
      "text/plain": [
       "                                                                                        mapping  \\\n",
       "0                original value: \"hydronephrosis\" -> HP: Hydronephrosis (HP:0000126) (observed)   \n",
       "1                 original value: \"short limbs\" -> HP: Limb undergrowth (HP:0009826) (observed)   \n",
       "2  original value: \"severe IUGR\" -> HP: Intrauterine growth retardation (HP:0001511) (observed)   \n",
       "\n",
       "  count  \n",
       "0     2  \n",
       "1     1  \n",
       "2     1  "
      ]
     },
     "execution_count": 12,
     "metadata": {},
     "output_type": "execute_result"
    }
   ],
   "source": [
    "fetal_ultrasound_d = {'hydronephrosis': 'Hydronephrosis',\n",
    " 'short limbs': 'Limb undergrowth',\n",
    " 'severe IUGR': 'Intrauterine growth retardation',\n",
    " }\n",
    "excluded = {\n",
    "    'unremarkable': 'Intrauterine growth retardation'\n",
    "}\n",
    "fetal_ultrasoundMapper = OptionColumnMapper(column_name='Fetal ultrasound',concept_recognizer=hpo_cr, option_d=fetal_ultrasound_d)\n",
    "column_mapper_list.append(fetal_ultrasoundMapper)\n",
    "fetal_ultrasoundMapper.preview_column(df)"
   ]
  },
  {
   "cell_type": "code",
   "execution_count": 13,
   "id": "7c592383",
   "metadata": {},
   "outputs": [
    {
     "data": {
      "text/html": [
       "<div>\n",
       "<style scoped>\n",
       "    .dataframe tbody tr th:only-of-type {\n",
       "        vertical-align: middle;\n",
       "    }\n",
       "\n",
       "    .dataframe tbody tr th {\n",
       "        vertical-align: top;\n",
       "    }\n",
       "\n",
       "    .dataframe thead th {\n",
       "        text-align: right;\n",
       "    }\n",
       "</style>\n",
       "<table border=\"1\" class=\"dataframe\">\n",
       "  <thead>\n",
       "    <tr style=\"text-align: right;\">\n",
       "      <th></th>\n",
       "      <th>mapping</th>\n",
       "      <th>count</th>\n",
       "    </tr>\n",
       "  </thead>\n",
       "  <tbody>\n",
       "    <tr>\n",
       "      <th>0</th>\n",
       "      <td>original value: \"2180 g (−3.2 SD)\" -&gt; HP: Small for gestational age (HP:0001518) (observed)</td>\n",
       "      <td>1</td>\n",
       "    </tr>\n",
       "    <tr>\n",
       "      <th>1</th>\n",
       "      <td>original value: \"2,000 g (−3.3 SD)\" -&gt; HP: Small for gestational age (HP:0001518) (observed)</td>\n",
       "      <td>1</td>\n",
       "    </tr>\n",
       "  </tbody>\n",
       "</table>\n",
       "</div>"
      ],
      "text/plain": [
       "                                                                                        mapping  \\\n",
       "0   original value: \"2180 g (−3.2 SD)\" -> HP: Small for gestational age (HP:0001518) (observed)   \n",
       "1  original value: \"2,000 g (−3.3 SD)\" -> HP: Small for gestational age (HP:0001518) (observed)   \n",
       "\n",
       "  count  \n",
       "0     1  \n",
       "1     1  "
      ]
     },
     "execution_count": 13,
     "metadata": {},
     "output_type": "execute_result"
    }
   ],
   "source": [
    "birth_weight_d = {\n",
    " '2180\\xa0g (−3.2 SD)': 'Small for gestational age',\n",
    " '000\\xa0g (−3.3 SD)': 'Small for gestational age',}\n",
    "birth_weightMapper = OptionColumnMapper(column_name='Birth weight',concept_recognizer=hpo_cr, option_d=birth_weight_d)\n",
    "column_mapper_list.append(birth_weightMapper)\n",
    "birth_weightMapper.preview_column(df)"
   ]
  },
  {
   "cell_type": "code",
   "execution_count": 14,
   "id": "20695fa0",
   "metadata": {},
   "outputs": [],
   "source": [
    "# Omitting these because we manually curated detailed phenotypes and added them to the input table\n",
    "#spine_anomaly_d \n",
    "#metaphyseal_anomaly_d = {'nan': 'PLACEHOLDER'}\n",
    "#epiphyseal_anomaly_d = {'+ (wrists)': 'PLACEHOLDER'}"
   ]
  },
  {
   "cell_type": "code",
   "execution_count": 15,
   "id": "3025ad6f",
   "metadata": {},
   "outputs": [
    {
     "data": {
      "text/html": [
       "<div>\n",
       "<style scoped>\n",
       "    .dataframe tbody tr th:only-of-type {\n",
       "        vertical-align: middle;\n",
       "    }\n",
       "\n",
       "    .dataframe tbody tr th {\n",
       "        vertical-align: top;\n",
       "    }\n",
       "\n",
       "    .dataframe thead th {\n",
       "        text-align: right;\n",
       "    }\n",
       "</style>\n",
       "<table border=\"1\" class=\"dataframe\">\n",
       "  <thead>\n",
       "    <tr style=\"text-align: right;\">\n",
       "      <th></th>\n",
       "      <th>mapping</th>\n",
       "      <th>count</th>\n",
       "    </tr>\n",
       "  </thead>\n",
       "  <tbody>\n",
       "    <tr>\n",
       "      <th>0</th>\n",
       "      <td>original value: \"Motor delay, Delayed speech and language development, generalized hypotonia, Global developmental delay\" -&gt; HP: Motor delay (HP:0001270) (observed)</td>\n",
       "      <td>1</td>\n",
       "    </tr>\n",
       "    <tr>\n",
       "      <th>1</th>\n",
       "      <td>original value: \"Global developmental delay, Autism\" -&gt; HP: Global developmental delay (HP:0001263) (observed)</td>\n",
       "      <td>1</td>\n",
       "    </tr>\n",
       "    <tr>\n",
       "      <th>2</th>\n",
       "      <td>original value: \"Intellectual disability mild\" -&gt; HP: Intellectual disability, mild (HP:0001256) (observed)</td>\n",
       "      <td>2</td>\n",
       "    </tr>\n",
       "    <tr>\n",
       "      <th>3</th>\n",
       "      <td>original value: \"Intellectual disability, Global developmental delay\" -&gt; HP: Intellectual disability (HP:0001249) (observed)</td>\n",
       "      <td>2</td>\n",
       "    </tr>\n",
       "  </tbody>\n",
       "</table>\n",
       "</div>"
      ],
      "text/plain": [
       "                                                                                                                                                                mapping  \\\n",
       "0  original value: \"Motor delay, Delayed speech and language development, generalized hypotonia, Global developmental delay\" -> HP: Motor delay (HP:0001270) (observed)   \n",
       "1                                                        original value: \"Global developmental delay, Autism\" -> HP: Global developmental delay (HP:0001263) (observed)   \n",
       "2                                                           original value: \"Intellectual disability mild\" -> HP: Intellectual disability, mild (HP:0001256) (observed)   \n",
       "3                                          original value: \"Intellectual disability, Global developmental delay\" -> HP: Intellectual disability (HP:0001249) (observed)   \n",
       "\n",
       "  count  \n",
       "0     1  \n",
       "1     1  \n",
       "2     2  \n",
       "3     2  "
      ]
     },
     "execution_count": 15,
     "metadata": {},
     "output_type": "execute_result"
    }
   ],
   "source": [
    "id_gdd_d = {\n",
    " 'Motor delay': 'Motor delay',\n",
    " 'Delayed speech and language development': 'Delayed speech and language development',\n",
    " 'generalized hypotonia': 'Generalized hypotonia',\n",
    " 'Global developmental delay': 'Global developmental delay',\n",
    " 'Autism': 'Autism',\n",
    " 'Intellectual disability mild': 'Intellectual disability, mild',}\n",
    "id_gddMapper = OptionColumnMapper(column_name='Intellectual disability/developmental delay',\n",
    "                                  concept_recognizer=hpo_cr, option_d=id_gdd_d)\n",
    "column_mapper_list.append(id_gddMapper)\n",
    "id_gddMapper.preview_column(df)"
   ]
  },
  {
   "cell_type": "markdown",
   "id": "91805b6e",
   "metadata": {},
   "source": [
    "<H2>Variants</H2>"
   ]
  },
  {
   "cell_type": "code",
   "execution_count": 16,
   "id": "889ad993",
   "metadata": {},
   "outputs": [
    {
     "name": "stdout",
     "output_type": "stream",
     "text": [
      "We got 12 distinct variants.\n"
     ]
    }
   ],
   "source": [
    "patient_to_variant_d = defaultdict(list)\n",
    "variant_set = set()   \n",
    "for _, row in df.iterrows():\n",
    "    pat_id = str(row['patient_id']) # needed because some IDs come out as ints\n",
    "    dna_string = row['DNA']    \n",
    "    fields = dna_string.split(\";\")\n",
    "    if len(fields) != 2:\n",
    "        raise ValueError(f\"Malformed variant line {dna_string}\")\n",
    "    for var in fields:\n",
    "        variant_str = var.strip()\n",
    "        variant_str = re.sub(r\"(c.)?\\[\",\"\", variant_str)\n",
    "        variant_str = variant_str.replace(\"]\", \"\").strip()\n",
    "        if \"8783887\" in variant_str:  # this is the structural variant\n",
    "            variant_set.add(\"g.8783887_9068578del\")\n",
    "            patient_to_variant_d[pat_id].append(\"g.8783887_9068578del\")\n",
    "        else:\n",
    "            variant_str = \"c.\" + variant_str\n",
    "            variant_set.add(variant_str)\n",
    "            patient_to_variant_d[pat_id].append(variant_str)\n",
    "print(f\"We got {len(variant_set)} distinct variants.\")"
   ]
  },
  {
   "cell_type": "code",
   "execution_count": 17,
   "id": "12eea9ce",
   "metadata": {},
   "outputs": [
    {
     "name": "stdout",
     "output_type": "stream",
     "text": [
      "Validating c.582+1G>A\n",
      "https://rest.variantvalidator.org/VariantValidator/variantvalidator/hg38/NM_153332.4%3Ac.582+1G>A/NM_153332.4?content-type=application%2Fjson\n",
      "Validating c.895T>C\n",
      "https://rest.variantvalidator.org/VariantValidator/variantvalidator/hg38/NM_153332.4%3Ac.895T>C/NM_153332.4?content-type=application%2Fjson\n",
      "Validating c.893A>G\n",
      "https://rest.variantvalidator.org/VariantValidator/variantvalidator/hg38/NM_153332.4%3Ac.893A>G/NM_153332.4?content-type=application%2Fjson\n",
      "Validating c.464C>T\n",
      "https://rest.variantvalidator.org/VariantValidator/variantvalidator/hg38/NM_153332.4%3Ac.464C>T/NM_153332.4?content-type=application%2Fjson\n",
      "Validating c.401A>G\n",
      "https://rest.variantvalidator.org/VariantValidator/variantvalidator/hg38/NM_153332.4%3Ac.401A>G/NM_153332.4?content-type=application%2Fjson\n",
      "Validating c.893A>C\n",
      "https://rest.variantvalidator.org/VariantValidator/variantvalidator/hg38/NM_153332.4%3Ac.893A>C/NM_153332.4?content-type=application%2Fjson\n",
      "Validating c.514C>T\n",
      "https://rest.variantvalidator.org/VariantValidator/variantvalidator/hg38/NM_153332.4%3Ac.514C>T/NM_153332.4?content-type=application%2Fjson\n",
      "Validating c.62C>A\n",
      "https://rest.variantvalidator.org/VariantValidator/variantvalidator/hg38/NM_153332.4%3Ac.62C>A/NM_153332.4?content-type=application%2Fjson\n",
      "Validating c.730C>T\n",
      "https://rest.variantvalidator.org/VariantValidator/variantvalidator/hg38/NM_153332.4%3Ac.730C>T/NM_153332.4?content-type=application%2Fjson\n",
      "Validating c.450A>T\n",
      "https://rest.variantvalidator.org/VariantValidator/variantvalidator/hg38/NM_153332.4%3Ac.450A>T/NM_153332.4?content-type=application%2Fjson\n",
      "Validating c.352A>T\n",
      "https://rest.variantvalidator.org/VariantValidator/variantvalidator/hg38/NM_153332.4%3Ac.352A>T/NM_153332.4?content-type=application%2Fjson\n",
      "Validating g.8783887_9068578del\n",
      "We got 12 variant objects\n"
     ]
    }
   ],
   "source": [
    "validator = VariantValidator(genome_build='hg38', transcript=\"NM_153332.4\")\n",
    "validated_var_d = defaultdict()\n",
    "for var in variant_set:\n",
    "    print(f\"Validating {var}\")\n",
    "    if var == 'g.8783887_9068578del':\n",
    "        sv = StructuralVariant.chromosomal_deletion(cell_contents='Deletion exons 1-4',\n",
    "                 gene_symbol=\"ERI1\",\n",
    "                 gene_id=\"HGNC:23994\")\n",
    "        validated_var_d[var] = sv\n",
    "    else:\n",
    "        var_object = validator.encode_hgvs(hgvs=var)\n",
    "        validated_var_d[var] = var_object\n",
    "print(f\"We got {len(validated_var_d)} variant objects\")"
   ]
  },
  {
   "cell_type": "code",
   "execution_count": 18,
   "id": "034417a3",
   "metadata": {},
   "outputs": [],
   "source": [
    "ageMapper = AgeColumnMapper.by_year('Age at last follow-up')\n",
    "#ageMapper.preview_column(df)\n",
    "sexMapper = SexColumnMapper(male_symbol='M', female_symbol='F', column_name='Sex')\n",
    "#sexMapper.preview_column(df)"
   ]
  },
  {
   "cell_type": "markdown",
   "id": "dc6c2845",
   "metadata": {},
   "source": [
    "<h2>Disease diagnosis</h2>\n",
    "<p>Diseases related to ERI1 are currenttly not represented in OMIM. For this reason, we represent the diagnosis as preliminary below. The authors write:  SEMD was present in the five individuals with at least one missense variant (Table 1). In contrast, three individuals with ERI1 null mutations and the Eri1 KO mice showed a much milder skeletal phenotype without any evidence for SEMD, consistent with the two individuals reported previously, who had homozygous a 284 kb deletion and p.Lys118∗. Notably, of the five individuals with SEMD, three died within 2 years after birth, suggesting missense variants lead to a poor prognosis.</p>"
   ]
  },
  {
   "cell_type": "code",
   "execution_count": 19,
   "id": "8105d0f1",
   "metadata": {},
   "outputs": [],
   "source": [
    "encoder = CohortEncoder(df=df, \n",
    "                        hpo_cr=hpo_cr, \n",
    "                        column_mapper_list=column_mapper_list, \n",
    "                        individual_column_name=\"patient_id\", \n",
    "                        agemapper=ageMapper, \n",
    "                        sexmapper=sexMapper,\n",
    "                        metadata=metadata)\n",
    "eri1 = Disease(disease_id='OMIM: 608739', disease_label='ERI1-related disease')\n",
    "encoder.set_disease(eri1)"
   ]
  },
  {
   "cell_type": "code",
   "execution_count": 20,
   "id": "528b4519",
   "metadata": {},
   "outputs": [],
   "source": [
    "individuals = encoder.get_individuals()"
   ]
  },
  {
   "cell_type": "code",
   "execution_count": 21,
   "id": "43084079",
   "metadata": {},
   "outputs": [],
   "source": [
    "for indi in individuals:\n",
    "    if indi.id not in patient_to_variant_d:\n",
    "        raise ValueError(f\"Error, individual id \\\"{indi.id}\\\" without variant data\")\n",
    "    var_list = patient_to_variant_d.get(indi.id)\n",
    "    if len(var_list) != 2:\n",
    "        raise ValueError(f\"Error, malformed variant list for {indi.id}\")\n",
    "    v1 = var_list[0]\n",
    "    v2 = var_list[1]\n",
    "    if v1 == v2:\n",
    "        if v1 == \"g.8783887_9068578del\":\n",
    "            #This is a whole-gene deletion\n",
    "            eri1_id = \"HGNC:23994\"\n",
    "            eri1_sumbol = \"ERI1\"\n",
    "            var = StructuralVariant.chromosomal_deletion(cell_contents=v1, gene_id=eri1_id, gene_symbol=eri1_sumbol)\n",
    "            var.set_homozygous()\n",
    "            indi.add_variant(var)\n",
    "        else:\n",
    "            vvar = validated_var_d.get(v1)\n",
    "            vvar.set_homozygous()\n",
    "            indi.add_variant(vvar)\n",
    "    else:\n",
    "        vvar1 = validated_var_d.get(v1)\n",
    "        vvar1.set_heterozygous()\n",
    "        indi.add_variant(vvar1)\n",
    "        vvar2 = validated_var_d.get(v2)\n",
    "        vvar2.set_heterozygous()\n",
    "        indi.add_variant(vvar2)     "
   ]
  },
  {
   "cell_type": "code",
   "execution_count": 22,
   "id": "c93c15c5-4d24-41ce-a860-b2d66f260ec3",
   "metadata": {},
   "outputs": [],
   "source": [
    "# Validation"
   ]
  },
  {
   "cell_type": "code",
   "execution_count": 23,
   "id": "e4a3fc0a-33e6-41c7-8186-64d53b45ade3",
   "metadata": {},
   "outputs": [
    {
     "data": {
      "text/html": [
       "<h2>Cohort validation</h2>\n",
       "<p>Errors found with 10 of 10 phenopackets.</p>\n",
       "<table style=\"border: 2px solid black; align: \"left\">\n",
       "<caption>Error counts</caption>\n",
       "<tr><th style=\"text-align: left;font-weight: bold;\">Level</th><th style=\"text-align: left;font-weight: bold;\">Error category</th><th style=\"text-align: left;font-weight: bold;\">Count</th></tr>\n",
       "<tr><td style=\"text-align: left;\">WARNING</td><td style=\"text-align: left;\">REDUNDANT</td><td style=\"text-align: left;\">5</td></tr>\n",
       "<tr><td style=\"text-align: left;\">INFORMATION</td><td style=\"text-align: left;\">NOT_MEASURED</td><td style=\"text-align: left;\">444</td></tr>\n",
       "</table>\n",
       "<p>A total of 457 issues were fixed and no individual was removed from the cohort.</p>"
      ],
      "text/plain": [
       "<IPython.core.display.HTML object>"
      ]
     },
     "metadata": {},
     "output_type": "display_data"
    }
   ],
   "source": [
    "cvalidator = CohortValidator(cohort=individuals, ontology=hpo_ontology, min_hpo=1, allelic_requirement=AllelicRequirement.BI_ALLELIC)\n",
    "qc = QcVisualizer(cohort_validator=cvalidator)\n",
    "display(HTML(qc.to_summary_html()))"
   ]
  },
  {
   "cell_type": "code",
   "execution_count": 24,
   "id": "56b4344e",
   "metadata": {},
   "outputs": [
    {
     "data": {
      "text/html": [
       "<table style=\"border: 2px solid black; align: \"left\">\n",
       "<caption>10 phenopackets - PMID:37352860 (n=10)</caption>\n",
       "<tr><th style=\"text-align: left;font-weight: bold;\">Individual</th><th style=\"text-align: left;font-weight: bold;\">Disease</th><th style=\"text-align: left;font-weight: bold;\">Genotype</th><th style=\"text-align: left;font-weight: bold;\">Phenotypic features</th></tr>\n",
       "<tr><td style=\"text-align: left;\">1A (FEMALE; P28Y)</td><td style=\"text-align: left;\">ERI1-related disease (OMIM: 608739)</td><td style=\"text-align: left;\"><ul> <li>NM_153332.4:c.450A>T (heterozygous)</li> <li>NM_153332.4:c.893A>G (heterozygous)</li> </ul></td><td style=\"text-align: left;\">Low-set ears (HP:0000369); Hydronephrosis (HP:0000126); Limited elbow extension (HP:0001377); Pes planus (HP:0001763); Dislocated radial head (HP:0003083); Scoliosis (HP:0002650); Narrow face (HP:0000275); Hip pain (HP:0030838); Long face (HP:0000276); Asthma (HP:0002099); Slender metacarpals (HP:0006236); Short stature (HP:0004322); Finger joint hypermobility (HP:0006094); Conductive hearing impairment (HP:0000405); Cutaneous syndactyly (HP:0012725); Increased vertebral height (HP:0004570); Coarse facial features (HP:0000280); Proptosis (HP:0000520); Hypernasal speech (HP:0001611); Vesicoureteral reflux (HP:0000076); Decreased body weight (HP:0004325); Clinodactyly of the 5th finger (HP:0004209); excluded: Platyspondyly (HP:0000926); excluded: Failure to thrive (HP:0001508)</td></tr>\n",
       "<tr><td style=\"text-align: left;\">1B (MALE; P26Y)</td><td style=\"text-align: left;\">ERI1-related disease (OMIM: 608739)</td><td style=\"text-align: left;\"><ul> <li>NM_153332.4:c.450A>T (heterozygous)</li> <li>NM_153332.4:c.893A>G (heterozygous)</li> </ul></td><td style=\"text-align: left;\">High palate (HP:0000218); Low-set ears (HP:0000369); Hydronephrosis (HP:0000126); Limited elbow extension (HP:0001377); Pes planus (HP:0001763); Pectus excavatum (HP:0000767); Upslanted palpebral fissure (HP:0000582); Scoliosis (HP:0002650); Narrow forehead (HP:0000341); Asthma (HP:0002099); Slender metacarpals (HP:0006236); Short stature (HP:0004322); Velopharyngeal insufficiency (HP:0000220); Conductive hearing impairment (HP:0000405); Cutaneous syndactyly (HP:0012725); Increased vertebral height (HP:0004570); Coarse facial features (HP:0000280); Hypernasal speech (HP:0001611); Vesicoureteral reflux (HP:0000076); Decreased body weight (HP:0004325); Hip dislocation (HP:0002827); Tapered finger (HP:0001182); Patellar dislocation (HP:0002999); excluded: Platyspondyly (HP:0000926); excluded: Failure to thrive (HP:0001508)</td></tr>\n",
       "<tr><td style=\"text-align: left;\">2 (MALE; P3Y6M)</td><td style=\"text-align: left;\">ERI1-related disease (OMIM: 608739)</td><td style=\"text-align: left;\"><ul> <li>NM_153332.4:c.464C>T (heterozygous)</li> <li>NM_153332.4:c.893A>C (heterozygous)</li> </ul></td><td style=\"text-align: left;\">Abnormal heart morphology (HP:0001627); Short stature (HP:0004322); Prominent forehead (HP:0011220); Depressed nasal bridge (HP:0005280); Micrognathia (HP:0000347); Cutaneous syndactyly (HP:0012725); Macrotia (HP:0000400); Narrow chest (HP:0000774); Pulmonary arterial hypertension (HP:0002092); Limb undergrowth (HP:0009826); Small for gestational age (HP:0001518); excluded: Platyspondyly (HP:0000926); excluded: Failure to thrive (HP:0001508)</td></tr>\n",
       "<tr><td style=\"text-align: left;\">3 (MALE; P3Y6M)</td><td style=\"text-align: left;\">ERI1-related disease (OMIM: 608739)</td><td style=\"text-align: left;\"><ul> <li>NM_153332.4:c.401A>G (heterozygous)</li> <li>NM_153332.4:c.895T>C (heterozygous)</li> </ul></td><td style=\"text-align: left;\">Short stature (HP:0004322); Platyspondyly (HP:0000926); Syndactyly (HP:0001159); Tricuspid regurgitation (HP:0005180); Small for gestational age (HP:0001518); Pulmonary arterial hypertension (HP:0002092); Oligodactyly (HP:0012165); excluded: Failure to thrive (HP:0001508)</td></tr>\n",
       "<tr><td style=\"text-align: left;\">4 (MALE; P2Y)</td><td style=\"text-align: left;\">ERI1-related disease (OMIM: 608739)</td><td style=\"text-align: left;\"><ul> <li>NM_153332.4:c.464C>T (heterozygous)</li> <li>NM_153332.4:c.62C>A (heterozygous)</li> </ul></td><td style=\"text-align: left;\">Low-set ears (HP:0000369); Hydronephrosis (HP:0000126); Frontal bossing (HP:0002007); Delayed speech and language development (HP:0000750); Wormian bones (HP:0002645); Micrognathia (HP:0000347); Motor delay (HP:0001270); Intrauterine growth retardation (HP:0001511); Osteopenia (HP:0000938); Trigonocephaly (HP:0000243); Global developmental delay (HP:0001263); Pectus carinatum (HP:0000768); Short stature (HP:0004322); Failure to thrive (HP:0001508); Vesicoureteral reflux (HP:0000076); Abnormal heart morphology (HP:0001627); Generalized hypotonia (HP:0001290); Sparse hair (HP:0008070); Syndactyly (HP:0001159); Delayed skeletal maturation (HP:0002750)</td></tr>\n",
       "<tr><td style=\"text-align: left;\">5 (FEMALE; P8Y)</td><td style=\"text-align: left;\">ERI1-related disease (OMIM: 608739)</td><td style=\"text-align: left;\">NM_153332.4:c.514C>T (homozygous)</td><td style=\"text-align: left;\">Syndactyly (HP:0001159); Narrow forehead (HP:0000341); Inguinal hernia (HP:0000023); Ventricular septal defect (HP:0001629); Brachycephaly (HP:0000248); Anonychia (HP:0001798); Global developmental delay (HP:0001263); Autism (HP:0000717); excluded: Scoliosis (HP:0002650); excluded: Increased vertebral height (HP:0004570); excluded: Pectus excavatum (HP:0000767); excluded: Platyspondyly (HP:0000926); excluded: Pectus carinatum (HP:0000768); excluded: Wormian bones (HP:0002645); excluded: Osteopenia (HP:0000938); excluded: Delayed skeletal maturation (HP:0002750); excluded: Decreased body weight (HP:0004325); excluded: Short stature (HP:0004322)</td></tr>\n",
       "<tr><td style=\"text-align: left;\">6 (MALE; P13Y)</td><td style=\"text-align: left;\">ERI1-related disease (OMIM: 608739)</td><td style=\"text-align: left;\">NM_153332.4:c.730C>T (homozygous)</td><td style=\"text-align: left;\">Low-set ears (HP:0000369); Strabismus (HP:0000486); Low anterior hairline (HP:0000294); Intellectual disability, mild (HP:0001256); excluded: Scoliosis (HP:0002650); excluded: Increased vertebral height (HP:0004570); excluded: Hip dislocation (HP:0002827); excluded: Patellar dislocation (HP:0002999); excluded: Pectus excavatum (HP:0000767); excluded: Platyspondyly (HP:0000926); excluded: Pectus carinatum (HP:0000768); excluded: Wormian bones (HP:0002645); excluded: Osteopenia (HP:0000938); excluded: Delayed skeletal maturation (HP:0002750); excluded: Decreased body weight (HP:0004325); excluded: Short stature (HP:0004322)</td></tr>\n",
       "<tr><td style=\"text-align: left;\">7 (FEMALE; P7Y)</td><td style=\"text-align: left;\">ERI1-related disease (OMIM: 608739)</td><td style=\"text-align: left;\">NM_153332.4:c.582+1G>A (homozygous)</td><td style=\"text-align: left;\">Syndactyly (HP:0001159); Hydronephrosis (HP:0000126); Vesicoureteral reflux (HP:0000076); Epicanthus (HP:0000286); Intellectual disability, mild (HP:0001256); excluded: Increased vertebral height (HP:0004570); excluded: Hip dislocation (HP:0002827); excluded: Patellar dislocation (HP:0002999); excluded: Platyspondyly (HP:0000926); excluded: Pectus carinatum (HP:0000768); excluded: Wormian bones (HP:0002645); excluded: Osteopenia (HP:0000938); excluded: Delayed skeletal maturation (HP:0002750); excluded: Decreased body weight (HP:0004325); excluded: Short stature (HP:0004322)</td></tr>\n",
       "<tr><td style=\"text-align: left;\">Hoxha (FEMALE; P7Y)</td><td style=\"text-align: left;\">ERI1-related disease (OMIM: 608739)</td><td style=\"text-align: left;\">NM_153332.4:c.352A>T (homozygous)</td><td style=\"text-align: left;\">Intellectual disability (HP:0001249); Global developmental delay (HP:0001263); excluded: Failure to thrive (HP:0001508)</td></tr>\n",
       "<tr><td style=\"text-align: left;\">Choucair (MALE; P5Y)</td><td style=\"text-align: left;\">ERI1-related disease (OMIM: 608739)</td><td style=\"text-align: left;\">g.8783887_9068578del: chromosomal_deletion (SO:1000029)</td><td style=\"text-align: left;\">Syndactyly (HP:0001159); Abnormal heart morphology (HP:0001627); Short stature (HP:0004322); Intellectual disability (HP:0001249); Global developmental delay (HP:0001263)</td></tr>\n",
       "</table>"
      ],
      "text/plain": [
       "<IPython.core.display.HTML object>"
      ]
     },
     "metadata": {},
     "output_type": "display_data"
    }
   ],
   "source": [
    "table = PhenopacketTable(individual_list=individuals, metadata=metadata)\n",
    "display(HTML(table.to_html()))"
   ]
  },
  {
   "cell_type": "code",
   "execution_count": 25,
   "id": "5c7e6c9d",
   "metadata": {
    "scrolled": true
   },
   "outputs": [
    {
     "name": "stdout",
     "output_type": "stream",
     "text": [
      "We output 10 GA4GH phenopackets to the directory phenopackets\n"
     ]
    }
   ],
   "source": [
    "output_directory = \"phenopackets\"\n",
    "Individual.output_individuals_as_phenopackets(individual_list=individuals, \n",
    "                                             metadata=metadata,\n",
    "                                             outdir=output_directory)"
   ]
  },
  {
   "cell_type": "code",
   "execution_count": 26,
   "id": "33739618-8842-4c90-b00f-f1e8472012ab",
   "metadata": {},
   "outputs": [],
   "source": [
    "# pxf validate --hpo=hp.json *.json\n",
    "# no errors"
   ]
  }
 ],
 "metadata": {
  "kernelspec": {
   "display_name": "Python 3 (ipykernel)",
   "language": "python",
   "name": "python3"
  },
  "language_info": {
   "codemirror_mode": {
    "name": "ipython",
    "version": 3
   },
   "file_extension": ".py",
   "mimetype": "text/x-python",
   "name": "python",
   "nbconvert_exporter": "python",
   "pygments_lexer": "ipython3",
   "version": "3.8.10"
  }
 },
 "nbformat": 4,
 "nbformat_minor": 5
}
