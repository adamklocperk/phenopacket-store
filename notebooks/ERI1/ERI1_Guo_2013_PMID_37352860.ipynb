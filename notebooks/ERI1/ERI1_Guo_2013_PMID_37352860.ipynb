{
 "cells": [
  {
   "cell_type": "markdown",
   "id": "14ee3127",
   "metadata": {},
   "source": [
    "<h1>ERI1: Guo et al 2013 </h1>\n",
    "<p>Extract the clinical data from <a href=\"https://pubmed.ncbi.nlm.nih.gov/37352860/\"target=\"__blank\">Guo L, et al. (2023) Null and missense mutations of ERI1 cause a recessive phenotypic dichotomy in humans. Am J Hum Genet.  PMID:37352860</a>.<p>\n",
    "<p>The authors report a phenotypic dichotomy associated with bi-allelic ERI1 variants by reporting eight affected individuals from seven unrelated families. A severe spondyloepimetaphyseal dysplasia (SEMD) was identified in five affected individuals with missense variants but not in those with bi-allelic null variants, who showed mild intellectual disability and digital anomalies.</p>"
   ]
  },
  {
   "cell_type": "code",
   "execution_count": 1,
   "id": "3d9c8a7f",
   "metadata": {},
   "outputs": [
    {
     "name": "stdout",
     "output_type": "stream",
     "text": [
      "Using pyphetools version 0.8.21\n"
     ]
    }
   ],
   "source": [
    "import phenopackets as php\n",
    "from google.protobuf.json_format import MessageToDict, MessageToJson\n",
    "from google.protobuf.json_format import Parse, ParseDict\n",
    "import pandas as pd\n",
    "import math\n",
    "from csv import DictReader\n",
    "pd.set_option('display.max_colwidth', None) # show entire column contents, important!\n",
    "from collections import defaultdict\n",
    "import re\n",
    "from pyphetools.creation import *\n",
    "from pyphetools.visualization import PhenopacketTable, QcVisualizer\n",
    "from pyphetools.validation import *\n",
    "import pyphetools\n",
    "print(f\"Using pyphetools version {pyphetools.__version__}\")"
   ]
  },
  {
   "cell_type": "code",
   "execution_count": 2,
   "id": "3d06141b",
   "metadata": {},
   "outputs": [],
   "source": [
    "parser = HpoParser()\n",
    "hpo_cr = parser.get_hpo_concept_recognizer()\n",
    "hpo_version = parser.get_version()\n",
    "hpo_ontology = parser.get_ontology()\n",
    "PMID=\"PMID:37352860\"\n",
    "title = \"Null and missense mutations of ERI1 cause a recessive phenotypic dichotomy in humans\"\n",
    "metadata = MetaData(created_by=\"ORCID:0000-0002-0736-9199\", pmid=PMID, pubmed_title=title)\n",
    "metadata.default_versions_with_hpo(version=hpo_version)"
   ]
  },
  {
   "cell_type": "code",
   "execution_count": 3,
   "id": "1f2ca0a7",
   "metadata": {},
   "outputs": [],
   "source": [
    "df = pd.read_excel(\"input/Guo_2023.xlsx\")"
   ]
  },
  {
   "cell_type": "code",
   "execution_count": 4,
   "id": "5c8b8006",
   "metadata": {},
   "outputs": [],
   "source": [
    "patient_id = df.columns"
   ]
  },
  {
   "cell_type": "code",
   "execution_count": 5,
   "id": "771713c5",
   "metadata": {},
   "outputs": [],
   "source": [
    "df = df.set_index('Individual').T.reset_index()\n",
    "df[\"patient_id\"] = df[\"index\"]"
   ]
  },
  {
   "cell_type": "code",
   "execution_count": 6,
   "id": "9eefb904",
   "metadata": {},
   "outputs": [],
   "source": [
    "scg = SimpleColumnMapperGenerator(df=df,\n",
    "                                  observed='+',\n",
    "                                  excluded='-',\n",
    "                                  hpo_cr=hpo_cr)"
   ]
  },
  {
   "cell_type": "code",
   "execution_count": 7,
   "id": "2c585ebc",
   "metadata": {},
   "outputs": [],
   "source": [
    "column_mapper_d = scg.try_mapping_columns()"
   ]
  },
  {
   "cell_type": "code",
   "execution_count": 8,
   "id": "a1f215be",
   "metadata": {},
   "outputs": [
    {
     "data": {
      "text/html": [
       "<table style=\"border: 2px solid black;\">\n",
       "\n",
       "<tr>\n",
       "            <th>Result</th>\n",
       "            <th>Columns</th>\n",
       "        </tr>\n",
       "      \n",
       "<tr><td>Mapped</td><td>Syndactyly; Cardiac anomaly; Hydronephrosis; Vesicoureteral reflux; Asthma; Conductive hearing impairment; hypernasal speech; Dislocated radial head; Scoliosis; Hip pain; Short stature; Long face; Narrow face; proptosis; Coarse facies; Low-set ears; Limited elbow extension; Finger joint hypermobility; Clinodactyly of the 5th finger; Pes planus; Slender metacarpals; Increased vertebral height; Velopharyngeal insufficiency; Hip dislocation; Patellar dislocation; Narrow forehead; Upslanted palpebral fissure; High palate; Pectus excavatum; Tapered finger; Prominent forehead; Depressed nasal bridge; Micrognathia; Cutaneous syndactyly; Macrotia; Narrow chest; Pulmonary arterial hypertension; Oligodactyly; Tricuspid regurgitation; Platyspondyly; Intrauterine growth retardation; Motor delay; Failure to thrive; Trigonocephaly; Frontal bossing; Sparse hair; Pectus carinatum; Wormian bones; Osteopenia; Delayed skeletal maturation; Inguinal hernia; Ventricular septal defect; Brachycephaly; Anonychia; Strabismus; Low anterior hairline; Epicanthus</td></tr>\n",
       "<tr><td>Unmapped</td><td><q>index</q>; <q>DNA</q>; <q>Protein</q>; <q>Sex</q>; <q>Age at last follow-up</q>; <q>Weight</q>; <q>Height</q>; <q>Consanguinity</q>; <q>Fetal ultrasound</q>; <q>Gestation age</q>; <q>Birth weight</q>; <q>Birth length</q>; <q>Spine anomaly</q>; <q>Metaphyseal anomaly</q>; <q>Epiphyseal anomaly</q>; <q>Brachydactyly/clinodactyly/camptodactyly</q>; <q>Intellectual disability/developmental delay</q>; <q>Zygomatic hypoplasia</q>; <q>Posteriorly rotated ear</q>; <q>Cupped ear </q>; <q>patient_id</q></td></tr>\n",
       "</table>\n"
      ],
      "text/plain": [
       "<IPython.core.display.HTML object>"
      ]
     },
     "metadata": {},
     "output_type": "display_data"
    }
   ],
   "source": [
    "from IPython.display import display, HTML\n",
    "display(HTML(scg.to_html()))"
   ]
  },
  {
   "cell_type": "code",
   "execution_count": 9,
   "id": "23b8f381",
   "metadata": {},
   "outputs": [],
   "source": [
    "# Now get the unmapped columns and try option mappers\n",
    "# The following was only needed to write the notebook\n",
    "# unmapped_columns = scg.get_unmapped_columns()\n",
    "# omit_columns = set(column_mapper_d.keys())\n",
    "# omit_columns.update(['index','DNA','Protein','Age at last follow-up','Consanguinity'])\n",
    "# auto_results = OptionColumnMapper.autoformat(df=df, concept_recognizer=hpo_cr, omit_columns=omit_columns)\n",
    "# print(auto_results)"
   ]
  },
  {
   "cell_type": "code",
   "execution_count": 10,
   "id": "9ede0bd6",
   "metadata": {},
   "outputs": [],
   "source": [
    "weight_d = {'24\\xa0kg (−5 SD)': 'Decreased body weight',\n",
    " '26\\xa0kg (−5 SD)': 'Decreased body weight',\n",
    " '3.3\\xa0kg (- 4 SD)': 'Decreased body weight',\n",
    " 'failure to thrive': 'Failure to thrive'}\n",
    "excluded_d = {\n",
    "    '22\\xa0kg (8th centile)': 'Decreased body weight',\n",
    "    '62\\xa0kg (85th centile)': 'Decreased body weight',\n",
    "    '27.6\\xa0kg (50th centile)': 'Decreased body weight',\n",
    "    'normal': 'Failure to thrive',\n",
    "}\n",
    "weightMapper = OptionColumnMapper(concept_recognizer=hpo_cr, option_d=weight_d,\n",
    "                                 excluded_d=excluded_d)\n",
    "weightMapper.preview_column(df['Weight'])\n",
    "column_mapper_d['Weight'] = weightMapper"
   ]
  },
  {
   "cell_type": "code",
   "execution_count": 11,
   "id": "a54cf9ec",
   "metadata": {},
   "outputs": [],
   "source": [
    "height_d = {'112\\xa0cm (−8 SD)': 'Short stature',\n",
    " '128\\xa0cm (−7 SD)': 'Short stature',\n",
    " '50.3\\xa0cm (−5 SD)': 'Short stature',\n",
    " 'short stature': 'Short stature',\n",
    " \n",
    " '105\\xa0cm (<3rd centile)': 'Short stature'}\n",
    "\n",
    "excluded_d = {\n",
    "    '130.8\\xa0cm (46th centile)': 'Short stature',\n",
    " '155\\xa0cm (25th centile)': 'Short stature',\n",
    " '130\\xa0cm (90th centile)': 'Short stature',\n",
    "}\n",
    "heightMapper = OptionColumnMapper(concept_recognizer=hpo_cr, option_d=height_d,\n",
    "                                excluded_d=excluded_d)\n",
    "heightMapper.preview_column(df['Height'])\n",
    "column_mapper_d['Height'] = heightMapper"
   ]
  },
  {
   "cell_type": "code",
   "execution_count": 12,
   "id": "5b0aae33",
   "metadata": {},
   "outputs": [],
   "source": [
    "fetal_ultrasound_d = {'hydronephrosis': 'Hydronephrosis',\n",
    " 'short limbs': 'Limb undergrowth',\n",
    " 'severe IUGR': 'Intrauterine growth retardation',\n",
    " }\n",
    "excluded = {\n",
    "    'unremarkable': 'Intrauterine growth retardation'\n",
    "}\n",
    "fetal_ultrasoundMapper = OptionColumnMapper(concept_recognizer=hpo_cr, option_d=fetal_ultrasound_d)\n",
    "fetal_ultrasoundMapper.preview_column(df['Fetal ultrasound'])\n",
    "column_mapper_d['Fetal ultrasound'] = fetal_ultrasoundMapper"
   ]
  },
  {
   "cell_type": "code",
   "execution_count": 13,
   "id": "7c592383",
   "metadata": {},
   "outputs": [],
   "source": [
    "birth_weight_d = {\n",
    " '2180\\xa0g (−3.2 SD)': 'Small for gestational age',\n",
    " '000\\xa0g (−3.3 SD)': 'Small for gestational age',}\n",
    "birth_weightMapper = OptionColumnMapper(concept_recognizer=hpo_cr, option_d=birth_weight_d)\n",
    "birth_weightMapper.preview_column(df['Birth weight'])\n",
    "column_mapper_d['Birth weight'] = birth_weightMapper"
   ]
  },
  {
   "cell_type": "code",
   "execution_count": 14,
   "id": "20695fa0",
   "metadata": {},
   "outputs": [],
   "source": [
    "# Omitting these because we manually curated detailed phenotypes and added them to the input table\n",
    "#spine_anomaly_d \n",
    "#metaphyseal_anomaly_d = {'nan': 'PLACEHOLDER'}\n",
    "#epiphyseal_anomaly_d = {'+ (wrists)': 'PLACEHOLDER'}"
   ]
  },
  {
   "cell_type": "code",
   "execution_count": 15,
   "id": "3025ad6f",
   "metadata": {},
   "outputs": [],
   "source": [
    "id_gdd_d = {\n",
    " 'Motor delay': 'Motor delay',\n",
    " 'Delayed speech and language development': 'Delayed speech and language development',\n",
    " 'generalized hypotonia': 'Generalized hypotonia',\n",
    " 'Global developmental delay': 'Global developmental delay',\n",
    " 'Autism': 'Autism',\n",
    " 'Intellectual disability mild': 'Intellectual disability, mild',}\n",
    "id_gddMapper = OptionColumnMapper(concept_recognizer=hpo_cr, option_d=id_gdd_d)\n",
    "id_gddMapper.preview_column(df['Intellectual disability/developmental delay'])\n",
    "column_mapper_d['Intellectual disability/developmental delay'] = id_gddMapper"
   ]
  },
  {
   "cell_type": "markdown",
   "id": "91805b6e",
   "metadata": {},
   "source": [
    "<H2>Variants</H2>"
   ]
  },
  {
   "cell_type": "code",
   "execution_count": 16,
   "id": "889ad993",
   "metadata": {},
   "outputs": [
    {
     "name": "stdout",
     "output_type": "stream",
     "text": [
      "We got 12 distinct variants.\n"
     ]
    }
   ],
   "source": [
    "patient_to_variant_d = defaultdict(list)\n",
    "variant_set = set()   \n",
    "for _, row in df.iterrows():\n",
    "    pat_id = str(row['patient_id']) # needed because some IDs come out as ints\n",
    "    dna_string = row['DNA']    \n",
    "    fields = dna_string.split(\";\")\n",
    "    if len(fields) != 2:\n",
    "        raise ValueError(f\"Malformed variant line {dna_string}\")\n",
    "    for var in fields:\n",
    "        variant_str = var.strip()\n",
    "        variant_str = re.sub(r\"(c.)?\\[\",\"\", variant_str)\n",
    "        variant_str = variant_str.replace(\"]\", \"\").strip()\n",
    "        if \"8783887\" in variant_str:  # this is the structural variant\n",
    "            variant_set.add(\"g.8783887_9068578del\")\n",
    "            patient_to_variant_d[pat_id].append(\"g.8783887_9068578del\")\n",
    "        else:\n",
    "            variant_str = \"c.\" + variant_str\n",
    "            variant_set.add(variant_str)\n",
    "            patient_to_variant_d[pat_id].append(variant_str)\n",
    "print(f\"We got {len(variant_set)} distinct variants.\")"
   ]
  },
  {
   "cell_type": "code",
   "execution_count": 17,
   "id": "b955a529",
   "metadata": {},
   "outputs": [],
   "source": [
    "validator = VariantValidator(genome_build='hg38', transcript=\"NM_153332.4\")\n",
    "validated_var_d = defaultdict()"
   ]
  },
  {
   "cell_type": "code",
   "execution_count": 18,
   "id": "12eea9ce",
   "metadata": {},
   "outputs": [
    {
     "name": "stdout",
     "output_type": "stream",
     "text": [
      "Validating c.514C>T\n",
      "https://rest.variantvalidator.org/VariantValidator/variantvalidator/hg38/NM_153332.4%3Ac.514C>T/NM_153332.4?content-type=application%2Fjson\n",
      "Validating c.464C>T\n",
      "https://rest.variantvalidator.org/VariantValidator/variantvalidator/hg38/NM_153332.4%3Ac.464C>T/NM_153332.4?content-type=application%2Fjson\n",
      "Validating g.8783887_9068578del\n",
      "Validating c.450A>T\n",
      "https://rest.variantvalidator.org/VariantValidator/variantvalidator/hg38/NM_153332.4%3Ac.450A>T/NM_153332.4?content-type=application%2Fjson\n",
      "Validating c.352A>T\n",
      "https://rest.variantvalidator.org/VariantValidator/variantvalidator/hg38/NM_153332.4%3Ac.352A>T/NM_153332.4?content-type=application%2Fjson\n",
      "Validating c.401A>G\n",
      "https://rest.variantvalidator.org/VariantValidator/variantvalidator/hg38/NM_153332.4%3Ac.401A>G/NM_153332.4?content-type=application%2Fjson\n",
      "Validating c.582+1G>A\n",
      "https://rest.variantvalidator.org/VariantValidator/variantvalidator/hg38/NM_153332.4%3Ac.582+1G>A/NM_153332.4?content-type=application%2Fjson\n",
      "Validating c.730C>T\n",
      "https://rest.variantvalidator.org/VariantValidator/variantvalidator/hg38/NM_153332.4%3Ac.730C>T/NM_153332.4?content-type=application%2Fjson\n",
      "Validating c.62C>A\n",
      "https://rest.variantvalidator.org/VariantValidator/variantvalidator/hg38/NM_153332.4%3Ac.62C>A/NM_153332.4?content-type=application%2Fjson\n",
      "Validating c.893A>G\n",
      "https://rest.variantvalidator.org/VariantValidator/variantvalidator/hg38/NM_153332.4%3Ac.893A>G/NM_153332.4?content-type=application%2Fjson\n",
      "Validating c.895T>C\n",
      "https://rest.variantvalidator.org/VariantValidator/variantvalidator/hg38/NM_153332.4%3Ac.895T>C/NM_153332.4?content-type=application%2Fjson\n",
      "Validating c.893A>C\n",
      "https://rest.variantvalidator.org/VariantValidator/variantvalidator/hg38/NM_153332.4%3Ac.893A>C/NM_153332.4?content-type=application%2Fjson\n",
      "We got 12 variant objects\n"
     ]
    }
   ],
   "source": [
    "for var in variant_set:\n",
    "    print(f\"Validating {var}\")\n",
    "    if var == 'g.8783887_9068578del':\n",
    "        sv = StructuralVariant.chromosomal_deletion(cell_contents='Deletion exons 1-4',\n",
    "                 gene_symbol=\"ERI1\",\n",
    "                 gene_id=\"HGNC:23994\")\n",
    "        validated_var_d[var] = sv\n",
    "    else:\n",
    "        var_object = validator.encode_hgvs(hgvs=var)\n",
    "        validated_var_d[var] = var_object\n",
    "print(f\"We got {len(validated_var_d)} variant objects\")"
   ]
  },
  {
   "cell_type": "code",
   "execution_count": 19,
   "id": "034417a3",
   "metadata": {},
   "outputs": [],
   "source": [
    "ageMapper = AgeColumnMapper.by_year('Age at last follow-up')\n",
    "#ageMapper.preview_column(df['Age at last follow-up'])\n",
    "sexMapper = SexColumnMapper(male_symbol='M', female_symbol='F', column_name='Sex')\n",
    "#sexMapper.preview_column(df['Sex'])"
   ]
  },
  {
   "cell_type": "markdown",
   "id": "dc6c2845",
   "metadata": {},
   "source": [
    "<h2>Disease diagnosis</h2>\n",
    "<p>Diseases related to ERI1 are currenttly not represented in OMIM. For this reason, we represent the diagnosis as preliminary below. The authors write:  SEMD was present in the five individuals with at least one missense variant (Table 1). In contrast, three individuals with ERI1 null mutations and the Eri1 KO mice showed a much milder skeletal phenotype without any evidence for SEMD, consistent with the two individuals reported previously, who had homozygous a 284 kb deletion and p.Lys118∗. Notably, of the five individuals with SEMD, three died within 2 years after birth, suggesting missense variants lead to a poor prognosis.</p>"
   ]
  },
  {
   "cell_type": "code",
   "execution_count": 20,
   "id": "8105d0f1",
   "metadata": {},
   "outputs": [],
   "source": [
    "encoder = CohortEncoder(df=df, \n",
    "                        hpo_cr=hpo_cr, \n",
    "                        column_mapper_d=column_mapper_d, \n",
    "                        individual_column_name=\"patient_id\", \n",
    "                        agemapper=ageMapper, \n",
    "                        sexmapper=sexMapper,\n",
    "                        pmid=PMID,\n",
    "                        metadata=metadata)\n",
    "eri1 = Disease(disease_id='OMIM: 608739', disease_label='ERI1-related disease')\n",
    "encoder.set_disease(eri1)"
   ]
  },
  {
   "cell_type": "code",
   "execution_count": 21,
   "id": "528b4519",
   "metadata": {},
   "outputs": [],
   "source": [
    "individuals = encoder.get_individuals()"
   ]
  },
  {
   "cell_type": "code",
   "execution_count": 22,
   "id": "43084079",
   "metadata": {},
   "outputs": [],
   "source": [
    "for indi in individuals:\n",
    "    if indi.id not in patient_to_variant_d:\n",
    "        raise ValueError(f\"Error, individual id \\\"{indi.id}\\\" without variant data\")\n",
    "    var_list = patient_to_variant_d.get(indi.id)\n",
    "    if len(var_list) != 2:\n",
    "        raise ValueError(f\"Error, malformed variant list for {indi.id}\")\n",
    "    v1 = var_list[0]\n",
    "    v2 = var_list[1]\n",
    "    if v1 == v2:\n",
    "        if v1 == \"g.8783887_9068578del\":\n",
    "            #This is a whole-gene deletion\n",
    "            eri1_id = \"HGNC:23994\"\n",
    "            eri1_sumbol = \"ERI1\"\n",
    "            var = StructuralVariant.chromosomal_deletion(cell_contents=v1, gene_id=eri1_id, gene_symbol=eri1_sumbol)\n",
    "            var.set_homozygous()\n",
    "            indi.add_variant(var)\n",
    "        else:\n",
    "            vvar = validated_var_d.get(v1)\n",
    "            vvar.set_homozygous()\n",
    "            indi.add_variant(vvar)\n",
    "    else:\n",
    "        vvar1 = validated_var_d.get(v1)\n",
    "        vvar1.set_heterozygous()\n",
    "        indi.add_variant(vvar1)\n",
    "        vvar2 = validated_var_d.get(v2)\n",
    "        vvar2.set_heterozygous()\n",
    "        indi.add_variant(vvar2)     "
   ]
  },
  {
   "cell_type": "code",
   "execution_count": 23,
   "id": "c93c15c5-4d24-41ce-a860-b2d66f260ec3",
   "metadata": {},
   "outputs": [],
   "source": [
    "# Validation"
   ]
  },
  {
   "cell_type": "code",
   "execution_count": 24,
   "id": "2ba9d3ec-c801-4dca-b10e-4880a2929194",
   "metadata": {},
   "outputs": [
    {
     "data": {
      "text/html": [
       "<h2>Cohort validation</h2>\n",
       "<p>Errors found with 6 of 10 phenopackets.</p>\n",
       "<table style=\"border: 2px solid black; align: \"left\">\n",
       "<caption>Error analysis</caption>\n",
       "<tr><th style=\"text-align: left;font-weight: bold;\">ID</th><th style=\"text-align: left;font-weight: bold;\">Level</th><th style=\"text-align: left;font-weight: bold;\">Category</th><th style=\"text-align: left;font-weight: bold;\">Message</th><th style=\"text-align: left;font-weight: bold;\">HPO Term</th></tr>\n",
       "<tr><td style=\"text-align: left;\">PMID_37352860_5</td><td style=\"text-align: left;\">WARNING</td><td style=\"text-align: left;\">REDUNDANT</td><td style=\"text-align: left;\"><b>Abnormal heart morphology</b> is redundant because of <b>Ventricular septal defect</b></td><td style=\"text-align: left;\">Abnormal heart morphology (HP:0001627)</td></tr>\n",
       "<tr><td style=\"text-align: left;\">PMID_37352860_3</td><td style=\"text-align: left;\">WARNING</td><td style=\"text-align: left;\">REDUNDANT</td><td style=\"text-align: left;\"><b>Decreased body weight</b> is redundant because of <b>Small for gestational age</b></td><td style=\"text-align: left;\">Decreased body weight (HP:0004325)</td></tr>\n",
       "<tr><td style=\"text-align: left;\">PMID_37352860_4</td><td style=\"text-align: left;\">WARNING</td><td style=\"text-align: left;\">REDUNDANT</td><td style=\"text-align: left;\"><b>Failure to thrive</b> is listed multiple times</td><td style=\"text-align: left;\">Failure to thrive (HP:0001508)</td></tr>\n",
       "<tr><td style=\"text-align: left;\">PMID_37352860_1A</td><td style=\"text-align: left;\">WARNING</td><td style=\"text-align: left;\">REDUNDANT</td><td style=\"text-align: left;\"><b>Hydronephrosis</b> is listed multiple times</td><td style=\"text-align: left;\">Hydronephrosis (HP:0000126)</td></tr>\n",
       "<tr><td style=\"text-align: left;\">PMID_37352860_1B</td><td style=\"text-align: left;\">WARNING</td><td style=\"text-align: left;\">REDUNDANT</td><td style=\"text-align: left;\"><b>Hydronephrosis</b> is listed multiple times</td><td style=\"text-align: left;\">Hydronephrosis (HP:0000126)</td></tr>\n",
       "<tr><td style=\"text-align: left;\">PMID_37352860_4</td><td style=\"text-align: left;\">WARNING</td><td style=\"text-align: left;\">REDUNDANT</td><td style=\"text-align: left;\"><b>Intrauterine growth retardation</b> is listed multiple times</td><td style=\"text-align: left;\">Intrauterine growth retardation (HP:0001511)</td></tr>\n",
       "<tr><td style=\"text-align: left;\">PMID_37352860_4</td><td style=\"text-align: left;\">WARNING</td><td style=\"text-align: left;\">REDUNDANT</td><td style=\"text-align: left;\"><b>Motor delay</b> is listed multiple times</td><td style=\"text-align: left;\">Motor delay (HP:0001270)</td></tr>\n",
       "<tr><td style=\"text-align: left;\">PMID_37352860_1A</td><td style=\"text-align: left;\">WARNING</td><td style=\"text-align: left;\">REDUNDANT</td><td style=\"text-align: left;\"><b>Short stature</b> is listed multiple times</td><td style=\"text-align: left;\">Short stature (HP:0004322)</td></tr>\n",
       "<tr><td style=\"text-align: left;\">PMID_37352860_3</td><td style=\"text-align: left;\">WARNING</td><td style=\"text-align: left;\">REDUNDANT</td><td style=\"text-align: left;\"><b>Short stature</b> is listed multiple times</td><td style=\"text-align: left;\">Short stature (HP:0004322)</td></tr>\n",
       "<tr><td style=\"text-align: left;\">PMID_37352860_4</td><td style=\"text-align: left;\">WARNING</td><td style=\"text-align: left;\">REDUNDANT</td><td style=\"text-align: left;\"><b>Short stature</b> is listed multiple times</td><td style=\"text-align: left;\">Short stature (HP:0004322)</td></tr>\n",
       "<tr><td style=\"text-align: left;\">PMID_37352860_1A</td><td style=\"text-align: left;\">WARNING</td><td style=\"text-align: left;\">REDUNDANT</td><td style=\"text-align: left;\"><b>Syndactyly</b> is redundant because of <b>Cutaneous syndactyly</b></td><td style=\"text-align: left;\">Syndactyly (HP:0001159)</td></tr>\n",
       "<tr><td style=\"text-align: left;\">PMID_37352860_1B</td><td style=\"text-align: left;\">WARNING</td><td style=\"text-align: left;\">REDUNDANT</td><td style=\"text-align: left;\"><b>Syndactyly</b> is redundant because of <b>Cutaneous syndactyly</b></td><td style=\"text-align: left;\">Syndactyly (HP:0001159)</td></tr>\n",
       "<tr><td style=\"text-align: left;\">PMID_37352860_2</td><td style=\"text-align: left;\">WARNING</td><td style=\"text-align: left;\">REDUNDANT</td><td style=\"text-align: left;\"><b>Syndactyly</b> is redundant because of <b>Cutaneous syndactyly</b></td><td style=\"text-align: left;\">Syndactyly (HP:0001159)</td></tr>\n",
       "</table>"
      ],
      "text/plain": [
       "<IPython.core.display.HTML object>"
      ]
     },
     "metadata": {},
     "output_type": "display_data"
    }
   ],
   "source": [
    "cvalidator = CohortValidator(cohort=individuals, ontology=hpo_ontology, min_hpo=1, allelic_requirement=AllelicRequirement.BI_ALLELIC)\n",
    "validated_individuals = cvalidator.get_validated_individual_list()\n",
    "qc = QcVisualizer(ontology=hpo_ontology)\n",
    "display(HTML(qc.to_html(validated_individuals)))"
   ]
  },
  {
   "cell_type": "code",
   "execution_count": null,
   "id": "a6d1880b-635b-459f-a766-62314f092bcf",
   "metadata": {},
   "outputs": [],
   "source": [
    "# Fix the errors"
   ]
  },
  {
   "cell_type": "code",
   "execution_count": 25,
   "id": "f78bcd67-d87c-4d0a-b8c9-1507b6d57b72",
   "metadata": {},
   "outputs": [
    {
     "data": {
      "text/html": [
       "<h2>Cohort validation</h2>\n",
       "<p>No errors found for the cohort with 10 individuals</p>"
      ],
      "text/plain": [
       "<IPython.core.display.HTML object>"
      ]
     },
     "metadata": {},
     "output_type": "display_data"
    }
   ],
   "source": [
    "individuals = [vi.get_individual_with_clean_terms() for vi in validated_individuals]\n",
    "cvalidator = CohortValidator(cohort=individuals, ontology=hpo_ontology, min_hpo=1, allelic_requirement=AllelicRequirement.BI_ALLELIC)\n",
    "validated_individuals = cvalidator.get_validated_individual_list()\n",
    "qc = QcVisualizer(ontology=hpo_ontology)\n",
    "display(HTML(qc.to_html(validated_individuals)))"
   ]
  },
  {
   "cell_type": "code",
   "execution_count": 26,
   "id": "56b4344e",
   "metadata": {},
   "outputs": [
    {
     "data": {
      "text/html": [
       "<table style=\"border: 2px solid black; align: \"left\">\n",
       "<caption>10 phenopackets - PMID:37352860 (n=10)</caption>\n",
       "<tr><th style=\"text-align: left;font-weight: bold;\">Individual</th><th style=\"text-align: left;font-weight: bold;\">Disease</th><th style=\"text-align: left;font-weight: bold;\">Genotype</th><th style=\"text-align: left;font-weight: bold;\">Phenotypic features</th></tr>\n",
       "<tr><td style=\"text-align: left;\">1A (FEMALE; P28Y)</td><td style=\"text-align: left;\">ERI1-related disease (OMIM: 608739)</td><td style=\"text-align: left;\"><ul> <li>NM_153332.4:c.450A>T (heterozygous)</li> <li>NM_153332.4:c.893A>G (heterozygous)</li> </ul></td><td style=\"text-align: left;\">Vesicoureteral reflux (HP:0000076); Asthma (HP:0002099); Conductive hearing impairment (HP:0000405); Hypernasal speech (HP:0001611); Dislocated radial head (HP:0003083); Scoliosis (HP:0002650); Hip pain (HP:0030838); Long face (HP:0000276); Narrow face (HP:0000275); Proptosis (HP:0000520); Coarse facial features (HP:0000280); Low-set ears (HP:0000369); Limited elbow extension (HP:0001377); Finger joint hypermobility (HP:0006094); Clinodactyly of the 5th finger (HP:0004209); Pes planus (HP:0001763); Slender metacarpals (HP:0006236); Increased vertebral height (HP:0004570); Cutaneous syndactyly (HP:0012725); Decreased body weight (HP:0004325); Short stature (HP:0004322); Hydronephrosis (HP:0000126); excluded: Platyspondyly (HP:0000926); excluded: Failure to thrive (HP:0001508)</td></tr>\n",
       "<tr><td style=\"text-align: left;\">1B (MALE; P26Y)</td><td style=\"text-align: left;\">ERI1-related disease (OMIM: 608739)</td><td style=\"text-align: left;\"><ul> <li>NM_153332.4:c.450A>T (heterozygous)</li> <li>NM_153332.4:c.893A>G (heterozygous)</li> </ul></td><td style=\"text-align: left;\">Vesicoureteral reflux (HP:0000076); Asthma (HP:0002099); Conductive hearing impairment (HP:0000405); Hypernasal speech (HP:0001611); Scoliosis (HP:0002650); Coarse facial features (HP:0000280); Low-set ears (HP:0000369); Limited elbow extension (HP:0001377); Pes planus (HP:0001763); Slender metacarpals (HP:0006236); Increased vertebral height (HP:0004570); Velopharyngeal insufficiency (HP:0000220); Hip dislocation (HP:0002827); Patellar dislocation (HP:0002999); Narrow forehead (HP:0000341); Upslanted palpebral fissure (HP:0000582); High palate (HP:0000218); Pectus excavatum (HP:0000767); Tapered finger (HP:0001182); Cutaneous syndactyly (HP:0012725); Decreased body weight (HP:0004325); Short stature (HP:0004322); Hydronephrosis (HP:0000126); excluded: Platyspondyly (HP:0000926); excluded: Failure to thrive (HP:0001508)</td></tr>\n",
       "<tr><td style=\"text-align: left;\">2 (MALE; P3Y6M)</td><td style=\"text-align: left;\">ERI1-related disease (OMIM: 608739)</td><td style=\"text-align: left;\"><ul> <li>NM_153332.4:c.464C>T (heterozygous)</li> <li>NM_153332.4:c.893A>C (heterozygous)</li> </ul></td><td style=\"text-align: left;\">Abnormal heart morphology (HP:0001627); Short stature (HP:0004322); Prominent forehead (HP:0011220); Depressed nasal bridge (HP:0005280); Micrognathia (HP:0000347); Cutaneous syndactyly (HP:0012725); Macrotia (HP:0000400); Narrow chest (HP:0000774); Pulmonary arterial hypertension (HP:0002092); Limb undergrowth (HP:0009826); Small for gestational age (HP:0001518); excluded: Platyspondyly (HP:0000926); excluded: Failure to thrive (HP:0001508)</td></tr>\n",
       "<tr><td style=\"text-align: left;\">3 (MALE; P3Y6M)</td><td style=\"text-align: left;\">ERI1-related disease (OMIM: 608739)</td><td style=\"text-align: left;\"><ul> <li>NM_153332.4:c.401A>G (heterozygous)</li> <li>NM_153332.4:c.895T>C (heterozygous)</li> </ul></td><td style=\"text-align: left;\">Syndactyly (HP:0001159); Pulmonary arterial hypertension (HP:0002092); Oligodactyly (HP:0012165); Tricuspid regurgitation (HP:0005180); Platyspondyly (HP:0000926); Short stature (HP:0004322); Small for gestational age (HP:0001518); excluded: Failure to thrive (HP:0001508)</td></tr>\n",
       "<tr><td style=\"text-align: left;\">4 (MALE; P2Y)</td><td style=\"text-align: left;\">ERI1-related disease (OMIM: 608739)</td><td style=\"text-align: left;\"><ul> <li>NM_153332.4:c.464C>T (heterozygous)</li> <li>NM_153332.4:c.62C>A (heterozygous)</li> </ul></td><td style=\"text-align: left;\">Syndactyly (HP:0001159); Abnormal heart morphology (HP:0001627); Hydronephrosis (HP:0000126); Vesicoureteral reflux (HP:0000076); Low-set ears (HP:0000369); Micrognathia (HP:0000347); Trigonocephaly (HP:0000243); Frontal bossing (HP:0002007); Sparse hair (HP:0008070); Pectus carinatum (HP:0000768); Wormian bones (HP:0002645); Osteopenia (HP:0000938); Delayed skeletal maturation (HP:0002750); Failure to thrive (HP:0001508); Short stature (HP:0004322); Intrauterine growth retardation (HP:0001511); Motor delay (HP:0001270); Delayed speech and language development (HP:0000750); Generalized hypotonia (HP:0001290); Global developmental delay (HP:0001263); excluded: Failure to thrive (HP:0001508); excluded: Short stature (HP:0004322)</td></tr>\n",
       "<tr><td style=\"text-align: left;\">5 (FEMALE; P8Y)</td><td style=\"text-align: left;\">ERI1-related disease (OMIM: 608739)</td><td style=\"text-align: left;\">NM_153332.4:c.514C>T (homozygous)</td><td style=\"text-align: left;\">Syndactyly (HP:0001159); Narrow forehead (HP:0000341); Inguinal hernia (HP:0000023); Ventricular septal defect (HP:0001629); Brachycephaly (HP:0000248); Anonychia (HP:0001798); Global developmental delay (HP:0001263); Autism (HP:0000717); excluded: Scoliosis (HP:0002650); excluded: Increased vertebral height (HP:0004570); excluded: Pectus excavatum (HP:0000767); excluded: Platyspondyly (HP:0000926); excluded: Pectus carinatum (HP:0000768); excluded: Wormian bones (HP:0002645); excluded: Osteopenia (HP:0000938); excluded: Delayed skeletal maturation (HP:0002750); excluded: Decreased body weight (HP:0004325); excluded: Short stature (HP:0004322)</td></tr>\n",
       "<tr><td style=\"text-align: left;\">6 (MALE; P13Y)</td><td style=\"text-align: left;\">ERI1-related disease (OMIM: 608739)</td><td style=\"text-align: left;\">NM_153332.4:c.730C>T (homozygous)</td><td style=\"text-align: left;\">Low-set ears (HP:0000369); Strabismus (HP:0000486); Low anterior hairline (HP:0000294); Intellectual disability, mild (HP:0001256); excluded: Scoliosis (HP:0002650); excluded: Increased vertebral height (HP:0004570); excluded: Hip dislocation (HP:0002827); excluded: Patellar dislocation (HP:0002999); excluded: Pectus excavatum (HP:0000767); excluded: Platyspondyly (HP:0000926); excluded: Pectus carinatum (HP:0000768); excluded: Wormian bones (HP:0002645); excluded: Osteopenia (HP:0000938); excluded: Delayed skeletal maturation (HP:0002750); excluded: Decreased body weight (HP:0004325); excluded: Short stature (HP:0004322)</td></tr>\n",
       "<tr><td style=\"text-align: left;\">7 (FEMALE; P7Y)</td><td style=\"text-align: left;\">ERI1-related disease (OMIM: 608739)</td><td style=\"text-align: left;\">NM_153332.4:c.582+1G>A (homozygous)</td><td style=\"text-align: left;\">Syndactyly (HP:0001159); Hydronephrosis (HP:0000126); Vesicoureteral reflux (HP:0000076); Epicanthus (HP:0000286); Intellectual disability, mild (HP:0001256); excluded: Increased vertebral height (HP:0004570); excluded: Hip dislocation (HP:0002827); excluded: Patellar dislocation (HP:0002999); excluded: Platyspondyly (HP:0000926); excluded: Pectus carinatum (HP:0000768); excluded: Wormian bones (HP:0002645); excluded: Osteopenia (HP:0000938); excluded: Delayed skeletal maturation (HP:0002750); excluded: Decreased body weight (HP:0004325); excluded: Short stature (HP:0004322)</td></tr>\n",
       "<tr><td style=\"text-align: left;\">Hoxha (FEMALE; P7Y)</td><td style=\"text-align: left;\">ERI1-related disease (OMIM: 608739)</td><td style=\"text-align: left;\">NM_153332.4:c.352A>T (homozygous)</td><td style=\"text-align: left;\">Intellectual disability (HP:0001249); Global developmental delay (HP:0001263); excluded: Failure to thrive (HP:0001508)</td></tr>\n",
       "<tr><td style=\"text-align: left;\">Choucair (MALE; P5Y)</td><td style=\"text-align: left;\">ERI1-related disease (OMIM: 608739)</td><td style=\"text-align: left;\">g.8783887_9068578del: chromosomal_deletion (SO:1000029)</td><td style=\"text-align: left;\">Syndactyly (HP:0001159); Abnormal heart morphology (HP:0001627); Short stature (HP:0004322); Intellectual disability (HP:0001249); Global developmental delay (HP:0001263)</td></tr>\n",
       "</table>"
      ],
      "text/plain": [
       "<IPython.core.display.HTML object>"
      ]
     },
     "metadata": {},
     "output_type": "display_data"
    }
   ],
   "source": [
    "from IPython.display import HTML, display\n",
    "\n",
    "phenopackets = [i.to_ga4gh_phenopacket(metadata=metadata.to_ga4gh()) for i in individuals]\n",
    "table = PhenopacketTable(phenopacket_list=phenopackets)\n",
    "display(HTML(table.to_html()))"
   ]
  },
  {
   "cell_type": "code",
   "execution_count": 27,
   "id": "5c7e6c9d",
   "metadata": {
    "scrolled": true
   },
   "outputs": [
    {
     "name": "stdout",
     "output_type": "stream",
     "text": [
      "We output 10 GA4GH phenopackets to the directory phenopackets\n"
     ]
    }
   ],
   "source": [
    "output_directory = \"phenopackets\"\n",
    "Individual.output_individuals_as_phenopackets(individual_list=individuals, \n",
    "                                             metadata=metadata,\n",
    "                                             outdir=output_directory)"
   ]
  },
  {
   "cell_type": "code",
   "execution_count": null,
   "id": "33739618-8842-4c90-b00f-f1e8472012ab",
   "metadata": {},
   "outputs": [],
   "source": [
    "# pxf validate --hpo=hp.json *.json\n",
    "# no errors"
   ]
  }
 ],
 "metadata": {
  "kernelspec": {
   "display_name": "Python 3 (ipykernel)",
   "language": "python",
   "name": "python3"
  },
  "language_info": {
   "codemirror_mode": {
    "name": "ipython",
    "version": 3
   },
   "file_extension": ".py",
   "mimetype": "text/x-python",
   "name": "python",
   "nbconvert_exporter": "python",
   "pygments_lexer": "ipython3",
   "version": "3.11.3"
  }
 },
 "nbformat": 4,
 "nbformat_minor": 5
}
