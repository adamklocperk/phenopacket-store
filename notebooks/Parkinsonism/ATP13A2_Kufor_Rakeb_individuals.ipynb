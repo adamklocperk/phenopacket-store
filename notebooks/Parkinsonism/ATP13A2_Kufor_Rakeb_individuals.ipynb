{
 "cells": [
  {
   "cell_type": "markdown",
   "id": "6eb3dd6f-aca5-4bc3-bc20-31fa48afad2c",
   "metadata": {},
   "source": [
    "# ATP13A2\n",
    "\n",
    "Variants in the gene for ATPase 13A2 (ATP13A2) are associated with \n",
    "- [Kufor-Rakeb syndrome](https://omim.org/entry/606693) \t\n",
    "- [Spastic paraplegia 78, autosomal recessive](https://omim.org/entry/617225)\n",
    "\n",
    "- This notebook collects information about individuals with Kufor-Rakeb syndrome."
   ]
  },
  {
   "cell_type": "markdown",
   "id": "9c43d199-da67-4414-9670-51b26b1d365c",
   "metadata": {},
   "source": [
    "# Variants\n",
    "The source publications used varying genome builds and transcripts to report variants. We have standardized to hg38 and NM_022089.4 (which is the MANE select transcript for ATP13A2). The following list provides details of cases where we had to map from other transcripts or builds.\n",
    "\n",
    "Note the following transcripts:\n",
    "- ENST00000326735.13 = NM_022089.4 (MANE select, ensembl canonical)\n",
    "- ENST00000341676.9: Transcript length: 3,681 bps, Translation length: 1,158 residues = NM_001141973.3 (This variant (2) uses an alternate in-frame splice site in the 5' coding region, compared to variant 1, resulting in a shorter protein (isoform 2). The transcript contains an upstream ORF that could encode a 103aa protein and may modulate translation from the downstream ORF encoding isoform 2.)\n",
    "\n",
    "- GRCh37:1:17316187:G:A -> NM_022089.4:c.2608C>T (Prashanth LK, First Report of Kufor-Rakeb Syndrome (PARK 9) from India, and a Novel Nonsense Mutation in ATP13A2 Gene. Mov Disord Clin Pract. 2015)\n",
    "- c.T2525C:p.L842P (ENST00000341676 is equivalent to Q9NQ11-2, NM_001141974.2) -> NM_001141974.3:c.2525T>C; NP_001135446.1:p.(Leu842Pro))-> NM_022089.4:c.2657T>C"
   ]
  },
  {
   "cell_type": "code",
   "execution_count": 1,
   "id": "7ef78f54-6bba-4445-adeb-bb7c1133e0e1",
   "metadata": {},
   "outputs": [
    {
     "name": "stdout",
     "output_type": "stream",
     "text": [
      "Using pyphetools version 0.9.44\n"
     ]
    }
   ],
   "source": [
    "import pandas as pd\n",
    "from IPython.display import display, HTML\n",
    "pd.set_option('display.max_colwidth', None) # show entire column contents, important!\n",
    "from collections import defaultdict\n",
    "from pyphetools.creation import *\n",
    "from pyphetools.visualization import IndividualTable, QcVisualizer\n",
    "from pyphetools.validation import *\n",
    "import pyphetools\n",
    "print(f\"Using pyphetools version {pyphetools.__version__}\")"
   ]
  },
  {
   "cell_type": "code",
   "execution_count": 2,
   "id": "8a5d2487-1cee-48da-9fd6-a15b2ada3448",
   "metadata": {},
   "outputs": [
    {
     "name": "stdout",
     "output_type": "stream",
     "text": [
      "HPO version 2024-02-08\n"
     ]
    }
   ],
   "source": [
    "parser = HpoParser(hpo_json_file=\"../hp.json\")\n",
    "hpo_cr = parser.get_hpo_concept_recognizer()\n",
    "hpo_version = parser.get_version()\n",
    "hpo_ontology = parser.get_ontology()\n",
    "created_by=\"ORCID:0000-0002-0736-9199\"\n",
    "print(f\"HPO version {hpo_version}\")"
   ]
  },
  {
   "cell_type": "code",
   "execution_count": 6,
   "id": "f6120e86-6794-4249-84bb-c114b536bdde",
   "metadata": {},
   "outputs": [
    {
     "data": {
      "text/html": [
       "<div>\n",
       "<style scoped>\n",
       "    .dataframe tbody tr th:only-of-type {\n",
       "        vertical-align: middle;\n",
       "    }\n",
       "\n",
       "    .dataframe tbody tr th {\n",
       "        vertical-align: top;\n",
       "    }\n",
       "\n",
       "    .dataframe thead th {\n",
       "        text-align: right;\n",
       "    }\n",
       "</style>\n",
       "<table border=\"1\" class=\"dataframe\">\n",
       "  <thead>\n",
       "    <tr style=\"text-align: right;\">\n",
       "      <th></th>\n",
       "      <th>PMID</th>\n",
       "      <th>title</th>\n",
       "      <th>individual_id</th>\n",
       "      <th>Comment</th>\n",
       "      <th>disease_id</th>\n",
       "      <th>disease_label</th>\n",
       "      <th>transcript</th>\n",
       "      <th>allele_1</th>\n",
       "      <th>allele_2</th>\n",
       "      <th>variant.comment</th>\n",
       "      <th>...</th>\n",
       "      <th>Bowel incontinence</th>\n",
       "      <th>Urinary incontinence</th>\n",
       "      <th>Spastic dysarthria</th>\n",
       "      <th>Dementia</th>\n",
       "      <th>Torticollis</th>\n",
       "      <th>Foot dorsiflexor weakness</th>\n",
       "      <th>Brisk reflexes</th>\n",
       "      <th>Babinski sign</th>\n",
       "      <th>Resting tremor</th>\n",
       "      <th>Miscellaneous</th>\n",
       "    </tr>\n",
       "  </thead>\n",
       "  <tbody>\n",
       "    <tr>\n",
       "      <th>0</th>\n",
       "      <td>str</td>\n",
       "      <td>str</td>\n",
       "      <td>str</td>\n",
       "      <td>optional str</td>\n",
       "      <td>str</td>\n",
       "      <td>str</td>\n",
       "      <td>str</td>\n",
       "      <td>HGVS str</td>\n",
       "      <td>HGVS str</td>\n",
       "      <td>optional str</td>\n",
       "      <td>...</td>\n",
       "      <td>HP:0002607</td>\n",
       "      <td>HP:0000020</td>\n",
       "      <td>HP:0002464</td>\n",
       "      <td>HP:0000726</td>\n",
       "      <td>HP:0000473</td>\n",
       "      <td>HP:0009027</td>\n",
       "      <td>HP:0001348</td>\n",
       "      <td>HP:0003487</td>\n",
       "      <td>HP:0002322</td>\n",
       "      <td>NaN</td>\n",
       "    </tr>\n",
       "    <tr>\n",
       "      <th>1</th>\n",
       "      <td>PMID:30838237</td>\n",
       "      <td>First Report of Kufor-Rakeb Syndrome (PARK 9) from India, and a Novel Nonsense Mutation in ATP13A2 Gene</td>\n",
       "      <td>18-year-old adolescent male</td>\n",
       "      <td>NaN</td>\n",
       "      <td>OMIM:606693</td>\n",
       "      <td>Kufor-Rakeb syndrome</td>\n",
       "      <td>NM_022089.4</td>\n",
       "      <td>c.2608C&gt;T</td>\n",
       "      <td>c.2608C&gt;T</td>\n",
       "      <td>p.Q826Ter</td>\n",
       "      <td>...</td>\n",
       "      <td>na</td>\n",
       "      <td>na</td>\n",
       "      <td>na</td>\n",
       "      <td>na</td>\n",
       "      <td>na</td>\n",
       "      <td>na</td>\n",
       "      <td>na</td>\n",
       "      <td>na</td>\n",
       "      <td>na</td>\n",
       "      <td>NaN</td>\n",
       "    </tr>\n",
       "  </tbody>\n",
       "</table>\n",
       "<p>2 rows × 37 columns</p>\n",
       "</div>"
      ],
      "text/plain": [
       "            PMID  \\\n",
       "0            str   \n",
       "1  PMID:30838237   \n",
       "\n",
       "                                                                                                     title  \\\n",
       "0                                                                                                      str   \n",
       "1  First Report of Kufor-Rakeb Syndrome (PARK 9) from India, and a Novel Nonsense Mutation in ATP13A2 Gene   \n",
       "\n",
       "                 individual_id       Comment   disease_id  \\\n",
       "0                          str  optional str          str   \n",
       "1  18-year-old adolescent male           NaN  OMIM:606693   \n",
       "\n",
       "          disease_label   transcript   allele_1   allele_2 variant.comment  \\\n",
       "0                   str          str   HGVS str   HGVS str    optional str   \n",
       "1  Kufor-Rakeb syndrome  NM_022089.4  c.2608C>T  c.2608C>T       p.Q826Ter   \n",
       "\n",
       "   ... Bowel incontinence Urinary incontinence Spastic dysarthria    Dementia  \\\n",
       "0  ...         HP:0002607           HP:0000020         HP:0002464  HP:0000726   \n",
       "1  ...                 na                   na                 na          na   \n",
       "\n",
       "  Torticollis Foot dorsiflexor weakness Brisk reflexes Babinski sign  \\\n",
       "0  HP:0000473                HP:0009027     HP:0001348    HP:0003487   \n",
       "1          na                        na             na            na   \n",
       "\n",
       "  Resting tremor Miscellaneous  \n",
       "0     HP:0002322           NaN  \n",
       "1             na           NaN  \n",
       "\n",
       "[2 rows x 37 columns]"
      ]
     },
     "execution_count": 6,
     "metadata": {},
     "output_type": "execute_result"
    }
   ],
   "source": [
    "df = pd.read_excel(\"input/ATP13A2_Kufor_Rakeb_individuals.xlsx\")\n",
    "df.head(2)"
   ]
  },
  {
   "cell_type": "code",
   "execution_count": 8,
   "id": "ab115219-841c-477b-a429-01fb68560e28",
   "metadata": {},
   "outputs": [
    {
     "name": "stdout",
     "output_type": "stream",
     "text": [
      "Created encoders for 37 fields\n"
     ]
    }
   ],
   "source": [
    "encoder = CaseTemplateEncoder(df=df, hpo_cr=hpo_cr, created_by=created_by)\n",
    "individuals = encoder.get_individuals()"
   ]
  },
  {
   "cell_type": "code",
   "execution_count": 9,
   "id": "7fb7f504-9a63-4760-a8e6-22afb262c290",
   "metadata": {},
   "outputs": [
    {
     "name": "stdout",
     "output_type": "stream",
     "text": [
      "[INFO] encoding variant \"c.2657T>C\"\n",
      "https://rest.variantvalidator.org/VariantValidator/variantvalidator/hg38/NM_022089.4%3Ac.2657T>C/NM_022089.4?content-type=application%2Fjson\n",
      "[INFO] encoding variant \"c.2608C>T\"\n",
      "https://rest.variantvalidator.org/VariantValidator/variantvalidator/hg38/NM_022089.4%3Ac.2608C>T/NM_022089.4?content-type=application%2Fjson\n",
      "[INFO] encoding variant \"c.3253del\"\n",
      "https://rest.variantvalidator.org/VariantValidator/variantvalidator/hg38/NM_022089.4%3Ac.3253del/NM_022089.4?content-type=application%2Fjson\n",
      "[INFO] encoding variant \"c.3176T>G\"\n",
      "https://rest.variantvalidator.org/VariantValidator/variantvalidator/hg38/NM_022089.4%3Ac.3176T>G/NM_022089.4?content-type=application%2Fjson\n"
     ]
    }
   ],
   "source": [
    "vmanager = VariantManager(df=df,\n",
    "                          individual_column_name=\"individual_id\",\n",
    "                          gene_symbol=\"ATP13A2\",\n",
    "                          transcript=\"NM_022089.4\",\n",
    "                          allele_1_column_name=\"allele_1\",\n",
    "                          allele_2_column_name=\"allele_2\")"
   ]
  },
  {
   "cell_type": "code",
   "execution_count": 10,
   "id": "804688e4-2c61-4e72-be8a-e3e8601ddc7a",
   "metadata": {},
   "outputs": [
    {
     "data": {
      "text/html": [
       "<div>\n",
       "<style scoped>\n",
       "    .dataframe tbody tr th:only-of-type {\n",
       "        vertical-align: middle;\n",
       "    }\n",
       "\n",
       "    .dataframe tbody tr th {\n",
       "        vertical-align: top;\n",
       "    }\n",
       "\n",
       "    .dataframe thead th {\n",
       "        text-align: right;\n",
       "    }\n",
       "</style>\n",
       "<table border=\"1\" class=\"dataframe\">\n",
       "  <thead>\n",
       "    <tr style=\"text-align: right;\">\n",
       "      <th></th>\n",
       "      <th>status</th>\n",
       "      <th>count</th>\n",
       "      <th>alleles</th>\n",
       "    </tr>\n",
       "  </thead>\n",
       "  <tbody>\n",
       "    <tr>\n",
       "      <th>0</th>\n",
       "      <td>mapped</td>\n",
       "      <td>4</td>\n",
       "      <td>c.2657T&gt;C, c.2608C&gt;T, c.3253del, c.3176T&gt;G</td>\n",
       "    </tr>\n",
       "    <tr>\n",
       "      <th>1</th>\n",
       "      <td>unmapped</td>\n",
       "      <td>0</td>\n",
       "      <td></td>\n",
       "    </tr>\n",
       "  </tbody>\n",
       "</table>\n",
       "</div>"
      ],
      "text/plain": [
       "     status  count                                     alleles\n",
       "0    mapped      4  c.2657T>C, c.2608C>T, c.3253del, c.3176T>G\n",
       "1  unmapped      0                                            "
      ]
     },
     "execution_count": 10,
     "metadata": {},
     "output_type": "execute_result"
    }
   ],
   "source": [
    "vmanager.to_summary()"
   ]
  },
  {
   "cell_type": "code",
   "execution_count": 11,
   "id": "78587f53-021b-4844-97ec-6e4664728f92",
   "metadata": {},
   "outputs": [],
   "source": [
    "vmanager.add_variants_to_individuals(individuals)"
   ]
  },
  {
   "cell_type": "code",
   "execution_count": 12,
   "id": "7630c9cb-58cf-4686-a6a8-900f11b2e75b",
   "metadata": {},
   "outputs": [
    {
     "data": {
      "text/html": [
       "<h2>Cohort validation</h2>\n",
       "<p>Errors found with 3 of 4 phenopackets.</p>\n",
       "<table style=\"border: 2px solid black; align: \"left\">\n",
       "<caption>Error counts</caption>\n",
       "<tr><th style=\"text-align: left;font-weight: bold;\">Level</th><th style=\"text-align: left;font-weight: bold;\">Error category</th><th style=\"text-align: left;font-weight: bold;\">Count</th></tr>\n",
       "<tr><td style=\"text-align: left;\">WARNING</td><td style=\"text-align: left;\">REDUNDANT</td><td style=\"text-align: left;\">4</td></tr>\n",
       "</table>\n",
       "<p>A total of 4 issues were fixed and no individual was removed from the cohort.</p>"
      ],
      "text/plain": [
       "<IPython.core.display.HTML object>"
      ]
     },
     "metadata": {},
     "output_type": "display_data"
    }
   ],
   "source": [
    "cvalidator = CohortValidator(cohort=individuals, ontology=hpo_ontology, min_hpo=1, allelic_requirement=AllelicRequirement.BI_ALLELIC)\n",
    "qc = QcVisualizer(cohort_validator=cvalidator)\n",
    "display(HTML(qc.to_summary_html()))"
   ]
  },
  {
   "cell_type": "code",
   "execution_count": 13,
   "id": "08868d2b-f424-4f91-8584-c22412984e9c",
   "metadata": {},
   "outputs": [
    {
     "data": {
      "text/html": [
       "<table style=\"border: 2px solid black; align: \"left\">\n",
       "<caption>4 phenopackets - PMID:30838237 (n=1); PMID:30713959 (n=1); PMID:21542062 (n=2)</caption>\n",
       "<tr><th style=\"text-align: left;font-weight: bold;\">Individual</th><th style=\"text-align: left;font-weight: bold;\">Disease</th><th style=\"text-align: left;font-weight: bold;\">Genotype</th><th style=\"text-align: left;font-weight: bold;\">Phenotypic features</th></tr>\n",
       "<tr><td style=\"text-align: left;\">18-year-old adolescent male (MALE; P16Y)</td><td style=\"text-align: left;\">Kufor-Rakeb syndrome (OMIM:606693)</td><td style=\"text-align: left;\">NM_022089.4:c.2608C>T (homozygous)</td><td style=\"text-align: left;\"><b>P16Y</b>: Decreased social interactions (HP:5200310)<br/><b>P18Y</b>: Depression (HP:0000716); Parkinsonism (HP:0001300); Mask-like facies (HP:0000298); Rigidity (HP:0002063); Bradykinesia (HP:0002067); Slow saccadic eye movements (HP:0000514)<br/>Micrographia (HP:0031908); Dystonia (HP:0001332)</td></tr>\n",
       "<tr><td style=\"text-align: left;\">A man aged 32 years (MALE; P21Y)</td><td style=\"text-align: left;\">Kufor-Rakeb syndrome (OMIM:606693)</td><td style=\"text-align: left;\">NM_022089.4:c.2657T>C (homozygous)</td><td style=\"text-align: left;\"><b>P21Y</b>: Parkinsonism (HP:0001300); Bradykinesia (HP:0002067); Frequent falls (HP:0002359); Memory impairment (HP:0002354)<br/>Rigidity (HP:0002063); Bowel incontinence (HP:0002607); Urinary incontinence (HP:0000020); Spastic dysarthria (HP:0002464); Dementia (HP:0000726); Torticollis (HP:0000473); Foot dorsiflexor weakness (HP:0009027); Brisk reflexes (HP:0001348); Resting tremor (HP:0002322); Auditory hallucination (HP:0008765); Visual hallucination (HP:0002367); Hypersexuality (HP:0030214); Diffuse cerebral atrophy (HP:0002506); excluded: Babinski sign (HP:0003487)</td></tr>\n",
       "<tr><td style=\"text-align: left;\"> 22-year-old Asian mal (MALE; P19Y)</td><td style=\"text-align: left;\">Kufor-Rakeb syndrome (OMIM:606693)</td><td style=\"text-align: left;\"><ul> <li>NM_022089.4:c.3176T>G (heterozygous)</li> <li>NM_022089.4:c.3253del (heterozygous)</li> </ul></td><td style=\"text-align: left;\"><b>P19Y</b>: Parkinsonism (HP:0001300); Rigidity (HP:0002063); Bradykinesia (HP:0002067)<br/><b>P22Y</b>: Mask-like facies (HP:0000298)<br/>Slow saccadic eye movements (HP:0000514); Supranuclear gaze palsy (HP:0000605); Dystonia (HP:0001332); Dementia (HP:0000726); Brisk reflexes (HP:0001348); Babinski sign (HP:0003487); Mild global developmental delay (HP:0011342); Social Anxiety (HP:6000029); Upper limb postural tremor (HP:0007351); Glabellar reflex (HP:0030904); Hypometric saccades (HP:0000571); excluded: Bowel incontinence (HP:0002607); excluded: Urinary incontinence (HP:0000020); excluded: Resting tremor (HP:0002322)</td></tr>\n",
       "<tr><td style=\"text-align: left;\">his siser (FEMALE; P18Y)</td><td style=\"text-align: left;\">Kufor-Rakeb syndrome (OMIM:606693)</td><td style=\"text-align: left;\"><ul> <li>NM_022089.4:c.3176T>G (heterozygous)</li> <li>NM_022089.4:c.3253del (heterozygous)</li> </ul></td><td style=\"text-align: left;\"><b>P17Y</b>: Depression (HP:0000716)<br/><b>P18Y</b>: Parkinsonism (HP:0001300); Torticollis (HP:0000473)<br/>Rigidity (HP:0002063); Bradykinesia (HP:0002067); Slow saccadic eye movements (HP:0000514); Supranuclear gaze palsy (HP:0000605); Dementia (HP:0000726); Brisk reflexes (HP:0001348); Babinski sign (HP:0003487); excluded: Bowel incontinence (HP:0002607); excluded: Urinary incontinence (HP:0000020); excluded: Resting tremor (HP:0002322)</td></tr>\n",
       "</table>"
      ],
      "text/plain": [
       "<IPython.core.display.HTML object>"
      ]
     },
     "metadata": {},
     "output_type": "display_data"
    }
   ],
   "source": [
    "individuals = cvalidator.get_error_free_individual_list()\n",
    "table = IndividualTable(individuals)\n",
    "display(HTML(table.to_html()))"
   ]
  },
  {
   "cell_type": "code",
   "execution_count": null,
   "id": "318392f8-f380-4434-b0b8-28d0595de787",
   "metadata": {},
   "outputs": [],
   "source": []
  }
 ],
 "metadata": {
  "kernelspec": {
   "display_name": "Python 3 (ipykernel)",
   "language": "python",
   "name": "python3"
  },
  "language_info": {
   "codemirror_mode": {
    "name": "ipython",
    "version": 3
   },
   "file_extension": ".py",
   "mimetype": "text/x-python",
   "name": "python",
   "nbconvert_exporter": "python",
   "pygments_lexer": "ipython3",
   "version": "3.8.10"
  }
 },
 "nbformat": 4,
 "nbformat_minor": 5
}
