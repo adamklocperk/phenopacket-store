{
 "cells": [
  {
   "cell_type": "markdown",
   "id": "cfc2c2f7-426d-4894-bca6-823128c8ee42",
   "metadata": {},
   "source": [
    "# POT1\n",
    "\n",
    "Pathogenic variants in POT1 were shown to cause Pulmonary fibrosis and/or bone marrow failure syndrome, telomere-related, 8.\n",
    "Date taken from [Kelich J, et al(2022) Telomere dysfunction implicates POT1 in patients with idiopathic pulmonary fibrosis. J Exp Med. 2022 May 2;219(5):e20211681](https://pubmed.ncbi.nlm.nih.gov/35420632/)."
   ]
  },
  {
   "cell_type": "code",
   "execution_count": 1,
   "id": "9ab831c5-9c02-43b0-9071-a926c52cf2ac",
   "metadata": {},
   "outputs": [
    {
     "name": "stdout",
     "output_type": "stream",
     "text": [
      "Using pyphetools version 0.9.12\n"
     ]
    }
   ],
   "source": [
    "import pandas as pd\n",
    "pd.set_option('display.max_colwidth', None) # show entire column contents, important!\n",
    "from IPython.display import display, HTML\n",
    "from pyphetools.creation import *\n",
    "from pyphetools.visualization import *\n",
    "from pyphetools.validation import *\n",
    "import pyphetools\n",
    "print(f\"Using pyphetools version {pyphetools.__version__}\")"
   ]
  },
  {
   "cell_type": "code",
   "execution_count": 2,
   "id": "15d62624-305c-482f-bb3a-08ee672cf8be",
   "metadata": {},
   "outputs": [
    {
     "name": "stdout",
     "output_type": "stream",
     "text": [
      "HPO version 2023-10-09\n"
     ]
    }
   ],
   "source": [
    "PMID = \"PMID:35420632\"\n",
    "title = \"Telomere dysfunction implicates POT1 in patients with idiopathic pulmonary fibrosis\"\n",
    "cite = Citation(pmid=PMID, title=title)\n",
    "parser = HpoParser(\"../hp.json\")\n",
    "hpo_cr = parser.get_hpo_concept_recognizer()\n",
    "hpo_version = parser.get_version()\n",
    "hpo_ontology = parser.get_ontology()\n",
    "metadata = MetaData(created_by=\"ORCID:0000-0002-5648-2155\", citation=cite)\n",
    "metadata.default_versions_with_hpo(version=hpo_version)\n",
    "print(f\"HPO version {hpo_version}\")"
   ]
  },
  {
   "cell_type": "markdown",
   "id": "34b21691-2940-4708-9c60-b58a598e71dc",
   "metadata": {},
   "source": [
    "# patient 1\n",
    "\n",
    "The first patient (patient 1, proband pedigree V-1; Fig. 1 A) was a 32-yr-old male referred to our center because of features of interstitial lung disease on high-resolution computed tomography (HRCT). He had been diagnosed with nodular regenerative hyperplasia of the liver at age 23. Furthermore, he had portal hypertension with esophagus and fundus varices and splenomegaly with splenic vein thrombosis and thrombocytopenia. His family history was notable for IPF in his father. He had a smoking history of 7 packs/yr. On physical examination, digital clubbing was noted. Pulmonary fibrosis, with a probable usual interstitial pneumonia (UIP) pattern, was seen on HRCT, and the patient was given a diagnosis of IPF (Fig. 1 D). He was treated with pirfenidone for 17 mo and switched to nintedanib because of progression of disease and side effects. Treatment with nintedanib was discontinued after 8 mo due to side effects. At age 35, he underwent liver transplantation due to hepatopulmonary syndrome. 6 mo after liver transplantation, treatment with danazol was started. Pulmonary fibrosis was progressive, and 2 yr after liver transplantation, he underwent lung transplantation. Next-generation sequencing on a 36-gene IPF gene panel revealed a heterozygous variant in POT1: c.776T>C; p.(Leu259Ser) (NM015450.2_) and no abnormalities in the other 35 genes on the panel. The L259S variant was inherited from the deceased father with IPF and confirmed to be present in extracted patient fibroblasts with Sanger sequencing (Fig. 1 B). Telomere length in blood showed short telomeres, below the first percentile of controls"
   ]
  },
  {
   "cell_type": "code",
   "execution_count": 3,
   "id": "40181544-f8d9-4505-8725-992637671bb5",
   "metadata": {},
   "outputs": [],
   "source": [
    "pfeatures = []\n",
    "pfeatures.append(HpTerm(hpo_id=\"HP:0002040\", label=\"Esophageal varix\", observed=\"True\", onset=\"P23Y0M0D\"))\n",
    "pfeatures.append(HpTerm(hpo_id=\"HP:0030169\", label=\"Gastric varix\", observed=\"True\", onset=\"P23Y0M0D\"))\n",
    "pfeatures.append(HpTerm(hpo_id=\"HP:0011954\", label=\"Nodular regenerative hyperplasia of liver\", observed=\"True\", onset=\"P23Y0M0D\"))\n",
    "pfeatures.append(HpTerm(hpo_id=\"HP:0001409\", label=\"Portal hypertension\", observed=\"True\", onset=\"P23Y0M0D\"))\n",
    "pfeatures.append(HpTerm(hpo_id=\"HP:0001744\", label=\"Splenomegaly\", observed=\"True\", onset=\"P23Y0M0D\"))\n",
    "pfeatures.append(HpTerm(hpo_id=\"HP:0001873\", label=\"Thrombocytopenia\", observed=\"True\", onset=\"P23Y0M0D\"))\n",
    "pfeatures.append(HpTerm(hpo_id=\"HP:0001217\", label=\"Clubbing\", observed=\"True\", onset=\"P32Y0M0D\"))\n",
    "pfeatures.append(HpTerm(hpo_id=\"HP:0001399\", label=\"Hepatic failure\", observed=\"True\", onset=\"P32Y0M0D\"))\n",
    "pfeatures.append(HpTerm(hpo_id=\"HP:0002206\", label=\"Pulmonary fibrosis\", observed=\"True\", onset=\"P32Y0M0D\"))\n",
    "pfeatures.append(HpTerm(hpo_id=\"HP:0031950\", label=\"Usual interstitial pneumonia\", observed=\"True\", onset=\"P32Y0M0D\"))\n",
    "pfeatures.append(HpTerm(hpo_id=\"HP:0031413\", label=\"Short telomere length\", observed=\"True\", onset=\"P32Y0M0D\"))\n",
    "individual_1 = Individual(individual_id=\"patient 1\", sex=\"MALE\", hpo_terms=pfeatures)"
   ]
  },
  {
   "cell_type": "markdown",
   "id": "2966c096-6a42-42a0-8734-ae061a7148df",
   "metadata": {},
   "source": [
    "# patient 2\n",
    "\n",
    "The second patient was a 57-yr-old male (pedigree IV-2), the father of patient 1, who presented with dyspnea on exertion. His past medical record revealed peritoneal fibrosis. He had a smoking history of 15 packs/yr. On physical examination, bilateral respiratory crackles were noted. Pulmonary fibrosis with a probable UIP pattern was seen on HRCT (Fig. 1 E). He was diagnosed with IPF and treated with pirfenidone for 1 yr. Treatment was stopped because of persistent progression of disease, and 1 mo later the patient died at age 60. Targeted genetic analysis revealed a heterozygous variant in POT1: c.776T>C; p.(Leu259Ser)."
   ]
  },
  {
   "cell_type": "code",
   "execution_count": 4,
   "id": "1f8c40c8-b039-4fc9-bdd2-c4b64db93a63",
   "metadata": {},
   "outputs": [],
   "source": [
    "pfeatures = []\n",
    "pfeatures.append(HpTerm(hpo_id=\"HP:0030830\", label=\"Crackles\", observed=\"True\", onset=\"P57Y0M0D\"))\n",
    "pfeatures.append(HpTerm(hpo_id=\"HP:0002094\", label=\"Dyspnea\", observed=\"True\", onset=\"P57Y0M0D\"))\n",
    "pfeatures.append(HpTerm(hpo_id=\"HP:0002206\", label=\"Pulmonary fibrosis\", observed=\"True\", onset=\"P57Y0M0D\"))\n",
    "pfeatures.append(HpTerm(hpo_id=\"HP:0031950\", label=\"Usual interstitial pneumonia\", observed=\"True\", onset=\"P57Y0M0D\"))\n",
    "individual_2 = Individual(individual_id=\"patient 2\", sex=\"MALE\", hpo_terms=pfeatures)"
   ]
  },
  {
   "cell_type": "markdown",
   "id": "7d672570-c64d-430a-8b8b-1066de052203",
   "metadata": {},
   "source": [
    "# patient 3\n",
    "\n",
    "Patient 3 (pedigree III-3) was a 72-yr-old male referred for a second opinion. He had dyspnea on exertion for several years and reported graying of his hair at age 27. He presented with a probable UIP pattern on chest HRCT, thrombocytopenia, and RBC macrocytosis (Fig. 1 F). His medical history revealed a partial cholecystectomy due to fibrosing cholecystitis and liver abnormalities. He had a history of smoking shag tobacco for 27 yr. His family history was notable for IPF in his son and his father, who had a UIP pattern on biopsy. He was treated with nintedanib for 6 mo, and treatment was discontinued due to side effects. Genetic analysis revealed a heterozygous variant in POT1: c.776T>C; p.(Leu259Ser) and no abnormalities in any of the other 35 genes on the IPF gene panel."
   ]
  },
  {
   "cell_type": "code",
   "execution_count": 5,
   "id": "408b8237-04aa-4488-8bdf-f878b5f7dad7",
   "metadata": {},
   "outputs": [],
   "source": [
    "pfeatures = []\n",
    "pfeatures.append(HpTerm(hpo_id=\"HP:0002216\", label=\"Premature graying of hair\", observed=\"True\", onset=\"P27Y0M0D\"))\n",
    "pfeatures.append(HpTerm(hpo_id=\"HP:0001392\", label=\"Abnormality of the liver\", observed=\"True\", onset=\"P72Y0M0D\"))\n",
    "pfeatures.append(HpTerm(hpo_id=\"HP:0001082\", label=\"Cholecystitis\", observed=\"True\", onset=\"P72Y0M0D\"))\n",
    "pfeatures.append(HpTerm(hpo_id=\"HP:0005518\", label=\"Increased mean corpuscular volume\", observed=\"True\", onset=\"P72Y0M0D\"))\n",
    "pfeatures.append(HpTerm(hpo_id=\"HP:0001873\", label=\"Thrombocytopenia\", observed=\"True\", onset=\"P72Y0M0D\"))\n",
    "pfeatures.append(HpTerm(hpo_id=\"HP:0031950\", label=\"Usual interstitial pneumonia\", observed=\"True\", onset=\"P72Y0M0D\"))\n",
    "individual_3 = Individual(individual_id=\"patient 3\", sex=\"MALE\", hpo_terms=pfeatures)"
   ]
  },
  {
   "cell_type": "markdown",
   "id": "066de369-5013-4b7a-92fe-35d2ddf11bbb",
   "metadata": {},
   "source": [
    "# patient 4\n",
    "\n",
    "Patient 4 (pedigree IV-4) was a 52-yr-old-male, son of patient 3, who presented with dyspnea and progressive dry cough for 1 yr. He had no history of smoking. On physical examination, bibasal crepitations and digital clubbing were noted. He presented with a probable UIP pattern on chest HRCT (Fig. 1 G). He was diagnosed with IPF and was treated with nintedanib. After 1 yr of treatment, additional danazol was prescribed. Genetic analysis on our 36-gene pulmonary fibrosis gene panel revealed a heterozygous variant in POT1: c.776T>C; p.(Leu259Ser) and no abnormalities in the other 35 genes tested."
   ]
  },
  {
   "cell_type": "code",
   "execution_count": 6,
   "id": "0b2f274c-5660-4654-8319-6b9c0a2f3d4a",
   "metadata": {},
   "outputs": [],
   "source": [
    "pfeatures = []\n",
    "pfeatures.append(HpTerm(hpo_id=\"HP:0001217\", label=\"Clubbing\", observed=\"True\", onset=\"P52Y0M0D\"))\n",
    "pfeatures.append(HpTerm(hpo_id=\"HP:0030830\", label=\"Crackles\", observed=\"True\", onset=\"P52Y0M0D\"))\n",
    "pfeatures.append(HpTerm(hpo_id=\"HP:0002094\", label=\"Dyspnea\", observed=\"True\", onset=\"P52Y0M0D\"))\n",
    "pfeatures.append(HpTerm(hpo_id=\"HP:0031246\", label=\"Nonproductive cough\", observed=\"True\", onset=\"P52Y0M0D\"))\n",
    "pfeatures.append(HpTerm(hpo_id=\"HP:0031950\", label=\"Usual interstitial pneumonia\", observed=\"True\", onset=\"P52Y0M0D\"))\n",
    "individual_4 = Individual(individual_id=\"patient 4\", sex=\"MALE\", hpo_terms=pfeatures)"
   ]
  },
  {
   "cell_type": "code",
   "execution_count": 7,
   "id": "18623be7-9422-4e0a-a820-80b55006d9bd",
   "metadata": {},
   "outputs": [
    {
     "name": "stdout",
     "output_type": "stream",
     "text": [
      "https://rest.variantvalidator.org/VariantValidator/variantvalidator/hg38/NM_015450.2%3Ac.776T>C/NM_015450.2?content-type=application%2Fjson\n",
      "chr7:124853065A>G\n"
     ]
    }
   ],
   "source": [
    "pot1_transcript='NM_015450.2' \n",
    "varValidator = VariantValidator(genome_build='hg38', transcript=pot1_transcript)\n",
    "var1 = varValidator.encode_hgvs(hgvs=\"c.776T>C\")\n",
    "var1.set_heterozygous()\n",
    "print(var1.to_string())\n",
    "# all affected individuals in the family have the same variant\n",
    "omim_id = \"OMIM:620367\"\n",
    "omim_label = \"Pulmonary fibrosis and/or bone marrow failure syndrome, telomere-related, 8\"\n",
    "disease = Disease(disease_id=omim_id, disease_label=omim_label)\n",
    "for i in [individual_1, individual_2, individual_3, individual_4]:\n",
    "    i.add_variant(var1)\n",
    "    i.set_disease(disease)"
   ]
  },
  {
   "cell_type": "code",
   "execution_count": 8,
   "id": "95db3a48-7336-4f8c-a047-b918bc8397db",
   "metadata": {},
   "outputs": [
    {
     "data": {
      "text/html": [
       "<h2>Cohort validation</h2>\n",
       "<p>Errors found with 1 of 4 phenopackets.</p>\n",
       "<table style=\"border: 2px solid black; align: \"left\">\n",
       "<caption>Error analysis</caption>\n",
       "<tr><th style=\"text-align: left;font-weight: bold;\">ID</th><th style=\"text-align: left;font-weight: bold;\">Level</th><th style=\"text-align: left;font-weight: bold;\">Category</th><th style=\"text-align: left;font-weight: bold;\">Message</th><th style=\"text-align: left;font-weight: bold;\">HPO Term</th></tr>\n",
       "<tr><td style=\"text-align: left;\">patient_3</td><td style=\"text-align: left;\">WARNING</td><td style=\"text-align: left;\">REDUNDANT</td><td style=\"text-align: left;\"><b>Abnormality of the liver</b> is redundant because of <b>Cholecystitis</b></td><td style=\"text-align: left;\">Abnormality of the liver (HP:0001392)</td></tr>\n",
       "</table>"
      ],
      "text/plain": [
       "<IPython.core.display.HTML object>"
      ]
     },
     "metadata": {},
     "output_type": "display_data"
    }
   ],
   "source": [
    "cohort = [individual_1, individual_2, individual_3, individual_4]\n",
    "cvalidator = CohortValidator(cohort=cohort, ontology=hpo_ontology, min_hpo=1, allelic_requirement=AllelicRequirement.MONO_ALLELIC)\n",
    "qc = QcVisualizer(cohort_validator=cvalidator)\n",
    "display(HTML(qc.to_html()))"
   ]
  },
  {
   "cell_type": "code",
   "execution_count": 9,
   "id": "6fa7d28c-437c-4d0c-80ac-d5700ad880bd",
   "metadata": {},
   "outputs": [
    {
     "data": {
      "text/html": [
       "<table style=\"border: 2px solid black; align: \"left\">\n",
       "<caption>4 phenopackets - PMID:35420632 (n=4)</caption>\n",
       "<tr><th style=\"text-align: left;font-weight: bold;\">Individual</th><th style=\"text-align: left;font-weight: bold;\">Disease</th><th style=\"text-align: left;font-weight: bold;\">Genotype</th><th style=\"text-align: left;font-weight: bold;\">Phenotypic features</th></tr>\n",
       "<tr><td style=\"text-align: left;\">patient 1 (MALE; )</td><td style=\"text-align: left;\">Pulmonary fibrosis and/or bone marrow failure syndrome, telomere-related, 8 (OMIM:620367)</td><td style=\"text-align: left;\">NM_015450.2:c.776T>C (heterozygous)</td><td style=\"text-align: left;\"><b>P23Y0M0D</b>: Esophageal varix (HP:0002040); Gastric varix (HP:0030169); Nodular regenerative hyperplasia of liver (HP:0011954); Portal hypertension (HP:0001409); Splenomegaly (HP:0001744); Thrombocytopenia (HP:0001873)<br/><b>P32Y0M0D</b>: Clubbing (HP:0001217); Hepatic failure (HP:0001399); Pulmonary fibrosis (HP:0002206); Usual interstitial pneumonia (HP:0031950); Short telomere length (HP:0031413)</td></tr>\n",
       "<tr><td style=\"text-align: left;\">patient 2 (MALE; )</td><td style=\"text-align: left;\">Pulmonary fibrosis and/or bone marrow failure syndrome, telomere-related, 8 (OMIM:620367)</td><td style=\"text-align: left;\">NM_015450.2:c.776T>C (heterozygous)</td><td style=\"text-align: left;\"><b>P57Y0M0D</b>: Crackles (HP:0030830); Dyspnea (HP:0002094); Pulmonary fibrosis (HP:0002206); Usual interstitial pneumonia (HP:0031950)</td></tr>\n",
       "<tr><td style=\"text-align: left;\">patient 3 (MALE; )</td><td style=\"text-align: left;\">Pulmonary fibrosis and/or bone marrow failure syndrome, telomere-related, 8 (OMIM:620367)</td><td style=\"text-align: left;\">NM_015450.2:c.776T>C (heterozygous)</td><td style=\"text-align: left;\"><b>P27Y0M0D</b>: Premature graying of hair (HP:0002216)<br/><b>P72Y0M0D</b>: Cholecystitis (HP:0001082); Increased mean corpuscular volume (HP:0005518); Thrombocytopenia (HP:0001873); Usual interstitial pneumonia (HP:0031950)</td></tr>\n",
       "<tr><td style=\"text-align: left;\">patient 4 (MALE; )</td><td style=\"text-align: left;\">Pulmonary fibrosis and/or bone marrow failure syndrome, telomere-related, 8 (OMIM:620367)</td><td style=\"text-align: left;\">NM_015450.2:c.776T>C (heterozygous)</td><td style=\"text-align: left;\"><b>P52Y0M0D</b>: Clubbing (HP:0001217); Crackles (HP:0030830); Dyspnea (HP:0002094); Nonproductive cough (HP:0031246); Usual interstitial pneumonia (HP:0031950)</td></tr>\n",
       "</table>"
      ],
      "text/plain": [
       "<IPython.core.display.HTML object>"
      ]
     },
     "metadata": {},
     "output_type": "display_data"
    }
   ],
   "source": [
    "cohort = cvalidator.get_error_free_individual_list()\n",
    "table = PhenopacketTable(individual_list=cohort, metadata=metadata)\n",
    "display(HTML(table.to_html()))"
   ]
  },
  {
   "cell_type": "code",
   "execution_count": 10,
   "id": "e54ee55f-254b-4f5a-891a-61376a625b8a",
   "metadata": {},
   "outputs": [
    {
     "name": "stdout",
     "output_type": "stream",
     "text": [
      "We output 4 GA4GH phenopackets to the directory phenopackets\n"
     ]
    }
   ],
   "source": [
    "Individual.output_individuals_as_phenopackets(individual_list=cohort,\n",
    "                                              metadata=metadata)"
   ]
  },
  {
   "cell_type": "code",
   "execution_count": 11,
   "id": "a7a5ab08-d81c-4e37-a610-fb338bd3e80d",
   "metadata": {},
   "outputs": [
    {
     "name": "stdout",
     "output_type": "stream",
     "text": [
      "[pyphetools] Ingested 4 GA4GH phenopackets.\n",
      "We found a total of 17 HPO terms\n",
      "extracted PubMed identifier: PMID:35420632\n",
      "Extracted disease: Pulmonary fibrosis and/or bone marrow failure syndrome, telomere-related, 8 (OMIM:620367)\n"
     ]
    },
    {
     "data": {
      "text/html": [
       "<div>\n",
       "<style scoped>\n",
       "    .dataframe tbody tr th:only-of-type {\n",
       "        vertical-align: middle;\n",
       "    }\n",
       "\n",
       "    .dataframe tbody tr th {\n",
       "        vertical-align: top;\n",
       "    }\n",
       "\n",
       "    .dataframe thead th {\n",
       "        text-align: right;\n",
       "    }\n",
       "</style>\n",
       "<table border=\"1\" class=\"dataframe\">\n",
       "  <thead>\n",
       "    <tr style=\"text-align: right;\">\n",
       "      <th></th>\n",
       "      <th>#diseaseID</th>\n",
       "      <th>diseaseName</th>\n",
       "      <th>phenotypeID</th>\n",
       "      <th>phenotypeName</th>\n",
       "      <th>onsetID</th>\n",
       "      <th>onsetName</th>\n",
       "      <th>frequency</th>\n",
       "      <th>sex</th>\n",
       "      <th>negation</th>\n",
       "      <th>modifier</th>\n",
       "      <th>description</th>\n",
       "      <th>publication</th>\n",
       "      <th>evidence</th>\n",
       "      <th>biocuration</th>\n",
       "    </tr>\n",
       "  </thead>\n",
       "  <tbody>\n",
       "    <tr>\n",
       "      <th>0</th>\n",
       "      <td>OMIM:620367</td>\n",
       "      <td>Pulmonary fibrosis and/or bone marrow failure syndrome, telomere-related, 8</td>\n",
       "      <td>HP:0001399</td>\n",
       "      <td>Hepatic failure</td>\n",
       "      <td></td>\n",
       "      <td></td>\n",
       "      <td>1/1</td>\n",
       "      <td></td>\n",
       "      <td></td>\n",
       "      <td></td>\n",
       "      <td></td>\n",
       "      <td>PMID:35420632</td>\n",
       "      <td>PCS</td>\n",
       "      <td>ORCID:0000-0002-5648-2155</td>\n",
       "    </tr>\n",
       "    <tr>\n",
       "      <th>1</th>\n",
       "      <td>OMIM:620367</td>\n",
       "      <td>Pulmonary fibrosis and/or bone marrow failure syndrome, telomere-related, 8</td>\n",
       "      <td>HP:0031413</td>\n",
       "      <td>Short telomere length</td>\n",
       "      <td></td>\n",
       "      <td></td>\n",
       "      <td>1/1</td>\n",
       "      <td></td>\n",
       "      <td></td>\n",
       "      <td></td>\n",
       "      <td></td>\n",
       "      <td>PMID:35420632</td>\n",
       "      <td>PCS</td>\n",
       "      <td>ORCID:0000-0002-5648-2155</td>\n",
       "    </tr>\n",
       "    <tr>\n",
       "      <th>2</th>\n",
       "      <td>OMIM:620367</td>\n",
       "      <td>Pulmonary fibrosis and/or bone marrow failure syndrome, telomere-related, 8</td>\n",
       "      <td>HP:0030169</td>\n",
       "      <td>Gastric varix</td>\n",
       "      <td></td>\n",
       "      <td></td>\n",
       "      <td>1/1</td>\n",
       "      <td></td>\n",
       "      <td></td>\n",
       "      <td></td>\n",
       "      <td></td>\n",
       "      <td>PMID:35420632</td>\n",
       "      <td>PCS</td>\n",
       "      <td>ORCID:0000-0002-5648-2155</td>\n",
       "    </tr>\n",
       "    <tr>\n",
       "      <th>3</th>\n",
       "      <td>OMIM:620367</td>\n",
       "      <td>Pulmonary fibrosis and/or bone marrow failure syndrome, telomere-related, 8</td>\n",
       "      <td>HP:0011954</td>\n",
       "      <td>Nodular regenerative hyperplasia of liver</td>\n",
       "      <td></td>\n",
       "      <td></td>\n",
       "      <td>1/1</td>\n",
       "      <td></td>\n",
       "      <td></td>\n",
       "      <td></td>\n",
       "      <td></td>\n",
       "      <td>PMID:35420632</td>\n",
       "      <td>PCS</td>\n",
       "      <td>ORCID:0000-0002-5648-2155</td>\n",
       "    </tr>\n",
       "    <tr>\n",
       "      <th>4</th>\n",
       "      <td>OMIM:620367</td>\n",
       "      <td>Pulmonary fibrosis and/or bone marrow failure syndrome, telomere-related, 8</td>\n",
       "      <td>HP:0031950</td>\n",
       "      <td>Usual interstitial pneumonia</td>\n",
       "      <td></td>\n",
       "      <td></td>\n",
       "      <td>4/4</td>\n",
       "      <td></td>\n",
       "      <td></td>\n",
       "      <td></td>\n",
       "      <td></td>\n",
       "      <td>PMID:35420632</td>\n",
       "      <td>PCS</td>\n",
       "      <td>ORCID:0000-0002-5648-2155</td>\n",
       "    </tr>\n",
       "  </tbody>\n",
       "</table>\n",
       "</div>"
      ],
      "text/plain": [
       "    #diseaseID  \\\n",
       "0  OMIM:620367   \n",
       "1  OMIM:620367   \n",
       "2  OMIM:620367   \n",
       "3  OMIM:620367   \n",
       "4  OMIM:620367   \n",
       "\n",
       "                                                                   diseaseName  \\\n",
       "0  Pulmonary fibrosis and/or bone marrow failure syndrome, telomere-related, 8   \n",
       "1  Pulmonary fibrosis and/or bone marrow failure syndrome, telomere-related, 8   \n",
       "2  Pulmonary fibrosis and/or bone marrow failure syndrome, telomere-related, 8   \n",
       "3  Pulmonary fibrosis and/or bone marrow failure syndrome, telomere-related, 8   \n",
       "4  Pulmonary fibrosis and/or bone marrow failure syndrome, telomere-related, 8   \n",
       "\n",
       "  phenotypeID                              phenotypeName onsetID onsetName  \\\n",
       "0  HP:0001399                            Hepatic failure                     \n",
       "1  HP:0031413                      Short telomere length                     \n",
       "2  HP:0030169                              Gastric varix                     \n",
       "3  HP:0011954  Nodular regenerative hyperplasia of liver                     \n",
       "4  HP:0031950               Usual interstitial pneumonia                     \n",
       "\n",
       "  frequency sex negation modifier description    publication evidence  \\\n",
       "0       1/1                                    PMID:35420632      PCS   \n",
       "1       1/1                                    PMID:35420632      PCS   \n",
       "2       1/1                                    PMID:35420632      PCS   \n",
       "3       1/1                                    PMID:35420632      PCS   \n",
       "4       4/4                                    PMID:35420632      PCS   \n",
       "\n",
       "                 biocuration  \n",
       "0  ORCID:0000-0002-5648-2155  \n",
       "1  ORCID:0000-0002-5648-2155  \n",
       "2  ORCID:0000-0002-5648-2155  \n",
       "3  ORCID:0000-0002-5648-2155  \n",
       "4  ORCID:0000-0002-5648-2155  "
      ]
     },
     "execution_count": 11,
     "metadata": {},
     "output_type": "execute_result"
    }
   ],
   "source": [
    "ppkt_list = [i.to_ga4gh_phenopacket(metadata=metadata) for i in cohort]\n",
    "hpoa_creatr = HpoaTableCreator(phenopacket_list=ppkt_list)\n",
    "df = hpoa_creatr.get_dataframe()\n",
    "df.head()"
   ]
  },
  {
   "cell_type": "code",
   "execution_count": 13,
   "id": "c9646de6-ab8a-4c88-9815-1eadda5eeddf",
   "metadata": {},
   "outputs": [],
   "source": [
    "df.to_csv(\"OMIM-620367.tab\", sep=\"\\t\")"
   ]
  },
  {
   "cell_type": "code",
   "execution_count": null,
   "id": "077e8445-bab7-415c-a62a-9eb42e14a5b9",
   "metadata": {},
   "outputs": [],
   "source": []
  }
 ],
 "metadata": {
  "kernelspec": {
   "display_name": "ps2venv",
   "language": "python",
   "name": "ps2venv"
  },
  "language_info": {
   "codemirror_mode": {
    "name": "ipython",
    "version": 3
   },
   "file_extension": ".py",
   "mimetype": "text/x-python",
   "name": "python",
   "nbconvert_exporter": "python",
   "pygments_lexer": "ipython3",
   "version": "3.8.10"
  }
 },
 "nbformat": 4,
 "nbformat_minor": 5
}
