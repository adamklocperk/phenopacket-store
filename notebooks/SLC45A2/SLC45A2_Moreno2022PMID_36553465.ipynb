{
 "cells": [
  {
   "cell_type": "markdown",
   "id": "fc403054",
   "metadata": {},
   "source": [
    "<H1>SLC45A2: Oculo-Cutaneous Albinism Type 4 (OCA4) - Moreno-Artero et al., 2022</H1>\n",
    "<p>Extract clinical data from <a href=\"https://pubmed.ncbi.nlm.nih.gov/36553465/\" target=\"__blank\">\n",
    "Moreno-Artero E, et al. (2022). Oculo-Cutaneous Albinism Type 4 (OCA4): Phenotype-Genotype Correlation. Genes (Basel). 2022 Nov 23;13(12):2198</a>:  PMID:36553465.</p>\n",
    "<p>The authors classify patients 1-20 as group 1 and patients 21-30 as group 2. The describe the following genotype-phenotype correlation: The first, found in 20 patients, is clinically indistinguishable from the classical OCA1 phenotype. The genotype-to-phenotype correlation suggests that <b>this phenotype is associated with homozygous or compound heterozygous nonsense or deletion variants with frameshift</b> leading to translation interruption in the SLC45A2 gene. The second phenotype, found in 10 patients, is characterized by very mild hypopigmentation of the hair (light brown or even dark hair) and skin that is similar to the general population. In this group, visual acuity is variable, but it can be subnormal, foveal hypoplasia can be low grade or even normal, and nystagmus may be lacking. These <b>mild to moderate phenotypes are associated with at least one missense mutation in SLC45A2</b>.</p>"
   ]
  },
  {
   "cell_type": "code",
   "execution_count": 1,
   "id": "27e10ee3",
   "metadata": {},
   "outputs": [
    {
     "name": "stdout",
     "output_type": "stream",
     "text": [
      "Using pyphetools version 0.8.30\n"
     ]
    }
   ],
   "source": [
    "import phenopackets as php\n",
    "from google.protobuf.json_format import MessageToDict, MessageToJson\n",
    "from google.protobuf.json_format import Parse, ParseDict\n",
    "import pandas as pd\n",
    "pd.set_option('display.max_colwidth', None) # show entire column contents, important!\n",
    "from IPython.display import display, HTML\n",
    "from pyphetools.creation import *\n",
    "from pyphetools.visualization import *\n",
    "from pyphetools.validation import *\n",
    "import pyphetools\n",
    "print(f\"Using pyphetools version {pyphetools.__version__}\")"
   ]
  },
  {
   "cell_type": "code",
   "execution_count": 2,
   "id": "b516b93b",
   "metadata": {},
   "outputs": [
    {
     "name": "stdout",
     "output_type": "stream",
     "text": [
      "HPO version 2023-10-09\n"
     ]
    }
   ],
   "source": [
    "parser = HpoParser()\n",
    "hpo_cr = parser.get_hpo_concept_recognizer()\n",
    "hpo_version = parser.get_version()\n",
    "hpo_ontology = parser.get_ontology()\n",
    "PMID = \"PMID:36553465\"\n",
    "title = \"Oculo-Cutaneous Albinism Type 4 (OCA4): Phenotype-Genotype Correlation\"\n",
    "metadata = MetaData(created_by=\"ORCID:0000-0002-5648-2155\", pmid=PMID, pubmed_title=title)\n",
    "metadata.default_versions_with_hpo(version=hpo_version)\n",
    "print(f\"HPO version {hpo_version}\")"
   ]
  },
  {
   "cell_type": "markdown",
   "id": "41b70a70",
   "metadata": {},
   "source": [
    "<h3>Ingest the data</h3>\n",
    "<p>The clinical and variant data were copied from Table 1 of the publication. For ease of parsing, we manually split the Gender,Age column into two columns.</p>"
   ]
  },
  {
   "cell_type": "code",
   "execution_count": 3,
   "id": "283b2848",
   "metadata": {},
   "outputs": [],
   "source": [
    "df = pd.read_excel('input/Moreno-Artero2022_table1.xlsx')"
   ]
  },
  {
   "cell_type": "code",
   "execution_count": 4,
   "id": "2fe6934e",
   "metadata": {},
   "outputs": [
    {
     "data": {
      "text/html": [
       "<div>\n",
       "<style scoped>\n",
       "    .dataframe tbody tr th:only-of-type {\n",
       "        vertical-align: middle;\n",
       "    }\n",
       "\n",
       "    .dataframe tbody tr th {\n",
       "        vertical-align: top;\n",
       "    }\n",
       "\n",
       "    .dataframe thead th {\n",
       "        text-align: right;\n",
       "    }\n",
       "</style>\n",
       "<table border=\"1\" class=\"dataframe\">\n",
       "  <thead>\n",
       "    <tr style=\"text-align: right;\">\n",
       "      <th></th>\n",
       "      <th>Patients</th>\n",
       "      <th>Gender</th>\n",
       "      <th>Age (Years)</th>\n",
       "      <th>Genetic Background</th>\n",
       "      <th>Consanguinity</th>\n",
       "      <th>Nevi</th>\n",
       "      <th>Eyes</th>\n",
       "      <th>Hair</th>\n",
       "      <th>Eyebrows</th>\n",
       "      <th>Eyelashes</th>\n",
       "      <th>Nystagmus</th>\n",
       "      <th>Strabismus</th>\n",
       "      <th>VA</th>\n",
       "      <th>Refraction</th>\n",
       "      <th>ITI</th>\n",
       "      <th>MT</th>\n",
       "      <th>FHP</th>\n",
       "      <th>Variant 1 (SLC45A2 NM_016180.5)</th>\n",
       "      <th>Variant 2 (SLC45A2 NM_016180.5)</th>\n",
       "    </tr>\n",
       "  </thead>\n",
       "  <tbody>\n",
       "    <tr>\n",
       "      <th>0</th>\n",
       "      <td>P1</td>\n",
       "      <td>M</td>\n",
       "      <td>20</td>\n",
       "      <td>Morocco</td>\n",
       "      <td>Yes</td>\n",
       "      <td>Present, amelanotic</td>\n",
       "      <td>Blue</td>\n",
       "      <td>White</td>\n",
       "      <td>White</td>\n",
       "      <td>White</td>\n",
       "      <td>Yes</td>\n",
       "      <td>Yes, esotropia</td>\n",
       "      <td>1.6/10 RE; 2/10 LE</td>\n",
       "      <td>Hypermetropia astigmatism</td>\n",
       "      <td>NaN</td>\n",
       "      <td>NaN</td>\n",
       "      <td>Grade IV</td>\n",
       "      <td>NM_016180.5(SLC45A2):c.267_271del\\nChr5(GRCh37):g.33984422_33984426del\\np.(Ser90Glnfs*42)</td>\n",
       "      <td>NM_016180.5(SLC45A2):c.267_271del\\nChr5(GRCh37):g.33984422_33984426del\\np.(Ser90Glnfs*42)</td>\n",
       "    </tr>\n",
       "    <tr>\n",
       "      <th>1</th>\n",
       "      <td>P2</td>\n",
       "      <td>F</td>\n",
       "      <td>7</td>\n",
       "      <td>Morocco</td>\n",
       "      <td>Yes</td>\n",
       "      <td>Present, pigmented</td>\n",
       "      <td>Blue</td>\n",
       "      <td>White blond</td>\n",
       "      <td>White</td>\n",
       "      <td>White</td>\n",
       "      <td>Yes</td>\n",
       "      <td>Yes, left exotropia</td>\n",
       "      <td>1/20 RE; 1/20 LE</td>\n",
       "      <td>Hypermetropia Astigmatism</td>\n",
       "      <td>Grade IV</td>\n",
       "      <td>Grade II</td>\n",
       "      <td>Grade IV</td>\n",
       "      <td>NM_016180.5(SLC45A2):c.1028_1029del\\nChr5(GRCh37):g.33954469_33954470del\\np.(Gly343Alafs*10)</td>\n",
       "      <td>NM_016180.5(SLC45A2):c.1028_1029del\\nChr5(GRCh37):g.33954469_33954470del\\np.(Gly343Alafs*10)</td>\n",
       "    </tr>\n",
       "    <tr>\n",
       "      <th>2</th>\n",
       "      <td>P3</td>\n",
       "      <td>M</td>\n",
       "      <td>7</td>\n",
       "      <td>Morocco</td>\n",
       "      <td>Yes</td>\n",
       "      <td>Present, pigmented</td>\n",
       "      <td>Blue</td>\n",
       "      <td>White blond</td>\n",
       "      <td>White</td>\n",
       "      <td>White</td>\n",
       "      <td>Yes</td>\n",
       "      <td>No</td>\n",
       "      <td>NaN</td>\n",
       "      <td>Hypermetropia\\nAstigmatism</td>\n",
       "      <td>Grade III</td>\n",
       "      <td>Grade II</td>\n",
       "      <td>Grade IV</td>\n",
       "      <td>NM_016180.5(SLC45A2):c.1028_1029del\\nChr5(GRCh37):g.33954469_33954470del\\np.(Gly343Alafs*10)</td>\n",
       "      <td>NM_016180.5(SLC45A2):c.1028_1029del\\nChr5(GRCh37):g.33954469_33954470del\\np.(Gly343Alafs*10)</td>\n",
       "    </tr>\n",
       "    <tr>\n",
       "      <th>3</th>\n",
       "      <td>P4</td>\n",
       "      <td>F</td>\n",
       "      <td>49</td>\n",
       "      <td>France</td>\n",
       "      <td>No</td>\n",
       "      <td>Absent</td>\n",
       "      <td>Blue grey</td>\n",
       "      <td>White</td>\n",
       "      <td>White</td>\n",
       "      <td>White</td>\n",
       "      <td>Yes</td>\n",
       "      <td>No</td>\n",
       "      <td>2/10 RE; 2/10 LE</td>\n",
       "      <td>NaN</td>\n",
       "      <td>Grade IV</td>\n",
       "      <td>NaN</td>\n",
       "      <td>Grade IV</td>\n",
       "      <td>NM_016180.5(SLC45A2):c.273del\\nChr5(GRCh37):g.33984417del\\np.(Ser92Alafs*21)</td>\n",
       "      <td>NM_016180.5(SLC45A2):c.1068C&gt;G\\nChr5(GRCh37):g.33951747G&gt;C\\np.(Asn356Lys) (N356K)</td>\n",
       "    </tr>\n",
       "    <tr>\n",
       "      <th>4</th>\n",
       "      <td>P5</td>\n",
       "      <td>F</td>\n",
       "      <td>63</td>\n",
       "      <td>France</td>\n",
       "      <td>No</td>\n",
       "      <td>Present, amelanotic</td>\n",
       "      <td>Blue</td>\n",
       "      <td>White</td>\n",
       "      <td>White</td>\n",
       "      <td>White</td>\n",
       "      <td>Yes</td>\n",
       "      <td>No</td>\n",
       "      <td>2/10 RE; 3/10 LE</td>\n",
       "      <td>NaN</td>\n",
       "      <td>Grade III</td>\n",
       "      <td>NaN</td>\n",
       "      <td>Grade III</td>\n",
       "      <td>NM_016180.5(SLC45A2):c.986del\\nChr5(GRCh37):g.33954512del\\np.(Thr329Lysfs*69)</td>\n",
       "      <td>NM_016180.5(SLC45A2):c.1036G&gt;T\\nChr5(GRCh37):g.33951779C&gt;A\\np.(Val346Leu) (V346L)</td>\n",
       "    </tr>\n",
       "  </tbody>\n",
       "</table>\n",
       "</div>"
      ],
      "text/plain": [
       "  Patients Gender  Age (Years) Genetic Background Consanguinity  \\\n",
       "0       P1      M           20            Morocco           Yes   \n",
       "1       P2      F            7            Morocco           Yes   \n",
       "2       P3      M            7            Morocco           Yes   \n",
       "3       P4      F           49             France            No   \n",
       "4       P5      F           63             France            No   \n",
       "\n",
       "                  Nevi       Eyes         Hair Eyebrows Eyelashes Nystagmus  \\\n",
       "0  Present, amelanotic       Blue        White    White     White       Yes   \n",
       "1   Present, pigmented       Blue  White blond    White     White       Yes   \n",
       "2   Present, pigmented       Blue  White blond    White     White       Yes   \n",
       "3               Absent  Blue grey        White    White     White       Yes   \n",
       "4  Present, amelanotic       Blue        White    White     White       Yes   \n",
       "\n",
       "            Strabismus                  VA                  Refraction  \\\n",
       "0       Yes, esotropia  1.6/10 RE; 2/10 LE   Hypermetropia astigmatism   \n",
       "1  Yes, left exotropia    1/20 RE; 1/20 LE   Hypermetropia Astigmatism   \n",
       "2                   No                 NaN  Hypermetropia\\nAstigmatism   \n",
       "3                   No    2/10 RE; 2/10 LE                         NaN   \n",
       "4                   No    2/10 RE; 3/10 LE                         NaN   \n",
       "\n",
       "         ITI        MT        FHP  \\\n",
       "0        NaN       NaN   Grade IV   \n",
       "1   Grade IV  Grade II   Grade IV   \n",
       "2  Grade III  Grade II   Grade IV   \n",
       "3   Grade IV       NaN   Grade IV   \n",
       "4  Grade III       NaN  Grade III   \n",
       "\n",
       "                                                                Variant 1 (SLC45A2 NM_016180.5)  \\\n",
       "0     NM_016180.5(SLC45A2):c.267_271del\\nChr5(GRCh37):g.33984422_33984426del\\np.(Ser90Glnfs*42)   \n",
       "1  NM_016180.5(SLC45A2):c.1028_1029del\\nChr5(GRCh37):g.33954469_33954470del\\np.(Gly343Alafs*10)   \n",
       "2  NM_016180.5(SLC45A2):c.1028_1029del\\nChr5(GRCh37):g.33954469_33954470del\\np.(Gly343Alafs*10)   \n",
       "3                  NM_016180.5(SLC45A2):c.273del\\nChr5(GRCh37):g.33984417del\\np.(Ser92Alafs*21)   \n",
       "4                 NM_016180.5(SLC45A2):c.986del\\nChr5(GRCh37):g.33954512del\\np.(Thr329Lysfs*69)   \n",
       "\n",
       "                                                                Variant 2 (SLC45A2 NM_016180.5)  \n",
       "0     NM_016180.5(SLC45A2):c.267_271del\\nChr5(GRCh37):g.33984422_33984426del\\np.(Ser90Glnfs*42)  \n",
       "1  NM_016180.5(SLC45A2):c.1028_1029del\\nChr5(GRCh37):g.33954469_33954470del\\np.(Gly343Alafs*10)  \n",
       "2  NM_016180.5(SLC45A2):c.1028_1029del\\nChr5(GRCh37):g.33954469_33954470del\\np.(Gly343Alafs*10)  \n",
       "3             NM_016180.5(SLC45A2):c.1068C>G\\nChr5(GRCh37):g.33951747G>C\\np.(Asn356Lys) (N356K)  \n",
       "4             NM_016180.5(SLC45A2):c.1036G>T\\nChr5(GRCh37):g.33951779C>A\\np.(Val346Leu) (V346L)  "
      ]
     },
     "execution_count": 4,
     "metadata": {},
     "output_type": "execute_result"
    }
   ],
   "source": [
    "df.head()"
   ]
  },
  {
   "cell_type": "code",
   "execution_count": 5,
   "id": "ef571760",
   "metadata": {},
   "outputs": [],
   "source": [
    "column_mapper_d = {}\n",
    "nystagmusMapper = SimpleColumnMapper(hpo_id=\"HP:0000639\", hpo_label=\"Nystagmus\",observed='Yes',excluded='No')\n",
    "nystagmusMapper.preview_column(df[\"Nystagmus\"])\n",
    "column_mapper_d[\"Nystagmus\"] = nystagmusMapper"
   ]
  },
  {
   "cell_type": "code",
   "execution_count": 6,
   "id": "58292f97",
   "metadata": {},
   "outputs": [],
   "source": [
    "# This was used to conveniently generate OptionColumnMapper code, but is not longer needed.\n",
    "#result = OptionColumnMapper.autoformat(df, hpo_cr)\n",
    "#print(result)"
   ]
  },
  {
   "cell_type": "code",
   "execution_count": 7,
   "id": "a764b235",
   "metadata": {},
   "outputs": [],
   "source": [
    "nevi_d = {'Present': 'Nevus',\n",
    " 'amelanotic': 'Nevus',  ## TODO needs new HPO term\n",
    " 'pigmented': 'Melanocytic nevus',\n",
    "}\n",
    "excluded = {\"Absent\": \"Nevus\"}\n",
    "neviMapper = OptionColumnMapper(concept_recognizer=hpo_cr, option_d=nevi_d, excluded_d=excluded)\n",
    "neviMapper.preview_column(df['Nevi'])\n",
    "column_mapper_d['Nevi'] = neviMapper"
   ]
  },
  {
   "cell_type": "code",
   "execution_count": 8,
   "id": "f66b3591",
   "metadata": {},
   "outputs": [],
   "source": [
    "eyes_d = {'Blue': 'Iris hypopigmentation',\n",
    " 'Blue grey': 'Iris hypopigmentation',}\n",
    "excluded = {\"Brown\": \"Iris hypopigmentation\"}\n",
    "eyesMapper = OptionColumnMapper(concept_recognizer=hpo_cr, option_d=eyes_d,excluded_d=excluded)\n",
    "eyesMapper.preview_column(df['Eyes'])\n",
    "column_mapper_d['Eyes'] = eyesMapper"
   ]
  },
  {
   "cell_type": "code",
   "execution_count": 9,
   "id": "054e5f53",
   "metadata": {},
   "outputs": [],
   "source": [
    "hair_d = {'White': 'Hypopigmentation of hair',\n",
    " 'White blond': 'Hypopigmentation of hair',\n",
    " 'Blond': 'Hypopigmentation of hair',\n",
    " 'Dark blond': 'Hypopigmentation of hair',\n",
    " 'Red blond': 'Hypopigmentation of hair'}\n",
    "hairMapper = OptionColumnMapper(concept_recognizer=hpo_cr, option_d=hair_d)\n",
    "hairMapper.preview_column(df['Hair'])\n",
    "column_mapper_d['Hair'] = hairMapper"
   ]
  },
  {
   "cell_type": "code",
   "execution_count": 10,
   "id": "695d30d5",
   "metadata": {},
   "outputs": [],
   "source": [
    "eyebrows_d = {'White': 'White eyebrow',\n",
    " 'Blond': 'White eyebrow',\n",
    " 'White + Blond': 'White eyebrow'}\n",
    "excluded = {\"Brown\": \"White eyebrow\"}\n",
    "eyebrowsMapper = OptionColumnMapper(concept_recognizer=hpo_cr, option_d=eyebrows_d,  excluded_d=excluded)\n",
    "eyebrowsMapper.preview_column(df['Eyebrows'])\n",
    "column_mapper_d['Eyebrows'] = eyebrowsMapper"
   ]
  },
  {
   "cell_type": "code",
   "execution_count": 11,
   "id": "5aac7d11",
   "metadata": {},
   "outputs": [],
   "source": [
    "eyelashes_d = {'White': 'White eyelashes',\n",
    " 'Blond': 'White eyelashes',\n",
    " 'White + Blond': 'White eyelashes'}\n",
    "eyelashesMapper = OptionColumnMapper(concept_recognizer=hpo_cr, option_d=eyelashes_d)\n",
    "eyelashesMapper.preview_column(df['Eyelashes'])\n",
    "column_mapper_d['Eyelashes'] = eyelashesMapper"
   ]
  },
  {
   "cell_type": "code",
   "execution_count": 12,
   "id": "73a0affe",
   "metadata": {},
   "outputs": [],
   "source": [
    "strabismus_d = {'Yes': 'Strabismus',\n",
    " 'esotropia': 'Esotropia',\n",
    " 'left exotropia': 'Exotropia',\n",
    " 'exotropia': 'Exotropia',\n",
    " 'Yes microexotropia': 'Exotropia'}\n",
    "excluded = {\"No\": 'Strabismus'}\n",
    "strabismusMapper = OptionColumnMapper(concept_recognizer=hpo_cr, option_d=strabismus_d, excluded_d=excluded)\n",
    "strabismusMapper.preview_column(df['Strabismus'])\n",
    "column_mapper_d['Strabismus'] = strabismusMapper"
   ]
  },
  {
   "cell_type": "markdown",
   "id": "eb30914b-72de-4b40-9fc7-aeff43b07365",
   "metadata": {},
   "source": [
    "<h2>reduced visual acuity</h2>\n",
    "<p>For reduced visual acuity, the representation of the features uses slash and semicolon, which pyphetools interprets as being\n",
    "delimiters. For this reason, we only use the numerator (the denominator is always ten) for the abnormal findings. We do not distinguish between left and right here.</p>"
   ]
  },
  {
   "cell_type": "code",
   "execution_count": 13,
   "id": "de0812bd",
   "metadata": {},
   "outputs": [],
   "source": [
    "va_d = {'1.6': 'Reduced visual acuity',\n",
    "        '2': 'Reduced visual acuity',\n",
    "         '1': 'Reduced visual acuity',\n",
    "        '3': 'Reduced visual acuity',\n",
    "         '5': 'Reduced visual acuity',\n",
    "         '7': 'Reduced visual acuity',\n",
    "         '1.2': 'Reduced visual acuity',\n",
    "         '1.4': 'Reduced visual acuity'}\n",
    "vaMapper = OptionColumnMapper(concept_recognizer=hpo_cr, option_d=va_d)\n",
    "vaMapper.preview_column(df['VA'])\n",
    "column_mapper_d['VA'] = vaMapper"
   ]
  },
  {
   "cell_type": "code",
   "execution_count": 14,
   "id": "cc2b3f8f",
   "metadata": {},
   "outputs": [],
   "source": [
    "refraction_d = {'Hypermetropia astigmatism': 'Hypermetropia',\n",
    " 'Hypermetropia Astigmatism': 'Astigmatism',\n",
    " 'Hypermetropia\\nAstigmatism': 'Astigmatism',\n",
    " 'Hypermetropia': 'Hypermetropia',\n",
    " 'HypermetropiaAstigmatism': 'Hypermetropia',\n",
    " 'Myopia Astigmatism': 'Myopia'}\n",
    "refractionMapper = OptionColumnMapper(concept_recognizer=hpo_cr, option_d=refraction_d)\n",
    "refractionMapper.preview_column(df['Refraction'])\n",
    "column_mapper_d['Refraction'] = refractionMapper"
   ]
  },
  {
   "cell_type": "code",
   "execution_count": 15,
   "id": "1e9d0a9a",
   "metadata": {},
   "outputs": [],
   "source": [
    "iti_d = {\n",
    " 'Grade IV': 'Iris transillumination defect',\n",
    " 'Grade III': 'Iris transillumination defect',\n",
    " 'Grade II': 'Iris transillumination defect',\n",
    " 'Grade I': 'Iris transillumination defect'}\n",
    "excluded = {\"No\": \"Iris transillumination defect\"}\n",
    "itiMapper = OptionColumnMapper(concept_recognizer=hpo_cr, option_d=iti_d, excluded_d=excluded)\n",
    "itiMapper.preview_column(df['ITI'])\n",
    "column_mapper_d['ITI'] = itiMapper"
   ]
  },
  {
   "cell_type": "code",
   "execution_count": 16,
   "id": "6f69cbba",
   "metadata": {},
   "outputs": [],
   "source": [
    "mt_d = {'nan': 'PLACEHOLDER',\n",
    " 'Grade II': 'PLACEHOLDER',\n",
    " 'Grade III': 'PLACEHOLDER',\n",
    " 'Grade I': 'PLACEHOLDER'}\n",
    "#mtMapper = OptionColumnMapper(concept_recognizer=hpo_cr, option_d=mt_d)\n",
    "#mtMapper.preview_column(df['MT']))\n",
    "#column_mapper_d['MT'] = mtMapper\n",
    "# Macular transparency -- need HPO term"
   ]
  },
  {
   "cell_type": "code",
   "execution_count": 17,
   "id": "0405c7a5",
   "metadata": {},
   "outputs": [],
   "source": [
    "fhp_d = {'Grade IV': 'Hypoplasia of the fovea',\n",
    " 'Grade III': 'Hypoplasia of the fovea',\n",
    " 'Grade II': 'Hypoplasia of the fovea',\n",
    " 'Grade I': 'Hypoplasia of the fovea'}\n",
    "fhpMapper = OptionColumnMapper(concept_recognizer=hpo_cr, option_d=fhp_d)\n",
    "fhpMapper.preview_column(df['FHP'])\n",
    "column_mapper_d['FHP'] = fhpMapper"
   ]
  },
  {
   "cell_type": "markdown",
   "id": "392347e2",
   "metadata": {},
   "source": [
    "<h2>Variants</h2>\n",
    "<p>The original table describes variants like this: <tt>NM_016180.5(SLC45A2):c.267_271del\\nChr5(GRCh37):g.33984422_33984426del\\np.(Ser90Glnfs*42)</tt>.\n",
    "    The following code extracts the transcript variant - c.267_271del in this example.</p>"
   ]
  },
  {
   "cell_type": "code",
   "execution_count": 18,
   "id": "ced51a42",
   "metadata": {},
   "outputs": [],
   "source": [
    "def extract_var(cell_contents):\n",
    "    if not cell_contents.startswith(\"NM_016180.5(SLC45A2):\"):\n",
    "        return cell_contents\n",
    "    cell_contents = cell_contents[21:] # remove the above string\n",
    "    if '\\n' in cell_contents:\n",
    "        return cell_contents.split('\\n')[0]\n",
    "    else:\n",
    "        return cell_contents"
   ]
  },
  {
   "cell_type": "code",
   "execution_count": 19,
   "id": "82f31d9a",
   "metadata": {},
   "outputs": [],
   "source": [
    "df[\"var1\"] = df[\"Variant 1 (SLC45A2 NM_016180.5)\"].transform(lambda x: extract_var(x))"
   ]
  },
  {
   "cell_type": "code",
   "execution_count": 20,
   "id": "05490925",
   "metadata": {},
   "outputs": [],
   "source": [
    "df[\"var2\"] = df[\"Variant 2 (SLC45A2 NM_016180.5)\"].transform(lambda x: extract_var(x))"
   ]
  },
  {
   "cell_type": "code",
   "execution_count": 21,
   "id": "9ada7f6f",
   "metadata": {},
   "outputs": [
    {
     "name": "stdout",
     "output_type": "stream",
     "text": [
      "https://rest.variantvalidator.org/VariantValidator/variantvalidator/hg38/NM_016180.5%3Ac.533_534dup/NM_016180.5?content-type=application%2Fjson\n",
      "https://rest.variantvalidator.org/VariantValidator/variantvalidator/hg38/NM_016180.5%3Ac.1036G>T/NM_016180.5?content-type=application%2Fjson\n",
      "https://rest.variantvalidator.org/VariantValidator/variantvalidator/hg38/NM_016180.5%3Ac.1166_1167del/NM_016180.5?content-type=application%2Fjson\n",
      "https://rest.variantvalidator.org/VariantValidator/variantvalidator/hg38/NM_016180.5%3Ac.1068C>G/NM_016180.5?content-type=application%2Fjson\n",
      "https://rest.variantvalidator.org/VariantValidator/variantvalidator/hg38/NM_016180.5%3Ac.147C>G/NM_016180.5?content-type=application%2Fjson\n",
      "https://rest.variantvalidator.org/VariantValidator/variantvalidator/hg38/NM_016180.5%3Ac.1466T>C/NM_016180.5?content-type=application%2Fjson\n",
      "https://rest.variantvalidator.org/VariantValidator/variantvalidator/hg38/NM_016180.5%3Ac.267_271del/NM_016180.5?content-type=application%2Fjson\n",
      "https://rest.variantvalidator.org/VariantValidator/variantvalidator/hg38/NM_016180.5%3Ac.273del/NM_016180.5?content-type=application%2Fjson\n",
      "https://rest.variantvalidator.org/VariantValidator/variantvalidator/hg38/NM_016180.5%3Ac.1028_1029del/NM_016180.5?content-type=application%2Fjson\n",
      "https://rest.variantvalidator.org/VariantValidator/variantvalidator/hg38/NM_016180.5%3Ac.606G>C/NM_016180.5?content-type=application%2Fjson\n",
      "https://rest.variantvalidator.org/VariantValidator/variantvalidator/hg38/NM_016180.5%3Ac.986del/NM_016180.5?content-type=application%2Fjson\n",
      "https://rest.variantvalidator.org/VariantValidator/variantvalidator/hg38/NM_016180.5%3Ac.1273del/NM_016180.5?content-type=application%2Fjson\n",
      "https://rest.variantvalidator.org/VariantValidator/variantvalidator/hg38/NM_016180.5%3Ac.1471G>A/NM_016180.5?content-type=application%2Fjson\n",
      "https://rest.variantvalidator.org/VariantValidator/variantvalidator/hg38/NM_016180.5%3Ac.1033-6_1033-3del/NM_016180.5?content-type=application%2Fjson\n",
      "https://rest.variantvalidator.org/VariantValidator/variantvalidator/hg38/NM_016180.5%3Ac.1255C>A/NM_016180.5?content-type=application%2Fjson\n",
      "https://rest.variantvalidator.org/VariantValidator/variantvalidator/hg38/NM_016180.5%3Ac.1532C>T/NM_016180.5?content-type=application%2Fjson\n",
      "https://rest.variantvalidator.org/VariantValidator/variantvalidator/hg38/NM_016180.5%3Ac.1045G>A/NM_016180.5?content-type=application%2Fjson\n",
      "https://rest.variantvalidator.org/VariantValidator/variantvalidator/hg38/NM_016180.5%3Ac.953G>A/NM_016180.5?content-type=application%2Fjson\n",
      "https://rest.variantvalidator.org/VariantValidator/variantvalidator/hg38/NM_016180.5%3Ac.950A>G/NM_016180.5?content-type=application%2Fjson\n",
      "https://rest.variantvalidator.org/VariantValidator/variantvalidator/hg38/NM_016180.5%3Ac.1532C>A/NM_016180.5?content-type=application%2Fjson\n",
      "https://rest.variantvalidator.org/VariantValidator/variantvalidator/hg38/NM_016180.5%3Ac.1506del/NM_016180.5?content-type=application%2Fjson\n",
      "https://rest.variantvalidator.org/VariantValidator/variantvalidator/hg38/NM_016180.5%3Ac.179T>G/NM_016180.5?content-type=application%2Fjson\n",
      "https://rest.variantvalidator.org/VariantValidator/variantvalidator/hg38/NM_016180.5%3Ac.977T>A/NM_016180.5?content-type=application%2Fjson\n",
      "https://rest.variantvalidator.org/VariantValidator/variantvalidator/hg38/NM_016180.5%3Ac.130G>A/NM_016180.5?content-type=application%2Fjson\n",
      "https://rest.variantvalidator.org/VariantValidator/variantvalidator/hg38/NM_016180.5%3Ac.258del/NM_016180.5?content-type=application%2Fjson\n",
      "https://rest.variantvalidator.org/VariantValidator/variantvalidator/hg38/NM_016180.5%3Ac.806G>A/NM_016180.5?content-type=application%2Fjson\n",
      "https://rest.variantvalidator.org/VariantValidator/variantvalidator/hg38/NM_016180.5%3Ac.1518C>T/NM_016180.5?content-type=application%2Fjson\n",
      "We got 28 variant objects\n"
     ]
    }
   ],
   "source": [
    "all_variant_set = set(df[\"var1\"]).union(df[\"var2\"])\n",
    "validator = VariantValidator(genome_build='hg38', transcript=\"NM_016180.5\")\n",
    "validated_var_d = {}\n",
    "for var in all_variant_set:\n",
    "    if var == 'Deletion exons 1-4':\n",
    "        sv = StructuralVariant.chromosomal_deletion(cell_contents='Deletion exons 1-4',\n",
    "                 gene_symbol=\"SLC45A2\",\n",
    "                 gene_id=\"HGNC:16472\")\n",
    "        validated_var_d[var] = sv\n",
    "    else:\n",
    "        var_object = validator.encode_hgvs(hgvs=var)\n",
    "        validated_var_d[var] = var_object\n",
    "print(f\"We got {len(validated_var_d)} variant objects\")"
   ]
  },
  {
   "cell_type": "code",
   "execution_count": 22,
   "id": "19a6d915",
   "metadata": {},
   "outputs": [],
   "source": [
    "ageMapper = AgeColumnMapper.by_year('Age (Years)')\n",
    "#ageMapper.preview_column(df['Age (Years)'])\n",
    "sexMapper = SexColumnMapper(male_symbol='M', female_symbol='F', column_name='Gender')\n",
    "#sexMapper.preview_column(df['Gender'])"
   ]
  },
  {
   "cell_type": "code",
   "execution_count": 23,
   "id": "37e18c14",
   "metadata": {},
   "outputs": [],
   "source": [
    "encoder = CohortEncoder(df=df, \n",
    "                        hpo_cr=hpo_cr, \n",
    "                        column_mapper_d=column_mapper_d, \n",
    "                        individual_column_name=\"Patients\", \n",
    "                        agemapper=ageMapper, \n",
    "                        sexmapper=sexMapper,\n",
    "                        metadata=metadata,\n",
    "                        pmid=PMID)\n",
    "oca4 = Disease(disease_id='OMIM:606574',  disease_label='Albinism, oculocutaneous, type IV')\n",
    "encoder.set_disease(oca4)"
   ]
  },
  {
   "cell_type": "code",
   "execution_count": 24,
   "id": "891a9bde",
   "metadata": {},
   "outputs": [],
   "source": [
    "individuals = encoder.get_individuals()"
   ]
  },
  {
   "cell_type": "code",
   "execution_count": 25,
   "id": "b969626f",
   "metadata": {},
   "outputs": [],
   "source": [
    "for i in individuals:\n",
    "    rows = df.loc[df['Patients'] == i.id]\n",
    "    if len(rows) != 1:\n",
    "        raise ValueError(f\"Got {len(rows)} rows but expected only 1\")\n",
    "    var1 = rows.iloc[0]['var1']\n",
    "    var2 = rows.iloc[0]['var2']\n",
    "    if var1 == var2:\n",
    "        # homozygous\n",
    "        var_object = validated_var_d.get(var1)\n",
    "        var_object.set_homozygous()\n",
    "        i.add_variant(var_object)\n",
    "    else:\n",
    "        var1_object  = validated_var_d.get(var1) \n",
    "        var2_object  = validated_var_d.get(var2)\n",
    "        var1_object.set_heterozygous()\n",
    "        var2_object.set_heterozygous()\n",
    "        i.add_variant(var1_object)\n",
    "        i.add_variant(var2_object)"
   ]
  },
  {
   "cell_type": "code",
   "execution_count": 26,
   "id": "48253aa6",
   "metadata": {},
   "outputs": [
    {
     "data": {
      "text/html": [
       "<h2>Cohort validation</h2>\n",
       "<p>Errors found with 27 of 30 phenopackets.</p>\n",
       "<table style=\"border: 2px solid black; align: \"left\">\n",
       "<caption>Error counts</caption>\n",
       "<tr><th style=\"text-align: left;font-weight: bold;\">Level</th><th style=\"text-align: left;font-weight: bold;\">Error category</th><th style=\"text-align: left;font-weight: bold;\">Count</th></tr>\n",
       "<tr><td style=\"text-align: left;\">WARNING</td><td style=\"text-align: left;\">REDUNDANT</td><td style=\"text-align: left;\">60</td></tr>\n",
       "</table>\n",
       "<p>A total of 60 issues were fixed and no individual was removed from the cohort.</p>"
      ],
      "text/plain": [
       "<IPython.core.display.HTML object>"
      ]
     },
     "metadata": {},
     "output_type": "display_data"
    }
   ],
   "source": [
    "cvalidator = CohortValidator(cohort=individuals, ontology=hpo_ontology, min_hpo=1, allelic_requirement=AllelicRequirement.BI_ALLELIC)\n",
    "qc = QcVisualizer(ontology=hpo_ontology, cohort_validator=cvalidator)\n",
    "display(HTML(qc.to_summary_html()))"
   ]
  },
  {
   "cell_type": "code",
   "execution_count": 27,
   "id": "feefdf7d-2fd5-447f-adb3-afb6699d2728",
   "metadata": {},
   "outputs": [
    {
     "data": {
      "text/html": [
       "<h2>Cohort validation</h2>\n",
       "<p>No errors found for the cohort with 30 individuals</p>"
      ],
      "text/plain": [
       "<IPython.core.display.HTML object>"
      ]
     },
     "metadata": {},
     "output_type": "display_data"
    }
   ],
   "source": [
    "individuals = cvalidator.get_error_free_individual_list()\n",
    "cvalidator = CohortValidator(cohort=individuals, ontology=hpo_ontology, min_hpo=1, allelic_requirement=AllelicRequirement.BI_ALLELIC)\n",
    "qc = QcVisualizer(ontology=hpo_ontology, cohort_validator=cvalidator)\n",
    "display(HTML(qc.to_summary_html()))"
   ]
  },
  {
   "cell_type": "code",
   "execution_count": 28,
   "id": "b2fe15eb",
   "metadata": {},
   "outputs": [
    {
     "data": {
      "text/html": [
       "<table style=\"border: 2px solid black; align: \"left\">\n",
       "<caption>30 phenopackets - PMID:36553465 (n=30)</caption>\n",
       "<tr><th style=\"text-align: left;font-weight: bold;\">Individual</th><th style=\"text-align: left;font-weight: bold;\">Disease</th><th style=\"text-align: left;font-weight: bold;\">Genotype</th><th style=\"text-align: left;font-weight: bold;\">Phenotypic features</th></tr>\n",
       "<tr><td style=\"text-align: left;\">P1 (MALE; P20Y)</td><td style=\"text-align: left;\">Albinism, oculocutaneous, type IV (OMIM:606574)</td><td style=\"text-align: left;\">NM_016180.5:c.267_271del (homozygous)</td><td style=\"text-align: left;\">Hypopigmentation of hair (HP:0005599); White eyelashes (HP:0002227); Hypoplasia of the fovea (HP:0007750); Reduced visual acuity (HP:0007663); White eyebrow (HP:0002226); Esotropia (HP:0000565); Hypermetropia (HP:0000540); Nystagmus (HP:0000639); Nevus (HP:0003764); Iris hypopigmentation (HP:0007730); excluded: Esotropia (HP:0000565)</td></tr>\n",
       "<tr><td style=\"text-align: left;\">P2 (FEMALE; P7Y)</td><td style=\"text-align: left;\">Albinism, oculocutaneous, type IV (OMIM:606574)</td><td style=\"text-align: left;\">NM_016180.5:c.1028_1029del (homozygous)</td><td style=\"text-align: left;\">Hypopigmentation of hair (HP:0005599); White eyelashes (HP:0002227); Hypoplasia of the fovea (HP:0007750); Exotropia (HP:0000577); Melanocytic nevus (HP:0000995); Reduced visual acuity (HP:0007663); Astigmatism (HP:0000483); Iris transillumination defect (HP:0012805); White eyebrow (HP:0002226); Nystagmus (HP:0000639); Iris hypopigmentation (HP:0007730); excluded: Exotropia (HP:0000577)</td></tr>\n",
       "<tr><td style=\"text-align: left;\">P3 (MALE; P7Y)</td><td style=\"text-align: left;\">Albinism, oculocutaneous, type IV (OMIM:606574)</td><td style=\"text-align: left;\">NM_016180.5:c.1028_1029del (homozygous)</td><td style=\"text-align: left;\">Nystagmus (HP:0000639); Melanocytic nevus (HP:0000995); Iris hypopigmentation (HP:0007730); Hypopigmentation of hair (HP:0005599); White eyebrow (HP:0002226); White eyelashes (HP:0002227); Astigmatism (HP:0000483); Iris transillumination defect (HP:0012805); Hypoplasia of the fovea (HP:0007750); excluded: Strabismus (HP:0000486)</td></tr>\n",
       "<tr><td style=\"text-align: left;\">P4 (FEMALE; P49Y)</td><td style=\"text-align: left;\">Albinism, oculocutaneous, type IV (OMIM:606574)</td><td style=\"text-align: left;\"><ul> <li>NM_016180.5:c.273del (heterozygous)</li> <li>NM_016180.5:c.1068C>G (heterozygous)</li> </ul></td><td style=\"text-align: left;\">White eyelashes (HP:0002227); Hypopigmentation of hair (HP:0005599); Hypoplasia of the fovea (HP:0007750); Reduced visual acuity (HP:0007663); Iris transillumination defect (HP:0012805); White eyebrow (HP:0002226); Nystagmus (HP:0000639); Iris hypopigmentation (HP:0007730); excluded: Nevus (HP:0003764); excluded: Strabismus (HP:0000486)</td></tr>\n",
       "<tr><td style=\"text-align: left;\">P5 (FEMALE; P63Y)</td><td style=\"text-align: left;\">Albinism, oculocutaneous, type IV (OMIM:606574)</td><td style=\"text-align: left;\"><ul> <li>NM_016180.5:c.986del (heterozygous)</li> <li>NM_016180.5:c.1036G>T (heterozygous)</li> </ul></td><td style=\"text-align: left;\">Hypopigmentation of hair (HP:0005599); White eyelashes (HP:0002227); Hypoplasia of the fovea (HP:0007750); Reduced visual acuity (HP:0007663); Iris transillumination defect (HP:0012805); White eyebrow (HP:0002226); Nystagmus (HP:0000639); Nevus (HP:0003764); Iris hypopigmentation (HP:0007730); excluded: Strabismus (HP:0000486)</td></tr>\n",
       "<tr><td style=\"text-align: left;\">P6 (MALE; P18Y)</td><td style=\"text-align: left;\">Albinism, oculocutaneous, type IV (OMIM:606574)</td><td style=\"text-align: left;\"><ul> <li>NM_016180.5:c.986del (heterozygous)</li> <li>NM_016180.5:c.1471G>A (heterozygous)</li> </ul></td><td style=\"text-align: left;\">Hypopigmentation of hair (HP:0005599); White eyelashes (HP:0002227); Hypoplasia of the fovea (HP:0007750); Reduced visual acuity (HP:0007663); Melanocytic nevus (HP:0000995); Iris transillumination defect (HP:0012805); White eyebrow (HP:0002226); Nystagmus (HP:0000639); Iris hypopigmentation (HP:0007730); excluded: Strabismus (HP:0000486)</td></tr>\n",
       "<tr><td style=\"text-align: left;\">P7 (MALE; P9Y)</td><td style=\"text-align: left;\">Albinism, oculocutaneous, type IV (OMIM:606574)</td><td style=\"text-align: left;\"><ul> <li>NM_016180.5:c.986del (heterozygous)</li> <li>NM_016180.5:c.1471G>A (heterozygous)</li> </ul></td><td style=\"text-align: left;\">White eyelashes (HP:0002227); Hypopigmentation of hair (HP:0005599); Hypoplasia of the fovea (HP:0007750); Reduced visual acuity (HP:0007663); Iris transillumination defect (HP:0012805); White eyebrow (HP:0002226); Nystagmus (HP:0000639); Iris hypopigmentation (HP:0007730); excluded: Nevus (HP:0003764); excluded: Strabismus (HP:0000486)</td></tr>\n",
       "<tr><td style=\"text-align: left;\">P8 (MALE; P7Y)</td><td style=\"text-align: left;\">Albinism, oculocutaneous, type IV (OMIM:606574)</td><td style=\"text-align: left;\"><ul> <li>NM_016180.5:c.986del (heterozygous)</li> <li>NM_016180.5:c.1036G>T (heterozygous)</li> </ul></td><td style=\"text-align: left;\">White eyelashes (HP:0002227); Hypopigmentation of hair (HP:0005599); Hypoplasia of the fovea (HP:0007750); Reduced visual acuity (HP:0007663); Iris transillumination defect (HP:0012805); White eyebrow (HP:0002226); Esotropia (HP:0000565); Nystagmus (HP:0000639); Iris hypopigmentation (HP:0007730); excluded: Nevus (HP:0003764); excluded: Esotropia (HP:0000565)</td></tr>\n",
       "<tr><td style=\"text-align: left;\">P9 (MALE; P16Y)</td><td style=\"text-align: left;\">Albinism, oculocutaneous, type IV (OMIM:606574)</td><td style=\"text-align: left;\">NM_016180.5:c.986del (homozygous)</td><td style=\"text-align: left;\">Hypopigmentation of hair (HP:0005599); White eyelashes (HP:0002227); Hypoplasia of the fovea (HP:0007750); Reduced visual acuity (HP:0007663); Melanocytic nevus (HP:0000995); Iris transillumination defect (HP:0012805); White eyebrow (HP:0002226); Nystagmus (HP:0000639); Iris hypopigmentation (HP:0007730); excluded: Strabismus (HP:0000486)</td></tr>\n",
       "<tr><td style=\"text-align: left;\">P10 (FEMALE; P52Y)</td><td style=\"text-align: left;\">Albinism, oculocutaneous, type IV (OMIM:606574)</td><td style=\"text-align: left;\"><ul> <li>NM_016180.5:c.986del (heterozygous)</li> <li>NM_016180.5:c.1166_1167del (heterozygous)</li> </ul></td><td style=\"text-align: left;\">White eyelashes (HP:0002227); Hypopigmentation of hair (HP:0005599); Hypoplasia of the fovea (HP:0007750); Reduced visual acuity (HP:0007663); Iris transillumination defect (HP:0012805); White eyebrow (HP:0002226); Esotropia (HP:0000565); Nystagmus (HP:0000639); Iris hypopigmentation (HP:0007730); excluded: Nevus (HP:0003764); excluded: Esotropia (HP:0000565)</td></tr>\n",
       "<tr><td style=\"text-align: left;\">P11 (FEMALE; P50Y)</td><td style=\"text-align: left;\">Albinism, oculocutaneous, type IV (OMIM:606574)</td><td style=\"text-align: left;\"><ul> <li>NM_016180.5:c.986del (heterozygous)</li> <li>NM_016180.5:c.1166_1167del (heterozygous)</li> </ul></td><td style=\"text-align: left;\">Hypopigmentation of hair (HP:0005599); White eyelashes (HP:0002227); Hypoplasia of the fovea (HP:0007750); Reduced visual acuity (HP:0007663); Iris transillumination defect (HP:0012805); White eyebrow (HP:0002226); Nystagmus (HP:0000639); Nevus (HP:0003764); Iris hypopigmentation (HP:0007730); excluded: Strabismus (HP:0000486)</td></tr>\n",
       "<tr><td style=\"text-align: left;\">P12 (MALE; P65Y)</td><td style=\"text-align: left;\">Albinism, oculocutaneous, type IV (OMIM:606574)</td><td style=\"text-align: left;\"><ul> <li>NM_016180.5:c.1273del (heterozygous)</li> <li>NM_016180.5:c.1506del (heterozygous)</li> </ul></td><td style=\"text-align: left;\">Hypopigmentation of hair (HP:0005599); White eyelashes (HP:0002227); Hypoplasia of the fovea (HP:0007750); Reduced visual acuity (HP:0007663); Iris transillumination defect (HP:0012805); White eyebrow (HP:0002226); Esotropia (HP:0000565); Nystagmus (HP:0000639); Nevus (HP:0003764); Iris hypopigmentation (HP:0007730); excluded: Esotropia (HP:0000565)</td></tr>\n",
       "<tr><td style=\"text-align: left;\">P13 (FEMALE; P62Y)</td><td style=\"text-align: left;\">Albinism, oculocutaneous, type IV (OMIM:606574)</td><td style=\"text-align: left;\"><ul> <li>NM_016180.5:c.1273del (heterozygous)</li> <li>NM_016180.5:c.1506del (heterozygous)</li> </ul></td><td style=\"text-align: left;\">Hypopigmentation of hair (HP:0005599); White eyelashes (HP:0002227); Hypoplasia of the fovea (HP:0007750); Reduced visual acuity (HP:0007663); Iris transillumination defect (HP:0012805); White eyebrow (HP:0002226); Esotropia (HP:0000565); Nystagmus (HP:0000639); Nevus (HP:0003764); Iris hypopigmentation (HP:0007730); excluded: Esotropia (HP:0000565)</td></tr>\n",
       "<tr><td style=\"text-align: left;\">P14 (FEMALE; P38Y)</td><td style=\"text-align: left;\">Albinism, oculocutaneous, type IV (OMIM:606574)</td><td style=\"text-align: left;\">NM_016180.5:c.147C>G (homozygous)</td><td style=\"text-align: left;\">Hypopigmentation of hair (HP:0005599); White eyelashes (HP:0002227); Hypoplasia of the fovea (HP:0007750); Reduced visual acuity (HP:0007663); Iris transillumination defect (HP:0012805); White eyebrow (HP:0002226); Esotropia (HP:0000565); Nystagmus (HP:0000639); Nevus (HP:0003764); Iris hypopigmentation (HP:0007730); excluded: Esotropia (HP:0000565)</td></tr>\n",
       "<tr><td style=\"text-align: left;\">P15 (MALE; P42Y)</td><td style=\"text-align: left;\">Albinism, oculocutaneous, type IV (OMIM:606574)</td><td style=\"text-align: left;\"><ul> <li>NM_016180.5:c.986del (heterozygous)</li> <li>NM_016180.5:c.1466T>C (heterozygous)</li> </ul></td><td style=\"text-align: left;\">Hypopigmentation of hair (HP:0005599); White eyelashes (HP:0002227); Hypoplasia of the fovea (HP:0007750); Reduced visual acuity (HP:0007663); Iris transillumination defect (HP:0012805); White eyebrow (HP:0002226); Esotropia (HP:0000565); Nystagmus (HP:0000639); Nevus (HP:0003764); Iris hypopigmentation (HP:0007730); excluded: Esotropia (HP:0000565)</td></tr>\n",
       "<tr><td style=\"text-align: left;\">P16 (FEMALE; P30Y)</td><td style=\"text-align: left;\">Albinism, oculocutaneous, type IV (OMIM:606574)</td><td style=\"text-align: left;\">NM_016180.5:c.179T>G (homozygous)</td><td style=\"text-align: left;\">Hypopigmentation of hair (HP:0005599); White eyelashes (HP:0002227); Hypoplasia of the fovea (HP:0007750); Reduced visual acuity (HP:0007663); Astigmatism (HP:0000483); Iris transillumination defect (HP:0012805); White eyebrow (HP:0002226); Nystagmus (HP:0000639); Nevus (HP:0003764); Iris hypopigmentation (HP:0007730); excluded: Strabismus (HP:0000486)</td></tr>\n",
       "<tr><td style=\"text-align: left;\">P17 (FEMALE; P42Y)</td><td style=\"text-align: left;\">Albinism, oculocutaneous, type IV (OMIM:606574)</td><td style=\"text-align: left;\"><ul> <li>NM_016180.5:c.986del (heterozygous)</li> <li>NM_016180.5:c.1532C>A (heterozygous)</li> </ul></td><td style=\"text-align: left;\">Hypopigmentation of hair (HP:0005599); White eyelashes (HP:0002227); Hypoplasia of the fovea (HP:0007750); Reduced visual acuity (HP:0007663); Melanocytic nevus (HP:0000995); Astigmatism (HP:0000483); Iris transillumination defect (HP:0012805); White eyebrow (HP:0002226); Esotropia (HP:0000565); Nystagmus (HP:0000639); Iris hypopigmentation (HP:0007730); excluded: Esotropia (HP:0000565)</td></tr>\n",
       "<tr><td style=\"text-align: left;\">P18 (FEMALE; P66Y)</td><td style=\"text-align: left;\">Albinism, oculocutaneous, type IV (OMIM:606574)</td><td style=\"text-align: left;\">NM_016180.5:c.986del (homozygous)</td><td style=\"text-align: left;\">Hypopigmentation of hair (HP:0005599); White eyelashes (HP:0002227); Hypoplasia of the fovea (HP:0007750); Exotropia (HP:0000577); Reduced visual acuity (HP:0007663); Astigmatism (HP:0000483); Iris transillumination defect (HP:0012805); White eyebrow (HP:0002226); Nystagmus (HP:0000639); Nevus (HP:0003764); Iris hypopigmentation (HP:0007730); excluded: Exotropia (HP:0000577)</td></tr>\n",
       "<tr><td style=\"text-align: left;\">P19 (MALE; P2Y)</td><td style=\"text-align: left;\">Albinism, oculocutaneous, type IV (OMIM:606574)</td><td style=\"text-align: left;\"><ul> <li>NM_016180.5:c.130G>A (heterozygous)</li> <li>NM_016180.5:c.986del (heterozygous)</li> </ul></td><td style=\"text-align: left;\">Nystagmus (HP:0000639); Iris hypopigmentation (HP:0007730); Hypopigmentation of hair (HP:0005599); White eyebrow (HP:0002226); White eyelashes (HP:0002227); Iris transillumination defect (HP:0012805); excluded: Nevus (HP:0003764); excluded: Strabismus (HP:0000486)</td></tr>\n",
       "<tr><td style=\"text-align: left;\">P20 (FEMALE; P3Y)</td><td style=\"text-align: left;\">Albinism, oculocutaneous, type IV (OMIM:606574)</td><td style=\"text-align: left;\"><ul> <li>NM_016180.5:c.1033-6_1033-3del (heterozygous)</li> <li>NM_016180.5:c.986del (heterozygous)</li> </ul></td><td style=\"text-align: left;\">Nystagmus (HP:0000639); Iris hypopigmentation (HP:0007730); Hypopigmentation of hair (HP:0005599); White eyebrow (HP:0002226); White eyelashes (HP:0002227); Iris transillumination defect (HP:0012805); Hypoplasia of the fovea (HP:0007750); excluded: Nevus (HP:0003764); excluded: Strabismus (HP:0000486)</td></tr>\n",
       "<tr><td style=\"text-align: left;\">P21 (MALE; P11Y)</td><td style=\"text-align: left;\">Albinism, oculocutaneous, type IV (OMIM:606574)</td><td style=\"text-align: left;\"><ul> <li>NM_016180.5:c.533_534dup (heterozygous)</li> <li>NM_016180.5:c.977T>A (heterozygous)</li> </ul></td><td style=\"text-align: left;\">Hypopigmentation of hair (HP:0005599); White eyelashes (HP:0002227); Exotropia (HP:0000577); Melanocytic nevus (HP:0000995); Reduced visual acuity (HP:0007663); Astigmatism (HP:0000483); White eyebrow (HP:0002226); Nystagmus (HP:0000639); Iris hypopigmentation (HP:0007730); excluded: Exotropia (HP:0000577)</td></tr>\n",
       "<tr><td style=\"text-align: left;\">P22 (MALE; P7Y)</td><td style=\"text-align: left;\">Albinism, oculocutaneous, type IV (OMIM:606574)</td><td style=\"text-align: left;\"><ul> <li>NM_016180.5:c.1045G>A (heterozygous)</li> <li>NM_016180.5:c.1255C>A (heterozygous)</li> </ul></td><td style=\"text-align: left;\">Hypopigmentation of hair (HP:0005599); Hypoplasia of the fovea (HP:0007750); Reduced visual acuity (HP:0007663); Melanocytic nevus (HP:0000995); Esotropia (HP:0000565); Hypermetropia (HP:0000540); excluded: Nystagmus (HP:0000639); excluded: Iris hypopigmentation (HP:0007730); excluded: White eyebrow (HP:0002226); excluded: Esotropia (HP:0000565); excluded: Iris transillumination defect (HP:0012805)</td></tr>\n",
       "<tr><td style=\"text-align: left;\">P23 (MALE; P3Y)</td><td style=\"text-align: left;\">Albinism, oculocutaneous, type IV (OMIM:606574)</td><td style=\"text-align: left;\"><ul> <li>NM_016180.5:c.1166_1167del (heterozygous)</li> <li>NM_016180.5:c.1471G>A (heterozygous)</li> </ul></td><td style=\"text-align: left;\">Hypopigmentation of hair (HP:0005599); White eyelashes (HP:0002227); Hypoplasia of the fovea (HP:0007750); Reduced visual acuity (HP:0007663); Melanocytic nevus (HP:0000995); Astigmatism (HP:0000483); Iris transillumination defect (HP:0012805); White eyebrow (HP:0002226); Nystagmus (HP:0000639); Iris hypopigmentation (HP:0007730); excluded: Strabismus (HP:0000486)</td></tr>\n",
       "<tr><td style=\"text-align: left;\">P24 (FEMALE; P10Y)</td><td style=\"text-align: left;\">Albinism, oculocutaneous, type IV (OMIM:606574)</td><td style=\"text-align: left;\"><ul> <li>Deletion exons 1-4: chromosomal_deletion (SO:1000029)</li> <li>NM_016180.5:c.1518C>T (heterozygous)</li> </ul></td><td style=\"text-align: left;\">White eyelashes (HP:0002227); Hypopigmentation of hair (HP:0005599); Reduced visual acuity (HP:0007663); Iris transillumination defect (HP:0012805); White eyebrow (HP:0002226); Hypermetropia (HP:0000540); Nystagmus (HP:0000639); Iris hypopigmentation (HP:0007730); excluded: Nevus (HP:0003764); excluded: Strabismus (HP:0000486)</td></tr>\n",
       "<tr><td style=\"text-align: left;\">P25 (FEMALE; P50Y)</td><td style=\"text-align: left;\">Albinism, oculocutaneous, type IV (OMIM:606574)</td><td style=\"text-align: left;\"><ul> <li>NM_016180.5:c.606G>C (heterozygous)</li> <li>NM_016180.5:c.1532C>A (heterozygous)</li> </ul></td><td style=\"text-align: left;\">Hypopigmentation of hair (HP:0005599); White eyelashes (HP:0002227); Hypoplasia of the fovea (HP:0007750); Reduced visual acuity (HP:0007663); Iris transillumination defect (HP:0012805); White eyebrow (HP:0002226); Nystagmus (HP:0000639); Nevus (HP:0003764); Iris hypopigmentation (HP:0007730); excluded: Strabismus (HP:0000486)</td></tr>\n",
       "<tr><td style=\"text-align: left;\">P26 (FEMALE; P30Y)</td><td style=\"text-align: left;\">Albinism, oculocutaneous, type IV (OMIM:606574)</td><td style=\"text-align: left;\"><ul> <li>NM_016180.5:c.258del (heterozygous)</li> <li>NM_016180.5:c.950A>G (heterozygous)</li> </ul></td><td style=\"text-align: left;\">Hypopigmentation of hair (HP:0005599); White eyelashes (HP:0002227); Hypoplasia of the fovea (HP:0007750); Reduced visual acuity (HP:0007663); Melanocytic nevus (HP:0000995); Astigmatism (HP:0000483); White eyebrow (HP:0002226); Nystagmus (HP:0000639); Iris hypopigmentation (HP:0007730); excluded: Strabismus (HP:0000486); excluded: Iris transillumination defect (HP:0012805)</td></tr>\n",
       "<tr><td style=\"text-align: left;\">P27 (FEMALE; P27Y)</td><td style=\"text-align: left;\">Albinism, oculocutaneous, type IV (OMIM:606574)</td><td style=\"text-align: left;\"><ul> <li>NM_016180.5:c.258del (heterozygous)</li> <li>NM_016180.5:c.950A>G (heterozygous)</li> </ul></td><td style=\"text-align: left;\">Hypopigmentation of hair (HP:0005599); White eyelashes (HP:0002227); Hypoplasia of the fovea (HP:0007750); Reduced visual acuity (HP:0007663); Melanocytic nevus (HP:0000995); White eyebrow (HP:0002226); Hypermetropia (HP:0000540); Nystagmus (HP:0000639); Iris hypopigmentation (HP:0007730); excluded: Strabismus (HP:0000486); excluded: Iris transillumination defect (HP:0012805)</td></tr>\n",
       "<tr><td style=\"text-align: left;\">P28 (FEMALE; P4Y)</td><td style=\"text-align: left;\">Albinism, oculocutaneous, type IV (OMIM:606574)</td><td style=\"text-align: left;\"><ul> <li>NM_016180.5:c.953G>A (heterozygous)</li> <li>NM_016180.5:c.1518C>T (heterozygous)</li> </ul></td><td style=\"text-align: left;\">Iris hypopigmentation (HP:0007730); Hypopigmentation of hair (HP:0005599); White eyebrow (HP:0002226); White eyelashes (HP:0002227); Astigmatism (HP:0000483); Hypoplasia of the fovea (HP:0007750); excluded: Nystagmus (HP:0000639); excluded: Nevus (HP:0003764); excluded: Strabismus (HP:0000486); excluded: Iris transillumination defect (HP:0012805)</td></tr>\n",
       "<tr><td style=\"text-align: left;\">P29 (FEMALE; P41Y)</td><td style=\"text-align: left;\">Albinism, oculocutaneous, type IV (OMIM:606574)</td><td style=\"text-align: left;\">NM_016180.5:c.1532C>T (homozygous)</td><td style=\"text-align: left;\">Hypopigmentation of hair (HP:0005599); White eyelashes (HP:0002227); Hypoplasia of the fovea (HP:0007750); Exotropia (HP:0000577); Melanocytic nevus (HP:0000995); Reduced visual acuity (HP:0007663); Myopia (HP:0000545); Iris transillumination defect (HP:0012805); White eyebrow (HP:0002226); Nystagmus (HP:0000639); excluded: Iris hypopigmentation (HP:0007730)</td></tr>\n",
       "<tr><td style=\"text-align: left;\">P30 (MALE; P30Y)</td><td style=\"text-align: left;\">Albinism, oculocutaneous, type IV (OMIM:606574)</td><td style=\"text-align: left;\"><ul> <li>NM_016180.5:c.806G>A (heterozygous)</li> <li>NM_016180.5:c.1471G>A (heterozygous)</li> </ul></td><td style=\"text-align: left;\">Hypopigmentation of hair (HP:0005599); White eyelashes (HP:0002227); Reduced visual acuity (HP:0007663); Melanocytic nevus (HP:0000995); Iris transillumination defect (HP:0012805); White eyebrow (HP:0002226); Hypermetropia (HP:0000540); Nystagmus (HP:0000639); Iris hypopigmentation (HP:0007730); excluded: Strabismus (HP:0000486)</td></tr>\n",
       "</table>"
      ],
      "text/plain": [
       "<IPython.core.display.HTML object>"
      ]
     },
     "metadata": {},
     "output_type": "display_data"
    }
   ],
   "source": [
    "individuals = cvalidator.get_error_free_individual_list()\n",
    "table = PhenopacketTable(individual_list=individuals, metadata=metadata)\n",
    "display(HTML(table.to_html()))"
   ]
  },
  {
   "cell_type": "code",
   "execution_count": 29,
   "id": "97d4d962",
   "metadata": {},
   "outputs": [
    {
     "name": "stdout",
     "output_type": "stream",
     "text": [
      "We output 30 GA4GH phenopackets to the directory phenopackets\n"
     ]
    }
   ],
   "source": [
    "output_dir = \"phenopackets\"\n",
    "Individual.output_individuals_as_phenopackets(individual_list=individuals,\n",
    "                                             metadata=metadata,\n",
    "                                             outdir=output_dir)"
   ]
  },
  {
   "cell_type": "code",
   "execution_count": null,
   "id": "3131ed60-faa6-46ab-904e-b280e4b35221",
   "metadata": {},
   "outputs": [],
   "source": []
  }
 ],
 "metadata": {
  "kernelspec": {
   "display_name": "Python 3 (ipykernel)",
   "language": "python",
   "name": "python3"
  },
  "language_info": {
   "codemirror_mode": {
    "name": "ipython",
    "version": 3
   },
   "file_extension": ".py",
   "mimetype": "text/x-python",
   "name": "python",
   "nbconvert_exporter": "python",
   "pygments_lexer": "ipython3",
   "version": "3.11.3"
  }
 },
 "nbformat": 4,
 "nbformat_minor": 5
}
