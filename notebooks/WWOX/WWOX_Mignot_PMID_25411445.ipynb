{
 "cells": [
  {
   "cell_type": "markdown",
   "id": "a39f3c65",
   "metadata": {},
   "source": [
    "<h1>WWOX: Mignot, et al. (2015)</h1>\n",
    "<p>We will process <a href=\"https://pubmed.ncbi.nlm.nih.gov/25411445/\" target=\"__blank\">Mignot, et al. (2015) WWOX-related encephalopathies: delineation of the phenotypical spectrum and emerging genotype-phenotype correlation</a></p>\n",
    "<p>According to the authors, the phenotype in four patients carrying two predicted null alleles was characterised by (1) little if any psychomotor acquisitions, poor spontaneous motility and absent eye contact from birth, (2) pharmacoresistant epilepsy starting in the 1st weeks of life, (3) possible retinal degeneration, acquired microcephaly and premature death. This contrasted with the less severe autosomal recessive spinocerebellar ataxia type 12 phenotype due to hypomorphic alleles. </p>"
   ]
  },
  {
   "cell_type": "code",
   "execution_count": 1,
   "id": "f0602c0e",
   "metadata": {},
   "outputs": [
    {
     "name": "stdout",
     "output_type": "stream",
     "text": [
      "Using pyphetools version 0.8.30\n"
     ]
    }
   ],
   "source": [
    "import pandas as pd\n",
    "pd.set_option('display.max_colwidth', None) # show entire column contents, important!\n",
    "from IPython.display import display, HTML\n",
    "from pyphetools.creation import *\n",
    "from pyphetools.visualization import *\n",
    "from pyphetools.validation import *\n",
    "import pyphetools\n",
    "print(f\"Using pyphetools version {pyphetools.__version__}\")"
   ]
  },
  {
   "cell_type": "markdown",
   "id": "8606e7eb",
   "metadata": {},
   "source": [
    "<h2>Importing HPO data</h2>"
   ]
  },
  {
   "cell_type": "code",
   "execution_count": 2,
   "id": "5a7789fc",
   "metadata": {},
   "outputs": [
    {
     "name": "stdout",
     "output_type": "stream",
     "text": [
      "HPO version 2023-10-09\n"
     ]
    }
   ],
   "source": [
    "parser = HpoParser()\n",
    "hpo_cr = parser.get_hpo_concept_recognizer()\n",
    "hpo_version = parser.get_version()\n",
    "hpo_ontology = parser.get_ontology()\n",
    "PMID = \"PMID:25411445\"\n",
    "title = \"WWOX-related encephalopathies: delineation of the phenotypical spectrum and emerging genotype-phenotype correlation\"\n",
    "metadata = MetaData(created_by=\"ORCID:0000-0002-5648-2155\", pmid=PMID, pubmed_title=title)\n",
    "metadata.default_versions_with_hpo(version=hpo_version)\n",
    "print(f\"HPO version {hpo_version}\")"
   ]
  },
  {
   "cell_type": "markdown",
   "id": "5102722a",
   "metadata": {},
   "source": [
    "<h2>Importing the supplemental table</h2>"
   ]
  },
  {
   "cell_type": "code",
   "execution_count": 3,
   "id": "f17c3924",
   "metadata": {},
   "outputs": [
    {
     "data": {
      "text/html": [
       "<div>\n",
       "<style scoped>\n",
       "    .dataframe tbody tr th:only-of-type {\n",
       "        vertical-align: middle;\n",
       "    }\n",
       "\n",
       "    .dataframe tbody tr th {\n",
       "        vertical-align: top;\n",
       "    }\n",
       "\n",
       "    .dataframe thead th {\n",
       "        text-align: right;\n",
       "    }\n",
       "</style>\n",
       "<table border=\"1\" class=\"dataframe\">\n",
       "  <thead>\n",
       "    <tr style=\"text-align: right;\">\n",
       "      <th>Patient</th>\n",
       "      <th>index</th>\n",
       "      <th>Sex</th>\n",
       "      <th>Age</th>\n",
       "      <th>Mutation</th>\n",
       "      <th>DNA level (NM_016373.2)</th>\n",
       "      <th>Second mutation</th>\n",
       "      <th>Protein level (NM_057457)</th>\n",
       "      <th>Microcephaly</th>\n",
       "      <th>Profound global developmental delay</th>\n",
       "      <th>Axial hypotonia</th>\n",
       "      <th>...</th>\n",
       "      <th>Hypokinesia</th>\n",
       "      <th>Rigidity</th>\n",
       "      <th>Thin corpus callosum</th>\n",
       "      <th>Delayed myelination</th>\n",
       "      <th>Cerebral atrophy</th>\n",
       "      <th>Seizure</th>\n",
       "      <th>EEG abnormality</th>\n",
       "      <th>Reduced eye contact</th>\n",
       "      <th>Sudden death</th>\n",
       "      <th>patient_id</th>\n",
       "    </tr>\n",
       "  </thead>\n",
       "  <tbody>\n",
       "    <tr>\n",
       "      <th>0</th>\n",
       "      <td>1</td>\n",
       "      <td>F</td>\n",
       "      <td>0</td>\n",
       "      <td>CH for two deletions of several exons</td>\n",
       "      <td>c.366_516del</td>\n",
       "      <td>c.517-?_1056+ ?del</td>\n",
       "      <td>p.[0];[His173_Met352del]</td>\n",
       "      <td>Yes</td>\n",
       "      <td>Yes</td>\n",
       "      <td>Yes</td>\n",
       "      <td>...</td>\n",
       "      <td>Yes</td>\n",
       "      <td>Yes</td>\n",
       "      <td>Yes</td>\n",
       "      <td>No</td>\n",
       "      <td>No</td>\n",
       "      <td>Yes</td>\n",
       "      <td>Yes</td>\n",
       "      <td>Yes</td>\n",
       "      <td>No</td>\n",
       "      <td>1</td>\n",
       "    </tr>\n",
       "    <tr>\n",
       "      <th>1</th>\n",
       "      <td>2</td>\n",
       "      <td>F</td>\n",
       "      <td>0</td>\n",
       "      <td>CH: deletion of exon 6/ nonsense exon 8</td>\n",
       "      <td>c.1005G&gt;A</td>\n",
       "      <td>c.517-?_605+?del</td>\n",
       "      <td>p.[His173Alafs*67];[Trp335*]</td>\n",
       "      <td>Yes</td>\n",
       "      <td>Yes</td>\n",
       "      <td>Yes</td>\n",
       "      <td>...</td>\n",
       "      <td>Yes</td>\n",
       "      <td>Yes</td>\n",
       "      <td>No</td>\n",
       "      <td>Yes</td>\n",
       "      <td>No</td>\n",
       "      <td>Yes</td>\n",
       "      <td>Yes</td>\n",
       "      <td>Yes</td>\n",
       "      <td>Yes</td>\n",
       "      <td>2</td>\n",
       "    </tr>\n",
       "    <tr>\n",
       "      <th>2</th>\n",
       "      <td>3</td>\n",
       "      <td>M</td>\n",
       "      <td>0</td>\n",
       "      <td>CH: frameshift exon</td>\n",
       "      <td>c.45_48delGGAC</td>\n",
       "      <td>c.140C&gt;G</td>\n",
       "      <td>p.[Asp16Serfs*63];[Pro47Arg]</td>\n",
       "      <td>No</td>\n",
       "      <td>Yes</td>\n",
       "      <td>Yes</td>\n",
       "      <td>...</td>\n",
       "      <td>No</td>\n",
       "      <td>No</td>\n",
       "      <td>No</td>\n",
       "      <td>No</td>\n",
       "      <td>No</td>\n",
       "      <td>Yes</td>\n",
       "      <td>Yes</td>\n",
       "      <td>No</td>\n",
       "      <td>No</td>\n",
       "      <td>3</td>\n",
       "    </tr>\n",
       "    <tr>\n",
       "      <th>3</th>\n",
       "      <td>4</td>\n",
       "      <td>F</td>\n",
       "      <td>0</td>\n",
       "      <td>1/missense exon 2</td>\n",
       "      <td>c.45_48delGGAC</td>\n",
       "      <td>c.140C&gt;G</td>\n",
       "      <td>NaN</td>\n",
       "      <td>No</td>\n",
       "      <td>Yes</td>\n",
       "      <td>Yes</td>\n",
       "      <td>...</td>\n",
       "      <td>No</td>\n",
       "      <td>No</td>\n",
       "      <td>No</td>\n",
       "      <td>No</td>\n",
       "      <td>No</td>\n",
       "      <td>Yes</td>\n",
       "      <td>Yes</td>\n",
       "      <td>No</td>\n",
       "      <td>No</td>\n",
       "      <td>4</td>\n",
       "    </tr>\n",
       "    <tr>\n",
       "      <th>4</th>\n",
       "      <td>5</td>\n",
       "      <td>F</td>\n",
       "      <td>0</td>\n",
       "      <td>CH: complete deletion/ nonsense exon 8</td>\n",
       "      <td>c.889A&gt;T</td>\n",
       "      <td>c.-366-? *871+?del</td>\n",
       "      <td>p.[0];[Lys297*]</td>\n",
       "      <td>No</td>\n",
       "      <td>Yes</td>\n",
       "      <td>Yes</td>\n",
       "      <td>...</td>\n",
       "      <td>Yes</td>\n",
       "      <td>Yes</td>\n",
       "      <td>No</td>\n",
       "      <td>No</td>\n",
       "      <td>Yes</td>\n",
       "      <td>Yes</td>\n",
       "      <td>Yes</td>\n",
       "      <td>Yes</td>\n",
       "      <td>Yes</td>\n",
       "      <td>5</td>\n",
       "    </tr>\n",
       "  </tbody>\n",
       "</table>\n",
       "<p>5 rows × 22 columns</p>\n",
       "</div>"
      ],
      "text/plain": [
       "Patient  index Sex  Age                                 Mutation  \\\n",
       "0            1   F    0    CH for two deletions of several exons   \n",
       "1            2   F    0  CH: deletion of exon 6/ nonsense exon 8   \n",
       "2            3   M    0                      CH: frameshift exon   \n",
       "3            4   F    0                        1/missense exon 2   \n",
       "4            5   F    0   CH: complete deletion/ nonsense exon 8   \n",
       "\n",
       "Patient DNA level (NM_016373.2)     Second mutation  \\\n",
       "0                  c.366_516del  c.517-?_1056+ ?del   \n",
       "1                     c.1005G>A    c.517-?_605+?del   \n",
       "2                c.45_48delGGAC            c.140C>G   \n",
       "3                c.45_48delGGAC            c.140C>G   \n",
       "4                      c.889A>T  c.-366-? *871+?del   \n",
       "\n",
       "Patient     Protein level (NM_057457) Microcephaly  \\\n",
       "0            p.[0];[His173_Met352del]          Yes   \n",
       "1        p.[His173Alafs*67];[Trp335*]          Yes   \n",
       "2        p.[Asp16Serfs*63];[Pro47Arg]           No   \n",
       "3                                 NaN           No   \n",
       "4                     p.[0];[Lys297*]           No   \n",
       "\n",
       "Patient Profound global developmental delay Axial hypotonia  ... Hypokinesia  \\\n",
       "0                                       Yes             Yes  ...         Yes   \n",
       "1                                       Yes             Yes  ...         Yes   \n",
       "2                                       Yes             Yes  ...          No   \n",
       "3                                       Yes             Yes  ...          No   \n",
       "4                                       Yes             Yes  ...         Yes   \n",
       "\n",
       "Patient Rigidity Thin corpus callosum Delayed myelination Cerebral atrophy  \\\n",
       "0            Yes                  Yes                  No               No   \n",
       "1            Yes                   No                 Yes               No   \n",
       "2             No                   No                  No               No   \n",
       "3             No                   No                  No               No   \n",
       "4            Yes                   No                  No              Yes   \n",
       "\n",
       "Patient Seizure EEG abnormality Reduced eye contact Sudden death patient_id  \n",
       "0           Yes             Yes                 Yes           No          1  \n",
       "1           Yes             Yes                 Yes          Yes          2  \n",
       "2           Yes             Yes                  No           No          3  \n",
       "3           Yes             Yes                  No           No          4  \n",
       "4           Yes             Yes                 Yes          Yes          5  \n",
       "\n",
       "[5 rows x 22 columns]"
      ]
     },
     "execution_count": 3,
     "metadata": {},
     "output_type": "execute_result"
    }
   ],
   "source": [
    "df = pd.read_excel('./input/PMID_25411445.xlsx')\n",
    "df = df.set_index('Patient').T.reset_index()\n",
    "df['Age'] = 0\n",
    "df['patient_id'] = df['index'] \n",
    "df.head()"
   ]
  },
  {
   "cell_type": "markdown",
   "id": "8314d6bd",
   "metadata": {},
   "source": [
    "<h2>Column mappers</h2>"
   ]
  },
  {
   "cell_type": "code",
   "execution_count": 4,
   "id": "59d9e9e8",
   "metadata": {},
   "outputs": [],
   "source": [
    "generator = SimpleColumnMapperGenerator(df=df, observed='Yes', excluded='No', hpo_cr=hpo_cr)\n",
    "column_mapper_d = generator.try_mapping_columns()"
   ]
  },
  {
   "cell_type": "code",
   "execution_count": 5,
   "id": "87dede3b-424a-474b-b6b9-0298f4df4047",
   "metadata": {},
   "outputs": [
    {
     "data": {
      "text/html": [
       "<table style=\"border: 2px solid black;\">\n",
       "\n",
       "<tr>\n",
       "            <th>Result</th>\n",
       "            <th>Columns</th>\n",
       "        </tr>\n",
       "      \n",
       "<tr><td>Mapped</td><td>Microcephaly; Profound global developmental delay; Axial hypotonia; Cerebellar ataxia; Spasticity; Hypokinesia; Rigidity; Thin corpus callosum; Delayed myelination; Cerebral atrophy; Seizure; EEG abnormality; Reduced eye contact; Sudden death</td></tr>\n",
       "<tr><td>Unmapped</td><td><q>index</q>; <q>Sex</q>; <q>Age</q>; <q>Mutation</q>; <q>DNA level (NM_016373.2)</q>; <q>Second mutation</q>; <q>Protein level (NM_057457)</q>; <q>patient_id</q></td></tr>\n",
       "</table>\n"
      ],
      "text/plain": [
       "<IPython.core.display.HTML object>"
      ]
     },
     "metadata": {},
     "output_type": "display_data"
    }
   ],
   "source": [
    "from IPython.display import display, HTML\n",
    "display(HTML(generator.to_html()))"
   ]
  },
  {
   "cell_type": "markdown",
   "id": "5e53617d",
   "metadata": {},
   "source": [
    "<h2>Variant Data</h2>\n",
    "<p>The variant data (HGVS transcript) is listed with respect to NM_016373.4.</p>"
   ]
  },
  {
   "cell_type": "code",
   "execution_count": 6,
   "id": "da4d5706",
   "metadata": {},
   "outputs": [
    {
     "name": "stdout",
     "output_type": "stream",
     "text": [
      "Encoding c.1005G>A\n",
      "https://rest.variantvalidator.org/VariantValidator/variantvalidator/hg38/NM_016373.4%3Ac.1005G>A/NM_016373.4?content-type=application%2Fjson\n",
      "Encoding c.45_48delGGAC\n",
      "https://rest.variantvalidator.org/VariantValidator/variantvalidator/hg38/NM_016373.4%3Ac.45_48delGGAC/NM_016373.4?content-type=application%2Fjson\n",
      "Encoding c.366_516del\n",
      "https://rest.variantvalidator.org/VariantValidator/variantvalidator/hg38/NM_016373.4%3Ac.366_516del/NM_016373.4?content-type=application%2Fjson\n",
      "Encoding c.140C>G\n",
      "https://rest.variantvalidator.org/VariantValidator/variantvalidator/hg38/NM_016373.4%3Ac.140C>G/NM_016373.4?content-type=application%2Fjson\n",
      "Encoding c.-366-? *871+?del\n",
      "Encoding c.517-?_605+?del\n",
      "Encoding c.517-?_1056+ ?del\n",
      "Encoding c.889A>T\n",
      "https://rest.variantvalidator.org/VariantValidator/variantvalidator/hg38/NM_016373.4%3Ac.889A>T/NM_016373.4?content-type=application%2Fjson\n",
      "Extracted 8 unique variants\n"
     ]
    }
   ],
   "source": [
    "genome = 'hg38'\n",
    "default_genotype = 'compound heterozygous'\n",
    "WWOX_transcript='NM_016373.4'\n",
    "wwox_id = \"HGNC:12799\"\n",
    "wwox_symbol = \"WWOX\"\n",
    "vvalidator = VariantValidator(genome_build=genome, transcript=WWOX_transcript)\n",
    "all_variants = set()\n",
    "variant_d = {}\n",
    "patient_id_to_hgvs1_d = {}\n",
    "patient_id_to_hgvs2_d = {}\n",
    "for idx, row in df.iterrows():\n",
    "    patient_id = str(row['patient_id'])\n",
    "    v1 = row['DNA level (NM_016373.2)']\n",
    "    v2 = row['Second mutation']\n",
    "    all_variants.add(v1)\n",
    "    all_variants.add(v2)\n",
    "    patient_id_to_hgvs1_d[patient_id] = v1\n",
    "    patient_id_to_hgvs2_d[patient_id] = v2\n",
    "# The following are exon/multiexon deletions that cannot easily be interpreted by variant validator\n",
    "# we will encode as structural since they are almost certainly loss of function\n",
    "structural_vars = {\n",
    "    \"c.517-?_605+?del\",\n",
    "    \"c.517-?_1056+ ?del\",\n",
    "    \"c.-366-? *871+?del\"\n",
    "}\n",
    "for v in all_variants:\n",
    "    print(f\"Encoding {v}\")\n",
    "    if v in structural_vars:\n",
    "        var = StructuralVariant.chromosomal_deletion(cell_contents=v, gene_symbol=wwox_symbol, gene_id=wwox_id)\n",
    "    else:\n",
    "        var = vvalidator.encode_hgvs(v)\n",
    "    variant_d[v] = var\n",
    "print(f\"Extracted {len(variant_d)} unique variants\")"
   ]
  },
  {
   "cell_type": "markdown",
   "id": "d1af2052",
   "metadata": {},
   "source": [
    "<h1>Demographic data</h1>\n",
    "<p>pyphetools can be used to capture information about age, sex, and individual identifiers. This information is stored in a map of \"IndividualMapper\" objects. Special treatment may be required for the indifiers, which may be used as the column names or row index.</p>"
   ]
  },
  {
   "cell_type": "code",
   "execution_count": 7,
   "id": "3e64dc08",
   "metadata": {},
   "outputs": [
    {
     "data": {
      "text/html": [
       "<div>\n",
       "<style scoped>\n",
       "    .dataframe tbody tr th:only-of-type {\n",
       "        vertical-align: middle;\n",
       "    }\n",
       "\n",
       "    .dataframe tbody tr th {\n",
       "        vertical-align: top;\n",
       "    }\n",
       "\n",
       "    .dataframe thead th {\n",
       "        text-align: right;\n",
       "    }\n",
       "</style>\n",
       "<table border=\"1\" class=\"dataframe\">\n",
       "  <thead>\n",
       "    <tr style=\"text-align: right;\">\n",
       "      <th></th>\n",
       "      <th>original column contents</th>\n",
       "      <th>age</th>\n",
       "    </tr>\n",
       "  </thead>\n",
       "  <tbody>\n",
       "    <tr>\n",
       "      <th>0</th>\n",
       "      <td>0</td>\n",
       "      <td>P0Y</td>\n",
       "    </tr>\n",
       "  </tbody>\n",
       "</table>\n",
       "</div>"
      ],
      "text/plain": [
       "   original column contents  age\n",
       "0                         0  P0Y"
      ]
     },
     "execution_count": 7,
     "metadata": {},
     "output_type": "execute_result"
    }
   ],
   "source": [
    "ageMapper = AgeColumnMapper.by_year('Age')\n",
    "ageMapper.preview_column(df['Age'])"
   ]
  },
  {
   "cell_type": "code",
   "execution_count": 8,
   "id": "71f664cc",
   "metadata": {},
   "outputs": [
    {
     "data": {
      "text/html": [
       "<div>\n",
       "<style scoped>\n",
       "    .dataframe tbody tr th:only-of-type {\n",
       "        vertical-align: middle;\n",
       "    }\n",
       "\n",
       "    .dataframe tbody tr th {\n",
       "        vertical-align: top;\n",
       "    }\n",
       "\n",
       "    .dataframe thead th {\n",
       "        text-align: right;\n",
       "    }\n",
       "</style>\n",
       "<table border=\"1\" class=\"dataframe\">\n",
       "  <thead>\n",
       "    <tr style=\"text-align: right;\">\n",
       "      <th></th>\n",
       "      <th>original column contents</th>\n",
       "      <th>sex</th>\n",
       "    </tr>\n",
       "  </thead>\n",
       "  <tbody>\n",
       "    <tr>\n",
       "      <th>0</th>\n",
       "      <td>F</td>\n",
       "      <td>FEMALE</td>\n",
       "    </tr>\n",
       "    <tr>\n",
       "      <th>1</th>\n",
       "      <td>F</td>\n",
       "      <td>FEMALE</td>\n",
       "    </tr>\n",
       "    <tr>\n",
       "      <th>2</th>\n",
       "      <td>M</td>\n",
       "      <td>MALE</td>\n",
       "    </tr>\n",
       "    <tr>\n",
       "      <th>3</th>\n",
       "      <td>F</td>\n",
       "      <td>FEMALE</td>\n",
       "    </tr>\n",
       "    <tr>\n",
       "      <th>4</th>\n",
       "      <td>F</td>\n",
       "      <td>FEMALE</td>\n",
       "    </tr>\n",
       "  </tbody>\n",
       "</table>\n",
       "</div>"
      ],
      "text/plain": [
       "  original column contents     sex\n",
       "0                        F  FEMALE\n",
       "1                        F  FEMALE\n",
       "2                        M    MALE\n",
       "3                        F  FEMALE\n",
       "4                        F  FEMALE"
      ]
     },
     "execution_count": 8,
     "metadata": {},
     "output_type": "execute_result"
    }
   ],
   "source": [
    "sexMapper = SexColumnMapper(male_symbol='M', female_symbol='F', column_name='Sex')\n",
    "sexMapper.preview_column(df['Sex'])"
   ]
  },
  {
   "cell_type": "code",
   "execution_count": 9,
   "id": "f6581a8a",
   "metadata": {},
   "outputs": [],
   "source": [
    "encoder = CohortEncoder(df=df, \n",
    "                        hpo_cr=hpo_cr, \n",
    "                        column_mapper_d=column_mapper_d, \n",
    "                        individual_column_name=\"index\", \n",
    "                        agemapper=ageMapper, \n",
    "                        sexmapper=sexMapper,\n",
    "                        metadata=metadata,\n",
    "                        pmid=PMID)\n",
    "dee28 = Disease(disease_id='OMIM:616211', disease_label='Developmental and epileptic encephalopathy 28')\n",
    "encoder.set_disease(dee28)"
   ]
  },
  {
   "cell_type": "code",
   "execution_count": 10,
   "id": "fd367ed6",
   "metadata": {},
   "outputs": [],
   "source": [
    "individuals = encoder.get_individuals()"
   ]
  },
  {
   "cell_type": "markdown",
   "id": "7ccccacd-6568-4ca1-b53e-a6e829acab49",
   "metadata": {},
   "source": [
    "<h2>Variants</h2>\n",
    "<p>Add the variants for each individual - it is hard to automate this with two alleles.</p>"
   ]
  },
  {
   "cell_type": "code",
   "execution_count": 11,
   "id": "29ff426c-e5bc-44e5-9c7f-e32ebe657ece",
   "metadata": {},
   "outputs": [
    {
     "name": "stdout",
     "output_type": "stream",
     "text": [
      "v1 c.366_516del v2 c.517-?_1056+ ?del\n",
      "v1 c.1005G>A v2 c.517-?_605+?del\n",
      "v1 c.45_48delGGAC v2 c.140C>G\n",
      "v1 c.45_48delGGAC v2 c.140C>G\n",
      "v1 c.889A>T v2 c.-366-? *871+?del\n"
     ]
    }
   ],
   "source": [
    "for i in individuals:\n",
    "    v1 = patient_id_to_hgvs1_d.get(i.id)\n",
    "    v2 = patient_id_to_hgvs2_d.get(i.id)\n",
    "    print(f\"v1 {v1} v2 {v2}\")\n",
    "    if v1 == v2:\n",
    "        var = variant_d.get(v1)\n",
    "        var.set_homozygous()\n",
    "        i.add_variant(var)\n",
    "    else:\n",
    "        var1 = variant_d.get(v1)\n",
    "        var1.set_heterozygous()\n",
    "        i.add_variant(var1)\n",
    "        var2 = variant_d.get(v2)\n",
    "        var2.set_heterozygous()\n",
    "        i.add_variant(var2)"
   ]
  },
  {
   "cell_type": "code",
   "execution_count": 12,
   "id": "56ee298e-10fa-445e-8349-5ab11d8dedad",
   "metadata": {},
   "outputs": [
    {
     "data": {
      "text/html": [
       "<h2>Cohort validation</h2>\n",
       "<p>No errors found for the cohort with 5 individuals</p>"
      ],
      "text/plain": [
       "<IPython.core.display.HTML object>"
      ]
     },
     "metadata": {},
     "output_type": "display_data"
    }
   ],
   "source": [
    "cvalidator = CohortValidator(cohort=individuals, ontology=hpo_ontology, min_hpo=1, allelic_requirement=AllelicRequirement.BI_ALLELIC)\n",
    "qc = QcVisualizer(ontology=hpo_ontology, cohort_validator=cvalidator)\n",
    "display(HTML(qc.to_summary_html()))"
   ]
  },
  {
   "cell_type": "code",
   "execution_count": 13,
   "id": "5d044b78",
   "metadata": {},
   "outputs": [
    {
     "data": {
      "text/html": [
       "<table style=\"border: 2px solid black; align: \"left\">\n",
       "<caption>5 phenopackets - PMID:25411445 (n=5)</caption>\n",
       "<tr><th style=\"text-align: left;font-weight: bold;\">Individual</th><th style=\"text-align: left;font-weight: bold;\">Disease</th><th style=\"text-align: left;font-weight: bold;\">Genotype</th><th style=\"text-align: left;font-weight: bold;\">Phenotypic features</th></tr>\n",
       "<tr><td style=\"text-align: left;\">1 (FEMALE; P0Y)</td><td style=\"text-align: left;\">Developmental and epileptic encephalopathy 28 (OMIM:616211)</td><td style=\"text-align: left;\"><ul> <li>NM_016373.4:c.366_516del (heterozygous)</li> <li>c.517-?_1056+ ?del: chromosomal_deletion (SO:1000029)</li> </ul></td><td style=\"text-align: left;\">Microcephaly (HP:0000252); Profound global developmental delay (HP:0012736); Axial hypotonia (HP:0008936); Hypokinesia (HP:0002375); Rigidity (HP:0002063); Thin corpus callosum (HP:0033725); Seizure (HP:0001250); EEG abnormality (HP:0002353); Reduced eye contact (HP:0000817); excluded: Ataxia (HP:0001251); excluded: Spasticity (HP:0001257); excluded: Delayed myelination (HP:0012448); excluded: Cerebral atrophy (HP:0002059); excluded: Sudden death (HP:0001699)</td></tr>\n",
       "<tr><td style=\"text-align: left;\">2 (FEMALE; P0Y)</td><td style=\"text-align: left;\">Developmental and epileptic encephalopathy 28 (OMIM:616211)</td><td style=\"text-align: left;\"><ul> <li>NM_016373.4:c.1005G>A (heterozygous)</li> <li>c.517-?_605+?del: chromosomal_deletion (SO:1000029)</li> </ul></td><td style=\"text-align: left;\">Microcephaly (HP:0000252); Profound global developmental delay (HP:0012736); Axial hypotonia (HP:0008936); Spasticity (HP:0001257); Hypokinesia (HP:0002375); Rigidity (HP:0002063); Delayed myelination (HP:0012448); Seizure (HP:0001250); EEG abnormality (HP:0002353); Reduced eye contact (HP:0000817); Sudden death (HP:0001699); excluded: Ataxia (HP:0001251); excluded: Thin corpus callosum (HP:0033725); excluded: Cerebral atrophy (HP:0002059)</td></tr>\n",
       "<tr><td style=\"text-align: left;\">3 (MALE; P0Y)</td><td style=\"text-align: left;\">Developmental and epileptic encephalopathy 28 (OMIM:616211)</td><td style=\"text-align: left;\"><ul> <li>NM_016373.4:c.46_49del (heterozygous)</li> <li>NM_016373.4:c.140C>G (heterozygous)</li> </ul></td><td style=\"text-align: left;\">Profound global developmental delay (HP:0012736); Axial hypotonia (HP:0008936); Seizure (HP:0001250); EEG abnormality (HP:0002353); excluded: Microcephaly (HP:0000252); excluded: Ataxia (HP:0001251); excluded: Spasticity (HP:0001257); excluded: Hypokinesia (HP:0002375); excluded: Rigidity (HP:0002063); excluded: Thin corpus callosum (HP:0033725); excluded: Delayed myelination (HP:0012448); excluded: Cerebral atrophy (HP:0002059); excluded: Reduced eye contact (HP:0000817); excluded: Sudden death (HP:0001699)</td></tr>\n",
       "<tr><td style=\"text-align: left;\">4 (FEMALE; P0Y)</td><td style=\"text-align: left;\">Developmental and epileptic encephalopathy 28 (OMIM:616211)</td><td style=\"text-align: left;\"><ul> <li>NM_016373.4:c.46_49del (heterozygous)</li> <li>NM_016373.4:c.140C>G (heterozygous)</li> </ul></td><td style=\"text-align: left;\">Profound global developmental delay (HP:0012736); Axial hypotonia (HP:0008936); Seizure (HP:0001250); EEG abnormality (HP:0002353); excluded: Microcephaly (HP:0000252); excluded: Ataxia (HP:0001251); excluded: Spasticity (HP:0001257); excluded: Hypokinesia (HP:0002375); excluded: Rigidity (HP:0002063); excluded: Thin corpus callosum (HP:0033725); excluded: Delayed myelination (HP:0012448); excluded: Cerebral atrophy (HP:0002059); excluded: Reduced eye contact (HP:0000817); excluded: Sudden death (HP:0001699)</td></tr>\n",
       "<tr><td style=\"text-align: left;\">5 (FEMALE; P0Y)</td><td style=\"text-align: left;\">Developmental and epileptic encephalopathy 28 (OMIM:616211)</td><td style=\"text-align: left;\"><ul> <li>NM_016373.4:c.889A>T (heterozygous)</li> <li>c.-366-? *871+?del: chromosomal_deletion (SO:1000029)</li> </ul></td><td style=\"text-align: left;\">Profound global developmental delay (HP:0012736); Axial hypotonia (HP:0008936); Spasticity (HP:0001257); Hypokinesia (HP:0002375); Rigidity (HP:0002063); Cerebral atrophy (HP:0002059); Seizure (HP:0001250); EEG abnormality (HP:0002353); Reduced eye contact (HP:0000817); Sudden death (HP:0001699); excluded: Microcephaly (HP:0000252); excluded: Ataxia (HP:0001251); excluded: Thin corpus callosum (HP:0033725); excluded: Delayed myelination (HP:0012448)</td></tr>\n",
       "</table>"
      ],
      "text/plain": [
       "<IPython.core.display.HTML object>"
      ]
     },
     "metadata": {},
     "output_type": "display_data"
    }
   ],
   "source": [
    "individuals = cvalidator.get_error_free_individual_list()\n",
    "table = PhenopacketTable(individual_list=individuals, metadata=metadata)\n",
    "display(HTML(table.to_html()))"
   ]
  },
  {
   "cell_type": "code",
   "execution_count": 14,
   "id": "23f1094f",
   "metadata": {},
   "outputs": [
    {
     "name": "stdout",
     "output_type": "stream",
     "text": [
      "We output 5 GA4GH phenopackets to the directory phenopackets\n"
     ]
    }
   ],
   "source": [
    "output_directory = \"phenopackets\"\n",
    "Individual.output_individuals_as_phenopackets(individual_list=individuals,\n",
    "                                             metadata=metadata,\n",
    "                                             outdir=output_directory)"
   ]
  },
  {
   "cell_type": "code",
   "execution_count": null,
   "id": "b137eb6e-84df-4d7b-a5f2-57a1190fe7ca",
   "metadata": {},
   "outputs": [],
   "source": []
  }
 ],
 "metadata": {
  "kernelspec": {
   "display_name": "Python 3 (ipykernel)",
   "language": "python",
   "name": "python3"
  },
  "language_info": {
   "codemirror_mode": {
    "name": "ipython",
    "version": 3
   },
   "file_extension": ".py",
   "mimetype": "text/x-python",
   "name": "python",
   "nbconvert_exporter": "python",
   "pygments_lexer": "ipython3",
   "version": "3.11.3"
  }
 },
 "nbformat": 4,
 "nbformat_minor": 5
}
