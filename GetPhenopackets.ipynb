{
 "cells": [
  {
   "cell_type": "markdown",
   "metadata": {},
   "source": [
    "# Get Phenopackets\n",
    "This notebook shows how to extract a TAR or ZIP archive with all of the Phenopackets in this repository.\n",
    "To do so, the code looks in the **notebooks* directory for all subfolders called \"phenopackets\", copies all of the\n",
    "\"*.json\" files in those directories to a temporary location, creates a TAR or ZIP archive, and copies that to the location indicated by the code.\n",
    "The code also provides two pandas dataframes that can be used to extract files from the archives that satisfy certain criterie, e.g., having a minum number of HPO terms, having a certaion disease diagnosis, etc."
   ]
  },
  {
   "cell_type": "code",
   "execution_count": 1,
   "metadata": {},
   "outputs": [],
   "source": [
    "from ppktstore import PPKtStore, Cohort, PPacket"
   ]
  },
  {
   "cell_type": "code",
   "execution_count": 2,
   "metadata": {},
   "outputs": [],
   "source": [
    "notebook_dir = \"notebooks\"\n",
    "store = PPKtStore(notebook_dir)"
   ]
  },
  {
   "cell_type": "code",
   "execution_count": 3,
   "metadata": {},
   "outputs": [
    {
     "data": {
      "text/html": [
       "<div>\n",
       "<style scoped>\n",
       "    .dataframe tbody tr th:only-of-type {\n",
       "        vertical-align: middle;\n",
       "    }\n",
       "\n",
       "    .dataframe tbody tr th {\n",
       "        vertical-align: top;\n",
       "    }\n",
       "\n",
       "    .dataframe thead th {\n",
       "        text-align: right;\n",
       "    }\n",
       "</style>\n",
       "<table border=\"1\" class=\"dataframe\">\n",
       "  <thead>\n",
       "    <tr style=\"text-align: right;\">\n",
       "      <th></th>\n",
       "      <th>cohort</th>\n",
       "      <th>directory</th>\n",
       "      <th>filename</th>\n",
       "      <th>phenopacket.id</th>\n",
       "      <th>disease</th>\n",
       "      <th>n_hpo</th>\n",
       "      <th>n_var</th>\n",
       "      <th>n_alleles</th>\n",
       "      <th>n_encounters</th>\n",
       "    </tr>\n",
       "  </thead>\n",
       "  <tbody>\n",
       "    <tr>\n",
       "      <th>0</th>\n",
       "      <td>WWOX</td>\n",
       "      <td>notebooks/WWOX/phenopackets</td>\n",
       "      <td>notebooks/WWOX/phenopackets/PMID_17470496_2.json</td>\n",
       "      <td>PMID_17470496_2</td>\n",
       "      <td>Spinocerebellar ataxia, autosomal recessive 12...</td>\n",
       "      <td>9</td>\n",
       "      <td>1</td>\n",
       "      <td>2</td>\n",
       "      <td>1</td>\n",
       "    </tr>\n",
       "    <tr>\n",
       "      <th>1</th>\n",
       "      <td>WWOX</td>\n",
       "      <td>notebooks/WWOX/phenopackets</td>\n",
       "      <td>notebooks/WWOX/phenopackets/PMID_17470496_3.json</td>\n",
       "      <td>PMID_17470496_3</td>\n",
       "      <td>Spinocerebellar ataxia, autosomal recessive 12...</td>\n",
       "      <td>9</td>\n",
       "      <td>1</td>\n",
       "      <td>2</td>\n",
       "      <td>1</td>\n",
       "    </tr>\n",
       "    <tr>\n",
       "      <th>2</th>\n",
       "      <td>WWOX</td>\n",
       "      <td>notebooks/WWOX/phenopackets</td>\n",
       "      <td>notebooks/WWOX/phenopackets/PMID_17470496_0.json</td>\n",
       "      <td>PMID_17470496_0</td>\n",
       "      <td>Spinocerebellar ataxia, autosomal recessive 12...</td>\n",
       "      <td>9</td>\n",
       "      <td>1</td>\n",
       "      <td>2</td>\n",
       "      <td>1</td>\n",
       "    </tr>\n",
       "    <tr>\n",
       "      <th>3</th>\n",
       "      <td>WWOX</td>\n",
       "      <td>notebooks/WWOX/phenopackets</td>\n",
       "      <td>notebooks/WWOX/phenopackets/PMID_17470496_1.json</td>\n",
       "      <td>PMID_17470496_1</td>\n",
       "      <td>Spinocerebellar ataxia, autosomal recessive 12...</td>\n",
       "      <td>9</td>\n",
       "      <td>1</td>\n",
       "      <td>2</td>\n",
       "      <td>1</td>\n",
       "    </tr>\n",
       "    <tr>\n",
       "      <th>4</th>\n",
       "      <td>GLI3</td>\n",
       "      <td>notebooks/GLI3/phenopackets</td>\n",
       "      <td>notebooks/GLI3/phenopackets/PMID_22428873_P5.json</td>\n",
       "      <td>PMID_22428873_P5</td>\n",
       "      <td>Polydactyly, postaxial, types A1 and B (OMIM:1...</td>\n",
       "      <td>13</td>\n",
       "      <td>1</td>\n",
       "      <td>1</td>\n",
       "      <td>1</td>\n",
       "    </tr>\n",
       "  </tbody>\n",
       "</table>\n",
       "</div>"
      ],
      "text/plain": [
       "  cohort                    directory  \\\n",
       "0   WWOX  notebooks/WWOX/phenopackets   \n",
       "1   WWOX  notebooks/WWOX/phenopackets   \n",
       "2   WWOX  notebooks/WWOX/phenopackets   \n",
       "3   WWOX  notebooks/WWOX/phenopackets   \n",
       "4   GLI3  notebooks/GLI3/phenopackets   \n",
       "\n",
       "                                            filename    phenopacket.id  \\\n",
       "0   notebooks/WWOX/phenopackets/PMID_17470496_2.json   PMID_17470496_2   \n",
       "1   notebooks/WWOX/phenopackets/PMID_17470496_3.json   PMID_17470496_3   \n",
       "2   notebooks/WWOX/phenopackets/PMID_17470496_0.json   PMID_17470496_0   \n",
       "3   notebooks/WWOX/phenopackets/PMID_17470496_1.json   PMID_17470496_1   \n",
       "4  notebooks/GLI3/phenopackets/PMID_22428873_P5.json  PMID_22428873_P5   \n",
       "\n",
       "                                             disease  n_hpo  n_var  n_alleles  \\\n",
       "0  Spinocerebellar ataxia, autosomal recessive 12...      9      1          2   \n",
       "1  Spinocerebellar ataxia, autosomal recessive 12...      9      1          2   \n",
       "2  Spinocerebellar ataxia, autosomal recessive 12...      9      1          2   \n",
       "3  Spinocerebellar ataxia, autosomal recessive 12...      9      1          2   \n",
       "4  Polydactyly, postaxial, types A1 and B (OMIM:1...     13      1          1   \n",
       "\n",
       "   n_encounters  \n",
       "0             1  \n",
       "1             1  \n",
       "2             1  \n",
       "3             1  \n",
       "4             1  "
      ]
     },
     "execution_count": 3,
     "metadata": {},
     "output_type": "execute_result"
    }
   ],
   "source": [
    "df = store.get_phenopacket_dataframe()\n",
    "df.head()"
   ]
  },
  {
   "cell_type": "code",
   "execution_count": 4,
   "metadata": {},
   "outputs": [
    {
     "data": {
      "text/html": [
       "<div>\n",
       "<style scoped>\n",
       "    .dataframe tbody tr th:only-of-type {\n",
       "        vertical-align: middle;\n",
       "    }\n",
       "\n",
       "    .dataframe tbody tr th {\n",
       "        vertical-align: top;\n",
       "    }\n",
       "\n",
       "    .dataframe thead th {\n",
       "        text-align: right;\n",
       "    }\n",
       "</style>\n",
       "<table border=\"1\" class=\"dataframe\">\n",
       "  <thead>\n",
       "    <tr style=\"text-align: right;\">\n",
       "      <th></th>\n",
       "      <th>Cohort</th>\n",
       "      <th>Directory</th>\n",
       "      <th>Count</th>\n",
       "    </tr>\n",
       "  </thead>\n",
       "  <tbody>\n",
       "    <tr>\n",
       "      <th>0</th>\n",
       "      <td>SMARCB1</td>\n",
       "      <td>notebooks/SMARCB1/phenopackets</td>\n",
       "      <td>0</td>\n",
       "    </tr>\n",
       "    <tr>\n",
       "      <th>1</th>\n",
       "      <td>WWOX</td>\n",
       "      <td>notebooks/WWOX/phenopackets</td>\n",
       "      <td>4</td>\n",
       "    </tr>\n",
       "    <tr>\n",
       "      <th>2</th>\n",
       "      <td>GLI3</td>\n",
       "      <td>notebooks/GLI3/phenopackets</td>\n",
       "      <td>6</td>\n",
       "    </tr>\n",
       "    <tr>\n",
       "      <th>3</th>\n",
       "      <td>SETD2</td>\n",
       "      <td>notebooks/SETD2/phenopackets</td>\n",
       "      <td>14</td>\n",
       "    </tr>\n",
       "    <tr>\n",
       "      <th>4</th>\n",
       "      <td>ZSWIM6</td>\n",
       "      <td>notebooks/ZSWIM6/phenopackets</td>\n",
       "      <td>0</td>\n",
       "    </tr>\n",
       "    <tr>\n",
       "      <th>5</th>\n",
       "      <td>ANKH</td>\n",
       "      <td>notebooks/ANKH/phenopackets</td>\n",
       "      <td>7</td>\n",
       "    </tr>\n",
       "    <tr>\n",
       "      <th>6</th>\n",
       "      <td>SMARCC2</td>\n",
       "      <td>notebooks/SMARCC2/phenopackets</td>\n",
       "      <td>0</td>\n",
       "    </tr>\n",
       "    <tr>\n",
       "      <th>7</th>\n",
       "      <td>FBN1</td>\n",
       "      <td>notebooks/FBN1/phenopackets</td>\n",
       "      <td>88</td>\n",
       "    </tr>\n",
       "    <tr>\n",
       "      <th>8</th>\n",
       "      <td>SUOX</td>\n",
       "      <td>notebooks/SUOX/phenopackets</td>\n",
       "      <td>0</td>\n",
       "    </tr>\n",
       "    <tr>\n",
       "      <th>9</th>\n",
       "      <td>SON</td>\n",
       "      <td>notebooks/SON/phenopackets</td>\n",
       "      <td>0</td>\n",
       "    </tr>\n",
       "    <tr>\n",
       "      <th>10</th>\n",
       "      <td>EZH1</td>\n",
       "      <td>notebooks/EZH1/phenopackets</td>\n",
       "      <td>19</td>\n",
       "    </tr>\n",
       "    <tr>\n",
       "      <th>11</th>\n",
       "      <td>COL3A1</td>\n",
       "      <td>notebooks/COL3A1/phenopackets</td>\n",
       "      <td>39</td>\n",
       "    </tr>\n",
       "  </tbody>\n",
       "</table>\n",
       "</div>"
      ],
      "text/plain": [
       "     Cohort                       Directory Count\n",
       "0   SMARCB1  notebooks/SMARCB1/phenopackets     0\n",
       "1      WWOX     notebooks/WWOX/phenopackets     4\n",
       "2      GLI3     notebooks/GLI3/phenopackets     6\n",
       "3     SETD2    notebooks/SETD2/phenopackets    14\n",
       "4    ZSWIM6   notebooks/ZSWIM6/phenopackets     0\n",
       "5      ANKH     notebooks/ANKH/phenopackets     7\n",
       "6   SMARCC2  notebooks/SMARCC2/phenopackets     0\n",
       "7      FBN1     notebooks/FBN1/phenopackets    88\n",
       "8      SUOX     notebooks/SUOX/phenopackets     0\n",
       "9       SON      notebooks/SON/phenopackets     0\n",
       "10     EZH1     notebooks/EZH1/phenopackets    19\n",
       "11   COL3A1   notebooks/COL3A1/phenopackets    39"
      ]
     },
     "execution_count": 4,
     "metadata": {},
     "output_type": "execute_result"
    }
   ],
   "source": [
    "summary_df = store.get_summary_dir()\n",
    "summary_df.head(50)"
   ]
  },
  {
   "cell_type": "markdown",
   "metadata": {},
   "source": [
    "# Export gzip archive"
   ]
  },
  {
   "cell_type": "code",
   "execution_count": 5,
   "metadata": {},
   "outputs": [
    {
     "name": "stdout",
     "output_type": "stream",
     "text": [
      "Adding archive suffix to outfilename\n",
      "Added 177 files to tar archive at /Users/robinp/GIT/phenopacket-store/all_phenopackets.tgz\n"
     ]
    }
   ],
   "source": [
    "store.get_store_gzip(\"all_phenopackets\")"
   ]
  },
  {
   "cell_type": "markdown",
   "metadata": {},
   "source": [
    "# Export zip archive"
   ]
  },
  {
   "cell_type": "code",
   "execution_count": 6,
   "metadata": {},
   "outputs": [
    {
     "name": "stdout",
     "output_type": "stream",
     "text": [
      "Added 177 files to zip archive at /Users/robinp/GIT/phenopacket-store/all_phenopackets\n"
     ]
    }
   ],
   "source": [
    "store.get_store_zip(\"all_phenopackets\")"
   ]
  },
  {
   "cell_type": "code",
   "execution_count": null,
   "metadata": {},
   "outputs": [],
   "source": []
  }
 ],
 "metadata": {
  "kernelspec": {
   "display_name": "Python 3 (ipykernel)",
   "language": "python",
   "name": "python3"
  },
  "language_info": {
   "codemirror_mode": {
    "name": "ipython",
    "version": 3
   },
   "file_extension": ".py",
   "mimetype": "text/x-python",
   "name": "python",
   "nbconvert_exporter": "python",
   "pygments_lexer": "ipython3",
   "version": "3.11.3"
  }
 },
 "nbformat": 4,
 "nbformat_minor": 4
}
